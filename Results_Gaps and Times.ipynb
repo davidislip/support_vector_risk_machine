{
 "cells": [
  {
   "cell_type": "code",
   "execution_count": 1,
   "outputs": [],
   "source": [
    "import time\n",
    "import math\n",
    "\n",
    "import numpy as np\n",
    "import pandas as pd\n",
    "from itertools import product\n",
    "from services.big_m_strategies import *\n",
    "from services.experiments import *\n",
    "from services.plotting_functions import *"
   ],
   "metadata": {
    "collapsed": false,
    "ExecuteTime": {
     "end_time": "2024-04-03T17:23:08.084403900Z",
     "start_time": "2024-04-03T17:23:07.065050500Z"
    }
   }
  },
  {
   "cell_type": "code",
   "execution_count": 2,
   "outputs": [],
   "source": [
    "# Some strategies (uncomment this or the next cell to pick a strategy to test)\n",
    "# Strategy = general_strategy(sample_estimator, MVO, NumObs=48)  #the general strategy object takes an estimator function and an optimizer function\n",
    "# the only constraint is that the estimators outputs are the optimizers inputs\n",
    "# investor preferences (static throughout the backtest\n",
    "\n",
    "universe = 'SP'\n",
    "initialVal = 100000\n",
    "estimator_str = 'exponential_weighted_estimator_shrinkage'\n",
    "premium_strs = ['0.25']\n",
    "kappas_SP = ['0.0125', '0.025', '0.05']\n",
    "kappas_ETF = ['0.4', '0.8', '1.6']\n",
    "cardinality_strs_SP = ['0.02', '0.03', '0.05', '0.07', '0.1', '0.2', '0.4', '0.6', '0.8']\n",
    "cardinality_strs_ETF = ['0.01', '0.03', '0.05', '0.07', '0.1', '0.2', '0.4', '0.6', '0.8']\n",
    "q = 20"
   ],
   "metadata": {
    "collapsed": false,
    "ExecuteTime": {
     "end_time": "2024-04-03T17:23:08.099833700Z",
     "start_time": "2024-04-03T17:23:08.082658800Z"
    }
   }
  },
  {
   "cell_type": "code",
   "execution_count": 3,
   "outputs": [
    {
     "data": {
      "text/plain": "array(['SunJan212024'], dtype=object)"
     },
     "execution_count": 3,
     "metadata": {},
     "output_type": "execute_result"
    }
   ],
   "source": [
    "CardMVO_SP_path = \"Experiments//SP//\"+\"CardMVO\"\n",
    "CardMVO_ETF_path = \"Experiments//ETF//\"+\"CardMVO\"\n",
    "\n",
    "CardMVO_SP_experiments = pd.read_pickle(CardMVO_SP_path+\"//data_dictionary.pkl\")\n",
    "CardMVO_ETF_experiments = pd.read_pickle(CardMVO_ETF_path+\"//data_dictionary.pkl\")\n",
    "\n",
    "CardMVO_SP_experiments.run.unique() # select run"
   ],
   "metadata": {
    "collapsed": false,
    "ExecuteTime": {
     "end_time": "2024-04-03T17:23:08.142864900Z",
     "start_time": "2024-04-03T17:23:08.098804100Z"
    }
   }
  },
  {
   "cell_type": "code",
   "execution_count": 4,
   "outputs": [],
   "source": [
    "# Filtering step for CardMVO experiments\n",
    "CardMVO_SP_experiments = CardMVO_SP_experiments[CardMVO_SP_experiments.estimator == estimator_str]\n",
    "CardMVO_SP_experiments = CardMVO_SP_experiments[CardMVO_SP_experiments.q == str(q)]\n",
    "CardMVO_SP_experiments = CardMVO_SP_experiments[CardMVO_SP_experiments.premium.isin(premium_strs)]\n",
    "CardMVO_SP_experiments = CardMVO_SP_experiments[CardMVO_SP_experiments.cardinality_ratio.isin(cardinality_strs_SP)]\n",
    "\n",
    "#CardMVO_SP_experiments = CardMVO_SP_experiments[CardMVO_SP_experiments.kappa.isin(kappas_SP)]\n",
    "\n",
    "CardMVO_ETF_experiments = CardMVO_ETF_experiments[CardMVO_ETF_experiments.estimator == estimator_str]\n",
    "CardMVO_ETF_experiments = CardMVO_ETF_experiments[CardMVO_ETF_experiments.q == str(q)]\n",
    "CardMVO_ETF_experiments = CardMVO_ETF_experiments[CardMVO_ETF_experiments.premium.isin(premium_strs)]\n",
    "#CardMVO_ETF_experiments = CardMVO_ETF_experiments[CardMVO_ETF_experiments.kappa.isin(kappas_ETF)]\n",
    "CardMVO_ETF_experiments = CardMVO_ETF_experiments[CardMVO_ETF_experiments.cardinality_ratio.isin(cardinality_strs_ETF)]\n"
   ],
   "metadata": {
    "collapsed": false,
    "ExecuteTime": {
     "end_time": "2024-04-03T17:23:08.302250500Z",
     "start_time": "2024-04-03T17:23:08.286706400Z"
    }
   }
  },
  {
   "cell_type": "code",
   "execution_count": 5,
   "outputs": [],
   "source": [
    "SP_unique_card_turnover_df = CardMVO_SP_experiments.groupby(['cardinality_ratio', 'turnover_limit', 'premium']).uid.first() # unique experiments\n",
    "ETF_unique_card_turnover_df = CardMVO_ETF_experiments.groupby(['cardinality_ratio', 'turnover_limit', 'premium']).uid.first() # unique experiments"
   ],
   "metadata": {
    "collapsed": false,
    "ExecuteTime": {
     "end_time": "2024-04-03T17:23:10.011321900Z",
     "start_time": "2024-04-03T17:23:09.991003Z"
    }
   }
  },
  {
   "cell_type": "code",
   "outputs": [
    {
     "data": {
      "text/plain": "array(['0.25'], dtype=object)"
     },
     "execution_count": 6,
     "metadata": {},
     "output_type": "execute_result"
    }
   ],
   "source": [
    "CardMVO_ETF_experiments.premium.unique()"
   ],
   "metadata": {
    "collapsed": false,
    "ExecuteTime": {
     "end_time": "2024-04-03T17:23:10.487549600Z",
     "start_time": "2024-04-03T17:23:10.472276700Z"
    }
   },
   "execution_count": 6
  },
  {
   "cell_type": "code",
   "outputs": [],
   "source": [
    "# gap and time stats\n",
    "card_mvo_gaps = []\n",
    "card_mvo_times = []\n",
    "\n",
    "for i in SP_unique_card_turnover_df.index:\n",
    "    Card_info = import_dict(CardMVO_SP_path, SP_unique_card_turnover_df[i], 'backtest_results' )\n",
    "    t_s = Card_info.keys()\n",
    "    cardinality_ratio = i[0]\n",
    "    if float(cardinality_ratio) <= 0.2:\n",
    "        for t in t_s:    \n",
    "            card_mvo_gaps.append(Card_info[t]['optimality gap'])\n",
    "            card_mvo_times.append(Card_info[t]['time'])\n",
    "\n",
    "for i in ETF_unique_card_turnover_df.index:\n",
    "    Card_info = import_dict(CardMVO_ETF_path, ETF_unique_card_turnover_df[i], 'backtest_results' )\n",
    "    t_s = Card_info.keys()\n",
    "    cardinality_ratio = i[0]\n",
    "    if float(cardinality_ratio) <= 0.2:\n",
    "        for t in t_s:    \n",
    "            card_mvo_gaps.append(Card_info[t]['optimality gap'])\n",
    "            card_mvo_times.append(Card_info[t]['time'])\n"
   ],
   "metadata": {
    "collapsed": false,
    "ExecuteTime": {
     "end_time": "2024-04-03T17:23:13.197094400Z",
     "start_time": "2024-04-03T17:23:13.158037Z"
    }
   },
   "execution_count": 7
  },
  {
   "cell_type": "code",
   "outputs": [
    {
     "data": {
      "text/plain": "dict_keys(['obj_value', 'time', 'optimality gap', 'x', 'z', 'feasible_solution', 'optimization_params', 'calEnd'])"
     },
     "execution_count": 11,
     "metadata": {},
     "output_type": "execute_result"
    }
   ],
   "source": [
    "Card_info[0].keys()"
   ],
   "metadata": {
    "collapsed": false,
    "ExecuteTime": {
     "end_time": "2024-04-03T17:23:42.028455300Z",
     "start_time": "2024-04-03T17:23:42.019102300Z"
    }
   },
   "execution_count": 11
  },
  {
   "cell_type": "code",
   "outputs": [
    {
     "name": "stdout",
     "output_type": "stream",
     "text": [
      "number of instances  1386\n",
      "average Card-MVO optimality gap  2.7079812334934927\n",
      "std deviation Card-MVO optimality gap  3.434043798913321\n",
      "average Card-MVO time 2.0302548733624546\n",
      "number of instances with above 5% 78\n"
     ]
    }
   ],
   "source": [
    "print(\"number of instances \", len(card_mvo_gaps))\n",
    "print(\"average Card-MVO optimality gap \", np.mean(card_mvo_gaps))\n",
    "print(\"std deviation Card-MVO optimality gap \", np.std(card_mvo_gaps))\n",
    "print(\"average Card-MVO time\", np.mean(card_mvo_times) )\n",
    "print(\"number of instances with above 5%\", np.sum(np.array(card_mvo_gaps)>5) )"
   ],
   "metadata": {
    "collapsed": false,
    "ExecuteTime": {
     "end_time": "2024-04-03T17:23:42.280402500Z",
     "start_time": "2024-04-03T17:23:42.261469Z"
    }
   },
   "execution_count": 12
  },
  {
   "cell_type": "code",
   "outputs": [
    {
     "name": "stdout",
     "output_type": "stream",
     "text": [
      "q = 20  runs available:  ['SunJan212024']\n"
     ]
    }
   ],
   "source": [
    "# read in SVMMVO experiments and see what is going on\n",
    "SVMMVO_SP_path = \"Experiments//SP//\"+\"ClassWgtSVMMVO\"+\"//\"+str(q)\n",
    "SVMMVO_ETF_path = \"Experiments//ETF//\"+\"ClassWgtSVMMVO\"+\"//\"+str(q)\n",
    "\n",
    "SVMMVO_SP_experiments = pd.read_pickle(SVMMVO_SP_path+\"//data_dictionary.pkl\")\n",
    "SVMMVO_ETF_experiments = pd.read_pickle(SVMMVO_ETF_path+\"//data_dictionary.pkl\")\n",
    "\n",
    "print(\"q =\", q, \" runs available: \", SVMMVO_SP_experiments.run.unique())"
   ],
   "metadata": {
    "collapsed": false,
    "ExecuteTime": {
     "end_time": "2024-04-03T17:23:42.626144100Z",
     "start_time": "2024-04-03T17:23:42.617773900Z"
    }
   },
   "execution_count": 13
  },
  {
   "cell_type": "code",
   "execution_count": 14,
   "outputs": [],
   "source": [
    "# filtering step\n",
    "SVMMVO_SP_experiments =SVMMVO_SP_experiments[SVMMVO_SP_experiments.estimator == estimator_str]\n",
    "SVMMVO_SP_experiments =SVMMVO_SP_experiments[SVMMVO_SP_experiments.premium.isin(premium_strs)]\n",
    "SVMMVO_SP_experiments =SVMMVO_SP_experiments[SVMMVO_SP_experiments.kappa.isin(kappas_SP)]\n",
    "SVMMVO_SP_experiments =SVMMVO_SP_experiments[SVMMVO_SP_experiments.cardinality_ratio.isin(cardinality_strs_SP)]\n",
    "\n",
    "SVMMVO_ETF_experiments =SVMMVO_ETF_experiments[SVMMVO_ETF_experiments.estimator == estimator_str]\n",
    "SVMMVO_ETF_experiments =SVMMVO_ETF_experiments[SVMMVO_ETF_experiments.premium.isin(premium_strs)]\n",
    "SVMMVO_ETF_experiments =SVMMVO_ETF_experiments[SVMMVO_ETF_experiments.kappa.isin(kappas_ETF)]\n",
    "SVMMVO_ETF_experiments =SVMMVO_ETF_experiments[SVMMVO_ETF_experiments.cardinality_ratio.isin(cardinality_strs_ETF)]"
   ],
   "metadata": {
    "collapsed": false,
    "ExecuteTime": {
     "end_time": "2024-04-03T17:23:43.214425100Z",
     "start_time": "2024-04-03T17:23:43.199581800Z"
    }
   }
  },
  {
   "cell_type": "code",
   "execution_count": 31,
   "outputs": [],
   "source": [
    "# prepare the results dictionary for\n",
    "SP_unique_svmmvo_turnover_df = SVMMVO_SP_experiments.groupby(['cardinality_ratio', 'turnover_limit', 'kappa', 'premium']).uid.first()\n",
    "ETF_unique_svmmvo_turnover_df = SVMMVO_ETF_experiments.groupby(['cardinality_ratio', 'turnover_limit', 'kappa', 'premium']).uid.first()\n",
    "\n",
    "SVMMVO_bigm_times = []\n",
    "SVMMVO_times = []\n",
    "SVMMVO_gaps = []\n",
    "for i in SP_unique_svmmvo_turnover_df.index:\n",
    "    SVMMVO_information = import_dict(SVMMVO_SP_path, SP_unique_svmmvo_turnover_df[i], 'backtest_results' )\n",
    "    t_s = SVMMVO_information.keys()\n",
    "    for t in t_s:\n",
    "        SVMMVO_bigm_times.append(SVMMVO_information[t]['bigM_time'])\n",
    "        SVMMVO_gaps.append(SVMMVO_information[t]['optimality gap'])\n",
    "        SVMMVO_times.append(SVMMVO_information[t]['time'])\n",
    "        \n",
    "for i in ETF_unique_svmmvo_turnover_df.index:\n",
    "    SVMMVO_information = import_dict(SVMMVO_ETF_path, ETF_unique_svmmvo_turnover_df[i], 'backtest_results' )\n",
    "    t_s = SVMMVO_information.keys()\n",
    "    for t in t_s:\n",
    "        SVMMVO_bigm_times.append(SVMMVO_information[t]['bigM_time'])\n",
    "        SVMMVO_gaps.append(SVMMVO_information[t]['optimality gap'])\n",
    "        SVMMVO_times.append(SVMMVO_information[t]['time'])"
   ],
   "metadata": {
    "collapsed": false,
    "ExecuteTime": {
     "end_time": "2024-04-03T17:31:14.002979100Z",
     "start_time": "2024-04-03T17:31:13.901755300Z"
    }
   }
  },
  {
   "cell_type": "code",
   "execution_count": 32,
   "outputs": [
    {
     "name": "stdout",
     "output_type": "stream",
     "text": [
      "number of instances  6237\n",
      "average SVMMVO optimality gap  13.695655679387896\n",
      "std deviation SVMMVO optimality gap  13.593782461066366\n",
      "average SVMMVO time 66.15359854549098\n",
      "average big M SVMMVO time 53.892955280409154\n",
      "number of instances with above 5% 3064\n"
     ]
    }
   ],
   "source": [
    "print(\"number of instances \", len(SVMMVO_bigm_times))\n",
    "print(\"average SVMMVO optimality gap \", np.mean(SVMMVO_gaps))\n",
    "print(\"std deviation SVMMVO optimality gap \", np.std(SVMMVO_gaps))\n",
    "print(\"average SVMMVO time\", np.mean(SVMMVO_times) )\n",
    "print(\"average big M SVMMVO time\", np.mean(SVMMVO_bigm_times) )\n",
    "print(\"number of instances with above 5%\", np.sum(np.array(SVMMVO_gaps)>5) )"
   ],
   "metadata": {
    "collapsed": false,
    "ExecuteTime": {
     "end_time": "2024-04-03T17:31:14.145364700Z",
     "start_time": "2024-04-03T17:31:14.126990500Z"
    }
   }
  },
  {
   "cell_type": "code",
   "outputs": [
    {
     "data": {
      "text/plain": "dict_keys(['obj_value', 'time', 'bigM_time', 'optimality gap', 'x', 'z', 'w', 't', 'b', 'xi_plus', 'xi_neg', 'feasible_solution', 'C', 'epsilon', 'q', 'optimization_params', 'calEnd'])"
     },
     "execution_count": 36,
     "metadata": {},
     "output_type": "execute_result"
    }
   ],
   "source": [
    "SVMMVO_information[0].keys()"
   ],
   "metadata": {
    "collapsed": false,
    "ExecuteTime": {
     "end_time": "2024-04-03T17:43:52.142894400Z",
     "start_time": "2024-04-03T17:43:52.133494800Z"
    }
   },
   "execution_count": 36
  },
  {
   "cell_type": "code",
   "outputs": [
    {
     "data": {
      "text/plain": "18.841275669597675"
     },
     "execution_count": 38,
     "metadata": {},
     "output_type": "execute_result"
    }
   ],
   "source": [
    "np.sqrt(min(2*SVMMVO_information[0]['obj_value']/SVMMVO_information[0]['epsilon'], 2*SVMMVO_information[0]['C']))"
   ],
   "metadata": {
    "collapsed": false,
    "ExecuteTime": {
     "end_time": "2024-04-03T17:45:39.102682500Z",
     "start_time": "2024-04-03T17:45:39.087434700Z"
    }
   },
   "execution_count": 38
  },
  {
   "cell_type": "code",
   "outputs": [
    {
     "data": {
      "text/plain": "61.53846133981342"
     },
     "execution_count": 35,
     "metadata": {},
     "output_type": "execute_result"
    }
   ],
   "source": [
    "np.max(SVMMVO_gaps)"
   ],
   "metadata": {
    "collapsed": false,
    "ExecuteTime": {
     "end_time": "2024-04-03T17:34:19.717584900Z",
     "start_time": "2024-04-03T17:34:19.712434200Z"
    }
   },
   "execution_count": 35
  },
  {
   "cell_type": "code",
   "outputs": [],
   "source": [],
   "metadata": {
    "collapsed": false
   }
  }
 ],
 "metadata": {
  "kernelspec": {
   "display_name": "Python 3",
   "language": "python",
   "name": "python3"
  },
  "language_info": {
   "codemirror_mode": {
    "name": "ipython",
    "version": 2
   },
   "file_extension": ".py",
   "mimetype": "text/x-python",
   "name": "python",
   "nbconvert_exporter": "python",
   "pygments_lexer": "ipython2",
   "version": "2.7.6"
  }
 },
 "nbformat": 4,
 "nbformat_minor": 0
}
