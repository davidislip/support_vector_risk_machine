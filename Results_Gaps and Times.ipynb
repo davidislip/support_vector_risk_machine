{
 "cells": [
  {
   "cell_type": "code",
   "execution_count": 46,
   "outputs": [],
   "source": [
    "import time\n",
    "import math\n",
    "\n",
    "import numpy as np\n",
    "import pandas as pd\n",
    "from itertools import product\n",
    "from services.big_m_strategies import *\n",
    "from services.experiments import *\n",
    "from services.plotting_functions import *"
   ],
   "metadata": {
    "collapsed": false,
    "ExecuteTime": {
     "end_time": "2024-04-02T06:22:02.533543200Z",
     "start_time": "2024-04-02T06:22:02.521983900Z"
    }
   }
  },
  {
   "cell_type": "code",
   "execution_count": 47,
   "outputs": [],
   "source": [
    "# Some strategies (uncomment this or the next cell to pick a strategy to test)\n",
    "# Strategy = general_strategy(sample_estimator, MVO, NumObs=48)  #the general strategy object takes an estimator function and an optimizer function\n",
    "# the only constraint is that the estimators outputs are the optimizers inputs\n",
    "# investor preferences (static throughout the backtest\n",
    "\n",
    "universe = 'SP'\n",
    "initialVal = 100000\n",
    "estimator_str = 'exponential_weighted_estimator_shrinkage'\n",
    "premium_strs = ['0.25']\n",
    "kappas_SP = ['0.0125', '0.025', '0.05']\n",
    "kappas_ETF = ['0.4', '0.8', '1.6']\n",
    "cardinality_strs_SP = ['0.02', '0.03', '0.05', '0.07', '0.1', '0.2', '0.4', '0.6', '0.8']\n",
    "cardinality_strs_ETF = ['0.01', '0.03', '0.05', '0.07', '0.1', '0.2', '0.4', '0.6', '0.8']\n",
    "q = 20"
   ],
   "metadata": {
    "collapsed": false,
    "ExecuteTime": {
     "end_time": "2024-04-02T06:22:02.784062900Z",
     "start_time": "2024-04-02T06:22:02.772613300Z"
    }
   }
  },
  {
   "cell_type": "code",
   "execution_count": 48,
   "outputs": [
    {
     "data": {
      "text/plain": "array(['SunJan212024'], dtype=object)"
     },
     "execution_count": 48,
     "metadata": {},
     "output_type": "execute_result"
    }
   ],
   "source": [
    "CardMVO_SP_path = \"Experiments//SP//\"+\"CardMVO\"\n",
    "CardMVO_ETF_path = \"Experiments//ETF//\"+\"CardMVO\"\n",
    "\n",
    "CardMVO_SP_experiments = pd.read_pickle(CardMVO_SP_path+\"//data_dictionary.pkl\")\n",
    "CardMVO_ETF_experiments = pd.read_pickle(CardMVO_ETF_path+\"//data_dictionary.pkl\")\n",
    "\n",
    "CardMVO_SP_experiments.run.unique() # select run"
   ],
   "metadata": {
    "collapsed": false,
    "ExecuteTime": {
     "end_time": "2024-04-02T06:22:03.080056Z",
     "start_time": "2024-04-02T06:22:03.067875500Z"
    }
   }
  },
  {
   "cell_type": "code",
   "execution_count": 49,
   "outputs": [],
   "source": [
    "# Filtering step for CardMVO experiments\n",
    "CardMVO_SP_experiments = CardMVO_SP_experiments[CardMVO_SP_experiments.estimator == estimator_str]\n",
    "CardMVO_SP_experiments = CardMVO_SP_experiments[CardMVO_SP_experiments.q == str(q)]\n",
    "CardMVO_SP_experiments = CardMVO_SP_experiments[CardMVO_SP_experiments.premium.isin(premium_strs)]\n",
    "CardMVO_SP_experiments = CardMVO_SP_experiments[CardMVO_SP_experiments.cardinality_ratio.isin(cardinality_strs_SP)]\n",
    "\n",
    "#CardMVO_SP_experiments = CardMVO_SP_experiments[CardMVO_SP_experiments.kappa.isin(kappas_SP)]\n",
    "\n",
    "CardMVO_ETF_experiments = CardMVO_ETF_experiments[CardMVO_ETF_experiments.estimator == estimator_str]\n",
    "CardMVO_ETF_experiments = CardMVO_ETF_experiments[CardMVO_ETF_experiments.q == str(q)]\n",
    "CardMVO_ETF_experiments = CardMVO_ETF_experiments[CardMVO_ETF_experiments.premium.isin(premium_strs)]\n",
    "#CardMVO_ETF_experiments = CardMVO_ETF_experiments[CardMVO_ETF_experiments.kappa.isin(kappas_ETF)]\n",
    "CardMVO_ETF_experiments = CardMVO_ETF_experiments[CardMVO_ETF_experiments.cardinality_ratio.isin(cardinality_strs_ETF)]\n"
   ],
   "metadata": {
    "collapsed": false,
    "ExecuteTime": {
     "end_time": "2024-04-02T06:22:03.286063Z",
     "start_time": "2024-04-02T06:22:03.279553900Z"
    }
   }
  },
  {
   "cell_type": "code",
   "execution_count": 50,
   "outputs": [],
   "source": [
    "SP_unique_card_turnover_df = CardMVO_SP_experiments.groupby(['cardinality_ratio', 'turnover_limit', 'premium']).uid.first() # unique experiments\n",
    "ETF_unique_card_turnover_df = CardMVO_ETF_experiments.groupby(['cardinality_ratio', 'turnover_limit', 'premium']).uid.first() # unique experiments"
   ],
   "metadata": {
    "collapsed": false,
    "ExecuteTime": {
     "end_time": "2024-04-02T06:22:03.473753200Z",
     "start_time": "2024-04-02T06:22:03.464618400Z"
    }
   }
  },
  {
   "cell_type": "code",
   "outputs": [
    {
     "data": {
      "text/plain": "array(['0.25'], dtype=object)"
     },
     "execution_count": 51,
     "metadata": {},
     "output_type": "execute_result"
    }
   ],
   "source": [
    "CardMVO_ETF_experiments.premium.unique()"
   ],
   "metadata": {
    "collapsed": false,
    "ExecuteTime": {
     "end_time": "2024-04-02T06:22:03.816466500Z",
     "start_time": "2024-04-02T06:22:03.795937800Z"
    }
   },
   "execution_count": 51
  },
  {
   "cell_type": "code",
   "outputs": [],
   "source": [
    "# gap and time stats\n",
    "card_mvo_gaps = []\n",
    "card_mvo_times = []\n",
    "\n",
    "for i in SP_unique_card_turnover_df.index:\n",
    "    Card_info = import_dict(CardMVO_SP_path, SP_unique_card_turnover_df[i], 'backtest_results' )\n",
    "    t_s = Card_info.keys()\n",
    "    cardinality_ratio = i[0]\n",
    "    if float(cardinality_ratio) <= 0.2:\n",
    "        for t in t_s:    \n",
    "            card_mvo_gaps.append(Card_info[t]['optimality gap'])\n",
    "            card_mvo_times.append(Card_info[t]['time'])\n",
    "\n",
    "for i in ETF_unique_card_turnover_df.index:\n",
    "    Card_info = import_dict(CardMVO_ETF_path, ETF_unique_card_turnover_df[i], 'backtest_results' )\n",
    "    t_s = Card_info.keys()\n",
    "    cardinality_ratio = i[0]\n",
    "    if float(cardinality_ratio) <= 0.2:\n",
    "        for t in t_s:    \n",
    "            card_mvo_gaps.append(Card_info[t]['optimality gap'])\n",
    "            card_mvo_times.append(Card_info[t]['time'])\n"
   ],
   "metadata": {
    "collapsed": false,
    "ExecuteTime": {
     "end_time": "2024-04-02T06:22:04.049715100Z",
     "start_time": "2024-04-02T06:22:04.019679500Z"
    }
   },
   "execution_count": 52
  },
  {
   "cell_type": "code",
   "outputs": [
    {
     "name": "stdout",
     "output_type": "stream",
     "text": [
      "number of instances  1386\n",
      "average Card-MVO optimality gap  2.7079812334934927\n",
      "std deviation Card-MVO optimality gap  3.434043798913321\n",
      "average Card-MVO time 2.0302548733624546\n",
      "number of instances with above 5% 78\n"
     ]
    }
   ],
   "source": [
    "print(\"number of instances \", len(card_mvo_gaps))\n",
    "print(\"average Card-MVO optimality gap \", np.mean(card_mvo_gaps))\n",
    "print(\"std deviation Card-MVO optimality gap \", np.std(card_mvo_gaps))\n",
    "print(\"average Card-MVO time\", np.mean(card_mvo_times) )\n",
    "print(\"number of instances with above 5%\", np.sum(np.array(card_mvo_gaps)>5) )"
   ],
   "metadata": {
    "collapsed": false,
    "ExecuteTime": {
     "end_time": "2024-04-02T06:22:04.281216900Z",
     "start_time": "2024-04-02T06:22:04.273209700Z"
    }
   },
   "execution_count": 53
  },
  {
   "cell_type": "code",
   "outputs": [
    {
     "name": "stdout",
     "output_type": "stream",
     "text": [
      "q = 20  runs available:  ['SunJan212024']\n"
     ]
    }
   ],
   "source": [
    "# read in SVMMVO experiments and see what is going on\n",
    "SVMMVO_SP_path = \"Experiments//SP//\"+\"ClassWgtSVMMVO\"+\"//\"+str(q)\n",
    "SVMMVO_ETF_path = \"Experiments//ETF//\"+\"ClassWgtSVMMVO\"+\"//\"+str(q)\n",
    "\n",
    "SVMMVO_SP_experiments = pd.read_pickle(SVMMVO_SP_path+\"//data_dictionary.pkl\")\n",
    "SVMMVO_ETF_experiments = pd.read_pickle(SVMMVO_ETF_path+\"//data_dictionary.pkl\")\n",
    "\n",
    "print(\"q =\", q, \" runs available: \", SVMMVO_SP_experiments.run.unique())"
   ],
   "metadata": {
    "collapsed": false,
    "ExecuteTime": {
     "end_time": "2024-04-02T06:22:04.516152100Z",
     "start_time": "2024-04-02T06:22:04.502935400Z"
    }
   },
   "execution_count": 54
  },
  {
   "cell_type": "code",
   "execution_count": 55,
   "outputs": [],
   "source": [
    "# filtering step\n",
    "SVMMVO_SP_experiments =SVMMVO_SP_experiments[SVMMVO_SP_experiments.estimator == estimator_str]\n",
    "SVMMVO_SP_experiments =SVMMVO_SP_experiments[SVMMVO_SP_experiments.premium.isin(premium_strs)]\n",
    "SVMMVO_SP_experiments =SVMMVO_SP_experiments[SVMMVO_SP_experiments.kappa.isin(kappas_SP)]\n",
    "SVMMVO_SP_experiments =SVMMVO_SP_experiments[SVMMVO_SP_experiments.cardinality_ratio.isin(cardinality_strs_SP)]\n",
    "\n",
    "SVMMVO_ETF_experiments =SVMMVO_ETF_experiments[SVMMVO_ETF_experiments.estimator == estimator_str]\n",
    "SVMMVO_ETF_experiments =SVMMVO_ETF_experiments[SVMMVO_ETF_experiments.premium.isin(premium_strs)]\n",
    "SVMMVO_ETF_experiments =SVMMVO_ETF_experiments[SVMMVO_ETF_experiments.kappa.isin(kappas_ETF)]\n",
    "SVMMVO_ETF_experiments =SVMMVO_ETF_experiments[SVMMVO_ETF_experiments.cardinality_ratio.isin(cardinality_strs_ETF)]"
   ],
   "metadata": {
    "collapsed": false,
    "ExecuteTime": {
     "end_time": "2024-04-02T06:22:04.874832200Z",
     "start_time": "2024-04-02T06:22:04.860746700Z"
    }
   }
  },
  {
   "cell_type": "code",
   "execution_count": 56,
   "outputs": [],
   "source": [
    "# prepare the results dictionary for\n",
    "SP_unique_svmmvo_turnover_df = SVMMVO_SP_experiments.groupby(['cardinality_ratio', 'turnover_limit', 'kappa', 'premium']).uid.first()\n",
    "ETF_unique_svmmvo_turnover_df = SVMMVO_ETF_experiments.groupby(['cardinality_ratio', 'turnover_limit', 'kappa', 'premium']).uid.first()\n",
    "\n",
    "SVMMVO_bigm_times = []\n",
    "SVMMVO_times = []\n",
    "SVMMVO_gaps = []\n",
    "for i in SP_unique_svmmvo_turnover_df.index:\n",
    "    SVMMVO_information = import_dict(SVMMVO_SP_path, SP_unique_svmmvo_turnover_df[i], 'backtest_results' )\n",
    "    t_s = SVMMVO_information.keys()\n",
    "    for t in t_s:\n",
    "        SVMMVO_bigm_times.append(SVMMVO_information[t]['bigM_time'])\n",
    "        SVMMVO_gaps.append(SVMMVO_information[t]['optimality gap'])\n",
    "        SVMMVO_times.append(SVMMVO_information[t]['time'])\n",
    "        \n",
    "for i in ETF_unique_svmmvo_turnover_df.index:\n",
    "    SVMMVO_information = import_dict(SVMMVO_ETF_path, ETF_unique_svmmvo_turnover_df[i], 'backtest_results' )\n",
    "    t_s = SVMMVO_information.keys()\n",
    "    for t in t_s:\n",
    "        SVMMVO_bigm_times.append(SVMMVO_information[t]['bigM_time'])\n",
    "        SVMMVO_gaps.append(SVMMVO_information[t]['optimality gap'])\n",
    "        SVMMVO_times.append(SVMMVO_information[t]['time'])"
   ],
   "metadata": {
    "collapsed": false,
    "ExecuteTime": {
     "end_time": "2024-04-02T06:22:05.170069200Z",
     "start_time": "2024-04-02T06:22:05.064674Z"
    }
   }
  },
  {
   "cell_type": "code",
   "execution_count": 57,
   "outputs": [
    {
     "name": "stdout",
     "output_type": "stream",
     "text": [
      "number of instances  6237\n",
      "average SVMMVO optimality gap  13.695655679387896\n",
      "std deviation SVMMVO optimality gap  13.593782461066366\n",
      "average SVMMVO time 66.15359854549098\n",
      "average big M SVMMVO time 53.892955280409154\n",
      "number of instances with above 5% 3064\n"
     ]
    }
   ],
   "source": [
    "print(\"number of instances \", len(SVMMVO_bigm_times))\n",
    "print(\"average SVMMVO optimality gap \", np.mean(SVMMVO_gaps))\n",
    "print(\"std deviation SVMMVO optimality gap \", np.std(SVMMVO_gaps))\n",
    "print(\"average SVMMVO time\", np.mean(SVMMVO_times) )\n",
    "print(\"average big M SVMMVO time\", np.mean(SVMMVO_bigm_times) )\n",
    "print(\"number of instances with above 5%\", np.sum(np.array(SVMMVO_gaps)>5) )"
   ],
   "metadata": {
    "collapsed": false,
    "ExecuteTime": {
     "end_time": "2024-04-02T06:22:05.418171200Z",
     "start_time": "2024-04-02T06:22:05.415171500Z"
    }
   }
  },
  {
   "cell_type": "code",
   "outputs": [],
   "source": [],
   "metadata": {
    "collapsed": false
   }
  }
 ],
 "metadata": {
  "kernelspec": {
   "display_name": "Python 3",
   "language": "python",
   "name": "python3"
  },
  "language_info": {
   "codemirror_mode": {
    "name": "ipython",
    "version": 2
   },
   "file_extension": ".py",
   "mimetype": "text/x-python",
   "name": "python",
   "nbconvert_exporter": "python",
   "pygments_lexer": "ipython2",
   "version": "2.7.6"
  }
 },
 "nbformat": 4,
 "nbformat_minor": 0
}
