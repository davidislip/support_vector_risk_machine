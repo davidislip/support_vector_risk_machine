{
 "cells": [
  {
   "cell_type": "code",
   "execution_count": 5,
   "outputs": [],
   "source": [
    "import time\n",
    "import math\n",
    "\n",
    "import numpy as np\n",
    "import pandas as pd\n",
    "from itertools import product\n",
    "from services.big_m_strategies import *\n",
    "from services.experiments import *\n",
    "from services.plotting_functions import *"
   ],
   "metadata": {
    "collapsed": false,
    "ExecuteTime": {
     "end_time": "2024-03-28T14:52:51.727033300Z",
     "start_time": "2024-03-28T14:52:51.696831200Z"
    }
   }
  },
  {
   "cell_type": "code",
   "execution_count": 147,
   "outputs": [],
   "source": [
    "# Some strategies (uncomment this or the next cell to pick a strategy to test)\n",
    "# Strategy = general_strategy(sample_estimator, MVO, NumObs=48)  #the general strategy object takes an estimator function and an optimizer function\n",
    "# the only constraint is that the estimators outputs are the optimizers inputs\n",
    "# investor preferences (static throughout the backtest\n",
    "\n",
    "universe = 'SP'\n",
    "initialVal = 100000\n",
    "estimator_str = 'exponential_weighted_estimator_shrinkage'\n",
    "premium_strs = ['0.25', '0.5', '1', '1.5']\n",
    "kappas_SP = ['0.0125', '0.025', '0.05']\n",
    "kappas_ETF = ['0.1', '0.2', '0.4']\n",
    "q = 20"
   ],
   "metadata": {
    "collapsed": false,
    "ExecuteTime": {
     "end_time": "2024-03-28T20:08:44.166603300Z",
     "start_time": "2024-03-28T20:08:44.152839600Z"
    }
   }
  },
  {
   "cell_type": "code",
   "execution_count": 148,
   "outputs": [
    {
     "data": {
      "text/plain": "array(['SunJan212024'], dtype=object)"
     },
     "execution_count": 148,
     "metadata": {},
     "output_type": "execute_result"
    }
   ],
   "source": [
    "CardMVO_SP_path = \"Experiments//SP//\"+\"CardMVO\"\n",
    "CardMVO_ETF_path = \"Experiments//ETF//\"+\"CardMVO\"\n",
    "\n",
    "CardMVO_SP_experiments = pd.read_pickle(CardMVO_SP_path+\"//data_dictionary.pkl\")\n",
    "CardMVO_ETF_experiments = pd.read_pickle(CardMVO_ETF_path+\"//data_dictionary.pkl\")\n",
    "\n",
    "CardMVO_SP_experiments.run.unique() # select run"
   ],
   "metadata": {
    "collapsed": false,
    "ExecuteTime": {
     "end_time": "2024-03-28T20:08:44.483904800Z",
     "start_time": "2024-03-28T20:08:44.469366900Z"
    }
   }
  },
  {
   "cell_type": "code",
   "execution_count": 149,
   "outputs": [],
   "source": [
    "# Filtering step for CardMVO experiments\n",
    "CardMVO_SP_experiments = CardMVO_SP_experiments[CardMVO_SP_experiments.estimator == estimator_str]\n",
    "CardMVO_SP_experiments = CardMVO_SP_experiments[CardMVO_SP_experiments.q == str(q)]\n",
    "CardMVO_SP_experiments = CardMVO_SP_experiments[CardMVO_SP_experiments.premium.isin(premium_strs)]\n",
    "#CardMVO_SP_experiments = CardMVO_SP_experiments[CardMVO_SP_experiments.kappa.isin(kappas_SP)]\n",
    "\n",
    "CardMVO_ETF_experiments = CardMVO_ETF_experiments[CardMVO_ETF_experiments.estimator == estimator_str]\n",
    "CardMVO_ETF_experiments = CardMVO_ETF_experiments[CardMVO_ETF_experiments.q == str(q)]\n",
    "CardMVO_ETF_experiments = CardMVO_ETF_experiments[CardMVO_ETF_experiments.premium.isin(premium_strs)]\n",
    "#CardMVO_ETF_experiments = CardMVO_ETF_experiments[CardMVO_ETF_experiments.kappa.isin(kappas_ETF)]"
   ],
   "metadata": {
    "collapsed": false,
    "ExecuteTime": {
     "end_time": "2024-03-28T20:08:44.909067900Z",
     "start_time": "2024-03-28T20:08:44.893328400Z"
    }
   }
  },
  {
   "cell_type": "code",
   "execution_count": 150,
   "outputs": [],
   "source": [
    "SP_unique_card_turnover_df = CardMVO_SP_experiments.groupby(['cardinality_ratio', 'turnover_limit', 'premium']).uid.first() # unique experiments\n",
    "ETF_unique_card_turnover_df = CardMVO_ETF_experiments.groupby(['cardinality_ratio', 'turnover_limit', 'premium']).uid.first() # unique experiments"
   ],
   "metadata": {
    "collapsed": false,
    "ExecuteTime": {
     "end_time": "2024-03-28T20:08:45.203881100Z",
     "start_time": "2024-03-28T20:08:45.199752200Z"
    }
   }
  },
  {
   "cell_type": "code",
   "outputs": [
    {
     "data": {
      "text/plain": "array(['0.25', '0.5', '1', '1.5'], dtype=object)"
     },
     "execution_count": 151,
     "metadata": {},
     "output_type": "execute_result"
    }
   ],
   "source": [
    "CardMVO_ETF_experiments.premium.unique()"
   ],
   "metadata": {
    "collapsed": false,
    "ExecuteTime": {
     "end_time": "2024-03-28T20:08:54.834309400Z",
     "start_time": "2024-03-28T20:08:54.821801400Z"
    }
   },
   "execution_count": 151
  },
  {
   "cell_type": "code",
   "outputs": [],
   "source": [
    "# gap and time stats\n",
    "card_mvo_gaps = []\n",
    "card_mvo_times = []\n",
    "\n",
    "for i in SP_unique_card_turnover_df.index:\n",
    "    Card_info = import_dict(CardMVO_SP_path, SP_unique_card_turnover_df[i], 'backtest_results' )\n",
    "    t_s = Card_info.keys()\n",
    "    cardinality_ratio = i[0]\n",
    "    if float(cardinality_ratio) <= 0.2:\n",
    "        for t in t_s:    \n",
    "            card_mvo_gaps.append(Card_info[t]['optimality gap'])\n",
    "            card_mvo_times.append(Card_info[t]['time'])\n",
    "\n",
    "for i in ETF_unique_card_turnover_df.index:\n",
    "    Card_info = import_dict(CardMVO_ETF_path, ETF_unique_card_turnover_df[i], 'backtest_results' )\n",
    "    t_s = Card_info.keys()\n",
    "    cardinality_ratio = i[0]\n",
    "    if float(cardinality_ratio) <= 0.2:\n",
    "        for t in t_s:    \n",
    "            card_mvo_gaps.append(Card_info[t]['optimality gap'])\n",
    "            card_mvo_times.append(Card_info[t]['time'])\n"
   ],
   "metadata": {
    "collapsed": false,
    "ExecuteTime": {
     "end_time": "2024-03-28T20:09:05.189849900Z",
     "start_time": "2024-03-28T20:09:05.093170Z"
    }
   },
   "execution_count": 152
  },
  {
   "cell_type": "code",
   "outputs": [
    {
     "name": "stdout",
     "output_type": "stream",
     "text": [
      "number of instances  6816\n",
      "average Card-MVO optimality gap  2.0989228073335413\n",
      "std deviation Card-MVO optimality gap  2.7584079571674507\n",
      "average Card-MVO time 1.2050100568804383\n",
      "number of instances with above 5% 199\n"
     ]
    }
   ],
   "source": [
    "print(\"number of instances \", len(card_mvo_gaps))\n",
    "print(\"average Card-MVO optimality gap \", np.mean(card_mvo_gaps))\n",
    "print(\"std deviation Card-MVO optimality gap \", np.std(card_mvo_gaps))\n",
    "print(\"average Card-MVO time\", np.mean(card_mvo_times) )\n",
    "print(\"number of instances with above 5%\", np.sum(np.array(card_mvo_gaps)>5) )"
   ],
   "metadata": {
    "collapsed": false,
    "ExecuteTime": {
     "end_time": "2024-03-28T20:09:05.723019500Z",
     "start_time": "2024-03-28T20:09:05.711480600Z"
    }
   },
   "execution_count": 153
  },
  {
   "cell_type": "code",
   "outputs": [
    {
     "name": "stdout",
     "output_type": "stream",
     "text": [
      "q = 20  runs available:  ['SunJan212024']\n"
     ]
    }
   ],
   "source": [
    "# read in SVMMVO experiments and see what is going on\n",
    "SVMMVO_SP_path = \"Experiments//SP//\"+\"ClassWgtSVMMVO\"+\"//\"+str(q)\n",
    "SVMMVO_ETF_path = \"Experiments//ETF//\"+\"ClassWgtSVMMVO\"+\"//\"+str(q)\n",
    "\n",
    "SVMMVO_SP_experiments = pd.read_pickle(SVMMVO_SP_path+\"//data_dictionary.pkl\")\n",
    "SVMMVO_ETF_experiments = pd.read_pickle(SVMMVO_ETF_path+\"//data_dictionary.pkl\")\n",
    "\n",
    "print(\"q =\", q, \" runs available: \", SVMMVO_SP_experiments.run.unique())"
   ],
   "metadata": {
    "collapsed": false,
    "ExecuteTime": {
     "end_time": "2024-03-28T20:09:07.159373Z",
     "start_time": "2024-03-28T20:09:07.139743200Z"
    }
   },
   "execution_count": 154
  },
  {
   "cell_type": "code",
   "execution_count": 155,
   "outputs": [],
   "source": [
    "# filtering step\n",
    "SVMMVO_SP_experiments =SVMMVO_SP_experiments[SVMMVO_SP_experiments.estimator == estimator_str]\n",
    "SVMMVO_SP_experiments =SVMMVO_SP_experiments[SVMMVO_SP_experiments.premium.isin(premium_strs)]\n",
    "SVMMVO_SP_experiments =SVMMVO_SP_experiments[SVMMVO_SP_experiments.kappa.isin(kappas_SP)]\n",
    "\n",
    "SVMMVO_ETF_experiments =SVMMVO_ETF_experiments[SVMMVO_ETF_experiments.estimator == estimator_str]\n",
    "SVMMVO_ETF_experiments =SVMMVO_ETF_experiments[SVMMVO_ETF_experiments.premium.isin(premium_strs)]\n",
    "SVMMVO_ETF_experiments =SVMMVO_ETF_experiments[SVMMVO_ETF_experiments.kappa.isin(kappas_ETF)]"
   ],
   "metadata": {
    "collapsed": false,
    "ExecuteTime": {
     "end_time": "2024-03-28T20:09:07.392186Z",
     "start_time": "2024-03-28T20:09:07.373911800Z"
    }
   }
  },
  {
   "cell_type": "code",
   "execution_count": 156,
   "outputs": [],
   "source": [
    "# prepare the results dictionary for\n",
    "SP_unique_svmmvo_turnover_df = SVMMVO_SP_experiments.groupby(['cardinality_ratio', 'turnover_limit', 'kappa', 'premium']).uid.first()\n",
    "ETF_unique_svmmvo_turnover_df = SVMMVO_ETF_experiments.groupby(['cardinality_ratio', 'turnover_limit', 'kappa', 'premium']).uid.first()\n",
    "\n",
    "SVMMVO_bigm_times = []\n",
    "SVMMVO_times = []\n",
    "SVMMVO_gaps = []\n",
    "for i in SP_unique_svmmvo_turnover_df.index:\n",
    "    SVMMVO_information = import_dict(SVMMVO_SP_path, SP_unique_svmmvo_turnover_df[i], 'backtest_results' )\n",
    "    t_s = SVMMVO_information.keys()\n",
    "    for t in t_s:\n",
    "        SVMMVO_bigm_times.append(SVMMVO_information[t]['bigM_time'])\n",
    "        SVMMVO_gaps.append(SVMMVO_information[t]['optimality gap'])\n",
    "        SVMMVO_times.append(SVMMVO_information[t]['time'])\n",
    "        \n",
    "for i in ETF_unique_svmmvo_turnover_df.index:\n",
    "    SVMMVO_information = import_dict(SVMMVO_ETF_path, ETF_unique_svmmvo_turnover_df[i], 'backtest_results' )\n",
    "    t_s = SVMMVO_information.keys()\n",
    "    for t in t_s:\n",
    "        SVMMVO_bigm_times.append(SVMMVO_information[t]['bigM_time'])\n",
    "        SVMMVO_gaps.append(SVMMVO_information[t]['optimality gap'])\n",
    "        SVMMVO_times.append(SVMMVO_information[t]['time'])"
   ],
   "metadata": {
    "collapsed": false,
    "ExecuteTime": {
     "end_time": "2024-03-28T20:09:09.347549200Z",
     "start_time": "2024-03-28T20:09:08.898142200Z"
    }
   }
  },
  {
   "cell_type": "code",
   "execution_count": 157,
   "outputs": [
    {
     "name": "stdout",
     "output_type": "stream",
     "text": [
      "number of instances  27720\n",
      "average SVMMVO optimality gap  7.903968815663485\n",
      "std deviation SVMMVO optimality gap  6.52311698510893\n",
      "average SVMMVO time 61.58348724584903\n",
      "average big M SVMMVO time 50.77553938356313\n",
      "number of instances with above 5% 11235\n"
     ]
    }
   ],
   "source": [
    "print(\"number of instances \", len(SVMMVO_bigm_times))\n",
    "print(\"average SVMMVO optimality gap \", np.mean(SVMMVO_gaps))\n",
    "print(\"std deviation SVMMVO optimality gap \", np.std(SVMMVO_gaps))\n",
    "print(\"average SVMMVO time\", np.mean(SVMMVO_times) )\n",
    "print(\"average big M SVMMVO time\", np.mean(SVMMVO_bigm_times) )\n",
    "print(\"number of instances with above 5%\", np.sum(np.array(SVMMVO_gaps)>5) )"
   ],
   "metadata": {
    "collapsed": false,
    "ExecuteTime": {
     "end_time": "2024-03-28T20:09:09.892354600Z",
     "start_time": "2024-03-28T20:09:09.872624100Z"
    }
   }
  },
  {
   "cell_type": "code",
   "outputs": [],
   "source": [],
   "metadata": {
    "collapsed": false
   }
  }
 ],
 "metadata": {
  "kernelspec": {
   "display_name": "Python 3",
   "language": "python",
   "name": "python3"
  },
  "language_info": {
   "codemirror_mode": {
    "name": "ipython",
    "version": 2
   },
   "file_extension": ".py",
   "mimetype": "text/x-python",
   "name": "python",
   "nbconvert_exporter": "python",
   "pygments_lexer": "ipython2",
   "version": "2.7.6"
  }
 },
 "nbformat": 4,
 "nbformat_minor": 0
}
