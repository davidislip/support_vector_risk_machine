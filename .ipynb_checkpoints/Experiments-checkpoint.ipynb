{
 "cells": [
  {
   "cell_type": "markdown",
   "metadata": {},
   "source": [
    "\n",
    "# Running the Experiments\n",
    "\n",
    "# 1. Read input files"
   ]
  },
  {
   "cell_type": "code",
   "execution_count": 1,
   "metadata": {
    "ExecuteTime": {
     "end_time": "2024-01-23T17:05:12.682848900Z",
     "start_time": "2024-01-23T17:05:11.715490200Z"
    }
   },
   "outputs": [
    {
     "name": "stdout",
     "output_type": "stream",
     "text": [
      "[]\n"
     ]
    }
   ],
   "source": [
    "import time\n",
    "import math\n",
    "\n",
    "import numpy as np\n",
    "import pandas as pd\n",
    "from itertools import product\n",
    "from Database.services.database import Database\n",
    "from sqlalchemy import inspect\n",
    "from services.data_retreival import *\n",
    "from scipy.stats import gmean\n",
    "import matplotlib.pyplot as plt\n",
    "from services.strategies import *\n",
    "from services.optimization_layers import *\n",
    "from services.optimization import *\n",
    "from services.binary_optimization import *\n",
    "from services.environment_functions import *\n",
    "from services.big_m_strategies import *\n",
    "from services.experiments import *\n",
    "\n",
    "Database.initialize(\"sqlite:///Database//financial_db.sqlite\") #for courses replace this with a flat file\n",
    "inspector = inspect(Database.engine)\n",
    "print(inspector.get_table_names())\n",
    "\n",
    "universe = 'SP'\n",
    "imputation_method = 'Multivariate'\n",
    "ticker_str = 'AAPL'\n",
    "#exponential params\n",
    "\n",
    "\n",
    "adjClose = pd.read_csv(\"flat_files/MonthlyAssetPrices\"+ universe + \".csv\", index_col=0, header = 1).iloc[1:,:]\n",
    "\n",
    "daily_adjClose =  pd.read_csv(\"flat_files/DailyAssetPrices\"+universe + \".csv\", index_col=0, header = 1).iloc[1:,:]\n",
    "\n",
    "TechnicalAnalysis = pd.read_csv(\"flat_files/TechnicalAnalysis\" + universe + \".csv\", index_col=[0,1])\n",
    "\n",
    "if universe ==  'SP':\n",
    "    FinancialRatios = pd.read_csv(\"flat_files/\" + imputation_method + \"WRDS.csv\", index_col=[0,1])\n",
    "    TechnicalAnalysis.index.names = FinancialRatios.index.names\n",
    "    ContextualInfo = TechnicalAnalysis.merge(FinancialRatios, how = 'left', left_index=True, right_index=True)\n",
    "\n",
    "else:\n",
    "    TechnicalAnalysis.index.names = ['date', 'ticker']\n",
    "    ContextualInfo = TechnicalAnalysis\n"
   ]
  },
  {
   "cell_type": "code",
   "execution_count": 2,
   "metadata": {
    "ExecuteTime": {
     "end_time": "2024-01-23T17:05:12.717848700Z",
     "start_time": "2024-01-23T17:05:12.699848200Z"
    }
   },
   "outputs": [],
   "source": [
    "adjClose.index = pd.to_datetime(adjClose.index, format='%Y-%m-%d').tz_localize(None)\n",
    "daily_adjClose.index = pd.to_datetime(daily_adjClose.index, format='%Y-%m-%d').tz_localize(None)\n",
    "ContextualInfo.index = ContextualInfo.index.set_levels([pd.to_datetime(ContextualInfo.index.levels[0]).tz_localize(None), ContextualInfo.index.levels[1]])"
   ]
  },
  {
   "cell_type": "code",
   "execution_count": 3,
   "metadata": {
    "ExecuteTime": {
     "end_time": "2024-01-23T17:05:12.731847200Z",
     "start_time": "2024-01-23T17:05:12.715849300Z"
    }
   },
   "outputs": [
    {
     "name": "stdout",
     "output_type": "stream",
     "text": [
      "The earliest possible start date\n"
     ]
    },
    {
     "data": {
      "text/plain": [
       "Timestamp('1996-11-30 00:00:00')"
      ]
     },
     "execution_count": 3,
     "metadata": {},
     "output_type": "execute_result"
    }
   ],
   "source": [
    "print(\"The earliest possible start date\")\n",
    "max(daily_adjClose.index.unique()[0], ContextualInfo.index.get_level_values('date').unique()[0], adjClose.index.unique()[0])"
   ]
  },
  {
   "cell_type": "code",
   "execution_count": 4,
   "metadata": {
    "ExecuteTime": {
     "end_time": "2024-01-23T17:05:12.773361600Z",
     "start_time": "2024-01-23T17:05:12.732847300Z"
    }
   },
   "outputs": [
    {
     "name": "stdout",
     "output_type": "stream",
     "text": [
      "The latest possible start date\n"
     ]
    },
    {
     "data": {
      "text/plain": [
       "Timestamp('2023-04-21 00:00:00')"
      ]
     },
     "execution_count": 4,
     "metadata": {},
     "output_type": "execute_result"
    }
   ],
   "source": [
    "print(\"The latest possible start date\")\n",
    "min(daily_adjClose.index.unique()[-1], ContextualInfo.index.get_level_values('date').unique()[-1], adjClose.index.unique()[-1])"
   ]
  },
  {
   "cell_type": "code",
   "execution_count": 5,
   "metadata": {
    "ExecuteTime": {
     "end_time": "2024-01-23T17:05:17.798413400Z",
     "start_time": "2024-01-23T17:05:13.464060700Z"
    }
   },
   "outputs": [
    {
     "ename": "OperationalError",
     "evalue": "(sqlite3.OperationalError) no such table: factors\n[SQL: SELECT * FROM factors where frequency = 'M' and trim(factor) in ('Mkt-RF', 'RF')]\n(Background on this error at: https://sqlalche.me/e/14/e3q8)",
     "output_type": "error",
     "traceback": [
      "\u001b[1;31m--------------------------------------------------------\u001b[0m",
      "\u001b[1;31mOperationalError\u001b[0m       Traceback (most recent call last)",
      "File \u001b[1;32mC:\\ProgramData\\anaconda3\\envs\\forms\\lib\\site-packages\\sqlalchemy\\engine\\base.py:1900\u001b[0m, in \u001b[0;36mConnection._execute_context\u001b[1;34m(self, dialect, constructor, statement, parameters, execution_options, *args, **kw)\u001b[0m\n\u001b[0;32m   1899\u001b[0m     \u001b[38;5;28;01mif\u001b[39;00m \u001b[38;5;129;01mnot\u001b[39;00m evt_handled:\n\u001b[1;32m-> 1900\u001b[0m         \u001b[38;5;28;43mself\u001b[39;49m\u001b[38;5;241;43m.\u001b[39;49m\u001b[43mdialect\u001b[49m\u001b[38;5;241;43m.\u001b[39;49m\u001b[43mdo_execute\u001b[49m\u001b[43m(\u001b[49m\n\u001b[0;32m   1901\u001b[0m \u001b[43m            \u001b[49m\u001b[43mcursor\u001b[49m\u001b[43m,\u001b[49m\u001b[43m \u001b[49m\u001b[43mstatement\u001b[49m\u001b[43m,\u001b[49m\u001b[43m \u001b[49m\u001b[43mparameters\u001b[49m\u001b[43m,\u001b[49m\u001b[43m \u001b[49m\u001b[43mcontext\u001b[49m\n\u001b[0;32m   1902\u001b[0m \u001b[43m        \u001b[49m\u001b[43m)\u001b[49m\n\u001b[0;32m   1904\u001b[0m \u001b[38;5;28;01mif\u001b[39;00m \u001b[38;5;28mself\u001b[39m\u001b[38;5;241m.\u001b[39m_has_events \u001b[38;5;129;01mor\u001b[39;00m \u001b[38;5;28mself\u001b[39m\u001b[38;5;241m.\u001b[39mengine\u001b[38;5;241m.\u001b[39m_has_events:\n",
      "File \u001b[1;32mC:\\ProgramData\\anaconda3\\envs\\forms\\lib\\site-packages\\sqlalchemy\\engine\\default.py:736\u001b[0m, in \u001b[0;36mDefaultDialect.do_execute\u001b[1;34m(self, cursor, statement, parameters, context)\u001b[0m\n\u001b[0;32m    735\u001b[0m \u001b[38;5;28;01mdef\u001b[39;00m \u001b[38;5;21mdo_execute\u001b[39m(\u001b[38;5;28mself\u001b[39m, cursor, statement, parameters, context\u001b[38;5;241m=\u001b[39m\u001b[38;5;28;01mNone\u001b[39;00m):\n\u001b[1;32m--> 736\u001b[0m     \u001b[43mcursor\u001b[49m\u001b[38;5;241;43m.\u001b[39;49m\u001b[43mexecute\u001b[49m\u001b[43m(\u001b[49m\u001b[43mstatement\u001b[49m\u001b[43m,\u001b[49m\u001b[43m \u001b[49m\u001b[43mparameters\u001b[49m\u001b[43m)\u001b[49m\n",
      "\u001b[1;31mOperationalError\u001b[0m: no such table: factors",
      "\nThe above exception was the direct cause of the following exception:\n",
      "\u001b[1;31mOperationalError\u001b[0m       Traceback (most recent call last)",
      "Cell \u001b[1;32mIn [5], line 11\u001b[0m\n\u001b[0;32m      5\u001b[0m \u001b[38;5;66;03m# start_date = pd.to_datetime('2006-05-31', format = '%Y-%m-%d')\u001b[39;00m\n\u001b[0;32m      6\u001b[0m \n\u001b[0;32m      7\u001b[0m \u001b[38;5;66;03m# end_date = pd.to_datetime('2022-12-31', format = '%Y-%m-%d')\u001b[39;00m\n\u001b[0;32m      9\u001b[0m factors \u001b[38;5;241m=\u001b[39m (\u001b[38;5;124m'\u001b[39m\u001b[38;5;124mMkt-RF\u001b[39m\u001b[38;5;124m'\u001b[39m, \u001b[38;5;124m'\u001b[39m\u001b[38;5;124mRF\u001b[39m\u001b[38;5;124m'\u001b[39m)\n\u001b[1;32m---> 11\u001b[0m factorRet \u001b[38;5;241m=\u001b[39m \u001b[43mget_monthly_factors\u001b[49m\u001b[43m(\u001b[49m\u001b[43mfactors\u001b[49m\u001b[43m,\u001b[49m\u001b[43m \u001b[49m\u001b[43mstart_date\u001b[49m\u001b[43m,\u001b[49m\u001b[43m \u001b[49m\u001b[43mend_date\u001b[49m\u001b[43m,\u001b[49m\u001b[43m \u001b[49m\u001b[43mDatabase\u001b[49m\u001b[43m)\u001b[49m\n\u001b[0;32m     13\u001b[0m factorRet \u001b[38;5;241m=\u001b[39m factorRet\u001b[38;5;241m.\u001b[39mdroplevel(\u001b[38;5;241m0\u001b[39m, axis \u001b[38;5;241m=\u001b[39m \u001b[38;5;241m1\u001b[39m)\n\u001b[0;32m     14\u001b[0m factorRet\u001b[38;5;241m.\u001b[39mcolumns \u001b[38;5;241m=\u001b[39m [col\u001b[38;5;241m.\u001b[39mstrip() \u001b[38;5;28;01mfor\u001b[39;00m col \u001b[38;5;129;01min\u001b[39;00m factorRet\u001b[38;5;241m.\u001b[39mcolumns]\n",
      "File \u001b[1;32m~\\Documents\\GitHub\\support_vector_risk_machine\\services\\data_retreival.py:66\u001b[0m, in \u001b[0;36mget_monthly_factors\u001b[1;34m(factors, start_date, end_date, Database)\u001b[0m\n\u001b[0;32m     57\u001b[0m \u001b[38;5;28;01mdef\u001b[39;00m \u001b[38;5;21mget_monthly_factors\u001b[39m(factors, start_date, end_date, Database):\n\u001b[0;32m     58\u001b[0m     \u001b[38;5;124;03m\"\"\"\u001b[39;00m\n\u001b[0;32m     59\u001b[0m \n\u001b[0;32m     60\u001b[0m \u001b[38;5;124;03m    :param factors:\u001b[39;00m\n\u001b[1;32m   (...)\u001b[0m\n\u001b[0;32m     64\u001b[0m \u001b[38;5;124;03m    :return:\u001b[39;00m\n\u001b[0;32m     65\u001b[0m \u001b[38;5;124;03m    \"\"\"\u001b[39;00m\n\u001b[1;32m---> 66\u001b[0m     factor_info \u001b[38;5;241m=\u001b[39m \u001b[43mDatabase\u001b[49m\u001b[38;5;241;43m.\u001b[39;49m\u001b[43mquery\u001b[49m\u001b[43m(\u001b[49m\u001b[38;5;124;43m\"\u001b[39;49m\u001b[38;5;124;43mSELECT * FROM factors where frequency = \u001b[39;49m\u001b[38;5;124;43m'\u001b[39;49m\u001b[38;5;124;43mM\u001b[39;49m\u001b[38;5;124;43m'\u001b[39;49m\u001b[38;5;124;43m and trim(factor) in \u001b[39;49m\u001b[38;5;124;43m\"\u001b[39;49m\u001b[43m \u001b[49m\u001b[38;5;241;43m+\u001b[39;49m\u001b[43m \u001b[49m\u001b[38;5;28;43mstr\u001b[39;49m\u001b[43m(\u001b[49m\u001b[43mfactors\u001b[49m\u001b[43m)\u001b[49m\u001b[43m)\u001b[49m\n\u001b[0;32m     67\u001b[0m     factor_data \u001b[38;5;241m=\u001b[39m factor_info\u001b[38;5;241m.\u001b[39mpivot(index\u001b[38;5;241m=\u001b[39m\u001b[38;5;124m'\u001b[39m\u001b[38;5;124mdate\u001b[39m\u001b[38;5;124m'\u001b[39m, columns\u001b[38;5;241m=\u001b[39m[\u001b[38;5;124m'\u001b[39m\u001b[38;5;124mfactor\u001b[39m\u001b[38;5;124m'\u001b[39m], values\u001b[38;5;241m=\u001b[39m[\u001b[38;5;124m'\u001b[39m\u001b[38;5;124mret\u001b[39m\u001b[38;5;124m'\u001b[39m])\n\u001b[0;32m     68\u001b[0m     factor_data\u001b[38;5;241m.\u001b[39mindex \u001b[38;5;241m=\u001b[39m pd\u001b[38;5;241m.\u001b[39mto_datetime(factor_data\u001b[38;5;241m.\u001b[39mindex, \u001b[38;5;28mformat\u001b[39m\u001b[38;5;241m=\u001b[39m\u001b[38;5;124m'\u001b[39m\u001b[38;5;124m%\u001b[39m\u001b[38;5;124mY-\u001b[39m\u001b[38;5;124m%\u001b[39m\u001b[38;5;124mm-\u001b[39m\u001b[38;5;132;01m%d\u001b[39;00m\u001b[38;5;124m'\u001b[39m)\n",
      "File \u001b[1;32m~\\Documents\\GitHub\\support_vector_risk_machine\\Database\\services\\database.py:94\u001b[0m, in \u001b[0;36mDatabase.query\u001b[1;34m(query)\u001b[0m\n\u001b[0;32m     91\u001b[0m \u001b[38;5;129m@staticmethod\u001b[39m\n\u001b[0;32m     92\u001b[0m \u001b[38;5;28;01mdef\u001b[39;00m \u001b[38;5;21mquery\u001b[39m(query):  \u001b[38;5;66;03m# Returns all records from db.collection matching query\u001b[39;00m\n\u001b[0;32m     93\u001b[0m     \u001b[38;5;28;01mwith\u001b[39;00m Database\u001b[38;5;241m.\u001b[39mengine\u001b[38;5;241m.\u001b[39mbegin() \u001b[38;5;28;01mas\u001b[39;00m connection:\n\u001b[1;32m---> 94\u001b[0m         \u001b[38;5;28;01mreturn\u001b[39;00m \u001b[43mpd\u001b[49m\u001b[38;5;241;43m.\u001b[39;49m\u001b[43mread_sql\u001b[49m\u001b[43m(\u001b[49m\u001b[43mquery\u001b[49m\u001b[43m,\u001b[49m\u001b[43m \u001b[49m\u001b[43mconnection\u001b[49m\u001b[43m)\u001b[49m  \u001b[38;5;66;03m# query must be in JSON\u001b[39;00m\n\u001b[0;32m     95\u001b[0m     connection\u001b[38;5;241m.\u001b[39mclose()\n",
      "File \u001b[1;32mC:\\ProgramData\\anaconda3\\envs\\forms\\lib\\site-packages\\pandas\\io\\sql.py:593\u001b[0m, in \u001b[0;36mread_sql\u001b[1;34m(sql, con, index_col, coerce_float, params, parse_dates, columns, chunksize)\u001b[0m\n\u001b[0;32m    584\u001b[0m     \u001b[38;5;28;01mreturn\u001b[39;00m pandas_sql\u001b[38;5;241m.\u001b[39mread_table(\n\u001b[0;32m    585\u001b[0m         sql,\n\u001b[0;32m    586\u001b[0m         index_col\u001b[38;5;241m=\u001b[39mindex_col,\n\u001b[1;32m   (...)\u001b[0m\n\u001b[0;32m    590\u001b[0m         chunksize\u001b[38;5;241m=\u001b[39mchunksize,\n\u001b[0;32m    591\u001b[0m     )\n\u001b[0;32m    592\u001b[0m \u001b[38;5;28;01melse\u001b[39;00m:\n\u001b[1;32m--> 593\u001b[0m     \u001b[38;5;28;01mreturn\u001b[39;00m \u001b[43mpandas_sql\u001b[49m\u001b[38;5;241;43m.\u001b[39;49m\u001b[43mread_query\u001b[49m\u001b[43m(\u001b[49m\n\u001b[0;32m    594\u001b[0m \u001b[43m        \u001b[49m\u001b[43msql\u001b[49m\u001b[43m,\u001b[49m\n\u001b[0;32m    595\u001b[0m \u001b[43m        \u001b[49m\u001b[43mindex_col\u001b[49m\u001b[38;5;241;43m=\u001b[39;49m\u001b[43mindex_col\u001b[49m\u001b[43m,\u001b[49m\n\u001b[0;32m    596\u001b[0m \u001b[43m        \u001b[49m\u001b[43mparams\u001b[49m\u001b[38;5;241;43m=\u001b[39;49m\u001b[43mparams\u001b[49m\u001b[43m,\u001b[49m\n\u001b[0;32m    597\u001b[0m \u001b[43m        \u001b[49m\u001b[43mcoerce_float\u001b[49m\u001b[38;5;241;43m=\u001b[39;49m\u001b[43mcoerce_float\u001b[49m\u001b[43m,\u001b[49m\n\u001b[0;32m    598\u001b[0m \u001b[43m        \u001b[49m\u001b[43mparse_dates\u001b[49m\u001b[38;5;241;43m=\u001b[39;49m\u001b[43mparse_dates\u001b[49m\u001b[43m,\u001b[49m\n\u001b[0;32m    599\u001b[0m \u001b[43m        \u001b[49m\u001b[43mchunksize\u001b[49m\u001b[38;5;241;43m=\u001b[39;49m\u001b[43mchunksize\u001b[49m\u001b[43m,\u001b[49m\n\u001b[0;32m    600\u001b[0m \u001b[43m    \u001b[49m\u001b[43m)\u001b[49m\n",
      "File \u001b[1;32mC:\\ProgramData\\anaconda3\\envs\\forms\\lib\\site-packages\\pandas\\io\\sql.py:1560\u001b[0m, in \u001b[0;36mSQLDatabase.read_query\u001b[1;34m(self, sql, index_col, coerce_float, parse_dates, params, chunksize, dtype)\u001b[0m\n\u001b[0;32m   1512\u001b[0m \u001b[38;5;124;03m\"\"\"\u001b[39;00m\n\u001b[0;32m   1513\u001b[0m \u001b[38;5;124;03mRead SQL query into a DataFrame.\u001b[39;00m\n\u001b[0;32m   1514\u001b[0m \n\u001b[1;32m   (...)\u001b[0m\n\u001b[0;32m   1556\u001b[0m \n\u001b[0;32m   1557\u001b[0m \u001b[38;5;124;03m\"\"\"\u001b[39;00m\n\u001b[0;32m   1558\u001b[0m args \u001b[38;5;241m=\u001b[39m _convert_params(sql, params)\n\u001b[1;32m-> 1560\u001b[0m result \u001b[38;5;241m=\u001b[39m \u001b[38;5;28;43mself\u001b[39;49m\u001b[38;5;241;43m.\u001b[39;49m\u001b[43mexecute\u001b[49m\u001b[43m(\u001b[49m\u001b[38;5;241;43m*\u001b[39;49m\u001b[43margs\u001b[49m\u001b[43m)\u001b[49m\n\u001b[0;32m   1561\u001b[0m columns \u001b[38;5;241m=\u001b[39m result\u001b[38;5;241m.\u001b[39mkeys()\n\u001b[0;32m   1563\u001b[0m \u001b[38;5;28;01mif\u001b[39;00m chunksize \u001b[38;5;129;01mis\u001b[39;00m \u001b[38;5;129;01mnot\u001b[39;00m \u001b[38;5;28;01mNone\u001b[39;00m:\n",
      "File \u001b[1;32mC:\\ProgramData\\anaconda3\\envs\\forms\\lib\\site-packages\\pandas\\io\\sql.py:1405\u001b[0m, in \u001b[0;36mSQLDatabase.execute\u001b[1;34m(self, *args, **kwargs)\u001b[0m\n\u001b[0;32m   1403\u001b[0m \u001b[38;5;28;01mdef\u001b[39;00m \u001b[38;5;21mexecute\u001b[39m(\u001b[38;5;28mself\u001b[39m, \u001b[38;5;241m*\u001b[39margs, \u001b[38;5;241m*\u001b[39m\u001b[38;5;241m*\u001b[39mkwargs):\n\u001b[0;32m   1404\u001b[0m     \u001b[38;5;124;03m\"\"\"Simple passthrough to SQLAlchemy connectable\"\"\"\u001b[39;00m\n\u001b[1;32m-> 1405\u001b[0m     \u001b[38;5;28;01mreturn\u001b[39;00m \u001b[38;5;28mself\u001b[39m\u001b[38;5;241m.\u001b[39mconnectable\u001b[38;5;241m.\u001b[39mexecution_options()\u001b[38;5;241m.\u001b[39mexecute(\u001b[38;5;241m*\u001b[39margs, \u001b[38;5;241m*\u001b[39m\u001b[38;5;241m*\u001b[39mkwargs)\n",
      "File \u001b[1;32mC:\\ProgramData\\anaconda3\\envs\\forms\\lib\\site-packages\\sqlalchemy\\engine\\base.py:1365\u001b[0m, in \u001b[0;36mConnection.execute\u001b[1;34m(self, statement, *multiparams, **params)\u001b[0m\n\u001b[0;32m   1356\u001b[0m \u001b[38;5;28;01mif\u001b[39;00m \u001b[38;5;28misinstance\u001b[39m(statement, util\u001b[38;5;241m.\u001b[39mstring_types):\n\u001b[0;32m   1357\u001b[0m     util\u001b[38;5;241m.\u001b[39mwarn_deprecated_20(\n\u001b[0;32m   1358\u001b[0m         \u001b[38;5;124m\"\u001b[39m\u001b[38;5;124mPassing a string to Connection.execute() is \u001b[39m\u001b[38;5;124m\"\u001b[39m\n\u001b[0;32m   1359\u001b[0m         \u001b[38;5;124m\"\u001b[39m\u001b[38;5;124mdeprecated and will be removed in version 2.0.  Use the \u001b[39m\u001b[38;5;124m\"\u001b[39m\n\u001b[1;32m   (...)\u001b[0m\n\u001b[0;32m   1362\u001b[0m         \u001b[38;5;124m\"\u001b[39m\u001b[38;5;124mdriver-level SQL string.\u001b[39m\u001b[38;5;124m\"\u001b[39m\n\u001b[0;32m   1363\u001b[0m     )\n\u001b[1;32m-> 1365\u001b[0m     \u001b[38;5;28;01mreturn\u001b[39;00m \u001b[38;5;28;43mself\u001b[39;49m\u001b[38;5;241;43m.\u001b[39;49m\u001b[43m_exec_driver_sql\u001b[49m\u001b[43m(\u001b[49m\n\u001b[0;32m   1366\u001b[0m \u001b[43m        \u001b[49m\u001b[43mstatement\u001b[49m\u001b[43m,\u001b[49m\n\u001b[0;32m   1367\u001b[0m \u001b[43m        \u001b[49m\u001b[43mmultiparams\u001b[49m\u001b[43m,\u001b[49m\n\u001b[0;32m   1368\u001b[0m \u001b[43m        \u001b[49m\u001b[43mparams\u001b[49m\u001b[43m,\u001b[49m\n\u001b[0;32m   1369\u001b[0m \u001b[43m        \u001b[49m\u001b[43m_EMPTY_EXECUTION_OPTS\u001b[49m\u001b[43m,\u001b[49m\n\u001b[0;32m   1370\u001b[0m \u001b[43m        \u001b[49m\u001b[43mfuture\u001b[49m\u001b[38;5;241;43m=\u001b[39;49m\u001b[38;5;28;43;01mFalse\u001b[39;49;00m\u001b[43m,\u001b[49m\n\u001b[0;32m   1371\u001b[0m \u001b[43m    \u001b[49m\u001b[43m)\u001b[49m\n\u001b[0;32m   1373\u001b[0m \u001b[38;5;28;01mtry\u001b[39;00m:\n\u001b[0;32m   1374\u001b[0m     meth \u001b[38;5;241m=\u001b[39m statement\u001b[38;5;241m.\u001b[39m_execute_on_connection\n",
      "File \u001b[1;32mC:\\ProgramData\\anaconda3\\envs\\forms\\lib\\site-packages\\sqlalchemy\\engine\\base.py:1669\u001b[0m, in \u001b[0;36mConnection._exec_driver_sql\u001b[1;34m(self, statement, multiparams, params, execution_options, future)\u001b[0m\n\u001b[0;32m   1659\u001b[0m         (\n\u001b[0;32m   1660\u001b[0m             statement,\n\u001b[0;32m   1661\u001b[0m             distilled_params,\n\u001b[1;32m   (...)\u001b[0m\n\u001b[0;32m   1665\u001b[0m             statement, distilled_parameters, execution_options\n\u001b[0;32m   1666\u001b[0m         )\n\u001b[0;32m   1668\u001b[0m dialect \u001b[38;5;241m=\u001b[39m \u001b[38;5;28mself\u001b[39m\u001b[38;5;241m.\u001b[39mdialect\n\u001b[1;32m-> 1669\u001b[0m ret \u001b[38;5;241m=\u001b[39m \u001b[38;5;28;43mself\u001b[39;49m\u001b[38;5;241;43m.\u001b[39;49m\u001b[43m_execute_context\u001b[49m\u001b[43m(\u001b[49m\n\u001b[0;32m   1670\u001b[0m \u001b[43m    \u001b[49m\u001b[43mdialect\u001b[49m\u001b[43m,\u001b[49m\n\u001b[0;32m   1671\u001b[0m \u001b[43m    \u001b[49m\u001b[43mdialect\u001b[49m\u001b[38;5;241;43m.\u001b[39;49m\u001b[43mexecution_ctx_cls\u001b[49m\u001b[38;5;241;43m.\u001b[39;49m\u001b[43m_init_statement\u001b[49m\u001b[43m,\u001b[49m\n\u001b[0;32m   1672\u001b[0m \u001b[43m    \u001b[49m\u001b[43mstatement\u001b[49m\u001b[43m,\u001b[49m\n\u001b[0;32m   1673\u001b[0m \u001b[43m    \u001b[49m\u001b[43mdistilled_parameters\u001b[49m\u001b[43m,\u001b[49m\n\u001b[0;32m   1674\u001b[0m \u001b[43m    \u001b[49m\u001b[43mexecution_options\u001b[49m\u001b[43m,\u001b[49m\n\u001b[0;32m   1675\u001b[0m \u001b[43m    \u001b[49m\u001b[43mstatement\u001b[49m\u001b[43m,\u001b[49m\n\u001b[0;32m   1676\u001b[0m \u001b[43m    \u001b[49m\u001b[43mdistilled_parameters\u001b[49m\u001b[43m,\u001b[49m\n\u001b[0;32m   1677\u001b[0m \u001b[43m\u001b[49m\u001b[43m)\u001b[49m\n\u001b[0;32m   1679\u001b[0m \u001b[38;5;28;01mif\u001b[39;00m \u001b[38;5;129;01mnot\u001b[39;00m future:\n\u001b[0;32m   1680\u001b[0m     \u001b[38;5;28;01mif\u001b[39;00m \u001b[38;5;28mself\u001b[39m\u001b[38;5;241m.\u001b[39m_has_events \u001b[38;5;129;01mor\u001b[39;00m \u001b[38;5;28mself\u001b[39m\u001b[38;5;241m.\u001b[39mengine\u001b[38;5;241m.\u001b[39m_has_events:\n",
      "File \u001b[1;32mC:\\ProgramData\\anaconda3\\envs\\forms\\lib\\site-packages\\sqlalchemy\\engine\\base.py:1943\u001b[0m, in \u001b[0;36mConnection._execute_context\u001b[1;34m(self, dialect, constructor, statement, parameters, execution_options, *args, **kw)\u001b[0m\n\u001b[0;32m   1940\u001b[0m             branched\u001b[38;5;241m.\u001b[39mclose()\n\u001b[0;32m   1942\u001b[0m \u001b[38;5;28;01mexcept\u001b[39;00m \u001b[38;5;167;01mBaseException\u001b[39;00m \u001b[38;5;28;01mas\u001b[39;00m e:\n\u001b[1;32m-> 1943\u001b[0m     \u001b[38;5;28;43mself\u001b[39;49m\u001b[38;5;241;43m.\u001b[39;49m\u001b[43m_handle_dbapi_exception\u001b[49m\u001b[43m(\u001b[49m\n\u001b[0;32m   1944\u001b[0m \u001b[43m        \u001b[49m\u001b[43me\u001b[49m\u001b[43m,\u001b[49m\u001b[43m \u001b[49m\u001b[43mstatement\u001b[49m\u001b[43m,\u001b[49m\u001b[43m \u001b[49m\u001b[43mparameters\u001b[49m\u001b[43m,\u001b[49m\u001b[43m \u001b[49m\u001b[43mcursor\u001b[49m\u001b[43m,\u001b[49m\u001b[43m \u001b[49m\u001b[43mcontext\u001b[49m\n\u001b[0;32m   1945\u001b[0m \u001b[43m    \u001b[49m\u001b[43m)\u001b[49m\n\u001b[0;32m   1947\u001b[0m \u001b[38;5;28;01mreturn\u001b[39;00m result\n",
      "File \u001b[1;32mC:\\ProgramData\\anaconda3\\envs\\forms\\lib\\site-packages\\sqlalchemy\\engine\\base.py:2124\u001b[0m, in \u001b[0;36mConnection._handle_dbapi_exception\u001b[1;34m(self, e, statement, parameters, cursor, context)\u001b[0m\n\u001b[0;32m   2122\u001b[0m     util\u001b[38;5;241m.\u001b[39mraise_(newraise, with_traceback\u001b[38;5;241m=\u001b[39mexc_info[\u001b[38;5;241m2\u001b[39m], from_\u001b[38;5;241m=\u001b[39me)\n\u001b[0;32m   2123\u001b[0m \u001b[38;5;28;01melif\u001b[39;00m should_wrap:\n\u001b[1;32m-> 2124\u001b[0m     \u001b[43mutil\u001b[49m\u001b[38;5;241;43m.\u001b[39;49m\u001b[43mraise_\u001b[49m\u001b[43m(\u001b[49m\n\u001b[0;32m   2125\u001b[0m \u001b[43m        \u001b[49m\u001b[43msqlalchemy_exception\u001b[49m\u001b[43m,\u001b[49m\u001b[43m \u001b[49m\u001b[43mwith_traceback\u001b[49m\u001b[38;5;241;43m=\u001b[39;49m\u001b[43mexc_info\u001b[49m\u001b[43m[\u001b[49m\u001b[38;5;241;43m2\u001b[39;49m\u001b[43m]\u001b[49m\u001b[43m,\u001b[49m\u001b[43m \u001b[49m\u001b[43mfrom_\u001b[49m\u001b[38;5;241;43m=\u001b[39;49m\u001b[43me\u001b[49m\n\u001b[0;32m   2126\u001b[0m \u001b[43m    \u001b[49m\u001b[43m)\u001b[49m\n\u001b[0;32m   2127\u001b[0m \u001b[38;5;28;01melse\u001b[39;00m:\n\u001b[0;32m   2128\u001b[0m     util\u001b[38;5;241m.\u001b[39mraise_(exc_info[\u001b[38;5;241m1\u001b[39m], with_traceback\u001b[38;5;241m=\u001b[39mexc_info[\u001b[38;5;241m2\u001b[39m])\n",
      "File \u001b[1;32mC:\\ProgramData\\anaconda3\\envs\\forms\\lib\\site-packages\\sqlalchemy\\util\\compat.py:208\u001b[0m, in \u001b[0;36mraise_\u001b[1;34m(***failed resolving arguments***)\u001b[0m\n\u001b[0;32m    205\u001b[0m     exception\u001b[38;5;241m.\u001b[39m__cause__ \u001b[38;5;241m=\u001b[39m replace_context\n\u001b[0;32m    207\u001b[0m \u001b[38;5;28;01mtry\u001b[39;00m:\n\u001b[1;32m--> 208\u001b[0m     \u001b[38;5;28;01mraise\u001b[39;00m exception\n\u001b[0;32m    209\u001b[0m \u001b[38;5;28;01mfinally\u001b[39;00m:\n\u001b[0;32m    210\u001b[0m     \u001b[38;5;66;03m# credit to\u001b[39;00m\n\u001b[0;32m    211\u001b[0m     \u001b[38;5;66;03m# https://cosmicpercolator.com/2016/01/13/exception-leaks-in-python-2-and-3/\u001b[39;00m\n\u001b[0;32m    212\u001b[0m     \u001b[38;5;66;03m# as the __traceback__ object creates a cycle\u001b[39;00m\n\u001b[0;32m    213\u001b[0m     \u001b[38;5;28;01mdel\u001b[39;00m exception, replace_context, from_, with_traceback\n",
      "File \u001b[1;32mC:\\ProgramData\\anaconda3\\envs\\forms\\lib\\site-packages\\sqlalchemy\\engine\\base.py:1900\u001b[0m, in \u001b[0;36mConnection._execute_context\u001b[1;34m(self, dialect, constructor, statement, parameters, execution_options, *args, **kw)\u001b[0m\n\u001b[0;32m   1898\u001b[0m                 \u001b[38;5;28;01mbreak\u001b[39;00m\n\u001b[0;32m   1899\u001b[0m     \u001b[38;5;28;01mif\u001b[39;00m \u001b[38;5;129;01mnot\u001b[39;00m evt_handled:\n\u001b[1;32m-> 1900\u001b[0m         \u001b[38;5;28;43mself\u001b[39;49m\u001b[38;5;241;43m.\u001b[39;49m\u001b[43mdialect\u001b[49m\u001b[38;5;241;43m.\u001b[39;49m\u001b[43mdo_execute\u001b[49m\u001b[43m(\u001b[49m\n\u001b[0;32m   1901\u001b[0m \u001b[43m            \u001b[49m\u001b[43mcursor\u001b[49m\u001b[43m,\u001b[49m\u001b[43m \u001b[49m\u001b[43mstatement\u001b[49m\u001b[43m,\u001b[49m\u001b[43m \u001b[49m\u001b[43mparameters\u001b[49m\u001b[43m,\u001b[49m\u001b[43m \u001b[49m\u001b[43mcontext\u001b[49m\n\u001b[0;32m   1902\u001b[0m \u001b[43m        \u001b[49m\u001b[43m)\u001b[49m\n\u001b[0;32m   1904\u001b[0m \u001b[38;5;28;01mif\u001b[39;00m \u001b[38;5;28mself\u001b[39m\u001b[38;5;241m.\u001b[39m_has_events \u001b[38;5;129;01mor\u001b[39;00m \u001b[38;5;28mself\u001b[39m\u001b[38;5;241m.\u001b[39mengine\u001b[38;5;241m.\u001b[39m_has_events:\n\u001b[0;32m   1905\u001b[0m     \u001b[38;5;28mself\u001b[39m\u001b[38;5;241m.\u001b[39mdispatch\u001b[38;5;241m.\u001b[39mafter_cursor_execute(\n\u001b[0;32m   1906\u001b[0m         \u001b[38;5;28mself\u001b[39m,\n\u001b[0;32m   1907\u001b[0m         cursor,\n\u001b[1;32m   (...)\u001b[0m\n\u001b[0;32m   1911\u001b[0m         context\u001b[38;5;241m.\u001b[39mexecutemany,\n\u001b[0;32m   1912\u001b[0m     )\n",
      "File \u001b[1;32mC:\\ProgramData\\anaconda3\\envs\\forms\\lib\\site-packages\\sqlalchemy\\engine\\default.py:736\u001b[0m, in \u001b[0;36mDefaultDialect.do_execute\u001b[1;34m(self, cursor, statement, parameters, context)\u001b[0m\n\u001b[0;32m    735\u001b[0m \u001b[38;5;28;01mdef\u001b[39;00m \u001b[38;5;21mdo_execute\u001b[39m(\u001b[38;5;28mself\u001b[39m, cursor, statement, parameters, context\u001b[38;5;241m=\u001b[39m\u001b[38;5;28;01mNone\u001b[39;00m):\n\u001b[1;32m--> 736\u001b[0m     \u001b[43mcursor\u001b[49m\u001b[38;5;241;43m.\u001b[39;49m\u001b[43mexecute\u001b[49m\u001b[43m(\u001b[49m\u001b[43mstatement\u001b[49m\u001b[43m,\u001b[49m\u001b[43m \u001b[49m\u001b[43mparameters\u001b[49m\u001b[43m)\u001b[49m\n",
      "\u001b[1;31mOperationalError\u001b[0m: (sqlite3.OperationalError) no such table: factors\n[SQL: SELECT * FROM factors where frequency = 'M' and trim(factor) in ('Mkt-RF', 'RF')]\n(Background on this error at: https://sqlalche.me/e/14/e3q8)"
     ]
    }
   ],
   "source": [
    "start_date = pd.to_datetime('1996-11-30', format = '%Y-%m-%d')\n",
    "\n",
    "end_date = pd.to_datetime('2022-12-31', format = '%Y-%m-%d')\n",
    "\n",
    "# start_date = pd.to_datetime('2006-05-31', format = '%Y-%m-%d')\n",
    "\n",
    "# end_date = pd.to_datetime('2022-12-31', format = '%Y-%m-%d')\n",
    "\n",
    "factors = ('Mkt-RF', 'RF')\n",
    "\n",
    "factorRet = get_monthly_factors(factors, start_date, end_date, Database)\n",
    "\n",
    "factorRet = factorRet.droplevel(0, axis = 1)\n",
    "factorRet.columns = [col.strip() for col in factorRet.columns]"
   ]
  },
  {
   "cell_type": "code",
   "execution_count": 31,
   "metadata": {
    "ExecuteTime": {
     "end_time": "2024-01-23T17:05:17.831837800Z",
     "start_time": "2024-01-23T17:05:17.801413900Z"
    }
   },
   "outputs": [],
   "source": [
    "adjClose = adjClose[start_date:end_date]\n",
    "daily_adjClose = daily_adjClose[start_date:end_date]\n",
    "idx = pd.IndexSlice\n",
    "ContextualInfo = ContextualInfo.loc[idx[start_date:end_date, :], :]"
   ]
  },
  {
   "cell_type": "code",
   "execution_count": 32,
   "metadata": {
    "ExecuteTime": {
     "end_time": "2024-01-23T17:05:17.845023200Z",
     "start_time": "2024-01-23T17:05:17.831837800Z"
    }
   },
   "outputs": [],
   "source": [
    "# Initial budget to invest ($100,000)\n",
    "initialVal = 100000\n",
    "\n",
    "# Length of investment period (in months) - but actually units of data\n",
    "investPeriod = 6\n",
    "\n",
    "# divide the factor returns by 100\n",
    "factorRet = factorRet/100\n",
    "\n",
    "#rf and factor returns\n",
    "#drop the first observation to align the dataset with the returns data that will\n",
    "#result\n",
    "factorRet = factorRet.iloc[1:, :]\n",
    "\n",
    "#rf and factor returns\n",
    "riskFree = factorRet['RF']\n",
    "factorRet = factorRet.loc[:,factorRet.columns != 'RF'];"
   ]
  },
  {
   "cell_type": "code",
   "execution_count": 33,
   "metadata": {
    "ExecuteTime": {
     "end_time": "2024-01-23T17:05:17.862007700Z",
     "start_time": "2024-01-23T17:05:17.847022600Z"
    }
   },
   "outputs": [],
   "source": [
    "#Identify the tickers and the dates\n",
    "tickers = adjClose.columns\n",
    "dates   = factorRet.index"
   ]
  },
  {
   "cell_type": "code",
   "execution_count": 34,
   "metadata": {
    "ExecuteTime": {
     "end_time": "2024-01-23T17:05:17.876080300Z",
     "start_time": "2024-01-23T17:05:17.861009200Z"
    }
   },
   "outputs": [],
   "source": [
    "# Calculate the stocks monthly excess returns\n",
    "# pct change and drop the first null observation\n",
    "returns = adjClose.pct_change(1).iloc[1:, :]\n",
    "returns = returns  - np.diag(riskFree.values) @ np.ones_like(returns.values) # risk adjusted returns\n",
    "# Align the price table to the asset and factor returns tables by discarding the first observation.\n",
    "adjClose = adjClose.iloc[1:,:]"
   ]
  },
  {
   "cell_type": "code",
   "execution_count": 35,
   "metadata": {
    "ExecuteTime": {
     "end_time": "2024-01-23T17:05:17.894096800Z",
     "start_time": "2024-01-23T17:05:17.877081600Z"
    }
   },
   "outputs": [],
   "source": [
    "assert adjClose.index[0] == returns.index[0]\n",
    "assert adjClose.index[0] == factorRet.index[0]"
   ]
  },
  {
   "cell_type": "markdown",
   "metadata": {},
   "source": [
    "# 2. Run your program\n",
    "\n",
    "This section will run your Project1_Function in a loop. The data will be loaded progressively as a growing window of historical observations.\n",
    "Rebalancing will take place after every loop\n",
    "\n",
    "### 2.1 Some Standard Allocation Strategies"
   ]
  },
  {
   "cell_type": "code",
   "execution_count": 36,
   "metadata": {
    "ExecuteTime": {
     "end_time": "2024-01-23T17:05:27.586475Z",
     "start_time": "2024-01-23T17:05:27.567523600Z"
    }
   },
   "outputs": [],
   "source": [
    "# Some strategies (uncomment this or the next cell to pick a strategy to test)\n",
    "# Strategy = general_strategy(sample_estimator, MVO, NumObs=48)  #the general strategy object takes an estimator function and an optimizer function\n",
    "#                                                                #the only constraint is that the estimators outputs are the optimizers inputs\n",
    "# investor preferences (static throughout the backtest)\n",
    "run = 'SunJan212024'\n",
    "hyperparam_search = False # True if model has hyperparams\n",
    "optimizer = SVMMVO # CardMVO , MVO\n",
    "estimator = exponential_weighted_estimator_shrinkage #\n",
    "EstNumObs = 750\n",
    "k = 6*20 #estimation horizon\n",
    "alpha= 1 - 0.990 #estimation decay\n",
    "return_premium = 1 #optimization premium\n",
    "\n",
    "turnover_constraints = True\n",
    "turnover_limit = 0.75 # 0.75, 1, 1.25\n",
    "cardinality_ratio = 0.1 #optimization\n",
    "\n",
    "MipGap = 0.05 # for portfolio optimizer\n",
    "limit_time = 20 # for portfolio optimizer\n",
    "\n",
    "target_return_strategy = premium_target # for portfolio optimizer to calculate return target\n",
    "# mean_target, premium_target, ticker_return_target\n",
    "target_return_strategy_args = ['premium'] # args for the return strategy\n",
    "\n",
    "bigMStrategy = HyperparameterBigMStrategy #objectiveBigMStrategy #objectiveBigMStrategyTightening , objectiveBigMStrategy\n",
    "\n",
    "bigM_limit_time=20 # for the feasible solution used to calculate big M\n",
    "bigM_MipGap=0.05 # for the feasible solution used to calculate big M\n",
    "bigM_SolutionLimit=10 # for the feasible solution used to calculate big <\n",
    "\n",
    "SkipSOCP = True # flag to skip the SOCP\n",
    "tightening_iter_lim = 1 # number of iterations of tightening to do\n",
    "\n",
    "SVMMVO_bigM_time_limit = 5 # for computing a better solution in the tightening strategy\n",
    "SVMMVO_MipGap=0.1 # for computing a better solution in the tightening strategy\n",
    "SVMMVO_SolutionLimit=5 # for computing a better solution in the tightening strategy\n",
    "\n",
    "SOCP_limit_time=10 # time limit for the SOCP's\n",
    "\n",
    "ticker_index = tickers.get_loc(ticker_str) # the ticker we want to compare to if\n",
    "#  we are using the ticker_return_target strategy\n",
    "\n",
    "q = 1 #subset of features\n",
    "\n",
    "C = 0.1 # separation importance\n",
    "epsilon = 0.1 # regularization amount for SVM\n",
    "\n",
    "separable = False # do not restrict the hyperplane to be separable\n",
    "\n",
    "LogToConsole = False # display optimization results in the console\n",
    "Verbose = False # print statements\n",
    "\n",
    "hyperparams = {'C': list(np.geomspace(0.1, 100, 4)), 'epsilon': list(np.geomspace(0.1, 100, 4))} # hyperparams for hyperparam search\n",
    "#q_alpha = 0.3187 # alpha for Q(t, a) = (1 - q_alpha) Q(t-1. a) + R(t, a)\n",
    "q_alpha = 0.6838\n",
    "\n",
    "kappa = 1.6 # 10 % risk/turnover tolerance plan: 0.1, 0.2, 0.4, 0.8, 1.6 (0.6, 1.0)\n",
    "\n",
    "investor_preferences = {'k':k, # horizon\n",
    "                        'alpha':alpha, # decay\n",
    "                        'premium':return_premium, # return premium preference\n",
    "                        'EstNumObs':EstNumObs,\n",
    "                        'ticker_index':ticker_index, # benchmark index for comparison used in place of return premium depending on the investors function to set r_min\n",
    "                        'target_return_strategy':target_return_strategy, # strategy for setting return\n",
    "                        'target_return_strategy_args': target_return_strategy_args, # args for return setting strategy\n",
    "                        'turnover_limit':turnover_limit, # turnover limit\n",
    "                        'turnover_constraints':turnover_constraints, # turnover limit choice (Y/N)\n",
    "                        'cardinality_ratio': cardinality_ratio, # Pct of assets to invest in\n",
    "                        'MipGap' : MipGap, 'limit_time':limit_time, # problem solving limits\n",
    "    \n",
    "                        'bigMStrategy':bigMStrategy,\n",
    "                        'bigM_limit_time':bigM_limit_time,\n",
    "                        'bigM_MipGap':bigM_MipGap,\n",
    "                        'bigM_SolutionLimit':bigM_SolutionLimit,\n",
    "\n",
    "                        'SkipSOCP':SkipSOCP,\n",
    "                        'tightening_iter_lim':tightening_iter_lim,\n",
    "\n",
    "                        'SVMMVO_bigM_time_limit':SVMMVO_bigM_time_limit,\n",
    "                        'SVMMVO_MipGap':SVMMVO_MipGap,\n",
    "                        'SVMMVO_SolutionLimit':SVMMVO_SolutionLimit,\n",
    "\n",
    "                        'SOCP_limit_time':SOCP_limit_time,\n",
    "                        'q':q,\n",
    "                        'C':C,\n",
    "                        'epsilon':epsilon,\n",
    "                        'separable':separable,\n",
    "                        'LogToConsole':LogToConsole,\n",
    "                        'Verbose':Verbose,\n",
    "                        'hyperparams':hyperparams,\n",
    "                        'q_alpha':q_alpha,\n",
    "                        'kappa':kappa}\n"
   ]
  },
  {
   "cell_type": "markdown",
   "metadata": {},
   "source": [
    "\n"
   ]
  },
  {
   "cell_type": "code",
   "execution_count": 37,
   "metadata": {
    "ExecuteTime": {
     "end_time": "2024-01-23T17:05:33.376883400Z",
     "start_time": "2024-01-23T17:05:28.806195300Z"
    }
   },
   "outputs": [
    {
     "name": "stdout",
     "output_type": "stream",
     "text": [
      "Experiments//ETF//SVMMVO//1\n"
     ]
    }
   ],
   "source": [
    "if optimizer.__name__ == 'CardMVO':\n",
    "    path = \"Experiments//\"+universe+\"//\"+optimizer.__name__\n",
    "elif optimizer.__name__ == 'SVMMVO':\n",
    "    path = \"Experiments//\"+universe+\"//\"+optimizer.__name__+\"//\"+str(q)\n",
    "    print(path)\n",
    "else:\n",
    "    raise Exception(\"Model Type not supported for these experiments\")\n",
    "df = init_dataframe(investor_preferences, path)"
   ]
  },
  {
   "cell_type": "code",
   "execution_count": null,
   "metadata": {
    "is_executing": true,
    "pycharm": {
     "is_executing": true
    }
   },
   "outputs": [
    {
     "name": "stdout",
     "output_type": "stream",
     "text": [
      "Testing configuration  (0.01, 0.75)\n",
      "Test Start 2008-06-30 00:00:00\n",
      "Test End 2008-11-30 00:00:00\n",
      "Calibration End 2008-06-29 00:00:00\n",
      "Set parameter TimeLimit to value 20\n",
      "Set parameter MIPGap to value 0.05\n",
      "Set parameter TimeLimit to value 20\n",
      "Set parameter TimeLimit to value 20\n",
      "Set parameter MIPGap to value 0.05\n",
      "Set parameter TimeLimit to value 20\n",
      "Set parameter MIPGap to value 0.05\n",
      "Set parameter TimeLimit to value 20\n",
      "Set parameter TimeLimit to value 20\n",
      "Set parameter MIPGap to value 0.05\n",
      "Set parameter TimeLimit to value 20\n",
      "Set parameter MIPGap to value 0.05\n",
      "Set parameter TimeLimit to value 20\n",
      "Set parameter TimeLimit to value 20\n",
      "Set parameter MIPGap to value 0.05\n",
      "Set parameter TimeLimit to value 20\n",
      "Set parameter MIPGap to value 0.05\n",
      "Set parameter TimeLimit to value 20\n",
      "Set parameter TimeLimit to value 20\n",
      "Set parameter MIPGap to value 0.05\n",
      "Set parameter TimeLimit to value 20\n",
      "Set parameter MIPGap to value 0.05\n",
      "Set parameter TimeLimit to value 20\n",
      "Set parameter TimeLimit to value 20\n",
      "Set parameter MIPGap to value 0.05\n"
     ]
    }
   ],
   "source": [
    "from IPython.display import clear_output\n",
    "\n",
    "kappas = [0.1, 0.2, 0.4, 0.8, 1.6]\n",
    "cardinality_ratios = [0.01, 0.03, 0.05, 0.07, 0.1] # includes mvo\n",
    "turnover_limits = [0.75, 1, 1.25]\n",
    "\n",
    "for cardinality_ratio, turnover_limit, kappa in product(cardinality_ratios, turnover_limits, kappas):\n",
    "    \n",
    "    clear_output(wait=True)\n",
    "\n",
    "    # initialize strategy\n",
    "    investor_preferences['turnover_limit'] = turnover_limit # turnover limit\n",
    "    investor_preferences['cardinality_ratio'] = cardinality_ratio\n",
    "    investor_preferences['kappa'] = kappa\n",
    "    \n",
    "    Strategy = general_strategy(estimator, optimizer,\n",
    "                                investor_preferences = investor_preferences)\n",
    "\n",
    "    Strategy.extract_estimation_info = populate_exponential_weighted_estimator_shrinkage\n",
    "    Strategy.extract_optimization_info = populate_kwargs\n",
    "\n",
    "    env = environment()\n",
    "\n",
    "    # Start of out-of-sample test period\n",
    "    testStart = returns.index[0] + pd.offsets.DateOffset(years=2)\n",
    "\n",
    "    # End of the first investment period\n",
    "    # testEnd = testStart + pd.offsets.DateOffset(months=investPeriod) - pd.offsets.DateOffset(days = 1)\n",
    "    testEnd = testStart + pd.offsets.MonthBegin(investPeriod) - pd.offsets.DateOffset(days = 1)\n",
    "\n",
    "    # End of calibration period\n",
    "    calEnd = testStart -  pd.offsets.DateOffset(days = 1)\n",
    "    print(\"Testing configuration \", (cardinality_ratio, turnover_limit))\n",
    "    print(\"Test Start\", testStart)\n",
    "    print(\"Test End\", testEnd)\n",
    "    print(\"Calibration End\", calEnd)\n",
    "\n",
    "    # Total number of investment periods\n",
    "    NoPeriods = math.ceil((returns.index[-1].to_period('M') - testStart.to_period('M')).n / investPeriod)\n",
    "    n = len(tickers)\n",
    "\n",
    "    portfValue, elapsed_time, turnover, x, backtest_results, hyperparam_hist = execute_backtest(env, Strategy, tickers, returns, factorRet, ContextualInfo,\n",
    "                     adjClose, daily_adjClose, NoPeriods, testStart, testEnd, calEnd, initialVal,\n",
    "                     investPeriod, hyperparam_search = hyperparam_search)\n",
    "    print(\"Completed configuration \", (cardinality_ratio, turnover_limit))\n",
    "    df, uid = add_to_data_dict(path, df, run, estimator,\n",
    "                 optimizer, universe,\n",
    "                 imputation_method, ticker_str,\n",
    "                 hyperparam_search, NoPeriods, investor_preferences)\n",
    "\n",
    "    export_experimental_results(path, uid, portfValue, elapsed_time, x, turnover)\n",
    "    export_dict(path, uid, backtest_results, 'backtest_results')\n",
    "    export_dict(path, uid, hyperparam_hist, 'hyperparam_hist')\n",
    "\n",
    "    del env\n",
    "    del Strategy"
   ]
  },
  {
   "cell_type": "code",
   "execution_count": null,
   "metadata": {
    "is_executing": true,
    "pycharm": {
     "is_executing": true
    }
   },
   "outputs": [],
   "source": [
    "curr_df = pd.read_pickle(path+\"//data_dictionary.pkl\")\n",
    "# add experiment info to the data dict\n",
    "df = pd.concat([df, curr_df], axis = 0)\n",
    "\n",
    "df.drop_duplicates(inplace = True)\n",
    "df.to_pickle(path+\"//data_dictionary.pkl\")"
   ]
  },
  {
   "cell_type": "code",
   "execution_count": null,
   "metadata": {
    "is_executing": true
   },
   "outputs": [],
   "source": [
    "df.cardinality_ratio.unique()"
   ]
  },
  {
   "cell_type": "code",
   "execution_count": 19,
   "metadata": {
    "ExecuteTime": {
     "end_time": "2024-01-21T16:07:09.150452600Z",
     "start_time": "2024-01-21T16:07:09.109452300Z"
    }
   },
   "outputs": [
    {
     "data": {
      "text/plain": [
       "array(['0.6838'], dtype=object)"
      ]
     },
     "execution_count": 19,
     "metadata": {},
     "output_type": "execute_result"
    }
   ],
   "source": [
    "df.q_alpha.unique()"
   ]
  },
  {
   "cell_type": "code",
   "execution_count": null,
   "metadata": {},
   "outputs": [],
   "source": []
  }
 ],
 "metadata": {
  "kernelspec": {
   "display_name": "Python 3 (ipykernel)",
   "language": "python",
   "name": "python3"
  },
  "language_info": {
   "codemirror_mode": {
    "name": "ipython",
    "version": 3
   },
   "file_extension": ".py",
   "mimetype": "text/x-python",
   "name": "python",
   "nbconvert_exporter": "python",
   "pygments_lexer": "ipython3",
   "version": "3.10.6"
  }
 },
 "nbformat": 4,
 "nbformat_minor": 1
}
