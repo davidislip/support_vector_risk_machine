{
 "cells": [
  {
   "cell_type": "markdown",
   "metadata": {},
   "source": [
    "\n",
    "# Running the Experiments\n",
    "\n",
    "# 1. Read input files"
   ]
  },
  {
   "cell_type": "code",
   "execution_count": 1,
   "metadata": {
    "ExecuteTime": {
     "end_time": "2024-03-10T21:07:36.336326700Z",
     "start_time": "2024-03-10T21:07:31.934571100Z"
    }
   },
   "outputs": [
    {
     "name": "stdout",
     "output_type": "stream",
     "text": [
      "['asset_id', 'currency_id', 'equities_series', 'equity_index_id', 'exchange_id', 'factor_id', 'factors', 'frequency_id', 'fundamentals', 'metric_id', 'source_id', 'ticker_id', 'ticker_index_membership', 'tiingo_tickers']\n"
     ]
    }
   ],
   "source": [
    "import time\n",
    "import math\n",
    "\n",
    "import numpy as np\n",
    "import pandas as pd\n",
    "from itertools import product\n",
    "from Database.services.database import Database\n",
    "from sqlalchemy import inspect\n",
    "from services.data_retreival import *\n",
    "from scipy.stats import gmean\n",
    "import matplotlib.pyplot as plt\n",
    "from services.strategies import *\n",
    "from services.optimization_layers import *\n",
    "from services.optimization import *\n",
    "from services.binary_optimization import *\n",
    "from services.environment_functions import *\n",
    "from services.big_m_strategies import *\n",
    "from services.experiments import *\n",
    "from services.class_weighted_bigM import *\n",
    "from services.class_weighted_models import *\n",
    "\n",
    "Database.initialize(\"sqlite:///Database//financial_db.sqlite\") #for courses replace this with a flat file\n",
    "inspector = inspect(Database.engine)\n",
    "print(inspector.get_table_names())\n",
    "\n",
    "universe = 'SP'\n",
    "imputation_method = 'Multivariate'\n",
    "ticker_str = 'AAPL'\n",
    "#exponential params\n",
    "\n",
    "\n",
    "adjClose = pd.read_csv(\"flat_files/MonthlyAssetPrices\"+ universe + \".csv\", index_col=0, header = 1).iloc[1:,:]\n",
    "\n",
    "daily_adjClose =  pd.read_csv(\"flat_files/DailyAssetPrices\"+universe + \".csv\", index_col=0, header = 1).iloc[1:,:]\n",
    "\n",
    "TechnicalAnalysis = pd.read_csv(\"flat_files/TechnicalAnalysis\" + universe + \".csv\", index_col=[0,1])\n",
    "\n",
    "if universe ==  'SP':\n",
    "    FinancialRatios = pd.read_csv(\"flat_files/\" + imputation_method + \"WRDS.csv\", index_col=[0,1])\n",
    "    TechnicalAnalysis.index.names = FinancialRatios.index.names\n",
    "    ContextualInfo = TechnicalAnalysis.merge(FinancialRatios, how = 'left', left_index=True, right_index=True)\n",
    "\n",
    "else:\n",
    "    TechnicalAnalysis.index.names = ['date', 'ticker']\n",
    "    ContextualInfo = TechnicalAnalysis\n"
   ]
  },
  {
   "cell_type": "code",
   "execution_count": 2,
   "metadata": {
    "ExecuteTime": {
     "end_time": "2024-03-10T21:07:36.354730700Z",
     "start_time": "2024-03-10T21:07:36.338109200Z"
    }
   },
   "outputs": [],
   "source": [
    "adjClose.index = pd.to_datetime(adjClose.index, format='%Y-%m-%d').tz_localize(None)\n",
    "daily_adjClose.index = pd.to_datetime(daily_adjClose.index, format='%Y-%m-%d').tz_localize(None)\n",
    "ContextualInfo.index = ContextualInfo.index.set_levels([pd.to_datetime(ContextualInfo.index.levels[0]).tz_localize(None), ContextualInfo.index.levels[1]])"
   ]
  },
  {
   "cell_type": "code",
   "execution_count": 3,
   "metadata": {
    "ExecuteTime": {
     "end_time": "2024-03-10T21:07:36.385895500Z",
     "start_time": "2024-03-10T21:07:36.355759200Z"
    }
   },
   "outputs": [
    {
     "name": "stdout",
     "output_type": "stream",
     "text": [
      "The earliest possible start date\n"
     ]
    },
    {
     "data": {
      "text/plain": "Timestamp('1996-11-30 00:00:00')"
     },
     "execution_count": 3,
     "metadata": {},
     "output_type": "execute_result"
    }
   ],
   "source": [
    "print(\"The earliest possible start date\")\n",
    "max(daily_adjClose.index.unique()[0], ContextualInfo.index.get_level_values('date').unique()[0], adjClose.index.unique()[0])"
   ]
  },
  {
   "cell_type": "code",
   "execution_count": 4,
   "metadata": {
    "ExecuteTime": {
     "end_time": "2024-03-10T21:07:36.386967Z",
     "start_time": "2024-03-10T21:07:36.372483200Z"
    }
   },
   "outputs": [
    {
     "name": "stdout",
     "output_type": "stream",
     "text": [
      "The latest possible start date\n"
     ]
    },
    {
     "data": {
      "text/plain": "Timestamp('2023-04-21 00:00:00')"
     },
     "execution_count": 4,
     "metadata": {},
     "output_type": "execute_result"
    }
   ],
   "source": [
    "print(\"The latest possible start date\")\n",
    "min(daily_adjClose.index.unique()[-1], ContextualInfo.index.get_level_values('date').unique()[-1], adjClose.index.unique()[-1])"
   ]
  },
  {
   "cell_type": "code",
   "execution_count": 5,
   "metadata": {
    "ExecuteTime": {
     "end_time": "2024-03-10T21:07:36.424348600Z",
     "start_time": "2024-03-10T21:07:36.388055Z"
    }
   },
   "outputs": [],
   "source": [
    "start_date = pd.to_datetime('1996-11-30', format = '%Y-%m-%d')\n",
    "\n",
    "end_date = pd.to_datetime('2022-12-31', format = '%Y-%m-%d')\n",
    "\n",
    "# start_date = pd.to_datetime('2006-05-31', format = '%Y-%m-%d')\n",
    "\n",
    "# end_date = pd.to_datetime('2022-12-31', format = '%Y-%m-%d')\n",
    "\n",
    "factors = ('Mkt-RF', 'RF')\n",
    "\n",
    "factorRet = pd.read_pickle('flat_files/factorRet.pkl')\n",
    "factorRet = factorRet.loc[start_date:end_date]\n",
    "#factorRet = get_monthly_factors(factors, start_date, end_date, Database)\n",
    "\n",
    "factorRet = factorRet.droplevel(0, axis = 1)\n",
    "factorRet.columns = [col.strip() for col in factorRet.columns]"
   ]
  },
  {
   "cell_type": "code",
   "execution_count": 6,
   "metadata": {
    "ExecuteTime": {
     "end_time": "2024-03-10T21:07:36.495182800Z",
     "start_time": "2024-03-10T21:07:36.401510600Z"
    }
   },
   "outputs": [],
   "source": [
    "adjClose = adjClose[start_date:end_date]\n",
    "daily_adjClose = daily_adjClose[start_date:end_date]\n",
    "idx = pd.IndexSlice\n",
    "ContextualInfo = ContextualInfo.loc[idx[start_date:end_date, :], :]"
   ]
  },
  {
   "cell_type": "code",
   "execution_count": 7,
   "metadata": {
    "ExecuteTime": {
     "end_time": "2024-03-10T21:07:36.510705200Z",
     "start_time": "2024-03-10T21:07:36.497237300Z"
    }
   },
   "outputs": [],
   "source": [
    "# Initial budget to invest ($100,000)\n",
    "initialVal = 100000\n",
    "\n",
    "# Length of investment period (in months) - but actually units of data\n",
    "investPeriod = 6\n",
    "\n",
    "# divide the factor returns by 100\n",
    "factorRet = factorRet/100\n",
    "\n",
    "#rf and factor returns\n",
    "#drop the first observation to align the dataset with the returns data that will\n",
    "#result\n",
    "factorRet = factorRet.iloc[1:, :]\n",
    "\n",
    "#rf and factor returns\n",
    "riskFree = factorRet['RF']\n",
    "factorRet = factorRet.loc[:,factorRet.columns != 'RF'];"
   ]
  },
  {
   "cell_type": "code",
   "execution_count": 8,
   "metadata": {
    "ExecuteTime": {
     "end_time": "2024-03-10T21:07:36.527485600Z",
     "start_time": "2024-03-10T21:07:36.510705200Z"
    }
   },
   "outputs": [],
   "source": [
    "#Identify the tickers and the dates\n",
    "tickers = adjClose.columns\n",
    "dates   = factorRet.index"
   ]
  },
  {
   "cell_type": "code",
   "execution_count": 9,
   "metadata": {
    "ExecuteTime": {
     "end_time": "2024-03-10T21:07:36.540908400Z",
     "start_time": "2024-03-10T21:07:36.527485600Z"
    }
   },
   "outputs": [],
   "source": [
    "# Calculate the stocks monthly excess returns\n",
    "# pct change and drop the first null observation\n",
    "returns = adjClose.pct_change(1).iloc[1:, :]\n",
    "returns = returns  - np.diag(riskFree.values) @ np.ones_like(returns.values) # risk adjusted returns\n",
    "# Align the price table to the asset and factor returns tables by discarding the first observation.\n",
    "adjClose = adjClose.iloc[1:,:]"
   ]
  },
  {
   "cell_type": "code",
   "execution_count": 10,
   "metadata": {
    "ExecuteTime": {
     "end_time": "2024-03-10T21:07:36.557382600Z",
     "start_time": "2024-03-10T21:07:36.543976400Z"
    }
   },
   "outputs": [],
   "source": [
    "assert adjClose.index[0] == returns.index[0]\n",
    "assert adjClose.index[0] == factorRet.index[0]"
   ]
  },
  {
   "cell_type": "markdown",
   "metadata": {},
   "source": [
    "# 2. Run your program\n",
    "\n",
    "This section will run your Project1_Function in a loop. The data will be loaded progressively as a growing window of historical observations.\n",
    "Rebalancing will take place after every loop\n",
    "\n",
    "### 2.1 Some Standard Allocation Strategies"
   ]
  },
  {
   "cell_type": "code",
   "execution_count": 11,
   "metadata": {
    "ExecuteTime": {
     "end_time": "2024-03-10T21:07:38.238996300Z",
     "start_time": "2024-03-10T21:07:38.226649Z"
    }
   },
   "outputs": [],
   "source": [
    "# Some strategies (uncomment this or the next cell to pick a strategy to test)\n",
    "# Strategy = general_strategy(sample_estimator, MVO, NumObs=48)  #the general strategy object takes an estimator function and an optimizer function\n",
    "#                                                                #the only constraint is that the estimators outputs are the optimizers inputs\n",
    "# investor preferences (static throughout the backtest)\n",
    "run = 'SunJan212024'\n",
    "hyperparam_search = False # True if model has hyperparams\n",
    "optimizer = ClassWgtSVMMVO # CardMVO , MVO\n",
    "estimator = exponential_weighted_estimator_shrinkage #\n",
    "EstNumObs = 750\n",
    "k = 6*20 #estimation horizon\n",
    "alpha= 1 - 0.990 #estimation decay\n",
    "return_premium = 0.25 #optimization premium\n",
    "\n",
    "turnover_constraints = True\n",
    "turnover_limit = 0.75 # 0.75, 1, 1.25\n",
    "cardinality_ratio = 0.1 #optimization\n",
    "\n",
    "MipGap = 0.05 # for portfolio optimizer\n",
    "limit_time = 20 # for portfolio optimizer\n",
    "\n",
    "target_return_strategy = premium_target # for portfolio optimizer to calculate return target\n",
    "# mean_target, premium_target, ticker_return_target\n",
    "target_return_strategy_args = ['premium'] # args for the return strategy\n",
    "\n",
    "bigMStrategy = ClassWgtHyperparameterBigMStrategyV2 #objectiveBigMStrategy #objectiveBigMStrategyTightening , objectiveBigMStrategy\n",
    "\n",
    "bigM_limit_time=20 # for the feasible solution used to calculate big M\n",
    "bigM_MipGap=0.05 # for the feasible solution used to calculate big M\n",
    "bigM_SolutionLimit=10 # for the feasible solution used to calculate big <\n",
    "\n",
    "SkipSOCP = True # flag to skip the SOCP\n",
    "tightening_iter_lim = 1 # number of iterations of tightening to do\n",
    "\n",
    "SVMMVO_bigM_time_limit = 5 # for computing a better solution in the tightening strategy\n",
    "SVMMVO_MipGap=0.1 # for computing a better solution in the tightening strategy\n",
    "SVMMVO_SolutionLimit=5 # for computing a better solution in the tightening strategy\n",
    "\n",
    "SOCP_limit_time=10 # time limit for the SOCP's\n",
    "\n",
    "ticker_index = tickers.get_loc(ticker_str) # the ticker we want to compare to if\n",
    "#  we are using the ticker_return_target strategy\n",
    "\n",
    "q = 20 #subset of features\n",
    "\n",
    "C = 0.1 # separation importance\n",
    "epsilon = 0.1 # regularization amount for SVM\n",
    "\n",
    "separable = False # do not restrict the hyperplane to be separable\n",
    "\n",
    "LogToConsole = False # display optimization results in the console\n",
    "Verbose = False # print statements\n",
    "\n",
    "hyperparams = {'C': list(np.geomspace(0.1, 100, 4)), 'epsilon': list(np.geomspace(0.1, 100, 4))} # hyperparams for hyperparam search\n",
    "#q_alpha = 0.3187 # alpha for Q(t, a) = (1 - q_alpha) Q(t-1. a) + R(t, a)\n",
    "q_alpha = 0.6838\n",
    "\n",
    "kappa = 1.6 # 10 % risk/turnover tolerance plan: 0.1, 0.2, 0.4, 0.8, 1.6 (0.6, 1.0)\n",
    "\n",
    "investor_preferences = {'k':k, # horizon\n",
    "                        'alpha':alpha, # decay\n",
    "                        'premium':return_premium, # return premium preference\n",
    "                        'EstNumObs':EstNumObs,\n",
    "                        'ticker_index':ticker_index, # benchmark index for comparison used in place of return premium depending on the investors function to set r_min\n",
    "                        'target_return_strategy':target_return_strategy, # strategy for setting return\n",
    "                        'target_return_strategy_args': target_return_strategy_args, # args for return setting strategy\n",
    "                        'turnover_limit':turnover_limit, # turnover limit\n",
    "                        'turnover_constraints':turnover_constraints, # turnover limit choice (Y/N)\n",
    "                        'cardinality_ratio': cardinality_ratio, # Pct of assets to invest in\n",
    "                        'MipGap' : MipGap, 'limit_time':limit_time, # problem solving limits\n",
    "    \n",
    "                        'bigMStrategy':bigMStrategy,\n",
    "                        'bigM_limit_time':bigM_limit_time,\n",
    "                        'bigM_MipGap':bigM_MipGap,\n",
    "                        'bigM_SolutionLimit':bigM_SolutionLimit,\n",
    "\n",
    "                        'SkipSOCP':SkipSOCP,\n",
    "                        'tightening_iter_lim':tightening_iter_lim,\n",
    "\n",
    "                        'SVMMVO_bigM_time_limit':SVMMVO_bigM_time_limit,\n",
    "                        'SVMMVO_MipGap':SVMMVO_MipGap,\n",
    "                        'SVMMVO_SolutionLimit':SVMMVO_SolutionLimit,\n",
    "\n",
    "                        'SOCP_limit_time':SOCP_limit_time,\n",
    "                        'q':q,\n",
    "                        'C':C,\n",
    "                        'epsilon':epsilon,\n",
    "                        'separable':separable,\n",
    "                        'LogToConsole':LogToConsole,\n",
    "                        'Verbose':Verbose,\n",
    "                        'hyperparams':hyperparams,\n",
    "                        'q_alpha':q_alpha,\n",
    "                        'kappa':kappa}\n"
   ]
  },
  {
   "cell_type": "markdown",
   "metadata": {},
   "source": [
    "\n"
   ]
  },
  {
   "cell_type": "code",
   "execution_count": 12,
   "metadata": {
    "ExecuteTime": {
     "end_time": "2024-03-10T21:07:40.707688200Z",
     "start_time": "2024-03-10T21:07:39.544877Z"
    }
   },
   "outputs": [
    {
     "name": "stdout",
     "output_type": "stream",
     "text": [
      "Experiments//SP//ClassWgtSVMMVO//20\n"
     ]
    }
   ],
   "source": [
    "if optimizer.__name__ == 'CardMVO':\n",
    "    path = \"Experiments//\"+universe+\"//\"+optimizer.__name__\n",
    "    print(path)\n",
    "elif optimizer.__name__ == 'SVMMVO':\n",
    "    path = \"Experiments//\"+universe+\"//\"+optimizer.__name__+\"//\"+str(q)\n",
    "    print(path)\n",
    "elif optimizer.__name__ == 'ClassWgtSVMMVO':\n",
    "    path = \"Experiments//\"+universe+\"//\"+optimizer.__name__+\"//\"+str(q)\n",
    "    print(path)\n",
    "else:\n",
    "    raise Exception(\"Model Type not supported for these experiments\")\n",
    "df = init_dataframe(investor_preferences, path)"
   ]
  },
  {
   "cell_type": "code",
   "execution_count": 18,
   "metadata": {
    "pycharm": {
     "is_executing": true
    }
   },
   "outputs": [
    {
     "name": "stdout",
     "output_type": "stream",
     "text": [
      "Testing configuration  (0.4, 1.25, 0.2)\n",
      "Test Start 1998-12-31 00:00:00\n",
      "Test End 1999-05-31 00:00:00\n",
      "Calibration End 1998-12-30 00:00:00\n",
      "Set parameter TimeLimit to value 20\n",
      "Set parameter MIPGap to value 0.05\n",
      "Set parameter TimeLimit to value 20\n",
      "Set parameter FeasibilityTol to value 1e-08\n",
      "Set parameter TimeLimit to value 20\n",
      "Set parameter FeasibilityTol to value 1e-08\n",
      "Set parameter MIPGap to value 0.05\n",
      "Set parameter TimeLimit to value 20\n",
      "Set parameter MIPGap to value 0.05\n",
      "Set parameter TimeLimit to value 20\n",
      "Set parameter FeasibilityTol to value 1e-08\n",
      "Set parameter TimeLimit to value 20\n",
      "Set parameter FeasibilityTol to value 1e-08\n",
      "Set parameter MIPGap to value 0.05\n",
      "Set parameter TimeLimit to value 20\n",
      "Set parameter MIPGap to value 0.05\n",
      "Set parameter TimeLimit to value 20\n",
      "Set parameter FeasibilityTol to value 1e-08\n",
      "Set parameter TimeLimit to value 20\n",
      "Set parameter FeasibilityTol to value 1e-08\n",
      "Set parameter MIPGap to value 0.05\n",
      "Set parameter TimeLimit to value 20\n",
      "Set parameter MIPGap to value 0.05\n",
      "Set parameter TimeLimit to value 20\n",
      "Set parameter FeasibilityTol to value 1e-08\n",
      "Set parameter TimeLimit to value 20\n",
      "Set parameter FeasibilityTol to value 1e-08\n",
      "Set parameter MIPGap to value 0.05\n",
      "Set parameter TimeLimit to value 20\n",
      "Set parameter MIPGap to value 0.05\n",
      "Set parameter TimeLimit to value 20\n",
      "Set parameter FeasibilityTol to value 1e-08\n",
      "Set parameter TimeLimit to value 20\n",
      "Set parameter FeasibilityTol to value 1e-08\n",
      "Set parameter MIPGap to value 0.05\n",
      "Set parameter TimeLimit to value 20\n",
      "Set parameter MIPGap to value 0.05\n",
      "Set parameter TimeLimit to value 20\n",
      "Set parameter FeasibilityTol to value 1e-08\n",
      "Set parameter TimeLimit to value 20\n",
      "Set parameter FeasibilityTol to value 1e-08\n",
      "Set parameter MIPGap to value 0.05\n",
      "Set parameter TimeLimit to value 20\n",
      "Set parameter MIPGap to value 0.05\n",
      "Set parameter TimeLimit to value 20\n",
      "Set parameter FeasibilityTol to value 1e-08\n",
      "Set parameter TimeLimit to value 20\n",
      "Set parameter FeasibilityTol to value 1e-08\n",
      "Set parameter MIPGap to value 0.05\n",
      "Set parameter TimeLimit to value 20\n",
      "Set parameter MIPGap to value 0.05\n",
      "Set parameter TimeLimit to value 20\n",
      "Set parameter FeasibilityTol to value 1e-08\n",
      "Set parameter TimeLimit to value 20\n",
      "Set parameter FeasibilityTol to value 1e-08\n",
      "Set parameter MIPGap to value 0.05\n",
      "Set parameter TimeLimit to value 20\n",
      "Set parameter MIPGap to value 0.05\n",
      "Set parameter TimeLimit to value 20\n",
      "Set parameter FeasibilityTol to value 1e-08\n",
      "Set parameter TimeLimit to value 20\n",
      "Set parameter FeasibilityTol to value 1e-08\n",
      "Set parameter MIPGap to value 0.05\n",
      "Set parameter TimeLimit to value 20\n",
      "Set parameter MIPGap to value 0.05\n",
      "Set parameter TimeLimit to value 20\n",
      "Set parameter FeasibilityTol to value 1e-08\n",
      "Set parameter TimeLimit to value 20\n",
      "Set parameter FeasibilityTol to value 1e-08\n",
      "Set parameter MIPGap to value 0.05\n",
      "Set parameter TimeLimit to value 20\n",
      "Set parameter MIPGap to value 0.05\n",
      "Set parameter TimeLimit to value 20\n",
      "Set parameter FeasibilityTol to value 1e-08\n",
      "Set parameter TimeLimit to value 20\n",
      "Set parameter FeasibilityTol to value 1e-08\n",
      "Set parameter MIPGap to value 0.05\n",
      "Set parameter TimeLimit to value 20\n",
      "Set parameter MIPGap to value 0.05\n",
      "Set parameter TimeLimit to value 20\n",
      "Set parameter FeasibilityTol to value 1e-08\n",
      "Set parameter TimeLimit to value 20\n",
      "Set parameter FeasibilityTol to value 1e-08\n",
      "Set parameter MIPGap to value 0.05\n",
      "Set parameter TimeLimit to value 20\n",
      "Set parameter MIPGap to value 0.05\n",
      "Set parameter TimeLimit to value 20\n",
      "Set parameter FeasibilityTol to value 1e-08\n",
      "Set parameter TimeLimit to value 20\n",
      "Set parameter FeasibilityTol to value 1e-08\n",
      "Set parameter MIPGap to value 0.05\n",
      "Set parameter TimeLimit to value 20\n",
      "Set parameter MIPGap to value 0.05\n",
      "Set parameter TimeLimit to value 20\n",
      "Set parameter FeasibilityTol to value 1e-08\n",
      "Set parameter TimeLimit to value 20\n",
      "Set parameter FeasibilityTol to value 1e-08\n",
      "Set parameter MIPGap to value 0.05\n",
      "Set parameter TimeLimit to value 20\n",
      "Set parameter MIPGap to value 0.05\n",
      "Set parameter TimeLimit to value 20\n",
      "Set parameter FeasibilityTol to value 1e-08\n",
      "Set parameter TimeLimit to value 20\n",
      "Set parameter FeasibilityTol to value 1e-08\n",
      "Set parameter MIPGap to value 0.05\n",
      "Set parameter TimeLimit to value 20\n",
      "Set parameter MIPGap to value 0.05\n",
      "Set parameter TimeLimit to value 20\n",
      "Set parameter FeasibilityTol to value 1e-08\n",
      "Set parameter TimeLimit to value 20\n",
      "Set parameter FeasibilityTol to value 1e-08\n",
      "Set parameter MIPGap to value 0.05\n",
      "Set parameter TimeLimit to value 20\n",
      "Set parameter MIPGap to value 0.05\n",
      "Set parameter TimeLimit to value 20\n",
      "Set parameter FeasibilityTol to value 1e-08\n",
      "Set parameter TimeLimit to value 20\n",
      "Set parameter FeasibilityTol to value 1e-08\n",
      "Set parameter MIPGap to value 0.05\n",
      "Set parameter TimeLimit to value 20\n",
      "Set parameter MIPGap to value 0.05\n",
      "Set parameter TimeLimit to value 20\n",
      "Set parameter FeasibilityTol to value 1e-08\n",
      "Set parameter TimeLimit to value 20\n",
      "Set parameter FeasibilityTol to value 1e-08\n",
      "Set parameter MIPGap to value 0.05\n",
      "Set parameter TimeLimit to value 20\n",
      "Set parameter MIPGap to value 0.05\n",
      "Set parameter TimeLimit to value 20\n",
      "Set parameter FeasibilityTol to value 1e-08\n",
      "Set parameter TimeLimit to value 20\n",
      "Set parameter FeasibilityTol to value 1e-08\n",
      "Set parameter MIPGap to value 0.05\n",
      "Set parameter TimeLimit to value 20\n",
      "Set parameter MIPGap to value 0.05\n",
      "Set parameter TimeLimit to value 20\n",
      "Set parameter FeasibilityTol to value 1e-08\n",
      "Set parameter TimeLimit to value 20\n",
      "Set parameter FeasibilityTol to value 1e-08\n",
      "Set parameter MIPGap to value 0.05\n",
      "Set parameter TimeLimit to value 20\n",
      "Set parameter MIPGap to value 0.05\n",
      "Set parameter TimeLimit to value 20\n",
      "Set parameter FeasibilityTol to value 1e-08\n",
      "Set parameter TimeLimit to value 20\n",
      "Set parameter FeasibilityTol to value 1e-08\n",
      "Set parameter MIPGap to value 0.05\n",
      "Set parameter TimeLimit to value 20\n",
      "Set parameter MIPGap to value 0.05\n",
      "Set parameter TimeLimit to value 20\n",
      "Set parameter FeasibilityTol to value 1e-08\n",
      "Set parameter TimeLimit to value 20\n",
      "Set parameter FeasibilityTol to value 1e-08\n",
      "Set parameter MIPGap to value 0.05\n",
      "Set parameter TimeLimit to value 20\n",
      "Set parameter MIPGap to value 0.05\n",
      "Set parameter TimeLimit to value 20\n",
      "Set parameter FeasibilityTol to value 1e-08\n",
      "Set parameter TimeLimit to value 20\n",
      "Set parameter FeasibilityTol to value 1e-08\n",
      "Set parameter MIPGap to value 0.05\n",
      "Set parameter TimeLimit to value 20\n",
      "Set parameter MIPGap to value 0.05\n",
      "Set parameter TimeLimit to value 20\n",
      "Set parameter FeasibilityTol to value 1e-08\n",
      "Set parameter TimeLimit to value 20\n",
      "Set parameter FeasibilityTol to value 1e-08\n",
      "Set parameter MIPGap to value 0.05\n",
      "Set parameter TimeLimit to value 20\n",
      "Set parameter MIPGap to value 0.05\n",
      "Set parameter TimeLimit to value 20\n",
      "Set parameter FeasibilityTol to value 1e-08\n",
      "Set parameter TimeLimit to value 20\n",
      "Set parameter FeasibilityTol to value 1e-08\n",
      "Set parameter MIPGap to value 0.05\n",
      "Set parameter TimeLimit to value 20\n",
      "Set parameter MIPGap to value 0.05\n",
      "Set parameter TimeLimit to value 20\n",
      "Set parameter FeasibilityTol to value 1e-08\n",
      "Set parameter TimeLimit to value 20\n",
      "Set parameter FeasibilityTol to value 1e-08\n",
      "Set parameter MIPGap to value 0.05\n",
      "Set parameter TimeLimit to value 20\n",
      "Set parameter MIPGap to value 0.05\n",
      "Set parameter TimeLimit to value 20\n",
      "Set parameter FeasibilityTol to value 1e-08\n",
      "Set parameter TimeLimit to value 20\n",
      "Set parameter FeasibilityTol to value 1e-08\n",
      "Set parameter MIPGap to value 0.05\n",
      "Set parameter TimeLimit to value 20\n",
      "Set parameter MIPGap to value 0.05\n",
      "Set parameter TimeLimit to value 20\n",
      "Set parameter FeasibilityTol to value 1e-08\n",
      "Set parameter TimeLimit to value 20\n",
      "Set parameter FeasibilityTol to value 1e-08\n",
      "Set parameter MIPGap to value 0.05\n",
      "Set parameter TimeLimit to value 20\n",
      "Set parameter MIPGap to value 0.05\n",
      "Set parameter TimeLimit to value 20\n",
      "Set parameter FeasibilityTol to value 1e-08\n",
      "Set parameter TimeLimit to value 20\n",
      "Set parameter FeasibilityTol to value 1e-08\n",
      "Set parameter MIPGap to value 0.05\n",
      "Set parameter TimeLimit to value 20\n",
      "Set parameter MIPGap to value 0.05\n",
      "Set parameter TimeLimit to value 20\n",
      "Set parameter FeasibilityTol to value 1e-08\n",
      "Set parameter TimeLimit to value 20\n",
      "Set parameter FeasibilityTol to value 1e-08\n",
      "Set parameter MIPGap to value 0.05\n",
      "Set parameter TimeLimit to value 20\n",
      "Set parameter MIPGap to value 0.05\n",
      "Set parameter TimeLimit to value 20\n",
      "Set parameter FeasibilityTol to value 1e-08\n",
      "Set parameter TimeLimit to value 20\n",
      "Set parameter FeasibilityTol to value 1e-08\n",
      "Set parameter MIPGap to value 0.05\n",
      "Set parameter TimeLimit to value 20\n",
      "Set parameter MIPGap to value 0.05\n",
      "Set parameter TimeLimit to value 20\n",
      "Set parameter FeasibilityTol to value 1e-08\n",
      "Set parameter TimeLimit to value 20\n",
      "Set parameter FeasibilityTol to value 1e-08\n",
      "Set parameter MIPGap to value 0.05\n",
      "Set parameter TimeLimit to value 20\n",
      "Set parameter MIPGap to value 0.05\n",
      "Set parameter TimeLimit to value 20\n",
      "Set parameter FeasibilityTol to value 1e-08\n",
      "Set parameter TimeLimit to value 20\n",
      "Set parameter FeasibilityTol to value 1e-08\n",
      "Set parameter MIPGap to value 0.05\n",
      "Set parameter TimeLimit to value 20\n",
      "Set parameter MIPGap to value 0.05\n",
      "Set parameter TimeLimit to value 20\n",
      "Set parameter FeasibilityTol to value 1e-08\n",
      "Set parameter TimeLimit to value 20\n",
      "Set parameter FeasibilityTol to value 1e-08\n",
      "Set parameter MIPGap to value 0.05\n",
      "Set parameter TimeLimit to value 20\n",
      "Set parameter MIPGap to value 0.05\n",
      "Set parameter TimeLimit to value 20\n",
      "Set parameter FeasibilityTol to value 1e-08\n",
      "Set parameter TimeLimit to value 20\n",
      "Set parameter FeasibilityTol to value 1e-08\n",
      "Set parameter MIPGap to value 0.05\n",
      "Set parameter TimeLimit to value 20\n",
      "Set parameter MIPGap to value 0.05\n",
      "Set parameter TimeLimit to value 20\n",
      "Set parameter FeasibilityTol to value 1e-08\n",
      "Set parameter TimeLimit to value 20\n",
      "Set parameter FeasibilityTol to value 1e-08\n",
      "Set parameter MIPGap to value 0.05\n",
      "Set parameter TimeLimit to value 20\n",
      "Set parameter MIPGap to value 0.05\n",
      "Set parameter TimeLimit to value 20\n",
      "Set parameter FeasibilityTol to value 1e-08\n",
      "Set parameter TimeLimit to value 20\n",
      "Set parameter FeasibilityTol to value 1e-08\n",
      "Set parameter MIPGap to value 0.05\n",
      "Set parameter TimeLimit to value 20\n",
      "Set parameter MIPGap to value 0.05\n",
      "Set parameter TimeLimit to value 20\n",
      "Set parameter FeasibilityTol to value 1e-08\n",
      "Set parameter TimeLimit to value 20\n",
      "Set parameter FeasibilityTol to value 1e-08\n",
      "Set parameter MIPGap to value 0.05\n",
      "Set parameter TimeLimit to value 20\n",
      "Set parameter MIPGap to value 0.05\n",
      "Set parameter TimeLimit to value 20\n",
      "Set parameter FeasibilityTol to value 1e-08\n",
      "Set parameter TimeLimit to value 20\n",
      "Set parameter FeasibilityTol to value 1e-08\n",
      "Set parameter MIPGap to value 0.05\n",
      "Set parameter TimeLimit to value 20\n",
      "Set parameter MIPGap to value 0.05\n",
      "Set parameter TimeLimit to value 20\n",
      "Set parameter FeasibilityTol to value 1e-08\n",
      "Set parameter TimeLimit to value 20\n",
      "Set parameter FeasibilityTol to value 1e-08\n",
      "Set parameter MIPGap to value 0.05\n",
      "Set parameter TimeLimit to value 20\n",
      "Set parameter MIPGap to value 0.05\n",
      "Set parameter TimeLimit to value 20\n",
      "Set parameter FeasibilityTol to value 1e-08\n",
      "Set parameter TimeLimit to value 20\n",
      "Set parameter FeasibilityTol to value 1e-08\n",
      "Set parameter MIPGap to value 0.05\n",
      "Set parameter TimeLimit to value 20\n",
      "Set parameter MIPGap to value 0.05\n",
      "Set parameter TimeLimit to value 20\n",
      "Set parameter FeasibilityTol to value 1e-08\n",
      "Set parameter TimeLimit to value 20\n",
      "Set parameter FeasibilityTol to value 1e-08\n",
      "Set parameter MIPGap to value 0.05\n",
      "Set parameter TimeLimit to value 20\n",
      "Set parameter MIPGap to value 0.05\n",
      "Set parameter TimeLimit to value 20\n",
      "Set parameter FeasibilityTol to value 1e-08\n",
      "Set parameter TimeLimit to value 20\n",
      "Set parameter FeasibilityTol to value 1e-08\n",
      "Set parameter MIPGap to value 0.05\n",
      "Set parameter TimeLimit to value 20\n",
      "Set parameter MIPGap to value 0.05\n",
      "Set parameter TimeLimit to value 20\n",
      "Set parameter FeasibilityTol to value 1e-08\n",
      "Set parameter TimeLimit to value 20\n",
      "Set parameter FeasibilityTol to value 1e-08\n",
      "Set parameter MIPGap to value 0.05\n",
      "Set parameter TimeLimit to value 20\n",
      "Set parameter MIPGap to value 0.05\n",
      "Set parameter TimeLimit to value 20\n",
      "Set parameter FeasibilityTol to value 1e-08\n",
      "Set parameter TimeLimit to value 20\n",
      "Set parameter FeasibilityTol to value 1e-08\n",
      "Set parameter MIPGap to value 0.05\n",
      "Set parameter TimeLimit to value 20\n",
      "Set parameter MIPGap to value 0.05\n",
      "Set parameter TimeLimit to value 20\n",
      "Set parameter FeasibilityTol to value 1e-08\n",
      "Set parameter TimeLimit to value 20\n",
      "Set parameter FeasibilityTol to value 1e-08\n",
      "Set parameter MIPGap to value 0.05\n",
      "Set parameter TimeLimit to value 20\n",
      "Set parameter MIPGap to value 0.05\n",
      "Set parameter TimeLimit to value 20\n",
      "Set parameter FeasibilityTol to value 1e-08\n",
      "Set parameter TimeLimit to value 20\n",
      "Set parameter FeasibilityTol to value 1e-08\n",
      "Set parameter MIPGap to value 0.05\n",
      "Set parameter TimeLimit to value 20\n",
      "Set parameter MIPGap to value 0.05\n",
      "Set parameter TimeLimit to value 20\n",
      "Set parameter FeasibilityTol to value 1e-08\n",
      "Set parameter TimeLimit to value 20\n",
      "Set parameter FeasibilityTol to value 1e-08\n",
      "Set parameter MIPGap to value 0.05\n",
      "Completed configuration  (0.4, 1.25)\n"
     ]
    }
   ],
   "source": [
    "from IPython.display import clear_output\n",
    "\n",
    "kappas = [0.1, 0.2]\n",
    "cardinality_ratios = [0.2, 0.4] # includes mvo \n",
    "turnover_limits = [0.75, 1, 1.25]\n",
    "return_premiums = [0.25, 0.5, 1, 1.5]\n",
    "\n",
    "for cardinality_ratio, turnover_limit, kappa, premium in product(cardinality_ratios, turnover_limits, kappas, return_premiums):\n",
    "    \n",
    "    clear_output(wait=True)\n",
    "\n",
    "    # initialize strategy\n",
    "    investor_preferences['turnover_limit'] = turnover_limit # turnover limit\n",
    "    investor_preferences['cardinality_ratio'] = cardinality_ratio\n",
    "    investor_preferences['kappa'] = kappa\n",
    "    investor_preferences['premium'] = premium\n",
    "    \n",
    "    Strategy = general_strategy(estimator, optimizer,\n",
    "                                investor_preferences = investor_preferences)\n",
    "\n",
    "    Strategy.extract_estimation_info = populate_exponential_weighted_estimator_shrinkage\n",
    "    Strategy.extract_optimization_info = populate_kwargs\n",
    "\n",
    "    env = environment()\n",
    "\n",
    "    # Start of out-of-sample test period\n",
    "    testStart = returns.index[0] + pd.offsets.DateOffset(years=2)\n",
    "\n",
    "    # End of the first investment period\n",
    "    # testEnd = testStart + pd.offsets.DateOffset(months=investPeriod) - pd.offsets.DateOffset(days = 1)\n",
    "    testEnd = testStart + pd.offsets.MonthBegin(investPeriod) - pd.offsets.DateOffset(days = 1)\n",
    "\n",
    "    # End of calibration period\n",
    "    calEnd = testStart -  pd.offsets.DateOffset(days = 1)\n",
    "    print(\"Testing configuration \", (cardinality_ratio, turnover_limit, kappa))\n",
    "    print(\"Test Start\", testStart)\n",
    "    print(\"Test End\", testEnd)\n",
    "    print(\"Calibration End\", calEnd)\n",
    "\n",
    "    # Total number of investment periods\n",
    "    NoPeriods = math.ceil((returns.index[-1].to_period('M') - testStart.to_period('M')).n / investPeriod)\n",
    "    n = len(tickers)\n",
    "\n",
    "    portfValue, elapsed_time, turnover, x, backtest_results, hyperparam_hist = execute_backtest(env, Strategy, tickers, returns, factorRet, ContextualInfo,\n",
    "                     adjClose, daily_adjClose, NoPeriods, testStart, testEnd, calEnd, initialVal,\n",
    "                     investPeriod, hyperparam_search = hyperparam_search)\n",
    "    print(\"Completed configuration \", (cardinality_ratio, turnover_limit))\n",
    "    df, uid = add_to_data_dict(path, df, run, estimator,\n",
    "                 optimizer, universe,\n",
    "                 imputation_method, ticker_str,\n",
    "                 hyperparam_search, NoPeriods, investor_preferences)\n",
    "\n",
    "    export_experimental_results(path, uid, portfValue, elapsed_time, x, turnover)\n",
    "    export_dict(path, uid, backtest_results, 'backtest_results')\n",
    "    export_dict(path, uid, hyperparam_hist, 'hyperparam_hist')\n",
    "\n",
    "    del env\n",
    "    del Strategy"
   ]
  },
  {
   "cell_type": "code",
   "execution_count": 19,
   "metadata": {
    "pycharm": {
     "is_executing": true
    },
    "ExecuteTime": {
     "end_time": "2024-03-21T13:47:32.955983100Z",
     "start_time": "2024-03-21T13:47:32.932273900Z"
    }
   },
   "outputs": [],
   "source": [
    "curr_df = pd.read_pickle(path+\"//data_dictionary.pkl\")\n",
    "# add experiment info to the data dict\n",
    "df = pd.concat([df, curr_df], axis = 0)\n",
    "\n",
    "df.drop_duplicates(inplace = True)\n",
    "df.to_pickle(path+\"//data_dictionary.pkl\")"
   ]
  },
  {
   "cell_type": "code",
   "execution_count": 20,
   "metadata": {
    "ExecuteTime": {
     "end_time": "2024-03-21T13:47:33.225478300Z",
     "start_time": "2024-03-21T13:47:33.215239900Z"
    }
   },
   "outputs": [
    {
     "data": {
      "text/plain": "array(['0.2', '0.4', '0.09', '0.1', '0.05', '0.07', '0.02', '0.03', '0.6',\n       '0.8'], dtype=object)"
     },
     "execution_count": 20,
     "metadata": {},
     "output_type": "execute_result"
    }
   ],
   "source": [
    "df.cardinality_ratio.unique()"
   ]
  },
  {
   "cell_type": "code",
   "execution_count": 21,
   "metadata": {
    "ExecuteTime": {
     "end_time": "2024-03-21T13:47:33.415991900Z",
     "start_time": "2024-03-21T13:47:33.396486600Z"
    }
   },
   "outputs": [
    {
     "data": {
      "text/plain": "array(['0.6838'], dtype=object)"
     },
     "execution_count": 21,
     "metadata": {},
     "output_type": "execute_result"
    }
   ],
   "source": [
    "df.q_alpha.unique()"
   ]
  },
  {
   "cell_type": "code",
   "execution_count": 22,
   "metadata": {
    "ExecuteTime": {
     "end_time": "2024-03-21T13:47:33.864978100Z",
     "start_time": "2024-03-21T13:47:33.839837300Z"
    }
   },
   "outputs": [
    {
     "data": {
      "text/plain": "                                                                               uid  \\\n940c140e520c7c80fb3812c96504b17d0d0cab95  940c140e520c7c80fb3812c96504b17d0d0cab95   \nafac8878940d421e6b7cf2f1fc2eaa7a1adc88da  afac8878940d421e6b7cf2f1fc2eaa7a1adc88da   \n58d46c04cbd53a56435753d1b4df05f1cbb6f77e  58d46c04cbd53a56435753d1b4df05f1cbb6f77e   \nb1a91018880fd85af7395fc104c8d8114cce8d7a  b1a91018880fd85af7395fc104c8d8114cce8d7a   \nd577d59c8c2d7fe16f41029080dd06ae65daf6d9  d577d59c8c2d7fe16f41029080dd06ae65daf6d9   \n...                                                                            ...   \n7180adef3ff00a1568e42fa8805046b5084bd951  7180adef3ff00a1568e42fa8805046b5084bd951   \n6fe4fb858f0ea7f86cba076ac17abde3a6c53831  6fe4fb858f0ea7f86cba076ac17abde3a6c53831   \nf3cd93887eacdbb576710dfbf98ed847ba5d93a6  f3cd93887eacdbb576710dfbf98ed847ba5d93a6   \n301bb8596c88f0f863da2298ead8f5d9818838ee  301bb8596c88f0f863da2298ead8f5d9818838ee   \nea8f5cefcc8da052c0b56006f6a73b3c198909ed  ea8f5cefcc8da052c0b56006f6a73b3c198909ed   \n\n                                                                         estimator  \\\n940c140e520c7c80fb3812c96504b17d0d0cab95  exponential_weighted_estimator_shrinkage   \nafac8878940d421e6b7cf2f1fc2eaa7a1adc88da  exponential_weighted_estimator_shrinkage   \n58d46c04cbd53a56435753d1b4df05f1cbb6f77e  exponential_weighted_estimator_shrinkage   \nb1a91018880fd85af7395fc104c8d8114cce8d7a  exponential_weighted_estimator_shrinkage   \nd577d59c8c2d7fe16f41029080dd06ae65daf6d9  exponential_weighted_estimator_shrinkage   \n...                                                                            ...   \n7180adef3ff00a1568e42fa8805046b5084bd951  exponential_weighted_estimator_shrinkage   \n6fe4fb858f0ea7f86cba076ac17abde3a6c53831  exponential_weighted_estimator_shrinkage   \nf3cd93887eacdbb576710dfbf98ed847ba5d93a6  exponential_weighted_estimator_shrinkage   \n301bb8596c88f0f863da2298ead8f5d9818838ee  exponential_weighted_estimator_shrinkage   \nea8f5cefcc8da052c0b56006f6a73b3c198909ed  exponential_weighted_estimator_shrinkage   \n\n                                               optimizer universe  \\\n940c140e520c7c80fb3812c96504b17d0d0cab95  ClassWgtSVMMVO       SP   \nafac8878940d421e6b7cf2f1fc2eaa7a1adc88da  ClassWgtSVMMVO       SP   \n58d46c04cbd53a56435753d1b4df05f1cbb6f77e  ClassWgtSVMMVO       SP   \nb1a91018880fd85af7395fc104c8d8114cce8d7a  ClassWgtSVMMVO       SP   \nd577d59c8c2d7fe16f41029080dd06ae65daf6d9  ClassWgtSVMMVO       SP   \n...                                                  ...      ...   \n7180adef3ff00a1568e42fa8805046b5084bd951  ClassWgtSVMMVO       SP   \n6fe4fb858f0ea7f86cba076ac17abde3a6c53831  ClassWgtSVMMVO       SP   \nf3cd93887eacdbb576710dfbf98ed847ba5d93a6  ClassWgtSVMMVO       SP   \n301bb8596c88f0f863da2298ead8f5d9818838ee  ClassWgtSVMMVO       SP   \nea8f5cefcc8da052c0b56006f6a73b3c198909ed  ClassWgtSVMMVO       SP   \n\n                                         imputation_method ticker_str  \\\n940c140e520c7c80fb3812c96504b17d0d0cab95      Multivariate       AAPL   \nafac8878940d421e6b7cf2f1fc2eaa7a1adc88da      Multivariate       AAPL   \n58d46c04cbd53a56435753d1b4df05f1cbb6f77e      Multivariate       AAPL   \nb1a91018880fd85af7395fc104c8d8114cce8d7a      Multivariate       AAPL   \nd577d59c8c2d7fe16f41029080dd06ae65daf6d9      Multivariate       AAPL   \n...                                                    ...        ...   \n7180adef3ff00a1568e42fa8805046b5084bd951      Multivariate       AAPL   \n6fe4fb858f0ea7f86cba076ac17abde3a6c53831      Multivariate       AAPL   \nf3cd93887eacdbb576710dfbf98ed847ba5d93a6      Multivariate       AAPL   \n301bb8596c88f0f863da2298ead8f5d9818838ee      Multivariate       AAPL   \nea8f5cefcc8da052c0b56006f6a73b3c198909ed      Multivariate       AAPL   \n\n                                         hyperparam_search NoPeriods  \\\n940c140e520c7c80fb3812c96504b17d0d0cab95             False        48   \nafac8878940d421e6b7cf2f1fc2eaa7a1adc88da             False        48   \n58d46c04cbd53a56435753d1b4df05f1cbb6f77e             False        48   \nb1a91018880fd85af7395fc104c8d8114cce8d7a             False        48   \nd577d59c8c2d7fe16f41029080dd06ae65daf6d9             False        48   \n...                                                    ...       ...   \n7180adef3ff00a1568e42fa8805046b5084bd951             False        48   \n6fe4fb858f0ea7f86cba076ac17abde3a6c53831             False        48   \nf3cd93887eacdbb576710dfbf98ed847ba5d93a6             False        48   \n301bb8596c88f0f863da2298ead8f5d9818838ee             False        48   \nea8f5cefcc8da052c0b56006f6a73b3c198909ed             False        48   \n\n                                                   run    C  ... premium   q  \\\n940c140e520c7c80fb3812c96504b17d0d0cab95  SunJan212024  0.1  ...    0.25  20   \nafac8878940d421e6b7cf2f1fc2eaa7a1adc88da  SunJan212024  0.1  ...     0.5  20   \n58d46c04cbd53a56435753d1b4df05f1cbb6f77e  SunJan212024  0.1  ...       1  20   \nb1a91018880fd85af7395fc104c8d8114cce8d7a  SunJan212024  0.1  ...     1.5  20   \nd577d59c8c2d7fe16f41029080dd06ae65daf6d9  SunJan212024  0.1  ...    0.25  20   \n...                                                ...  ...  ...     ...  ..   \n7180adef3ff00a1568e42fa8805046b5084bd951  SunJan212024  0.1  ...     1.5  20   \n6fe4fb858f0ea7f86cba076ac17abde3a6c53831  SunJan212024  0.1  ...    0.25  20   \nf3cd93887eacdbb576710dfbf98ed847ba5d93a6  SunJan212024  0.1  ...     0.5  20   \n301bb8596c88f0f863da2298ead8f5d9818838ee  SunJan212024  0.1  ...       1  20   \nea8f5cefcc8da052c0b56006f6a73b3c198909ed  SunJan212024  0.1  ...     1.5  20   \n\n                                         q_alpha separable  \\\n940c140e520c7c80fb3812c96504b17d0d0cab95  0.6838     False   \nafac8878940d421e6b7cf2f1fc2eaa7a1adc88da  0.6838     False   \n58d46c04cbd53a56435753d1b4df05f1cbb6f77e  0.6838     False   \nb1a91018880fd85af7395fc104c8d8114cce8d7a  0.6838     False   \nd577d59c8c2d7fe16f41029080dd06ae65daf6d9  0.6838     False   \n...                                          ...       ...   \n7180adef3ff00a1568e42fa8805046b5084bd951  0.6838     False   \n6fe4fb858f0ea7f86cba076ac17abde3a6c53831  0.6838     False   \nf3cd93887eacdbb576710dfbf98ed847ba5d93a6  0.6838     False   \n301bb8596c88f0f863da2298ead8f5d9818838ee  0.6838     False   \nea8f5cefcc8da052c0b56006f6a73b3c198909ed  0.6838     False   \n\n                                         target_return_strategy  \\\n940c140e520c7c80fb3812c96504b17d0d0cab95         premium_target   \nafac8878940d421e6b7cf2f1fc2eaa7a1adc88da         premium_target   \n58d46c04cbd53a56435753d1b4df05f1cbb6f77e         premium_target   \nb1a91018880fd85af7395fc104c8d8114cce8d7a         premium_target   \nd577d59c8c2d7fe16f41029080dd06ae65daf6d9         premium_target   \n...                                                         ...   \n7180adef3ff00a1568e42fa8805046b5084bd951         premium_target   \n6fe4fb858f0ea7f86cba076ac17abde3a6c53831         premium_target   \nf3cd93887eacdbb576710dfbf98ed847ba5d93a6         premium_target   \n301bb8596c88f0f863da2298ead8f5d9818838ee         premium_target   \nea8f5cefcc8da052c0b56006f6a73b3c198909ed         premium_target   \n\n                                         target_return_strategy_args  \\\n940c140e520c7c80fb3812c96504b17d0d0cab95                 ['premium']   \nafac8878940d421e6b7cf2f1fc2eaa7a1adc88da                 ['premium']   \n58d46c04cbd53a56435753d1b4df05f1cbb6f77e                 ['premium']   \nb1a91018880fd85af7395fc104c8d8114cce8d7a                 ['premium']   \nd577d59c8c2d7fe16f41029080dd06ae65daf6d9                 ['premium']   \n...                                                              ...   \n7180adef3ff00a1568e42fa8805046b5084bd951                 ['premium']   \n6fe4fb858f0ea7f86cba076ac17abde3a6c53831                 ['premium']   \nf3cd93887eacdbb576710dfbf98ed847ba5d93a6                 ['premium']   \n301bb8596c88f0f863da2298ead8f5d9818838ee                 ['premium']   \nea8f5cefcc8da052c0b56006f6a73b3c198909ed                 ['premium']   \n\n                                         ticker_index tightening_iter_lim  \\\n940c140e520c7c80fb3812c96504b17d0d0cab95            0                   1   \nafac8878940d421e6b7cf2f1fc2eaa7a1adc88da            0                   1   \n58d46c04cbd53a56435753d1b4df05f1cbb6f77e            0                   1   \nb1a91018880fd85af7395fc104c8d8114cce8d7a            0                   1   \nd577d59c8c2d7fe16f41029080dd06ae65daf6d9            0                   1   \n...                                               ...                 ...   \n7180adef3ff00a1568e42fa8805046b5084bd951            0                   1   \n6fe4fb858f0ea7f86cba076ac17abde3a6c53831            0                   1   \nf3cd93887eacdbb576710dfbf98ed847ba5d93a6            0                   1   \n301bb8596c88f0f863da2298ead8f5d9818838ee            0                   1   \nea8f5cefcc8da052c0b56006f6a73b3c198909ed            0                   1   \n\n                                         turnover_constraints turnover_limit  \n940c140e520c7c80fb3812c96504b17d0d0cab95                 True           0.75  \nafac8878940d421e6b7cf2f1fc2eaa7a1adc88da                 True           0.75  \n58d46c04cbd53a56435753d1b4df05f1cbb6f77e                 True           0.75  \nb1a91018880fd85af7395fc104c8d8114cce8d7a                 True           0.75  \nd577d59c8c2d7fe16f41029080dd06ae65daf6d9                 True           0.75  \n...                                                       ...            ...  \n7180adef3ff00a1568e42fa8805046b5084bd951                 True           1.25  \n6fe4fb858f0ea7f86cba076ac17abde3a6c53831                 True           1.25  \nf3cd93887eacdbb576710dfbf98ed847ba5d93a6                 True           1.25  \n301bb8596c88f0f863da2298ead8f5d9818838ee                 True           1.25  \nea8f5cefcc8da052c0b56006f6a73b3c198909ed                 True           1.25  \n\n[552 rows x 40 columns]",
      "text/html": "<div>\n<style scoped>\n    .dataframe tbody tr th:only-of-type {\n        vertical-align: middle;\n    }\n\n    .dataframe tbody tr th {\n        vertical-align: top;\n    }\n\n    .dataframe thead th {\n        text-align: right;\n    }\n</style>\n<table border=\"1\" class=\"dataframe\">\n  <thead>\n    <tr style=\"text-align: right;\">\n      <th></th>\n      <th>uid</th>\n      <th>estimator</th>\n      <th>optimizer</th>\n      <th>universe</th>\n      <th>imputation_method</th>\n      <th>ticker_str</th>\n      <th>hyperparam_search</th>\n      <th>NoPeriods</th>\n      <th>run</th>\n      <th>C</th>\n      <th>...</th>\n      <th>premium</th>\n      <th>q</th>\n      <th>q_alpha</th>\n      <th>separable</th>\n      <th>target_return_strategy</th>\n      <th>target_return_strategy_args</th>\n      <th>ticker_index</th>\n      <th>tightening_iter_lim</th>\n      <th>turnover_constraints</th>\n      <th>turnover_limit</th>\n    </tr>\n  </thead>\n  <tbody>\n    <tr>\n      <th>940c140e520c7c80fb3812c96504b17d0d0cab95</th>\n      <td>940c140e520c7c80fb3812c96504b17d0d0cab95</td>\n      <td>exponential_weighted_estimator_shrinkage</td>\n      <td>ClassWgtSVMMVO</td>\n      <td>SP</td>\n      <td>Multivariate</td>\n      <td>AAPL</td>\n      <td>False</td>\n      <td>48</td>\n      <td>SunJan212024</td>\n      <td>0.1</td>\n      <td>...</td>\n      <td>0.25</td>\n      <td>20</td>\n      <td>0.6838</td>\n      <td>False</td>\n      <td>premium_target</td>\n      <td>['premium']</td>\n      <td>0</td>\n      <td>1</td>\n      <td>True</td>\n      <td>0.75</td>\n    </tr>\n    <tr>\n      <th>afac8878940d421e6b7cf2f1fc2eaa7a1adc88da</th>\n      <td>afac8878940d421e6b7cf2f1fc2eaa7a1adc88da</td>\n      <td>exponential_weighted_estimator_shrinkage</td>\n      <td>ClassWgtSVMMVO</td>\n      <td>SP</td>\n      <td>Multivariate</td>\n      <td>AAPL</td>\n      <td>False</td>\n      <td>48</td>\n      <td>SunJan212024</td>\n      <td>0.1</td>\n      <td>...</td>\n      <td>0.5</td>\n      <td>20</td>\n      <td>0.6838</td>\n      <td>False</td>\n      <td>premium_target</td>\n      <td>['premium']</td>\n      <td>0</td>\n      <td>1</td>\n      <td>True</td>\n      <td>0.75</td>\n    </tr>\n    <tr>\n      <th>58d46c04cbd53a56435753d1b4df05f1cbb6f77e</th>\n      <td>58d46c04cbd53a56435753d1b4df05f1cbb6f77e</td>\n      <td>exponential_weighted_estimator_shrinkage</td>\n      <td>ClassWgtSVMMVO</td>\n      <td>SP</td>\n      <td>Multivariate</td>\n      <td>AAPL</td>\n      <td>False</td>\n      <td>48</td>\n      <td>SunJan212024</td>\n      <td>0.1</td>\n      <td>...</td>\n      <td>1</td>\n      <td>20</td>\n      <td>0.6838</td>\n      <td>False</td>\n      <td>premium_target</td>\n      <td>['premium']</td>\n      <td>0</td>\n      <td>1</td>\n      <td>True</td>\n      <td>0.75</td>\n    </tr>\n    <tr>\n      <th>b1a91018880fd85af7395fc104c8d8114cce8d7a</th>\n      <td>b1a91018880fd85af7395fc104c8d8114cce8d7a</td>\n      <td>exponential_weighted_estimator_shrinkage</td>\n      <td>ClassWgtSVMMVO</td>\n      <td>SP</td>\n      <td>Multivariate</td>\n      <td>AAPL</td>\n      <td>False</td>\n      <td>48</td>\n      <td>SunJan212024</td>\n      <td>0.1</td>\n      <td>...</td>\n      <td>1.5</td>\n      <td>20</td>\n      <td>0.6838</td>\n      <td>False</td>\n      <td>premium_target</td>\n      <td>['premium']</td>\n      <td>0</td>\n      <td>1</td>\n      <td>True</td>\n      <td>0.75</td>\n    </tr>\n    <tr>\n      <th>d577d59c8c2d7fe16f41029080dd06ae65daf6d9</th>\n      <td>d577d59c8c2d7fe16f41029080dd06ae65daf6d9</td>\n      <td>exponential_weighted_estimator_shrinkage</td>\n      <td>ClassWgtSVMMVO</td>\n      <td>SP</td>\n      <td>Multivariate</td>\n      <td>AAPL</td>\n      <td>False</td>\n      <td>48</td>\n      <td>SunJan212024</td>\n      <td>0.1</td>\n      <td>...</td>\n      <td>0.25</td>\n      <td>20</td>\n      <td>0.6838</td>\n      <td>False</td>\n      <td>premium_target</td>\n      <td>['premium']</td>\n      <td>0</td>\n      <td>1</td>\n      <td>True</td>\n      <td>0.75</td>\n    </tr>\n    <tr>\n      <th>...</th>\n      <td>...</td>\n      <td>...</td>\n      <td>...</td>\n      <td>...</td>\n      <td>...</td>\n      <td>...</td>\n      <td>...</td>\n      <td>...</td>\n      <td>...</td>\n      <td>...</td>\n      <td>...</td>\n      <td>...</td>\n      <td>...</td>\n      <td>...</td>\n      <td>...</td>\n      <td>...</td>\n      <td>...</td>\n      <td>...</td>\n      <td>...</td>\n      <td>...</td>\n      <td>...</td>\n    </tr>\n    <tr>\n      <th>7180adef3ff00a1568e42fa8805046b5084bd951</th>\n      <td>7180adef3ff00a1568e42fa8805046b5084bd951</td>\n      <td>exponential_weighted_estimator_shrinkage</td>\n      <td>ClassWgtSVMMVO</td>\n      <td>SP</td>\n      <td>Multivariate</td>\n      <td>AAPL</td>\n      <td>False</td>\n      <td>48</td>\n      <td>SunJan212024</td>\n      <td>0.1</td>\n      <td>...</td>\n      <td>1.5</td>\n      <td>20</td>\n      <td>0.6838</td>\n      <td>False</td>\n      <td>premium_target</td>\n      <td>['premium']</td>\n      <td>0</td>\n      <td>1</td>\n      <td>True</td>\n      <td>1.25</td>\n    </tr>\n    <tr>\n      <th>6fe4fb858f0ea7f86cba076ac17abde3a6c53831</th>\n      <td>6fe4fb858f0ea7f86cba076ac17abde3a6c53831</td>\n      <td>exponential_weighted_estimator_shrinkage</td>\n      <td>ClassWgtSVMMVO</td>\n      <td>SP</td>\n      <td>Multivariate</td>\n      <td>AAPL</td>\n      <td>False</td>\n      <td>48</td>\n      <td>SunJan212024</td>\n      <td>0.1</td>\n      <td>...</td>\n      <td>0.25</td>\n      <td>20</td>\n      <td>0.6838</td>\n      <td>False</td>\n      <td>premium_target</td>\n      <td>['premium']</td>\n      <td>0</td>\n      <td>1</td>\n      <td>True</td>\n      <td>1.25</td>\n    </tr>\n    <tr>\n      <th>f3cd93887eacdbb576710dfbf98ed847ba5d93a6</th>\n      <td>f3cd93887eacdbb576710dfbf98ed847ba5d93a6</td>\n      <td>exponential_weighted_estimator_shrinkage</td>\n      <td>ClassWgtSVMMVO</td>\n      <td>SP</td>\n      <td>Multivariate</td>\n      <td>AAPL</td>\n      <td>False</td>\n      <td>48</td>\n      <td>SunJan212024</td>\n      <td>0.1</td>\n      <td>...</td>\n      <td>0.5</td>\n      <td>20</td>\n      <td>0.6838</td>\n      <td>False</td>\n      <td>premium_target</td>\n      <td>['premium']</td>\n      <td>0</td>\n      <td>1</td>\n      <td>True</td>\n      <td>1.25</td>\n    </tr>\n    <tr>\n      <th>301bb8596c88f0f863da2298ead8f5d9818838ee</th>\n      <td>301bb8596c88f0f863da2298ead8f5d9818838ee</td>\n      <td>exponential_weighted_estimator_shrinkage</td>\n      <td>ClassWgtSVMMVO</td>\n      <td>SP</td>\n      <td>Multivariate</td>\n      <td>AAPL</td>\n      <td>False</td>\n      <td>48</td>\n      <td>SunJan212024</td>\n      <td>0.1</td>\n      <td>...</td>\n      <td>1</td>\n      <td>20</td>\n      <td>0.6838</td>\n      <td>False</td>\n      <td>premium_target</td>\n      <td>['premium']</td>\n      <td>0</td>\n      <td>1</td>\n      <td>True</td>\n      <td>1.25</td>\n    </tr>\n    <tr>\n      <th>ea8f5cefcc8da052c0b56006f6a73b3c198909ed</th>\n      <td>ea8f5cefcc8da052c0b56006f6a73b3c198909ed</td>\n      <td>exponential_weighted_estimator_shrinkage</td>\n      <td>ClassWgtSVMMVO</td>\n      <td>SP</td>\n      <td>Multivariate</td>\n      <td>AAPL</td>\n      <td>False</td>\n      <td>48</td>\n      <td>SunJan212024</td>\n      <td>0.1</td>\n      <td>...</td>\n      <td>1.5</td>\n      <td>20</td>\n      <td>0.6838</td>\n      <td>False</td>\n      <td>premium_target</td>\n      <td>['premium']</td>\n      <td>0</td>\n      <td>1</td>\n      <td>True</td>\n      <td>1.25</td>\n    </tr>\n  </tbody>\n</table>\n<p>552 rows × 40 columns</p>\n</div>"
     },
     "execution_count": 22,
     "metadata": {},
     "output_type": "execute_result"
    }
   ],
   "source": [
    "df"
   ]
  },
  {
   "cell_type": "code",
   "outputs": [],
   "source": [],
   "metadata": {
    "collapsed": false
   }
  }
 ],
 "metadata": {
  "kernelspec": {
   "display_name": "Python 3 (ipykernel)",
   "language": "python",
   "name": "python3"
  },
  "language_info": {
   "codemirror_mode": {
    "name": "ipython",
    "version": 3
   },
   "file_extension": ".py",
   "mimetype": "text/x-python",
   "name": "python",
   "nbconvert_exporter": "python",
   "pygments_lexer": "ipython3",
   "version": "3.10.6"
  }
 },
 "nbformat": 4,
 "nbformat_minor": 1
}
