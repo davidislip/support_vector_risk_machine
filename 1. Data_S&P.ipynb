{
 "cells": [
  {
   "cell_type": "markdown",
   "source": [
    "\n",
    "# Gathering the Data\n",
    "\n",
    "# 1. Read input files"
   ],
   "metadata": {
    "collapsed": false
   }
  },
  {
   "cell_type": "code",
   "execution_count": 39,
   "outputs": [
    {
     "name": "stdout",
     "output_type": "stream",
     "text": [
      "['asset_id', 'currency_id', 'equities_series', 'equity_index_id', 'exchange_id', 'factor_id', 'factors', 'frequency_id', 'fundamentals', 'metric_id', 'source_id', 'ticker_id', 'ticker_index_membership', 'tiingo_tickers']\n"
     ]
    }
   ],
   "source": [
    "import time\n",
    "import math\n",
    "import pandas as pd\n",
    "from Database.services.database import Database\n",
    "from sqlalchemy import inspect\n",
    "from services.data_retreival import *\n",
    "from scipy.stats import gmean\n",
    "import matplotlib.pyplot as plt\n",
    "from services.strategies import *\n",
    "from services.optimization_layers import *\n",
    "from services.data_utils import *\n",
    "\n",
    "Database.initialize(\"sqlite:///Database//financial_db.sqlite\") #for courses replace this with a flat file\n",
    "inspector = inspect(Database.engine)\n",
    "print(inspector.get_table_names())\n",
    "\n",
    "#get tickers that are in tiingo and GFD\n",
    "ticker_info = Database.query(\"SELECT b.* from ticker_index_membership b \"\n",
    "                             \"inner join tiingo_tickers a on a.ticker = b.ticker \"\n",
    "                             \"where b.equity_index = 'S&P500' \"\n",
    "                             \"and b.endDate = '2023-04-21 00:00:00.000000' and b.startDate < '2010-01-01 00:00:00.000000'\")"
   ],
   "metadata": {
    "collapsed": false
   }
  },
  {
   "cell_type": "code",
   "execution_count": 76,
   "outputs": [],
   "source": [
    "wrds_imputation_name = \"univariate\"\n",
    "universe = 'SP'\n",
    "iterative_imputer = True\n",
    "start_date = pd.to_datetime('1996-11-30', format = '%Y-%m-%d')"
   ],
   "metadata": {
    "collapsed": false
   }
  },
  {
   "cell_type": "code",
   "execution_count": 41,
   "outputs": [],
   "source": [
    "#find a valid time period for the assets\n",
    "startDate = ticker_info.startDate.min()\n",
    "endDate = ticker_info.endDate.min()\n",
    "ticker_info['ticker_currency'] = ticker_info.ticker + \"-\" + ticker_info.priceCurrency"
   ],
   "metadata": {
    "collapsed": false
   }
  },
  {
   "cell_type": "code",
   "execution_count": 42,
   "outputs": [
    {
     "data": {
      "text/plain": "555"
     },
     "execution_count": 42,
     "metadata": {},
     "output_type": "execute_result"
    }
   ],
   "source": [
    "tickers = tuple(ticker_info.ticker.unique())\n",
    "len(ticker_info['ticker_currency'].unique())\n",
    "len(tickers)"
   ],
   "metadata": {
    "collapsed": false
   }
  },
  {
   "cell_type": "code",
   "execution_count": 43,
   "outputs": [],
   "source": [
    "monthly_adjClose, adjClose = get_monthly_adjusted_price(tickers, start_date = startDate, end_date = endDate, Database = Database, return_daily=True)"
   ],
   "metadata": {
    "collapsed": false
   }
  },
  {
   "cell_type": "code",
   "execution_count": 44,
   "outputs": [
    {
     "name": "stderr",
     "output_type": "stream",
     "text": [
      "C:\\Users\\david\\PycharmProjects\\support_vector_risk_machine\\services\\data_retreival.py:33: UserWarning: IMPORTANT: The monthly aggregation returned in the dataframe is only the last observation\n",
      "  warnings.warn(\"IMPORTANT: The monthly aggregation returned in the dataframe is only the last observation\")\n"
     ]
    }
   ],
   "source": [
    "monthly_adjusted_volumes, adjVolume = get_monthly_adjusted(tickers, start_date = startDate, end_date = endDate,\n",
    "                                                                        Database = Database, return_daily=True, data_column = 'adjVolume')"
   ],
   "metadata": {
    "collapsed": false
   }
  },
  {
   "cell_type": "code",
   "execution_count": 45,
   "outputs": [
    {
     "data": {
      "text/plain": "<AxesSubplot:xlabel='date'>"
     },
     "execution_count": 45,
     "metadata": {},
     "output_type": "execute_result"
    },
    {
     "data": {
      "text/plain": "<Figure size 640x480 with 1 Axes>",
      "image/png": "[encoded data removed]"
     },
     "metadata": {},
     "output_type": "display_data"
    }
   ],
   "source": [
    "(~monthly_adjClose.isna()).sum(axis = 1).plot()"
   ],
   "metadata": {
    "collapsed": false
   }
  },
  {
   "cell_type": "code",
   "execution_count": 46,
   "outputs": [
    {
     "name": "stdout",
     "output_type": "stream",
     "text": [
      "Number of tickers with no monthly observations missing  400\n",
      "Number of monthly dates  342\n"
     ]
    }
   ],
   "source": [
    "dates_idx = (~monthly_adjClose.isna()).sum(axis = 1) >= 400\n",
    "data_start_date = dates_idx[dates_idx].index[0] # - pd.offsets.MonthEnd() + pd.offsets.DateOffset(days=1)\n",
    "number_of_missing = monthly_adjClose[dates_idx].isna().sum(axis = 0)\n",
    "clean_tickers = number_of_missing[number_of_missing == 0]\n",
    "\n",
    "print(\"Number of tickers with no monthly observations missing \", len(clean_tickers))\n",
    "print(\"Number of monthly dates \", sum(dates_idx))"
   ],
   "metadata": {
    "collapsed": false
   }
  },
  {
   "cell_type": "code",
   "execution_count": 47,
   "outputs": [],
   "source": [
    "idx = pd.IndexSlice\n",
    "filtered_cols_idx = idx[:, clean_tickers.index.get_level_values('ticker')]\n",
    "monthly_adjClose_phase1 = monthly_adjClose.loc[dates_idx, filtered_cols_idx]\n",
    "monthly_adjusted_volumes_phase1 = monthly_adjusted_volumes.loc[dates_idx,  filtered_cols_idx]"
   ],
   "metadata": {
    "collapsed": false
   }
  },
  {
   "cell_type": "code",
   "execution_count": 48,
   "outputs": [],
   "source": [
    "adjClose_phase1 = adjClose.loc[adjClose.index >= data_start_date, filtered_cols_idx]\n",
    "adjVolume_phase1 = adjVolume.loc[adjVolume.index >= data_start_date, filtered_cols_idx]"
   ],
   "metadata": {
    "collapsed": false
   }
  },
  {
   "cell_type": "code",
   "execution_count": 49,
   "outputs": [
    {
     "name": "stdout",
     "output_type": "stream",
     "text": [
      "                   adjClose\n",
      "date       ticker          \n",
      "1994-12-08 IEX     4.093170\n",
      "2007-07-02 JCI     3.199171\n",
      "1997-01-10 FMCC    3.105914\n",
      "1994-12-01 MCK     2.441683\n",
      "1995-02-01 IEX     2.403614\n",
      "1996-11-04 MCO     2.191522\n",
      "2009-08-10 FMCC    1.283784\n",
      "1996-06-03 URBN    1.112360\n",
      "2021-11-02 CAR     1.083110\n",
      "2007-02-23 TRMB    1.000000\n",
      "1995-05-22 AN      1.000000\n",
      "2009-03-20 CAR     0.981818\n",
      "2023-02-06 BBBY    0.921311\n",
      "2008-09-08 FNMA    0.896307\n",
      "1999-04-19 MAYS    0.890634\n",
      "2002-07-29 WMB     0.877358\n",
      "2018-02-14 FOSL    0.877212\n",
      "2021-01-27 FOSL    0.870356\n",
      "2008-10-13 MS      0.869835\n",
      "2008-09-08 FMCC    0.827451\n"
     ]
    },
    {
     "data": {
      "text/plain": "<Figure size 640x480 with 1 Axes>",
      "image/png": "[encoded data removed]"
     },
     "metadata": {},
     "output_type": "display_data"
    }
   ],
   "source": [
    "k = 20\n",
    "top_k_returns = adjClose_phase1.pct_change(1).dropna().stack().abs().sort_values(by = 'adjClose', ascending = False).iloc[:k]\n",
    "date, ticker = top_k_returns.index[k-1]\n",
    "\n",
    "show_data_around_time(adjClose_phase1, ticker, date, pds = 100)\n",
    "\n",
    "tickers_that_are_too_vol = top_k_returns.index.get_level_values('ticker').unique()\n",
    "\n",
    "print(top_k_returns)"
   ],
   "metadata": {
    "collapsed": false
   }
  },
  {
   "cell_type": "code",
   "execution_count": 50,
   "outputs": [
    {
     "data": {
      "text/plain": "date\n1994-11-30    1.535125\n1994-12-31    8.057023\n1995-01-31    1.588075\n1995-02-28    5.548697\n1995-03-31    5.717071\n1995-04-30    6.417842\n1995-05-31    6.537047\n1995-06-30    6.440914\n1995-07-31    8.467411\n1995-08-31    7.766939\n1995-09-30    6.898586\n1995-10-31    7.311358\n1995-11-30    7.965991\n1995-12-31    7.892393\n1996-01-31    7.388153\n1996-02-29    7.120818\n1996-03-31    7.728397\n1996-04-30    7.637596\n1996-05-31    7.369183\n1996-06-30    7.393584\n1996-07-31    5.881208\n1996-08-31    7.228985\n1996-09-30    6.518339\n1996-10-31    7.313017\n1996-11-30    7.757215\n1996-12-31    7.853737\n1997-01-31    7.421305\n1997-02-28    7.534109\n1997-03-31    6.976027\n1997-04-30    7.829214\n1997-05-31    8.762755\nName: (adjClose, IEX), dtype: float64"
     },
     "execution_count": 50,
     "metadata": {},
     "output_type": "execute_result"
    },
    {
     "data": {
      "text/plain": "<Figure size 640x480 with 1 Axes>",
      "image/png": "[encoded data removed]"
     },
     "metadata": {},
     "output_type": "display_data"
    }
   ],
   "source": [
    "top_k_returns = monthly_adjClose_phase1.pct_change(1).dropna().stack().abs().sort_values(by = 'adjClose', ascending = False).iloc[:k]\n",
    "date, ticker = top_k_returns.index[0]\n",
    "\n",
    "show_data_around_time(monthly_adjClose_phase1, ticker, date, pds = 30)"
   ],
   "metadata": {
    "collapsed": false
   }
  },
  {
   "cell_type": "code",
   "execution_count": 51,
   "outputs": [
    {
     "data": {
      "text/plain": "Series([], dtype: int64)"
     },
     "execution_count": 51,
     "metadata": {},
     "output_type": "execute_result"
    }
   ],
   "source": [
    "# no na's\n",
    "adjClose_phase1.isna().sum()[adjClose_phase1.isna().sum() > 0]"
   ],
   "metadata": {
    "collapsed": false
   }
  },
  {
   "cell_type": "code",
   "execution_count": 52,
   "outputs": [
    {
     "data": {
      "text/plain": "0"
     },
     "execution_count": 52,
     "metadata": {},
     "output_type": "execute_result"
    }
   ],
   "source": [
    "# no na's\n",
    "adjVolume_phase1.isna().sum().sum()"
   ],
   "metadata": {
    "collapsed": false
   }
  },
  {
   "cell_type": "markdown",
   "source": [
    "# WRDS"
   ],
   "metadata": {
    "collapsed": false
   }
  },
  {
   "cell_type": "code",
   "execution_count": 53,
   "outputs": [],
   "source": [
    "#fundamentals sources\n",
    "source_info = Database.query(\"SELECT * from source_id\")"
   ],
   "metadata": {
    "collapsed": false
   }
  },
  {
   "cell_type": "code",
   "execution_count": 54,
   "outputs": [],
   "source": [
    "fundamentals_info = Database.query(\"SELECT b.* from fundamentals b \"\n",
    "                             \"where b.source = 'wrds'\")"
   ],
   "metadata": {
    "collapsed": false
   }
  },
  {
   "cell_type": "code",
   "execution_count": 55,
   "outputs": [],
   "source": [
    "fundamentals_info.date = pd.to_datetime(fundamentals_info.date, format='%Y-%m-%d')"
   ],
   "metadata": {
    "collapsed": false
   }
  },
  {
   "cell_type": "code",
   "execution_count": 56,
   "outputs": [],
   "source": [
    "fundamentals_info_filtered = fundamentals_info[fundamentals_info.date >= data_start_date]"
   ],
   "metadata": {
    "collapsed": false
   }
  },
  {
   "cell_type": "code",
   "execution_count": 57,
   "outputs": [],
   "source": [
    "ticker_currency_df = pd.DataFrame(ticker_info['ticker_currency'].unique(), columns = ['ticker_currency'])\n",
    "\n",
    "fundamentals_info_ticker_filtered = fundamentals_info_filtered.merge(ticker_currency_df, on = 'ticker_currency', how = 'inner')"
   ],
   "metadata": {
    "collapsed": false
   }
  },
  {
   "cell_type": "code",
   "execution_count": 58,
   "outputs": [],
   "source": [
    "fundamentals_info_ticker_filtered[['ticker', 'currency']] = fundamentals_info_ticker_filtered.ticker_currency.str.split('-', expand=True)"
   ],
   "metadata": {
    "collapsed": false
   }
  },
  {
   "cell_type": "code",
   "execution_count": 59,
   "outputs": [],
   "source": [
    "fundamentals_pivoted = fundamentals_info_ticker_filtered.pivot(index=['date', 'ticker'], columns='metric', values='value')"
   ],
   "metadata": {
    "collapsed": false
   }
  },
  {
   "cell_type": "markdown",
   "source": [
    "# Ticker Filtering Here"
   ],
   "metadata": {
    "collapsed": false
   }
  },
  {
   "cell_type": "code",
   "execution_count": 81,
   "outputs": [
    {
     "data": {
      "text/plain": "365"
     },
     "execution_count": 81,
     "metadata": {},
     "output_type": "execute_result"
    }
   ],
   "source": [
    "common_tickers = intersection(monthly_adjClose_phase1.columns.get_level_values(1), fundamentals_pivoted.index.get_level_values(1).unique())\n",
    "common_tickers = list(set(common_tickers) - set(tickers_that_are_too_vol))\n",
    "len(common_tickers)"
   ],
   "metadata": {
    "collapsed": false
   }
  },
  {
   "cell_type": "code",
   "execution_count": 82,
   "outputs": [],
   "source": [
    "indices = fundamentals_pivoted.index.get_level_values('date') <= start_date\n",
    "subsetted_index = fundamentals_pivoted.index[indices]\n",
    "common_tickers = intersection(common_tickers, subsetted_index.get_level_values('ticker'))"
   ],
   "metadata": {
    "collapsed": false
   }
  },
  {
   "cell_type": "code",
   "execution_count": 83,
   "outputs": [
    {
     "data": {
      "text/plain": "289"
     },
     "execution_count": 83,
     "metadata": {},
     "output_type": "execute_result"
    }
   ],
   "source": [
    "len(common_tickers)"
   ],
   "metadata": {
    "collapsed": false
   }
  },
  {
   "cell_type": "code",
   "execution_count": 84,
   "outputs": [],
   "source": [
    "# for consistent ordering\n",
    "common_tickers.sort()"
   ],
   "metadata": {
    "collapsed": false
   }
  },
  {
   "cell_type": "code",
   "execution_count": 85,
   "outputs": [
    {
     "name": "stdout",
     "output_type": "stream",
     "text": [
      "Number of columns dropped 2\n"
     ]
    }
   ],
   "source": [
    "from sklearn.experimental import enable_iterative_imputer\n",
    "from sklearn.impute import IterativeImputer\n",
    "from sklearn.impute import SimpleImputer\n",
    "\n",
    "if iterative_imputer:\n",
    "    imp_mean = IterativeImputer(random_state=0)\n",
    "else:\n",
    "    imp_mean = SimpleImputer(missing_values=np.nan, strategy='median')\n",
    "fundamentals_dfs = []\n",
    "idx = pd.IndexSlice\n",
    "cols = list(fundamentals_pivoted.columns)\n",
    "fundamentals_dates = fundamentals_pivoted.index.get_level_values(0).unique()\n",
    "\n",
    "for dt in fundamentals_dates:\n",
    "    df_to_append = fundamentals_pivoted.loc[idx[dt,common_tickers], cols]\n",
    "    df_to_append = df_to_append.dropna(axis=1, how='all')\n",
    "    if cols != list(df_to_append.columns):\n",
    "        print(\"Number of columns dropped\", len(cols) - len(df_to_append.columns))\n",
    "    cols = list(df_to_append.columns)\n",
    "    imp_mean.fit(df_to_append)\n",
    "    transformed_df = imp_mean.transform(df_to_append)\n",
    "    transformed_df = pd.DataFrame(transformed_df, columns = df_to_append.columns, index = df_to_append.index)\n",
    "    fundamentals_dfs.append(transformed_df)\n"
   ],
   "metadata": {
    "collapsed": false
   }
  },
  {
   "cell_type": "code",
   "execution_count": 86,
   "outputs": [],
   "source": [
    "fundamentals_out = pd.concat([df.loc[:, cols] for df in fundamentals_dfs])"
   ],
   "metadata": {
    "collapsed": false
   }
  },
  {
   "cell_type": "code",
   "execution_count": 87,
   "outputs": [
    {
     "data": {
      "text/plain": "True"
     },
     "execution_count": 87,
     "metadata": {},
     "output_type": "execute_result"
    }
   ],
   "source": [
    "#check the dates for wrds and monthly returns (they are the same)\n",
    "len(intersection(monthly_adjClose_phase1.index, fundamentals_dates)) == min(len(monthly_adjClose_phase1.index), len(fundamentals_dates))"
   ],
   "metadata": {
    "collapsed": false
   }
  },
  {
   "cell_type": "markdown",
   "source": [
    "# Export WRDS Monthly Prices Daily Prices"
   ],
   "metadata": {
    "collapsed": false
   }
  },
  {
   "cell_type": "code",
   "execution_count": 88,
   "outputs": [],
   "source": [
    "idx = pd.IndexSlice\n",
    "monthly_adjClose_phase1.loc[:, idx[:, common_tickers]].to_csv(\"flat_files/MonthlyAssetPrices\"+universe +\".csv\")\n",
    "adjClose_phase1.loc[:, idx[:, common_tickers]].to_csv(\"flat_files/DailyAssetPrices\"+universe +\".csv\")\n",
    "fundamentals_out.to_csv(\"flat_files/MultivariateWRDS.csv\")"
   ],
   "metadata": {
    "collapsed": false
   }
  },
  {
   "cell_type": "markdown",
   "source": [
    "# Technicals Volume and Price"
   ],
   "metadata": {
    "collapsed": false
   }
  },
  {
   "cell_type": "code",
   "execution_count": 89,
   "outputs": [],
   "source": [
    "# construct the earliest possible test start date\n",
    "k_values = [20, 40, 60, 120, 250, 500]\n",
    "k_max = max(k_values)\n",
    "monthly_dates = monthly_adjClose_phase1.index[monthly_adjClose_phase1.index >= adjClose_phase1.index[k_max]]"
   ],
   "metadata": {
    "collapsed": false
   }
  },
  {
   "cell_type": "code",
   "execution_count": 90,
   "outputs": [],
   "source": [
    "technical_analysis_rets = get_k_rolling_stats(adjClose_phase1.pct_change(1).dropna(), monthly_dates, k_values=k_values)\n",
    "\n",
    "technical_analysis_volume = get_k_rolling_stats(adjVolume_phase1, monthly_dates, k_values=k_values)"
   ],
   "metadata": {
    "collapsed": false
   }
  },
  {
   "cell_type": "code",
   "execution_count": 91,
   "outputs": [],
   "source": [
    "technical_analysis_rets.columns = [\"adjRet_\"+ col for col in technical_analysis_rets.columns]\n",
    "technical_analysis_volume.columns = [\"adjVolume_\"+ col for col in technical_analysis_volume.columns]"
   ],
   "metadata": {
    "collapsed": false
   }
  },
  {
   "cell_type": "code",
   "execution_count": 92,
   "outputs": [],
   "source": [
    "technical_analysis = pd.concat([technical_analysis_rets, technical_analysis_volume], axis = 1)"
   ],
   "metadata": {
    "collapsed": false
   }
  },
  {
   "cell_type": "code",
   "execution_count": 93,
   "outputs": [],
   "source": [
    "idx = pd.IndexSlice\n",
    "technical_analysis.loc[idx[:, common_tickers], :].to_csv(\"flat_files/TechnicalAnalysis\"+universe + \".csv\")"
   ],
   "metadata": {
    "collapsed": false
   }
  },
  {
   "cell_type": "code",
   "execution_count": null,
   "outputs": [],
   "source": [],
   "metadata": {
    "collapsed": false
   }
  }
 ],
 "metadata": {
  "kernelspec": {
   "display_name": "Python 3",
   "language": "python",
   "name": "python3"
  },
  "language_info": {
   "codemirror_mode": {
    "name": "ipython",
    "version": 2
   },
   "file_extension": ".py",
   "mimetype": "text/x-python",
   "name": "python",
   "nbconvert_exporter": "python",
   "pygments_lexer": "ipython2",
   "version": "2.7.6"
  }
 },
 "nbformat": 4,
 "nbformat_minor": 0
}
