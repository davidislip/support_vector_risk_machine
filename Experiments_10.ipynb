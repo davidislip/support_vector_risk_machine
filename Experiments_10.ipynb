{
 "cells": [
  {
   "cell_type": "markdown",
   "source": [
    "\n",
    "# Running the Experiments\n",
    "\n",
    "# 1. Read input files"
   ],
   "metadata": {
    "collapsed": false
   }
  },
  {
   "cell_type": "code",
   "execution_count": 1,
   "outputs": [
    {
     "name": "stdout",
     "output_type": "stream",
     "text": [
      "['asset_id', 'currency_id', 'equities_series', 'equity_index_id', 'exchange_id', 'factor_id', 'factors', 'frequency_id', 'fundamentals', 'metric_id', 'source_id', 'ticker_id', 'ticker_index_membership', 'tiingo_tickers']\n"
     ]
    }
   ],
   "source": [
    "import time\n",
    "import math\n",
    "\n",
    "import numpy as np\n",
    "import pandas as pd\n",
    "from itertools import product\n",
    "from Database.services.database import Database\n",
    "from sqlalchemy import inspect\n",
    "from services.data_retreival import *\n",
    "from scipy.stats import gmean\n",
    "import matplotlib.pyplot as plt\n",
    "from services.strategies import *\n",
    "from services.optimization_layers import *\n",
    "from services.optimization import *\n",
    "from services.binary_optimization import *\n",
    "from services.environment_functions import *\n",
    "from services.big_m_strategies import *\n",
    "from services.experiments import *\n",
    "from services.class_weighted_bigM import *\n",
    "from services.class_weighted_models import *\n",
    "\n",
    "Database.initialize(\"sqlite:///Database//financial_db.sqlite\") #for courses replace this with a flat file\n",
    "inspector = inspect(Database.engine)\n",
    "print(inspector.get_table_names())\n",
    "\n",
    "universe = 'ETF'\n",
    "imputation_method = 'Univariate'\n",
    "ticker_str = 'SPY'\n",
    "#exponential params\n",
    "\n",
    "\n",
    "adjClose = pd.read_csv(\"flat_files/MonthlyAssetPrices\"+ universe + \".csv\", index_col=0, header = 1).iloc[1:,:]\n",
    "\n",
    "daily_adjClose =  pd.read_csv(\"flat_files/DailyAssetPrices\"+universe + \".csv\", index_col=0, header = 1).iloc[1:,:]\n",
    "\n",
    "TechnicalAnalysis = pd.read_csv(\"flat_files/TechnicalAnalysis\" + universe + \".csv\", index_col=[0,1])\n",
    "\n",
    "if universe ==  'SP':\n",
    "    FinancialRatios = pd.read_csv(\"flat_files/\" + imputation_method + \"WRDS.csv\", index_col=[0,1])\n",
    "    TechnicalAnalysis.index.names = FinancialRatios.index.names\n",
    "    ContextualInfo = TechnicalAnalysis.merge(FinancialRatios, how = 'left', left_index=True, right_index=True)\n",
    "\n",
    "else:\n",
    "    TechnicalAnalysis.index.names = ['date', 'ticker']\n",
    "    ContextualInfo = TechnicalAnalysis\n"
   ],
   "metadata": {
    "collapsed": false,
    "ExecuteTime": {
     "end_time": "2024-02-21T23:57:55.147862200Z",
     "start_time": "2024-02-21T23:57:47.160302200Z"
    }
   }
  },
  {
   "cell_type": "code",
   "execution_count": 2,
   "outputs": [],
   "source": [
    "adjClose.index = pd.to_datetime(adjClose.index, format='%Y-%m-%d').tz_localize(None)\n",
    "daily_adjClose.index = pd.to_datetime(daily_adjClose.index, format='%Y-%m-%d').tz_localize(None)\n",
    "ContextualInfo.index = ContextualInfo.index.set_levels([pd.to_datetime(ContextualInfo.index.levels[0]).tz_localize(None), ContextualInfo.index.levels[1]])"
   ],
   "metadata": {
    "collapsed": false,
    "ExecuteTime": {
     "end_time": "2024-02-21T23:57:55.147862200Z",
     "start_time": "2024-02-21T23:57:55.116608600Z"
    }
   }
  },
  {
   "cell_type": "code",
   "execution_count": 3,
   "outputs": [
    {
     "name": "stdout",
     "output_type": "stream",
     "text": [
      "The earliest possible start date\n"
     ]
    },
    {
     "data": {
      "text/plain": "Timestamp('2006-01-31 00:00:00')"
     },
     "execution_count": 3,
     "metadata": {},
     "output_type": "execute_result"
    }
   ],
   "source": [
    "print(\"The earliest possible start date\")\n",
    "max(daily_adjClose.index.unique()[0], ContextualInfo.index.get_level_values('date').unique()[0], adjClose.index.unique()[0])"
   ],
   "metadata": {
    "collapsed": false,
    "ExecuteTime": {
     "end_time": "2024-02-21T23:57:55.241610Z",
     "start_time": "2024-02-21T23:57:55.147862200Z"
    }
   }
  },
  {
   "cell_type": "code",
   "execution_count": 4,
   "outputs": [
    {
     "name": "stdout",
     "output_type": "stream",
     "text": [
      "The latest possible start date\n"
     ]
    },
    {
     "data": {
      "text/plain": "Timestamp('2023-04-21 00:00:00')"
     },
     "execution_count": 4,
     "metadata": {},
     "output_type": "execute_result"
    }
   ],
   "source": [
    "print(\"The latest possible start date\")\n",
    "min(daily_adjClose.index.unique()[-1], ContextualInfo.index.get_level_values('date').unique()[-1], adjClose.index.unique()[-1])"
   ],
   "metadata": {
    "collapsed": false,
    "ExecuteTime": {
     "end_time": "2024-02-21T23:57:55.257235800Z",
     "start_time": "2024-02-21T23:57:55.179108600Z"
    }
   }
  },
  {
   "cell_type": "code",
   "execution_count": 5,
   "outputs": [],
   "source": [
    "# start_date = pd.to_datetime('1996-11-30', format = '%Y-%m-%d')\n",
    "# \n",
    "# end_date = pd.to_datetime('2022-12-31', format = '%Y-%m-%d')\n",
    "\n",
    "start_date = pd.to_datetime('2006-05-31', format = '%Y-%m-%d')\n",
    "\n",
    "end_date = pd.to_datetime('2022-12-31', format = '%Y-%m-%d')\n",
    "\n",
    "factors = ('Mkt-RF', 'RF')\n",
    "\n",
    "factorRet = get_monthly_factors(factors, start_date, end_date, Database)\n",
    "\n",
    "factorRet = factorRet.droplevel(0, axis = 1)\n",
    "factorRet.columns = [col.strip() for col in factorRet.columns]"
   ],
   "metadata": {
    "collapsed": false,
    "ExecuteTime": {
     "end_time": "2024-02-21T23:58:00.432105400Z",
     "start_time": "2024-02-21T23:57:55.194734Z"
    }
   }
  },
  {
   "cell_type": "code",
   "execution_count": 6,
   "outputs": [],
   "source": [
    "adjClose = adjClose[start_date:end_date]\n",
    "daily_adjClose = daily_adjClose[start_date:end_date]\n",
    "idx = pd.IndexSlice\n",
    "ContextualInfo = ContextualInfo.loc[idx[start_date:end_date, :], :]"
   ],
   "metadata": {
    "collapsed": false,
    "ExecuteTime": {
     "end_time": "2024-02-21T23:58:00.463392900Z",
     "start_time": "2024-02-21T23:58:00.432105400Z"
    }
   }
  },
  {
   "cell_type": "code",
   "execution_count": 7,
   "outputs": [],
   "source": [
    "# Initial budget to invest ($100,000)\n",
    "initialVal = 100000\n",
    "\n",
    "# Length of investment period (in months) - but actually units of data\n",
    "investPeriod = 6\n",
    "\n",
    "# divide the factor returns by 100\n",
    "factorRet = factorRet/100\n",
    "\n",
    "#rf and factor returns\n",
    "#drop the first observation to align the dataset with the returns data that will\n",
    "#result\n",
    "factorRet = factorRet.iloc[1:, :]\n",
    "\n",
    "#rf and factor returns\n",
    "riskFree = factorRet['RF']\n",
    "factorRet = factorRet.loc[:,factorRet.columns != 'RF'];"
   ],
   "metadata": {
    "collapsed": false,
    "ExecuteTime": {
     "end_time": "2024-02-21T23:58:00.479021900Z",
     "start_time": "2024-02-21T23:58:00.463392900Z"
    }
   }
  },
  {
   "cell_type": "code",
   "execution_count": 8,
   "outputs": [],
   "source": [
    "#Identify the tickers and the dates\n",
    "tickers = adjClose.columns\n",
    "dates   = factorRet.index"
   ],
   "metadata": {
    "collapsed": false,
    "ExecuteTime": {
     "end_time": "2024-02-21T23:58:00.510267900Z",
     "start_time": "2024-02-21T23:58:00.479021900Z"
    }
   }
  },
  {
   "cell_type": "code",
   "execution_count": 9,
   "outputs": [],
   "source": [
    "# Calculate the stocks monthly excess returns\n",
    "# pct change and drop the first null observation\n",
    "returns = adjClose.pct_change(1).iloc[1:, :]\n",
    "returns = returns  - np.diag(riskFree.values) @ np.ones_like(returns.values) # risk adjusted returns\n",
    "# Align the price table to the asset and factor returns tables by discarding the first observation.\n",
    "adjClose = adjClose.iloc[1:,:]"
   ],
   "metadata": {
    "collapsed": false,
    "ExecuteTime": {
     "end_time": "2024-02-21T23:58:00.510267900Z",
     "start_time": "2024-02-21T23:58:00.494644300Z"
    }
   }
  },
  {
   "cell_type": "code",
   "execution_count": 10,
   "outputs": [],
   "source": [
    "assert adjClose.index[0] == returns.index[0]\n",
    "assert adjClose.index[0] == factorRet.index[0]"
   ],
   "metadata": {
    "collapsed": false,
    "ExecuteTime": {
     "end_time": "2024-02-21T23:58:00.525895200Z",
     "start_time": "2024-02-21T23:58:00.510267900Z"
    }
   }
  },
  {
   "cell_type": "markdown",
   "source": [
    "# 2. Run your program\n",
    "\n",
    "This section will run your Project1_Function in a loop. The data will be loaded progressively as a growing window of historical observations.\n",
    "Rebalancing will take place after every loop\n",
    "\n",
    "### 2.1 Some Standard Allocation Strategies"
   ],
   "metadata": {
    "collapsed": false
   }
  },
  {
   "cell_type": "code",
   "execution_count": 11,
   "outputs": [],
   "source": [
    "# Some strategies (uncomment this or the next cell to pick a strategy to test)\n",
    "# Strategy = general_strategy(sample_estimator, MVO, NumObs=48)  #the general strategy object takes an estimator function and an optimizer function\n",
    "#                                                                #the only constraint is that the estimators outputs are the optimizers inputs\n",
    "# investor preferences (static throughout the backtest)\n",
    "run = 'SunJan212024'\n",
    "hyperparam_search = False # True if model has hyperparams\n",
    "optimizer = ClassWgtSVMMVO # CardMVO , MVO\n",
    "estimator = exponential_weighted_estimator_shrinkage #\n",
    "EstNumObs = 750\n",
    "k = 6*20 #estimation horizon\n",
    "alpha= 1 - 0.990 #estimation decay\n",
    "return_premium = 1 #optimization premium\n",
    "\n",
    "turnover_constraints = True\n",
    "turnover_limit = 0.75 # 0.75, 1, 1.25\n",
    "cardinality_ratio = 0.1 #optimization\n",
    "\n",
    "MipGap = 0.05 # for portfolio optimizer\n",
    "limit_time = 20 # for portfolio optimizer\n",
    "\n",
    "target_return_strategy = premium_target # for portfolio optimizer to calculate return target\n",
    "# mean_target, premium_target, ticker_return_target\n",
    "target_return_strategy_args = ['premium'] # args for the return strategy\n",
    "\n",
    "bigMStrategy = ClassWgtHyperparameterBigMStrategy #objectiveBigMStrategy #objectiveBigMStrategyTightening , objectiveBigMStrategy\n",
    "\n",
    "bigM_limit_time=20 # for the feasible solution used to calculate big M\n",
    "bigM_MipGap=0.05 # for the feasible solution used to calculate big M\n",
    "bigM_SolutionLimit=10 # for the feasible solution used to calculate big <\n",
    "\n",
    "SkipSOCP = True # flag to skip the SOCP\n",
    "tightening_iter_lim = 1 # number of iterations of tightening to do\n",
    "\n",
    "SVMMVO_bigM_time_limit = 5 # for computing a better solution in the tightening strategy\n",
    "SVMMVO_MipGap=0.1 # for computing a better solution in the tightening strategy\n",
    "SVMMVO_SolutionLimit=5 # for computing a better solution in the tightening strategy\n",
    "\n",
    "SOCP_limit_time=10 # time limit for the SOCP's\n",
    "\n",
    "ticker_index = tickers.get_loc(ticker_str) # the ticker we want to compare to if\n",
    "#  we are using the ticker_return_target strategy\n",
    "\n",
    "q = 10 #subset of features\n",
    "\n",
    "C = 0.1 # separation importance\n",
    "epsilon = 0.1 # regularization amount for SVM\n",
    "\n",
    "separable = False # do not restrict the hyperplane to be separable\n",
    "\n",
    "LogToConsole = False # display optimization results in the console\n",
    "Verbose = False # print statements\n",
    "\n",
    "hyperparams = {'C': list(np.geomspace(0.1, 100, 4)), 'epsilon': list(np.geomspace(0.1, 100, 4))} # hyperparams for hyperparam search\n",
    "#q_alpha = 0.3187 # alpha for Q(t, a) = (1 - q_alpha) Q(t-1. a) + R(t, a)\n",
    "q_alpha = 0.6838\n",
    "\n",
    "kappa = 1.6 # 10 % risk/turnover tolerance plan: 0.1, 0.2, 0.4, 0.8, 1.6 (0.6, 1.0)\n",
    "\n",
    "investor_preferences = {'k':k, # horizon\n",
    "                        'alpha':alpha, # decay\n",
    "                        'premium':return_premium, # return premium preference\n",
    "                        'EstNumObs':EstNumObs,\n",
    "                        'ticker_index':ticker_index, # benchmark index for comparison used in place of return premium depending on the investors function to set r_min\n",
    "                        'target_return_strategy':target_return_strategy, # strategy for setting return\n",
    "                        'target_return_strategy_args': target_return_strategy_args, # args for return setting strategy\n",
    "                        'turnover_limit':turnover_limit, # turnover limit\n",
    "                        'turnover_constraints':turnover_constraints, # turnover limit choice (Y/N)\n",
    "                        'cardinality_ratio': cardinality_ratio, # Pct of assets to invest in\n",
    "                        'MipGap' : MipGap, 'limit_time':limit_time, # problem solving limits\n",
    "    \n",
    "                        'bigMStrategy':bigMStrategy,\n",
    "                        'bigM_limit_time':bigM_limit_time,\n",
    "                        'bigM_MipGap':bigM_MipGap,\n",
    "                        'bigM_SolutionLimit':bigM_SolutionLimit,\n",
    "\n",
    "                        'SkipSOCP':SkipSOCP,\n",
    "                        'tightening_iter_lim':tightening_iter_lim,\n",
    "\n",
    "                        'SVMMVO_bigM_time_limit':SVMMVO_bigM_time_limit,\n",
    "                        'SVMMVO_MipGap':SVMMVO_MipGap,\n",
    "                        'SVMMVO_SolutionLimit':SVMMVO_SolutionLimit,\n",
    "\n",
    "                        'SOCP_limit_time':SOCP_limit_time,\n",
    "                        'q':q,\n",
    "                        'C':C,\n",
    "                        'epsilon':epsilon,\n",
    "                        'separable':separable,\n",
    "                        'LogToConsole':LogToConsole,\n",
    "                        'Verbose':Verbose,\n",
    "                        'hyperparams':hyperparams,\n",
    "                        'q_alpha':q_alpha,\n",
    "                        'kappa':kappa}\n"
   ],
   "metadata": {
    "collapsed": false,
    "ExecuteTime": {
     "end_time": "2024-02-21T23:58:00.557146200Z",
     "start_time": "2024-02-21T23:58:00.541522Z"
    }
   }
  },
  {
   "cell_type": "markdown",
   "source": [
    "\n"
   ],
   "metadata": {
    "collapsed": false
   }
  },
  {
   "cell_type": "code",
   "execution_count": 12,
   "outputs": [
    {
     "name": "stdout",
     "output_type": "stream",
     "text": [
      "Experiments//ETF//ClassWgtSVMMVO//10\n"
     ]
    }
   ],
   "source": [
    "if optimizer.__name__ == 'CardMVO':\n",
    "    path = \"Experiments//\"+universe+\"//\"+optimizer.__name__\n",
    "    print(path)\n",
    "elif optimizer.__name__ == 'SVMMVO':\n",
    "    path = \"Experiments//\"+universe+\"//\"+optimizer.__name__+\"//\"+str(q)\n",
    "    print(path)\n",
    "elif optimizer.__name__ == 'ClassWgtSVMMVO':\n",
    "    path = \"Experiments//\"+universe+\"//\"+optimizer.__name__+\"//\"+str(q)\n",
    "    print(path)\n",
    "else:\n",
    "    raise Exception(\"Model Type not supported for these experiments\")\n",
    "df = init_dataframe(investor_preferences, path)"
   ],
   "metadata": {
    "collapsed": false,
    "ExecuteTime": {
     "end_time": "2024-02-21T23:58:04.129198300Z",
     "start_time": "2024-02-21T23:58:00.557146200Z"
    }
   }
  },
  {
   "cell_type": "code",
   "execution_count": 13,
   "outputs": [
    {
     "name": "stdout",
     "output_type": "stream",
     "text": [
      "Testing configuration  (0.8, 1.25)\n",
      "Test Start 2008-06-30 00:00:00\n",
      "Test End 2008-11-30 00:00:00\n",
      "Calibration End 2008-06-29 00:00:00\n",
      "Set parameter TimeLimit to value 20\n",
      "Set parameter MIPGap to value 0.05\n",
      "Set parameter TimeLimit to value 20\n",
      "Set parameter FeasibilityTol to value 1e-08\n",
      "Set parameter TimeLimit to value 20\n",
      "Set parameter FeasibilityTol to value 1e-08\n",
      "Set parameter MIPGap to value 0.05\n",
      "Set parameter TimeLimit to value 20\n",
      "Set parameter MIPGap to value 0.05\n",
      "Set parameter TimeLimit to value 20\n",
      "Set parameter FeasibilityTol to value 1e-08\n",
      "Set parameter TimeLimit to value 20\n",
      "Set parameter FeasibilityTol to value 1e-08\n",
      "Set parameter MIPGap to value 0.05\n",
      "Set parameter TimeLimit to value 20\n",
      "Set parameter MIPGap to value 0.05\n",
      "Set parameter TimeLimit to value 20\n",
      "Set parameter FeasibilityTol to value 1e-08\n",
      "Set parameter TimeLimit to value 20\n",
      "Set parameter FeasibilityTol to value 1e-08\n",
      "Set parameter MIPGap to value 0.05\n",
      "Set parameter TimeLimit to value 20\n",
      "Set parameter MIPGap to value 0.05\n",
      "Set parameter TimeLimit to value 20\n",
      "Set parameter FeasibilityTol to value 1e-08\n",
      "Set parameter TimeLimit to value 20\n",
      "Set parameter FeasibilityTol to value 1e-08\n",
      "Set parameter MIPGap to value 0.05\n",
      "Set parameter TimeLimit to value 20\n",
      "Set parameter MIPGap to value 0.05\n",
      "Set parameter TimeLimit to value 20\n",
      "Set parameter FeasibilityTol to value 1e-08\n",
      "Set parameter TimeLimit to value 20\n",
      "Set parameter FeasibilityTol to value 1e-08\n",
      "Set parameter MIPGap to value 0.05\n",
      "Set parameter TimeLimit to value 20\n",
      "Set parameter MIPGap to value 0.05\n",
      "Set parameter TimeLimit to value 20\n",
      "Set parameter FeasibilityTol to value 1e-08\n",
      "Set parameter TimeLimit to value 20\n",
      "Set parameter FeasibilityTol to value 1e-08\n",
      "Set parameter MIPGap to value 0.05\n",
      "Set parameter TimeLimit to value 20\n",
      "Set parameter MIPGap to value 0.05\n",
      "Set parameter TimeLimit to value 20\n",
      "Set parameter FeasibilityTol to value 1e-08\n",
      "Set parameter TimeLimit to value 20\n",
      "Set parameter FeasibilityTol to value 1e-08\n",
      "Set parameter MIPGap to value 0.05\n",
      "Set parameter TimeLimit to value 20\n",
      "Set parameter MIPGap to value 0.05\n",
      "Set parameter TimeLimit to value 20\n",
      "Set parameter FeasibilityTol to value 1e-08\n",
      "Set parameter TimeLimit to value 20\n",
      "Set parameter FeasibilityTol to value 1e-08\n",
      "Set parameter MIPGap to value 0.05\n",
      "Set parameter TimeLimit to value 20\n",
      "Set parameter MIPGap to value 0.05\n",
      "Set parameter TimeLimit to value 20\n",
      "Set parameter FeasibilityTol to value 1e-08\n",
      "Set parameter TimeLimit to value 20\n",
      "Set parameter FeasibilityTol to value 1e-08\n",
      "Set parameter MIPGap to value 0.05\n",
      "Set parameter TimeLimit to value 20\n",
      "Set parameter MIPGap to value 0.05\n",
      "Set parameter TimeLimit to value 20\n",
      "Set parameter FeasibilityTol to value 1e-08\n",
      "Set parameter TimeLimit to value 20\n",
      "Set parameter FeasibilityTol to value 1e-08\n",
      "Set parameter MIPGap to value 0.05\n",
      "Set parameter TimeLimit to value 20\n",
      "Set parameter MIPGap to value 0.05\n",
      "Set parameter TimeLimit to value 20\n",
      "Set parameter FeasibilityTol to value 1e-08\n",
      "Set parameter TimeLimit to value 20\n",
      "Set parameter FeasibilityTol to value 1e-08\n",
      "Set parameter MIPGap to value 0.05\n",
      "Set parameter TimeLimit to value 20\n",
      "Set parameter MIPGap to value 0.05\n",
      "Set parameter TimeLimit to value 20\n",
      "Set parameter FeasibilityTol to value 1e-08\n",
      "Set parameter TimeLimit to value 20\n",
      "Set parameter FeasibilityTol to value 1e-08\n",
      "Set parameter MIPGap to value 0.05\n",
      "Set parameter TimeLimit to value 20\n",
      "Set parameter MIPGap to value 0.05\n",
      "Set parameter TimeLimit to value 20\n",
      "Set parameter FeasibilityTol to value 1e-08\n",
      "Set parameter TimeLimit to value 20\n",
      "Set parameter FeasibilityTol to value 1e-08\n",
      "Set parameter MIPGap to value 0.05\n",
      "Set parameter TimeLimit to value 20\n",
      "Set parameter MIPGap to value 0.05\n",
      "Set parameter TimeLimit to value 20\n",
      "Set parameter FeasibilityTol to value 1e-08\n",
      "Set parameter TimeLimit to value 20\n",
      "Set parameter FeasibilityTol to value 1e-08\n",
      "Set parameter MIPGap to value 0.05\n",
      "Set parameter TimeLimit to value 20\n",
      "Set parameter MIPGap to value 0.05\n",
      "Set parameter TimeLimit to value 20\n",
      "Set parameter FeasibilityTol to value 1e-08\n",
      "Set parameter TimeLimit to value 20\n",
      "Set parameter FeasibilityTol to value 1e-08\n",
      "Set parameter MIPGap to value 0.05\n",
      "Set parameter TimeLimit to value 20\n",
      "Set parameter MIPGap to value 0.05\n",
      "Set parameter TimeLimit to value 20\n",
      "Set parameter FeasibilityTol to value 1e-08\n",
      "Set parameter TimeLimit to value 20\n",
      "Set parameter FeasibilityTol to value 1e-08\n",
      "Set parameter MIPGap to value 0.05\n",
      "Set parameter TimeLimit to value 20\n",
      "Set parameter MIPGap to value 0.05\n",
      "Set parameter TimeLimit to value 20\n",
      "Set parameter FeasibilityTol to value 1e-08\n",
      "Set parameter TimeLimit to value 20\n",
      "Set parameter FeasibilityTol to value 1e-08\n",
      "Set parameter MIPGap to value 0.05\n",
      "Set parameter TimeLimit to value 20\n",
      "Set parameter MIPGap to value 0.05\n",
      "Set parameter TimeLimit to value 20\n",
      "Set parameter FeasibilityTol to value 1e-08\n",
      "Set parameter TimeLimit to value 20\n",
      "Set parameter FeasibilityTol to value 1e-08\n",
      "Set parameter MIPGap to value 0.05\n",
      "Set parameter TimeLimit to value 20\n",
      "Set parameter MIPGap to value 0.05\n",
      "Set parameter TimeLimit to value 20\n",
      "Set parameter FeasibilityTol to value 1e-08\n",
      "Set parameter TimeLimit to value 20\n",
      "Set parameter FeasibilityTol to value 1e-08\n",
      "Set parameter MIPGap to value 0.05\n",
      "Set parameter TimeLimit to value 20\n",
      "Set parameter MIPGap to value 0.05\n",
      "Set parameter TimeLimit to value 20\n",
      "Set parameter FeasibilityTol to value 1e-08\n",
      "Set parameter TimeLimit to value 20\n",
      "Set parameter FeasibilityTol to value 1e-08\n",
      "Set parameter MIPGap to value 0.05\n",
      "Set parameter TimeLimit to value 20\n",
      "Set parameter MIPGap to value 0.05\n",
      "Set parameter TimeLimit to value 20\n",
      "Set parameter FeasibilityTol to value 1e-08\n",
      "Set parameter TimeLimit to value 20\n",
      "Set parameter FeasibilityTol to value 1e-08\n",
      "Set parameter MIPGap to value 0.05\n",
      "Set parameter TimeLimit to value 20\n",
      "Set parameter MIPGap to value 0.05\n",
      "Set parameter TimeLimit to value 20\n",
      "Set parameter FeasibilityTol to value 1e-08\n",
      "Set parameter TimeLimit to value 20\n",
      "Set parameter FeasibilityTol to value 1e-08\n",
      "Set parameter MIPGap to value 0.05\n",
      "Set parameter TimeLimit to value 20\n",
      "Set parameter MIPGap to value 0.05\n",
      "Set parameter TimeLimit to value 20\n",
      "Set parameter FeasibilityTol to value 1e-08\n",
      "Set parameter TimeLimit to value 20\n",
      "Set parameter FeasibilityTol to value 1e-08\n",
      "Set parameter MIPGap to value 0.05\n",
      "Set parameter TimeLimit to value 20\n",
      "Set parameter MIPGap to value 0.05\n",
      "Set parameter TimeLimit to value 20\n",
      "Set parameter FeasibilityTol to value 1e-08\n",
      "Set parameter TimeLimit to value 20\n",
      "Set parameter FeasibilityTol to value 1e-08\n",
      "Set parameter MIPGap to value 0.05\n",
      "Set parameter TimeLimit to value 20\n",
      "Set parameter MIPGap to value 0.05\n",
      "Set parameter TimeLimit to value 20\n",
      "Set parameter FeasibilityTol to value 1e-08\n",
      "Set parameter TimeLimit to value 20\n",
      "Set parameter FeasibilityTol to value 1e-08\n",
      "Set parameter MIPGap to value 0.05\n",
      "Set parameter TimeLimit to value 20\n",
      "Set parameter MIPGap to value 0.05\n",
      "Set parameter TimeLimit to value 20\n",
      "Set parameter FeasibilityTol to value 1e-08\n",
      "Set parameter TimeLimit to value 20\n",
      "Set parameter FeasibilityTol to value 1e-08\n",
      "Set parameter MIPGap to value 0.05\n",
      "Set parameter TimeLimit to value 20\n",
      "Set parameter MIPGap to value 0.05\n",
      "Set parameter TimeLimit to value 20\n",
      "Set parameter FeasibilityTol to value 1e-08\n",
      "Set parameter TimeLimit to value 20\n",
      "Set parameter FeasibilityTol to value 1e-08\n",
      "Set parameter MIPGap to value 0.05\n",
      "Set parameter TimeLimit to value 20\n",
      "Set parameter MIPGap to value 0.05\n",
      "Set parameter TimeLimit to value 20\n",
      "Set parameter FeasibilityTol to value 1e-08\n",
      "Set parameter TimeLimit to value 20\n",
      "Set parameter FeasibilityTol to value 1e-08\n",
      "Set parameter MIPGap to value 0.05\n",
      "Set parameter TimeLimit to value 20\n",
      "Set parameter MIPGap to value 0.05\n",
      "Set parameter TimeLimit to value 20\n",
      "Set parameter FeasibilityTol to value 1e-08\n",
      "Set parameter TimeLimit to value 20\n",
      "Set parameter FeasibilityTol to value 1e-08\n",
      "Set parameter MIPGap to value 0.05\n",
      "Completed configuration  (0.8, 1.25)\n"
     ]
    }
   ],
   "source": [
    "from IPython.display import clear_output\n",
    "\n",
    "kappas = [0.025, 0.05, 0.1, 0.2, 0.4, 0.8, 1.6]\n",
    "cardinality_ratios = [0.01, 0.8] # includes mvo\n",
    "turnover_limits = [0.75, 1, 1.25]\n",
    "\n",
    "for cardinality_ratio, turnover_limit, kappa in product(cardinality_ratios, turnover_limits, kappas):\n",
    "    \n",
    "    clear_output(wait=True)\n",
    "\n",
    "    # initialize strategy\n",
    "    investor_preferences['turnover_limit'] = turnover_limit # turnover limit\n",
    "    investor_preferences['cardinality_ratio'] = cardinality_ratio\n",
    "    investor_preferences['kappa'] = kappa\n",
    "    \n",
    "    Strategy = general_strategy(estimator, optimizer,\n",
    "                                investor_preferences = investor_preferences)\n",
    "\n",
    "    Strategy.extract_estimation_info = populate_exponential_weighted_estimator_shrinkage\n",
    "    Strategy.extract_optimization_info = populate_kwargs\n",
    "\n",
    "    env = environment()\n",
    "\n",
    "    # Start of out-of-sample test period\n",
    "    testStart = returns.index[0] + pd.offsets.DateOffset(years=2)\n",
    "\n",
    "    # End of the first investment period\n",
    "    # testEnd = testStart + pd.offsets.DateOffset(months=investPeriod) - pd.offsets.DateOffset(days = 1)\n",
    "    testEnd = testStart + pd.offsets.MonthBegin(investPeriod) - pd.offsets.DateOffset(days = 1)\n",
    "\n",
    "    # End of calibration period\n",
    "    calEnd = testStart -  pd.offsets.DateOffset(days = 1)\n",
    "    print(\"Testing configuration \", (cardinality_ratio, turnover_limit))\n",
    "    print(\"Test Start\", testStart)\n",
    "    print(\"Test End\", testEnd)\n",
    "    print(\"Calibration End\", calEnd)\n",
    "\n",
    "    # Total number of investment periods\n",
    "    NoPeriods = math.ceil((returns.index[-1].to_period('M') - testStart.to_period('M')).n / investPeriod)\n",
    "    n = len(tickers)\n",
    "\n",
    "    portfValue, elapsed_time, turnover, x, backtest_results, hyperparam_hist = execute_backtest(env, Strategy, tickers, returns, factorRet, ContextualInfo,\n",
    "                     adjClose, daily_adjClose, NoPeriods, testStart, testEnd, calEnd, initialVal,\n",
    "                     investPeriod, hyperparam_search = hyperparam_search)\n",
    "    print(\"Completed configuration \", (cardinality_ratio, turnover_limit))\n",
    "    df, uid = add_to_data_dict(path, df, run, estimator,\n",
    "                 optimizer, universe,\n",
    "                 imputation_method, ticker_str,\n",
    "                 hyperparam_search, NoPeriods, investor_preferences)\n",
    "\n",
    "    export_experimental_results(path, uid, portfValue, elapsed_time, x, turnover)\n",
    "    export_dict(path, uid, backtest_results, 'backtest_results')\n",
    "    export_dict(path, uid, hyperparam_hist, 'hyperparam_hist')\n",
    "\n",
    "    del env\n",
    "    del Strategy"
   ],
   "metadata": {
    "collapsed": false,
    "pycharm": {
     "is_executing": true
    }
   }
  },
  {
   "cell_type": "code",
   "execution_count": 14,
   "outputs": [],
   "source": [
    "curr_df = pd.read_pickle(path+\"//data_dictionary.pkl\")\n",
    "# add experiment info to the data dict\n",
    "df = pd.concat([df, curr_df], axis = 0)\n",
    "\n",
    "df.drop_duplicates(inplace = True)\n",
    "df.to_pickle(path+\"//data_dictionary.pkl\")"
   ],
   "metadata": {
    "collapsed": false,
    "pycharm": {
     "is_executing": true
    },
    "ExecuteTime": {
     "end_time": "2024-02-22T07:15:56.808494800Z",
     "start_time": "2024-02-22T07:15:56.784674800Z"
    }
   }
  },
  {
   "cell_type": "code",
   "execution_count": 15,
   "outputs": [
    {
     "data": {
      "text/plain": "array(['0.03', '0.05', '0.07', '0.09', '0.2', '0.4', '0.6', '0.01', '0.8'],\n      dtype=object)"
     },
     "execution_count": 15,
     "metadata": {},
     "output_type": "execute_result"
    }
   ],
   "source": [
    "df.cardinality_ratio.unique()"
   ],
   "metadata": {
    "collapsed": false,
    "ExecuteTime": {
     "end_time": "2024-02-22T07:15:56.840888600Z",
     "start_time": "2024-02-22T07:15:56.808494800Z"
    }
   }
  },
  {
   "cell_type": "code",
   "execution_count": 16,
   "outputs": [
    {
     "data": {
      "text/plain": "                                                                               uid  \\\n41042a3fdf9a4b9c27972f292b1eeca2e6f4a3cd  41042a3fdf9a4b9c27972f292b1eeca2e6f4a3cd   \n17aafff58c6d8123437df0c8f7e7b65131698bbb  17aafff58c6d8123437df0c8f7e7b65131698bbb   \n0983c7fef7ce4e9eca9bc6b5ba901945776e08fb  0983c7fef7ce4e9eca9bc6b5ba901945776e08fb   \n4d58273723f2e3eed7b615bb82eb34b619c8b26d  4d58273723f2e3eed7b615bb82eb34b619c8b26d   \nc72da2ffaab321da204aa4b118ed328e63e63eac  c72da2ffaab321da204aa4b118ed328e63e63eac   \n...                                                                            ...   \n4de086aa6ae620cb9335d7df03124417cb6db302  4de086aa6ae620cb9335d7df03124417cb6db302   \nc8f62b548889705b7450b534f412a7b11f9d24c8  c8f62b548889705b7450b534f412a7b11f9d24c8   \nfaf384a0b50c45d9b8d470c4000b3c653ac88f7a  faf384a0b50c45d9b8d470c4000b3c653ac88f7a   \n9fbee0a37a59a6f1cf05255a8442693a73f96efa  9fbee0a37a59a6f1cf05255a8442693a73f96efa   \nf03ef03a60cb9313ed39e741968377dcfbe10833  f03ef03a60cb9313ed39e741968377dcfbe10833   \n\n                                                                         estimator  \\\n41042a3fdf9a4b9c27972f292b1eeca2e6f4a3cd  exponential_weighted_estimator_shrinkage   \n17aafff58c6d8123437df0c8f7e7b65131698bbb  exponential_weighted_estimator_shrinkage   \n0983c7fef7ce4e9eca9bc6b5ba901945776e08fb  exponential_weighted_estimator_shrinkage   \n4d58273723f2e3eed7b615bb82eb34b619c8b26d  exponential_weighted_estimator_shrinkage   \nc72da2ffaab321da204aa4b118ed328e63e63eac  exponential_weighted_estimator_shrinkage   \n...                                                                            ...   \n4de086aa6ae620cb9335d7df03124417cb6db302  exponential_weighted_estimator_shrinkage   \nc8f62b548889705b7450b534f412a7b11f9d24c8  exponential_weighted_estimator_shrinkage   \nfaf384a0b50c45d9b8d470c4000b3c653ac88f7a  exponential_weighted_estimator_shrinkage   \n9fbee0a37a59a6f1cf05255a8442693a73f96efa  exponential_weighted_estimator_shrinkage   \nf03ef03a60cb9313ed39e741968377dcfbe10833  exponential_weighted_estimator_shrinkage   \n\n                                               optimizer universe  \\\n41042a3fdf9a4b9c27972f292b1eeca2e6f4a3cd  ClassWgtSVMMVO      ETF   \n17aafff58c6d8123437df0c8f7e7b65131698bbb  ClassWgtSVMMVO      ETF   \n0983c7fef7ce4e9eca9bc6b5ba901945776e08fb  ClassWgtSVMMVO      ETF   \n4d58273723f2e3eed7b615bb82eb34b619c8b26d  ClassWgtSVMMVO      ETF   \nc72da2ffaab321da204aa4b118ed328e63e63eac  ClassWgtSVMMVO      ETF   \n...                                                  ...      ...   \n4de086aa6ae620cb9335d7df03124417cb6db302  ClassWgtSVMMVO      ETF   \nc8f62b548889705b7450b534f412a7b11f9d24c8  ClassWgtSVMMVO      ETF   \nfaf384a0b50c45d9b8d470c4000b3c653ac88f7a  ClassWgtSVMMVO      ETF   \n9fbee0a37a59a6f1cf05255a8442693a73f96efa  ClassWgtSVMMVO      ETF   \nf03ef03a60cb9313ed39e741968377dcfbe10833  ClassWgtSVMMVO      ETF   \n\n                                         imputation_method ticker_str  \\\n41042a3fdf9a4b9c27972f292b1eeca2e6f4a3cd        Univariate        SPY   \n17aafff58c6d8123437df0c8f7e7b65131698bbb        Univariate        SPY   \n0983c7fef7ce4e9eca9bc6b5ba901945776e08fb        Univariate        SPY   \n4d58273723f2e3eed7b615bb82eb34b619c8b26d        Univariate        SPY   \nc72da2ffaab321da204aa4b118ed328e63e63eac        Univariate        SPY   \n...                                                    ...        ...   \n4de086aa6ae620cb9335d7df03124417cb6db302        Univariate        SPY   \nc8f62b548889705b7450b534f412a7b11f9d24c8        Univariate        SPY   \nfaf384a0b50c45d9b8d470c4000b3c653ac88f7a        Univariate        SPY   \n9fbee0a37a59a6f1cf05255a8442693a73f96efa        Univariate        SPY   \nf03ef03a60cb9313ed39e741968377dcfbe10833        Univariate        SPY   \n\n                                         hyperparam_search NoPeriods  \\\n41042a3fdf9a4b9c27972f292b1eeca2e6f4a3cd             False        29   \n17aafff58c6d8123437df0c8f7e7b65131698bbb             False        29   \n0983c7fef7ce4e9eca9bc6b5ba901945776e08fb             False        29   \n4d58273723f2e3eed7b615bb82eb34b619c8b26d             False        29   \nc72da2ffaab321da204aa4b118ed328e63e63eac             False        29   \n...                                                    ...       ...   \n4de086aa6ae620cb9335d7df03124417cb6db302             False        29   \nc8f62b548889705b7450b534f412a7b11f9d24c8             False        29   \nfaf384a0b50c45d9b8d470c4000b3c653ac88f7a             False        29   \n9fbee0a37a59a6f1cf05255a8442693a73f96efa             False        29   \nf03ef03a60cb9313ed39e741968377dcfbe10833             False        29   \n\n                                                   run    C  ... premium   q  \\\n41042a3fdf9a4b9c27972f292b1eeca2e6f4a3cd  SunJan212024  0.1  ...       1  10   \n17aafff58c6d8123437df0c8f7e7b65131698bbb  SunJan212024  0.1  ...       1  10   \n0983c7fef7ce4e9eca9bc6b5ba901945776e08fb  SunJan212024  0.1  ...       1  10   \n4d58273723f2e3eed7b615bb82eb34b619c8b26d  SunJan212024  0.1  ...       1  10   \nc72da2ffaab321da204aa4b118ed328e63e63eac  SunJan212024  0.1  ...       1  10   \n...                                                ...  ...  ...     ...  ..   \n4de086aa6ae620cb9335d7df03124417cb6db302  SunJan212024  0.1  ...       1  10   \nc8f62b548889705b7450b534f412a7b11f9d24c8  SunJan212024  0.1  ...       1  10   \nfaf384a0b50c45d9b8d470c4000b3c653ac88f7a  SunJan212024  0.1  ...       1  10   \n9fbee0a37a59a6f1cf05255a8442693a73f96efa  SunJan212024  0.1  ...       1  10   \nf03ef03a60cb9313ed39e741968377dcfbe10833  SunJan212024  0.1  ...       1  10   \n\n                                         q_alpha separable  \\\n41042a3fdf9a4b9c27972f292b1eeca2e6f4a3cd  0.6838     False   \n17aafff58c6d8123437df0c8f7e7b65131698bbb  0.6838     False   \n0983c7fef7ce4e9eca9bc6b5ba901945776e08fb  0.6838     False   \n4d58273723f2e3eed7b615bb82eb34b619c8b26d  0.6838     False   \nc72da2ffaab321da204aa4b118ed328e63e63eac  0.6838     False   \n...                                          ...       ...   \n4de086aa6ae620cb9335d7df03124417cb6db302  0.6838     False   \nc8f62b548889705b7450b534f412a7b11f9d24c8  0.6838     False   \nfaf384a0b50c45d9b8d470c4000b3c653ac88f7a  0.6838     False   \n9fbee0a37a59a6f1cf05255a8442693a73f96efa  0.6838     False   \nf03ef03a60cb9313ed39e741968377dcfbe10833  0.6838     False   \n\n                                         target_return_strategy  \\\n41042a3fdf9a4b9c27972f292b1eeca2e6f4a3cd         premium_target   \n17aafff58c6d8123437df0c8f7e7b65131698bbb         premium_target   \n0983c7fef7ce4e9eca9bc6b5ba901945776e08fb         premium_target   \n4d58273723f2e3eed7b615bb82eb34b619c8b26d         premium_target   \nc72da2ffaab321da204aa4b118ed328e63e63eac         premium_target   \n...                                                         ...   \n4de086aa6ae620cb9335d7df03124417cb6db302         premium_target   \nc8f62b548889705b7450b534f412a7b11f9d24c8         premium_target   \nfaf384a0b50c45d9b8d470c4000b3c653ac88f7a         premium_target   \n9fbee0a37a59a6f1cf05255a8442693a73f96efa         premium_target   \nf03ef03a60cb9313ed39e741968377dcfbe10833         premium_target   \n\n                                         target_return_strategy_args  \\\n41042a3fdf9a4b9c27972f292b1eeca2e6f4a3cd                 ['premium']   \n17aafff58c6d8123437df0c8f7e7b65131698bbb                 ['premium']   \n0983c7fef7ce4e9eca9bc6b5ba901945776e08fb                 ['premium']   \n4d58273723f2e3eed7b615bb82eb34b619c8b26d                 ['premium']   \nc72da2ffaab321da204aa4b118ed328e63e63eac                 ['premium']   \n...                                                              ...   \n4de086aa6ae620cb9335d7df03124417cb6db302                 ['premium']   \nc8f62b548889705b7450b534f412a7b11f9d24c8                 ['premium']   \nfaf384a0b50c45d9b8d470c4000b3c653ac88f7a                 ['premium']   \n9fbee0a37a59a6f1cf05255a8442693a73f96efa                 ['premium']   \nf03ef03a60cb9313ed39e741968377dcfbe10833                 ['premium']   \n\n                                         ticker_index tightening_iter_lim  \\\n41042a3fdf9a4b9c27972f292b1eeca2e6f4a3cd          250                   1   \n17aafff58c6d8123437df0c8f7e7b65131698bbb          250                   1   \n0983c7fef7ce4e9eca9bc6b5ba901945776e08fb          250                   1   \n4d58273723f2e3eed7b615bb82eb34b619c8b26d          250                   1   \nc72da2ffaab321da204aa4b118ed328e63e63eac          250                   1   \n...                                               ...                 ...   \n4de086aa6ae620cb9335d7df03124417cb6db302          250                   1   \nc8f62b548889705b7450b534f412a7b11f9d24c8          250                   1   \nfaf384a0b50c45d9b8d470c4000b3c653ac88f7a          250                   1   \n9fbee0a37a59a6f1cf05255a8442693a73f96efa          250                   1   \nf03ef03a60cb9313ed39e741968377dcfbe10833          250                   1   \n\n                                         turnover_constraints turnover_limit  \n41042a3fdf9a4b9c27972f292b1eeca2e6f4a3cd                 True           0.75  \n17aafff58c6d8123437df0c8f7e7b65131698bbb                 True           0.75  \n0983c7fef7ce4e9eca9bc6b5ba901945776e08fb                 True           0.75  \n4d58273723f2e3eed7b615bb82eb34b619c8b26d                 True           0.75  \nc72da2ffaab321da204aa4b118ed328e63e63eac                 True           0.75  \n...                                                       ...            ...  \n4de086aa6ae620cb9335d7df03124417cb6db302                 True           1.25  \nc8f62b548889705b7450b534f412a7b11f9d24c8                 True           1.25  \nfaf384a0b50c45d9b8d470c4000b3c653ac88f7a                 True           1.25  \n9fbee0a37a59a6f1cf05255a8442693a73f96efa                 True           1.25  \nf03ef03a60cb9313ed39e741968377dcfbe10833                 True           1.25  \n\n[189 rows x 40 columns]",
      "text/html": "<div>\n<style scoped>\n    .dataframe tbody tr th:only-of-type {\n        vertical-align: middle;\n    }\n\n    .dataframe tbody tr th {\n        vertical-align: top;\n    }\n\n    .dataframe thead th {\n        text-align: right;\n    }\n</style>\n<table border=\"1\" class=\"dataframe\">\n  <thead>\n    <tr style=\"text-align: right;\">\n      <th></th>\n      <th>uid</th>\n      <th>estimator</th>\n      <th>optimizer</th>\n      <th>universe</th>\n      <th>imputation_method</th>\n      <th>ticker_str</th>\n      <th>hyperparam_search</th>\n      <th>NoPeriods</th>\n      <th>run</th>\n      <th>C</th>\n      <th>...</th>\n      <th>premium</th>\n      <th>q</th>\n      <th>q_alpha</th>\n      <th>separable</th>\n      <th>target_return_strategy</th>\n      <th>target_return_strategy_args</th>\n      <th>ticker_index</th>\n      <th>tightening_iter_lim</th>\n      <th>turnover_constraints</th>\n      <th>turnover_limit</th>\n    </tr>\n  </thead>\n  <tbody>\n    <tr>\n      <th>41042a3fdf9a4b9c27972f292b1eeca2e6f4a3cd</th>\n      <td>41042a3fdf9a4b9c27972f292b1eeca2e6f4a3cd</td>\n      <td>exponential_weighted_estimator_shrinkage</td>\n      <td>ClassWgtSVMMVO</td>\n      <td>ETF</td>\n      <td>Univariate</td>\n      <td>SPY</td>\n      <td>False</td>\n      <td>29</td>\n      <td>SunJan212024</td>\n      <td>0.1</td>\n      <td>...</td>\n      <td>1</td>\n      <td>10</td>\n      <td>0.6838</td>\n      <td>False</td>\n      <td>premium_target</td>\n      <td>['premium']</td>\n      <td>250</td>\n      <td>1</td>\n      <td>True</td>\n      <td>0.75</td>\n    </tr>\n    <tr>\n      <th>17aafff58c6d8123437df0c8f7e7b65131698bbb</th>\n      <td>17aafff58c6d8123437df0c8f7e7b65131698bbb</td>\n      <td>exponential_weighted_estimator_shrinkage</td>\n      <td>ClassWgtSVMMVO</td>\n      <td>ETF</td>\n      <td>Univariate</td>\n      <td>SPY</td>\n      <td>False</td>\n      <td>29</td>\n      <td>SunJan212024</td>\n      <td>0.1</td>\n      <td>...</td>\n      <td>1</td>\n      <td>10</td>\n      <td>0.6838</td>\n      <td>False</td>\n      <td>premium_target</td>\n      <td>['premium']</td>\n      <td>250</td>\n      <td>1</td>\n      <td>True</td>\n      <td>0.75</td>\n    </tr>\n    <tr>\n      <th>0983c7fef7ce4e9eca9bc6b5ba901945776e08fb</th>\n      <td>0983c7fef7ce4e9eca9bc6b5ba901945776e08fb</td>\n      <td>exponential_weighted_estimator_shrinkage</td>\n      <td>ClassWgtSVMMVO</td>\n      <td>ETF</td>\n      <td>Univariate</td>\n      <td>SPY</td>\n      <td>False</td>\n      <td>29</td>\n      <td>SunJan212024</td>\n      <td>0.1</td>\n      <td>...</td>\n      <td>1</td>\n      <td>10</td>\n      <td>0.6838</td>\n      <td>False</td>\n      <td>premium_target</td>\n      <td>['premium']</td>\n      <td>250</td>\n      <td>1</td>\n      <td>True</td>\n      <td>0.75</td>\n    </tr>\n    <tr>\n      <th>4d58273723f2e3eed7b615bb82eb34b619c8b26d</th>\n      <td>4d58273723f2e3eed7b615bb82eb34b619c8b26d</td>\n      <td>exponential_weighted_estimator_shrinkage</td>\n      <td>ClassWgtSVMMVO</td>\n      <td>ETF</td>\n      <td>Univariate</td>\n      <td>SPY</td>\n      <td>False</td>\n      <td>29</td>\n      <td>SunJan212024</td>\n      <td>0.1</td>\n      <td>...</td>\n      <td>1</td>\n      <td>10</td>\n      <td>0.6838</td>\n      <td>False</td>\n      <td>premium_target</td>\n      <td>['premium']</td>\n      <td>250</td>\n      <td>1</td>\n      <td>True</td>\n      <td>0.75</td>\n    </tr>\n    <tr>\n      <th>c72da2ffaab321da204aa4b118ed328e63e63eac</th>\n      <td>c72da2ffaab321da204aa4b118ed328e63e63eac</td>\n      <td>exponential_weighted_estimator_shrinkage</td>\n      <td>ClassWgtSVMMVO</td>\n      <td>ETF</td>\n      <td>Univariate</td>\n      <td>SPY</td>\n      <td>False</td>\n      <td>29</td>\n      <td>SunJan212024</td>\n      <td>0.1</td>\n      <td>...</td>\n      <td>1</td>\n      <td>10</td>\n      <td>0.6838</td>\n      <td>False</td>\n      <td>premium_target</td>\n      <td>['premium']</td>\n      <td>250</td>\n      <td>1</td>\n      <td>True</td>\n      <td>0.75</td>\n    </tr>\n    <tr>\n      <th>...</th>\n      <td>...</td>\n      <td>...</td>\n      <td>...</td>\n      <td>...</td>\n      <td>...</td>\n      <td>...</td>\n      <td>...</td>\n      <td>...</td>\n      <td>...</td>\n      <td>...</td>\n      <td>...</td>\n      <td>...</td>\n      <td>...</td>\n      <td>...</td>\n      <td>...</td>\n      <td>...</td>\n      <td>...</td>\n      <td>...</td>\n      <td>...</td>\n      <td>...</td>\n      <td>...</td>\n    </tr>\n    <tr>\n      <th>4de086aa6ae620cb9335d7df03124417cb6db302</th>\n      <td>4de086aa6ae620cb9335d7df03124417cb6db302</td>\n      <td>exponential_weighted_estimator_shrinkage</td>\n      <td>ClassWgtSVMMVO</td>\n      <td>ETF</td>\n      <td>Univariate</td>\n      <td>SPY</td>\n      <td>False</td>\n      <td>29</td>\n      <td>SunJan212024</td>\n      <td>0.1</td>\n      <td>...</td>\n      <td>1</td>\n      <td>10</td>\n      <td>0.6838</td>\n      <td>False</td>\n      <td>premium_target</td>\n      <td>['premium']</td>\n      <td>250</td>\n      <td>1</td>\n      <td>True</td>\n      <td>1.25</td>\n    </tr>\n    <tr>\n      <th>c8f62b548889705b7450b534f412a7b11f9d24c8</th>\n      <td>c8f62b548889705b7450b534f412a7b11f9d24c8</td>\n      <td>exponential_weighted_estimator_shrinkage</td>\n      <td>ClassWgtSVMMVO</td>\n      <td>ETF</td>\n      <td>Univariate</td>\n      <td>SPY</td>\n      <td>False</td>\n      <td>29</td>\n      <td>SunJan212024</td>\n      <td>0.1</td>\n      <td>...</td>\n      <td>1</td>\n      <td>10</td>\n      <td>0.6838</td>\n      <td>False</td>\n      <td>premium_target</td>\n      <td>['premium']</td>\n      <td>250</td>\n      <td>1</td>\n      <td>True</td>\n      <td>1.25</td>\n    </tr>\n    <tr>\n      <th>faf384a0b50c45d9b8d470c4000b3c653ac88f7a</th>\n      <td>faf384a0b50c45d9b8d470c4000b3c653ac88f7a</td>\n      <td>exponential_weighted_estimator_shrinkage</td>\n      <td>ClassWgtSVMMVO</td>\n      <td>ETF</td>\n      <td>Univariate</td>\n      <td>SPY</td>\n      <td>False</td>\n      <td>29</td>\n      <td>SunJan212024</td>\n      <td>0.1</td>\n      <td>...</td>\n      <td>1</td>\n      <td>10</td>\n      <td>0.6838</td>\n      <td>False</td>\n      <td>premium_target</td>\n      <td>['premium']</td>\n      <td>250</td>\n      <td>1</td>\n      <td>True</td>\n      <td>1.25</td>\n    </tr>\n    <tr>\n      <th>9fbee0a37a59a6f1cf05255a8442693a73f96efa</th>\n      <td>9fbee0a37a59a6f1cf05255a8442693a73f96efa</td>\n      <td>exponential_weighted_estimator_shrinkage</td>\n      <td>ClassWgtSVMMVO</td>\n      <td>ETF</td>\n      <td>Univariate</td>\n      <td>SPY</td>\n      <td>False</td>\n      <td>29</td>\n      <td>SunJan212024</td>\n      <td>0.1</td>\n      <td>...</td>\n      <td>1</td>\n      <td>10</td>\n      <td>0.6838</td>\n      <td>False</td>\n      <td>premium_target</td>\n      <td>['premium']</td>\n      <td>250</td>\n      <td>1</td>\n      <td>True</td>\n      <td>1.25</td>\n    </tr>\n    <tr>\n      <th>f03ef03a60cb9313ed39e741968377dcfbe10833</th>\n      <td>f03ef03a60cb9313ed39e741968377dcfbe10833</td>\n      <td>exponential_weighted_estimator_shrinkage</td>\n      <td>ClassWgtSVMMVO</td>\n      <td>ETF</td>\n      <td>Univariate</td>\n      <td>SPY</td>\n      <td>False</td>\n      <td>29</td>\n      <td>SunJan212024</td>\n      <td>0.1</td>\n      <td>...</td>\n      <td>1</td>\n      <td>10</td>\n      <td>0.6838</td>\n      <td>False</td>\n      <td>premium_target</td>\n      <td>['premium']</td>\n      <td>250</td>\n      <td>1</td>\n      <td>True</td>\n      <td>1.25</td>\n    </tr>\n  </tbody>\n</table>\n<p>189 rows × 40 columns</p>\n</div>"
     },
     "execution_count": 16,
     "metadata": {},
     "output_type": "execute_result"
    }
   ],
   "source": [
    "df"
   ],
   "metadata": {
    "collapsed": false,
    "ExecuteTime": {
     "end_time": "2024-02-22T07:15:56.855986100Z",
     "start_time": "2024-02-22T07:15:56.824563900Z"
    }
   }
  },
  {
   "cell_type": "code",
   "execution_count": 16,
   "outputs": [],
   "source": [
    " "
   ],
   "metadata": {
    "collapsed": false,
    "ExecuteTime": {
     "end_time": "2024-02-22T07:15:56.871617500Z",
     "start_time": "2024-02-22T07:15:56.855986100Z"
    }
   }
  }
 ],
 "metadata": {
  "kernelspec": {
   "display_name": "Python 3",
   "language": "python",
   "name": "python3"
  },
  "language_info": {
   "codemirror_mode": {
    "name": "ipython",
    "version": 2
   },
   "file_extension": ".py",
   "mimetype": "text/x-python",
   "name": "python",
   "nbconvert_exporter": "python",
   "pygments_lexer": "ipython2",
   "version": "2.7.6"
  }
 },
 "nbformat": 4,
 "nbformat_minor": 0
}
