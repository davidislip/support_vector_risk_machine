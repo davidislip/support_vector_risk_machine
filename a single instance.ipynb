{
 "cells": [
  {
   "cell_type": "code",
   "execution_count": 11,
   "outputs": [
    {
     "name": "stdout",
     "output_type": "stream",
     "text": [
      "['asset_id', 'currency_id', 'equities_series', 'equity_index_id', 'exchange_id', 'factor_id', 'factors', 'frequency_id', 'fundamentals', 'metric_id', 'source_id', 'ticker_id', 'ticker_index_membership', 'tiingo_tickers']\n"
     ]
    }
   ],
   "source": [
    "import time\n",
    "import math\n",
    "\n",
    "import numpy as np\n",
    "import pandas as pd\n",
    "from services.experiments import *\n",
    "from Database.services.database import Database\n",
    "from sqlalchemy import inspect\n",
    "from services.data_retreival import *\n",
    "from scipy.stats import gmean\n",
    "import matplotlib.pyplot as plt\n",
    "from services.strategies import *\n",
    "from services.optimization_layers import *\n",
    "from services.optimization import *\n",
    "\n",
    "from services.environment_functions import *\n",
    "from services.binary_optimization import *\n",
    "from services.big_m_strategies import *\n",
    "\n",
    "from services.plotting_functions import *\n",
    "import os\n",
    "Database.initialize(\"sqlite:///Database//financial_db.sqlite\") #for courses replace this with a flat file\n",
    "inspector = inspect(Database.engine)\n",
    "print(inspector.get_table_names())\n",
    "\n",
    "universe = 'SP'\n",
    "imputation_method = 'Multivariate'\n",
    "ticker_str = 'AAPL'\n",
    "#exponential params\n",
    "\n",
    "\n",
    "adjClose = pd.read_csv(\"flat_files/MonthlyAssetPrices\"+ universe + \".csv\", index_col=0, header = 1).iloc[1:,:]\n",
    "\n",
    "daily_adjClose =  pd.read_csv(\"flat_files/DailyAssetPrices\"+universe + \".csv\", index_col=0, header = 1).iloc[1:,:]\n",
    "\n",
    "TechnicalAnalysis = pd.read_csv(\"flat_files/TechnicalAnalysis\" + universe + \".csv\", index_col=[0,1])\n",
    "\n",
    "if universe ==  'SP':\n",
    "    FinancialRatios = pd.read_csv(\"flat_files/\" + imputation_method + \"WRDS.csv\", index_col=[0,1])\n",
    "    TechnicalAnalysis.index.names = FinancialRatios.index.names\n",
    "    ContextualInfo = TechnicalAnalysis.merge(FinancialRatios, how = 'left', left_index=True, right_index=True)\n",
    "\n",
    "else:\n",
    "    TechnicalAnalysis.index.names = ['date', 'ticker']\n",
    "    ContextualInfo = TechnicalAnalysis\n"
   ],
   "metadata": {
    "collapsed": false,
    "ExecuteTime": {
     "end_time": "2024-02-20T19:25:46.457807800Z",
     "start_time": "2024-02-20T19:25:44.615105300Z"
    }
   }
  },
  {
   "cell_type": "code",
   "execution_count": 12,
   "outputs": [],
   "source": [
    "adjClose.index = pd.to_datetime(adjClose.index, format='%Y-%m-%d').tz_localize(None)\n",
    "daily_adjClose.index = pd.to_datetime(daily_adjClose.index, format='%Y-%m-%d').tz_localize(None)\n",
    "ContextualInfo.index = ContextualInfo.index.set_levels([pd.to_datetime(ContextualInfo.index.levels[0]).tz_localize(None), ContextualInfo.index.levels[1]])"
   ],
   "metadata": {
    "collapsed": false,
    "ExecuteTime": {
     "end_time": "2024-02-20T19:25:46.489197200Z",
     "start_time": "2024-02-20T19:25:46.441946800Z"
    }
   }
  },
  {
   "cell_type": "code",
   "execution_count": 13,
   "outputs": [
    {
     "name": "stdout",
     "output_type": "stream",
     "text": [
      "The earliest possible start date\n"
     ]
    },
    {
     "data": {
      "text/plain": "Timestamp('1996-11-30 00:00:00')"
     },
     "execution_count": 13,
     "metadata": {},
     "output_type": "execute_result"
    }
   ],
   "source": [
    "print(\"The earliest possible start date\")\n",
    "max(daily_adjClose.index.unique()[0], ContextualInfo.index.get_level_values('date').unique()[0], adjClose.index.unique()[0])"
   ],
   "metadata": {
    "collapsed": false,
    "ExecuteTime": {
     "end_time": "2024-02-20T19:25:46.489197200Z",
     "start_time": "2024-02-20T19:25:46.457807800Z"
    }
   }
  },
  {
   "cell_type": "code",
   "execution_count": 14,
   "outputs": [
    {
     "name": "stdout",
     "output_type": "stream",
     "text": [
      "The latest possible start date\n"
     ]
    },
    {
     "data": {
      "text/plain": "Timestamp('2023-04-21 00:00:00')"
     },
     "execution_count": 14,
     "metadata": {},
     "output_type": "execute_result"
    }
   ],
   "source": [
    "print(\"The latest possible start date\")\n",
    "min(daily_adjClose.index.unique()[-1], ContextualInfo.index.get_level_values('date').unique()[-1], adjClose.index.unique()[-1])"
   ],
   "metadata": {
    "collapsed": false,
    "ExecuteTime": {
     "end_time": "2024-02-20T19:25:46.567906600Z",
     "start_time": "2024-02-20T19:25:46.473561300Z"
    }
   }
  },
  {
   "cell_type": "code",
   "execution_count": 15,
   "outputs": [],
   "source": [
    "\n",
    "start_date = pd.to_datetime('1996-11-30', format = '%Y-%m-%d')\n",
    "\n",
    "end_date = pd.to_datetime('2022-12-31', format = '%Y-%m-%d')\n",
    "\n",
    "# start_date = pd.to_datetime('2006-05-31', format = '%Y-%m-%d')\n",
    "#\n",
    "# end_date = pd.to_datetime('2022-12-31', format = '%Y-%m-%d')\n",
    "\n",
    "factors = ('Mkt-RF', 'RF')\n",
    "\n",
    "factorRet = get_monthly_factors(factors, start_date, end_date, Database)\n",
    "factorRet = factorRet.droplevel(0, axis = 1)\n",
    "factorRet.columns = [col.strip() for col in factorRet.columns]"
   ],
   "metadata": {
    "collapsed": false,
    "ExecuteTime": {
     "end_time": "2024-02-20T19:25:49.374732200Z",
     "start_time": "2024-02-20T19:25:46.489197200Z"
    }
   }
  },
  {
   "cell_type": "code",
   "execution_count": 16,
   "outputs": [],
   "source": [
    "adjClose = adjClose[start_date:end_date]\n",
    "daily_adjClose = daily_adjClose[start_date:end_date]\n",
    "idx = pd.IndexSlice\n",
    "ContextualInfo = ContextualInfo.loc[idx[start_date:end_date, :], :]"
   ],
   "metadata": {
    "collapsed": false,
    "ExecuteTime": {
     "end_time": "2024-02-20T19:25:49.471372500Z",
     "start_time": "2024-02-20T19:25:49.359384900Z"
    }
   }
  },
  {
   "cell_type": "code",
   "execution_count": 17,
   "outputs": [],
   "source": [
    "# Initial budget to invest ($100,000)\n",
    "initialVal = 100000\n",
    "\n",
    "# Length of investment period (in months) - but actually units of data\n",
    "investPeriod = 6\n",
    "\n",
    "# divide the factor returns by 100\n",
    "factorRet = factorRet/100\n",
    "\n",
    "#rf and factor returns\n",
    "#drop the first observation to align the dataset with the returns data that will\n",
    "#result\n",
    "factorRet = factorRet.iloc[1:, :]\n",
    "\n",
    "#rf and factor returns\n",
    "riskFree = factorRet['RF']\n",
    "factorRet = factorRet.loc[:,factorRet.columns != 'RF'];"
   ],
   "metadata": {
    "collapsed": false,
    "ExecuteTime": {
     "end_time": "2024-02-20T19:25:49.487001300Z",
     "start_time": "2024-02-20T19:25:49.471372500Z"
    }
   }
  },
  {
   "cell_type": "code",
   "execution_count": 18,
   "outputs": [],
   "source": [
    "#Identify the tickers and the dates\n",
    "tickers = adjClose.columns\n",
    "dates   = factorRet.index"
   ],
   "metadata": {
    "collapsed": false,
    "ExecuteTime": {
     "end_time": "2024-02-20T19:25:49.502565500Z",
     "start_time": "2024-02-20T19:25:49.487001300Z"
    }
   }
  },
  {
   "cell_type": "code",
   "execution_count": 19,
   "outputs": [],
   "source": [
    "# Calculate the stocks monthly excess returns\n",
    "# pct change and drop the first null observation\n",
    "returns = adjClose.pct_change(1).iloc[1:, :]\n",
    "returns = returns  - np.diag(riskFree.values) @ np.ones_like(returns.values) # risk adjusted returns\n",
    "# Align the price table to the asset and factor returns tables by discarding the first observation.\n",
    "adjClose = adjClose.iloc[1:,:]"
   ],
   "metadata": {
    "collapsed": false,
    "ExecuteTime": {
     "end_time": "2024-02-20T19:25:49.518670900Z",
     "start_time": "2024-02-20T19:25:49.502565500Z"
    }
   }
  },
  {
   "cell_type": "code",
   "execution_count": 20,
   "outputs": [],
   "source": [
    "assert adjClose.index[0] == returns.index[0]\n",
    "assert adjClose.index[0] == factorRet.index[0]"
   ],
   "metadata": {
    "collapsed": false,
    "ExecuteTime": {
     "end_time": "2024-02-20T19:25:49.534301900Z",
     "start_time": "2024-02-20T19:25:49.518670900Z"
    }
   }
  },
  {
   "cell_type": "markdown",
   "source": [
    "# 2. Run your program\n",
    "\n",
    "This section will run your Project1_Function in a loop. The data will be loaded progressively as a growing window of historical observations.\n",
    "Rebalancing will take place after every loop\n",
    "\n",
    "### 2.1 Some Standard Allocation Strategies"
   ],
   "metadata": {
    "collapsed": false
   }
  },
  {
   "cell_type": "code",
   "execution_count": 21,
   "outputs": [],
   "source": [
    "# Some strategies (uncomment this or the next cell to pick a strategy to test)\n",
    "# Strategy = general_strategy(sample_estimator, MVO, NumObs=48)  #the general strategy object takes an estimator function and an optimizer function\n",
    "#                                                                #the only constraint is that the estimators outputs are the optimizers inputs\n",
    "# investor preferences (static throughout the backtest)\n",
    "hyperparam_search = False # True if model has hyperparams\n",
    "optimizer = CardMVO # CardMVO , MVO\n",
    "estimator = exponential_weighted_estimator_shrinkage #\n",
    "EstNumObs = 750\n",
    "k = 6*20 #estimation horizon\n",
    "alpha= 1 - 0.990 #estimation decay\n",
    "return_premium = 1 #optimization premium\n",
    "\n",
    "turnover_constraints = True\n",
    "turnover_limit = 0.75 # 0.75, 1, 1.25\n",
    "cardinality_ratio = 0.5 #optimization\n",
    "\n",
    "MipGap = 0.05 # for portfolio optimizer\n",
    "limit_time = 20 # for portfolio optimizer\n",
    "\n",
    "target_return_strategy = premium_target # for portfolio optimizer to calculate return target\n",
    "# mean_target, premium_target, ticker_return_target\n",
    "target_return_strategy_args = ['premium'] # args for the return strategy\n",
    "\n",
    "bigMStrategy = HyperparameterBigMStrategy #objectiveBigMStrategy #objectiveBigMStrategyTightening , objectiveBigMStrategy\n",
    "\n",
    "bigM_limit_time=20 # for the feasible solution used to calculate big M\n",
    "bigM_MipGap=0.05 # for the feasible solution used to calculate big M\n",
    "bigM_SolutionLimit=20 # for the feasible solution used to calculate big <\n",
    "\n",
    "SkipSOCP = True # flag to skip the SOCP\n",
    "tightening_iter_lim = 1 # number of iterations of tightening to do\n",
    "\n",
    "SVMMVO_bigM_time_limit = 5 # for computing a better solution in the tightening strategy\n",
    "SVMMVO_MipGap=0.1 # for computing a better solution in the tightening strategy\n",
    "SVMMVO_SolutionLimit=5 # for computing a better solution in the tightening strategy\n",
    "\n",
    "SOCP_limit_time=10 # time limit for the SOCP's\n",
    "\n",
    "ticker_index = tickers.get_loc(ticker_str) # the ticker we want to compare to if\n",
    "#  we are using the ticker_return_target strategy\n",
    "\n",
    "q = 2 #subset of features\n",
    "\n",
    "C = 0.1 # separation importance\n",
    "\n",
    "epsilon = 0.1 # regularization amount for SVM\n",
    "\n",
    "separable = False # do not restrict the hyperplane to be separable\n",
    "\n",
    "LogToConsole = True # display optimization results in the console\n",
    "Verbose = True # print statements\n",
    "\n",
    "hyperparams = {'C': list(np.geomspace(0.1, 100, 4)), 'epsilon': list(np.geomspace(0.1, 100, 4))} # hyperparams for hyperparam search\n",
    "#q_alpha = 0.3187 # alpha for Q(t, a) = (1 - q_alpha) Q(t-1. a) + R(t, a)\n",
    "q_alpha = 0.6838\n",
    "kappa = 0.1 # 10 % risk/turnover tolerance\n",
    "\n",
    "investor_preferences = {'k':k, # horizon\n",
    "                        'alpha':alpha, # decay\n",
    "                        'premium':return_premium, # return premium preference\n",
    "                        'EstNumObs':EstNumObs,\n",
    "                        'ticker_index':ticker_index, # benchmark index for comparison used in place of return premium depending on the investors function to set r_min\n",
    "                        'target_return_strategy':target_return_strategy, # strategy for setting return\n",
    "                        'target_return_strategy_args': target_return_strategy_args, # args for return setting strategy\n",
    "                        'turnover_limit':turnover_limit, # turnover limit\n",
    "                        'turnover_constraints':turnover_constraints, # turnover limit choice (Y/N)\n",
    "                        'cardinality_ratio': cardinality_ratio, # Pct of assets to invest in\n",
    "                        'MipGap' : MipGap, 'limit_time':limit_time, # problem solving limits\n",
    "    \n",
    "                        'bigMStrategy':bigMStrategy,\n",
    "                        'bigM_limit_time':bigM_limit_time,\n",
    "                        'bigM_MipGap':bigM_MipGap,\n",
    "                        'bigM_SolutionLimit':bigM_SolutionLimit,\n",
    "\n",
    "                        'SkipSOCP':SkipSOCP,\n",
    "                        'tightening_iter_lim':tightening_iter_lim,\n",
    "\n",
    "                        'SVMMVO_bigM_time_limit':SVMMVO_bigM_time_limit,\n",
    "                        'SVMMVO_MipGap':SVMMVO_MipGap,\n",
    "                        'SVMMVO_SolutionLimit':SVMMVO_SolutionLimit,\n",
    "\n",
    "                        'SOCP_limit_time':SOCP_limit_time,\n",
    "                        'q':q,\n",
    "                        'C':C,\n",
    "                        'epsilon':epsilon,\n",
    "                        'separable':separable,\n",
    "                        'LogToConsole':LogToConsole,\n",
    "                        'Verbose':Verbose,\n",
    "                        'hyperparams':hyperparams,\n",
    "                        'q_alpha':q_alpha,\n",
    "                        'kappa':kappa}\n",
    "\n",
    "Strategy = general_strategy(estimator, optimizer,\n",
    "                            investor_preferences = investor_preferences)\n",
    "\n",
    "Strategy.extract_estimation_info = populate_exponential_weighted_estimator_shrinkage\n",
    "Strategy.extract_optimization_info = populate_kwargs\n",
    "\n",
    "StrategyCardMVO = general_strategy(estimator, CardMVO,\n",
    "                            investor_preferences = investor_preferences)\n",
    "\n",
    "StrategyCardMVO.extract_estimation_info = populate_exponential_weighted_estimator_shrinkage\n",
    "StrategyCardMVO.extract_optimization_info = populate_kwargs\n",
    "\n",
    "env = environment()\n",
    "# see strategy script for different options OLS_RP() #OLS_MVO() #HistoricalMeanVarianceOptimization()"
   ],
   "metadata": {
    "collapsed": false,
    "ExecuteTime": {
     "end_time": "2024-02-20T19:26:12.255955800Z",
     "start_time": "2024-02-20T19:26:12.240332200Z"
    }
   }
  },
  {
   "cell_type": "code",
   "execution_count": 22,
   "outputs": [],
   "source": [
    "\n",
    "# Start of out-of-sample test period\n",
    "testStart = returns.index[0] + pd.offsets.DateOffset(years=2)\n",
    "\n",
    "# End of the first investment period\n",
    "# testEnd = testStart + pd.offsets.DateOffset(months=investPeriod) - pd.offsets.DateOffset(days = 1)\n",
    "testEnd = testStart + pd.offsets.MonthBegin(investPeriod) - pd.offsets.DateOffset(days = 1)\n",
    "\n",
    "# End of calibration period\n",
    "calEnd = testStart -  pd.offsets.DateOffset(days = 1)"
   ],
   "metadata": {
    "collapsed": false,
    "ExecuteTime": {
     "end_time": "2024-02-20T19:26:13.035592400Z",
     "start_time": "2024-02-20T19:26:13.019954200Z"
    }
   }
  },
  {
   "cell_type": "code",
   "execution_count": 23,
   "outputs": [
    {
     "name": "stdout",
     "output_type": "stream",
     "text": [
      "Test Start 1998-12-31 00:00:00\n",
      "Test End 1999-05-31 00:00:00\n",
      "Calibration End 1998-12-30 00:00:00\n"
     ]
    }
   ],
   "source": [
    "print(\"Test Start\", testStart)\n",
    "print(\"Test End\", testEnd)\n",
    "print(\"Calibration End\", calEnd)"
   ],
   "metadata": {
    "collapsed": false,
    "ExecuteTime": {
     "end_time": "2024-02-20T19:26:13.930065200Z",
     "start_time": "2024-02-20T19:26:13.914424700Z"
    }
   }
  },
  {
   "cell_type": "code",
   "execution_count": 24,
   "outputs": [
    {
     "name": "stdout",
     "output_type": "stream",
     "text": [
      "Set parameter Username\n",
      "Academic license - for non-commercial use only - expires 2024-12-21\n",
      "Set parameter TimeLimit to value 20\n",
      "Set parameter MIPGap to value 0.05\n",
      "Set parameter FeasibilityTol to value 1e-08\n",
      "--------------------\n",
      "Solving Card MVO...\n",
      "Gurobi Optimizer version 11.0.0 build v11.0.0rc2 (win64 - Windows 11.0 (22621.2))\n",
      "\n",
      "CPU model: 12th Gen Intel(R) Core(TM) i7-12700H, instruction set [SSE2|AVX|AVX2]\n",
      "Thread count: 14 physical cores, 20 logical processors, using up to 20 threads\n",
      "\n",
      "Optimize a model with 289 rows, 572 columns and 1430 nonzeros\n",
      "Model fingerprint: 0x8e9cdbc0\n",
      "Model has 41041 quadratic objective terms\n",
      "Variable types: 286 continuous, 286 integer (286 binary)\n",
      "Coefficient statistics:\n",
      "  Matrix range     [9e-04, 1e+00]\n",
      "  Objective range  [0e+00, 0e+00]\n",
      "  QObjective range [1e-05, 2e+00]\n",
      "  Bounds range     [1e+00, 1e+00]\n",
      "  RHS range        [3e-01, 1e+02]\n",
      "Presolve time: 0.02s\n",
      "Presolved: 391 rows, 623 columns, 1634 nonzeros\n",
      "Presolved model has 41092 quadratic objective terms\n",
      "Variable types: 337 continuous, 286 integer (286 binary)\n",
      "Found heuristic solution: objective 0.0101080\n",
      "Found heuristic solution: objective 0.0079182\n",
      "\n",
      "Root relaxation: objective 7.218189e-03, 156 iterations, 0.00 seconds (0.00 work units)\n",
      "\n",
      "    Nodes    |    Current Node    |     Objective Bounds      |     Work\n",
      " Expl Unexpl |  Obj  Depth IntInf | Incumbent    BestBd   Gap | It/Node Time\n",
      "\n",
      "     0     0    0.00722    0   41    0.00792    0.00722  8.84%     -    0s\n",
      "H    0     0                       0.0072182    0.00722  0.00%     -    0s\n",
      "     0     0    0.00722    0   41    0.00722    0.00722  0.00%     -    0s\n",
      "\n",
      "Explored 1 nodes (156 simplex iterations) in 0.05 seconds (0.02 work units)\n",
      "Thread count was 20 (of 20 available processors)\n",
      "\n",
      "Solution count 3: 0.00721819 0.00791823 0.010108 \n",
      "\n",
      "Optimal solution found (tolerance 5.00e-02)\n",
      "Best objective 7.218189340691e-03, best bound 7.218189340691e-03, gap 0.0000%\n",
      "Card MVO Finished...\n",
      "--------------------\n",
      "Set parameter TimeLimit to value 20\n",
      "Set parameter MIPGap to value 0.05\n",
      "Set parameter FeasibilityTol to value 1e-08\n",
      "--------------------\n",
      "Solving Card MVO...\n",
      "Gurobi Optimizer version 11.0.0 build v11.0.0rc2 (win64 - Windows 11.0 (22621.2))\n",
      "\n",
      "CPU model: 12th Gen Intel(R) Core(TM) i7-12700H, instruction set [SSE2|AVX|AVX2]\n",
      "Thread count: 14 physical cores, 20 logical processors, using up to 20 threads\n",
      "\n",
      "Optimize a model with 289 rows, 572 columns and 1430 nonzeros\n",
      "Model fingerprint: 0x8e9cdbc0\n",
      "Model has 41041 quadratic objective terms\n",
      "Variable types: 286 continuous, 286 integer (286 binary)\n",
      "Coefficient statistics:\n",
      "  Matrix range     [9e-04, 1e+00]\n",
      "  Objective range  [0e+00, 0e+00]\n",
      "  QObjective range [1e-05, 2e+00]\n",
      "  Bounds range     [1e+00, 1e+00]\n",
      "  RHS range        [3e-01, 1e+02]\n",
      "Presolve time: 0.02s\n",
      "Presolved: 391 rows, 623 columns, 1634 nonzeros\n",
      "Presolved model has 41092 quadratic objective terms\n",
      "Variable types: 337 continuous, 286 integer (286 binary)\n",
      "Found heuristic solution: objective 0.0101080\n",
      "Found heuristic solution: objective 0.0079182\n",
      "\n",
      "Root relaxation: objective 7.218189e-03, 156 iterations, 0.00 seconds (0.00 work units)\n",
      "\n",
      "    Nodes    |    Current Node    |     Objective Bounds      |     Work\n",
      " Expl Unexpl |  Obj  Depth IntInf | Incumbent    BestBd   Gap | It/Node Time\n",
      "\n",
      "     0     0    0.00722    0   41    0.00792    0.00722  8.84%     -    0s\n",
      "H    0     0                       0.0072182    0.00722  0.00%     -    0s\n",
      "     0     0    0.00722    0   41    0.00722    0.00722  0.00%     -    0s\n",
      "\n",
      "Explored 1 nodes (156 simplex iterations) in 0.05 seconds (0.02 work units)\n",
      "Thread count was 20 (of 20 available processors)\n",
      "\n",
      "Solution count 3: 0.00721819 0.00791823 0.010108 \n",
      "\n",
      "Optimal solution found (tolerance 5.00e-02)\n",
      "Best objective 7.218189340691e-03, best bound 7.218189340691e-03, gap 0.0000%\n",
      "Card MVO Finished...\n",
      "--------------------\n"
     ]
    }
   ],
   "source": [
    "# Number of assets\n",
    "n  = len(tickers)\n",
    "env.n = n\n",
    "\n",
    "# Measure runtime: start the clock\n",
    "start_time = time.time()\n",
    "\n",
    "# Subset the returns and factor returns corresponding to the current calibration period.\n",
    "periodReturns = returns[returns.index <= calEnd]\n",
    "periodFactRet = factorRet[factorRet.index <= calEnd]\n",
    "\n",
    "# take the last available contextual observations\n",
    "period_daily_adjClose = daily_adjClose[daily_adjClose.index <= calEnd]\n",
    "period_Context_idx = ContextualInfo.index.get_level_values('date') <= calEnd\n",
    "period_Context = ContextualInfo.iloc[period_Context_idx].groupby('ticker').last()\n",
    "\n",
    "env.periodReturns = periodReturns\n",
    "env.periodFactRet = periodFactRet\n",
    "env.period_daily_adjClose = period_daily_adjClose\n",
    "env.period_Context = period_Context\n",
    "\n",
    "# there should be a feature vector for each asset\n",
    "assert len(period_Context) == n\n",
    "# all the tickers should be aligned in the context and ticker dataset\n",
    "assert (periodReturns.columns == period_Context.index).all()\n",
    "\n",
    "current_price_idx = (calEnd - pd.offsets.DateOffset(months=1) <= adjClose.index)&(adjClose.index <= calEnd)\n",
    "currentPrices = adjClose[current_price_idx]\n",
    "\n",
    "# Subset the prices corresponding to the current out-of-sample test period.\n",
    "periodPrices_idx = (testStart <= adjClose.index)&(adjClose.index <= testEnd)\n",
    "periodPrices = adjClose[periodPrices_idx]\n",
    "\n",
    "assert len(periodPrices) == investPeriod\n",
    "assert len(currentPrices) == 1\n",
    "\n",
    "# Set the initial value of the portfolio or update the portfolio value\n",
    "\n",
    "#----------------------------------------------------------------------\n",
    "# Portfolio optimization\n",
    "# You must write code your own algorithmic trading function\n",
    "#----------------------------------------------------------------------\n",
    "\n",
    "x = Strategy.execute_strategy(periodReturns, periodFactRet, environment=env) #equal_weight(periodReturns) #StrategyFunction(periodReturns, periodFactRet, x0[:,t]);\n",
    "x = StrategyCardMVO.execute_strategy(periodReturns, periodFactRet, environment=env) #equal_weight(periodReturns) #StrategyFunction(periodReturns, periodFactRet, x0[:,t]);\n",
    "\n",
    "end_time = time.time()"
   ],
   "metadata": {
    "collapsed": false,
    "ExecuteTime": {
     "end_time": "2024-02-20T19:26:16.696692Z",
     "start_time": "2024-02-20T19:26:16.430195Z"
    }
   }
  },
  {
   "cell_type": "code",
   "execution_count": 25,
   "outputs": [
    {
     "data": {
      "text/plain": "dict_keys(['obj_value', 'time', 'optimality gap', 'x', 'z', 'feasible_solution', 'optimization_params'])"
     },
     "execution_count": 25,
     "metadata": {},
     "output_type": "execute_result"
    }
   ],
   "source": [
    "Strategy.current_results.keys()"
   ],
   "metadata": {
    "collapsed": false,
    "ExecuteTime": {
     "end_time": "2024-02-20T19:26:18.473157900Z",
     "start_time": "2024-02-20T19:26:18.441756600Z"
    }
   }
  },
  {
   "cell_type": "code",
   "execution_count": 26,
   "outputs": [
    {
     "data": {
      "text/plain": "dict_keys(['targetRet', 'previous_portfolio', 'K', 'k', 'alpha', 'premium', 'EstNumObs', 'ticker_index', 'target_return_strategy', 'target_return_strategy_args', 'turnover_limit', 'turnover_constraints', 'cardinality_ratio', 'MipGap', 'limit_time', 'bigMStrategy', 'bigM_limit_time', 'bigM_MipGap', 'bigM_SolutionLimit', 'SkipSOCP', 'tightening_iter_lim', 'SVMMVO_bigM_time_limit', 'SVMMVO_MipGap', 'SVMMVO_SolutionLimit', 'SOCP_limit_time', 'q', 'C', 'epsilon', 'separable', 'LogToConsole', 'Verbose', 'hyperparams', 'q_alpha', 'kappa'])"
     },
     "execution_count": 26,
     "metadata": {},
     "output_type": "execute_result"
    }
   ],
   "source": [
    "Strategy.current_results['optimization_params'].keys()"
   ],
   "metadata": {
    "collapsed": false,
    "ExecuteTime": {
     "end_time": "2024-02-20T19:26:25.130268400Z",
     "start_time": "2024-02-20T19:26:25.098967800Z"
    }
   }
  },
  {
   "cell_type": "code",
   "execution_count": 27,
   "outputs": [
    {
     "data": {
      "text/plain": "0.007218189340691205"
     },
     "execution_count": 27,
     "metadata": {},
     "output_type": "execute_result"
    }
   ],
   "source": [
    "Strategy.current_results['obj_value'] # bound satisfied"
   ],
   "metadata": {
    "collapsed": false,
    "ExecuteTime": {
     "end_time": "2024-02-20T19:26:25.479013300Z",
     "start_time": "2024-02-20T19:26:25.447769Z"
    }
   }
  },
  {
   "cell_type": "code",
   "execution_count": 29,
   "outputs": [
    {
     "data": {
      "text/plain": "0.007940008274760326"
     },
     "execution_count": 29,
     "metadata": {},
     "output_type": "execute_result"
    }
   ],
   "source": [
    "StrategyCardMVO.current_results['obj_value']*(1 + kappa)"
   ],
   "metadata": {
    "collapsed": false,
    "ExecuteTime": {
     "end_time": "2024-02-20T19:26:39.159722500Z",
     "start_time": "2024-02-20T19:26:39.128465200Z"
    }
   }
  },
  {
   "cell_type": "code",
   "execution_count": 30,
   "outputs": [],
   "source": [
    "x_svmmvo = Strategy.current_results['x']\n",
    "x_cardmvo = StrategyCardMVO.current_results['x']"
   ],
   "metadata": {
    "collapsed": false,
    "ExecuteTime": {
     "end_time": "2024-02-20T19:26:39.496242600Z",
     "start_time": "2024-02-20T19:26:39.480701800Z"
    }
   }
  },
  {
   "cell_type": "code",
   "execution_count": 31,
   "outputs": [],
   "source": [
    "portfolios = pd.DataFrame([x_svmmvo, x_cardmvo], columns = tickers, index = ['SVMMVO','CardMVO']).T"
   ],
   "metadata": {
    "collapsed": false,
    "ExecuteTime": {
     "end_time": "2024-02-20T19:26:40.220105700Z",
     "start_time": "2024-02-20T19:26:40.204433100Z"
    }
   }
  },
  {
   "cell_type": "code",
   "execution_count": 32,
   "outputs": [
    {
     "data": {
      "text/plain": "<Figure size 400x600 with 1 Axes>",
      "image/png": "[encoded data removed]"
     },
     "metadata": {},
     "output_type": "display_data"
    }
   ],
   "source": [
    "portfolios[(portfolios > 0.001).any(axis =1)].plot.barh(figsize = (4, 6));"
   ],
   "metadata": {
    "collapsed": false,
    "ExecuteTime": {
     "end_time": "2024-02-20T19:26:41.391830800Z",
     "start_time": "2024-02-20T19:26:41.139269600Z"
    }
   }
  }
 ],
 "metadata": {
  "kernelspec": {
   "display_name": "Python 3",
   "language": "python",
   "name": "python3"
  },
  "language_info": {
   "codemirror_mode": {
    "name": "ipython",
    "version": 2
   },
   "file_extension": ".py",
   "mimetype": "text/x-python",
   "name": "python",
   "nbconvert_exporter": "python",
   "pygments_lexer": "ipython2",
   "version": "2.7.6"
  }
 },
 "nbformat": 4,
 "nbformat_minor": 0
}
