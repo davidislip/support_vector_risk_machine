{
 "cells": [
  {
   "cell_type": "markdown",
   "source": [
    "\n",
    "# Running the Experiments\n",
    "\n",
    "# 1. Read input files"
   ],
   "metadata": {
    "collapsed": false
   }
  },
  {
   "cell_type": "code",
   "execution_count": 12,
   "outputs": [
    {
     "name": "stdout",
     "output_type": "stream",
     "text": [
      "['asset_id', 'currency_id', 'equities_series', 'equity_index_id', 'exchange_id', 'factor_id', 'factors', 'frequency_id', 'fundamentals', 'metric_id', 'source_id', 'ticker_id', 'ticker_index_membership', 'tiingo_tickers']\n"
     ]
    }
   ],
   "source": [
    "import time\n",
    "import math\n",
    "\n",
    "import numpy as np\n",
    "import pandas as pd\n",
    "from itertools import product\n",
    "from Database.services.database import Database\n",
    "from sqlalchemy import inspect\n",
    "from services.data_retreival import *\n",
    "from scipy.stats import gmean\n",
    "import matplotlib.pyplot as plt\n",
    "from services.strategies import *\n",
    "from services.optimization_layers import *\n",
    "from services.optimization import *\n",
    "from services.binary_optimization import *\n",
    "from services.environment_functions import *\n",
    "from services.big_m_strategies import *\n",
    "from services.experiments import *\n",
    "from services.class_weighted_bigM import *\n",
    "from services.class_weighted_models import *\n",
    "\n",
    "Database.initialize(\"sqlite:///Database//financial_db.sqlite\") #for courses replace this with a flat file\n",
    "inspector = inspect(Database.engine)\n",
    "print(inspector.get_table_names())\n",
    "\n",
    "universe = 'ETF'\n",
    "imputation_method = 'Univariate'\n",
    "ticker_str = 'SPY'\n",
    "#exponential params\n",
    "\n",
    "\n",
    "adjClose = pd.read_csv(\"flat_files/MonthlyAssetPrices\"+ universe + \".csv\", index_col=0, header = 1).iloc[1:,:]\n",
    "\n",
    "daily_adjClose =  pd.read_csv(\"flat_files/DailyAssetPrices\"+universe + \".csv\", index_col=0, header = 1).iloc[1:,:]\n",
    "\n",
    "TechnicalAnalysis = pd.read_csv(\"flat_files/TechnicalAnalysis\" + universe + \".csv\", index_col=[0,1])\n",
    "\n",
    "if universe ==  'SP':\n",
    "    FinancialRatios = pd.read_csv(\"flat_files/\" + imputation_method + \"WRDS.csv\", index_col=[0,1])\n",
    "    TechnicalAnalysis.index.names = FinancialRatios.index.names\n",
    "    ContextualInfo = TechnicalAnalysis.merge(FinancialRatios, how = 'left', left_index=True, right_index=True)\n",
    "\n",
    "else:\n",
    "    TechnicalAnalysis.index.names = ['date', 'ticker']\n",
    "    ContextualInfo = TechnicalAnalysis\n"
   ],
   "metadata": {
    "collapsed": false,
    "ExecuteTime": {
     "end_time": "2024-02-26T02:47:07.769407800Z",
     "start_time": "2024-02-26T02:47:07.340021200Z"
    }
   }
  },
  {
   "cell_type": "code",
   "execution_count": 13,
   "outputs": [],
   "source": [
    "adjClose.index = pd.to_datetime(adjClose.index, format='%Y-%m-%d').tz_localize(None)\n",
    "daily_adjClose.index = pd.to_datetime(daily_adjClose.index, format='%Y-%m-%d').tz_localize(None)\n",
    "ContextualInfo.index = ContextualInfo.index.set_levels([pd.to_datetime(ContextualInfo.index.levels[0]).tz_localize(None), ContextualInfo.index.levels[1]])"
   ],
   "metadata": {
    "collapsed": false,
    "ExecuteTime": {
     "end_time": "2024-02-26T02:47:07.791217200Z",
     "start_time": "2024-02-26T02:47:07.771442900Z"
    }
   }
  },
  {
   "cell_type": "code",
   "execution_count": 14,
   "outputs": [
    {
     "name": "stdout",
     "output_type": "stream",
     "text": [
      "The earliest possible start date\n"
     ]
    },
    {
     "data": {
      "text/plain": "Timestamp('2006-01-31 00:00:00')"
     },
     "execution_count": 14,
     "metadata": {},
     "output_type": "execute_result"
    }
   ],
   "source": [
    "print(\"The earliest possible start date\")\n",
    "max(daily_adjClose.index.unique()[0], ContextualInfo.index.get_level_values('date').unique()[0], adjClose.index.unique()[0])"
   ],
   "metadata": {
    "collapsed": false,
    "ExecuteTime": {
     "end_time": "2024-02-26T02:47:07.801682100Z",
     "start_time": "2024-02-26T02:47:07.787121500Z"
    }
   }
  },
  {
   "cell_type": "code",
   "execution_count": 15,
   "outputs": [
    {
     "name": "stdout",
     "output_type": "stream",
     "text": [
      "The latest possible start date\n"
     ]
    },
    {
     "data": {
      "text/plain": "Timestamp('2023-04-21 00:00:00')"
     },
     "execution_count": 15,
     "metadata": {},
     "output_type": "execute_result"
    }
   ],
   "source": [
    "print(\"The latest possible start date\")\n",
    "min(daily_adjClose.index.unique()[-1], ContextualInfo.index.get_level_values('date').unique()[-1], adjClose.index.unique()[-1])"
   ],
   "metadata": {
    "collapsed": false,
    "ExecuteTime": {
     "end_time": "2024-02-26T02:47:07.943081600Z",
     "start_time": "2024-02-26T02:47:07.936899700Z"
    }
   }
  },
  {
   "cell_type": "code",
   "execution_count": 16,
   "outputs": [],
   "source": [
    "# start_date = pd.to_datetime('1996-11-30', format = '%Y-%m-%d')\n",
    "# \n",
    "# end_date = pd.to_datetime('2022-12-31', format = '%Y-%m-%d')\n",
    "\n",
    "start_date = pd.to_datetime('2006-05-31', format = '%Y-%m-%d')\n",
    "\n",
    "end_date = pd.to_datetime('2022-12-31', format = '%Y-%m-%d')\n",
    "\n",
    "factors = ('Mkt-RF', 'RF')\n",
    "\n",
    "factorRet = get_monthly_factors(factors, start_date, end_date, Database)\n",
    "\n",
    "factorRet = factorRet.droplevel(0, axis = 1)\n",
    "factorRet.columns = [col.strip() for col in factorRet.columns]"
   ],
   "metadata": {
    "collapsed": false,
    "ExecuteTime": {
     "end_time": "2024-02-26T02:47:10.393982400Z",
     "start_time": "2024-02-26T02:47:08.104268100Z"
    }
   }
  },
  {
   "cell_type": "code",
   "execution_count": 17,
   "outputs": [],
   "source": [
    "adjClose = adjClose[start_date:end_date]\n",
    "daily_adjClose = daily_adjClose[start_date:end_date]\n",
    "idx = pd.IndexSlice\n",
    "ContextualInfo = ContextualInfo.loc[idx[start_date:end_date, :], :]"
   ],
   "metadata": {
    "collapsed": false,
    "ExecuteTime": {
     "end_time": "2024-02-26T02:47:10.409466900Z",
     "start_time": "2024-02-26T02:47:10.395012300Z"
    }
   }
  },
  {
   "cell_type": "code",
   "execution_count": 18,
   "outputs": [],
   "source": [
    "# Initial budget to invest ($100,000)\n",
    "initialVal = 100000\n",
    "\n",
    "# Length of investment period (in months) - but actually units of data\n",
    "investPeriod = 6\n",
    "\n",
    "# divide the factor returns by 100\n",
    "factorRet = factorRet/100\n",
    "\n",
    "#rf and factor returns\n",
    "#drop the first observation to align the dataset with the returns data that will\n",
    "#result\n",
    "factorRet = factorRet.iloc[1:, :]\n",
    "\n",
    "#rf and factor returns\n",
    "riskFree = factorRet['RF']\n",
    "factorRet = factorRet.loc[:,factorRet.columns != 'RF'];"
   ],
   "metadata": {
    "collapsed": false,
    "ExecuteTime": {
     "end_time": "2024-02-26T02:47:10.427943100Z",
     "start_time": "2024-02-26T02:47:10.411501100Z"
    }
   }
  },
  {
   "cell_type": "code",
   "execution_count": 19,
   "outputs": [],
   "source": [
    "#Identify the tickers and the dates\n",
    "tickers = adjClose.columns\n",
    "dates   = factorRet.index"
   ],
   "metadata": {
    "collapsed": false,
    "ExecuteTime": {
     "end_time": "2024-02-26T02:47:10.440384400Z",
     "start_time": "2024-02-26T02:47:10.425900500Z"
    }
   }
  },
  {
   "cell_type": "code",
   "execution_count": 20,
   "outputs": [],
   "source": [
    "# Calculate the stocks monthly excess returns\n",
    "# pct change and drop the first null observation\n",
    "returns = adjClose.pct_change(1).iloc[1:, :]\n",
    "returns = returns  - np.diag(riskFree.values) @ np.ones_like(returns.values) # risk adjusted returns\n",
    "# Align the price table to the asset and factor returns tables by discarding the first observation.\n",
    "adjClose = adjClose.iloc[1:,:]"
   ],
   "metadata": {
    "collapsed": false,
    "ExecuteTime": {
     "end_time": "2024-02-26T02:47:10.458829Z",
     "start_time": "2024-02-26T02:47:10.442432200Z"
    }
   }
  },
  {
   "cell_type": "code",
   "execution_count": 21,
   "outputs": [],
   "source": [
    "assert adjClose.index[0] == returns.index[0]\n",
    "assert adjClose.index[0] == factorRet.index[0]"
   ],
   "metadata": {
    "collapsed": false,
    "ExecuteTime": {
     "end_time": "2024-02-26T02:47:10.471340900Z",
     "start_time": "2024-02-26T02:47:10.456775300Z"
    }
   }
  },
  {
   "cell_type": "markdown",
   "source": [
    "# 2. Run your program\n",
    "\n",
    "This section will run your Project1_Function in a loop. The data will be loaded progressively as a growing window of historical observations.\n",
    "Rebalancing will take place after every loop\n",
    "\n",
    "### 2.1 Some Standard Allocation Strategies"
   ],
   "metadata": {
    "collapsed": false
   }
  },
  {
   "cell_type": "code",
   "execution_count": 22,
   "outputs": [],
   "source": [
    "# Some strategies (uncomment this or the next cell to pick a strategy to test)\n",
    "# Strategy = general_strategy(sample_estimator, MVO, NumObs=48)  #the general strategy object takes an estimator function and an optimizer function\n",
    "#                                                                #the only constraint is that the estimators outputs are the optimizers inputs\n",
    "# investor preferences (static throughout the backtest)\n",
    "run = 'SunJan212024'\n",
    "hyperparam_search = False # True if model has hyperparams\n",
    "optimizer = ClassWgtSVMMVO # CardMVO , MVO\n",
    "estimator = exponential_weighted_estimator_shrinkage #\n",
    "EstNumObs = 750\n",
    "k = 6*20 #estimation horizon\n",
    "alpha= 1 - 0.990 #estimation decay\n",
    "return_premium = 1 #optimization premium\n",
    "\n",
    "turnover_constraints = True\n",
    "turnover_limit = 0.75 # 0.75, 1, 1.25\n",
    "cardinality_ratio = 0.1 #optimization\n",
    "\n",
    "MipGap = 0.05 # for portfolio optimizer\n",
    "limit_time = 20 # for portfolio optimizer\n",
    "\n",
    "target_return_strategy = premium_target # for portfolio optimizer to calculate return target\n",
    "# mean_target, premium_target, ticker_return_target\n",
    "target_return_strategy_args = ['premium'] # args for the return strategy\n",
    "\n",
    "bigMStrategy = ClassWgtHyperparameterBigMStrategyV2 #objectiveBigMStrategy #objectiveBigMStrategyTightening , objectiveBigMStrategy\n",
    "\n",
    "bigM_limit_time=20 # for the feasible solution used to calculate big M\n",
    "bigM_MipGap=0.05 # for the feasible solution used to calculate big M\n",
    "bigM_SolutionLimit=10 # for the feasible solution used to calculate big <\n",
    "\n",
    "SkipSOCP = True # flag to skip the SOCP\n",
    "tightening_iter_lim = 1 # number of iterations of tightening to do\n",
    "\n",
    "SVMMVO_bigM_time_limit = 5 # for computing a better solution in the tightening strategy\n",
    "SVMMVO_MipGap=0.1 # for computing a better solution in the tightening strategy\n",
    "SVMMVO_SolutionLimit=5 # for computing a better solution in the tightening strategy\n",
    "\n",
    "SOCP_limit_time=10 # time limit for the SOCP's\n",
    "\n",
    "ticker_index = tickers.get_loc(ticker_str) # the ticker we want to compare to if\n",
    "#  we are using the ticker_return_target strategy\n",
    "\n",
    "q = 20 #subset of features\n",
    "\n",
    "C = 0.1 # separation importance\n",
    "epsilon = 0.1 # regularization amount for SVM\n",
    "\n",
    "separable = False # do not restrict the hyperplane to be separable\n",
    "\n",
    "LogToConsole = False # display optimization results in the console\n",
    "Verbose = False # print statements\n",
    "\n",
    "hyperparams = {'C': list(np.geomspace(0.1, 100, 4)), 'epsilon': list(np.geomspace(0.1, 100, 4))} # hyperparams for hyperparam search\n",
    "#q_alpha = 0.3187 # alpha for Q(t, a) = (1 - q_alpha) Q(t-1. a) + R(t, a)\n",
    "q_alpha = 0.6838\n",
    "\n",
    "kappa = 1.6 # 10 % risk/turnover tolerance plan: 0.1, 0.2, 0.4, 0.8, 1.6 (0.6, 1.0)\n",
    "\n",
    "investor_preferences = {'k':k, # horizon\n",
    "                        'alpha':alpha, # decay\n",
    "                        'premium':return_premium, # return premium preference\n",
    "                        'EstNumObs':EstNumObs,\n",
    "                        'ticker_index':ticker_index, # benchmark index for comparison used in place of return premium depending on the investors function to set r_min\n",
    "                        'target_return_strategy':target_return_strategy, # strategy for setting return\n",
    "                        'target_return_strategy_args': target_return_strategy_args, # args for return setting strategy\n",
    "                        'turnover_limit':turnover_limit, # turnover limit\n",
    "                        'turnover_constraints':turnover_constraints, # turnover limit choice (Y/N)\n",
    "                        'cardinality_ratio': cardinality_ratio, # Pct of assets to invest in\n",
    "                        'MipGap' : MipGap, 'limit_time':limit_time, # problem solving limits\n",
    "    \n",
    "                        'bigMStrategy':bigMStrategy,\n",
    "                        'bigM_limit_time':bigM_limit_time,\n",
    "                        'bigM_MipGap':bigM_MipGap,\n",
    "                        'bigM_SolutionLimit':bigM_SolutionLimit,\n",
    "\n",
    "                        'SkipSOCP':SkipSOCP,\n",
    "                        'tightening_iter_lim':tightening_iter_lim,\n",
    "\n",
    "                        'SVMMVO_bigM_time_limit':SVMMVO_bigM_time_limit,\n",
    "                        'SVMMVO_MipGap':SVMMVO_MipGap,\n",
    "                        'SVMMVO_SolutionLimit':SVMMVO_SolutionLimit,\n",
    "\n",
    "                        'SOCP_limit_time':SOCP_limit_time,\n",
    "                        'q':q,\n",
    "                        'C':C,\n",
    "                        'epsilon':epsilon,\n",
    "                        'separable':separable,\n",
    "                        'LogToConsole':LogToConsole,\n",
    "                        'Verbose':Verbose,\n",
    "                        'hyperparams':hyperparams,\n",
    "                        'q_alpha':q_alpha,\n",
    "                        'kappa':kappa}\n"
   ],
   "metadata": {
    "collapsed": false,
    "ExecuteTime": {
     "end_time": "2024-02-26T02:47:10.490149Z",
     "start_time": "2024-02-26T02:47:10.476464900Z"
    }
   }
  },
  {
   "cell_type": "markdown",
   "source": [
    "\n"
   ],
   "metadata": {
    "collapsed": false
   }
  },
  {
   "cell_type": "code",
   "execution_count": 23,
   "outputs": [
    {
     "name": "stdout",
     "output_type": "stream",
     "text": [
      "Experiments//ETF//ClassWgtSVMMVO//20\n"
     ]
    }
   ],
   "source": [
    "if optimizer.__name__ == 'CardMVO':\n",
    "    path = \"Experiments//\"+universe+\"//\"+optimizer.__name__\n",
    "    print(path)\n",
    "elif optimizer.__name__ == 'SVMMVO':\n",
    "    path = \"Experiments//\"+universe+\"//\"+optimizer.__name__+\"//\"+str(q)\n",
    "    print(path)\n",
    "elif optimizer.__name__ == 'ClassWgtSVMMVO':\n",
    "    path = \"Experiments//\"+universe+\"//\"+optimizer.__name__+\"//\"+str(q)\n",
    "    print(path)\n",
    "else:\n",
    "    raise Exception(\"Model Type not supported for these experiments\")\n",
    "df = init_dataframe(investor_preferences, path)"
   ],
   "metadata": {
    "collapsed": false,
    "ExecuteTime": {
     "end_time": "2024-02-26T02:47:14.249459100Z",
     "start_time": "2024-02-26T02:47:10.889910500Z"
    }
   }
  },
  {
   "cell_type": "code",
   "execution_count": null,
   "outputs": [
    {
     "name": "stdout",
     "output_type": "stream",
     "text": [
      "Testing configuration  (0.6, 0.75)\n",
      "Test Start 2008-06-30 00:00:00\n",
      "Test End 2008-11-30 00:00:00\n",
      "Calibration End 2008-06-29 00:00:00\n",
      "Set parameter TimeLimit to value 20\n",
      "Set parameter MIPGap to value 0.05\n",
      "Set parameter TimeLimit to value 20\n",
      "Set parameter FeasibilityTol to value 1e-08\n",
      "Set parameter TimeLimit to value 20\n",
      "Set parameter FeasibilityTol to value 1e-08\n",
      "Set parameter MIPGap to value 0.05\n",
      "Set parameter TimeLimit to value 20\n",
      "Set parameter MIPGap to value 0.05\n",
      "Set parameter TimeLimit to value 20\n",
      "Set parameter FeasibilityTol to value 1e-08\n",
      "Set parameter TimeLimit to value 20\n",
      "Set parameter FeasibilityTol to value 1e-08\n",
      "Set parameter MIPGap to value 0.05\n",
      "Set parameter TimeLimit to value 20\n",
      "Set parameter MIPGap to value 0.05\n",
      "Set parameter TimeLimit to value 20\n",
      "Set parameter FeasibilityTol to value 1e-08\n",
      "Set parameter TimeLimit to value 20\n",
      "Set parameter FeasibilityTol to value 1e-08\n",
      "Set parameter MIPGap to value 0.05\n",
      "Set parameter TimeLimit to value 20\n",
      "Set parameter MIPGap to value 0.05\n",
      "Set parameter TimeLimit to value 20\n",
      "Set parameter FeasibilityTol to value 1e-08\n",
      "Set parameter TimeLimit to value 20\n",
      "Set parameter FeasibilityTol to value 1e-08\n",
      "Set parameter MIPGap to value 0.05\n",
      "Set parameter TimeLimit to value 20\n",
      "Set parameter MIPGap to value 0.05\n",
      "Set parameter TimeLimit to value 20\n",
      "Set parameter FeasibilityTol to value 1e-08\n",
      "Set parameter TimeLimit to value 20\n",
      "Set parameter FeasibilityTol to value 1e-08\n",
      "Set parameter MIPGap to value 0.05\n",
      "Set parameter TimeLimit to value 20\n",
      "Set parameter MIPGap to value 0.05\n",
      "Set parameter TimeLimit to value 20\n",
      "Set parameter FeasibilityTol to value 1e-08\n",
      "Set parameter TimeLimit to value 20\n",
      "Set parameter FeasibilityTol to value 1e-08\n",
      "Set parameter MIPGap to value 0.05\n",
      "Set parameter TimeLimit to value 20\n",
      "Set parameter MIPGap to value 0.05\n",
      "Set parameter TimeLimit to value 20\n",
      "Set parameter FeasibilityTol to value 1e-08\n",
      "Set parameter TimeLimit to value 20\n",
      "Set parameter FeasibilityTol to value 1e-08\n",
      "Set parameter MIPGap to value 0.05\n",
      "Set parameter TimeLimit to value 20\n",
      "Set parameter MIPGap to value 0.05\n",
      "Set parameter TimeLimit to value 20\n",
      "Set parameter FeasibilityTol to value 1e-08\n",
      "Set parameter TimeLimit to value 20\n",
      "Set parameter FeasibilityTol to value 1e-08\n",
      "Set parameter MIPGap to value 0.05\n",
      "Set parameter TimeLimit to value 20\n",
      "Set parameter MIPGap to value 0.05\n",
      "Set parameter TimeLimit to value 20\n",
      "Set parameter FeasibilityTol to value 1e-08\n",
      "Set parameter TimeLimit to value 20\n",
      "Set parameter FeasibilityTol to value 1e-08\n",
      "Set parameter MIPGap to value 0.05\n",
      "Set parameter TimeLimit to value 20\n",
      "Set parameter MIPGap to value 0.05\n",
      "Set parameter TimeLimit to value 20\n",
      "Set parameter FeasibilityTol to value 1e-08\n",
      "Set parameter TimeLimit to value 20\n",
      "Set parameter FeasibilityTol to value 1e-08\n",
      "Set parameter MIPGap to value 0.05\n",
      "Set parameter TimeLimit to value 20\n",
      "Set parameter MIPGap to value 0.05\n",
      "Set parameter TimeLimit to value 20\n",
      "Set parameter FeasibilityTol to value 1e-08\n",
      "Set parameter TimeLimit to value 20\n",
      "Set parameter FeasibilityTol to value 1e-08\n",
      "Set parameter MIPGap to value 0.05\n",
      "Set parameter TimeLimit to value 20\n",
      "Set parameter MIPGap to value 0.05\n",
      "Set parameter TimeLimit to value 20\n",
      "Set parameter FeasibilityTol to value 1e-08\n",
      "Set parameter TimeLimit to value 20\n",
      "Set parameter FeasibilityTol to value 1e-08\n",
      "Set parameter MIPGap to value 0.05\n",
      "Set parameter TimeLimit to value 20\n",
      "Set parameter MIPGap to value 0.05\n",
      "Set parameter TimeLimit to value 20\n",
      "Set parameter FeasibilityTol to value 1e-08\n",
      "Set parameter TimeLimit to value 20\n",
      "Set parameter FeasibilityTol to value 1e-08\n",
      "Set parameter MIPGap to value 0.05\n",
      "Set parameter TimeLimit to value 20\n",
      "Set parameter MIPGap to value 0.05\n",
      "Set parameter TimeLimit to value 20\n",
      "Set parameter FeasibilityTol to value 1e-08\n",
      "Set parameter TimeLimit to value 20\n",
      "Set parameter FeasibilityTol to value 1e-08\n",
      "Set parameter MIPGap to value 0.05\n",
      "Set parameter TimeLimit to value 20\n",
      "Set parameter MIPGap to value 0.05\n",
      "Set parameter TimeLimit to value 20\n",
      "Set parameter FeasibilityTol to value 1e-08\n",
      "Set parameter TimeLimit to value 20\n",
      "Set parameter FeasibilityTol to value 1e-08\n",
      "Set parameter MIPGap to value 0.05\n",
      "Set parameter TimeLimit to value 20\n",
      "Set parameter MIPGap to value 0.05\n"
     ]
    }
   ],
   "source": [
    "from IPython.display import clear_output\n",
    "\n",
    "kappas = [0.0125, 0.025, 0.05, 0.1, 0.2, 0.4, 0.8, 1.6]\n",
    "cardinality_ratios = [0.4, 0.6, 0.8] #[0.07, 0.1, 0.2, 0.4, 0.6, 0.8] # includes mvo\n",
    "turnover_limits = [0.75, 1, 1.25]\n",
    "\n",
    "for cardinality_ratio, turnover_limit, kappa in product(cardinality_ratios, turnover_limits, kappas):\n",
    "    \n",
    "    clear_output(wait=True)\n",
    "\n",
    "    # initialize strategy\n",
    "    investor_preferences['turnover_limit'] = turnover_limit # turnover limit\n",
    "    investor_preferences['cardinality_ratio'] = cardinality_ratio\n",
    "    investor_preferences['kappa'] = kappa\n",
    "    \n",
    "    Strategy = general_strategy(estimator, optimizer,\n",
    "                                investor_preferences = investor_preferences)\n",
    "\n",
    "    Strategy.extract_estimation_info = populate_exponential_weighted_estimator_shrinkage\n",
    "    Strategy.extract_optimization_info = populate_kwargs\n",
    "\n",
    "    env = environment()\n",
    "\n",
    "    # Start of out-of-sample test period\n",
    "    testStart = returns.index[0] + pd.offsets.DateOffset(years=2)\n",
    "\n",
    "    # End of the first investment period\n",
    "    # testEnd = testStart + pd.offsets.DateOffset(months=investPeriod) - pd.offsets.DateOffset(days = 1)\n",
    "    testEnd = testStart + pd.offsets.MonthBegin(investPeriod) - pd.offsets.DateOffset(days = 1)\n",
    "\n",
    "    # End of calibration period\n",
    "    calEnd = testStart -  pd.offsets.DateOffset(days = 1)\n",
    "    print(\"Testing configuration \", (cardinality_ratio, turnover_limit))\n",
    "    print(\"Test Start\", testStart)\n",
    "    print(\"Test End\", testEnd)\n",
    "    print(\"Calibration End\", calEnd)\n",
    "\n",
    "    # Total number of investment periods\n",
    "    NoPeriods = math.ceil((returns.index[-1].to_period('M') - testStart.to_period('M')).n / investPeriod)\n",
    "    n = len(tickers)\n",
    "\n",
    "    portfValue, elapsed_time, turnover, x, backtest_results, hyperparam_hist = execute_backtest(env, Strategy, tickers, returns, factorRet, ContextualInfo,\n",
    "                     adjClose, daily_adjClose, NoPeriods, testStart, testEnd, calEnd, initialVal,\n",
    "                     investPeriod, hyperparam_search = hyperparam_search)\n",
    "    print(\"Completed configuration \", (cardinality_ratio, turnover_limit))\n",
    "    \n",
    "    df, uid = add_to_data_dict(path, df, run, estimator,\n",
    "                 optimizer, universe,\n",
    "                 imputation_method, ticker_str,\n",
    "                 hyperparam_search, NoPeriods, investor_preferences)\n",
    "\n",
    "    export_experimental_results(path, uid, portfValue, elapsed_time, x, turnover)\n",
    "    export_dict(path, uid, backtest_results, 'backtest_results')\n",
    "    export_dict(path, uid, hyperparam_hist, 'hyperparam_hist')\n",
    "\n",
    "    del env\n",
    "    del Strategy"
   ],
   "metadata": {
    "collapsed": false,
    "pycharm": {
     "is_executing": true
    },
    "is_executing": true
   }
  },
  {
   "cell_type": "code",
   "execution_count": 25,
   "outputs": [],
   "source": [
    "curr_df = pd.read_pickle(path+\"//data_dictionary.pkl\")\n",
    "# add experiment info to the data dict\n",
    "df = pd.concat([df, curr_df], axis = 0)\n",
    "\n",
    "df.drop_duplicates(inplace = True)\n",
    "df.to_pickle(path+\"//data_dictionary.pkl\")"
   ],
   "metadata": {
    "collapsed": false,
    "pycharm": {
     "is_executing": true
    },
    "ExecuteTime": {
     "end_time": "2024-03-04T17:00:46.299803300Z",
     "start_time": "2024-03-04T17:00:46.290476Z"
    }
   }
  },
  {
   "cell_type": "code",
   "execution_count": 26,
   "outputs": [
    {
     "data": {
      "text/plain": "array(['0.4', '0.6', '0.8', '0.07', '0.09', '0.1', '0.2', '0.01', '0.03',\n       '0.05'], dtype=object)"
     },
     "execution_count": 26,
     "metadata": {},
     "output_type": "execute_result"
    }
   ],
   "source": [
    "df.cardinality_ratio.unique()"
   ],
   "metadata": {
    "collapsed": false,
    "ExecuteTime": {
     "end_time": "2024-03-04T17:00:46.818690400Z",
     "start_time": "2024-03-04T17:00:46.799982700Z"
    }
   }
  },
  {
   "cell_type": "code",
   "execution_count": 27,
   "outputs": [
    {
     "data": {
      "text/plain": "                                                                               uid  \\\naf676572c37d3c1ca4fe9673a4347f5cf32fa8ae  af676572c37d3c1ca4fe9673a4347f5cf32fa8ae   \n4a2d89ba2e234188c82da6c14567c82c765fd982  4a2d89ba2e234188c82da6c14567c82c765fd982   \n5fb9b7b88d5d154af001a1f06d22abf5b0f71a98  5fb9b7b88d5d154af001a1f06d22abf5b0f71a98   \nc7790968639b99f74daaa78e9c82068a0cd57295  c7790968639b99f74daaa78e9c82068a0cd57295   \nbd95cb88dd8c0d4e2664fd95bc04521a46842ce4  bd95cb88dd8c0d4e2664fd95bc04521a46842ce4   \n...                                                                            ...   \n93bb91af95d3b6397c13f0eee0a611f51ba245af  93bb91af95d3b6397c13f0eee0a611f51ba245af   \n8fac3c5185ec1c1047936ad273d50638ecf1cc89  8fac3c5185ec1c1047936ad273d50638ecf1cc89   \ne9a446dae883e9fcf06397bf2c8f2a571893f190  e9a446dae883e9fcf06397bf2c8f2a571893f190   \n807caa78624dbdf7672a792f29a53bb68b701756  807caa78624dbdf7672a792f29a53bb68b701756   \n52331a8e492551b4ccbb44c59c0545e55921280e  52331a8e492551b4ccbb44c59c0545e55921280e   \n\n                                                                         estimator  \\\naf676572c37d3c1ca4fe9673a4347f5cf32fa8ae  exponential_weighted_estimator_shrinkage   \n4a2d89ba2e234188c82da6c14567c82c765fd982  exponential_weighted_estimator_shrinkage   \n5fb9b7b88d5d154af001a1f06d22abf5b0f71a98  exponential_weighted_estimator_shrinkage   \nc7790968639b99f74daaa78e9c82068a0cd57295  exponential_weighted_estimator_shrinkage   \nbd95cb88dd8c0d4e2664fd95bc04521a46842ce4  exponential_weighted_estimator_shrinkage   \n...                                                                            ...   \n93bb91af95d3b6397c13f0eee0a611f51ba245af  exponential_weighted_estimator_shrinkage   \n8fac3c5185ec1c1047936ad273d50638ecf1cc89  exponential_weighted_estimator_shrinkage   \ne9a446dae883e9fcf06397bf2c8f2a571893f190  exponential_weighted_estimator_shrinkage   \n807caa78624dbdf7672a792f29a53bb68b701756  exponential_weighted_estimator_shrinkage   \n52331a8e492551b4ccbb44c59c0545e55921280e  exponential_weighted_estimator_shrinkage   \n\n                                               optimizer universe  \\\naf676572c37d3c1ca4fe9673a4347f5cf32fa8ae  ClassWgtSVMMVO      ETF   \n4a2d89ba2e234188c82da6c14567c82c765fd982  ClassWgtSVMMVO      ETF   \n5fb9b7b88d5d154af001a1f06d22abf5b0f71a98  ClassWgtSVMMVO      ETF   \nc7790968639b99f74daaa78e9c82068a0cd57295  ClassWgtSVMMVO      ETF   \nbd95cb88dd8c0d4e2664fd95bc04521a46842ce4  ClassWgtSVMMVO      ETF   \n...                                                  ...      ...   \n93bb91af95d3b6397c13f0eee0a611f51ba245af  ClassWgtSVMMVO      ETF   \n8fac3c5185ec1c1047936ad273d50638ecf1cc89  ClassWgtSVMMVO      ETF   \ne9a446dae883e9fcf06397bf2c8f2a571893f190  ClassWgtSVMMVO      ETF   \n807caa78624dbdf7672a792f29a53bb68b701756  ClassWgtSVMMVO      ETF   \n52331a8e492551b4ccbb44c59c0545e55921280e  ClassWgtSVMMVO      ETF   \n\n                                         imputation_method ticker_str  \\\naf676572c37d3c1ca4fe9673a4347f5cf32fa8ae        Univariate        SPY   \n4a2d89ba2e234188c82da6c14567c82c765fd982        Univariate        SPY   \n5fb9b7b88d5d154af001a1f06d22abf5b0f71a98        Univariate        SPY   \nc7790968639b99f74daaa78e9c82068a0cd57295        Univariate        SPY   \nbd95cb88dd8c0d4e2664fd95bc04521a46842ce4        Univariate        SPY   \n...                                                    ...        ...   \n93bb91af95d3b6397c13f0eee0a611f51ba245af        Univariate        SPY   \n8fac3c5185ec1c1047936ad273d50638ecf1cc89        Univariate        SPY   \ne9a446dae883e9fcf06397bf2c8f2a571893f190        Univariate        SPY   \n807caa78624dbdf7672a792f29a53bb68b701756        Univariate        SPY   \n52331a8e492551b4ccbb44c59c0545e55921280e        Univariate        SPY   \n\n                                         hyperparam_search NoPeriods  \\\naf676572c37d3c1ca4fe9673a4347f5cf32fa8ae             False        29   \n4a2d89ba2e234188c82da6c14567c82c765fd982             False        29   \n5fb9b7b88d5d154af001a1f06d22abf5b0f71a98             False        29   \nc7790968639b99f74daaa78e9c82068a0cd57295             False        29   \nbd95cb88dd8c0d4e2664fd95bc04521a46842ce4             False        29   \n...                                                    ...       ...   \n93bb91af95d3b6397c13f0eee0a611f51ba245af             False        29   \n8fac3c5185ec1c1047936ad273d50638ecf1cc89             False        29   \ne9a446dae883e9fcf06397bf2c8f2a571893f190             False        29   \n807caa78624dbdf7672a792f29a53bb68b701756             False        29   \n52331a8e492551b4ccbb44c59c0545e55921280e             False        29   \n\n                                                   run    C  ... premium   q  \\\naf676572c37d3c1ca4fe9673a4347f5cf32fa8ae  SunJan212024  0.1  ...       1  20   \n4a2d89ba2e234188c82da6c14567c82c765fd982  SunJan212024  0.1  ...       1  20   \n5fb9b7b88d5d154af001a1f06d22abf5b0f71a98  SunJan212024  0.1  ...       1  20   \nc7790968639b99f74daaa78e9c82068a0cd57295  SunJan212024  0.1  ...       1  20   \nbd95cb88dd8c0d4e2664fd95bc04521a46842ce4  SunJan212024  0.1  ...       1  20   \n...                                                ...  ...  ...     ...  ..   \n93bb91af95d3b6397c13f0eee0a611f51ba245af  SunJan212024  0.1  ...       1  20   \n8fac3c5185ec1c1047936ad273d50638ecf1cc89  SunJan212024  0.1  ...       1  20   \ne9a446dae883e9fcf06397bf2c8f2a571893f190  SunJan212024  0.1  ...       1  20   \n807caa78624dbdf7672a792f29a53bb68b701756  SunJan212024  0.1  ...       1  20   \n52331a8e492551b4ccbb44c59c0545e55921280e  SunJan212024  0.1  ...       1  20   \n\n                                         q_alpha separable  \\\naf676572c37d3c1ca4fe9673a4347f5cf32fa8ae  0.6838     False   \n4a2d89ba2e234188c82da6c14567c82c765fd982  0.6838     False   \n5fb9b7b88d5d154af001a1f06d22abf5b0f71a98  0.6838     False   \nc7790968639b99f74daaa78e9c82068a0cd57295  0.6838     False   \nbd95cb88dd8c0d4e2664fd95bc04521a46842ce4  0.6838     False   \n...                                          ...       ...   \n93bb91af95d3b6397c13f0eee0a611f51ba245af  0.6838     False   \n8fac3c5185ec1c1047936ad273d50638ecf1cc89  0.6838     False   \ne9a446dae883e9fcf06397bf2c8f2a571893f190  0.6838     False   \n807caa78624dbdf7672a792f29a53bb68b701756  0.6838     False   \n52331a8e492551b4ccbb44c59c0545e55921280e  0.6838     False   \n\n                                         target_return_strategy  \\\naf676572c37d3c1ca4fe9673a4347f5cf32fa8ae         premium_target   \n4a2d89ba2e234188c82da6c14567c82c765fd982         premium_target   \n5fb9b7b88d5d154af001a1f06d22abf5b0f71a98         premium_target   \nc7790968639b99f74daaa78e9c82068a0cd57295         premium_target   \nbd95cb88dd8c0d4e2664fd95bc04521a46842ce4         premium_target   \n...                                                         ...   \n93bb91af95d3b6397c13f0eee0a611f51ba245af         premium_target   \n8fac3c5185ec1c1047936ad273d50638ecf1cc89         premium_target   \ne9a446dae883e9fcf06397bf2c8f2a571893f190         premium_target   \n807caa78624dbdf7672a792f29a53bb68b701756         premium_target   \n52331a8e492551b4ccbb44c59c0545e55921280e         premium_target   \n\n                                         target_return_strategy_args  \\\naf676572c37d3c1ca4fe9673a4347f5cf32fa8ae                 ['premium']   \n4a2d89ba2e234188c82da6c14567c82c765fd982                 ['premium']   \n5fb9b7b88d5d154af001a1f06d22abf5b0f71a98                 ['premium']   \nc7790968639b99f74daaa78e9c82068a0cd57295                 ['premium']   \nbd95cb88dd8c0d4e2664fd95bc04521a46842ce4                 ['premium']   \n...                                                              ...   \n93bb91af95d3b6397c13f0eee0a611f51ba245af                 ['premium']   \n8fac3c5185ec1c1047936ad273d50638ecf1cc89                 ['premium']   \ne9a446dae883e9fcf06397bf2c8f2a571893f190                 ['premium']   \n807caa78624dbdf7672a792f29a53bb68b701756                 ['premium']   \n52331a8e492551b4ccbb44c59c0545e55921280e                 ['premium']   \n\n                                         ticker_index tightening_iter_lim  \\\naf676572c37d3c1ca4fe9673a4347f5cf32fa8ae          250                   1   \n4a2d89ba2e234188c82da6c14567c82c765fd982          250                   1   \n5fb9b7b88d5d154af001a1f06d22abf5b0f71a98          250                   1   \nc7790968639b99f74daaa78e9c82068a0cd57295          250                   1   \nbd95cb88dd8c0d4e2664fd95bc04521a46842ce4          250                   1   \n...                                               ...                 ...   \n93bb91af95d3b6397c13f0eee0a611f51ba245af          250                   1   \n8fac3c5185ec1c1047936ad273d50638ecf1cc89          250                   1   \ne9a446dae883e9fcf06397bf2c8f2a571893f190          250                   1   \n807caa78624dbdf7672a792f29a53bb68b701756          250                   1   \n52331a8e492551b4ccbb44c59c0545e55921280e          250                   1   \n\n                                         turnover_constraints turnover_limit  \naf676572c37d3c1ca4fe9673a4347f5cf32fa8ae                 True           0.75  \n4a2d89ba2e234188c82da6c14567c82c765fd982                 True           0.75  \n5fb9b7b88d5d154af001a1f06d22abf5b0f71a98                 True           0.75  \nc7790968639b99f74daaa78e9c82068a0cd57295                 True           0.75  \nbd95cb88dd8c0d4e2664fd95bc04521a46842ce4                 True           0.75  \n...                                                       ...            ...  \n93bb91af95d3b6397c13f0eee0a611f51ba245af                 True           1.25  \n8fac3c5185ec1c1047936ad273d50638ecf1cc89                 True           1.25  \ne9a446dae883e9fcf06397bf2c8f2a571893f190                 True           1.25  \n807caa78624dbdf7672a792f29a53bb68b701756                 True           1.25  \n52331a8e492551b4ccbb44c59c0545e55921280e                 True           1.25  \n\n[240 rows x 40 columns]",
      "text/html": "<div>\n<style scoped>\n    .dataframe tbody tr th:only-of-type {\n        vertical-align: middle;\n    }\n\n    .dataframe tbody tr th {\n        vertical-align: top;\n    }\n\n    .dataframe thead th {\n        text-align: right;\n    }\n</style>\n<table border=\"1\" class=\"dataframe\">\n  <thead>\n    <tr style=\"text-align: right;\">\n      <th></th>\n      <th>uid</th>\n      <th>estimator</th>\n      <th>optimizer</th>\n      <th>universe</th>\n      <th>imputation_method</th>\n      <th>ticker_str</th>\n      <th>hyperparam_search</th>\n      <th>NoPeriods</th>\n      <th>run</th>\n      <th>C</th>\n      <th>...</th>\n      <th>premium</th>\n      <th>q</th>\n      <th>q_alpha</th>\n      <th>separable</th>\n      <th>target_return_strategy</th>\n      <th>target_return_strategy_args</th>\n      <th>ticker_index</th>\n      <th>tightening_iter_lim</th>\n      <th>turnover_constraints</th>\n      <th>turnover_limit</th>\n    </tr>\n  </thead>\n  <tbody>\n    <tr>\n      <th>af676572c37d3c1ca4fe9673a4347f5cf32fa8ae</th>\n      <td>af676572c37d3c1ca4fe9673a4347f5cf32fa8ae</td>\n      <td>exponential_weighted_estimator_shrinkage</td>\n      <td>ClassWgtSVMMVO</td>\n      <td>ETF</td>\n      <td>Univariate</td>\n      <td>SPY</td>\n      <td>False</td>\n      <td>29</td>\n      <td>SunJan212024</td>\n      <td>0.1</td>\n      <td>...</td>\n      <td>1</td>\n      <td>20</td>\n      <td>0.6838</td>\n      <td>False</td>\n      <td>premium_target</td>\n      <td>['premium']</td>\n      <td>250</td>\n      <td>1</td>\n      <td>True</td>\n      <td>0.75</td>\n    </tr>\n    <tr>\n      <th>4a2d89ba2e234188c82da6c14567c82c765fd982</th>\n      <td>4a2d89ba2e234188c82da6c14567c82c765fd982</td>\n      <td>exponential_weighted_estimator_shrinkage</td>\n      <td>ClassWgtSVMMVO</td>\n      <td>ETF</td>\n      <td>Univariate</td>\n      <td>SPY</td>\n      <td>False</td>\n      <td>29</td>\n      <td>SunJan212024</td>\n      <td>0.1</td>\n      <td>...</td>\n      <td>1</td>\n      <td>20</td>\n      <td>0.6838</td>\n      <td>False</td>\n      <td>premium_target</td>\n      <td>['premium']</td>\n      <td>250</td>\n      <td>1</td>\n      <td>True</td>\n      <td>0.75</td>\n    </tr>\n    <tr>\n      <th>5fb9b7b88d5d154af001a1f06d22abf5b0f71a98</th>\n      <td>5fb9b7b88d5d154af001a1f06d22abf5b0f71a98</td>\n      <td>exponential_weighted_estimator_shrinkage</td>\n      <td>ClassWgtSVMMVO</td>\n      <td>ETF</td>\n      <td>Univariate</td>\n      <td>SPY</td>\n      <td>False</td>\n      <td>29</td>\n      <td>SunJan212024</td>\n      <td>0.1</td>\n      <td>...</td>\n      <td>1</td>\n      <td>20</td>\n      <td>0.6838</td>\n      <td>False</td>\n      <td>premium_target</td>\n      <td>['premium']</td>\n      <td>250</td>\n      <td>1</td>\n      <td>True</td>\n      <td>0.75</td>\n    </tr>\n    <tr>\n      <th>c7790968639b99f74daaa78e9c82068a0cd57295</th>\n      <td>c7790968639b99f74daaa78e9c82068a0cd57295</td>\n      <td>exponential_weighted_estimator_shrinkage</td>\n      <td>ClassWgtSVMMVO</td>\n      <td>ETF</td>\n      <td>Univariate</td>\n      <td>SPY</td>\n      <td>False</td>\n      <td>29</td>\n      <td>SunJan212024</td>\n      <td>0.1</td>\n      <td>...</td>\n      <td>1</td>\n      <td>20</td>\n      <td>0.6838</td>\n      <td>False</td>\n      <td>premium_target</td>\n      <td>['premium']</td>\n      <td>250</td>\n      <td>1</td>\n      <td>True</td>\n      <td>0.75</td>\n    </tr>\n    <tr>\n      <th>bd95cb88dd8c0d4e2664fd95bc04521a46842ce4</th>\n      <td>bd95cb88dd8c0d4e2664fd95bc04521a46842ce4</td>\n      <td>exponential_weighted_estimator_shrinkage</td>\n      <td>ClassWgtSVMMVO</td>\n      <td>ETF</td>\n      <td>Univariate</td>\n      <td>SPY</td>\n      <td>False</td>\n      <td>29</td>\n      <td>SunJan212024</td>\n      <td>0.1</td>\n      <td>...</td>\n      <td>1</td>\n      <td>20</td>\n      <td>0.6838</td>\n      <td>False</td>\n      <td>premium_target</td>\n      <td>['premium']</td>\n      <td>250</td>\n      <td>1</td>\n      <td>True</td>\n      <td>0.75</td>\n    </tr>\n    <tr>\n      <th>...</th>\n      <td>...</td>\n      <td>...</td>\n      <td>...</td>\n      <td>...</td>\n      <td>...</td>\n      <td>...</td>\n      <td>...</td>\n      <td>...</td>\n      <td>...</td>\n      <td>...</td>\n      <td>...</td>\n      <td>...</td>\n      <td>...</td>\n      <td>...</td>\n      <td>...</td>\n      <td>...</td>\n      <td>...</td>\n      <td>...</td>\n      <td>...</td>\n      <td>...</td>\n      <td>...</td>\n    </tr>\n    <tr>\n      <th>93bb91af95d3b6397c13f0eee0a611f51ba245af</th>\n      <td>93bb91af95d3b6397c13f0eee0a611f51ba245af</td>\n      <td>exponential_weighted_estimator_shrinkage</td>\n      <td>ClassWgtSVMMVO</td>\n      <td>ETF</td>\n      <td>Univariate</td>\n      <td>SPY</td>\n      <td>False</td>\n      <td>29</td>\n      <td>SunJan212024</td>\n      <td>0.1</td>\n      <td>...</td>\n      <td>1</td>\n      <td>20</td>\n      <td>0.6838</td>\n      <td>False</td>\n      <td>premium_target</td>\n      <td>['premium']</td>\n      <td>250</td>\n      <td>1</td>\n      <td>True</td>\n      <td>1.25</td>\n    </tr>\n    <tr>\n      <th>8fac3c5185ec1c1047936ad273d50638ecf1cc89</th>\n      <td>8fac3c5185ec1c1047936ad273d50638ecf1cc89</td>\n      <td>exponential_weighted_estimator_shrinkage</td>\n      <td>ClassWgtSVMMVO</td>\n      <td>ETF</td>\n      <td>Univariate</td>\n      <td>SPY</td>\n      <td>False</td>\n      <td>29</td>\n      <td>SunJan212024</td>\n      <td>0.1</td>\n      <td>...</td>\n      <td>1</td>\n      <td>20</td>\n      <td>0.6838</td>\n      <td>False</td>\n      <td>premium_target</td>\n      <td>['premium']</td>\n      <td>250</td>\n      <td>1</td>\n      <td>True</td>\n      <td>1.25</td>\n    </tr>\n    <tr>\n      <th>e9a446dae883e9fcf06397bf2c8f2a571893f190</th>\n      <td>e9a446dae883e9fcf06397bf2c8f2a571893f190</td>\n      <td>exponential_weighted_estimator_shrinkage</td>\n      <td>ClassWgtSVMMVO</td>\n      <td>ETF</td>\n      <td>Univariate</td>\n      <td>SPY</td>\n      <td>False</td>\n      <td>29</td>\n      <td>SunJan212024</td>\n      <td>0.1</td>\n      <td>...</td>\n      <td>1</td>\n      <td>20</td>\n      <td>0.6838</td>\n      <td>False</td>\n      <td>premium_target</td>\n      <td>['premium']</td>\n      <td>250</td>\n      <td>1</td>\n      <td>True</td>\n      <td>1.25</td>\n    </tr>\n    <tr>\n      <th>807caa78624dbdf7672a792f29a53bb68b701756</th>\n      <td>807caa78624dbdf7672a792f29a53bb68b701756</td>\n      <td>exponential_weighted_estimator_shrinkage</td>\n      <td>ClassWgtSVMMVO</td>\n      <td>ETF</td>\n      <td>Univariate</td>\n      <td>SPY</td>\n      <td>False</td>\n      <td>29</td>\n      <td>SunJan212024</td>\n      <td>0.1</td>\n      <td>...</td>\n      <td>1</td>\n      <td>20</td>\n      <td>0.6838</td>\n      <td>False</td>\n      <td>premium_target</td>\n      <td>['premium']</td>\n      <td>250</td>\n      <td>1</td>\n      <td>True</td>\n      <td>1.25</td>\n    </tr>\n    <tr>\n      <th>52331a8e492551b4ccbb44c59c0545e55921280e</th>\n      <td>52331a8e492551b4ccbb44c59c0545e55921280e</td>\n      <td>exponential_weighted_estimator_shrinkage</td>\n      <td>ClassWgtSVMMVO</td>\n      <td>ETF</td>\n      <td>Univariate</td>\n      <td>SPY</td>\n      <td>False</td>\n      <td>29</td>\n      <td>SunJan212024</td>\n      <td>0.1</td>\n      <td>...</td>\n      <td>1</td>\n      <td>20</td>\n      <td>0.6838</td>\n      <td>False</td>\n      <td>premium_target</td>\n      <td>['premium']</td>\n      <td>250</td>\n      <td>1</td>\n      <td>True</td>\n      <td>1.25</td>\n    </tr>\n  </tbody>\n</table>\n<p>240 rows × 40 columns</p>\n</div>"
     },
     "execution_count": 27,
     "metadata": {},
     "output_type": "execute_result"
    }
   ],
   "source": [
    "df"
   ],
   "metadata": {
    "collapsed": false,
    "ExecuteTime": {
     "end_time": "2024-03-04T17:00:47.468736500Z",
     "start_time": "2024-03-04T17:00:47.454975800Z"
    }
   }
  },
  {
   "cell_type": "code",
   "execution_count": 16,
   "outputs": [],
   "source": [
    " "
   ],
   "metadata": {
    "collapsed": false,
    "ExecuteTime": {
     "end_time": "2024-02-22T06:27:55.505393Z",
     "start_time": "2024-02-22T06:27:55.458479700Z"
    }
   }
  }
 ],
 "metadata": {
  "kernelspec": {
   "display_name": "Python 3",
   "language": "python",
   "name": "python3"
  },
  "language_info": {
   "codemirror_mode": {
    "name": "ipython",
    "version": 2
   },
   "file_extension": ".py",
   "mimetype": "text/x-python",
   "name": "python",
   "nbconvert_exporter": "python",
   "pygments_lexer": "ipython2",
   "version": "2.7.6"
  }
 },
 "nbformat": 4,
 "nbformat_minor": 0
}
