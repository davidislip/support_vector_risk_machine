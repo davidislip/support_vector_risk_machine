{
 "cells": [
  {
   "cell_type": "code",
   "execution_count": 2,
   "outputs": [],
   "source": [
    "from services.database import Database\n",
    "from services.dataloading import *\n",
    "Database.initialize()"
   ],
   "metadata": {
    "collapsed": false
   }
  },
  {
   "cell_type": "markdown",
   "source": [
    "# Get all historical SPY tickers that are also in the Tiingo DB"
   ],
   "metadata": {
    "collapsed": false
   }
  },
  {
   "cell_type": "code",
   "execution_count": 2,
   "outputs": [
    {
     "data": {
      "text/plain": "                  id source ticker equity_index priceCurrency  \\\n0      4605119990101    gfd      A       S&P500           USD   \n1      4838120050101    gfd    AAL       S&P500           USD   \n2      4923120010101    gfd    AAP       S&P500           USD   \n3      4923120010101    gfd    AAP       S&P500           USD   \n4      4934119800101    gfd   AAPL       S&P500           USD   \n..               ...    ...    ...          ...           ...   \n666  107563119360101    gfd    XRX       S&P500           USD   \n667  108039119970101    gfd    YUM       S&P500           USD   \n668  108106120010101    gfd    ZBH       S&P500           USD   \n669  108116119910101    gfd   ZBRA       S&P500           USD   \n670  108269119660101    gfd   ZION       S&P500           USD   \n\n                      startDate                     endDate  \n0    1999-01-01 00:00:00.000000  2023-04-21 00:00:00.000000  \n1    2005-01-01 00:00:00.000000  2023-04-21 00:00:00.000000  \n2    2001-01-01 00:00:00.000000  2023-04-21 00:00:00.000000  \n3    2001-01-01 00:00:00.000000  2023-04-21 00:00:00.000000  \n4    1980-01-01 00:00:00.000000  2023-04-21 00:00:00.000000  \n..                          ...                         ...  \n666  1936-01-01 00:00:00.000000  2023-04-21 00:00:00.000000  \n667  1997-01-01 00:00:00.000000  2023-04-21 00:00:00.000000  \n668  2001-01-01 00:00:00.000000  2023-04-21 00:00:00.000000  \n669  1991-01-01 00:00:00.000000  2023-04-21 00:00:00.000000  \n670  1966-01-01 00:00:00.000000  2023-04-21 00:00:00.000000  \n\n[671 rows x 7 columns]",
      "text/html": "<div>\n<style scoped>\n    .dataframe tbody tr th:only-of-type {\n        vertical-align: middle;\n    }\n\n    .dataframe tbody tr th {\n        vertical-align: top;\n    }\n\n    .dataframe thead th {\n        text-align: right;\n    }\n</style>\n<table border=\"1\" class=\"dataframe\">\n  <thead>\n    <tr style=\"text-align: right;\">\n      <th></th>\n      <th>id</th>\n      <th>source</th>\n      <th>ticker</th>\n      <th>equity_index</th>\n      <th>priceCurrency</th>\n      <th>startDate</th>\n      <th>endDate</th>\n    </tr>\n  </thead>\n  <tbody>\n    <tr>\n      <th>0</th>\n      <td>4605119990101</td>\n      <td>gfd</td>\n      <td>A</td>\n      <td>S&amp;P500</td>\n      <td>USD</td>\n      <td>1999-01-01 00:00:00.000000</td>\n      <td>2023-04-21 00:00:00.000000</td>\n    </tr>\n    <tr>\n      <th>1</th>\n      <td>4838120050101</td>\n      <td>gfd</td>\n      <td>AAL</td>\n      <td>S&amp;P500</td>\n      <td>USD</td>\n      <td>2005-01-01 00:00:00.000000</td>\n      <td>2023-04-21 00:00:00.000000</td>\n    </tr>\n    <tr>\n      <th>2</th>\n      <td>4923120010101</td>\n      <td>gfd</td>\n      <td>AAP</td>\n      <td>S&amp;P500</td>\n      <td>USD</td>\n      <td>2001-01-01 00:00:00.000000</td>\n      <td>2023-04-21 00:00:00.000000</td>\n    </tr>\n    <tr>\n      <th>3</th>\n      <td>4923120010101</td>\n      <td>gfd</td>\n      <td>AAP</td>\n      <td>S&amp;P500</td>\n      <td>USD</td>\n      <td>2001-01-01 00:00:00.000000</td>\n      <td>2023-04-21 00:00:00.000000</td>\n    </tr>\n    <tr>\n      <th>4</th>\n      <td>4934119800101</td>\n      <td>gfd</td>\n      <td>AAPL</td>\n      <td>S&amp;P500</td>\n      <td>USD</td>\n      <td>1980-01-01 00:00:00.000000</td>\n      <td>2023-04-21 00:00:00.000000</td>\n    </tr>\n    <tr>\n      <th>...</th>\n      <td>...</td>\n      <td>...</td>\n      <td>...</td>\n      <td>...</td>\n      <td>...</td>\n      <td>...</td>\n      <td>...</td>\n    </tr>\n    <tr>\n      <th>666</th>\n      <td>107563119360101</td>\n      <td>gfd</td>\n      <td>XRX</td>\n      <td>S&amp;P500</td>\n      <td>USD</td>\n      <td>1936-01-01 00:00:00.000000</td>\n      <td>2023-04-21 00:00:00.000000</td>\n    </tr>\n    <tr>\n      <th>667</th>\n      <td>108039119970101</td>\n      <td>gfd</td>\n      <td>YUM</td>\n      <td>S&amp;P500</td>\n      <td>USD</td>\n      <td>1997-01-01 00:00:00.000000</td>\n      <td>2023-04-21 00:00:00.000000</td>\n    </tr>\n    <tr>\n      <th>668</th>\n      <td>108106120010101</td>\n      <td>gfd</td>\n      <td>ZBH</td>\n      <td>S&amp;P500</td>\n      <td>USD</td>\n      <td>2001-01-01 00:00:00.000000</td>\n      <td>2023-04-21 00:00:00.000000</td>\n    </tr>\n    <tr>\n      <th>669</th>\n      <td>108116119910101</td>\n      <td>gfd</td>\n      <td>ZBRA</td>\n      <td>S&amp;P500</td>\n      <td>USD</td>\n      <td>1991-01-01 00:00:00.000000</td>\n      <td>2023-04-21 00:00:00.000000</td>\n    </tr>\n    <tr>\n      <th>670</th>\n      <td>108269119660101</td>\n      <td>gfd</td>\n      <td>ZION</td>\n      <td>S&amp;P500</td>\n      <td>USD</td>\n      <td>1966-01-01 00:00:00.000000</td>\n      <td>2023-04-21 00:00:00.000000</td>\n    </tr>\n  </tbody>\n</table>\n<p>671 rows × 7 columns</p>\n</div>"
     },
     "execution_count": 2,
     "metadata": {},
     "output_type": "execute_result"
    }
   ],
   "source": [
    "#get tickers that are in tiingo and GFD\n",
    "ticker_info = Database.query(\"SELECT b.* from ticker_index_membership b inner join tiingo_tickers a on a.ticker = b.ticker where b.equity_index = 'S&P500' and b.endDate = '2023-04-21 00:00:00.000000' and b.startDate < '2010-01-01 00:00:00.000000'\")\n",
    "ticker_info"
   ],
   "metadata": {
    "collapsed": false
   }
  },
  {
   "cell_type": "code",
   "execution_count": 4,
   "outputs": [
    {
     "name": "stderr",
     "output_type": "stream",
     "text": [
      "C:\\Users\\david\\AppData\\Local\\Temp\\ipykernel_5548\\3669705573.py:5: SettingWithCopyWarning: \n",
      "A value is trying to be set on a copy of a slice from a DataFrame.\n",
      "Try using .loc[row_indexer,col_indexer] = value instead\n",
      "\n",
      "See the caveats in the documentation: https://pandas.pydata.org/pandas-docs/stable/user_guide/indexing.html#returning-a-view-versus-a-copy\n",
      "  ticker_info['ticker_currency'] = ticker_info.ticker + \"-\" + ticker_info.priceCurrency\n"
     ]
    }
   ],
   "source": [
    "#find a valid time period for the assets\n",
    "startDate = ticker_info.startDate.max()\n",
    "endDate = ticker_info.endDate.min()\n",
    "ticker_info = ticker_info[['ticker', 'priceCurrency']]\n",
    "ticker_info['ticker_currency'] = ticker_info.ticker + \"-\" + ticker_info.priceCurrency"
   ],
   "metadata": {
    "collapsed": false
   }
  },
  {
   "cell_type": "code",
   "execution_count": 5,
   "outputs": [
    {
     "data": {
      "text/plain": "'2009-01-01 00:00:00.000000'"
     },
     "execution_count": 5,
     "metadata": {},
     "output_type": "execute_result"
    }
   ],
   "source": [
    "startDate"
   ],
   "metadata": {
    "collapsed": false
   }
  },
  {
   "cell_type": "code",
   "execution_count": 6,
   "outputs": [
    {
     "data": {
      "text/plain": "'2023-04-21 00:00:00.000000'"
     },
     "execution_count": 6,
     "metadata": {},
     "output_type": "execute_result"
    }
   ],
   "source": [
    "endDate"
   ],
   "metadata": {
    "collapsed": false
   }
  },
  {
   "cell_type": "code",
   "execution_count": null,
   "outputs": [],
   "source": [
    "#alpha vantage\n",
    "df_av = retrieve_alpha_vantage(freq='W', ticker_info=ticker_info)\n",
    "merged_df_av = merge_equities_df(Database, df_av)"
   ],
   "metadata": {
    "collapsed": false
   }
  },
  {
   "cell_type": "code",
   "execution_count": null,
   "outputs": [],
   "source": [
    "#yahoo finance\n",
    "df_yf =retrieve_yahoo_finance(startDate, endDate, freq='D', ticker_info=(ticker_info))\n",
    "merged_df_yf = merge_equities_df(Database, df_yf)"
   ],
   "metadata": {
    "collapsed": false
   }
  },
  {
   "cell_type": "code",
   "execution_count": null,
   "outputs": [],
   "source": [
    "#tiingo\n",
    "df_tiingo = retrieve_tiingo(startDate, endDate, ticker_info)\n",
    "merged_df_tiingo = merge_equities_df(Database, df_tiingo)"
   ],
   "metadata": {
    "collapsed": false
   }
  },
  {
   "cell_type": "markdown",
   "source": [],
   "metadata": {
    "collapsed": false
   }
  },
  {
   "cell_type": "markdown",
   "source": [],
   "metadata": {
    "collapsed": false
   }
  },
  {
   "cell_type": "code",
   "execution_count": 184,
   "outputs": [],
   "source": [
    "df_prices = retrieve_ml_factor()\n",
    "merged_ml_factor = merge_equities_df(Database, df_prices)"
   ],
   "metadata": {
    "collapsed": false
   }
  },
  {
   "cell_type": "code",
   "execution_count": 51,
   "outputs": [],
   "source": [
    "add_dfs_to_db('equities_series', Database, [merged_df_tiingo, merged_df_yf, merged_df_av, merged_ml_factor], indices_of_primary_key=[0])"
   ],
   "metadata": {
    "collapsed": false
   }
  },
  {
   "cell_type": "markdown",
   "source": [
    "# Loop through all tickers historically included in SPY via tiingo and yahoo and load them"
   ],
   "metadata": {
    "collapsed": false
   }
  },
  {
   "cell_type": "code",
   "execution_count": 6,
   "outputs": [
    {
     "data": {
      "text/plain": "                   id source ticker equity_index priceCurrency  \\\n0        132118970101    gfd   KSU2       S&P500           USD   \n1        147119960101    gfd  BRK.B       S&P500           USD   \n2        160119590101    gfd   BF.B       S&P500           USD   \n3        173119860101    gfd  CERN2       S&P500           USD   \n4        282119900101    gfd  XLNX1       S&P500           USD   \n...               ...    ...    ...          ...           ...   \n1791  108039119970101    gfd    YUM       S&P500           USD   \n1792  108106120010101    gfd    ZBH       S&P500           USD   \n1793  108116119910101    gfd   ZBRA       S&P500           USD   \n1794  108269119660101    gfd   ZION       S&P500           USD   \n1795  108484120130101    gfd    ZTS       S&P500           USD   \n\n                       startDate                     endDate  \n0     1897-01-01 00:00:00.000000  2021-12-13 00:00:00.000000  \n1     1996-01-01 00:00:00.000000  2023-04-21 00:00:00.000000  \n2     1959-01-01 00:00:00.000000  2023-04-21 00:00:00.000000  \n3     1986-01-01 00:00:00.000000  2022-06-08 00:00:00.000000  \n4     1990-01-01 00:00:00.000000  2022-02-14 00:00:00.000000  \n...                          ...                         ...  \n1791  1997-01-01 00:00:00.000000  2023-04-21 00:00:00.000000  \n1792  2001-01-01 00:00:00.000000  2023-04-21 00:00:00.000000  \n1793  1991-01-01 00:00:00.000000  2023-04-21 00:00:00.000000  \n1794  1966-01-01 00:00:00.000000  2023-04-21 00:00:00.000000  \n1795  2013-01-01 00:00:00.000000  2023-04-21 00:00:00.000000  \n\n[1796 rows x 7 columns]",
      "text/html": "<div>\n<style scoped>\n    .dataframe tbody tr th:only-of-type {\n        vertical-align: middle;\n    }\n\n    .dataframe tbody tr th {\n        vertical-align: top;\n    }\n\n    .dataframe thead th {\n        text-align: right;\n    }\n</style>\n<table border=\"1\" class=\"dataframe\">\n  <thead>\n    <tr style=\"text-align: right;\">\n      <th></th>\n      <th>id</th>\n      <th>source</th>\n      <th>ticker</th>\n      <th>equity_index</th>\n      <th>priceCurrency</th>\n      <th>startDate</th>\n      <th>endDate</th>\n    </tr>\n  </thead>\n  <tbody>\n    <tr>\n      <th>0</th>\n      <td>132118970101</td>\n      <td>gfd</td>\n      <td>KSU2</td>\n      <td>S&amp;P500</td>\n      <td>USD</td>\n      <td>1897-01-01 00:00:00.000000</td>\n      <td>2021-12-13 00:00:00.000000</td>\n    </tr>\n    <tr>\n      <th>1</th>\n      <td>147119960101</td>\n      <td>gfd</td>\n      <td>BRK.B</td>\n      <td>S&amp;P500</td>\n      <td>USD</td>\n      <td>1996-01-01 00:00:00.000000</td>\n      <td>2023-04-21 00:00:00.000000</td>\n    </tr>\n    <tr>\n      <th>2</th>\n      <td>160119590101</td>\n      <td>gfd</td>\n      <td>BF.B</td>\n      <td>S&amp;P500</td>\n      <td>USD</td>\n      <td>1959-01-01 00:00:00.000000</td>\n      <td>2023-04-21 00:00:00.000000</td>\n    </tr>\n    <tr>\n      <th>3</th>\n      <td>173119860101</td>\n      <td>gfd</td>\n      <td>CERN2</td>\n      <td>S&amp;P500</td>\n      <td>USD</td>\n      <td>1986-01-01 00:00:00.000000</td>\n      <td>2022-06-08 00:00:00.000000</td>\n    </tr>\n    <tr>\n      <th>4</th>\n      <td>282119900101</td>\n      <td>gfd</td>\n      <td>XLNX1</td>\n      <td>S&amp;P500</td>\n      <td>USD</td>\n      <td>1990-01-01 00:00:00.000000</td>\n      <td>2022-02-14 00:00:00.000000</td>\n    </tr>\n    <tr>\n      <th>...</th>\n      <td>...</td>\n      <td>...</td>\n      <td>...</td>\n      <td>...</td>\n      <td>...</td>\n      <td>...</td>\n      <td>...</td>\n    </tr>\n    <tr>\n      <th>1791</th>\n      <td>108039119970101</td>\n      <td>gfd</td>\n      <td>YUM</td>\n      <td>S&amp;P500</td>\n      <td>USD</td>\n      <td>1997-01-01 00:00:00.000000</td>\n      <td>2023-04-21 00:00:00.000000</td>\n    </tr>\n    <tr>\n      <th>1792</th>\n      <td>108106120010101</td>\n      <td>gfd</td>\n      <td>ZBH</td>\n      <td>S&amp;P500</td>\n      <td>USD</td>\n      <td>2001-01-01 00:00:00.000000</td>\n      <td>2023-04-21 00:00:00.000000</td>\n    </tr>\n    <tr>\n      <th>1793</th>\n      <td>108116119910101</td>\n      <td>gfd</td>\n      <td>ZBRA</td>\n      <td>S&amp;P500</td>\n      <td>USD</td>\n      <td>1991-01-01 00:00:00.000000</td>\n      <td>2023-04-21 00:00:00.000000</td>\n    </tr>\n    <tr>\n      <th>1794</th>\n      <td>108269119660101</td>\n      <td>gfd</td>\n      <td>ZION</td>\n      <td>S&amp;P500</td>\n      <td>USD</td>\n      <td>1966-01-01 00:00:00.000000</td>\n      <td>2023-04-21 00:00:00.000000</td>\n    </tr>\n    <tr>\n      <th>1795</th>\n      <td>108484120130101</td>\n      <td>gfd</td>\n      <td>ZTS</td>\n      <td>S&amp;P500</td>\n      <td>USD</td>\n      <td>2013-01-01 00:00:00.000000</td>\n      <td>2023-04-21 00:00:00.000000</td>\n    </tr>\n  </tbody>\n</table>\n<p>1796 rows × 7 columns</p>\n</div>"
     },
     "execution_count": 6,
     "metadata": {},
     "output_type": "execute_result"
    }
   ],
   "source": [
    "ticker_info = Database.query(\"SELECT * from ticker_index_membership where equity_index = 'S&P500' and startDate <> '1900-01-01 00:00:00.000000'\")\n",
    "ticker_info"
   ],
   "metadata": {
    "collapsed": false
   }
  },
  {
   "cell_type": "code",
   "execution_count": 8,
   "outputs": [
    {
     "name": "stdout",
     "output_type": "stream",
     "text": [
      "[*********************100%***********************]  1 of 1 completed\n",
      "\n",
      "1 Failed download:\n",
      "- 2023-03-01 00:00:00: No timezone found, symbol may be delisted\n",
      "yahoo failed... len of df:  0\n",
      "tiingo failed... len of df:  0\n",
      "adding 2023-03-01 00:00:00 failed!\n",
      "[*********************100%***********************]  1 of 1 completed\n",
      "\n",
      "1 Failed download:\n",
      "- 2023-05-01 00:00:00: No timezone found, symbol may be delisted\n",
      "yahoo failed... len of df:  0\n",
      "tiingo failed... len of df:  0\n",
      "adding 2023-05-01 00:00:00 failed!\n",
      "[*********************100%***********************]  1 of 1 completed\n",
      "\n",
      "1 Failed download:\n",
      "- 2023-09-01 00:00:00: No timezone found, symbol may be delisted\n",
      "yahoo failed... len of df:  0\n",
      "tiingo failed... len of df:  0\n",
      "adding 2023-09-01 00:00:00 failed!\n",
      "[*********************100%***********************]  1 of 1 completed\n",
      "\n",
      "1 Failed download:\n",
      "- 2023-12-01 00:00:00: No timezone found, symbol may be delisted\n",
      "yahoo failed... len of df:  0\n",
      "tiingo failed... len of df:  0\n",
      "adding 2023-12-01 00:00:00 failed!\n",
      "[*********************100%***********************]  1 of 1 completed\n"
     ]
    },
    {
     "name": "stderr",
     "output_type": "stream",
     "text": [
      "C:\\Users\\david\\anaconda3\\envs\\svmmvo\\lib\\site-packages\\pandas_datareader\\tiingo.py:234: FutureWarning: In a future version of pandas all arguments of concat except for the argument 'objs' will be keyword-only.\n",
      "  return pd.concat(dfs, self._concat_axis)\n"
     ]
    },
    {
     "name": "stdout",
     "output_type": "stream",
     "text": [
      "Added 1 stocks to the db\n",
      "    ticker priceCurrency ticker_currency\n",
      "994      A           USD           A-USD\n",
      "********************\n",
      "[*********************100%***********************]  1 of 1 completed\n",
      "\n",
      "1 Failed download:\n",
      "- A4: No timezone found, symbol may be delisted\n",
      "yahoo failed... len of df:  0\n",
      "tiingo failed... len of df:  0\n",
      "Added 2 stocks to the db\n",
      "    ticker priceCurrency ticker_currency\n",
      "365     A4           USD          A4-USD\n",
      "********************\n",
      "[*********************100%***********************]  1 of 1 completed\n",
      "\n",
      "1 Failed download:\n",
      "- AABA1: No timezone found, symbol may be delisted\n",
      "yahoo failed... len of df:  0\n",
      "tiingo failed... len of df:  0\n",
      "Added 3 stocks to the db\n",
      "  ticker priceCurrency ticker_currency\n",
      "8  AABA1           USD       AABA1-USD\n",
      "********************\n",
      "[*********************100%***********************]  1 of 1 completed\n",
      "\n",
      "1 Failed download:\n",
      "- AAF3: No timezone found, symbol may be delisted\n",
      "yahoo failed... len of df:  0\n",
      "tiingo failed... len of df:  0\n",
      "Added 4 stocks to the db\n",
      "    ticker priceCurrency ticker_currency\n",
      "430   AAF3           USD        AAF3-USD\n",
      "********************\n",
      "[*********************100%***********************]  1 of 1 completed\n"
     ]
    },
    {
     "name": "stderr",
     "output_type": "stream",
     "text": [
      "C:\\Users\\david\\anaconda3\\envs\\svmmvo\\lib\\site-packages\\pandas_datareader\\tiingo.py:234: FutureWarning: In a future version of pandas all arguments of concat except for the argument 'objs' will be keyword-only.\n",
      "  return pd.concat(dfs, self._concat_axis)\n"
     ]
    },
    {
     "name": "stdout",
     "output_type": "stream",
     "text": [
      "Added 5 stocks to the db\n",
      "    ticker priceCurrency ticker_currency\n",
      "995    AAL           USD         AAL-USD\n",
      "********************\n",
      "[*********************100%***********************]  1 of 1 completed\n",
      "\n",
      "1 Failed download:\n",
      "- AAL1: No timezone found, symbol may be delisted\n",
      "yahoo failed... len of df:  0\n",
      "tiingo failed... len of df:  0\n",
      "Added 6 stocks to the db\n",
      "    ticker priceCurrency ticker_currency\n",
      "182   AAL1           USD        AAL1-USD\n",
      "********************\n",
      "[*********************100%***********************]  1 of 1 completed\n"
     ]
    },
    {
     "name": "stderr",
     "output_type": "stream",
     "text": [
      "C:\\Users\\david\\anaconda3\\envs\\svmmvo\\lib\\site-packages\\pandas_datareader\\tiingo.py:234: FutureWarning: In a future version of pandas all arguments of concat except for the argument 'objs' will be keyword-only.\n",
      "  return pd.concat(dfs, self._concat_axis)\n"
     ]
    },
    {
     "name": "stdout",
     "output_type": "stream",
     "text": [
      "Added 7 stocks to the db\n",
      "    ticker priceCurrency ticker_currency\n",
      "996    AAP           USD         AAP-USD\n",
      "********************\n",
      "[*********************100%***********************]  1 of 1 completed\n"
     ]
    },
    {
     "name": "stderr",
     "output_type": "stream",
     "text": [
      "C:\\Users\\david\\anaconda3\\envs\\svmmvo\\lib\\site-packages\\pandas_datareader\\tiingo.py:234: FutureWarning: In a future version of pandas all arguments of concat except for the argument 'objs' will be keyword-only.\n",
      "  return pd.concat(dfs, self._concat_axis)\n"
     ]
    },
    {
     "name": "stdout",
     "output_type": "stream",
     "text": [
      "Added 8 stocks to the db\n",
      "    ticker priceCurrency ticker_currency\n",
      "997   AAPL           USD        AAPL-USD\n",
      "********************\n",
      "[*********************100%***********************]  1 of 1 completed\n",
      "\n",
      "1 Failed download:\n",
      "- ABA1: No timezone found, symbol may be delisted\n",
      "yahoo failed... len of df:  0\n",
      "tiingo failed... len of df:  0\n",
      "Added 9 stocks to the db\n",
      "    ticker priceCurrency ticker_currency\n",
      "439   ABA1           USD        ABA1-USD\n",
      "********************\n",
      "[*********************100%***********************]  1 of 1 completed\n"
     ]
    },
    {
     "name": "stderr",
     "output_type": "stream",
     "text": [
      "C:\\Users\\david\\anaconda3\\envs\\svmmvo\\lib\\site-packages\\pandas_datareader\\tiingo.py:234: FutureWarning: In a future version of pandas all arguments of concat except for the argument 'objs' will be keyword-only.\n",
      "  return pd.concat(dfs, self._concat_axis)\n"
     ]
    },
    {
     "name": "stdout",
     "output_type": "stream",
     "text": [
      "Added 10 stocks to the db\n",
      "    ticker priceCurrency ticker_currency\n",
      "998   ABBV           USD        ABBV-USD\n",
      "********************\n",
      "[*********************100%***********************]  1 of 1 completed\n"
     ]
    },
    {
     "name": "stderr",
     "output_type": "stream",
     "text": [
      "C:\\Users\\david\\anaconda3\\envs\\svmmvo\\lib\\site-packages\\pandas_datareader\\tiingo.py:234: FutureWarning: In a future version of pandas all arguments of concat except for the argument 'objs' will be keyword-only.\n",
      "  return pd.concat(dfs, self._concat_axis)\n"
     ]
    },
    {
     "name": "stdout",
     "output_type": "stream",
     "text": [
      "Added 11 stocks to the db\n",
      "    ticker priceCurrency ticker_currency\n",
      "999    ABC           USD         ABC-USD\n",
      "********************\n",
      "[*********************100%***********************]  1 of 1 completed\n",
      "\n",
      "1 Failed download:\n",
      "- ABC1: No timezone found, symbol may be delisted\n",
      "yahoo failed... len of df:  0\n",
      "tiingo failed... len of df:  0\n",
      "Added 12 stocks to the db\n",
      "    ticker priceCurrency ticker_currency\n",
      "393   ABC1           USD        ABC1-USD\n",
      "********************\n",
      "[*********************100%***********************]  1 of 1 completed\n",
      "\n",
      "1 Failed download:\n",
      "- ABI3: No timezone found, symbol may be delisted\n",
      "yahoo failed... len of df:  0\n",
      "tiingo failed... len of df:  0\n",
      "Added 13 stocks to the db\n",
      "   ticker priceCurrency ticker_currency\n",
      "85   ABI3           USD        ABI3-USD\n",
      "********************\n",
      "[*********************100%***********************]  1 of 1 completed\n",
      "\n",
      "1 Failed download:\n",
      "- ABK1: No timezone found, symbol may be delisted\n",
      "yahoo failed... len of df:  0\n",
      "tiingo failed... len of df:  0\n",
      "Added 14 stocks to the db\n",
      "    ticker priceCurrency ticker_currency\n",
      "458   ABK1           USD        ABK1-USD\n",
      "********************\n",
      "[*********************100%***********************]  1 of 1 completed\n",
      "\n",
      "1 Failed download:\n",
      "- ABKFQ1: No timezone found, symbol may be delisted\n",
      "yahoo failed... len of df:  0\n",
      "tiingo failed... len of df:  0\n",
      "Added 15 stocks to the db\n",
      "    ticker priceCurrency ticker_currency\n",
      "91  ABKFQ1           USD      ABKFQ1-USD\n",
      "********************\n",
      "[*********************100%***********************]  1 of 1 completed\n",
      "\n",
      "1 Failed download:\n",
      "- ABS1: No timezone found, symbol may be delisted\n",
      "yahoo failed... len of df:  0\n",
      "tiingo failed... len of df:  0\n",
      "Added 16 stocks to the db\n",
      "    ticker priceCurrency ticker_currency\n",
      "145   ABS1           USD        ABS1-USD\n",
      "********************\n",
      "[*********************100%***********************]  1 of 1 completed\n"
     ]
    },
    {
     "name": "stderr",
     "output_type": "stream",
     "text": [
      "C:\\Users\\david\\anaconda3\\envs\\svmmvo\\lib\\site-packages\\pandas_datareader\\tiingo.py:234: FutureWarning: In a future version of pandas all arguments of concat except for the argument 'objs' will be keyword-only.\n",
      "  return pd.concat(dfs, self._concat_axis)\n"
     ]
    },
    {
     "name": "stdout",
     "output_type": "stream",
     "text": [
      "Added 17 stocks to the db\n",
      "     ticker priceCurrency ticker_currency\n",
      "1000    ABT           USD         ABT-USD\n",
      "********************\n",
      "[*********************100%***********************]  1 of 1 completed\n",
      "\n",
      "1 Failed download:\n",
      "- ABY1: No timezone found, symbol may be delisted\n",
      "yahoo failed... len of df:  0\n",
      "tiingo failed... len of df:  0\n",
      "Added 18 stocks to the db\n",
      "     ticker priceCurrency ticker_currency\n",
      "1001   ABY1           USD        ABY1-USD\n",
      "********************\n",
      "[*********************100%***********************]  1 of 1 completed\n",
      "\n",
      "1 Failed download:\n",
      "- ACF1: No timezone found, symbol may be delisted\n",
      "yahoo failed... len of df:  0\n",
      "tiingo failed... len of df:  0\n",
      "Added 19 stocks to the db\n",
      "    ticker priceCurrency ticker_currency\n",
      "366   ACF1           USD        ACF1-USD\n",
      "********************\n",
      "[*********************100%***********************]  1 of 1 completed\n"
     ]
    },
    {
     "name": "stderr",
     "output_type": "stream",
     "text": [
      "C:\\Users\\david\\anaconda3\\envs\\svmmvo\\lib\\site-packages\\pandas_datareader\\tiingo.py:234: FutureWarning: In a future version of pandas all arguments of concat except for the argument 'objs' will be keyword-only.\n",
      "  return pd.concat(dfs, self._concat_axis)\n"
     ]
    },
    {
     "name": "stdout",
     "output_type": "stream",
     "text": [
      "Added 20 stocks to the db\n",
      "     ticker priceCurrency ticker_currency\n",
      "1002   ACGL           USD        ACGL-USD\n",
      "********************\n",
      "[*********************100%***********************]  1 of 1 completed\n",
      "\n",
      "1 Failed download:\n",
      "- ACKHQ1: No timezone found, symbol may be delisted\n",
      "yahoo failed... len of df:  0\n",
      "tiingo failed... len of df:  0\n",
      "Added 21 stocks to the db\n",
      "     ticker priceCurrency ticker_currency\n",
      "136  ACKHQ1           USD      ACKHQ1-USD\n",
      "********************\n",
      "[*********************100%***********************]  1 of 1 completed\n"
     ]
    },
    {
     "name": "stderr",
     "output_type": "stream",
     "text": [
      "C:\\Users\\david\\anaconda3\\envs\\svmmvo\\lib\\site-packages\\pandas_datareader\\tiingo.py:234: FutureWarning: In a future version of pandas all arguments of concat except for the argument 'objs' will be keyword-only.\n",
      "  return pd.concat(dfs, self._concat_axis)\n"
     ]
    },
    {
     "name": "stdout",
     "output_type": "stream",
     "text": [
      "Added 22 stocks to the db\n",
      "     ticker priceCurrency ticker_currency\n",
      "1003    ACN           USD         ACN-USD\n",
      "********************\n",
      "[*********************100%***********************]  1 of 1 completed\n",
      "\n",
      "1 Failed download:\n",
      "- ACN2: No timezone found, symbol may be delisted\n",
      "yahoo failed... len of df:  0\n",
      "tiingo failed... len of df:  0\n",
      "Added 23 stocks to the db\n",
      "    ticker priceCurrency ticker_currency\n",
      "441   ACN2           USD        ACN2-USD\n",
      "********************\n",
      "[*********************100%***********************]  1 of 1 completed\n",
      "\n",
      "1 Failed download:\n",
      "- ACR3: No timezone found, symbol may be delisted\n",
      "yahoo failed... len of df:  0\n",
      "tiingo failed... len of df:  0\n",
      "Added 24 stocks to the db\n",
      "    ticker priceCurrency ticker_currency\n",
      "782   ACR3           USD        ACR3-USD\n",
      "********************\n",
      "[*********************100%***********************]  1 of 1 completed\n",
      "\n",
      "1 Failed download:\n",
      "- ACS1: No timezone found, symbol may be delisted\n",
      "yahoo failed... len of df:  0\n",
      "tiingo failed... len of df:  0\n",
      "Added 25 stocks to the db\n",
      "    ticker priceCurrency ticker_currency\n",
      "396   ACS1           USD        ACS1-USD\n",
      "********************\n",
      "[*********************100%***********************]  1 of 1 completed\n",
      "\n",
      "1 Failed download:\n",
      "- ACS4: No timezone found, symbol may be delisted\n",
      "yahoo failed... len of df:  0\n",
      "tiingo failed... len of df:  0\n",
      "Added 26 stocks to the db\n",
      "   ticker priceCurrency ticker_currency\n",
      "94   ACS4           USD        ACS4-USD\n",
      "********************\n",
      "[*********************100%***********************]  1 of 1 completed\n",
      "\n",
      "1 Failed download:\n",
      "- ACV1: No timezone found, symbol may be delisted\n",
      "yahoo failed... len of df:  0\n",
      "tiingo failed... len of df:  0\n",
      "Added 27 stocks to the db\n",
      "     ticker priceCurrency ticker_currency\n",
      "1004   ACV1           USD        ACV1-USD\n",
      "********************\n",
      "[*********************100%***********************]  1 of 1 completed\n",
      "\n",
      "1 Failed download:\n",
      "- ACY1: No timezone found, symbol may be delisted\n",
      "yahoo failed... len of df:  0\n",
      "tiingo failed... len of df:  0\n",
      "Added 28 stocks to the db\n",
      "    ticker priceCurrency ticker_currency\n",
      "384   ACY1           USD        ACY1-USD\n",
      "********************\n",
      "[*********************100%***********************]  1 of 1 completed\n",
      "\n",
      "1 Failed download:\n",
      "- AD2: No timezone found, symbol may be delisted\n",
      "yahoo failed... len of df:  0\n",
      "tiingo failed... len of df:  0\n",
      "Added 29 stocks to the db\n",
      "    ticker priceCurrency ticker_currency\n",
      "417    AD2           USD         AD2-USD\n",
      "********************\n",
      "[*********************100%***********************]  1 of 1 completed\n"
     ]
    },
    {
     "name": "stderr",
     "output_type": "stream",
     "text": [
      "C:\\Users\\david\\anaconda3\\envs\\svmmvo\\lib\\site-packages\\pandas_datareader\\tiingo.py:234: FutureWarning: In a future version of pandas all arguments of concat except for the argument 'objs' will be keyword-only.\n",
      "  return pd.concat(dfs, self._concat_axis)\n"
     ]
    },
    {
     "name": "stdout",
     "output_type": "stream",
     "text": [
      "Added 30 stocks to the db\n",
      "     ticker priceCurrency ticker_currency\n",
      "1005   ADBE           USD        ADBE-USD\n",
      "********************\n",
      "[*********************100%***********************]  1 of 1 completed\n",
      "\n",
      "1 Failed download:\n",
      "- ADCT1: No timezone found, symbol may be delisted\n",
      "yahoo failed... len of df:  0\n",
      "tiingo failed... len of df:  0\n",
      "Added 31 stocks to the db\n",
      "   ticker priceCurrency ticker_currency\n",
      "79  ADCT1           USD       ADCT1-USD\n",
      "********************\n",
      "[*********************100%***********************]  1 of 1 completed\n"
     ]
    },
    {
     "name": "stderr",
     "output_type": "stream",
     "text": [
      "C:\\Users\\david\\anaconda3\\envs\\svmmvo\\lib\\site-packages\\pandas_datareader\\tiingo.py:234: FutureWarning: In a future version of pandas all arguments of concat except for the argument 'objs' will be keyword-only.\n",
      "  return pd.concat(dfs, self._concat_axis)\n"
     ]
    },
    {
     "name": "stdout",
     "output_type": "stream",
     "text": [
      "Added 32 stocks to the db\n",
      "     ticker priceCurrency ticker_currency\n",
      "1006    ADI           USD         ADI-USD\n",
      "********************\n",
      "[*********************100%***********************]  1 of 1 completed\n",
      "\n",
      "1 Failed download:\n",
      "- ADL1: No timezone found, symbol may be delisted\n",
      "yahoo failed... len of df:  0\n",
      "tiingo failed... len of df:  0\n",
      "Added 33 stocks to the db\n",
      "    ticker priceCurrency ticker_currency\n",
      "602   ADL1           USD        ADL1-USD\n",
      "********************\n",
      "[*********************100%***********************]  1 of 1 completed\n"
     ]
    },
    {
     "name": "stderr",
     "output_type": "stream",
     "text": [
      "C:\\Users\\david\\anaconda3\\envs\\svmmvo\\lib\\site-packages\\pandas_datareader\\tiingo.py:234: FutureWarning: In a future version of pandas all arguments of concat except for the argument 'objs' will be keyword-only.\n",
      "  return pd.concat(dfs, self._concat_axis)\n"
     ]
    },
    {
     "name": "stdout",
     "output_type": "stream",
     "text": [
      "Added 34 stocks to the db\n",
      "     ticker priceCurrency ticker_currency\n",
      "1007    ADM           USD         ADM-USD\n",
      "********************\n",
      "[*********************100%***********************]  1 of 1 completed\n"
     ]
    },
    {
     "name": "stderr",
     "output_type": "stream",
     "text": [
      "C:\\Users\\david\\anaconda3\\envs\\svmmvo\\lib\\site-packages\\pandas_datareader\\tiingo.py:234: FutureWarning: In a future version of pandas all arguments of concat except for the argument 'objs' will be keyword-only.\n",
      "  return pd.concat(dfs, self._concat_axis)\n"
     ]
    },
    {
     "name": "stdout",
     "output_type": "stream",
     "text": [
      "Added 35 stocks to the db\n",
      "     ticker priceCurrency ticker_currency\n",
      "1008    ADP           USD         ADP-USD\n",
      "********************\n",
      "[*********************100%***********************]  1 of 1 completed\n"
     ]
    },
    {
     "name": "stderr",
     "output_type": "stream",
     "text": [
      "C:\\Users\\david\\anaconda3\\envs\\svmmvo\\lib\\site-packages\\pandas_datareader\\tiingo.py:234: FutureWarning: In a future version of pandas all arguments of concat except for the argument 'objs' will be keyword-only.\n",
      "  return pd.concat(dfs, self._concat_axis)\n"
     ]
    },
    {
     "name": "stdout",
     "output_type": "stream",
     "text": [
      "Added 36 stocks to the db\n",
      "     ticker priceCurrency ticker_currency\n",
      "1009   ADSK           USD        ADSK-USD\n",
      "********************\n",
      "[*********************100%***********************]  1 of 1 completed\n",
      "\n",
      "1 Failed download:\n",
      "- ADT4: No timezone found, symbol may be delisted\n",
      "yahoo failed... len of df:  0\n",
      "tiingo failed... len of df:  0\n",
      "Added 37 stocks to the db\n",
      "    ticker priceCurrency ticker_currency\n",
      "663   ADT4           USD        ADT4-USD\n",
      "********************\n",
      "[*********************100%***********************]  1 of 1 completed\n",
      "\n",
      "1 Failed download:\n",
      "- ADT5: No timezone found, symbol may be delisted\n",
      "yahoo failed... len of df:  0\n",
      "tiingo failed... len of df:  0\n",
      "Added 38 stocks to the db\n",
      "    ticker priceCurrency ticker_currency\n",
      "477   ADT5           USD        ADT5-USD\n",
      "********************\n",
      "[*********************100%***********************]  1 of 1 completed\n"
     ]
    },
    {
     "name": "stderr",
     "output_type": "stream",
     "text": [
      "C:\\Users\\david\\anaconda3\\envs\\svmmvo\\lib\\site-packages\\pandas_datareader\\tiingo.py:234: FutureWarning: In a future version of pandas all arguments of concat except for the argument 'objs' will be keyword-only.\n",
      "  return pd.concat(dfs, self._concat_axis)\n"
     ]
    },
    {
     "name": "stdout",
     "output_type": "stream",
     "text": [
      "Added 39 stocks to the db\n",
      "     ticker priceCurrency ticker_currency\n",
      "1010    AEE           USD         AEE-USD\n",
      "********************\n",
      "[*********************100%***********************]  1 of 1 completed\n"
     ]
    },
    {
     "name": "stderr",
     "output_type": "stream",
     "text": [
      "C:\\Users\\david\\anaconda3\\envs\\svmmvo\\lib\\site-packages\\pandas_datareader\\tiingo.py:234: FutureWarning: In a future version of pandas all arguments of concat except for the argument 'objs' will be keyword-only.\n",
      "  return pd.concat(dfs, self._concat_axis)\n"
     ]
    },
    {
     "name": "stdout",
     "output_type": "stream",
     "text": [
      "Added 40 stocks to the db\n",
      "     ticker priceCurrency ticker_currency\n",
      "1011    AEP           USD         AEP-USD\n",
      "********************\n",
      "[*********************100%***********************]  1 of 1 completed\n"
     ]
    },
    {
     "name": "stderr",
     "output_type": "stream",
     "text": [
      "C:\\Users\\david\\anaconda3\\envs\\svmmvo\\lib\\site-packages\\pandas_datareader\\tiingo.py:234: FutureWarning: In a future version of pandas all arguments of concat except for the argument 'objs' will be keyword-only.\n",
      "  return pd.concat(dfs, self._concat_axis)\n"
     ]
    },
    {
     "name": "stdout",
     "output_type": "stream",
     "text": [
      "Added 41 stocks to the db\n",
      "     ticker priceCurrency ticker_currency\n",
      "1012    AES           USD         AES-USD\n",
      "********************\n",
      "[*********************100%***********************]  1 of 1 completed\n",
      "\n",
      "1 Failed download:\n",
      "- AET1: No timezone found, symbol may be delisted\n",
      "yahoo failed... len of df:  0\n",
      "tiingo failed... len of df:  0\n",
      "Added 42 stocks to the db\n",
      "    ticker priceCurrency ticker_currency\n",
      "172   AET1           USD        AET1-USD\n",
      "********************\n",
      "[*********************100%***********************]  1 of 1 completed\n",
      "\n",
      "1 Failed download:\n",
      "- AET8: No timezone found, symbol may be delisted\n",
      "yahoo failed... len of df:  0\n",
      "tiingo failed... len of df:  0\n",
      "Added 43 stocks to the db\n",
      "   ticker priceCurrency ticker_currency\n",
      "17   AET8           USD        AET8-USD\n",
      "********************\n",
      "[*********************100%***********************]  1 of 1 completed\n",
      "\n",
      "1 Failed download:\n",
      "- AEX3: No timezone found, symbol may be delisted\n",
      "yahoo failed... len of df:  0\n",
      "tiingo failed... len of df:  0\n",
      "Added 44 stocks to the db\n",
      "    ticker priceCurrency ticker_currency\n",
      "857   AEX3           USD        AEX3-USD\n",
      "********************\n",
      "[*********************100%***********************]  1 of 1 completed\n",
      "\n",
      "1 Failed download:\n",
      "- AF2: No timezone found, symbol may be delisted\n",
      "yahoo failed... len of df:  0\n",
      "tiingo failed... len of df:  0\n",
      "Added 45 stocks to the db\n",
      "    ticker priceCurrency ticker_currency\n",
      "716    AF2           USD         AF2-USD\n",
      "********************\n",
      "[*********************100%***********************]  1 of 1 completed\n"
     ]
    },
    {
     "name": "stderr",
     "output_type": "stream",
     "text": [
      "C:\\Users\\david\\anaconda3\\envs\\svmmvo\\lib\\site-packages\\pandas_datareader\\tiingo.py:234: FutureWarning: In a future version of pandas all arguments of concat except for the argument 'objs' will be keyword-only.\n",
      "  return pd.concat(dfs, self._concat_axis)\n"
     ]
    },
    {
     "name": "stdout",
     "output_type": "stream",
     "text": [
      "Added 46 stocks to the db\n",
      "     ticker priceCurrency ticker_currency\n",
      "1013    AFL           USD         AFL-USD\n",
      "********************\n",
      "[*********************100%***********************]  1 of 1 completed\n",
      "\n",
      "1 Failed download:\n",
      "- AFN1: No timezone found, symbol may be delisted\n",
      "yahoo failed... len of df:  0\n",
      "tiingo failed... len of df:  0\n",
      "Added 47 stocks to the db\n",
      "    ticker priceCurrency ticker_currency\n",
      "518   AFN1           USD        AFN1-USD\n",
      "********************\n",
      "[*********************100%***********************]  1 of 1 completed\n",
      "\n",
      "1 Failed download:\n",
      "- AFS2: No timezone found, symbol may be delisted\n",
      "yahoo failed... len of df:  0\n",
      "tiingo failed... len of df:  0\n",
      "Added 48 stocks to the db\n",
      "    ticker priceCurrency ticker_currency\n",
      "276   AFS2           USD        AFS2-USD\n",
      "********************\n",
      "[*********************100%***********************]  1 of 1 completed\n",
      "\n",
      "1 Failed download:\n",
      "- AGC1: No timezone found, symbol may be delisted\n",
      "yahoo failed... len of df:  0\n",
      "tiingo failed... len of df:  0\n",
      "Added 49 stocks to the db\n",
      "     ticker priceCurrency ticker_currency\n",
      "1014   AGC1           USD        AGC1-USD\n",
      "********************\n",
      "[*********************100%***********************]  1 of 1 completed\n",
      "\n",
      "1 Failed download:\n",
      "- AGG1: No timezone found, symbol may be delisted\n",
      "yahoo failed... len of df:  0\n",
      "tiingo failed... len of df:  0\n",
      "Added 50 stocks to the db\n",
      "    ticker priceCurrency ticker_currency\n",
      "406   AGG1           USD        AGG1-USD\n",
      "********************\n",
      "[*********************100%***********************]  1 of 1 completed\n",
      "\n",
      "1 Failed download:\n",
      "- AGM1: No timezone found, symbol may be delisted\n",
      "yahoo failed... len of df:  0\n",
      "tiingo failed... len of df:  0\n",
      "Added 51 stocks to the db\n",
      "    ticker priceCurrency ticker_currency\n",
      "428   AGM1           USD        AGM1-USD\n",
      "********************\n",
      "[*********************100%***********************]  1 of 1 completed\n",
      "\n",
      "1 Failed download:\n",
      "- AGN6: No timezone found, symbol may be delisted\n",
      "yahoo failed... len of df:  0\n",
      "tiingo failed... len of df:  0\n",
      "Added 52 stocks to the db\n",
      "   ticker priceCurrency ticker_currency\n",
      "43   AGN6           USD        AGN6-USD\n",
      "********************\n",
      "[*********************100%***********************]  1 of 1 completed\n",
      "\n",
      "1 Failed download:\n",
      "- AGN7: No timezone found, symbol may be delisted\n",
      "yahoo failed... len of df:  0\n",
      "tiingo failed... len of df:  0\n",
      "Added 53 stocks to the db\n",
      "  ticker priceCurrency ticker_currency\n",
      "9   AGN7           USD        AGN7-USD\n",
      "********************\n",
      "[*********************100%***********************]  1 of 1 completed\n",
      "\n",
      "1 Failed download:\n",
      "- AH2: No timezone found, symbol may be delisted\n",
      "yahoo failed... len of df:  0\n",
      "tiingo failed... len of df:  0\n",
      "Added 54 stocks to the db\n",
      "    ticker priceCurrency ticker_currency\n",
      "453    AH2           USD         AH2-USD\n",
      "********************\n",
      "[*********************100%***********************]  1 of 1 completed\n",
      "\n",
      "1 Failed download:\n",
      "- AHD1: No timezone found, symbol may be delisted\n",
      "yahoo failed... len of df:  0\n",
      "tiingo failed... len of df:  0\n",
      "Added 55 stocks to the db\n",
      "    ticker priceCurrency ticker_currency\n",
      "578   AHD1           USD        AHD1-USD\n",
      "********************\n",
      "[*********************100%***********************]  1 of 1 completed\n",
      "\n",
      "1 Failed download:\n",
      "- AHM1: No timezone found, symbol may be delisted\n",
      "yahoo failed... len of df:  0\n",
      "tiingo failed... len of df:  0\n",
      "Added 56 stocks to the db\n",
      "     ticker priceCurrency ticker_currency\n",
      "1015   AHM1           USD        AHM1-USD\n",
      "********************\n",
      "[*********************100%***********************]  1 of 1 completed\n",
      "\n",
      "1 Failed download:\n",
      "- AHS1: No timezone found, symbol may be delisted\n",
      "yahoo failed... len of df:  0\n",
      "tiingo failed... len of df:  0\n",
      "Added 57 stocks to the db\n",
      "    ticker priceCurrency ticker_currency\n",
      "432   AHS1           USD        AHS1-USD\n",
      "********************\n",
      "[*********************100%***********************]  1 of 1 completed\n",
      "\n",
      "1 Failed download:\n",
      "- AHS2: No timezone found, symbol may be delisted\n",
      "yahoo failed... len of df:  0\n",
      "tiingo failed... len of df:  0\n",
      "Added 58 stocks to the db\n",
      "    ticker priceCurrency ticker_currency\n",
      "581   AHS2           USD        AHS2-USD\n",
      "********************\n",
      "[*********************100%***********************]  1 of 1 completed\n",
      "\n",
      "1 Failed download:\n",
      "- AIC2: No timezone found, symbol may be delisted\n",
      "yahoo failed... len of df:  0\n",
      "tiingo failed... len of df:  0\n",
      "Added 59 stocks to the db\n",
      "    ticker priceCurrency ticker_currency\n",
      "482   AIC2           USD        AIC2-USD\n",
      "********************\n",
      "[*********************100%***********************]  1 of 1 completed\n"
     ]
    },
    {
     "name": "stderr",
     "output_type": "stream",
     "text": [
      "C:\\Users\\david\\anaconda3\\envs\\svmmvo\\lib\\site-packages\\pandas_datareader\\tiingo.py:234: FutureWarning: In a future version of pandas all arguments of concat except for the argument 'objs' will be keyword-only.\n",
      "  return pd.concat(dfs, self._concat_axis)\n"
     ]
    },
    {
     "name": "stdout",
     "output_type": "stream",
     "text": [
      "Added 60 stocks to the db\n",
      "     ticker priceCurrency ticker_currency\n",
      "1016    AIG           USD         AIG-USD\n",
      "********************\n",
      "[*********************100%***********************]  1 of 1 completed\n",
      "\n",
      "1 Failed download:\n",
      "- AIT1: No timezone found, symbol may be delisted\n",
      "yahoo failed... len of df:  0\n",
      "tiingo failed... len of df:  0\n",
      "Added 61 stocks to the db\n",
      "     ticker priceCurrency ticker_currency\n",
      "1017   AIT1           USD        AIT1-USD\n",
      "********************\n",
      "[*********************100%***********************]  1 of 1 completed\n"
     ]
    },
    {
     "name": "stderr",
     "output_type": "stream",
     "text": [
      "C:\\Users\\david\\anaconda3\\envs\\svmmvo\\lib\\site-packages\\pandas_datareader\\tiingo.py:234: FutureWarning: In a future version of pandas all arguments of concat except for the argument 'objs' will be keyword-only.\n",
      "  return pd.concat(dfs, self._concat_axis)\n"
     ]
    },
    {
     "name": "stdout",
     "output_type": "stream",
     "text": [
      "Added 62 stocks to the db\n",
      "     ticker priceCurrency ticker_currency\n",
      "1018    AIV           USD         AIV-USD\n",
      "********************\n",
      "[*********************100%***********************]  1 of 1 completed\n"
     ]
    },
    {
     "name": "stderr",
     "output_type": "stream",
     "text": [
      "C:\\Users\\david\\anaconda3\\envs\\svmmvo\\lib\\site-packages\\pandas_datareader\\tiingo.py:234: FutureWarning: In a future version of pandas all arguments of concat except for the argument 'objs' will be keyword-only.\n",
      "  return pd.concat(dfs, self._concat_axis)\n"
     ]
    },
    {
     "name": "stdout",
     "output_type": "stream",
     "text": [
      "Added 63 stocks to the db\n",
      "     ticker priceCurrency ticker_currency\n",
      "1019    AIZ           USD         AIZ-USD\n",
      "********************\n",
      "[*********************100%***********************]  1 of 1 completed\n"
     ]
    },
    {
     "name": "stderr",
     "output_type": "stream",
     "text": [
      "C:\\Users\\david\\anaconda3\\envs\\svmmvo\\lib\\site-packages\\pandas_datareader\\tiingo.py:234: FutureWarning: In a future version of pandas all arguments of concat except for the argument 'objs' will be keyword-only.\n",
      "  return pd.concat(dfs, self._concat_axis)\n"
     ]
    },
    {
     "name": "stdout",
     "output_type": "stream",
     "text": [
      "Added 64 stocks to the db\n",
      "     ticker priceCurrency ticker_currency\n",
      "1020    AJG           USD         AJG-USD\n",
      "********************\n",
      "[*********************100%***********************]  1 of 1 completed\n"
     ]
    },
    {
     "name": "stderr",
     "output_type": "stream",
     "text": [
      "C:\\Users\\david\\anaconda3\\envs\\svmmvo\\lib\\site-packages\\pandas_datareader\\tiingo.py:234: FutureWarning: In a future version of pandas all arguments of concat except for the argument 'objs' will be keyword-only.\n",
      "  return pd.concat(dfs, self._concat_axis)\n"
     ]
    },
    {
     "name": "stdout",
     "output_type": "stream",
     "text": [
      "Added 65 stocks to the db\n",
      "     ticker priceCurrency ticker_currency\n",
      "1021   AKAM           USD        AKAM-USD\n",
      "********************\n",
      "[*********************100%***********************]  1 of 1 completed\n",
      "\n",
      "1 Failed download:\n",
      "- AL1: No timezone found, symbol may be delisted\n",
      "yahoo failed... len of df:  0\n",
      "tiingo failed... len of df:  0\n",
      "Added 66 stocks to the db\n",
      "     ticker priceCurrency ticker_currency\n",
      "1022    AL1           USD         AL1-USD\n",
      "********************\n",
      "[*********************100%***********************]  1 of 1 completed\n"
     ]
    },
    {
     "name": "stderr",
     "output_type": "stream",
     "text": [
      "C:\\Users\\david\\anaconda3\\envs\\svmmvo\\lib\\site-packages\\pandas_datareader\\tiingo.py:234: FutureWarning: In a future version of pandas all arguments of concat except for the argument 'objs' will be keyword-only.\n",
      "  return pd.concat(dfs, self._concat_axis)\n"
     ]
    },
    {
     "name": "stdout",
     "output_type": "stream",
     "text": [
      "Added 67 stocks to the db\n",
      "     ticker priceCurrency ticker_currency\n",
      "1023    ALB           USD         ALB-USD\n",
      "********************\n",
      "[*********************100%***********************]  1 of 1 completed\n"
     ]
    },
    {
     "name": "stderr",
     "output_type": "stream",
     "text": [
      "C:\\Users\\david\\anaconda3\\envs\\svmmvo\\lib\\site-packages\\pandas_datareader\\tiingo.py:234: FutureWarning: In a future version of pandas all arguments of concat except for the argument 'objs' will be keyword-only.\n",
      "  return pd.concat(dfs, self._concat_axis)\n"
     ]
    },
    {
     "name": "stdout",
     "output_type": "stream",
     "text": [
      "Added 68 stocks to the db\n",
      "     ticker priceCurrency ticker_currency\n",
      "1024   ALGN           USD        ALGN-USD\n",
      "********************\n",
      "[*********************100%***********************]  1 of 1 completed\n"
     ]
    },
    {
     "name": "stderr",
     "output_type": "stream",
     "text": [
      "C:\\Users\\david\\anaconda3\\envs\\svmmvo\\lib\\site-packages\\pandas_datareader\\tiingo.py:234: FutureWarning: In a future version of pandas all arguments of concat except for the argument 'objs' will be keyword-only.\n",
      "  return pd.concat(dfs, self._concat_axis)\n"
     ]
    },
    {
     "name": "stdout",
     "output_type": "stream",
     "text": [
      "Added 69 stocks to the db\n",
      "     ticker priceCurrency ticker_currency\n",
      "1025    ALK           USD         ALK-USD\n",
      "********************\n",
      "[*********************100%***********************]  1 of 1 completed\n"
     ]
    },
    {
     "name": "stderr",
     "output_type": "stream",
     "text": [
      "C:\\Users\\david\\anaconda3\\envs\\svmmvo\\lib\\site-packages\\pandas_datareader\\tiingo.py:234: FutureWarning: In a future version of pandas all arguments of concat except for the argument 'objs' will be keyword-only.\n",
      "  return pd.concat(dfs, self._concat_axis)\n"
     ]
    },
    {
     "name": "stdout",
     "output_type": "stream",
     "text": [
      "Added 70 stocks to the db\n",
      "     ticker priceCurrency ticker_currency\n",
      "1026    ALL           USD         ALL-USD\n",
      "********************\n",
      "[*********************100%***********************]  1 of 1 completed\n"
     ]
    },
    {
     "name": "stderr",
     "output_type": "stream",
     "text": [
      "C:\\Users\\david\\anaconda3\\envs\\svmmvo\\lib\\site-packages\\pandas_datareader\\tiingo.py:234: FutureWarning: In a future version of pandas all arguments of concat except for the argument 'objs' will be keyword-only.\n",
      "  return pd.concat(dfs, self._concat_axis)\n"
     ]
    },
    {
     "name": "stdout",
     "output_type": "stream",
     "text": [
      "Added 71 stocks to the db\n",
      "     ticker priceCurrency ticker_currency\n",
      "1027   ALLE           USD        ALLE-USD\n",
      "********************\n",
      "[*********************100%***********************]  1 of 1 completed\n",
      "\n",
      "1 Failed download:\n",
      "- ALS2: No timezone found, symbol may be delisted\n",
      "yahoo failed... len of df:  0\n",
      "tiingo failed... len of df:  0\n",
      "Added 72 stocks to the db\n",
      "    ticker priceCurrency ticker_currency\n",
      "495   ALS2           USD        ALS2-USD\n",
      "********************\n",
      "[*********************100%***********************]  1 of 1 completed\n",
      "\n",
      "1 Failed download:\n",
      "- ALTR2: No timezone found, symbol may be delisted\n",
      "yahoo failed... len of df:  0\n",
      "tiingo failed... len of df:  0\n",
      "Added 73 stocks to the db\n",
      "   ticker priceCurrency ticker_currency\n",
      "34  ALTR2           USD       ALTR2-USD\n",
      "********************\n",
      "[*********************100%***********************]  1 of 1 completed\n",
      "\n",
      "1 Failed download:\n",
      "- ALXN2: No timezone found, symbol may be delisted\n",
      "yahoo failed... len of df:  0\n",
      "tiingo failed... len of df:  0\n",
      "Added 74 stocks to the db\n",
      "   ticker priceCurrency ticker_currency\n",
      "13  ALXN2           USD       ALXN2-USD\n",
      "********************\n",
      "[*********************100%***********************]  1 of 1 completed\n",
      "\n",
      "1 Failed download:\n",
      "- AM1: No timezone found, symbol may be delisted\n",
      "yahoo failed... len of df:  0\n",
      "tiingo failed... len of df:  0\n",
      "Added 75 stocks to the db\n",
      "     ticker priceCurrency ticker_currency\n",
      "1028    AM1           USD         AM1-USD\n",
      "********************\n",
      "[*********************100%***********************]  1 of 1 completed\n",
      "\n",
      "1 Failed download:\n",
      "- AM2: No timezone found, symbol may be delisted\n",
      "yahoo failed... len of df:  0\n",
      "tiingo failed... len of df:  0\n",
      "Added 76 stocks to the db\n",
      "     ticker priceCurrency ticker_currency\n",
      "1029    AM2           USD         AM2-USD\n",
      "********************\n",
      "[*********************100%***********************]  1 of 1 completed\n",
      "\n",
      "1 Failed download:\n",
      "- AM3: No timezone found, symbol may be delisted\n",
      "yahoo failed... len of df:  0\n",
      "tiingo failed... len of df:  0\n",
      "Added 77 stocks to the db\n",
      "   ticker priceCurrency ticker_currency\n",
      "89    AM3           USD         AM3-USD\n",
      "********************\n",
      "[*********************100%***********************]  1 of 1 completed\n"
     ]
    },
    {
     "name": "stderr",
     "output_type": "stream",
     "text": [
      "C:\\Users\\david\\anaconda3\\envs\\svmmvo\\lib\\site-packages\\pandas_datareader\\tiingo.py:234: FutureWarning: In a future version of pandas all arguments of concat except for the argument 'objs' will be keyword-only.\n",
      "  return pd.concat(dfs, self._concat_axis)\n"
     ]
    },
    {
     "name": "stdout",
     "output_type": "stream",
     "text": [
      "Added 78 stocks to the db\n",
      "     ticker priceCurrency ticker_currency\n",
      "1030   AMAT           USD        AMAT-USD\n",
      "********************\n",
      "[*********************100%***********************]  1 of 1 completed\n"
     ]
    },
    {
     "name": "stderr",
     "output_type": "stream",
     "text": [
      "C:\\Users\\david\\anaconda3\\envs\\svmmvo\\lib\\site-packages\\pandas_datareader\\tiingo.py:234: FutureWarning: In a future version of pandas all arguments of concat except for the argument 'objs' will be keyword-only.\n",
      "  return pd.concat(dfs, self._concat_axis)\n"
     ]
    },
    {
     "name": "stdout",
     "output_type": "stream",
     "text": [
      "Added 79 stocks to the db\n",
      "     ticker priceCurrency ticker_currency\n",
      "1031   AMCR           USD        AMCR-USD\n",
      "********************\n",
      "[*********************100%***********************]  1 of 1 completed\n"
     ]
    },
    {
     "name": "stderr",
     "output_type": "stream",
     "text": [
      "C:\\Users\\david\\anaconda3\\envs\\svmmvo\\lib\\site-packages\\pandas_datareader\\tiingo.py:234: FutureWarning: In a future version of pandas all arguments of concat except for the argument 'objs' will be keyword-only.\n",
      "  return pd.concat(dfs, self._concat_axis)\n"
     ]
    },
    {
     "name": "stdout",
     "output_type": "stream",
     "text": [
      "Added 80 stocks to the db\n",
      "     ticker priceCurrency ticker_currency\n",
      "1032    AMD           USD         AMD-USD\n",
      "********************\n",
      "[*********************100%***********************]  1 of 1 completed\n",
      "\n",
      "1 Failed download:\n",
      "- AMDA1: No timezone found, symbol may be delisted\n",
      "yahoo failed... len of df:  0\n",
      "tiingo failed... len of df:  0\n",
      "Added 81 stocks to the db\n",
      "    ticker priceCurrency ticker_currency\n",
      "561  AMDA1           USD       AMDA1-USD\n",
      "********************\n",
      "[*********************100%***********************]  1 of 1 completed\n"
     ]
    },
    {
     "name": "stderr",
     "output_type": "stream",
     "text": [
      "C:\\Users\\david\\anaconda3\\envs\\svmmvo\\lib\\site-packages\\pandas_datareader\\tiingo.py:234: FutureWarning: In a future version of pandas all arguments of concat except for the argument 'objs' will be keyword-only.\n",
      "  return pd.concat(dfs, self._concat_axis)\n"
     ]
    },
    {
     "name": "stdout",
     "output_type": "stream",
     "text": [
      "Added 82 stocks to the db\n",
      "     ticker priceCurrency ticker_currency\n",
      "1033    AME           USD         AME-USD\n",
      "********************\n",
      "[*********************100%***********************]  1 of 1 completed\n",
      "\n",
      "1 Failed download:\n",
      "- AMF2: No timezone found, symbol may be delisted\n",
      "yahoo failed... len of df:  0\n",
      "tiingo failed... len of df:  0\n",
      "Added 83 stocks to the db\n",
      "    ticker priceCurrency ticker_currency\n",
      "486   AMF2           USD        AMF2-USD\n",
      "********************\n",
      "[*********************100%***********************]  1 of 1 completed\n"
     ]
    },
    {
     "name": "stderr",
     "output_type": "stream",
     "text": [
      "C:\\Users\\david\\anaconda3\\envs\\svmmvo\\lib\\site-packages\\pandas_datareader\\tiingo.py:234: FutureWarning: In a future version of pandas all arguments of concat except for the argument 'objs' will be keyword-only.\n",
      "  return pd.concat(dfs, self._concat_axis)\n"
     ]
    },
    {
     "name": "stdout",
     "output_type": "stream",
     "text": [
      "Added 84 stocks to the db\n",
      "     ticker priceCurrency ticker_currency\n",
      "1034    AMG           USD         AMG-USD\n",
      "********************\n",
      "[*********************100%***********************]  1 of 1 completed\n"
     ]
    },
    {
     "name": "stderr",
     "output_type": "stream",
     "text": [
      "C:\\Users\\david\\anaconda3\\envs\\svmmvo\\lib\\site-packages\\pandas_datareader\\tiingo.py:234: FutureWarning: In a future version of pandas all arguments of concat except for the argument 'objs' will be keyword-only.\n",
      "  return pd.concat(dfs, self._concat_axis)\n"
     ]
    },
    {
     "name": "stdout",
     "output_type": "stream",
     "text": [
      "Added 85 stocks to the db\n",
      "     ticker priceCurrency ticker_currency\n",
      "1035   AMGN           USD        AMGN-USD\n",
      "********************\n",
      "[*********************100%***********************]  1 of 1 completed\n",
      "\n",
      "1 Failed download:\n",
      "- AMH2: No timezone found, symbol may be delisted\n",
      "yahoo failed... len of df:  0\n",
      "tiingo failed... len of df:  0\n",
      "Added 86 stocks to the db\n",
      "    ticker priceCurrency ticker_currency\n",
      "299   AMH2           USD        AMH2-USD\n",
      "********************\n",
      "[*********************100%***********************]  1 of 1 completed\n",
      "\n",
      "1 Failed download:\n",
      "- AMI2: No timezone found, symbol may be delisted\n",
      "yahoo failed... len of df:  0\n",
      "tiingo failed... len of df:  0\n",
      "Added 87 stocks to the db\n",
      "    ticker priceCurrency ticker_currency\n",
      "538   AMI2           USD        AMI2-USD\n",
      "********************\n",
      "[*********************100%***********************]  1 of 1 completed\n",
      "\n",
      "1 Failed download:\n",
      "- AMO2: No timezone found, symbol may be delisted\n",
      "yahoo failed... len of df:  0\n",
      "tiingo failed... len of df:  0\n",
      "Added 88 stocks to the db\n",
      "    ticker priceCurrency ticker_currency\n",
      "405   AMO2           USD        AMO2-USD\n",
      "********************\n",
      "[*********************100%***********************]  1 of 1 completed\n"
     ]
    },
    {
     "name": "stderr",
     "output_type": "stream",
     "text": [
      "C:\\Users\\david\\anaconda3\\envs\\svmmvo\\lib\\site-packages\\pandas_datareader\\tiingo.py:234: FutureWarning: In a future version of pandas all arguments of concat except for the argument 'objs' will be keyword-only.\n",
      "  return pd.concat(dfs, self._concat_axis)\n"
     ]
    },
    {
     "name": "stdout",
     "output_type": "stream",
     "text": [
      "Added 89 stocks to the db\n",
      "     ticker priceCurrency ticker_currency\n",
      "1036    AMP           USD         AMP-USD\n",
      "********************\n",
      "[*********************100%***********************]  1 of 1 completed\n",
      "\n",
      "1 Failed download:\n",
      "- AMP1: No timezone found, symbol may be delisted\n",
      "yahoo failed... len of df:  0\n",
      "tiingo failed... len of df:  0\n",
      "Added 90 stocks to the db\n",
      "     ticker priceCurrency ticker_currency\n",
      "1037   AMP1           USD        AMP1-USD\n",
      "********************\n",
      "[*********************100%***********************]  1 of 1 completed\n"
     ]
    },
    {
     "name": "stderr",
     "output_type": "stream",
     "text": [
      "C:\\Users\\david\\anaconda3\\envs\\svmmvo\\lib\\site-packages\\pandas_datareader\\tiingo.py:234: FutureWarning: In a future version of pandas all arguments of concat except for the argument 'objs' will be keyword-only.\n",
      "  return pd.concat(dfs, self._concat_axis)\n"
     ]
    },
    {
     "name": "stdout",
     "output_type": "stream",
     "text": [
      "Added 91 stocks to the db\n",
      "     ticker priceCurrency ticker_currency\n",
      "1038    AMT           USD         AMT-USD\n",
      "********************\n",
      "[*********************100%***********************]  1 of 1 completed\n",
      "\n",
      "1 Failed download:\n",
      "- AMT1: No timezone found, symbol may be delisted\n",
      "yahoo failed... len of df:  0\n",
      "tiingo failed... len of df:  0\n",
      "Added 92 stocks to the db\n",
      "    ticker priceCurrency ticker_currency\n",
      "450   AMT1           USD        AMT1-USD\n",
      "********************\n",
      "[*********************100%***********************]  1 of 1 completed\n",
      "\n",
      "1 Failed download:\n",
      "- AMX1: No timezone found, symbol may be delisted\n",
      "yahoo failed... len of df:  0\n",
      "tiingo failed... len of df:  0\n",
      "Added 93 stocks to the db\n",
      "     ticker priceCurrency ticker_currency\n",
      "1039   AMX1           USD        AMX1-USD\n",
      "********************\n",
      "[*********************100%***********************]  1 of 1 completed\n"
     ]
    },
    {
     "name": "stderr",
     "output_type": "stream",
     "text": [
      "C:\\Users\\david\\anaconda3\\envs\\svmmvo\\lib\\site-packages\\pandas_datareader\\tiingo.py:234: FutureWarning: In a future version of pandas all arguments of concat except for the argument 'objs' will be keyword-only.\n",
      "  return pd.concat(dfs, self._concat_axis)\n"
     ]
    },
    {
     "name": "stdout",
     "output_type": "stream",
     "text": [
      "Added 94 stocks to the db\n",
      "     ticker priceCurrency ticker_currency\n",
      "1040   AMZN           USD        AMZN-USD\n",
      "********************\n",
      "[*********************100%***********************]  1 of 1 completed\n"
     ]
    },
    {
     "name": "stderr",
     "output_type": "stream",
     "text": [
      "C:\\Users\\david\\anaconda3\\envs\\svmmvo\\lib\\site-packages\\pandas_datareader\\tiingo.py:234: FutureWarning: In a future version of pandas all arguments of concat except for the argument 'objs' will be keyword-only.\n",
      "  return pd.concat(dfs, self._concat_axis)\n"
     ]
    },
    {
     "name": "stdout",
     "output_type": "stream",
     "text": [
      "Added 95 stocks to the db\n",
      "     ticker priceCurrency ticker_currency\n",
      "1041     AN           USD          AN-USD\n",
      "********************\n",
      "[*********************100%***********************]  1 of 1 completed\n",
      "\n",
      "1 Failed download:\n",
      "- AN1: No timezone found, symbol may be delisted\n",
      "yahoo failed... len of df:  0\n",
      "tiingo failed... len of df:  0\n",
      "Added 96 stocks to the db\n",
      "     ticker priceCurrency ticker_currency\n",
      "1042    AN1           USD         AN1-USD\n",
      "********************\n",
      "[*********************100%***********************]  1 of 1 completed\n",
      "\n",
      "1 Failed download:\n",
      "- AN2: No timezone found, symbol may be delisted\n",
      "yahoo failed... len of df:  0\n",
      "tiingo failed... len of df:  0\n",
      "Added 97 stocks to the db\n",
      "    ticker priceCurrency ticker_currency\n",
      "509    AN2           USD         AN2-USD\n",
      "********************\n",
      "[*********************100%***********************]  1 of 1 completed\n",
      "\n",
      "1 Failed download:\n",
      "- ANDV3: No timezone found, symbol may be delisted\n",
      "yahoo failed... len of df:  0\n",
      "tiingo failed... len of df:  0\n",
      "Added 98 stocks to the db\n",
      "   ticker priceCurrency ticker_currency\n",
      "20  ANDV3           USD       ANDV3-USD\n",
      "********************\n",
      "[*********************100%***********************]  1 of 1 completed\n",
      "\n",
      "1 Failed download:\n",
      "- ANDW1: No timezone found, symbol may be delisted\n",
      "yahoo failed... len of df:  0\n",
      "tiingo failed... len of df:  0\n",
      "Added 99 stocks to the db\n",
      "   ticker priceCurrency ticker_currency\n",
      "92  ANDW1           USD       ANDW1-USD\n",
      "********************\n",
      "[*********************100%***********************]  1 of 1 completed\n"
     ]
    },
    {
     "name": "stderr",
     "output_type": "stream",
     "text": [
      "C:\\Users\\david\\anaconda3\\envs\\svmmvo\\lib\\site-packages\\pandas_datareader\\tiingo.py:234: FutureWarning: In a future version of pandas all arguments of concat except for the argument 'objs' will be keyword-only.\n",
      "  return pd.concat(dfs, self._concat_axis)\n"
     ]
    },
    {
     "name": "stdout",
     "output_type": "stream",
     "text": [
      "Added 100 stocks to the db\n",
      "     ticker priceCurrency ticker_currency\n",
      "1043   ANET           USD        ANET-USD\n",
      "********************\n",
      "[*********************100%***********************]  1 of 1 completed\n"
     ]
    },
    {
     "name": "stderr",
     "output_type": "stream",
     "text": [
      "C:\\Users\\david\\anaconda3\\envs\\svmmvo\\lib\\site-packages\\pandas_datareader\\tiingo.py:234: FutureWarning: In a future version of pandas all arguments of concat except for the argument 'objs' will be keyword-only.\n",
      "  return pd.concat(dfs, self._concat_axis)\n"
     ]
    },
    {
     "name": "stdout",
     "output_type": "stream",
     "text": [
      "Added 101 stocks to the db\n",
      "     ticker priceCurrency ticker_currency\n",
      "1044    ANF           USD         ANF-USD\n",
      "********************\n",
      "[*********************100%***********************]  1 of 1 completed\n",
      "\n",
      "1 Failed download:\n",
      "- ANR1: No timezone found, symbol may be delisted\n",
      "yahoo failed... len of df:  0\n",
      "tiingo failed... len of df:  0\n",
      "Added 102 stocks to the db\n",
      "     ticker priceCurrency ticker_currency\n",
      "1045   ANR1           USD        ANR1-USD\n",
      "********************\n",
      "[*********************100%***********************]  1 of 1 completed\n"
     ]
    },
    {
     "name": "stderr",
     "output_type": "stream",
     "text": [
      "C:\\Users\\david\\anaconda3\\envs\\svmmvo\\lib\\site-packages\\pandas_datareader\\tiingo.py:234: FutureWarning: In a future version of pandas all arguments of concat except for the argument 'objs' will be keyword-only.\n",
      "  return pd.concat(dfs, self._concat_axis)\n"
     ]
    },
    {
     "name": "stdout",
     "output_type": "stream",
     "text": [
      "Added 103 stocks to the db\n",
      "     ticker priceCurrency ticker_currency\n",
      "1046   ANSS           USD        ANSS-USD\n",
      "********************\n",
      "[*********************100%***********************]  1 of 1 completed\n",
      "\n",
      "1 Failed download:\n",
      "- ANV1: No timezone found, symbol may be delisted\n",
      "yahoo failed... len of df:  0\n",
      "tiingo failed... len of df:  0\n",
      "Added 104 stocks to the db\n",
      "     ticker priceCurrency ticker_currency\n",
      "1047   ANV1           USD        ANV1-USD\n",
      "********************\n",
      "[*********************100%***********************]  1 of 1 completed\n"
     ]
    },
    {
     "name": "stderr",
     "output_type": "stream",
     "text": [
      "C:\\Users\\david\\anaconda3\\envs\\svmmvo\\lib\\site-packages\\pandas_datareader\\tiingo.py:234: FutureWarning: In a future version of pandas all arguments of concat except for the argument 'objs' will be keyword-only.\n",
      "  return pd.concat(dfs, self._concat_axis)\n"
     ]
    },
    {
     "name": "stdout",
     "output_type": "stream",
     "text": [
      "Added 105 stocks to the db\n",
      "     ticker priceCurrency ticker_currency\n",
      "1048    AON           USD         AON-USD\n",
      "********************\n",
      "[*********************100%***********************]  1 of 1 completed\n"
     ]
    },
    {
     "name": "stderr",
     "output_type": "stream",
     "text": [
      "C:\\Users\\david\\anaconda3\\envs\\svmmvo\\lib\\site-packages\\pandas_datareader\\tiingo.py:234: FutureWarning: In a future version of pandas all arguments of concat except for the argument 'objs' will be keyword-only.\n",
      "  return pd.concat(dfs, self._concat_axis)\n"
     ]
    },
    {
     "name": "stdout",
     "output_type": "stream",
     "text": [
      "Added 106 stocks to the db\n",
      "     ticker priceCurrency ticker_currency\n",
      "1049    AOS           USD         AOS-USD\n",
      "********************\n",
      "[*********************100%***********************]  1 of 1 completed\n",
      "\n",
      "1 Failed download:\n",
      "- AP1: No timezone found, symbol may be delisted\n",
      "yahoo failed... len of df:  0\n",
      "tiingo failed... len of df:  0\n",
      "Added 107 stocks to the db\n",
      "    ticker priceCurrency ticker_currency\n",
      "704    AP1           USD         AP1-USD\n",
      "********************\n",
      "[*********************100%***********************]  1 of 1 completed\n"
     ]
    },
    {
     "name": "stderr",
     "output_type": "stream",
     "text": [
      "C:\\Users\\david\\anaconda3\\envs\\svmmvo\\lib\\site-packages\\pandas_datareader\\tiingo.py:234: FutureWarning: In a future version of pandas all arguments of concat except for the argument 'objs' will be keyword-only.\n",
      "  return pd.concat(dfs, self._concat_axis)\n"
     ]
    },
    {
     "name": "stdout",
     "output_type": "stream",
     "text": [
      "Added 108 stocks to the db\n",
      "     ticker priceCurrency ticker_currency\n",
      "1050    APA           USD         APA-USD\n",
      "********************\n",
      "[*********************100%***********************]  1 of 1 completed\n",
      "\n",
      "1 Failed download:\n",
      "- APC4: No timezone found, symbol may be delisted\n",
      "yahoo failed... len of df:  0\n",
      "tiingo failed... len of df:  0\n",
      "Added 109 stocks to the db\n",
      "   ticker priceCurrency ticker_currency\n",
      "16   APC4           USD        APC4-USD\n",
      "********************\n",
      "[*********************100%***********************]  1 of 1 completed\n",
      "\n",
      "1 Failed download:\n",
      "- APCC1: No timezone found, symbol may be delisted\n",
      "yahoo failed... len of df:  0\n",
      "tiingo failed... len of df:  0\n",
      "Added 110 stocks to the db\n",
      "    ticker priceCurrency ticker_currency\n",
      "173  APCC1           USD       APCC1-USD\n",
      "********************\n",
      "[*********************100%***********************]  1 of 1 completed\n"
     ]
    },
    {
     "name": "stderr",
     "output_type": "stream",
     "text": [
      "C:\\Users\\david\\anaconda3\\envs\\svmmvo\\lib\\site-packages\\pandas_datareader\\tiingo.py:234: FutureWarning: In a future version of pandas all arguments of concat except for the argument 'objs' will be keyword-only.\n",
      "  return pd.concat(dfs, self._concat_axis)\n"
     ]
    },
    {
     "name": "stdout",
     "output_type": "stream",
     "text": [
      "Added 111 stocks to the db\n",
      "     ticker priceCurrency ticker_currency\n",
      "1051    APD           USD         APD-USD\n",
      "********************\n",
      "[*********************100%***********************]  1 of 1 completed\n"
     ]
    },
    {
     "name": "stderr",
     "output_type": "stream",
     "text": [
      "C:\\Users\\david\\anaconda3\\envs\\svmmvo\\lib\\site-packages\\pandas_datareader\\tiingo.py:234: FutureWarning: In a future version of pandas all arguments of concat except for the argument 'objs' will be keyword-only.\n",
      "  return pd.concat(dfs, self._concat_axis)\n"
     ]
    },
    {
     "name": "stdout",
     "output_type": "stream",
     "text": [
      "Added 112 stocks to the db\n",
      "     ticker priceCurrency ticker_currency\n",
      "1052    APH           USD         APH-USD\n",
      "********************\n",
      "[*********************100%***********************]  1 of 1 completed\n",
      "\n",
      "1 Failed download:\n",
      "- APO1: No timezone found, symbol may be delisted\n",
      "yahoo failed... len of df:  0\n",
      "tiingo failed... len of df:  0\n",
      "Added 113 stocks to the db\n",
      "     ticker priceCurrency ticker_currency\n",
      "1053   APO1           USD        APO1-USD\n",
      "********************\n",
      "[*********************100%***********************]  1 of 1 completed\n"
     ]
    },
    {
     "name": "stderr",
     "output_type": "stream",
     "text": [
      "C:\\Users\\david\\anaconda3\\envs\\svmmvo\\lib\\site-packages\\pandas_datareader\\tiingo.py:234: FutureWarning: In a future version of pandas all arguments of concat except for the argument 'objs' will be keyword-only.\n",
      "  return pd.concat(dfs, self._concat_axis)\n"
     ]
    },
    {
     "name": "stdout",
     "output_type": "stream",
     "text": [
      "Added 114 stocks to the db\n",
      "     ticker priceCurrency ticker_currency\n",
      "1054   APTV           USD        APTV-USD\n",
      "********************\n",
      "[*********************100%***********************]  1 of 1 completed\n",
      "\n",
      "1 Failed download:\n",
      "- AR1: No timezone found, symbol may be delisted\n",
      "yahoo failed... len of df:  0\n",
      "tiingo failed... len of df:  0\n",
      "Added 115 stocks to the db\n",
      "     ticker priceCurrency ticker_currency\n",
      "1055    AR1           USD         AR1-USD\n",
      "********************\n",
      "[*********************100%***********************]  1 of 1 completed\n",
      "\n",
      "1 Failed download:\n",
      "- ARA1: No timezone found, symbol may be delisted\n",
      "yahoo failed... len of df:  0\n",
      "tiingo failed... len of df:  0\n",
      "Added 116 stocks to the db\n",
      "     ticker priceCurrency ticker_currency\n",
      "1056   ARA1           USD        ARA1-USD\n",
      "********************\n",
      "[*********************100%***********************]  1 of 1 completed\n",
      "\n",
      "1 Failed download:\n",
      "- ARC1: No timezone found, symbol may be delisted\n",
      "yahoo failed... len of df:  0\n",
      "tiingo failed... len of df:  0\n",
      "Added 117 stocks to the db\n",
      "     ticker priceCurrency ticker_currency\n",
      "1057   ARC1           USD        ARC1-USD\n",
      "********************\n",
      "[*********************100%***********************]  1 of 1 completed\n",
      "\n",
      "1 Failed download:\n",
      "- ARC2: No timezone found, symbol may be delisted\n",
      "yahoo failed... len of df:  0\n",
      "tiingo failed... len of df:  0\n",
      "Added 118 stocks to the db\n",
      "    ticker priceCurrency ticker_currency\n",
      "606   ARC2           USD        ARC2-USD\n",
      "********************\n",
      "[*********************100%***********************]  1 of 1 completed\n"
     ]
    },
    {
     "name": "stderr",
     "output_type": "stream",
     "text": [
      "C:\\Users\\david\\anaconda3\\envs\\svmmvo\\lib\\site-packages\\pandas_datareader\\tiingo.py:234: FutureWarning: In a future version of pandas all arguments of concat except for the argument 'objs' will be keyword-only.\n",
      "  return pd.concat(dfs, self._concat_axis)\n"
     ]
    },
    {
     "name": "stdout",
     "output_type": "stream",
     "text": [
      "Added 119 stocks to the db\n",
      "     ticker priceCurrency ticker_currency\n",
      "1058    ARE           USD         ARE-USD\n",
      "********************\n",
      "[*********************100%***********************]  1 of 1 completed\n",
      "\n",
      "1 Failed download:\n",
      "- ARR1: No timezone found, symbol may be delisted\n",
      "yahoo failed... len of df:  0\n",
      "tiingo failed... len of df:  0\n",
      "Added 120 stocks to the db\n",
      "    ticker priceCurrency ticker_currency\n",
      "655   ARR1           USD        ARR1-USD\n",
      "********************\n",
      "[*********************100%***********************]  1 of 1 completed\n",
      "\n",
      "1 Failed download:\n",
      "- AS1: No timezone found, symbol may be delisted\n",
      "yahoo failed... len of df:  0\n",
      "tiingo failed... len of df:  0\n",
      "Added 121 stocks to the db\n",
      "     ticker priceCurrency ticker_currency\n",
      "1059    AS1           USD         AS1-USD\n",
      "********************\n",
      "[*********************100%***********************]  1 of 1 completed\n"
     ]
    },
    {
     "name": "stderr",
     "output_type": "stream",
     "text": [
      "C:\\Users\\david\\anaconda3\\envs\\svmmvo\\lib\\site-packages\\pandas_datareader\\tiingo.py:234: FutureWarning: In a future version of pandas all arguments of concat except for the argument 'objs' will be keyword-only.\n",
      "  return pd.concat(dfs, self._concat_axis)\n"
     ]
    },
    {
     "name": "stdout",
     "output_type": "stream",
     "text": [
      "Added 122 stocks to the db\n",
      "     ticker priceCurrency ticker_currency\n",
      "1060    ASA           USD         ASA-USD\n",
      "********************\n",
      "[*********************100%***********************]  1 of 1 completed\n",
      "\n",
      "1 Failed download:\n",
      "- ASC1: No timezone found, symbol may be delisted\n",
      "yahoo failed... len of df:  0\n",
      "tiingo failed... len of df:  0\n",
      "Added 123 stocks to the db\n",
      "     ticker priceCurrency ticker_currency\n",
      "1061   ASC1           USD        ASC1-USD\n",
      "********************\n",
      "[*********************100%***********************]  1 of 1 completed\n",
      "\n",
      "1 Failed download:\n",
      "- ASC2: No timezone found, symbol may be delisted\n",
      "yahoo failed... len of df:  0\n",
      "tiingo failed... len of df:  0\n",
      "Added 124 stocks to the db\n",
      "    ticker priceCurrency ticker_currency\n",
      "501   ASC2           USD        ASC2-USD\n",
      "********************\n",
      "[*********************100%***********************]  1 of 1 completed\n",
      "\n",
      "1 Failed download:\n",
      "- ASF1: No timezone found, symbol may be delisted\n",
      "yahoo failed... len of df:  0\n",
      "tiingo failed... len of df:  0\n",
      "Added 125 stocks to the db\n",
      "    ticker priceCurrency ticker_currency\n",
      "377   ASF1           USD        ASF1-USD\n",
      "********************\n",
      "[*********************100%***********************]  1 of 1 completed\n"
     ]
    },
    {
     "name": "stderr",
     "output_type": "stream",
     "text": [
      "C:\\Users\\david\\anaconda3\\envs\\svmmvo\\lib\\site-packages\\pandas_datareader\\tiingo.py:234: FutureWarning: In a future version of pandas all arguments of concat except for the argument 'objs' will be keyword-only.\n",
      "  return pd.concat(dfs, self._concat_axis)\n"
     ]
    },
    {
     "name": "stdout",
     "output_type": "stream",
     "text": [
      "Added 126 stocks to the db\n",
      "     ticker priceCurrency ticker_currency\n",
      "1062    ASH           USD         ASH-USD\n",
      "********************\n",
      "[*********************100%***********************]  1 of 1 completed\n",
      "\n",
      "1 Failed download:\n",
      "- ASN1: No timezone found, symbol may be delisted\n",
      "yahoo failed... len of df:  0\n",
      "tiingo failed... len of df:  0\n",
      "Added 127 stocks to the db\n",
      "    ticker priceCurrency ticker_currency\n",
      "240   ASN1           USD        ASN1-USD\n",
      "********************\n",
      "[*********************100%***********************]  1 of 1 completed\n",
      "\n",
      "1 Failed download:\n",
      "- ASND2: No timezone found, symbol may be delisted\n",
      "yahoo failed... len of df:  0\n",
      "tiingo failed... len of df:  0\n",
      "Added 128 stocks to the db\n",
      "    ticker priceCurrency ticker_currency\n",
      "282  ASND2           USD       ASND2-USD\n",
      "********************\n",
      "[*********************100%***********************]  1 of 1 completed\n",
      "\n",
      "1 Failed download:\n",
      "- ASO1: No timezone found, symbol may be delisted\n",
      "yahoo failed... len of df:  0\n",
      "tiingo failed... len of df:  0\n",
      "Added 129 stocks to the db\n",
      "     ticker priceCurrency ticker_currency\n",
      "1063   ASO1           USD        ASO1-USD\n",
      "********************\n",
      "[*********************100%***********************]  1 of 1 completed\n",
      "\n",
      "1 Failed download:\n",
      "- ASR1: No timezone found, symbol may be delisted\n",
      "yahoo failed... len of df:  0\n",
      "tiingo failed... len of df:  0\n",
      "Added 130 stocks to the db\n",
      "    ticker priceCurrency ticker_currency\n",
      "373   ASR1           USD        ASR1-USD\n",
      "********************\n",
      "[*********************100%***********************]  1 of 1 completed\n",
      "\n",
      "1 Failed download:\n",
      "- AST2: No timezone found, symbol may be delisted\n",
      "yahoo failed... len of df:  0\n",
      "tiingo failed... len of df:  0\n",
      "Added 131 stocks to the db\n",
      "    ticker priceCurrency ticker_currency\n",
      "470   AST2           USD        AST2-USD\n",
      "********************\n",
      "[*********************100%***********************]  1 of 1 completed\n",
      "\n",
      "1 Failed download:\n",
      "- AT1: No timezone found, symbol may be delisted\n",
      "yahoo failed... len of df:  0\n",
      "tiingo failed... len of df:  0\n",
      "Added 132 stocks to the db\n",
      "     ticker priceCurrency ticker_currency\n",
      "1064    AT1           USD         AT1-USD\n",
      "********************\n",
      "[*********************100%***********************]  1 of 1 completed\n"
     ]
    },
    {
     "name": "stderr",
     "output_type": "stream",
     "text": [
      "C:\\Users\\david\\anaconda3\\envs\\svmmvo\\lib\\site-packages\\pandas_datareader\\tiingo.py:234: FutureWarning: In a future version of pandas all arguments of concat except for the argument 'objs' will be keyword-only.\n",
      "  return pd.concat(dfs, self._concat_axis)\n"
     ]
    },
    {
     "name": "stdout",
     "output_type": "stream",
     "text": [
      "Added 133 stocks to the db\n",
      "     ticker priceCurrency ticker_currency\n",
      "1065   ATGE           USD        ATGE-USD\n",
      "********************\n",
      "[*********************100%***********************]  1 of 1 completed\n",
      "\n",
      "1 Failed download:\n",
      "- ATH1: No timezone found, symbol may be delisted\n",
      "yahoo failed... len of df:  0\n",
      "tiingo failed... len of df:  0\n",
      "Added 134 stocks to the db\n",
      "    ticker priceCurrency ticker_currency\n",
      "693   ATH1           USD        ATH1-USD\n",
      "********************\n",
      "[*********************100%***********************]  1 of 1 completed\n"
     ]
    },
    {
     "name": "stderr",
     "output_type": "stream",
     "text": [
      "C:\\Users\\david\\anaconda3\\envs\\svmmvo\\lib\\site-packages\\pandas_datareader\\tiingo.py:234: FutureWarning: In a future version of pandas all arguments of concat except for the argument 'objs' will be keyword-only.\n",
      "  return pd.concat(dfs, self._concat_axis)\n"
     ]
    },
    {
     "name": "stdout",
     "output_type": "stream",
     "text": [
      "Added 135 stocks to the db\n",
      "     ticker priceCurrency ticker_currency\n",
      "1066    ATI           USD         ATI-USD\n",
      "********************\n",
      "[*********************100%***********************]  1 of 1 completed\n",
      "\n",
      "1 Failed download:\n",
      "- ATI1: No timezone found, symbol may be delisted\n",
      "yahoo failed... len of df:  0\n",
      "tiingo failed... len of df:  0\n",
      "Added 136 stocks to the db\n",
      "     ticker priceCurrency ticker_currency\n",
      "1067   ATI1           USD        ATI1-USD\n",
      "********************\n",
      "[*********************100%***********************]  1 of 1 completed\n"
     ]
    },
    {
     "name": "stderr",
     "output_type": "stream",
     "text": [
      "C:\\Users\\david\\anaconda3\\envs\\svmmvo\\lib\\site-packages\\pandas_datareader\\tiingo.py:234: FutureWarning: In a future version of pandas all arguments of concat except for the argument 'objs' will be keyword-only.\n",
      "  return pd.concat(dfs, self._concat_axis)\n"
     ]
    },
    {
     "name": "stdout",
     "output_type": "stream",
     "text": [
      "Added 137 stocks to the db\n",
      "     ticker priceCurrency ticker_currency\n",
      "1068    ATO           USD         ATO-USD\n",
      "********************\n",
      "[*********************100%***********************]  1 of 1 completed\n",
      "\n",
      "1 Failed download:\n",
      "- ATS2: No timezone found, symbol may be delisted\n",
      "yahoo failed... len of df:  0\n",
      "tiingo failed... len of df:  0\n",
      "Added 138 stocks to the db\n",
      "    ticker priceCurrency ticker_currency\n",
      "454   ATS2           USD        ATS2-USD\n",
      "********************\n",
      "[*********************100%***********************]  1 of 1 completed\n"
     ]
    },
    {
     "name": "stderr",
     "output_type": "stream",
     "text": [
      "C:\\Users\\david\\anaconda3\\envs\\svmmvo\\lib\\site-packages\\pandas_datareader\\tiingo.py:234: FutureWarning: In a future version of pandas all arguments of concat except for the argument 'objs' will be keyword-only.\n",
      "  return pd.concat(dfs, self._concat_axis)\n"
     ]
    },
    {
     "name": "stdout",
     "output_type": "stream",
     "text": [
      "Added 139 stocks to the db\n",
      "     ticker priceCurrency ticker_currency\n",
      "1069   ATVI           USD        ATVI-USD\n",
      "********************\n",
      "[*********************100%***********************]  1 of 1 completed\n",
      "\n",
      "1 Failed download:\n",
      "- AUD1: No timezone found, symbol may be delisted\n",
      "yahoo failed... len of df:  0\n",
      "tiingo failed... len of df:  0\n",
      "Added 140 stocks to the db\n",
      "    ticker priceCurrency ticker_currency\n",
      "669   AUD1           USD        AUD1-USD\n",
      "********************\n",
      "[*********************100%***********************]  1 of 1 completed\n",
      "\n",
      "1 Failed download:\n",
      "- AV1: No timezone found, symbol may be delisted\n",
      "yahoo failed... len of df:  0\n",
      "tiingo failed... len of df:  0\n",
      "Added 141 stocks to the db\n",
      "     ticker priceCurrency ticker_currency\n",
      "1070    AV1           USD         AV1-USD\n",
      "********************\n",
      "[*********************100%***********************]  1 of 1 completed\n",
      "\n",
      "1 Failed download:\n",
      "- AVATQ1: No timezone found, symbol may be delisted\n",
      "yahoo failed... len of df:  0\n",
      "tiingo failed... len of df:  0\n",
      "Added 142 stocks to the db\n",
      "     ticker priceCurrency ticker_currency\n",
      "370  AVATQ1           USD      AVATQ1-USD\n",
      "********************\n",
      "[*********************100%***********************]  1 of 1 completed\n"
     ]
    },
    {
     "name": "stderr",
     "output_type": "stream",
     "text": [
      "C:\\Users\\david\\anaconda3\\envs\\svmmvo\\lib\\site-packages\\pandas_datareader\\tiingo.py:234: FutureWarning: In a future version of pandas all arguments of concat except for the argument 'objs' will be keyword-only.\n",
      "  return pd.concat(dfs, self._concat_axis)\n"
     ]
    },
    {
     "name": "stdout",
     "output_type": "stream",
     "text": [
      "Added 143 stocks to the db\n",
      "     ticker priceCurrency ticker_currency\n",
      "1071    AVB           USD         AVB-USD\n",
      "********************\n",
      "[*********************100%***********************]  1 of 1 completed\n",
      "\n",
      "1 Failed download:\n",
      "- AVC1: No timezone found, symbol may be delisted\n",
      "yahoo failed... len of df:  0\n",
      "tiingo failed... len of df:  0\n",
      "Added 144 stocks to the db\n",
      "     ticker priceCurrency ticker_currency\n",
      "1072   AVC1           USD        AVC1-USD\n",
      "********************\n",
      "[*********************100%***********************]  1 of 1 completed\n"
     ]
    },
    {
     "name": "stderr",
     "output_type": "stream",
     "text": [
      "C:\\Users\\david\\anaconda3\\envs\\svmmvo\\lib\\site-packages\\pandas_datareader\\tiingo.py:234: FutureWarning: In a future version of pandas all arguments of concat except for the argument 'objs' will be keyword-only.\n",
      "  return pd.concat(dfs, self._concat_axis)\n"
     ]
    },
    {
     "name": "stdout",
     "output_type": "stream",
     "text": [
      "Added 145 stocks to the db\n",
      "     ticker priceCurrency ticker_currency\n",
      "1073   AVGO           USD        AVGO-USD\n",
      "********************\n",
      "[*********************100%***********************]  1 of 1 completed\n"
     ]
    },
    {
     "name": "stderr",
     "output_type": "stream",
     "text": [
      "C:\\Users\\david\\anaconda3\\envs\\svmmvo\\lib\\site-packages\\pandas_datareader\\tiingo.py:234: FutureWarning: In a future version of pandas all arguments of concat except for the argument 'objs' will be keyword-only.\n",
      "  return pd.concat(dfs, self._concat_axis)\n"
     ]
    },
    {
     "name": "stdout",
     "output_type": "stream",
     "text": [
      "Added 146 stocks to the db\n",
      "     ticker priceCurrency ticker_currency\n",
      "1074    AVY           USD         AVY-USD\n",
      "********************\n",
      "[*********************100%***********************]  1 of 1 completed\n",
      "\n",
      "1 Failed download:\n",
      "- AW4: No timezone found, symbol may be delisted\n",
      "yahoo failed... len of df:  0\n",
      "tiingo failed... len of df:  0\n",
      "Added 147 stocks to the db\n",
      "    ticker priceCurrency ticker_currency\n",
      "102    AW4           USD         AW4-USD\n",
      "********************\n",
      "[*********************100%***********************]  1 of 1 completed\n",
      "\n",
      "1 Failed download:\n",
      "- AWC1: No timezone found, symbol may be delisted\n",
      "yahoo failed... len of df:  0\n",
      "tiingo failed... len of df:  0\n",
      "Added 148 stocks to the db\n",
      "    ticker priceCurrency ticker_currency\n",
      "774   AWC1           USD        AWC1-USD\n",
      "********************\n",
      "[*********************100%***********************]  1 of 1 completed\n",
      "\n",
      "1 Failed download:\n",
      "- AWE1: No timezone found, symbol may be delisted\n",
      "yahoo failed... len of df:  0\n",
      "tiingo failed... len of df:  0\n",
      "Added 149 stocks to the db\n",
      "    ticker priceCurrency ticker_currency\n",
      "217   AWE1           USD        AWE1-USD\n",
      "********************\n",
      "[*********************100%***********************]  1 of 1 completed\n"
     ]
    },
    {
     "name": "stderr",
     "output_type": "stream",
     "text": [
      "C:\\Users\\david\\anaconda3\\envs\\svmmvo\\lib\\site-packages\\pandas_datareader\\tiingo.py:234: FutureWarning: In a future version of pandas all arguments of concat except for the argument 'objs' will be keyword-only.\n",
      "  return pd.concat(dfs, self._concat_axis)\n"
     ]
    },
    {
     "name": "stdout",
     "output_type": "stream",
     "text": [
      "Added 150 stocks to the db\n",
      "     ticker priceCurrency ticker_currency\n",
      "1075    AWK           USD         AWK-USD\n",
      "********************\n",
      "[*********************100%***********************]  1 of 1 completed\n",
      "\n",
      "1 Failed download:\n",
      "- AXO1: No timezone found, symbol may be delisted\n",
      "yahoo failed... len of df:  0\n",
      "tiingo failed... len of df:  0\n",
      "Added 151 stocks to the db\n",
      "    ticker priceCurrency ticker_currency\n",
      "558   AXO1           USD        AXO1-USD\n",
      "********************\n",
      "[*********************100%***********************]  1 of 1 completed\n"
     ]
    },
    {
     "name": "stderr",
     "output_type": "stream",
     "text": [
      "C:\\Users\\david\\anaconda3\\envs\\svmmvo\\lib\\site-packages\\pandas_datareader\\tiingo.py:234: FutureWarning: In a future version of pandas all arguments of concat except for the argument 'objs' will be keyword-only.\n",
      "  return pd.concat(dfs, self._concat_axis)\n"
     ]
    },
    {
     "name": "stdout",
     "output_type": "stream",
     "text": [
      "Added 152 stocks to the db\n",
      "     ticker priceCurrency ticker_currency\n",
      "1076    AXP           USD         AXP-USD\n",
      "********************\n",
      "[*********************100%***********************]  1 of 1 completed\n",
      "\n",
      "1 Failed download:\n",
      "- AYE1: No timezone found, symbol may be delisted\n",
      "yahoo failed... len of df:  0\n",
      "tiingo failed... len of df:  0\n",
      "Added 153 stocks to the db\n",
      "    ticker priceCurrency ticker_currency\n",
      "117   AYE1           USD        AYE1-USD\n",
      "********************\n",
      "[*********************100%***********************]  1 of 1 completed\n"
     ]
    },
    {
     "name": "stderr",
     "output_type": "stream",
     "text": [
      "C:\\Users\\david\\anaconda3\\envs\\svmmvo\\lib\\site-packages\\pandas_datareader\\tiingo.py:234: FutureWarning: In a future version of pandas all arguments of concat except for the argument 'objs' will be keyword-only.\n",
      "  return pd.concat(dfs, self._concat_axis)\n"
     ]
    },
    {
     "name": "stdout",
     "output_type": "stream",
     "text": [
      "Added 154 stocks to the db\n",
      "     ticker priceCurrency ticker_currency\n",
      "1077    AYI           USD         AYI-USD\n",
      "********************\n",
      "[*********************100%***********************]  1 of 1 completed\n",
      "\n",
      "1 Failed download:\n",
      "- AZA1: No timezone found, symbol may be delisted\n",
      "yahoo failed... len of df:  0\n",
      "tiingo failed... len of df:  0\n",
      "Added 155 stocks to the db\n",
      "    ticker priceCurrency ticker_currency\n",
      "188   AZA1           USD        AZA1-USD\n",
      "********************\n",
      "[*********************100%***********************]  1 of 1 completed\n"
     ]
    },
    {
     "name": "stderr",
     "output_type": "stream",
     "text": [
      "C:\\Users\\david\\anaconda3\\envs\\svmmvo\\lib\\site-packages\\pandas_datareader\\tiingo.py:234: FutureWarning: In a future version of pandas all arguments of concat except for the argument 'objs' will be keyword-only.\n",
      "  return pd.concat(dfs, self._concat_axis)\n"
     ]
    },
    {
     "name": "stdout",
     "output_type": "stream",
     "text": [
      "Added 156 stocks to the db\n",
      "     ticker priceCurrency ticker_currency\n",
      "1078    AZO           USD         AZO-USD\n",
      "********************\n",
      "[*********************100%***********************]  1 of 1 completed\n"
     ]
    },
    {
     "name": "stderr",
     "output_type": "stream",
     "text": [
      "C:\\Users\\david\\anaconda3\\envs\\svmmvo\\lib\\site-packages\\pandas_datareader\\tiingo.py:234: FutureWarning: In a future version of pandas all arguments of concat except for the argument 'objs' will be keyword-only.\n",
      "  return pd.concat(dfs, self._concat_axis)\n"
     ]
    },
    {
     "name": "stdout",
     "output_type": "stream",
     "text": [
      "Added 157 stocks to the db\n",
      "     ticker priceCurrency ticker_currency\n",
      "1079     BA           USD          BA-USD\n",
      "********************\n",
      "[*********************100%***********************]  1 of 1 completed\n"
     ]
    },
    {
     "name": "stderr",
     "output_type": "stream",
     "text": [
      "C:\\Users\\david\\anaconda3\\envs\\svmmvo\\lib\\site-packages\\pandas_datareader\\tiingo.py:234: FutureWarning: In a future version of pandas all arguments of concat except for the argument 'objs' will be keyword-only.\n",
      "  return pd.concat(dfs, self._concat_axis)\n"
     ]
    },
    {
     "name": "stdout",
     "output_type": "stream",
     "text": [
      "Added 158 stocks to the db\n",
      "     ticker priceCurrency ticker_currency\n",
      "1080    BAC           USD         BAC-USD\n",
      "********************\n",
      "[*********************100%***********************]  1 of 1 completed\n",
      "\n",
      "1 Failed download:\n",
      "- BAC1: No timezone found, symbol may be delisted\n",
      "yahoo failed... len of df:  0\n",
      "tiingo failed... len of df:  0\n",
      "Added 159 stocks to the db\n",
      "     ticker priceCurrency ticker_currency\n",
      "1081   BAC1           USD        BAC1-USD\n",
      "********************\n",
      "[*********************100%***********************]  1 of 1 completed\n"
     ]
    },
    {
     "name": "stderr",
     "output_type": "stream",
     "text": [
      "C:\\Users\\david\\anaconda3\\envs\\svmmvo\\lib\\site-packages\\pandas_datareader\\tiingo.py:234: FutureWarning: In a future version of pandas all arguments of concat except for the argument 'objs' will be keyword-only.\n",
      "  return pd.concat(dfs, self._concat_axis)\n"
     ]
    },
    {
     "name": "stdout",
     "output_type": "stream",
     "text": [
      "Added 160 stocks to the db\n",
      "     ticker priceCurrency ticker_currency\n",
      "1082   BALL           USD        BALL-USD\n",
      "********************\n",
      "[*********************100%***********************]  1 of 1 completed\n",
      "\n",
      "1 Failed download:\n",
      "- BAW1: No timezone found, symbol may be delisted\n",
      "yahoo failed... len of df:  0\n",
      "tiingo failed... len of df:  0\n",
      "Added 161 stocks to the db\n",
      "    ticker priceCurrency ticker_currency\n",
      "494   BAW1           USD        BAW1-USD\n",
      "********************\n",
      "[*********************100%***********************]  1 of 1 completed\n"
     ]
    },
    {
     "name": "stderr",
     "output_type": "stream",
     "text": [
      "C:\\Users\\david\\anaconda3\\envs\\svmmvo\\lib\\site-packages\\pandas_datareader\\tiingo.py:234: FutureWarning: In a future version of pandas all arguments of concat except for the argument 'objs' will be keyword-only.\n",
      "  return pd.concat(dfs, self._concat_axis)\n"
     ]
    },
    {
     "name": "stdout",
     "output_type": "stream",
     "text": [
      "Added 162 stocks to the db\n",
      "     ticker priceCurrency ticker_currency\n",
      "1083    BAX           USD         BAX-USD\n",
      "********************\n",
      "[*********************100%***********************]  1 of 1 completed\n",
      "\n",
      "1 Failed download:\n",
      "- BAY1: No timezone found, symbol may be delisted\n",
      "yahoo failed... len of df:  0\n",
      "tiingo failed... len of df:  0\n",
      "Added 163 stocks to the db\n",
      "     ticker priceCurrency ticker_currency\n",
      "1084   BAY1           USD        BAY1-USD\n",
      "********************\n",
      "[*********************100%***********************]  1 of 1 completed\n"
     ]
    },
    {
     "name": "stderr",
     "output_type": "stream",
     "text": [
      "C:\\Users\\david\\anaconda3\\envs\\svmmvo\\lib\\site-packages\\pandas_datareader\\tiingo.py:234: FutureWarning: In a future version of pandas all arguments of concat except for the argument 'objs' will be keyword-only.\n",
      "  return pd.concat(dfs, self._concat_axis)\n"
     ]
    },
    {
     "name": "stdout",
     "output_type": "stream",
     "text": [
      "Added 164 stocks to the db\n",
      "     ticker priceCurrency ticker_currency\n",
      "1085   BBBY           USD        BBBY-USD\n",
      "********************\n",
      "[*********************100%***********************]  1 of 1 completed\n",
      "\n",
      "1 Failed download:\n",
      "- BBI1: No timezone found, symbol may be delisted\n",
      "yahoo failed... len of df:  0\n",
      "tiingo failed... len of df:  0\n",
      "Added 165 stocks to the db\n",
      "    ticker priceCurrency ticker_currency\n",
      "254   BBI1           USD        BBI1-USD\n",
      "********************\n",
      "[*********************100%***********************]  1 of 1 completed\n",
      "\n",
      "1 Failed download:\n",
      "- BBKS1: No timezone found, symbol may be delisted\n",
      "yahoo failed... len of df:  0\n",
      "tiingo failed... len of df:  0\n",
      "Added 166 stocks to the db\n",
      "    ticker priceCurrency ticker_currency\n",
      "736  BBKS1           USD       BBKS1-USD\n",
      "********************\n",
      "[*********************100%***********************]  1 of 1 completed\n",
      "\n",
      "1 Failed download:\n",
      "- BBL1: No timezone found, symbol may be delisted\n",
      "yahoo failed... len of df:  0\n",
      "tiingo failed... len of df:  0\n",
      "Added 167 stocks to the db\n",
      "    ticker priceCurrency ticker_currency\n",
      "701   BBL1           USD        BBL1-USD\n",
      "********************\n",
      "[*********************100%***********************]  1 of 1 completed\n"
     ]
    },
    {
     "name": "stderr",
     "output_type": "stream",
     "text": [
      "C:\\Users\\david\\anaconda3\\envs\\svmmvo\\lib\\site-packages\\pandas_datareader\\tiingo.py:234: FutureWarning: In a future version of pandas all arguments of concat except for the argument 'objs' will be keyword-only.\n",
      "  return pd.concat(dfs, self._concat_axis)\n"
     ]
    },
    {
     "name": "stdout",
     "output_type": "stream",
     "text": [
      "Added 168 stocks to the db\n",
      "     ticker priceCurrency ticker_currency\n",
      "1086   BBWI           USD        BBWI-USD\n",
      "********************\n",
      "[*********************100%***********************]  1 of 1 completed\n"
     ]
    },
    {
     "name": "stderr",
     "output_type": "stream",
     "text": [
      "C:\\Users\\david\\anaconda3\\envs\\svmmvo\\lib\\site-packages\\pandas_datareader\\tiingo.py:234: FutureWarning: In a future version of pandas all arguments of concat except for the argument 'objs' will be keyword-only.\n",
      "  return pd.concat(dfs, self._concat_axis)\n"
     ]
    },
    {
     "name": "stdout",
     "output_type": "stream",
     "text": [
      "Added 169 stocks to the db\n",
      "     ticker priceCurrency ticker_currency\n",
      "1087    BBY           USD         BBY-USD\n",
      "********************\n",
      "[*********************100%***********************]  1 of 1 completed\n"
     ]
    },
    {
     "name": "stderr",
     "output_type": "stream",
     "text": [
      "C:\\Users\\david\\anaconda3\\envs\\svmmvo\\lib\\site-packages\\pandas_datareader\\tiingo.py:234: FutureWarning: In a future version of pandas all arguments of concat except for the argument 'objs' will be keyword-only.\n",
      "  return pd.concat(dfs, self._concat_axis)\n"
     ]
    },
    {
     "name": "stdout",
     "output_type": "stream",
     "text": [
      "Added 170 stocks to the db\n",
      "     ticker priceCurrency ticker_currency\n",
      "1088     BC           USD          BC-USD\n",
      "********************\n",
      "[*********************100%***********************]  1 of 1 completed\n"
     ]
    },
    {
     "name": "stderr",
     "output_type": "stream",
     "text": [
      "C:\\Users\\david\\anaconda3\\envs\\svmmvo\\lib\\site-packages\\pandas_datareader\\tiingo.py:234: FutureWarning: In a future version of pandas all arguments of concat except for the argument 'objs' will be keyword-only.\n",
      "  return pd.concat(dfs, self._concat_axis)\n"
     ]
    },
    {
     "name": "stdout",
     "output_type": "stream",
     "text": [
      "Added 171 stocks to the db\n",
      "     ticker priceCurrency ticker_currency\n",
      "1089    BCO           USD         BCO-USD\n",
      "********************\n",
      "[*********************100%***********************]  1 of 1 completed\n",
      "\n",
      "1 Failed download:\n",
      "- BCR5: No timezone found, symbol may be delisted\n",
      "yahoo failed... len of df:  0\n",
      "tiingo failed... len of df:  0\n",
      "Added 172 stocks to the db\n",
      "   ticker priceCurrency ticker_currency\n",
      "45   BCR5           USD        BCR5-USD\n",
      "********************\n",
      "[*********************100%***********************]  1 of 1 completed\n",
      "\n",
      "1 Failed download:\n",
      "- BCW1: No timezone found, symbol may be delisted\n",
      "yahoo failed... len of df:  0\n",
      "tiingo failed... len of df:  0\n",
      "Added 173 stocks to the db\n",
      "    ticker priceCurrency ticker_currency\n",
      "552   BCW1           USD        BCW1-USD\n",
      "********************\n",
      "[*********************100%***********************]  1 of 1 completed\n",
      "\n",
      "1 Failed download:\n",
      "- BDK2: No timezone found, symbol may be delisted\n",
      "yahoo failed... len of df:  0\n",
      "tiingo failed... len of df:  0\n",
      "Added 174 stocks to the db\n",
      "   ticker priceCurrency ticker_currency\n",
      "66   BDK2           USD        BDK2-USD\n",
      "********************\n",
      "[*********************100%***********************]  1 of 1 completed\n"
     ]
    },
    {
     "name": "stderr",
     "output_type": "stream",
     "text": [
      "C:\\Users\\david\\anaconda3\\envs\\svmmvo\\lib\\site-packages\\pandas_datareader\\tiingo.py:234: FutureWarning: In a future version of pandas all arguments of concat except for the argument 'objs' will be keyword-only.\n",
      "  return pd.concat(dfs, self._concat_axis)\n"
     ]
    },
    {
     "name": "stdout",
     "output_type": "stream",
     "text": [
      "Added 175 stocks to the db\n",
      "     ticker priceCurrency ticker_currency\n",
      "1090    BDX           USD         BDX-USD\n",
      "********************\n",
      "[*********************100%***********************]  1 of 1 completed\n",
      "\n",
      "1 Failed download:\n",
      "- BEAM3: No timezone found, symbol may be delisted\n",
      "yahoo failed... len of df:  0\n",
      "tiingo failed... len of df:  0\n",
      "Added 176 stocks to the db\n",
      "   ticker priceCurrency ticker_currency\n",
      "28  BEAM3           USD       BEAM3-USD\n",
      "********************\n",
      "[*********************100%***********************]  1 of 1 completed\n",
      "\n",
      "1 Failed download:\n",
      "- BEC1: No timezone found, symbol may be delisted\n",
      "yahoo failed... len of df:  0\n",
      "tiingo failed... len of df:  0\n",
      "Added 177 stocks to the db\n",
      "    ticker priceCurrency ticker_currency\n",
      "451   BEC1           USD        BEC1-USD\n",
      "********************\n",
      "[*********************100%***********************]  1 of 1 completed\n",
      "\n",
      "1 Failed download:\n",
      "- BEC3: No timezone found, symbol may be delisted\n",
      "yahoo failed... len of df:  0\n",
      "tiingo failed... len of df:  0\n",
      "Added 178 stocks to the db\n",
      "    ticker priceCurrency ticker_currency\n",
      "485   BEC3           USD        BEC3-USD\n",
      "********************\n",
      "[*********************100%***********************]  1 of 1 completed\n",
      "\n",
      "1 Failed download:\n",
      "- BEF1: No timezone found, symbol may be delisted\n",
      "yahoo failed... len of df:  0\n",
      "tiingo failed... len of df:  0\n",
      "Added 179 stocks to the db\n",
      "    ticker priceCurrency ticker_currency\n",
      "818   BEF1           USD        BEF1-USD\n",
      "********************\n",
      "[*********************100%***********************]  1 of 1 completed\n",
      "\n",
      "1 Failed download:\n",
      "- BEKR1: No timezone found, symbol may be delisted\n",
      "yahoo failed... len of df:  0\n",
      "tiingo failed... len of df:  0\n",
      "Added 180 stocks to the db\n",
      "    ticker priceCurrency ticker_currency\n",
      "666  BEKR1           USD       BEKR1-USD\n",
      "********************\n",
      "[*********************100%***********************]  1 of 1 completed\n",
      "\n",
      "1 Failed download:\n",
      "- BEL1: No timezone found, symbol may be delisted\n",
      "yahoo failed... len of df:  0\n",
      "tiingo failed... len of df:  0\n",
      "Added 181 stocks to the db\n",
      "    ticker priceCurrency ticker_currency\n",
      "620   BEL1           USD        BEL1-USD\n",
      "********************\n",
      "[*********************100%***********************]  1 of 1 completed\n",
      "\n",
      "1 Failed download:\n",
      "- BEM1: No timezone found, symbol may be delisted\n",
      "yahoo failed... len of df:  0\n",
      "tiingo failed... len of df:  0\n",
      "Added 182 stocks to the db\n",
      "    ticker priceCurrency ticker_currency\n",
      "627   BEM1           USD        BEM1-USD\n",
      "********************\n",
      "[*********************100%***********************]  1 of 1 completed\n"
     ]
    },
    {
     "name": "stderr",
     "output_type": "stream",
     "text": [
      "C:\\Users\\david\\anaconda3\\envs\\svmmvo\\lib\\site-packages\\pandas_datareader\\tiingo.py:234: FutureWarning: In a future version of pandas all arguments of concat except for the argument 'objs' will be keyword-only.\n",
      "  return pd.concat(dfs, self._concat_axis)\n"
     ]
    },
    {
     "name": "stdout",
     "output_type": "stream",
     "text": [
      "Added 183 stocks to the db\n",
      "     ticker priceCurrency ticker_currency\n",
      "1091    BEN           USD         BEN-USD\n",
      "********************\n",
      "[*********************100%***********************]  1 of 1 completed\n",
      "\n",
      "1 Failed download:\n",
      "- BEV1: No timezone found, symbol may be delisted\n",
      "yahoo failed... len of df:  0\n",
      "tiingo failed... len of df:  0\n",
      "Added 184 stocks to the db\n",
      "    ticker priceCurrency ticker_currency\n",
      "303   BEV1           USD        BEV1-USD\n",
      "********************\n",
      "[*********************100%***********************]  1 of 1 completed\n",
      "\n",
      "1 Failed download:\n",
      "- BF.B: No data found for this date range, symbol may be delisted\n",
      "yahoo failed... len of df:  0\n",
      "tiingo failed... len of df:  0\n",
      "Added 185 stocks to the db\n",
      "  ticker priceCurrency ticker_currency\n",
      "2   BF.B           USD        BF.B-USD\n",
      "********************\n",
      "[*********************100%***********************]  1 of 1 completed\n",
      "\n",
      "1 Failed download:\n",
      "- BF1: No timezone found, symbol may be delisted\n",
      "yahoo failed... len of df:  0\n",
      "tiingo failed... len of df:  0\n",
      "Added 186 stocks to the db\n",
      "    ticker priceCurrency ticker_currency\n",
      "656    BF1           USD         BF1-USD\n",
      "********************\n",
      "[*********************100%***********************]  1 of 1 completed\n"
     ]
    },
    {
     "name": "stderr",
     "output_type": "stream",
     "text": [
      "C:\\Users\\david\\anaconda3\\envs\\svmmvo\\lib\\site-packages\\pandas_datareader\\tiingo.py:234: FutureWarning: In a future version of pandas all arguments of concat except for the argument 'objs' will be keyword-only.\n",
      "  return pd.concat(dfs, self._concat_axis)\n"
     ]
    },
    {
     "name": "stdout",
     "output_type": "stream",
     "text": [
      "Added 187 stocks to the db\n",
      "     ticker priceCurrency ticker_currency\n",
      "1092    BFH           USD         BFH-USD\n",
      "********************\n",
      "[*********************100%***********************]  1 of 1 completed\n",
      "\n",
      "1 Failed download:\n",
      "- BFI1: No timezone found, symbol may be delisted\n",
      "yahoo failed... len of df:  0\n",
      "tiingo failed... len of df:  0\n",
      "Added 188 stocks to the db\n",
      "    ticker priceCurrency ticker_currency\n",
      "232   BFI1           USD        BFI1-USD\n",
      "********************\n",
      "[*********************100%***********************]  1 of 1 completed\n",
      "\n",
      "1 Failed download:\n",
      "- BFO1: No timezone found, symbol may be delisted\n",
      "yahoo failed... len of df:  0\n",
      "tiingo failed... len of df:  0\n",
      "Added 189 stocks to the db\n",
      "     ticker priceCurrency ticker_currency\n",
      "1093   BFO1           USD        BFO1-USD\n",
      "********************\n",
      "[*********************100%***********************]  1 of 1 completed\n"
     ]
    },
    {
     "name": "stderr",
     "output_type": "stream",
     "text": [
      "C:\\Users\\david\\anaconda3\\envs\\svmmvo\\lib\\site-packages\\pandas_datareader\\tiingo.py:234: FutureWarning: In a future version of pandas all arguments of concat except for the argument 'objs' will be keyword-only.\n",
      "  return pd.concat(dfs, self._concat_axis)\n"
     ]
    },
    {
     "name": "stdout",
     "output_type": "stream",
     "text": [
      "Added 190 stocks to the db\n",
      "     ticker priceCurrency ticker_currency\n",
      "1094     BG           USD          BG-USD\n",
      "********************\n",
      "[*********************100%***********************]  1 of 1 completed\n",
      "\n",
      "1 Failed download:\n",
      "- BGS2: No timezone found, symbol may be delisted\n",
      "yahoo failed... len of df:  0\n",
      "tiingo failed... len of df:  0\n",
      "Added 191 stocks to the db\n",
      "    ticker priceCurrency ticker_currency\n",
      "673   BGS2           USD        BGS2-USD\n",
      "********************\n",
      "[*********************100%***********************]  1 of 1 completed\n"
     ]
    },
    {
     "name": "stderr",
     "output_type": "stream",
     "text": [
      "C:\\Users\\david\\anaconda3\\envs\\svmmvo\\lib\\site-packages\\pandas_datareader\\tiingo.py:234: FutureWarning: In a future version of pandas all arguments of concat except for the argument 'objs' will be keyword-only.\n",
      "  return pd.concat(dfs, self._concat_axis)\n"
     ]
    },
    {
     "name": "stdout",
     "output_type": "stream",
     "text": [
      "Added 192 stocks to the db\n",
      "     ticker priceCurrency ticker_currency\n",
      "1095    BHF           USD         BHF-USD\n",
      "********************\n",
      "[*********************100%***********************]  1 of 1 completed\n",
      "\n",
      "1 Failed download:\n",
      "- BHL2: No timezone found, symbol may be delisted\n",
      "yahoo failed... len of df:  0\n",
      "tiingo failed... len of df:  0\n",
      "Added 193 stocks to the db\n",
      "    ticker priceCurrency ticker_currency\n",
      "718   BHL2           USD        BHL2-USD\n",
      "********************\n",
      "[*********************100%***********************]  1 of 1 completed\n",
      "\n",
      "1 Failed download:\n",
      "- BHMSQ1: No timezone found, symbol may be delisted\n",
      "yahoo failed... len of df:  0\n",
      "tiingo failed... len of df:  0\n",
      "Added 194 stocks to the db\n",
      "    ticker priceCurrency ticker_currency\n",
      "88  BHMSQ1           USD      BHMSQ1-USD\n",
      "********************\n",
      "[*********************100%***********************]  1 of 1 completed\n"
     ]
    },
    {
     "name": "stderr",
     "output_type": "stream",
     "text": [
      "C:\\Users\\david\\anaconda3\\envs\\svmmvo\\lib\\site-packages\\pandas_datareader\\tiingo.py:234: FutureWarning: In a future version of pandas all arguments of concat except for the argument 'objs' will be keyword-only.\n",
      "  return pd.concat(dfs, self._concat_axis)\n"
     ]
    },
    {
     "name": "stdout",
     "output_type": "stream",
     "text": [
      "Added 195 stocks to the db\n",
      "     ticker priceCurrency ticker_currency\n",
      "1096    BIG           USD         BIG-USD\n",
      "********************\n",
      "[*********************100%***********************]  1 of 1 completed\n"
     ]
    },
    {
     "name": "stderr",
     "output_type": "stream",
     "text": [
      "C:\\Users\\david\\anaconda3\\envs\\svmmvo\\lib\\site-packages\\pandas_datareader\\tiingo.py:234: FutureWarning: In a future version of pandas all arguments of concat except for the argument 'objs' will be keyword-only.\n",
      "  return pd.concat(dfs, self._concat_axis)\n"
     ]
    },
    {
     "name": "stdout",
     "output_type": "stream",
     "text": [
      "Added 196 stocks to the db\n",
      "     ticker priceCurrency ticker_currency\n",
      "1097   BIIB           USD        BIIB-USD\n",
      "********************\n",
      "[*********************100%***********************]  1 of 1 completed\n"
     ]
    },
    {
     "name": "stderr",
     "output_type": "stream",
     "text": [
      "C:\\Users\\david\\anaconda3\\envs\\svmmvo\\lib\\site-packages\\pandas_datareader\\tiingo.py:234: FutureWarning: In a future version of pandas all arguments of concat except for the argument 'objs' will be keyword-only.\n",
      "  return pd.concat(dfs, self._concat_axis)\n"
     ]
    },
    {
     "name": "stdout",
     "output_type": "stream",
     "text": [
      "Added 197 stocks to the db\n",
      "     ticker priceCurrency ticker_currency\n",
      "1098    BIO           USD         BIO-USD\n",
      "********************\n",
      "[*********************100%***********************]  1 of 1 completed\n",
      "\n",
      "1 Failed download:\n",
      "- BJS1: No timezone found, symbol may be delisted\n",
      "yahoo failed... len of df:  0\n",
      "tiingo failed... len of df:  0\n",
      "Added 198 stocks to the db\n",
      "    ticker priceCurrency ticker_currency\n",
      "120   BJS1           USD        BJS1-USD\n",
      "********************\n",
      "[*********************100%***********************]  1 of 1 completed\n"
     ]
    },
    {
     "name": "stderr",
     "output_type": "stream",
     "text": [
      "C:\\Users\\david\\anaconda3\\envs\\svmmvo\\lib\\site-packages\\pandas_datareader\\tiingo.py:234: FutureWarning: In a future version of pandas all arguments of concat except for the argument 'objs' will be keyword-only.\n",
      "  return pd.concat(dfs, self._concat_axis)\n"
     ]
    },
    {
     "name": "stdout",
     "output_type": "stream",
     "text": [
      "Added 199 stocks to the db\n",
      "     ticker priceCurrency ticker_currency\n",
      "1099     BK           USD          BK-USD\n",
      "********************\n",
      "[*********************100%***********************]  1 of 1 completed\n",
      "\n",
      "1 Failed download:\n",
      "- BK1: No timezone found, symbol may be delisted\n",
      "yahoo failed... len of df:  0\n",
      "tiingo failed... len of df:  0\n",
      "Added 200 stocks to the db\n",
      "    ticker priceCurrency ticker_currency\n",
      "721    BK1           USD         BK1-USD\n",
      "********************\n",
      "[*********************100%***********************]  1 of 1 completed\n",
      "\n",
      "1 Failed download:\n",
      "- BKB1: No timezone found, symbol may be delisted\n",
      "yahoo failed... len of df:  0\n",
      "tiingo failed... len of df:  0\n",
      "Added 201 stocks to the db\n",
      "    ticker priceCurrency ticker_currency\n",
      "153   BKB1           USD        BKB1-USD\n",
      "********************\n",
      "[*********************100%***********************]  1 of 1 completed\n"
     ]
    },
    {
     "name": "stderr",
     "output_type": "stream",
     "text": [
      "C:\\Users\\david\\anaconda3\\envs\\svmmvo\\lib\\site-packages\\pandas_datareader\\tiingo.py:234: FutureWarning: In a future version of pandas all arguments of concat except for the argument 'objs' will be keyword-only.\n",
      "  return pd.concat(dfs, self._concat_axis)\n"
     ]
    },
    {
     "name": "stdout",
     "output_type": "stream",
     "text": [
      "Added 202 stocks to the db\n",
      "     ticker priceCurrency ticker_currency\n",
      "1100   BKNG           USD        BKNG-USD\n",
      "********************\n",
      "[*********************100%***********************]  1 of 1 completed\n",
      "\n",
      "1 Failed download:\n",
      "- BKO1: No timezone found, symbol may be delisted\n",
      "yahoo failed... len of df:  0\n",
      "tiingo failed... len of df:  0\n",
      "Added 203 stocks to the db\n",
      "    ticker priceCurrency ticker_currency\n",
      "647   BKO1           USD        BKO1-USD\n",
      "********************\n",
      "[*********************100%***********************]  1 of 1 completed\n"
     ]
    },
    {
     "name": "stderr",
     "output_type": "stream",
     "text": [
      "C:\\Users\\david\\anaconda3\\envs\\svmmvo\\lib\\site-packages\\pandas_datareader\\tiingo.py:234: FutureWarning: In a future version of pandas all arguments of concat except for the argument 'objs' will be keyword-only.\n",
      "  return pd.concat(dfs, self._concat_axis)\n"
     ]
    },
    {
     "name": "stdout",
     "output_type": "stream",
     "text": [
      "Added 204 stocks to the db\n",
      "     ticker priceCurrency ticker_currency\n",
      "1101    BKR           USD         BKR-USD\n",
      "********************\n",
      "[*********************100%***********************]  1 of 1 completed\n",
      "\n",
      "1 Failed download:\n",
      "- BLD1: No timezone found, symbol may be delisted\n",
      "yahoo failed... len of df:  0\n",
      "tiingo failed... len of df:  0\n",
      "Added 205 stocks to the db\n",
      "     ticker priceCurrency ticker_currency\n",
      "1102   BLD1           USD        BLD1-USD\n",
      "********************\n",
      "[*********************100%***********************]  1 of 1 completed\n"
     ]
    },
    {
     "name": "stderr",
     "output_type": "stream",
     "text": [
      "C:\\Users\\david\\anaconda3\\envs\\svmmvo\\lib\\site-packages\\pandas_datareader\\tiingo.py:234: FutureWarning: In a future version of pandas all arguments of concat except for the argument 'objs' will be keyword-only.\n",
      "  return pd.concat(dfs, self._concat_axis)\n"
     ]
    },
    {
     "name": "stdout",
     "output_type": "stream",
     "text": [
      "Added 206 stocks to the db\n",
      "     ticker priceCurrency ticker_currency\n",
      "1103    BLK           USD         BLK-USD\n",
      "********************\n",
      "[*********************100%***********************]  1 of 1 completed\n",
      "\n",
      "1 Failed download:\n",
      "- BLS1: No timezone found, symbol may be delisted\n",
      "yahoo failed... len of df:  0\n",
      "tiingo failed... len of df:  0\n",
      "Added 207 stocks to the db\n",
      "    ticker priceCurrency ticker_currency\n",
      "189   BLS1           USD        BLS1-USD\n",
      "********************\n",
      "[*********************100%***********************]  1 of 1 completed\n",
      "\n",
      "1 Failed download:\n",
      "- BLS2: No timezone found, symbol may be delisted\n",
      "yahoo failed... len of df:  0\n",
      "tiingo failed... len of df:  0\n",
      "Added 208 stocks to the db\n",
      "    ticker priceCurrency ticker_currency\n",
      "611   BLS2           USD        BLS2-USD\n",
      "********************\n",
      "[*********************100%***********************]  1 of 1 completed\n",
      "\n",
      "1 Failed download:\n",
      "- BLY1: No timezone found, symbol may be delisted\n",
      "yahoo failed... len of df:  0\n",
      "tiingo failed... len of df:  0\n",
      "Added 209 stocks to the db\n",
      "    ticker priceCurrency ticker_currency\n",
      "269   BLY1           USD        BLY1-USD\n",
      "********************\n",
      "[*********************100%***********************]  1 of 1 completed\n",
      "\n",
      "1 Failed download:\n",
      "- BMC5: No timezone found, symbol may be delisted\n",
      "yahoo failed... len of df:  0\n",
      "tiingo failed... len of df:  0\n",
      "Added 210 stocks to the db\n",
      "   ticker priceCurrency ticker_currency\n",
      "96   BMC5           USD        BMC5-USD\n",
      "********************\n",
      "[*********************100%***********************]  1 of 1 completed\n",
      "\n",
      "1 Failed download:\n",
      "- BMET1: No timezone found, symbol may be delisted\n",
      "yahoo failed... len of df:  0\n",
      "tiingo failed... len of df:  0\n",
      "Added 211 stocks to the db\n",
      "    ticker priceCurrency ticker_currency\n",
      "178  BMET1           USD       BMET1-USD\n",
      "********************\n",
      "[*********************100%***********************]  1 of 1 completed\n",
      "\n",
      "1 Failed download:\n",
      "- BMG1: No timezone found, symbol may be delisted\n",
      "yahoo failed... len of df:  0\n",
      "tiingo failed... len of df:  0\n",
      "Added 212 stocks to the db\n",
      "    ticker priceCurrency ticker_currency\n",
      "194   BMG1           USD        BMG1-USD\n",
      "********************\n",
      "[*********************100%***********************]  1 of 1 completed\n",
      "\n",
      "1 Failed download:\n",
      "- BMT1: No timezone found, symbol may be delisted\n",
      "yahoo failed... len of df:  0\n",
      "tiingo failed... len of df:  0\n",
      "Added 213 stocks to the db\n",
      "    ticker priceCurrency ticker_currency\n",
      "815   BMT1           USD        BMT1-USD\n",
      "********************\n",
      "[*********************100%***********************]  1 of 1 completed\n"
     ]
    },
    {
     "name": "stderr",
     "output_type": "stream",
     "text": [
      "C:\\Users\\david\\anaconda3\\envs\\svmmvo\\lib\\site-packages\\pandas_datareader\\tiingo.py:234: FutureWarning: In a future version of pandas all arguments of concat except for the argument 'objs' will be keyword-only.\n",
      "  return pd.concat(dfs, self._concat_axis)\n"
     ]
    },
    {
     "name": "stdout",
     "output_type": "stream",
     "text": [
      "Added 214 stocks to the db\n",
      "     ticker priceCurrency ticker_currency\n",
      "1104    BMY           USD         BMY-USD\n",
      "********************\n",
      "[*********************100%***********************]  1 of 1 completed\n",
      "\n",
      "1 Failed download:\n",
      "- BN2: No timezone found, symbol may be delisted\n",
      "yahoo failed... len of df:  0\n",
      "tiingo failed... len of df:  0\n",
      "Added 215 stocks to the db\n",
      "    ticker priceCurrency ticker_currency\n",
      "376    BN2           USD         BN2-USD\n",
      "********************\n",
      "[*********************100%***********************]  1 of 1 completed\n",
      "\n",
      "1 Failed download:\n",
      "- BNDN1: No timezone found, symbol may be delisted\n",
      "yahoo failed... len of df:  0\n",
      "tiingo failed... len of df:  0\n",
      "Added 216 stocks to the db\n",
      "    ticker priceCurrency ticker_currency\n",
      "754  BNDN1           USD       BNDN1-USD\n",
      "********************\n",
      "[*********************100%***********************]  1 of 1 completed\n",
      "\n",
      "1 Failed download:\n",
      "- BNI1: No timezone found, symbol may be delisted\n",
      "yahoo failed... len of df:  0\n",
      "tiingo failed... len of df:  0\n",
      "Added 217 stocks to the db\n",
      "    ticker priceCurrency ticker_currency\n",
      "107   BNI1           USD        BNI1-USD\n",
      "********************\n",
      "[*********************100%***********************]  1 of 1 completed\n",
      "\n",
      "1 Failed download:\n",
      "- BNL1: No timezone found, symbol may be delisted\n",
      "yahoo failed... len of df:  0\n",
      "tiingo failed... len of df:  0\n",
      "Added 218 stocks to the db\n",
      "    ticker priceCurrency ticker_currency\n",
      "211   BNL1           USD        BNL1-USD\n",
      "********************\n",
      "[*********************100%***********************]  1 of 1 completed\n",
      "\n",
      "1 Failed download:\n",
      "- BNSS1A: No timezone found, symbol may be delisted\n",
      "yahoo failed... len of df:  0\n",
      "tiingo failed... len of df:  0\n",
      "Added 219 stocks to the db\n",
      "     ticker priceCurrency ticker_currency\n",
      "363  BNSS1A           USD      BNSS1A-USD\n",
      "********************\n",
      "[*********************100%***********************]  1 of 1 completed\n",
      "\n",
      "1 Failed download:\n",
      "- BO1: No timezone found, symbol may be delisted\n",
      "yahoo failed... len of df:  0\n",
      "tiingo failed... len of df:  0\n",
      "Added 220 stocks to the db\n",
      "    ticker priceCurrency ticker_currency\n",
      "412    BO1           USD         BO1-USD\n",
      "********************\n",
      "[*********************100%***********************]  1 of 1 completed\n",
      "\n",
      "1 Failed download:\n",
      "- BOAT1: No timezone found, symbol may be delisted\n",
      "yahoo failed... len of df:  0\n",
      "tiingo failed... len of df:  0\n",
      "Added 221 stocks to the db\n",
      "    ticker priceCurrency ticker_currency\n",
      "204  BOAT1           USD       BOAT1-USD\n",
      "********************\n",
      "[*********************100%***********************]  1 of 1 completed\n",
      "\n",
      "1 Failed download:\n",
      "- BOL1: No timezone found, symbol may be delisted\n",
      "yahoo failed... len of df:  0\n",
      "tiingo failed... len of df:  0\n",
      "Added 222 stocks to the db\n",
      "    ticker priceCurrency ticker_currency\n",
      "140   BOL1           USD        BOL1-USD\n",
      "********************\n",
      "[*********************100%***********************]  1 of 1 completed\n",
      "\n",
      "1 Failed download:\n",
      "- BOR2: No timezone found, symbol may be delisted\n",
      "yahoo failed... len of df:  0\n",
      "tiingo failed... len of df:  0\n",
      "Added 223 stocks to the db\n",
      "    ticker priceCurrency ticker_currency\n",
      "511   BOR2           USD        BOR2-USD\n",
      "********************\n",
      "[*********************100%***********************]  1 of 1 completed\n"
     ]
    },
    {
     "name": "stderr",
     "output_type": "stream",
     "text": [
      "C:\\Users\\david\\anaconda3\\envs\\svmmvo\\lib\\site-packages\\pandas_datareader\\tiingo.py:234: FutureWarning: In a future version of pandas all arguments of concat except for the argument 'objs' will be keyword-only.\n",
      "  return pd.concat(dfs, self._concat_axis)\n"
     ]
    },
    {
     "name": "stdout",
     "output_type": "stream",
     "text": [
      "Added 224 stocks to the db\n",
      "     ticker priceCurrency ticker_currency\n",
      "1105     BR           USD          BR-USD\n",
      "********************\n",
      "[*********************100%***********************]  1 of 1 completed\n",
      "\n",
      "1 Failed download:\n",
      "- BR1: No timezone found, symbol may be delisted\n",
      "yahoo failed... len of df:  0\n",
      "tiingo failed... len of df:  0\n",
      "Added 225 stocks to the db\n",
      "     ticker priceCurrency ticker_currency\n",
      "1106    BR1           USD         BR1-USD\n",
      "********************\n",
      "[*********************100%***********************]  1 of 1 completed\n",
      "\n",
      "1 Failed download:\n",
      "- BR3: No timezone found, symbol may be delisted\n",
      "yahoo failed... len of df:  0\n",
      "tiingo failed... len of df:  0\n",
      "Added 226 stocks to the db\n",
      "    ticker priceCurrency ticker_currency\n",
      "983    BR3           USD         BR3-USD\n",
      "********************\n",
      "[*********************100%***********************]  1 of 1 completed\n",
      "\n",
      "1 Failed download:\n",
      "- BRK.B: No timezone found, symbol may be delisted\n",
      "yahoo failed... len of df:  0\n",
      "tiingo failed... len of df:  0\n",
      "Added 227 stocks to the db\n",
      "  ticker priceCurrency ticker_currency\n",
      "1  BRK.B           USD       BRK.B-USD\n",
      "********************\n",
      "[*********************100%***********************]  1 of 1 completed\n",
      "\n",
      "1 Failed download:\n",
      "- BRK1: No timezone found, symbol may be delisted\n",
      "yahoo failed... len of df:  0\n",
      "tiingo failed... len of df:  0\n",
      "Added 228 stocks to the db\n",
      "    ticker priceCurrency ticker_currency\n",
      "637   BRK1           USD        BRK1-USD\n",
      "********************\n",
      "[*********************100%***********************]  1 of 1 completed\n",
      "\n",
      "1 Failed download:\n",
      "- BRK2: No timezone found, symbol may be delisted\n",
      "yahoo failed... len of df:  0\n",
      "tiingo failed... len of df:  0\n",
      "Added 229 stocks to the db\n",
      "    ticker priceCurrency ticker_currency\n",
      "609   BRK2           USD        BRK2-USD\n",
      "********************\n",
      "[*********************100%***********************]  1 of 1 completed\n",
      "\n",
      "1 Failed download:\n",
      "- BRL2: No timezone found, symbol may be delisted\n",
      "yahoo failed... len of df:  0\n",
      "tiingo failed... len of df:  0\n",
      "Added 230 stocks to the db\n",
      "    ticker priceCurrency ticker_currency\n",
      "129   BRL2           USD        BRL2-USD\n",
      "********************\n",
      "[*********************100%***********************]  1 of 1 completed\n",
      "\n",
      "1 Failed download:\n",
      "- BRNOQ1: No timezone found, symbol may be delisted\n",
      "yahoo failed... len of df:  0\n",
      "tiingo failed... len of df:  0\n",
      "Added 231 stocks to the db\n",
      "     ticker priceCurrency ticker_currency\n",
      "542  BRNOQ1           USD      BRNOQ1-USD\n",
      "********************\n",
      "[*********************100%***********************]  1 of 1 completed\n"
     ]
    },
    {
     "name": "stderr",
     "output_type": "stream",
     "text": [
      "C:\\Users\\david\\anaconda3\\envs\\svmmvo\\lib\\site-packages\\pandas_datareader\\tiingo.py:234: FutureWarning: In a future version of pandas all arguments of concat except for the argument 'objs' will be keyword-only.\n",
      "  return pd.concat(dfs, self._concat_axis)\n"
     ]
    },
    {
     "name": "stdout",
     "output_type": "stream",
     "text": [
      "Added 232 stocks to the db\n",
      "     ticker priceCurrency ticker_currency\n",
      "1107    BRO           USD         BRO-USD\n",
      "********************\n",
      "[*********************100%***********************]  1 of 1 completed\n",
      "\n",
      "1 Failed download:\n",
      "- BRY1: No timezone found, symbol may be delisted\n",
      "yahoo failed... len of df:  0\n",
      "tiingo failed... len of df:  0\n",
      "Added 233 stocks to the db\n",
      "     ticker priceCurrency ticker_currency\n",
      "1108   BRY1           USD        BRY1-USD\n",
      "********************\n",
      "[*********************100%***********************]  1 of 1 completed\n",
      "\n",
      "1 Failed download:\n",
      "- BSC1: No timezone found, symbol may be delisted\n",
      "yahoo failed... len of df:  0\n",
      "tiingo failed... len of df:  0\n",
      "Added 234 stocks to the db\n",
      "     ticker priceCurrency ticker_currency\n",
      "1109   BSC1           USD        BSC1-USD\n",
      "********************\n",
      "[*********************100%***********************]  1 of 1 completed\n"
     ]
    },
    {
     "name": "stderr",
     "output_type": "stream",
     "text": [
      "C:\\Users\\david\\anaconda3\\envs\\svmmvo\\lib\\site-packages\\pandas_datareader\\tiingo.py:234: FutureWarning: In a future version of pandas all arguments of concat except for the argument 'objs' will be keyword-only.\n",
      "  return pd.concat(dfs, self._concat_axis)\n"
     ]
    },
    {
     "name": "stdout",
     "output_type": "stream",
     "text": [
      "Added 235 stocks to the db\n",
      "     ticker priceCurrency ticker_currency\n",
      "1110   BSET           USD        BSET-USD\n",
      "********************\n",
      "[*********************100%***********************]  1 of 1 completed\n"
     ]
    },
    {
     "name": "stderr",
     "output_type": "stream",
     "text": [
      "C:\\Users\\david\\anaconda3\\envs\\svmmvo\\lib\\site-packages\\pandas_datareader\\tiingo.py:234: FutureWarning: In a future version of pandas all arguments of concat except for the argument 'objs' will be keyword-only.\n",
      "  return pd.concat(dfs, self._concat_axis)\n"
     ]
    },
    {
     "name": "stdout",
     "output_type": "stream",
     "text": [
      "Added 236 stocks to the db\n",
      "     ticker priceCurrency ticker_currency\n",
      "1111    BSX           USD         BSX-USD\n",
      "********************\n",
      "[*********************100%***********************]  1 of 1 completed\n",
      "\n",
      "1 Failed download:\n",
      "- BT1: No timezone found, symbol may be delisted\n",
      "yahoo failed... len of df:  0\n",
      "tiingo failed... len of df:  0\n",
      "Added 237 stocks to the db\n",
      "     ticker priceCurrency ticker_currency\n",
      "1112    BT1           USD         BT1-USD\n",
      "********************\n",
      "[*********************100%***********************]  1 of 1 completed\n"
     ]
    },
    {
     "name": "stderr",
     "output_type": "stream",
     "text": [
      "C:\\Users\\david\\anaconda3\\envs\\svmmvo\\lib\\site-packages\\pandas_datareader\\tiingo.py:234: FutureWarning: In a future version of pandas all arguments of concat except for the argument 'objs' will be keyword-only.\n",
      "  return pd.concat(dfs, self._concat_axis)\n"
     ]
    },
    {
     "name": "stdout",
     "output_type": "stream",
     "text": [
      "Added 238 stocks to the db\n",
      "     ticker priceCurrency ticker_currency\n",
      "1113    BTU           USD         BTU-USD\n",
      "********************\n",
      "[*********************100%***********************]  1 of 1 completed\n",
      "\n",
      "1 Failed download:\n",
      "- BUD1: No timezone found, symbol may be delisted\n",
      "yahoo failed... len of df:  0\n",
      "tiingo failed... len of df:  0\n",
      "Added 239 stocks to the db\n",
      "     ticker priceCurrency ticker_currency\n",
      "1114   BUD1           USD        BUD1-USD\n",
      "********************\n",
      "[*********************100%***********************]  1 of 1 completed\n",
      "\n",
      "1 Failed download:\n",
      "- BUR1: No timezone found, symbol may be delisted\n",
      "yahoo failed... len of df:  0\n",
      "tiingo failed... len of df:  0\n",
      "Added 240 stocks to the db\n",
      "     ticker priceCurrency ticker_currency\n",
      "1115   BUR1           USD        BUR1-USD\n",
      "********************\n",
      "[*********************100%***********************]  1 of 1 completed\n",
      "\n",
      "1 Failed download:\n",
      "- BV1: No timezone found, symbol may be delisted\n",
      "yahoo failed... len of df:  0\n",
      "tiingo failed... len of df:  0\n",
      "Added 241 stocks to the db\n",
      "     ticker priceCurrency ticker_currency\n",
      "1116    BV1           USD         BV1-USD\n",
      "********************\n",
      "[*********************100%***********************]  1 of 1 completed\n"
     ]
    },
    {
     "name": "stderr",
     "output_type": "stream",
     "text": [
      "C:\\Users\\david\\anaconda3\\envs\\svmmvo\\lib\\site-packages\\pandas_datareader\\tiingo.py:234: FutureWarning: In a future version of pandas all arguments of concat except for the argument 'objs' will be keyword-only.\n",
      "  return pd.concat(dfs, self._concat_axis)\n"
     ]
    },
    {
     "name": "stdout",
     "output_type": "stream",
     "text": [
      "Added 242 stocks to the db\n",
      "     ticker priceCurrency ticker_currency\n",
      "1117    BWA           USD         BWA-USD\n",
      "********************\n",
      "[*********************100%***********************]  1 of 1 completed\n",
      "\n",
      "1 Failed download:\n",
      "- BWN2: No timezone found, symbol may be delisted\n",
      "yahoo failed... len of df:  0\n",
      "tiingo failed... len of df:  0\n",
      "Added 243 stocks to the db\n",
      "    ticker priceCurrency ticker_currency\n",
      "747   BWN2           USD        BWN2-USD\n",
      "********************\n",
      "[*********************100%***********************]  1 of 1 completed\n",
      "\n",
      "1 Failed download:\n",
      "- BWY1: No timezone found, symbol may be delisted\n",
      "yahoo failed... len of df:  0\n",
      "tiingo failed... len of df:  0\n",
      "Added 244 stocks to the db\n",
      "     ticker priceCurrency ticker_currency\n",
      "1118   BWY1           USD        BWY1-USD\n",
      "********************\n",
      "[*********************100%***********************]  1 of 1 completed\n",
      "\n",
      "1 Failed download:\n",
      "- BX1: No timezone found, symbol may be delisted\n",
      "yahoo failed... len of df:  0\n",
      "tiingo failed... len of df:  0\n",
      "Added 245 stocks to the db\n",
      "    ticker priceCurrency ticker_currency\n",
      "517    BX1           USD         BX1-USD\n",
      "********************\n",
      "[*********************100%***********************]  1 of 1 completed\n"
     ]
    },
    {
     "name": "stderr",
     "output_type": "stream",
     "text": [
      "C:\\Users\\david\\anaconda3\\envs\\svmmvo\\lib\\site-packages\\pandas_datareader\\tiingo.py:234: FutureWarning: In a future version of pandas all arguments of concat except for the argument 'objs' will be keyword-only.\n",
      "  return pd.concat(dfs, self._concat_axis)\n"
     ]
    },
    {
     "name": "stdout",
     "output_type": "stream",
     "text": [
      "Added 246 stocks to the db\n",
      "     ticker priceCurrency ticker_currency\n",
      "1119    BXP           USD         BXP-USD\n",
      "********************\n",
      "[*********************100%***********************]  1 of 1 completed\n",
      "\n",
      "1 Failed download:\n",
      "- BYK1: No timezone found, symbol may be delisted\n",
      "yahoo failed... len of df:  0\n",
      "tiingo failed... len of df:  0\n",
      "Added 247 stocks to the db\n",
      "    ticker priceCurrency ticker_currency\n",
      "576   BYK1           USD        BYK1-USD\n",
      "********************\n",
      "[*********************100%***********************]  1 of 1 completed\n"
     ]
    },
    {
     "name": "stderr",
     "output_type": "stream",
     "text": [
      "C:\\Users\\david\\anaconda3\\envs\\svmmvo\\lib\\site-packages\\pandas_datareader\\tiingo.py:234: FutureWarning: In a future version of pandas all arguments of concat except for the argument 'objs' will be keyword-only.\n",
      "  return pd.concat(dfs, self._concat_axis)\n"
     ]
    },
    {
     "name": "stdout",
     "output_type": "stream",
     "text": [
      "Added 248 stocks to the db\n",
      "     ticker priceCurrency ticker_currency\n",
      "1120      C           USD           C-USD\n",
      "********************\n",
      "[*********************100%***********************]  1 of 1 completed\n",
      "\n",
      "1 Failed download:\n",
      "- C1: No timezone found, symbol may be delisted\n",
      "yahoo failed... len of df:  0\n",
      "tiingo failed... len of df:  0\n",
      "Added 249 stocks to the db\n",
      "     ticker priceCurrency ticker_currency\n",
      "1121     C1           USD          C1-USD\n",
      "********************\n",
      "[*********************100%***********************]  1 of 1 completed\n",
      "\n",
      "1 Failed download:\n",
      "- CA3: No timezone found, symbol may be delisted\n",
      "yahoo failed... len of df:  0\n",
      "tiingo failed... len of df:  0\n",
      "Added 250 stocks to the db\n",
      "   ticker priceCurrency ticker_currency\n",
      "21    CA3           USD         CA3-USD\n",
      "********************\n",
      "[*********************100%***********************]  1 of 1 completed\n"
     ]
    },
    {
     "name": "stderr",
     "output_type": "stream",
     "text": [
      "C:\\Users\\david\\anaconda3\\envs\\svmmvo\\lib\\site-packages\\pandas_datareader\\tiingo.py:234: FutureWarning: In a future version of pandas all arguments of concat except for the argument 'objs' will be keyword-only.\n",
      "  return pd.concat(dfs, self._concat_axis)\n"
     ]
    },
    {
     "name": "stdout",
     "output_type": "stream",
     "text": [
      "Added 251 stocks to the db\n",
      "     ticker priceCurrency ticker_currency\n",
      "1122    CAG           USD         CAG-USD\n",
      "********************\n",
      "[*********************100%***********************]  1 of 1 completed\n"
     ]
    },
    {
     "name": "stderr",
     "output_type": "stream",
     "text": [
      "C:\\Users\\david\\anaconda3\\envs\\svmmvo\\lib\\site-packages\\pandas_datareader\\tiingo.py:234: FutureWarning: In a future version of pandas all arguments of concat except for the argument 'objs' will be keyword-only.\n",
      "  return pd.concat(dfs, self._concat_axis)\n"
     ]
    },
    {
     "name": "stdout",
     "output_type": "stream",
     "text": [
      "Added 252 stocks to the db\n",
      "     ticker priceCurrency ticker_currency\n",
      "1123    CAH           USD         CAH-USD\n",
      "********************\n",
      "[*********************100%***********************]  1 of 1 completed\n",
      "\n",
      "1 Failed download:\n",
      "- CAH1: No timezone found, symbol may be delisted\n",
      "yahoo failed... len of df:  0\n",
      "tiingo failed... len of df:  0\n",
      "Added 253 stocks to the db\n",
      "    ticker priceCurrency ticker_currency\n",
      "706   CAH1           USD        CAH1-USD\n",
      "********************\n",
      "[*********************100%***********************]  1 of 1 completed\n",
      "\n",
      "1 Failed download:\n",
      "- CAM4: No timezone found, symbol may be delisted\n",
      "yahoo failed... len of df:  0\n",
      "tiingo failed... len of df:  0\n",
      "Added 254 stocks to the db\n",
      "   ticker priceCurrency ticker_currency\n",
      "44   CAM4           USD        CAM4-USD\n",
      "********************\n",
      "[*********************100%***********************]  1 of 1 completed\n",
      "\n",
      "1 Failed download:\n",
      "- CAN3: No timezone found, symbol may be delisted\n",
      "yahoo failed... len of df:  0\n",
      "tiingo failed... len of df:  0\n",
      "Added 255 stocks to the db\n",
      "    ticker priceCurrency ticker_currency\n",
      "678   CAN3           USD        CAN3-USD\n",
      "********************\n",
      "[*********************100%***********************]  1 of 1 completed\n",
      "\n",
      "1 Failed download:\n",
      "- CANT1: No timezone found, symbol may be delisted\n",
      "yahoo failed... len of df:  0\n",
      "tiingo failed... len of df:  0\n",
      "Added 256 stocks to the db\n",
      "    ticker priceCurrency ticker_currency\n",
      "890  CANT1           USD       CANT1-USD\n",
      "********************\n",
      "[*********************100%***********************]  1 of 1 completed\n"
     ]
    },
    {
     "name": "stderr",
     "output_type": "stream",
     "text": [
      "C:\\Users\\david\\anaconda3\\envs\\svmmvo\\lib\\site-packages\\pandas_datareader\\tiingo.py:234: FutureWarning: In a future version of pandas all arguments of concat except for the argument 'objs' will be keyword-only.\n",
      "  return pd.concat(dfs, self._concat_axis)\n"
     ]
    },
    {
     "name": "stdout",
     "output_type": "stream",
     "text": [
      "Added 257 stocks to the db\n",
      "     ticker priceCurrency ticker_currency\n",
      "1124    CAR           USD         CAR-USD\n",
      "********************\n",
      "[*********************100%***********************]  1 of 1 completed\n",
      "\n",
      "1 Failed download:\n",
      "- CARD1: No timezone found, symbol may be delisted\n",
      "yahoo failed... len of df:  0\n",
      "tiingo failed... len of df:  0\n",
      "Added 258 stocks to the db\n",
      "    ticker priceCurrency ticker_currency\n",
      "375  CARD1           USD       CARD1-USD\n",
      "********************\n",
      "[*********************100%***********************]  1 of 1 completed\n"
     ]
    },
    {
     "name": "stderr",
     "output_type": "stream",
     "text": [
      "C:\\Users\\david\\anaconda3\\envs\\svmmvo\\lib\\site-packages\\pandas_datareader\\tiingo.py:234: FutureWarning: In a future version of pandas all arguments of concat except for the argument 'objs' will be keyword-only.\n",
      "  return pd.concat(dfs, self._concat_axis)\n"
     ]
    },
    {
     "name": "stdout",
     "output_type": "stream",
     "text": [
      "Added 259 stocks to the db\n",
      "     ticker priceCurrency ticker_currency\n",
      "1125   CARR           USD        CARR-USD\n",
      "********************\n",
      "[*********************100%***********************]  1 of 1 completed\n"
     ]
    },
    {
     "name": "stderr",
     "output_type": "stream",
     "text": [
      "C:\\Users\\david\\anaconda3\\envs\\svmmvo\\lib\\site-packages\\pandas_datareader\\tiingo.py:234: FutureWarning: In a future version of pandas all arguments of concat except for the argument 'objs' will be keyword-only.\n",
      "  return pd.concat(dfs, self._concat_axis)\n"
     ]
    },
    {
     "name": "stdout",
     "output_type": "stream",
     "text": [
      "Added 260 stocks to the db\n",
      "     ticker priceCurrency ticker_currency\n",
      "1126    CAT           USD         CAT-USD\n",
      "********************\n",
      "[*********************100%***********************]  1 of 1 completed\n"
     ]
    },
    {
     "name": "stderr",
     "output_type": "stream",
     "text": [
      "C:\\Users\\david\\anaconda3\\envs\\svmmvo\\lib\\site-packages\\pandas_datareader\\tiingo.py:234: FutureWarning: In a future version of pandas all arguments of concat except for the argument 'objs' will be keyword-only.\n",
      "  return pd.concat(dfs, self._concat_axis)\n"
     ]
    },
    {
     "name": "stdout",
     "output_type": "stream",
     "text": [
      "Added 261 stocks to the db\n",
      "     ticker priceCurrency ticker_currency\n",
      "1127     CB           USD          CB-USD\n",
      "********************\n",
      "[*********************100%***********************]  1 of 1 completed\n",
      "\n",
      "1 Failed download:\n",
      "- CB1: No timezone found, symbol may be delisted\n",
      "yahoo failed... len of df:  0\n",
      "tiingo failed... len of df:  0\n",
      "Added 262 stocks to the db\n",
      "     ticker priceCurrency ticker_currency\n",
      "1128    CB1           USD         CB1-USD\n",
      "********************\n",
      "[*********************100%***********************]  1 of 1 completed\n",
      "\n",
      "1 Failed download:\n",
      "- CBB1: No timezone found, symbol may be delisted\n",
      "yahoo failed... len of df:  0\n",
      "tiingo failed... len of df:  0\n",
      "Added 263 stocks to the db\n",
      "    ticker priceCurrency ticker_currency\n",
      "227   CBB1           USD        CBB1-USD\n",
      "********************\n",
      "[*********************100%***********************]  1 of 1 completed\n",
      "\n",
      "1 Failed download:\n",
      "- CBE1: No timezone found, symbol may be delisted\n",
      "yahoo failed... len of df:  0\n",
      "tiingo failed... len of df:  0\n",
      "Added 264 stocks to the db\n",
      "   ticker priceCurrency ticker_currency\n",
      "52   CBE1           USD        CBE1-USD\n",
      "********************\n",
      "[*********************100%***********************]  1 of 1 completed\n",
      "\n",
      "1 Failed download:\n",
      "- CBH1: No timezone found, symbol may be delisted\n",
      "yahoo failed... len of df:  0\n",
      "tiingo failed... len of df:  0\n",
      "Added 265 stocks to the db\n",
      "     ticker priceCurrency ticker_currency\n",
      "1129   CBH1           USD        CBH1-USD\n",
      "********************\n",
      "[*********************100%***********************]  1 of 1 completed\n",
      "\n",
      "1 Failed download:\n",
      "- CBK1: No timezone found, symbol may be delisted\n",
      "yahoo failed... len of df:  0\n",
      "tiingo failed... len of df:  0\n",
      "Added 266 stocks to the db\n",
      "    ticker priceCurrency ticker_currency\n",
      "408   CBK1           USD        CBK1-USD\n",
      "********************\n",
      "[*********************100%***********************]  1 of 1 completed\n",
      "\n",
      "1 Failed download:\n",
      "- CBL1: No timezone found, symbol may be delisted\n",
      "yahoo failed... len of df:  0\n",
      "tiingo failed... len of df:  0\n",
      "Added 267 stocks to the db\n",
      "    ticker priceCurrency ticker_currency\n",
      "595   CBL1           USD        CBL1-USD\n",
      "********************\n",
      "[*********************100%***********************]  1 of 1 completed\n",
      "\n",
      "1 Failed download:\n",
      "- CBM1: No timezone found, symbol may be delisted\n",
      "yahoo failed... len of df:  0\n",
      "tiingo failed... len of df:  0\n",
      "Added 268 stocks to the db\n",
      "    ticker priceCurrency ticker_currency\n",
      "411   CBM1           USD        CBM1-USD\n",
      "********************\n",
      "[*********************100%***********************]  1 of 1 completed\n",
      "\n",
      "1 Failed download:\n",
      "- CBN2: No timezone found, symbol may be delisted\n",
      "yahoo failed... len of df:  0\n",
      "tiingo failed... len of df:  0\n",
      "Added 269 stocks to the db\n",
      "    ticker priceCurrency ticker_currency\n",
      "672   CBN2           USD        CBN2-USD\n",
      "********************\n",
      "[*********************100%***********************]  1 of 1 completed\n",
      "\n",
      "1 Failed download:\n",
      "- CBO3: No timezone found, symbol may be delisted\n",
      "yahoo failed... len of df:  0\n",
      "tiingo failed... len of df:  0\n",
      "Added 270 stocks to the db\n",
      "    ticker priceCurrency ticker_currency\n",
      "487   CBO3           USD        CBO3-USD\n",
      "********************\n",
      "[*********************100%***********************]  1 of 1 completed\n"
     ]
    },
    {
     "name": "stderr",
     "output_type": "stream",
     "text": [
      "C:\\Users\\david\\anaconda3\\envs\\svmmvo\\lib\\site-packages\\pandas_datareader\\tiingo.py:234: FutureWarning: In a future version of pandas all arguments of concat except for the argument 'objs' will be keyword-only.\n",
      "  return pd.concat(dfs, self._concat_axis)\n"
     ]
    },
    {
     "name": "stdout",
     "output_type": "stream",
     "text": [
      "Added 271 stocks to the db\n",
      "     ticker priceCurrency ticker_currency\n",
      "1130   CBOE           USD        CBOE-USD\n",
      "********************\n",
      "[*********************100%***********************]  1 of 1 completed\n"
     ]
    },
    {
     "name": "stderr",
     "output_type": "stream",
     "text": [
      "C:\\Users\\david\\anaconda3\\envs\\svmmvo\\lib\\site-packages\\pandas_datareader\\tiingo.py:234: FutureWarning: In a future version of pandas all arguments of concat except for the argument 'objs' will be keyword-only.\n",
      "  return pd.concat(dfs, self._concat_axis)\n"
     ]
    },
    {
     "name": "stdout",
     "output_type": "stream",
     "text": [
      "Added 272 stocks to the db\n",
      "     ticker priceCurrency ticker_currency\n",
      "1131   CBRE           USD        CBRE-USD\n",
      "********************\n",
      "[*********************100%***********************]  1 of 1 completed\n",
      "\n",
      "1 Failed download:\n",
      "- CBS1: No timezone found, symbol may be delisted\n",
      "yahoo failed... len of df:  0\n",
      "tiingo failed... len of df:  0\n",
      "Added 273 stocks to the db\n",
      "     ticker priceCurrency ticker_currency\n",
      "1132   CBS1           USD        CBS1-USD\n",
      "********************\n",
      "[*********************100%***********************]  1 of 1 completed\n",
      "\n",
      "1 Failed download:\n",
      "- CBS2: No timezone found, symbol may be delisted\n",
      "yahoo failed... len of df:  0\n",
      "tiingo failed... len of df:  0\n",
      "Added 274 stocks to the db\n",
      "    ticker priceCurrency ticker_currency\n",
      "167   CBS2           USD        CBS2-USD\n",
      "********************\n",
      "[*********************100%***********************]  1 of 1 completed\n",
      "\n",
      "1 Failed download:\n",
      "- CBSS1: No timezone found, symbol may be delisted\n",
      "yahoo failed... len of df:  0\n",
      "tiingo failed... len of df:  0\n",
      "Added 275 stocks to the db\n",
      "    ticker priceCurrency ticker_currency\n",
      "163  CBSS1           USD       CBSS1-USD\n",
      "********************\n",
      "[*********************100%***********************]  1 of 1 completed\n",
      "\n",
      "1 Failed download:\n",
      "- CC2: No timezone found, symbol may be delisted\n",
      "yahoo failed... len of df:  0\n",
      "tiingo failed... len of df:  0\n",
      "Added 276 stocks to the db\n",
      "    ticker priceCurrency ticker_currency\n",
      "480    CC2           USD         CC2-USD\n",
      "********************\n",
      "[*********************100%***********************]  1 of 1 completed\n",
      "\n",
      "1 Failed download:\n",
      "- CCB1: No timezone found, symbol may be delisted\n",
      "yahoo failed... len of df:  0\n",
      "tiingo failed... len of df:  0\n",
      "Added 277 stocks to the db\n",
      "     ticker priceCurrency ticker_currency\n",
      "1133   CCB1           USD        CCB1-USD\n",
      "********************\n",
      "[*********************100%***********************]  1 of 1 completed\n",
      "\n",
      "1 Failed download:\n",
      "- CCC1: No timezone found, symbol may be delisted\n",
      "yahoo failed... len of df:  0\n",
      "tiingo failed... len of df:  0\n",
      "Added 278 stocks to the db\n",
      "     ticker priceCurrency ticker_currency\n",
      "1134   CCC1           USD        CCC1-USD\n",
      "********************\n",
      "[*********************100%***********************]  1 of 1 completed\n"
     ]
    },
    {
     "name": "stderr",
     "output_type": "stream",
     "text": [
      "C:\\Users\\david\\anaconda3\\envs\\svmmvo\\lib\\site-packages\\pandas_datareader\\tiingo.py:234: FutureWarning: In a future version of pandas all arguments of concat except for the argument 'objs' will be keyword-only.\n",
      "  return pd.concat(dfs, self._concat_axis)\n"
     ]
    },
    {
     "name": "stdout",
     "output_type": "stream",
     "text": [
      "Added 279 stocks to the db\n",
      "     ticker priceCurrency ticker_currency\n",
      "1135    CCI           USD         CCI-USD\n",
      "********************\n",
      "[*********************100%***********************]  1 of 1 completed\n",
      "\n",
      "1 Failed download:\n",
      "- CCI1: No timezone found, symbol may be delisted\n",
      "yahoo failed... len of df:  0\n",
      "tiingo failed... len of df:  0\n",
      "Added 280 stocks to the db\n",
      "     ticker priceCurrency ticker_currency\n",
      "1136   CCI1           USD        CCI1-USD\n",
      "********************\n",
      "[*********************100%***********************]  1 of 1 completed\n"
     ]
    },
    {
     "name": "stderr",
     "output_type": "stream",
     "text": [
      "C:\\Users\\david\\anaconda3\\envs\\svmmvo\\lib\\site-packages\\pandas_datareader\\tiingo.py:234: FutureWarning: In a future version of pandas all arguments of concat except for the argument 'objs' will be keyword-only.\n",
      "  return pd.concat(dfs, self._concat_axis)\n"
     ]
    },
    {
     "name": "stdout",
     "output_type": "stream",
     "text": [
      "Added 281 stocks to the db\n",
      "     ticker priceCurrency ticker_currency\n",
      "1137    CCK           USD         CCK-USD\n",
      "********************\n",
      "[*********************100%***********************]  1 of 1 completed\n"
     ]
    },
    {
     "name": "stderr",
     "output_type": "stream",
     "text": [
      "C:\\Users\\david\\anaconda3\\envs\\svmmvo\\lib\\site-packages\\pandas_datareader\\tiingo.py:234: FutureWarning: In a future version of pandas all arguments of concat except for the argument 'objs' will be keyword-only.\n",
      "  return pd.concat(dfs, self._concat_axis)\n"
     ]
    },
    {
     "name": "stdout",
     "output_type": "stream",
     "text": [
      "Added 282 stocks to the db\n",
      "     ticker priceCurrency ticker_currency\n",
      "1138    CCL           USD         CCL-USD\n",
      "********************\n",
      "[*********************100%***********************]  1 of 1 completed\n",
      "\n",
      "1 Failed download:\n",
      "- CCN1: No timezone found, symbol may be delisted\n",
      "yahoo failed... len of df:  0\n",
      "tiingo failed... len of df:  0\n",
      "Added 283 stocks to the db\n",
      "     ticker priceCurrency ticker_currency\n",
      "1139   CCN1           USD        CCN1-USD\n",
      "********************\n",
      "[*********************100%***********************]  1 of 1 completed\n",
      "\n",
      "1 Failed download:\n",
      "- CCTYQ1: No timezone found, symbol may be delisted\n",
      "yahoo failed... len of df:  0\n",
      "tiingo failed... len of df:  0\n",
      "Added 284 stocks to the db\n",
      "     ticker priceCurrency ticker_currency\n",
      "109  CCTYQ1           USD      CCTYQ1-USD\n",
      "********************\n",
      "[*********************100%***********************]  1 of 1 completed\n",
      "\n",
      "1 Failed download:\n",
      "- CCU1: No timezone found, symbol may be delisted\n",
      "yahoo failed... len of df:  0\n",
      "tiingo failed... len of df:  0\n",
      "Added 285 stocks to the db\n",
      "     ticker priceCurrency ticker_currency\n",
      "1140   CCU1           USD        CCU1-USD\n",
      "********************\n",
      "[*********************100%***********************]  1 of 1 completed\n",
      "\n",
      "1 Failed download:\n",
      "- CD1: No timezone found, symbol may be delisted\n",
      "yahoo failed... len of df:  0\n",
      "tiingo failed... len of df:  0\n",
      "Added 286 stocks to the db\n",
      "     ticker priceCurrency ticker_currency\n",
      "1141    CD1           USD         CD1-USD\n",
      "********************\n",
      "[*********************100%***********************]  1 of 1 completed\n"
     ]
    },
    {
     "name": "stderr",
     "output_type": "stream",
     "text": [
      "C:\\Users\\david\\anaconda3\\envs\\svmmvo\\lib\\site-packages\\pandas_datareader\\tiingo.py:234: FutureWarning: In a future version of pandas all arguments of concat except for the argument 'objs' will be keyword-only.\n",
      "  return pd.concat(dfs, self._concat_axis)\n"
     ]
    },
    {
     "name": "stdout",
     "output_type": "stream",
     "text": [
      "Added 287 stocks to the db\n",
      "     ticker priceCurrency ticker_currency\n",
      "1142   CDAY           USD        CDAY-USD\n",
      "********************\n",
      "[*********************100%***********************]  1 of 1 completed\n",
      "\n",
      "1 Failed download:\n",
      "- CDD2: No timezone found, symbol may be delisted\n",
      "yahoo failed... len of df:  0\n",
      "tiingo failed... len of df:  0\n",
      "Added 288 stocks to the db\n",
      "    ticker priceCurrency ticker_currency\n",
      "419   CDD2           USD        CDD2-USD\n",
      "********************\n",
      "[*********************100%***********************]  1 of 1 completed\n"
     ]
    },
    {
     "name": "stderr",
     "output_type": "stream",
     "text": [
      "C:\\Users\\david\\anaconda3\\envs\\svmmvo\\lib\\site-packages\\pandas_datareader\\tiingo.py:234: FutureWarning: In a future version of pandas all arguments of concat except for the argument 'objs' will be keyword-only.\n",
      "  return pd.concat(dfs, self._concat_axis)\n"
     ]
    },
    {
     "name": "stdout",
     "output_type": "stream",
     "text": [
      "Added 289 stocks to the db\n",
      "     ticker priceCurrency ticker_currency\n",
      "1143   CDNS           USD        CDNS-USD\n",
      "********************\n",
      "[*********************100%***********************]  1 of 1 completed\n",
      "\n",
      "1 Failed download:\n",
      "- CDP2: No timezone found, symbol may be delisted\n",
      "yahoo failed... len of df:  0\n",
      "tiingo failed... len of df:  0\n",
      "Added 290 stocks to the db\n",
      "    ticker priceCurrency ticker_currency\n",
      "730   CDP2           USD        CDP2-USD\n",
      "********************\n",
      "[*********************100%***********************]  1 of 1 completed\n",
      "\n",
      "1 Failed download:\n",
      "- CDR2: No timezone found, symbol may be delisted\n",
      "yahoo failed... len of df:  0\n",
      "tiingo failed... len of df:  0\n",
      "Added 291 stocks to the db\n",
      "    ticker priceCurrency ticker_currency\n",
      "610   CDR2           USD        CDR2-USD\n",
      "********************\n",
      "[*********************100%***********************]  1 of 1 completed\n",
      "\n",
      "1 Failed download:\n",
      "- CDR3: No timezone found, symbol may be delisted\n",
      "yahoo failed... len of df:  0\n",
      "tiingo failed... len of df:  0\n",
      "Added 292 stocks to the db\n",
      "    ticker priceCurrency ticker_currency\n",
      "819   CDR3           USD        CDR3-USD\n",
      "********************\n",
      "[*********************100%***********************]  1 of 1 completed\n"
     ]
    },
    {
     "name": "stderr",
     "output_type": "stream",
     "text": [
      "C:\\Users\\david\\anaconda3\\envs\\svmmvo\\lib\\site-packages\\pandas_datareader\\tiingo.py:234: FutureWarning: In a future version of pandas all arguments of concat except for the argument 'objs' will be keyword-only.\n",
      "  return pd.concat(dfs, self._concat_axis)\n"
     ]
    },
    {
     "name": "stdout",
     "output_type": "stream",
     "text": [
      "Added 293 stocks to the db\n",
      "     ticker priceCurrency ticker_currency\n",
      "1144    CDW           USD         CDW-USD\n",
      "********************\n",
      "[*********************100%***********************]  1 of 1 completed\n"
     ]
    },
    {
     "name": "stderr",
     "output_type": "stream",
     "text": [
      "C:\\Users\\david\\anaconda3\\envs\\svmmvo\\lib\\site-packages\\pandas_datareader\\tiingo.py:234: FutureWarning: In a future version of pandas all arguments of concat except for the argument 'objs' will be keyword-only.\n",
      "  return pd.concat(dfs, self._concat_axis)\n"
     ]
    },
    {
     "name": "stdout",
     "output_type": "stream",
     "text": [
      "Added 294 stocks to the db\n",
      "     ticker priceCurrency ticker_currency\n",
      "1145     CE           USD          CE-USD\n",
      "********************\n",
      "[*********************100%***********************]  1 of 1 completed\n",
      "\n",
      "1 Failed download:\n",
      "- CE2: No timezone found, symbol may be delisted\n",
      "yahoo failed... len of df:  0\n",
      "tiingo failed... len of df:  0\n",
      "Added 295 stocks to the db\n",
      "    ticker priceCurrency ticker_currency\n",
      "199    CE2           USD         CE2-USD\n",
      "********************\n",
      "[*********************100%***********************]  1 of 1 completed\n"
     ]
    },
    {
     "name": "stderr",
     "output_type": "stream",
     "text": [
      "C:\\Users\\david\\anaconda3\\envs\\svmmvo\\lib\\site-packages\\pandas_datareader\\tiingo.py:234: FutureWarning: In a future version of pandas all arguments of concat except for the argument 'objs' will be keyword-only.\n",
      "  return pd.concat(dfs, self._concat_axis)\n"
     ]
    },
    {
     "name": "stdout",
     "output_type": "stream",
     "text": [
      "Added 296 stocks to the db\n",
      "     ticker priceCurrency ticker_currency\n",
      "1146    CEG           USD         CEG-USD\n",
      "********************\n",
      "[*********************100%***********************]  1 of 1 completed\n",
      "\n",
      "1 Failed download:\n",
      "- CEG2: No timezone found, symbol may be delisted\n",
      "yahoo failed... len of df:  0\n",
      "tiingo failed... len of df:  0\n",
      "Added 297 stocks to the db\n",
      "    ticker priceCurrency ticker_currency\n",
      "151   CEG2           USD        CEG2-USD\n",
      "********************\n",
      "[*********************100%***********************]  1 of 1 completed\n",
      "\n",
      "1 Failed download:\n",
      "- CELG1: No timezone found, symbol may be delisted\n",
      "yahoo failed... len of df:  0\n",
      "tiingo failed... len of df:  0\n",
      "Added 298 stocks to the db\n",
      "   ticker priceCurrency ticker_currency\n",
      "18  CELG1           USD       CELG1-USD\n",
      "********************\n",
      "[*********************100%***********************]  1 of 1 completed\n",
      "\n",
      "1 Failed download:\n",
      "- CEN1: No timezone found, symbol may be delisted\n",
      "yahoo failed... len of df:  0\n",
      "tiingo failed... len of df:  0\n",
      "Added 299 stocks to the db\n",
      "     ticker priceCurrency ticker_currency\n",
      "1147   CEN1           USD        CEN1-USD\n",
      "********************\n",
      "[*********************100%***********************]  1 of 1 completed\n",
      "\n",
      "1 Failed download:\n",
      "- CEPH1: No timezone found, symbol may be delisted\n",
      "yahoo failed... len of df:  0\n",
      "tiingo failed... len of df:  0\n",
      "Added 300 stocks to the db\n",
      "    ticker priceCurrency ticker_currency\n",
      "116  CEPH1           USD       CEPH1-USD\n",
      "********************\n",
      "[*********************100%***********************]  1 of 1 completed\n",
      "\n",
      "1 Failed download:\n",
      "- CERN2: No timezone found, symbol may be delisted\n",
      "yahoo failed... len of df:  0\n",
      "tiingo failed... len of df:  0\n",
      "Added 301 stocks to the db\n",
      "  ticker priceCurrency ticker_currency\n",
      "3  CERN2           USD       CERN2-USD\n",
      "********************\n",
      "[*********************100%***********************]  1 of 1 completed\n"
     ]
    },
    {
     "name": "stderr",
     "output_type": "stream",
     "text": [
      "C:\\Users\\david\\anaconda3\\envs\\svmmvo\\lib\\site-packages\\pandas_datareader\\tiingo.py:234: FutureWarning: In a future version of pandas all arguments of concat except for the argument 'objs' will be keyword-only.\n",
      "  return pd.concat(dfs, self._concat_axis)\n"
     ]
    },
    {
     "name": "stdout",
     "output_type": "stream",
     "text": [
      "Added 302 stocks to the db\n",
      "     ticker priceCurrency ticker_currency\n",
      "1148     CF           USD          CF-USD\n",
      "********************\n",
      "[*********************100%***********************]  1 of 1 completed\n",
      "\n",
      "1 Failed download:\n",
      "- CF2: No timezone found, symbol may be delisted\n",
      "yahoo failed... len of df:  0\n",
      "tiingo failed... len of df:  0\n",
      "Added 303 stocks to the db\n",
      "     ticker priceCurrency ticker_currency\n",
      "1149    CF2           USD         CF2-USD\n",
      "********************\n",
      "[*********************100%***********************]  1 of 1 completed\n",
      "\n",
      "1 Failed download:\n",
      "- CFC1: No timezone found, symbol may be delisted\n",
      "yahoo failed... len of df:  0\n",
      "tiingo failed... len of df:  0\n",
      "Added 304 stocks to the db\n",
      "   ticker priceCurrency ticker_currency\n",
      "93   CFC1           USD        CFC1-USD\n",
      "********************\n",
      "[*********************100%***********************]  1 of 1 completed\n"
     ]
    },
    {
     "name": "stderr",
     "output_type": "stream",
     "text": [
      "C:\\Users\\david\\anaconda3\\envs\\svmmvo\\lib\\site-packages\\pandas_datareader\\tiingo.py:234: FutureWarning: In a future version of pandas all arguments of concat except for the argument 'objs' will be keyword-only.\n",
      "  return pd.concat(dfs, self._concat_axis)\n"
     ]
    },
    {
     "name": "stdout",
     "output_type": "stream",
     "text": [
      "Added 305 stocks to the db\n",
      "     ticker priceCurrency ticker_currency\n",
      "1150    CFG           USD         CFG-USD\n",
      "********************\n",
      "[*********************100%***********************]  1 of 1 completed\n",
      "\n",
      "1 Failed download:\n",
      "- CFIPQ1: No timezone found, symbol may be delisted\n",
      "yahoo failed... len of df:  0\n",
      "tiingo failed... len of df:  0\n",
      "Added 306 stocks to the db\n",
      "     ticker priceCurrency ticker_currency\n",
      "682  CFIPQ1           USD      CFIPQ1-USD\n",
      "********************\n",
      "[*********************100%***********************]  1 of 1 completed\n",
      "\n",
      "1 Failed download:\n",
      "- CFL1: No timezone found, symbol may be delisted\n",
      "yahoo failed... len of df:  0\n",
      "tiingo failed... len of df:  0\n",
      "Added 307 stocks to the db\n",
      "     ticker priceCurrency ticker_currency\n",
      "1151   CFL1           USD        CFL1-USD\n",
      "********************\n",
      "[*********************100%***********************]  1 of 1 completed\n",
      "\n",
      "1 Failed download:\n",
      "- CFS2: No timezone found, symbol may be delisted\n",
      "yahoo failed... len of df:  0\n",
      "tiingo failed... len of df:  0\n",
      "Added 308 stocks to the db\n",
      "    ticker priceCurrency ticker_currency\n",
      "374   CFS2           USD        CFS2-USD\n",
      "********************\n",
      "[*********************100%***********************]  1 of 1 completed\n",
      "\n",
      "1 Failed download:\n",
      "- CG1: No timezone found, symbol may be delisted\n",
      "yahoo failed... len of df:  0\n",
      "tiingo failed... len of df:  0\n",
      "Added 309 stocks to the db\n",
      "     ticker priceCurrency ticker_currency\n",
      "1152    CG1           USD         CG1-USD\n",
      "********************\n",
      "[*********************100%***********************]  1 of 1 completed\n",
      "\n",
      "1 Failed download:\n",
      "- CGG1: No timezone found, symbol may be delisted\n",
      "yahoo failed... len of df:  0\n",
      "tiingo failed... len of df:  0\n",
      "Added 310 stocks to the db\n",
      "    ticker priceCurrency ticker_currency\n",
      "421   CGG1           USD        CGG1-USD\n",
      "********************\n",
      "[*********************100%***********************]  1 of 1 completed\n",
      "\n",
      "1 Failed download:\n",
      "- CGH1: No timezone found, symbol may be delisted\n",
      "yahoo failed... len of df:  0\n",
      "tiingo failed... len of df:  0\n",
      "Added 311 stocks to the db\n",
      "    ticker priceCurrency ticker_currency\n",
      "800   CGH1           USD        CGH1-USD\n",
      "********************\n",
      "[*********************100%***********************]  1 of 1 completed\n",
      "\n",
      "1 Failed download:\n",
      "- CGM1: No timezone found, symbol may be delisted\n",
      "yahoo failed... len of df:  0\n",
      "tiingo failed... len of df:  0\n",
      "Added 312 stocks to the db\n",
      "    ticker priceCurrency ticker_currency\n",
      "978   CGM1           USD        CGM1-USD\n",
      "********************\n",
      "[*********************100%***********************]  1 of 1 completed\n",
      "\n",
      "1 Failed download:\n",
      "- CGP1: No timezone found, symbol may be delisted\n",
      "yahoo failed... len of df:  0\n",
      "tiingo failed... len of df:  0\n",
      "Added 313 stocks to the db\n",
      "    ticker priceCurrency ticker_currency\n",
      "222   CGP1           USD        CGP1-USD\n",
      "********************\n",
      "[*********************100%***********************]  1 of 1 completed\n",
      "\n",
      "1 Failed download:\n",
      "- CGW2: No timezone found, symbol may be delisted\n",
      "yahoo failed... len of df:  0\n",
      "tiingo failed... len of df:  0\n",
      "Added 314 stocks to the db\n",
      "    ticker priceCurrency ticker_currency\n",
      "594   CGW2           USD        CGW2-USD\n",
      "********************\n",
      "[*********************100%***********************]  1 of 1 completed\n",
      "\n",
      "1 Failed download:\n",
      "- CH1: No timezone found, symbol may be delisted\n",
      "yahoo failed... len of df:  0\n",
      "tiingo failed... len of df:  0\n",
      "Added 315 stocks to the db\n",
      "    ticker priceCurrency ticker_currency\n",
      "585    CH1           USD         CH1-USD\n",
      "********************\n",
      "[*********************100%***********************]  1 of 1 completed\n",
      "\n",
      "1 Failed download:\n",
      "- CHA1: No timezone found, symbol may be delisted\n",
      "yahoo failed... len of df:  0\n",
      "tiingo failed... len of df:  0\n",
      "Added 316 stocks to the db\n",
      "     ticker priceCurrency ticker_currency\n",
      "1153   CHA1           USD        CHA1-USD\n",
      "********************\n",
      "[*********************100%***********************]  1 of 1 completed\n"
     ]
    },
    {
     "name": "stderr",
     "output_type": "stream",
     "text": [
      "C:\\Users\\david\\anaconda3\\envs\\svmmvo\\lib\\site-packages\\pandas_datareader\\tiingo.py:234: FutureWarning: In a future version of pandas all arguments of concat except for the argument 'objs' will be keyword-only.\n",
      "  return pd.concat(dfs, self._concat_axis)\n"
     ]
    },
    {
     "name": "stdout",
     "output_type": "stream",
     "text": [
      "Added 317 stocks to the db\n",
      "     ticker priceCurrency ticker_currency\n",
      "1154    CHD           USD         CHD-USD\n",
      "********************\n",
      "[*********************100%***********************]  1 of 1 completed\n",
      "\n",
      "1 Failed download:\n",
      "- CHG1: No timezone found, symbol may be delisted\n",
      "yahoo failed... len of df:  0\n",
      "tiingo failed... len of df:  0\n",
      "Added 318 stocks to the db\n",
      "     ticker priceCurrency ticker_currency\n",
      "1155   CHG1           USD        CHG1-USD\n",
      "********************\n",
      "[*********************100%***********************]  1 of 1 completed\n",
      "\n",
      "1 Failed download:\n",
      "- CHI1: No timezone found, symbol may be delisted\n",
      "yahoo failed... len of df:  0\n",
      "tiingo failed... len of df:  0\n",
      "Added 319 stocks to the db\n",
      "    ticker priceCurrency ticker_currency\n",
      "832   CHI1           USD        CHI1-USD\n",
      "********************\n",
      "[*********************100%***********************]  1 of 1 completed\n",
      "\n",
      "1 Failed download:\n",
      "- CHIR1: No timezone found, symbol may be delisted\n",
      "yahoo failed... len of df:  0\n",
      "tiingo failed... len of df:  0\n",
      "Added 320 stocks to the db\n",
      "     ticker priceCurrency ticker_currency\n",
      "1156  CHIR1           USD       CHIR1-USD\n",
      "********************\n",
      "[*********************100%***********************]  1 of 1 completed\n",
      "\n",
      "1 Failed download:\n",
      "- CHKAQ1: No timezone found, symbol may be delisted\n",
      "yahoo failed... len of df:  0\n",
      "tiingo failed... len of df:  0\n",
      "Added 321 stocks to the db\n",
      "     ticker priceCurrency ticker_currency\n",
      "355  CHKAQ1           USD      CHKAQ1-USD\n",
      "********************\n",
      "[*********************100%***********************]  1 of 1 completed\n",
      "\n",
      "1 Failed download:\n",
      "- CHM1: No timezone found, symbol may be delisted\n",
      "yahoo failed... len of df:  0\n",
      "tiingo failed... len of df:  0\n",
      "Added 322 stocks to the db\n",
      "     ticker priceCurrency ticker_currency\n",
      "1157   CHM1           USD        CHM1-USD\n",
      "********************\n",
      "[*********************100%***********************]  1 of 1 completed\n",
      "\n",
      "1 Failed download:\n",
      "- CHRS1: No timezone found, symbol may be delisted\n",
      "yahoo failed... len of df:  0\n",
      "tiingo failed... len of df:  0\n",
      "Added 323 stocks to the db\n",
      "     ticker priceCurrency ticker_currency\n",
      "1158  CHRS1           USD       CHRS1-USD\n",
      "********************\n",
      "[*********************100%***********************]  1 of 1 completed\n"
     ]
    },
    {
     "name": "stderr",
     "output_type": "stream",
     "text": [
      "C:\\Users\\david\\anaconda3\\envs\\svmmvo\\lib\\site-packages\\pandas_datareader\\tiingo.py:234: FutureWarning: In a future version of pandas all arguments of concat except for the argument 'objs' will be keyword-only.\n",
      "  return pd.concat(dfs, self._concat_axis)\n"
     ]
    },
    {
     "name": "stdout",
     "output_type": "stream",
     "text": [
      "Added 324 stocks to the db\n",
      "     ticker priceCurrency ticker_currency\n",
      "1159   CHRW           USD        CHRW-USD\n",
      "********************\n",
      "[*********************100%***********************]  1 of 1 completed\n"
     ]
    },
    {
     "name": "stderr",
     "output_type": "stream",
     "text": [
      "C:\\Users\\david\\anaconda3\\envs\\svmmvo\\lib\\site-packages\\pandas_datareader\\tiingo.py:234: FutureWarning: In a future version of pandas all arguments of concat except for the argument 'objs' will be keyword-only.\n",
      "  return pd.concat(dfs, self._concat_axis)\n"
     ]
    },
    {
     "name": "stdout",
     "output_type": "stream",
     "text": [
      "Added 325 stocks to the db\n",
      "     ticker priceCurrency ticker_currency\n",
      "1160   CHTR           USD        CHTR-USD\n",
      "********************\n",
      "[*********************100%***********************]  1 of 1 completed\n",
      "\n",
      "1 Failed download:\n",
      "- CHU1: No timezone found, symbol may be delisted\n",
      "yahoo failed... len of df:  0\n",
      "tiingo failed... len of df:  0\n",
      "Added 326 stocks to the db\n",
      "    ticker priceCurrency ticker_currency\n",
      "762   CHU1           USD        CHU1-USD\n",
      "********************\n",
      "[*********************100%***********************]  1 of 1 completed\n"
     ]
    },
    {
     "name": "stderr",
     "output_type": "stream",
     "text": [
      "C:\\Users\\david\\anaconda3\\envs\\svmmvo\\lib\\site-packages\\pandas_datareader\\tiingo.py:234: FutureWarning: In a future version of pandas all arguments of concat except for the argument 'objs' will be keyword-only.\n",
      "  return pd.concat(dfs, self._concat_axis)\n"
     ]
    },
    {
     "name": "stdout",
     "output_type": "stream",
     "text": [
      "Added 327 stocks to the db\n",
      "     ticker priceCurrency ticker_currency\n",
      "1161     CI           USD          CI-USD\n",
      "********************\n",
      "[*********************100%***********************]  1 of 1 completed\n",
      "\n",
      "1 Failed download:\n",
      "- CI1: No timezone found, symbol may be delisted\n",
      "yahoo failed... len of df:  0\n",
      "tiingo failed... len of df:  0\n",
      "Added 328 stocks to the db\n",
      "     ticker priceCurrency ticker_currency\n",
      "1162    CI1           USD         CI1-USD\n",
      "********************\n",
      "[*********************100%***********************]  1 of 1 completed\n",
      "\n",
      "1 Failed download:\n",
      "- CIC1: No timezone found, symbol may be delisted\n",
      "yahoo failed... len of df:  0\n",
      "tiingo failed... len of df:  0\n",
      "Added 329 stocks to the db\n",
      "    ticker priceCurrency ticker_currency\n",
      "569   CIC1           USD        CIC1-USD\n",
      "********************\n",
      "[*********************100%***********************]  1 of 1 completed\n",
      "\n",
      "1 Failed download:\n",
      "- CID2: No timezone found, symbol may be delisted\n",
      "yahoo failed... len of df:  0\n",
      "tiingo failed... len of df:  0\n",
      "Added 330 stocks to the db\n",
      "    ticker priceCurrency ticker_currency\n",
      "952   CID2           USD        CID2-USD\n",
      "********************\n",
      "[*********************100%***********************]  1 of 1 completed\n"
     ]
    },
    {
     "name": "stderr",
     "output_type": "stream",
     "text": [
      "C:\\Users\\david\\anaconda3\\envs\\svmmvo\\lib\\site-packages\\pandas_datareader\\tiingo.py:234: FutureWarning: In a future version of pandas all arguments of concat except for the argument 'objs' will be keyword-only.\n",
      "  return pd.concat(dfs, self._concat_axis)\n"
     ]
    },
    {
     "name": "stdout",
     "output_type": "stream",
     "text": [
      "Added 331 stocks to the db\n",
      "     ticker priceCurrency ticker_currency\n",
      "1163   CIEN           USD        CIEN-USD\n",
      "********************\n",
      "[*********************100%***********************]  1 of 1 completed\n",
      "\n",
      "1 Failed download:\n",
      "- CIN1: No timezone found, symbol may be delisted\n",
      "yahoo failed... len of df:  0\n",
      "tiingo failed... len of df:  0\n",
      "Added 332 stocks to the db\n",
      "    ticker priceCurrency ticker_currency\n",
      "161   CIN1           USD        CIN1-USD\n",
      "********************\n",
      "[*********************100%***********************]  1 of 1 completed\n"
     ]
    },
    {
     "name": "stderr",
     "output_type": "stream",
     "text": [
      "C:\\Users\\david\\anaconda3\\envs\\svmmvo\\lib\\site-packages\\pandas_datareader\\tiingo.py:234: FutureWarning: In a future version of pandas all arguments of concat except for the argument 'objs' will be keyword-only.\n",
      "  return pd.concat(dfs, self._concat_axis)\n"
     ]
    },
    {
     "name": "stdout",
     "output_type": "stream",
     "text": [
      "Added 333 stocks to the db\n",
      "     ticker priceCurrency ticker_currency\n",
      "1164   CINF           USD        CINF-USD\n",
      "********************\n",
      "[*********************100%***********************]  1 of 1 completed\n",
      "\n",
      "1 Failed download:\n",
      "- CIT1: No timezone found, symbol may be delisted\n",
      "yahoo failed... len of df:  0\n",
      "tiingo failed... len of df:  0\n",
      "Added 334 stocks to the db\n",
      "    ticker priceCurrency ticker_currency\n",
      "516   CIT1           USD        CIT1-USD\n",
      "********************\n",
      "[*********************100%***********************]  1 of 1 completed\n",
      "\n",
      "1 Failed download:\n",
      "- CIT2: No timezone found, symbol may be delisted\n",
      "yahoo failed... len of df:  0\n",
      "tiingo failed... len of df:  0\n",
      "Added 335 stocks to the db\n",
      "    ticker priceCurrency ticker_currency\n",
      "322   CIT2           USD        CIT2-USD\n",
      "********************\n",
      "[*********************100%***********************]  1 of 1 completed\n",
      "\n",
      "1 Failed download:\n",
      "- CITA2: No timezone found, symbol may be delisted\n",
      "yahoo failed... len of df:  0\n",
      "tiingo failed... len of df:  0\n",
      "Added 336 stocks to the db\n",
      "    ticker priceCurrency ticker_currency\n",
      "431  CITA2           USD       CITA2-USD\n",
      "********************\n",
      "[*********************100%***********************]  1 of 1 completed\n",
      "\n",
      "1 Failed download:\n",
      "- CITGQ1: No timezone found, symbol may be delisted\n",
      "yahoo failed... len of df:  0\n",
      "tiingo failed... len of df:  0\n",
      "Added 337 stocks to the db\n",
      "     ticker priceCurrency ticker_currency\n",
      "158  CITGQ1           USD      CITGQ1-USD\n",
      "********************\n",
      "[*********************100%***********************]  1 of 1 completed\n",
      "\n",
      "1 Failed download:\n",
      "- CK1: No timezone found, symbol may be delisted\n",
      "yahoo failed... len of df:  0\n",
      "tiingo failed... len of df:  0\n",
      "Added 338 stocks to the db\n",
      "    ticker priceCurrency ticker_currency\n",
      "622    CK1           USD         CK1-USD\n",
      "********************\n",
      "[*********************100%***********************]  1 of 1 completed\n",
      "\n",
      "1 Failed download:\n",
      "- CKL1: No timezone found, symbol may be delisted\n",
      "yahoo failed... len of df:  0\n",
      "tiingo failed... len of df:  0\n",
      "Added 339 stocks to the db\n",
      "    ticker priceCurrency ticker_currency\n",
      "427   CKL1           USD        CKL1-USD\n",
      "********************\n",
      "[*********************100%***********************]  1 of 1 completed\n"
     ]
    },
    {
     "name": "stderr",
     "output_type": "stream",
     "text": [
      "C:\\Users\\david\\anaconda3\\envs\\svmmvo\\lib\\site-packages\\pandas_datareader\\tiingo.py:234: FutureWarning: In a future version of pandas all arguments of concat except for the argument 'objs' will be keyword-only.\n",
      "  return pd.concat(dfs, self._concat_axis)\n"
     ]
    },
    {
     "name": "stdout",
     "output_type": "stream",
     "text": [
      "Added 340 stocks to the db\n",
      "     ticker priceCurrency ticker_currency\n",
      "1165     CL           USD          CL-USD\n",
      "********************\n",
      "[*********************100%***********************]  1 of 1 completed\n"
     ]
    },
    {
     "name": "stderr",
     "output_type": "stream",
     "text": [
      "C:\\Users\\david\\anaconda3\\envs\\svmmvo\\lib\\site-packages\\pandas_datareader\\tiingo.py:234: FutureWarning: In a future version of pandas all arguments of concat except for the argument 'objs' will be keyword-only.\n",
      "  return pd.concat(dfs, self._concat_axis)\n"
     ]
    },
    {
     "name": "stdout",
     "output_type": "stream",
     "text": [
      "Added 341 stocks to the db\n",
      "     ticker priceCurrency ticker_currency\n",
      "1166    CLF           USD         CLF-USD\n",
      "********************\n",
      "[*********************100%***********************]  1 of 1 completed\n",
      "\n",
      "1 Failed download:\n",
      "- CLL2: No timezone found, symbol may be delisted\n",
      "yahoo failed... len of df:  0\n",
      "tiingo failed... len of df:  0\n",
      "Added 342 stocks to the db\n",
      "    ticker priceCurrency ticker_currency\n",
      "483   CLL2           USD        CLL2-USD\n",
      "********************\n",
      "[*********************100%***********************]  1 of 1 completed\n",
      "\n",
      "1 Failed download:\n",
      "- CLN1: No timezone found, symbol may be delisted\n",
      "yahoo failed... len of df:  0\n",
      "tiingo failed... len of df:  0\n",
      "Added 343 stocks to the db\n",
      "    ticker priceCurrency ticker_currency\n",
      "524   CLN1           USD        CLN1-USD\n",
      "********************\n",
      "[*********************100%***********************]  1 of 1 completed\n",
      "\n",
      "1 Failed download:\n",
      "- CLO1: No timezone found, symbol may be delisted\n",
      "yahoo failed... len of df:  0\n",
      "tiingo failed... len of df:  0\n",
      "Added 344 stocks to the db\n",
      "    ticker priceCurrency ticker_currency\n",
      "616   CLO1           USD        CLO1-USD\n",
      "********************\n",
      "[*********************100%***********************]  1 of 1 completed\n",
      "\n",
      "1 Failed download:\n",
      "- CLO2: No timezone found, symbol may be delisted\n",
      "yahoo failed... len of df:  0\n",
      "tiingo failed... len of df:  0\n",
      "Added 345 stocks to the db\n",
      "    ticker priceCurrency ticker_currency\n",
      "886   CLO2           USD        CLO2-USD\n",
      "********************\n",
      "[*********************100%***********************]  1 of 1 completed\n",
      "\n",
      "1 Failed download:\n",
      "- CLU2: No timezone found, symbol may be delisted\n",
      "yahoo failed... len of df:  0\n",
      "tiingo failed... len of df:  0\n",
      "Added 346 stocks to the db\n",
      "    ticker priceCurrency ticker_currency\n",
      "574   CLU2           USD        CLU2-USD\n",
      "********************\n",
      "[*********************100%***********************]  1 of 1 completed\n"
     ]
    },
    {
     "name": "stderr",
     "output_type": "stream",
     "text": [
      "C:\\Users\\david\\anaconda3\\envs\\svmmvo\\lib\\site-packages\\pandas_datareader\\tiingo.py:234: FutureWarning: In a future version of pandas all arguments of concat except for the argument 'objs' will be keyword-only.\n",
      "  return pd.concat(dfs, self._concat_axis)\n"
     ]
    },
    {
     "name": "stdout",
     "output_type": "stream",
     "text": [
      "Added 347 stocks to the db\n",
      "     ticker priceCurrency ticker_currency\n",
      "1167    CLX           USD         CLX-USD\n",
      "********************\n",
      "[*********************100%***********************]  1 of 1 completed\n"
     ]
    },
    {
     "name": "stderr",
     "output_type": "stream",
     "text": [
      "C:\\Users\\david\\anaconda3\\envs\\svmmvo\\lib\\site-packages\\pandas_datareader\\tiingo.py:234: FutureWarning: In a future version of pandas all arguments of concat except for the argument 'objs' will be keyword-only.\n",
      "  return pd.concat(dfs, self._concat_axis)\n"
     ]
    },
    {
     "name": "stdout",
     "output_type": "stream",
     "text": [
      "Added 348 stocks to the db\n",
      "     ticker priceCurrency ticker_currency\n",
      "1168    CMA           USD         CMA-USD\n",
      "********************\n",
      "[*********************100%***********************]  1 of 1 completed\n",
      "\n",
      "1 Failed download:\n",
      "- CMB1: No timezone found, symbol may be delisted\n",
      "yahoo failed... len of df:  0\n",
      "tiingo failed... len of df:  0\n",
      "Added 349 stocks to the db\n",
      "    ticker priceCurrency ticker_currency\n",
      "186   CMB1           USD        CMB1-USD\n",
      "********************\n",
      "[*********************100%***********************]  1 of 1 completed\n"
     ]
    },
    {
     "name": "stderr",
     "output_type": "stream",
     "text": [
      "C:\\Users\\david\\anaconda3\\envs\\svmmvo\\lib\\site-packages\\pandas_datareader\\tiingo.py:234: FutureWarning: In a future version of pandas all arguments of concat except for the argument 'objs' will be keyword-only.\n",
      "  return pd.concat(dfs, self._concat_axis)\n"
     ]
    },
    {
     "name": "stdout",
     "output_type": "stream",
     "text": [
      "Added 350 stocks to the db\n",
      "     ticker priceCurrency ticker_currency\n",
      "1169  CMCSA           USD       CMCSA-USD\n",
      "********************\n",
      "[*********************100%***********************]  1 of 1 completed\n",
      "\n",
      "1 Failed download:\n",
      "- CMCSK1: No timezone found, symbol may be delisted\n",
      "yahoo failed... len of df:  0\n",
      "tiingo failed... len of df:  0\n",
      "Added 351 stocks to the db\n",
      "     ticker priceCurrency ticker_currency\n",
      "312  CMCSK1           USD      CMCSK1-USD\n",
      "********************\n",
      "[*********************100%***********************]  1 of 1 completed\n",
      "\n",
      "1 Failed download:\n",
      "- CMCSK2: No timezone found, symbol may be delisted\n",
      "yahoo failed... len of df:  0\n",
      "tiingo failed... len of df:  0\n",
      "Added 352 stocks to the db\n",
      "    ticker priceCurrency ticker_currency\n",
      "70  CMCSK2           USD      CMCSK2-USD\n",
      "********************\n",
      "[*********************100%***********************]  1 of 1 completed\n"
     ]
    },
    {
     "name": "stderr",
     "output_type": "stream",
     "text": [
      "C:\\Users\\david\\anaconda3\\envs\\svmmvo\\lib\\site-packages\\pandas_datareader\\tiingo.py:234: FutureWarning: In a future version of pandas all arguments of concat except for the argument 'objs' will be keyword-only.\n",
      "  return pd.concat(dfs, self._concat_axis)\n"
     ]
    },
    {
     "name": "stdout",
     "output_type": "stream",
     "text": [
      "Added 353 stocks to the db\n",
      "     ticker priceCurrency ticker_currency\n",
      "1170    CME           USD         CME-USD\n",
      "********************\n",
      "[*********************100%***********************]  1 of 1 completed\n"
     ]
    },
    {
     "name": "stderr",
     "output_type": "stream",
     "text": [
      "C:\\Users\\david\\anaconda3\\envs\\svmmvo\\lib\\site-packages\\pandas_datareader\\tiingo.py:234: FutureWarning: In a future version of pandas all arguments of concat except for the argument 'objs' will be keyword-only.\n",
      "  return pd.concat(dfs, self._concat_axis)\n"
     ]
    },
    {
     "name": "stdout",
     "output_type": "stream",
     "text": [
      "Added 354 stocks to the db\n",
      "     ticker priceCurrency ticker_currency\n",
      "1171    CMG           USD         CMG-USD\n",
      "********************\n",
      "[*********************100%***********************]  1 of 1 completed\n"
     ]
    },
    {
     "name": "stderr",
     "output_type": "stream",
     "text": [
      "C:\\Users\\david\\anaconda3\\envs\\svmmvo\\lib\\site-packages\\pandas_datareader\\tiingo.py:234: FutureWarning: In a future version of pandas all arguments of concat except for the argument 'objs' will be keyword-only.\n",
      "  return pd.concat(dfs, self._concat_axis)\n"
     ]
    },
    {
     "name": "stdout",
     "output_type": "stream",
     "text": [
      "Added 355 stocks to the db\n",
      "     ticker priceCurrency ticker_currency\n",
      "1172    CMI           USD         CMI-USD\n",
      "********************\n",
      "[*********************100%***********************]  1 of 1 completed\n",
      "\n",
      "1 Failed download:\n",
      "- CMI3: No timezone found, symbol may be delisted\n",
      "yahoo failed... len of df:  0\n",
      "tiingo failed... len of df:  0\n",
      "Added 356 stocks to the db\n",
      "    ticker priceCurrency ticker_currency\n",
      "981   CMI3           USD        CMI3-USD\n",
      "********************\n",
      "[*********************100%***********************]  1 of 1 completed\n",
      "\n",
      "1 Failed download:\n",
      "- CMK1: No timezone found, symbol may be delisted\n",
      "yahoo failed... len of df:  0\n",
      "tiingo failed... len of df:  0\n",
      "Added 357 stocks to the db\n",
      "    ticker priceCurrency ticker_currency\n",
      "502   CMK1           USD        CMK1-USD\n",
      "********************\n",
      "[*********************100%***********************]  1 of 1 completed\n",
      "\n",
      "1 Failed download:\n",
      "- CMP1: No timezone found, symbol may be delisted\n",
      "yahoo failed... len of df:  0\n",
      "tiingo failed... len of df:  0\n",
      "Added 358 stocks to the db\n",
      "     ticker priceCurrency ticker_currency\n",
      "1173   CMP1           USD        CMP1-USD\n",
      "********************\n",
      "[*********************100%***********************]  1 of 1 completed\n"
     ]
    },
    {
     "name": "stderr",
     "output_type": "stream",
     "text": [
      "C:\\Users\\david\\anaconda3\\envs\\svmmvo\\lib\\site-packages\\pandas_datareader\\tiingo.py:234: FutureWarning: In a future version of pandas all arguments of concat except for the argument 'objs' will be keyword-only.\n",
      "  return pd.concat(dfs, self._concat_axis)\n"
     ]
    },
    {
     "name": "stdout",
     "output_type": "stream",
     "text": [
      "Added 359 stocks to the db\n",
      "     ticker priceCurrency ticker_currency\n",
      "1174    CMS           USD         CMS-USD\n",
      "********************\n",
      "[*********************100%***********************]  1 of 1 completed\n",
      "\n",
      "1 Failed download:\n",
      "- CMVT1: No timezone found, symbol may be delisted\n",
      "yahoo failed... len of df:  0\n",
      "tiingo failed... len of df:  0\n",
      "Added 360 stocks to the db\n",
      "    ticker priceCurrency ticker_currency\n",
      "108  CMVT1           USD       CMVT1-USD\n",
      "********************\n",
      "[*********************100%***********************]  1 of 1 completed\n",
      "\n",
      "1 Failed download:\n",
      "- CMX1: No timezone found, symbol may be delisted\n",
      "yahoo failed... len of df:  0\n",
      "tiingo failed... len of df:  0\n",
      "Added 361 stocks to the db\n",
      "    ticker priceCurrency ticker_currency\n",
      "212   CMX1           USD        CMX1-USD\n",
      "********************\n",
      "[*********************100%***********************]  1 of 1 completed\n",
      "\n",
      "1 Failed download:\n",
      "- CN1: No timezone found, symbol may be delisted\n",
      "yahoo failed... len of df:  0\n",
      "tiingo failed... len of df:  0\n",
      "Added 362 stocks to the db\n",
      "    ticker priceCurrency ticker_currency\n",
      "479    CN1           USD         CN1-USD\n",
      "********************\n",
      "[*********************100%***********************]  1 of 1 completed\n"
     ]
    },
    {
     "name": "stderr",
     "output_type": "stream",
     "text": [
      "C:\\Users\\david\\anaconda3\\envs\\svmmvo\\lib\\site-packages\\pandas_datareader\\tiingo.py:234: FutureWarning: In a future version of pandas all arguments of concat except for the argument 'objs' will be keyword-only.\n",
      "  return pd.concat(dfs, self._concat_axis)\n"
     ]
    },
    {
     "name": "stdout",
     "output_type": "stream",
     "text": [
      "Added 363 stocks to the db\n",
      "     ticker priceCurrency ticker_currency\n",
      "1175    CNA           USD         CNA-USD\n",
      "********************\n",
      "[*********************100%***********************]  1 of 1 completed\n"
     ]
    },
    {
     "name": "stderr",
     "output_type": "stream",
     "text": [
      "C:\\Users\\david\\anaconda3\\envs\\svmmvo\\lib\\site-packages\\pandas_datareader\\tiingo.py:234: FutureWarning: In a future version of pandas all arguments of concat except for the argument 'objs' will be keyword-only.\n",
      "  return pd.concat(dfs, self._concat_axis)\n"
     ]
    },
    {
     "name": "stdout",
     "output_type": "stream",
     "text": [
      "Added 364 stocks to the db\n",
      "     ticker priceCurrency ticker_currency\n",
      "1176    CNC           USD         CNC-USD\n",
      "********************\n",
      "[*********************100%***********************]  1 of 1 completed\n",
      "\n",
      "1 Failed download:\n",
      "- CNCEQ1: No timezone found, symbol may be delisted\n",
      "yahoo failed... len of df:  0\n",
      "tiingo failed... len of df:  0\n",
      "Added 365 stocks to the db\n",
      "     ticker priceCurrency ticker_currency\n",
      "308  CNCEQ1           USD      CNCEQ1-USD\n",
      "********************\n",
      "[*********************100%***********************]  1 of 1 completed\n",
      "\n",
      "1 Failed download:\n",
      "- CNEO1: No timezone found, symbol may be delisted\n",
      "yahoo failed... len of df:  0\n",
      "tiingo failed... len of df:  0\n",
      "Added 366 stocks to the db\n",
      "    ticker priceCurrency ticker_currency\n",
      "807  CNEO1           USD       CNEO1-USD\n",
      "********************\n",
      "[*********************100%***********************]  1 of 1 completed\n",
      "\n",
      "1 Failed download:\n",
      "- CNG1: No timezone found, symbol may be delisted\n",
      "yahoo failed... len of df:  0\n",
      "tiingo failed... len of df:  0\n",
      "Added 367 stocks to the db\n",
      "    ticker priceCurrency ticker_currency\n",
      "245   CNG1           USD        CNG1-USD\n",
      "********************\n",
      "[*********************100%***********************]  1 of 1 completed\n",
      "\n",
      "1 Failed download:\n",
      "- CNN2: No timezone found, symbol may be delisted\n",
      "yahoo failed... len of df:  0\n",
      "tiingo failed... len of df:  0\n",
      "Added 368 stocks to the db\n",
      "    ticker priceCurrency ticker_currency\n",
      "409   CNN2           USD        CNN2-USD\n",
      "********************\n",
      "[*********************100%***********************]  1 of 1 completed\n"
     ]
    },
    {
     "name": "stderr",
     "output_type": "stream",
     "text": [
      "C:\\Users\\david\\anaconda3\\envs\\svmmvo\\lib\\site-packages\\pandas_datareader\\tiingo.py:234: FutureWarning: In a future version of pandas all arguments of concat except for the argument 'objs' will be keyword-only.\n",
      "  return pd.concat(dfs, self._concat_axis)\n"
     ]
    },
    {
     "name": "stdout",
     "output_type": "stream",
     "text": [
      "Added 369 stocks to the db\n",
      "     ticker priceCurrency ticker_currency\n",
      "1177    CNP           USD         CNP-USD\n",
      "********************\n",
      "[*********************100%***********************]  1 of 1 completed\n",
      "\n",
      "1 Failed download:\n",
      "- CNR2: No timezone found, symbol may be delisted\n",
      "yahoo failed... len of df:  0\n",
      "tiingo failed... len of df:  0\n",
      "Added 370 stocks to the db\n",
      "    ticker priceCurrency ticker_currency\n",
      "643   CNR2           USD        CNR2-USD\n",
      "********************\n",
      "[*********************100%***********************]  1 of 1 completed\n",
      "\n",
      "1 Failed download:\n",
      "- CNT2: No timezone found, symbol may be delisted\n",
      "yahoo failed... len of df:  0\n",
      "tiingo failed... len of df:  0\n",
      "Added 371 stocks to the db\n",
      "    ticker priceCurrency ticker_currency\n",
      "621   CNT2           USD        CNT2-USD\n",
      "********************\n",
      "[*********************100%***********************]  1 of 1 completed\n",
      "\n",
      "1 Failed download:\n",
      "- CNW1: No timezone found, symbol may be delisted\n",
      "yahoo failed... len of df:  0\n",
      "tiingo failed... len of df:  0\n",
      "Added 372 stocks to the db\n",
      "    ticker priceCurrency ticker_currency\n",
      "804   CNW1           USD        CNW1-USD\n",
      "********************\n",
      "[*********************100%***********************]  1 of 1 completed\n",
      "\n",
      "1 Failed download:\n",
      "- CNW3: No timezone found, symbol may be delisted\n",
      "yahoo failed... len of df:  0\n",
      "tiingo failed... len of df:  0\n",
      "Added 373 stocks to the db\n",
      "   ticker priceCurrency ticker_currency\n",
      "75   CNW3           USD        CNW3-USD\n",
      "********************\n",
      "[*********************100%***********************]  1 of 1 completed\n"
     ]
    },
    {
     "name": "stderr",
     "output_type": "stream",
     "text": [
      "C:\\Users\\david\\anaconda3\\envs\\svmmvo\\lib\\site-packages\\pandas_datareader\\tiingo.py:234: FutureWarning: In a future version of pandas all arguments of concat except for the argument 'objs' will be keyword-only.\n",
      "  return pd.concat(dfs, self._concat_axis)\n"
     ]
    },
    {
     "name": "stdout",
     "output_type": "stream",
     "text": [
      "Added 374 stocks to the db\n",
      "     ticker priceCurrency ticker_currency\n",
      "1178    CNX           USD         CNX-USD\n",
      "********************\n",
      "[*********************100%***********************]  1 of 1 completed\n",
      "\n",
      "1 Failed download:\n",
      "- CNXT1: No timezone found, symbol may be delisted\n",
      "yahoo failed... len of df:  0\n",
      "tiingo failed... len of df:  0\n",
      "Added 375 stocks to the db\n",
      "     ticker priceCurrency ticker_currency\n",
      "1179  CNXT1           USD       CNXT1-USD\n",
      "********************\n",
      "[*********************100%***********************]  1 of 1 completed\n",
      "\n",
      "1 Failed download:\n",
      "- CO1: No timezone found, symbol may be delisted\n",
      "yahoo failed... len of df:  0\n",
      "tiingo failed... len of df:  0\n",
      "Added 376 stocks to the db\n",
      "    ticker priceCurrency ticker_currency\n",
      "407    CO1           USD         CO1-USD\n",
      "********************\n",
      "[*********************100%***********************]  1 of 1 completed\n",
      "\n",
      "1 Failed download:\n",
      "- COC1A: No timezone found, symbol may be delisted\n",
      "yahoo failed... len of df:  0\n",
      "tiingo failed... len of df:  0\n",
      "Added 377 stocks to the db\n",
      "    ticker priceCurrency ticker_currency\n",
      "234  COC1A           USD       COC1A-USD\n",
      "********************\n",
      "[*********************100%***********************]  1 of 1 completed\n",
      "\n",
      "1 Failed download:\n",
      "- COE2: No timezone found, symbol may be delisted\n",
      "yahoo failed... len of df:  0\n",
      "tiingo failed... len of df:  0\n",
      "Added 378 stocks to the db\n",
      "    ticker priceCurrency ticker_currency\n",
      "686   COE2           USD        COE2-USD\n",
      "********************\n",
      "[*********************100%***********************]  1 of 1 completed\n"
     ]
    },
    {
     "name": "stderr",
     "output_type": "stream",
     "text": [
      "C:\\Users\\david\\anaconda3\\envs\\svmmvo\\lib\\site-packages\\pandas_datareader\\tiingo.py:234: FutureWarning: In a future version of pandas all arguments of concat except for the argument 'objs' will be keyword-only.\n",
      "  return pd.concat(dfs, self._concat_axis)\n"
     ]
    },
    {
     "name": "stdout",
     "output_type": "stream",
     "text": [
      "Added 379 stocks to the db\n",
      "     ticker priceCurrency ticker_currency\n",
      "1180    COF           USD         COF-USD\n",
      "********************\n",
      "[*********************100%***********************]  1 of 1 completed\n",
      "\n",
      "1 Failed download:\n",
      "- COG1: No timezone found, symbol may be delisted\n",
      "yahoo failed... len of df:  0\n",
      "tiingo failed... len of df:  0\n",
      "Added 380 stocks to the db\n",
      "    ticker priceCurrency ticker_currency\n",
      "674   COG1           USD        COG1-USD\n",
      "********************\n",
      "[*********************100%***********************]  1 of 1 completed\n",
      "\n",
      "1 Failed download:\n",
      "- COG2: No timezone found, symbol may be delisted\n",
      "yahoo failed... len of df:  0\n",
      "tiingo failed... len of df:  0\n",
      "Added 381 stocks to the db\n",
      "    ticker priceCurrency ticker_currency\n",
      "665   COG2           USD        COG2-USD\n",
      "********************\n",
      "[*********************100%***********************]  1 of 1 completed\n",
      "\n",
      "1 Failed download:\n",
      "- COL8: No timezone found, symbol may be delisted\n",
      "yahoo failed... len of df:  0\n",
      "tiingo failed... len of df:  0\n",
      "Added 382 stocks to the db\n",
      "   ticker priceCurrency ticker_currency\n",
      "38   COL8           USD        COL8-USD\n",
      "********************\n",
      "[*********************100%***********************]  1 of 1 completed\n",
      "\n",
      "1 Failed download:\n",
      "- COMS1: No timezone found, symbol may be delisted\n",
      "yahoo failed... len of df:  0\n",
      "tiingo failed... len of df:  0\n",
      "Added 383 stocks to the db\n",
      "     ticker priceCurrency ticker_currency\n",
      "1181  COMS1           USD       COMS1-USD\n",
      "********************\n",
      "[*********************100%***********************]  1 of 1 completed\n"
     ]
    },
    {
     "name": "stderr",
     "output_type": "stream",
     "text": [
      "C:\\Users\\david\\anaconda3\\envs\\svmmvo\\lib\\site-packages\\pandas_datareader\\tiingo.py:234: FutureWarning: In a future version of pandas all arguments of concat except for the argument 'objs' will be keyword-only.\n",
      "  return pd.concat(dfs, self._concat_axis)\n"
     ]
    },
    {
     "name": "stdout",
     "output_type": "stream",
     "text": [
      "Added 384 stocks to the db\n",
      "     ticker priceCurrency ticker_currency\n",
      "1182    COO           USD         COO-USD\n",
      "********************\n",
      "[*********************100%***********************]  1 of 1 completed\n"
     ]
    },
    {
     "name": "stderr",
     "output_type": "stream",
     "text": [
      "C:\\Users\\david\\anaconda3\\envs\\svmmvo\\lib\\site-packages\\pandas_datareader\\tiingo.py:234: FutureWarning: In a future version of pandas all arguments of concat except for the argument 'objs' will be keyword-only.\n",
      "  return pd.concat(dfs, self._concat_axis)\n"
     ]
    },
    {
     "name": "stdout",
     "output_type": "stream",
     "text": [
      "Added 385 stocks to the db\n",
      "     ticker priceCurrency ticker_currency\n",
      "1183    COP           USD         COP-USD\n",
      "********************\n",
      "[*********************100%***********************]  1 of 1 completed\n"
     ]
    },
    {
     "name": "stderr",
     "output_type": "stream",
     "text": [
      "C:\\Users\\david\\anaconda3\\envs\\svmmvo\\lib\\site-packages\\pandas_datareader\\tiingo.py:234: FutureWarning: In a future version of pandas all arguments of concat except for the argument 'objs' will be keyword-only.\n",
      "  return pd.concat(dfs, self._concat_axis)\n"
     ]
    },
    {
     "name": "stdout",
     "output_type": "stream",
     "text": [
      "Added 386 stocks to the db\n",
      "     ticker priceCurrency ticker_currency\n",
      "1184   COST           USD        COST-USD\n",
      "********************\n",
      "[*********************100%***********************]  1 of 1 completed\n",
      "\n",
      "1 Failed download:\n",
      "- COT1: No timezone found, symbol may be delisted\n",
      "yahoo failed... len of df:  0\n",
      "tiingo failed... len of df:  0\n",
      "Added 387 stocks to the db\n",
      "     ticker priceCurrency ticker_currency\n",
      "1185   COT1           USD        COT1-USD\n",
      "********************\n",
      "[*********************100%***********************]  1 of 1 completed\n"
     ]
    },
    {
     "name": "stderr",
     "output_type": "stream",
     "text": [
      "C:\\Users\\david\\anaconda3\\envs\\svmmvo\\lib\\site-packages\\pandas_datareader\\tiingo.py:234: FutureWarning: In a future version of pandas all arguments of concat except for the argument 'objs' will be keyword-only.\n",
      "  return pd.concat(dfs, self._concat_axis)\n"
     ]
    },
    {
     "name": "stdout",
     "output_type": "stream",
     "text": [
      "Added 388 stocks to the db\n",
      "     ticker priceCurrency ticker_currency\n",
      "1186   COTY           USD        COTY-USD\n",
      "********************\n",
      "[*********************100%***********************]  1 of 1 completed\n",
      "\n",
      "1 Failed download:\n",
      "- COV2: No timezone found, symbol may be delisted\n",
      "yahoo failed... len of df:  0\n",
      "tiingo failed... len of df:  0\n",
      "Added 389 stocks to the db\n",
      "   ticker priceCurrency ticker_currency\n",
      "40   COV2           USD        COV2-USD\n",
      "********************\n",
      "[*********************100%***********************]  1 of 1 completed\n",
      "\n",
      "1 Failed download:\n",
      "- COX2: No timezone found, symbol may be delisted\n",
      "yahoo failed... len of df:  0\n",
      "tiingo failed... len of df:  0\n",
      "Added 390 stocks to the db\n",
      "    ticker priceCurrency ticker_currency\n",
      "919   COX2           USD        COX2-USD\n",
      "********************\n",
      "[*********************100%***********************]  1 of 1 completed\n",
      "\n",
      "1 Failed download:\n",
      "- CP3: No timezone found, symbol may be delisted\n",
      "yahoo failed... len of df:  0\n",
      "tiingo failed... len of df:  0\n",
      "Added 391 stocks to the db\n",
      "    ticker priceCurrency ticker_currency\n",
      "577    CP3           USD         CP3-USD\n",
      "********************\n",
      "[*********************100%***********************]  1 of 1 completed\n"
     ]
    },
    {
     "name": "stderr",
     "output_type": "stream",
     "text": [
      "C:\\Users\\david\\anaconda3\\envs\\svmmvo\\lib\\site-packages\\pandas_datareader\\tiingo.py:234: FutureWarning: In a future version of pandas all arguments of concat except for the argument 'objs' will be keyword-only.\n",
      "  return pd.concat(dfs, self._concat_axis)\n"
     ]
    },
    {
     "name": "stdout",
     "output_type": "stream",
     "text": [
      "Added 392 stocks to the db\n",
      "     ticker priceCurrency ticker_currency\n",
      "1187    CPB           USD         CPB-USD\n",
      "********************\n",
      "[*********************100%***********************]  1 of 1 completed\n",
      "\n",
      "1 Failed download:\n",
      "- CPC2: No timezone found, symbol may be delisted\n",
      "yahoo failed... len of df:  0\n",
      "tiingo failed... len of df:  0\n",
      "Added 393 stocks to the db\n",
      "    ticker priceCurrency ticker_currency\n",
      "788   CPC2           USD        CPC2-USD\n",
      "********************\n",
      "[*********************100%***********************]  1 of 1 completed\n",
      "\n",
      "1 Failed download:\n",
      "- CPGX1: No timezone found, symbol may be delisted\n",
      "yahoo failed... len of df:  0\n",
      "tiingo failed... len of df:  0\n",
      "Added 394 stocks to the db\n",
      "    ticker priceCurrency ticker_currency\n",
      "993  CPGX1           USD       CPGX1-USD\n",
      "********************\n",
      "[*********************100%***********************]  1 of 1 completed\n",
      "\n",
      "1 Failed download:\n",
      "- CPNLQ1: No timezone found, symbol may be delisted\n",
      "yahoo failed... len of df:  0\n",
      "tiingo failed... len of df:  0\n",
      "Added 395 stocks to the db\n",
      "     ticker priceCurrency ticker_currency\n",
      "142  CPNLQ1           USD      CPNLQ1-USD\n",
      "********************\n",
      "[*********************100%***********************]  1 of 1 completed\n",
      "\n",
      "1 Failed download:\n",
      "- CPP1: No timezone found, symbol may be delisted\n",
      "yahoo failed... len of df:  0\n",
      "tiingo failed... len of df:  0\n",
      "Added 396 stocks to the db\n",
      "    ticker priceCurrency ticker_currency\n",
      "696   CPP1           USD        CPP1-USD\n",
      "********************\n",
      "[*********************100%***********************]  1 of 1 completed\n",
      "\n",
      "1 Failed download:\n",
      "- CPQ1: No timezone found, symbol may be delisted\n",
      "yahoo failed... len of df:  0\n",
      "tiingo failed... len of df:  0\n",
      "Added 397 stocks to the db\n",
      "    ticker priceCurrency ticker_currency\n",
      "205   CPQ1           USD        CPQ1-USD\n",
      "********************\n",
      "[*********************100%***********************]  1 of 1 completed\n"
     ]
    },
    {
     "name": "stderr",
     "output_type": "stream",
     "text": [
      "C:\\Users\\david\\anaconda3\\envs\\svmmvo\\lib\\site-packages\\pandas_datareader\\tiingo.py:234: FutureWarning: In a future version of pandas all arguments of concat except for the argument 'objs' will be keyword-only.\n",
      "  return pd.concat(dfs, self._concat_axis)\n"
     ]
    },
    {
     "name": "stdout",
     "output_type": "stream",
     "text": [
      "Added 398 stocks to the db\n",
      "     ticker priceCurrency ticker_currency\n",
      "1188   CPRI           USD        CPRI-USD\n",
      "********************\n",
      "[*********************100%***********************]  1 of 1 completed\n"
     ]
    },
    {
     "name": "stderr",
     "output_type": "stream",
     "text": [
      "C:\\Users\\david\\anaconda3\\envs\\svmmvo\\lib\\site-packages\\pandas_datareader\\tiingo.py:234: FutureWarning: In a future version of pandas all arguments of concat except for the argument 'objs' will be keyword-only.\n",
      "  return pd.concat(dfs, self._concat_axis)\n"
     ]
    },
    {
     "name": "stdout",
     "output_type": "stream",
     "text": [
      "Added 399 stocks to the db\n",
      "     ticker priceCurrency ticker_currency\n",
      "1189   CPRT           USD        CPRT-USD\n",
      "********************\n",
      "[*********************100%***********************]  1 of 1 completed\n",
      "\n",
      "1 Failed download:\n",
      "- CPS1: No timezone found, symbol may be delisted\n",
      "yahoo failed... len of df:  0\n",
      "tiingo failed... len of df:  0\n",
      "Added 400 stocks to the db\n",
      "     ticker priceCurrency ticker_currency\n",
      "1190   CPS1           USD        CPS1-USD\n",
      "********************\n",
      "[*********************100%***********************]  1 of 1 completed\n"
     ]
    },
    {
     "name": "stderr",
     "output_type": "stream",
     "text": [
      "C:\\Users\\david\\anaconda3\\envs\\svmmvo\\lib\\site-packages\\pandas_datareader\\tiingo.py:234: FutureWarning: In a future version of pandas all arguments of concat except for the argument 'objs' will be keyword-only.\n",
      "  return pd.concat(dfs, self._concat_axis)\n"
     ]
    },
    {
     "name": "stdout",
     "output_type": "stream",
     "text": [
      "Added 401 stocks to the db\n",
      "     ticker priceCurrency ticker_currency\n",
      "1191    CPT           USD         CPT-USD\n",
      "********************\n",
      "[*********************100%***********************]  1 of 1 completed\n"
     ]
    },
    {
     "name": "stderr",
     "output_type": "stream",
     "text": [
      "C:\\Users\\david\\anaconda3\\envs\\svmmvo\\lib\\site-packages\\pandas_datareader\\tiingo.py:234: FutureWarning: In a future version of pandas all arguments of concat except for the argument 'objs' will be keyword-only.\n",
      "  return pd.concat(dfs, self._concat_axis)\n"
     ]
    },
    {
     "name": "stdout",
     "output_type": "stream",
     "text": [
      "Added 402 stocks to the db\n",
      "     ticker priceCurrency ticker_currency\n",
      "1192   CPWR           USD        CPWR-USD\n",
      "********************\n",
      "[*********************100%***********************]  1 of 1 completed\n",
      "\n",
      "1 Failed download:\n",
      "- CPX2: No timezone found, symbol may be delisted\n",
      "yahoo failed... len of df:  0\n",
      "tiingo failed... len of df:  0\n",
      "Added 403 stocks to the db\n",
      "    ticker priceCurrency ticker_currency\n",
      "708   CPX2           USD        CPX2-USD\n",
      "********************\n",
      "[*********************100%***********************]  1 of 1 completed\n",
      "\n",
      "1 Failed download:\n",
      "- CQB1: No timezone found, symbol may be delisted\n",
      "yahoo failed... len of df:  0\n",
      "tiingo failed... len of df:  0\n",
      "Added 404 stocks to the db\n",
      "    ticker priceCurrency ticker_currency\n",
      "357   CQB1           USD        CQB1-USD\n",
      "********************\n",
      "[*********************100%***********************]  1 of 1 completed\n"
     ]
    },
    {
     "name": "stderr",
     "output_type": "stream",
     "text": [
      "C:\\Users\\david\\anaconda3\\envs\\svmmvo\\lib\\site-packages\\pandas_datareader\\tiingo.py:234: FutureWarning: In a future version of pandas all arguments of concat except for the argument 'objs' will be keyword-only.\n",
      "  return pd.concat(dfs, self._concat_axis)\n"
     ]
    },
    {
     "name": "stdout",
     "output_type": "stream",
     "text": [
      "Added 405 stocks to the db\n",
      "     ticker priceCurrency ticker_currency\n",
      "1193     CR           USD          CR-USD\n",
      "********************\n",
      "[*********************100%***********************]  1 of 1 completed\n",
      "\n",
      "1 Failed download:\n",
      "- CRD1: No timezone found, symbol may be delisted\n",
      "yahoo failed... len of df:  0\n",
      "tiingo failed... len of df:  0\n",
      "Added 406 stocks to the db\n",
      "    ticker priceCurrency ticker_currency\n",
      "835   CRD1           USD        CRD1-USD\n",
      "********************\n",
      "[*********************100%***********************]  1 of 1 completed\n",
      "\n",
      "1 Failed download:\n",
      "- CRF2: No timezone found, symbol may be delisted\n",
      "yahoo failed... len of df:  0\n",
      "tiingo failed... len of df:  0\n",
      "Added 407 stocks to the db\n",
      "    ticker priceCurrency ticker_currency\n",
      "837   CRF2           USD        CRF2-USD\n",
      "********************\n",
      "[*********************100%***********************]  1 of 1 completed\n",
      "\n",
      "1 Failed download:\n",
      "- CRK2: No timezone found, symbol may be delisted\n",
      "yahoo failed... len of df:  0\n",
      "tiingo failed... len of df:  0\n",
      "Added 408 stocks to the db\n",
      "    ticker priceCurrency ticker_currency\n",
      "808   CRK2           USD        CRK2-USD\n",
      "********************\n",
      "[*********************100%***********************]  1 of 1 completed\n"
     ]
    },
    {
     "name": "stderr",
     "output_type": "stream",
     "text": [
      "C:\\Users\\david\\anaconda3\\envs\\svmmvo\\lib\\site-packages\\pandas_datareader\\tiingo.py:234: FutureWarning: In a future version of pandas all arguments of concat except for the argument 'objs' will be keyword-only.\n",
      "  return pd.concat(dfs, self._concat_axis)\n"
     ]
    },
    {
     "name": "stdout",
     "output_type": "stream",
     "text": [
      "Added 409 stocks to the db\n",
      "     ticker priceCurrency ticker_currency\n",
      "1194    CRL           USD         CRL-USD\n",
      "********************\n",
      "[*********************100%***********************]  1 of 1 completed\n"
     ]
    },
    {
     "name": "stderr",
     "output_type": "stream",
     "text": [
      "C:\\Users\\david\\anaconda3\\envs\\svmmvo\\lib\\site-packages\\pandas_datareader\\tiingo.py:234: FutureWarning: In a future version of pandas all arguments of concat except for the argument 'objs' will be keyword-only.\n",
      "  return pd.concat(dfs, self._concat_axis)\n"
     ]
    },
    {
     "name": "stdout",
     "output_type": "stream",
     "text": [
      "Added 410 stocks to the db\n",
      "     ticker priceCurrency ticker_currency\n",
      "1195    CRM           USD         CRM-USD\n",
      "********************\n",
      "[*********************100%***********************]  1 of 1 completed\n",
      "\n",
      "1 Failed download:\n",
      "- CRR1: No timezone found, symbol may be delisted\n",
      "yahoo failed... len of df:  0\n",
      "tiingo failed... len of df:  0\n",
      "Added 411 stocks to the db\n",
      "    ticker priceCurrency ticker_currency\n",
      "298   CRR1           USD        CRR1-USD\n",
      "********************\n",
      "[*********************100%***********************]  1 of 1 completed\n",
      "\n",
      "1 Failed download:\n",
      "- CRR2: No timezone found, symbol may be delisted\n",
      "yahoo failed... len of df:  0\n",
      "tiingo failed... len of df:  0\n",
      "Added 412 stocks to the db\n",
      "    ticker priceCurrency ticker_currency\n",
      "571   CRR2           USD        CRR2-USD\n",
      "********************\n",
      "[*********************100%***********************]  1 of 1 completed\n",
      "\n",
      "1 Failed download:\n",
      "- CS1: No timezone found, symbol may be delisted\n",
      "yahoo failed... len of df:  0\n",
      "tiingo failed... len of df:  0\n",
      "Added 413 stocks to the db\n",
      "    ticker priceCurrency ticker_currency\n",
      "465    CS1           USD         CS1-USD\n",
      "********************\n",
      "[*********************100%***********************]  1 of 1 completed\n"
     ]
    },
    {
     "name": "stderr",
     "output_type": "stream",
     "text": [
      "C:\\Users\\david\\anaconda3\\envs\\svmmvo\\lib\\site-packages\\pandas_datareader\\tiingo.py:234: FutureWarning: In a future version of pandas all arguments of concat except for the argument 'objs' will be keyword-only.\n",
      "  return pd.concat(dfs, self._concat_axis)\n"
     ]
    },
    {
     "name": "stdout",
     "output_type": "stream",
     "text": [
      "Added 414 stocks to the db\n",
      "     ticker priceCurrency ticker_currency\n",
      "1196   CSCO           USD        CSCO-USD\n",
      "********************\n",
      "[*********************100%***********************]  1 of 1 completed\n",
      "\n",
      "1 Failed download:\n",
      "- CSCSQ1: No timezone found, symbol may be delisted\n",
      "yahoo failed... len of df:  0\n",
      "tiingo failed... len of df:  0\n",
      "Added 415 stocks to the db\n",
      "     ticker priceCurrency ticker_currency\n",
      "759  CSCSQ1           USD      CSCSQ1-USD\n",
      "********************\n",
      "[*********************100%***********************]  1 of 1 completed\n",
      "\n",
      "1 Failed download:\n",
      "- CSE1: No timezone found, symbol may be delisted\n",
      "yahoo failed... len of df:  0\n",
      "tiingo failed... len of df:  0\n",
      "Added 416 stocks to the db\n",
      "     ticker priceCurrency ticker_currency\n",
      "1197   CSE1           USD        CSE1-USD\n",
      "********************\n",
      "[*********************100%***********************]  1 of 1 completed\n"
     ]
    },
    {
     "name": "stderr",
     "output_type": "stream",
     "text": [
      "C:\\Users\\david\\anaconda3\\envs\\svmmvo\\lib\\site-packages\\pandas_datareader\\tiingo.py:234: FutureWarning: In a future version of pandas all arguments of concat except for the argument 'objs' will be keyword-only.\n",
      "  return pd.concat(dfs, self._concat_axis)\n"
     ]
    },
    {
     "name": "stdout",
     "output_type": "stream",
     "text": [
      "Added 417 stocks to the db\n",
      "     ticker priceCurrency ticker_currency\n",
      "1198   CSGP           USD        CSGP-USD\n",
      "********************\n",
      "[*********************100%***********************]  1 of 1 completed\n",
      "\n",
      "1 Failed download:\n",
      "- CSP1: No timezone found, symbol may be delisted\n",
      "yahoo failed... len of df:  0\n",
      "tiingo failed... len of df:  0\n",
      "Added 418 stocks to the db\n",
      "    ticker priceCurrency ticker_currency\n",
      "589   CSP1           USD        CSP1-USD\n",
      "********************\n",
      "[*********************100%***********************]  1 of 1 completed\n",
      "\n",
      "1 Failed download:\n",
      "- CSR1: No timezone found, symbol may be delisted\n",
      "yahoo failed... len of df:  0\n",
      "tiingo failed... len of df:  0\n",
      "Added 419 stocks to the db\n",
      "     ticker priceCurrency ticker_currency\n",
      "1199   CSR1           USD        CSR1-USD\n",
      "********************\n",
      "[*********************100%***********************]  1 of 1 completed\n",
      "\n",
      "1 Failed download:\n",
      "- CSRA1: No timezone found, symbol may be delisted\n",
      "yahoo failed... len of df:  0\n",
      "tiingo failed... len of df:  0\n",
      "Added 420 stocks to the db\n",
      "    ticker priceCurrency ticker_currency\n",
      "991  CSRA1           USD       CSRA1-USD\n",
      "********************\n",
      "[*********************100%***********************]  1 of 1 completed\n"
     ]
    },
    {
     "name": "stderr",
     "output_type": "stream",
     "text": [
      "C:\\Users\\david\\anaconda3\\envs\\svmmvo\\lib\\site-packages\\pandas_datareader\\tiingo.py:234: FutureWarning: In a future version of pandas all arguments of concat except for the argument 'objs' will be keyword-only.\n",
      "  return pd.concat(dfs, self._concat_axis)\n"
     ]
    },
    {
     "name": "stdout",
     "output_type": "stream",
     "text": [
      "Added 421 stocks to the db\n",
      "     ticker priceCurrency ticker_currency\n",
      "1200    CSX           USD         CSX-USD\n",
      "********************\n",
      "[*********************100%***********************]  1 of 1 completed\n",
      "\n",
      "1 Failed download:\n",
      "- CSY1: No timezone found, symbol may be delisted\n",
      "yahoo failed... len of df:  0\n",
      "tiingo failed... len of df:  0\n",
      "Added 422 stocks to the db\n",
      "    ticker priceCurrency ticker_currency\n",
      "691   CSY1           USD        CSY1-USD\n",
      "********************\n",
      "[*********************100%***********************]  1 of 1 completed\n"
     ]
    },
    {
     "name": "stderr",
     "output_type": "stream",
     "text": [
      "C:\\Users\\david\\anaconda3\\envs\\svmmvo\\lib\\site-packages\\pandas_datareader\\tiingo.py:234: FutureWarning: In a future version of pandas all arguments of concat except for the argument 'objs' will be keyword-only.\n",
      "  return pd.concat(dfs, self._concat_axis)\n"
     ]
    },
    {
     "name": "stdout",
     "output_type": "stream",
     "text": [
      "Added 423 stocks to the db\n",
      "     ticker priceCurrency ticker_currency\n",
      "1201   CTAS           USD        CTAS-USD\n",
      "********************\n",
      "[*********************100%***********************]  1 of 1 completed\n",
      "\n",
      "1 Failed download:\n",
      "- CTC1: No timezone found, symbol may be delisted\n",
      "yahoo failed... len of df:  0\n",
      "tiingo failed... len of df:  0\n",
      "Added 424 stocks to the db\n",
      "    ticker priceCurrency ticker_currency\n",
      "738   CTC1           USD        CTC1-USD\n",
      "********************\n",
      "[*********************100%***********************]  1 of 1 completed\n",
      "\n",
      "1 Failed download:\n",
      "- CTCO2: No timezone found, symbol may be delisted\n",
      "yahoo failed... len of df:  0\n",
      "tiingo failed... len of df:  0\n",
      "Added 425 stocks to the db\n",
      "    ticker priceCurrency ticker_currency\n",
      "713  CTCO2           USD       CTCO2-USD\n",
      "********************\n",
      "[*********************100%***********************]  1 of 1 completed\n"
     ]
    },
    {
     "name": "stderr",
     "output_type": "stream",
     "text": [
      "C:\\Users\\david\\anaconda3\\envs\\svmmvo\\lib\\site-packages\\pandas_datareader\\tiingo.py:234: FutureWarning: In a future version of pandas all arguments of concat except for the argument 'objs' will be keyword-only.\n",
      "  return pd.concat(dfs, self._concat_axis)\n"
     ]
    },
    {
     "name": "stdout",
     "output_type": "stream",
     "text": [
      "Added 426 stocks to the db\n",
      "     ticker priceCurrency ticker_currency\n",
      "1202   CTLT           USD        CTLT-USD\n",
      "********************\n",
      "[*********************100%***********************]  1 of 1 completed\n",
      "\n",
      "1 Failed download:\n",
      "- CTN1: No timezone found, symbol may be delisted\n",
      "yahoo failed... len of df:  0\n",
      "tiingo failed... len of df:  0\n",
      "Added 427 stocks to the db\n",
      "    ticker priceCurrency ticker_currency\n",
      "776   CTN1           USD        CTN1-USD\n",
      "********************\n",
      "[*********************100%***********************]  1 of 1 completed\n"
     ]
    },
    {
     "name": "stderr",
     "output_type": "stream",
     "text": [
      "C:\\Users\\david\\anaconda3\\envs\\svmmvo\\lib\\site-packages\\pandas_datareader\\tiingo.py:234: FutureWarning: In a future version of pandas all arguments of concat except for the argument 'objs' will be keyword-only.\n",
      "  return pd.concat(dfs, self._concat_axis)\n"
     ]
    },
    {
     "name": "stdout",
     "output_type": "stream",
     "text": [
      "Added 428 stocks to the db\n",
      "     ticker priceCurrency ticker_currency\n",
      "1203   CTRA           USD        CTRA-USD\n",
      "********************\n",
      "[*********************100%***********************]  1 of 1 completed\n"
     ]
    },
    {
     "name": "stderr",
     "output_type": "stream",
     "text": [
      "C:\\Users\\david\\anaconda3\\envs\\svmmvo\\lib\\site-packages\\pandas_datareader\\tiingo.py:234: FutureWarning: In a future version of pandas all arguments of concat except for the argument 'objs' will be keyword-only.\n",
      "  return pd.concat(dfs, self._concat_axis)\n"
     ]
    },
    {
     "name": "stdout",
     "output_type": "stream",
     "text": [
      "Added 429 stocks to the db\n",
      "     ticker priceCurrency ticker_currency\n",
      "1204   CTSH           USD        CTSH-USD\n",
      "********************\n",
      "[*********************100%***********************]  1 of 1 completed\n"
     ]
    },
    {
     "name": "stderr",
     "output_type": "stream",
     "text": [
      "C:\\Users\\david\\anaconda3\\envs\\svmmvo\\lib\\site-packages\\pandas_datareader\\tiingo.py:234: FutureWarning: In a future version of pandas all arguments of concat except for the argument 'objs' will be keyword-only.\n",
      "  return pd.concat(dfs, self._concat_axis)\n"
     ]
    },
    {
     "name": "stdout",
     "output_type": "stream",
     "text": [
      "Added 430 stocks to the db\n",
      "     ticker priceCurrency ticker_currency\n",
      "1205   CTVA           USD        CTVA-USD\n",
      "********************\n",
      "[*********************100%***********************]  1 of 1 completed\n",
      "\n",
      "1 Failed download:\n",
      "- CTX2: No timezone found, symbol may be delisted\n",
      "yahoo failed... len of df:  0\n",
      "tiingo failed... len of df:  0\n",
      "Added 431 stocks to the db\n",
      "   ticker priceCurrency ticker_currency\n",
      "98   CTX2           USD        CTX2-USD\n",
      "********************\n",
      "[*********************100%***********************]  1 of 1 completed\n",
      "\n",
      "1 Failed download:\n",
      "- CUD1: No timezone found, symbol may be delisted\n",
      "yahoo failed... len of df:  0\n",
      "tiingo failed... len of df:  0\n",
      "Added 432 stocks to the db\n",
      "    ticker priceCurrency ticker_currency\n",
      "734   CUD1           USD        CUD1-USD\n",
      "********************\n",
      "[*********************100%***********************]  1 of 1 completed\n",
      "\n",
      "1 Failed download:\n",
      "- CUE1: No timezone found, symbol may be delisted\n",
      "yahoo failed... len of df:  0\n",
      "tiingo failed... len of df:  0\n",
      "Added 433 stocks to the db\n",
      "    ticker priceCurrency ticker_currency\n",
      "418   CUE1           USD        CUE1-USD\n",
      "********************\n",
      "[*********************100%***********************]  1 of 1 completed\n",
      "\n",
      "1 Failed download:\n",
      "- CUL2: No timezone found, symbol may be delisted\n",
      "yahoo failed... len of df:  0\n",
      "tiingo failed... len of df:  0\n",
      "Added 434 stocks to the db\n",
      "    ticker priceCurrency ticker_currency\n",
      "814   CUL2           USD        CUL2-USD\n",
      "********************\n",
      "[*********************100%***********************]  1 of 1 completed\n",
      "\n",
      "1 Failed download:\n",
      "- CV1: No timezone found, symbol may be delisted\n",
      "yahoo failed... len of df:  0\n",
      "tiingo failed... len of df:  0\n",
      "Added 435 stocks to the db\n",
      "     ticker priceCurrency ticker_currency\n",
      "1206    CV1           USD         CV1-USD\n",
      "********************\n",
      "[*********************100%***********************]  1 of 1 completed\n",
      "\n",
      "1 Failed download:\n",
      "- CVGYQ1: No timezone found, symbol may be delisted\n",
      "yahoo failed... len of df:  0\n",
      "tiingo failed... len of df:  0\n",
      "Added 436 stocks to the db\n",
      "     ticker priceCurrency ticker_currency\n",
      "190  CVGYQ1           USD      CVGYQ1-USD\n",
      "********************\n",
      "[*********************100%***********************]  1 of 1 completed\n",
      "\n",
      "1 Failed download:\n",
      "- CVH2: No timezone found, symbol may be delisted\n",
      "yahoo failed... len of df:  0\n",
      "tiingo failed... len of df:  0\n",
      "Added 437 stocks to the db\n",
      "    ticker priceCurrency ticker_currency\n",
      "114   CVH2           USD        CVH2-USD\n",
      "********************\n",
      "[*********************100%***********************]  1 of 1 completed\n",
      "\n",
      "1 Failed download:\n",
      "- CVN1: No timezone found, symbol may be delisted\n",
      "yahoo failed... len of df:  0\n",
      "tiingo failed... len of df:  0\n",
      "Added 438 stocks to the db\n",
      "    ticker priceCurrency ticker_currency\n",
      "910   CVN1           USD        CVN1-USD\n",
      "********************\n",
      "[*********************100%***********************]  1 of 1 completed\n",
      "\n",
      "1 Failed download:\n",
      "- CVN3: No timezone found, symbol may be delisted\n",
      "yahoo failed... len of df:  0\n",
      "tiingo failed... len of df:  0\n",
      "Added 439 stocks to the db\n",
      "    ticker priceCurrency ticker_currency\n",
      "902   CVN3           USD        CVN3-USD\n",
      "********************\n",
      "[*********************100%***********************]  1 of 1 completed\n"
     ]
    },
    {
     "name": "stderr",
     "output_type": "stream",
     "text": [
      "C:\\Users\\david\\anaconda3\\envs\\svmmvo\\lib\\site-packages\\pandas_datareader\\tiingo.py:234: FutureWarning: In a future version of pandas all arguments of concat except for the argument 'objs' will be keyword-only.\n",
      "  return pd.concat(dfs, self._concat_axis)\n"
     ]
    },
    {
     "name": "stdout",
     "output_type": "stream",
     "text": [
      "Added 440 stocks to the db\n",
      "     ticker priceCurrency ticker_currency\n",
      "1207    CVS           USD         CVS-USD\n",
      "********************\n",
      "[*********************100%***********************]  1 of 1 completed\n"
     ]
    },
    {
     "name": "stderr",
     "output_type": "stream",
     "text": [
      "C:\\Users\\david\\anaconda3\\envs\\svmmvo\\lib\\site-packages\\pandas_datareader\\tiingo.py:234: FutureWarning: In a future version of pandas all arguments of concat except for the argument 'objs' will be keyword-only.\n",
      "  return pd.concat(dfs, self._concat_axis)\n"
     ]
    },
    {
     "name": "stdout",
     "output_type": "stream",
     "text": [
      "Added 441 stocks to the db\n",
      "     ticker priceCurrency ticker_currency\n",
      "1208    CVX           USD         CVX-USD\n",
      "********************\n",
      "[*********************100%***********************]  1 of 1 completed\n",
      "\n",
      "1 Failed download:\n",
      "- CVX1: No timezone found, symbol may be delisted\n",
      "yahoo failed... len of df:  0\n",
      "tiingo failed... len of df:  0\n",
      "Added 442 stocks to the db\n",
      "    ticker priceCurrency ticker_currency\n",
      "498   CVX1           USD        CVX1-USD\n",
      "********************\n",
      "[*********************100%***********************]  1 of 1 completed\n"
     ]
    },
    {
     "name": "stderr",
     "output_type": "stream",
     "text": [
      "C:\\Users\\david\\anaconda3\\envs\\svmmvo\\lib\\site-packages\\pandas_datareader\\tiingo.py:234: FutureWarning: In a future version of pandas all arguments of concat except for the argument 'objs' will be keyword-only.\n",
      "  return pd.concat(dfs, self._concat_axis)\n"
     ]
    },
    {
     "name": "stdout",
     "output_type": "stream",
     "text": [
      "Added 443 stocks to the db\n",
      "     ticker priceCurrency ticker_currency\n",
      "1209     CW           USD          CW-USD\n",
      "********************\n",
      "[*********************100%***********************]  1 of 1 completed\n",
      "\n",
      "1 Failed download:\n",
      "- CW1: No timezone found, symbol may be delisted\n",
      "yahoo failed... len of df:  0\n",
      "tiingo failed... len of df:  0\n",
      "Added 444 stocks to the db\n",
      "    ticker priceCurrency ticker_currency\n",
      "945    CW1           USD         CW1-USD\n",
      "********************\n",
      "[*********************100%***********************]  1 of 1 completed\n",
      "\n",
      "1 Failed download:\n",
      "- CWH1: No timezone found, symbol may be delisted\n",
      "yahoo failed... len of df:  0\n",
      "tiingo failed... len of df:  0\n",
      "Added 445 stocks to the db\n",
      "    ticker priceCurrency ticker_currency\n",
      "903   CWH1           USD        CWH1-USD\n",
      "********************\n",
      "[*********************100%***********************]  1 of 1 completed\n",
      "\n",
      "1 Failed download:\n",
      "- CXM1: No timezone found, symbol may be delisted\n",
      "yahoo failed... len of df:  0\n",
      "tiingo failed... len of df:  0\n",
      "Added 446 stocks to the db\n",
      "    ticker priceCurrency ticker_currency\n",
      "912   CXM1           USD        CXM1-USD\n",
      "********************\n",
      "[*********************100%***********************]  1 of 1 completed\n",
      "\n",
      "1 Failed download:\n",
      "- CXO1: No timezone found, symbol may be delisted\n",
      "yahoo failed... len of df:  0\n",
      "tiingo failed... len of df:  0\n",
      "Added 447 stocks to the db\n",
      "    ticker priceCurrency ticker_currency\n",
      "353   CXO1           USD        CXO1-USD\n",
      "********************\n",
      "[*********************100%***********************]  1 of 1 completed\n",
      "\n",
      "1 Failed download:\n",
      "- CYM1: No timezone found, symbol may be delisted\n",
      "yahoo failed... len of df:  0\n",
      "tiingo failed... len of df:  0\n",
      "Added 448 stocks to the db\n",
      "    ticker priceCurrency ticker_currency\n",
      "296   CYM1           USD        CYM1-USD\n",
      "********************\n",
      "[*********************100%***********************]  1 of 1 completed\n",
      "\n",
      "1 Failed download:\n",
      "- CYM2: No timezone found, symbol may be delisted\n",
      "yahoo failed... len of df:  0\n",
      "tiingo failed... len of df:  0\n",
      "Added 449 stocks to the db\n",
      "    ticker priceCurrency ticker_currency\n",
      "933   CYM2           USD        CYM2-USD\n",
      "********************\n",
      "[*********************100%***********************]  1 of 1 completed\n",
      "\n",
      "1 Failed download:\n",
      "- CYR2: No timezone found, symbol may be delisted\n",
      "yahoo failed... len of df:  0\n",
      "tiingo failed... len of df:  0\n",
      "Added 450 stocks to the db\n",
      "    ticker priceCurrency ticker_currency\n",
      "297   CYR2           USD        CYR2-USD\n",
      "********************\n",
      "[*********************100%***********************]  1 of 1 completed\n",
      "\n",
      "1 Failed download:\n",
      "- CZ1: No timezone found, symbol may be delisted\n",
      "yahoo failed... len of df:  0\n",
      "tiingo failed... len of df:  0\n",
      "Added 451 stocks to the db\n",
      "    ticker priceCurrency ticker_currency\n",
      "551    CZ1           USD         CZ1-USD\n",
      "********************\n",
      "[*********************100%***********************]  1 of 1 completed\n"
     ]
    },
    {
     "name": "stderr",
     "output_type": "stream",
     "text": [
      "C:\\Users\\david\\anaconda3\\envs\\svmmvo\\lib\\site-packages\\pandas_datareader\\tiingo.py:234: FutureWarning: In a future version of pandas all arguments of concat except for the argument 'objs' will be keyword-only.\n",
      "  return pd.concat(dfs, self._concat_axis)\n"
     ]
    },
    {
     "name": "stdout",
     "output_type": "stream",
     "text": [
      "Added 452 stocks to the db\n",
      "     ticker priceCurrency ticker_currency\n",
      "1210    CZR           USD         CZR-USD\n",
      "********************\n",
      "[*********************100%***********************]  1 of 1 completed\n"
     ]
    },
    {
     "name": "stderr",
     "output_type": "stream",
     "text": [
      "C:\\Users\\david\\anaconda3\\envs\\svmmvo\\lib\\site-packages\\pandas_datareader\\tiingo.py:234: FutureWarning: In a future version of pandas all arguments of concat except for the argument 'objs' will be keyword-only.\n",
      "  return pd.concat(dfs, self._concat_axis)\n"
     ]
    },
    {
     "name": "stdout",
     "output_type": "stream",
     "text": [
      "Added 453 stocks to the db\n",
      "     ticker priceCurrency ticker_currency\n",
      "1211      D           USD           D-USD\n",
      "********************\n",
      "[*********************100%***********************]  1 of 1 completed\n",
      "\n",
      "1 Failed download:\n",
      "- D2: No timezone found, symbol may be delisted\n",
      "yahoo failed... len of df:  0\n",
      "tiingo failed... len of df:  0\n",
      "Added 454 stocks to the db\n",
      "    ticker priceCurrency ticker_currency\n",
      "873     D2           USD          D2-USD\n",
      "********************\n",
      "[*********************100%***********************]  1 of 1 completed\n"
     ]
    },
    {
     "name": "stderr",
     "output_type": "stream",
     "text": [
      "C:\\Users\\david\\anaconda3\\envs\\svmmvo\\lib\\site-packages\\pandas_datareader\\tiingo.py:234: FutureWarning: In a future version of pandas all arguments of concat except for the argument 'objs' will be keyword-only.\n",
      "  return pd.concat(dfs, self._concat_axis)\n"
     ]
    },
    {
     "name": "stdout",
     "output_type": "stream",
     "text": [
      "Added 455 stocks to the db\n",
      "     ticker priceCurrency ticker_currency\n",
      "1212    DAL           USD         DAL-USD\n",
      "********************\n",
      "[*********************100%***********************]  1 of 1 completed\n",
      "\n",
      "1 Failed download:\n",
      "- DALRQ1: No timezone found, symbol may be delisted\n",
      "yahoo failed... len of df:  0\n",
      "tiingo failed... len of df:  0\n",
      "Added 456 stocks to the db\n",
      "     ticker priceCurrency ticker_currency\n",
      "162  DALRQ1           USD      DALRQ1-USD\n",
      "********************\n",
      "[*********************100%***********************]  1 of 1 completed\n",
      "\n",
      "1 Failed download:\n",
      "- DAY1: No timezone found, symbol may be delisted\n",
      "yahoo failed... len of df:  0\n",
      "tiingo failed... len of df:  0\n",
      "Added 457 stocks to the db\n",
      "    ticker priceCurrency ticker_currency\n",
      "650   DAY1           USD        DAY1-USD\n",
      "********************\n",
      "[*********************100%***********************]  1 of 1 completed\n",
      "\n",
      "1 Failed download:\n",
      "- DCNAQ1: No timezone found, symbol may be delisted\n",
      "yahoo failed... len of df:  0\n",
      "tiingo failed... len of df:  0\n",
      "Added 458 stocks to the db\n",
      "    ticker priceCurrency ticker_currency\n",
      "95  DCNAQ1           USD      DCNAQ1-USD\n",
      "********************\n",
      "[*********************100%***********************]  1 of 1 completed\n",
      "\n",
      "1 Failed download:\n",
      "- DCO1: No timezone found, symbol may be delisted\n",
      "yahoo failed... len of df:  0\n",
      "tiingo failed... len of df:  0\n",
      "Added 459 stocks to the db\n",
      "    ticker priceCurrency ticker_currency\n",
      "703   DCO1           USD        DCO1-USD\n",
      "********************\n",
      "[*********************100%***********************]  1 of 1 completed\n"
     ]
    },
    {
     "name": "stderr",
     "output_type": "stream",
     "text": [
      "C:\\Users\\david\\anaconda3\\envs\\svmmvo\\lib\\site-packages\\pandas_datareader\\tiingo.py:234: FutureWarning: In a future version of pandas all arguments of concat except for the argument 'objs' will be keyword-only.\n",
      "  return pd.concat(dfs, self._concat_axis)\n"
     ]
    },
    {
     "name": "stdout",
     "output_type": "stream",
     "text": [
      "Added 460 stocks to the db\n",
      "     ticker priceCurrency ticker_currency\n",
      "1213     DD           USD          DD-USD\n",
      "********************\n",
      "[*********************100%***********************]  1 of 1 completed\n",
      "\n",
      "1 Failed download:\n",
      "- DD2: No timezone found, symbol may be delisted\n",
      "yahoo failed... len of df:  0\n",
      "tiingo failed... len of df:  0\n",
      "Added 461 stocks to the db\n",
      "  ticker priceCurrency ticker_currency\n",
      "7    DD2           USD         DD2-USD\n",
      "********************\n",
      "[*********************100%***********************]  1 of 1 completed\n"
     ]
    },
    {
     "name": "stderr",
     "output_type": "stream",
     "text": [
      "C:\\Users\\david\\anaconda3\\envs\\svmmvo\\lib\\site-packages\\pandas_datareader\\tiingo.py:234: FutureWarning: In a future version of pandas all arguments of concat except for the argument 'objs' will be keyword-only.\n",
      "  return pd.concat(dfs, self._concat_axis)\n"
     ]
    },
    {
     "name": "stdout",
     "output_type": "stream",
     "text": [
      "Added 462 stocks to the db\n",
      "     ticker priceCurrency ticker_currency\n",
      "1214    DDS           USD         DDS-USD\n",
      "********************\n",
      "[*********************100%***********************]  1 of 1 completed\n"
     ]
    },
    {
     "name": "stderr",
     "output_type": "stream",
     "text": [
      "C:\\Users\\david\\anaconda3\\envs\\svmmvo\\lib\\site-packages\\pandas_datareader\\tiingo.py:234: FutureWarning: In a future version of pandas all arguments of concat except for the argument 'objs' will be keyword-only.\n",
      "  return pd.concat(dfs, self._concat_axis)\n"
     ]
    },
    {
     "name": "stdout",
     "output_type": "stream",
     "text": [
      "Added 463 stocks to the db\n",
      "     ticker priceCurrency ticker_currency\n",
      "1215     DE           USD          DE-USD\n",
      "********************\n",
      "[*********************100%***********************]  1 of 1 completed\n",
      "\n",
      "1 Failed download:\n",
      "- DEE1: No timezone found, symbol may be delisted\n",
      "yahoo failed... len of df:  0\n",
      "tiingo failed... len of df:  0\n",
      "Added 464 stocks to the db\n",
      "    ticker priceCurrency ticker_currency\n",
      "960   DEE1           USD        DEE1-USD\n",
      "********************\n",
      "[*********************100%***********************]  1 of 1 completed\n",
      "\n",
      "1 Failed download:\n",
      "- DELL1: No timezone found, symbol may be delisted\n",
      "yahoo failed... len of df:  0\n",
      "tiingo failed... len of df:  0\n",
      "Added 465 stocks to the db\n",
      "     ticker priceCurrency ticker_currency\n",
      "1216  DELL1           USD       DELL1-USD\n",
      "********************\n",
      "[*********************100%***********************]  1 of 1 completed\n",
      "\n",
      "1 Failed download:\n",
      "- DEN1: No timezone found, symbol may be delisted\n",
      "yahoo failed... len of df:  0\n",
      "tiingo failed... len of df:  0\n",
      "Added 466 stocks to the db\n",
      "    ticker priceCurrency ticker_currency\n",
      "897   DEN1           USD        DEN1-USD\n",
      "********************\n",
      "[*********************100%***********************]  1 of 1 completed\n",
      "\n",
      "1 Failed download:\n",
      "- DEW1: No timezone found, symbol may be delisted\n",
      "yahoo failed... len of df:  0\n",
      "tiingo failed... len of df:  0\n",
      "Added 467 stocks to the db\n",
      "    ticker priceCurrency ticker_currency\n",
      "499   DEW1           USD        DEW1-USD\n",
      "********************\n",
      "[*********************100%***********************]  1 of 1 completed\n",
      "\n",
      "1 Failed download:\n",
      "- DFC1: No timezone found, symbol may be delisted\n",
      "yahoo failed... len of df:  0\n",
      "tiingo failed... len of df:  0\n",
      "Added 468 stocks to the db\n",
      "    ticker priceCurrency ticker_currency\n",
      "874   DFC1           USD        DFC1-USD\n",
      "********************\n",
      "[*********************100%***********************]  1 of 1 completed\n"
     ]
    },
    {
     "name": "stderr",
     "output_type": "stream",
     "text": [
      "C:\\Users\\david\\anaconda3\\envs\\svmmvo\\lib\\site-packages\\pandas_datareader\\tiingo.py:234: FutureWarning: In a future version of pandas all arguments of concat except for the argument 'objs' will be keyword-only.\n",
      "  return pd.concat(dfs, self._concat_axis)\n"
     ]
    },
    {
     "name": "stdout",
     "output_type": "stream",
     "text": [
      "Added 469 stocks to the db\n",
      "     ticker priceCurrency ticker_currency\n",
      "1217    DFS           USD         DFS-USD\n",
      "********************\n",
      "[*********************100%***********************]  1 of 1 completed\n"
     ]
    },
    {
     "name": "stderr",
     "output_type": "stream",
     "text": [
      "C:\\Users\\david\\anaconda3\\envs\\svmmvo\\lib\\site-packages\\pandas_datareader\\tiingo.py:234: FutureWarning: In a future version of pandas all arguments of concat except for the argument 'objs' will be keyword-only.\n",
      "  return pd.concat(dfs, self._concat_axis)\n"
     ]
    },
    {
     "name": "stdout",
     "output_type": "stream",
     "text": [
      "Added 470 stocks to the db\n",
      "     ticker priceCurrency ticker_currency\n",
      "1218     DG           USD          DG-USD\n",
      "********************\n",
      "[*********************100%***********************]  1 of 1 completed\n",
      "\n",
      "1 Failed download:\n",
      "- DG1: No timezone found, symbol may be delisted\n",
      "yahoo failed... len of df:  0\n",
      "tiingo failed... len of df:  0\n",
      "Added 471 stocks to the db\n",
      "     ticker priceCurrency ticker_currency\n",
      "1219    DG1           USD         DG1-USD\n",
      "********************\n",
      "[*********************100%***********************]  1 of 1 completed\n",
      "\n",
      "1 Failed download:\n",
      "- DG2: No timezone found, symbol may be delisted\n",
      "yahoo failed... len of df:  0\n",
      "tiingo failed... len of df:  0\n",
      "Added 472 stocks to the db\n",
      "    ticker priceCurrency ticker_currency\n",
      "468    DG2           USD         DG2-USD\n",
      "********************\n",
      "[*********************100%***********************]  1 of 1 completed\n",
      "\n",
      "1 Failed download:\n",
      "- DGN1: No timezone found, symbol may be delisted\n",
      "yahoo failed... len of df:  0\n",
      "tiingo failed... len of df:  0\n",
      "Added 473 stocks to the db\n",
      "    ticker priceCurrency ticker_currency\n",
      "283   DGN1           USD        DGN1-USD\n",
      "********************\n",
      "[*********************100%***********************]  1 of 1 completed\n",
      "\n",
      "1 Failed download:\n",
      "- DGR1: No timezone found, symbol may be delisted\n",
      "yahoo failed... len of df:  0\n",
      "tiingo failed... len of df:  0\n",
      "Added 474 stocks to the db\n",
      "    ticker priceCurrency ticker_currency\n",
      "783   DGR1           USD        DGR1-USD\n",
      "********************\n",
      "[*********************100%***********************]  1 of 1 completed\n"
     ]
    },
    {
     "name": "stderr",
     "output_type": "stream",
     "text": [
      "C:\\Users\\david\\anaconda3\\envs\\svmmvo\\lib\\site-packages\\pandas_datareader\\tiingo.py:234: FutureWarning: In a future version of pandas all arguments of concat except for the argument 'objs' will be keyword-only.\n",
      "  return pd.concat(dfs, self._concat_axis)\n"
     ]
    },
    {
     "name": "stdout",
     "output_type": "stream",
     "text": [
      "Added 475 stocks to the db\n",
      "     ticker priceCurrency ticker_currency\n",
      "1220    DGX           USD         DGX-USD\n",
      "********************\n",
      "[*********************100%***********************]  1 of 1 completed\n"
     ]
    },
    {
     "name": "stderr",
     "output_type": "stream",
     "text": [
      "C:\\Users\\david\\anaconda3\\envs\\svmmvo\\lib\\site-packages\\pandas_datareader\\tiingo.py:234: FutureWarning: In a future version of pandas all arguments of concat except for the argument 'objs' will be keyword-only.\n",
      "  return pd.concat(dfs, self._concat_axis)\n"
     ]
    },
    {
     "name": "stdout",
     "output_type": "stream",
     "text": [
      "Added 476 stocks to the db\n",
      "     ticker priceCurrency ticker_currency\n",
      "1221    DHI           USD         DHI-USD\n",
      "********************\n",
      "[*********************100%***********************]  1 of 1 completed\n"
     ]
    },
    {
     "name": "stderr",
     "output_type": "stream",
     "text": [
      "C:\\Users\\david\\anaconda3\\envs\\svmmvo\\lib\\site-packages\\pandas_datareader\\tiingo.py:234: FutureWarning: In a future version of pandas all arguments of concat except for the argument 'objs' will be keyword-only.\n",
      "  return pd.concat(dfs, self._concat_axis)\n"
     ]
    },
    {
     "name": "stdout",
     "output_type": "stream",
     "text": [
      "Added 477 stocks to the db\n",
      "     ticker priceCurrency ticker_currency\n",
      "1222    DHR           USD         DHR-USD\n",
      "********************\n",
      "[*********************100%***********************]  1 of 1 completed\n",
      "\n",
      "1 Failed download:\n",
      "- DI1: No timezone found, symbol may be delisted\n",
      "yahoo failed... len of df:  0\n",
      "tiingo failed... len of df:  0\n",
      "Added 478 stocks to the db\n",
      "     ticker priceCurrency ticker_currency\n",
      "1223    DI1           USD         DI1-USD\n",
      "********************\n",
      "[*********************100%***********************]  1 of 1 completed\n",
      "\n",
      "1 Failed download:\n",
      "- DIGI1: No timezone found, symbol may be delisted\n",
      "yahoo failed... len of df:  0\n",
      "tiingo failed... len of df:  0\n",
      "Added 479 stocks to the db\n",
      "     ticker priceCurrency ticker_currency\n",
      "1224  DIGI1           USD       DIGI1-USD\n",
      "********************\n",
      "[*********************100%***********************]  1 of 1 completed\n",
      "\n",
      "1 Failed download:\n",
      "- DIN2: No timezone found, symbol may be delisted\n",
      "yahoo failed... len of df:  0\n",
      "tiingo failed... len of df:  0\n",
      "Added 480 stocks to the db\n",
      "    ticker priceCurrency ticker_currency\n",
      "871   DIN2           USD        DIN2-USD\n",
      "********************\n",
      "[*********************100%***********************]  1 of 1 completed\n"
     ]
    },
    {
     "name": "stderr",
     "output_type": "stream",
     "text": [
      "C:\\Users\\david\\anaconda3\\envs\\svmmvo\\lib\\site-packages\\pandas_datareader\\tiingo.py:234: FutureWarning: In a future version of pandas all arguments of concat except for the argument 'objs' will be keyword-only.\n",
      "  return pd.concat(dfs, self._concat_axis)\n"
     ]
    },
    {
     "name": "stdout",
     "output_type": "stream",
     "text": [
      "Added 481 stocks to the db\n",
      "     ticker priceCurrency ticker_currency\n",
      "1225   DINO           USD        DINO-USD\n",
      "********************\n",
      "[*********************100%***********************]  1 of 1 completed\n"
     ]
    },
    {
     "name": "stderr",
     "output_type": "stream",
     "text": [
      "C:\\Users\\david\\anaconda3\\envs\\svmmvo\\lib\\site-packages\\pandas_datareader\\tiingo.py:234: FutureWarning: In a future version of pandas all arguments of concat except for the argument 'objs' will be keyword-only.\n",
      "  return pd.concat(dfs, self._concat_axis)\n"
     ]
    },
    {
     "name": "stdout",
     "output_type": "stream",
     "text": [
      "Added 482 stocks to the db\n",
      "     ticker priceCurrency ticker_currency\n",
      "1226    DIS           USD         DIS-USD\n",
      "********************\n",
      "[*********************100%***********************]  1 of 1 completed\n",
      "\n",
      "1 Failed download:\n",
      "- DISCK1: No timezone found, symbol may be delisted\n",
      "yahoo failed... len of df:  0\n",
      "tiingo failed... len of df:  0\n",
      "Added 483 stocks to the db\n",
      "   ticker priceCurrency ticker_currency\n",
      "6  DISCK1           USD      DISCK1-USD\n",
      "********************\n",
      "[*********************100%***********************]  1 of 1 completed\n"
     ]
    },
    {
     "name": "stderr",
     "output_type": "stream",
     "text": [
      "C:\\Users\\david\\anaconda3\\envs\\svmmvo\\lib\\site-packages\\pandas_datareader\\tiingo.py:234: FutureWarning: In a future version of pandas all arguments of concat except for the argument 'objs' will be keyword-only.\n",
      "  return pd.concat(dfs, self._concat_axis)\n"
     ]
    },
    {
     "name": "stdout",
     "output_type": "stream",
     "text": [
      "Added 484 stocks to the db\n",
      "     ticker priceCurrency ticker_currency\n",
      "1227   DISH           USD        DISH-USD\n",
      "********************\n",
      "[*********************100%***********************]  1 of 1 completed\n",
      "\n",
      "1 Failed download:\n",
      "- DJ1: No timezone found, symbol may be delisted\n",
      "yahoo failed... len of df:  0\n",
      "tiingo failed... len of df:  0\n",
      "Added 485 stocks to the db\n",
      "    ticker priceCurrency ticker_currency\n",
      "154    DJ1           USD         DJ1-USD\n",
      "********************\n",
      "[*********************100%***********************]  1 of 1 completed\n",
      "\n",
      "1 Failed download:\n",
      "- DL2: No timezone found, symbol may be delisted\n",
      "yahoo failed... len of df:  0\n",
      "tiingo failed... len of df:  0\n",
      "Added 486 stocks to the db\n",
      "    ticker priceCurrency ticker_currency\n",
      "567    DL2           USD         DL2-USD\n",
      "********************\n",
      "[*********************100%***********************]  1 of 1 completed\n"
     ]
    },
    {
     "name": "stderr",
     "output_type": "stream",
     "text": [
      "C:\\Users\\david\\anaconda3\\envs\\svmmvo\\lib\\site-packages\\pandas_datareader\\tiingo.py:234: FutureWarning: In a future version of pandas all arguments of concat except for the argument 'objs' will be keyword-only.\n",
      "  return pd.concat(dfs, self._concat_axis)\n"
     ]
    },
    {
     "name": "stdout",
     "output_type": "stream",
     "text": [
      "Added 487 stocks to the db\n",
      "     ticker priceCurrency ticker_currency\n",
      "1228    DLR           USD         DLR-USD\n",
      "********************\n",
      "[*********************100%***********************]  1 of 1 completed\n"
     ]
    },
    {
     "name": "stderr",
     "output_type": "stream",
     "text": [
      "C:\\Users\\david\\anaconda3\\envs\\svmmvo\\lib\\site-packages\\pandas_datareader\\tiingo.py:234: FutureWarning: In a future version of pandas all arguments of concat except for the argument 'objs' will be keyword-only.\n",
      "  return pd.concat(dfs, self._concat_axis)\n"
     ]
    },
    {
     "name": "stdout",
     "output_type": "stream",
     "text": [
      "Added 488 stocks to the db\n",
      "     ticker priceCurrency ticker_currency\n",
      "1229   DLTR           USD        DLTR-USD\n",
      "********************\n",
      "[*********************100%***********************]  1 of 1 completed\n"
     ]
    },
    {
     "name": "stderr",
     "output_type": "stream",
     "text": [
      "C:\\Users\\david\\anaconda3\\envs\\svmmvo\\lib\\site-packages\\pandas_datareader\\tiingo.py:234: FutureWarning: In a future version of pandas all arguments of concat except for the argument 'objs' will be keyword-only.\n",
      "  return pd.concat(dfs, self._concat_axis)\n"
     ]
    },
    {
     "name": "stdout",
     "output_type": "stream",
     "text": [
      "Added 489 stocks to the db\n",
      "     ticker priceCurrency ticker_currency\n",
      "1230    DLX           USD         DLX-USD\n",
      "********************\n",
      "[*********************100%***********************]  1 of 1 completed\n",
      "\n",
      "1 Failed download:\n",
      "- DM2: No timezone found, symbol may be delisted\n",
      "yahoo failed... len of df:  0\n",
      "tiingo failed... len of df:  0\n",
      "Added 490 stocks to the db\n",
      "    ticker priceCurrency ticker_currency\n",
      "565    DM2           USD         DM2-USD\n",
      "********************\n",
      "[*********************100%***********************]  1 of 1 completed\n",
      "\n",
      "1 Failed download:\n",
      "- DML1: No timezone found, symbol may be delisted\n",
      "yahoo failed... len of df:  0\n",
      "tiingo failed... len of df:  0\n",
      "Added 491 stocks to the db\n",
      "    ticker priceCurrency ticker_currency\n",
      "707   DML1           USD        DML1-USD\n",
      "********************\n",
      "[*********************100%***********************]  1 of 1 completed\n",
      "\n",
      "1 Failed download:\n",
      "- DN1: No timezone found, symbol may be delisted\n",
      "yahoo failed... len of df:  0\n",
      "tiingo failed... len of df:  0\n",
      "Added 492 stocks to the db\n",
      "    ticker priceCurrency ticker_currency\n",
      "489    DN1           USD         DN1-USD\n",
      "********************\n",
      "[*********************100%***********************]  1 of 1 completed\n",
      "\n",
      "1 Failed download:\n",
      "- DNB1: No timezone found, symbol may be delisted\n",
      "yahoo failed... len of df:  0\n",
      "tiingo failed... len of df:  0\n",
      "Added 493 stocks to the db\n",
      "     ticker priceCurrency ticker_currency\n",
      "1231   DNB1           USD        DNB1-USD\n",
      "********************\n",
      "[*********************100%***********************]  1 of 1 completed\n",
      "\n",
      "1 Failed download:\n",
      "- DNB3: No timezone found, symbol may be delisted\n",
      "yahoo failed... len of df:  0\n",
      "tiingo failed... len of df:  0\n",
      "Added 494 stocks to the db\n",
      "   ticker priceCurrency ticker_currency\n",
      "30   DNB3           USD        DNB3-USD\n",
      "********************\n",
      "[*********************100%***********************]  1 of 1 completed\n"
     ]
    },
    {
     "name": "stderr",
     "output_type": "stream",
     "text": [
      "C:\\Users\\david\\anaconda3\\envs\\svmmvo\\lib\\site-packages\\pandas_datareader\\tiingo.py:234: FutureWarning: In a future version of pandas all arguments of concat except for the argument 'objs' will be keyword-only.\n",
      "  return pd.concat(dfs, self._concat_axis)\n"
     ]
    },
    {
     "name": "stdout",
     "output_type": "stream",
     "text": [
      "Added 495 stocks to the db\n",
      "     ticker priceCurrency ticker_currency\n",
      "1232     DO           USD          DO-USD\n",
      "********************\n",
      "[*********************100%***********************]  1 of 1 completed\n",
      "\n",
      "1 Failed download:\n",
      "- DOC1: No timezone found, symbol may be delisted\n",
      "yahoo failed... len of df:  0\n",
      "tiingo failed... len of df:  0\n",
      "Added 496 stocks to the db\n",
      "     ticker priceCurrency ticker_currency\n",
      "1233   DOC1           USD        DOC1-USD\n",
      "********************\n",
      "[*********************100%***********************]  1 of 1 completed\n"
     ]
    },
    {
     "name": "stderr",
     "output_type": "stream",
     "text": [
      "C:\\Users\\david\\anaconda3\\envs\\svmmvo\\lib\\site-packages\\pandas_datareader\\tiingo.py:234: FutureWarning: In a future version of pandas all arguments of concat except for the argument 'objs' will be keyword-only.\n",
      "  return pd.concat(dfs, self._concat_axis)\n"
     ]
    },
    {
     "name": "stdout",
     "output_type": "stream",
     "text": [
      "Added 497 stocks to the db\n",
      "     ticker priceCurrency ticker_currency\n",
      "1234    DOV           USD         DOV-USD\n",
      "********************\n",
      "[*********************100%***********************]  1 of 1 completed\n"
     ]
    },
    {
     "name": "stderr",
     "output_type": "stream",
     "text": [
      "C:\\Users\\david\\anaconda3\\envs\\svmmvo\\lib\\site-packages\\pandas_datareader\\tiingo.py:234: FutureWarning: In a future version of pandas all arguments of concat except for the argument 'objs' will be keyword-only.\n",
      "  return pd.concat(dfs, self._concat_axis)\n"
     ]
    },
    {
     "name": "stdout",
     "output_type": "stream",
     "text": [
      "Added 498 stocks to the db\n",
      "     ticker priceCurrency ticker_currency\n",
      "1235    DOW           USD         DOW-USD\n",
      "********************\n",
      "[*********************100%***********************]  1 of 1 completed\n",
      "\n",
      "1 Failed download:\n",
      "- DPHIQ1: No timezone found, symbol may be delisted\n",
      "yahoo failed... len of df:  0\n",
      "tiingo failed... len of df:  0\n",
      "Added 499 stocks to the db\n",
      "     ticker priceCurrency ticker_currency\n",
      "131  DPHIQ1           USD      DPHIQ1-USD\n",
      "********************\n",
      "[*********************100%***********************]  1 of 1 completed\n",
      "\n",
      "1 Failed download:\n",
      "- DPL1: No timezone found, symbol may be delisted\n",
      "yahoo failed... len of df:  0\n",
      "tiingo failed... len of df:  0\n",
      "Added 500 stocks to the db\n",
      "    ticker priceCurrency ticker_currency\n",
      "358   DPL1           USD        DPL1-USD\n",
      "********************\n",
      "[*********************100%***********************]  1 of 1 completed\n",
      "\n",
      "1 Failed download:\n",
      "- DPT1: No timezone found, symbol may be delisted\n",
      "yahoo failed... len of df:  0\n",
      "tiingo failed... len of df:  0\n",
      "Added 501 stocks to the db\n",
      "    ticker priceCurrency ticker_currency\n",
      "702   DPT1           USD        DPT1-USD\n",
      "********************\n",
      "[*********************100%***********************]  1 of 1 completed\n"
     ]
    },
    {
     "name": "stderr",
     "output_type": "stream",
     "text": [
      "C:\\Users\\david\\anaconda3\\envs\\svmmvo\\lib\\site-packages\\pandas_datareader\\tiingo.py:234: FutureWarning: In a future version of pandas all arguments of concat except for the argument 'objs' will be keyword-only.\n",
      "  return pd.concat(dfs, self._concat_axis)\n"
     ]
    },
    {
     "name": "stdout",
     "output_type": "stream",
     "text": [
      "Added 502 stocks to the db\n",
      "     ticker priceCurrency ticker_currency\n",
      "1236    DPZ           USD         DPZ-USD\n",
      "********************\n",
      "[*********************100%***********************]  1 of 1 completed\n",
      "\n",
      "1 Failed download:\n",
      "- DQE1: No timezone found, symbol may be delisted\n",
      "yahoo failed... len of df:  0\n",
      "tiingo failed... len of df:  0\n",
      "Added 503 stocks to the db\n",
      "    ticker priceCurrency ticker_currency\n",
      "389   DQE1           USD        DQE1-USD\n",
      "********************\n",
      "[*********************100%***********************]  1 of 1 completed\n",
      "\n",
      "1 Failed download:\n",
      "- DRE1: No timezone found, symbol may be delisted\n",
      "yahoo failed... len of df:  0\n",
      "tiingo failed... len of df:  0\n",
      "Added 504 stocks to the db\n",
      "    ticker priceCurrency ticker_currency\n",
      "899   DRE1           USD        DRE1-USD\n",
      "********************\n",
      "[*********************100%***********************]  1 of 1 completed\n"
     ]
    },
    {
     "name": "stderr",
     "output_type": "stream",
     "text": [
      "C:\\Users\\david\\anaconda3\\envs\\svmmvo\\lib\\site-packages\\pandas_datareader\\tiingo.py:234: FutureWarning: In a future version of pandas all arguments of concat except for the argument 'objs' will be keyword-only.\n",
      "  return pd.concat(dfs, self._concat_axis)\n"
     ]
    },
    {
     "name": "stdout",
     "output_type": "stream",
     "text": [
      "Added 505 stocks to the db\n",
      "     ticker priceCurrency ticker_currency\n",
      "1237    DRI           USD         DRI-USD\n",
      "********************\n",
      "[*********************100%***********************]  1 of 1 completed\n",
      "\n",
      "1 Failed download:\n",
      "- DRX1: No timezone found, symbol may be delisted\n",
      "yahoo failed... len of df:  0\n",
      "tiingo failed... len of df:  0\n",
      "Added 506 stocks to the db\n",
      "    ticker priceCurrency ticker_currency\n",
      "969   DRX1           USD        DRX1-USD\n",
      "********************\n",
      "[*********************100%***********************]  1 of 1 completed\n"
     ]
    },
    {
     "name": "stderr",
     "output_type": "stream",
     "text": [
      "C:\\Users\\david\\anaconda3\\envs\\svmmvo\\lib\\site-packages\\pandas_datareader\\tiingo.py:234: FutureWarning: In a future version of pandas all arguments of concat except for the argument 'objs' will be keyword-only.\n",
      "  return pd.concat(dfs, self._concat_axis)\n"
     ]
    },
    {
     "name": "stdout",
     "output_type": "stream",
     "text": [
      "Added 507 stocks to the db\n",
      "     ticker priceCurrency ticker_currency\n",
      "1238    DTE           USD         DTE-USD\n",
      "********************\n",
      "[*********************100%***********************]  1 of 1 completed\n",
      "\n",
      "1 Failed download:\n",
      "- DTM1: No timezone found, symbol may be delisted\n",
      "yahoo failed... len of df:  0\n",
      "tiingo failed... len of df:  0\n",
      "Added 508 stocks to the db\n",
      "    ticker priceCurrency ticker_currency\n",
      "943   DTM1           USD        DTM1-USD\n",
      "********************\n",
      "[*********************100%***********************]  1 of 1 completed\n",
      "\n",
      "1 Failed download:\n",
      "- DTV2: No timezone found, symbol may be delisted\n",
      "yahoo failed... len of df:  0\n",
      "tiingo failed... len of df:  0\n",
      "Added 509 stocks to the db\n",
      "     ticker priceCurrency ticker_currency\n",
      "1239   DTV2           USD        DTV2-USD\n",
      "********************\n",
      "[*********************100%***********************]  1 of 1 completed\n"
     ]
    },
    {
     "name": "stderr",
     "output_type": "stream",
     "text": [
      "C:\\Users\\david\\anaconda3\\envs\\svmmvo\\lib\\site-packages\\pandas_datareader\\tiingo.py:234: FutureWarning: In a future version of pandas all arguments of concat except for the argument 'objs' will be keyword-only.\n",
      "  return pd.concat(dfs, self._concat_axis)\n"
     ]
    },
    {
     "name": "stdout",
     "output_type": "stream",
     "text": [
      "Added 510 stocks to the db\n",
      "     ticker priceCurrency ticker_currency\n",
      "1240    DUK           USD         DUK-USD\n",
      "********************\n",
      "[*********************100%***********************]  1 of 1 completed\n",
      "\n",
      "1 Failed download:\n",
      "- DV1: No timezone found, symbol may be delisted\n",
      "yahoo failed... len of df:  0\n",
      "tiingo failed... len of df:  0\n",
      "Added 511 stocks to the db\n",
      "    ticker priceCurrency ticker_currency\n",
      "816    DV1           USD         DV1-USD\n",
      "********************\n",
      "[*********************100%***********************]  1 of 1 completed\n"
     ]
    },
    {
     "name": "stderr",
     "output_type": "stream",
     "text": [
      "C:\\Users\\david\\anaconda3\\envs\\svmmvo\\lib\\site-packages\\pandas_datareader\\tiingo.py:234: FutureWarning: In a future version of pandas all arguments of concat except for the argument 'objs' will be keyword-only.\n",
      "  return pd.concat(dfs, self._concat_axis)\n"
     ]
    },
    {
     "name": "stdout",
     "output_type": "stream",
     "text": [
      "Added 512 stocks to the db\n",
      "     ticker priceCurrency ticker_currency\n",
      "1241    DVA           USD         DVA-USD\n",
      "********************\n",
      "[*********************100%***********************]  1 of 1 completed\n"
     ]
    },
    {
     "name": "stderr",
     "output_type": "stream",
     "text": [
      "C:\\Users\\david\\anaconda3\\envs\\svmmvo\\lib\\site-packages\\pandas_datareader\\tiingo.py:234: FutureWarning: In a future version of pandas all arguments of concat except for the argument 'objs' will be keyword-only.\n",
      "  return pd.concat(dfs, self._concat_axis)\n"
     ]
    },
    {
     "name": "stdout",
     "output_type": "stream",
     "text": [
      "Added 513 stocks to the db\n",
      "     ticker priceCurrency ticker_currency\n",
      "1242    DVN           USD         DVN-USD\n",
      "********************\n",
      "[*********************100%***********************]  1 of 1 completed\n"
     ]
    },
    {
     "name": "stderr",
     "output_type": "stream",
     "text": [
      "C:\\Users\\david\\anaconda3\\envs\\svmmvo\\lib\\site-packages\\pandas_datareader\\tiingo.py:234: FutureWarning: In a future version of pandas all arguments of concat except for the argument 'objs' will be keyword-only.\n",
      "  return pd.concat(dfs, self._concat_axis)\n"
     ]
    },
    {
     "name": "stdout",
     "output_type": "stream",
     "text": [
      "Added 514 stocks to the db\n",
      "     ticker priceCurrency ticker_currency\n",
      "1243    DXC           USD         DXC-USD\n",
      "********************\n",
      "[*********************100%***********************]  1 of 1 completed\n"
     ]
    },
    {
     "name": "stderr",
     "output_type": "stream",
     "text": [
      "C:\\Users\\david\\anaconda3\\envs\\svmmvo\\lib\\site-packages\\pandas_datareader\\tiingo.py:234: FutureWarning: In a future version of pandas all arguments of concat except for the argument 'objs' will be keyword-only.\n",
      "  return pd.concat(dfs, self._concat_axis)\n"
     ]
    },
    {
     "name": "stdout",
     "output_type": "stream",
     "text": [
      "Added 515 stocks to the db\n",
      "     ticker priceCurrency ticker_currency\n",
      "1244   DXCM           USD        DXCM-USD\n",
      "********************\n",
      "[*********************100%***********************]  1 of 1 completed\n",
      "\n",
      "1 Failed download:\n",
      "- DYM1: No timezone found, symbol may be delisted\n",
      "yahoo failed... len of df:  0\n",
      "tiingo failed... len of df:  0\n",
      "Added 516 stocks to the db\n",
      "    ticker priceCurrency ticker_currency\n",
      "741   DYM1           USD        DYM1-USD\n",
      "********************\n",
      "[*********************100%***********************]  1 of 1 completed\n",
      "\n",
      "1 Failed download:\n",
      "- DYNIQ1: No timezone found, symbol may be delisted\n",
      "yahoo failed... len of df:  0\n",
      "tiingo failed... len of df:  0\n",
      "Added 517 stocks to the db\n",
      "     ticker priceCurrency ticker_currency\n",
      "124  DYNIQ1           USD      DYNIQ1-USD\n",
      "********************\n",
      "[*********************100%***********************]  1 of 1 completed\n",
      "\n",
      "1 Failed download:\n",
      "- E1: No timezone found, symbol may be delisted\n",
      "yahoo failed... len of df:  0\n",
      "tiingo failed... len of df:  0\n",
      "Added 518 stocks to the db\n",
      "    ticker priceCurrency ticker_currency\n",
      "601     E1           USD          E1-USD\n",
      "********************\n",
      "[*********************100%***********************]  1 of 1 completed\n",
      "\n",
      "1 Failed download:\n",
      "- E2: No timezone found, symbol may be delisted\n",
      "yahoo failed... len of df:  0\n",
      "tiingo failed... len of df:  0\n",
      "Added 519 stocks to the db\n",
      "    ticker priceCurrency ticker_currency\n",
      "446     E2           USD          E2-USD\n",
      "********************\n",
      "[*********************100%***********************]  1 of 1 completed\n"
     ]
    },
    {
     "name": "stderr",
     "output_type": "stream",
     "text": [
      "C:\\Users\\david\\anaconda3\\envs\\svmmvo\\lib\\site-packages\\pandas_datareader\\tiingo.py:234: FutureWarning: In a future version of pandas all arguments of concat except for the argument 'objs' will be keyword-only.\n",
      "  return pd.concat(dfs, self._concat_axis)\n"
     ]
    },
    {
     "name": "stdout",
     "output_type": "stream",
     "text": [
      "Added 520 stocks to the db\n",
      "     ticker priceCurrency ticker_currency\n",
      "1245     EA           USD          EA-USD\n",
      "********************\n",
      "[*********************100%***********************]  1 of 1 completed\n",
      "\n",
      "1 Failed download:\n",
      "- EAF1: No timezone found, symbol may be delisted\n",
      "yahoo failed... len of df:  0\n",
      "tiingo failed... len of df:  0\n",
      "Added 521 stocks to the db\n",
      "    ticker priceCurrency ticker_currency\n",
      "461   EAF1           USD        EAF1-USD\n",
      "********************\n",
      "[*********************100%***********************]  1 of 1 completed\n",
      "\n",
      "1 Failed download:\n",
      "- EAL1: No timezone found, symbol may be delisted\n",
      "yahoo failed... len of df:  0\n",
      "tiingo failed... len of df:  0\n",
      "Added 522 stocks to the db\n",
      "    ticker priceCurrency ticker_currency\n",
      "598   EAL1           USD        EAL1-USD\n",
      "********************\n",
      "[*********************100%***********************]  1 of 1 completed\n",
      "\n",
      "1 Failed download:\n",
      "- EAS1: No timezone found, symbol may be delisted\n",
      "yahoo failed... len of df:  0\n",
      "tiingo failed... len of df:  0\n",
      "Added 523 stocks to the db\n",
      "    ticker priceCurrency ticker_currency\n",
      "367   EAS1           USD        EAS1-USD\n",
      "********************\n",
      "[*********************100%***********************]  1 of 1 completed\n"
     ]
    },
    {
     "name": "stderr",
     "output_type": "stream",
     "text": [
      "C:\\Users\\david\\anaconda3\\envs\\svmmvo\\lib\\site-packages\\pandas_datareader\\tiingo.py:234: FutureWarning: In a future version of pandas all arguments of concat except for the argument 'objs' will be keyword-only.\n",
      "  return pd.concat(dfs, self._concat_axis)\n"
     ]
    },
    {
     "name": "stdout",
     "output_type": "stream",
     "text": [
      "Added 524 stocks to the db\n",
      "     ticker priceCurrency ticker_currency\n",
      "1246   EBAY           USD        EBAY-USD\n",
      "********************\n",
      "[*********************100%***********************]  1 of 1 completed\n",
      "\n",
      "1 Failed download:\n",
      "- EC1: No timezone found, symbol may be delisted\n",
      "yahoo failed... len of df:  0\n",
      "tiingo failed... len of df:  0\n",
      "Added 525 stocks to the db\n",
      "     ticker priceCurrency ticker_currency\n",
      "1247    EC1           USD         EC1-USD\n",
      "********************\n",
      "[*********************100%***********************]  1 of 1 completed\n",
      "\n",
      "1 Failed download:\n",
      "- ECH1: No timezone found, symbol may be delisted\n",
      "yahoo failed... len of df:  0\n",
      "tiingo failed... len of df:  0\n",
      "Added 526 stocks to the db\n",
      "     ticker priceCurrency ticker_currency\n",
      "1248   ECH1           USD        ECH1-USD\n",
      "********************\n",
      "[*********************100%***********************]  1 of 1 completed\n",
      "\n",
      "1 Failed download:\n",
      "- ECK2: No timezone found, symbol may be delisted\n",
      "yahoo failed... len of df:  0\n",
      "tiingo failed... len of df:  0\n",
      "Added 527 stocks to the db\n",
      "    ticker priceCurrency ticker_currency\n",
      "813   ECK2           USD        ECK2-USD\n",
      "********************\n",
      "[*********************100%***********************]  1 of 1 completed\n"
     ]
    },
    {
     "name": "stderr",
     "output_type": "stream",
     "text": [
      "C:\\Users\\david\\anaconda3\\envs\\svmmvo\\lib\\site-packages\\pandas_datareader\\tiingo.py:234: FutureWarning: In a future version of pandas all arguments of concat except for the argument 'objs' will be keyword-only.\n",
      "  return pd.concat(dfs, self._concat_axis)\n"
     ]
    },
    {
     "name": "stdout",
     "output_type": "stream",
     "text": [
      "Added 528 stocks to the db\n",
      "     ticker priceCurrency ticker_currency\n",
      "1249    ECL           USD         ECL-USD\n",
      "********************\n",
      "[*********************100%***********************]  1 of 1 completed\n",
      "\n",
      "1 Failed download:\n",
      "- ECO1: No timezone found, symbol may be delisted\n",
      "yahoo failed... len of df:  0\n",
      "tiingo failed... len of df:  0\n",
      "Added 529 stocks to the db\n",
      "    ticker priceCurrency ticker_currency\n",
      "262   ECO1           USD        ECO1-USD\n",
      "********************\n",
      "[*********************100%***********************]  1 of 1 completed\n",
      "\n",
      "1 Failed download:\n",
      "- ECO2: No timezone found, symbol may be delisted\n",
      "yahoo failed... len of df:  0\n",
      "tiingo failed... len of df:  0\n",
      "Added 530 stocks to the db\n",
      "    ticker priceCurrency ticker_currency\n",
      "928   ECO2           USD        ECO2-USD\n",
      "********************\n",
      "[*********************100%***********************]  1 of 1 completed\n"
     ]
    },
    {
     "name": "stderr",
     "output_type": "stream",
     "text": [
      "C:\\Users\\david\\anaconda3\\envs\\svmmvo\\lib\\site-packages\\pandas_datareader\\tiingo.py:234: FutureWarning: In a future version of pandas all arguments of concat except for the argument 'objs' will be keyword-only.\n",
      "  return pd.concat(dfs, self._concat_axis)\n"
     ]
    },
    {
     "name": "stdout",
     "output_type": "stream",
     "text": [
      "Added 531 stocks to the db\n",
      "     ticker priceCurrency ticker_currency\n",
      "1250     ED           USD          ED-USD\n",
      "********************\n",
      "[*********************100%***********************]  1 of 1 completed\n",
      "\n",
      "1 Failed download:\n",
      "- EDS1: No timezone found, symbol may be delisted\n",
      "yahoo failed... len of df:  0\n",
      "tiingo failed... len of df:  0\n",
      "Added 532 stocks to the db\n",
      "    ticker priceCurrency ticker_currency\n",
      "891   EDS1           USD        EDS1-USD\n",
      "********************\n",
      "[*********************100%***********************]  1 of 1 completed\n",
      "\n",
      "1 Failed download:\n",
      "- EDS2: No timezone found, symbol may be delisted\n",
      "yahoo failed... len of df:  0\n",
      "tiingo failed... len of df:  0\n",
      "Added 533 stocks to the db\n",
      "    ticker priceCurrency ticker_currency\n",
      "150   EDS2           USD        EDS2-USD\n",
      "********************\n",
      "[*********************100%***********************]  1 of 1 completed\n",
      "\n",
      "1 Failed download:\n",
      "- EFU1: No timezone found, symbol may be delisted\n",
      "yahoo failed... len of df:  0\n",
      "tiingo failed... len of df:  0\n",
      "Added 534 stocks to the db\n",
      "     ticker priceCurrency ticker_currency\n",
      "1251   EFU1           USD        EFU1-USD\n",
      "********************\n",
      "[*********************100%***********************]  1 of 1 completed\n"
     ]
    },
    {
     "name": "stderr",
     "output_type": "stream",
     "text": [
      "C:\\Users\\david\\anaconda3\\envs\\svmmvo\\lib\\site-packages\\pandas_datareader\\tiingo.py:234: FutureWarning: In a future version of pandas all arguments of concat except for the argument 'objs' will be keyword-only.\n",
      "  return pd.concat(dfs, self._concat_axis)\n"
     ]
    },
    {
     "name": "stdout",
     "output_type": "stream",
     "text": [
      "Added 535 stocks to the db\n",
      "     ticker priceCurrency ticker_currency\n",
      "1252    EFX           USD         EFX-USD\n",
      "********************\n",
      "[*********************100%***********************]  1 of 1 completed\n",
      "\n",
      "1 Failed download:\n",
      "- EGLP1: No timezone found, symbol may be delisted\n",
      "yahoo failed... len of df:  0\n",
      "tiingo failed... len of df:  0\n",
      "Added 536 stocks to the db\n",
      "    ticker priceCurrency ticker_currency\n",
      "368  EGLP1           USD       EGLP1-USD\n",
      "********************\n",
      "[*********************100%***********************]  1 of 1 completed\n"
     ]
    },
    {
     "name": "stderr",
     "output_type": "stream",
     "text": [
      "C:\\Users\\david\\anaconda3\\envs\\svmmvo\\lib\\site-packages\\pandas_datareader\\tiingo.py:234: FutureWarning: In a future version of pandas all arguments of concat except for the argument 'objs' will be keyword-only.\n",
      "  return pd.concat(dfs, self._concat_axis)\n"
     ]
    },
    {
     "name": "stdout",
     "output_type": "stream",
     "text": [
      "Added 537 stocks to the db\n",
      "     ticker priceCurrency ticker_currency\n",
      "1253    EIX           USD         EIX-USD\n",
      "********************\n",
      "[*********************100%***********************]  1 of 1 completed\n",
      "\n",
      "1 Failed download:\n",
      "- EJN1: No timezone found, symbol may be delisted\n",
      "yahoo failed... len of df:  0\n",
      "tiingo failed... len of df:  0\n",
      "Added 538 stocks to the db\n",
      "    ticker priceCurrency ticker_currency\n",
      "677   EJN1           USD        EJN1-USD\n",
      "********************\n",
      "[*********************100%***********************]  1 of 1 completed\n",
      "\n",
      "1 Failed download:\n",
      "- EKDKQ1: No timezone found, symbol may be delisted\n",
      "yahoo failed... len of df:  0\n",
      "tiingo failed... len of df:  0\n",
      "Added 539 stocks to the db\n",
      "    ticker priceCurrency ticker_currency\n",
      "36  EKDKQ1           USD      EKDKQ1-USD\n",
      "********************\n",
      "[*********************100%***********************]  1 of 1 completed\n"
     ]
    },
    {
     "name": "stderr",
     "output_type": "stream",
     "text": [
      "C:\\Users\\david\\anaconda3\\envs\\svmmvo\\lib\\site-packages\\pandas_datareader\\tiingo.py:234: FutureWarning: In a future version of pandas all arguments of concat except for the argument 'objs' will be keyword-only.\n",
      "  return pd.concat(dfs, self._concat_axis)\n"
     ]
    },
    {
     "name": "stdout",
     "output_type": "stream",
     "text": [
      "Added 540 stocks to the db\n",
      "     ticker priceCurrency ticker_currency\n",
      "1254     EL           USD          EL-USD\n",
      "********************\n",
      "[*********************100%***********************]  1 of 1 completed\n",
      "\n",
      "1 Failed download:\n",
      "- EL2: No timezone found, symbol may be delisted\n",
      "yahoo failed... len of df:  0\n",
      "tiingo failed... len of df:  0\n",
      "Added 541 stocks to the db\n",
      "    ticker priceCurrency ticker_currency\n",
      "972    EL2           USD         EL2-USD\n",
      "********************\n",
      "[*********************100%***********************]  1 of 1 completed\n",
      "\n",
      "1 Failed download:\n",
      "- ELG1: No timezone found, symbol may be delisted\n",
      "yahoo failed... len of df:  0\n",
      "tiingo failed... len of df:  0\n",
      "Added 542 stocks to the db\n",
      "    ticker priceCurrency ticker_currency\n",
      "544   ELG1           USD        ELG1-USD\n",
      "********************\n",
      "[*********************100%***********************]  1 of 1 completed\n"
     ]
    },
    {
     "name": "stderr",
     "output_type": "stream",
     "text": [
      "C:\\Users\\david\\anaconda3\\envs\\svmmvo\\lib\\site-packages\\pandas_datareader\\tiingo.py:234: FutureWarning: In a future version of pandas all arguments of concat except for the argument 'objs' will be keyword-only.\n",
      "  return pd.concat(dfs, self._concat_axis)\n"
     ]
    },
    {
     "name": "stdout",
     "output_type": "stream",
     "text": [
      "Added 543 stocks to the db\n",
      "     ticker priceCurrency ticker_currency\n",
      "1255    ELV           USD         ELV-USD\n",
      "********************\n",
      "[*********************100%***********************]  1 of 1 completed\n",
      "\n",
      "1 Failed download:\n",
      "- EMC3: No timezone found, symbol may be delisted\n",
      "yahoo failed... len of df:  0\n",
      "tiingo failed... len of df:  0\n",
      "Added 544 stocks to the db\n",
      "   ticker priceCurrency ticker_currency\n",
      "41   EMC3           USD        EMC3-USD\n",
      "********************\n",
      "[*********************100%***********************]  1 of 1 completed\n"
     ]
    },
    {
     "name": "stderr",
     "output_type": "stream",
     "text": [
      "C:\\Users\\david\\anaconda3\\envs\\svmmvo\\lib\\site-packages\\pandas_datareader\\tiingo.py:234: FutureWarning: In a future version of pandas all arguments of concat except for the argument 'objs' will be keyword-only.\n",
      "  return pd.concat(dfs, self._concat_axis)\n"
     ]
    },
    {
     "name": "stdout",
     "output_type": "stream",
     "text": [
      "Added 545 stocks to the db\n",
      "     ticker priceCurrency ticker_currency\n",
      "1256    EMN           USD         EMN-USD\n",
      "********************\n",
      "[*********************100%***********************]  1 of 1 completed\n"
     ]
    },
    {
     "name": "stderr",
     "output_type": "stream",
     "text": [
      "C:\\Users\\david\\anaconda3\\envs\\svmmvo\\lib\\site-packages\\pandas_datareader\\tiingo.py:234: FutureWarning: In a future version of pandas all arguments of concat except for the argument 'objs' will be keyword-only.\n",
      "  return pd.concat(dfs, self._concat_axis)\n"
     ]
    },
    {
     "name": "stdout",
     "output_type": "stream",
     "text": [
      "Added 546 stocks to the db\n",
      "     ticker priceCurrency ticker_currency\n",
      "1257    EMR           USD         EMR-USD\n",
      "********************\n",
      "[*********************100%***********************]  1 of 1 completed\n",
      "\n",
      "1 Failed download:\n",
      "- EN2: No timezone found, symbol may be delisted\n",
      "yahoo failed... len of df:  0\n",
      "tiingo failed... len of df:  0\n",
      "Added 547 stocks to the db\n",
      "    ticker priceCurrency ticker_currency\n",
      "961    EN2           USD         EN2-USD\n",
      "********************\n",
      "[*********************100%***********************]  1 of 1 completed\n"
     ]
    },
    {
     "name": "stderr",
     "output_type": "stream",
     "text": [
      "C:\\Users\\david\\anaconda3\\envs\\svmmvo\\lib\\site-packages\\pandas_datareader\\tiingo.py:234: FutureWarning: In a future version of pandas all arguments of concat except for the argument 'objs' will be keyword-only.\n",
      "  return pd.concat(dfs, self._concat_axis)\n"
     ]
    },
    {
     "name": "stdout",
     "output_type": "stream",
     "text": [
      "Added 548 stocks to the db\n",
      "     ticker priceCurrency ticker_currency\n",
      "1258   ENPH           USD        ENPH-USD\n",
      "********************\n",
      "[*********************100%***********************]  1 of 1 completed\n",
      "\n",
      "1 Failed download:\n",
      "- ENRNQ1: No timezone found, symbol may be delisted\n",
      "yahoo failed... len of df:  0\n",
      "tiingo failed... len of df:  0\n",
      "Added 549 stocks to the db\n",
      "     ticker priceCurrency ticker_currency\n",
      "169  ENRNQ1           USD      ENRNQ1-USD\n",
      "********************\n",
      "[*********************100%***********************]  1 of 1 completed\n",
      "\n",
      "1 Failed download:\n",
      "- ENS1: No timezone found, symbol may be delisted\n",
      "yahoo failed... len of df:  0\n",
      "tiingo failed... len of df:  0\n",
      "Added 550 stocks to the db\n",
      "    ticker priceCurrency ticker_currency\n",
      "268   ENS1           USD        ENS1-USD\n",
      "********************\n",
      "[*********************100%***********************]  1 of 1 completed\n",
      "\n",
      "1 Failed download:\n",
      "- ENSO1: No timezone found, symbol may be delisted\n",
      "yahoo failed... len of df:  0\n",
      "tiingo failed... len of df:  0\n",
      "Added 551 stocks to the db\n",
      "    ticker priceCurrency ticker_currency\n",
      "420  ENSO1           USD       ENSO1-USD\n",
      "********************\n",
      "[*********************100%***********************]  1 of 1 completed\n"
     ]
    },
    {
     "name": "stderr",
     "output_type": "stream",
     "text": [
      "C:\\Users\\david\\anaconda3\\envs\\svmmvo\\lib\\site-packages\\pandas_datareader\\tiingo.py:234: FutureWarning: In a future version of pandas all arguments of concat except for the argument 'objs' will be keyword-only.\n",
      "  return pd.concat(dfs, self._concat_axis)\n"
     ]
    },
    {
     "name": "stdout",
     "output_type": "stream",
     "text": [
      "Added 552 stocks to the db\n",
      "     ticker priceCurrency ticker_currency\n",
      "1259    EOG           USD         EOG-USD\n",
      "********************\n",
      "[*********************100%***********************]  1 of 1 completed\n",
      "\n",
      "1 Failed download:\n",
      "- EOP1: No timezone found, symbol may be delisted\n",
      "yahoo failed... len of df:  0\n",
      "tiingo failed... len of df:  0\n",
      "Added 553 stocks to the db\n",
      "    ticker priceCurrency ticker_currency\n",
      "272   EOP1           USD        EOP1-USD\n",
      "********************\n",
      "[*********************100%***********************]  1 of 1 completed\n",
      "\n",
      "1 Failed download:\n",
      "- EP2: No timezone found, symbol may be delisted\n",
      "yahoo failed... len of df:  0\n",
      "tiingo failed... len of df:  0\n",
      "Added 554 stocks to the db\n",
      "   ticker priceCurrency ticker_currency\n",
      "99    EP2           USD         EP2-USD\n",
      "********************\n",
      "[*********************100%***********************]  1 of 1 completed\n"
     ]
    },
    {
     "name": "stderr",
     "output_type": "stream",
     "text": [
      "C:\\Users\\david\\anaconda3\\envs\\svmmvo\\lib\\site-packages\\pandas_datareader\\tiingo.py:234: FutureWarning: In a future version of pandas all arguments of concat except for the argument 'objs' will be keyword-only.\n",
      "  return pd.concat(dfs, self._concat_axis)\n"
     ]
    },
    {
     "name": "stdout",
     "output_type": "stream",
     "text": [
      "Added 555 stocks to the db\n",
      "     ticker priceCurrency ticker_currency\n",
      "1260   EPAM           USD        EPAM-USD\n",
      "********************\n",
      "[*********************100%***********************]  1 of 1 completed\n",
      "\n",
      "1 Failed download:\n",
      "- EQ4: No timezone found, symbol may be delisted\n",
      "yahoo failed... len of df:  0\n",
      "tiingo failed... len of df:  0\n",
      "Added 556 stocks to the db\n",
      "    ticker priceCurrency ticker_currency\n",
      "181    EQ4           USD         EQ4-USD\n",
      "********************\n",
      "[*********************100%***********************]  1 of 1 completed\n"
     ]
    },
    {
     "name": "stderr",
     "output_type": "stream",
     "text": [
      "C:\\Users\\david\\anaconda3\\envs\\svmmvo\\lib\\site-packages\\pandas_datareader\\tiingo.py:234: FutureWarning: In a future version of pandas all arguments of concat except for the argument 'objs' will be keyword-only.\n",
      "  return pd.concat(dfs, self._concat_axis)\n"
     ]
    },
    {
     "name": "stdout",
     "output_type": "stream",
     "text": [
      "Added 557 stocks to the db\n",
      "     ticker priceCurrency ticker_currency\n",
      "1261   EQIX           USD        EQIX-USD\n",
      "********************\n",
      "[*********************100%***********************]  1 of 1 completed\n"
     ]
    },
    {
     "name": "stderr",
     "output_type": "stream",
     "text": [
      "C:\\Users\\david\\anaconda3\\envs\\svmmvo\\lib\\site-packages\\pandas_datareader\\tiingo.py:234: FutureWarning: In a future version of pandas all arguments of concat except for the argument 'objs' will be keyword-only.\n",
      "  return pd.concat(dfs, self._concat_axis)\n"
     ]
    },
    {
     "name": "stdout",
     "output_type": "stream",
     "text": [
      "Added 558 stocks to the db\n",
      "     ticker priceCurrency ticker_currency\n",
      "1262    EQR           USD         EQR-USD\n",
      "********************\n",
      "[*********************100%***********************]  1 of 1 completed\n"
     ]
    },
    {
     "name": "stderr",
     "output_type": "stream",
     "text": [
      "C:\\Users\\david\\anaconda3\\envs\\svmmvo\\lib\\site-packages\\pandas_datareader\\tiingo.py:234: FutureWarning: In a future version of pandas all arguments of concat except for the argument 'objs' will be keyword-only.\n",
      "  return pd.concat(dfs, self._concat_axis)\n"
     ]
    },
    {
     "name": "stdout",
     "output_type": "stream",
     "text": [
      "Added 559 stocks to the db\n",
      "     ticker priceCurrency ticker_currency\n",
      "1263    EQT           USD         EQT-USD\n",
      "********************\n",
      "[*********************100%***********************]  1 of 1 completed\n",
      "\n",
      "1 Failed download:\n",
      "- ERP1: No timezone found, symbol may be delisted\n",
      "yahoo failed... len of df:  0\n",
      "tiingo failed... len of df:  0\n",
      "Added 560 stocks to the db\n",
      "    ticker priceCurrency ticker_currency\n",
      "938   ERP1           USD        ERP1-USD\n",
      "********************\n",
      "[*********************100%***********************]  1 of 1 completed\n"
     ]
    },
    {
     "name": "stderr",
     "output_type": "stream",
     "text": [
      "C:\\Users\\david\\anaconda3\\envs\\svmmvo\\lib\\site-packages\\pandas_datareader\\tiingo.py:234: FutureWarning: In a future version of pandas all arguments of concat except for the argument 'objs' will be keyword-only.\n",
      "  return pd.concat(dfs, self._concat_axis)\n"
     ]
    },
    {
     "name": "stdout",
     "output_type": "stream",
     "text": [
      "Added 561 stocks to the db\n",
      "     ticker priceCurrency ticker_currency\n",
      "1264     ES           USD          ES-USD\n",
      "********************\n",
      "[*********************100%***********************]  1 of 1 completed\n",
      "\n",
      "1 Failed download:\n",
      "- ESB2: No timezone found, symbol may be delisted\n",
      "yahoo failed... len of df:  0\n",
      "tiingo failed... len of df:  0\n",
      "Added 562 stocks to the db\n",
      "    ticker priceCurrency ticker_currency\n",
      "493   ESB2           USD        ESB2-USD\n",
      "********************\n",
      "[*********************100%***********************]  1 of 1 completed\n",
      "\n",
      "1 Failed download:\n",
      "- ESM3: No timezone found, symbol may be delisted\n",
      "yahoo failed... len of df:  0\n",
      "tiingo failed... len of df:  0\n",
      "Added 563 stocks to the db\n",
      "    ticker priceCurrency ticker_currency\n",
      "382   ESM3           USD        ESM3-USD\n",
      "********************\n",
      "[*********************100%***********************]  1 of 1 completed\n",
      "\n",
      "1 Failed download:\n",
      "- ESRX1: No timezone found, symbol may be delisted\n",
      "yahoo failed... len of df:  0\n",
      "tiingo failed... len of df:  0\n",
      "Added 564 stocks to the db\n",
      "   ticker priceCurrency ticker_currency\n",
      "26  ESRX1           USD       ESRX1-USD\n",
      "********************\n",
      "[*********************100%***********************]  1 of 1 completed\n"
     ]
    },
    {
     "name": "stderr",
     "output_type": "stream",
     "text": [
      "C:\\Users\\david\\anaconda3\\envs\\svmmvo\\lib\\site-packages\\pandas_datareader\\tiingo.py:234: FutureWarning: In a future version of pandas all arguments of concat except for the argument 'objs' will be keyword-only.\n",
      "  return pd.concat(dfs, self._concat_axis)\n"
     ]
    },
    {
     "name": "stdout",
     "output_type": "stream",
     "text": [
      "Added 565 stocks to the db\n",
      "     ticker priceCurrency ticker_currency\n",
      "1265    ESS           USD         ESS-USD\n",
      "********************\n",
      "[*********************100%***********************]  1 of 1 completed\n",
      "\n",
      "1 Failed download:\n",
      "- ESY2: No timezone found, symbol may be delisted\n",
      "yahoo failed... len of df:  0\n",
      "tiingo failed... len of df:  0\n",
      "Added 566 stocks to the db\n",
      "    ticker priceCurrency ticker_currency\n",
      "560   ESY2           USD        ESY2-USD\n",
      "********************\n",
      "[*********************100%***********************]  1 of 1 completed\n",
      "\n",
      "1 Failed download:\n",
      "- ET1: No timezone found, symbol may be delisted\n",
      "yahoo failed... len of df:  0\n",
      "tiingo failed... len of df:  0\n",
      "Added 567 stocks to the db\n",
      "     ticker priceCurrency ticker_currency\n",
      "1266    ET1           USD         ET1-USD\n",
      "********************\n",
      "[*********************100%***********************]  1 of 1 completed\n",
      "\n",
      "1 Failed download:\n",
      "- ET2: No timezone found, symbol may be delisted\n",
      "yahoo failed... len of df:  0\n",
      "tiingo failed... len of df:  0\n",
      "Added 568 stocks to the db\n",
      "    ticker priceCurrency ticker_currency\n",
      "742    ET2           USD         ET2-USD\n",
      "********************\n",
      "[*********************100%***********************]  1 of 1 completed\n",
      "\n",
      "1 Failed download:\n",
      "- ETFC1: No timezone found, symbol may be delisted\n",
      "yahoo failed... len of df:  0\n",
      "tiingo failed... len of df:  0\n",
      "Added 569 stocks to the db\n",
      "   ticker priceCurrency ticker_currency\n",
      "12  ETFC1           USD       ETFC1-USD\n",
      "********************\n",
      "[*********************100%***********************]  1 of 1 completed\n"
     ]
    },
    {
     "name": "stderr",
     "output_type": "stream",
     "text": [
      "C:\\Users\\david\\anaconda3\\envs\\svmmvo\\lib\\site-packages\\pandas_datareader\\tiingo.py:234: FutureWarning: In a future version of pandas all arguments of concat except for the argument 'objs' will be keyword-only.\n",
      "  return pd.concat(dfs, self._concat_axis)\n"
     ]
    },
    {
     "name": "stdout",
     "output_type": "stream",
     "text": [
      "Added 570 stocks to the db\n",
      "     ticker priceCurrency ticker_currency\n",
      "1267    ETN           USD         ETN-USD\n",
      "********************\n",
      "[*********************100%***********************]  1 of 1 completed\n"
     ]
    },
    {
     "name": "stderr",
     "output_type": "stream",
     "text": [
      "C:\\Users\\david\\anaconda3\\envs\\svmmvo\\lib\\site-packages\\pandas_datareader\\tiingo.py:234: FutureWarning: In a future version of pandas all arguments of concat except for the argument 'objs' will be keyword-only.\n",
      "  return pd.concat(dfs, self._concat_axis)\n"
     ]
    },
    {
     "name": "stdout",
     "output_type": "stream",
     "text": [
      "Added 571 stocks to the db\n",
      "     ticker priceCurrency ticker_currency\n",
      "1268    ETR           USD         ETR-USD\n",
      "********************\n",
      "[*********************100%***********************]  1 of 1 completed\n",
      "\n",
      "1 Failed download:\n",
      "- ETS1: No timezone found, symbol may be delisted\n",
      "yahoo failed... len of df:  0\n",
      "tiingo failed... len of df:  0\n",
      "Added 572 stocks to the db\n",
      "    ticker priceCurrency ticker_currency\n",
      "202   ETS1           USD        ETS1-USD\n",
      "********************\n",
      "[*********************100%***********************]  1 of 1 completed\n"
     ]
    },
    {
     "name": "stderr",
     "output_type": "stream",
     "text": [
      "C:\\Users\\david\\anaconda3\\envs\\svmmvo\\lib\\site-packages\\pandas_datareader\\tiingo.py:234: FutureWarning: In a future version of pandas all arguments of concat except for the argument 'objs' will be keyword-only.\n",
      "  return pd.concat(dfs, self._concat_axis)\n"
     ]
    },
    {
     "name": "stdout",
     "output_type": "stream",
     "text": [
      "Added 573 stocks to the db\n",
      "     ticker priceCurrency ticker_currency\n",
      "1269   ETSY           USD        ETSY-USD\n",
      "********************\n",
      "[*********************100%***********************]  1 of 1 completed\n",
      "\n",
      "1 Failed download:\n",
      "- EVHC2: No timezone found, symbol may be delisted\n",
      "yahoo failed... len of df:  0\n",
      "tiingo failed... len of df:  0\n",
      "Added 574 stocks to the db\n",
      "    ticker priceCurrency ticker_currency\n",
      "506  EVHC2           USD       EVHC2-USD\n",
      "********************\n",
      "[*********************100%***********************]  1 of 1 completed\n"
     ]
    },
    {
     "name": "stderr",
     "output_type": "stream",
     "text": [
      "C:\\Users\\david\\anaconda3\\envs\\svmmvo\\lib\\site-packages\\pandas_datareader\\tiingo.py:234: FutureWarning: In a future version of pandas all arguments of concat except for the argument 'objs' will be keyword-only.\n",
      "  return pd.concat(dfs, self._concat_axis)\n"
     ]
    },
    {
     "name": "stdout",
     "output_type": "stream",
     "text": [
      "Added 575 stocks to the db\n",
      "     ticker priceCurrency ticker_currency\n",
      "1270   EVRG           USD        EVRG-USD\n",
      "********************\n",
      "[*********************100%***********************]  1 of 1 completed\n",
      "\n",
      "1 Failed download:\n",
      "- EVT1: No timezone found, symbol may be delisted\n",
      "yahoo failed... len of df:  0\n",
      "tiingo failed... len of df:  0\n",
      "Added 576 stocks to the db\n",
      "    ticker priceCurrency ticker_currency\n",
      "882   EVT1           USD        EVT1-USD\n",
      "********************\n",
      "[*********************100%***********************]  1 of 1 completed\n",
      "\n",
      "1 Failed download:\n",
      "- EVY1: No timezone found, symbol may be delisted\n",
      "yahoo failed... len of df:  0\n",
      "tiingo failed... len of df:  0\n",
      "Added 577 stocks to the db\n",
      "    ticker priceCurrency ticker_currency\n",
      "687   EVY1           USD        EVY1-USD\n",
      "********************\n",
      "[*********************100%***********************]  1 of 1 completed\n"
     ]
    },
    {
     "name": "stderr",
     "output_type": "stream",
     "text": [
      "C:\\Users\\david\\anaconda3\\envs\\svmmvo\\lib\\site-packages\\pandas_datareader\\tiingo.py:234: FutureWarning: In a future version of pandas all arguments of concat except for the argument 'objs' will be keyword-only.\n",
      "  return pd.concat(dfs, self._concat_axis)\n"
     ]
    },
    {
     "name": "stdout",
     "output_type": "stream",
     "text": [
      "Added 578 stocks to the db\n",
      "     ticker priceCurrency ticker_currency\n",
      "1271     EW           USD          EW-USD\n",
      "********************\n",
      "[*********************100%***********************]  1 of 1 completed\n",
      "\n",
      "1 Failed download:\n",
      "- EWB2: No timezone found, symbol may be delisted\n",
      "yahoo failed... len of df:  0\n",
      "tiingo failed... len of df:  0\n",
      "Added 579 stocks to the db\n",
      "    ticker priceCurrency ticker_currency\n",
      "617   EWB2           USD        EWB2-USD\n",
      "********************\n",
      "[*********************100%***********************]  1 of 1 completed\n"
     ]
    },
    {
     "name": "stderr",
     "output_type": "stream",
     "text": [
      "C:\\Users\\david\\anaconda3\\envs\\svmmvo\\lib\\site-packages\\pandas_datareader\\tiingo.py:234: FutureWarning: In a future version of pandas all arguments of concat except for the argument 'objs' will be keyword-only.\n",
      "  return pd.concat(dfs, self._concat_axis)\n"
     ]
    },
    {
     "name": "stdout",
     "output_type": "stream",
     "text": [
      "Added 580 stocks to the db\n",
      "     ticker priceCurrency ticker_currency\n",
      "1272    EXC           USD         EXC-USD\n",
      "********************\n",
      "[*********************100%***********************]  1 of 1 completed\n",
      "\n",
      "1 Failed download:\n",
      "- EXC2: No timezone found, symbol may be delisted\n",
      "yahoo failed... len of df:  0\n",
      "tiingo failed... len of df:  0\n",
      "Added 581 stocks to the db\n",
      "    ticker priceCurrency ticker_currency\n",
      "942   EXC2           USD        EXC2-USD\n",
      "********************\n",
      "[*********************100%***********************]  1 of 1 completed\n"
     ]
    },
    {
     "name": "stderr",
     "output_type": "stream",
     "text": [
      "C:\\Users\\david\\anaconda3\\envs\\svmmvo\\lib\\site-packages\\pandas_datareader\\tiingo.py:234: FutureWarning: In a future version of pandas all arguments of concat except for the argument 'objs' will be keyword-only.\n",
      "  return pd.concat(dfs, self._concat_axis)\n"
     ]
    },
    {
     "name": "stdout",
     "output_type": "stream",
     "text": [
      "Added 582 stocks to the db\n",
      "     ticker priceCurrency ticker_currency\n",
      "1273   EXPD           USD        EXPD-USD\n",
      "********************\n",
      "[*********************100%***********************]  1 of 1 completed\n"
     ]
    },
    {
     "name": "stderr",
     "output_type": "stream",
     "text": [
      "C:\\Users\\david\\anaconda3\\envs\\svmmvo\\lib\\site-packages\\pandas_datareader\\tiingo.py:234: FutureWarning: In a future version of pandas all arguments of concat except for the argument 'objs' will be keyword-only.\n",
      "  return pd.concat(dfs, self._concat_axis)\n"
     ]
    },
    {
     "name": "stdout",
     "output_type": "stream",
     "text": [
      "Added 583 stocks to the db\n",
      "     ticker priceCurrency ticker_currency\n",
      "1274   EXPE           USD        EXPE-USD\n",
      "********************\n",
      "[*********************100%***********************]  1 of 1 completed\n"
     ]
    },
    {
     "name": "stderr",
     "output_type": "stream",
     "text": [
      "C:\\Users\\david\\anaconda3\\envs\\svmmvo\\lib\\site-packages\\pandas_datareader\\tiingo.py:234: FutureWarning: In a future version of pandas all arguments of concat except for the argument 'objs' will be keyword-only.\n",
      "  return pd.concat(dfs, self._concat_axis)\n"
     ]
    },
    {
     "name": "stdout",
     "output_type": "stream",
     "text": [
      "Added 584 stocks to the db\n",
      "     ticker priceCurrency ticker_currency\n",
      "1275    EXR           USD         EXR-USD\n",
      "********************\n",
      "[*********************100%***********************]  1 of 1 completed\n"
     ]
    },
    {
     "name": "stderr",
     "output_type": "stream",
     "text": [
      "C:\\Users\\david\\anaconda3\\envs\\svmmvo\\lib\\site-packages\\pandas_datareader\\tiingo.py:234: FutureWarning: In a future version of pandas all arguments of concat except for the argument 'objs' will be keyword-only.\n",
      "  return pd.concat(dfs, self._concat_axis)\n"
     ]
    },
    {
     "name": "stdout",
     "output_type": "stream",
     "text": [
      "Added 585 stocks to the db\n",
      "     ticker priceCurrency ticker_currency\n",
      "1276      F           USD           F-USD\n",
      "********************\n",
      "[*********************100%***********************]  1 of 1 completed\n",
      "\n",
      "1 Failed download:\n",
      "- FAC2: No timezone found, symbol may be delisted\n",
      "yahoo failed... len of df:  0\n",
      "tiingo failed... len of df:  0\n",
      "Added 586 stocks to the db\n",
      "    ticker priceCurrency ticker_currency\n",
      "847   FAC2           USD        FAC2-USD\n",
      "********************\n",
      "[*********************100%***********************]  1 of 1 completed\n",
      "\n",
      "1 Failed download:\n",
      "- FAJ2: No timezone found, symbol may be delisted\n",
      "yahoo failed... len of df:  0\n",
      "tiingo failed... len of df:  0\n",
      "Added 587 stocks to the db\n",
      "    ticker priceCurrency ticker_currency\n",
      "904   FAJ2           USD        FAJ2-USD\n",
      "********************\n",
      "[*********************100%***********************]  1 of 1 completed\n",
      "\n",
      "1 Failed download:\n",
      "- FALB2: No timezone found, symbol may be delisted\n",
      "yahoo failed... len of df:  0\n",
      "tiingo failed... len of df:  0\n",
      "Added 588 stocks to the db\n",
      "    ticker priceCurrency ticker_currency\n",
      "543  FALB2           USD       FALB2-USD\n",
      "********************\n",
      "[*********************100%***********************]  1 of 1 completed\n"
     ]
    },
    {
     "name": "stderr",
     "output_type": "stream",
     "text": [
      "C:\\Users\\david\\anaconda3\\envs\\svmmvo\\lib\\site-packages\\pandas_datareader\\tiingo.py:234: FutureWarning: In a future version of pandas all arguments of concat except for the argument 'objs' will be keyword-only.\n",
      "  return pd.concat(dfs, self._concat_axis)\n"
     ]
    },
    {
     "name": "stdout",
     "output_type": "stream",
     "text": [
      "Added 589 stocks to the db\n",
      "     ticker priceCurrency ticker_currency\n",
      "1277   FANG           USD        FANG-USD\n",
      "********************\n",
      "[*********************100%***********************]  1 of 1 completed\n"
     ]
    },
    {
     "name": "stderr",
     "output_type": "stream",
     "text": [
      "C:\\Users\\david\\anaconda3\\envs\\svmmvo\\lib\\site-packages\\pandas_datareader\\tiingo.py:234: FutureWarning: In a future version of pandas all arguments of concat except for the argument 'objs' will be keyword-only.\n",
      "  return pd.concat(dfs, self._concat_axis)\n"
     ]
    },
    {
     "name": "stdout",
     "output_type": "stream",
     "text": [
      "Added 590 stocks to the db\n",
      "     ticker priceCurrency ticker_currency\n",
      "1278   FAST           USD        FAST-USD\n",
      "********************\n",
      "[*********************100%***********************]  1 of 1 completed\n",
      "\n",
      "1 Failed download:\n",
      "- FBD2: No timezone found, symbol may be delisted\n",
      "yahoo failed... len of df:  0\n",
      "tiingo failed... len of df:  0\n",
      "Added 591 stocks to the db\n",
      "    ticker priceCurrency ticker_currency\n",
      "731   FBD2           USD        FBD2-USD\n",
      "********************\n",
      "[*********************100%***********************]  1 of 1 completed\n",
      "\n",
      "1 Failed download:\n",
      "- FBF1: No timezone found, symbol may be delisted\n",
      "yahoo failed... len of df:  0\n",
      "tiingo failed... len of df:  0\n",
      "Added 592 stocks to the db\n",
      "    ticker priceCurrency ticker_currency\n",
      "206   FBF1           USD        FBF1-USD\n",
      "********************\n",
      "[*********************100%***********************]  1 of 1 completed\n",
      "\n",
      "1 Failed download:\n",
      "- FBG1: No timezone found, symbol may be delisted\n",
      "yahoo failed... len of df:  0\n",
      "tiingo failed... len of df:  0\n",
      "Added 593 stocks to the db\n",
      "    ticker priceCurrency ticker_currency\n",
      "827   FBG1           USD        FBG1-USD\n",
      "********************\n",
      "[*********************100%***********************]  1 of 1 completed\n"
     ]
    },
    {
     "name": "stderr",
     "output_type": "stream",
     "text": [
      "C:\\Users\\david\\anaconda3\\envs\\svmmvo\\lib\\site-packages\\pandas_datareader\\tiingo.py:234: FutureWarning: In a future version of pandas all arguments of concat except for the argument 'objs' will be keyword-only.\n",
      "  return pd.concat(dfs, self._concat_axis)\n"
     ]
    },
    {
     "name": "stdout",
     "output_type": "stream",
     "text": [
      "Added 594 stocks to the db\n",
      "     ticker priceCurrency ticker_currency\n",
      "1279   FBIN           USD        FBIN-USD\n",
      "********************\n",
      "[*********************100%***********************]  1 of 1 completed\n",
      "\n",
      "1 Failed download:\n",
      "- FBO1: No timezone found, symbol may be delisted\n",
      "yahoo failed... len of df:  0\n",
      "tiingo failed... len of df:  0\n",
      "Added 595 stocks to the db\n",
      "    ticker priceCurrency ticker_currency\n",
      "281   FBO1           USD        FBO1-USD\n",
      "********************\n",
      "[*********************100%***********************]  1 of 1 completed\n",
      "\n",
      "1 Failed download:\n",
      "- FCF1: No timezone found, symbol may be delisted\n",
      "yahoo failed... len of df:  0\n",
      "tiingo failed... len of df:  0\n",
      "Added 596 stocks to the db\n",
      "    ticker priceCurrency ticker_currency\n",
      "840   FCF1           USD        FCF1-USD\n",
      "********************\n",
      "[*********************100%***********************]  1 of 1 completed\n",
      "\n",
      "1 Failed download:\n",
      "- FCI2: No timezone found, symbol may be delisted\n",
      "yahoo failed... len of df:  0\n",
      "tiingo failed... len of df:  0\n",
      "Added 597 stocks to the db\n",
      "    ticker priceCurrency ticker_currency\n",
      "572   FCI2           USD        FCI2-USD\n",
      "********************\n",
      "[*********************100%***********************]  1 of 1 completed\n",
      "\n",
      "1 Failed download:\n",
      "- FCN1: No timezone found, symbol may be delisted\n",
      "yahoo failed... len of df:  0\n",
      "tiingo failed... len of df:  0\n",
      "Added 598 stocks to the db\n",
      "     ticker priceCurrency ticker_currency\n",
      "1280   FCN1           USD        FCN1-USD\n",
      "********************\n",
      "[*********************100%***********************]  1 of 1 completed\n"
     ]
    },
    {
     "name": "stderr",
     "output_type": "stream",
     "text": [
      "C:\\Users\\david\\anaconda3\\envs\\svmmvo\\lib\\site-packages\\pandas_datareader\\tiingo.py:234: FutureWarning: In a future version of pandas all arguments of concat except for the argument 'objs' will be keyword-only.\n",
      "  return pd.concat(dfs, self._concat_axis)\n"
     ]
    },
    {
     "name": "stdout",
     "output_type": "stream",
     "text": [
      "Added 599 stocks to the db\n",
      "     ticker priceCurrency ticker_currency\n",
      "1281    FCX           USD         FCX-USD\n",
      "********************\n",
      "[*********************100%***********************]  1 of 1 completed\n",
      "\n",
      "1 Failed download:\n",
      "- FDB1: No timezone found, symbol may be delisted\n",
      "yahoo failed... len of df:  0\n",
      "tiingo failed... len of df:  0\n",
      "Added 600 stocks to the db\n",
      "    ticker priceCurrency ticker_currency\n",
      "833   FDB1           USD        FDB1-USD\n",
      "********************\n",
      "[*********************100%***********************]  1 of 1 completed\n",
      "\n",
      "1 Failed download:\n",
      "- FDC1: No timezone found, symbol may be delisted\n",
      "yahoo failed... len of df:  0\n",
      "tiingo failed... len of df:  0\n",
      "Added 601 stocks to the db\n",
      "     ticker priceCurrency ticker_currency\n",
      "1282   FDC1           USD        FDC1-USD\n",
      "********************\n",
      "[*********************100%***********************]  1 of 1 completed\n",
      "\n",
      "1 Failed download:\n",
      "- FDMLQ1: No timezone found, symbol may be delisted\n",
      "yahoo failed... len of df:  0\n",
      "tiingo failed... len of df:  0\n",
      "Added 602 stocks to the db\n",
      "     ticker priceCurrency ticker_currency\n",
      "388  FDMLQ1           USD      FDMLQ1-USD\n",
      "********************\n",
      "[*********************100%***********************]  1 of 1 completed\n",
      "\n",
      "1 Failed download:\n",
      "- FDO2: No timezone found, symbol may be delisted\n",
      "yahoo failed... len of df:  0\n",
      "tiingo failed... len of df:  0\n",
      "Added 603 stocks to the db\n",
      "   ticker priceCurrency ticker_currency\n",
      "50   FDO2           USD        FDO2-USD\n",
      "********************\n",
      "[*********************100%***********************]  1 of 1 completed\n"
     ]
    },
    {
     "name": "stderr",
     "output_type": "stream",
     "text": [
      "C:\\Users\\david\\anaconda3\\envs\\svmmvo\\lib\\site-packages\\pandas_datareader\\tiingo.py:234: FutureWarning: In a future version of pandas all arguments of concat except for the argument 'objs' will be keyword-only.\n",
      "  return pd.concat(dfs, self._concat_axis)\n"
     ]
    },
    {
     "name": "stdout",
     "output_type": "stream",
     "text": [
      "Added 604 stocks to the db\n",
      "     ticker priceCurrency ticker_currency\n",
      "1283    FDS           USD         FDS-USD\n",
      "********************\n",
      "[*********************100%***********************]  1 of 1 completed\n",
      "\n",
      "1 Failed download:\n",
      "- FDS1: No timezone found, symbol may be delisted\n",
      "yahoo failed... len of df:  0\n",
      "tiingo failed... len of df:  0\n",
      "Added 605 stocks to the db\n",
      "    ticker priceCurrency ticker_currency\n",
      "496   FDS1           USD        FDS1-USD\n",
      "********************\n",
      "[*********************100%***********************]  1 of 1 completed\n",
      "\n",
      "1 Failed download:\n",
      "- FDSH1: No timezone found, symbol may be delisted\n",
      "yahoo failed... len of df:  0\n",
      "tiingo failed... len of df:  0\n",
      "Added 606 stocks to the db\n",
      "    ticker priceCurrency ticker_currency\n",
      "831  FDSH1           USD       FDSH1-USD\n",
      "********************\n",
      "[*********************100%***********************]  1 of 1 completed\n"
     ]
    },
    {
     "name": "stderr",
     "output_type": "stream",
     "text": [
      "C:\\Users\\david\\anaconda3\\envs\\svmmvo\\lib\\site-packages\\pandas_datareader\\tiingo.py:234: FutureWarning: In a future version of pandas all arguments of concat except for the argument 'objs' will be keyword-only.\n",
      "  return pd.concat(dfs, self._concat_axis)\n"
     ]
    },
    {
     "name": "stdout",
     "output_type": "stream",
     "text": [
      "Added 607 stocks to the db\n",
      "     ticker priceCurrency ticker_currency\n",
      "1284    FDX           USD         FDX-USD\n",
      "********************\n",
      "[*********************100%***********************]  1 of 1 completed\n"
     ]
    },
    {
     "name": "stderr",
     "output_type": "stream",
     "text": [
      "C:\\Users\\david\\anaconda3\\envs\\svmmvo\\lib\\site-packages\\pandas_datareader\\tiingo.py:234: FutureWarning: In a future version of pandas all arguments of concat except for the argument 'objs' will be keyword-only.\n",
      "  return pd.concat(dfs, self._concat_axis)\n"
     ]
    },
    {
     "name": "stdout",
     "output_type": "stream",
     "text": [
      "Added 608 stocks to the db\n",
      "     ticker priceCurrency ticker_currency\n",
      "1285     FE           USD          FE-USD\n",
      "********************\n",
      "[*********************100%***********************]  1 of 1 completed\n",
      "\n",
      "1 Failed download:\n",
      "- FFB1: No timezone found, symbol may be delisted\n",
      "yahoo failed... len of df:  0\n",
      "tiingo failed... len of df:  0\n",
      "Added 609 stocks to the db\n",
      "    ticker priceCurrency ticker_currency\n",
      "437   FFB1           USD        FFB1-USD\n",
      "********************\n",
      "[*********************100%***********************]  1 of 1 completed\n",
      "\n",
      "1 Failed download:\n",
      "- FFI1: No timezone found, symbol may be delisted\n",
      "yahoo failed... len of df:  0\n",
      "tiingo failed... len of df:  0\n",
      "Added 610 stocks to the db\n",
      "    ticker priceCurrency ticker_currency\n",
      "936   FFI1           USD        FFI1-USD\n",
      "********************\n",
      "[*********************100%***********************]  1 of 1 completed\n"
     ]
    },
    {
     "name": "stderr",
     "output_type": "stream",
     "text": [
      "C:\\Users\\david\\anaconda3\\envs\\svmmvo\\lib\\site-packages\\pandas_datareader\\tiingo.py:234: FutureWarning: In a future version of pandas all arguments of concat except for the argument 'objs' will be keyword-only.\n",
      "  return pd.concat(dfs, self._concat_axis)\n"
     ]
    },
    {
     "name": "stdout",
     "output_type": "stream",
     "text": [
      "Added 611 stocks to the db\n",
      "     ticker priceCurrency ticker_currency\n",
      "1286   FFIV           USD        FFIV-USD\n",
      "********************\n",
      "[*********************100%***********************]  1 of 1 completed\n",
      "\n",
      "1 Failed download:\n",
      "- FFS2: No timezone found, symbol may be delisted\n",
      "yahoo failed... len of df:  0\n",
      "tiingo failed... len of df:  0\n",
      "Added 612 stocks to the db\n",
      "    ticker priceCurrency ticker_currency\n",
      "836   FFS2           USD        FFS2-USD\n",
      "********************\n",
      "[*********************100%***********************]  1 of 1 completed\n",
      "\n",
      "1 Failed download:\n",
      "- FG1: No timezone found, symbol may be delisted\n",
      "yahoo failed... len of df:  0\n",
      "tiingo failed... len of df:  0\n",
      "Added 613 stocks to the db\n",
      "     ticker priceCurrency ticker_currency\n",
      "1287    FG1           USD         FG1-USD\n",
      "********************\n",
      "[*********************100%***********************]  1 of 1 completed\n"
     ]
    },
    {
     "name": "stderr",
     "output_type": "stream",
     "text": [
      "C:\\Users\\david\\anaconda3\\envs\\svmmvo\\lib\\site-packages\\pandas_datareader\\tiingo.py:234: FutureWarning: In a future version of pandas all arguments of concat except for the argument 'objs' will be keyword-only.\n",
      "  return pd.concat(dfs, self._concat_axis)\n"
     ]
    },
    {
     "name": "stdout",
     "output_type": "stream",
     "text": [
      "Added 614 stocks to the db\n",
      "     ticker priceCurrency ticker_currency\n",
      "1288    FHN           USD         FHN-USD\n",
      "********************\n",
      "[*********************100%***********************]  1 of 1 completed\n",
      "\n",
      "1 Failed download:\n",
      "- FHP1: No timezone found, symbol may be delisted\n",
      "yahoo failed... len of df:  0\n",
      "tiingo failed... len of df:  0\n",
      "Added 615 stocks to the db\n",
      "    ticker priceCurrency ticker_currency\n",
      "924   FHP1           USD        FHP1-USD\n",
      "********************\n",
      "[*********************100%***********************]  1 of 1 completed\n"
     ]
    },
    {
     "name": "stderr",
     "output_type": "stream",
     "text": [
      "C:\\Users\\david\\anaconda3\\envs\\svmmvo\\lib\\site-packages\\pandas_datareader\\tiingo.py:234: FutureWarning: In a future version of pandas all arguments of concat except for the argument 'objs' will be keyword-only.\n",
      "  return pd.concat(dfs, self._concat_axis)\n"
     ]
    },
    {
     "name": "stdout",
     "output_type": "stream",
     "text": [
      "Added 616 stocks to the db\n",
      "     ticker priceCurrency ticker_currency\n",
      "1289   FICO           USD        FICO-USD\n",
      "********************\n",
      "[*********************100%***********************]  1 of 1 completed\n",
      "\n",
      "1 Failed download:\n",
      "- FIN2: No timezone found, symbol may be delisted\n",
      "yahoo failed... len of df:  0\n",
      "tiingo failed... len of df:  0\n",
      "Added 617 stocks to the db\n",
      "    ticker priceCurrency ticker_currency\n",
      "745   FIN2           USD        FIN2-USD\n",
      "********************\n",
      "[*********************100%***********************]  1 of 1 completed\n",
      "\n",
      "1 Failed download:\n",
      "- FIR2: No timezone found, symbol may be delisted\n",
      "yahoo failed... len of df:  0\n",
      "tiingo failed... len of df:  0\n",
      "Added 618 stocks to the db\n",
      "    ticker priceCurrency ticker_currency\n",
      "433   FIR2           USD        FIR2-USD\n",
      "********************\n",
      "[*********************100%***********************]  1 of 1 completed\n"
     ]
    },
    {
     "name": "stderr",
     "output_type": "stream",
     "text": [
      "C:\\Users\\david\\anaconda3\\envs\\svmmvo\\lib\\site-packages\\pandas_datareader\\tiingo.py:234: FutureWarning: In a future version of pandas all arguments of concat except for the argument 'objs' will be keyword-only.\n",
      "  return pd.concat(dfs, self._concat_axis)\n"
     ]
    },
    {
     "name": "stdout",
     "output_type": "stream",
     "text": [
      "Added 619 stocks to the db\n",
      "     ticker priceCurrency ticker_currency\n",
      "1290    FIS           USD         FIS-USD\n",
      "********************\n",
      "[*********************100%***********************]  1 of 1 completed\n"
     ]
    },
    {
     "name": "stderr",
     "output_type": "stream",
     "text": [
      "C:\\Users\\david\\anaconda3\\envs\\svmmvo\\lib\\site-packages\\pandas_datareader\\tiingo.py:234: FutureWarning: In a future version of pandas all arguments of concat except for the argument 'objs' will be keyword-only.\n",
      "  return pd.concat(dfs, self._concat_axis)\n"
     ]
    },
    {
     "name": "stdout",
     "output_type": "stream",
     "text": [
      "Added 620 stocks to the db\n",
      "     ticker priceCurrency ticker_currency\n",
      "1291   FISV           USD        FISV-USD\n",
      "********************\n",
      "[*********************100%***********************]  1 of 1 completed\n"
     ]
    },
    {
     "name": "stderr",
     "output_type": "stream",
     "text": [
      "C:\\Users\\david\\anaconda3\\envs\\svmmvo\\lib\\site-packages\\pandas_datareader\\tiingo.py:234: FutureWarning: In a future version of pandas all arguments of concat except for the argument 'objs' will be keyword-only.\n",
      "  return pd.concat(dfs, self._concat_axis)\n"
     ]
    },
    {
     "name": "stdout",
     "output_type": "stream",
     "text": [
      "Added 621 stocks to the db\n",
      "     ticker priceCurrency ticker_currency\n",
      "1292   FITB           USD        FITB-USD\n",
      "********************\n",
      "[*********************100%***********************]  1 of 1 completed\n",
      "\n",
      "1 Failed download:\n",
      "- FJ1: No timezone found, symbol may be delisted\n",
      "yahoo failed... len of df:  0\n",
      "tiingo failed... len of df:  0\n",
      "Added 622 stocks to the db\n",
      "    ticker priceCurrency ticker_currency\n",
      "290    FJ1           USD         FJ1-USD\n",
      "********************\n",
      "[*********************100%***********************]  1 of 1 completed\n",
      "\n",
      "1 Failed download:\n",
      "- FJCC1: No timezone found, symbol may be delisted\n",
      "yahoo failed... len of df:  0\n",
      "tiingo failed... len of df:  0\n",
      "Added 623 stocks to the db\n",
      "    ticker priceCurrency ticker_currency\n",
      "394  FJCC1           USD       FJCC1-USD\n",
      "********************\n",
      "[*********************100%***********************]  1 of 1 completed\n"
     ]
    },
    {
     "name": "stderr",
     "output_type": "stream",
     "text": [
      "C:\\Users\\david\\anaconda3\\envs\\svmmvo\\lib\\site-packages\\pandas_datareader\\tiingo.py:234: FutureWarning: In a future version of pandas all arguments of concat except for the argument 'objs' will be keyword-only.\n",
      "  return pd.concat(dfs, self._concat_axis)\n"
     ]
    },
    {
     "name": "stdout",
     "output_type": "stream",
     "text": [
      "Added 624 stocks to the db\n",
      "     ticker priceCurrency ticker_currency\n",
      "1293     FL           USD          FL-USD\n",
      "********************\n",
      "[*********************100%***********************]  1 of 1 completed\n",
      "\n",
      "1 Failed download:\n",
      "- FLA1A: No timezone found, symbol may be delisted\n",
      "yahoo failed... len of df:  0\n",
      "tiingo failed... len of df:  0\n",
      "Added 625 stocks to the db\n",
      "    ticker priceCurrency ticker_currency\n",
      "390  FLA1A           USD       FLA1A-USD\n",
      "********************\n",
      "[*********************100%***********************]  1 of 1 completed\n",
      "\n",
      "1 Failed download:\n",
      "- FLC1: No timezone found, symbol may be delisted\n",
      "yahoo failed... len of df:  0\n",
      "tiingo failed... len of df:  0\n",
      "Added 626 stocks to the db\n",
      "     ticker priceCurrency ticker_currency\n",
      "1294   FLC1           USD        FLC1-USD\n",
      "********************\n",
      "[*********************100%***********************]  1 of 1 completed\n",
      "\n",
      "1 Failed download:\n",
      "- FLIR1: No timezone found, symbol may be delisted\n",
      "yahoo failed... len of df:  0\n",
      "tiingo failed... len of df:  0\n",
      "Added 627 stocks to the db\n",
      "   ticker priceCurrency ticker_currency\n",
      "24  FLIR1           USD       FLIR1-USD\n",
      "********************\n",
      "[*********************100%***********************]  1 of 1 completed\n",
      "\n",
      "1 Failed download:\n",
      "- FLMIQ1: No timezone found, symbol may be delisted\n",
      "yahoo failed... len of df:  0\n",
      "tiingo failed... len of df:  0\n",
      "Added 628 stocks to the db\n",
      "     ticker priceCurrency ticker_currency\n",
      "226  FLMIQ1           USD      FLMIQ1-USD\n",
      "********************\n",
      "[*********************100%***********************]  1 of 1 completed\n"
     ]
    },
    {
     "name": "stderr",
     "output_type": "stream",
     "text": [
      "C:\\Users\\david\\anaconda3\\envs\\svmmvo\\lib\\site-packages\\pandas_datareader\\tiingo.py:234: FutureWarning: In a future version of pandas all arguments of concat except for the argument 'objs' will be keyword-only.\n",
      "  return pd.concat(dfs, self._concat_axis)\n"
     ]
    },
    {
     "name": "stdout",
     "output_type": "stream",
     "text": [
      "Added 629 stocks to the db\n",
      "     ticker priceCurrency ticker_currency\n",
      "1295    FLR           USD         FLR-USD\n",
      "********************\n",
      "[*********************100%***********************]  1 of 1 completed\n"
     ]
    },
    {
     "name": "stderr",
     "output_type": "stream",
     "text": [
      "C:\\Users\\david\\anaconda3\\envs\\svmmvo\\lib\\site-packages\\pandas_datareader\\tiingo.py:234: FutureWarning: In a future version of pandas all arguments of concat except for the argument 'objs' will be keyword-only.\n",
      "  return pd.concat(dfs, self._concat_axis)\n"
     ]
    },
    {
     "name": "stdout",
     "output_type": "stream",
     "text": [
      "Added 630 stocks to the db\n",
      "     ticker priceCurrency ticker_currency\n",
      "1296    FLS           USD         FLS-USD\n",
      "********************\n",
      "[*********************100%***********************]  1 of 1 completed\n"
     ]
    },
    {
     "name": "stderr",
     "output_type": "stream",
     "text": [
      "C:\\Users\\david\\anaconda3\\envs\\svmmvo\\lib\\site-packages\\pandas_datareader\\tiingo.py:234: FutureWarning: In a future version of pandas all arguments of concat except for the argument 'objs' will be keyword-only.\n",
      "  return pd.concat(dfs, self._concat_axis)\n"
     ]
    },
    {
     "name": "stdout",
     "output_type": "stream",
     "text": [
      "Added 631 stocks to the db\n",
      "     ticker priceCurrency ticker_currency\n",
      "1297    FLT           USD         FLT-USD\n",
      "********************\n",
      "[*********************100%***********************]  1 of 1 completed\n",
      "\n",
      "1 Failed download:\n",
      "- FLTWQ1: No timezone found, symbol may be delisted\n",
      "yahoo failed... len of df:  0\n",
      "tiingo failed... len of df:  0\n",
      "Added 632 stocks to the db\n",
      "     ticker priceCurrency ticker_currency\n",
      "152  FLTWQ1           USD      FLTWQ1-USD\n",
      "********************\n",
      "[*********************100%***********************]  1 of 1 completed\n"
     ]
    },
    {
     "name": "stderr",
     "output_type": "stream",
     "text": [
      "C:\\Users\\david\\anaconda3\\envs\\svmmvo\\lib\\site-packages\\pandas_datareader\\tiingo.py:234: FutureWarning: In a future version of pandas all arguments of concat except for the argument 'objs' will be keyword-only.\n",
      "  return pd.concat(dfs, self._concat_axis)\n"
     ]
    },
    {
     "name": "stdout",
     "output_type": "stream",
     "text": [
      "Added 633 stocks to the db\n",
      "     ticker priceCurrency ticker_currency\n",
      "1298   FMCC           USD        FMCC-USD\n",
      "********************\n",
      "[*********************100%***********************]  1 of 1 completed\n",
      "\n",
      "1 Failed download:\n",
      "- FMY1: No timezone found, symbol may be delisted\n",
      "yahoo failed... len of df:  0\n",
      "tiingo failed... len of df:  0\n",
      "Added 634 stocks to the db\n",
      "     ticker priceCurrency ticker_currency\n",
      "1299   FMY1           USD        FMY1-USD\n",
      "********************\n",
      "[*********************100%***********************]  1 of 1 completed\n",
      "\n",
      "1 Failed download:\n",
      "- FN2: No timezone found, symbol may be delisted\n",
      "yahoo failed... len of df:  0\n",
      "tiingo failed... len of df:  0\n",
      "Added 635 stocks to the db\n",
      "    ticker priceCurrency ticker_currency\n",
      "568    FN2           USD         FN2-USD\n",
      "********************\n",
      "[*********************100%***********************]  1 of 1 completed\n",
      "\n",
      "1 Failed download:\n",
      "- FNB1: No timezone found, symbol may be delisted\n",
      "yahoo failed... len of df:  0\n",
      "tiingo failed... len of df:  0\n",
      "Added 636 stocks to the db\n",
      "    ticker priceCurrency ticker_currency\n",
      "399   FNB1           USD        FNB1-USD\n",
      "********************\n",
      "[*********************100%***********************]  1 of 1 completed\n"
     ]
    },
    {
     "name": "stderr",
     "output_type": "stream",
     "text": [
      "C:\\Users\\david\\anaconda3\\envs\\svmmvo\\lib\\site-packages\\pandas_datareader\\tiingo.py:234: FutureWarning: In a future version of pandas all arguments of concat except for the argument 'objs' will be keyword-only.\n",
      "  return pd.concat(dfs, self._concat_axis)\n"
     ]
    },
    {
     "name": "stdout",
     "output_type": "stream",
     "text": [
      "Added 637 stocks to the db\n",
      "     ticker priceCurrency ticker_currency\n",
      "1300   FNMA           USD        FNMA-USD\n",
      "********************\n",
      "[*********************100%***********************]  1 of 1 completed\n",
      "\n",
      "1 Failed download:\n",
      "- FO1: No timezone found, symbol may be delisted\n",
      "yahoo failed... len of df:  0\n",
      "tiingo failed... len of df:  0\n",
      "Added 638 stocks to the db\n",
      "    ticker priceCurrency ticker_currency\n",
      "618    FO1           USD         FO1-USD\n",
      "********************\n",
      "[*********************100%***********************]  1 of 1 completed\n"
     ]
    },
    {
     "name": "stderr",
     "output_type": "stream",
     "text": [
      "C:\\Users\\david\\anaconda3\\envs\\svmmvo\\lib\\site-packages\\pandas_datareader\\tiingo.py:234: FutureWarning: In a future version of pandas all arguments of concat except for the argument 'objs' will be keyword-only.\n",
      "  return pd.concat(dfs, self._concat_axis)\n"
     ]
    },
    {
     "name": "stdout",
     "output_type": "stream",
     "text": [
      "Added 639 stocks to the db\n",
      "     ticker priceCurrency ticker_currency\n",
      "1301   FOSL           USD        FOSL-USD\n",
      "********************\n",
      "[*********************100%***********************]  1 of 1 completed\n"
     ]
    },
    {
     "name": "stderr",
     "output_type": "stream",
     "text": [
      "C:\\Users\\david\\anaconda3\\envs\\svmmvo\\lib\\site-packages\\pandas_datareader\\tiingo.py:234: FutureWarning: In a future version of pandas all arguments of concat except for the argument 'objs' will be keyword-only.\n",
      "  return pd.concat(dfs, self._concat_axis)\n"
     ]
    },
    {
     "name": "stdout",
     "output_type": "stream",
     "text": [
      "Added 640 stocks to the db\n",
      "     ticker priceCurrency ticker_currency\n",
      "1302    FOX           USD         FOX-USD\n",
      "********************\n",
      "[*********************100%***********************]  1 of 1 completed\n"
     ]
    },
    {
     "name": "stderr",
     "output_type": "stream",
     "text": [
      "C:\\Users\\david\\anaconda3\\envs\\svmmvo\\lib\\site-packages\\pandas_datareader\\tiingo.py:234: FutureWarning: In a future version of pandas all arguments of concat except for the argument 'objs' will be keyword-only.\n",
      "  return pd.concat(dfs, self._concat_axis)\n"
     ]
    },
    {
     "name": "stdout",
     "output_type": "stream",
     "text": [
      "Added 641 stocks to the db\n",
      "     ticker priceCurrency ticker_currency\n",
      "1303   FOXA           USD        FOXA-USD\n",
      "********************\n",
      "[*********************100%***********************]  1 of 1 completed\n",
      "\n",
      "1 Failed download:\n",
      "- FPA1: No timezone found, symbol may be delisted\n",
      "yahoo failed... len of df:  0\n",
      "tiingo failed... len of df:  0\n",
      "Added 642 stocks to the db\n",
      "    ticker priceCurrency ticker_currency\n",
      "429   FPA1           USD        FPA1-USD\n",
      "********************\n",
      "[*********************100%***********************]  1 of 1 completed\n",
      "\n",
      "1 Failed download:\n",
      "- FPC1: No timezone found, symbol may be delisted\n",
      "yahoo failed... len of df:  0\n",
      "tiingo failed... len of df:  0\n",
      "Added 643 stocks to the db\n",
      "    ticker priceCurrency ticker_currency\n",
      "266   FPC1           USD        FPC1-USD\n",
      "********************\n",
      "[*********************100%***********************]  1 of 1 completed\n",
      "\n",
      "1 Failed download:\n",
      "- FRB1: No timezone found, symbol may be delisted\n",
      "yahoo failed... len of df:  0\n",
      "tiingo failed... len of df:  0\n",
      "Added 644 stocks to the db\n",
      "    ticker priceCurrency ticker_currency\n",
      "445   FRB1           USD        FRB1-USD\n",
      "********************\n",
      "[*********************100%***********************]  1 of 1 completed\n"
     ]
    },
    {
     "name": "stderr",
     "output_type": "stream",
     "text": [
      "C:\\Users\\david\\anaconda3\\envs\\svmmvo\\lib\\site-packages\\pandas_datareader\\tiingo.py:234: FutureWarning: In a future version of pandas all arguments of concat except for the argument 'objs' will be keyword-only.\n",
      "  return pd.concat(dfs, self._concat_axis)\n"
     ]
    },
    {
     "name": "stdout",
     "output_type": "stream",
     "text": [
      "Added 645 stocks to the db\n",
      "     ticker priceCurrency ticker_currency\n",
      "1304    FRC           USD         FRC-USD\n",
      "********************\n",
      "[*********************100%***********************]  1 of 1 completed\n",
      "\n",
      "1 Failed download:\n",
      "- FRM1: No timezone found, symbol may be delisted\n",
      "yahoo failed... len of df:  0\n",
      "tiingo failed... len of df:  0\n",
      "Added 646 stocks to the db\n",
      "    ticker priceCurrency ticker_currency\n",
      "566   FRM1           USD        FRM1-USD\n",
      "********************\n",
      "[*********************100%***********************]  1 of 1 completed\n",
      "\n",
      "1 Failed download:\n",
      "- FRO1: No timezone found, symbol may be delisted\n",
      "yahoo failed... len of df:  0\n",
      "tiingo failed... len of df:  0\n",
      "Added 647 stocks to the db\n",
      "     ticker priceCurrency ticker_currency\n",
      "1305   FRO1           USD        FRO1-USD\n",
      "********************\n",
      "[*********************100%***********************]  1 of 1 completed\n"
     ]
    },
    {
     "name": "stderr",
     "output_type": "stream",
     "text": [
      "C:\\Users\\david\\anaconda3\\envs\\svmmvo\\lib\\site-packages\\pandas_datareader\\tiingo.py:234: FutureWarning: In a future version of pandas all arguments of concat except for the argument 'objs' will be keyword-only.\n",
      "  return pd.concat(dfs, self._concat_axis)\n"
     ]
    },
    {
     "name": "stdout",
     "output_type": "stream",
     "text": [
      "Added 648 stocks to the db\n",
      "     ticker priceCurrency ticker_currency\n",
      "1306    FRT           USD         FRT-USD\n",
      "********************\n",
      "[*********************100%***********************]  1 of 1 completed\n",
      "\n",
      "1 Failed download:\n",
      "- FRX1: No timezone found, symbol may be delisted\n",
      "yahoo failed... len of df:  0\n",
      "tiingo failed... len of df:  0\n",
      "Added 649 stocks to the db\n",
      "   ticker priceCurrency ticker_currency\n",
      "90   FRX1           USD        FRX1-USD\n",
      "********************\n",
      "[*********************100%***********************]  1 of 1 completed\n",
      "\n",
      "1 Failed download:\n",
      "- FSH1: No timezone found, symbol may be delisted\n",
      "yahoo failed... len of df:  0\n",
      "tiingo failed... len of df:  0\n",
      "Added 650 stocks to the db\n",
      "    ticker priceCurrency ticker_currency\n",
      "231   FSH1           USD        FSH1-USD\n",
      "********************\n",
      "[*********************100%***********************]  1 of 1 completed\n",
      "\n",
      "1 Failed download:\n",
      "- FSL1B: No timezone found, symbol may be delisted\n",
      "yahoo failed... len of df:  0\n",
      "tiingo failed... len of df:  0\n",
      "Added 651 stocks to the db\n",
      "    ticker priceCurrency ticker_currency\n",
      "243  FSL1B           USD       FSL1B-USD\n",
      "********************\n",
      "[*********************100%***********************]  1 of 1 completed\n"
     ]
    },
    {
     "name": "stderr",
     "output_type": "stream",
     "text": [
      "C:\\Users\\david\\anaconda3\\envs\\svmmvo\\lib\\site-packages\\pandas_datareader\\tiingo.py:234: FutureWarning: In a future version of pandas all arguments of concat except for the argument 'objs' will be keyword-only.\n",
      "  return pd.concat(dfs, self._concat_axis)\n"
     ]
    },
    {
     "name": "stdout",
     "output_type": "stream",
     "text": [
      "Added 652 stocks to the db\n",
      "     ticker priceCurrency ticker_currency\n",
      "1307   FSLR           USD        FSLR-USD\n",
      "********************\n",
      "[*********************100%***********************]  1 of 1 completed\n",
      "\n",
      "1 Failed download:\n",
      "- FST1: No timezone found, symbol may be delisted\n",
      "yahoo failed... len of df:  0\n",
      "tiingo failed... len of df:  0\n",
      "Added 653 stocks to the db\n",
      "    ticker priceCurrency ticker_currency\n",
      "758   FST1           USD        FST1-USD\n",
      "********************\n",
      "[*********************100%***********************]  1 of 1 completed\n",
      "\n",
      "1 Failed download:\n",
      "- FT1: No timezone found, symbol may be delisted\n",
      "yahoo failed... len of df:  0\n",
      "tiingo failed... len of df:  0\n",
      "Added 654 stocks to the db\n",
      "    ticker priceCurrency ticker_currency\n",
      "584    FT1           USD         FT1-USD\n",
      "********************\n",
      "[*********************100%***********************]  1 of 1 completed\n",
      "\n",
      "1 Failed download:\n",
      "- FTH1: No timezone found, symbol may be delisted\n",
      "yahoo failed... len of df:  0\n",
      "tiingo failed... len of df:  0\n",
      "Added 655 stocks to the db\n",
      "    ticker priceCurrency ticker_currency\n",
      "955   FTH1           USD        FTH1-USD\n",
      "********************\n",
      "[*********************100%***********************]  1 of 1 completed\n"
     ]
    },
    {
     "name": "stderr",
     "output_type": "stream",
     "text": [
      "C:\\Users\\david\\anaconda3\\envs\\svmmvo\\lib\\site-packages\\pandas_datareader\\tiingo.py:234: FutureWarning: In a future version of pandas all arguments of concat except for the argument 'objs' will be keyword-only.\n",
      "  return pd.concat(dfs, self._concat_axis)\n"
     ]
    },
    {
     "name": "stdout",
     "output_type": "stream",
     "text": [
      "Added 656 stocks to the db\n",
      "     ticker priceCurrency ticker_currency\n",
      "1308    FTI           USD         FTI-USD\n",
      "********************\n",
      "[*********************100%***********************]  1 of 1 completed\n",
      "\n",
      "1 Failed download:\n",
      "- FTLAQ1: No timezone found, symbol may be delisted\n",
      "yahoo failed... len of df:  0\n",
      "tiingo failed... len of df:  0\n",
      "Added 657 stocks to the db\n",
      "     ticker priceCurrency ticker_currency\n",
      "143  FTLAQ1           USD      FTLAQ1-USD\n",
      "********************\n",
      "[*********************100%***********************]  1 of 1 completed\n"
     ]
    },
    {
     "name": "stderr",
     "output_type": "stream",
     "text": [
      "C:\\Users\\david\\anaconda3\\envs\\svmmvo\\lib\\site-packages\\pandas_datareader\\tiingo.py:234: FutureWarning: In a future version of pandas all arguments of concat except for the argument 'objs' will be keyword-only.\n",
      "  return pd.concat(dfs, self._concat_axis)\n"
     ]
    },
    {
     "name": "stdout",
     "output_type": "stream",
     "text": [
      "Added 658 stocks to the db\n",
      "     ticker priceCurrency ticker_currency\n",
      "1309   FTNT           USD        FTNT-USD\n",
      "********************\n",
      "[*********************100%***********************]  1 of 1 completed\n",
      "\n",
      "1 Failed download:\n",
      "- FTR1: No timezone found, symbol may be delisted\n",
      "yahoo failed... len of df:  0\n",
      "tiingo failed... len of df:  0\n",
      "Added 659 stocks to the db\n",
      "    ticker priceCurrency ticker_currency\n",
      "646   FTR1           USD        FTR1-USD\n",
      "********************\n",
      "[*********************100%***********************]  1 of 1 completed\n",
      "\n",
      "1 Failed download:\n",
      "- FTRCQ1: No timezone found, symbol may be delisted\n",
      "yahoo failed... len of df:  0\n",
      "tiingo failed... len of df:  0\n",
      "Added 660 stocks to the db\n",
      "     ticker priceCurrency ticker_currency\n",
      "354  FTRCQ1           USD      FTRCQ1-USD\n",
      "********************\n",
      "[*********************100%***********************]  1 of 1 completed\n"
     ]
    },
    {
     "name": "stderr",
     "output_type": "stream",
     "text": [
      "C:\\Users\\david\\anaconda3\\envs\\svmmvo\\lib\\site-packages\\pandas_datareader\\tiingo.py:234: FutureWarning: In a future version of pandas all arguments of concat except for the argument 'objs' will be keyword-only.\n",
      "  return pd.concat(dfs, self._concat_axis)\n"
     ]
    },
    {
     "name": "stdout",
     "output_type": "stream",
     "text": [
      "Added 661 stocks to the db\n",
      "     ticker priceCurrency ticker_currency\n",
      "1310    FTV           USD         FTV-USD\n",
      "********************\n",
      "[*********************100%***********************]  1 of 1 completed\n",
      "\n",
      "1 Failed download:\n",
      "- G1: No timezone found, symbol may be delisted\n",
      "yahoo failed... len of df:  0\n",
      "tiingo failed... len of df:  0\n",
      "Added 662 stocks to the db\n",
      "     ticker priceCurrency ticker_currency\n",
      "1311     G1           USD          G1-USD\n",
      "********************\n",
      "[*********************100%***********************]  1 of 1 completed\n",
      "\n",
      "1 Failed download:\n",
      "- GAC1: No timezone found, symbol may be delisted\n",
      "yahoo failed... len of df:  0\n",
      "tiingo failed... len of df:  0\n",
      "Added 663 stocks to the db\n",
      "     ticker priceCurrency ticker_currency\n",
      "1312   GAC1           USD        GAC1-USD\n",
      "********************\n",
      "[*********************100%***********************]  1 of 1 completed\n",
      "\n",
      "1 Failed download:\n",
      "- GACC2: No timezone found, symbol may be delisted\n",
      "yahoo failed... len of df:  0\n",
      "tiingo failed... len of df:  0\n",
      "Added 664 stocks to the db\n",
      "    ticker priceCurrency ticker_currency\n",
      "982  GACC2           USD       GACC2-USD\n",
      "********************\n",
      "[*********************100%***********************]  1 of 1 completed\n",
      "\n",
      "1 Failed download:\n",
      "- GAF2: No timezone found, symbol may be delisted\n",
      "yahoo failed... len of df:  0\n",
      "tiingo failed... len of df:  0\n",
      "Added 665 stocks to the db\n",
      "    ticker priceCurrency ticker_currency\n",
      "698   GAF2           USD        GAF2-USD\n",
      "********************\n",
      "[*********************100%***********************]  1 of 1 completed\n",
      "\n",
      "1 Failed download:\n",
      "- GAO1: No timezone found, symbol may be delisted\n",
      "yahoo failed... len of df:  0\n",
      "tiingo failed... len of df:  0\n",
      "Added 666 stocks to the db\n",
      "    ticker priceCurrency ticker_currency\n",
      "536   GAO1           USD        GAO1-USD\n",
      "********************\n",
      "[*********************100%***********************]  1 of 1 completed\n",
      "\n",
      "1 Failed download:\n",
      "- GAPTQ1: No timezone found, symbol may be delisted\n",
      "yahoo failed... len of df:  0\n",
      "tiingo failed... len of df:  0\n",
      "Added 667 stocks to the db\n",
      "     ticker priceCurrency ticker_currency\n",
      "110  GAPTQ1           USD      GAPTQ1-USD\n",
      "********************\n",
      "[*********************100%***********************]  1 of 1 completed\n",
      "\n",
      "1 Failed download:\n",
      "- GAS1: No timezone found, symbol may be delisted\n",
      "yahoo failed... len of df:  0\n",
      "tiingo failed... len of df:  0\n",
      "Added 668 stocks to the db\n",
      "     ticker priceCurrency ticker_currency\n",
      "1313   GAS1           USD        GAS1-USD\n",
      "********************\n",
      "[*********************100%***********************]  1 of 1 completed\n",
      "\n",
      "1 Failed download:\n",
      "- GAS2: No timezone found, symbol may be delisted\n",
      "yahoo failed... len of df:  0\n",
      "tiingo failed... len of df:  0\n",
      "Added 669 stocks to the db\n",
      "   ticker priceCurrency ticker_currency\n",
      "53   GAS2           USD        GAS2-USD\n",
      "********************\n",
      "[*********************100%***********************]  1 of 1 completed\n",
      "\n",
      "1 Failed download:\n",
      "- GBL1: No timezone found, symbol may be delisted\n",
      "yahoo failed... len of df:  0\n",
      "tiingo failed... len of df:  0\n",
      "Added 670 stocks to the db\n",
      "    ticker priceCurrency ticker_currency\n",
      "931   GBL1           USD        GBL1-USD\n",
      "********************\n",
      "[*********************100%***********************]  1 of 1 completed\n",
      "\n",
      "1 Failed download:\n",
      "- GBLXQ1: No timezone found, symbol may be delisted\n",
      "yahoo failed... len of df:  0\n",
      "tiingo failed... len of df:  0\n",
      "Added 671 stocks to the db\n",
      "     ticker priceCurrency ticker_currency\n",
      "122  GBLXQ1           USD      GBLXQ1-USD\n",
      "********************\n",
      "[*********************100%***********************]  1 of 1 completed\n"
     ]
    },
    {
     "name": "stderr",
     "output_type": "stream",
     "text": [
      "C:\\Users\\david\\anaconda3\\envs\\svmmvo\\lib\\site-packages\\pandas_datareader\\tiingo.py:234: FutureWarning: In a future version of pandas all arguments of concat except for the argument 'objs' will be keyword-only.\n",
      "  return pd.concat(dfs, self._concat_axis)\n"
     ]
    },
    {
     "name": "stdout",
     "output_type": "stream",
     "text": [
      "Added 672 stocks to the db\n",
      "     ticker priceCurrency ticker_currency\n",
      "1314    GCO           USD         GCO-USD\n",
      "********************\n",
      "[*********************100%***********************]  1 of 1 completed\n"
     ]
    },
    {
     "name": "stderr",
     "output_type": "stream",
     "text": [
      "C:\\Users\\david\\anaconda3\\envs\\svmmvo\\lib\\site-packages\\pandas_datareader\\tiingo.py:234: FutureWarning: In a future version of pandas all arguments of concat except for the argument 'objs' will be keyword-only.\n",
      "  return pd.concat(dfs, self._concat_axis)\n"
     ]
    },
    {
     "name": "stdout",
     "output_type": "stream",
     "text": [
      "Added 673 stocks to the db\n",
      "     ticker priceCurrency ticker_currency\n",
      "1315     GD           USD          GD-USD\n",
      "********************\n",
      "[*********************100%***********************]  1 of 1 completed\n",
      "\n",
      "1 Failed download:\n",
      "- GDC2: No timezone found, symbol may be delisted\n",
      "yahoo failed... len of df:  0\n",
      "tiingo failed... len of df:  0\n",
      "Added 674 stocks to the db\n",
      "    ticker priceCurrency ticker_currency\n",
      "657   GDC2           USD        GDC2-USD\n",
      "********************\n",
      "[*********************100%***********************]  1 of 1 completed\n",
      "\n",
      "1 Failed download:\n",
      "- GDT1: No timezone found, symbol may be delisted\n",
      "yahoo failed... len of df:  0\n",
      "tiingo failed... len of df:  0\n",
      "Added 675 stocks to the db\n",
      "    ticker priceCurrency ticker_currency\n",
      "195   GDT1           USD        GDT1-USD\n",
      "********************\n",
      "[*********************100%***********************]  1 of 1 completed\n",
      "\n",
      "1 Failed download:\n",
      "- GDVI2: No timezone found, symbol may be delisted\n",
      "yahoo failed... len of df:  0\n",
      "tiingo failed... len of df:  0\n",
      "Added 676 stocks to the db\n",
      "    ticker priceCurrency ticker_currency\n",
      "634  GDVI2           USD       GDVI2-USD\n",
      "********************\n",
      "[*********************100%***********************]  1 of 1 completed\n",
      "\n",
      "1 Failed download:\n",
      "- GDW1: No timezone found, symbol may be delisted\n",
      "yahoo failed... len of df:  0\n",
      "tiingo failed... len of df:  0\n",
      "Added 677 stocks to the db\n",
      "    ticker priceCurrency ticker_currency\n",
      "168   GDW1           USD        GDW1-USD\n",
      "********************\n",
      "[*********************100%***********************]  1 of 1 completed\n"
     ]
    },
    {
     "name": "stderr",
     "output_type": "stream",
     "text": [
      "C:\\Users\\david\\anaconda3\\envs\\svmmvo\\lib\\site-packages\\pandas_datareader\\tiingo.py:234: FutureWarning: In a future version of pandas all arguments of concat except for the argument 'objs' will be keyword-only.\n",
      "  return pd.concat(dfs, self._concat_axis)\n"
     ]
    },
    {
     "name": "stdout",
     "output_type": "stream",
     "text": [
      "Added 678 stocks to the db\n",
      "     ticker priceCurrency ticker_currency\n",
      "1316     GE           USD          GE-USD\n",
      "********************\n",
      "[*********************100%***********************]  1 of 1 completed\n",
      "\n",
      "1 Failed download:\n",
      "- GEB1: No timezone found, symbol may be delisted\n",
      "yahoo failed... len of df:  0\n",
      "tiingo failed... len of df:  0\n",
      "Added 679 stocks to the db\n",
      "    ticker priceCurrency ticker_currency\n",
      "452   GEB1           USD        GEB1-USD\n",
      "********************\n",
      "[*********************100%***********************]  1 of 1 completed\n"
     ]
    },
    {
     "name": "stderr",
     "output_type": "stream",
     "text": [
      "C:\\Users\\david\\anaconda3\\envs\\svmmvo\\lib\\site-packages\\pandas_datareader\\tiingo.py:234: FutureWarning: In a future version of pandas all arguments of concat except for the argument 'objs' will be keyword-only.\n",
      "  return pd.concat(dfs, self._concat_axis)\n"
     ]
    },
    {
     "name": "stdout",
     "output_type": "stream",
     "text": [
      "Added 680 stocks to the db\n",
      "     ticker priceCurrency ticker_currency\n",
      "1317    GEN           USD         GEN-USD\n",
      "********************\n",
      "[*********************100%***********************]  1 of 1 completed\n",
      "\n",
      "1 Failed download:\n",
      "- GENZ1: No timezone found, symbol may be delisted\n",
      "yahoo failed... len of df:  0\n",
      "tiingo failed... len of df:  0\n",
      "Added 681 stocks to the db\n",
      "    ticker priceCurrency ticker_currency\n",
      "113  GENZ1           USD       GENZ1-USD\n",
      "********************\n",
      "[*********************100%***********************]  1 of 1 completed\n",
      "\n",
      "1 Failed download:\n",
      "- GET1: No timezone found, symbol may be delisted\n",
      "yahoo failed... len of df:  0\n",
      "tiingo failed... len of df:  0\n",
      "Added 682 stocks to the db\n",
      "    ticker priceCurrency ticker_currency\n",
      "548   GET1           USD        GET1-USD\n",
      "********************\n",
      "[*********************100%***********************]  1 of 1 completed\n",
      "\n",
      "1 Failed download:\n",
      "- GF1: No timezone found, symbol may be delisted\n",
      "yahoo failed... len of df:  0\n",
      "tiingo failed... len of df:  0\n",
      "Added 683 stocks to the db\n",
      "    ticker priceCurrency ticker_currency\n",
      "380    GF1           USD         GF1-USD\n",
      "********************\n",
      "[*********************100%***********************]  1 of 1 completed\n",
      "\n",
      "1 Failed download:\n",
      "- GFN1: No timezone found, symbol may be delisted\n",
      "yahoo failed... len of df:  0\n",
      "tiingo failed... len of df:  0\n",
      "Added 684 stocks to the db\n",
      "    ticker priceCurrency ticker_currency\n",
      "744   GFN1           USD        GFN1-USD\n",
      "********************\n",
      "[*********************100%***********************]  1 of 1 completed\n",
      "\n",
      "1 Failed download:\n",
      "- GFO1: No timezone found, symbol may be delisted\n",
      "yahoo failed... len of df:  0\n",
      "tiingo failed... len of df:  0\n",
      "Added 685 stocks to the db\n",
      "    ticker priceCurrency ticker_currency\n",
      "728   GFO1           USD        GFO1-USD\n",
      "********************\n",
      "[*********************100%***********************]  1 of 1 completed\n",
      "\n",
      "1 Failed download:\n",
      "- GFS2A: No timezone found, symbol may be delisted\n",
      "yahoo failed... len of df:  0\n",
      "tiingo failed... len of df:  0\n",
      "Added 686 stocks to the db\n",
      "    ticker priceCurrency ticker_currency\n",
      "279  GFS2A           USD       GFS2A-USD\n",
      "********************\n",
      "[*********************100%***********************]  1 of 1 completed\n",
      "\n",
      "1 Failed download:\n",
      "- GG1: No timezone found, symbol may be delisted\n",
      "yahoo failed... len of df:  0\n",
      "tiingo failed... len of df:  0\n",
      "Added 687 stocks to the db\n",
      "    ticker priceCurrency ticker_currency\n",
      "791    GG1           USD         GG1-USD\n",
      "********************\n",
      "[*********************100%***********************]  1 of 1 completed\n",
      "\n",
      "1 Failed download:\n",
      "- GGP2: No timezone found, symbol may be delisted\n",
      "yahoo failed... len of df:  0\n",
      "tiingo failed... len of df:  0\n",
      "Added 688 stocks to the db\n",
      "   ticker priceCurrency ticker_currency\n",
      "49   GGP2           USD        GGP2-USD\n",
      "********************\n",
      "[*********************100%***********************]  1 of 1 completed\n",
      "\n",
      "1 Failed download:\n",
      "- GH1: No timezone found, symbol may be delisted\n",
      "yahoo failed... len of df:  0\n",
      "tiingo failed... len of df:  0\n",
      "Added 689 stocks to the db\n",
      "    ticker priceCurrency ticker_currency\n",
      "735    GH1           USD         GH1-USD\n",
      "********************\n",
      "[*********************100%***********************]  1 of 1 completed\n",
      "\n",
      "1 Failed download:\n",
      "- GHB1: No timezone found, symbol may be delisted\n",
      "yahoo failed... len of df:  0\n",
      "tiingo failed... len of df:  0\n",
      "Added 690 stocks to the db\n",
      "    ticker priceCurrency ticker_currency\n",
      "459   GHB1           USD        GHB1-USD\n",
      "********************\n",
      "[*********************100%***********************]  1 of 1 completed\n"
     ]
    },
    {
     "name": "stderr",
     "output_type": "stream",
     "text": [
      "C:\\Users\\david\\anaconda3\\envs\\svmmvo\\lib\\site-packages\\pandas_datareader\\tiingo.py:234: FutureWarning: In a future version of pandas all arguments of concat except for the argument 'objs' will be keyword-only.\n",
      "  return pd.concat(dfs, self._concat_axis)\n"
     ]
    },
    {
     "name": "stdout",
     "output_type": "stream",
     "text": [
      "Added 691 stocks to the db\n",
      "     ticker priceCurrency ticker_currency\n",
      "1318    GHC           USD         GHC-USD\n",
      "********************\n",
      "[*********************100%***********************]  1 of 1 completed\n",
      "\n",
      "1 Failed download:\n",
      "- GHC1: No timezone found, symbol may be delisted\n",
      "yahoo failed... len of df:  0\n",
      "tiingo failed... len of df:  0\n",
      "Added 692 stocks to the db\n",
      "    ticker priceCurrency ticker_currency\n",
      "958   GHC1           USD        GHC1-USD\n",
      "********************\n",
      "[*********************100%***********************]  1 of 1 completed\n",
      "\n",
      "1 Failed download:\n",
      "- GIC1: No timezone found, symbol may be delisted\n",
      "yahoo failed... len of df:  0\n",
      "tiingo failed... len of df:  0\n",
      "Added 693 stocks to the db\n",
      "    ticker priceCurrency ticker_currency\n",
      "321   GIC1           USD        GIC1-USD\n",
      "********************\n",
      "[*********************100%***********************]  1 of 1 completed\n",
      "\n",
      "1 Failed download:\n",
      "- GID1: No timezone found, symbol may be delisted\n",
      "yahoo failed... len of df:  0\n",
      "tiingo failed... len of df:  0\n",
      "Added 694 stocks to the db\n",
      "    ticker priceCurrency ticker_currency\n",
      "784   GID1           USD        GID1-USD\n",
      "********************\n",
      "[*********************100%***********************]  1 of 1 completed\n",
      "\n",
      "1 Failed download:\n",
      "- GIDL1: No timezone found, symbol may be delisted\n",
      "yahoo failed... len of df:  0\n",
      "tiingo failed... len of df:  0\n",
      "Added 695 stocks to the db\n",
      "    ticker priceCurrency ticker_currency\n",
      "314  GIDL1           USD       GIDL1-USD\n",
      "********************\n",
      "[*********************100%***********************]  1 of 1 completed\n"
     ]
    },
    {
     "name": "stderr",
     "output_type": "stream",
     "text": [
      "C:\\Users\\david\\anaconda3\\envs\\svmmvo\\lib\\site-packages\\pandas_datareader\\tiingo.py:234: FutureWarning: In a future version of pandas all arguments of concat except for the argument 'objs' will be keyword-only.\n",
      "  return pd.concat(dfs, self._concat_axis)\n"
     ]
    },
    {
     "name": "stdout",
     "output_type": "stream",
     "text": [
      "Added 696 stocks to the db\n",
      "     ticker priceCurrency ticker_currency\n",
      "1319   GILD           USD        GILD-USD\n",
      "********************\n",
      "[*********************100%***********************]  1 of 1 completed\n"
     ]
    },
    {
     "name": "stderr",
     "output_type": "stream",
     "text": [
      "C:\\Users\\david\\anaconda3\\envs\\svmmvo\\lib\\site-packages\\pandas_datareader\\tiingo.py:234: FutureWarning: In a future version of pandas all arguments of concat except for the argument 'objs' will be keyword-only.\n",
      "  return pd.concat(dfs, self._concat_axis)\n"
     ]
    },
    {
     "name": "stdout",
     "output_type": "stream",
     "text": [
      "Added 697 stocks to the db\n",
      "     ticker priceCurrency ticker_currency\n",
      "1320    GIS           USD         GIS-USD\n",
      "********************\n",
      "[*********************100%***********************]  1 of 1 completed\n",
      "\n",
      "1 Failed download:\n",
      "- GK1: No timezone found, symbol may be delisted\n",
      "yahoo failed... len of df:  0\n",
      "tiingo failed... len of df:  0\n",
      "Added 698 stocks to the db\n",
      "     ticker priceCurrency ticker_currency\n",
      "1321    GK1           USD         GK1-USD\n",
      "********************\n",
      "[*********************100%***********************]  1 of 1 completed\n"
     ]
    },
    {
     "name": "stderr",
     "output_type": "stream",
     "text": [
      "C:\\Users\\david\\anaconda3\\envs\\svmmvo\\lib\\site-packages\\pandas_datareader\\tiingo.py:234: FutureWarning: In a future version of pandas all arguments of concat except for the argument 'objs' will be keyword-only.\n",
      "  return pd.concat(dfs, self._concat_axis)\n"
     ]
    },
    {
     "name": "stdout",
     "output_type": "stream",
     "text": [
      "Added 699 stocks to the db\n",
      "     ticker priceCurrency ticker_currency\n",
      "1322     GL           USD          GL-USD\n",
      "********************\n",
      "[*********************100%***********************]  1 of 1 completed\n",
      "\n",
      "1 Failed download:\n",
      "- GLD1: No timezone found, symbol may be delisted\n",
      "yahoo failed... len of df:  0\n",
      "tiingo failed... len of df:  0\n",
      "Added 700 stocks to the db\n",
      "    ticker priceCurrency ticker_currency\n",
      "545   GLD1           USD        GLD1-USD\n",
      "********************\n",
      "[*********************100%***********************]  1 of 1 completed\n",
      "\n",
      "1 Failed download:\n",
      "- GLD2: No timezone found, symbol may be delisted\n",
      "yahoo failed... len of df:  0\n",
      "tiingo failed... len of df:  0\n",
      "Added 701 stocks to the db\n",
      "    ticker priceCurrency ticker_currency\n",
      "323   GLD2           USD        GLD2-USD\n",
      "********************\n",
      "[*********************100%***********************]  1 of 1 completed\n",
      "\n",
      "1 Failed download:\n",
      "- GLK2: No timezone found, symbol may be delisted\n",
      "yahoo failed... len of df:  0\n",
      "tiingo failed... len of df:  0\n",
      "Added 702 stocks to the db\n",
      "    ticker priceCurrency ticker_currency\n",
      "160   GLK2           USD        GLK2-USD\n",
      "********************\n",
      "[*********************100%***********************]  1 of 1 completed\n",
      "\n",
      "1 Failed download:\n",
      "- GLM1: No timezone found, symbol may be delisted\n",
      "yahoo failed... len of df:  0\n",
      "tiingo failed... len of df:  0\n",
      "Added 703 stocks to the db\n",
      "    ticker priceCurrency ticker_currency\n",
      "415   GLM1           USD        GLM1-USD\n",
      "********************\n",
      "[*********************100%***********************]  1 of 1 completed\n",
      "\n",
      "1 Failed download:\n",
      "- GLR2: No timezone found, symbol may be delisted\n",
      "yahoo failed... len of df:  0\n",
      "tiingo failed... len of df:  0\n",
      "Added 704 stocks to the db\n",
      "    ticker priceCurrency ticker_currency\n",
      "805   GLR2           USD        GLR2-USD\n",
      "********************\n",
      "[*********************100%***********************]  1 of 1 completed\n"
     ]
    },
    {
     "name": "stderr",
     "output_type": "stream",
     "text": [
      "C:\\Users\\david\\anaconda3\\envs\\svmmvo\\lib\\site-packages\\pandas_datareader\\tiingo.py:234: FutureWarning: In a future version of pandas all arguments of concat except for the argument 'objs' will be keyword-only.\n",
      "  return pd.concat(dfs, self._concat_axis)\n"
     ]
    },
    {
     "name": "stdout",
     "output_type": "stream",
     "text": [
      "Added 705 stocks to the db\n",
      "     ticker priceCurrency ticker_currency\n",
      "1323    GLW           USD         GLW-USD\n",
      "********************\n",
      "[*********************100%***********************]  1 of 1 completed\n"
     ]
    },
    {
     "name": "stderr",
     "output_type": "stream",
     "text": [
      "C:\\Users\\david\\anaconda3\\envs\\svmmvo\\lib\\site-packages\\pandas_datareader\\tiingo.py:234: FutureWarning: In a future version of pandas all arguments of concat except for the argument 'objs' will be keyword-only.\n",
      "  return pd.concat(dfs, self._concat_axis)\n"
     ]
    },
    {
     "name": "stdout",
     "output_type": "stream",
     "text": [
      "Added 706 stocks to the db\n",
      "     ticker priceCurrency ticker_currency\n",
      "1324     GM           USD          GM-USD\n",
      "********************\n",
      "[*********************100%***********************]  1 of 1 completed\n",
      "\n",
      "1 Failed download:\n",
      "- GMBL1: No timezone found, symbol may be delisted\n",
      "yahoo failed... len of df:  0\n",
      "tiingo failed... len of df:  0\n",
      "Added 707 stocks to the db\n",
      "    ticker priceCurrency ticker_currency\n",
      "683  GMBL1           USD       GMBL1-USD\n",
      "********************\n",
      "[*********************100%***********************]  1 of 1 completed\n",
      "\n",
      "1 Failed download:\n",
      "- GMCR1: No timezone found, symbol may be delisted\n",
      "yahoo failed... len of df:  0\n",
      "tiingo failed... len of df:  0\n",
      "Added 708 stocks to the db\n",
      "   ticker priceCurrency ticker_currency\n",
      "60  GMCR1           USD       GMCR1-USD\n",
      "********************\n",
      "[*********************100%***********************]  1 of 1 completed\n"
     ]
    },
    {
     "name": "stderr",
     "output_type": "stream",
     "text": [
      "C:\\Users\\david\\anaconda3\\envs\\svmmvo\\lib\\site-packages\\pandas_datareader\\tiingo.py:234: FutureWarning: In a future version of pandas all arguments of concat except for the argument 'objs' will be keyword-only.\n",
      "  return pd.concat(dfs, self._concat_axis)\n"
     ]
    },
    {
     "name": "stdout",
     "output_type": "stream",
     "text": [
      "Added 709 stocks to the db\n",
      "     ticker priceCurrency ticker_currency\n",
      "1325    GME           USD         GME-USD\n",
      "********************\n",
      "[*********************100%***********************]  1 of 1 completed\n",
      "\n",
      "1 Failed download:\n",
      "- GN1: No timezone found, symbol may be delisted\n",
      "yahoo failed... len of df:  0\n",
      "tiingo failed... len of df:  0\n",
      "Added 710 stocks to the db\n",
      "    ticker priceCurrency ticker_currency\n",
      "455    GN1           USD         GN1-USD\n",
      "********************\n",
      "[*********************100%***********************]  1 of 1 completed\n",
      "\n",
      "1 Failed download:\n",
      "- GNE1: No timezone found, symbol may be delisted\n",
      "yahoo failed... len of df:  0\n",
      "tiingo failed... len of df:  0\n",
      "Added 711 stocks to the db\n",
      "    ticker priceCurrency ticker_currency\n",
      "852   GNE1           USD        GNE1-USD\n",
      "********************\n",
      "[*********************100%***********************]  1 of 1 completed\n",
      "\n",
      "1 Failed download:\n",
      "- GNN1: No timezone found, symbol may be delisted\n",
      "yahoo failed... len of df:  0\n",
      "tiingo failed... len of df:  0\n",
      "Added 712 stocks to the db\n",
      "    ticker priceCurrency ticker_currency\n",
      "575   GNN1           USD        GNN1-USD\n",
      "********************\n",
      "[*********************100%***********************]  1 of 1 completed\n",
      "\n",
      "1 Failed download:\n",
      "- GNN2: No timezone found, symbol may be delisted\n",
      "yahoo failed... len of df:  0\n",
      "tiingo failed... len of df:  0\n",
      "Added 713 stocks to the db\n",
      "    ticker priceCurrency ticker_currency\n",
      "976   GNN2           USD        GNN2-USD\n",
      "********************\n",
      "[*********************100%***********************]  1 of 1 completed\n",
      "\n",
      "1 Failed download:\n",
      "- GNO1: No timezone found, symbol may be delisted\n",
      "yahoo failed... len of df:  0\n",
      "tiingo failed... len of df:  0\n",
      "Added 714 stocks to the db\n",
      "    ticker priceCurrency ticker_currency\n",
      "892   GNO1           USD        GNO1-USD\n",
      "********************\n",
      "[*********************100%***********************]  1 of 1 completed\n"
     ]
    },
    {
     "name": "stderr",
     "output_type": "stream",
     "text": [
      "C:\\Users\\david\\anaconda3\\envs\\svmmvo\\lib\\site-packages\\pandas_datareader\\tiingo.py:234: FutureWarning: In a future version of pandas all arguments of concat except for the argument 'objs' will be keyword-only.\n",
      "  return pd.concat(dfs, self._concat_axis)\n"
     ]
    },
    {
     "name": "stdout",
     "output_type": "stream",
     "text": [
      "Added 715 stocks to the db\n",
      "     ticker priceCurrency ticker_currency\n",
      "1326   GNRC           USD        GNRC-USD\n",
      "********************\n",
      "[*********************100%***********************]  1 of 1 completed\n",
      "\n",
      "1 Failed download:\n",
      "- GNT1: No timezone found, symbol may be delisted\n",
      "yahoo failed... len of df:  0\n",
      "tiingo failed... len of df:  0\n",
      "Added 716 stocks to the db\n",
      "    ticker priceCurrency ticker_currency\n",
      "317   GNT1           USD        GNT1-USD\n",
      "********************\n",
      "[*********************100%***********************]  1 of 1 completed\n"
     ]
    },
    {
     "name": "stderr",
     "output_type": "stream",
     "text": [
      "C:\\Users\\david\\anaconda3\\envs\\svmmvo\\lib\\site-packages\\pandas_datareader\\tiingo.py:234: FutureWarning: In a future version of pandas all arguments of concat except for the argument 'objs' will be keyword-only.\n",
      "  return pd.concat(dfs, self._concat_axis)\n"
     ]
    },
    {
     "name": "stdout",
     "output_type": "stream",
     "text": [
      "Added 717 stocks to the db\n",
      "     ticker priceCurrency ticker_currency\n",
      "1327    GNW           USD         GNW-USD\n",
      "********************\n",
      "[*********************100%***********************]  1 of 1 completed\n",
      "\n",
      "1 Failed download:\n",
      "- GO1: No timezone found, symbol may be delisted\n",
      "yahoo failed... len of df:  0\n",
      "tiingo failed... len of df:  0\n",
      "Added 718 stocks to the db\n",
      "    ticker priceCurrency ticker_currency\n",
      "444    GO1           USD         GO1-USD\n",
      "********************\n",
      "[*********************100%***********************]  1 of 1 completed\n"
     ]
    },
    {
     "name": "stderr",
     "output_type": "stream",
     "text": [
      "C:\\Users\\david\\anaconda3\\envs\\svmmvo\\lib\\site-packages\\pandas_datareader\\tiingo.py:234: FutureWarning: In a future version of pandas all arguments of concat except for the argument 'objs' will be keyword-only.\n",
      "  return pd.concat(dfs, self._concat_axis)\n"
     ]
    },
    {
     "name": "stdout",
     "output_type": "stream",
     "text": [
      "Added 719 stocks to the db\n",
      "     ticker priceCurrency ticker_currency\n",
      "1328   GOOG           USD        GOOG-USD\n",
      "********************\n",
      "[*********************100%***********************]  1 of 1 completed\n"
     ]
    },
    {
     "name": "stderr",
     "output_type": "stream",
     "text": [
      "C:\\Users\\david\\anaconda3\\envs\\svmmvo\\lib\\site-packages\\pandas_datareader\\tiingo.py:234: FutureWarning: In a future version of pandas all arguments of concat except for the argument 'objs' will be keyword-only.\n",
      "  return pd.concat(dfs, self._concat_axis)\n"
     ]
    },
    {
     "name": "stdout",
     "output_type": "stream",
     "text": [
      "Added 720 stocks to the db\n",
      "     ticker priceCurrency ticker_currency\n",
      "1329  GOOGL           USD       GOOGL-USD\n",
      "********************\n",
      "[*********************100%***********************]  1 of 1 completed\n",
      "\n",
      "1 Failed download:\n",
      "- GOSH1A: No timezone found, symbol may be delisted\n",
      "yahoo failed... len of df:  0\n",
      "tiingo failed... len of df:  0\n",
      "Added 721 stocks to the db\n",
      "     ticker priceCurrency ticker_currency\n",
      "392  GOSH1A           USD      GOSH1A-USD\n",
      "********************\n",
      "[*********************100%***********************]  1 of 1 completed\n",
      "\n",
      "1 Failed download:\n",
      "- GP1: No timezone found, symbol may be delisted\n",
      "yahoo failed... len of df:  0\n",
      "tiingo failed... len of df:  0\n",
      "Added 722 stocks to the db\n",
      "    ticker priceCurrency ticker_currency\n",
      "156    GP1           USD         GP1-USD\n",
      "********************\n",
      "[*********************100%***********************]  1 of 1 completed\n"
     ]
    },
    {
     "name": "stderr",
     "output_type": "stream",
     "text": [
      "C:\\Users\\david\\anaconda3\\envs\\svmmvo\\lib\\site-packages\\pandas_datareader\\tiingo.py:234: FutureWarning: In a future version of pandas all arguments of concat except for the argument 'objs' will be keyword-only.\n",
      "  return pd.concat(dfs, self._concat_axis)\n"
     ]
    },
    {
     "name": "stdout",
     "output_type": "stream",
     "text": [
      "Added 723 stocks to the db\n",
      "     ticker priceCurrency ticker_currency\n",
      "1330    GPC           USD         GPC-USD\n",
      "********************\n",
      "[*********************100%***********************]  1 of 1 completed\n"
     ]
    },
    {
     "name": "stderr",
     "output_type": "stream",
     "text": [
      "C:\\Users\\david\\anaconda3\\envs\\svmmvo\\lib\\site-packages\\pandas_datareader\\tiingo.py:234: FutureWarning: In a future version of pandas all arguments of concat except for the argument 'objs' will be keyword-only.\n",
      "  return pd.concat(dfs, self._concat_axis)\n"
     ]
    },
    {
     "name": "stdout",
     "output_type": "stream",
     "text": [
      "Added 724 stocks to the db\n",
      "     ticker priceCurrency ticker_currency\n",
      "1331    GPN           USD         GPN-USD\n",
      "********************\n",
      "[*********************100%***********************]  1 of 1 completed\n"
     ]
    },
    {
     "name": "stderr",
     "output_type": "stream",
     "text": [
      "C:\\Users\\david\\anaconda3\\envs\\svmmvo\\lib\\site-packages\\pandas_datareader\\tiingo.py:234: FutureWarning: In a future version of pandas all arguments of concat except for the argument 'objs' will be keyword-only.\n",
      "  return pd.concat(dfs, self._concat_axis)\n"
     ]
    },
    {
     "name": "stdout",
     "output_type": "stream",
     "text": [
      "Added 725 stocks to the db\n",
      "     ticker priceCurrency ticker_currency\n",
      "1332    GPS           USD         GPS-USD\n",
      "********************\n",
      "[*********************100%***********************]  1 of 1 completed\n",
      "\n",
      "1 Failed download:\n",
      "- GPT3: No timezone found, symbol may be delisted\n",
      "yahoo failed... len of df:  0\n",
      "tiingo failed... len of df:  0\n",
      "Added 726 stocks to the db\n",
      "     ticker priceCurrency ticker_currency\n",
      "1333   GPT3           USD        GPT3-USD\n",
      "********************\n",
      "[*********************100%***********************]  1 of 1 completed\n",
      "\n",
      "1 Failed download:\n",
      "- GPU1: No timezone found, symbol may be delisted\n",
      "yahoo failed... len of df:  0\n",
      "tiingo failed... len of df:  0\n",
      "Added 727 stocks to the db\n",
      "    ticker priceCurrency ticker_currency\n",
      "193   GPU1           USD        GPU1-USD\n",
      "********************\n",
      "[*********************100%***********************]  1 of 1 completed\n",
      "\n",
      "1 Failed download:\n",
      "- GQ1: No timezone found, symbol may be delisted\n",
      "yahoo failed... len of df:  0\n",
      "tiingo failed... len of df:  0\n",
      "Added 728 stocks to the db\n",
      "    ticker priceCurrency ticker_currency\n",
      "491    GQ1           USD         GQ1-USD\n",
      "********************\n",
      "[*********************100%***********************]  1 of 1 completed\n",
      "\n",
      "1 Failed download:\n",
      "- GR1: No timezone found, symbol may be delisted\n",
      "yahoo failed... len of df:  0\n",
      "tiingo failed... len of df:  0\n",
      "Added 729 stocks to the db\n",
      "   ticker priceCurrency ticker_currency\n",
      "62    GR1           USD         GR1-USD\n",
      "********************\n",
      "[*********************100%***********************]  1 of 1 completed\n",
      "\n",
      "1 Failed download:\n",
      "- GRA1: No timezone found, symbol may be delisted\n",
      "yahoo failed... len of df:  0\n",
      "tiingo failed... len of df:  0\n",
      "Added 730 stocks to the db\n",
      "    ticker priceCurrency ticker_currency\n",
      "332   GRA1           USD        GRA1-USD\n",
      "********************\n",
      "[*********************100%***********************]  1 of 1 completed\n",
      "\n",
      "1 Failed download:\n",
      "- GRA2: No timezone found, symbol may be delisted\n",
      "yahoo failed... len of df:  0\n",
      "tiingo failed... len of df:  0\n",
      "Added 731 stocks to the db\n",
      "    ticker priceCurrency ticker_currency\n",
      "275   GRA2           USD        GRA2-USD\n",
      "********************\n",
      "[*********************100%***********************]  1 of 1 completed\n",
      "\n",
      "1 Failed download:\n",
      "- GRH3: No timezone found, symbol may be delisted\n",
      "yahoo failed... len of df:  0\n",
      "tiingo failed... len of df:  0\n",
      "Added 732 stocks to the db\n",
      "    ticker priceCurrency ticker_currency\n",
      "425   GRH3           USD        GRH3-USD\n",
      "********************\n",
      "[*********************100%***********************]  1 of 1 completed\n",
      "\n",
      "1 Failed download:\n",
      "- GRL1: No timezone found, symbol may be delisted\n",
      "yahoo failed... len of df:  0\n",
      "tiingo failed... len of df:  0\n",
      "Added 733 stocks to the db\n",
      "    ticker priceCurrency ticker_currency\n",
      "570   GRL1           USD        GRL1-USD\n",
      "********************\n",
      "[*********************100%***********************]  1 of 1 completed\n"
     ]
    },
    {
     "name": "stderr",
     "output_type": "stream",
     "text": [
      "C:\\Users\\david\\anaconda3\\envs\\svmmvo\\lib\\site-packages\\pandas_datareader\\tiingo.py:234: FutureWarning: In a future version of pandas all arguments of concat except for the argument 'objs' will be keyword-only.\n",
      "  return pd.concat(dfs, self._concat_axis)\n"
     ]
    },
    {
     "name": "stdout",
     "output_type": "stream",
     "text": [
      "Added 734 stocks to the db\n",
      "     ticker priceCurrency ticker_currency\n",
      "1334   GRMN           USD        GRMN-USD\n",
      "********************\n",
      "[*********************100%***********************]  1 of 1 completed\n",
      "\n",
      "1 Failed download:\n",
      "- GRN2: No timezone found, symbol may be delisted\n",
      "yahoo failed... len of df:  0\n",
      "tiingo failed... len of df:  0\n",
      "Added 735 stocks to the db\n",
      "    ticker priceCurrency ticker_currency\n",
      "265   GRN2           USD        GRN2-USD\n",
      "********************\n",
      "[*********************100%***********************]  1 of 1 completed\n",
      "\n",
      "1 Failed download:\n",
      "- GRN4: No timezone found, symbol may be delisted\n",
      "yahoo failed... len of df:  0\n",
      "tiingo failed... len of df:  0\n",
      "Added 736 stocks to the db\n",
      "    ticker priceCurrency ticker_currency\n",
      "898   GRN4           USD        GRN4-USD\n",
      "********************\n",
      "[*********************100%***********************]  1 of 1 completed\n"
     ]
    },
    {
     "name": "stderr",
     "output_type": "stream",
     "text": [
      "C:\\Users\\david\\anaconda3\\envs\\svmmvo\\lib\\site-packages\\pandas_datareader\\tiingo.py:234: FutureWarning: In a future version of pandas all arguments of concat except for the argument 'objs' will be keyword-only.\n",
      "  return pd.concat(dfs, self._concat_axis)\n"
     ]
    },
    {
     "name": "stdout",
     "output_type": "stream",
     "text": [
      "Added 737 stocks to the db\n",
      "     ticker priceCurrency ticker_currency\n",
      "1335     GS           USD          GS-USD\n",
      "********************\n",
      "[*********************100%***********************]  1 of 1 completed\n",
      "\n",
      "1 Failed download:\n",
      "- GSI2: No timezone found, symbol may be delisted\n",
      "yahoo failed... len of df:  0\n",
      "tiingo failed... len of df:  0\n",
      "Added 738 stocks to the db\n",
      "    ticker priceCurrency ticker_currency\n",
      "802   GSI2           USD        GSI2-USD\n",
      "********************\n",
      "[*********************100%***********************]  1 of 1 completed\n",
      "\n",
      "1 Failed download:\n",
      "- GSK1: No timezone found, symbol may be delisted\n",
      "yahoo failed... len of df:  0\n",
      "tiingo failed... len of df:  0\n",
      "Added 739 stocks to the db\n",
      "    ticker priceCurrency ticker_currency\n",
      "777   GSK1           USD        GSK1-USD\n",
      "********************\n",
      "[*********************100%***********************]  1 of 1 completed\n",
      "\n",
      "1 Failed download:\n",
      "- GSW1: No timezone found, symbol may be delisted\n",
      "yahoo failed... len of df:  0\n",
      "tiingo failed... len of df:  0\n",
      "Added 740 stocks to the db\n",
      "    ticker priceCurrency ticker_currency\n",
      "726   GSW1           USD        GSW1-USD\n",
      "********************\n",
      "[*********************100%***********************]  1 of 1 completed\n",
      "\n",
      "1 Failed download:\n",
      "- GSX1: No timezone found, symbol may be delisted\n",
      "yahoo failed... len of df:  0\n",
      "tiingo failed... len of df:  0\n",
      "Added 741 stocks to the db\n",
      "     ticker priceCurrency ticker_currency\n",
      "1336   GSX1           USD        GSX1-USD\n",
      "********************\n",
      "[*********************100%***********************]  1 of 1 completed\n"
     ]
    },
    {
     "name": "stderr",
     "output_type": "stream",
     "text": [
      "C:\\Users\\david\\anaconda3\\envs\\svmmvo\\lib\\site-packages\\pandas_datareader\\tiingo.py:234: FutureWarning: In a future version of pandas all arguments of concat except for the argument 'objs' will be keyword-only.\n",
      "  return pd.concat(dfs, self._concat_axis)\n"
     ]
    },
    {
     "name": "stdout",
     "output_type": "stream",
     "text": [
      "Added 742 stocks to the db\n",
      "     ticker priceCurrency ticker_currency\n",
      "1337     GT           USD          GT-USD\n",
      "********************\n",
      "[*********************100%***********************]  1 of 1 completed\n",
      "\n",
      "1 Failed download:\n",
      "- GTE1: No timezone found, symbol may be delisted\n",
      "yahoo failed... len of df:  0\n",
      "tiingo failed... len of df:  0\n",
      "Added 743 stocks to the db\n",
      "     ticker priceCurrency ticker_currency\n",
      "1338   GTE1           USD        GTE1-USD\n",
      "********************\n",
      "[*********************100%***********************]  1 of 1 completed\n",
      "\n",
      "1 Failed download:\n",
      "- GTS1: No timezone found, symbol may be delisted\n",
      "yahoo failed... len of df:  0\n",
      "tiingo failed... len of df:  0\n",
      "Added 744 stocks to the db\n",
      "     ticker priceCurrency ticker_currency\n",
      "1339   GTS1           USD        GTS1-USD\n",
      "********************\n",
      "[*********************100%***********************]  1 of 1 completed\n",
      "\n",
      "1 Failed download:\n",
      "- GTW1: No timezone found, symbol may be delisted\n",
      "yahoo failed... len of df:  0\n",
      "tiingo failed... len of df:  0\n",
      "Added 745 stocks to the db\n",
      "    ticker priceCurrency ticker_currency\n",
      "207   GTW1           USD        GTW1-USD\n",
      "********************\n",
      "[*********************100%***********************]  1 of 1 completed\n",
      "\n",
      "1 Failed download:\n",
      "- GTY1: No timezone found, symbol may be delisted\n",
      "yahoo failed... len of df:  0\n",
      "tiingo failed... len of df:  0\n",
      "Added 746 stocks to the db\n",
      "    ticker priceCurrency ticker_currency\n",
      "825   GTY1           USD        GTY1-USD\n",
      "********************\n",
      "[*********************100%***********************]  1 of 1 completed\n",
      "\n",
      "1 Failed download:\n",
      "- GUX1: No timezone found, symbol may be delisted\n",
      "yahoo failed... len of df:  0\n",
      "tiingo failed... len of df:  0\n",
      "Added 747 stocks to the db\n",
      "    ticker priceCurrency ticker_currency\n",
      "850   GUX1           USD        GUX1-USD\n",
      "********************\n",
      "[*********************100%***********************]  1 of 1 completed\n",
      "\n",
      "1 Failed download:\n",
      "- GWF1: No timezone found, symbol may be delisted\n",
      "yahoo failed... len of df:  0\n",
      "tiingo failed... len of df:  0\n",
      "Added 748 stocks to the db\n",
      "    ticker priceCurrency ticker_currency\n",
      "285   GWF1           USD        GWF1-USD\n",
      "********************\n",
      "[*********************100%***********************]  1 of 1 completed\n",
      "\n",
      "1 Failed download:\n",
      "- GWOW1: No timezone found, symbol may be delisted\n",
      "yahoo failed... len of df:  0\n",
      "tiingo failed... len of df:  0\n",
      "Added 749 stocks to the db\n",
      "    ticker priceCurrency ticker_currency\n",
      "369  GWOW1           USD       GWOW1-USD\n",
      "********************\n",
      "[*********************100%***********************]  1 of 1 completed\n",
      "\n",
      "1 Failed download:\n",
      "- GWU1: No timezone found, symbol may be delisted\n",
      "yahoo failed... len of df:  0\n",
      "tiingo failed... len of df:  0\n",
      "Added 750 stocks to the db\n",
      "    ticker priceCurrency ticker_currency\n",
      "963   GWU1           USD        GWU1-USD\n",
      "********************\n",
      "[*********************100%***********************]  1 of 1 completed\n"
     ]
    },
    {
     "name": "stderr",
     "output_type": "stream",
     "text": [
      "C:\\Users\\david\\anaconda3\\envs\\svmmvo\\lib\\site-packages\\pandas_datareader\\tiingo.py:234: FutureWarning: In a future version of pandas all arguments of concat except for the argument 'objs' will be keyword-only.\n",
      "  return pd.concat(dfs, self._concat_axis)\n"
     ]
    },
    {
     "name": "stdout",
     "output_type": "stream",
     "text": [
      "Added 751 stocks to the db\n",
      "     ticker priceCurrency ticker_currency\n",
      "1340    GWW           USD         GWW-USD\n",
      "********************\n",
      "[*********************100%***********************]  1 of 1 completed\n",
      "\n",
      "1 Failed download:\n",
      "- H1: No timezone found, symbol may be delisted\n",
      "yahoo failed... len of df:  0\n",
      "tiingo failed... len of df:  0\n",
      "Added 752 stocks to the db\n",
      "     ticker priceCurrency ticker_currency\n",
      "1341     H1           USD          H1-USD\n",
      "********************\n",
      "[*********************100%***********************]  1 of 1 completed\n",
      "\n",
      "1 Failed download:\n",
      "- H2: No timezone found, symbol may be delisted\n",
      "yahoo failed... len of df:  0\n",
      "tiingo failed... len of df:  0\n",
      "Added 753 stocks to the db\n",
      "    ticker priceCurrency ticker_currency\n",
      "185     H2           USD          H2-USD\n",
      "********************\n",
      "[*********************100%***********************]  1 of 1 completed\n"
     ]
    },
    {
     "name": "stderr",
     "output_type": "stream",
     "text": [
      "C:\\Users\\david\\anaconda3\\envs\\svmmvo\\lib\\site-packages\\pandas_datareader\\tiingo.py:234: FutureWarning: In a future version of pandas all arguments of concat except for the argument 'objs' will be keyword-only.\n",
      "  return pd.concat(dfs, self._concat_axis)\n"
     ]
    },
    {
     "name": "stdout",
     "output_type": "stream",
     "text": [
      "Added 754 stocks to the db\n",
      "     ticker priceCurrency ticker_currency\n",
      "1342    HAL           USD         HAL-USD\n",
      "********************\n",
      "[*********************100%***********************]  1 of 1 completed\n",
      "\n",
      "1 Failed download:\n",
      "- HAR3: No timezone found, symbol may be delisted\n",
      "yahoo failed... len of df:  0\n",
      "tiingo failed... len of df:  0\n",
      "Added 755 stocks to the db\n",
      "   ticker priceCurrency ticker_currency\n",
      "42   HAR3           USD        HAR3-USD\n",
      "********************\n",
      "[*********************100%***********************]  1 of 1 completed\n"
     ]
    },
    {
     "name": "stderr",
     "output_type": "stream",
     "text": [
      "C:\\Users\\david\\anaconda3\\envs\\svmmvo\\lib\\site-packages\\pandas_datareader\\tiingo.py:234: FutureWarning: In a future version of pandas all arguments of concat except for the argument 'objs' will be keyword-only.\n",
      "  return pd.concat(dfs, self._concat_axis)\n"
     ]
    },
    {
     "name": "stdout",
     "output_type": "stream",
     "text": [
      "Added 756 stocks to the db\n",
      "     ticker priceCurrency ticker_currency\n",
      "1343    HAS           USD         HAS-USD\n",
      "********************\n",
      "[*********************100%***********************]  1 of 1 completed\n"
     ]
    },
    {
     "name": "stderr",
     "output_type": "stream",
     "text": [
      "C:\\Users\\david\\anaconda3\\envs\\svmmvo\\lib\\site-packages\\pandas_datareader\\tiingo.py:234: FutureWarning: In a future version of pandas all arguments of concat except for the argument 'objs' will be keyword-only.\n",
      "  return pd.concat(dfs, self._concat_axis)\n"
     ]
    },
    {
     "name": "stdout",
     "output_type": "stream",
     "text": [
      "Added 757 stocks to the db\n",
      "     ticker priceCurrency ticker_currency\n",
      "1344   HBAN           USD        HBAN-USD\n",
      "********************\n",
      "[*********************100%***********************]  1 of 1 completed\n"
     ]
    },
    {
     "name": "stderr",
     "output_type": "stream",
     "text": [
      "C:\\Users\\david\\anaconda3\\envs\\svmmvo\\lib\\site-packages\\pandas_datareader\\tiingo.py:234: FutureWarning: In a future version of pandas all arguments of concat except for the argument 'objs' will be keyword-only.\n",
      "  return pd.concat(dfs, self._concat_axis)\n"
     ]
    },
    {
     "name": "stdout",
     "output_type": "stream",
     "text": [
      "Added 758 stocks to the db\n",
      "     ticker priceCurrency ticker_currency\n",
      "1345    HBI           USD         HBI-USD\n",
      "********************\n",
      "[*********************100%***********************]  1 of 1 completed\n",
      "\n",
      "1 Failed download:\n",
      "- HBJ1: No timezone found, symbol may be delisted\n",
      "yahoo failed... len of df:  0\n",
      "tiingo failed... len of df:  0\n",
      "Added 759 stocks to the db\n",
      "    ticker priceCurrency ticker_currency\n",
      "689   HBJ1           USD        HBJ1-USD\n",
      "********************\n",
      "[*********************100%***********************]  1 of 1 completed\n",
      "\n",
      "1 Failed download:\n",
      "- HBL1: No timezone found, symbol may be delisted\n",
      "yahoo failed... len of df:  0\n",
      "tiingo failed... len of df:  0\n",
      "Added 760 stocks to the db\n",
      "    ticker priceCurrency ticker_currency\n",
      "658   HBL1           USD        HBL1-USD\n",
      "********************\n",
      "[*********************100%***********************]  1 of 1 completed\n",
      "\n",
      "1 Failed download:\n",
      "- HBOC1: No timezone found, symbol may be delisted\n",
      "yahoo failed... len of df:  0\n",
      "tiingo failed... len of df:  0\n",
      "Added 761 stocks to the db\n",
      "    ticker priceCurrency ticker_currency\n",
      "295  HBOC1           USD       HBOC1-USD\n",
      "********************\n",
      "[*********************100%***********************]  1 of 1 completed\n",
      "\n",
      "1 Failed download:\n",
      "- HC2: No timezone found, symbol may be delisted\n",
      "yahoo failed... len of df:  0\n",
      "tiingo failed... len of df:  0\n",
      "Added 762 stocks to the db\n",
      "    ticker priceCurrency ticker_currency\n",
      "527    HC2           USD         HC2-USD\n",
      "********************\n",
      "[*********************100%***********************]  1 of 1 completed\n"
     ]
    },
    {
     "name": "stderr",
     "output_type": "stream",
     "text": [
      "C:\\Users\\david\\anaconda3\\envs\\svmmvo\\lib\\site-packages\\pandas_datareader\\tiingo.py:234: FutureWarning: In a future version of pandas all arguments of concat except for the argument 'objs' will be keyword-only.\n",
      "  return pd.concat(dfs, self._concat_axis)\n"
     ]
    },
    {
     "name": "stdout",
     "output_type": "stream",
     "text": [
      "Added 763 stocks to the db\n",
      "     ticker priceCurrency ticker_currency\n",
      "1346    HCA           USD         HCA-USD\n",
      "********************\n",
      "[*********************100%***********************]  1 of 1 completed\n",
      "\n",
      "1 Failed download:\n",
      "- HCA1: No timezone found, symbol may be delisted\n",
      "yahoo failed... len of df:  0\n",
      "tiingo failed... len of df:  0\n",
      "Added 764 stocks to the db\n",
      "     ticker priceCurrency ticker_currency\n",
      "1347   HCA1           USD        HCA1-USD\n",
      "********************\n",
      "[*********************100%***********************]  1 of 1 completed\n",
      "\n",
      "1 Failed download:\n",
      "- HCA2: No timezone found, symbol may be delisted\n",
      "yahoo failed... len of df:  0\n",
      "tiingo failed... len of df:  0\n",
      "Added 765 stocks to the db\n",
      "    ticker priceCurrency ticker_currency\n",
      "894   HCA2           USD        HCA2-USD\n",
      "********************\n",
      "[*********************100%***********************]  1 of 1 completed\n",
      "\n",
      "1 Failed download:\n",
      "- HCBK1: No timezone found, symbol may be delisted\n",
      "yahoo failed... len of df:  0\n",
      "tiingo failed... len of df:  0\n",
      "Added 766 stocks to the db\n",
      "   ticker priceCurrency ticker_currency\n",
      "63  HCBK1           USD       HCBK1-USD\n",
      "********************\n",
      "[*********************100%***********************]  1 of 1 completed\n",
      "\n",
      "1 Failed download:\n",
      "- HCR1: No timezone found, symbol may be delisted\n",
      "yahoo failed... len of df:  0\n",
      "tiingo failed... len of df:  0\n",
      "Added 767 stocks to the db\n",
      "     ticker priceCurrency ticker_currency\n",
      "1348   HCR1           USD        HCR1-USD\n",
      "********************\n",
      "[*********************100%***********************]  1 of 1 completed\n"
     ]
    },
    {
     "name": "stderr",
     "output_type": "stream",
     "text": [
      "C:\\Users\\david\\anaconda3\\envs\\svmmvo\\lib\\site-packages\\pandas_datareader\\tiingo.py:234: FutureWarning: In a future version of pandas all arguments of concat except for the argument 'objs' will be keyword-only.\n",
      "  return pd.concat(dfs, self._concat_axis)\n"
     ]
    },
    {
     "name": "stdout",
     "output_type": "stream",
     "text": [
      "Added 768 stocks to the db\n",
      "     ticker priceCurrency ticker_currency\n",
      "1349     HD           USD          HD-USD\n",
      "********************\n",
      "[*********************100%***********************]  1 of 1 completed\n",
      "\n",
      "1 Failed download:\n",
      "- HD1: No timezone found, symbol may be delisted\n",
      "yahoo failed... len of df:  0\n",
      "tiingo failed... len of df:  0\n",
      "Added 769 stocks to the db\n",
      "    ticker priceCurrency ticker_currency\n",
      "838    HD1           USD         HD1-USD\n",
      "********************\n",
      "[*********************100%***********************]  1 of 1 completed\n",
      "\n",
      "1 Failed download:\n",
      "- HDLM1: No timezone found, symbol may be delisted\n",
      "yahoo failed... len of df:  0\n",
      "tiingo failed... len of df:  0\n",
      "Added 770 stocks to the db\n",
      "    ticker priceCurrency ticker_currency\n",
      "258  HDLM1           USD       HDLM1-USD\n",
      "********************\n",
      "[*********************100%***********************]  1 of 1 completed\n"
     ]
    },
    {
     "name": "stderr",
     "output_type": "stream",
     "text": [
      "C:\\Users\\david\\anaconda3\\envs\\svmmvo\\lib\\site-packages\\pandas_datareader\\tiingo.py:234: FutureWarning: In a future version of pandas all arguments of concat except for the argument 'objs' will be keyword-only.\n",
      "  return pd.concat(dfs, self._concat_axis)\n"
     ]
    },
    {
     "name": "stdout",
     "output_type": "stream",
     "text": [
      "Added 771 stocks to the db\n",
      "     ticker priceCurrency ticker_currency\n",
      "1350    HES           USD         HES-USD\n",
      "********************\n",
      "[*********************100%***********************]  1 of 1 completed\n",
      "\n",
      "1 Failed download:\n",
      "- HET1: No timezone found, symbol may be delisted\n",
      "yahoo failed... len of df:  0\n",
      "tiingo failed... len of df:  0\n",
      "Added 772 stocks to the db\n",
      "    ticker priceCurrency ticker_currency\n",
      "149   HET1           USD        HET1-USD\n",
      "********************\n",
      "[*********************100%***********************]  1 of 1 completed\n",
      "\n",
      "1 Failed download:\n",
      "- HEW1: No timezone found, symbol may be delisted\n",
      "yahoo failed... len of df:  0\n",
      "tiingo failed... len of df:  0\n",
      "Added 773 stocks to the db\n",
      "    ticker priceCurrency ticker_currency\n",
      "887   HEW1           USD        HEW1-USD\n",
      "********************\n",
      "[*********************100%***********************]  1 of 1 completed\n",
      "\n",
      "1 Failed download:\n",
      "- HFS1: No timezone found, symbol may be delisted\n",
      "yahoo failed... len of df:  0\n",
      "tiingo failed... len of df:  0\n",
      "Added 774 stocks to the db\n",
      "    ticker priceCurrency ticker_currency\n",
      "342   HFS1           USD        HFS1-USD\n",
      "********************\n",
      "[*********************100%***********************]  1 of 1 completed\n",
      "\n",
      "1 Failed download:\n",
      "- HH1: No timezone found, symbol may be delisted\n",
      "yahoo failed... len of df:  0\n",
      "tiingo failed... len of df:  0\n",
      "Added 775 stocks to the db\n",
      "    ticker priceCurrency ticker_currency\n",
      "853    HH1           USD         HH1-USD\n",
      "********************\n",
      "[*********************100%***********************]  1 of 1 completed\n",
      "\n",
      "1 Failed download:\n",
      "- HI1: No timezone found, symbol may be delisted\n",
      "yahoo failed... len of df:  0\n",
      "tiingo failed... len of df:  0\n",
      "Added 776 stocks to the db\n",
      "     ticker priceCurrency ticker_currency\n",
      "1351    HI1           USD         HI1-USD\n",
      "********************\n",
      "[*********************100%***********************]  1 of 1 completed\n",
      "\n",
      "1 Failed download:\n",
      "- HIA1: No timezone found, symbol may be delisted\n",
      "yahoo failed... len of df:  0\n",
      "tiingo failed... len of df:  0\n",
      "Added 777 stocks to the db\n",
      "    ticker priceCurrency ticker_currency\n",
      "638   HIA1           USD        HIA1-USD\n",
      "********************\n",
      "[*********************100%***********************]  1 of 1 completed\n"
     ]
    },
    {
     "name": "stderr",
     "output_type": "stream",
     "text": [
      "C:\\Users\\david\\anaconda3\\envs\\svmmvo\\lib\\site-packages\\pandas_datareader\\tiingo.py:234: FutureWarning: In a future version of pandas all arguments of concat except for the argument 'objs' will be keyword-only.\n",
      "  return pd.concat(dfs, self._concat_axis)\n"
     ]
    },
    {
     "name": "stdout",
     "output_type": "stream",
     "text": [
      "Added 778 stocks to the db\n",
      "     ticker priceCurrency ticker_currency\n",
      "1352    HIG           USD         HIG-USD\n",
      "********************\n",
      "[*********************100%***********************]  1 of 1 completed\n"
     ]
    },
    {
     "name": "stderr",
     "output_type": "stream",
     "text": [
      "C:\\Users\\david\\anaconda3\\envs\\svmmvo\\lib\\site-packages\\pandas_datareader\\tiingo.py:234: FutureWarning: In a future version of pandas all arguments of concat except for the argument 'objs' will be keyword-only.\n",
      "  return pd.concat(dfs, self._concat_axis)\n"
     ]
    },
    {
     "name": "stdout",
     "output_type": "stream",
     "text": [
      "Added 779 stocks to the db\n",
      "     ticker priceCurrency ticker_currency\n",
      "1353    HII           USD         HII-USD\n",
      "********************\n",
      "[*********************100%***********************]  1 of 1 completed\n",
      "\n",
      "1 Failed download:\n",
      "- HIR1: No timezone found, symbol may be delisted\n",
      "yahoo failed... len of df:  0\n",
      "tiingo failed... len of df:  0\n",
      "Added 780 stocks to the db\n",
      "    ticker priceCurrency ticker_currency\n",
      "635   HIR1           USD        HIR1-USD\n",
      "********************\n",
      "[*********************100%***********************]  1 of 1 completed\n",
      "\n",
      "1 Failed download:\n",
      "- HJ1: No timezone found, symbol may be delisted\n",
      "yahoo failed... len of df:  0\n",
      "tiingo failed... len of df:  0\n",
      "Added 781 stocks to the db\n",
      "    ticker priceCurrency ticker_currency\n",
      "868    HJ1           USD         HJ1-USD\n",
      "********************\n",
      "[*********************100%***********************]  1 of 1 completed\n",
      "\n",
      "1 Failed download:\n",
      "- HKR1: No timezone found, symbol may be delisted\n",
      "yahoo failed... len of df:  0\n",
      "tiingo failed... len of df:  0\n",
      "Added 782 stocks to the db\n",
      "    ticker priceCurrency ticker_currency\n",
      "798   HKR1           USD        HKR1-USD\n",
      "********************\n",
      "[*********************100%***********************]  1 of 1 completed\n"
     ]
    },
    {
     "name": "stderr",
     "output_type": "stream",
     "text": [
      "C:\\Users\\david\\anaconda3\\envs\\svmmvo\\lib\\site-packages\\pandas_datareader\\tiingo.py:234: FutureWarning: In a future version of pandas all arguments of concat except for the argument 'objs' will be keyword-only.\n",
      "  return pd.concat(dfs, self._concat_axis)\n"
     ]
    },
    {
     "name": "stdout",
     "output_type": "stream",
     "text": [
      "Added 783 stocks to the db\n",
      "     ticker priceCurrency ticker_currency\n",
      "1354    HLT           USD         HLT-USD\n",
      "********************\n",
      "[*********************100%***********************]  1 of 1 completed\n",
      "\n",
      "1 Failed download:\n",
      "- HLT1: No timezone found, symbol may be delisted\n",
      "yahoo failed... len of df:  0\n",
      "tiingo failed... len of df:  0\n",
      "Added 784 stocks to the db\n",
      "     ticker priceCurrency ticker_currency\n",
      "1355   HLT1           USD        HLT1-USD\n",
      "********************\n",
      "[*********************100%***********************]  1 of 1 completed\n",
      "\n",
      "1 Failed download:\n",
      "- HLYS1: No timezone found, symbol may be delisted\n",
      "yahoo failed... len of df:  0\n",
      "tiingo failed... len of df:  0\n",
      "Added 785 stocks to the db\n",
      "    ticker priceCurrency ticker_currency\n",
      "464  HLYS1           USD       HLYS1-USD\n",
      "********************\n",
      "[*********************100%***********************]  1 of 1 completed\n",
      "\n",
      "1 Failed download:\n",
      "- HM1: No timezone found, symbol may be delisted\n",
      "yahoo failed... len of df:  0\n",
      "tiingo failed... len of df:  0\n",
      "Added 786 stocks to the db\n",
      "     ticker priceCurrency ticker_currency\n",
      "1356    HM1           USD         HM1-USD\n",
      "********************\n",
      "[*********************100%***********************]  1 of 1 completed\n",
      "\n",
      "1 Failed download:\n",
      "- HMA2: No timezone found, symbol may be delisted\n",
      "yahoo failed... len of df:  0\n",
      "tiingo failed... len of df:  0\n",
      "Added 787 stocks to the db\n",
      "    ticker priceCurrency ticker_currency\n",
      "118   HMA2           USD        HMA2-USD\n",
      "********************\n",
      "[*********************100%***********************]  1 of 1 completed\n",
      "\n",
      "1 Failed download:\n",
      "- HMO2: No timezone found, symbol may be delisted\n",
      "yahoo failed... len of df:  0\n",
      "tiingo failed... len of df:  0\n",
      "Added 788 stocks to the db\n",
      "    ticker priceCurrency ticker_currency\n",
      "921   HMO2           USD        HMO2-USD\n",
      "********************\n",
      "[*********************100%***********************]  1 of 1 completed\n",
      "\n",
      "1 Failed download:\n",
      "- HMY1: No timezone found, symbol may be delisted\n",
      "yahoo failed... len of df:  0\n",
      "tiingo failed... len of df:  0\n",
      "Added 789 stocks to the db\n",
      "    ticker priceCurrency ticker_currency\n",
      "913   HMY1           USD        HMY1-USD\n",
      "********************\n",
      "[*********************100%***********************]  1 of 1 completed\n",
      "\n",
      "1 Failed download:\n",
      "- HNG1: No timezone found, symbol may be delisted\n",
      "yahoo failed... len of df:  0\n",
      "tiingo failed... len of df:  0\n",
      "Added 790 stocks to the db\n",
      "    ticker priceCurrency ticker_currency\n",
      "773   HNG1           USD        HNG1-USD\n",
      "********************\n",
      "[*********************100%***********************]  1 of 1 completed\n",
      "\n",
      "1 Failed download:\n",
      "- HNS1: No timezone found, symbol may be delisted\n",
      "yahoo failed... len of df:  0\n",
      "tiingo failed... len of df:  0\n",
      "Added 791 stocks to the db\n",
      "    ticker priceCurrency ticker_currency\n",
      "711   HNS1           USD        HNS1-USD\n",
      "********************\n",
      "[*********************100%***********************]  1 of 1 completed\n",
      "\n",
      "1 Failed download:\n",
      "- HNZ1: No timezone found, symbol may be delisted\n",
      "yahoo failed... len of df:  0\n",
      "tiingo failed... len of df:  0\n",
      "Added 792 stocks to the db\n",
      "   ticker priceCurrency ticker_currency\n",
      "87   HNZ1           USD        HNZ1-USD\n",
      "********************\n",
      "[*********************100%***********************]  1 of 1 completed\n",
      "\n",
      "1 Failed download:\n",
      "- HOB1: No timezone found, symbol may be delisted\n",
      "yahoo failed... len of df:  0\n",
      "tiingo failed... len of df:  0\n",
      "Added 793 stocks to the db\n",
      "    ticker priceCurrency ticker_currency\n",
      "748   HOB1           USD        HOB1-USD\n",
      "********************\n",
      "[*********************100%***********************]  1 of 1 completed\n"
     ]
    },
    {
     "name": "stderr",
     "output_type": "stream",
     "text": [
      "C:\\Users\\david\\anaconda3\\envs\\svmmvo\\lib\\site-packages\\pandas_datareader\\tiingo.py:234: FutureWarning: In a future version of pandas all arguments of concat except for the argument 'objs' will be keyword-only.\n",
      "  return pd.concat(dfs, self._concat_axis)\n"
     ]
    },
    {
     "name": "stdout",
     "output_type": "stream",
     "text": [
      "Added 794 stocks to the db\n",
      "     ticker priceCurrency ticker_currency\n",
      "1357    HOG           USD         HOG-USD\n",
      "********************\n",
      "[*********************100%***********************]  1 of 1 completed\n",
      "\n",
      "1 Failed download:\n",
      "- HOI1: No timezone found, symbol may be delisted\n",
      "yahoo failed... len of df:  0\n",
      "tiingo failed... len of df:  0\n",
      "Added 795 stocks to the db\n",
      "    ticker priceCurrency ticker_currency\n",
      "881   HOI1           USD        HOI1-USD\n",
      "********************\n",
      "[*********************100%***********************]  1 of 1 completed\n"
     ]
    },
    {
     "name": "stderr",
     "output_type": "stream",
     "text": [
      "C:\\Users\\david\\anaconda3\\envs\\svmmvo\\lib\\site-packages\\pandas_datareader\\tiingo.py:234: FutureWarning: In a future version of pandas all arguments of concat except for the argument 'objs' will be keyword-only.\n",
      "  return pd.concat(dfs, self._concat_axis)\n"
     ]
    },
    {
     "name": "stdout",
     "output_type": "stream",
     "text": [
      "Added 796 stocks to the db\n",
      "     ticker priceCurrency ticker_currency\n",
      "1358   HOLX           USD        HOLX-USD\n",
      "********************\n",
      "[*********************100%***********************]  1 of 1 completed\n"
     ]
    },
    {
     "name": "stderr",
     "output_type": "stream",
     "text": [
      "C:\\Users\\david\\anaconda3\\envs\\svmmvo\\lib\\site-packages\\pandas_datareader\\tiingo.py:234: FutureWarning: In a future version of pandas all arguments of concat except for the argument 'objs' will be keyword-only.\n",
      "  return pd.concat(dfs, self._concat_axis)\n"
     ]
    },
    {
     "name": "stdout",
     "output_type": "stream",
     "text": [
      "Added 797 stocks to the db\n",
      "     ticker priceCurrency ticker_currency\n",
      "1359    HON           USD         HON-USD\n",
      "********************\n",
      "[*********************100%***********************]  1 of 1 completed\n",
      "\n",
      "1 Failed download:\n",
      "- HON1: No timezone found, symbol may be delisted\n",
      "yahoo failed... len of df:  0\n",
      "tiingo failed... len of df:  0\n",
      "Added 798 stocks to the db\n",
      "     ticker priceCurrency ticker_currency\n",
      "1360   HON1           USD        HON1-USD\n",
      "********************\n",
      "[*********************100%***********************]  1 of 1 completed\n"
     ]
    },
    {
     "name": "stderr",
     "output_type": "stream",
     "text": [
      "C:\\Users\\david\\anaconda3\\envs\\svmmvo\\lib\\site-packages\\pandas_datareader\\tiingo.py:234: FutureWarning: In a future version of pandas all arguments of concat except for the argument 'objs' will be keyword-only.\n",
      "  return pd.concat(dfs, self._concat_axis)\n"
     ]
    },
    {
     "name": "stdout",
     "output_type": "stream",
     "text": [
      "Added 799 stocks to the db\n",
      "     ticker priceCurrency ticker_currency\n",
      "1361     HP           USD          HP-USD\n",
      "********************\n",
      "[*********************100%***********************]  1 of 1 completed\n",
      "\n",
      "1 Failed download:\n",
      "- HPC1: No timezone found, symbol may be delisted\n",
      "yahoo failed... len of df:  0\n",
      "tiingo failed... len of df:  0\n",
      "Added 800 stocks to the db\n",
      "    ticker priceCurrency ticker_currency\n",
      "101   HPC1           USD        HPC1-USD\n",
      "********************\n",
      "[*********************100%***********************]  1 of 1 completed\n"
     ]
    },
    {
     "name": "stderr",
     "output_type": "stream",
     "text": [
      "C:\\Users\\david\\anaconda3\\envs\\svmmvo\\lib\\site-packages\\pandas_datareader\\tiingo.py:234: FutureWarning: In a future version of pandas all arguments of concat except for the argument 'objs' will be keyword-only.\n",
      "  return pd.concat(dfs, self._concat_axis)\n"
     ]
    },
    {
     "name": "stdout",
     "output_type": "stream",
     "text": [
      "Added 801 stocks to the db\n",
      "     ticker priceCurrency ticker_currency\n",
      "1362    HPE           USD         HPE-USD\n",
      "********************\n",
      "[*********************100%***********************]  1 of 1 completed\n",
      "\n",
      "1 Failed download:\n",
      "- HPG1: No timezone found, symbol may be delisted\n",
      "yahoo failed... len of df:  0\n",
      "tiingo failed... len of df:  0\n",
      "Added 802 stocks to the db\n",
      "    ticker priceCurrency ticker_currency\n",
      "920   HPG1           USD        HPG1-USD\n",
      "********************\n",
      "[*********************100%***********************]  1 of 1 completed\n"
     ]
    },
    {
     "name": "stderr",
     "output_type": "stream",
     "text": [
      "C:\\Users\\david\\anaconda3\\envs\\svmmvo\\lib\\site-packages\\pandas_datareader\\tiingo.py:234: FutureWarning: In a future version of pandas all arguments of concat except for the argument 'objs' will be keyword-only.\n",
      "  return pd.concat(dfs, self._concat_axis)\n"
     ]
    },
    {
     "name": "stdout",
     "output_type": "stream",
     "text": [
      "Added 803 stocks to the db\n",
      "     ticker priceCurrency ticker_currency\n",
      "1363    HPQ           USD         HPQ-USD\n",
      "********************\n",
      "[*********************100%***********************]  1 of 1 completed\n"
     ]
    },
    {
     "name": "stderr",
     "output_type": "stream",
     "text": [
      "C:\\Users\\david\\anaconda3\\envs\\svmmvo\\lib\\site-packages\\pandas_datareader\\tiingo.py:234: FutureWarning: In a future version of pandas all arguments of concat except for the argument 'objs' will be keyword-only.\n",
      "  return pd.concat(dfs, self._concat_axis)\n"
     ]
    },
    {
     "name": "stdout",
     "output_type": "stream",
     "text": [
      "Added 804 stocks to the db\n",
      "     ticker priceCurrency ticker_currency\n",
      "1364    HRB           USD         HRB-USD\n",
      "********************\n",
      "[*********************100%***********************]  1 of 1 completed\n"
     ]
    },
    {
     "name": "stderr",
     "output_type": "stream",
     "text": [
      "C:\\Users\\david\\anaconda3\\envs\\svmmvo\\lib\\site-packages\\pandas_datareader\\tiingo.py:234: FutureWarning: In a future version of pandas all arguments of concat except for the argument 'objs' will be keyword-only.\n",
      "  return pd.concat(dfs, self._concat_axis)\n"
     ]
    },
    {
     "name": "stdout",
     "output_type": "stream",
     "text": [
      "Added 805 stocks to the db\n",
      "     ticker priceCurrency ticker_currency\n",
      "1365    HRL           USD         HRL-USD\n",
      "********************\n",
      "[*********************100%***********************]  1 of 1 completed\n",
      "\n",
      "1 Failed download:\n",
      "- HRW1: No timezone found, symbol may be delisted\n",
      "yahoo failed... len of df:  0\n",
      "tiingo failed... len of df:  0\n",
      "Added 806 stocks to the db\n",
      "    ticker priceCurrency ticker_currency\n",
      "947   HRW1           USD        HRW1-USD\n",
      "********************\n",
      "[*********************100%***********************]  1 of 1 completed\n",
      "\n",
      "1 Failed download:\n",
      "- HRZ2: No timezone found, symbol may be delisted\n",
      "yahoo failed... len of df:  0\n",
      "tiingo failed... len of df:  0\n",
      "Added 807 stocks to the db\n",
      "    ticker priceCurrency ticker_currency\n",
      "765   HRZ2           USD        HRZ2-USD\n",
      "********************\n",
      "[*********************100%***********************]  1 of 1 completed\n",
      "\n",
      "1 Failed download:\n",
      "- HRZIQ1: No timezone found, symbol may be delisted\n",
      "yahoo failed... len of df:  0\n",
      "tiingo failed... len of df:  0\n",
      "Added 808 stocks to the db\n",
      "     ticker priceCurrency ticker_currency\n",
      "316  HRZIQ1           USD      HRZIQ1-USD\n",
      "********************\n",
      "[*********************100%***********************]  1 of 1 completed\n",
      "\n",
      "1 Failed download:\n",
      "- HSH2: No timezone found, symbol may be delisted\n",
      "yahoo failed... len of df:  0\n",
      "tiingo failed... len of df:  0\n",
      "Added 809 stocks to the db\n",
      "   ticker priceCurrency ticker_currency\n",
      "71   HSH2           USD        HSH2-USD\n",
      "********************\n",
      "[*********************100%***********************]  1 of 1 completed\n"
     ]
    },
    {
     "name": "stderr",
     "output_type": "stream",
     "text": [
      "C:\\Users\\david\\anaconda3\\envs\\svmmvo\\lib\\site-packages\\pandas_datareader\\tiingo.py:234: FutureWarning: In a future version of pandas all arguments of concat except for the argument 'objs' will be keyword-only.\n",
      "  return pd.concat(dfs, self._concat_axis)\n"
     ]
    },
    {
     "name": "stdout",
     "output_type": "stream",
     "text": [
      "Added 810 stocks to the db\n",
      "     ticker priceCurrency ticker_currency\n",
      "1366   HSIC           USD        HSIC-USD\n",
      "********************\n",
      "[*********************100%***********************]  1 of 1 completed\n",
      "\n",
      "1 Failed download:\n",
      "- HSP3: No timezone found, symbol may be delisted\n",
      "yahoo failed... len of df:  0\n",
      "tiingo failed... len of df:  0\n",
      "Added 811 stocks to the db\n",
      "   ticker priceCurrency ticker_currency\n",
      "68   HSP3           USD        HSP3-USD\n",
      "********************\n",
      "[*********************100%***********************]  1 of 1 completed\n"
     ]
    },
    {
     "name": "stderr",
     "output_type": "stream",
     "text": [
      "C:\\Users\\david\\anaconda3\\envs\\svmmvo\\lib\\site-packages\\pandas_datareader\\tiingo.py:234: FutureWarning: In a future version of pandas all arguments of concat except for the argument 'objs' will be keyword-only.\n",
      "  return pd.concat(dfs, self._concat_axis)\n"
     ]
    },
    {
     "name": "stdout",
     "output_type": "stream",
     "text": [
      "Added 812 stocks to the db\n",
      "     ticker priceCurrency ticker_currency\n",
      "1367    HST           USD         HST-USD\n",
      "********************\n",
      "[*********************100%***********************]  1 of 1 completed\n"
     ]
    },
    {
     "name": "stderr",
     "output_type": "stream",
     "text": [
      "C:\\Users\\david\\anaconda3\\envs\\svmmvo\\lib\\site-packages\\pandas_datareader\\tiingo.py:234: FutureWarning: In a future version of pandas all arguments of concat except for the argument 'objs' will be keyword-only.\n",
      "  return pd.concat(dfs, self._concat_axis)\n"
     ]
    },
    {
     "name": "stdout",
     "output_type": "stream",
     "text": [
      "Added 813 stocks to the db\n",
      "     ticker priceCurrency ticker_currency\n",
      "1368    HSY           USD         HSY-USD\n",
      "********************\n",
      "[*********************100%***********************]  1 of 1 completed\n",
      "\n",
      "1 Failed download:\n",
      "- HT1: No timezone found, symbol may be delisted\n",
      "yahoo failed... len of df:  0\n",
      "tiingo failed... len of df:  0\n",
      "Added 814 stocks to the db\n",
      "     ticker priceCurrency ticker_currency\n",
      "1369    HT1           USD         HT1-USD\n",
      "********************\n",
      "[*********************100%***********************]  1 of 1 completed\n",
      "\n",
      "1 Failed download:\n",
      "- HTMXQ1: No timezone found, symbol may be delisted\n",
      "yahoo failed... len of df:  0\n",
      "tiingo failed... len of df:  0\n",
      "Added 815 stocks to the db\n",
      "     ticker priceCurrency ticker_currency\n",
      "361  HTMXQ1           USD      HTMXQ1-USD\n",
      "********************\n",
      "[*********************100%***********************]  1 of 1 completed\n"
     ]
    },
    {
     "name": "stderr",
     "output_type": "stream",
     "text": [
      "C:\\Users\\david\\anaconda3\\envs\\svmmvo\\lib\\site-packages\\pandas_datareader\\tiingo.py:234: FutureWarning: In a future version of pandas all arguments of concat except for the argument 'objs' will be keyword-only.\n",
      "  return pd.concat(dfs, self._concat_axis)\n"
     ]
    },
    {
     "name": "stdout",
     "output_type": "stream",
     "text": [
      "Added 816 stocks to the db\n",
      "     ticker priceCurrency ticker_currency\n",
      "1370    HUM           USD         HUM-USD\n",
      "********************\n",
      "[*********************100%***********************]  1 of 1 completed\n",
      "\n",
      "1 Failed download:\n",
      "- HW1: No timezone found, symbol may be delisted\n",
      "yahoo failed... len of df:  0\n",
      "tiingo failed... len of df:  0\n",
      "Added 817 stocks to the db\n",
      "    ticker priceCurrency ticker_currency\n",
      "632    HW1           USD         HW1-USD\n",
      "********************\n",
      "[*********************100%***********************]  1 of 1 completed\n",
      "\n",
      "1 Failed download:\n",
      "- HWC1: No timezone found, symbol may be delisted\n",
      "yahoo failed... len of df:  0\n",
      "tiingo failed... len of df:  0\n",
      "Added 818 stocks to the db\n",
      "    ticker priceCurrency ticker_currency\n",
      "953   HWC1           USD        HWC1-USD\n",
      "********************\n",
      "[*********************100%***********************]  1 of 1 completed\n"
     ]
    },
    {
     "name": "stderr",
     "output_type": "stream",
     "text": [
      "C:\\Users\\david\\anaconda3\\envs\\svmmvo\\lib\\site-packages\\pandas_datareader\\tiingo.py:234: FutureWarning: In a future version of pandas all arguments of concat except for the argument 'objs' will be keyword-only.\n",
      "  return pd.concat(dfs, self._concat_axis)\n"
     ]
    },
    {
     "name": "stdout",
     "output_type": "stream",
     "text": [
      "Added 819 stocks to the db\n",
      "     ticker priceCurrency ticker_currency\n",
      "1371    HWM           USD         HWM-USD\n",
      "********************\n",
      "[*********************100%***********************]  1 of 1 completed\n",
      "\n",
      "1 Failed download:\n",
      "- HWR1: No timezone found, symbol may be delisted\n",
      "yahoo failed... len of df:  0\n",
      "tiingo failed... len of df:  0\n",
      "Added 820 stocks to the db\n",
      "    ticker priceCurrency ticker_currency\n",
      "986   HWR1           USD        HWR1-USD\n",
      "********************\n",
      "[*********************100%***********************]  1 of 1 completed\n",
      "\n",
      "1 Failed download:\n",
      "- HYST1: No timezone found, symbol may be delisted\n",
      "yahoo failed... len of df:  0\n",
      "tiingo failed... len of df:  0\n",
      "Added 821 stocks to the db\n",
      "    ticker priceCurrency ticker_currency\n",
      "934  HYST1           USD       HYST1-USD\n",
      "********************\n",
      "[*********************100%***********************]  1 of 1 completed\n",
      "\n",
      "1 Failed download:\n",
      "- I1: No timezone found, symbol may be delisted\n",
      "yahoo failed... len of df:  0\n",
      "tiingo failed... len of df:  0\n",
      "Added 822 stocks to the db\n",
      "    ticker priceCurrency ticker_currency\n",
      "301     I1           USD          I1-USD\n",
      "********************\n",
      "[*********************100%***********************]  1 of 1 completed\n"
     ]
    },
    {
     "name": "stderr",
     "output_type": "stream",
     "text": [
      "C:\\Users\\david\\anaconda3\\envs\\svmmvo\\lib\\site-packages\\pandas_datareader\\tiingo.py:234: FutureWarning: In a future version of pandas all arguments of concat except for the argument 'objs' will be keyword-only.\n",
      "  return pd.concat(dfs, self._concat_axis)\n"
     ]
    },
    {
     "name": "stdout",
     "output_type": "stream",
     "text": [
      "Added 823 stocks to the db\n",
      "     ticker priceCurrency ticker_currency\n",
      "1372    IBM           USD         IBM-USD\n",
      "********************\n",
      "[*********************100%***********************]  1 of 1 completed\n",
      "\n",
      "1 Failed download:\n",
      "- IBP2: No timezone found, symbol may be delisted\n",
      "yahoo failed... len of df:  0\n",
      "tiingo failed... len of df:  0\n",
      "Added 824 stocks to the db\n",
      "    ticker priceCurrency ticker_currency\n",
      "914   IBP2           USD        IBP2-USD\n",
      "********************\n",
      "[*********************100%***********************]  1 of 1 completed\n",
      "\n",
      "1 Failed download:\n",
      "- IC4: No timezone found, symbol may be delisted\n",
      "yahoo failed... len of df:  0\n",
      "tiingo failed... len of df:  0\n",
      "Added 825 stocks to the db\n",
      "    ticker priceCurrency ticker_currency\n",
      "710    IC4           USD         IC4-USD\n",
      "********************\n",
      "[*********************100%***********************]  1 of 1 completed\n",
      "\n",
      "1 Failed download:\n",
      "- ICA1: No timezone found, symbol may be delisted\n",
      "yahoo failed... len of df:  0\n",
      "tiingo failed... len of df:  0\n",
      "Added 826 stocks to the db\n",
      "    ticker priceCurrency ticker_currency\n",
      "794   ICA1           USD        ICA1-USD\n",
      "********************\n",
      "[*********************100%***********************]  1 of 1 completed\n"
     ]
    },
    {
     "name": "stderr",
     "output_type": "stream",
     "text": [
      "C:\\Users\\david\\anaconda3\\envs\\svmmvo\\lib\\site-packages\\pandas_datareader\\tiingo.py:234: FutureWarning: In a future version of pandas all arguments of concat except for the argument 'objs' will be keyword-only.\n",
      "  return pd.concat(dfs, self._concat_axis)\n"
     ]
    },
    {
     "name": "stdout",
     "output_type": "stream",
     "text": [
      "Added 827 stocks to the db\n",
      "     ticker priceCurrency ticker_currency\n",
      "1373    ICE           USD         ICE-USD\n",
      "********************\n",
      "[*********************100%***********************]  1 of 1 completed\n",
      "\n",
      "1 Failed download:\n",
      "- ICR1: No timezone found, symbol may be delisted\n",
      "yahoo failed... len of df:  0\n",
      "tiingo failed... len of df:  0\n",
      "Added 828 stocks to the db\n",
      "    ticker priceCurrency ticker_currency\n",
      "720   ICR1           USD        ICR1-USD\n",
      "********************\n",
      "[*********************100%***********************]  1 of 1 completed\n",
      "\n",
      "1 Failed download:\n",
      "- ID1: No timezone found, symbol may be delisted\n",
      "yahoo failed... len of df:  0\n",
      "tiingo failed... len of df:  0\n",
      "Added 829 stocks to the db\n",
      "    ticker priceCurrency ticker_currency\n",
      "954    ID1           USD         ID1-USD\n",
      "********************\n",
      "[*********************100%***********************]  1 of 1 completed\n"
     ]
    },
    {
     "name": "stderr",
     "output_type": "stream",
     "text": [
      "C:\\Users\\david\\anaconda3\\envs\\svmmvo\\lib\\site-packages\\pandas_datareader\\tiingo.py:234: FutureWarning: In a future version of pandas all arguments of concat except for the argument 'objs' will be keyword-only.\n",
      "  return pd.concat(dfs, self._concat_axis)\n"
     ]
    },
    {
     "name": "stdout",
     "output_type": "stream",
     "text": [
      "Added 830 stocks to the db\n",
      "     ticker priceCurrency ticker_currency\n",
      "1374    IDA           USD         IDA-USD\n",
      "********************\n",
      "[*********************100%***********************]  1 of 1 completed\n",
      "\n",
      "1 Failed download:\n",
      "- IDL1: No timezone found, symbol may be delisted\n",
      "yahoo failed... len of df:  0\n",
      "tiingo failed... len of df:  0\n",
      "Added 831 stocks to the db\n",
      "    ticker priceCurrency ticker_currency\n",
      "688   IDL1           USD        IDL1-USD\n",
      "********************\n",
      "[*********************100%***********************]  1 of 1 completed\n"
     ]
    },
    {
     "name": "stderr",
     "output_type": "stream",
     "text": [
      "C:\\Users\\david\\anaconda3\\envs\\svmmvo\\lib\\site-packages\\pandas_datareader\\tiingo.py:234: FutureWarning: In a future version of pandas all arguments of concat except for the argument 'objs' will be keyword-only.\n",
      "  return pd.concat(dfs, self._concat_axis)\n"
     ]
    },
    {
     "name": "stdout",
     "output_type": "stream",
     "text": [
      "Added 832 stocks to the db\n",
      "     ticker priceCurrency ticker_currency\n",
      "1375   IDXX           USD        IDXX-USD\n",
      "********************\n",
      "[*********************100%***********************]  1 of 1 completed\n"
     ]
    },
    {
     "name": "stderr",
     "output_type": "stream",
     "text": [
      "C:\\Users\\david\\anaconda3\\envs\\svmmvo\\lib\\site-packages\\pandas_datareader\\tiingo.py:234: FutureWarning: In a future version of pandas all arguments of concat except for the argument 'objs' will be keyword-only.\n",
      "  return pd.concat(dfs, self._concat_axis)\n"
     ]
    },
    {
     "name": "stdout",
     "output_type": "stream",
     "text": [
      "Added 833 stocks to the db\n",
      "     ticker priceCurrency ticker_currency\n",
      "1376    IEX           USD         IEX-USD\n",
      "********************\n",
      "[*********************100%***********************]  1 of 1 completed\n",
      "\n",
      "1 Failed download:\n",
      "- IFC2: No timezone found, symbol may be delisted\n",
      "yahoo failed... len of df:  0\n",
      "tiingo failed... len of df:  0\n",
      "Added 834 stocks to the db\n",
      "    ticker priceCurrency ticker_currency\n",
      "845   IFC2           USD        IFC2-USD\n",
      "********************\n",
      "[*********************100%***********************]  1 of 1 completed\n"
     ]
    },
    {
     "name": "stderr",
     "output_type": "stream",
     "text": [
      "C:\\Users\\david\\anaconda3\\envs\\svmmvo\\lib\\site-packages\\pandas_datareader\\tiingo.py:234: FutureWarning: In a future version of pandas all arguments of concat except for the argument 'objs' will be keyword-only.\n",
      "  return pd.concat(dfs, self._concat_axis)\n"
     ]
    },
    {
     "name": "stdout",
     "output_type": "stream",
     "text": [
      "Added 835 stocks to the db\n",
      "     ticker priceCurrency ticker_currency\n",
      "1377    IFF           USD         IFF-USD\n",
      "********************\n",
      "[*********************100%***********************]  1 of 1 completed\n",
      "\n",
      "1 Failed download:\n",
      "- IK1: No timezone found, symbol may be delisted\n",
      "yahoo failed... len of df:  0\n",
      "tiingo failed... len of df:  0\n",
      "Added 836 stocks to the db\n",
      "    ticker priceCurrency ticker_currency\n",
      "546    IK1           USD         IK1-USD\n",
      "********************\n",
      "[*********************100%***********************]  1 of 1 completed\n",
      "\n",
      "1 Failed download:\n",
      "- IKN2: No timezone found, symbol may be delisted\n",
      "yahoo failed... len of df:  0\n",
      "tiingo failed... len of df:  0\n",
      "Added 837 stocks to the db\n",
      "    ticker priceCurrency ticker_currency\n",
      "135   IKN2           USD        IKN2-USD\n",
      "********************\n",
      "[*********************100%***********************]  1 of 1 completed\n",
      "\n",
      "1 Failed download:\n",
      "- IL1: No timezone found, symbol may be delisted\n",
      "yahoo failed... len of df:  0\n",
      "tiingo failed... len of df:  0\n",
      "Added 838 stocks to the db\n",
      "    ticker priceCurrency ticker_currency\n",
      "379    IL1           USD         IL1-USD\n",
      "********************\n",
      "[*********************100%***********************]  1 of 1 completed\n"
     ]
    },
    {
     "name": "stderr",
     "output_type": "stream",
     "text": [
      "C:\\Users\\david\\anaconda3\\envs\\svmmvo\\lib\\site-packages\\pandas_datareader\\tiingo.py:234: FutureWarning: In a future version of pandas all arguments of concat except for the argument 'objs' will be keyword-only.\n",
      "  return pd.concat(dfs, self._concat_axis)\n"
     ]
    },
    {
     "name": "stdout",
     "output_type": "stream",
     "text": [
      "Added 839 stocks to the db\n",
      "     ticker priceCurrency ticker_currency\n",
      "1378   ILMN           USD        ILMN-USD\n",
      "********************\n",
      "[*********************100%***********************]  1 of 1 completed\n",
      "\n",
      "1 Failed download:\n",
      "- ILN1: No timezone found, symbol may be delisted\n",
      "yahoo failed... len of df:  0\n",
      "tiingo failed... len of df:  0\n",
      "Added 840 stocks to the db\n",
      "    ticker priceCurrency ticker_currency\n",
      "435   ILN1           USD        ILN1-USD\n",
      "********************\n",
      "[*********************100%***********************]  1 of 1 completed\n",
      "\n",
      "1 Failed download:\n",
      "- ILR1: No timezone found, symbol may be delisted\n",
      "yahoo failed... len of df:  0\n",
      "tiingo failed... len of df:  0\n",
      "Added 841 stocks to the db\n",
      "    ticker priceCurrency ticker_currency\n",
      "821   ILR1           USD        ILR1-USD\n",
      "********************\n",
      "[*********************100%***********************]  1 of 1 completed\n",
      "\n",
      "1 Failed download:\n",
      "- IMNX1: No timezone found, symbol may be delisted\n",
      "yahoo failed... len of df:  0\n",
      "tiingo failed... len of df:  0\n",
      "Added 842 stocks to the db\n",
      "    ticker priceCurrency ticker_currency\n",
      "233  IMNX1           USD       IMNX1-USD\n",
      "********************\n",
      "[*********************100%***********************]  1 of 1 completed\n",
      "\n",
      "1 Failed download:\n",
      "- IMSI1: No timezone found, symbol may be delisted\n",
      "yahoo failed... len of df:  0\n",
      "tiingo failed... len of df:  0\n",
      "Added 843 stocks to the db\n",
      "    ticker priceCurrency ticker_currency\n",
      "795  IMSI1           USD       IMSI1-USD\n",
      "********************\n",
      "[*********************100%***********************]  1 of 1 completed\n",
      "\n",
      "1 Failed download:\n",
      "- IN3: No timezone found, symbol may be delisted\n",
      "yahoo failed... len of df:  0\n",
      "tiingo failed... len of df:  0\n",
      "Added 844 stocks to the db\n",
      "    ticker priceCurrency ticker_currency\n",
      "932    IN3           USD         IN3-USD\n",
      "********************\n",
      "[*********************100%***********************]  1 of 1 completed\n",
      "\n",
      "1 Failed download:\n",
      "- INA1: No timezone found, symbol may be delisted\n",
      "yahoo failed... len of df:  0\n",
      "tiingo failed... len of df:  0\n",
      "Added 845 stocks to the db\n",
      "    ticker priceCurrency ticker_currency\n",
      "410   INA1           USD        INA1-USD\n",
      "********************\n",
      "[*********************100%***********************]  1 of 1 completed\n",
      "\n",
      "1 Failed download:\n",
      "- INCLF1: No timezone found, symbol may be delisted\n",
      "yahoo failed... len of df:  0\n",
      "tiingo failed... len of df:  0\n",
      "Added 846 stocks to the db\n",
      "     ticker priceCurrency ticker_currency\n",
      "148  INCLF1           USD      INCLF1-USD\n",
      "********************\n",
      "[*********************100%***********************]  1 of 1 completed\n"
     ]
    },
    {
     "name": "stderr",
     "output_type": "stream",
     "text": [
      "C:\\Users\\david\\anaconda3\\envs\\svmmvo\\lib\\site-packages\\pandas_datareader\\tiingo.py:234: FutureWarning: In a future version of pandas all arguments of concat except for the argument 'objs' will be keyword-only.\n",
      "  return pd.concat(dfs, self._concat_axis)\n"
     ]
    },
    {
     "name": "stdout",
     "output_type": "stream",
     "text": [
      "Added 847 stocks to the db\n",
      "     ticker priceCurrency ticker_currency\n",
      "1379   INCY           USD        INCY-USD\n",
      "********************\n",
      "[*********************100%***********************]  1 of 1 completed\n",
      "\n",
      "1 Failed download:\n",
      "- INFO6: No timezone found, symbol may be delisted\n",
      "yahoo failed... len of df:  0\n",
      "tiingo failed... len of df:  0\n",
      "Added 848 stocks to the db\n",
      "    ticker priceCurrency ticker_currency\n",
      "992  INFO6           USD       INFO6-USD\n",
      "********************\n",
      "[*********************100%***********************]  1 of 1 completed\n",
      "\n",
      "1 Failed download:\n",
      "- INGR1: No timezone found, symbol may be delisted\n",
      "yahoo failed... len of df:  0\n",
      "tiingo failed... len of df:  0\n",
      "Added 849 stocks to the db\n",
      "     ticker priceCurrency ticker_currency\n",
      "1380  INGR1           USD       INGR1-USD\n",
      "********************\n",
      "[*********************100%***********************]  1 of 1 completed\n"
     ]
    },
    {
     "name": "stderr",
     "output_type": "stream",
     "text": [
      "C:\\Users\\david\\anaconda3\\envs\\svmmvo\\lib\\site-packages\\pandas_datareader\\tiingo.py:234: FutureWarning: In a future version of pandas all arguments of concat except for the argument 'objs' will be keyword-only.\n",
      "  return pd.concat(dfs, self._concat_axis)\n"
     ]
    },
    {
     "name": "stdout",
     "output_type": "stream",
     "text": [
      "Added 850 stocks to the db\n",
      "     ticker priceCurrency ticker_currency\n",
      "1381   INTC           USD        INTC-USD\n",
      "********************\n",
      "[*********************100%***********************]  1 of 1 completed\n"
     ]
    },
    {
     "name": "stderr",
     "output_type": "stream",
     "text": [
      "C:\\Users\\david\\anaconda3\\envs\\svmmvo\\lib\\site-packages\\pandas_datareader\\tiingo.py:234: FutureWarning: In a future version of pandas all arguments of concat except for the argument 'objs' will be keyword-only.\n",
      "  return pd.concat(dfs, self._concat_axis)\n"
     ]
    },
    {
     "name": "stdout",
     "output_type": "stream",
     "text": [
      "Added 851 stocks to the db\n",
      "     ticker priceCurrency ticker_currency\n",
      "1382   INTU           USD        INTU-USD\n",
      "********************\n",
      "[*********************100%***********************]  1 of 1 completed\n"
     ]
    },
    {
     "name": "stderr",
     "output_type": "stream",
     "text": [
      "C:\\Users\\david\\anaconda3\\envs\\svmmvo\\lib\\site-packages\\pandas_datareader\\tiingo.py:234: FutureWarning: In a future version of pandas all arguments of concat except for the argument 'objs' will be keyword-only.\n",
      "  return pd.concat(dfs, self._concat_axis)\n"
     ]
    },
    {
     "name": "stdout",
     "output_type": "stream",
     "text": [
      "Added 852 stocks to the db\n",
      "     ticker priceCurrency ticker_currency\n",
      "1383   INVH           USD        INVH-USD\n",
      "********************\n",
      "[*********************100%***********************]  1 of 1 completed\n"
     ]
    },
    {
     "name": "stderr",
     "output_type": "stream",
     "text": [
      "C:\\Users\\david\\anaconda3\\envs\\svmmvo\\lib\\site-packages\\pandas_datareader\\tiingo.py:234: FutureWarning: In a future version of pandas all arguments of concat except for the argument 'objs' will be keyword-only.\n",
      "  return pd.concat(dfs, self._concat_axis)\n"
     ]
    },
    {
     "name": "stdout",
     "output_type": "stream",
     "text": [
      "Added 853 stocks to the db\n",
      "     ticker priceCurrency ticker_currency\n",
      "1384     IP           USD          IP-USD\n",
      "********************\n",
      "[*********************100%***********************]  1 of 1 completed\n"
     ]
    },
    {
     "name": "stderr",
     "output_type": "stream",
     "text": [
      "C:\\Users\\david\\anaconda3\\envs\\svmmvo\\lib\\site-packages\\pandas_datareader\\tiingo.py:234: FutureWarning: In a future version of pandas all arguments of concat except for the argument 'objs' will be keyword-only.\n",
      "  return pd.concat(dfs, self._concat_axis)\n"
     ]
    },
    {
     "name": "stdout",
     "output_type": "stream",
     "text": [
      "Added 854 stocks to the db\n",
      "     ticker priceCurrency ticker_currency\n",
      "1385    IPG           USD         IPG-USD\n",
      "********************\n",
      "[*********************100%***********************]  1 of 1 completed\n"
     ]
    },
    {
     "name": "stderr",
     "output_type": "stream",
     "text": [
      "C:\\Users\\david\\anaconda3\\envs\\svmmvo\\lib\\site-packages\\pandas_datareader\\tiingo.py:234: FutureWarning: In a future version of pandas all arguments of concat except for the argument 'objs' will be keyword-only.\n",
      "  return pd.concat(dfs, self._concat_axis)\n"
     ]
    },
    {
     "name": "stdout",
     "output_type": "stream",
     "text": [
      "Added 855 stocks to the db\n",
      "     ticker priceCurrency ticker_currency\n",
      "1386   IPGP           USD        IPGP-USD\n",
      "********************\n",
      "[*********************100%***********************]  1 of 1 completed\n",
      "\n",
      "1 Failed download:\n",
      "- IPL1: No timezone found, symbol may be delisted\n",
      "yahoo failed... len of df:  0\n",
      "tiingo failed... len of df:  0\n",
      "Added 856 stocks to the db\n",
      "     ticker priceCurrency ticker_currency\n",
      "1387   IPL1           USD        IPL1-USD\n",
      "********************\n",
      "[*********************100%***********************]  1 of 1 completed\n",
      "\n",
      "1 Failed download:\n",
      "- IQ2: No timezone found, symbol may be delisted\n",
      "yahoo failed... len of df:  0\n",
      "tiingo failed... len of df:  0\n",
      "Added 857 stocks to the db\n",
      "    ticker priceCurrency ticker_currency\n",
      "630    IQ2           USD         IQ2-USD\n",
      "********************\n",
      "[*********************100%***********************]  1 of 1 completed\n"
     ]
    },
    {
     "name": "stderr",
     "output_type": "stream",
     "text": [
      "C:\\Users\\david\\anaconda3\\envs\\svmmvo\\lib\\site-packages\\pandas_datareader\\tiingo.py:234: FutureWarning: In a future version of pandas all arguments of concat except for the argument 'objs' will be keyword-only.\n",
      "  return pd.concat(dfs, self._concat_axis)\n"
     ]
    },
    {
     "name": "stdout",
     "output_type": "stream",
     "text": [
      "Added 858 stocks to the db\n",
      "     ticker priceCurrency ticker_currency\n",
      "1388    IQV           USD         IQV-USD\n",
      "********************\n",
      "[*********************100%***********************]  1 of 1 completed\n"
     ]
    },
    {
     "name": "stderr",
     "output_type": "stream",
     "text": [
      "C:\\Users\\david\\anaconda3\\envs\\svmmvo\\lib\\site-packages\\pandas_datareader\\tiingo.py:234: FutureWarning: In a future version of pandas all arguments of concat except for the argument 'objs' will be keyword-only.\n",
      "  return pd.concat(dfs, self._concat_axis)\n"
     ]
    },
    {
     "name": "stdout",
     "output_type": "stream",
     "text": [
      "Added 859 stocks to the db\n",
      "     ticker priceCurrency ticker_currency\n",
      "1389     IR           USD          IR-USD\n",
      "********************\n",
      "[*********************100%***********************]  1 of 1 completed\n"
     ]
    },
    {
     "name": "stderr",
     "output_type": "stream",
     "text": [
      "C:\\Users\\david\\anaconda3\\envs\\svmmvo\\lib\\site-packages\\pandas_datareader\\tiingo.py:234: FutureWarning: In a future version of pandas all arguments of concat except for the argument 'objs' will be keyword-only.\n",
      "  return pd.concat(dfs, self._concat_axis)\n"
     ]
    },
    {
     "name": "stdout",
     "output_type": "stream",
     "text": [
      "Added 860 stocks to the db\n",
      "     ticker priceCurrency ticker_currency\n",
      "1390    IRM           USD         IRM-USD\n",
      "********************\n",
      "[*********************100%***********************]  1 of 1 completed\n",
      "\n",
      "1 Failed download:\n",
      "- IRT2: No timezone found, symbol may be delisted\n",
      "yahoo failed... len of df:  0\n",
      "tiingo failed... len of df:  0\n",
      "Added 861 stocks to the db\n",
      "    ticker priceCurrency ticker_currency\n",
      "940   IRT2           USD        IRT2-USD\n",
      "********************\n",
      "[*********************100%***********************]  1 of 1 completed\n",
      "\n",
      "1 Failed download:\n",
      "- IRY2: No timezone found, symbol may be delisted\n",
      "yahoo failed... len of df:  0\n",
      "tiingo failed... len of df:  0\n",
      "Added 862 stocks to the db\n",
      "    ticker priceCurrency ticker_currency\n",
      "968   IRY2           USD        IRY2-USD\n",
      "********************\n",
      "[*********************100%***********************]  1 of 1 completed\n"
     ]
    },
    {
     "name": "stderr",
     "output_type": "stream",
     "text": [
      "C:\\Users\\david\\anaconda3\\envs\\svmmvo\\lib\\site-packages\\pandas_datareader\\tiingo.py:234: FutureWarning: In a future version of pandas all arguments of concat except for the argument 'objs' will be keyword-only.\n",
      "  return pd.concat(dfs, self._concat_axis)\n"
     ]
    },
    {
     "name": "stdout",
     "output_type": "stream",
     "text": [
      "Added 863 stocks to the db\n",
      "     ticker priceCurrency ticker_currency\n",
      "1391   ISRG           USD        ISRG-USD\n",
      "********************\n",
      "[*********************100%***********************]  1 of 1 completed\n",
      "\n",
      "1 Failed download:\n",
      "- ISS2: No timezone found, symbol may be delisted\n",
      "yahoo failed... len of df:  0\n",
      "tiingo failed... len of df:  0\n",
      "Added 864 stocks to the db\n",
      "    ticker priceCurrency ticker_currency\n",
      "456   ISS2           USD        ISS2-USD\n",
      "********************\n",
      "[*********************100%***********************]  1 of 1 completed\n"
     ]
    },
    {
     "name": "stderr",
     "output_type": "stream",
     "text": [
      "C:\\Users\\david\\anaconda3\\envs\\svmmvo\\lib\\site-packages\\pandas_datareader\\tiingo.py:234: FutureWarning: In a future version of pandas all arguments of concat except for the argument 'objs' will be keyword-only.\n",
      "  return pd.concat(dfs, self._concat_axis)\n"
     ]
    },
    {
     "name": "stdout",
     "output_type": "stream",
     "text": [
      "Added 865 stocks to the db\n",
      "     ticker priceCurrency ticker_currency\n",
      "1392     IT           USD          IT-USD\n",
      "********************\n",
      "[*********************100%***********************]  1 of 1 completed\n",
      "\n",
      "1 Failed download:\n",
      "- ITC1: No timezone found, symbol may be delisted\n",
      "yahoo failed... len of df:  0\n",
      "tiingo failed... len of df:  0\n",
      "Added 866 stocks to the db\n",
      "     ticker priceCurrency ticker_currency\n",
      "1393   ITC1           USD        ITC1-USD\n",
      "********************\n",
      "[*********************100%***********************]  1 of 1 completed\n",
      "\n",
      "1 Failed download:\n",
      "- ITE1: No timezone found, symbol may be delisted\n",
      "yahoo failed... len of df:  0\n",
      "tiingo failed... len of df:  0\n",
      "Added 867 stocks to the db\n",
      "    ticker priceCurrency ticker_currency\n",
      "767   ITE1           USD        ITE1-USD\n",
      "********************\n",
      "[*********************100%***********************]  1 of 1 completed\n"
     ]
    },
    {
     "name": "stderr",
     "output_type": "stream",
     "text": [
      "C:\\Users\\david\\anaconda3\\envs\\svmmvo\\lib\\site-packages\\pandas_datareader\\tiingo.py:234: FutureWarning: In a future version of pandas all arguments of concat except for the argument 'objs' will be keyword-only.\n",
      "  return pd.concat(dfs, self._concat_axis)\n"
     ]
    },
    {
     "name": "stdout",
     "output_type": "stream",
     "text": [
      "Added 868 stocks to the db\n",
      "     ticker priceCurrency ticker_currency\n",
      "1394    ITT           USD         ITT-USD\n",
      "********************\n",
      "[*********************100%***********************]  1 of 1 completed\n",
      "\n",
      "1 Failed download:\n",
      "- ITT1: No timezone found, symbol may be delisted\n",
      "yahoo failed... len of df:  0\n",
      "tiingo failed... len of df:  0\n",
      "Added 869 stocks to the db\n",
      "    ticker priceCurrency ticker_currency\n",
      "330   ITT1           USD        ITT1-USD\n",
      "********************\n",
      "[*********************100%***********************]  1 of 1 completed\n"
     ]
    },
    {
     "name": "stderr",
     "output_type": "stream",
     "text": [
      "C:\\Users\\david\\anaconda3\\envs\\svmmvo\\lib\\site-packages\\pandas_datareader\\tiingo.py:234: FutureWarning: In a future version of pandas all arguments of concat except for the argument 'objs' will be keyword-only.\n",
      "  return pd.concat(dfs, self._concat_axis)\n"
     ]
    },
    {
     "name": "stdout",
     "output_type": "stream",
     "text": [
      "Added 870 stocks to the db\n",
      "     ticker priceCurrency ticker_currency\n",
      "1395    ITW           USD         ITW-USD\n",
      "********************\n",
      "[*********************100%***********************]  1 of 1 completed\n"
     ]
    },
    {
     "name": "stderr",
     "output_type": "stream",
     "text": [
      "C:\\Users\\david\\anaconda3\\envs\\svmmvo\\lib\\site-packages\\pandas_datareader\\tiingo.py:234: FutureWarning: In a future version of pandas all arguments of concat except for the argument 'objs' will be keyword-only.\n",
      "  return pd.concat(dfs, self._concat_axis)\n"
     ]
    },
    {
     "name": "stdout",
     "output_type": "stream",
     "text": [
      "Added 871 stocks to the db\n",
      "     ticker priceCurrency ticker_currency\n",
      "1396    IVZ           USD         IVZ-USD\n",
      "********************\n",
      "[*********************100%***********************]  1 of 1 completed\n"
     ]
    },
    {
     "name": "stderr",
     "output_type": "stream",
     "text": [
      "C:\\Users\\david\\anaconda3\\envs\\svmmvo\\lib\\site-packages\\pandas_datareader\\tiingo.py:234: FutureWarning: In a future version of pandas all arguments of concat except for the argument 'objs' will be keyword-only.\n",
      "  return pd.concat(dfs, self._concat_axis)\n"
     ]
    },
    {
     "name": "stdout",
     "output_type": "stream",
     "text": [
      "Added 872 stocks to the db\n",
      "     ticker priceCurrency ticker_currency\n",
      "1397      J           USD           J-USD\n",
      "********************\n",
      "[*********************100%***********************]  1 of 1 completed\n",
      "\n",
      "1 Failed download:\n",
      "- JAEG1: No timezone found, symbol may be delisted\n",
      "yahoo failed... len of df:  0\n",
      "tiingo failed... len of df:  0\n",
      "Added 873 stocks to the db\n",
      "    ticker priceCurrency ticker_currency\n",
      "822  JAEG1           USD       JAEG1-USD\n",
      "********************\n",
      "[*********************100%***********************]  1 of 1 completed\n",
      "\n",
      "1 Failed download:\n",
      "- JAVA1: No timezone found, symbol may be delisted\n",
      "yahoo failed... len of df:  0\n",
      "tiingo failed... len of df:  0\n",
      "Added 874 stocks to the db\n",
      "    ticker priceCurrency ticker_currency\n",
      "100  JAVA1           USD       JAVA1-USD\n",
      "********************\n",
      "[*********************100%***********************]  1 of 1 completed\n"
     ]
    },
    {
     "name": "stderr",
     "output_type": "stream",
     "text": [
      "C:\\Users\\david\\anaconda3\\envs\\svmmvo\\lib\\site-packages\\pandas_datareader\\tiingo.py:234: FutureWarning: In a future version of pandas all arguments of concat except for the argument 'objs' will be keyword-only.\n",
      "  return pd.concat(dfs, self._concat_axis)\n"
     ]
    },
    {
     "name": "stdout",
     "output_type": "stream",
     "text": [
      "Added 875 stocks to the db\n",
      "     ticker priceCurrency ticker_currency\n",
      "1398   JBHT           USD        JBHT-USD\n",
      "********************\n",
      "[*********************100%***********************]  1 of 1 completed\n"
     ]
    },
    {
     "name": "stderr",
     "output_type": "stream",
     "text": [
      "C:\\Users\\david\\anaconda3\\envs\\svmmvo\\lib\\site-packages\\pandas_datareader\\tiingo.py:234: FutureWarning: In a future version of pandas all arguments of concat except for the argument 'objs' will be keyword-only.\n",
      "  return pd.concat(dfs, self._concat_axis)\n"
     ]
    },
    {
     "name": "stdout",
     "output_type": "stream",
     "text": [
      "Added 876 stocks to the db\n",
      "     ticker priceCurrency ticker_currency\n",
      "1399    JBL           USD         JBL-USD\n",
      "********************\n",
      "[*********************100%***********************]  1 of 1 completed\n"
     ]
    },
    {
     "name": "stderr",
     "output_type": "stream",
     "text": [
      "C:\\Users\\david\\anaconda3\\envs\\svmmvo\\lib\\site-packages\\pandas_datareader\\tiingo.py:234: FutureWarning: In a future version of pandas all arguments of concat except for the argument 'objs' will be keyword-only.\n",
      "  return pd.concat(dfs, self._concat_axis)\n"
     ]
    },
    {
     "name": "stdout",
     "output_type": "stream",
     "text": [
      "Added 877 stocks to the db\n",
      "     ticker priceCurrency ticker_currency\n",
      "1400    JCI           USD         JCI-USD\n",
      "********************\n",
      "[*********************100%***********************]  1 of 1 completed\n",
      "\n",
      "1 Failed download:\n",
      "- JCI1: No timezone found, symbol may be delisted\n",
      "yahoo failed... len of df:  0\n",
      "tiingo failed... len of df:  0\n",
      "Added 878 stocks to the db\n",
      "     ticker priceCurrency ticker_currency\n",
      "1401   JCI1           USD        JCI1-USD\n",
      "********************\n",
      "[*********************100%***********************]  1 of 1 completed\n"
     ]
    },
    {
     "name": "stderr",
     "output_type": "stream",
     "text": [
      "C:\\Users\\david\\anaconda3\\envs\\svmmvo\\lib\\site-packages\\pandas_datareader\\tiingo.py:234: FutureWarning: In a future version of pandas all arguments of concat except for the argument 'objs' will be keyword-only.\n",
      "  return pd.concat(dfs, self._concat_axis)\n"
     ]
    },
    {
     "name": "stdout",
     "output_type": "stream",
     "text": [
      "Added 879 stocks to the db\n",
      "     ticker priceCurrency ticker_currency\n",
      "1402    JEF           USD         JEF-USD\n",
      "********************\n",
      "[*********************100%***********************]  1 of 1 completed\n",
      "\n",
      "1 Failed download:\n",
      "- JEF2: No timezone found, symbol may be delisted\n",
      "yahoo failed... len of df:  0\n",
      "tiingo failed... len of df:  0\n",
      "Added 880 stocks to the db\n",
      "    ticker priceCurrency ticker_currency\n",
      "872   JEF2           USD        JEF2-USD\n",
      "********************\n",
      "[*********************100%***********************]  1 of 1 completed\n",
      "\n",
      "1 Failed download:\n",
      "- JERR1: No timezone found, symbol may be delisted\n",
      "yahoo failed... len of df:  0\n",
      "tiingo failed... len of df:  0\n",
      "Added 881 stocks to the db\n",
      "    ticker priceCurrency ticker_currency\n",
      "864  JERR1           USD       JERR1-USD\n",
      "********************\n",
      "[*********************100%***********************]  1 of 1 completed\n",
      "\n",
      "1 Failed download:\n",
      "- JH1: No timezone found, symbol may be delisted\n",
      "yahoo failed... len of df:  0\n",
      "tiingo failed... len of df:  0\n",
      "Added 882 stocks to the db\n",
      "    ticker priceCurrency ticker_currency\n",
      "201    JH1           USD         JH1-USD\n",
      "********************\n",
      "[*********************100%***********************]  1 of 1 completed\n",
      "\n",
      "1 Failed download:\n",
      "- JHF1: No timezone found, symbol may be delisted\n",
      "yahoo failed... len of df:  0\n",
      "tiingo failed... len of df:  0\n",
      "Added 883 stocks to the db\n",
      "    ticker priceCurrency ticker_currency\n",
      "267   JHF1           USD        JHF1-USD\n",
      "********************\n",
      "[*********************100%***********************]  1 of 1 completed\n",
      "\n",
      "1 Failed download:\n",
      "- JI1: No timezone found, symbol may be delisted\n",
      "yahoo failed... len of df:  0\n",
      "tiingo failed... len of df:  0\n",
      "Added 884 stocks to the db\n",
      "    ticker priceCurrency ticker_currency\n",
      "653    JI1           USD         JI1-USD\n",
      "********************\n",
      "[*********************100%***********************]  1 of 1 completed\n",
      "\n",
      "1 Failed download:\n",
      "- JJN1: No timezone found, symbol may be delisted\n",
      "yahoo failed... len of df:  0\n",
      "tiingo failed... len of df:  0\n",
      "Added 885 stocks to the db\n",
      "    ticker priceCurrency ticker_currency\n",
      "858   JJN1           USD        JJN1-USD\n",
      "********************\n",
      "[*********************100%***********************]  1 of 1 completed\n"
     ]
    },
    {
     "name": "stderr",
     "output_type": "stream",
     "text": [
      "C:\\Users\\david\\anaconda3\\envs\\svmmvo\\lib\\site-packages\\pandas_datareader\\tiingo.py:234: FutureWarning: In a future version of pandas all arguments of concat except for the argument 'objs' will be keyword-only.\n",
      "  return pd.concat(dfs, self._concat_axis)\n"
     ]
    },
    {
     "name": "stdout",
     "output_type": "stream",
     "text": [
      "Added 886 stocks to the db\n",
      "     ticker priceCurrency ticker_currency\n",
      "1403   JKHY           USD        JKHY-USD\n",
      "********************\n",
      "[*********************100%***********************]  1 of 1 completed\n",
      "\n",
      "1 Failed download:\n",
      "- JL1: No timezone found, symbol may be delisted\n",
      "yahoo failed... len of df:  0\n",
      "tiingo failed... len of df:  0\n",
      "Added 887 stocks to the db\n",
      "    ticker priceCurrency ticker_currency\n",
      "809    JL1           USD         JL1-USD\n",
      "********************\n",
      "[*********************100%***********************]  1 of 1 completed\n"
     ]
    },
    {
     "name": "stderr",
     "output_type": "stream",
     "text": [
      "C:\\Users\\david\\anaconda3\\envs\\svmmvo\\lib\\site-packages\\pandas_datareader\\tiingo.py:234: FutureWarning: In a future version of pandas all arguments of concat except for the argument 'objs' will be keyword-only.\n",
      "  return pd.concat(dfs, self._concat_axis)\n"
     ]
    },
    {
     "name": "stdout",
     "output_type": "stream",
     "text": [
      "Added 888 stocks to the db\n",
      "     ticker priceCurrency ticker_currency\n",
      "1404    JNJ           USD         JNJ-USD\n",
      "********************\n",
      "[*********************100%***********************]  1 of 1 completed\n"
     ]
    },
    {
     "name": "stderr",
     "output_type": "stream",
     "text": [
      "C:\\Users\\david\\anaconda3\\envs\\svmmvo\\lib\\site-packages\\pandas_datareader\\tiingo.py:234: FutureWarning: In a future version of pandas all arguments of concat except for the argument 'objs' will be keyword-only.\n",
      "  return pd.concat(dfs, self._concat_axis)\n"
     ]
    },
    {
     "name": "stdout",
     "output_type": "stream",
     "text": [
      "Added 889 stocks to the db\n",
      "     ticker priceCurrency ticker_currency\n",
      "1405   JNPR           USD        JNPR-USD\n",
      "********************\n",
      "[*********************100%***********************]  1 of 1 completed\n",
      "\n",
      "1 Failed download:\n",
      "- JNS4: No timezone found, symbol may be delisted\n",
      "yahoo failed... len of df:  0\n",
      "tiingo failed... len of df:  0\n",
      "Added 890 stocks to the db\n",
      "   ticker priceCurrency ticker_currency\n",
      "56   JNS4           USD        JNS4-USD\n",
      "********************\n",
      "[*********************100%***********************]  1 of 1 completed\n",
      "\n",
      "1 Failed download:\n",
      "- JNY1: No timezone found, symbol may be delisted\n",
      "yahoo failed... len of df:  0\n",
      "tiingo failed... len of df:  0\n",
      "Added 891 stocks to the db\n",
      "    ticker priceCurrency ticker_currency\n",
      "111   JNY1           USD        JNY1-USD\n",
      "********************\n",
      "[*********************100%***********************]  1 of 1 completed\n",
      "\n",
      "1 Failed download:\n",
      "- JOL2: No timezone found, symbol may be delisted\n",
      "yahoo failed... len of df:  0\n",
      "tiingo failed... len of df:  0\n",
      "Added 892 stocks to the db\n",
      "    ticker priceCurrency ticker_currency\n",
      "869   JOL2           USD        JOL2-USD\n",
      "********************\n",
      "[*********************100%***********************]  1 of 1 completed\n",
      "\n",
      "1 Failed download:\n",
      "- JOS1: No timezone found, symbol may be delisted\n",
      "yahoo failed... len of df:  0\n",
      "tiingo failed... len of df:  0\n",
      "Added 893 stocks to the db\n",
      "    ticker priceCurrency ticker_currency\n",
      "311   JOS1           USD        JOS1-USD\n",
      "********************\n",
      "[*********************100%***********************]  1 of 1 completed\n",
      "\n",
      "1 Failed download:\n",
      "- JOY2: No timezone found, symbol may be delisted\n",
      "yahoo failed... len of df:  0\n",
      "tiingo failed... len of df:  0\n",
      "Added 894 stocks to the db\n",
      "    ticker priceCurrency ticker_currency\n",
      "623   JOY2           USD        JOY2-USD\n",
      "********************\n",
      "[*********************100%***********************]  1 of 1 completed\n",
      "\n",
      "1 Failed download:\n",
      "- JP1: No timezone found, symbol may be delisted\n",
      "yahoo failed... len of df:  0\n",
      "tiingo failed... len of df:  0\n",
      "Added 895 stocks to the db\n",
      "     ticker priceCurrency ticker_currency\n",
      "1406    JP1           USD         JP1-USD\n",
      "********************\n",
      "[*********************100%***********************]  1 of 1 completed\n"
     ]
    },
    {
     "name": "stderr",
     "output_type": "stream",
     "text": [
      "C:\\Users\\david\\anaconda3\\envs\\svmmvo\\lib\\site-packages\\pandas_datareader\\tiingo.py:234: FutureWarning: In a future version of pandas all arguments of concat except for the argument 'objs' will be keyword-only.\n",
      "  return pd.concat(dfs, self._concat_axis)\n"
     ]
    },
    {
     "name": "stdout",
     "output_type": "stream",
     "text": [
      "Added 896 stocks to the db\n",
      "     ticker priceCurrency ticker_currency\n",
      "1407    JPM           USD         JPM-USD\n",
      "********************\n",
      "[*********************100%***********************]  1 of 1 completed\n",
      "\n",
      "1 Failed download:\n",
      "- JPM1: No timezone found, symbol may be delisted\n",
      "yahoo failed... len of df:  0\n",
      "tiingo failed... len of df:  0\n",
      "Added 897 stocks to the db\n",
      "    ticker priceCurrency ticker_currency\n",
      "197   JPM1           USD        JPM1-USD\n",
      "********************\n",
      "[*********************100%***********************]  1 of 1 completed\n",
      "\n",
      "1 Failed download:\n",
      "- JWC1: No timezone found, symbol may be delisted\n",
      "yahoo failed... len of df:  0\n",
      "tiingo failed... len of df:  0\n",
      "Added 898 stocks to the db\n",
      "    ticker priceCurrency ticker_currency\n",
      "631   JWC1           USD        JWC1-USD\n",
      "********************\n",
      "[*********************100%***********************]  1 of 1 completed\n",
      "\n",
      "1 Failed download:\n",
      "- JWL1: No timezone found, symbol may be delisted\n",
      "yahoo failed... len of df:  0\n",
      "tiingo failed... len of df:  0\n",
      "Added 899 stocks to the db\n",
      "    ticker priceCurrency ticker_currency\n",
      "519   JWL1           USD        JWL1-USD\n",
      "********************\n",
      "[*********************100%***********************]  1 of 1 completed\n"
     ]
    },
    {
     "name": "stderr",
     "output_type": "stream",
     "text": [
      "C:\\Users\\david\\anaconda3\\envs\\svmmvo\\lib\\site-packages\\pandas_datareader\\tiingo.py:234: FutureWarning: In a future version of pandas all arguments of concat except for the argument 'objs' will be keyword-only.\n",
      "  return pd.concat(dfs, self._concat_axis)\n"
     ]
    },
    {
     "name": "stdout",
     "output_type": "stream",
     "text": [
      "Added 900 stocks to the db\n",
      "     ticker priceCurrency ticker_currency\n",
      "1408    JWN           USD         JWN-USD\n",
      "********************\n",
      "[*********************100%***********************]  1 of 1 completed\n",
      "\n",
      "1 Failed download:\n",
      "- JWP1: No timezone found, symbol may be delisted\n",
      "yahoo failed... len of df:  0\n",
      "tiingo failed... len of df:  0\n",
      "Added 901 stocks to the db\n",
      "    ticker priceCurrency ticker_currency\n",
      "763   JWP1           USD        JWP1-USD\n",
      "********************\n",
      "[*********************100%***********************]  1 of 1 completed\n"
     ]
    },
    {
     "name": "stderr",
     "output_type": "stream",
     "text": [
      "C:\\Users\\david\\anaconda3\\envs\\svmmvo\\lib\\site-packages\\pandas_datareader\\tiingo.py:234: FutureWarning: In a future version of pandas all arguments of concat except for the argument 'objs' will be keyword-only.\n",
      "  return pd.concat(dfs, self._concat_axis)\n"
     ]
    },
    {
     "name": "stdout",
     "output_type": "stream",
     "text": [
      "Added 902 stocks to the db\n",
      "     ticker priceCurrency ticker_currency\n",
      "1409      K           USD           K-USD\n",
      "********************\n",
      "[*********************100%***********************]  1 of 1 completed\n",
      "\n",
      "1 Failed download:\n",
      "- KATE2: No timezone found, symbol may be delisted\n",
      "yahoo failed... len of df:  0\n",
      "tiingo failed... len of df:  0\n",
      "Added 903 stocks to the db\n",
      "   ticker priceCurrency ticker_currency\n",
      "78  KATE2           USD       KATE2-USD\n",
      "********************\n",
      "[*********************100%***********************]  1 of 1 completed\n"
     ]
    },
    {
     "name": "stderr",
     "output_type": "stream",
     "text": [
      "C:\\Users\\david\\anaconda3\\envs\\svmmvo\\lib\\site-packages\\pandas_datareader\\tiingo.py:234: FutureWarning: In a future version of pandas all arguments of concat except for the argument 'objs' will be keyword-only.\n",
      "  return pd.concat(dfs, self._concat_axis)\n"
     ]
    },
    {
     "name": "stdout",
     "output_type": "stream",
     "text": [
      "Added 904 stocks to the db\n",
      "     ticker priceCurrency ticker_currency\n",
      "1410    KBH           USD         KBH-USD\n",
      "********************\n",
      "[*********************100%***********************]  1 of 1 completed\n",
      "\n",
      "1 Failed download:\n",
      "- KBR1: No timezone found, symbol may be delisted\n",
      "yahoo failed... len of df:  0\n",
      "tiingo failed... len of df:  0\n",
      "Added 905 stocks to the db\n",
      "    ticker priceCurrency ticker_currency\n",
      "722   KBR1           USD        KBR1-USD\n",
      "********************\n",
      "[*********************100%***********************]  1 of 1 completed\n",
      "\n",
      "1 Failed download:\n",
      "- KCC1: No timezone found, symbol may be delisted\n",
      "yahoo failed... len of df:  0\n",
      "tiingo failed... len of df:  0\n",
      "Added 906 stocks to the db\n",
      "    ticker priceCurrency ticker_currency\n",
      "676   KCC1           USD        KCC1-USD\n",
      "********************\n",
      "[*********************100%***********************]  1 of 1 completed\n"
     ]
    },
    {
     "name": "stderr",
     "output_type": "stream",
     "text": [
      "C:\\Users\\david\\anaconda3\\envs\\svmmvo\\lib\\site-packages\\pandas_datareader\\tiingo.py:234: FutureWarning: In a future version of pandas all arguments of concat except for the argument 'objs' will be keyword-only.\n",
      "  return pd.concat(dfs, self._concat_axis)\n"
     ]
    },
    {
     "name": "stdout",
     "output_type": "stream",
     "text": [
      "Added 907 stocks to the db\n",
      "     ticker priceCurrency ticker_currency\n",
      "1411    KDP           USD         KDP-USD\n",
      "********************\n",
      "[*********************100%***********************]  1 of 1 completed\n"
     ]
    },
    {
     "name": "stderr",
     "output_type": "stream",
     "text": [
      "C:\\Users\\david\\anaconda3\\envs\\svmmvo\\lib\\site-packages\\pandas_datareader\\tiingo.py:234: FutureWarning: In a future version of pandas all arguments of concat except for the argument 'objs' will be keyword-only.\n",
      "  return pd.concat(dfs, self._concat_axis)\n"
     ]
    },
    {
     "name": "stdout",
     "output_type": "stream",
     "text": [
      "Added 908 stocks to the db\n",
      "     ticker priceCurrency ticker_currency\n",
      "1412    KEY           USD         KEY-USD\n",
      "********************\n",
      "[*********************100%***********************]  1 of 1 completed\n"
     ]
    },
    {
     "name": "stderr",
     "output_type": "stream",
     "text": [
      "C:\\Users\\david\\anaconda3\\envs\\svmmvo\\lib\\site-packages\\pandas_datareader\\tiingo.py:234: FutureWarning: In a future version of pandas all arguments of concat except for the argument 'objs' will be keyword-only.\n",
      "  return pd.concat(dfs, self._concat_axis)\n"
     ]
    },
    {
     "name": "stdout",
     "output_type": "stream",
     "text": [
      "Added 909 stocks to the db\n",
      "     ticker priceCurrency ticker_currency\n",
      "1413   KEYS           USD        KEYS-USD\n",
      "********************\n",
      "[*********************100%***********************]  1 of 1 completed\n",
      "\n",
      "1 Failed download:\n",
      "- KG2: No timezone found, symbol may be delisted\n",
      "yahoo failed... len of df:  0\n",
      "tiingo failed... len of df:  0\n",
      "Added 910 stocks to the db\n",
      "    ticker priceCurrency ticker_currency\n",
      "138    KG2           USD         KG2-USD\n",
      "********************\n",
      "[*********************100%***********************]  1 of 1 completed\n"
     ]
    },
    {
     "name": "stderr",
     "output_type": "stream",
     "text": [
      "C:\\Users\\david\\anaconda3\\envs\\svmmvo\\lib\\site-packages\\pandas_datareader\\tiingo.py:234: FutureWarning: In a future version of pandas all arguments of concat except for the argument 'objs' will be keyword-only.\n",
      "  return pd.concat(dfs, self._concat_axis)\n"
     ]
    },
    {
     "name": "stdout",
     "output_type": "stream",
     "text": [
      "Added 911 stocks to the db\n",
      "     ticker priceCurrency ticker_currency\n",
      "1414    KHC           USD         KHC-USD\n",
      "********************\n",
      "[*********************100%***********************]  1 of 1 completed\n"
     ]
    },
    {
     "name": "stderr",
     "output_type": "stream",
     "text": [
      "C:\\Users\\david\\anaconda3\\envs\\svmmvo\\lib\\site-packages\\pandas_datareader\\tiingo.py:234: FutureWarning: In a future version of pandas all arguments of concat except for the argument 'objs' will be keyword-only.\n",
      "  return pd.concat(dfs, self._concat_axis)\n"
     ]
    },
    {
     "name": "stdout",
     "output_type": "stream",
     "text": [
      "Added 912 stocks to the db\n",
      "     ticker priceCurrency ticker_currency\n",
      "1415    KIM           USD         KIM-USD\n",
      "********************\n",
      "[*********************100%***********************]  1 of 1 completed\n"
     ]
    },
    {
     "name": "stderr",
     "output_type": "stream",
     "text": [
      "C:\\Users\\david\\anaconda3\\envs\\svmmvo\\lib\\site-packages\\pandas_datareader\\tiingo.py:234: FutureWarning: In a future version of pandas all arguments of concat except for the argument 'objs' will be keyword-only.\n",
      "  return pd.concat(dfs, self._concat_axis)\n"
     ]
    },
    {
     "name": "stdout",
     "output_type": "stream",
     "text": [
      "Added 913 stocks to the db\n",
      "     ticker priceCurrency ticker_currency\n",
      "1416   KLAC           USD        KLAC-USD\n",
      "********************\n",
      "[*********************100%***********************]  1 of 1 completed\n",
      "\n",
      "1 Failed download:\n",
      "- KLU1: No timezone found, symbol may be delisted\n",
      "yahoo failed... len of df:  0\n",
      "tiingo failed... len of df:  0\n",
      "Added 914 stocks to the db\n",
      "    ticker priceCurrency ticker_currency\n",
      "530   KLU1           USD        KLU1-USD\n",
      "********************\n",
      "[*********************100%***********************]  1 of 1 completed\n"
     ]
    },
    {
     "name": "stderr",
     "output_type": "stream",
     "text": [
      "C:\\Users\\david\\anaconda3\\envs\\svmmvo\\lib\\site-packages\\pandas_datareader\\tiingo.py:234: FutureWarning: In a future version of pandas all arguments of concat except for the argument 'objs' will be keyword-only.\n",
      "  return pd.concat(dfs, self._concat_axis)\n"
     ]
    },
    {
     "name": "stdout",
     "output_type": "stream",
     "text": [
      "Added 915 stocks to the db\n",
      "     ticker priceCurrency ticker_currency\n",
      "1417    KMB           USD         KMB-USD\n",
      "********************\n",
      "[*********************100%***********************]  1 of 1 completed\n",
      "\n",
      "1 Failed download:\n",
      "- KMG1: No timezone found, symbol may be delisted\n",
      "yahoo failed... len of df:  0\n",
      "tiingo failed... len of df:  0\n",
      "Added 916 stocks to the db\n",
      "     ticker priceCurrency ticker_currency\n",
      "1418   KMG1           USD        KMG1-USD\n",
      "********************\n",
      "[*********************100%***********************]  1 of 1 completed\n"
     ]
    },
    {
     "name": "stderr",
     "output_type": "stream",
     "text": [
      "C:\\Users\\david\\anaconda3\\envs\\svmmvo\\lib\\site-packages\\pandas_datareader\\tiingo.py:234: FutureWarning: In a future version of pandas all arguments of concat except for the argument 'objs' will be keyword-only.\n",
      "  return pd.concat(dfs, self._concat_axis)\n"
     ]
    },
    {
     "name": "stdout",
     "output_type": "stream",
     "text": [
      "Added 917 stocks to the db\n",
      "     ticker priceCurrency ticker_currency\n",
      "1419    KMI           USD         KMI-USD\n",
      "********************\n",
      "[*********************100%***********************]  1 of 1 completed\n",
      "\n",
      "1 Failed download:\n",
      "- KMI1: No timezone found, symbol may be delisted\n",
      "yahoo failed... len of df:  0\n",
      "tiingo failed... len of df:  0\n",
      "Added 918 stocks to the db\n",
      "     ticker priceCurrency ticker_currency\n",
      "1420   KMI1           USD        KMI1-USD\n",
      "********************\n",
      "[*********************100%***********************]  1 of 1 completed\n",
      "\n",
      "1 Failed download:\n",
      "- KMRTQ1: No timezone found, symbol may be delisted\n",
      "yahoo failed... len of df:  0\n",
      "tiingo failed... len of df:  0\n",
      "Added 919 stocks to the db\n",
      "     ticker priceCurrency ticker_currency\n",
      "184  KMRTQ1           USD      KMRTQ1-USD\n",
      "********************\n",
      "[*********************100%***********************]  1 of 1 completed\n"
     ]
    },
    {
     "name": "stderr",
     "output_type": "stream",
     "text": [
      "C:\\Users\\david\\anaconda3\\envs\\svmmvo\\lib\\site-packages\\pandas_datareader\\tiingo.py:234: FutureWarning: In a future version of pandas all arguments of concat except for the argument 'objs' will be keyword-only.\n",
      "  return pd.concat(dfs, self._concat_axis)\n"
     ]
    },
    {
     "name": "stdout",
     "output_type": "stream",
     "text": [
      "Added 920 stocks to the db\n",
      "     ticker priceCurrency ticker_currency\n",
      "1421    KMX           USD         KMX-USD\n",
      "********************\n",
      "[*********************100%***********************]  1 of 1 completed\n",
      "\n",
      "1 Failed download:\n",
      "- KN1: No timezone found, symbol may be delisted\n",
      "yahoo failed... len of df:  0\n",
      "tiingo failed... len of df:  0\n",
      "Added 921 stocks to the db\n",
      "    ticker priceCurrency ticker_currency\n",
      "438    KN1           USD         KN1-USD\n",
      "********************\n",
      "[*********************100%***********************]  1 of 1 completed\n",
      "\n",
      "1 Failed download:\n",
      "- KNY1: No timezone found, symbol may be delisted\n",
      "yahoo failed... len of df:  0\n",
      "tiingo failed... len of df:  0\n",
      "Added 922 stocks to the db\n",
      "    ticker priceCurrency ticker_currency\n",
      "760   KNY1           USD        KNY1-USD\n",
      "********************\n",
      "[*********************100%***********************]  1 of 1 completed\n"
     ]
    },
    {
     "name": "stderr",
     "output_type": "stream",
     "text": [
      "C:\\Users\\david\\anaconda3\\envs\\svmmvo\\lib\\site-packages\\pandas_datareader\\tiingo.py:234: FutureWarning: In a future version of pandas all arguments of concat except for the argument 'objs' will be keyword-only.\n",
      "  return pd.concat(dfs, self._concat_axis)\n"
     ]
    },
    {
     "name": "stdout",
     "output_type": "stream",
     "text": [
      "Added 923 stocks to the db\n",
      "     ticker priceCurrency ticker_currency\n",
      "1422     KO           USD          KO-USD\n",
      "********************\n",
      "[*********************100%***********************]  1 of 1 completed\n",
      "\n",
      "1 Failed download:\n",
      "- KOE1: No timezone found, symbol may be delisted\n",
      "yahoo failed... len of df:  0\n",
      "tiingo failed... len of df:  0\n",
      "Added 924 stocks to the db\n",
      "    ticker priceCurrency ticker_currency\n",
      "629   KOE1           USD        KOE1-USD\n",
      "********************\n",
      "[*********************100%***********************]  1 of 1 completed\n",
      "\n",
      "1 Failed download:\n",
      "- KOP1: No timezone found, symbol may be delisted\n",
      "yahoo failed... len of df:  0\n",
      "tiingo failed... len of df:  0\n",
      "Added 925 stocks to the db\n",
      "    ticker priceCurrency ticker_currency\n",
      "624   KOP1           USD        KOP1-USD\n",
      "********************\n",
      "[*********************100%***********************]  1 of 1 completed\n"
     ]
    },
    {
     "name": "stderr",
     "output_type": "stream",
     "text": [
      "C:\\Users\\david\\anaconda3\\envs\\svmmvo\\lib\\site-packages\\pandas_datareader\\tiingo.py:234: FutureWarning: In a future version of pandas all arguments of concat except for the argument 'objs' will be keyword-only.\n",
      "  return pd.concat(dfs, self._concat_axis)\n"
     ]
    },
    {
     "name": "stdout",
     "output_type": "stream",
     "text": [
      "Added 926 stocks to the db\n",
      "     ticker priceCurrency ticker_currency\n",
      "1423     KR           USD          KR-USD\n",
      "********************\n",
      "[*********************100%***********************]  1 of 1 completed\n",
      "\n",
      "1 Failed download:\n",
      "- KRA1: No timezone found, symbol may be delisted\n",
      "yahoo failed... len of df:  0\n",
      "tiingo failed... len of df:  0\n",
      "Added 927 stocks to the db\n",
      "    ticker priceCurrency ticker_currency\n",
      "426   KRA1           USD        KRA1-USD\n",
      "********************\n",
      "[*********************100%***********************]  1 of 1 completed\n",
      "\n",
      "1 Failed download:\n",
      "- KRA2: No timezone found, symbol may be delisted\n",
      "yahoo failed... len of df:  0\n",
      "tiingo failed... len of df:  0\n",
      "Added 928 stocks to the db\n",
      "    ticker priceCurrency ticker_currency\n",
      "948   KRA2           USD        KRA2-USD\n",
      "********************\n",
      "[*********************100%***********************]  1 of 1 completed\n",
      "\n",
      "1 Failed download:\n",
      "- KRB1: No timezone found, symbol may be delisted\n",
      "yahoo failed... len of df:  0\n",
      "tiingo failed... len of df:  0\n",
      "Added 929 stocks to the db\n",
      "    ticker priceCurrency ticker_currency\n",
      "247   KRB1           USD        KRB1-USD\n",
      "********************\n",
      "[*********************100%***********************]  1 of 1 completed\n",
      "\n",
      "1 Failed download:\n",
      "- KRFT1: No timezone found, symbol may be delisted\n",
      "yahoo failed... len of df:  0\n",
      "tiingo failed... len of df:  0\n",
      "Added 930 stocks to the db\n",
      "    ticker priceCurrency ticker_currency\n",
      "989  KRFT1           USD       KRFT1-USD\n",
      "********************\n",
      "[*********************100%***********************]  1 of 1 completed\n",
      "\n",
      "1 Failed download:\n",
      "- KRI1: No timezone found, symbol may be delisted\n",
      "yahoo failed... len of df:  0\n",
      "tiingo failed... len of df:  0\n",
      "Added 931 stocks to the db\n",
      "    ticker priceCurrency ticker_currency\n",
      "215   KRI1           USD        KRI1-USD\n",
      "********************\n",
      "[*********************100%***********************]  1 of 1 completed\n",
      "\n",
      "1 Failed download:\n",
      "- KSC2: No timezone found, symbol may be delisted\n",
      "yahoo failed... len of df:  0\n",
      "tiingo failed... len of df:  0\n",
      "Added 932 stocks to the db\n",
      "    ticker priceCurrency ticker_currency\n",
      "781   KSC2           USD        KSC2-USD\n",
      "********************\n",
      "[*********************100%***********************]  1 of 1 completed\n",
      "\n",
      "1 Failed download:\n",
      "- KSE1: No timezone found, symbol may be delisted\n",
      "yahoo failed... len of df:  0\n",
      "tiingo failed... len of df:  0\n",
      "Added 933 stocks to the db\n",
      "    ticker priceCurrency ticker_currency\n",
      "157   KSE1           USD        KSE1-USD\n",
      "********************\n",
      "[*********************100%***********************]  1 of 1 completed\n",
      "\n",
      "1 Failed download:\n",
      "- KSP1: No timezone found, symbol may be delisted\n",
      "yahoo failed... len of df:  0\n",
      "tiingo failed... len of df:  0\n",
      "Added 934 stocks to the db\n",
      "    ticker priceCurrency ticker_currency\n",
      "900   KSP1           USD        KSP1-USD\n",
      "********************\n",
      "[*********************100%***********************]  1 of 1 completed\n"
     ]
    },
    {
     "name": "stderr",
     "output_type": "stream",
     "text": [
      "C:\\Users\\david\\anaconda3\\envs\\svmmvo\\lib\\site-packages\\pandas_datareader\\tiingo.py:234: FutureWarning: In a future version of pandas all arguments of concat except for the argument 'objs' will be keyword-only.\n",
      "  return pd.concat(dfs, self._concat_axis)\n"
     ]
    },
    {
     "name": "stdout",
     "output_type": "stream",
     "text": [
      "Added 935 stocks to the db\n",
      "     ticker priceCurrency ticker_currency\n",
      "1424    KSS           USD         KSS-USD\n",
      "********************\n",
      "[*********************100%***********************]  1 of 1 completed\n",
      "\n",
      "1 Failed download:\n",
      "- KSU2: No timezone found, symbol may be delisted\n",
      "yahoo failed... len of df:  0\n",
      "tiingo failed... len of df:  0\n",
      "Added 936 stocks to the db\n",
      "  ticker priceCurrency ticker_currency\n",
      "0   KSU2           USD        KSU2-USD\n",
      "********************\n",
      "[*********************100%***********************]  1 of 1 completed\n",
      "\n",
      "1 Failed download:\n",
      "- KT1: No timezone found, symbol may be delisted\n",
      "yahoo failed... len of df:  0\n",
      "tiingo failed... len of df:  0\n",
      "Added 937 stocks to the db\n",
      "    ticker priceCurrency ticker_currency\n",
      "752    KT1           USD         KT1-USD\n",
      "********************\n",
      "[*********************100%***********************]  1 of 1 completed\n",
      "\n",
      "1 Failed download:\n",
      "- KTY1: No timezone found, symbol may be delisted\n",
      "yahoo failed... len of df:  0\n",
      "tiingo failed... len of df:  0\n",
      "Added 938 stocks to the db\n",
      "    ticker priceCurrency ticker_currency\n",
      "973   KTY1           USD        KTY1-USD\n",
      "********************\n",
      "[*********************100%***********************]  1 of 1 completed\n",
      "\n",
      "1 Failed download:\n",
      "- KW1: No timezone found, symbol may be delisted\n",
      "yahoo failed... len of df:  0\n",
      "tiingo failed... len of df:  0\n",
      "Added 939 stocks to the db\n",
      "    ticker priceCurrency ticker_currency\n",
      "697    KW1           USD         KW1-USD\n",
      "********************\n",
      "[*********************100%***********************]  1 of 1 completed\n",
      "\n",
      "1 Failed download:\n",
      "- KWP1: No timezone found, symbol may be delisted\n",
      "yahoo failed... len of df:  0\n",
      "tiingo failed... len of df:  0\n",
      "Added 940 stocks to the db\n",
      "    ticker priceCurrency ticker_currency\n",
      "328   KWP1           USD        KWP1-USD\n",
      "********************\n",
      "[*********************100%***********************]  1 of 1 completed\n",
      "\n",
      "1 Failed download:\n",
      "- KYR1: No timezone found, symbol may be delisted\n",
      "yahoo failed... len of df:  0\n",
      "tiingo failed... len of df:  0\n",
      "Added 941 stocks to the db\n",
      "    ticker priceCurrency ticker_currency\n",
      "699   KYR1           USD        KYR1-USD\n",
      "********************\n",
      "[*********************100%***********************]  1 of 1 completed\n"
     ]
    },
    {
     "name": "stderr",
     "output_type": "stream",
     "text": [
      "C:\\Users\\david\\anaconda3\\envs\\svmmvo\\lib\\site-packages\\pandas_datareader\\tiingo.py:234: FutureWarning: In a future version of pandas all arguments of concat except for the argument 'objs' will be keyword-only.\n",
      "  return pd.concat(dfs, self._concat_axis)\n"
     ]
    },
    {
     "name": "stdout",
     "output_type": "stream",
     "text": [
      "Added 942 stocks to the db\n",
      "     ticker priceCurrency ticker_currency\n",
      "1425      L           USD           L-USD\n",
      "********************\n",
      "[*********************100%***********************]  1 of 1 completed\n",
      "\n",
      "1 Failed download:\n",
      "- L3: No timezone found, symbol may be delisted\n",
      "yahoo failed... len of df:  0\n",
      "tiingo failed... len of df:  0\n",
      "Added 943 stocks to the db\n",
      "    ticker priceCurrency ticker_currency\n",
      "799     L3           USD          L3-USD\n",
      "********************\n",
      "[*********************100%***********************]  1 of 1 completed\n",
      "\n",
      "1 Failed download:\n",
      "- LCE2: No timezone found, symbol may be delisted\n",
      "yahoo failed... len of df:  0\n",
      "tiingo failed... len of df:  0\n",
      "Added 944 stocks to the db\n",
      "    ticker priceCurrency ticker_currency\n",
      "590   LCE2           USD        LCE2-USD\n",
      "********************\n",
      "[*********************100%***********************]  1 of 1 completed\n",
      "\n",
      "1 Failed download:\n",
      "- LDG1: No timezone found, symbol may be delisted\n",
      "yahoo failed... len of df:  0\n",
      "tiingo failed... len of df:  0\n",
      "Added 945 stocks to the db\n",
      "    ticker priceCurrency ticker_currency\n",
      "127   LDG1           USD        LDG1-USD\n",
      "********************\n",
      "[*********************100%***********************]  1 of 1 completed\n"
     ]
    },
    {
     "name": "stderr",
     "output_type": "stream",
     "text": [
      "C:\\Users\\david\\anaconda3\\envs\\svmmvo\\lib\\site-packages\\pandas_datareader\\tiingo.py:234: FutureWarning: In a future version of pandas all arguments of concat except for the argument 'objs' will be keyword-only.\n",
      "  return pd.concat(dfs, self._concat_axis)\n"
     ]
    },
    {
     "name": "stdout",
     "output_type": "stream",
     "text": [
      "Added 946 stocks to the db\n",
      "     ticker priceCurrency ticker_currency\n",
      "1426   LDOS           USD        LDOS-USD\n",
      "********************\n",
      "[*********************100%***********************]  1 of 1 completed\n",
      "\n",
      "1 Failed download:\n",
      "- LDW1B: No timezone found, symbol may be delisted\n",
      "yahoo failed... len of df:  0\n",
      "tiingo failed... len of df:  0\n",
      "Added 947 stocks to the db\n",
      "    ticker priceCurrency ticker_currency\n",
      "255  LDW1B           USD       LDW1B-USD\n",
      "********************\n",
      "[*********************100%***********************]  1 of 1 completed\n"
     ]
    },
    {
     "name": "stderr",
     "output_type": "stream",
     "text": [
      "C:\\Users\\david\\anaconda3\\envs\\svmmvo\\lib\\site-packages\\pandas_datareader\\tiingo.py:234: FutureWarning: In a future version of pandas all arguments of concat except for the argument 'objs' will be keyword-only.\n",
      "  return pd.concat(dfs, self._concat_axis)\n"
     ]
    },
    {
     "name": "stdout",
     "output_type": "stream",
     "text": [
      "Added 948 stocks to the db\n",
      "     ticker priceCurrency ticker_currency\n",
      "1427    LEG           USD         LEG-USD\n",
      "********************\n",
      "[*********************100%***********************]  1 of 1 completed\n",
      "\n",
      "1 Failed download:\n",
      "- LEHMQ1: No timezone found, symbol may be delisted\n",
      "yahoo failed... len of df:  0\n",
      "tiingo failed... len of df:  0\n",
      "Added 949 stocks to the db\n",
      "    ticker priceCurrency ticker_currency\n",
      "86  LEHMQ1           USD      LEHMQ1-USD\n",
      "********************\n",
      "[*********************100%***********************]  1 of 1 completed\n"
     ]
    },
    {
     "name": "stderr",
     "output_type": "stream",
     "text": [
      "C:\\Users\\david\\anaconda3\\envs\\svmmvo\\lib\\site-packages\\pandas_datareader\\tiingo.py:234: FutureWarning: In a future version of pandas all arguments of concat except for the argument 'objs' will be keyword-only.\n",
      "  return pd.concat(dfs, self._concat_axis)\n"
     ]
    },
    {
     "name": "stdout",
     "output_type": "stream",
     "text": [
      "Added 950 stocks to the db\n",
      "     ticker priceCurrency ticker_currency\n",
      "1428    LEN           USD         LEN-USD\n",
      "********************\n",
      "[*********************100%***********************]  1 of 1 completed\n",
      "\n",
      "1 Failed download:\n",
      "- LER1: No timezone found, symbol may be delisted\n",
      "yahoo failed... len of df:  0\n",
      "tiingo failed... len of df:  0\n",
      "Added 951 stocks to the db\n",
      "    ticker priceCurrency ticker_currency\n",
      "769   LER1           USD        LER1-USD\n",
      "********************\n",
      "[*********************100%***********************]  1 of 1 completed\n",
      "\n",
      "1 Failed download:\n",
      "- LES2: No timezone found, symbol may be delisted\n",
      "yahoo failed... len of df:  0\n",
      "tiingo failed... len of df:  0\n",
      "Added 952 stocks to the db\n",
      "    ticker priceCurrency ticker_currency\n",
      "959   LES2           USD        LES2-USD\n",
      "********************\n",
      "[*********************100%***********************]  1 of 1 completed\n",
      "\n",
      "1 Failed download:\n",
      "- LGT1B: No timezone found, symbol may be delisted\n",
      "yahoo failed... len of df:  0\n",
      "tiingo failed... len of df:  0\n",
      "Added 953 stocks to the db\n",
      "    ticker priceCurrency ticker_currency\n",
      "619  LGT1B           USD       LGT1B-USD\n",
      "********************\n",
      "[*********************100%***********************]  1 of 1 completed\n"
     ]
    },
    {
     "name": "stderr",
     "output_type": "stream",
     "text": [
      "C:\\Users\\david\\anaconda3\\envs\\svmmvo\\lib\\site-packages\\pandas_datareader\\tiingo.py:234: FutureWarning: In a future version of pandas all arguments of concat except for the argument 'objs' will be keyword-only.\n",
      "  return pd.concat(dfs, self._concat_axis)\n"
     ]
    },
    {
     "name": "stdout",
     "output_type": "stream",
     "text": [
      "Added 954 stocks to the db\n",
      "     ticker priceCurrency ticker_currency\n",
      "1429     LH           USD          LH-USD\n",
      "********************\n",
      "[*********************100%***********************]  1 of 1 completed\n"
     ]
    },
    {
     "name": "stderr",
     "output_type": "stream",
     "text": [
      "C:\\Users\\david\\anaconda3\\envs\\svmmvo\\lib\\site-packages\\pandas_datareader\\tiingo.py:234: FutureWarning: In a future version of pandas all arguments of concat except for the argument 'objs' will be keyword-only.\n",
      "  return pd.concat(dfs, self._concat_axis)\n"
     ]
    },
    {
     "name": "stdout",
     "output_type": "stream",
     "text": [
      "Added 955 stocks to the db\n",
      "     ticker priceCurrency ticker_currency\n",
      "1430    LHX           USD         LHX-USD\n",
      "********************\n",
      "[*********************100%***********************]  1 of 1 completed\n",
      "\n",
      "1 Failed download:\n",
      "- LIFE3: No timezone found, symbol may be delisted\n",
      "yahoo failed... len of df:  0\n",
      "tiingo failed... len of df:  0\n",
      "Added 956 stocks to the db\n",
      "    ticker priceCurrency ticker_currency\n",
      "128  LIFE3           USD       LIFE3-USD\n",
      "********************\n",
      "[*********************100%***********************]  1 of 1 completed\n",
      "\n",
      "1 Failed download:\n",
      "- LIL2: No timezone found, symbol may be delisted\n",
      "yahoo failed... len of df:  0\n",
      "tiingo failed... len of df:  0\n",
      "Added 957 stocks to the db\n",
      "    ticker priceCurrency ticker_currency\n",
      "779   LIL2           USD        LIL2-USD\n",
      "********************\n",
      "[*********************100%***********************]  1 of 1 completed\n"
     ]
    },
    {
     "name": "stderr",
     "output_type": "stream",
     "text": [
      "C:\\Users\\david\\anaconda3\\envs\\svmmvo\\lib\\site-packages\\pandas_datareader\\tiingo.py:234: FutureWarning: In a future version of pandas all arguments of concat except for the argument 'objs' will be keyword-only.\n",
      "  return pd.concat(dfs, self._concat_axis)\n"
     ]
    },
    {
     "name": "stdout",
     "output_type": "stream",
     "text": [
      "Added 958 stocks to the db\n",
      "     ticker priceCurrency ticker_currency\n",
      "1431    LIN           USD         LIN-USD\n",
      "********************\n",
      "[*********************100%***********************]  1 of 1 completed\n",
      "\n",
      "1 Failed download:\n",
      "- LINB1: No timezone found, symbol may be delisted\n",
      "yahoo failed... len of df:  0\n",
      "tiingo failed... len of df:  0\n",
      "Added 959 stocks to the db\n",
      "    ticker priceCurrency ticker_currency\n",
      "490  LINB1           USD       LINB1-USD\n",
      "********************\n",
      "[*********************100%***********************]  1 of 1 completed\n",
      "\n",
      "1 Failed download:\n",
      "- LIT1: No timezone found, symbol may be delisted\n",
      "yahoo failed... len of df:  0\n",
      "tiingo failed... len of df:  0\n",
      "Added 960 stocks to the db\n",
      "     ticker priceCurrency ticker_currency\n",
      "1432   LIT1           USD        LIT1-USD\n",
      "********************\n",
      "[*********************100%***********************]  1 of 1 completed\n",
      "\n",
      "1 Failed download:\n",
      "- LJ1: No timezone found, symbol may be delisted\n",
      "yahoo failed... len of df:  0\n",
      "tiingo failed... len of df:  0\n",
      "Added 961 stocks to the db\n",
      "    ticker priceCurrency ticker_currency\n",
      "700    LJ1           USD         LJ1-USD\n",
      "********************\n",
      "[*********************100%***********************]  1 of 1 completed\n",
      "\n",
      "1 Failed download:\n",
      "- LKB1: No timezone found, symbol may be delisted\n",
      "yahoo failed... len of df:  0\n",
      "tiingo failed... len of df:  0\n",
      "Added 962 stocks to the db\n",
      "    ticker priceCurrency ticker_currency\n",
      "855   LKB1           USD        LKB1-USD\n",
      "********************\n",
      "[*********************100%***********************]  1 of 1 completed\n"
     ]
    },
    {
     "name": "stderr",
     "output_type": "stream",
     "text": [
      "C:\\Users\\david\\anaconda3\\envs\\svmmvo\\lib\\site-packages\\pandas_datareader\\tiingo.py:234: FutureWarning: In a future version of pandas all arguments of concat except for the argument 'objs' will be keyword-only.\n",
      "  return pd.concat(dfs, self._concat_axis)\n"
     ]
    },
    {
     "name": "stdout",
     "output_type": "stream",
     "text": [
      "Added 963 stocks to the db\n",
      "     ticker priceCurrency ticker_currency\n",
      "1433    LKQ           USD         LKQ-USD\n",
      "********************\n",
      "[*********************100%***********************]  1 of 1 completed\n",
      "\n",
      "1 Failed download:\n",
      "- LKS1: No timezone found, symbol may be delisted\n",
      "yahoo failed... len of df:  0\n",
      "tiingo failed... len of df:  0\n",
      "Added 964 stocks to the db\n",
      "    ticker priceCurrency ticker_currency\n",
      "475   LKS1           USD        LKS1-USD\n",
      "********************\n",
      "[*********************100%***********************]  1 of 1 completed\n",
      "\n",
      "1 Failed download:\n",
      "- LL1: No timezone found, symbol may be delisted\n",
      "yahoo failed... len of df:  0\n",
      "tiingo failed... len of df:  0\n",
      "Added 965 stocks to the db\n",
      "    ticker priceCurrency ticker_currency\n",
      "756    LL1           USD         LL1-USD\n",
      "********************\n",
      "[*********************100%***********************]  1 of 1 completed\n",
      "\n",
      "1 Failed download:\n",
      "- LLL1: No timezone found, symbol may be delisted\n",
      "yahoo failed... len of df:  0\n",
      "tiingo failed... len of df:  0\n",
      "Added 966 stocks to the db\n",
      "   ticker priceCurrency ticker_currency\n",
      "23   LLL1           USD        LLL1-USD\n",
      "********************\n",
      "[*********************100%***********************]  1 of 1 completed\n",
      "\n",
      "1 Failed download:\n",
      "- LLTC1: No timezone found, symbol may be delisted\n",
      "yahoo failed... len of df:  0\n",
      "tiingo failed... len of df:  0\n",
      "Added 967 stocks to the db\n",
      "   ticker priceCurrency ticker_currency\n",
      "47  LLTC1           USD       LLTC1-USD\n",
      "********************\n",
      "[*********************100%***********************]  1 of 1 completed\n",
      "\n",
      "1 Failed download:\n",
      "- LLX1: No timezone found, symbol may be delisted\n",
      "yahoo failed... len of df:  0\n",
      "tiingo failed... len of df:  0\n",
      "Added 968 stocks to the db\n",
      "    ticker priceCurrency ticker_currency\n",
      "229   LLX1           USD        LLX1-USD\n",
      "********************\n",
      "[*********************100%***********************]  1 of 1 completed\n"
     ]
    },
    {
     "name": "stderr",
     "output_type": "stream",
     "text": [
      "C:\\Users\\david\\anaconda3\\envs\\svmmvo\\lib\\site-packages\\pandas_datareader\\tiingo.py:234: FutureWarning: In a future version of pandas all arguments of concat except for the argument 'objs' will be keyword-only.\n",
      "  return pd.concat(dfs, self._concat_axis)\n"
     ]
    },
    {
     "name": "stdout",
     "output_type": "stream",
     "text": [
      "Added 969 stocks to the db\n",
      "     ticker priceCurrency ticker_currency\n",
      "1434    LLY           USD         LLY-USD\n",
      "********************\n",
      "[*********************100%***********************]  1 of 1 completed\n"
     ]
    },
    {
     "name": "stderr",
     "output_type": "stream",
     "text": [
      "C:\\Users\\david\\anaconda3\\envs\\svmmvo\\lib\\site-packages\\pandas_datareader\\tiingo.py:234: FutureWarning: In a future version of pandas all arguments of concat except for the argument 'objs' will be keyword-only.\n",
      "  return pd.concat(dfs, self._concat_axis)\n"
     ]
    },
    {
     "name": "stdout",
     "output_type": "stream",
     "text": [
      "Added 970 stocks to the db\n",
      "     ticker priceCurrency ticker_currency\n",
      "1435    LMT           USD         LMT-USD\n",
      "********************\n",
      "[*********************100%***********************]  1 of 1 completed\n",
      "\n",
      "1 Failed download:\n",
      "- LN1: No timezone found, symbol may be delisted\n",
      "yahoo failed... len of df:  0\n",
      "tiingo failed... len of df:  0\n",
      "Added 971 stocks to the db\n",
      "    ticker priceCurrency ticker_currency\n",
      "534    LN1           USD         LN1-USD\n",
      "********************\n",
      "[*********************100%***********************]  1 of 1 completed\n"
     ]
    },
    {
     "name": "stderr",
     "output_type": "stream",
     "text": [
      "C:\\Users\\david\\anaconda3\\envs\\svmmvo\\lib\\site-packages\\pandas_datareader\\tiingo.py:234: FutureWarning: In a future version of pandas all arguments of concat except for the argument 'objs' will be keyword-only.\n",
      "  return pd.concat(dfs, self._concat_axis)\n"
     ]
    },
    {
     "name": "stdout",
     "output_type": "stream",
     "text": [
      "Added 972 stocks to the db\n",
      "     ticker priceCurrency ticker_currency\n",
      "1436    LNC           USD         LNC-USD\n",
      "********************\n",
      "[*********************100%***********************]  1 of 1 completed\n"
     ]
    },
    {
     "name": "stderr",
     "output_type": "stream",
     "text": [
      "C:\\Users\\david\\anaconda3\\envs\\svmmvo\\lib\\site-packages\\pandas_datareader\\tiingo.py:234: FutureWarning: In a future version of pandas all arguments of concat except for the argument 'objs' will be keyword-only.\n",
      "  return pd.concat(dfs, self._concat_axis)\n"
     ]
    },
    {
     "name": "stdout",
     "output_type": "stream",
     "text": [
      "Added 973 stocks to the db\n",
      "     ticker priceCurrency ticker_currency\n",
      "1437    LNT           USD         LNT-USD\n",
      "********************\n",
      "[*********************100%***********************]  1 of 1 completed\n",
      "\n",
      "1 Failed download:\n",
      "- LNY1: No timezone found, symbol may be delisted\n",
      "yahoo failed... len of df:  0\n",
      "tiingo failed... len of df:  0\n",
      "Added 974 stocks to the db\n",
      "    ticker priceCurrency ticker_currency\n",
      "796   LNY1           USD        LNY1-USD\n",
      "********************\n",
      "[*********************100%***********************]  1 of 1 completed\n",
      "\n",
      "1 Failed download:\n",
      "- LO1: No timezone found, symbol may be delisted\n",
      "yahoo failed... len of df:  0\n",
      "tiingo failed... len of df:  0\n",
      "Added 975 stocks to the db\n",
      "   ticker priceCurrency ticker_currency\n",
      "82    LO1           USD         LO1-USD\n",
      "********************\n",
      "[*********************100%***********************]  1 of 1 completed\n",
      "\n",
      "1 Failed download:\n",
      "- LOR1: No timezone found, symbol may be delisted\n",
      "yahoo failed... len of df:  0\n",
      "tiingo failed... len of df:  0\n",
      "Added 976 stocks to the db\n",
      "    ticker priceCurrency ticker_currency\n",
      "313   LOR1           USD        LOR1-USD\n",
      "********************\n",
      "[*********************100%***********************]  1 of 1 completed\n",
      "\n",
      "1 Failed download:\n",
      "- LOTS1: No timezone found, symbol may be delisted\n",
      "yahoo failed... len of df:  0\n",
      "tiingo failed... len of df:  0\n",
      "Added 977 stocks to the db\n",
      "    ticker priceCurrency ticker_currency\n",
      "614  LOTS1           USD       LOTS1-USD\n",
      "********************\n",
      "[*********************100%***********************]  1 of 1 completed\n"
     ]
    },
    {
     "name": "stderr",
     "output_type": "stream",
     "text": [
      "C:\\Users\\david\\anaconda3\\envs\\svmmvo\\lib\\site-packages\\pandas_datareader\\tiingo.py:234: FutureWarning: In a future version of pandas all arguments of concat except for the argument 'objs' will be keyword-only.\n",
      "  return pd.concat(dfs, self._concat_axis)\n"
     ]
    },
    {
     "name": "stdout",
     "output_type": "stream",
     "text": [
      "Added 978 stocks to the db\n",
      "     ticker priceCurrency ticker_currency\n",
      "1438    LOW           USD         LOW-USD\n",
      "********************\n",
      "[*********************100%***********************]  1 of 1 completed\n",
      "\n",
      "1 Failed download:\n",
      "- LPT2: No timezone found, symbol may be delisted\n",
      "yahoo failed... len of df:  0\n",
      "tiingo failed... len of df:  0\n",
      "Added 979 stocks to the db\n",
      "    ticker priceCurrency ticker_currency\n",
      "556   LPT2           USD        LPT2-USD\n",
      "********************\n",
      "[*********************100%***********************]  1 of 1 completed\n"
     ]
    },
    {
     "name": "stderr",
     "output_type": "stream",
     "text": [
      "C:\\Users\\david\\anaconda3\\envs\\svmmvo\\lib\\site-packages\\pandas_datareader\\tiingo.py:234: FutureWarning: In a future version of pandas all arguments of concat except for the argument 'objs' will be keyword-only.\n",
      "  return pd.concat(dfs, self._concat_axis)\n"
     ]
    },
    {
     "name": "stdout",
     "output_type": "stream",
     "text": [
      "Added 980 stocks to the db\n",
      "     ticker priceCurrency ticker_currency\n",
      "1439    LPX           USD         LPX-USD\n",
      "********************\n",
      "[*********************100%***********************]  1 of 1 completed\n"
     ]
    },
    {
     "name": "stderr",
     "output_type": "stream",
     "text": [
      "C:\\Users\\david\\anaconda3\\envs\\svmmvo\\lib\\site-packages\\pandas_datareader\\tiingo.py:234: FutureWarning: In a future version of pandas all arguments of concat except for the argument 'objs' will be keyword-only.\n",
      "  return pd.concat(dfs, self._concat_axis)\n"
     ]
    },
    {
     "name": "stdout",
     "output_type": "stream",
     "text": [
      "Added 981 stocks to the db\n",
      "     ticker priceCurrency ticker_currency\n",
      "1440   LRCX           USD        LRCX-USD\n",
      "********************\n",
      "[*********************100%***********************]  1 of 1 completed\n",
      "\n",
      "1 Failed download:\n",
      "- LSI3: No timezone found, symbol may be delisted\n",
      "yahoo failed... len of df:  0\n",
      "tiingo failed... len of df:  0\n",
      "Added 982 stocks to the db\n",
      "    ticker priceCurrency ticker_currency\n",
      "106   LSI3           USD        LSI3-USD\n",
      "********************\n",
      "[*********************100%***********************]  1 of 1 completed\n",
      "\n",
      "1 Failed download:\n",
      "- LSO2: No timezone found, symbol may be delisted\n",
      "yahoo failed... len of df:  0\n",
      "tiingo failed... len of df:  0\n",
      "Added 983 stocks to the db\n",
      "    ticker priceCurrency ticker_currency\n",
      "675   LSO2           USD        LSO2-USD\n",
      "********************\n",
      "[*********************100%***********************]  1 of 1 completed\n",
      "\n",
      "1 Failed download:\n",
      "- LST1: No timezone found, symbol may be delisted\n",
      "yahoo failed... len of df:  0\n",
      "tiingo failed... len of df:  0\n",
      "Added 984 stocks to the db\n",
      "    ticker priceCurrency ticker_currency\n",
      "667   LST1           USD        LST1-USD\n",
      "********************\n",
      "[*********************100%***********************]  1 of 1 completed\n",
      "\n",
      "1 Failed download:\n",
      "- LT1: No timezone found, symbol may be delisted\n",
      "yahoo failed... len of df:  0\n",
      "tiingo failed... len of df:  0\n",
      "Added 985 stocks to the db\n",
      "    ticker priceCurrency ticker_currency\n",
      "939    LT1           USD         LT1-USD\n",
      "********************\n",
      "[*********************100%***********************]  1 of 1 completed\n",
      "\n",
      "1 Failed download:\n",
      "- LTC1: No timezone found, symbol may be delisted\n",
      "yahoo failed... len of df:  0\n",
      "tiingo failed... len of df:  0\n",
      "Added 986 stocks to the db\n",
      "    ticker priceCurrency ticker_currency\n",
      "761   LTC1           USD        LTC1-USD\n",
      "********************\n",
      "[*********************100%***********************]  1 of 1 completed\n",
      "\n",
      "1 Failed download:\n",
      "- LTV1: No timezone found, symbol may be delisted\n",
      "yahoo failed... len of df:  0\n",
      "tiingo failed... len of df:  0\n",
      "Added 987 stocks to the db\n",
      "    ticker priceCurrency ticker_currency\n",
      "733   LTV1           USD        LTV1-USD\n",
      "********************\n",
      "[*********************100%***********************]  1 of 1 completed\n",
      "\n",
      "1 Failed download:\n",
      "- LU1: No timezone found, symbol may be delisted\n",
      "yahoo failed... len of df:  0\n",
      "tiingo failed... len of df:  0\n",
      "Added 988 stocks to the db\n",
      "    ticker priceCurrency ticker_currency\n",
      "228    LU1           USD         LU1-USD\n",
      "********************\n",
      "[*********************100%***********************]  1 of 1 completed\n"
     ]
    },
    {
     "name": "stderr",
     "output_type": "stream",
     "text": [
      "C:\\Users\\david\\anaconda3\\envs\\svmmvo\\lib\\site-packages\\pandas_datareader\\tiingo.py:234: FutureWarning: In a future version of pandas all arguments of concat except for the argument 'objs' will be keyword-only.\n",
      "  return pd.concat(dfs, self._concat_axis)\n"
     ]
    },
    {
     "name": "stdout",
     "output_type": "stream",
     "text": [
      "Added 989 stocks to the db\n",
      "     ticker priceCurrency ticker_currency\n",
      "1441   LUMN           USD        LUMN-USD\n",
      "********************\n",
      "[*********************100%***********************]  1 of 1 completed\n"
     ]
    },
    {
     "name": "stderr",
     "output_type": "stream",
     "text": [
      "C:\\Users\\david\\anaconda3\\envs\\svmmvo\\lib\\site-packages\\pandas_datareader\\tiingo.py:234: FutureWarning: In a future version of pandas all arguments of concat except for the argument 'objs' will be keyword-only.\n",
      "  return pd.concat(dfs, self._concat_axis)\n"
     ]
    },
    {
     "name": "stdout",
     "output_type": "stream",
     "text": [
      "Added 990 stocks to the db\n",
      "     ticker priceCurrency ticker_currency\n",
      "1442    LUV           USD         LUV-USD\n",
      "********************\n",
      "[*********************100%***********************]  1 of 1 completed\n",
      "\n",
      "1 Failed download:\n",
      "- LV1: No timezone found, symbol may be delisted\n",
      "yahoo failed... len of df:  0\n",
      "tiingo failed... len of df:  0\n",
      "Added 991 stocks to the db\n",
      "     ticker priceCurrency ticker_currency\n",
      "1443    LV1           USD         LV1-USD\n",
      "********************\n",
      "[*********************100%***********************]  1 of 1 completed\n",
      "\n",
      "1 Failed download:\n",
      "- LVI1: No timezone found, symbol may be delisted\n",
      "yahoo failed... len of df:  0\n",
      "tiingo failed... len of df:  0\n",
      "Added 992 stocks to the db\n",
      "    ticker priceCurrency ticker_currency\n",
      "883   LVI1           USD        LVI1-USD\n",
      "********************\n",
      "[*********************100%***********************]  1 of 1 completed\n",
      "\n",
      "1 Failed download:\n",
      "- LVLT1: No timezone found, symbol may be delisted\n",
      "yahoo failed... len of df:  0\n",
      "tiingo failed... len of df:  0\n",
      "Added 993 stocks to the db\n",
      "    ticker priceCurrency ticker_currency\n",
      "115  LVLT1           USD       LVLT1-USD\n",
      "********************\n",
      "[*********************100%***********************]  1 of 1 completed\n"
     ]
    },
    {
     "name": "stderr",
     "output_type": "stream",
     "text": [
      "C:\\Users\\david\\anaconda3\\envs\\svmmvo\\lib\\site-packages\\pandas_datareader\\tiingo.py:234: FutureWarning: In a future version of pandas all arguments of concat except for the argument 'objs' will be keyword-only.\n",
      "  return pd.concat(dfs, self._concat_axis)\n"
     ]
    },
    {
     "name": "stdout",
     "output_type": "stream",
     "text": [
      "Added 994 stocks to the db\n",
      "     ticker priceCurrency ticker_currency\n",
      "1444    LVS           USD         LVS-USD\n",
      "********************\n",
      "[*********************100%***********************]  1 of 1 completed\n"
     ]
    },
    {
     "name": "stderr",
     "output_type": "stream",
     "text": [
      "C:\\Users\\david\\anaconda3\\envs\\svmmvo\\lib\\site-packages\\pandas_datareader\\tiingo.py:234: FutureWarning: In a future version of pandas all arguments of concat except for the argument 'objs' will be keyword-only.\n",
      "  return pd.concat(dfs, self._concat_axis)\n"
     ]
    },
    {
     "name": "stdout",
     "output_type": "stream",
     "text": [
      "Added 995 stocks to the db\n",
      "     ticker priceCurrency ticker_currency\n",
      "1445     LW           USD          LW-USD\n",
      "********************\n",
      "[*********************100%***********************]  1 of 1 completed\n",
      "\n",
      "1 Failed download:\n",
      "- LY1: No timezone found, symbol may be delisted\n",
      "yahoo failed... len of df:  0\n",
      "tiingo failed... len of df:  0\n",
      "Added 996 stocks to the db\n",
      "    ticker priceCurrency ticker_currency\n",
      "893    LY1           USD         LY1-USD\n",
      "********************\n",
      "[*********************100%***********************]  1 of 1 completed\n"
     ]
    },
    {
     "name": "stderr",
     "output_type": "stream",
     "text": [
      "C:\\Users\\david\\anaconda3\\envs\\svmmvo\\lib\\site-packages\\pandas_datareader\\tiingo.py:234: FutureWarning: In a future version of pandas all arguments of concat except for the argument 'objs' will be keyword-only.\n",
      "  return pd.concat(dfs, self._concat_axis)\n"
     ]
    },
    {
     "name": "stdout",
     "output_type": "stream",
     "text": [
      "Added 997 stocks to the db\n",
      "     ticker priceCurrency ticker_currency\n",
      "1446    LYB           USD         LYB-USD\n",
      "********************\n",
      "[*********************100%***********************]  1 of 1 completed\n"
     ]
    },
    {
     "name": "stderr",
     "output_type": "stream",
     "text": [
      "C:\\Users\\david\\anaconda3\\envs\\svmmvo\\lib\\site-packages\\pandas_datareader\\tiingo.py:234: FutureWarning: In a future version of pandas all arguments of concat except for the argument 'objs' will be keyword-only.\n",
      "  return pd.concat(dfs, self._concat_axis)\n"
     ]
    },
    {
     "name": "stdout",
     "output_type": "stream",
     "text": [
      "Added 998 stocks to the db\n",
      "     ticker priceCurrency ticker_currency\n",
      "1447    LYV           USD         LYV-USD\n",
      "********************\n",
      "[*********************100%***********************]  1 of 1 completed\n"
     ]
    },
    {
     "name": "stderr",
     "output_type": "stream",
     "text": [
      "C:\\Users\\david\\anaconda3\\envs\\svmmvo\\lib\\site-packages\\pandas_datareader\\tiingo.py:234: FutureWarning: In a future version of pandas all arguments of concat except for the argument 'objs' will be keyword-only.\n",
      "  return pd.concat(dfs, self._concat_axis)\n"
     ]
    },
    {
     "name": "stdout",
     "output_type": "stream",
     "text": [
      "Added 999 stocks to the db\n",
      "     ticker priceCurrency ticker_currency\n",
      "1448      M           USD           M-USD\n",
      "********************\n",
      "[*********************100%***********************]  1 of 1 completed\n",
      "\n",
      "1 Failed download:\n",
      "- M2: No timezone found, symbol may be delisted\n",
      "yahoo failed... len of df:  0\n",
      "tiingo failed... len of df:  0\n",
      "Added 1000 stocks to the db\n",
      "    ticker priceCurrency ticker_currency\n",
      "481     M2           USD          M2-USD\n",
      "********************\n",
      "[*********************100%***********************]  1 of 1 completed\n"
     ]
    },
    {
     "name": "stderr",
     "output_type": "stream",
     "text": [
      "C:\\Users\\david\\anaconda3\\envs\\svmmvo\\lib\\site-packages\\pandas_datareader\\tiingo.py:234: FutureWarning: In a future version of pandas all arguments of concat except for the argument 'objs' will be keyword-only.\n",
      "  return pd.concat(dfs, self._concat_axis)\n"
     ]
    },
    {
     "name": "stdout",
     "output_type": "stream",
     "text": [
      "Added 1001 stocks to the db\n",
      "     ticker priceCurrency ticker_currency\n",
      "1449     MA           USD          MA-USD\n",
      "********************\n",
      "[*********************100%***********************]  1 of 1 completed\n"
     ]
    },
    {
     "name": "stderr",
     "output_type": "stream",
     "text": [
      "C:\\Users\\david\\anaconda3\\envs\\svmmvo\\lib\\site-packages\\pandas_datareader\\tiingo.py:234: FutureWarning: In a future version of pandas all arguments of concat except for the argument 'objs' will be keyword-only.\n",
      "  return pd.concat(dfs, self._concat_axis)\n"
     ]
    },
    {
     "name": "stdout",
     "output_type": "stream",
     "text": [
      "Added 1002 stocks to the db\n",
      "     ticker priceCurrency ticker_currency\n",
      "1450    MAA           USD         MAA-USD\n",
      "********************\n",
      "[*********************100%***********************]  1 of 1 completed\n"
     ]
    },
    {
     "name": "stderr",
     "output_type": "stream",
     "text": [
      "C:\\Users\\david\\anaconda3\\envs\\svmmvo\\lib\\site-packages\\pandas_datareader\\tiingo.py:234: FutureWarning: In a future version of pandas all arguments of concat except for the argument 'objs' will be keyword-only.\n",
      "  return pd.concat(dfs, self._concat_axis)\n"
     ]
    },
    {
     "name": "stdout",
     "output_type": "stream",
     "text": [
      "Added 1003 stocks to the db\n",
      "     ticker priceCurrency ticker_currency\n",
      "1451    MAC           USD         MAC-USD\n",
      "********************\n",
      "[*********************100%***********************]  1 of 1 completed\n",
      "\n",
      "1 Failed download:\n",
      "- MAE1: No timezone found, symbol may be delisted\n",
      "yahoo failed... len of df:  0\n",
      "tiingo failed... len of df:  0\n",
      "Added 1004 stocks to the db\n",
      "    ticker priceCurrency ticker_currency\n",
      "522   MAE1           USD        MAE1-USD\n",
      "********************\n",
      "[*********************100%***********************]  1 of 1 completed\n",
      "\n",
      "1 Failed download:\n",
      "- MAG1: No timezone found, symbol may be delisted\n",
      "yahoo failed... len of df:  0\n",
      "tiingo failed... len of df:  0\n",
      "Added 1005 stocks to the db\n",
      "     ticker priceCurrency ticker_currency\n",
      "1452   MAG1           USD        MAG1-USD\n",
      "********************\n",
      "[*********************100%***********************]  1 of 1 completed\n",
      "\n",
      "1 Failed download:\n",
      "- MAI1: No timezone found, symbol may be delisted\n",
      "yahoo failed... len of df:  0\n",
      "tiingo failed... len of df:  0\n",
      "Added 1006 stocks to the db\n",
      "    ticker priceCurrency ticker_currency\n",
      "513   MAI1           USD        MAI1-USD\n",
      "********************\n",
      "[*********************100%***********************]  1 of 1 completed\n",
      "\n",
      "1 Failed download:\n",
      "- MAK1: No timezone found, symbol may be delisted\n",
      "yahoo failed... len of df:  0\n",
      "tiingo failed... len of df:  0\n",
      "Added 1007 stocks to the db\n",
      "    ticker priceCurrency ticker_currency\n",
      "909   MAK1           USD        MAK1-USD\n",
      "********************\n",
      "[*********************100%***********************]  1 of 1 completed\n",
      "\n",
      "1 Failed download:\n",
      "- MAN1: No timezone found, symbol may be delisted\n",
      "yahoo failed... len of df:  0\n",
      "tiingo failed... len of df:  0\n",
      "Added 1008 stocks to the db\n",
      "    ticker priceCurrency ticker_currency\n",
      "386   MAN1           USD        MAN1-USD\n",
      "********************\n",
      "[*********************100%***********************]  1 of 1 completed\n"
     ]
    },
    {
     "name": "stderr",
     "output_type": "stream",
     "text": [
      "C:\\Users\\david\\anaconda3\\envs\\svmmvo\\lib\\site-packages\\pandas_datareader\\tiingo.py:234: FutureWarning: In a future version of pandas all arguments of concat except for the argument 'objs' will be keyword-only.\n",
      "  return pd.concat(dfs, self._concat_axis)\n"
     ]
    },
    {
     "name": "stdout",
     "output_type": "stream",
     "text": [
      "Added 1009 stocks to the db\n",
      "     ticker priceCurrency ticker_currency\n",
      "1453    MAR           USD         MAR-USD\n",
      "********************\n",
      "[*********************100%***********************]  1 of 1 completed\n"
     ]
    },
    {
     "name": "stderr",
     "output_type": "stream",
     "text": [
      "C:\\Users\\david\\anaconda3\\envs\\svmmvo\\lib\\site-packages\\pandas_datareader\\tiingo.py:234: FutureWarning: In a future version of pandas all arguments of concat except for the argument 'objs' will be keyword-only.\n",
      "  return pd.concat(dfs, self._concat_axis)\n"
     ]
    },
    {
     "name": "stdout",
     "output_type": "stream",
     "text": [
      "Added 1010 stocks to the db\n",
      "     ticker priceCurrency ticker_currency\n",
      "1454    MAS           USD         MAS-USD\n",
      "********************\n",
      "[*********************100%***********************]  1 of 1 completed\n"
     ]
    },
    {
     "name": "stderr",
     "output_type": "stream",
     "text": [
      "C:\\Users\\david\\anaconda3\\envs\\svmmvo\\lib\\site-packages\\pandas_datareader\\tiingo.py:234: FutureWarning: In a future version of pandas all arguments of concat except for the argument 'objs' will be keyword-only.\n",
      "  return pd.concat(dfs, self._concat_axis)\n"
     ]
    },
    {
     "name": "stdout",
     "output_type": "stream",
     "text": [
      "Added 1011 stocks to the db\n",
      "     ticker priceCurrency ticker_currency\n",
      "1455    MAT           USD         MAT-USD\n",
      "********************\n",
      "[*********************100%***********************]  1 of 1 completed\n"
     ]
    },
    {
     "name": "stderr",
     "output_type": "stream",
     "text": [
      "C:\\Users\\david\\anaconda3\\envs\\svmmvo\\lib\\site-packages\\pandas_datareader\\tiingo.py:234: FutureWarning: In a future version of pandas all arguments of concat except for the argument 'objs' will be keyword-only.\n",
      "  return pd.concat(dfs, self._concat_axis)\n"
     ]
    },
    {
     "name": "stdout",
     "output_type": "stream",
     "text": [
      "Added 1012 stocks to the db\n",
      "     ticker priceCurrency ticker_currency\n",
      "1456   MAYS           USD        MAYS-USD\n",
      "********************\n",
      "[*********************100%***********************]  1 of 1 completed\n",
      "\n",
      "1 Failed download:\n",
      "- MB1: No timezone found, symbol may be delisted\n",
      "yahoo failed... len of df:  0\n",
      "tiingo failed... len of df:  0\n",
      "Added 1013 stocks to the db\n",
      "     ticker priceCurrency ticker_currency\n",
      "1457    MB1           USD         MB1-USD\n",
      "********************\n",
      "[*********************100%***********************]  1 of 1 completed\n"
     ]
    },
    {
     "name": "stderr",
     "output_type": "stream",
     "text": [
      "C:\\Users\\david\\anaconda3\\envs\\svmmvo\\lib\\site-packages\\pandas_datareader\\tiingo.py:234: FutureWarning: In a future version of pandas all arguments of concat except for the argument 'objs' will be keyword-only.\n",
      "  return pd.concat(dfs, self._concat_axis)\n"
     ]
    },
    {
     "name": "stdout",
     "output_type": "stream",
     "text": [
      "Added 1014 stocks to the db\n",
      "     ticker priceCurrency ticker_currency\n",
      "1458    MBI           USD         MBI-USD\n",
      "********************\n",
      "[*********************100%***********************]  1 of 1 completed\n",
      "\n",
      "1 Failed download:\n",
      "- MCA1: No timezone found, symbol may be delisted\n",
      "yahoo failed... len of df:  0\n",
      "tiingo failed... len of df:  0\n",
      "Added 1015 stocks to the db\n",
      "    ticker priceCurrency ticker_currency\n",
      "559   MCA1           USD        MCA1-USD\n",
      "********************\n",
      "[*********************100%***********************]  1 of 1 completed\n",
      "\n",
      "1 Failed download:\n",
      "- MCAWA1: No timezone found, symbol may be delisted\n",
      "yahoo failed... len of df:  0\n",
      "tiingo failed... len of df:  0\n",
      "Added 1016 stocks to the db\n",
      "     ticker priceCurrency ticker_currency\n",
      "714  MCAWA1           USD      MCAWA1-USD\n",
      "********************\n",
      "[*********************100%***********************]  1 of 1 completed\n"
     ]
    },
    {
     "name": "stderr",
     "output_type": "stream",
     "text": [
      "C:\\Users\\david\\anaconda3\\envs\\svmmvo\\lib\\site-packages\\pandas_datareader\\tiingo.py:234: FutureWarning: In a future version of pandas all arguments of concat except for the argument 'objs' will be keyword-only.\n",
      "  return pd.concat(dfs, self._concat_axis)\n"
     ]
    },
    {
     "name": "stdout",
     "output_type": "stream",
     "text": [
      "Added 1017 stocks to the db\n",
      "     ticker priceCurrency ticker_currency\n",
      "1459    MCD           USD         MCD-USD\n",
      "********************\n",
      "[*********************100%***********************]  1 of 1 completed\n"
     ]
    },
    {
     "name": "stderr",
     "output_type": "stream",
     "text": [
      "C:\\Users\\david\\anaconda3\\envs\\svmmvo\\lib\\site-packages\\pandas_datareader\\tiingo.py:234: FutureWarning: In a future version of pandas all arguments of concat except for the argument 'objs' will be keyword-only.\n",
      "  return pd.concat(dfs, self._concat_axis)\n"
     ]
    },
    {
     "name": "stdout",
     "output_type": "stream",
     "text": [
      "Added 1018 stocks to the db\n",
      "     ticker priceCurrency ticker_currency\n",
      "1460   MCHP           USD        MCHP-USD\n",
      "********************\n",
      "[*********************100%***********************]  1 of 1 completed\n",
      "\n",
      "1 Failed download:\n",
      "- MCIC1: No timezone found, symbol may be delisted\n",
      "yahoo failed... len of df:  0\n",
      "tiingo failed... len of df:  0\n",
      "Added 1019 stocks to the db\n",
      "    ticker priceCurrency ticker_currency\n",
      "235  MCIC1           USD       MCIC1-USD\n",
      "********************\n",
      "[*********************100%***********************]  1 of 1 completed\n"
     ]
    },
    {
     "name": "stderr",
     "output_type": "stream",
     "text": [
      "C:\\Users\\david\\anaconda3\\envs\\svmmvo\\lib\\site-packages\\pandas_datareader\\tiingo.py:234: FutureWarning: In a future version of pandas all arguments of concat except for the argument 'objs' will be keyword-only.\n",
      "  return pd.concat(dfs, self._concat_axis)\n"
     ]
    },
    {
     "name": "stdout",
     "output_type": "stream",
     "text": [
      "Added 1020 stocks to the db\n",
      "     ticker priceCurrency ticker_currency\n",
      "1461    MCK           USD         MCK-USD\n",
      "********************\n",
      "[*********************100%***********************]  1 of 1 completed\n",
      "\n",
      "1 Failed download:\n",
      "- MCK1: No timezone found, symbol may be delisted\n",
      "yahoo failed... len of df:  0\n",
      "tiingo failed... len of df:  0\n",
      "Added 1021 stocks to the db\n",
      "    ticker priceCurrency ticker_currency\n",
      "424   MCK1           USD        MCK1-USD\n",
      "********************\n",
      "[*********************100%***********************]  1 of 1 completed\n",
      "\n",
      "1 Failed download:\n",
      "- MCK2: No timezone found, symbol may be delisted\n",
      "yahoo failed... len of df:  0\n",
      "tiingo failed... len of df:  0\n",
      "Added 1022 stocks to the db\n",
      "    ticker priceCurrency ticker_currency\n",
      "797   MCK2           USD        MCK2-USD\n",
      "********************\n",
      "[*********************100%***********************]  1 of 1 completed\n"
     ]
    },
    {
     "name": "stderr",
     "output_type": "stream",
     "text": [
      "C:\\Users\\david\\anaconda3\\envs\\svmmvo\\lib\\site-packages\\pandas_datareader\\tiingo.py:234: FutureWarning: In a future version of pandas all arguments of concat except for the argument 'objs' will be keyword-only.\n",
      "  return pd.concat(dfs, self._concat_axis)\n"
     ]
    },
    {
     "name": "stdout",
     "output_type": "stream",
     "text": [
      "Added 1023 stocks to the db\n",
      "     ticker priceCurrency ticker_currency\n",
      "1462    MCO           USD         MCO-USD\n",
      "********************\n",
      "[*********************100%***********************]  1 of 1 completed\n",
      "\n",
      "1 Failed download:\n",
      "- MD1: No timezone found, symbol may be delisted\n",
      "yahoo failed... len of df:  0\n",
      "tiingo failed... len of df:  0\n",
      "Added 1024 stocks to the db\n",
      "    ticker priceCurrency ticker_currency\n",
      "253    MD1           USD         MD1-USD\n",
      "********************\n",
      "[*********************100%***********************]  1 of 1 completed\n",
      "\n",
      "1 Failed download:\n",
      "- MDC1: No timezone found, symbol may be delisted\n",
      "yahoo failed... len of df:  0\n",
      "tiingo failed... len of df:  0\n",
      "Added 1025 stocks to the db\n",
      "    ticker priceCurrency ticker_currency\n",
      "826   MDC1           USD        MDC1-USD\n",
      "********************\n",
      "[*********************100%***********************]  1 of 1 completed\n",
      "\n",
      "1 Failed download:\n",
      "- MDE1: No timezone found, symbol may be delisted\n",
      "yahoo failed... len of df:  0\n",
      "tiingo failed... len of df:  0\n",
      "Added 1026 stocks to the db\n",
      "    ticker priceCurrency ticker_currency\n",
      "712   MDE1           USD        MDE1-USD\n",
      "********************\n",
      "[*********************100%***********************]  1 of 1 completed\n"
     ]
    },
    {
     "name": "stderr",
     "output_type": "stream",
     "text": [
      "C:\\Users\\david\\anaconda3\\envs\\svmmvo\\lib\\site-packages\\pandas_datareader\\tiingo.py:234: FutureWarning: In a future version of pandas all arguments of concat except for the argument 'objs' will be keyword-only.\n",
      "  return pd.concat(dfs, self._concat_axis)\n"
     ]
    },
    {
     "name": "stdout",
     "output_type": "stream",
     "text": [
      "Added 1027 stocks to the db\n",
      "     ticker priceCurrency ticker_currency\n",
      "1463   MDLZ           USD        MDLZ-USD\n",
      "********************\n",
      "[*********************100%***********************]  1 of 1 completed\n"
     ]
    },
    {
     "name": "stderr",
     "output_type": "stream",
     "text": [
      "C:\\Users\\david\\anaconda3\\envs\\svmmvo\\lib\\site-packages\\pandas_datareader\\tiingo.py:234: FutureWarning: In a future version of pandas all arguments of concat except for the argument 'objs' will be keyword-only.\n",
      "  return pd.concat(dfs, self._concat_axis)\n"
     ]
    },
    {
     "name": "stdout",
     "output_type": "stream",
     "text": [
      "Added 1028 stocks to the db\n",
      "     ticker priceCurrency ticker_currency\n",
      "1464   MDNA           USD        MDNA-USD\n",
      "********************\n",
      "[*********************100%***********************]  1 of 1 completed\n"
     ]
    },
    {
     "name": "stderr",
     "output_type": "stream",
     "text": [
      "C:\\Users\\david\\anaconda3\\envs\\svmmvo\\lib\\site-packages\\pandas_datareader\\tiingo.py:234: FutureWarning: In a future version of pandas all arguments of concat except for the argument 'objs' will be keyword-only.\n",
      "  return pd.concat(dfs, self._concat_axis)\n"
     ]
    },
    {
     "name": "stdout",
     "output_type": "stream",
     "text": [
      "Added 1029 stocks to the db\n",
      "     ticker priceCurrency ticker_currency\n",
      "1465    MDT           USD         MDT-USD\n",
      "********************\n",
      "[*********************100%***********************]  1 of 1 completed\n",
      "\n",
      "1 Failed download:\n",
      "- MEA1: No timezone found, symbol may be delisted\n",
      "yahoo failed... len of df:  0\n",
      "tiingo failed... len of df:  0\n",
      "Added 1030 stocks to the db\n",
      "     ticker priceCurrency ticker_currency\n",
      "1466   MEA1           USD        MEA1-USD\n",
      "********************\n",
      "[*********************100%***********************]  1 of 1 completed\n",
      "\n",
      "1 Failed download:\n",
      "- MEDI1: No timezone found, symbol may be delisted\n",
      "yahoo failed... len of df:  0\n",
      "tiingo failed... len of df:  0\n",
      "Added 1031 stocks to the db\n",
      "    ticker priceCurrency ticker_currency\n",
      "209  MEDI1           USD       MEDI1-USD\n",
      "********************\n",
      "[*********************100%***********************]  1 of 1 completed\n",
      "\n",
      "1 Failed download:\n",
      "- MEE1: No timezone found, symbol may be delisted\n",
      "yahoo failed... len of df:  0\n",
      "tiingo failed... len of df:  0\n",
      "Added 1032 stocks to the db\n",
      "    ticker priceCurrency ticker_currency\n",
      "104   MEE1           USD        MEE1-USD\n",
      "********************\n",
      "[*********************100%***********************]  1 of 1 completed\n",
      "\n",
      "1 Failed download:\n",
      "- MEI1: No timezone found, symbol may be delisted\n",
      "yahoo failed... len of df:  0\n",
      "tiingo failed... len of df:  0\n",
      "Added 1033 stocks to the db\n",
      "    ticker priceCurrency ticker_currency\n",
      "442   MEI1           USD        MEI1-USD\n",
      "********************\n",
      "[*********************100%***********************]  1 of 1 completed\n",
      "\n",
      "1 Failed download:\n",
      "- MEL1: No timezone found, symbol may be delisted\n",
      "yahoo failed... len of df:  0\n",
      "tiingo failed... len of df:  0\n",
      "Added 1034 stocks to the db\n",
      "    ticker priceCurrency ticker_currency\n",
      "200   MEL1           USD        MEL1-USD\n",
      "********************\n",
      "[*********************100%***********************]  1 of 1 completed\n",
      "\n",
      "1 Failed download:\n",
      "- MER3: No timezone found, symbol may be delisted\n",
      "yahoo failed... len of df:  0\n",
      "tiingo failed... len of df:  0\n",
      "Added 1035 stocks to the db\n",
      "   ticker priceCurrency ticker_currency\n",
      "69   MER3           USD        MER3-USD\n",
      "********************\n",
      "[*********************100%***********************]  1 of 1 completed\n",
      "\n",
      "1 Failed download:\n",
      "- MERQ1: No timezone found, symbol may be delisted\n",
      "yahoo failed... len of df:  0\n",
      "tiingo failed... len of df:  0\n",
      "Added 1036 stocks to the db\n",
      "    ticker priceCurrency ticker_currency\n",
      "225  MERQ1           USD       MERQ1-USD\n",
      "********************\n",
      "[*********************100%***********************]  1 of 1 completed\n"
     ]
    },
    {
     "name": "stderr",
     "output_type": "stream",
     "text": [
      "C:\\Users\\david\\anaconda3\\envs\\svmmvo\\lib\\site-packages\\pandas_datareader\\tiingo.py:234: FutureWarning: In a future version of pandas all arguments of concat except for the argument 'objs' will be keyword-only.\n",
      "  return pd.concat(dfs, self._concat_axis)\n"
     ]
    },
    {
     "name": "stdout",
     "output_type": "stream",
     "text": [
      "Added 1037 stocks to the db\n",
      "     ticker priceCurrency ticker_currency\n",
      "1467    MET           USD         MET-USD\n",
      "********************\n",
      "[*********************100%***********************]  1 of 1 completed\n",
      "\n",
      "1 Failed download:\n",
      "- MET1: No timezone found, symbol may be delisted\n",
      "yahoo failed... len of df:  0\n",
      "tiingo failed... len of df:  0\n",
      "Added 1038 stocks to the db\n",
      "    ticker priceCurrency ticker_currency\n",
      "587   MET1           USD        MET1-USD\n",
      "********************\n",
      "[*********************100%***********************]  1 of 1 completed\n"
     ]
    },
    {
     "name": "stderr",
     "output_type": "stream",
     "text": [
      "C:\\Users\\david\\anaconda3\\envs\\svmmvo\\lib\\site-packages\\pandas_datareader\\tiingo.py:234: FutureWarning: In a future version of pandas all arguments of concat except for the argument 'objs' will be keyword-only.\n",
      "  return pd.concat(dfs, self._concat_axis)\n"
     ]
    },
    {
     "name": "stdout",
     "output_type": "stream",
     "text": [
      "Added 1039 stocks to the db\n",
      "     ticker priceCurrency ticker_currency\n",
      "1468   META           USD        META-USD\n",
      "********************\n",
      "[*********************100%***********************]  1 of 1 completed\n",
      "\n",
      "1 Failed download:\n",
      "- MF1: No timezone found, symbol may be delisted\n",
      "yahoo failed... len of df:  0\n",
      "tiingo failed... len of df:  0\n",
      "Added 1040 stocks to the db\n",
      "    ticker priceCurrency ticker_currency\n",
      "644    MF1           USD         MF1-USD\n",
      "********************\n",
      "[*********************100%***********************]  1 of 1 completed\n",
      "\n",
      "1 Failed download:\n",
      "- MFE1: No timezone found, symbol may be delisted\n",
      "yahoo failed... len of df:  0\n",
      "tiingo failed... len of df:  0\n",
      "Added 1041 stocks to the db\n",
      "    ticker priceCurrency ticker_currency\n",
      "166   MFE1           USD        MFE1-USD\n",
      "********************\n",
      "[*********************100%***********************]  1 of 1 completed\n"
     ]
    },
    {
     "name": "stderr",
     "output_type": "stream",
     "text": [
      "C:\\Users\\david\\anaconda3\\envs\\svmmvo\\lib\\site-packages\\pandas_datareader\\tiingo.py:234: FutureWarning: In a future version of pandas all arguments of concat except for the argument 'objs' will be keyword-only.\n",
      "  return pd.concat(dfs, self._concat_axis)\n"
     ]
    },
    {
     "name": "stdout",
     "output_type": "stream",
     "text": [
      "Added 1042 stocks to the db\n",
      "     ticker priceCurrency ticker_currency\n",
      "1469    MGM           USD         MGM-USD\n",
      "********************\n",
      "[*********************100%***********************]  1 of 1 completed\n",
      "\n",
      "1 Failed download:\n",
      "- MGM1: No timezone found, symbol may be delisted\n",
      "yahoo failed... len of df:  0\n",
      "tiingo failed... len of df:  0\n",
      "Added 1043 stocks to the db\n",
      "     ticker priceCurrency ticker_currency\n",
      "1470   MGM1           USD        MGM1-USD\n",
      "********************\n",
      "[*********************100%***********************]  1 of 1 completed\n",
      "\n",
      "1 Failed download:\n",
      "- MGR2: No timezone found, symbol may be delisted\n",
      "yahoo failed... len of df:  0\n",
      "tiingo failed... len of df:  0\n",
      "Added 1044 stocks to the db\n",
      "    ticker priceCurrency ticker_currency\n",
      "573   MGR2           USD        MGR2-USD\n",
      "********************\n",
      "[*********************100%***********************]  1 of 1 completed\n",
      "\n",
      "1 Failed download:\n",
      "- MHC1: No timezone found, symbol may be delisted\n",
      "yahoo failed... len of df:  0\n",
      "tiingo failed... len of df:  0\n",
      "Added 1045 stocks to the db\n",
      "    ticker priceCurrency ticker_currency\n",
      "457   MHC1           USD        MHC1-USD\n",
      "********************\n",
      "[*********************100%***********************]  1 of 1 completed\n"
     ]
    },
    {
     "name": "stderr",
     "output_type": "stream",
     "text": [
      "C:\\Users\\david\\anaconda3\\envs\\svmmvo\\lib\\site-packages\\pandas_datareader\\tiingo.py:234: FutureWarning: In a future version of pandas all arguments of concat except for the argument 'objs' will be keyword-only.\n",
      "  return pd.concat(dfs, self._concat_axis)\n"
     ]
    },
    {
     "name": "stdout",
     "output_type": "stream",
     "text": [
      "Added 1046 stocks to the db\n",
      "     ticker priceCurrency ticker_currency\n",
      "1471    MHK           USD         MHK-USD\n",
      "********************\n",
      "[*********************100%***********************]  1 of 1 completed\n",
      "\n",
      "1 Failed download:\n",
      "- MHS2: No timezone found, symbol may be delisted\n",
      "yahoo failed... len of df:  0\n",
      "tiingo failed... len of df:  0\n",
      "Added 1047 stocks to the db\n",
      "    ticker priceCurrency ticker_currency\n",
      "165   MHS2           USD        MHS2-USD\n",
      "********************\n",
      "[*********************100%***********************]  1 of 1 completed\n",
      "\n",
      "1 Failed download:\n",
      "- MHT1: No timezone found, symbol may be delisted\n",
      "yahoo failed... len of df:  0\n",
      "tiingo failed... len of df:  0\n",
      "Added 1048 stocks to the db\n",
      "    ticker priceCurrency ticker_currency\n",
      "579   MHT1           USD        MHT1-USD\n",
      "********************\n",
      "[*********************100%***********************]  1 of 1 completed\n",
      "\n",
      "1 Failed download:\n",
      "- MI2: No timezone found, symbol may be delisted\n",
      "yahoo failed... len of df:  0\n",
      "tiingo failed... len of df:  0\n",
      "Added 1049 stocks to the db\n",
      "    ticker priceCurrency ticker_currency\n",
      "792    MI2           USD         MI2-USD\n",
      "********************\n",
      "[*********************100%***********************]  1 of 1 completed\n",
      "\n",
      "1 Failed download:\n",
      "- MI4: No timezone found, symbol may be delisted\n",
      "yahoo failed... len of df:  0\n",
      "tiingo failed... len of df:  0\n",
      "Added 1050 stocks to the db\n",
      "    ticker priceCurrency ticker_currency\n",
      "144    MI4           USD         MI4-USD\n",
      "********************\n",
      "[*********************100%***********************]  1 of 1 completed\n",
      "\n",
      "1 Failed download:\n",
      "- MII1: No timezone found, symbol may be delisted\n",
      "yahoo failed... len of df:  0\n",
      "tiingo failed... len of df:  0\n",
      "Added 1051 stocks to the db\n",
      "     ticker priceCurrency ticker_currency\n",
      "1472   MII1           USD        MII1-USD\n",
      "********************\n",
      "[*********************100%***********************]  1 of 1 completed\n",
      "\n",
      "1 Failed download:\n",
      "- MII2: No timezone found, symbol may be delisted\n",
      "yahoo failed... len of df:  0\n",
      "tiingo failed... len of df:  0\n",
      "Added 1052 stocks to the db\n",
      "    ticker priceCurrency ticker_currency\n",
      "338   MII2           USD        MII2-USD\n",
      "********************\n",
      "[*********************100%***********************]  1 of 1 completed\n",
      "\n",
      "1 Failed download:\n",
      "- MIL4: No timezone found, symbol may be delisted\n",
      "yahoo failed... len of df:  0\n",
      "tiingo failed... len of df:  0\n",
      "Added 1053 stocks to the db\n",
      "    ticker priceCurrency ticker_currency\n",
      "123   MIL4           USD        MIL4-USD\n",
      "********************\n",
      "[*********************100%***********************]  1 of 1 completed\n",
      "\n",
      "1 Failed download:\n",
      "- MIR1: No timezone found, symbol may be delisted\n",
      "yahoo failed... len of df:  0\n",
      "tiingo failed... len of df:  0\n",
      "Added 1054 stocks to the db\n",
      "     ticker priceCurrency ticker_currency\n",
      "1473   MIR1           USD        MIR1-USD\n",
      "********************\n",
      "[*********************100%***********************]  1 of 1 completed\n",
      "\n",
      "1 Failed download:\n",
      "- MIRKQ1: No timezone found, symbol may be delisted\n",
      "yahoo failed... len of df:  0\n",
      "tiingo failed... len of df:  0\n",
      "Added 1055 stocks to the db\n",
      "     ticker priceCurrency ticker_currency\n",
      "273  MIRKQ1           USD      MIRKQ1-USD\n",
      "********************\n",
      "[*********************100%***********************]  1 of 1 completed\n",
      "\n",
      "1 Failed download:\n",
      "- MIS2: No timezone found, symbol may be delisted\n",
      "yahoo failed... len of df:  0\n",
      "tiingo failed... len of df:  0\n",
      "Added 1056 stocks to the db\n",
      "    ticker priceCurrency ticker_currency\n",
      "737   MIS2           USD        MIS2-USD\n",
      "********************\n",
      "[*********************100%***********************]  1 of 1 completed\n",
      "\n",
      "1 Failed download:\n",
      "- MJN2: No timezone found, symbol may be delisted\n",
      "yahoo failed... len of df:  0\n",
      "tiingo failed... len of df:  0\n",
      "Added 1057 stocks to the db\n",
      "   ticker priceCurrency ticker_currency\n",
      "77   MJN2           USD        MJN2-USD\n",
      "********************\n",
      "[*********************100%***********************]  1 of 1 completed\n"
     ]
    },
    {
     "name": "stderr",
     "output_type": "stream",
     "text": [
      "C:\\Users\\david\\anaconda3\\envs\\svmmvo\\lib\\site-packages\\pandas_datareader\\tiingo.py:234: FutureWarning: In a future version of pandas all arguments of concat except for the argument 'objs' will be keyword-only.\n",
      "  return pd.concat(dfs, self._concat_axis)\n"
     ]
    },
    {
     "name": "stdout",
     "output_type": "stream",
     "text": [
      "Added 1058 stocks to the db\n",
      "     ticker priceCurrency ticker_currency\n",
      "1474    MKC           USD         MKC-USD\n",
      "********************\n",
      "[*********************100%***********************]  1 of 1 completed\n",
      "\n",
      "1 Failed download:\n",
      "- MKC1: No timezone found, symbol may be delisted\n",
      "yahoo failed... len of df:  0\n",
      "tiingo failed... len of df:  0\n",
      "Added 1059 stocks to the db\n",
      "    ticker priceCurrency ticker_currency\n",
      "531   MKC1           USD        MKC1-USD\n",
      "********************\n",
      "[*********************100%***********************]  1 of 1 completed\n",
      "\n",
      "1 Failed download:\n",
      "- MKG1: No timezone found, symbol may be delisted\n",
      "yahoo failed... len of df:  0\n",
      "tiingo failed... len of df:  0\n",
      "Added 1060 stocks to the db\n",
      "    ticker priceCurrency ticker_currency\n",
      "289   MKG1           USD        MKG1-USD\n",
      "********************\n",
      "[*********************100%***********************]  1 of 1 completed\n"
     ]
    },
    {
     "name": "stderr",
     "output_type": "stream",
     "text": [
      "C:\\Users\\david\\anaconda3\\envs\\svmmvo\\lib\\site-packages\\pandas_datareader\\tiingo.py:234: FutureWarning: In a future version of pandas all arguments of concat except for the argument 'objs' will be keyword-only.\n",
      "  return pd.concat(dfs, self._concat_axis)\n"
     ]
    },
    {
     "name": "stdout",
     "output_type": "stream",
     "text": [
      "Added 1061 stocks to the db\n",
      "     ticker priceCurrency ticker_currency\n",
      "1475   MKTX           USD        MKTX-USD\n",
      "********************\n",
      "[*********************100%***********************]  1 of 1 completed\n",
      "\n",
      "1 Failed download:\n",
      "- ML1: No timezone found, symbol may be delisted\n",
      "yahoo failed... len of df:  0\n",
      "tiingo failed... len of df:  0\n",
      "Added 1062 stocks to the db\n",
      "    ticker priceCurrency ticker_currency\n",
      "525    ML1           USD         ML1-USD\n",
      "********************\n",
      "[*********************100%***********************]  1 of 1 completed\n",
      "\n",
      "1 Failed download:\n",
      "- ML2: No timezone found, symbol may be delisted\n",
      "yahoo failed... len of df:  0\n",
      "tiingo failed... len of df:  0\n",
      "Added 1063 stocks to the db\n",
      "    ticker priceCurrency ticker_currency\n",
      "863    ML2           USD         ML2-USD\n",
      "********************\n",
      "[*********************100%***********************]  1 of 1 completed\n",
      "\n",
      "1 Failed download:\n",
      "- MLL1: No timezone found, symbol may be delisted\n",
      "yahoo failed... len of df:  0\n",
      "tiingo failed... len of df:  0\n",
      "Added 1064 stocks to the db\n",
      "    ticker priceCurrency ticker_currency\n",
      "512   MLL1           USD        MLL1-USD\n",
      "********************\n",
      "[*********************100%***********************]  1 of 1 completed\n",
      "\n",
      "1 Failed download:\n",
      "- MLL2: No timezone found, symbol may be delisted\n",
      "yahoo failed... len of df:  0\n",
      "tiingo failed... len of df:  0\n",
      "Added 1065 stocks to the db\n",
      "    ticker priceCurrency ticker_currency\n",
      "670   MLL2           USD        MLL2-USD\n",
      "********************\n",
      "[*********************100%***********************]  1 of 1 completed\n"
     ]
    },
    {
     "name": "stderr",
     "output_type": "stream",
     "text": [
      "C:\\Users\\david\\anaconda3\\envs\\svmmvo\\lib\\site-packages\\pandas_datareader\\tiingo.py:234: FutureWarning: In a future version of pandas all arguments of concat except for the argument 'objs' will be keyword-only.\n",
      "  return pd.concat(dfs, self._concat_axis)\n"
     ]
    },
    {
     "name": "stdout",
     "output_type": "stream",
     "text": [
      "Added 1066 stocks to the db\n",
      "     ticker priceCurrency ticker_currency\n",
      "1476    MLM           USD         MLM-USD\n",
      "********************\n",
      "[*********************100%***********************]  1 of 1 completed\n",
      "\n",
      "1 Failed download:\n",
      "- MLN2: No timezone found, symbol may be delisted\n",
      "yahoo failed... len of df:  0\n",
      "tiingo failed... len of df:  0\n",
      "Added 1067 stocks to the db\n",
      "    ticker priceCurrency ticker_currency\n",
      "786   MLN2           USD        MLN2-USD\n",
      "********************\n",
      "[*********************100%***********************]  1 of 1 completed\n",
      "\n",
      "1 Failed download:\n",
      "- MMA1: No timezone found, symbol may be delisted\n",
      "yahoo failed... len of df:  0\n",
      "tiingo failed... len of df:  0\n",
      "Added 1068 stocks to the db\n",
      "    ticker priceCurrency ticker_currency\n",
      "951   MMA1           USD        MMA1-USD\n",
      "********************\n",
      "[*********************100%***********************]  1 of 1 completed\n"
     ]
    },
    {
     "name": "stderr",
     "output_type": "stream",
     "text": [
      "C:\\Users\\david\\anaconda3\\envs\\svmmvo\\lib\\site-packages\\pandas_datareader\\tiingo.py:234: FutureWarning: In a future version of pandas all arguments of concat except for the argument 'objs' will be keyword-only.\n",
      "  return pd.concat(dfs, self._concat_axis)\n"
     ]
    },
    {
     "name": "stdout",
     "output_type": "stream",
     "text": [
      "Added 1069 stocks to the db\n",
      "     ticker priceCurrency ticker_currency\n",
      "1477    MMC           USD         MMC-USD\n",
      "********************\n",
      "[*********************100%***********************]  1 of 1 completed\n",
      "\n",
      "1 Failed download:\n",
      "- MMI3: No timezone found, symbol may be delisted\n",
      "yahoo failed... len of df:  0\n",
      "tiingo failed... len of df:  0\n",
      "Added 1070 stocks to the db\n",
      "    ticker priceCurrency ticker_currency\n",
      "252   MMI3           USD        MMI3-USD\n",
      "********************\n",
      "[*********************100%***********************]  1 of 1 completed\n",
      "\n",
      "1 Failed download:\n",
      "- MML2: No timezone found, symbol may be delisted\n",
      "yahoo failed... len of df:  0\n",
      "tiingo failed... len of df:  0\n",
      "Added 1071 stocks to the db\n",
      "    ticker priceCurrency ticker_currency\n",
      "984   MML2           USD        MML2-USD\n",
      "********************\n",
      "[*********************100%***********************]  1 of 1 completed\n"
     ]
    },
    {
     "name": "stderr",
     "output_type": "stream",
     "text": [
      "C:\\Users\\david\\anaconda3\\envs\\svmmvo\\lib\\site-packages\\pandas_datareader\\tiingo.py:234: FutureWarning: In a future version of pandas all arguments of concat except for the argument 'objs' will be keyword-only.\n",
      "  return pd.concat(dfs, self._concat_axis)\n"
     ]
    },
    {
     "name": "stdout",
     "output_type": "stream",
     "text": [
      "Added 1072 stocks to the db\n",
      "     ticker priceCurrency ticker_currency\n",
      "1478    MMM           USD         MMM-USD\n",
      "********************\n",
      "[*********************100%***********************]  1 of 1 completed\n",
      "\n",
      "1 Failed download:\n",
      "- MMR1: No timezone found, symbol may be delisted\n",
      "yahoo failed... len of df:  0\n",
      "tiingo failed... len of df:  0\n",
      "Added 1073 stocks to the db\n",
      "    ticker priceCurrency ticker_currency\n",
      "583   MMR1           USD        MMR1-USD\n",
      "********************\n",
      "[*********************100%***********************]  1 of 1 completed\n",
      "\n",
      "1 Failed download:\n",
      "- MMX1: No timezone found, symbol may be delisted\n",
      "yahoo failed... len of df:  0\n",
      "tiingo failed... len of df:  0\n",
      "Added 1074 stocks to the db\n",
      "    ticker priceCurrency ticker_currency\n",
      "757   MMX1           USD        MMX1-USD\n",
      "********************\n",
      "[*********************100%***********************]  1 of 1 completed\n",
      "\n",
      "1 Failed download:\n",
      "- MNC1: No timezone found, symbol may be delisted\n",
      "yahoo failed... len of df:  0\n",
      "tiingo failed... len of df:  0\n",
      "Added 1075 stocks to the db\n",
      "    ticker priceCurrency ticker_currency\n",
      "507   MNC1           USD        MNC1-USD\n",
      "********************\n",
      "[*********************100%***********************]  1 of 1 completed\n",
      "\n",
      "1 Failed download:\n",
      "- MNK3: No timezone found, symbol may be delisted\n",
      "yahoo failed... len of df:  0\n",
      "tiingo failed... len of df:  0\n",
      "Added 1076 stocks to the db\n",
      "    ticker priceCurrency ticker_currency\n",
      "990   MNK3           USD        MNK3-USD\n",
      "********************\n",
      "[*********************100%***********************]  1 of 1 completed\n",
      "\n",
      "1 Failed download:\n",
      "- MNR1: No timezone found, symbol may be delisted\n",
      "yahoo failed... len of df:  0\n",
      "tiingo failed... len of df:  0\n",
      "Added 1077 stocks to the db\n",
      "     ticker priceCurrency ticker_currency\n",
      "1479   MNR1           USD        MNR1-USD\n",
      "********************\n",
      "[*********************100%***********************]  1 of 1 completed\n"
     ]
    },
    {
     "name": "stderr",
     "output_type": "stream",
     "text": [
      "C:\\Users\\david\\anaconda3\\envs\\svmmvo\\lib\\site-packages\\pandas_datareader\\tiingo.py:234: FutureWarning: In a future version of pandas all arguments of concat except for the argument 'objs' will be keyword-only.\n",
      "  return pd.concat(dfs, self._concat_axis)\n"
     ]
    },
    {
     "name": "stdout",
     "output_type": "stream",
     "text": [
      "Added 1078 stocks to the db\n",
      "     ticker priceCurrency ticker_currency\n",
      "1480   MNST           USD        MNST-USD\n",
      "********************\n",
      "[*********************100%***********************]  1 of 1 completed\n",
      "\n",
      "1 Failed download:\n",
      "- MNU2: No timezone found, symbol may be delisted\n",
      "yahoo failed... len of df:  0\n",
      "tiingo failed... len of df:  0\n",
      "Added 1079 stocks to the db\n",
      "    ticker priceCurrency ticker_currency\n",
      "895   MNU2           USD        MNU2-USD\n",
      "********************\n",
      "[*********************100%***********************]  1 of 1 completed\n"
     ]
    },
    {
     "name": "stderr",
     "output_type": "stream",
     "text": [
      "C:\\Users\\david\\anaconda3\\envs\\svmmvo\\lib\\site-packages\\pandas_datareader\\tiingo.py:234: FutureWarning: In a future version of pandas all arguments of concat except for the argument 'objs' will be keyword-only.\n",
      "  return pd.concat(dfs, self._concat_axis)\n"
     ]
    },
    {
     "name": "stdout",
     "output_type": "stream",
     "text": [
      "Added 1080 stocks to the db\n",
      "     ticker priceCurrency ticker_currency\n",
      "1481     MO           USD          MO-USD\n",
      "********************\n",
      "[*********************100%***********************]  1 of 1 completed\n",
      "\n",
      "1 Failed download:\n",
      "- MOB1: No timezone found, symbol may be delisted\n",
      "yahoo failed... len of df:  0\n",
      "tiingo failed... len of df:  0\n",
      "Added 1081 stocks to the db\n",
      "    ticker priceCurrency ticker_currency\n",
      "196   MOB1           USD        MOB1-USD\n",
      "********************\n",
      "[*********************100%***********************]  1 of 1 completed\n"
     ]
    },
    {
     "name": "stderr",
     "output_type": "stream",
     "text": [
      "C:\\Users\\david\\anaconda3\\envs\\svmmvo\\lib\\site-packages\\pandas_datareader\\tiingo.py:234: FutureWarning: In a future version of pandas all arguments of concat except for the argument 'objs' will be keyword-only.\n",
      "  return pd.concat(dfs, self._concat_axis)\n"
     ]
    },
    {
     "name": "stdout",
     "output_type": "stream",
     "text": [
      "Added 1082 stocks to the db\n",
      "     ticker priceCurrency ticker_currency\n",
      "1482    MOH           USD         MOH-USD\n",
      "********************\n",
      "[*********************100%***********************]  1 of 1 completed\n",
      "\n",
      "1 Failed download:\n",
      "- MOH1: No timezone found, symbol may be delisted\n",
      "yahoo failed... len of df:  0\n",
      "tiingo failed... len of df:  0\n",
      "Added 1083 stocks to the db\n",
      "    ticker priceCurrency ticker_currency\n",
      "599   MOH1           USD        MOH1-USD\n",
      "********************\n",
      "[*********************100%***********************]  1 of 1 completed\n",
      "\n",
      "1 Failed download:\n",
      "- MOLX1: No timezone found, symbol may be delisted\n",
      "yahoo failed... len of df:  0\n",
      "tiingo failed... len of df:  0\n",
      "Added 1084 stocks to the db\n",
      "    ticker priceCurrency ticker_currency\n",
      "103  MOLX1           USD       MOLX1-USD\n",
      "********************\n",
      "[*********************100%***********************]  1 of 1 completed\n",
      "\n",
      "1 Failed download:\n",
      "- MON3: No timezone found, symbol may be delisted\n",
      "yahoo failed... len of df:  0\n",
      "tiingo failed... len of df:  0\n",
      "Added 1085 stocks to the db\n",
      "   ticker priceCurrency ticker_currency\n",
      "54   MON3           USD        MON3-USD\n",
      "********************\n",
      "[*********************100%***********************]  1 of 1 completed\n"
     ]
    },
    {
     "name": "stderr",
     "output_type": "stream",
     "text": [
      "C:\\Users\\david\\anaconda3\\envs\\svmmvo\\lib\\site-packages\\pandas_datareader\\tiingo.py:234: FutureWarning: In a future version of pandas all arguments of concat except for the argument 'objs' will be keyword-only.\n",
      "  return pd.concat(dfs, self._concat_axis)\n"
     ]
    },
    {
     "name": "stdout",
     "output_type": "stream",
     "text": [
      "Added 1086 stocks to the db\n",
      "     ticker priceCurrency ticker_currency\n",
      "1483    MOS           USD         MOS-USD\n",
      "********************\n",
      "[*********************100%***********************]  1 of 1 completed\n"
     ]
    },
    {
     "name": "stderr",
     "output_type": "stream",
     "text": [
      "C:\\Users\\david\\anaconda3\\envs\\svmmvo\\lib\\site-packages\\pandas_datareader\\tiingo.py:234: FutureWarning: In a future version of pandas all arguments of concat except for the argument 'objs' will be keyword-only.\n",
      "  return pd.concat(dfs, self._concat_axis)\n"
     ]
    },
    {
     "name": "stdout",
     "output_type": "stream",
     "text": [
      "Added 1087 stocks to the db\n",
      "     ticker priceCurrency ticker_currency\n",
      "1484    MPC           USD         MPC-USD\n",
      "********************\n",
      "[*********************100%***********************]  1 of 1 completed\n",
      "\n",
      "1 Failed download:\n",
      "- MPH1: No timezone found, symbol may be delisted\n",
      "yahoo failed... len of df:  0\n",
      "tiingo failed... len of df:  0\n",
      "Added 1088 stocks to the db\n",
      "    ticker priceCurrency ticker_currency\n",
      "592   MPH1           USD        MPH1-USD\n",
      "********************\n",
      "[*********************100%***********************]  1 of 1 completed\n"
     ]
    },
    {
     "name": "stderr",
     "output_type": "stream",
     "text": [
      "C:\\Users\\david\\anaconda3\\envs\\svmmvo\\lib\\site-packages\\pandas_datareader\\tiingo.py:234: FutureWarning: In a future version of pandas all arguments of concat except for the argument 'objs' will be keyword-only.\n",
      "  return pd.concat(dfs, self._concat_axis)\n"
     ]
    },
    {
     "name": "stdout",
     "output_type": "stream",
     "text": [
      "Added 1089 stocks to the db\n",
      "     ticker priceCurrency ticker_currency\n",
      "1485   MPWR           USD        MPWR-USD\n",
      "********************\n",
      "[*********************100%***********************]  1 of 1 completed\n",
      "\n",
      "1 Failed download:\n",
      "- MQ2: No timezone found, symbol may be delisted\n",
      "yahoo failed... len of df:  0\n",
      "tiingo failed... len of df:  0\n",
      "Added 1090 stocks to the db\n",
      "    ticker priceCurrency ticker_currency\n",
      "447    MQ2           USD         MQ2-USD\n",
      "********************\n",
      "[*********************100%***********************]  1 of 1 completed\n",
      "\n",
      "1 Failed download:\n",
      "- MQC2: No timezone found, symbol may be delisted\n",
      "yahoo failed... len of df:  0\n",
      "tiingo failed... len of df:  0\n",
      "Added 1091 stocks to the db\n",
      "    ticker priceCurrency ticker_currency\n",
      "753   MQC2           USD        MQC2-USD\n",
      "********************\n",
      "[*********************100%***********************]  1 of 1 completed\n",
      "\n",
      "1 Failed download:\n",
      "- MRA3: No timezone found, symbol may be delisted\n",
      "yahoo failed... len of df:  0\n",
      "tiingo failed... len of df:  0\n",
      "Added 1092 stocks to the db\n",
      "    ticker priceCurrency ticker_currency\n",
      "956   MRA3           USD        MRA3-USD\n",
      "********************\n",
      "[*********************100%***********************]  1 of 1 completed\n"
     ]
    },
    {
     "name": "stderr",
     "output_type": "stream",
     "text": [
      "C:\\Users\\david\\anaconda3\\envs\\svmmvo\\lib\\site-packages\\pandas_datareader\\tiingo.py:234: FutureWarning: In a future version of pandas all arguments of concat except for the argument 'objs' will be keyword-only.\n",
      "  return pd.concat(dfs, self._concat_axis)\n"
     ]
    },
    {
     "name": "stdout",
     "output_type": "stream",
     "text": [
      "Added 1093 stocks to the db\n",
      "     ticker priceCurrency ticker_currency\n",
      "1486    MRK           USD         MRK-USD\n",
      "********************\n",
      "[*********************100%***********************]  1 of 1 completed\n",
      "\n",
      "1 Failed download:\n",
      "- MRNKQ1: No timezone found, symbol may be delisted\n",
      "yahoo failed... len of df:  0\n",
      "tiingo failed... len of df:  0\n",
      "Added 1094 stocks to the db\n",
      "     ticker priceCurrency ticker_currency\n",
      "591  MRNKQ1           USD      MRNKQ1-USD\n",
      "********************\n",
      "[*********************100%***********************]  1 of 1 completed\n"
     ]
    },
    {
     "name": "stderr",
     "output_type": "stream",
     "text": [
      "C:\\Users\\david\\anaconda3\\envs\\svmmvo\\lib\\site-packages\\pandas_datareader\\tiingo.py:234: FutureWarning: In a future version of pandas all arguments of concat except for the argument 'objs' will be keyword-only.\n",
      "  return pd.concat(dfs, self._concat_axis)\n"
     ]
    },
    {
     "name": "stdout",
     "output_type": "stream",
     "text": [
      "Added 1095 stocks to the db\n",
      "     ticker priceCurrency ticker_currency\n",
      "1487    MRO           USD         MRO-USD\n",
      "********************\n",
      "[*********************100%***********************]  1 of 1 completed\n",
      "\n",
      "1 Failed download:\n",
      "- MRW1: No timezone found, symbol may be delisted\n",
      "yahoo failed... len of df:  0\n",
      "tiingo failed... len of df:  0\n",
      "Added 1096 stocks to the db\n",
      "    ticker priceCurrency ticker_currency\n",
      "785   MRW1           USD        MRW1-USD\n",
      "********************\n",
      "[*********************100%***********************]  1 of 1 completed\n"
     ]
    },
    {
     "name": "stderr",
     "output_type": "stream",
     "text": [
      "C:\\Users\\david\\anaconda3\\envs\\svmmvo\\lib\\site-packages\\pandas_datareader\\tiingo.py:234: FutureWarning: In a future version of pandas all arguments of concat except for the argument 'objs' will be keyword-only.\n",
      "  return pd.concat(dfs, self._concat_axis)\n"
     ]
    },
    {
     "name": "stdout",
     "output_type": "stream",
     "text": [
      "Added 1097 stocks to the db\n",
      "     ticker priceCurrency ticker_currency\n",
      "1488     MS           USD          MS-USD\n",
      "********************\n",
      "[*********************100%***********************]  1 of 1 completed\n",
      "\n",
      "1 Failed download:\n",
      "- MS1: No timezone found, symbol may be delisted\n",
      "yahoo failed... len of df:  0\n",
      "tiingo failed... len of df:  0\n",
      "Added 1098 stocks to the db\n",
      "    ticker priceCurrency ticker_currency\n",
      "329    MS1           USD         MS1-USD\n",
      "********************\n",
      "[*********************100%***********************]  1 of 1 completed\n",
      "\n",
      "1 Failed download:\n",
      "- MSA2: No timezone found, symbol may be delisted\n",
      "yahoo failed... len of df:  0\n",
      "tiingo failed... len of df:  0\n",
      "Added 1099 stocks to the db\n",
      "    ticker priceCurrency ticker_currency\n",
      "935   MSA2           USD        MSA2-USD\n",
      "********************\n",
      "[*********************100%***********************]  1 of 1 completed\n"
     ]
    },
    {
     "name": "stderr",
     "output_type": "stream",
     "text": [
      "C:\\Users\\david\\anaconda3\\envs\\svmmvo\\lib\\site-packages\\pandas_datareader\\tiingo.py:234: FutureWarning: In a future version of pandas all arguments of concat except for the argument 'objs' will be keyword-only.\n",
      "  return pd.concat(dfs, self._concat_axis)\n"
     ]
    },
    {
     "name": "stdout",
     "output_type": "stream",
     "text": [
      "Added 1100 stocks to the db\n",
      "     ticker priceCurrency ticker_currency\n",
      "1489   MSCI           USD        MSCI-USD\n",
      "********************\n",
      "[*********************100%***********************]  1 of 1 completed\n"
     ]
    },
    {
     "name": "stderr",
     "output_type": "stream",
     "text": [
      "C:\\Users\\david\\anaconda3\\envs\\svmmvo\\lib\\site-packages\\pandas_datareader\\tiingo.py:234: FutureWarning: In a future version of pandas all arguments of concat except for the argument 'objs' will be keyword-only.\n",
      "  return pd.concat(dfs, self._concat_axis)\n"
     ]
    },
    {
     "name": "stdout",
     "output_type": "stream",
     "text": [
      "Added 1101 stocks to the db\n",
      "     ticker priceCurrency ticker_currency\n",
      "1490   MSFT           USD        MSFT-USD\n",
      "********************\n",
      "[*********************100%***********************]  1 of 1 completed\n"
     ]
    },
    {
     "name": "stderr",
     "output_type": "stream",
     "text": [
      "C:\\Users\\david\\anaconda3\\envs\\svmmvo\\lib\\site-packages\\pandas_datareader\\tiingo.py:234: FutureWarning: In a future version of pandas all arguments of concat except for the argument 'objs' will be keyword-only.\n",
      "  return pd.concat(dfs, self._concat_axis)\n"
     ]
    },
    {
     "name": "stdout",
     "output_type": "stream",
     "text": [
      "Added 1102 stocks to the db\n",
      "     ticker priceCurrency ticker_currency\n",
      "1491    MSI           USD         MSI-USD\n",
      "********************\n",
      "[*********************100%***********************]  1 of 1 completed\n",
      "\n",
      "1 Failed download:\n",
      "- MST1: No timezone found, symbol may be delisted\n",
      "yahoo failed... len of df:  0\n",
      "tiingo failed... len of df:  0\n",
      "Added 1103 stocks to the db\n",
      "    ticker priceCurrency ticker_currency\n",
      "250   MST1           USD        MST1-USD\n",
      "********************\n",
      "[*********************100%***********************]  1 of 1 completed\n"
     ]
    },
    {
     "name": "stderr",
     "output_type": "stream",
     "text": [
      "C:\\Users\\david\\anaconda3\\envs\\svmmvo\\lib\\site-packages\\pandas_datareader\\tiingo.py:234: FutureWarning: In a future version of pandas all arguments of concat except for the argument 'objs' will be keyword-only.\n",
      "  return pd.concat(dfs, self._concat_axis)\n"
     ]
    },
    {
     "name": "stdout",
     "output_type": "stream",
     "text": [
      "Added 1104 stocks to the db\n",
      "     ticker priceCurrency ticker_currency\n",
      "1492    MTB           USD         MTB-USD\n",
      "********************\n",
      "[*********************100%***********************]  1 of 1 completed\n"
     ]
    },
    {
     "name": "stderr",
     "output_type": "stream",
     "text": [
      "C:\\Users\\david\\anaconda3\\envs\\svmmvo\\lib\\site-packages\\pandas_datareader\\tiingo.py:234: FutureWarning: In a future version of pandas all arguments of concat except for the argument 'objs' will be keyword-only.\n",
      "  return pd.concat(dfs, self._concat_axis)\n"
     ]
    },
    {
     "name": "stdout",
     "output_type": "stream",
     "text": [
      "Added 1105 stocks to the db\n",
      "     ticker priceCurrency ticker_currency\n",
      "1493   MTCH           USD        MTCH-USD\n",
      "********************\n",
      "[*********************100%***********************]  1 of 1 completed\n"
     ]
    },
    {
     "name": "stderr",
     "output_type": "stream",
     "text": [
      "C:\\Users\\david\\anaconda3\\envs\\svmmvo\\lib\\site-packages\\pandas_datareader\\tiingo.py:234: FutureWarning: In a future version of pandas all arguments of concat except for the argument 'objs' will be keyword-only.\n",
      "  return pd.concat(dfs, self._concat_axis)\n"
     ]
    },
    {
     "name": "stdout",
     "output_type": "stream",
     "text": [
      "Added 1106 stocks to the db\n",
      "     ticker priceCurrency ticker_currency\n",
      "1494    MTD           USD         MTD-USD\n",
      "********************\n",
      "[*********************100%***********************]  1 of 1 completed\n"
     ]
    },
    {
     "name": "stderr",
     "output_type": "stream",
     "text": [
      "C:\\Users\\david\\anaconda3\\envs\\svmmvo\\lib\\site-packages\\pandas_datareader\\tiingo.py:234: FutureWarning: In a future version of pandas all arguments of concat except for the argument 'objs' will be keyword-only.\n",
      "  return pd.concat(dfs, self._concat_axis)\n"
     ]
    },
    {
     "name": "stdout",
     "output_type": "stream",
     "text": [
      "Added 1107 stocks to the db\n",
      "     ticker priceCurrency ticker_currency\n",
      "1495    MTG           USD         MTG-USD\n",
      "********************\n",
      "[*********************100%***********************]  1 of 1 completed\n",
      "\n",
      "1 Failed download:\n",
      "- MTI2: No timezone found, symbol may be delisted\n",
      "yahoo failed... len of df:  0\n",
      "tiingo failed... len of df:  0\n",
      "Added 1108 stocks to the db\n",
      "    ticker priceCurrency ticker_currency\n",
      "905   MTI2           USD        MTI2-USD\n",
      "********************\n",
      "[*********************100%***********************]  1 of 1 completed\n",
      "\n",
      "1 Failed download:\n",
      "- MTL1: No timezone found, symbol may be delisted\n",
      "yahoo failed... len of df:  0\n",
      "tiingo failed... len of df:  0\n",
      "Added 1109 stocks to the db\n",
      "     ticker priceCurrency ticker_currency\n",
      "1496   MTL1           USD        MTL1-USD\n",
      "********************\n",
      "[*********************100%***********************]  1 of 1 completed\n",
      "\n",
      "1 Failed download:\n",
      "- MTLQQ1: No timezone found, symbol may be delisted\n",
      "yahoo failed... len of df:  0\n",
      "tiingo failed... len of df:  0\n",
      "Added 1110 stocks to the db\n",
      "    ticker priceCurrency ticker_currency\n",
      "72  MTLQQ1           USD      MTLQQ1-USD\n",
      "********************\n",
      "[*********************100%***********************]  1 of 1 completed\n",
      "\n",
      "1 Failed download:\n",
      "- MTM2: No timezone found, symbol may be delisted\n",
      "yahoo failed... len of df:  0\n",
      "tiingo failed... len of df:  0\n",
      "Added 1111 stocks to the db\n",
      "    ticker priceCurrency ticker_currency\n",
      "977   MTM2           USD        MTM2-USD\n",
      "********************\n",
      "[*********************100%***********************]  1 of 1 completed\n"
     ]
    },
    {
     "name": "stderr",
     "output_type": "stream",
     "text": [
      "C:\\Users\\david\\anaconda3\\envs\\svmmvo\\lib\\site-packages\\pandas_datareader\\tiingo.py:234: FutureWarning: In a future version of pandas all arguments of concat except for the argument 'objs' will be keyword-only.\n",
      "  return pd.concat(dfs, self._concat_axis)\n"
     ]
    },
    {
     "name": "stdout",
     "output_type": "stream",
     "text": [
      "Added 1112 stocks to the db\n",
      "     ticker priceCurrency ticker_currency\n",
      "1497    MTW           USD         MTW-USD\n",
      "********************\n",
      "[*********************100%***********************]  1 of 1 completed\n",
      "\n",
      "1 Failed download:\n",
      "- MTYRF1: No timezone found, symbol may be delisted\n",
      "yahoo failed... len of df:  0\n",
      "tiingo failed... len of df:  0\n",
      "Added 1113 stocks to the db\n",
      "     ticker priceCurrency ticker_currency\n",
      "980  MTYRF1           USD      MTYRF1-USD\n",
      "********************\n",
      "[*********************100%***********************]  1 of 1 completed\n"
     ]
    },
    {
     "name": "stderr",
     "output_type": "stream",
     "text": [
      "C:\\Users\\david\\anaconda3\\envs\\svmmvo\\lib\\site-packages\\pandas_datareader\\tiingo.py:234: FutureWarning: In a future version of pandas all arguments of concat except for the argument 'objs' will be keyword-only.\n",
      "  return pd.concat(dfs, self._concat_axis)\n"
     ]
    },
    {
     "name": "stdout",
     "output_type": "stream",
     "text": [
      "Added 1114 stocks to the db\n",
      "     ticker priceCurrency ticker_currency\n",
      "1498     MU           USD          MU-USD\n",
      "********************\n",
      "[*********************100%***********************]  1 of 1 completed\n",
      "\n",
      "1 Failed download:\n",
      "- MUB1: No timezone found, symbol may be delisted\n",
      "yahoo failed... len of df:  0\n",
      "tiingo failed... len of df:  0\n",
      "Added 1115 stocks to the db\n",
      "    ticker priceCurrency ticker_currency\n",
      "888   MUB1           USD        MUB1-USD\n",
      "********************\n",
      "[*********************100%***********************]  1 of 1 completed\n"
     ]
    },
    {
     "name": "stderr",
     "output_type": "stream",
     "text": [
      "C:\\Users\\david\\anaconda3\\envs\\svmmvo\\lib\\site-packages\\pandas_datareader\\tiingo.py:234: FutureWarning: In a future version of pandas all arguments of concat except for the argument 'objs' will be keyword-only.\n",
      "  return pd.concat(dfs, self._concat_axis)\n"
     ]
    },
    {
     "name": "stdout",
     "output_type": "stream",
     "text": [
      "Added 1116 stocks to the db\n",
      "     ticker priceCurrency ticker_currency\n",
      "1499    MUR           USD         MUR-USD\n",
      "********************\n",
      "[*********************100%***********************]  1 of 1 completed\n",
      "\n",
      "1 Failed download:\n",
      "- MWI1: No timezone found, symbol may be delisted\n",
      "yahoo failed... len of df:  0\n",
      "tiingo failed... len of df:  0\n",
      "Added 1117 stocks to the db\n",
      "     ticker priceCurrency ticker_currency\n",
      "1500   MWI1           USD        MWI1-USD\n",
      "********************\n",
      "[*********************100%***********************]  1 of 1 completed\n",
      "\n",
      "1 Failed download:\n",
      "- MWV2: No timezone found, symbol may be delisted\n",
      "yahoo failed... len of df:  0\n",
      "tiingo failed... len of df:  0\n",
      "Added 1118 stocks to the db\n",
      "   ticker priceCurrency ticker_currency\n",
      "51   MWV2           USD        MWV2-USD\n",
      "********************\n",
      "[*********************100%***********************]  1 of 1 completed\n",
      "\n",
      "1 Failed download:\n",
      "- MWW1: No timezone found, symbol may be delisted\n",
      "yahoo failed... len of df:  0\n",
      "tiingo failed... len of df:  0\n",
      "Added 1119 stocks to the db\n",
      "   ticker priceCurrency ticker_currency\n",
      "57   MWW1           USD        MWW1-USD\n",
      "********************\n",
      "[*********************100%***********************]  1 of 1 completed\n",
      "\n",
      "1 Failed download:\n",
      "- MXIM1: No timezone found, symbol may be delisted\n",
      "yahoo failed... len of df:  0\n",
      "tiingo failed... len of df:  0\n",
      "Added 1120 stocks to the db\n",
      "   ticker priceCurrency ticker_currency\n",
      "10  MXIM1           USD       MXIM1-USD\n",
      "********************\n",
      "[*********************100%***********************]  1 of 1 completed\n",
      "\n",
      "1 Failed download:\n",
      "- MXS1: No timezone found, symbol may be delisted\n",
      "yahoo failed... len of df:  0\n",
      "tiingo failed... len of df:  0\n",
      "Added 1121 stocks to the db\n",
      "    ticker priceCurrency ticker_currency\n",
      "541   MXS1           USD        MXS1-USD\n",
      "********************\n",
      "[*********************100%***********************]  1 of 1 completed\n",
      "\n",
      "1 Failed download:\n",
      "- MYG1: No timezone found, symbol may be delisted\n",
      "yahoo failed... len of df:  0\n",
      "tiingo failed... len of df:  0\n",
      "Added 1122 stocks to the db\n",
      "     ticker priceCurrency ticker_currency\n",
      "1501   MYG1           USD        MYG1-USD\n",
      "********************\n",
      "[*********************100%***********************]  1 of 1 completed\n",
      "\n",
      "1 Failed download:\n",
      "- MZ1: No timezone found, symbol may be delisted\n",
      "yahoo failed... len of df:  0\n",
      "tiingo failed... len of df:  0\n",
      "Added 1123 stocks to the db\n",
      "    ticker priceCurrency ticker_currency\n",
      "523    MZ1           USD         MZ1-USD\n",
      "********************\n",
      "[*********************100%***********************]  1 of 1 completed\n",
      "\n",
      "1 Failed download:\n",
      "- MZIAQ1: No timezone found, symbol may be delisted\n",
      "yahoo failed... len of df:  0\n",
      "tiingo failed... len of df:  0\n",
      "Added 1124 stocks to the db\n",
      "     ticker priceCurrency ticker_currency\n",
      "119  MZIAQ1           USD      MZIAQ1-USD\n",
      "********************\n",
      "[*********************100%***********************]  1 of 1 completed\n",
      "\n",
      "1 Failed download:\n",
      "- NA2: No timezone found, symbol may be delisted\n",
      "yahoo failed... len of df:  0\n",
      "tiingo failed... len of df:  0\n",
      "Added 1125 stocks to the db\n",
      "    ticker priceCurrency ticker_currency\n",
      "403    NA2           USD         NA2-USD\n",
      "********************\n",
      "[*********************100%***********************]  1 of 1 completed\n",
      "\n",
      "1 Failed download:\n",
      "- NAB1: No timezone found, symbol may be delisted\n",
      "yahoo failed... len of df:  0\n",
      "tiingo failed... len of df:  0\n",
      "Added 1126 stocks to the db\n",
      "    ticker priceCurrency ticker_currency\n",
      "449   NAB1           USD        NAB1-USD\n",
      "********************\n",
      "[*********************100%***********************]  1 of 1 completed\n",
      "\n",
      "1 Failed download:\n",
      "- NAC1: No timezone found, symbol may be delisted\n",
      "yahoo failed... len of df:  0\n",
      "tiingo failed... len of df:  0\n",
      "Added 1127 stocks to the db\n",
      "    ticker priceCurrency ticker_currency\n",
      "724   NAC1           USD        NAC1-USD\n",
      "********************\n",
      "[*********************100%***********************]  1 of 1 completed\n",
      "\n",
      "1 Failed download:\n",
      "- NAE1: No timezone found, symbol may be delisted\n",
      "yahoo failed... len of df:  0\n",
      "tiingo failed... len of df:  0\n",
      "Added 1128 stocks to the db\n",
      "    ticker priceCurrency ticker_currency\n",
      "309   NAE1           USD        NAE1-USD\n",
      "********************\n",
      "[*********************100%***********************]  1 of 1 completed\n",
      "\n",
      "1 Failed download:\n",
      "- NAL1: No timezone found, symbol may be delisted\n",
      "yahoo failed... len of df:  0\n",
      "tiingo failed... len of df:  0\n",
      "Added 1129 stocks to the db\n",
      "    ticker priceCurrency ticker_currency\n",
      "535   NAL1           USD        NAL1-USD\n",
      "********************\n",
      "[*********************100%***********************]  1 of 1 completed\n",
      "\n",
      "1 Failed download:\n",
      "- NAS1: No timezone found, symbol may be delisted\n",
      "yahoo failed... len of df:  0\n",
      "tiingo failed... len of df:  0\n",
      "Added 1130 stocks to the db\n",
      "    ticker priceCurrency ticker_currency\n",
      "906   NAS1           USD        NAS1-USD\n",
      "********************\n",
      "[*********************100%***********************]  1 of 1 completed\n"
     ]
    },
    {
     "name": "stderr",
     "output_type": "stream",
     "text": [
      "C:\\Users\\david\\anaconda3\\envs\\svmmvo\\lib\\site-packages\\pandas_datareader\\tiingo.py:234: FutureWarning: In a future version of pandas all arguments of concat except for the argument 'objs' will be keyword-only.\n",
      "  return pd.concat(dfs, self._concat_axis)\n"
     ]
    },
    {
     "name": "stdout",
     "output_type": "stream",
     "text": [
      "Added 1131 stocks to the db\n",
      "     ticker priceCurrency ticker_currency\n",
      "1502   NAVI           USD        NAVI-USD\n",
      "********************\n",
      "[*********************100%***********************]  1 of 1 completed\n",
      "\n",
      "1 Failed download:\n",
      "- NB1: No timezone found, symbol may be delisted\n",
      "yahoo failed... len of df:  0\n",
      "tiingo failed... len of df:  0\n",
      "Added 1132 stocks to the db\n",
      "    ticker priceCurrency ticker_currency\n",
      "965    NB1           USD         NB1-USD\n",
      "********************\n",
      "[*********************100%***********************]  1 of 1 completed\n",
      "\n",
      "1 Failed download:\n",
      "- NBL4: No timezone found, symbol may be delisted\n",
      "yahoo failed... len of df:  0\n",
      "tiingo failed... len of df:  0\n",
      "Added 1133 stocks to the db\n",
      "   ticker priceCurrency ticker_currency\n",
      "15   NBL4           USD        NBL4-USD\n",
      "********************\n",
      "[*********************100%***********************]  1 of 1 completed\n"
     ]
    },
    {
     "name": "stderr",
     "output_type": "stream",
     "text": [
      "C:\\Users\\david\\anaconda3\\envs\\svmmvo\\lib\\site-packages\\pandas_datareader\\tiingo.py:234: FutureWarning: In a future version of pandas all arguments of concat except for the argument 'objs' will be keyword-only.\n",
      "  return pd.concat(dfs, self._concat_axis)\n"
     ]
    },
    {
     "name": "stdout",
     "output_type": "stream",
     "text": [
      "Added 1134 stocks to the db\n",
      "     ticker priceCurrency ticker_currency\n",
      "1503    NBR           USD         NBR-USD\n",
      "********************\n",
      "[*********************100%***********************]  1 of 1 completed\n"
     ]
    },
    {
     "name": "stderr",
     "output_type": "stream",
     "text": [
      "C:\\Users\\david\\anaconda3\\envs\\svmmvo\\lib\\site-packages\\pandas_datareader\\tiingo.py:234: FutureWarning: In a future version of pandas all arguments of concat except for the argument 'objs' will be keyword-only.\n",
      "  return pd.concat(dfs, self._concat_axis)\n"
     ]
    },
    {
     "name": "stdout",
     "output_type": "stream",
     "text": [
      "Added 1135 stocks to the db\n",
      "     ticker priceCurrency ticker_currency\n",
      "1504     NC           USD          NC-USD\n",
      "********************\n",
      "[*********************100%***********************]  1 of 1 completed\n",
      "\n",
      "1 Failed download:\n",
      "- NCC4: No timezone found, symbol may be delisted\n",
      "yahoo failed... len of df:  0\n",
      "tiingo failed... len of df:  0\n",
      "Added 1136 stocks to the db\n",
      "   ticker priceCurrency ticker_currency\n",
      "80   NCC4           USD        NCC4-USD\n",
      "********************\n",
      "[*********************100%***********************]  1 of 1 completed\n",
      "\n",
      "1 Failed download:\n",
      "- NCE1: No timezone found, symbol may be delisted\n",
      "yahoo failed... len of df:  0\n",
      "tiingo failed... len of df:  0\n",
      "Added 1137 stocks to the db\n",
      "    ticker priceCurrency ticker_currency\n",
      "300   NCE1           USD        NCE1-USD\n",
      "********************\n",
      "[*********************100%***********************]  1 of 1 completed\n"
     ]
    },
    {
     "name": "stderr",
     "output_type": "stream",
     "text": [
      "C:\\Users\\david\\anaconda3\\envs\\svmmvo\\lib\\site-packages\\pandas_datareader\\tiingo.py:234: FutureWarning: In a future version of pandas all arguments of concat except for the argument 'objs' will be keyword-only.\n",
      "  return pd.concat(dfs, self._concat_axis)\n"
     ]
    },
    {
     "name": "stdout",
     "output_type": "stream",
     "text": [
      "Added 1138 stocks to the db\n",
      "     ticker priceCurrency ticker_currency\n",
      "1505   NCLH           USD        NCLH-USD\n",
      "********************\n",
      "[*********************100%***********************]  1 of 1 completed\n"
     ]
    },
    {
     "name": "stderr",
     "output_type": "stream",
     "text": [
      "C:\\Users\\david\\anaconda3\\envs\\svmmvo\\lib\\site-packages\\pandas_datareader\\tiingo.py:234: FutureWarning: In a future version of pandas all arguments of concat except for the argument 'objs' will be keyword-only.\n",
      "  return pd.concat(dfs, self._concat_axis)\n"
     ]
    },
    {
     "name": "stdout",
     "output_type": "stream",
     "text": [
      "Added 1139 stocks to the db\n",
      "     ticker priceCurrency ticker_currency\n",
      "1506    NCR           USD         NCR-USD\n",
      "********************\n",
      "[*********************100%***********************]  1 of 1 completed\n",
      "\n",
      "1 Failed download:\n",
      "- NCR1: No timezone found, symbol may be delisted\n",
      "yahoo failed... len of df:  0\n",
      "tiingo failed... len of df:  0\n",
      "Added 1140 stocks to the db\n",
      "    ticker priceCurrency ticker_currency\n",
      "397   NCR1           USD        NCR1-USD\n",
      "********************\n",
      "[*********************100%***********************]  1 of 1 completed\n"
     ]
    },
    {
     "name": "stderr",
     "output_type": "stream",
     "text": [
      "C:\\Users\\david\\anaconda3\\envs\\svmmvo\\lib\\site-packages\\pandas_datareader\\tiingo.py:234: FutureWarning: In a future version of pandas all arguments of concat except for the argument 'objs' will be keyword-only.\n",
      "  return pd.concat(dfs, self._concat_axis)\n"
     ]
    },
    {
     "name": "stdout",
     "output_type": "stream",
     "text": [
      "Added 1141 stocks to the db\n",
      "     ticker priceCurrency ticker_currency\n",
      "1507   NDAQ           USD        NDAQ-USD\n",
      "********************\n",
      "[*********************100%***********************]  1 of 1 completed\n"
     ]
    },
    {
     "name": "stderr",
     "output_type": "stream",
     "text": [
      "C:\\Users\\david\\anaconda3\\envs\\svmmvo\\lib\\site-packages\\pandas_datareader\\tiingo.py:234: FutureWarning: In a future version of pandas all arguments of concat except for the argument 'objs' will be keyword-only.\n",
      "  return pd.concat(dfs, self._concat_axis)\n"
     ]
    },
    {
     "name": "stdout",
     "output_type": "stream",
     "text": [
      "Added 1142 stocks to the db\n",
      "     ticker priceCurrency ticker_currency\n",
      "1508   NDSN           USD        NDSN-USD\n",
      "********************\n",
      "[*********************100%***********************]  1 of 1 completed\n"
     ]
    },
    {
     "name": "stderr",
     "output_type": "stream",
     "text": [
      "C:\\Users\\david\\anaconda3\\envs\\svmmvo\\lib\\site-packages\\pandas_datareader\\tiingo.py:234: FutureWarning: In a future version of pandas all arguments of concat except for the argument 'objs' will be keyword-only.\n",
      "  return pd.concat(dfs, self._concat_axis)\n"
     ]
    },
    {
     "name": "stdout",
     "output_type": "stream",
     "text": [
      "Added 1143 stocks to the db\n",
      "     ticker priceCurrency ticker_currency\n",
      "1509     NE           USD          NE-USD\n",
      "********************\n",
      "[*********************100%***********************]  1 of 1 completed\n",
      "\n",
      "1 Failed download:\n",
      "- NEB2: No timezone found, symbol may be delisted\n",
      "yahoo failed... len of df:  0\n",
      "tiingo failed... len of df:  0\n",
      "Added 1144 stocks to the db\n",
      "    ticker priceCurrency ticker_currency\n",
      "789   NEB2           USD        NEB2-USD\n",
      "********************\n",
      "[*********************100%***********************]  1 of 1 completed\n"
     ]
    },
    {
     "name": "stderr",
     "output_type": "stream",
     "text": [
      "C:\\Users\\david\\anaconda3\\envs\\svmmvo\\lib\\site-packages\\pandas_datareader\\tiingo.py:234: FutureWarning: In a future version of pandas all arguments of concat except for the argument 'objs' will be keyword-only.\n",
      "  return pd.concat(dfs, self._concat_axis)\n"
     ]
    },
    {
     "name": "stdout",
     "output_type": "stream",
     "text": [
      "Added 1145 stocks to the db\n",
      "     ticker priceCurrency ticker_currency\n",
      "1510    NEE           USD         NEE-USD\n",
      "********************\n",
      "[*********************100%***********************]  1 of 1 completed\n"
     ]
    },
    {
     "name": "stderr",
     "output_type": "stream",
     "text": [
      "C:\\Users\\david\\anaconda3\\envs\\svmmvo\\lib\\site-packages\\pandas_datareader\\tiingo.py:234: FutureWarning: In a future version of pandas all arguments of concat except for the argument 'objs' will be keyword-only.\n",
      "  return pd.concat(dfs, self._concat_axis)\n"
     ]
    },
    {
     "name": "stdout",
     "output_type": "stream",
     "text": [
      "Added 1146 stocks to the db\n",
      "     ticker priceCurrency ticker_currency\n",
      "1511    NEM           USD         NEM-USD\n",
      "********************\n",
      "[*********************100%***********************]  1 of 1 completed\n",
      "\n",
      "1 Failed download:\n",
      "- NES2: No timezone found, symbol may be delisted\n",
      "yahoo failed... len of df:  0\n",
      "tiingo failed... len of df:  0\n",
      "Added 1147 stocks to the db\n",
      "    ticker priceCurrency ticker_currency\n",
      "460   NES2           USD        NES2-USD\n",
      "********************\n",
      "[*********************100%***********************]  1 of 1 completed\n"
     ]
    },
    {
     "name": "stderr",
     "output_type": "stream",
     "text": [
      "C:\\Users\\david\\anaconda3\\envs\\svmmvo\\lib\\site-packages\\pandas_datareader\\tiingo.py:234: FutureWarning: In a future version of pandas all arguments of concat except for the argument 'objs' will be keyword-only.\n",
      "  return pd.concat(dfs, self._concat_axis)\n"
     ]
    },
    {
     "name": "stdout",
     "output_type": "stream",
     "text": [
      "Added 1148 stocks to the db\n",
      "     ticker priceCurrency ticker_currency\n",
      "1512    NEU           USD         NEU-USD\n",
      "********************\n",
      "[*********************100%***********************]  1 of 1 completed\n",
      "\n",
      "1 Failed download:\n",
      "- NFB1: No timezone found, symbol may be delisted\n",
      "yahoo failed... len of df:  0\n",
      "tiingo failed... len of df:  0\n",
      "Added 1149 stocks to the db\n",
      "    ticker priceCurrency ticker_currency\n",
      "216   NFB1           USD        NFB1-USD\n",
      "********************\n",
      "[*********************100%***********************]  1 of 1 completed\n"
     ]
    },
    {
     "name": "stderr",
     "output_type": "stream",
     "text": [
      "C:\\Users\\david\\anaconda3\\envs\\svmmvo\\lib\\site-packages\\pandas_datareader\\tiingo.py:234: FutureWarning: In a future version of pandas all arguments of concat except for the argument 'objs' will be keyword-only.\n",
      "  return pd.concat(dfs, self._concat_axis)\n"
     ]
    },
    {
     "name": "stdout",
     "output_type": "stream",
     "text": [
      "Added 1150 stocks to the db\n",
      "     ticker priceCurrency ticker_currency\n",
      "1513    NFG           USD         NFG-USD\n",
      "********************\n",
      "[*********************100%***********************]  1 of 1 completed\n",
      "\n",
      "1 Failed download:\n",
      "- NFK1: No timezone found, symbol may be delisted\n",
      "yahoo failed... len of df:  0\n",
      "tiingo failed... len of df:  0\n",
      "Added 1151 stocks to the db\n",
      "    ticker priceCurrency ticker_currency\n",
      "398   NFK1           USD        NFK1-USD\n",
      "********************\n",
      "[*********************100%***********************]  1 of 1 completed\n"
     ]
    },
    {
     "name": "stderr",
     "output_type": "stream",
     "text": [
      "C:\\Users\\david\\anaconda3\\envs\\svmmvo\\lib\\site-packages\\pandas_datareader\\tiingo.py:234: FutureWarning: In a future version of pandas all arguments of concat except for the argument 'objs' will be keyword-only.\n",
      "  return pd.concat(dfs, self._concat_axis)\n"
     ]
    },
    {
     "name": "stdout",
     "output_type": "stream",
     "text": [
      "Added 1152 stocks to the db\n",
      "     ticker priceCurrency ticker_currency\n",
      "1514   NFLX           USD        NFLX-USD\n",
      "********************\n",
      "[*********************100%***********************]  1 of 1 completed\n",
      "\n",
      "1 Failed download:\n",
      "- NFX1: No timezone found, symbol may be delisted\n",
      "yahoo failed... len of df:  0\n",
      "tiingo failed... len of df:  0\n",
      "Added 1153 stocks to the db\n",
      "   ticker priceCurrency ticker_currency\n",
      "32   NFX1           USD        NFX1-USD\n",
      "********************\n",
      "[*********************100%***********************]  1 of 1 completed\n",
      "\n",
      "1 Failed download:\n",
      "- NG1: No timezone found, symbol may be delisted\n",
      "yahoo failed... len of df:  0\n",
      "tiingo failed... len of df:  0\n",
      "Added 1154 stocks to the db\n",
      "    ticker priceCurrency ticker_currency\n",
      "564    NG1           USD         NG1-USD\n",
      "********************\n",
      "[*********************100%***********************]  1 of 1 completed\n",
      "\n",
      "1 Failed download:\n",
      "- NGH1: No timezone found, symbol may be delisted\n",
      "yahoo failed... len of df:  0\n",
      "tiingo failed... len of df:  0\n",
      "Added 1155 stocks to the db\n",
      "    ticker priceCurrency ticker_currency\n",
      "333   NGH1           USD        NGH1-USD\n",
      "********************\n",
      "[*********************100%***********************]  1 of 1 completed\n",
      "\n",
      "1 Failed download:\n",
      "- NH1: No timezone found, symbol may be delisted\n",
      "yahoo failed... len of df:  0\n",
      "tiingo failed... len of df:  0\n",
      "Added 1156 stocks to the db\n",
      "    ticker priceCurrency ticker_currency\n",
      "766    NH1           USD         NH1-USD\n",
      "********************\n",
      "[*********************100%***********************]  1 of 1 completed\n"
     ]
    },
    {
     "name": "stderr",
     "output_type": "stream",
     "text": [
      "C:\\Users\\david\\anaconda3\\envs\\svmmvo\\lib\\site-packages\\pandas_datareader\\tiingo.py:234: FutureWarning: In a future version of pandas all arguments of concat except for the argument 'objs' will be keyword-only.\n",
      "  return pd.concat(dfs, self._concat_axis)\n"
     ]
    },
    {
     "name": "stdout",
     "output_type": "stream",
     "text": [
      "Added 1157 stocks to the db\n",
      "     ticker priceCurrency ticker_currency\n",
      "1515     NI           USD          NI-USD\n",
      "********************\n",
      "[*********************100%***********************]  1 of 1 completed\n"
     ]
    },
    {
     "name": "stderr",
     "output_type": "stream",
     "text": [
      "C:\\Users\\david\\anaconda3\\envs\\svmmvo\\lib\\site-packages\\pandas_datareader\\tiingo.py:234: FutureWarning: In a future version of pandas all arguments of concat except for the argument 'objs' will be keyword-only.\n",
      "  return pd.concat(dfs, self._concat_axis)\n"
     ]
    },
    {
     "name": "stdout",
     "output_type": "stream",
     "text": [
      "Added 1158 stocks to the db\n",
      "     ticker priceCurrency ticker_currency\n",
      "1516    NKE           USD         NKE-USD\n",
      "********************\n",
      "[*********************100%***********************]  1 of 1 completed\n",
      "\n",
      "1 Failed download:\n",
      "- NKP2: No timezone found, symbol may be delisted\n",
      "yahoo failed... len of df:  0\n",
      "tiingo failed... len of df:  0\n",
      "Added 1159 stocks to the db\n",
      "    ticker priceCurrency ticker_currency\n",
      "604   NKP2           USD        NKP2-USD\n",
      "********************\n",
      "[*********************100%***********************]  1 of 1 completed\n"
     ]
    },
    {
     "name": "stderr",
     "output_type": "stream",
     "text": [
      "C:\\Users\\david\\anaconda3\\envs\\svmmvo\\lib\\site-packages\\pandas_datareader\\tiingo.py:234: FutureWarning: In a future version of pandas all arguments of concat except for the argument 'objs' will be keyword-only.\n",
      "  return pd.concat(dfs, self._concat_axis)\n"
     ]
    },
    {
     "name": "stdout",
     "output_type": "stream",
     "text": [
      "Added 1160 stocks to the db\n",
      "     ticker priceCurrency ticker_currency\n",
      "1517   NKTR           USD        NKTR-USD\n",
      "********************\n",
      "[*********************100%***********************]  1 of 1 completed\n"
     ]
    },
    {
     "name": "stderr",
     "output_type": "stream",
     "text": [
      "C:\\Users\\david\\anaconda3\\envs\\svmmvo\\lib\\site-packages\\pandas_datareader\\tiingo.py:234: FutureWarning: In a future version of pandas all arguments of concat except for the argument 'objs' will be keyword-only.\n",
      "  return pd.concat(dfs, self._concat_axis)\n"
     ]
    },
    {
     "name": "stdout",
     "output_type": "stream",
     "text": [
      "Added 1161 stocks to the db\n",
      "     ticker priceCurrency ticker_currency\n",
      "1518     NL           USD          NL-USD\n",
      "********************\n",
      "[*********************100%***********************]  1 of 1 completed\n",
      "\n",
      "1 Failed download:\n",
      "- NL1: No timezone found, symbol may be delisted\n",
      "yahoo failed... len of df:  0\n",
      "tiingo failed... len of df:  0\n",
      "Added 1162 stocks to the db\n",
      "    ticker priceCurrency ticker_currency\n",
      "772    NL1           USD         NL1-USD\n",
      "********************\n",
      "[*********************100%***********************]  1 of 1 completed\n",
      "\n",
      "1 Failed download:\n",
      "- NLC1: No timezone found, symbol may be delisted\n",
      "yahoo failed... len of df:  0\n",
      "tiingo failed... len of df:  0\n",
      "Added 1163 stocks to the db\n",
      "     ticker priceCurrency ticker_currency\n",
      "1519   NLC1           USD        NLC1-USD\n",
      "********************\n",
      "[*********************100%***********************]  1 of 1 completed\n",
      "\n",
      "1 Failed download:\n",
      "- NLT2: No timezone found, symbol may be delisted\n",
      "yahoo failed... len of df:  0\n",
      "tiingo failed... len of df:  0\n",
      "Added 1164 stocks to the db\n",
      "    ticker priceCurrency ticker_currency\n",
      "685   NLT2           USD        NLT2-USD\n",
      "********************\n",
      "[*********************100%***********************]  1 of 1 completed\n",
      "\n",
      "1 Failed download:\n",
      "- NMK1: No timezone found, symbol may be delisted\n",
      "yahoo failed... len of df:  0\n",
      "tiingo failed... len of df:  0\n",
      "Added 1165 stocks to the db\n",
      "     ticker priceCurrency ticker_currency\n",
      "1520   NMK1           USD        NMK1-USD\n",
      "********************\n",
      "[*********************100%***********************]  1 of 1 completed\n",
      "\n",
      "1 Failed download:\n",
      "- NND1: No timezone found, symbol may be delisted\n",
      "yahoo failed... len of df:  0\n",
      "tiingo failed... len of df:  0\n",
      "Added 1166 stocks to the db\n",
      "    ticker priceCurrency ticker_currency\n",
      "856   NND1           USD        NND1-USD\n",
      "********************\n",
      "[*********************100%***********************]  1 of 1 completed\n"
     ]
    },
    {
     "name": "stderr",
     "output_type": "stream",
     "text": [
      "C:\\Users\\david\\anaconda3\\envs\\svmmvo\\lib\\site-packages\\pandas_datareader\\tiingo.py:234: FutureWarning: In a future version of pandas all arguments of concat except for the argument 'objs' will be keyword-only.\n",
      "  return pd.concat(dfs, self._concat_axis)\n"
     ]
    },
    {
     "name": "stdout",
     "output_type": "stream",
     "text": [
      "Added 1167 stocks to the db\n",
      "     ticker priceCurrency ticker_currency\n",
      "1521    NOC           USD         NOC-USD\n",
      "********************\n",
      "[*********************100%***********************]  1 of 1 completed\n"
     ]
    },
    {
     "name": "stderr",
     "output_type": "stream",
     "text": [
      "C:\\Users\\david\\anaconda3\\envs\\svmmvo\\lib\\site-packages\\pandas_datareader\\tiingo.py:234: FutureWarning: In a future version of pandas all arguments of concat except for the argument 'objs' will be keyword-only.\n",
      "  return pd.concat(dfs, self._concat_axis)\n"
     ]
    },
    {
     "name": "stdout",
     "output_type": "stream",
     "text": [
      "Added 1168 stocks to the db\n",
      "     ticker priceCurrency ticker_currency\n",
      "1522    NOV           USD         NOV-USD\n",
      "********************\n",
      "[*********************100%***********************]  1 of 1 completed\n",
      "\n",
      "1 Failed download:\n",
      "- NOVL1: No timezone found, symbol may be delisted\n",
      "yahoo failed... len of df:  0\n",
      "tiingo failed... len of df:  0\n",
      "Added 1169 stocks to the db\n",
      "    ticker priceCurrency ticker_currency\n",
      "359  NOVL1           USD       NOVL1-USD\n",
      "********************\n",
      "[*********************100%***********************]  1 of 1 completed\n"
     ]
    },
    {
     "name": "stderr",
     "output_type": "stream",
     "text": [
      "C:\\Users\\david\\anaconda3\\envs\\svmmvo\\lib\\site-packages\\pandas_datareader\\tiingo.py:234: FutureWarning: In a future version of pandas all arguments of concat except for the argument 'objs' will be keyword-only.\n",
      "  return pd.concat(dfs, self._concat_axis)\n"
     ]
    },
    {
     "name": "stdout",
     "output_type": "stream",
     "text": [
      "Added 1170 stocks to the db\n",
      "     ticker priceCurrency ticker_currency\n",
      "1523    NOW           USD         NOW-USD\n",
      "********************\n",
      "[*********************100%***********************]  1 of 1 completed\n",
      "\n",
      "1 Failed download:\n",
      "- NOXL1B: No timezone found, symbol may be delisted\n",
      "yahoo failed... len of df:  0\n",
      "tiingo failed... len of df:  0\n",
      "Added 1171 stocks to the db\n",
      "     ticker priceCurrency ticker_currency\n",
      "532  NOXL1B           USD      NOXL1B-USD\n",
      "********************\n",
      "[*********************100%***********************]  1 of 1 completed\n",
      "\n",
      "1 Failed download:\n",
      "- NP1: No timezone found, symbol may be delisted\n",
      "yahoo failed... len of df:  0\n",
      "tiingo failed... len of df:  0\n",
      "Added 1172 stocks to the db\n",
      "    ticker priceCurrency ticker_currency\n",
      "434    NP1           USD         NP1-USD\n",
      "********************\n",
      "[*********************100%***********************]  1 of 1 completed\n"
     ]
    },
    {
     "name": "stderr",
     "output_type": "stream",
     "text": [
      "C:\\Users\\david\\anaconda3\\envs\\svmmvo\\lib\\site-packages\\pandas_datareader\\tiingo.py:234: FutureWarning: In a future version of pandas all arguments of concat except for the argument 'objs' will be keyword-only.\n",
      "  return pd.concat(dfs, self._concat_axis)\n"
     ]
    },
    {
     "name": "stdout",
     "output_type": "stream",
     "text": [
      "Added 1173 stocks to the db\n",
      "     ticker priceCurrency ticker_currency\n",
      "1524    NRG           USD         NRG-USD\n",
      "********************\n",
      "[*********************100%***********************]  1 of 1 completed\n",
      "\n",
      "1 Failed download:\n",
      "- NRT1: No timezone found, symbol may be delisted\n",
      "yahoo failed... len of df:  0\n",
      "tiingo failed... len of df:  0\n",
      "Added 1174 stocks to the db\n",
      "    ticker priceCurrency ticker_currency\n",
      "750   NRT1           USD        NRT1-USD\n",
      "********************\n",
      "[*********************100%***********************]  1 of 1 completed\n",
      "\n",
      "1 Failed download:\n",
      "- NRTLQ1: No timezone found, symbol may be delisted\n",
      "yahoo failed... len of df:  0\n",
      "tiingo failed... len of df:  0\n",
      "Added 1175 stocks to the db\n",
      "     ticker priceCurrency ticker_currency\n",
      "139  NRTLQ1           USD      NRTLQ1-USD\n",
      "********************\n",
      "[*********************100%***********************]  1 of 1 completed\n"
     ]
    },
    {
     "name": "stderr",
     "output_type": "stream",
     "text": [
      "C:\\Users\\david\\anaconda3\\envs\\svmmvo\\lib\\site-packages\\pandas_datareader\\tiingo.py:234: FutureWarning: In a future version of pandas all arguments of concat except for the argument 'objs' will be keyword-only.\n",
      "  return pd.concat(dfs, self._concat_axis)\n"
     ]
    },
    {
     "name": "stdout",
     "output_type": "stream",
     "text": [
      "Added 1176 stocks to the db\n",
      "     ticker priceCurrency ticker_currency\n",
      "1525    NSC           USD         NSC-USD\n",
      "********************\n",
      "[*********************100%***********************]  1 of 1 completed\n",
      "\n",
      "1 Failed download:\n",
      "- NSI1: No timezone found, symbol may be delisted\n",
      "yahoo failed... len of df:  0\n",
      "tiingo failed... len of df:  0\n",
      "Added 1177 stocks to the db\n",
      "    ticker priceCurrency ticker_currency\n",
      "218   NSI1           USD        NSI1-USD\n",
      "********************\n",
      "[*********************100%***********************]  1 of 1 completed\n",
      "\n",
      "1 Failed download:\n",
      "- NSI2: No timezone found, symbol may be delisted\n",
      "yahoo failed... len of df:  0\n",
      "tiingo failed... len of df:  0\n",
      "Added 1178 stocks to the db\n",
      "    ticker priceCurrency ticker_currency\n",
      "732   NSI2           USD        NSI2-USD\n",
      "********************\n",
      "[*********************100%***********************]  1 of 1 completed\n",
      "\n",
      "1 Failed download:\n",
      "- NSM6: No timezone found, symbol may be delisted\n",
      "yahoo failed... len of df:  0\n",
      "tiingo failed... len of df:  0\n",
      "Added 1179 stocks to the db\n",
      "    ticker priceCurrency ticker_currency\n",
      "121   NSM6           USD        NSM6-USD\n",
      "********************\n",
      "[*********************100%***********************]  1 of 1 completed\n",
      "\n",
      "1 Failed download:\n",
      "- NSU1: No timezone found, symbol may be delisted\n",
      "yahoo failed... len of df:  0\n",
      "tiingo failed... len of df:  0\n",
      "Added 1180 stocks to the db\n",
      "    ticker priceCurrency ticker_currency\n",
      "823   NSU1           USD        NSU1-USD\n",
      "********************\n",
      "[*********************100%***********************]  1 of 1 completed\n"
     ]
    },
    {
     "name": "stderr",
     "output_type": "stream",
     "text": [
      "C:\\Users\\david\\anaconda3\\envs\\svmmvo\\lib\\site-packages\\pandas_datareader\\tiingo.py:234: FutureWarning: In a future version of pandas all arguments of concat except for the argument 'objs' will be keyword-only.\n",
      "  return pd.concat(dfs, self._concat_axis)\n"
     ]
    },
    {
     "name": "stdout",
     "output_type": "stream",
     "text": [
      "Added 1181 stocks to the db\n",
      "     ticker priceCurrency ticker_currency\n",
      "1526   NTAP           USD        NTAP-USD\n",
      "********************\n",
      "[*********************100%***********************]  1 of 1 completed\n"
     ]
    },
    {
     "name": "stderr",
     "output_type": "stream",
     "text": [
      "C:\\Users\\david\\anaconda3\\envs\\svmmvo\\lib\\site-packages\\pandas_datareader\\tiingo.py:234: FutureWarning: In a future version of pandas all arguments of concat except for the argument 'objs' will be keyword-only.\n",
      "  return pd.concat(dfs, self._concat_axis)\n"
     ]
    },
    {
     "name": "stdout",
     "output_type": "stream",
     "text": [
      "Added 1182 stocks to the db\n",
      "     ticker priceCurrency ticker_currency\n",
      "1527   NTRS           USD        NTRS-USD\n",
      "********************\n",
      "[*********************100%***********************]  1 of 1 completed\n",
      "\n",
      "1 Failed download:\n",
      "- NTS1: No timezone found, symbol may be delisted\n",
      "yahoo failed... len of df:  0\n",
      "tiingo failed... len of df:  0\n",
      "Added 1183 stocks to the db\n",
      "    ticker priceCurrency ticker_currency\n",
      "690   NTS1           USD        NTS1-USD\n",
      "********************\n",
      "[*********************100%***********************]  1 of 1 completed\n",
      "\n",
      "1 Failed download:\n",
      "- NTY1: No timezone found, symbol may be delisted\n",
      "yahoo failed... len of df:  0\n",
      "tiingo failed... len of df:  0\n",
      "Added 1184 stocks to the db\n",
      "    ticker priceCurrency ticker_currency\n",
      "680   NTY1           USD        NTY1-USD\n",
      "********************\n",
      "[*********************100%***********************]  1 of 1 completed\n"
     ]
    },
    {
     "name": "stderr",
     "output_type": "stream",
     "text": [
      "C:\\Users\\david\\anaconda3\\envs\\svmmvo\\lib\\site-packages\\pandas_datareader\\tiingo.py:234: FutureWarning: In a future version of pandas all arguments of concat except for the argument 'objs' will be keyword-only.\n",
      "  return pd.concat(dfs, self._concat_axis)\n"
     ]
    },
    {
     "name": "stdout",
     "output_type": "stream",
     "text": [
      "Added 1185 stocks to the db\n",
      "     ticker priceCurrency ticker_currency\n",
      "1528    NUE           USD         NUE-USD\n",
      "********************\n",
      "[*********************100%***********************]  1 of 1 completed\n",
      "\n",
      "1 Failed download:\n",
      "- NUM1: No timezone found, symbol may be delisted\n",
      "yahoo failed... len of df:  0\n",
      "tiingo failed... len of df:  0\n",
      "Added 1186 stocks to the db\n",
      "    ticker priceCurrency ticker_currency\n",
      "879   NUM1           USD        NUM1-USD\n",
      "********************\n",
      "[*********************100%***********************]  1 of 1 completed\n",
      "\n",
      "1 Failed download:\n",
      "- NVAL2: No timezone found, symbol may be delisted\n",
      "yahoo failed... len of df:  0\n",
      "tiingo failed... len of df:  0\n",
      "Added 1187 stocks to the db\n",
      "    ticker priceCurrency ticker_currency\n",
      "364  NVAL2           USD       NVAL2-USD\n",
      "********************\n",
      "[*********************100%***********************]  1 of 1 completed\n"
     ]
    },
    {
     "name": "stderr",
     "output_type": "stream",
     "text": [
      "C:\\Users\\david\\anaconda3\\envs\\svmmvo\\lib\\site-packages\\pandas_datareader\\tiingo.py:234: FutureWarning: In a future version of pandas all arguments of concat except for the argument 'objs' will be keyword-only.\n",
      "  return pd.concat(dfs, self._concat_axis)\n"
     ]
    },
    {
     "name": "stdout",
     "output_type": "stream",
     "text": [
      "Added 1188 stocks to the db\n",
      "     ticker priceCurrency ticker_currency\n",
      "1529   NVDA           USD        NVDA-USD\n",
      "********************\n",
      "[*********************100%***********************]  1 of 1 completed\n",
      "\n",
      "1 Failed download:\n",
      "- NVLS1: No timezone found, symbol may be delisted\n",
      "yahoo failed... len of df:  0\n",
      "tiingo failed... len of df:  0\n",
      "Added 1189 stocks to the db\n",
      "     ticker priceCurrency ticker_currency\n",
      "1530  NVLS1           USD       NVLS1-USD\n",
      "********************\n",
      "[*********************100%***********************]  1 of 1 completed\n"
     ]
    },
    {
     "name": "stderr",
     "output_type": "stream",
     "text": [
      "C:\\Users\\david\\anaconda3\\envs\\svmmvo\\lib\\site-packages\\pandas_datareader\\tiingo.py:234: FutureWarning: In a future version of pandas all arguments of concat except for the argument 'objs' will be keyword-only.\n",
      "  return pd.concat(dfs, self._concat_axis)\n"
     ]
    },
    {
     "name": "stdout",
     "output_type": "stream",
     "text": [
      "Added 1190 stocks to the db\n",
      "     ticker priceCurrency ticker_currency\n",
      "1531    NVR           USD         NVR-USD\n",
      "********************\n",
      "[*********************100%***********************]  1 of 1 completed\n",
      "\n",
      "1 Failed download:\n",
      "- NW2: No timezone found, symbol may be delisted\n",
      "yahoo failed... len of df:  0\n",
      "tiingo failed... len of df:  0\n",
      "Added 1191 stocks to the db\n",
      "    ticker priceCurrency ticker_currency\n",
      "514    NW2           USD         NW2-USD\n",
      "********************\n",
      "[*********************100%***********************]  1 of 1 completed\n",
      "\n",
      "1 Failed download:\n",
      "- NWA1: No timezone found, symbol may be delisted\n",
      "yahoo failed... len of df:  0\n",
      "tiingo failed... len of df:  0\n",
      "Added 1192 stocks to the db\n",
      "    ticker priceCurrency ticker_currency\n",
      "484   NWA1           USD        NWA1-USD\n",
      "********************\n",
      "[*********************100%***********************]  1 of 1 completed\n"
     ]
    },
    {
     "name": "stderr",
     "output_type": "stream",
     "text": [
      "C:\\Users\\david\\anaconda3\\envs\\svmmvo\\lib\\site-packages\\pandas_datareader\\tiingo.py:234: FutureWarning: In a future version of pandas all arguments of concat except for the argument 'objs' will be keyword-only.\n",
      "  return pd.concat(dfs, self._concat_axis)\n"
     ]
    },
    {
     "name": "stdout",
     "output_type": "stream",
     "text": [
      "Added 1193 stocks to the db\n",
      "     ticker priceCurrency ticker_currency\n",
      "1532    NWL           USD         NWL-USD\n",
      "********************\n",
      "[*********************100%***********************]  1 of 1 completed\n",
      "\n",
      "1 Failed download:\n",
      "- NWP1C: No timezone found, symbol may be delisted\n",
      "yahoo failed... len of df:  0\n",
      "tiingo failed... len of df:  0\n",
      "Added 1194 stocks to the db\n",
      "    ticker priceCurrency ticker_currency\n",
      "979  NWP1C           USD       NWP1C-USD\n",
      "********************\n",
      "[*********************100%***********************]  1 of 1 completed\n"
     ]
    },
    {
     "name": "stderr",
     "output_type": "stream",
     "text": [
      "C:\\Users\\david\\anaconda3\\envs\\svmmvo\\lib\\site-packages\\pandas_datareader\\tiingo.py:234: FutureWarning: In a future version of pandas all arguments of concat except for the argument 'objs' will be keyword-only.\n",
      "  return pd.concat(dfs, self._concat_axis)\n"
     ]
    },
    {
     "name": "stdout",
     "output_type": "stream",
     "text": [
      "Added 1195 stocks to the db\n",
      "     ticker priceCurrency ticker_currency\n",
      "1533    NWS           USD         NWS-USD\n",
      "********************\n",
      "[*********************100%***********************]  1 of 1 completed\n"
     ]
    },
    {
     "name": "stderr",
     "output_type": "stream",
     "text": [
      "C:\\Users\\david\\anaconda3\\envs\\svmmvo\\lib\\site-packages\\pandas_datareader\\tiingo.py:234: FutureWarning: In a future version of pandas all arguments of concat except for the argument 'objs' will be keyword-only.\n",
      "  return pd.concat(dfs, self._concat_axis)\n"
     ]
    },
    {
     "name": "stdout",
     "output_type": "stream",
     "text": [
      "Added 1196 stocks to the db\n",
      "     ticker priceCurrency ticker_currency\n",
      "1534   NWSA           USD        NWSA-USD\n",
      "********************\n",
      "[*********************100%***********************]  1 of 1 completed\n",
      "\n",
      "1 Failed download:\n",
      "- NWT1: No timezone found, symbol may be delisted\n",
      "yahoo failed... len of df:  0\n",
      "tiingo failed... len of df:  0\n",
      "Added 1197 stocks to the db\n",
      "    ticker priceCurrency ticker_currency\n",
      "717   NWT1           USD        NWT1-USD\n",
      "********************\n",
      "[*********************100%***********************]  1 of 1 completed\n",
      "\n",
      "1 Failed download:\n",
      "- NXG1: No timezone found, symbol may be delisted\n",
      "yahoo failed... len of df:  0\n",
      "tiingo failed... len of df:  0\n",
      "Added 1198 stocks to the db\n",
      "    ticker priceCurrency ticker_currency\n",
      "387   NXG1           USD        NXG1-USD\n",
      "********************\n",
      "[*********************100%***********************]  1 of 1 completed\n"
     ]
    },
    {
     "name": "stderr",
     "output_type": "stream",
     "text": [
      "C:\\Users\\david\\anaconda3\\envs\\svmmvo\\lib\\site-packages\\pandas_datareader\\tiingo.py:234: FutureWarning: In a future version of pandas all arguments of concat except for the argument 'objs' will be keyword-only.\n",
      "  return pd.concat(dfs, self._concat_axis)\n"
     ]
    },
    {
     "name": "stdout",
     "output_type": "stream",
     "text": [
      "Added 1199 stocks to the db\n",
      "     ticker priceCurrency ticker_currency\n",
      "1535   NXPI           USD        NXPI-USD\n",
      "********************\n",
      "[*********************100%***********************]  1 of 1 completed\n",
      "\n",
      "1 Failed download:\n",
      "- NXTL1: No timezone found, symbol may be delisted\n",
      "yahoo failed... len of df:  0\n",
      "tiingo failed... len of df:  0\n",
      "Added 1200 stocks to the db\n",
      "    ticker priceCurrency ticker_currency\n",
      "230  NXTL1           USD       NXTL1-USD\n",
      "********************\n",
      "[*********************100%***********************]  1 of 1 completed\n",
      "\n",
      "1 Failed download:\n",
      "- NYN1: No timezone found, symbol may be delisted\n",
      "yahoo failed... len of df:  0\n",
      "tiingo failed... len of df:  0\n",
      "Added 1201 stocks to the db\n",
      "    ticker priceCurrency ticker_currency\n",
      "331   NYN1           USD        NYN1-USD\n",
      "********************\n",
      "[*********************100%***********************]  1 of 1 completed\n"
     ]
    },
    {
     "name": "stderr",
     "output_type": "stream",
     "text": [
      "C:\\Users\\david\\anaconda3\\envs\\svmmvo\\lib\\site-packages\\pandas_datareader\\tiingo.py:234: FutureWarning: In a future version of pandas all arguments of concat except for the argument 'objs' will be keyword-only.\n",
      "  return pd.concat(dfs, self._concat_axis)\n"
     ]
    },
    {
     "name": "stdout",
     "output_type": "stream",
     "text": [
      "Added 1202 stocks to the db\n",
      "     ticker priceCurrency ticker_currency\n",
      "1536    NYT           USD         NYT-USD\n",
      "********************\n",
      "[*********************100%***********************]  1 of 1 completed\n",
      "\n",
      "1 Failed download:\n",
      "- NYX2: No timezone found, symbol may be delisted\n",
      "yahoo failed... len of df:  0\n",
      "tiingo failed... len of df:  0\n",
      "Added 1203 stocks to the db\n",
      "    ticker priceCurrency ticker_currency\n",
      "146   NYX2           USD        NYX2-USD\n",
      "********************\n",
      "[*********************100%***********************]  1 of 1 completed\n"
     ]
    },
    {
     "name": "stderr",
     "output_type": "stream",
     "text": [
      "C:\\Users\\david\\anaconda3\\envs\\svmmvo\\lib\\site-packages\\pandas_datareader\\tiingo.py:234: FutureWarning: In a future version of pandas all arguments of concat except for the argument 'objs' will be keyword-only.\n",
      "  return pd.concat(dfs, self._concat_axis)\n"
     ]
    },
    {
     "name": "stdout",
     "output_type": "stream",
     "text": [
      "Added 1204 stocks to the db\n",
      "     ticker priceCurrency ticker_currency\n",
      "1537      O           USD           O-USD\n",
      "********************\n",
      "[*********************100%***********************]  1 of 1 completed\n",
      "\n",
      "1 Failed download:\n",
      "- OAT1: No timezone found, symbol may be delisted\n",
      "yahoo failed... len of df:  0\n",
      "tiingo failed... len of df:  0\n",
      "Added 1205 stocks to the db\n",
      "    ticker priceCurrency ticker_currency\n",
      "159   OAT1           USD        OAT1-USD\n",
      "********************\n",
      "[*********************100%***********************]  1 of 1 completed\n"
     ]
    },
    {
     "name": "stderr",
     "output_type": "stream",
     "text": [
      "C:\\Users\\david\\anaconda3\\envs\\svmmvo\\lib\\site-packages\\pandas_datareader\\tiingo.py:234: FutureWarning: In a future version of pandas all arguments of concat except for the argument 'objs' will be keyword-only.\n",
      "  return pd.concat(dfs, self._concat_axis)\n"
     ]
    },
    {
     "name": "stdout",
     "output_type": "stream",
     "text": [
      "Added 1206 stocks to the db\n",
      "     ticker priceCurrency ticker_currency\n",
      "1538   ODFL           USD        ODFL-USD\n",
      "********************\n",
      "[*********************100%***********************]  1 of 1 completed\n"
     ]
    },
    {
     "name": "stderr",
     "output_type": "stream",
     "text": [
      "C:\\Users\\david\\anaconda3\\envs\\svmmvo\\lib\\site-packages\\pandas_datareader\\tiingo.py:234: FutureWarning: In a future version of pandas all arguments of concat except for the argument 'objs' will be keyword-only.\n",
      "  return pd.concat(dfs, self._concat_axis)\n"
     ]
    },
    {
     "name": "stdout",
     "output_type": "stream",
     "text": [
      "Added 1207 stocks to the db\n",
      "     ticker priceCurrency ticker_currency\n",
      "1539    ODP           USD         ODP-USD\n",
      "********************\n",
      "[*********************100%***********************]  1 of 1 completed\n"
     ]
    },
    {
     "name": "stderr",
     "output_type": "stream",
     "text": [
      "C:\\Users\\david\\anaconda3\\envs\\svmmvo\\lib\\site-packages\\pandas_datareader\\tiingo.py:234: FutureWarning: In a future version of pandas all arguments of concat except for the argument 'objs' will be keyword-only.\n",
      "  return pd.concat(dfs, self._concat_axis)\n"
     ]
    },
    {
     "name": "stdout",
     "output_type": "stream",
     "text": [
      "Added 1208 stocks to the db\n",
      "     ticker priceCurrency ticker_currency\n",
      "1540    OGN           USD         OGN-USD\n",
      "********************\n",
      "[*********************100%***********************]  1 of 1 completed\n"
     ]
    },
    {
     "name": "stderr",
     "output_type": "stream",
     "text": [
      "C:\\Users\\david\\anaconda3\\envs\\svmmvo\\lib\\site-packages\\pandas_datareader\\tiingo.py:234: FutureWarning: In a future version of pandas all arguments of concat except for the argument 'objs' will be keyword-only.\n",
      "  return pd.concat(dfs, self._concat_axis)\n"
     ]
    },
    {
     "name": "stdout",
     "output_type": "stream",
     "text": [
      "Added 1209 stocks to the db\n",
      "     ticker priceCurrency ticker_currency\n",
      "1541     OI           USD          OI-USD\n",
      "********************\n",
      "[*********************100%***********************]  1 of 1 completed\n",
      "\n",
      "1 Failed download:\n",
      "- OI1: No timezone found, symbol may be delisted\n",
      "yahoo failed... len of df:  0\n",
      "tiingo failed... len of df:  0\n",
      "Added 1210 stocks to the db\n",
      "    ticker priceCurrency ticker_currency\n",
      "391    OI1           USD         OI1-USD\n",
      "********************\n",
      "[*********************100%***********************]  1 of 1 completed\n",
      "\n",
      "1 Failed download:\n",
      "- OK1: No timezone found, symbol may be delisted\n",
      "yahoo failed... len of df:  0\n",
      "tiingo failed... len of df:  0\n",
      "Added 1211 stocks to the db\n",
      "    ticker priceCurrency ticker_currency\n",
      "219    OK1           USD         OK1-USD\n",
      "********************\n",
      "[*********************100%***********************]  1 of 1 completed\n"
     ]
    },
    {
     "name": "stderr",
     "output_type": "stream",
     "text": [
      "C:\\Users\\david\\anaconda3\\envs\\svmmvo\\lib\\site-packages\\pandas_datareader\\tiingo.py:234: FutureWarning: In a future version of pandas all arguments of concat except for the argument 'objs' will be keyword-only.\n",
      "  return pd.concat(dfs, self._concat_axis)\n"
     ]
    },
    {
     "name": "stdout",
     "output_type": "stream",
     "text": [
      "Added 1212 stocks to the db\n",
      "     ticker priceCurrency ticker_currency\n",
      "1542    OKE           USD         OKE-USD\n",
      "********************\n",
      "[*********************100%***********************]  1 of 1 completed\n"
     ]
    },
    {
     "name": "stderr",
     "output_type": "stream",
     "text": [
      "C:\\Users\\david\\anaconda3\\envs\\svmmvo\\lib\\site-packages\\pandas_datareader\\tiingo.py:234: FutureWarning: In a future version of pandas all arguments of concat except for the argument 'objs' will be keyword-only.\n",
      "  return pd.concat(dfs, self._concat_axis)\n"
     ]
    },
    {
     "name": "stdout",
     "output_type": "stream",
     "text": [
      "Added 1213 stocks to the db\n",
      "     ticker priceCurrency ticker_currency\n",
      "1543    OLN           USD         OLN-USD\n",
      "********************\n",
      "[*********************100%***********************]  1 of 1 completed\n",
      "\n",
      "1 Failed download:\n",
      "- OM1: No timezone found, symbol may be delisted\n",
      "yahoo failed... len of df:  0\n",
      "tiingo failed... len of df:  0\n",
      "Added 1214 stocks to the db\n",
      "     ticker priceCurrency ticker_currency\n",
      "1544    OM1           USD         OM1-USD\n",
      "********************\n",
      "[*********************100%***********************]  1 of 1 completed\n"
     ]
    },
    {
     "name": "stderr",
     "output_type": "stream",
     "text": [
      "C:\\Users\\david\\anaconda3\\envs\\svmmvo\\lib\\site-packages\\pandas_datareader\\tiingo.py:234: FutureWarning: In a future version of pandas all arguments of concat except for the argument 'objs' will be keyword-only.\n",
      "  return pd.concat(dfs, self._concat_axis)\n"
     ]
    },
    {
     "name": "stdout",
     "output_type": "stream",
     "text": [
      "Added 1215 stocks to the db\n",
      "     ticker priceCurrency ticker_currency\n",
      "1545    OMC           USD         OMC-USD\n",
      "********************\n",
      "[*********************100%***********************]  1 of 1 completed\n",
      "\n",
      "1 Failed download:\n",
      "- OMC1: No timezone found, symbol may be delisted\n",
      "yahoo failed... len of df:  0\n",
      "tiingo failed... len of df:  0\n",
      "Added 1216 stocks to the db\n",
      "    ticker priceCurrency ticker_currency\n",
      "557   OMC1           USD        OMC1-USD\n",
      "********************\n",
      "[*********************100%***********************]  1 of 1 completed\n",
      "\n",
      "1 Failed download:\n",
      "- OMX2: No timezone found, symbol may be delisted\n",
      "yahoo failed... len of df:  0\n",
      "tiingo failed... len of df:  0\n",
      "Added 1217 stocks to the db\n",
      "    ticker priceCurrency ticker_currency\n",
      "126   OMX2           USD        OMX2-USD\n",
      "********************\n",
      "[*********************100%***********************]  1 of 1 completed\n"
     ]
    },
    {
     "name": "stderr",
     "output_type": "stream",
     "text": [
      "C:\\Users\\david\\anaconda3\\envs\\svmmvo\\lib\\site-packages\\pandas_datareader\\tiingo.py:234: FutureWarning: In a future version of pandas all arguments of concat except for the argument 'objs' will be keyword-only.\n",
      "  return pd.concat(dfs, self._concat_axis)\n"
     ]
    },
    {
     "name": "stdout",
     "output_type": "stream",
     "text": [
      "Added 1218 stocks to the db\n",
      "     ticker priceCurrency ticker_currency\n",
      "1546     ON           USD          ON-USD\n",
      "********************\n",
      "[*********************100%***********************]  1 of 1 completed\n"
     ]
    },
    {
     "name": "stderr",
     "output_type": "stream",
     "text": [
      "C:\\Users\\david\\anaconda3\\envs\\svmmvo\\lib\\site-packages\\pandas_datareader\\tiingo.py:234: FutureWarning: In a future version of pandas all arguments of concat except for the argument 'objs' will be keyword-only.\n",
      "  return pd.concat(dfs, self._concat_axis)\n"
     ]
    },
    {
     "name": "stdout",
     "output_type": "stream",
     "text": [
      "Added 1219 stocks to the db\n",
      "     ticker priceCurrency ticker_currency\n",
      "1547   ORCL           USD        ORCL-USD\n",
      "********************\n",
      "[*********************100%***********************]  1 of 1 completed\n"
     ]
    },
    {
     "name": "stderr",
     "output_type": "stream",
     "text": [
      "C:\\Users\\david\\anaconda3\\envs\\svmmvo\\lib\\site-packages\\pandas_datareader\\tiingo.py:234: FutureWarning: In a future version of pandas all arguments of concat except for the argument 'objs' will be keyword-only.\n",
      "  return pd.concat(dfs, self._concat_axis)\n"
     ]
    },
    {
     "name": "stdout",
     "output_type": "stream",
     "text": [
      "Added 1220 stocks to the db\n",
      "     ticker priceCurrency ticker_currency\n",
      "1548   ORLY           USD        ORLY-USD\n",
      "********************\n",
      "[*********************100%***********************]  1 of 1 completed\n",
      "\n",
      "1 Failed download:\n",
      "- ORX1: No timezone found, symbol may be delisted\n",
      "yahoo failed... len of df:  0\n",
      "tiingo failed... len of df:  0\n",
      "Added 1221 stocks to the db\n",
      "    ticker priceCurrency ticker_currency\n",
      "336   ORX1           USD        ORX1-USD\n",
      "********************\n",
      "[*********************100%***********************]  1 of 1 completed\n",
      "\n",
      "1 Failed download:\n",
      "- OT1: No timezone found, symbol may be delisted\n",
      "yahoo failed... len of df:  0\n",
      "tiingo failed... len of df:  0\n",
      "Added 1222 stocks to the db\n",
      "    ticker priceCurrency ticker_currency\n",
      "463    OT1           USD         OT1-USD\n",
      "********************\n",
      "[*********************100%***********************]  1 of 1 completed\n"
     ]
    },
    {
     "name": "stderr",
     "output_type": "stream",
     "text": [
      "C:\\Users\\david\\anaconda3\\envs\\svmmvo\\lib\\site-packages\\pandas_datareader\\tiingo.py:234: FutureWarning: In a future version of pandas all arguments of concat except for the argument 'objs' will be keyword-only.\n",
      "  return pd.concat(dfs, self._concat_axis)\n"
     ]
    },
    {
     "name": "stdout",
     "output_type": "stream",
     "text": [
      "Added 1223 stocks to the db\n",
      "     ticker priceCurrency ticker_currency\n",
      "1549   OTIS           USD        OTIS-USD\n",
      "********************\n",
      "[*********************100%***********************]  1 of 1 completed\n",
      "\n",
      "1 Failed download:\n",
      "- OVT1: No timezone found, symbol may be delisted\n",
      "yahoo failed... len of df:  0\n",
      "tiingo failed... len of df:  0\n",
      "Added 1224 stocks to the db\n",
      "    ticker priceCurrency ticker_currency\n",
      "526   OVT1           USD        OVT1-USD\n",
      "********************\n",
      "[*********************100%***********************]  1 of 1 completed\n",
      "\n",
      "1 Failed download:\n",
      "- OWENQ1: No timezone found, symbol may be delisted\n",
      "yahoo failed... len of df:  0\n",
      "tiingo failed... len of df:  0\n",
      "Added 1225 stocks to the db\n",
      "     ticker priceCurrency ticker_currency\n",
      "263  OWENQ1           USD      OWENQ1-USD\n",
      "********************\n",
      "[*********************100%***********************]  1 of 1 completed\n"
     ]
    },
    {
     "name": "stderr",
     "output_type": "stream",
     "text": [
      "C:\\Users\\david\\anaconda3\\envs\\svmmvo\\lib\\site-packages\\pandas_datareader\\tiingo.py:234: FutureWarning: In a future version of pandas all arguments of concat except for the argument 'objs' will be keyword-only.\n",
      "  return pd.concat(dfs, self._concat_axis)\n"
     ]
    },
    {
     "name": "stdout",
     "output_type": "stream",
     "text": [
      "Added 1226 stocks to the db\n",
      "     ticker priceCurrency ticker_currency\n",
      "1550    OXY           USD         OXY-USD\n",
      "********************\n",
      "[*********************100%***********************]  1 of 1 completed\n",
      "\n",
      "1 Failed download:\n",
      "- PA3: No timezone found, symbol may be delisted\n",
      "yahoo failed... len of df:  0\n",
      "tiingo failed... len of df:  0\n",
      "Added 1227 stocks to the db\n",
      "    ticker priceCurrency ticker_currency\n",
      "371    PA3           USD         PA3-USD\n",
      "********************\n",
      "[*********************100%***********************]  1 of 1 completed\n",
      "\n",
      "1 Failed download:\n",
      "- PABT1: No timezone found, symbol may be delisted\n",
      "yahoo failed... len of df:  0\n",
      "tiingo failed... len of df:  0\n",
      "Added 1228 stocks to the db\n",
      "    ticker priceCurrency ticker_currency\n",
      "645  PABT1           USD       PABT1-USD\n",
      "********************\n",
      "[*********************100%***********************]  1 of 1 completed\n",
      "\n",
      "1 Failed download:\n",
      "- PAC1: No timezone found, symbol may be delisted\n",
      "yahoo failed... len of df:  0\n",
      "tiingo failed... len of df:  0\n",
      "Added 1229 stocks to the db\n",
      "    ticker priceCurrency ticker_currency\n",
      "349   PAC1           USD        PAC1-USD\n",
      "********************\n",
      "[*********************100%***********************]  1 of 1 completed\n",
      "\n",
      "1 Failed download:\n",
      "- PAC2: No timezone found, symbol may be delisted\n",
      "yahoo failed... len of df:  0\n",
      "tiingo failed... len of df:  0\n",
      "Added 1230 stocks to the db\n",
      "    ticker priceCurrency ticker_currency\n",
      "715   PAC2           USD        PAC2-USD\n",
      "********************\n",
      "[*********************100%***********************]  1 of 1 completed\n",
      "\n",
      "1 Failed download:\n",
      "- PALM2: No timezone found, symbol may be delisted\n",
      "yahoo failed... len of df:  0\n",
      "tiingo failed... len of df:  0\n",
      "Added 1231 stocks to the db\n",
      "    ticker priceCurrency ticker_currency\n",
      "177  PALM2           USD       PALM2-USD\n",
      "********************\n",
      "[*********************100%***********************]  1 of 1 completed\n"
     ]
    },
    {
     "name": "stderr",
     "output_type": "stream",
     "text": [
      "C:\\Users\\david\\anaconda3\\envs\\svmmvo\\lib\\site-packages\\pandas_datareader\\tiingo.py:234: FutureWarning: In a future version of pandas all arguments of concat except for the argument 'objs' will be keyword-only.\n",
      "  return pd.concat(dfs, self._concat_axis)\n"
     ]
    },
    {
     "name": "stdout",
     "output_type": "stream",
     "text": [
      "Added 1232 stocks to the db\n",
      "     ticker priceCurrency ticker_currency\n",
      "1551   PARA           USD        PARA-USD\n",
      "********************\n",
      "[*********************100%***********************]  1 of 1 completed\n",
      "\n",
      "1 Failed download:\n",
      "- PAS1: No timezone found, symbol may be delisted\n",
      "yahoo failed... len of df:  0\n",
      "tiingo failed... len of df:  0\n",
      "Added 1233 stocks to the db\n",
      "     ticker priceCurrency ticker_currency\n",
      "1552   PAS1           USD        PAS1-USD\n",
      "********************\n",
      "[*********************100%***********************]  1 of 1 completed\n",
      "\n",
      "1 Failed download:\n",
      "- PAS3: No timezone found, symbol may be delisted\n",
      "yahoo failed... len of df:  0\n",
      "tiingo failed... len of df:  0\n",
      "Added 1234 stocks to the db\n",
      "    ticker priceCurrency ticker_currency\n",
      "174   PAS3           USD        PAS3-USD\n",
      "********************\n",
      "[*********************100%***********************]  1 of 1 completed\n"
     ]
    },
    {
     "name": "stderr",
     "output_type": "stream",
     "text": [
      "C:\\Users\\david\\anaconda3\\envs\\svmmvo\\lib\\site-packages\\pandas_datareader\\tiingo.py:234: FutureWarning: In a future version of pandas all arguments of concat except for the argument 'objs' will be keyword-only.\n",
      "  return pd.concat(dfs, self._concat_axis)\n"
     ]
    },
    {
     "name": "stdout",
     "output_type": "stream",
     "text": [
      "Added 1235 stocks to the db\n",
      "     ticker priceCurrency ticker_currency\n",
      "1553   PAYC           USD        PAYC-USD\n",
      "********************\n",
      "[*********************100%***********************]  1 of 1 completed\n"
     ]
    },
    {
     "name": "stderr",
     "output_type": "stream",
     "text": [
      "C:\\Users\\david\\anaconda3\\envs\\svmmvo\\lib\\site-packages\\pandas_datareader\\tiingo.py:234: FutureWarning: In a future version of pandas all arguments of concat except for the argument 'objs' will be keyword-only.\n",
      "  return pd.concat(dfs, self._concat_axis)\n"
     ]
    },
    {
     "name": "stdout",
     "output_type": "stream",
     "text": [
      "Added 1236 stocks to the db\n",
      "     ticker priceCurrency ticker_currency\n",
      "1554   PAYX           USD        PAYX-USD\n",
      "********************\n",
      "[*********************100%***********************]  1 of 1 completed\n",
      "\n",
      "1 Failed download:\n",
      "- PBCT1: No timezone found, symbol may be delisted\n",
      "yahoo failed... len of df:  0\n",
      "tiingo failed... len of df:  0\n",
      "Added 1237 stocks to the db\n",
      "  ticker priceCurrency ticker_currency\n",
      "5  PBCT1           USD       PBCT1-USD\n",
      "********************\n",
      "[*********************100%***********************]  1 of 1 completed\n",
      "\n",
      "1 Failed download:\n",
      "- PBD1: No timezone found, symbol may be delisted\n",
      "yahoo failed... len of df:  0\n",
      "tiingo failed... len of df:  0\n",
      "Added 1238 stocks to the db\n",
      "    ticker priceCurrency ticker_currency\n",
      "612   PBD1           USD        PBD1-USD\n",
      "********************\n",
      "[*********************100%***********************]  1 of 1 completed\n",
      "\n",
      "1 Failed download:\n",
      "- PBG2: No timezone found, symbol may be delisted\n",
      "yahoo failed... len of df:  0\n",
      "tiingo failed... len of df:  0\n",
      "Added 1239 stocks to the db\n",
      "    ticker priceCurrency ticker_currency\n",
      "175   PBG2           USD        PBG2-USD\n",
      "********************\n",
      "[*********************100%***********************]  1 of 1 completed\n"
     ]
    },
    {
     "name": "stderr",
     "output_type": "stream",
     "text": [
      "C:\\Users\\david\\anaconda3\\envs\\svmmvo\\lib\\site-packages\\pandas_datareader\\tiingo.py:234: FutureWarning: In a future version of pandas all arguments of concat except for the argument 'objs' will be keyword-only.\n",
      "  return pd.concat(dfs, self._concat_axis)\n"
     ]
    },
    {
     "name": "stdout",
     "output_type": "stream",
     "text": [
      "Added 1240 stocks to the db\n",
      "     ticker priceCurrency ticker_currency\n",
      "1555    PBI           USD         PBI-USD\n",
      "********************\n",
      "[*********************100%***********************]  1 of 1 completed\n",
      "\n",
      "1 Failed download:\n",
      "- PC2: No timezone found, symbol may be delisted\n",
      "yahoo failed... len of df:  0\n",
      "tiingo failed... len of df:  0\n",
      "Added 1241 stocks to the db\n",
      "    ticker priceCurrency ticker_currency\n",
      "562    PC2           USD         PC2-USD\n",
      "********************\n",
      "[*********************100%***********************]  1 of 1 completed\n"
     ]
    },
    {
     "name": "stderr",
     "output_type": "stream",
     "text": [
      "C:\\Users\\david\\anaconda3\\envs\\svmmvo\\lib\\site-packages\\pandas_datareader\\tiingo.py:234: FutureWarning: In a future version of pandas all arguments of concat except for the argument 'objs' will be keyword-only.\n",
      "  return pd.concat(dfs, self._concat_axis)\n"
     ]
    },
    {
     "name": "stdout",
     "output_type": "stream",
     "text": [
      "Added 1242 stocks to the db\n",
      "     ticker priceCurrency ticker_currency\n",
      "1556   PCAR           USD        PCAR-USD\n",
      "********************\n",
      "[*********************100%***********************]  1 of 1 completed\n"
     ]
    },
    {
     "name": "stderr",
     "output_type": "stream",
     "text": [
      "C:\\Users\\david\\anaconda3\\envs\\svmmvo\\lib\\site-packages\\pandas_datareader\\tiingo.py:234: FutureWarning: In a future version of pandas all arguments of concat except for the argument 'objs' will be keyword-only.\n",
      "  return pd.concat(dfs, self._concat_axis)\n"
     ]
    },
    {
     "name": "stdout",
     "output_type": "stream",
     "text": [
      "Added 1243 stocks to the db\n",
      "     ticker priceCurrency ticker_currency\n",
      "1557    PCG           USD         PCG-USD\n",
      "********************\n",
      "[*********************100%***********************]  1 of 1 completed\n"
     ]
    },
    {
     "name": "stderr",
     "output_type": "stream",
     "text": [
      "C:\\Users\\david\\anaconda3\\envs\\svmmvo\\lib\\site-packages\\pandas_datareader\\tiingo.py:234: FutureWarning: In a future version of pandas all arguments of concat except for the argument 'objs' will be keyword-only.\n",
      "  return pd.concat(dfs, self._concat_axis)\n"
     ]
    },
    {
     "name": "stdout",
     "output_type": "stream",
     "text": [
      "Added 1244 stocks to the db\n",
      "     ticker priceCurrency ticker_currency\n",
      "1558    PCH           USD         PCH-USD\n",
      "********************\n",
      "[*********************100%***********************]  1 of 1 completed\n",
      "\n",
      "1 Failed download:\n",
      "- PCI1: No timezone found, symbol may be delisted\n",
      "yahoo failed... len of df:  0\n",
      "tiingo failed... len of df:  0\n",
      "Added 1245 stocks to the db\n",
      "    ticker priceCurrency ticker_currency\n",
      "423   PCI1           USD        PCI1-USD\n",
      "********************\n",
      "[*********************100%***********************]  1 of 1 completed\n",
      "\n",
      "1 Failed download:\n",
      "- PCLB1: No timezone found, symbol may be delisted\n",
      "yahoo failed... len of df:  0\n",
      "tiingo failed... len of df:  0\n",
      "Added 1246 stocks to the db\n",
      "    ticker priceCurrency ticker_currency\n",
      "639  PCLB1           USD       PCLB1-USD\n",
      "********************\n",
      "[*********************100%***********************]  1 of 1 completed\n",
      "\n",
      "1 Failed download:\n",
      "- PCN2: No timezone found, symbol may be delisted\n",
      "yahoo failed... len of df:  0\n",
      "tiingo failed... len of df:  0\n",
      "Added 1247 stocks to the db\n",
      "    ticker priceCurrency ticker_currency\n",
      "671   PCN2           USD        PCN2-USD\n",
      "********************\n",
      "[*********************100%***********************]  1 of 1 completed\n",
      "\n",
      "1 Failed download:\n",
      "- PCP3: No timezone found, symbol may be delisted\n",
      "yahoo failed... len of df:  0\n",
      "tiingo failed... len of df:  0\n",
      "Added 1248 stocks to the db\n",
      "   ticker priceCurrency ticker_currency\n",
      "55   PCP3           USD        PCP3-USD\n",
      "********************\n",
      "[*********************100%***********************]  1 of 1 completed\n",
      "\n",
      "1 Failed download:\n",
      "- PCS1: No timezone found, symbol may be delisted\n",
      "yahoo failed... len of df:  0\n",
      "tiingo failed... len of df:  0\n",
      "Added 1249 stocks to the db\n",
      "    ticker priceCurrency ticker_currency\n",
      "291   PCS1           USD        PCS1-USD\n",
      "********************\n",
      "[*********************100%***********************]  1 of 1 completed\n",
      "\n",
      "1 Failed download:\n",
      "- PD1: No timezone found, symbol may be delisted\n",
      "yahoo failed... len of df:  0\n",
      "tiingo failed... len of df:  0\n",
      "Added 1250 stocks to the db\n",
      "     ticker priceCurrency ticker_currency\n",
      "1559    PD1           USD         PD1-USD\n",
      "********************\n",
      "[*********************100%***********************]  1 of 1 completed\n",
      "\n",
      "1 Failed download:\n",
      "- PDC1: No timezone found, symbol may be delisted\n",
      "yahoo failed... len of df:  0\n",
      "tiingo failed... len of df:  0\n",
      "Added 1251 stocks to the db\n",
      "    ticker priceCurrency ticker_currency\n",
      "555   PDC1           USD        PDC1-USD\n",
      "********************\n",
      "[*********************100%***********************]  1 of 1 completed\n"
     ]
    },
    {
     "name": "stderr",
     "output_type": "stream",
     "text": [
      "C:\\Users\\david\\anaconda3\\envs\\svmmvo\\lib\\site-packages\\pandas_datareader\\tiingo.py:234: FutureWarning: In a future version of pandas all arguments of concat except for the argument 'objs' will be keyword-only.\n",
      "  return pd.concat(dfs, self._concat_axis)\n"
     ]
    },
    {
     "name": "stdout",
     "output_type": "stream",
     "text": [
      "Added 1252 stocks to the db\n",
      "     ticker priceCurrency ticker_currency\n",
      "1560   PDCO           USD        PDCO-USD\n",
      "********************\n",
      "[*********************100%***********************]  1 of 1 completed\n",
      "\n",
      "1 Failed download:\n",
      "- PDG1: No timezone found, symbol may be delisted\n",
      "yahoo failed... len of df:  0\n",
      "tiingo failed... len of df:  0\n",
      "Added 1253 stocks to the db\n",
      "    ticker priceCurrency ticker_currency\n",
      "287   PDG1           USD        PDG1-USD\n",
      "********************\n",
      "[*********************100%***********************]  1 of 1 completed\n",
      "\n",
      "1 Failed download:\n",
      "- PDQ2: No timezone found, symbol may be delisted\n",
      "yahoo failed... len of df:  0\n",
      "tiingo failed... len of df:  0\n",
      "Added 1254 stocks to the db\n",
      "    ticker priceCurrency ticker_currency\n",
      "923   PDQ2           USD        PDQ2-USD\n",
      "********************\n",
      "[*********************100%***********************]  1 of 1 completed\n",
      "\n",
      "1 Failed download:\n",
      "- PDY1: No timezone found, symbol may be delisted\n",
      "yahoo failed... len of df:  0\n",
      "tiingo failed... len of df:  0\n",
      "Added 1255 stocks to the db\n",
      "    ticker priceCurrency ticker_currency\n",
      "842   PDY1           USD        PDY1-USD\n",
      "********************\n",
      "[*********************100%***********************]  1 of 1 completed\n"
     ]
    },
    {
     "name": "stderr",
     "output_type": "stream",
     "text": [
      "C:\\Users\\david\\anaconda3\\envs\\svmmvo\\lib\\site-packages\\pandas_datareader\\tiingo.py:234: FutureWarning: In a future version of pandas all arguments of concat except for the argument 'objs' will be keyword-only.\n",
      "  return pd.concat(dfs, self._concat_axis)\n"
     ]
    },
    {
     "name": "stdout",
     "output_type": "stream",
     "text": [
      "Added 1256 stocks to the db\n",
      "     ticker priceCurrency ticker_currency\n",
      "1561   PEAK           USD        PEAK-USD\n",
      "********************\n",
      "[*********************100%***********************]  1 of 1 completed\n"
     ]
    },
    {
     "name": "stderr",
     "output_type": "stream",
     "text": [
      "C:\\Users\\david\\anaconda3\\envs\\svmmvo\\lib\\site-packages\\pandas_datareader\\tiingo.py:234: FutureWarning: In a future version of pandas all arguments of concat except for the argument 'objs' will be keyword-only.\n",
      "  return pd.concat(dfs, self._concat_axis)\n"
     ]
    },
    {
     "name": "stdout",
     "output_type": "stream",
     "text": [
      "Added 1257 stocks to the db\n",
      "     ticker priceCurrency ticker_currency\n",
      "1562    PEG           USD         PEG-USD\n",
      "********************\n",
      "[*********************100%***********************]  1 of 1 completed\n",
      "\n",
      "1 Failed download:\n",
      "- PEL1: No timezone found, symbol may be delisted\n",
      "yahoo failed... len of df:  0\n",
      "tiingo failed... len of df:  0\n",
      "Added 1258 stocks to the db\n",
      "    ticker priceCurrency ticker_currency\n",
      "307   PEL1           USD        PEL1-USD\n",
      "********************\n",
      "[*********************100%***********************]  1 of 1 completed\n"
     ]
    },
    {
     "name": "stderr",
     "output_type": "stream",
     "text": [
      "C:\\Users\\david\\anaconda3\\envs\\svmmvo\\lib\\site-packages\\pandas_datareader\\tiingo.py:234: FutureWarning: In a future version of pandas all arguments of concat except for the argument 'objs' will be keyword-only.\n",
      "  return pd.concat(dfs, self._concat_axis)\n"
     ]
    },
    {
     "name": "stdout",
     "output_type": "stream",
     "text": [
      "Added 1259 stocks to the db\n",
      "     ticker priceCurrency ticker_currency\n",
      "1563   PENN           USD        PENN-USD\n",
      "********************\n",
      "[*********************100%***********************]  1 of 1 completed\n"
     ]
    },
    {
     "name": "stderr",
     "output_type": "stream",
     "text": [
      "C:\\Users\\david\\anaconda3\\envs\\svmmvo\\lib\\site-packages\\pandas_datareader\\tiingo.py:234: FutureWarning: In a future version of pandas all arguments of concat except for the argument 'objs' will be keyword-only.\n",
      "  return pd.concat(dfs, self._concat_axis)\n"
     ]
    },
    {
     "name": "stdout",
     "output_type": "stream",
     "text": [
      "Added 1260 stocks to the db\n",
      "     ticker priceCurrency ticker_currency\n",
      "1564    PEP           USD         PEP-USD\n",
      "********************\n",
      "[*********************100%***********************]  1 of 1 completed\n",
      "\n",
      "1 Failed download:\n",
      "- PET1: No timezone found, symbol may be delisted\n",
      "yahoo failed... len of df:  0\n",
      "tiingo failed... len of df:  0\n",
      "Added 1261 stocks to the db\n",
      "    ticker priceCurrency ticker_currency\n",
      "315   PET1           USD        PET1-USD\n",
      "********************\n",
      "[*********************100%***********************]  1 of 1 completed\n",
      "\n",
      "1 Failed download:\n",
      "- PET2: No timezone found, symbol may be delisted\n",
      "yahoo failed... len of df:  0\n",
      "tiingo failed... len of df:  0\n",
      "Added 1262 stocks to the db\n",
      "    ticker priceCurrency ticker_currency\n",
      "633   PET2           USD        PET2-USD\n",
      "********************\n",
      "[*********************100%***********************]  1 of 1 completed\n",
      "\n",
      "1 Failed download:\n",
      "- PETM1: No timezone found, symbol may be delisted\n",
      "yahoo failed... len of df:  0\n",
      "tiingo failed... len of df:  0\n",
      "Added 1263 stocks to the db\n",
      "   ticker priceCurrency ticker_currency\n",
      "83  PETM1           USD       PETM1-USD\n",
      "********************\n",
      "[*********************100%***********************]  1 of 1 completed\n"
     ]
    },
    {
     "name": "stderr",
     "output_type": "stream",
     "text": [
      "C:\\Users\\david\\anaconda3\\envs\\svmmvo\\lib\\site-packages\\pandas_datareader\\tiingo.py:234: FutureWarning: In a future version of pandas all arguments of concat except for the argument 'objs' will be keyword-only.\n",
      "  return pd.concat(dfs, self._concat_axis)\n"
     ]
    },
    {
     "name": "stdout",
     "output_type": "stream",
     "text": [
      "Added 1264 stocks to the db\n",
      "     ticker priceCurrency ticker_currency\n",
      "1565    PFE           USD         PFE-USD\n",
      "********************\n",
      "[*********************100%***********************]  1 of 1 completed\n"
     ]
    },
    {
     "name": "stderr",
     "output_type": "stream",
     "text": [
      "C:\\Users\\david\\anaconda3\\envs\\svmmvo\\lib\\site-packages\\pandas_datareader\\tiingo.py:234: FutureWarning: In a future version of pandas all arguments of concat except for the argument 'objs' will be keyword-only.\n",
      "  return pd.concat(dfs, self._concat_axis)\n"
     ]
    },
    {
     "name": "stdout",
     "output_type": "stream",
     "text": [
      "Added 1265 stocks to the db\n",
      "     ticker priceCurrency ticker_currency\n",
      "1566    PFG           USD         PFG-USD\n",
      "********************\n",
      "[*********************100%***********************]  1 of 1 completed\n",
      "\n",
      "1 Failed download:\n",
      "- PFK1: No timezone found, symbol may be delisted\n",
      "yahoo failed... len of df:  0\n",
      "tiingo failed... len of df:  0\n",
      "Added 1266 stocks to the db\n",
      "    ticker priceCurrency ticker_currency\n",
      "695   PFK1           USD        PFK1-USD\n",
      "********************\n",
      "[*********************100%***********************]  1 of 1 completed\n"
     ]
    },
    {
     "name": "stderr",
     "output_type": "stream",
     "text": [
      "C:\\Users\\david\\anaconda3\\envs\\svmmvo\\lib\\site-packages\\pandas_datareader\\tiingo.py:234: FutureWarning: In a future version of pandas all arguments of concat except for the argument 'objs' will be keyword-only.\n",
      "  return pd.concat(dfs, self._concat_axis)\n"
     ]
    },
    {
     "name": "stdout",
     "output_type": "stream",
     "text": [
      "Added 1267 stocks to the db\n",
      "     ticker priceCurrency ticker_currency\n",
      "1567     PG           USD          PG-USD\n",
      "********************\n",
      "[*********************100%***********************]  1 of 1 completed\n",
      "\n",
      "1 Failed download:\n",
      "- PGL1: No timezone found, symbol may be delisted\n",
      "yahoo failed... len of df:  0\n",
      "tiingo failed... len of df:  0\n",
      "Added 1268 stocks to the db\n",
      "    ticker priceCurrency ticker_currency\n",
      "132   PGL1           USD        PGL1-USD\n",
      "********************\n",
      "[*********************100%***********************]  1 of 1 completed\n",
      "\n",
      "1 Failed download:\n",
      "- PGN3: No timezone found, symbol may be delisted\n",
      "yahoo failed... len of df:  0\n",
      "tiingo failed... len of df:  0\n",
      "Added 1269 stocks to the db\n",
      "    ticker priceCurrency ticker_currency\n",
      "134   PGN3           USD        PGN3-USD\n",
      "********************\n",
      "[*********************100%***********************]  1 of 1 completed\n"
     ]
    },
    {
     "name": "stderr",
     "output_type": "stream",
     "text": [
      "C:\\Users\\david\\anaconda3\\envs\\svmmvo\\lib\\site-packages\\pandas_datareader\\tiingo.py:234: FutureWarning: In a future version of pandas all arguments of concat except for the argument 'objs' will be keyword-only.\n",
      "  return pd.concat(dfs, self._concat_axis)\n"
     ]
    },
    {
     "name": "stdout",
     "output_type": "stream",
     "text": [
      "Added 1270 stocks to the db\n",
      "     ticker priceCurrency ticker_currency\n",
      "1568    PGR           USD         PGR-USD\n",
      "********************\n",
      "[*********************100%***********************]  1 of 1 completed\n"
     ]
    },
    {
     "name": "stderr",
     "output_type": "stream",
     "text": [
      "C:\\Users\\david\\anaconda3\\envs\\svmmvo\\lib\\site-packages\\pandas_datareader\\tiingo.py:234: FutureWarning: In a future version of pandas all arguments of concat except for the argument 'objs' will be keyword-only.\n",
      "  return pd.concat(dfs, self._concat_axis)\n"
     ]
    },
    {
     "name": "stdout",
     "output_type": "stream",
     "text": [
      "Added 1271 stocks to the db\n",
      "     ticker priceCurrency ticker_currency\n",
      "1569     PH           USD          PH-USD\n",
      "********************\n",
      "[*********************100%***********************]  1 of 1 completed\n",
      "\n",
      "1 Failed download:\n",
      "- PHA1: No timezone found, symbol may be delisted\n",
      "yahoo failed... len of df:  0\n",
      "tiingo failed... len of df:  0\n",
      "Added 1272 stocks to the db\n",
      "    ticker priceCurrency ticker_currency\n",
      "220   PHA1           USD        PHA1-USD\n",
      "********************\n",
      "[*********************100%***********************]  1 of 1 completed\n",
      "\n",
      "1 Failed download:\n",
      "- PHB1: No timezone found, symbol may be delisted\n",
      "yahoo failed... len of df:  0\n",
      "tiingo failed... len of df:  0\n",
      "Added 1273 stocks to the db\n",
      "     ticker priceCurrency ticker_currency\n",
      "1570   PHB1           USD        PHB1-USD\n",
      "********************\n",
      "[*********************100%***********************]  1 of 1 completed\n",
      "\n",
      "1 Failed download:\n",
      "- PHL1: No timezone found, symbol may be delisted\n",
      "yahoo failed... len of df:  0\n",
      "tiingo failed... len of df:  0\n",
      "Added 1274 stocks to the db\n",
      "    ticker priceCurrency ticker_currency\n",
      "725   PHL1           USD        PHL1-USD\n",
      "********************\n",
      "[*********************100%***********************]  1 of 1 completed\n",
      "\n",
      "1 Failed download:\n",
      "- PHL2: No timezone found, symbol may be delisted\n",
      "yahoo failed... len of df:  0\n",
      "tiingo failed... len of df:  0\n",
      "Added 1275 stocks to the db\n",
      "    ticker priceCurrency ticker_currency\n",
      "949   PHL2           USD        PHL2-USD\n",
      "********************\n",
      "[*********************100%***********************]  1 of 1 completed\n"
     ]
    },
    {
     "name": "stderr",
     "output_type": "stream",
     "text": [
      "C:\\Users\\david\\anaconda3\\envs\\svmmvo\\lib\\site-packages\\pandas_datareader\\tiingo.py:234: FutureWarning: In a future version of pandas all arguments of concat except for the argument 'objs' will be keyword-only.\n",
      "  return pd.concat(dfs, self._concat_axis)\n"
     ]
    },
    {
     "name": "stdout",
     "output_type": "stream",
     "text": [
      "Added 1276 stocks to the db\n",
      "     ticker priceCurrency ticker_currency\n",
      "1571    PHM           USD         PHM-USD\n",
      "********************\n",
      "[*********************100%***********************]  1 of 1 completed\n",
      "\n",
      "1 Failed download:\n",
      "- PIN1: No timezone found, symbol may be delisted\n",
      "yahoo failed... len of df:  0\n",
      "tiingo failed... len of df:  0\n",
      "Added 1277 stocks to the db\n",
      "     ticker priceCurrency ticker_currency\n",
      "1572   PIN1           USD        PIN1-USD\n",
      "********************\n",
      "[*********************100%***********************]  1 of 1 completed\n",
      "\n",
      "1 Failed download:\n",
      "- PIZ1: No timezone found, symbol may be delisted\n",
      "yahoo failed... len of df:  0\n",
      "tiingo failed... len of df:  0\n",
      "Added 1278 stocks to the db\n",
      "    ticker priceCurrency ticker_currency\n",
      "970   PIZ1           USD        PIZ1-USD\n",
      "********************\n",
      "[*********************100%***********************]  1 of 1 completed\n",
      "\n",
      "1 Failed download:\n",
      "- PJ1: No timezone found, symbol may be delisted\n",
      "yahoo failed... len of df:  0\n",
      "tiingo failed... len of df:  0\n",
      "Added 1279 stocks to the db\n",
      "    ticker priceCurrency ticker_currency\n",
      "911    PJ1           USD         PJ1-USD\n",
      "********************\n",
      "[*********************100%***********************]  1 of 1 completed\n",
      "\n",
      "1 Failed download:\n",
      "- PKA1: No timezone found, symbol may be delisted\n",
      "yahoo failed... len of df:  0\n",
      "tiingo failed... len of df:  0\n",
      "Added 1280 stocks to the db\n",
      "    ticker priceCurrency ticker_currency\n",
      "974   PKA1           USD        PKA1-USD\n",
      "********************\n",
      "[*********************100%***********************]  1 of 1 completed\n"
     ]
    },
    {
     "name": "stderr",
     "output_type": "stream",
     "text": [
      "C:\\Users\\david\\anaconda3\\envs\\svmmvo\\lib\\site-packages\\pandas_datareader\\tiingo.py:234: FutureWarning: In a future version of pandas all arguments of concat except for the argument 'objs' will be keyword-only.\n",
      "  return pd.concat(dfs, self._concat_axis)\n"
     ]
    },
    {
     "name": "stdout",
     "output_type": "stream",
     "text": [
      "Added 1281 stocks to the db\n",
      "     ticker priceCurrency ticker_currency\n",
      "1573    PKG           USD         PKG-USD\n",
      "********************\n",
      "[*********************100%***********************]  1 of 1 completed\n"
     ]
    },
    {
     "name": "stderr",
     "output_type": "stream",
     "text": [
      "C:\\Users\\david\\anaconda3\\envs\\svmmvo\\lib\\site-packages\\pandas_datareader\\tiingo.py:234: FutureWarning: In a future version of pandas all arguments of concat except for the argument 'objs' will be keyword-only.\n",
      "  return pd.concat(dfs, self._concat_axis)\n"
     ]
    },
    {
     "name": "stdout",
     "output_type": "stream",
     "text": [
      "Added 1282 stocks to the db\n",
      "     ticker priceCurrency ticker_currency\n",
      "1574    PKI           USD         PKI-USD\n",
      "********************\n",
      "[*********************100%***********************]  1 of 1 completed\n"
     ]
    },
    {
     "name": "stderr",
     "output_type": "stream",
     "text": [
      "C:\\Users\\david\\anaconda3\\envs\\svmmvo\\lib\\site-packages\\pandas_datareader\\tiingo.py:234: FutureWarning: In a future version of pandas all arguments of concat except for the argument 'objs' will be keyword-only.\n",
      "  return pd.concat(dfs, self._concat_axis)\n"
     ]
    },
    {
     "name": "stdout",
     "output_type": "stream",
     "text": [
      "Added 1283 stocks to the db\n",
      "     ticker priceCurrency ticker_currency\n",
      "1575    PLD           USD         PLD-USD\n",
      "********************\n",
      "[*********************100%***********************]  1 of 1 completed\n",
      "\n",
      "1 Failed download:\n",
      "- PLD2: No timezone found, symbol may be delisted\n",
      "yahoo failed... len of df:  0\n",
      "tiingo failed... len of df:  0\n",
      "Added 1284 stocks to the db\n",
      "    ticker priceCurrency ticker_currency\n",
      "271   PLD2           USD        PLD2-USD\n",
      "********************\n",
      "[*********************100%***********************]  1 of 1 completed\n",
      "\n",
      "1 Failed download:\n",
      "- PLL1: No timezone found, symbol may be delisted\n",
      "yahoo failed... len of df:  0\n",
      "tiingo failed... len of df:  0\n",
      "Added 1285 stocks to the db\n",
      "     ticker priceCurrency ticker_currency\n",
      "1576   PLL1           USD        PLL1-USD\n",
      "********************\n",
      "[*********************100%***********************]  1 of 1 completed\n"
     ]
    },
    {
     "name": "stderr",
     "output_type": "stream",
     "text": [
      "C:\\Users\\david\\anaconda3\\envs\\svmmvo\\lib\\site-packages\\pandas_datareader\\tiingo.py:234: FutureWarning: In a future version of pandas all arguments of concat except for the argument 'objs' will be keyword-only.\n",
      "  return pd.concat(dfs, self._concat_axis)\n"
     ]
    },
    {
     "name": "stdout",
     "output_type": "stream",
     "text": [
      "Added 1286 stocks to the db\n",
      "     ticker priceCurrency ticker_currency\n",
      "1577     PM           USD          PM-USD\n",
      "********************\n",
      "[*********************100%***********************]  1 of 1 completed\n",
      "\n",
      "1 Failed download:\n",
      "- PMI1: No timezone found, symbol may be delisted\n",
      "yahoo failed... len of df:  0\n",
      "tiingo failed... len of df:  0\n",
      "Added 1287 stocks to the db\n",
      "    ticker priceCurrency ticker_currency\n",
      "345   PMI1           USD        PMI1-USD\n",
      "********************\n",
      "[*********************100%***********************]  1 of 1 completed\n",
      "\n",
      "1 Failed download:\n",
      "- PN2: No timezone found, symbol may be delisted\n",
      "yahoo failed... len of df:  0\n",
      "tiingo failed... len of df:  0\n",
      "Added 1288 stocks to the db\n",
      "    ticker priceCurrency ticker_currency\n",
      "608    PN2           USD         PN2-USD\n",
      "********************\n",
      "[*********************100%***********************]  1 of 1 completed\n"
     ]
    },
    {
     "name": "stderr",
     "output_type": "stream",
     "text": [
      "C:\\Users\\david\\anaconda3\\envs\\svmmvo\\lib\\site-packages\\pandas_datareader\\tiingo.py:234: FutureWarning: In a future version of pandas all arguments of concat except for the argument 'objs' will be keyword-only.\n",
      "  return pd.concat(dfs, self._concat_axis)\n"
     ]
    },
    {
     "name": "stdout",
     "output_type": "stream",
     "text": [
      "Added 1289 stocks to the db\n",
      "     ticker priceCurrency ticker_currency\n",
      "1578    PNC           USD         PNC-USD\n",
      "********************\n",
      "[*********************100%***********************]  1 of 1 completed\n"
     ]
    },
    {
     "name": "stderr",
     "output_type": "stream",
     "text": [
      "C:\\Users\\david\\anaconda3\\envs\\svmmvo\\lib\\site-packages\\pandas_datareader\\tiingo.py:234: FutureWarning: In a future version of pandas all arguments of concat except for the argument 'objs' will be keyword-only.\n",
      "  return pd.concat(dfs, self._concat_axis)\n"
     ]
    },
    {
     "name": "stdout",
     "output_type": "stream",
     "text": [
      "Added 1290 stocks to the db\n",
      "     ticker priceCurrency ticker_currency\n",
      "1579    PNR           USD         PNR-USD\n",
      "********************\n",
      "[*********************100%***********************]  1 of 1 completed\n",
      "\n",
      "1 Failed download:\n",
      "- PNS2: No timezone found, symbol may be delisted\n",
      "yahoo failed... len of df:  0\n",
      "tiingo failed... len of df:  0\n",
      "Added 1291 stocks to the db\n",
      "    ticker priceCurrency ticker_currency\n",
      "817   PNS2           USD        PNS2-USD\n",
      "********************\n",
      "[*********************100%***********************]  1 of 1 completed\n",
      "\n",
      "1 Failed download:\n",
      "- PNU1: No timezone found, symbol may be delisted\n",
      "yahoo failed... len of df:  0\n",
      "tiingo failed... len of df:  0\n",
      "Added 1292 stocks to the db\n",
      "    ticker priceCurrency ticker_currency\n",
      "347   PNU1           USD        PNU1-USD\n",
      "********************\n",
      "[*********************100%***********************]  1 of 1 completed\n"
     ]
    },
    {
     "name": "stderr",
     "output_type": "stream",
     "text": [
      "C:\\Users\\david\\anaconda3\\envs\\svmmvo\\lib\\site-packages\\pandas_datareader\\tiingo.py:234: FutureWarning: In a future version of pandas all arguments of concat except for the argument 'objs' will be keyword-only.\n",
      "  return pd.concat(dfs, self._concat_axis)\n"
     ]
    },
    {
     "name": "stdout",
     "output_type": "stream",
     "text": [
      "Added 1293 stocks to the db\n",
      "     ticker priceCurrency ticker_currency\n",
      "1580    PNW           USD         PNW-USD\n",
      "********************\n",
      "[*********************100%***********************]  1 of 1 completed\n"
     ]
    },
    {
     "name": "stderr",
     "output_type": "stream",
     "text": [
      "C:\\Users\\david\\anaconda3\\envs\\svmmvo\\lib\\site-packages\\pandas_datareader\\tiingo.py:234: FutureWarning: In a future version of pandas all arguments of concat except for the argument 'objs' will be keyword-only.\n",
      "  return pd.concat(dfs, self._concat_axis)\n"
     ]
    },
    {
     "name": "stdout",
     "output_type": "stream",
     "text": [
      "Added 1294 stocks to the db\n",
      "     ticker priceCurrency ticker_currency\n",
      "1581   PODD           USD        PODD-USD\n",
      "********************\n",
      "[*********************100%***********************]  1 of 1 completed\n",
      "\n",
      "1 Failed download:\n",
      "- POM1: No timezone found, symbol may be delisted\n",
      "yahoo failed... len of df:  0\n",
      "tiingo failed... len of df:  0\n",
      "Added 1295 stocks to the db\n",
      "   ticker priceCurrency ticker_currency\n",
      "46   POM1           USD        POM1-USD\n",
      "********************\n",
      "[*********************100%***********************]  1 of 1 completed\n"
     ]
    },
    {
     "name": "stderr",
     "output_type": "stream",
     "text": [
      "C:\\Users\\david\\anaconda3\\envs\\svmmvo\\lib\\site-packages\\pandas_datareader\\tiingo.py:234: FutureWarning: In a future version of pandas all arguments of concat except for the argument 'objs' will be keyword-only.\n",
      "  return pd.concat(dfs, self._concat_axis)\n"
     ]
    },
    {
     "name": "stdout",
     "output_type": "stream",
     "text": [
      "Added 1296 stocks to the db\n",
      "     ticker priceCurrency ticker_currency\n",
      "1582   POOL           USD        POOL-USD\n",
      "********************\n",
      "[*********************100%***********************]  1 of 1 completed\n"
     ]
    },
    {
     "name": "stderr",
     "output_type": "stream",
     "text": [
      "C:\\Users\\david\\anaconda3\\envs\\svmmvo\\lib\\site-packages\\pandas_datareader\\tiingo.py:234: FutureWarning: In a future version of pandas all arguments of concat except for the argument 'objs' will be keyword-only.\n",
      "  return pd.concat(dfs, self._concat_axis)\n"
     ]
    },
    {
     "name": "stdout",
     "output_type": "stream",
     "text": [
      "Added 1297 stocks to the db\n",
      "     ticker priceCurrency ticker_currency\n",
      "1583    PPG           USD         PPG-USD\n",
      "********************\n",
      "[*********************100%***********************]  1 of 1 completed\n",
      "\n",
      "1 Failed download:\n",
      "- PPI1: No timezone found, symbol may be delisted\n",
      "yahoo failed... len of df:  0\n",
      "tiingo failed... len of df:  0\n",
      "Added 1298 stocks to the db\n",
      "    ticker priceCurrency ticker_currency\n",
      "810   PPI1           USD        PPI1-USD\n",
      "********************\n",
      "[*********************100%***********************]  1 of 1 completed\n"
     ]
    },
    {
     "name": "stderr",
     "output_type": "stream",
     "text": [
      "C:\\Users\\david\\anaconda3\\envs\\svmmvo\\lib\\site-packages\\pandas_datareader\\tiingo.py:234: FutureWarning: In a future version of pandas all arguments of concat except for the argument 'objs' will be keyword-only.\n",
      "  return pd.concat(dfs, self._concat_axis)\n"
     ]
    },
    {
     "name": "stdout",
     "output_type": "stream",
     "text": [
      "Added 1299 stocks to the db\n",
      "     ticker priceCurrency ticker_currency\n",
      "1584    PPL           USD         PPL-USD\n",
      "********************\n",
      "[*********************100%***********************]  1 of 1 completed\n",
      "\n",
      "1 Failed download:\n",
      "- PPW1: No timezone found, symbol may be delisted\n",
      "yahoo failed... len of df:  0\n",
      "tiingo failed... len of df:  0\n",
      "Added 1300 stocks to the db\n",
      "    ticker priceCurrency ticker_currency\n",
      "339   PPW1           USD        PPW1-USD\n",
      "********************\n",
      "[*********************100%***********************]  1 of 1 completed\n",
      "\n",
      "1 Failed download:\n",
      "- PQT1: No timezone found, symbol may be delisted\n",
      "yahoo failed... len of df:  0\n",
      "tiingo failed... len of df:  0\n",
      "Added 1301 stocks to the db\n",
      "    ticker priceCurrency ticker_currency\n",
      "829   PQT1           USD        PQT1-USD\n",
      "********************\n",
      "[*********************100%***********************]  1 of 1 completed\n",
      "\n",
      "1 Failed download:\n",
      "- PRDCQ1: No timezone found, symbol may be delisted\n",
      "yahoo failed... len of df:  0\n",
      "tiingo failed... len of df:  0\n",
      "Added 1302 stocks to the db\n",
      "     ticker priceCurrency ticker_currency\n",
      "213  PRDCQ1           USD      PRDCQ1-USD\n",
      "********************\n",
      "[*********************100%***********************]  1 of 1 completed\n"
     ]
    },
    {
     "name": "stderr",
     "output_type": "stream",
     "text": [
      "C:\\Users\\david\\anaconda3\\envs\\svmmvo\\lib\\site-packages\\pandas_datareader\\tiingo.py:234: FutureWarning: In a future version of pandas all arguments of concat except for the argument 'objs' will be keyword-only.\n",
      "  return pd.concat(dfs, self._concat_axis)\n"
     ]
    },
    {
     "name": "stdout",
     "output_type": "stream",
     "text": [
      "Added 1303 stocks to the db\n",
      "     ticker priceCurrency ticker_currency\n",
      "1585   PRGO           USD        PRGO-USD\n",
      "********************\n",
      "[*********************100%***********************]  1 of 1 completed\n",
      "\n",
      "1 Failed download:\n",
      "- PRM1: No timezone found, symbol may be delisted\n",
      "yahoo failed... len of df:  0\n",
      "tiingo failed... len of df:  0\n",
      "Added 1304 stocks to the db\n",
      "    ticker priceCurrency ticker_currency\n",
      "937   PRM1           USD        PRM1-USD\n",
      "********************\n",
      "[*********************100%***********************]  1 of 1 completed\n"
     ]
    },
    {
     "name": "stderr",
     "output_type": "stream",
     "text": [
      "C:\\Users\\david\\anaconda3\\envs\\svmmvo\\lib\\site-packages\\pandas_datareader\\tiingo.py:234: FutureWarning: In a future version of pandas all arguments of concat except for the argument 'objs' will be keyword-only.\n",
      "  return pd.concat(dfs, self._concat_axis)\n"
     ]
    },
    {
     "name": "stdout",
     "output_type": "stream",
     "text": [
      "Added 1305 stocks to the db\n",
      "     ticker priceCurrency ticker_currency\n",
      "1586    PRU           USD         PRU-USD\n",
      "********************\n",
      "[*********************100%***********************]  1 of 1 completed\n",
      "\n",
      "1 Failed download:\n",
      "- PRX1: No timezone found, symbol may be delisted\n",
      "yahoo failed... len of df:  0\n",
      "tiingo failed... len of df:  0\n",
      "Added 1306 stocks to the db\n",
      "    ticker priceCurrency ticker_currency\n",
      "749   PRX1           USD        PRX1-USD\n",
      "********************\n",
      "[*********************100%***********************]  1 of 1 completed\n",
      "\n",
      "1 Failed download:\n",
      "- PRY1: No timezone found, symbol may be delisted\n",
      "yahoo failed... len of df:  0\n",
      "tiingo failed... len of df:  0\n",
      "Added 1307 stocks to the db\n",
      "    ticker priceCurrency ticker_currency\n",
      "478   PRY1           USD        PRY1-USD\n",
      "********************\n",
      "[*********************100%***********************]  1 of 1 completed\n"
     ]
    },
    {
     "name": "stderr",
     "output_type": "stream",
     "text": [
      "C:\\Users\\david\\anaconda3\\envs\\svmmvo\\lib\\site-packages\\pandas_datareader\\tiingo.py:234: FutureWarning: In a future version of pandas all arguments of concat except for the argument 'objs' will be keyword-only.\n",
      "  return pd.concat(dfs, self._concat_axis)\n"
     ]
    },
    {
     "name": "stdout",
     "output_type": "stream",
     "text": [
      "Added 1308 stocks to the db\n",
      "     ticker priceCurrency ticker_currency\n",
      "1587    PSA           USD         PSA-USD\n",
      "********************\n",
      "[*********************100%***********************]  1 of 1 completed\n",
      "\n",
      "1 Failed download:\n",
      "- PSFT1: No timezone found, symbol may be delisted\n",
      "yahoo failed... len of df:  0\n",
      "tiingo failed... len of df:  0\n",
      "Added 1309 stocks to the db\n",
      "    ticker priceCurrency ticker_currency\n",
      "257  PSFT1           USD       PSFT1-USD\n",
      "********************\n",
      "[*********************100%***********************]  1 of 1 completed\n",
      "\n",
      "1 Failed download:\n",
      "- PSU3: No timezone found, symbol may be delisted\n",
      "yahoo failed... len of df:  0\n",
      "tiingo failed... len of df:  0\n",
      "Added 1310 stocks to the db\n",
      "    ticker priceCurrency ticker_currency\n",
      "771   PSU3           USD        PSU3-USD\n",
      "********************\n",
      "[*********************100%***********************]  1 of 1 completed\n"
     ]
    },
    {
     "name": "stderr",
     "output_type": "stream",
     "text": [
      "C:\\Users\\david\\anaconda3\\envs\\svmmvo\\lib\\site-packages\\pandas_datareader\\tiingo.py:234: FutureWarning: In a future version of pandas all arguments of concat except for the argument 'objs' will be keyword-only.\n",
      "  return pd.concat(dfs, self._concat_axis)\n"
     ]
    },
    {
     "name": "stdout",
     "output_type": "stream",
     "text": [
      "Added 1311 stocks to the db\n",
      "     ticker priceCurrency ticker_currency\n",
      "1588    PSX           USD         PSX-USD\n",
      "********************\n",
      "[*********************100%***********************]  1 of 1 completed\n",
      "\n",
      "1 Failed download:\n",
      "- PSY1: No timezone found, symbol may be delisted\n",
      "yahoo failed... len of df:  0\n",
      "tiingo failed... len of df:  0\n",
      "Added 1312 stocks to the db\n",
      "    ticker priceCurrency ticker_currency\n",
      "504   PSY1           USD        PSY1-USD\n",
      "********************\n",
      "[*********************100%***********************]  1 of 1 completed\n",
      "\n",
      "1 Failed download:\n",
      "- PT1: No timezone found, symbol may be delisted\n",
      "yahoo failed... len of df:  0\n",
      "tiingo failed... len of df:  0\n",
      "Added 1313 stocks to the db\n",
      "    ticker priceCurrency ticker_currency\n",
      "662    PT1           USD         PT1-USD\n",
      "********************\n",
      "[*********************100%***********************]  1 of 1 completed\n"
     ]
    },
    {
     "name": "stderr",
     "output_type": "stream",
     "text": [
      "C:\\Users\\david\\anaconda3\\envs\\svmmvo\\lib\\site-packages\\pandas_datareader\\tiingo.py:234: FutureWarning: In a future version of pandas all arguments of concat except for the argument 'objs' will be keyword-only.\n",
      "  return pd.concat(dfs, self._concat_axis)\n"
     ]
    },
    {
     "name": "stdout",
     "output_type": "stream",
     "text": [
      "Added 1314 stocks to the db\n",
      "     ticker priceCurrency ticker_currency\n",
      "1589    PTC           USD         PTC-USD\n",
      "********************\n",
      "[*********************100%***********************]  1 of 1 completed\n",
      "\n",
      "1 Failed download:\n",
      "- PTV1: No timezone found, symbol may be delisted\n",
      "yahoo failed... len of df:  0\n",
      "tiingo failed... len of df:  0\n",
      "Added 1315 stocks to the db\n",
      "    ticker priceCurrency ticker_currency\n",
      "187   PTV1           USD        PTV1-USD\n",
      "********************\n",
      "[*********************100%***********************]  1 of 1 completed\n",
      "\n",
      "1 Failed download:\n",
      "- PU1: No timezone found, symbol may be delisted\n",
      "yahoo failed... len of df:  0\n",
      "tiingo failed... len of df:  0\n",
      "Added 1316 stocks to the db\n",
      "    ticker priceCurrency ticker_currency\n",
      "467    PU1           USD         PU1-USD\n",
      "********************\n",
      "[*********************100%***********************]  1 of 1 completed\n"
     ]
    },
    {
     "name": "stderr",
     "output_type": "stream",
     "text": [
      "C:\\Users\\david\\anaconda3\\envs\\svmmvo\\lib\\site-packages\\pandas_datareader\\tiingo.py:234: FutureWarning: In a future version of pandas all arguments of concat except for the argument 'objs' will be keyword-only.\n",
      "  return pd.concat(dfs, self._concat_axis)\n"
     ]
    },
    {
     "name": "stdout",
     "output_type": "stream",
     "text": [
      "Added 1317 stocks to the db\n",
      "     ticker priceCurrency ticker_currency\n",
      "1590    PVH           USD         PVH-USD\n",
      "********************\n",
      "[*********************100%***********************]  1 of 1 completed\n",
      "\n",
      "1 Failed download:\n",
      "- PVN1: No timezone found, symbol may be delisted\n",
      "yahoo failed... len of df:  0\n",
      "tiingo failed... len of df:  0\n",
      "Added 1318 stocks to the db\n",
      "    ticker priceCurrency ticker_currency\n",
      "284   PVN1           USD        PVN1-USD\n",
      "********************\n",
      "[*********************100%***********************]  1 of 1 completed\n",
      "\n",
      "1 Failed download:\n",
      "- PVN2: No timezone found, symbol may be delisted\n",
      "yahoo failed... len of df:  0\n",
      "tiingo failed... len of df:  0\n",
      "Added 1319 stocks to the db\n",
      "    ticker priceCurrency ticker_currency\n",
      "343   PVN2           USD        PVN2-USD\n",
      "********************\n",
      "[*********************100%***********************]  1 of 1 completed\n",
      "\n",
      "1 Failed download:\n",
      "- PVT1: No timezone found, symbol may be delisted\n",
      "yahoo failed... len of df:  0\n",
      "tiingo failed... len of df:  0\n",
      "Added 1320 stocks to the db\n",
      "     ticker priceCurrency ticker_currency\n",
      "1591   PVT1           USD        PVT1-USD\n",
      "********************\n",
      "[*********************100%***********************]  1 of 1 completed\n",
      "\n",
      "1 Failed download:\n",
      "- PWER2: No timezone found, symbol may be delisted\n",
      "yahoo failed... len of df:  0\n",
      "tiingo failed... len of df:  0\n",
      "Added 1321 stocks to the db\n",
      "    ticker priceCurrency ticker_currency\n",
      "191  PWER2           USD       PWER2-USD\n",
      "********************\n",
      "[*********************100%***********************]  1 of 1 completed\n",
      "\n",
      "1 Failed download:\n",
      "- PWJ1: No timezone found, symbol may be delisted\n",
      "yahoo failed... len of df:  0\n",
      "tiingo failed... len of df:  0\n",
      "Added 1322 stocks to the db\n",
      "    ticker priceCurrency ticker_currency\n",
      "304   PWJ1           USD        PWJ1-USD\n",
      "********************\n",
      "[*********************100%***********************]  1 of 1 completed\n"
     ]
    },
    {
     "name": "stderr",
     "output_type": "stream",
     "text": [
      "C:\\Users\\david\\anaconda3\\envs\\svmmvo\\lib\\site-packages\\pandas_datareader\\tiingo.py:234: FutureWarning: In a future version of pandas all arguments of concat except for the argument 'objs' will be keyword-only.\n",
      "  return pd.concat(dfs, self._concat_axis)\n"
     ]
    },
    {
     "name": "stdout",
     "output_type": "stream",
     "text": [
      "Added 1323 stocks to the db\n",
      "     ticker priceCurrency ticker_currency\n",
      "1592    PWR           USD         PWR-USD\n",
      "********************\n",
      "[*********************100%***********************]  1 of 1 completed\n",
      "\n",
      "1 Failed download:\n",
      "- PX2: No timezone found, symbol may be delisted\n",
      "yahoo failed... len of df:  0\n",
      "tiingo failed... len of df:  0\n",
      "Added 1324 stocks to the db\n",
      "    ticker priceCurrency ticker_currency\n",
      "941    PX2           USD         PX2-USD\n",
      "********************\n",
      "[*********************100%***********************]  1 of 1 completed\n"
     ]
    },
    {
     "name": "stderr",
     "output_type": "stream",
     "text": [
      "C:\\Users\\david\\anaconda3\\envs\\svmmvo\\lib\\site-packages\\pandas_datareader\\tiingo.py:234: FutureWarning: In a future version of pandas all arguments of concat except for the argument 'objs' will be keyword-only.\n",
      "  return pd.concat(dfs, self._concat_axis)\n"
     ]
    },
    {
     "name": "stdout",
     "output_type": "stream",
     "text": [
      "Added 1325 stocks to the db\n",
      "     ticker priceCurrency ticker_currency\n",
      "1593    PXD           USD         PXD-USD\n",
      "********************\n",
      "[*********************100%***********************]  1 of 1 completed\n",
      "\n",
      "1 Failed download:\n",
      "- PXN1: No timezone found, symbol may be delisted\n",
      "yahoo failed... len of df:  0\n",
      "tiingo failed... len of df:  0\n",
      "Added 1326 stocks to the db\n",
      "    ticker priceCurrency ticker_currency\n",
      "866   PXN1           USD        PXN1-USD\n",
      "********************\n",
      "[*********************100%***********************]  1 of 1 completed\n"
     ]
    },
    {
     "name": "stderr",
     "output_type": "stream",
     "text": [
      "C:\\Users\\david\\anaconda3\\envs\\svmmvo\\lib\\site-packages\\pandas_datareader\\tiingo.py:234: FutureWarning: In a future version of pandas all arguments of concat except for the argument 'objs' will be keyword-only.\n",
      "  return pd.concat(dfs, self._concat_axis)\n"
     ]
    },
    {
     "name": "stdout",
     "output_type": "stream",
     "text": [
      "Added 1327 stocks to the db\n",
      "     ticker priceCurrency ticker_currency\n",
      "1594   PYPL           USD        PYPL-USD\n",
      "********************\n",
      "[*********************100%***********************]  1 of 1 completed\n",
      "\n",
      "1 Failed download:\n",
      "- PZE1: No timezone found, symbol may be delisted\n",
      "yahoo failed... len of df:  0\n",
      "tiingo failed... len of df:  0\n",
      "Added 1328 stocks to the db\n",
      "     ticker priceCurrency ticker_currency\n",
      "1595   PZE1           USD        PZE1-USD\n",
      "********************\n",
      "[*********************100%***********************]  1 of 1 completed\n",
      "\n",
      "1 Failed download:\n",
      "- Q2: No timezone found, symbol may be delisted\n",
      "yahoo failed... len of df:  0\n",
      "tiingo failed... len of df:  0\n",
      "Added 1329 stocks to the db\n",
      "    ticker priceCurrency ticker_currency\n",
      "147     Q2           USD          Q2-USD\n",
      "********************\n",
      "[*********************100%***********************]  1 of 1 completed\n"
     ]
    },
    {
     "name": "stderr",
     "output_type": "stream",
     "text": [
      "C:\\Users\\david\\anaconda3\\envs\\svmmvo\\lib\\site-packages\\pandas_datareader\\tiingo.py:234: FutureWarning: In a future version of pandas all arguments of concat except for the argument 'objs' will be keyword-only.\n",
      "  return pd.concat(dfs, self._concat_axis)\n"
     ]
    },
    {
     "name": "stdout",
     "output_type": "stream",
     "text": [
      "Added 1330 stocks to the db\n",
      "     ticker priceCurrency ticker_currency\n",
      "1596   QCOM           USD        QCOM-USD\n",
      "********************\n",
      "[*********************100%***********************]  1 of 1 completed\n"
     ]
    },
    {
     "name": "stderr",
     "output_type": "stream",
     "text": [
      "C:\\Users\\david\\anaconda3\\envs\\svmmvo\\lib\\site-packages\\pandas_datareader\\tiingo.py:234: FutureWarning: In a future version of pandas all arguments of concat except for the argument 'objs' will be keyword-only.\n",
      "  return pd.concat(dfs, self._concat_axis)\n"
     ]
    },
    {
     "name": "stdout",
     "output_type": "stream",
     "text": [
      "Added 1331 stocks to the db\n",
      "     ticker priceCurrency ticker_currency\n",
      "1597   QRVO           USD        QRVO-USD\n",
      "********************\n",
      "[*********************100%***********************]  1 of 1 completed\n",
      "\n",
      "1 Failed download:\n",
      "- QTRN1: No timezone found, symbol may be delisted\n",
      "yahoo failed... len of df:  0\n",
      "tiingo failed... len of df:  0\n",
      "Added 1332 stocks to the db\n",
      "    ticker priceCurrency ticker_currency\n",
      "264  QTRN1           USD       QTRN1-USD\n",
      "********************\n",
      "[*********************100%***********************]  1 of 1 completed\n"
     ]
    },
    {
     "name": "stderr",
     "output_type": "stream",
     "text": [
      "C:\\Users\\david\\anaconda3\\envs\\svmmvo\\lib\\site-packages\\pandas_datareader\\tiingo.py:234: FutureWarning: In a future version of pandas all arguments of concat except for the argument 'objs' will be keyword-only.\n",
      "  return pd.concat(dfs, self._concat_axis)\n"
     ]
    },
    {
     "name": "stdout",
     "output_type": "stream",
     "text": [
      "Added 1333 stocks to the db\n",
      "     ticker priceCurrency ticker_currency\n",
      "1598      R           USD           R-USD\n",
      "********************\n",
      "[*********************100%***********************]  1 of 1 completed\n",
      "\n",
      "1 Failed download:\n",
      "- R1: No timezone found, symbol may be delisted\n",
      "yahoo failed... len of df:  0\n",
      "tiingo failed... len of df:  0\n",
      "Added 1334 stocks to the db\n",
      "    ticker priceCurrency ticker_currency\n",
      "381     R1           USD          R1-USD\n",
      "********************\n",
      "[*********************100%***********************]  1 of 1 completed\n",
      "\n",
      "1 Failed download:\n",
      "- RA2: No timezone found, symbol may be delisted\n",
      "yahoo failed... len of df:  0\n",
      "tiingo failed... len of df:  0\n",
      "Added 1335 stocks to the db\n",
      "     ticker priceCurrency ticker_currency\n",
      "1599    RA2           USD         RA2-USD\n",
      "********************\n",
      "[*********************100%***********************]  1 of 1 completed\n"
     ]
    },
    {
     "name": "stderr",
     "output_type": "stream",
     "text": [
      "C:\\Users\\david\\anaconda3\\envs\\svmmvo\\lib\\site-packages\\pandas_datareader\\tiingo.py:234: FutureWarning: In a future version of pandas all arguments of concat except for the argument 'objs' will be keyword-only.\n",
      "  return pd.concat(dfs, self._concat_axis)\n"
     ]
    },
    {
     "name": "stdout",
     "output_type": "stream",
     "text": [
      "Added 1336 stocks to the db\n",
      "     ticker priceCurrency ticker_currency\n",
      "1600    RAD           USD         RAD-USD\n",
      "********************\n",
      "[*********************100%***********************]  1 of 1 completed\n",
      "\n",
      "1 Failed download:\n",
      "- RAI3: No timezone found, symbol may be delisted\n",
      "yahoo failed... len of df:  0\n",
      "tiingo failed... len of df:  0\n",
      "Added 1337 stocks to the db\n",
      "   ticker priceCurrency ticker_currency\n",
      "67   RAI3           USD        RAI3-USD\n",
      "********************\n",
      "[*********************100%***********************]  1 of 1 completed\n",
      "\n",
      "1 Failed download:\n",
      "- RAL1: No timezone found, symbol may be delisted\n",
      "yahoo failed... len of df:  0\n",
      "tiingo failed... len of df:  0\n",
      "Added 1338 stocks to the db\n",
      "    ticker priceCurrency ticker_currency\n",
      "214   RAL1           USD        RAL1-USD\n",
      "********************\n",
      "[*********************100%***********************]  1 of 1 completed\n",
      "\n",
      "1 Failed download:\n",
      "- RAM2: No timezone found, symbol may be delisted\n",
      "yahoo failed... len of df:  0\n",
      "tiingo failed... len of df:  0\n",
      "Added 1339 stocks to the db\n",
      "    ticker priceCurrency ticker_currency\n",
      "861   RAM2           USD        RAM2-USD\n",
      "********************\n",
      "[*********************100%***********************]  1 of 1 completed\n",
      "\n",
      "1 Failed download:\n",
      "- RATL1: No timezone found, symbol may be delisted\n",
      "yahoo failed... len of df:  0\n",
      "tiingo failed... len of df:  0\n",
      "Added 1340 stocks to the db\n",
      "    ticker priceCurrency ticker_currency\n",
      "237  RATL1           USD       RATL1-USD\n",
      "********************\n",
      "[*********************100%***********************]  1 of 1 completed\n",
      "\n",
      "1 Failed download:\n",
      "- RBD1: No timezone found, symbol may be delisted\n",
      "yahoo failed... len of df:  0\n",
      "tiingo failed... len of df:  0\n",
      "Added 1341 stocks to the db\n",
      "    ticker priceCurrency ticker_currency\n",
      "274   RBD1           USD        RBD1-USD\n",
      "********************\n",
      "[*********************100%***********************]  1 of 1 completed\n",
      "\n",
      "1 Failed download:\n",
      "- RBK1: No timezone found, symbol may be delisted\n",
      "yahoo failed... len of df:  0\n",
      "tiingo failed... len of df:  0\n",
      "Added 1342 stocks to the db\n",
      "    ticker priceCurrency ticker_currency\n",
      "260   RBK1           USD        RBK1-USD\n",
      "********************\n",
      "[*********************100%***********************]  1 of 1 completed\n",
      "\n",
      "1 Failed download:\n",
      "- RBR1: No timezone found, symbol may be delisted\n",
      "yahoo failed... len of df:  0\n",
      "tiingo failed... len of df:  0\n",
      "Added 1343 stocks to the db\n",
      "    ticker priceCurrency ticker_currency\n",
      "848   RBR1           USD        RBR1-USD\n",
      "********************\n",
      "[*********************100%***********************]  1 of 1 completed\n",
      "\n",
      "1 Failed download:\n",
      "- RCA2: No timezone found, symbol may be delisted\n",
      "yahoo failed... len of df:  0\n",
      "tiingo failed... len of df:  0\n",
      "Added 1344 stocks to the db\n",
      "    ticker priceCurrency ticker_currency\n",
      "372   RCA2           USD        RCA2-USD\n",
      "********************\n",
      "[*********************100%***********************]  1 of 1 completed\n",
      "\n",
      "1 Failed download:\n",
      "- RCC1: No timezone found, symbol may be delisted\n",
      "yahoo failed... len of df:  0\n",
      "tiingo failed... len of df:  0\n",
      "Added 1345 stocks to the db\n",
      "    ticker priceCurrency ticker_currency\n",
      "588   RCC1           USD        RCC1-USD\n",
      "********************\n",
      "[*********************100%***********************]  1 of 1 completed\n"
     ]
    },
    {
     "name": "stderr",
     "output_type": "stream",
     "text": [
      "C:\\Users\\david\\anaconda3\\envs\\svmmvo\\lib\\site-packages\\pandas_datareader\\tiingo.py:234: FutureWarning: In a future version of pandas all arguments of concat except for the argument 'objs' will be keyword-only.\n",
      "  return pd.concat(dfs, self._concat_axis)\n"
     ]
    },
    {
     "name": "stdout",
     "output_type": "stream",
     "text": [
      "Added 1346 stocks to the db\n",
      "     ticker priceCurrency ticker_currency\n",
      "1601    RCL           USD         RCL-USD\n",
      "********************\n",
      "[*********************100%***********************]  1 of 1 completed\n",
      "\n",
      "1 Failed download:\n",
      "- RD1: No timezone found, symbol may be delisted\n",
      "yahoo failed... len of df:  0\n",
      "tiingo failed... len of df:  0\n",
      "Added 1347 stocks to the db\n",
      "     ticker priceCurrency ticker_currency\n",
      "1602    RD1           USD         RD1-USD\n",
      "********************\n",
      "[*********************100%***********************]  1 of 1 completed\n",
      "\n",
      "1 Failed download:\n",
      "- RDGE1: No timezone found, symbol may be delisted\n",
      "yahoo failed... len of df:  0\n",
      "tiingo failed... len of df:  0\n",
      "Added 1348 stocks to the db\n",
      "    ticker priceCurrency ticker_currency\n",
      "395  RDGE1           USD       RDGE1-USD\n",
      "********************\n",
      "[*********************100%***********************]  1 of 1 completed\n",
      "\n",
      "1 Failed download:\n",
      "- RDS1: No timezone found, symbol may be delisted\n",
      "yahoo failed... len of df:  0\n",
      "tiingo failed... len of df:  0\n",
      "Added 1349 stocks to the db\n",
      "    ticker priceCurrency ticker_currency\n",
      "884   RDS1           USD        RDS1-USD\n",
      "********************\n",
      "[*********************100%***********************]  1 of 1 completed\n",
      "\n",
      "1 Failed download:\n",
      "- RDT2: No timezone found, symbol may be delisted\n",
      "yahoo failed... len of df:  0\n",
      "tiingo failed... len of df:  0\n",
      "Added 1350 stocks to the db\n",
      "    ticker priceCurrency ticker_currency\n",
      "801   RDT2           USD        RDT2-USD\n",
      "********************\n",
      "[*********************100%***********************]  1 of 1 completed\n"
     ]
    },
    {
     "name": "stderr",
     "output_type": "stream",
     "text": [
      "C:\\Users\\david\\anaconda3\\envs\\svmmvo\\lib\\site-packages\\pandas_datareader\\tiingo.py:234: FutureWarning: In a future version of pandas all arguments of concat except for the argument 'objs' will be keyword-only.\n",
      "  return pd.concat(dfs, self._concat_axis)\n"
     ]
    },
    {
     "name": "stdout",
     "output_type": "stream",
     "text": [
      "Added 1351 stocks to the db\n",
      "     ticker priceCurrency ticker_currency\n",
      "1603     RE           USD          RE-USD\n",
      "********************\n",
      "[*********************100%***********************]  1 of 1 completed\n",
      "\n",
      "1 Failed download:\n",
      "- RE1: No timezone found, symbol may be delisted\n",
      "yahoo failed... len of df:  0\n",
      "tiingo failed... len of df:  0\n",
      "Added 1352 stocks to the db\n",
      "    ticker priceCurrency ticker_currency\n",
      "854    RE1           USD         RE1-USD\n",
      "********************\n",
      "[*********************100%***********************]  1 of 1 completed\n",
      "\n",
      "1 Failed download:\n",
      "- REE2: No timezone found, symbol may be delisted\n",
      "yahoo failed... len of df:  0\n",
      "tiingo failed... len of df:  0\n",
      "Added 1353 stocks to the db\n",
      "    ticker priceCurrency ticker_currency\n",
      "811   REE2           USD        REE2-USD\n",
      "********************\n",
      "[*********************100%***********************]  1 of 1 completed\n"
     ]
    },
    {
     "name": "stderr",
     "output_type": "stream",
     "text": [
      "C:\\Users\\david\\anaconda3\\envs\\svmmvo\\lib\\site-packages\\pandas_datareader\\tiingo.py:234: FutureWarning: In a future version of pandas all arguments of concat except for the argument 'objs' will be keyword-only.\n",
      "  return pd.concat(dfs, self._concat_axis)\n"
     ]
    },
    {
     "name": "stdout",
     "output_type": "stream",
     "text": [
      "Added 1354 stocks to the db\n",
      "     ticker priceCurrency ticker_currency\n",
      "1604    REG           USD         REG-USD\n",
      "********************\n",
      "[*********************100%***********************]  1 of 1 completed\n"
     ]
    },
    {
     "name": "stderr",
     "output_type": "stream",
     "text": [
      "C:\\Users\\david\\anaconda3\\envs\\svmmvo\\lib\\site-packages\\pandas_datareader\\tiingo.py:234: FutureWarning: In a future version of pandas all arguments of concat except for the argument 'objs' will be keyword-only.\n",
      "  return pd.concat(dfs, self._concat_axis)\n"
     ]
    },
    {
     "name": "stdout",
     "output_type": "stream",
     "text": [
      "Added 1355 stocks to the db\n",
      "     ticker priceCurrency ticker_currency\n",
      "1605   REGN           USD        REGN-USD\n",
      "********************\n",
      "[*********************100%***********************]  1 of 1 completed\n",
      "\n",
      "1 Failed download:\n",
      "- REP1: No timezone found, symbol may be delisted\n",
      "yahoo failed... len of df:  0\n",
      "tiingo failed... len of df:  0\n",
      "Added 1356 stocks to the db\n",
      "    ticker priceCurrency ticker_currency\n",
      "930   REP1           USD        REP1-USD\n",
      "********************\n",
      "[*********************100%***********************]  1 of 1 completed\n",
      "\n",
      "1 Failed download:\n",
      "- REV1: No timezone found, symbol may be delisted\n",
      "yahoo failed... len of df:  0\n",
      "tiingo failed... len of df:  0\n",
      "Added 1357 stocks to the db\n",
      "    ticker priceCurrency ticker_currency\n",
      "607   REV1           USD        REV1-USD\n",
      "********************\n",
      "[*********************100%***********************]  1 of 1 completed\n",
      "\n",
      "1 Failed download:\n",
      "- REX1: No timezone found, symbol may be delisted\n",
      "yahoo failed... len of df:  0\n",
      "tiingo failed... len of df:  0\n",
      "Added 1358 stocks to the db\n",
      "     ticker priceCurrency ticker_currency\n",
      "1606   REX1           USD        REX1-USD\n",
      "********************\n",
      "[*********************100%***********************]  1 of 1 completed\n"
     ]
    },
    {
     "name": "stderr",
     "output_type": "stream",
     "text": [
      "C:\\Users\\david\\anaconda3\\envs\\svmmvo\\lib\\site-packages\\pandas_datareader\\tiingo.py:234: FutureWarning: In a future version of pandas all arguments of concat except for the argument 'objs' will be keyword-only.\n",
      "  return pd.concat(dfs, self._concat_axis)\n"
     ]
    },
    {
     "name": "stdout",
     "output_type": "stream",
     "text": [
      "Added 1359 stocks to the db\n",
      "     ticker priceCurrency ticker_currency\n",
      "1607     RF           USD          RF-USD\n",
      "********************\n",
      "[*********************100%***********************]  1 of 1 completed\n",
      "\n",
      "1 Failed download:\n",
      "- RFDS: No data found for this date range, symbol may be delisted\n",
      "yahoo failed... len of df:  0\n",
      "tiingo failed... len of df:  0\n",
      "Added 1360 stocks to the db\n",
      "    ticker priceCurrency ticker_currency\n",
      "362   RFDS           USD        RFDS-USD\n",
      "********************\n",
      "[*********************100%***********************]  1 of 1 completed\n",
      "\n",
      "1 Failed download:\n",
      "- RGI2: No timezone found, symbol may be delisted\n",
      "yahoo failed... len of df:  0\n",
      "tiingo failed... len of df:  0\n",
      "Added 1361 stocks to the db\n",
      "    ticker priceCurrency ticker_currency\n",
      "896   RGI2           USD        RGI2-USD\n",
      "********************\n",
      "[*********************100%***********************]  1 of 1 completed\n",
      "\n",
      "1 Failed download:\n",
      "- RGLD1: No timezone found, symbol may be delisted\n",
      "yahoo failed... len of df:  0\n",
      "tiingo failed... len of df:  0\n",
      "Added 1362 stocks to the db\n",
      "    ticker priceCurrency ticker_currency\n",
      "849  RGLD1           USD       RGLD1-USD\n",
      "********************\n",
      "[*********************100%***********************]  1 of 1 completed\n"
     ]
    },
    {
     "name": "stderr",
     "output_type": "stream",
     "text": [
      "C:\\Users\\david\\anaconda3\\envs\\svmmvo\\lib\\site-packages\\pandas_datareader\\tiingo.py:234: FutureWarning: In a future version of pandas all arguments of concat except for the argument 'objs' will be keyword-only.\n",
      "  return pd.concat(dfs, self._concat_axis)\n"
     ]
    },
    {
     "name": "stdout",
     "output_type": "stream",
     "text": [
      "Added 1363 stocks to the db\n",
      "     ticker priceCurrency ticker_currency\n",
      "1608    RHI           USD         RHI-USD\n",
      "********************\n",
      "[*********************100%***********************]  1 of 1 completed\n",
      "\n",
      "1 Failed download:\n",
      "- RHT3: No timezone found, symbol may be delisted\n",
      "yahoo failed... len of df:  0\n",
      "tiingo failed... len of df:  0\n",
      "Added 1364 stocks to the db\n",
      "   ticker priceCurrency ticker_currency\n",
      "19   RHT3           USD        RHT3-USD\n",
      "********************\n",
      "[*********************100%***********************]  1 of 1 completed\n",
      "\n",
      "1 Failed download:\n",
      "- RI3: No timezone found, symbol may be delisted\n",
      "yahoo failed... len of df:  0\n",
      "tiingo failed... len of df:  0\n",
      "Added 1365 stocks to the db\n",
      "    ticker priceCurrency ticker_currency\n",
      "908    RI3           USD         RI3-USD\n",
      "********************\n",
      "[*********************100%***********************]  1 of 1 completed\n"
     ]
    },
    {
     "name": "stderr",
     "output_type": "stream",
     "text": [
      "C:\\Users\\david\\anaconda3\\envs\\svmmvo\\lib\\site-packages\\pandas_datareader\\tiingo.py:234: FutureWarning: In a future version of pandas all arguments of concat except for the argument 'objs' will be keyword-only.\n",
      "  return pd.concat(dfs, self._concat_axis)\n"
     ]
    },
    {
     "name": "stdout",
     "output_type": "stream",
     "text": [
      "Added 1366 stocks to the db\n",
      "     ticker priceCurrency ticker_currency\n",
      "1609    RIG           USD         RIG-USD\n",
      "********************\n",
      "[*********************100%***********************]  1 of 1 completed\n"
     ]
    },
    {
     "name": "stderr",
     "output_type": "stream",
     "text": [
      "C:\\Users\\david\\anaconda3\\envs\\svmmvo\\lib\\site-packages\\pandas_datareader\\tiingo.py:234: FutureWarning: In a future version of pandas all arguments of concat except for the argument 'objs' will be keyword-only.\n",
      "  return pd.concat(dfs, self._concat_axis)\n"
     ]
    },
    {
     "name": "stdout",
     "output_type": "stream",
     "text": [
      "Added 1367 stocks to the db\n",
      "     ticker priceCurrency ticker_currency\n",
      "1610    RJF           USD         RJF-USD\n",
      "********************\n",
      "[*********************100%***********************]  1 of 1 completed\n",
      "\n",
      "1 Failed download:\n",
      "- RJR1: No timezone found, symbol may be delisted\n",
      "yahoo failed... len of df:  0\n",
      "tiingo failed... len of df:  0\n",
      "Added 1368 stocks to the db\n",
      "    ticker priceCurrency ticker_currency\n",
      "414   RJR1           USD        RJR1-USD\n",
      "********************\n",
      "[*********************100%***********************]  1 of 1 completed\n",
      "\n",
      "1 Failed download:\n",
      "- RKS1: No timezone found, symbol may be delisted\n",
      "yahoo failed... len of df:  0\n",
      "tiingo failed... len of df:  0\n",
      "Added 1369 stocks to the db\n",
      "    ticker priceCurrency ticker_currency\n",
      "962   RKS1           USD        RKS1-USD\n",
      "********************\n",
      "[*********************100%***********************]  1 of 1 completed\n"
     ]
    },
    {
     "name": "stderr",
     "output_type": "stream",
     "text": [
      "C:\\Users\\david\\anaconda3\\envs\\svmmvo\\lib\\site-packages\\pandas_datareader\\tiingo.py:234: FutureWarning: In a future version of pandas all arguments of concat except for the argument 'objs' will be keyword-only.\n",
      "  return pd.concat(dfs, self._concat_axis)\n"
     ]
    },
    {
     "name": "stdout",
     "output_type": "stream",
     "text": [
      "Added 1370 stocks to the db\n",
      "     ticker priceCurrency ticker_currency\n",
      "1611     RL           USD          RL-USD\n",
      "********************\n",
      "[*********************100%***********************]  1 of 1 completed\n",
      "\n",
      "1 Failed download:\n",
      "- RLM1: No timezone found, symbol may be delisted\n",
      "yahoo failed... len of df:  0\n",
      "tiingo failed... len of df:  0\n",
      "Added 1371 stocks to the db\n",
      "     ticker priceCurrency ticker_currency\n",
      "1612   RLM1           USD        RLM1-USD\n",
      "********************\n",
      "[*********************100%***********************]  1 of 1 completed\n",
      "\n",
      "1 Failed download:\n",
      "- RM1: No timezone found, symbol may be delisted\n",
      "yahoo failed... len of df:  0\n",
      "tiingo failed... len of df:  0\n",
      "Added 1372 stocks to the db\n",
      "     ticker priceCurrency ticker_currency\n",
      "1613    RM1           USD         RM1-USD\n",
      "********************\n",
      "[*********************100%***********************]  1 of 1 completed\n",
      "\n",
      "1 Failed download:\n",
      "- RMB1: No timezone found, symbol may be delisted\n",
      "yahoo failed... len of df:  0\n",
      "tiingo failed... len of df:  0\n",
      "Added 1373 stocks to the db\n",
      "    ticker priceCurrency ticker_currency\n",
      "865   RMB1           USD        RMB1-USD\n",
      "********************\n",
      "[*********************100%***********************]  1 of 1 completed\n",
      "\n",
      "1 Failed download:\n",
      "- RMC3: No timezone found, symbol may be delisted\n",
      "yahoo failed... len of df:  0\n",
      "tiingo failed... len of df:  0\n",
      "Added 1374 stocks to the db\n",
      "    ticker priceCurrency ticker_currency\n",
      "916   RMC3           USD        RMC3-USD\n",
      "********************\n",
      "[*********************100%***********************]  1 of 1 completed\n"
     ]
    },
    {
     "name": "stderr",
     "output_type": "stream",
     "text": [
      "C:\\Users\\david\\anaconda3\\envs\\svmmvo\\lib\\site-packages\\pandas_datareader\\tiingo.py:234: FutureWarning: In a future version of pandas all arguments of concat except for the argument 'objs' will be keyword-only.\n",
      "  return pd.concat(dfs, self._concat_axis)\n"
     ]
    },
    {
     "name": "stdout",
     "output_type": "stream",
     "text": [
      "Added 1375 stocks to the db\n",
      "     ticker priceCurrency ticker_currency\n",
      "1614    RMD           USD         RMD-USD\n",
      "********************\n",
      "[*********************100%***********************]  1 of 1 completed\n",
      "\n",
      "1 Failed download:\n",
      "- RML1: No timezone found, symbol may be delisted\n",
      "yahoo failed... len of df:  0\n",
      "tiingo failed... len of df:  0\n",
      "Added 1376 stocks to the db\n",
      "    ticker priceCurrency ticker_currency\n",
      "221   RML1           USD        RML1-USD\n",
      "********************\n",
      "[*********************100%***********************]  1 of 1 completed\n",
      "\n",
      "1 Failed download:\n",
      "- RNB1: No timezone found, symbol may be delisted\n",
      "yahoo failed... len of df:  0\n",
      "tiingo failed... len of df:  0\n",
      "Added 1377 stocks to the db\n",
      "    ticker priceCurrency ticker_currency\n",
      "310   RNB1           USD        RNB1-USD\n",
      "********************\n",
      "[*********************100%***********************]  1 of 1 completed\n",
      "\n",
      "1 Failed download:\n",
      "- ROH1: No timezone found, symbol may be delisted\n",
      "yahoo failed... len of df:  0\n",
      "tiingo failed... len of df:  0\n",
      "Added 1378 stocks to the db\n",
      "    ticker priceCurrency ticker_currency\n",
      "125   ROH1           USD        ROH1-USD\n",
      "********************\n",
      "[*********************100%***********************]  1 of 1 completed\n"
     ]
    },
    {
     "name": "stderr",
     "output_type": "stream",
     "text": [
      "C:\\Users\\david\\anaconda3\\envs\\svmmvo\\lib\\site-packages\\pandas_datareader\\tiingo.py:234: FutureWarning: In a future version of pandas all arguments of concat except for the argument 'objs' will be keyword-only.\n",
      "  return pd.concat(dfs, self._concat_axis)\n"
     ]
    },
    {
     "name": "stdout",
     "output_type": "stream",
     "text": [
      "Added 1379 stocks to the db\n",
      "     ticker priceCurrency ticker_currency\n",
      "1615    ROK           USD         ROK-USD\n",
      "********************\n",
      "[*********************100%***********************]  1 of 1 completed\n",
      "\n",
      "1 Failed download:\n",
      "- ROK1: No timezone found, symbol may be delisted\n",
      "yahoo failed... len of df:  0\n",
      "tiingo failed... len of df:  0\n",
      "Added 1380 stocks to the db\n",
      "    ticker priceCurrency ticker_currency\n",
      "294   ROK1           USD        ROK1-USD\n",
      "********************\n",
      "[*********************100%***********************]  1 of 1 completed\n"
     ]
    },
    {
     "name": "stderr",
     "output_type": "stream",
     "text": [
      "C:\\Users\\david\\anaconda3\\envs\\svmmvo\\lib\\site-packages\\pandas_datareader\\tiingo.py:234: FutureWarning: In a future version of pandas all arguments of concat except for the argument 'objs' will be keyword-only.\n",
      "  return pd.concat(dfs, self._concat_axis)\n"
     ]
    },
    {
     "name": "stdout",
     "output_type": "stream",
     "text": [
      "Added 1381 stocks to the db\n",
      "     ticker priceCurrency ticker_currency\n",
      "1616    ROL           USD         ROL-USD\n",
      "********************\n",
      "[*********************100%***********************]  1 of 1 completed\n"
     ]
    },
    {
     "name": "stderr",
     "output_type": "stream",
     "text": [
      "C:\\Users\\david\\anaconda3\\envs\\svmmvo\\lib\\site-packages\\pandas_datareader\\tiingo.py:234: FutureWarning: In a future version of pandas all arguments of concat except for the argument 'objs' will be keyword-only.\n",
      "  return pd.concat(dfs, self._concat_axis)\n"
     ]
    },
    {
     "name": "stdout",
     "output_type": "stream",
     "text": [
      "Added 1382 stocks to the db\n",
      "     ticker priceCurrency ticker_currency\n",
      "1617    ROP           USD         ROP-USD\n",
      "********************\n",
      "[*********************100%***********************]  1 of 1 completed\n",
      "\n",
      "1 Failed download:\n",
      "- ROP1: No timezone found, symbol may be delisted\n",
      "yahoo failed... len of df:  0\n",
      "tiingo failed... len of df:  0\n",
      "Added 1383 stocks to the db\n",
      "    ticker priceCurrency ticker_currency\n",
      "472   ROP1           USD        ROP1-USD\n",
      "********************\n",
      "[*********************100%***********************]  1 of 1 completed\n"
     ]
    },
    {
     "name": "stderr",
     "output_type": "stream",
     "text": [
      "C:\\Users\\david\\anaconda3\\envs\\svmmvo\\lib\\site-packages\\pandas_datareader\\tiingo.py:234: FutureWarning: In a future version of pandas all arguments of concat except for the argument 'objs' will be keyword-only.\n",
      "  return pd.concat(dfs, self._concat_axis)\n"
     ]
    },
    {
     "name": "stdout",
     "output_type": "stream",
     "text": [
      "Added 1384 stocks to the db\n",
      "     ticker priceCurrency ticker_currency\n",
      "1618   ROST           USD        ROST-USD\n",
      "********************\n",
      "[*********************100%***********************]  1 of 1 completed\n"
     ]
    },
    {
     "name": "stderr",
     "output_type": "stream",
     "text": [
      "C:\\Users\\david\\anaconda3\\envs\\svmmvo\\lib\\site-packages\\pandas_datareader\\tiingo.py:234: FutureWarning: In a future version of pandas all arguments of concat except for the argument 'objs' will be keyword-only.\n",
      "  return pd.concat(dfs, self._concat_axis)\n"
     ]
    },
    {
     "name": "stdout",
     "output_type": "stream",
     "text": [
      "Added 1385 stocks to the db\n",
      "     ticker priceCurrency ticker_currency\n",
      "1619    RRC           USD         RRC-USD\n",
      "********************\n",
      "[*********************100%***********************]  1 of 1 completed\n",
      "\n",
      "1 Failed download:\n",
      "- RS1: No timezone found, symbol may be delisted\n",
      "yahoo failed... len of df:  0\n",
      "tiingo failed... len of df:  0\n",
      "Added 1386 stocks to the db\n",
      "    ticker priceCurrency ticker_currency\n",
      "422    RS1           USD         RS1-USD\n",
      "********************\n",
      "[*********************100%***********************]  1 of 1 completed\n"
     ]
    },
    {
     "name": "stderr",
     "output_type": "stream",
     "text": [
      "C:\\Users\\david\\anaconda3\\envs\\svmmvo\\lib\\site-packages\\pandas_datareader\\tiingo.py:234: FutureWarning: In a future version of pandas all arguments of concat except for the argument 'objs' will be keyword-only.\n",
      "  return pd.concat(dfs, self._concat_axis)\n"
     ]
    },
    {
     "name": "stdout",
     "output_type": "stream",
     "text": [
      "Added 1387 stocks to the db\n",
      "     ticker priceCurrency ticker_currency\n",
      "1620    RSG           USD         RSG-USD\n",
      "********************\n",
      "[*********************100%***********************]  1 of 1 completed\n",
      "\n",
      "1 Failed download:\n",
      "- RTN1: No timezone found, symbol may be delisted\n",
      "yahoo failed... len of df:  0\n",
      "tiingo failed... len of df:  0\n",
      "Added 1388 stocks to the db\n",
      "   ticker priceCurrency ticker_currency\n",
      "14   RTN1           USD        RTN1-USD\n",
      "********************\n",
      "[*********************100%***********************]  1 of 1 completed\n"
     ]
    },
    {
     "name": "stderr",
     "output_type": "stream",
     "text": [
      "C:\\Users\\david\\anaconda3\\envs\\svmmvo\\lib\\site-packages\\pandas_datareader\\tiingo.py:234: FutureWarning: In a future version of pandas all arguments of concat except for the argument 'objs' will be keyword-only.\n",
      "  return pd.concat(dfs, self._concat_axis)\n"
     ]
    },
    {
     "name": "stdout",
     "output_type": "stream",
     "text": [
      "Added 1389 stocks to the db\n",
      "     ticker priceCurrency ticker_currency\n",
      "1621    RTX           USD         RTX-USD\n",
      "********************\n",
      "[*********************100%***********************]  1 of 1 completed\n",
      "\n",
      "1 Failed download:\n",
      "- RUP1: No timezone found, symbol may be delisted\n",
      "yahoo failed... len of df:  0\n",
      "tiingo failed... len of df:  0\n",
      "Added 1390 stocks to the db\n",
      "    ticker priceCurrency ticker_currency\n",
      "944   RUP1           USD        RUP1-USD\n",
      "********************\n",
      "[*********************100%***********************]  1 of 1 completed\n",
      "\n",
      "1 Failed download:\n",
      "- RVB1: No timezone found, symbol may be delisted\n",
      "yahoo failed... len of df:  0\n",
      "tiingo failed... len of df:  0\n",
      "Added 1391 stocks to the db\n",
      "    ticker priceCurrency ticker_currency\n",
      "705   RVB1           USD        RVB1-USD\n",
      "********************\n",
      "[*********************100%***********************]  1 of 1 completed\n",
      "\n",
      "1 Failed download:\n",
      "- RVS1: No timezone found, symbol may be delisted\n",
      "yahoo failed... len of df:  0\n",
      "tiingo failed... len of df:  0\n",
      "Added 1392 stocks to the db\n",
      "    ticker priceCurrency ticker_currency\n",
      "684   RVS1           USD        RVS1-USD\n",
      "********************\n",
      "[*********************100%***********************]  1 of 1 completed\n",
      "\n",
      "1 Failed download:\n",
      "- RX3: No timezone found, symbol may be delisted\n",
      "yahoo failed... len of df:  0\n",
      "tiingo failed... len of df:  0\n",
      "Added 1393 stocks to the db\n",
      "    ticker priceCurrency ticker_currency\n",
      "183    RX3           USD         RX3-USD\n",
      "********************\n",
      "[*********************100%***********************]  1 of 1 completed\n",
      "\n",
      "1 Failed download:\n",
      "- RXM2: No timezone found, symbol may be delisted\n",
      "yahoo failed... len of df:  0\n",
      "tiingo failed... len of df:  0\n",
      "Added 1394 stocks to the db\n",
      "    ticker priceCurrency ticker_currency\n",
      "628   RXM2           USD        RXM2-USD\n",
      "********************\n",
      "[*********************100%***********************]  1 of 1 completed\n",
      "\n",
      "1 Failed download:\n",
      "- RYAN1: No timezone found, symbol may be delisted\n",
      "yahoo failed... len of df:  0\n",
      "tiingo failed... len of df:  0\n",
      "Added 1395 stocks to the db\n",
      "    ticker priceCurrency ticker_currency\n",
      "256  RYAN1           USD       RYAN1-USD\n",
      "********************\n",
      "[*********************100%***********************]  1 of 1 completed\n",
      "\n",
      "1 Failed download:\n",
      "- RYC1: No timezone found, symbol may be delisted\n",
      "yahoo failed... len of df:  0\n",
      "tiingo failed... len of df:  0\n",
      "Added 1396 stocks to the db\n",
      "    ticker priceCurrency ticker_currency\n",
      "302   RYC1           USD        RYC1-USD\n",
      "********************\n",
      "[*********************100%***********************]  1 of 1 completed\n",
      "\n",
      "1 Failed download:\n",
      "- RYI1: No timezone found, symbol may be delisted\n",
      "yahoo failed... len of df:  0\n",
      "tiingo failed... len of df:  0\n",
      "Added 1397 stocks to the db\n",
      "     ticker priceCurrency ticker_currency\n",
      "1622   RYI1           USD        RYI1-USD\n",
      "********************\n",
      "[*********************100%***********************]  1 of 1 completed\n",
      "\n",
      "1 Failed download:\n",
      "- RYN1: No timezone found, symbol may be delisted\n",
      "yahoo failed... len of df:  0\n",
      "tiingo failed... len of df:  0\n",
      "Added 1398 stocks to the db\n",
      "    ticker priceCurrency ticker_currency\n",
      "966   RYN1           USD        RYN1-USD\n",
      "********************\n",
      "[*********************100%***********************]  1 of 1 completed\n"
     ]
    },
    {
     "name": "stderr",
     "output_type": "stream",
     "text": [
      "C:\\Users\\david\\anaconda3\\envs\\svmmvo\\lib\\site-packages\\pandas_datareader\\tiingo.py:234: FutureWarning: In a future version of pandas all arguments of concat except for the argument 'objs' will be keyword-only.\n",
      "  return pd.concat(dfs, self._concat_axis)\n"
     ]
    },
    {
     "name": "stdout",
     "output_type": "stream",
     "text": [
      "Added 1399 stocks to the db\n",
      "     ticker priceCurrency ticker_currency\n",
      "1623      S           USD           S-USD\n",
      "********************\n",
      "[*********************100%***********************]  1 of 1 completed\n",
      "\n",
      "1 Failed download:\n",
      "- S1: No timezone found, symbol may be delisted\n",
      "yahoo failed... len of df:  0\n",
      "tiingo failed... len of df:  0\n",
      "Added 1400 stocks to the db\n",
      "     ticker priceCurrency ticker_currency\n",
      "1624     S1           USD          S1-USD\n",
      "********************\n",
      "[*********************100%***********************]  1 of 1 completed\n",
      "\n",
      "1 Failed download:\n",
      "- SA1: No timezone found, symbol may be delisted\n",
      "yahoo failed... len of df:  0\n",
      "tiingo failed... len of df:  0\n",
      "Added 1401 stocks to the db\n",
      "    ticker priceCurrency ticker_currency\n",
      "613    SA1           USD         SA1-USD\n",
      "********************\n",
      "[*********************100%***********************]  1 of 1 completed\n",
      "\n",
      "1 Failed download:\n",
      "- SAA2: No timezone found, symbol may be delisted\n",
      "yahoo failed... len of df:  0\n",
      "tiingo failed... len of df:  0\n",
      "Added 1402 stocks to the db\n",
      "    ticker priceCurrency ticker_currency\n",
      "839   SAA2           USD        SAA2-USD\n",
      "********************\n",
      "[*********************100%***********************]  1 of 1 completed\n",
      "\n",
      "1 Failed download:\n",
      "- SAF2: No timezone found, symbol may be delisted\n",
      "yahoo failed... len of df:  0\n",
      "tiingo failed... len of df:  0\n",
      "Added 1403 stocks to the db\n",
      "     ticker priceCurrency ticker_currency\n",
      "1625   SAF2           USD        SAF2-USD\n",
      "********************\n",
      "[*********************100%***********************]  1 of 1 completed\n",
      "\n",
      "1 Failed download:\n",
      "- SAF3: No timezone found, symbol may be delisted\n",
      "yahoo failed... len of df:  0\n",
      "tiingo failed... len of df:  0\n",
      "Added 1404 stocks to the db\n",
      "    ticker priceCurrency ticker_currency\n",
      "141   SAF3           USD        SAF3-USD\n",
      "********************\n",
      "[*********************100%***********************]  1 of 1 completed\n",
      "\n",
      "1 Failed download:\n",
      "- SAI1: No timezone found, symbol may be delisted\n",
      "yahoo failed... len of df:  0\n",
      "tiingo failed... len of df:  0\n",
      "Added 1405 stocks to the db\n",
      "     ticker priceCurrency ticker_currency\n",
      "1626   SAI1           USD        SAI1-USD\n",
      "********************\n",
      "[*********************100%***********************]  1 of 1 completed\n"
     ]
    },
    {
     "name": "stderr",
     "output_type": "stream",
     "text": [
      "C:\\Users\\david\\anaconda3\\envs\\svmmvo\\lib\\site-packages\\pandas_datareader\\tiingo.py:234: FutureWarning: In a future version of pandas all arguments of concat except for the argument 'objs' will be keyword-only.\n",
      "  return pd.concat(dfs, self._concat_axis)\n"
     ]
    },
    {
     "name": "stdout",
     "output_type": "stream",
     "text": [
      "Added 1406 stocks to the db\n",
      "     ticker priceCurrency ticker_currency\n",
      "1627   SANM           USD        SANM-USD\n",
      "********************\n",
      "[*********************100%***********************]  1 of 1 completed\n",
      "\n",
      "1 Failed download:\n",
      "- SB1: No timezone found, symbol may be delisted\n",
      "yahoo failed... len of df:  0\n",
      "tiingo failed... len of df:  0\n",
      "Added 1407 stocks to the db\n",
      "    ticker priceCurrency ticker_currency\n",
      "293    SB1           USD         SB1-USD\n",
      "********************\n",
      "[*********************100%***********************]  1 of 1 completed\n",
      "\n",
      "1 Failed download:\n",
      "- SB2: No timezone found, symbol may be delisted\n",
      "yahoo failed... len of df:  0\n",
      "tiingo failed... len of df:  0\n",
      "Added 1408 stocks to the db\n",
      "     ticker priceCurrency ticker_currency\n",
      "1628    SB2           USD         SB2-USD\n",
      "********************\n",
      "[*********************100%***********************]  1 of 1 completed\n"
     ]
    },
    {
     "name": "stderr",
     "output_type": "stream",
     "text": [
      "C:\\Users\\david\\anaconda3\\envs\\svmmvo\\lib\\site-packages\\pandas_datareader\\tiingo.py:234: FutureWarning: In a future version of pandas all arguments of concat except for the argument 'objs' will be keyword-only.\n",
      "  return pd.concat(dfs, self._concat_axis)\n"
     ]
    },
    {
     "name": "stdout",
     "output_type": "stream",
     "text": [
      "Added 1409 stocks to the db\n",
      "     ticker priceCurrency ticker_currency\n",
      "1629   SBAC           USD        SBAC-USD\n",
      "********************\n",
      "[*********************100%***********************]  1 of 1 completed\n",
      "\n",
      "1 Failed download:\n",
      "- SBL1: No timezone found, symbol may be delisted\n",
      "yahoo failed... len of df:  0\n",
      "tiingo failed... len of df:  0\n",
      "Added 1410 stocks to the db\n",
      "    ticker priceCurrency ticker_currency\n",
      "223   SBL1           USD        SBL1-USD\n",
      "********************\n",
      "[*********************100%***********************]  1 of 1 completed\n"
     ]
    },
    {
     "name": "stderr",
     "output_type": "stream",
     "text": [
      "C:\\Users\\david\\anaconda3\\envs\\svmmvo\\lib\\site-packages\\pandas_datareader\\tiingo.py:234: FutureWarning: In a future version of pandas all arguments of concat except for the argument 'objs' will be keyword-only.\n",
      "  return pd.concat(dfs, self._concat_axis)\n"
     ]
    },
    {
     "name": "stdout",
     "output_type": "stream",
     "text": [
      "Added 1411 stocks to the db\n",
      "     ticker priceCurrency ticker_currency\n",
      "1630   SBUX           USD        SBUX-USD\n",
      "********************\n",
      "[*********************100%***********************]  1 of 1 completed\n",
      "\n",
      "1 Failed download:\n",
      "- SCA2: No timezone found, symbol may be delisted\n",
      "yahoo failed... len of df:  0\n",
      "tiingo failed... len of df:  0\n",
      "Added 1412 stocks to the db\n",
      "    ticker priceCurrency ticker_currency\n",
      "964   SCA2           USD        SCA2-USD\n",
      "********************\n",
      "[*********************100%***********************]  1 of 1 completed\n",
      "\n",
      "1 Failed download:\n",
      "- SCG2: No timezone found, symbol may be delisted\n",
      "yahoo failed... len of df:  0\n",
      "tiingo failed... len of df:  0\n",
      "Added 1413 stocks to the db\n",
      "   ticker priceCurrency ticker_currency\n",
      "37   SCG2           USD        SCG2-USD\n",
      "********************\n",
      "[*********************100%***********************]  1 of 1 completed\n"
     ]
    },
    {
     "name": "stderr",
     "output_type": "stream",
     "text": [
      "C:\\Users\\david\\anaconda3\\envs\\svmmvo\\lib\\site-packages\\pandas_datareader\\tiingo.py:234: FutureWarning: In a future version of pandas all arguments of concat except for the argument 'objs' will be keyword-only.\n",
      "  return pd.concat(dfs, self._concat_axis)\n"
     ]
    },
    {
     "name": "stdout",
     "output_type": "stream",
     "text": [
      "Added 1414 stocks to the db\n",
      "     ticker priceCurrency ticker_currency\n",
      "1631   SCHW           USD        SCHW-USD\n",
      "********************\n",
      "[*********************100%***********************]  1 of 1 completed\n"
     ]
    },
    {
     "name": "stderr",
     "output_type": "stream",
     "text": [
      "C:\\Users\\david\\anaconda3\\envs\\svmmvo\\lib\\site-packages\\pandas_datareader\\tiingo.py:234: FutureWarning: In a future version of pandas all arguments of concat except for the argument 'objs' will be keyword-only.\n",
      "  return pd.concat(dfs, self._concat_axis)\n"
     ]
    },
    {
     "name": "stdout",
     "output_type": "stream",
     "text": [
      "Added 1415 stocks to the db\n",
      "     ticker priceCurrency ticker_currency\n",
      "1632    SCI           USD         SCI-USD\n",
      "********************\n",
      "[*********************100%***********************]  1 of 1 completed\n",
      "\n",
      "1 Failed download:\n",
      "- SCI2: No timezone found, symbol may be delisted\n",
      "yahoo failed... len of df:  0\n",
      "tiingo failed... len of df:  0\n",
      "Added 1416 stocks to the db\n",
      "    ticker priceCurrency ticker_currency\n",
      "651   SCI2           USD        SCI2-USD\n",
      "********************\n",
      "[*********************100%***********************]  1 of 1 completed\n",
      "\n",
      "1 Failed download:\n",
      "- SCI3: No timezone found, symbol may be delisted\n",
      "yahoo failed... len of df:  0\n",
      "tiingo failed... len of df:  0\n",
      "Added 1417 stocks to the db\n",
      "    ticker priceCurrency ticker_currency\n",
      "605   SCI3           USD        SCI3-USD\n",
      "********************\n",
      "[*********************100%***********************]  1 of 1 completed\n",
      "\n",
      "1 Failed download:\n",
      "- SCM1: No timezone found, symbol may be delisted\n",
      "yahoo failed... len of df:  0\n",
      "tiingo failed... len of df:  0\n",
      "Added 1418 stocks to the db\n",
      "    ticker priceCurrency ticker_currency\n",
      "824   SCM1           USD        SCM1-USD\n",
      "********************\n",
      "[*********************100%***********************]  1 of 1 completed\n",
      "\n",
      "1 Failed download:\n",
      "- SCO1: No timezone found, symbol may be delisted\n",
      "yahoo failed... len of df:  0\n",
      "tiingo failed... len of df:  0\n",
      "Added 1419 stocks to the db\n",
      "    ticker priceCurrency ticker_currency\n",
      "709   SCO1           USD        SCO1-USD\n",
      "********************\n",
      "[*********************100%***********************]  1 of 1 completed\n",
      "\n",
      "1 Failed download:\n",
      "- SDG2: No timezone found, symbol may be delisted\n",
      "yahoo failed... len of df:  0\n",
      "tiingo failed... len of df:  0\n",
      "Added 1420 stocks to the db\n",
      "    ticker priceCurrency ticker_currency\n",
      "967   SDG2           USD        SDG2-USD\n",
      "********************\n",
      "[*********************100%***********************]  1 of 1 completed\n",
      "\n",
      "1 Failed download:\n",
      "- SDS1: No timezone found, symbol may be delisted\n",
      "yahoo failed... len of df:  0\n",
      "tiingo failed... len of df:  0\n",
      "Added 1421 stocks to the db\n",
      "     ticker priceCurrency ticker_currency\n",
      "1633   SDS1           USD        SDS1-USD\n",
      "********************\n",
      "[*********************100%***********************]  1 of 1 completed\n",
      "\n",
      "1 Failed download:\n",
      "- SDS2: No timezone found, symbol may be delisted\n",
      "yahoo failed... len of df:  0\n",
      "tiingo failed... len of df:  0\n",
      "Added 1422 stocks to the db\n",
      "    ticker priceCurrency ticker_currency\n",
      "985   SDS2           USD        SDS2-USD\n",
      "********************\n",
      "[*********************100%***********************]  1 of 1 completed\n",
      "\n",
      "1 Failed download:\n",
      "- SE4: No timezone found, symbol may be delisted\n",
      "yahoo failed... len of df:  0\n",
      "tiingo failed... len of df:  0\n",
      "Added 1423 stocks to the db\n",
      "    ticker priceCurrency ticker_currency\n",
      "915    SE4           USD         SE4-USD\n",
      "********************\n",
      "[*********************100%***********************]  1 of 1 completed\n",
      "\n",
      "1 Failed download:\n",
      "- SE6: No timezone found, symbol may be delisted\n",
      "yahoo failed... len of df:  0\n",
      "tiingo failed... len of df:  0\n",
      "Added 1424 stocks to the db\n",
      "   ticker priceCurrency ticker_currency\n",
      "58    SE6           USD         SE6-USD\n",
      "********************\n",
      "[*********************100%***********************]  1 of 1 completed\n",
      "\n",
      "1 Failed download:\n",
      "- SEB1: No timezone found, symbol may be delisted\n",
      "yahoo failed... len of df:  0\n",
      "tiingo failed... len of df:  0\n",
      "Added 1425 stocks to the db\n",
      "    ticker priceCurrency ticker_currency\n",
      "780   SEB1           USD        SEB1-USD\n",
      "********************\n",
      "[*********************100%***********************]  1 of 1 completed\n",
      "\n",
      "1 Failed download:\n",
      "- SEBL1: No timezone found, symbol may be delisted\n",
      "yahoo failed... len of df:  0\n",
      "tiingo failed... len of df:  0\n",
      "Added 1426 stocks to the db\n",
      "    ticker priceCurrency ticker_currency\n",
      "249  SEBL1           USD       SEBL1-USD\n",
      "********************\n",
      "[*********************100%***********************]  1 of 1 completed\n",
      "\n",
      "1 Failed download:\n",
      "- SED2: No timezone found, symbol may be delisted\n",
      "yahoo failed... len of df:  0\n",
      "tiingo failed... len of df:  0\n",
      "Added 1427 stocks to the db\n",
      "    ticker priceCurrency ticker_currency\n",
      "844   SED2           USD        SED2-USD\n",
      "********************\n",
      "[*********************100%***********************]  1 of 1 completed\n"
     ]
    },
    {
     "name": "stderr",
     "output_type": "stream",
     "text": [
      "C:\\Users\\david\\anaconda3\\envs\\svmmvo\\lib\\site-packages\\pandas_datareader\\tiingo.py:234: FutureWarning: In a future version of pandas all arguments of concat except for the argument 'objs' will be keyword-only.\n",
      "  return pd.concat(dfs, self._concat_axis)\n"
     ]
    },
    {
     "name": "stdout",
     "output_type": "stream",
     "text": [
      "Added 1428 stocks to the db\n",
      "     ticker priceCurrency ticker_currency\n",
      "1634   SEDG           USD        SEDG-USD\n",
      "********************\n",
      "[*********************100%***********************]  1 of 1 completed\n"
     ]
    },
    {
     "name": "stderr",
     "output_type": "stream",
     "text": [
      "C:\\Users\\david\\anaconda3\\envs\\svmmvo\\lib\\site-packages\\pandas_datareader\\tiingo.py:234: FutureWarning: In a future version of pandas all arguments of concat except for the argument 'objs' will be keyword-only.\n",
      "  return pd.concat(dfs, self._concat_axis)\n"
     ]
    },
    {
     "name": "stdout",
     "output_type": "stream",
     "text": [
      "Added 1429 stocks to the db\n",
      "     ticker priceCurrency ticker_currency\n",
      "1635    SEE           USD         SEE-USD\n",
      "********************\n",
      "[*********************100%***********************]  1 of 1 completed\n",
      "\n",
      "1 Failed download:\n",
      "- SEG1: No timezone found, symbol may be delisted\n",
      "yahoo failed... len of df:  0\n",
      "tiingo failed... len of df:  0\n",
      "Added 1430 stocks to the db\n",
      "    ticker priceCurrency ticker_currency\n",
      "335   SEG1           USD        SEG1-USD\n",
      "********************\n",
      "[*********************100%***********************]  1 of 1 completed\n",
      "\n",
      "1 Failed download:\n",
      "- SEM2: No timezone found, symbol may be delisted\n",
      "yahoo failed... len of df:  0\n",
      "tiingo failed... len of df:  0\n",
      "Added 1431 stocks to the db\n",
      "     ticker priceCurrency ticker_currency\n",
      "1636   SEM2           USD        SEM2-USD\n",
      "********************\n",
      "[*********************100%***********************]  1 of 1 completed\n",
      "\n",
      "1 Failed download:\n",
      "- SFA1: No timezone found, symbol may be delisted\n",
      "yahoo failed... len of df:  0\n",
      "tiingo failed... len of df:  0\n",
      "Added 1432 stocks to the db\n",
      "    ticker priceCurrency ticker_currency\n",
      "203   SFA1           USD        SFA1-USD\n",
      "********************\n",
      "[*********************100%***********************]  1 of 1 completed\n",
      "\n",
      "1 Failed download:\n",
      "- SFC3: No timezone found, symbol may be delisted\n",
      "yahoo failed... len of df:  0\n",
      "tiingo failed... len of df:  0\n",
      "Added 1433 stocks to the db\n",
      "    ticker priceCurrency ticker_currency\n",
      "917   SFC3           USD        SFC3-USD\n",
      "********************\n",
      "[*********************100%***********************]  1 of 1 completed\n",
      "\n",
      "1 Failed download:\n",
      "- SFF2: No timezone found, symbol may be delisted\n",
      "yahoo failed... len of df:  0\n",
      "tiingo failed... len of df:  0\n",
      "Added 1434 stocks to the db\n",
      "    ticker priceCurrency ticker_currency\n",
      "925   SFF2           USD        SFF2-USD\n",
      "********************\n",
      "[*********************100%***********************]  1 of 1 completed\n",
      "\n",
      "1 Failed download:\n",
      "- SFN1: No timezone found, symbol may be delisted\n",
      "yahoo failed... len of df:  0\n",
      "tiingo failed... len of df:  0\n",
      "Added 1435 stocks to the db\n",
      "     ticker priceCurrency ticker_currency\n",
      "1637   SFN1           USD        SFN1-USD\n",
      "********************\n",
      "[*********************100%***********************]  1 of 1 completed\n",
      "\n",
      "1 Failed download:\n",
      "- SFR1: No timezone found, symbol may be delisted\n",
      "yahoo failed... len of df:  0\n",
      "tiingo failed... len of df:  0\n",
      "Added 1436 stocks to the db\n",
      "    ticker priceCurrency ticker_currency\n",
      "946   SFR1           USD        SFR1-USD\n",
      "********************\n",
      "[*********************100%***********************]  1 of 1 completed\n",
      "\n",
      "1 Failed download:\n",
      "- SFS1: No timezone found, symbol may be delisted\n",
      "yahoo failed... len of df:  0\n",
      "tiingo failed... len of df:  0\n",
      "Added 1437 stocks to the db\n",
      "     ticker priceCurrency ticker_currency\n",
      "1638   SFS1           USD        SFS1-USD\n",
      "********************\n",
      "[*********************100%***********************]  1 of 1 completed\n",
      "\n",
      "1 Failed download:\n",
      "- SFX1: No timezone found, symbol may be delisted\n",
      "yahoo failed... len of df:  0\n",
      "tiingo failed... len of df:  0\n",
      "Added 1438 stocks to the db\n",
      "    ticker priceCurrency ticker_currency\n",
      "640   SFX1           USD        SFX1-USD\n",
      "********************\n",
      "[*********************100%***********************]  1 of 1 completed\n",
      "\n",
      "1 Failed download:\n",
      "- SG5: No timezone found, symbol may be delisted\n",
      "yahoo failed... len of df:  0\n",
      "tiingo failed... len of df:  0\n",
      "Added 1439 stocks to the db\n",
      "    ticker priceCurrency ticker_currency\n",
      "768    SG5           USD         SG5-USD\n",
      "********************\n",
      "[*********************100%***********************]  1 of 1 completed\n",
      "\n",
      "1 Failed download:\n",
      "- SGIB1: No timezone found, symbol may be delisted\n",
      "yahoo failed... len of df:  0\n",
      "tiingo failed... len of df:  0\n",
      "Added 1440 stocks to the db\n",
      "    ticker priceCurrency ticker_currency\n",
      "664  SGIB1           USD       SGIB1-USD\n",
      "********************\n",
      "[*********************100%***********************]  1 of 1 completed\n",
      "\n",
      "1 Failed download:\n",
      "- SGID1: No timezone found, symbol may be delisted\n",
      "yahoo failed... len of df:  0\n",
      "tiingo failed... len of df:  0\n",
      "Added 1441 stocks to the db\n",
      "    ticker priceCurrency ticker_currency\n",
      "259  SGID1           USD       SGID1-USD\n",
      "********************\n",
      "[*********************100%***********************]  1 of 1 completed\n",
      "\n",
      "1 Failed download:\n",
      "- SGL1: No timezone found, symbol may be delisted\n",
      "yahoo failed... len of df:  0\n",
      "tiingo failed... len of df:  0\n",
      "Added 1442 stocks to the db\n",
      "    ticker priceCurrency ticker_currency\n",
      "828   SGL1           USD        SGL1-USD\n",
      "********************\n",
      "[*********************100%***********************]  1 of 1 completed\n",
      "\n",
      "1 Failed download:\n",
      "- SGN1: No timezone found, symbol may be delisted\n",
      "yahoo failed... len of df:  0\n",
      "tiingo failed... len of df:  0\n",
      "Added 1443 stocks to the db\n",
      "    ticker priceCurrency ticker_currency\n",
      "529   SGN1           USD        SGN1-USD\n",
      "********************\n",
      "[*********************100%***********************]  1 of 1 completed\n",
      "\n",
      "1 Failed download:\n",
      "- SGP3: No timezone found, symbol may be delisted\n",
      "yahoo failed... len of df:  0\n",
      "tiingo failed... len of df:  0\n",
      "Added 1444 stocks to the db\n",
      "    ticker priceCurrency ticker_currency\n",
      "112   SGP3           USD        SGP3-USD\n",
      "********************\n",
      "[*********************100%***********************]  1 of 1 completed\n",
      "\n",
      "1 Failed download:\n",
      "- SH3: No timezone found, symbol may be delisted\n",
      "yahoo failed... len of df:  0\n",
      "tiingo failed... len of df:  0\n",
      "Added 1445 stocks to the db\n",
      "    ticker priceCurrency ticker_currency\n",
      "878    SH3           USD         SH3-USD\n",
      "********************\n",
      "[*********************100%***********************]  1 of 1 completed\n",
      "\n",
      "1 Failed download:\n",
      "- SHL2: No timezone found, symbol may be delisted\n",
      "yahoo failed... len of df:  0\n",
      "tiingo failed... len of df:  0\n",
      "Added 1446 stocks to the db\n",
      "    ticker priceCurrency ticker_currency\n",
      "834   SHL2           USD        SHL2-USD\n",
      "********************\n",
      "[*********************100%***********************]  1 of 1 completed\n",
      "\n",
      "1 Failed download:\n",
      "- SHOY1: No timezone found, symbol may be delisted\n",
      "yahoo failed... len of df:  0\n",
      "tiingo failed... len of df:  0\n",
      "Added 1447 stocks to the db\n",
      "    ticker priceCurrency ticker_currency\n",
      "278  SHOY1           USD       SHOY1-USD\n",
      "********************\n",
      "[*********************100%***********************]  1 of 1 completed\n"
     ]
    },
    {
     "name": "stderr",
     "output_type": "stream",
     "text": [
      "C:\\Users\\david\\anaconda3\\envs\\svmmvo\\lib\\site-packages\\pandas_datareader\\tiingo.py:234: FutureWarning: In a future version of pandas all arguments of concat except for the argument 'objs' will be keyword-only.\n",
      "  return pd.concat(dfs, self._concat_axis)\n"
     ]
    },
    {
     "name": "stdout",
     "output_type": "stream",
     "text": [
      "Added 1448 stocks to the db\n",
      "     ticker priceCurrency ticker_currency\n",
      "1639    SHW           USD         SHW-USD\n",
      "********************\n",
      "[*********************100%***********************]  1 of 1 completed\n",
      "\n",
      "1 Failed download:\n",
      "- SIAL1: No timezone found, symbol may be delisted\n",
      "yahoo failed... len of df:  0\n",
      "tiingo failed... len of df:  0\n",
      "Added 1449 stocks to the db\n",
      "   ticker priceCurrency ticker_currency\n",
      "64  SIAL1           USD       SIAL1-USD\n",
      "********************\n",
      "[*********************100%***********************]  1 of 1 completed\n"
     ]
    },
    {
     "name": "stderr",
     "output_type": "stream",
     "text": [
      "C:\\Users\\david\\anaconda3\\envs\\svmmvo\\lib\\site-packages\\pandas_datareader\\tiingo.py:234: FutureWarning: In a future version of pandas all arguments of concat except for the argument 'objs' will be keyword-only.\n",
      "  return pd.concat(dfs, self._concat_axis)\n"
     ]
    },
    {
     "name": "stdout",
     "output_type": "stream",
     "text": [
      "Added 1450 stocks to the db\n",
      "     ticker priceCurrency ticker_currency\n",
      "1640    SIG           USD         SIG-USD\n",
      "********************\n",
      "[*********************100%***********************]  1 of 1 completed\n",
      "\n",
      "1 Failed download:\n",
      "- SII1: No timezone found, symbol may be delisted\n",
      "yahoo failed... len of df:  0\n",
      "tiingo failed... len of df:  0\n",
      "Added 1451 stocks to the db\n",
      "    ticker priceCurrency ticker_currency\n",
      "137   SII1           USD        SII1-USD\n",
      "********************\n",
      "[*********************100%***********************]  1 of 1 completed\n",
      "\n",
      "1 Failed download:\n",
      "- SIM1: No timezone found, symbol may be delisted\n",
      "yahoo failed... len of df:  0\n",
      "tiingo failed... len of df:  0\n",
      "Added 1452 stocks to the db\n",
      "    ticker priceCurrency ticker_currency\n",
      "746   SIM1           USD        SIM1-USD\n",
      "********************\n",
      "[*********************100%***********************]  1 of 1 completed\n"
     ]
    },
    {
     "name": "stderr",
     "output_type": "stream",
     "text": [
      "C:\\Users\\david\\anaconda3\\envs\\svmmvo\\lib\\site-packages\\pandas_datareader\\tiingo.py:234: FutureWarning: In a future version of pandas all arguments of concat except for the argument 'objs' will be keyword-only.\n",
      "  return pd.concat(dfs, self._concat_axis)\n"
     ]
    },
    {
     "name": "stdout",
     "output_type": "stream",
     "text": [
      "Added 1453 stocks to the db\n",
      "     ticker priceCurrency ticker_currency\n",
      "1641    SJM           USD         SJM-USD\n",
      "********************\n",
      "[*********************100%***********************]  1 of 1 completed\n",
      "\n",
      "1 Failed download:\n",
      "- SJO1: No timezone found, symbol may be delisted\n",
      "yahoo failed... len of df:  0\n",
      "tiingo failed... len of df:  0\n",
      "Added 1454 stocks to the db\n",
      "    ticker priceCurrency ticker_currency\n",
      "474   SJO1           USD        SJO1-USD\n",
      "********************\n",
      "[*********************100%***********************]  1 of 1 completed\n",
      "\n",
      "1 Failed download:\n",
      "- SK1: No timezone found, symbol may be delisted\n",
      "yahoo failed... len of df:  0\n",
      "tiingo failed... len of df:  0\n",
      "Added 1455 stocks to the db\n",
      "     ticker priceCurrency ticker_currency\n",
      "1642    SK1           USD         SK1-USD\n",
      "********************\n",
      "[*********************100%***********************]  1 of 1 completed\n",
      "\n",
      "1 Failed download:\n",
      "- SK2: No timezone found, symbol may be delisted\n",
      "yahoo failed... len of df:  0\n",
      "tiingo failed... len of df:  0\n",
      "Added 1456 stocks to the db\n",
      "     ticker priceCurrency ticker_currency\n",
      "1643    SK2           USD         SK2-USD\n",
      "********************\n",
      "[*********************100%***********************]  1 of 1 completed\n",
      "\n",
      "1 Failed download:\n",
      "- SKB1: No timezone found, symbol may be delisted\n",
      "yahoo failed... len of df:  0\n",
      "tiingo failed... len of df:  0\n",
      "Added 1457 stocks to the db\n",
      "    ticker priceCurrency ticker_currency\n",
      "520   SKB1           USD        SKB1-USD\n",
      "********************\n",
      "[*********************100%***********************]  1 of 1 completed\n",
      "\n",
      "1 Failed download:\n",
      "- SKG1: No timezone found, symbol may be delisted\n",
      "yahoo failed... len of df:  0\n",
      "tiingo failed... len of df:  0\n",
      "Added 1458 stocks to the db\n",
      "    ticker priceCurrency ticker_currency\n",
      "950   SKG1           USD        SKG1-USD\n",
      "********************\n",
      "[*********************100%***********************]  1 of 1 completed\n"
     ]
    },
    {
     "name": "stderr",
     "output_type": "stream",
     "text": [
      "C:\\Users\\david\\anaconda3\\envs\\svmmvo\\lib\\site-packages\\pandas_datareader\\tiingo.py:234: FutureWarning: In a future version of pandas all arguments of concat except for the argument 'objs' will be keyword-only.\n",
      "  return pd.concat(dfs, self._concat_axis)\n"
     ]
    },
    {
     "name": "stdout",
     "output_type": "stream",
     "text": [
      "Added 1459 stocks to the db\n",
      "     ticker priceCurrency ticker_currency\n",
      "1644    SKY           USD         SKY-USD\n",
      "********************\n",
      "[*********************100%***********************]  1 of 1 completed\n"
     ]
    },
    {
     "name": "stderr",
     "output_type": "stream",
     "text": [
      "C:\\Users\\david\\anaconda3\\envs\\svmmvo\\lib\\site-packages\\pandas_datareader\\tiingo.py:234: FutureWarning: In a future version of pandas all arguments of concat except for the argument 'objs' will be keyword-only.\n",
      "  return pd.concat(dfs, self._concat_axis)\n"
     ]
    },
    {
     "name": "stdout",
     "output_type": "stream",
     "text": [
      "Added 1460 stocks to the db\n",
      "     ticker priceCurrency ticker_currency\n",
      "1645    SLB           USD         SLB-USD\n",
      "********************\n",
      "[*********************100%***********************]  1 of 1 completed\n",
      "\n",
      "1 Failed download:\n",
      "- SLC1: No timezone found, symbol may be delisted\n",
      "yahoo failed... len of df:  0\n",
      "tiingo failed... len of df:  0\n",
      "Added 1461 stocks to the db\n",
      "    ticker priceCurrency ticker_currency\n",
      "926   SLC1           USD        SLC1-USD\n",
      "********************\n",
      "[*********************100%***********************]  1 of 1 completed\n"
     ]
    },
    {
     "name": "stderr",
     "output_type": "stream",
     "text": [
      "C:\\Users\\david\\anaconda3\\envs\\svmmvo\\lib\\site-packages\\pandas_datareader\\tiingo.py:234: FutureWarning: In a future version of pandas all arguments of concat except for the argument 'objs' will be keyword-only.\n",
      "  return pd.concat(dfs, self._concat_axis)\n"
     ]
    },
    {
     "name": "stdout",
     "output_type": "stream",
     "text": [
      "Added 1462 stocks to the db\n",
      "     ticker priceCurrency ticker_currency\n",
      "1646    SLG           USD         SLG-USD\n",
      "********************\n",
      "[*********************100%***********************]  1 of 1 completed\n"
     ]
    },
    {
     "name": "stderr",
     "output_type": "stream",
     "text": [
      "C:\\Users\\david\\anaconda3\\envs\\svmmvo\\lib\\site-packages\\pandas_datareader\\tiingo.py:234: FutureWarning: In a future version of pandas all arguments of concat except for the argument 'objs' will be keyword-only.\n",
      "  return pd.concat(dfs, self._concat_axis)\n"
     ]
    },
    {
     "name": "stdout",
     "output_type": "stream",
     "text": [
      "Added 1463 stocks to the db\n",
      "     ticker priceCurrency ticker_currency\n",
      "1647    SLM           USD         SLM-USD\n",
      "********************\n",
      "[*********************100%***********************]  1 of 1 completed\n",
      "\n",
      "1 Failed download:\n",
      "- SLR1: No timezone found, symbol may be delisted\n",
      "yahoo failed... len of df:  0\n",
      "tiingo failed... len of df:  0\n",
      "Added 1464 stocks to the db\n",
      "    ticker priceCurrency ticker_currency\n",
      "280   SLR1           USD        SLR1-USD\n",
      "********************\n",
      "[*********************100%***********************]  1 of 1 completed\n",
      "\n",
      "1 Failed download:\n",
      "- SLZ1: No timezone found, symbol may be delisted\n",
      "yahoo failed... len of df:  0\n",
      "tiingo failed... len of df:  0\n",
      "Added 1465 stocks to the db\n",
      "    ticker priceCurrency ticker_currency\n",
      "729   SLZ1           USD        SLZ1-USD\n",
      "********************\n",
      "[*********************100%***********************]  1 of 1 completed\n",
      "\n",
      "1 Failed download:\n",
      "- SM1: No timezone found, symbol may be delisted\n",
      "yahoo failed... len of df:  0\n",
      "tiingo failed... len of df:  0\n",
      "Added 1466 stocks to the db\n",
      "     ticker priceCurrency ticker_currency\n",
      "1648    SM1           USD         SM1-USD\n",
      "********************\n",
      "[*********************100%***********************]  1 of 1 completed\n",
      "\n",
      "1 Failed download:\n",
      "- SMB1: No timezone found, symbol may be delisted\n",
      "yahoo failed... len of df:  0\n",
      "tiingo failed... len of df:  0\n",
      "Added 1467 stocks to the db\n",
      "    ticker priceCurrency ticker_currency\n",
      "563   SMB1           USD        SMB1-USD\n",
      "********************\n",
      "[*********************100%***********************]  1 of 1 completed\n",
      "\n",
      "1 Failed download:\n",
      "- SMF2: No timezone found, symbol may be delisted\n",
      "yahoo failed... len of df:  0\n",
      "tiingo failed... len of df:  0\n",
      "Added 1468 stocks to the db\n",
      "    ticker priceCurrency ticker_currency\n",
      "469   SMF2           USD        SMF2-USD\n",
      "********************\n",
      "[*********************100%***********************]  1 of 1 completed\n",
      "\n",
      "1 Failed download:\n",
      "- SMI1: No timezone found, symbol may be delisted\n",
      "yahoo failed... len of df:  0\n",
      "tiingo failed... len of df:  0\n",
      "Added 1469 stocks to the db\n",
      "     ticker priceCurrency ticker_currency\n",
      "1649   SMI1           USD        SMI1-USD\n",
      "********************\n",
      "[*********************100%***********************]  1 of 1 completed\n",
      "\n",
      "1 Failed download:\n",
      "- SMS1: No timezone found, symbol may be delisted\n",
      "yahoo failed... len of df:  0\n",
      "tiingo failed... len of df:  0\n",
      "Added 1470 stocks to the db\n",
      "    ticker priceCurrency ticker_currency\n",
      "340   SMS1           USD        SMS1-USD\n",
      "********************\n",
      "[*********************100%***********************]  1 of 1 completed\n"
     ]
    },
    {
     "name": "stderr",
     "output_type": "stream",
     "text": [
      "C:\\Users\\david\\anaconda3\\envs\\svmmvo\\lib\\site-packages\\pandas_datareader\\tiingo.py:234: FutureWarning: In a future version of pandas all arguments of concat except for the argument 'objs' will be keyword-only.\n",
      "  return pd.concat(dfs, self._concat_axis)\n"
     ]
    },
    {
     "name": "stdout",
     "output_type": "stream",
     "text": [
      "Added 1471 stocks to the db\n",
      "     ticker priceCurrency ticker_currency\n",
      "1650    SNA           USD         SNA-USD\n",
      "********************\n",
      "[*********************100%***********************]  1 of 1 completed\n",
      "\n",
      "1 Failed download:\n",
      "- SNC3: No timezone found, symbol may be delisted\n",
      "yahoo failed... len of df:  0\n",
      "tiingo failed... len of df:  0\n",
      "Added 1472 stocks to the db\n",
      "    ticker priceCurrency ticker_currency\n",
      "476   SNC3           USD        SNC3-USD\n",
      "********************\n",
      "[*********************100%***********************]  1 of 1 completed\n",
      "\n",
      "1 Failed download:\n",
      "- SNI6: No timezone found, symbol may be delisted\n",
      "yahoo failed... len of df:  0\n",
      "tiingo failed... len of df:  0\n",
      "Added 1473 stocks to the db\n",
      "   ticker priceCurrency ticker_currency\n",
      "84   SNI6           USD        SNI6-USD\n",
      "********************\n",
      "[*********************100%***********************]  1 of 1 completed\n"
     ]
    },
    {
     "name": "stderr",
     "output_type": "stream",
     "text": [
      "C:\\Users\\david\\anaconda3\\envs\\svmmvo\\lib\\site-packages\\pandas_datareader\\tiingo.py:234: FutureWarning: In a future version of pandas all arguments of concat except for the argument 'objs' will be keyword-only.\n",
      "  return pd.concat(dfs, self._concat_axis)\n"
     ]
    },
    {
     "name": "stdout",
     "output_type": "stream",
     "text": [
      "Added 1474 stocks to the db\n",
      "     ticker priceCurrency ticker_currency\n",
      "1651   SNPS           USD        SNPS-USD\n",
      "********************\n",
      "[*********************100%***********************]  1 of 1 completed\n",
      "\n",
      "1 Failed download:\n",
      "- SNST1A: No timezone found, symbol may be delisted\n",
      "yahoo failed... len of df:  0\n",
      "tiingo failed... len of df:  0\n",
      "Added 1475 stocks to the db\n",
      "     ticker priceCurrency ticker_currency\n",
      "360  SNST1A           USD      SNST1A-USD\n",
      "********************\n",
      "[*********************100%***********************]  1 of 1 completed\n",
      "\n",
      "1 Failed download:\n",
      "- SNT1: No timezone found, symbol may be delisted\n",
      "yahoo failed... len of df:  0\n",
      "tiingo failed... len of df:  0\n",
      "Added 1476 stocks to the db\n",
      "    ticker priceCurrency ticker_currency\n",
      "288   SNT1           USD        SNT1-USD\n",
      "********************\n",
      "[*********************100%***********************]  1 of 1 completed\n"
     ]
    },
    {
     "name": "stderr",
     "output_type": "stream",
     "text": [
      "C:\\Users\\david\\anaconda3\\envs\\svmmvo\\lib\\site-packages\\pandas_datareader\\tiingo.py:234: FutureWarning: In a future version of pandas all arguments of concat except for the argument 'objs' will be keyword-only.\n",
      "  return pd.concat(dfs, self._concat_axis)\n"
     ]
    },
    {
     "name": "stdout",
     "output_type": "stream",
     "text": [
      "Added 1477 stocks to the db\n",
      "     ticker priceCurrency ticker_currency\n",
      "1652    SNV           USD         SNV-USD\n",
      "********************\n",
      "[*********************100%***********************]  1 of 1 completed\n"
     ]
    },
    {
     "name": "stderr",
     "output_type": "stream",
     "text": [
      "C:\\Users\\david\\anaconda3\\envs\\svmmvo\\lib\\site-packages\\pandas_datareader\\tiingo.py:234: FutureWarning: In a future version of pandas all arguments of concat except for the argument 'objs' will be keyword-only.\n",
      "  return pd.concat(dfs, self._concat_axis)\n"
     ]
    },
    {
     "name": "stdout",
     "output_type": "stream",
     "text": [
      "Added 1478 stocks to the db\n",
      "     ticker priceCurrency ticker_currency\n",
      "1653     SO           USD          SO-USD\n",
      "********************\n",
      "[*********************100%***********************]  1 of 1 completed\n",
      "\n",
      "1 Failed download:\n",
      "- SOC2: No timezone found, symbol may be delisted\n",
      "yahoo failed... len of df:  0\n",
      "tiingo failed... len of df:  0\n",
      "Added 1479 stocks to the db\n",
      "    ticker priceCurrency ticker_currency\n",
      "549   SOC2           USD        SOC2-USD\n",
      "********************\n",
      "[*********************100%***********************]  1 of 1 completed\n",
      "\n",
      "1 Failed download:\n",
      "- SOO1: No timezone found, symbol may be delisted\n",
      "yahoo failed... len of df:  0\n",
      "tiingo failed... len of df:  0\n",
      "Added 1480 stocks to the db\n",
      "    ticker priceCurrency ticker_currency\n",
      "790   SOO1           USD        SOO1-USD\n",
      "********************\n",
      "[*********************100%***********************]  1 of 1 completed\n",
      "\n",
      "1 Failed download:\n",
      "- SOTR1: No timezone found, symbol may be delisted\n",
      "yahoo failed... len of df:  0\n",
      "tiingo failed... len of df:  0\n",
      "Added 1481 stocks to the db\n",
      "    ticker priceCurrency ticker_currency\n",
      "246  SOTR1           USD       SOTR1-USD\n",
      "********************\n",
      "[*********************100%***********************]  1 of 1 completed\n",
      "\n",
      "1 Failed download:\n",
      "- SOV1: No timezone found, symbol may be delisted\n",
      "yahoo failed... len of df:  0\n",
      "tiingo failed... len of df:  0\n",
      "Added 1482 stocks to the db\n",
      "    ticker priceCurrency ticker_currency\n",
      "600   SOV1           USD        SOV1-USD\n",
      "********************\n",
      "[*********************100%***********************]  1 of 1 completed\n",
      "\n",
      "1 Failed download:\n",
      "- SOV2: No timezone found, symbol may be delisted\n",
      "yahoo failed... len of df:  0\n",
      "tiingo failed... len of df:  0\n",
      "Added 1483 stocks to the db\n",
      "    ticker priceCurrency ticker_currency\n",
      "171   SOV2           USD        SOV2-USD\n",
      "********************\n",
      "[*********************100%***********************]  1 of 1 completed\n",
      "\n",
      "1 Failed download:\n",
      "- SPC1: No timezone found, symbol may be delisted\n",
      "yahoo failed... len of df:  0\n",
      "tiingo failed... len of df:  0\n",
      "Added 1484 stocks to the db\n",
      "    ticker priceCurrency ticker_currency\n",
      "540   SPC1           USD        SPC1-USD\n",
      "********************\n",
      "[*********************100%***********************]  1 of 1 completed\n"
     ]
    },
    {
     "name": "stderr",
     "output_type": "stream",
     "text": [
      "C:\\Users\\david\\anaconda3\\envs\\svmmvo\\lib\\site-packages\\pandas_datareader\\tiingo.py:234: FutureWarning: In a future version of pandas all arguments of concat except for the argument 'objs' will be keyword-only.\n",
      "  return pd.concat(dfs, self._concat_axis)\n"
     ]
    },
    {
     "name": "stdout",
     "output_type": "stream",
     "text": [
      "Added 1485 stocks to the db\n",
      "     ticker priceCurrency ticker_currency\n",
      "1654    SPG           USD         SPG-USD\n",
      "********************\n",
      "[*********************100%***********************]  1 of 1 completed\n"
     ]
    },
    {
     "name": "stderr",
     "output_type": "stream",
     "text": [
      "C:\\Users\\david\\anaconda3\\envs\\svmmvo\\lib\\site-packages\\pandas_datareader\\tiingo.py:234: FutureWarning: In a future version of pandas all arguments of concat except for the argument 'objs' will be keyword-only.\n",
      "  return pd.concat(dfs, self._concat_axis)\n"
     ]
    },
    {
     "name": "stdout",
     "output_type": "stream",
     "text": [
      "Added 1486 stocks to the db\n",
      "     ticker priceCurrency ticker_currency\n",
      "1655   SPGI           USD        SPGI-USD\n",
      "********************\n",
      "[*********************100%***********************]  1 of 1 completed\n",
      "\n",
      "1 Failed download:\n",
      "- SPK3: No timezone found, symbol may be delisted\n",
      "yahoo failed... len of df:  0\n",
      "tiingo failed... len of df:  0\n",
      "Added 1487 stocks to the db\n",
      "    ticker priceCurrency ticker_currency\n",
      "867   SPK3           USD        SPK3-USD\n",
      "********************\n",
      "[*********************100%***********************]  1 of 1 completed\n",
      "\n",
      "1 Failed download:\n",
      "- SPLS1: No timezone found, symbol may be delisted\n",
      "yahoo failed... len of df:  0\n",
      "tiingo failed... len of df:  0\n",
      "Added 1488 stocks to the db\n",
      "   ticker priceCurrency ticker_currency\n",
      "48  SPLS1           USD       SPLS1-USD\n",
      "********************\n",
      "[*********************100%***********************]  1 of 1 completed\n",
      "\n",
      "1 Failed download:\n",
      "- SPP1: No timezone found, symbol may be delisted\n",
      "yahoo failed... len of df:  0\n",
      "tiingo failed... len of df:  0\n",
      "Added 1489 stocks to the db\n",
      "    ticker priceCurrency ticker_currency\n",
      "436   SPP1           USD        SPP1-USD\n",
      "********************\n",
      "[*********************100%***********************]  1 of 1 completed\n"
     ]
    },
    {
     "name": "stderr",
     "output_type": "stream",
     "text": [
      "C:\\Users\\david\\anaconda3\\envs\\svmmvo\\lib\\site-packages\\pandas_datareader\\tiingo.py:234: FutureWarning: In a future version of pandas all arguments of concat except for the argument 'objs' will be keyword-only.\n",
      "  return pd.concat(dfs, self._concat_axis)\n"
     ]
    },
    {
     "name": "stdout",
     "output_type": "stream",
     "text": [
      "Added 1490 stocks to the db\n",
      "     ticker priceCurrency ticker_currency\n",
      "1656   SPXC           USD        SPXC-USD\n",
      "********************\n",
      "[*********************100%***********************]  1 of 1 completed\n",
      "\n",
      "1 Failed download:\n",
      "- SQB1: No timezone found, symbol may be delisted\n",
      "yahoo failed... len of df:  0\n",
      "tiingo failed... len of df:  0\n",
      "Added 1491 stocks to the db\n",
      "    ticker priceCurrency ticker_currency\n",
      "615   SQB1           USD        SQB1-USD\n",
      "********************\n",
      "[*********************100%***********************]  1 of 1 completed\n",
      "\n",
      "1 Failed download:\n",
      "- SQD1: No timezone found, symbol may be delisted\n",
      "yahoo failed... len of df:  0\n",
      "tiingo failed... len of df:  0\n",
      "Added 1492 stocks to the db\n",
      "    ticker priceCurrency ticker_currency\n",
      "539   SQD1           USD        SQD1-USD\n",
      "********************\n",
      "[*********************100%***********************]  1 of 1 completed\n"
     ]
    },
    {
     "name": "stderr",
     "output_type": "stream",
     "text": [
      "C:\\Users\\david\\anaconda3\\envs\\svmmvo\\lib\\site-packages\\pandas_datareader\\tiingo.py:234: FutureWarning: In a future version of pandas all arguments of concat except for the argument 'objs' will be keyword-only.\n",
      "  return pd.concat(dfs, self._concat_axis)\n"
     ]
    },
    {
     "name": "stdout",
     "output_type": "stream",
     "text": [
      "Added 1493 stocks to the db\n",
      "     ticker priceCurrency ticker_currency\n",
      "1657     SR           USD          SR-USD\n",
      "********************\n",
      "[*********************100%***********************]  1 of 1 completed\n",
      "\n",
      "1 Failed download:\n",
      "- SR2: No timezone found, symbol may be delisted\n",
      "yahoo failed... len of df:  0\n",
      "tiingo failed... len of df:  0\n",
      "Added 1494 stocks to the db\n",
      "    ticker priceCurrency ticker_currency\n",
      "401    SR2           USD         SR2-USD\n",
      "********************\n",
      "[*********************100%***********************]  1 of 1 completed\n"
     ]
    },
    {
     "name": "stderr",
     "output_type": "stream",
     "text": [
      "C:\\Users\\david\\anaconda3\\envs\\svmmvo\\lib\\site-packages\\pandas_datareader\\tiingo.py:234: FutureWarning: In a future version of pandas all arguments of concat except for the argument 'objs' will be keyword-only.\n",
      "  return pd.concat(dfs, self._concat_axis)\n"
     ]
    },
    {
     "name": "stdout",
     "output_type": "stream",
     "text": [
      "Added 1495 stocks to the db\n",
      "     ticker priceCurrency ticker_currency\n",
      "1658   SRCL           USD        SRCL-USD\n",
      "********************\n",
      "[*********************100%***********************]  1 of 1 completed\n",
      "\n",
      "1 Failed download:\n",
      "- SRD1: No timezone found, symbol may be delisted\n",
      "yahoo failed... len of df:  0\n",
      "tiingo failed... len of df:  0\n",
      "Added 1496 stocks to the db\n",
      "    ticker priceCurrency ticker_currency\n",
      "440   SRD1           USD        SRD1-USD\n",
      "********************\n",
      "[*********************100%***********************]  1 of 1 completed\n"
     ]
    },
    {
     "name": "stderr",
     "output_type": "stream",
     "text": [
      "C:\\Users\\david\\anaconda3\\envs\\svmmvo\\lib\\site-packages\\pandas_datareader\\tiingo.py:234: FutureWarning: In a future version of pandas all arguments of concat except for the argument 'objs' will be keyword-only.\n",
      "  return pd.concat(dfs, self._concat_axis)\n"
     ]
    },
    {
     "name": "stdout",
     "output_type": "stream",
     "text": [
      "Added 1497 stocks to the db\n",
      "     ticker priceCurrency ticker_currency\n",
      "1659    SRE           USD         SRE-USD\n",
      "********************\n",
      "[*********************100%***********************]  1 of 1 completed\n",
      "\n",
      "1 Failed download:\n",
      "- SRL1: No timezone found, symbol may be delisted\n",
      "yahoo failed... len of df:  0\n",
      "tiingo failed... len of df:  0\n",
      "Added 1498 stocks to the db\n",
      "    ticker priceCurrency ticker_currency\n",
      "636   SRL1           USD        SRL1-USD\n",
      "********************\n",
      "[*********************100%***********************]  1 of 1 completed\n",
      "\n",
      "1 Failed download:\n",
      "- SRR1: No timezone found, symbol may be delisted\n",
      "yahoo failed... len of df:  0\n",
      "tiingo failed... len of df:  0\n",
      "Added 1499 stocks to the db\n",
      "    ticker priceCurrency ticker_currency\n",
      "248   SRR1           USD        SRR1-USD\n",
      "********************\n",
      "[*********************100%***********************]  1 of 1 completed\n",
      "\n",
      "1 Failed download:\n",
      "- SRT1: No timezone found, symbol may be delisted\n",
      "yahoo failed... len of df:  0\n",
      "tiingo failed... len of df:  0\n",
      "Added 1500 stocks to the db\n",
      "    ticker priceCurrency ticker_currency\n",
      "649   SRT1           USD        SRT1-USD\n",
      "********************\n",
      "[*********************100%***********************]  1 of 1 completed\n",
      "\n",
      "1 Failed download:\n",
      "- SRY1: No timezone found, symbol may be delisted\n",
      "yahoo failed... len of df:  0\n",
      "tiingo failed... len of df:  0\n",
      "Added 1501 stocks to the db\n",
      "    ticker priceCurrency ticker_currency\n",
      "859   SRY1           USD        SRY1-USD\n",
      "********************\n",
      "[*********************100%***********************]  1 of 1 completed\n"
     ]
    },
    {
     "name": "stderr",
     "output_type": "stream",
     "text": [
      "C:\\Users\\david\\anaconda3\\envs\\svmmvo\\lib\\site-packages\\pandas_datareader\\tiingo.py:234: FutureWarning: In a future version of pandas all arguments of concat except for the argument 'objs' will be keyword-only.\n",
      "  return pd.concat(dfs, self._concat_axis)\n"
     ]
    },
    {
     "name": "stdout",
     "output_type": "stream",
     "text": [
      "Added 1502 stocks to the db\n",
      "     ticker priceCurrency ticker_currency\n",
      "1660    SSP           USD         SSP-USD\n",
      "********************\n",
      "[*********************100%***********************]  1 of 1 completed\n",
      "\n",
      "1 Failed download:\n",
      "- ST3: No timezone found, symbol may be delisted\n",
      "yahoo failed... len of df:  0\n",
      "tiingo failed... len of df:  0\n",
      "Added 1503 stocks to the db\n",
      "    ticker priceCurrency ticker_currency\n",
      "843    ST3           USD         ST3-USD\n",
      "********************\n",
      "[*********************100%***********************]  1 of 1 completed\n",
      "\n",
      "1 Failed download:\n",
      "- STA1: No timezone found, symbol may be delisted\n",
      "yahoo failed... len of df:  0\n",
      "tiingo failed... len of df:  0\n",
      "Added 1504 stocks to the db\n",
      "    ticker priceCurrency ticker_currency\n",
      "488   STA1           USD        STA1-USD\n",
      "********************\n",
      "[*********************100%***********************]  1 of 1 completed\n"
     ]
    },
    {
     "name": "stderr",
     "output_type": "stream",
     "text": [
      "C:\\Users\\david\\anaconda3\\envs\\svmmvo\\lib\\site-packages\\pandas_datareader\\tiingo.py:234: FutureWarning: In a future version of pandas all arguments of concat except for the argument 'objs' will be keyword-only.\n",
      "  return pd.concat(dfs, self._concat_axis)\n"
     ]
    },
    {
     "name": "stdout",
     "output_type": "stream",
     "text": [
      "Added 1505 stocks to the db\n",
      "     ticker priceCurrency ticker_currency\n",
      "1661    STE           USD         STE-USD\n",
      "********************\n",
      "[*********************100%***********************]  1 of 1 completed\n",
      "\n",
      "1 Failed download:\n",
      "- STF1: No timezone found, symbol may be delisted\n",
      "yahoo failed... len of df:  0\n",
      "tiingo failed... len of df:  0\n",
      "Added 1506 stocks to the db\n",
      "    ticker priceCurrency ticker_currency\n",
      "803   STF1           USD        STF1-USD\n",
      "********************\n",
      "[*********************100%***********************]  1 of 1 completed\n",
      "\n",
      "1 Failed download:\n",
      "- STI6: No timezone found, symbol may be delisted\n",
      "yahoo failed... len of df:  0\n",
      "tiingo failed... len of df:  0\n",
      "Added 1507 stocks to the db\n",
      "   ticker priceCurrency ticker_currency\n",
      "29   STI6           USD        STI6-USD\n",
      "********************\n",
      "[*********************100%***********************]  1 of 1 completed\n",
      "\n",
      "1 Failed download:\n",
      "- STJ2: No timezone found, symbol may be delisted\n",
      "yahoo failed... len of df:  0\n",
      "tiingo failed... len of df:  0\n",
      "Added 1508 stocks to the db\n",
      "   ticker priceCurrency ticker_currency\n",
      "61   STJ2           USD        STJ2-USD\n",
      "********************\n",
      "[*********************100%***********************]  1 of 1 completed\n",
      "\n",
      "1 Failed download:\n",
      "- STK1: No timezone found, symbol may be delisted\n",
      "yahoo failed... len of df:  0\n",
      "tiingo failed... len of df:  0\n",
      "Added 1509 stocks to the db\n",
      "     ticker priceCurrency ticker_currency\n",
      "1662   STK1           USD        STK1-USD\n",
      "********************\n",
      "[*********************100%***********************]  1 of 1 completed\n"
     ]
    },
    {
     "name": "stderr",
     "output_type": "stream",
     "text": [
      "C:\\Users\\david\\anaconda3\\envs\\svmmvo\\lib\\site-packages\\pandas_datareader\\tiingo.py:234: FutureWarning: In a future version of pandas all arguments of concat except for the argument 'objs' will be keyword-only.\n",
      "  return pd.concat(dfs, self._concat_axis)\n"
     ]
    },
    {
     "name": "stdout",
     "output_type": "stream",
     "text": [
      "Added 1510 stocks to the db\n",
      "     ticker priceCurrency ticker_currency\n",
      "1663   STLD           USD        STLD-USD\n",
      "********************\n",
      "[*********************100%***********************]  1 of 1 completed\n",
      "\n",
      "1 Failed download:\n",
      "- STN2: No timezone found, symbol may be delisted\n",
      "yahoo failed... len of df:  0\n",
      "tiingo failed... len of df:  0\n",
      "Added 1511 stocks to the db\n",
      "    ticker priceCurrency ticker_currency\n",
      "661   STN2           USD        STN2-USD\n",
      "********************\n",
      "[*********************100%***********************]  1 of 1 completed\n",
      "\n",
      "1 Failed download:\n",
      "- STO1: No timezone found, symbol may be delisted\n",
      "yahoo failed... len of df:  0\n",
      "tiingo failed... len of df:  0\n",
      "Added 1512 stocks to the db\n",
      "    ticker priceCurrency ticker_currency\n",
      "318   STO1           USD        STO1-USD\n",
      "********************\n",
      "[*********************100%***********************]  1 of 1 completed\n"
     ]
    },
    {
     "name": "stderr",
     "output_type": "stream",
     "text": [
      "C:\\Users\\david\\anaconda3\\envs\\svmmvo\\lib\\site-packages\\pandas_datareader\\tiingo.py:234: FutureWarning: In a future version of pandas all arguments of concat except for the argument 'objs' will be keyword-only.\n",
      "  return pd.concat(dfs, self._concat_axis)\n"
     ]
    },
    {
     "name": "stdout",
     "output_type": "stream",
     "text": [
      "Added 1513 stocks to the db\n",
      "     ticker priceCurrency ticker_currency\n",
      "1664    STR           USD         STR-USD\n",
      "********************\n",
      "[*********************100%***********************]  1 of 1 completed\n"
     ]
    },
    {
     "name": "stderr",
     "output_type": "stream",
     "text": [
      "C:\\Users\\david\\anaconda3\\envs\\svmmvo\\lib\\site-packages\\pandas_datareader\\tiingo.py:234: FutureWarning: In a future version of pandas all arguments of concat except for the argument 'objs' will be keyword-only.\n",
      "  return pd.concat(dfs, self._concat_axis)\n"
     ]
    },
    {
     "name": "stdout",
     "output_type": "stream",
     "text": [
      "Added 1514 stocks to the db\n",
      "     ticker priceCurrency ticker_currency\n",
      "1665    STT           USD         STT-USD\n",
      "********************\n",
      "[*********************100%***********************]  1 of 1 completed\n"
     ]
    },
    {
     "name": "stderr",
     "output_type": "stream",
     "text": [
      "C:\\Users\\david\\anaconda3\\envs\\svmmvo\\lib\\site-packages\\pandas_datareader\\tiingo.py:234: FutureWarning: In a future version of pandas all arguments of concat except for the argument 'objs' will be keyword-only.\n",
      "  return pd.concat(dfs, self._concat_axis)\n"
     ]
    },
    {
     "name": "stdout",
     "output_type": "stream",
     "text": [
      "Added 1515 stocks to the db\n",
      "     ticker priceCurrency ticker_currency\n",
      "1666    STX           USD         STX-USD\n",
      "********************\n",
      "[*********************100%***********************]  1 of 1 completed\n",
      "\n",
      "1 Failed download:\n",
      "- STX1: No timezone found, symbol may be delisted\n",
      "yahoo failed... len of df:  0\n",
      "tiingo failed... len of df:  0\n",
      "Added 1516 stocks to the db\n",
      "    ticker priceCurrency ticker_currency\n",
      "793   STX1           USD        STX1-USD\n",
      "********************\n",
      "[*********************100%***********************]  1 of 1 completed\n",
      "\n",
      "1 Failed download:\n",
      "- STY2: No timezone found, symbol may be delisted\n",
      "yahoo failed... len of df:  0\n",
      "tiingo failed... len of df:  0\n",
      "Added 1517 stocks to the db\n",
      "    ticker priceCurrency ticker_currency\n",
      "537   STY2           USD        STY2-USD\n",
      "********************\n",
      "[*********************100%***********************]  1 of 1 completed\n"
     ]
    },
    {
     "name": "stderr",
     "output_type": "stream",
     "text": [
      "C:\\Users\\david\\anaconda3\\envs\\svmmvo\\lib\\site-packages\\pandas_datareader\\tiingo.py:234: FutureWarning: In a future version of pandas all arguments of concat except for the argument 'objs' will be keyword-only.\n",
      "  return pd.concat(dfs, self._concat_axis)\n"
     ]
    },
    {
     "name": "stdout",
     "output_type": "stream",
     "text": [
      "Added 1518 stocks to the db\n",
      "     ticker priceCurrency ticker_currency\n",
      "1667    STZ           USD         STZ-USD\n",
      "********************\n",
      "[*********************100%***********************]  1 of 1 completed\n",
      "\n",
      "1 Failed download:\n",
      "- SUB1: No timezone found, symbol may be delisted\n",
      "yahoo failed... len of df:  0\n",
      "tiingo failed... len of df:  0\n",
      "Added 1519 stocks to the db\n",
      "     ticker priceCurrency ticker_currency\n",
      "1668   SUB1           USD        SUB1-USD\n",
      "********************\n",
      "[*********************100%***********************]  1 of 1 completed\n",
      "\n",
      "1 Failed download:\n",
      "- SUN3: No timezone found, symbol may be delisted\n",
      "yahoo failed... len of df:  0\n",
      "tiingo failed... len of df:  0\n",
      "Added 1520 stocks to the db\n",
      "   ticker priceCurrency ticker_currency\n",
      "74   SUN3           USD        SUN3-USD\n",
      "********************\n",
      "[*********************100%***********************]  1 of 1 completed\n",
      "\n",
      "1 Failed download:\n",
      "- SUO1: No timezone found, symbol may be delisted\n",
      "yahoo failed... len of df:  0\n",
      "tiingo failed... len of df:  0\n",
      "Added 1521 stocks to the db\n",
      "    ticker priceCurrency ticker_currency\n",
      "416   SUO1           USD        SUO1-USD\n",
      "********************\n",
      "[*********************100%***********************]  1 of 1 completed\n",
      "\n",
      "1 Failed download:\n",
      "- SUS2: No timezone found, symbol may be delisted\n",
      "yahoo failed... len of df:  0\n",
      "tiingo failed... len of df:  0\n",
      "Added 1522 stocks to the db\n",
      "    ticker priceCurrency ticker_currency\n",
      "907   SUS2           USD        SUS2-USD\n",
      "********************\n",
      "[*********************100%***********************]  1 of 1 completed\n",
      "\n",
      "1 Failed download:\n",
      "- SVC2: No timezone found, symbol may be delisted\n",
      "yahoo failed... len of df:  0\n",
      "tiingo failed... len of df:  0\n",
      "Added 1523 stocks to the db\n",
      "    ticker priceCurrency ticker_currency\n",
      "528   SVC2           USD        SVC2-USD\n",
      "********************\n",
      "[*********************100%***********************]  1 of 1 completed\n",
      "\n",
      "1 Failed download:\n",
      "- SVM2: No timezone found, symbol may be delisted\n",
      "yahoo failed... len of df:  0\n",
      "tiingo failed... len of df:  0\n",
      "Added 1524 stocks to the db\n",
      "    ticker priceCurrency ticker_currency\n",
      "860   SVM2           USD        SVM2-USD\n",
      "********************\n",
      "[*********************100%***********************]  1 of 1 completed\n",
      "\n",
      "1 Failed download:\n",
      "- SWBIQ1: No timezone found, symbol may be delisted\n",
      "yahoo failed... len of df:  0\n",
      "tiingo failed... len of df:  0\n",
      "Added 1525 stocks to the db\n",
      "     ticker priceCurrency ticker_currency\n",
      "413  SWBIQ1           USD      SWBIQ1-USD\n",
      "********************\n",
      "[*********************100%***********************]  1 of 1 completed\n"
     ]
    },
    {
     "name": "stderr",
     "output_type": "stream",
     "text": [
      "C:\\Users\\david\\anaconda3\\envs\\svmmvo\\lib\\site-packages\\pandas_datareader\\tiingo.py:234: FutureWarning: In a future version of pandas all arguments of concat except for the argument 'objs' will be keyword-only.\n",
      "  return pd.concat(dfs, self._concat_axis)\n"
     ]
    },
    {
     "name": "stdout",
     "output_type": "stream",
     "text": [
      "Added 1526 stocks to the db\n",
      "     ticker priceCurrency ticker_currency\n",
      "1669    SWK           USD         SWK-USD\n",
      "********************\n",
      "[*********************100%***********************]  1 of 1 completed\n"
     ]
    },
    {
     "name": "stderr",
     "output_type": "stream",
     "text": [
      "C:\\Users\\david\\anaconda3\\envs\\svmmvo\\lib\\site-packages\\pandas_datareader\\tiingo.py:234: FutureWarning: In a future version of pandas all arguments of concat except for the argument 'objs' will be keyword-only.\n",
      "  return pd.concat(dfs, self._concat_axis)\n"
     ]
    },
    {
     "name": "stdout",
     "output_type": "stream",
     "text": [
      "Added 1527 stocks to the db\n",
      "     ticker priceCurrency ticker_currency\n",
      "1670   SWKS           USD        SWKS-USD\n",
      "********************\n",
      "[*********************100%***********************]  1 of 1 completed\n"
     ]
    },
    {
     "name": "stderr",
     "output_type": "stream",
     "text": [
      "C:\\Users\\david\\anaconda3\\envs\\svmmvo\\lib\\site-packages\\pandas_datareader\\tiingo.py:234: FutureWarning: In a future version of pandas all arguments of concat except for the argument 'objs' will be keyword-only.\n",
      "  return pd.concat(dfs, self._concat_axis)\n"
     ]
    },
    {
     "name": "stdout",
     "output_type": "stream",
     "text": [
      "Added 1528 stocks to the db\n",
      "     ticker priceCurrency ticker_currency\n",
      "1671    SWN           USD         SWN-USD\n",
      "********************\n",
      "[*********************100%***********************]  1 of 1 completed\n",
      "\n",
      "1 Failed download:\n",
      "- SX1: No timezone found, symbol may be delisted\n",
      "yahoo failed... len of df:  0\n",
      "tiingo failed... len of df:  0\n",
      "Added 1529 stocks to the db\n",
      "    ticker priceCurrency ticker_currency\n",
      "404    SX1           USD         SX1-USD\n",
      "********************\n",
      "[*********************100%***********************]  1 of 1 completed\n",
      "\n",
      "1 Failed download:\n",
      "- SY1: No timezone found, symbol may be delisted\n",
      "yahoo failed... len of df:  0\n",
      "tiingo failed... len of df:  0\n",
      "Added 1530 stocks to the db\n",
      "     ticker priceCurrency ticker_currency\n",
      "1672    SY1           USD         SY1-USD\n",
      "********************\n",
      "[*********************100%***********************]  1 of 1 completed\n"
     ]
    },
    {
     "name": "stderr",
     "output_type": "stream",
     "text": [
      "C:\\Users\\david\\anaconda3\\envs\\svmmvo\\lib\\site-packages\\pandas_datareader\\tiingo.py:234: FutureWarning: In a future version of pandas all arguments of concat except for the argument 'objs' will be keyword-only.\n",
      "  return pd.concat(dfs, self._concat_axis)\n"
     ]
    },
    {
     "name": "stdout",
     "output_type": "stream",
     "text": [
      "Added 1531 stocks to the db\n",
      "     ticker priceCurrency ticker_currency\n",
      "1673    SYF           USD         SYF-USD\n",
      "********************\n",
      "[*********************100%***********************]  1 of 1 completed\n"
     ]
    },
    {
     "name": "stderr",
     "output_type": "stream",
     "text": [
      "C:\\Users\\david\\anaconda3\\envs\\svmmvo\\lib\\site-packages\\pandas_datareader\\tiingo.py:234: FutureWarning: In a future version of pandas all arguments of concat except for the argument 'objs' will be keyword-only.\n",
      "  return pd.concat(dfs, self._concat_axis)\n"
     ]
    },
    {
     "name": "stdout",
     "output_type": "stream",
     "text": [
      "Added 1532 stocks to the db\n",
      "     ticker priceCurrency ticker_currency\n",
      "1674    SYK           USD         SYK-USD\n",
      "********************\n",
      "[*********************100%***********************]  1 of 1 completed\n",
      "\n",
      "1 Failed download:\n",
      "- SYN1: No timezone found, symbol may be delisted\n",
      "yahoo failed... len of df:  0\n",
      "tiingo failed... len of df:  0\n",
      "Added 1533 stocks to the db\n",
      "    ticker priceCurrency ticker_currency\n",
      "471   SYN1           USD        SYN1-USD\n",
      "********************\n",
      "[*********************100%***********************]  1 of 1 completed\n"
     ]
    },
    {
     "name": "stderr",
     "output_type": "stream",
     "text": [
      "C:\\Users\\david\\anaconda3\\envs\\svmmvo\\lib\\site-packages\\pandas_datareader\\tiingo.py:234: FutureWarning: In a future version of pandas all arguments of concat except for the argument 'objs' will be keyword-only.\n",
      "  return pd.concat(dfs, self._concat_axis)\n"
     ]
    },
    {
     "name": "stdout",
     "output_type": "stream",
     "text": [
      "Added 1534 stocks to the db\n",
      "     ticker priceCurrency ticker_currency\n",
      "1675    SYY           USD         SYY-USD\n",
      "********************\n",
      "[*********************100%***********************]  1 of 1 completed\n"
     ]
    },
    {
     "name": "stderr",
     "output_type": "stream",
     "text": [
      "C:\\Users\\david\\anaconda3\\envs\\svmmvo\\lib\\site-packages\\pandas_datareader\\tiingo.py:234: FutureWarning: In a future version of pandas all arguments of concat except for the argument 'objs' will be keyword-only.\n",
      "  return pd.concat(dfs, self._concat_axis)\n"
     ]
    },
    {
     "name": "stdout",
     "output_type": "stream",
     "text": [
      "Added 1535 stocks to the db\n",
      "     ticker priceCurrency ticker_currency\n",
      "1676      T           USD           T-USD\n",
      "********************\n",
      "[*********************100%***********************]  1 of 1 completed\n",
      "\n",
      "1 Failed download:\n",
      "- T2: No timezone found, symbol may be delisted\n",
      "yahoo failed... len of df:  0\n",
      "tiingo failed... len of df:  0\n",
      "Added 1536 stocks to the db\n",
      "    ticker priceCurrency ticker_currency\n",
      "180     T2           USD          T2-USD\n",
      "********************\n",
      "[*********************100%***********************]  1 of 1 completed\n",
      "\n",
      "1 Failed download:\n",
      "- TA2: No timezone found, symbol may be delisted\n",
      "yahoo failed... len of df:  0\n",
      "tiingo failed... len of df:  0\n",
      "Added 1537 stocks to the db\n",
      "     ticker priceCurrency ticker_currency\n",
      "1677    TA2           USD         TA2-USD\n",
      "********************\n",
      "[*********************100%***********************]  1 of 1 completed\n"
     ]
    },
    {
     "name": "stderr",
     "output_type": "stream",
     "text": [
      "C:\\Users\\david\\anaconda3\\envs\\svmmvo\\lib\\site-packages\\pandas_datareader\\tiingo.py:234: FutureWarning: In a future version of pandas all arguments of concat except for the argument 'objs' will be keyword-only.\n",
      "  return pd.concat(dfs, self._concat_axis)\n"
     ]
    },
    {
     "name": "stdout",
     "output_type": "stream",
     "text": [
      "Added 1538 stocks to the db\n",
      "     ticker priceCurrency ticker_currency\n",
      "1678    TAP           USD         TAP-USD\n",
      "********************\n",
      "[*********************100%***********************]  1 of 1 completed\n",
      "\n",
      "1 Failed download:\n",
      "- TAP3B: No timezone found, symbol may be delisted\n",
      "yahoo failed... len of df:  0\n",
      "tiingo failed... len of df:  0\n",
      "Added 1539 stocks to the db\n",
      "    ticker priceCurrency ticker_currency\n",
      "277  TAP3B           USD       TAP3B-USD\n",
      "********************\n",
      "[*********************100%***********************]  1 of 1 completed\n",
      "\n",
      "1 Failed download:\n",
      "- TCB1: No timezone found, symbol may be delisted\n",
      "yahoo failed... len of df:  0\n",
      "tiingo failed... len of df:  0\n",
      "Added 1540 stocks to the db\n",
      "    ticker priceCurrency ticker_currency\n",
      "660   TCB1           USD        TCB1-USD\n",
      "********************\n",
      "[*********************100%***********************]  1 of 1 completed\n",
      "\n",
      "1 Failed download:\n",
      "- TCOM1A: No timezone found, symbol may be delisted\n",
      "yahoo failed... len of df:  0\n",
      "tiingo failed... len of df:  0\n",
      "Added 1541 stocks to the db\n",
      "     ticker priceCurrency ticker_currency\n",
      "270  TCOM1A           USD      TCOM1A-USD\n",
      "********************\n",
      "[*********************100%***********************]  1 of 1 completed\n"
     ]
    },
    {
     "name": "stderr",
     "output_type": "stream",
     "text": [
      "C:\\Users\\david\\anaconda3\\envs\\svmmvo\\lib\\site-packages\\pandas_datareader\\tiingo.py:234: FutureWarning: In a future version of pandas all arguments of concat except for the argument 'objs' will be keyword-only.\n",
      "  return pd.concat(dfs, self._concat_axis)\n"
     ]
    },
    {
     "name": "stdout",
     "output_type": "stream",
     "text": [
      "Added 1542 stocks to the db\n",
      "     ticker priceCurrency ticker_currency\n",
      "1679    TDC           USD         TDC-USD\n",
      "********************\n",
      "[*********************100%***********************]  1 of 1 completed\n"
     ]
    },
    {
     "name": "stderr",
     "output_type": "stream",
     "text": [
      "C:\\Users\\david\\anaconda3\\envs\\svmmvo\\lib\\site-packages\\pandas_datareader\\tiingo.py:234: FutureWarning: In a future version of pandas all arguments of concat except for the argument 'objs' will be keyword-only.\n",
      "  return pd.concat(dfs, self._concat_axis)\n"
     ]
    },
    {
     "name": "stdout",
     "output_type": "stream",
     "text": [
      "Added 1543 stocks to the db\n",
      "     ticker priceCurrency ticker_currency\n",
      "1680    TDG           USD         TDG-USD\n",
      "********************\n",
      "[*********************100%***********************]  1 of 1 completed\n",
      "\n",
      "1 Failed download:\n",
      "- TDM1: No timezone found, symbol may be delisted\n",
      "yahoo failed... len of df:  0\n",
      "tiingo failed... len of df:  0\n",
      "Added 1544 stocks to the db\n",
      "    ticker priceCurrency ticker_currency\n",
      "326   TDM1           USD        TDM1-USD\n",
      "********************\n",
      "[*********************100%***********************]  1 of 1 completed\n"
     ]
    },
    {
     "name": "stderr",
     "output_type": "stream",
     "text": [
      "C:\\Users\\david\\anaconda3\\envs\\svmmvo\\lib\\site-packages\\pandas_datareader\\tiingo.py:234: FutureWarning: In a future version of pandas all arguments of concat except for the argument 'objs' will be keyword-only.\n",
      "  return pd.concat(dfs, self._concat_axis)\n"
     ]
    },
    {
     "name": "stdout",
     "output_type": "stream",
     "text": [
      "Added 1545 stocks to the db\n",
      "     ticker priceCurrency ticker_currency\n",
      "1681    TDY           USD         TDY-USD\n",
      "********************\n",
      "[*********************100%***********************]  1 of 1 completed\n",
      "\n",
      "1 Failed download:\n",
      "- TDY1: No timezone found, symbol may be delisted\n",
      "yahoo failed... len of df:  0\n",
      "tiingo failed... len of df:  0\n",
      "Added 1546 stocks to the db\n",
      "    ticker priceCurrency ticker_currency\n",
      "305   TDY1           USD        TDY1-USD\n",
      "********************\n",
      "[*********************100%***********************]  1 of 1 completed\n",
      "\n",
      "1 Failed download:\n",
      "- TE1: No timezone found, symbol may be delisted\n",
      "yahoo failed... len of df:  0\n"
     ]
    },
    {
     "name": "stderr",
     "output_type": "stream",
     "text": [
      "C:\\Users\\david\\anaconda3\\envs\\svmmvo\\lib\\site-packages\\pandas_datareader\\tiingo.py:234: FutureWarning: In a future version of pandas all arguments of concat except for the argument 'objs' will be keyword-only.\n",
      "  return pd.concat(dfs, self._concat_axis)\n"
     ]
    },
    {
     "name": "stdout",
     "output_type": "stream",
     "text": [
      "Added 1547 stocks to the db\n",
      "     ticker priceCurrency ticker_currency\n",
      "1682    TE1           USD         TE1-USD\n",
      "********************\n",
      "[*********************100%***********************]  1 of 1 completed\n"
     ]
    },
    {
     "name": "stderr",
     "output_type": "stream",
     "text": [
      "C:\\Users\\david\\anaconda3\\envs\\svmmvo\\lib\\site-packages\\pandas_datareader\\tiingo.py:234: FutureWarning: In a future version of pandas all arguments of concat except for the argument 'objs' will be keyword-only.\n",
      "  return pd.concat(dfs, self._concat_axis)\n"
     ]
    },
    {
     "name": "stdout",
     "output_type": "stream",
     "text": [
      "Added 1548 stocks to the db\n",
      "     ticker priceCurrency ticker_currency\n",
      "1683   TECH           USD        TECH-USD\n",
      "********************\n",
      "[*********************100%***********************]  1 of 1 completed\n",
      "\n",
      "1 Failed download:\n",
      "- TEG2: No timezone found, symbol may be delisted\n",
      "yahoo failed... len of df:  0\n",
      "tiingo failed... len of df:  0\n",
      "Added 1549 stocks to the db\n",
      "   ticker priceCurrency ticker_currency\n",
      "73   TEG2           USD        TEG2-USD\n",
      "********************\n",
      "[*********************100%***********************]  1 of 1 completed\n",
      "\n",
      "1 Failed download:\n",
      "- TEK1: No timezone found, symbol may be delisted\n",
      "yahoo failed... len of df:  0\n",
      "tiingo failed... len of df:  0\n",
      "Added 1550 stocks to the db\n",
      "    ticker priceCurrency ticker_currency\n",
      "236   TEK1           USD        TEK1-USD\n",
      "********************\n",
      "[*********************100%***********************]  1 of 1 completed\n"
     ]
    },
    {
     "name": "stderr",
     "output_type": "stream",
     "text": [
      "C:\\Users\\david\\anaconda3\\envs\\svmmvo\\lib\\site-packages\\pandas_datareader\\tiingo.py:234: FutureWarning: In a future version of pandas all arguments of concat except for the argument 'objs' will be keyword-only.\n",
      "  return pd.concat(dfs, self._concat_axis)\n"
     ]
    },
    {
     "name": "stdout",
     "output_type": "stream",
     "text": [
      "Added 1551 stocks to the db\n",
      "     ticker priceCurrency ticker_currency\n",
      "1684    TEL           USD         TEL-USD\n",
      "********************\n",
      "[*********************100%***********************]  1 of 1 completed\n",
      "\n",
      "1 Failed download:\n",
      "- TEN1: No timezone found, symbol may be delisted\n",
      "yahoo failed... len of df:  0\n",
      "tiingo failed... len of df:  0\n",
      "Added 1552 stocks to the db\n",
      "    ticker priceCurrency ticker_currency\n",
      "319   TEN1           USD        TEN1-USD\n",
      "********************\n",
      "[*********************100%***********************]  1 of 1 completed\n"
     ]
    },
    {
     "name": "stderr",
     "output_type": "stream",
     "text": [
      "C:\\Users\\david\\anaconda3\\envs\\svmmvo\\lib\\site-packages\\pandas_datareader\\tiingo.py:234: FutureWarning: In a future version of pandas all arguments of concat except for the argument 'objs' will be keyword-only.\n",
      "  return pd.concat(dfs, self._concat_axis)\n"
     ]
    },
    {
     "name": "stdout",
     "output_type": "stream",
     "text": [
      "Added 1553 stocks to the db\n",
      "     ticker priceCurrency ticker_currency\n",
      "1685    TER           USD         TER-USD\n",
      "********************\n",
      "[*********************100%***********************]  1 of 1 completed\n",
      "\n",
      "1 Failed download:\n",
      "- TET1: No timezone found, symbol may be delisted\n",
      "yahoo failed... len of df:  0\n",
      "tiingo failed... len of df:  0\n",
      "Added 1554 stocks to the db\n",
      "    ticker priceCurrency ticker_currency\n",
      "668   TET1           USD        TET1-USD\n",
      "********************\n",
      "[*********************100%***********************]  1 of 1 completed\n"
     ]
    },
    {
     "name": "stderr",
     "output_type": "stream",
     "text": [
      "C:\\Users\\david\\anaconda3\\envs\\svmmvo\\lib\\site-packages\\pandas_datareader\\tiingo.py:234: FutureWarning: In a future version of pandas all arguments of concat except for the argument 'objs' will be keyword-only.\n",
      "  return pd.concat(dfs, self._concat_axis)\n"
     ]
    },
    {
     "name": "stdout",
     "output_type": "stream",
     "text": [
      "Added 1555 stocks to the db\n",
      "     ticker priceCurrency ticker_currency\n",
      "1686    TEX           USD         TEX-USD\n",
      "********************\n",
      "[*********************100%***********************]  1 of 1 completed\n",
      "\n",
      "1 Failed download:\n",
      "- TF1: No timezone found, symbol may be delisted\n",
      "yahoo failed... len of df:  0\n",
      "tiingo failed... len of df:  0\n",
      "Added 1556 stocks to the db\n",
      "    ticker priceCurrency ticker_currency\n",
      "521    TF1           USD         TF1-USD\n",
      "********************\n",
      "[*********************100%***********************]  1 of 1 completed\n",
      "\n",
      "1 Failed download:\n",
      "- TFB2: No timezone found, symbol may be delisted\n",
      "yahoo failed... len of df:  0\n",
      "tiingo failed... len of df:  0\n",
      "Added 1557 stocks to the db\n",
      "    ticker priceCurrency ticker_currency\n",
      "603   TFB2           USD        TFB2-USD\n",
      "********************\n",
      "[*********************100%***********************]  1 of 1 completed\n"
     ]
    },
    {
     "name": "stderr",
     "output_type": "stream",
     "text": [
      "C:\\Users\\david\\anaconda3\\envs\\svmmvo\\lib\\site-packages\\pandas_datareader\\tiingo.py:234: FutureWarning: In a future version of pandas all arguments of concat except for the argument 'objs' will be keyword-only.\n",
      "  return pd.concat(dfs, self._concat_axis)\n"
     ]
    },
    {
     "name": "stdout",
     "output_type": "stream",
     "text": [
      "Added 1558 stocks to the db\n",
      "     ticker priceCurrency ticker_currency\n",
      "1687    TFC           USD         TFC-USD\n",
      "********************\n",
      "[*********************100%***********************]  1 of 1 completed\n",
      "\n",
      "1 Failed download:\n",
      "- TFCF1: No timezone found, symbol may be delisted\n",
      "yahoo failed... len of df:  0\n",
      "tiingo failed... len of df:  0\n",
      "Added 1559 stocks to the db\n",
      "   ticker priceCurrency ticker_currency\n",
      "59  TFCF1           USD       TFCF1-USD\n",
      "********************\n",
      "[*********************100%***********************]  1 of 1 completed\n",
      "\n",
      "1 Failed download:\n",
      "- TFCF1A: No timezone found, symbol may be delisted\n",
      "yahoo failed... len of df:  0\n",
      "tiingo failed... len of df:  0\n",
      "Added 1560 stocks to the db\n",
      "    ticker priceCurrency ticker_currency\n",
      "25  TFCF1A           USD      TFCF1A-USD\n",
      "********************\n",
      "[*********************100%***********************]  1 of 1 completed\n",
      "\n",
      "1 Failed download:\n",
      "- TFD2: No timezone found, symbol may be delisted\n",
      "yahoo failed... len of df:  0\n",
      "tiingo failed... len of df:  0\n",
      "Added 1561 stocks to the db\n",
      "    ticker priceCurrency ticker_currency\n",
      "739   TFD2           USD        TFD2-USD\n",
      "********************\n",
      "[*********************100%***********************]  1 of 1 completed\n"
     ]
    },
    {
     "name": "stderr",
     "output_type": "stream",
     "text": [
      "C:\\Users\\david\\anaconda3\\envs\\svmmvo\\lib\\site-packages\\pandas_datareader\\tiingo.py:234: FutureWarning: In a future version of pandas all arguments of concat except for the argument 'objs' will be keyword-only.\n",
      "  return pd.concat(dfs, self._concat_axis)\n"
     ]
    },
    {
     "name": "stdout",
     "output_type": "stream",
     "text": [
      "Added 1562 stocks to the db\n",
      "     ticker priceCurrency ticker_currency\n",
      "1688    TFX           USD         TFX-USD\n",
      "********************\n",
      "[*********************100%***********************]  1 of 1 completed\n",
      "\n",
      "1 Failed download:\n",
      "- TG1: No timezone found, symbol may be delisted\n",
      "yahoo failed... len of df:  0\n",
      "tiingo failed... len of df:  0\n",
      "Added 1563 stocks to the db\n",
      "     ticker priceCurrency ticker_currency\n",
      "1689    TG1           USD         TG1-USD\n",
      "********************\n",
      "[*********************100%***********************]  1 of 1 completed\n",
      "\n",
      "1 Failed download:\n",
      "- TGL1: No timezone found, symbol may be delisted\n",
      "yahoo failed... len of df:  0\n",
      "tiingo failed... len of df:  0\n",
      "Added 1564 stocks to the db\n",
      "    ticker priceCurrency ticker_currency\n",
      "880   TGL1           USD        TGL1-USD\n",
      "********************\n",
      "[*********************100%***********************]  1 of 1 completed\n"
     ]
    },
    {
     "name": "stderr",
     "output_type": "stream",
     "text": [
      "C:\\Users\\david\\anaconda3\\envs\\svmmvo\\lib\\site-packages\\pandas_datareader\\tiingo.py:234: FutureWarning: In a future version of pandas all arguments of concat except for the argument 'objs' will be keyword-only.\n",
      "  return pd.concat(dfs, self._concat_axis)\n"
     ]
    },
    {
     "name": "stdout",
     "output_type": "stream",
     "text": [
      "Added 1565 stocks to the db\n",
      "     ticker priceCurrency ticker_currency\n",
      "1690   TGNA           USD        TGNA-USD\n",
      "********************\n",
      "[*********************100%***********************]  1 of 1 completed\n",
      "\n",
      "1 Failed download:\n",
      "- TGR1: No timezone found, symbol may be delisted\n",
      "yahoo failed... len of df:  0\n",
      "tiingo failed... len of df:  0\n",
      "Added 1566 stocks to the db\n",
      "    ticker priceCurrency ticker_currency\n",
      "497   TGR1           USD        TGR1-USD\n",
      "********************\n",
      "[*********************100%***********************]  1 of 1 completed\n"
     ]
    },
    {
     "name": "stderr",
     "output_type": "stream",
     "text": [
      "C:\\Users\\david\\anaconda3\\envs\\svmmvo\\lib\\site-packages\\pandas_datareader\\tiingo.py:234: FutureWarning: In a future version of pandas all arguments of concat except for the argument 'objs' will be keyword-only.\n",
      "  return pd.concat(dfs, self._concat_axis)\n"
     ]
    },
    {
     "name": "stdout",
     "output_type": "stream",
     "text": [
      "Added 1567 stocks to the db\n",
      "     ticker priceCurrency ticker_currency\n",
      "1691    TGT           USD         TGT-USD\n",
      "********************\n",
      "[*********************100%***********************]  1 of 1 completed\n"
     ]
    },
    {
     "name": "stderr",
     "output_type": "stream",
     "text": [
      "C:\\Users\\david\\anaconda3\\envs\\svmmvo\\lib\\site-packages\\pandas_datareader\\tiingo.py:234: FutureWarning: In a future version of pandas all arguments of concat except for the argument 'objs' will be keyword-only.\n",
      "  return pd.concat(dfs, self._concat_axis)\n"
     ]
    },
    {
     "name": "stdout",
     "output_type": "stream",
     "text": [
      "Added 1568 stocks to the db\n",
      "     ticker priceCurrency ticker_currency\n",
      "1692    THC           USD         THC-USD\n",
      "********************\n",
      "[*********************100%***********************]  1 of 1 completed\n",
      "\n",
      "1 Failed download:\n",
      "- THY1: No timezone found, symbol may be delisted\n",
      "yahoo failed... len of df:  0\n",
      "tiingo failed... len of df:  0\n",
      "Added 1569 stocks to the db\n",
      "    ticker priceCurrency ticker_currency\n",
      "320   THY1           USD        THY1-USD\n",
      "********************\n",
      "[*********************100%***********************]  1 of 1 completed\n",
      "\n",
      "1 Failed download:\n",
      "- TIC1: No timezone found, symbol may be delisted\n",
      "yahoo failed... len of df:  0\n",
      "tiingo failed... len of df:  0\n",
      "Added 1570 stocks to the db\n",
      "    ticker priceCurrency ticker_currency\n",
      "402   TIC1           USD        TIC1-USD\n",
      "********************\n",
      "[*********************100%***********************]  1 of 1 completed\n",
      "\n",
      "1 Failed download:\n",
      "- TIE2: No timezone found, symbol may be delisted\n",
      "yahoo failed... len of df:  0\n",
      "tiingo failed... len of df:  0\n",
      "Added 1571 stocks to the db\n",
      "    ticker priceCurrency ticker_currency\n",
      "176   TIE2           USD        TIE2-USD\n",
      "********************\n",
      "[*********************100%***********************]  1 of 1 completed\n",
      "\n",
      "1 Failed download:\n",
      "- TIF1: No timezone found, symbol may be delisted\n",
      "yahoo failed... len of df:  0\n",
      "tiingo failed... len of df:  0\n",
      "Added 1572 stocks to the db\n",
      "    ticker priceCurrency ticker_currency\n",
      "208   TIF1           USD        TIF1-USD\n",
      "********************\n",
      "[*********************100%***********************]  1 of 1 completed\n",
      "\n",
      "1 Failed download:\n",
      "- TIN2: No timezone found, symbol may be delisted\n",
      "yahoo failed... len of df:  0\n",
      "tiingo failed... len of df:  0\n",
      "Added 1573 stocks to the db\n",
      "    ticker priceCurrency ticker_currency\n",
      "155   TIN2           USD        TIN2-USD\n",
      "********************\n",
      "[*********************100%***********************]  1 of 1 completed\n",
      "\n",
      "1 Failed download:\n",
      "- TIS1: No timezone found, symbol may be delisted\n",
      "yahoo failed... len of df:  0\n",
      "tiingo failed... len of df:  0\n",
      "Added 1574 stocks to the db\n",
      "    ticker priceCurrency ticker_currency\n",
      "648   TIS1           USD        TIS1-USD\n",
      "********************\n",
      "[*********************100%***********************]  1 of 1 completed\n"
     ]
    },
    {
     "name": "stderr",
     "output_type": "stream",
     "text": [
      "C:\\Users\\david\\anaconda3\\envs\\svmmvo\\lib\\site-packages\\pandas_datareader\\tiingo.py:234: FutureWarning: In a future version of pandas all arguments of concat except for the argument 'objs' will be keyword-only.\n",
      "  return pd.concat(dfs, self._concat_axis)\n"
     ]
    },
    {
     "name": "stdout",
     "output_type": "stream",
     "text": [
      "Added 1575 stocks to the db\n",
      "     ticker priceCurrency ticker_currency\n",
      "1693    TJX           USD         TJX-USD\n",
      "********************\n",
      "[*********************100%***********************]  1 of 1 completed\n",
      "\n",
      "1 Failed download:\n",
      "- TKA1: No timezone found, symbol may be delisted\n",
      "yahoo failed... len of df:  0\n",
      "tiingo failed... len of df:  0\n",
      "Added 1576 stocks to the db\n",
      "    ticker priceCurrency ticker_currency\n",
      "778   TKA1           USD        TKA1-USD\n",
      "********************\n",
      "[*********************100%***********************]  1 of 1 completed\n"
     ]
    },
    {
     "name": "stderr",
     "output_type": "stream",
     "text": [
      "C:\\Users\\david\\anaconda3\\envs\\svmmvo\\lib\\site-packages\\pandas_datareader\\tiingo.py:234: FutureWarning: In a future version of pandas all arguments of concat except for the argument 'objs' will be keyword-only.\n",
      "  return pd.concat(dfs, self._concat_axis)\n"
     ]
    },
    {
     "name": "stdout",
     "output_type": "stream",
     "text": [
      "Added 1577 stocks to the db\n",
      "     ticker priceCurrency ticker_currency\n",
      "1694    TKR           USD         TKR-USD\n",
      "********************\n",
      "[*********************100%***********************]  1 of 1 completed\n",
      "tiingo failed... len of df:  0\n",
      "Added 1578 stocks to the db\n",
      "     ticker priceCurrency ticker_currency\n",
      "1695   TLAB           USD        TLAB-USD\n",
      "********************\n",
      "[*********************100%***********************]  1 of 1 completed\n",
      "\n",
      "1 Failed download:\n",
      "- TMC1: No timezone found, symbol may be delisted\n",
      "yahoo failed... len of df:  0\n",
      "tiingo failed... len of df:  0\n",
      "Added 1579 stocks to the db\n",
      "    ticker priceCurrency ticker_currency\n",
      "466   TMC1           USD        TMC1-USD\n",
      "********************\n",
      "[*********************100%***********************]  1 of 1 completed\n",
      "\n",
      "1 Failed download:\n",
      "- TMC2: No timezone found, symbol may be delisted\n",
      "yahoo failed... len of df:  0\n",
      "tiingo failed... len of df:  0\n",
      "Added 1580 stocks to the db\n",
      "    ticker priceCurrency ticker_currency\n",
      "719   TMC2           USD        TMC2-USD\n",
      "********************\n",
      "[*********************100%***********************]  1 of 1 completed\n",
      "\n",
      "1 Failed download:\n",
      "- TMC4: No timezone found, symbol may be delisted\n",
      "yahoo failed... len of df:  0\n",
      "tiingo failed... len of df:  0\n",
      "Added 1581 stocks to the db\n",
      "    ticker priceCurrency ticker_currency\n",
      "348   TMC4           USD        TMC4-USD\n",
      "********************\n",
      "[*********************100%***********************]  1 of 1 completed\n"
     ]
    },
    {
     "name": "stderr",
     "output_type": "stream",
     "text": [
      "C:\\Users\\david\\anaconda3\\envs\\svmmvo\\lib\\site-packages\\pandas_datareader\\tiingo.py:234: FutureWarning: In a future version of pandas all arguments of concat except for the argument 'objs' will be keyword-only.\n",
      "  return pd.concat(dfs, self._concat_axis)\n"
     ]
    },
    {
     "name": "stdout",
     "output_type": "stream",
     "text": [
      "Added 1582 stocks to the db\n",
      "     ticker priceCurrency ticker_currency\n",
      "1696    TMO           USD         TMO-USD\n",
      "********************\n",
      "[*********************100%***********************]  1 of 1 completed\n"
     ]
    },
    {
     "name": "stderr",
     "output_type": "stream",
     "text": [
      "C:\\Users\\david\\anaconda3\\envs\\svmmvo\\lib\\site-packages\\pandas_datareader\\tiingo.py:234: FutureWarning: In a future version of pandas all arguments of concat except for the argument 'objs' will be keyword-only.\n",
      "  return pd.concat(dfs, self._concat_axis)\n"
     ]
    },
    {
     "name": "stdout",
     "output_type": "stream",
     "text": [
      "Added 1583 stocks to the db\n",
      "     ticker priceCurrency ticker_currency\n",
      "1697   TMUS           USD        TMUS-USD\n",
      "********************\n",
      "[*********************100%***********************]  1 of 1 completed\n",
      "\n",
      "1 Failed download:\n",
      "- TNB3: No timezone found, symbol may be delisted\n",
      "yahoo failed... len of df:  0\n",
      "tiingo failed... len of df:  0\n",
      "Added 1584 stocks to the db\n",
      "    ticker priceCurrency ticker_currency\n",
      "133   TNB3           USD        TNB3-USD\n",
      "********************\n",
      "[*********************100%***********************]  1 of 1 completed\n"
     ]
    },
    {
     "name": "stderr",
     "output_type": "stream",
     "text": [
      "C:\\Users\\david\\anaconda3\\envs\\svmmvo\\lib\\site-packages\\pandas_datareader\\tiingo.py:234: FutureWarning: In a future version of pandas all arguments of concat except for the argument 'objs' will be keyword-only.\n",
      "  return pd.concat(dfs, self._concat_axis)\n"
     ]
    },
    {
     "name": "stdout",
     "output_type": "stream",
     "text": [
      "Added 1585 stocks to the db\n",
      "     ticker priceCurrency ticker_currency\n",
      "1698    TNL           USD         TNL-USD\n",
      "********************\n",
      "[*********************100%***********************]  1 of 1 completed\n",
      "\n",
      "1 Failed download:\n",
      "- TOS1: No timezone found, symbol may be delisted\n",
      "yahoo failed... len of df:  0\n",
      "tiingo failed... len of df:  0\n",
      "Added 1586 stocks to the db\n",
      "    ticker priceCurrency ticker_currency\n",
      "224   TOS1           USD        TOS1-USD\n",
      "********************\n",
      "[*********************100%***********************]  1 of 1 completed\n",
      "\n",
      "1 Failed download:\n",
      "- TOY1: No timezone found, symbol may be delisted\n",
      "yahoo failed... len of df:  0\n",
      "tiingo failed... len of df:  0\n",
      "Added 1587 stocks to the db\n",
      "    ticker priceCurrency ticker_currency\n",
      "242   TOY1           USD        TOY1-USD\n",
      "********************\n",
      "[*********************100%***********************]  1 of 1 completed\n"
     ]
    },
    {
     "name": "stderr",
     "output_type": "stream",
     "text": [
      "C:\\Users\\david\\anaconda3\\envs\\svmmvo\\lib\\site-packages\\pandas_datareader\\tiingo.py:234: FutureWarning: In a future version of pandas all arguments of concat except for the argument 'objs' will be keyword-only.\n",
      "  return pd.concat(dfs, self._concat_axis)\n"
     ]
    },
    {
     "name": "stdout",
     "output_type": "stream",
     "text": [
      "Added 1588 stocks to the db\n",
      "     ticker priceCurrency ticker_currency\n",
      "1699    TPR           USD         TPR-USD\n",
      "********************\n",
      "[*********************100%***********************]  1 of 1 completed\n"
     ]
    },
    {
     "name": "stderr",
     "output_type": "stream",
     "text": [
      "C:\\Users\\david\\anaconda3\\envs\\svmmvo\\lib\\site-packages\\pandas_datareader\\tiingo.py:234: FutureWarning: In a future version of pandas all arguments of concat except for the argument 'objs' will be keyword-only.\n",
      "  return pd.concat(dfs, self._concat_axis)\n"
     ]
    },
    {
     "name": "stdout",
     "output_type": "stream",
     "text": [
      "Added 1589 stocks to the db\n",
      "     ticker priceCurrency ticker_currency\n",
      "1700     TR           USD          TR-USD\n",
      "********************\n",
      "[*********************100%***********************]  1 of 1 completed\n",
      "\n",
      "1 Failed download:\n",
      "- TR1: No timezone found, symbol may be delisted\n",
      "yahoo failed... len of df:  0\n",
      "tiingo failed... len of df:  0\n",
      "Added 1590 stocks to the db\n",
      "    ticker priceCurrency ticker_currency\n",
      "846    TR1           USD         TR1-USD\n",
      "********************\n",
      "[*********************100%***********************]  1 of 1 completed\n",
      "\n",
      "1 Failed download:\n",
      "- TRA1: No timezone found, symbol may be delisted\n",
      "yahoo failed... len of df:  0\n",
      "tiingo failed... len of df:  0\n",
      "Added 1591 stocks to the db\n",
      "    ticker priceCurrency ticker_currency\n",
      "533   TRA1           USD        TRA1-USD\n",
      "********************\n",
      "[*********************100%***********************]  1 of 1 completed\n",
      "\n",
      "1 Failed download:\n",
      "- TRB1: No timezone found, symbol may be delisted\n",
      "yahoo failed... len of df:  0\n",
      "tiingo failed... len of df:  0\n",
      "Added 1592 stocks to the db\n",
      "    ticker priceCurrency ticker_currency\n",
      "244   TRB1           USD        TRB1-USD\n",
      "********************\n",
      "[*********************100%***********************]  1 of 1 completed\n",
      "\n",
      "1 Failed download:\n",
      "- TRC1: No timezone found, symbol may be delisted\n",
      "yahoo failed... len of df:  0\n",
      "tiingo failed... len of df:  0\n",
      "Added 1593 stocks to the db\n",
      "    ticker priceCurrency ticker_currency\n",
      "751   TRC1           USD        TRC1-USD\n",
      "********************\n",
      "[*********************100%***********************]  1 of 1 completed\n",
      "\n",
      "1 Failed download:\n",
      "- TREL1: No timezone found, symbol may be delisted\n",
      "yahoo failed... len of df:  0\n",
      "tiingo failed... len of df:  0\n",
      "Added 1594 stocks to the db\n",
      "    ticker priceCurrency ticker_currency\n",
      "877  TREL1           USD       TREL1-USD\n",
      "********************\n",
      "[*********************100%***********************]  1 of 1 completed\n"
     ]
    },
    {
     "name": "stderr",
     "output_type": "stream",
     "text": [
      "C:\\Users\\david\\anaconda3\\envs\\svmmvo\\lib\\site-packages\\pandas_datareader\\tiingo.py:234: FutureWarning: In a future version of pandas all arguments of concat except for the argument 'objs' will be keyword-only.\n",
      "  return pd.concat(dfs, self._concat_axis)\n"
     ]
    },
    {
     "name": "stdout",
     "output_type": "stream",
     "text": [
      "Added 1595 stocks to the db\n",
      "     ticker priceCurrency ticker_currency\n",
      "1701   TRGP           USD        TRGP-USD\n",
      "********************\n",
      "[*********************100%***********************]  1 of 1 completed\n"
     ]
    },
    {
     "name": "stderr",
     "output_type": "stream",
     "text": [
      "C:\\Users\\david\\anaconda3\\envs\\svmmvo\\lib\\site-packages\\pandas_datareader\\tiingo.py:234: FutureWarning: In a future version of pandas all arguments of concat except for the argument 'objs' will be keyword-only.\n",
      "  return pd.concat(dfs, self._concat_axis)\n"
     ]
    },
    {
     "name": "stdout",
     "output_type": "stream",
     "text": [
      "Added 1596 stocks to the db\n",
      "     ticker priceCurrency ticker_currency\n",
      "1702   TRIP           USD        TRIP-USD\n",
      "********************\n",
      "[*********************100%***********************]  1 of 1 completed\n"
     ]
    },
    {
     "name": "stderr",
     "output_type": "stream",
     "text": [
      "C:\\Users\\david\\anaconda3\\envs\\svmmvo\\lib\\site-packages\\pandas_datareader\\tiingo.py:234: FutureWarning: In a future version of pandas all arguments of concat except for the argument 'objs' will be keyword-only.\n",
      "  return pd.concat(dfs, self._concat_axis)\n"
     ]
    },
    {
     "name": "stdout",
     "output_type": "stream",
     "text": [
      "Added 1597 stocks to the db\n",
      "     ticker priceCurrency ticker_currency\n",
      "1703   TRMB           USD        TRMB-USD\n",
      "********************\n",
      "[*********************100%***********************]  1 of 1 completed\n"
     ]
    },
    {
     "name": "stderr",
     "output_type": "stream",
     "text": [
      "C:\\Users\\david\\anaconda3\\envs\\svmmvo\\lib\\site-packages\\pandas_datareader\\tiingo.py:234: FutureWarning: In a future version of pandas all arguments of concat except for the argument 'objs' will be keyword-only.\n",
      "  return pd.concat(dfs, self._concat_axis)\n"
     ]
    },
    {
     "name": "stdout",
     "output_type": "stream",
     "text": [
      "Added 1598 stocks to the db\n",
      "     ticker priceCurrency ticker_currency\n",
      "1704   TROW           USD        TROW-USD\n",
      "********************\n",
      "[*********************100%***********************]  1 of 1 completed\n",
      "\n",
      "1 Failed download:\n",
      "- TRR1: No timezone found, symbol may be delisted\n",
      "yahoo failed... len of df:  0\n",
      "tiingo failed... len of df:  0\n",
      "Added 1599 stocks to the db\n",
      "    ticker priceCurrency ticker_currency\n",
      "927   TRR1           USD        TRR1-USD\n",
      "********************\n",
      "[*********************100%***********************]  1 of 1 completed\n",
      "\n",
      "1 Failed download:\n",
      "- TRU1: No timezone found, symbol may be delisted\n",
      "yahoo failed... len of df:  0\n",
      "tiingo failed... len of df:  0\n",
      "Added 1600 stocks to the db\n",
      "    ticker priceCurrency ticker_currency\n",
      "820   TRU1           USD        TRU1-USD\n",
      "********************\n",
      "[*********************100%***********************]  1 of 1 completed\n"
     ]
    },
    {
     "name": "stderr",
     "output_type": "stream",
     "text": [
      "C:\\Users\\david\\anaconda3\\envs\\svmmvo\\lib\\site-packages\\pandas_datareader\\tiingo.py:234: FutureWarning: In a future version of pandas all arguments of concat except for the argument 'objs' will be keyword-only.\n",
      "  return pd.concat(dfs, self._concat_axis)\n"
     ]
    },
    {
     "name": "stdout",
     "output_type": "stream",
     "text": [
      "Added 1601 stocks to the db\n",
      "     ticker priceCurrency ticker_currency\n",
      "1705    TRV           USD         TRV-USD\n",
      "********************\n",
      "[*********************100%***********************]  1 of 1 completed\n",
      "\n",
      "1 Failed download:\n",
      "- TRW1: No timezone found, symbol may be delisted\n",
      "yahoo failed... len of df:  0\n",
      "tiingo failed... len of df:  0\n",
      "Added 1602 stocks to the db\n",
      "     ticker priceCurrency ticker_currency\n",
      "1706   TRW1           USD        TRW1-USD\n",
      "********************\n",
      "[*********************100%***********************]  1 of 1 completed\n",
      "\n",
      "1 Failed download:\n",
      "- TS1: No timezone found, symbol may be delisted\n",
      "yahoo failed... len of df:  0\n",
      "tiingo failed... len of df:  0\n",
      "Added 1603 stocks to the db\n",
      "    ticker priceCurrency ticker_currency\n",
      "508    TS1           USD         TS1-USD\n",
      "********************\n",
      "[*********************100%***********************]  1 of 1 completed\n"
     ]
    },
    {
     "name": "stderr",
     "output_type": "stream",
     "text": [
      "C:\\Users\\david\\anaconda3\\envs\\svmmvo\\lib\\site-packages\\pandas_datareader\\tiingo.py:234: FutureWarning: In a future version of pandas all arguments of concat except for the argument 'objs' will be keyword-only.\n",
      "  return pd.concat(dfs, self._concat_axis)\n"
     ]
    },
    {
     "name": "stdout",
     "output_type": "stream",
     "text": [
      "Added 1604 stocks to the db\n",
      "     ticker priceCurrency ticker_currency\n",
      "1707   TSCO           USD        TSCO-USD\n",
      "********************\n",
      "[*********************100%***********************]  1 of 1 completed\n",
      "\n",
      "1 Failed download:\n",
      "- TSG1: No timezone found, symbol may be delisted\n",
      "yahoo failed... len of df:  0\n",
      "tiingo failed... len of df:  0\n",
      "Added 1605 stocks to the db\n",
      "     ticker priceCurrency ticker_currency\n",
      "1708   TSG1           USD        TSG1-USD\n",
      "********************\n",
      "[*********************100%***********************]  1 of 1 completed\n"
     ]
    },
    {
     "name": "stderr",
     "output_type": "stream",
     "text": [
      "C:\\Users\\david\\anaconda3\\envs\\svmmvo\\lib\\site-packages\\pandas_datareader\\tiingo.py:234: FutureWarning: In a future version of pandas all arguments of concat except for the argument 'objs' will be keyword-only.\n",
      "  return pd.concat(dfs, self._concat_axis)\n"
     ]
    },
    {
     "name": "stdout",
     "output_type": "stream",
     "text": [
      "Added 1606 stocks to the db\n",
      "     ticker priceCurrency ticker_currency\n",
      "1709   TSLA           USD        TSLA-USD\n",
      "********************\n",
      "[*********************100%***********************]  1 of 1 completed\n"
     ]
    },
    {
     "name": "stderr",
     "output_type": "stream",
     "text": [
      "C:\\Users\\david\\anaconda3\\envs\\svmmvo\\lib\\site-packages\\pandas_datareader\\tiingo.py:234: FutureWarning: In a future version of pandas all arguments of concat except for the argument 'objs' will be keyword-only.\n",
      "  return pd.concat(dfs, self._concat_axis)\n"
     ]
    },
    {
     "name": "stdout",
     "output_type": "stream",
     "text": [
      "Added 1607 stocks to the db\n",
      "     ticker priceCurrency ticker_currency\n",
      "1710    TSN           USD         TSN-USD\n",
      "********************\n",
      "[*********************100%***********************]  1 of 1 completed\n",
      "\n",
      "1 Failed download:\n",
      "- TSS1: No timezone found, symbol may be delisted\n",
      "yahoo failed... len of df:  0\n",
      "tiingo failed... len of df:  0\n",
      "Added 1608 stocks to the db\n",
      "   ticker priceCurrency ticker_currency\n",
      "27   TSS1           USD        TSS1-USD\n",
      "********************\n",
      "[*********************100%***********************]  1 of 1 completed\n"
     ]
    },
    {
     "name": "stderr",
     "output_type": "stream",
     "text": [
      "C:\\Users\\david\\anaconda3\\envs\\svmmvo\\lib\\site-packages\\pandas_datareader\\tiingo.py:234: FutureWarning: In a future version of pandas all arguments of concat except for the argument 'objs' will be keyword-only.\n",
      "  return pd.concat(dfs, self._concat_axis)\n"
     ]
    },
    {
     "name": "stdout",
     "output_type": "stream",
     "text": [
      "Added 1609 stocks to the db\n",
      "     ticker priceCurrency ticker_currency\n",
      "1711     TT           USD          TT-USD\n",
      "********************\n",
      "[*********************100%***********************]  1 of 1 completed\n",
      "\n",
      "1 Failed download:\n",
      "- TT1: No timezone found, symbol may be delisted\n",
      "yahoo failed... len of df:  0\n",
      "tiingo failed... len of df:  0\n",
      "Added 1610 stocks to the db\n",
      "     ticker priceCurrency ticker_currency\n",
      "1712    TT1           USD         TT1-USD\n",
      "********************\n",
      "[*********************100%***********************]  1 of 1 completed\n"
     ]
    },
    {
     "name": "stderr",
     "output_type": "stream",
     "text": [
      "C:\\Users\\david\\anaconda3\\envs\\svmmvo\\lib\\site-packages\\pandas_datareader\\tiingo.py:234: FutureWarning: In a future version of pandas all arguments of concat except for the argument 'objs' will be keyword-only.\n",
      "  return pd.concat(dfs, self._concat_axis)\n"
     ]
    },
    {
     "name": "stdout",
     "output_type": "stream",
     "text": [
      "Added 1611 stocks to the db\n",
      "     ticker priceCurrency ticker_currency\n",
      "1713   TTWO           USD        TTWO-USD\n",
      "********************\n",
      "[*********************100%***********************]  1 of 1 completed\n"
     ]
    },
    {
     "name": "stderr",
     "output_type": "stream",
     "text": [
      "C:\\Users\\david\\anaconda3\\envs\\svmmvo\\lib\\site-packages\\pandas_datareader\\tiingo.py:234: FutureWarning: In a future version of pandas all arguments of concat except for the argument 'objs' will be keyword-only.\n",
      "  return pd.concat(dfs, self._concat_axis)\n"
     ]
    },
    {
     "name": "stdout",
     "output_type": "stream",
     "text": [
      "Added 1612 stocks to the db\n",
      "     ticker priceCurrency ticker_currency\n",
      "1714    TUP           USD         TUP-USD\n",
      "********************\n",
      "[*********************100%***********************]  1 of 1 completed\n",
      "\n",
      "1 Failed download:\n",
      "- TV1: No timezone found, symbol may be delisted\n",
      "yahoo failed... len of df:  0\n",
      "tiingo failed... len of df:  0\n",
      "Added 1613 stocks to the db\n",
      "    ticker priceCurrency ticker_currency\n",
      "889    TV1           USD         TV1-USD\n",
      "********************\n",
      "[*********************100%***********************]  1 of 1 completed\n",
      "\n",
      "1 Failed download:\n",
      "- TWC2: No timezone found, symbol may be delisted\n",
      "yahoo failed... len of df:  0\n",
      "tiingo failed... len of df:  0\n",
      "Added 1614 stocks to the db\n",
      "   ticker priceCurrency ticker_currency\n",
      "76   TWC2           USD        TWC2-USD\n",
      "********************\n",
      "[*********************100%***********************]  1 of 1 completed\n",
      "\n",
      "1 Failed download:\n",
      "- TWT1: No timezone found, symbol may be delisted\n",
      "yahoo failed... len of df:  0\n",
      "tiingo failed... len of df:  0\n",
      "Added 1615 stocks to the db\n",
      "    ticker priceCurrency ticker_currency\n",
      "500   TWT1           USD        TWT1-USD\n",
      "********************\n",
      "[*********************100%***********************]  1 of 1 completed\n",
      "\n",
      "1 Failed download:\n",
      "- TWX1: No timezone found, symbol may be delisted\n",
      "yahoo failed... len of df:  0\n",
      "tiingo failed... len of df:  0\n",
      "Added 1616 stocks to the db\n",
      "     ticker priceCurrency ticker_currency\n",
      "1715   TWX1           USD        TWX1-USD\n",
      "********************\n",
      "[*********************100%***********************]  1 of 1 completed\n",
      "\n",
      "1 Failed download:\n",
      "- TWX2: No timezone found, symbol may be delisted\n",
      "yahoo failed... len of df:  0\n",
      "tiingo failed... len of df:  0\n",
      "Added 1617 stocks to the db\n",
      "   ticker priceCurrency ticker_currency\n",
      "22   TWX2           USD        TWX2-USD\n",
      "********************\n",
      "[*********************100%***********************]  1 of 1 completed\n",
      "\n",
      "1 Failed download:\n",
      "- TX1: No timezone found, symbol may be delisted\n",
      "yahoo failed... len of df:  0\n",
      "tiingo failed... len of df:  0\n",
      "Added 1618 stocks to the db\n",
      "     ticker priceCurrency ticker_currency\n",
      "1716    TX1           USD         TX1-USD\n",
      "********************\n",
      "[*********************100%***********************]  1 of 1 completed\n",
      "\n",
      "1 Failed download:\n",
      "- TXG1: No timezone found, symbol may be delisted\n",
      "yahoo failed... len of df:  0\n",
      "tiingo failed... len of df:  0\n",
      "Added 1619 stocks to the db\n",
      "    ticker priceCurrency ticker_currency\n",
      "723   TXG1           USD        TXG1-USD\n",
      "********************\n",
      "[*********************100%***********************]  1 of 1 completed\n"
     ]
    },
    {
     "name": "stderr",
     "output_type": "stream",
     "text": [
      "C:\\Users\\david\\anaconda3\\envs\\svmmvo\\lib\\site-packages\\pandas_datareader\\tiingo.py:234: FutureWarning: In a future version of pandas all arguments of concat except for the argument 'objs' will be keyword-only.\n",
      "  return pd.concat(dfs, self._concat_axis)\n"
     ]
    },
    {
     "name": "stdout",
     "output_type": "stream",
     "text": [
      "Added 1620 stocks to the db\n",
      "     ticker priceCurrency ticker_currency\n",
      "1717    TXN           USD         TXN-USD\n",
      "********************\n",
      "[*********************100%***********************]  1 of 1 completed\n",
      "\n",
      "1 Failed download:\n",
      "- TXO1: No timezone found, symbol may be delisted\n",
      "yahoo failed... len of df:  0\n",
      "tiingo failed... len of df:  0\n",
      "Added 1621 stocks to the db\n",
      "    ticker priceCurrency ticker_currency\n",
      "550   TXO1           USD        TXO1-USD\n",
      "********************\n",
      "[*********************100%***********************]  1 of 1 completed\n"
     ]
    },
    {
     "name": "stderr",
     "output_type": "stream",
     "text": [
      "C:\\Users\\david\\anaconda3\\envs\\svmmvo\\lib\\site-packages\\pandas_datareader\\tiingo.py:234: FutureWarning: In a future version of pandas all arguments of concat except for the argument 'objs' will be keyword-only.\n",
      "  return pd.concat(dfs, self._concat_axis)\n"
     ]
    },
    {
     "name": "stdout",
     "output_type": "stream",
     "text": [
      "Added 1622 stocks to the db\n",
      "     ticker priceCurrency ticker_currency\n",
      "1718    TXT           USD         TXT-USD\n",
      "********************\n",
      "[*********************100%***********************]  1 of 1 completed\n",
      "\n",
      "1 Failed download:\n",
      "- TXU1: No timezone found, symbol may be delisted\n",
      "yahoo failed... len of df:  0\n",
      "tiingo failed... len of df:  0\n",
      "Added 1623 stocks to the db\n",
      "    ticker priceCurrency ticker_currency\n",
      "241   TXU1           USD        TXU1-USD\n",
      "********************\n",
      "[*********************100%***********************]  1 of 1 completed\n"
     ]
    },
    {
     "name": "stderr",
     "output_type": "stream",
     "text": [
      "C:\\Users\\david\\anaconda3\\envs\\svmmvo\\lib\\site-packages\\pandas_datareader\\tiingo.py:234: FutureWarning: In a future version of pandas all arguments of concat except for the argument 'objs' will be keyword-only.\n",
      "  return pd.concat(dfs, self._concat_axis)\n"
     ]
    },
    {
     "name": "stdout",
     "output_type": "stream",
     "text": [
      "Added 1624 stocks to the db\n",
      "     ticker priceCurrency ticker_currency\n",
      "1719    TYL           USD         TYL-USD\n",
      "********************\n",
      "[*********************100%***********************]  1 of 1 completed\n",
      "\n",
      "1 Failed download:\n",
      "- TYM1: No timezone found, symbol may be delisted\n",
      "yahoo failed... len of df:  0\n",
      "tiingo failed... len of df:  0\n",
      "Added 1625 stocks to the db\n",
      "    ticker priceCurrency ticker_currency\n",
      "812   TYM1           USD        TYM1-USD\n",
      "********************\n",
      "[*********************100%***********************]  1 of 1 completed\n",
      "\n",
      "1 Failed download:\n",
      "- U1: No timezone found, symbol may be delisted\n",
      "yahoo failed... len of df:  0\n",
      "tiingo failed... len of df:  0\n",
      "Added 1626 stocks to the db\n",
      "    ticker priceCurrency ticker_currency\n",
      "988     U1           USD          U1-USD\n",
      "********************\n",
      "[*********************100%***********************]  1 of 1 completed\n"
     ]
    },
    {
     "name": "stderr",
     "output_type": "stream",
     "text": [
      "C:\\Users\\david\\anaconda3\\envs\\svmmvo\\lib\\site-packages\\pandas_datareader\\tiingo.py:234: FutureWarning: In a future version of pandas all arguments of concat except for the argument 'objs' will be keyword-only.\n",
      "  return pd.concat(dfs, self._concat_axis)\n"
     ]
    },
    {
     "name": "stdout",
     "output_type": "stream",
     "text": [
      "Added 1627 stocks to the db\n",
      "     ticker priceCurrency ticker_currency\n",
      "1720     UA           USD          UA-USD\n",
      "********************\n",
      "[*********************100%***********************]  1 of 1 completed\n"
     ]
    },
    {
     "name": "stderr",
     "output_type": "stream",
     "text": [
      "C:\\Users\\david\\anaconda3\\envs\\svmmvo\\lib\\site-packages\\pandas_datareader\\tiingo.py:234: FutureWarning: In a future version of pandas all arguments of concat except for the argument 'objs' will be keyword-only.\n",
      "  return pd.concat(dfs, self._concat_axis)\n"
     ]
    },
    {
     "name": "stdout",
     "output_type": "stream",
     "text": [
      "Added 1628 stocks to the db\n",
      "     ticker priceCurrency ticker_currency\n",
      "1721    UAA           USD         UAA-USD\n",
      "********************\n",
      "[*********************100%***********************]  1 of 1 completed\n"
     ]
    },
    {
     "name": "stderr",
     "output_type": "stream",
     "text": [
      "C:\\Users\\david\\anaconda3\\envs\\svmmvo\\lib\\site-packages\\pandas_datareader\\tiingo.py:234: FutureWarning: In a future version of pandas all arguments of concat except for the argument 'objs' will be keyword-only.\n",
      "  return pd.concat(dfs, self._concat_axis)\n"
     ]
    },
    {
     "name": "stdout",
     "output_type": "stream",
     "text": [
      "Added 1629 stocks to the db\n",
      "     ticker priceCurrency ticker_currency\n",
      "1722    UAL           USD         UAL-USD\n",
      "********************\n",
      "[*********************100%***********************]  1 of 1 completed\n",
      "\n",
      "1 Failed download:\n",
      "- UALAQ1: No timezone found, symbol may be delisted\n",
      "yahoo failed... len of df:  0\n",
      "tiingo failed... len of df:  0\n",
      "Added 1630 stocks to the db\n",
      "     ticker priceCurrency ticker_currency\n",
      "383  UALAQ1           USD      UALAQ1-USD\n",
      "********************\n",
      "[*********************100%***********************]  1 of 1 completed\n",
      "\n",
      "1 Failed download:\n",
      "- UAWGQ1: No timezone found, symbol may be delisted\n",
      "yahoo failed... len of df:  0\n",
      "tiingo failed... len of df:  0\n",
      "Added 1631 stocks to the db\n",
      "     ticker priceCurrency ticker_currency\n",
      "239  UAWGQ1           USD      UAWGQ1-USD\n",
      "********************\n",
      "[*********************100%***********************]  1 of 1 completed\n",
      "\n",
      "1 Failed download:\n",
      "- UC1: No timezone found, symbol may be delisted\n",
      "yahoo failed... len of df:  0\n",
      "tiingo failed... len of df:  0\n",
      "Added 1632 stocks to the db\n",
      "    ticker priceCurrency ticker_currency\n",
      "830    UC1           USD         UC1-USD\n",
      "********************\n",
      "[*********************100%***********************]  1 of 1 completed\n",
      "\n",
      "1 Failed download:\n",
      "- UCC1: No timezone found, symbol may be delisted\n",
      "yahoo failed... len of df:  0\n",
      "tiingo failed... len of df:  0\n",
      "Added 1633 stocks to the db\n",
      "     ticker priceCurrency ticker_currency\n",
      "1723   UCC1           USD        UCC1-USD\n",
      "********************\n",
      "[*********************100%***********************]  1 of 1 completed\n",
      "\n",
      "1 Failed download:\n",
      "- UCC2: No timezone found, symbol may be delisted\n",
      "yahoo failed... len of df:  0\n",
      "tiingo failed... len of df:  0\n",
      "Added 1634 stocks to the db\n",
      "    ticker priceCurrency ticker_currency\n",
      "862   UCC2           USD        UCC2-USD\n",
      "********************\n",
      "[*********************100%***********************]  1 of 1 completed\n",
      "\n",
      "1 Failed download:\n",
      "- UCL1: No timezone found, symbol may be delisted\n",
      "yahoo failed... len of df:  0\n",
      "tiingo failed... len of df:  0\n",
      "Added 1635 stocks to the db\n",
      "    ticker priceCurrency ticker_currency\n",
      "179   UCL1           USD        UCL1-USD\n",
      "********************\n",
      "[*********************100%***********************]  1 of 1 completed\n",
      "\n",
      "1 Failed download:\n",
      "- UCM1: No timezone found, symbol may be delisted\n",
      "yahoo failed... len of df:  0\n",
      "tiingo failed... len of df:  0\n",
      "Added 1636 stocks to the db\n",
      "    ticker priceCurrency ticker_currency\n",
      "306   UCM1           USD        UCM1-USD\n",
      "********************\n",
      "[*********************100%***********************]  1 of 1 completed\n",
      "\n",
      "1 Failed download:\n",
      "- UCT1: No timezone found, symbol may be delisted\n",
      "yahoo failed... len of df:  0\n",
      "tiingo failed... len of df:  0\n",
      "Added 1637 stocks to the db\n",
      "    ticker priceCurrency ticker_currency\n",
      "922   UCT1           USD        UCT1-USD\n",
      "********************\n",
      "[*********************100%***********************]  1 of 1 completed\n",
      "\n",
      "1 Failed download:\n",
      "- UD1: No timezone found, symbol may be delisted\n",
      "yahoo failed... len of df:  0\n",
      "tiingo failed... len of df:  0\n",
      "Added 1638 stocks to the db\n",
      "    ticker priceCurrency ticker_currency\n",
      "642    UD1           USD         UD1-USD\n",
      "********************\n",
      "[*********************100%***********************]  1 of 1 completed\n"
     ]
    },
    {
     "name": "stderr",
     "output_type": "stream",
     "text": [
      "C:\\Users\\david\\anaconda3\\envs\\svmmvo\\lib\\site-packages\\pandas_datareader\\tiingo.py:234: FutureWarning: In a future version of pandas all arguments of concat except for the argument 'objs' will be keyword-only.\n",
      "  return pd.concat(dfs, self._concat_axis)\n"
     ]
    },
    {
     "name": "stdout",
     "output_type": "stream",
     "text": [
      "Added 1639 stocks to the db\n",
      "     ticker priceCurrency ticker_currency\n",
      "1724    UDR           USD         UDR-USD\n",
      "********************\n",
      "[*********************100%***********************]  1 of 1 completed\n",
      "\n",
      "1 Failed download:\n",
      "- UFL1: No timezone found, symbol may be delisted\n",
      "yahoo failed... len of df:  0\n",
      "tiingo failed... len of df:  0\n",
      "Added 1640 stocks to the db\n",
      "    ticker priceCurrency ticker_currency\n",
      "885   UFL1           USD        UFL1-USD\n",
      "********************\n",
      "[*********************100%***********************]  1 of 1 completed\n",
      "\n",
      "1 Failed download:\n",
      "- UGC1: No timezone found, symbol may be delisted\n",
      "yahoo failed... len of df:  0\n",
      "tiingo failed... len of df:  0\n",
      "Added 1641 stocks to the db\n",
      "    ticker priceCurrency ticker_currency\n",
      "679   UGC1           USD        UGC1-USD\n",
      "********************\n",
      "[*********************100%***********************]  1 of 1 completed\n"
     ]
    },
    {
     "name": "stderr",
     "output_type": "stream",
     "text": [
      "C:\\Users\\david\\anaconda3\\envs\\svmmvo\\lib\\site-packages\\pandas_datareader\\tiingo.py:234: FutureWarning: In a future version of pandas all arguments of concat except for the argument 'objs' will be keyword-only.\n",
      "  return pd.concat(dfs, self._concat_axis)\n"
     ]
    },
    {
     "name": "stdout",
     "output_type": "stream",
     "text": [
      "Added 1642 stocks to the db\n",
      "     ticker priceCurrency ticker_currency\n",
      "1725    UGI           USD         UGI-USD\n",
      "********************\n",
      "[*********************100%***********************]  1 of 1 completed\n",
      "\n",
      "1 Failed download:\n",
      "- UH1: No timezone found, symbol may be delisted\n",
      "yahoo failed... len of df:  0\n",
      "tiingo failed... len of df:  0\n",
      "Added 1643 stocks to the db\n",
      "    ticker priceCurrency ticker_currency\n",
      "515    UH1           USD         UH1-USD\n",
      "********************\n",
      "[*********************100%***********************]  1 of 1 completed\n"
     ]
    },
    {
     "name": "stderr",
     "output_type": "stream",
     "text": [
      "C:\\Users\\david\\anaconda3\\envs\\svmmvo\\lib\\site-packages\\pandas_datareader\\tiingo.py:234: FutureWarning: In a future version of pandas all arguments of concat except for the argument 'objs' will be keyword-only.\n",
      "  return pd.concat(dfs, self._concat_axis)\n"
     ]
    },
    {
     "name": "stdout",
     "output_type": "stream",
     "text": [
      "Added 1644 stocks to the db\n",
      "     ticker priceCurrency ticker_currency\n",
      "1726    UHS           USD         UHS-USD\n",
      "********************\n",
      "[*********************100%***********************]  1 of 1 completed\n"
     ]
    },
    {
     "name": "stderr",
     "output_type": "stream",
     "text": [
      "C:\\Users\\david\\anaconda3\\envs\\svmmvo\\lib\\site-packages\\pandas_datareader\\tiingo.py:234: FutureWarning: In a future version of pandas all arguments of concat except for the argument 'objs' will be keyword-only.\n",
      "  return pd.concat(dfs, self._concat_axis)\n"
     ]
    },
    {
     "name": "stdout",
     "output_type": "stream",
     "text": [
      "Added 1645 stocks to the db\n",
      "     ticker priceCurrency ticker_currency\n",
      "1727    UIS           USD         UIS-USD\n",
      "********************\n",
      "[*********************100%***********************]  1 of 1 completed\n",
      "\n",
      "1 Failed download:\n",
      "- UK1: No timezone found, symbol may be delisted\n",
      "yahoo failed... len of df:  0\n",
      "tiingo failed... len of df:  0\n",
      "Added 1646 stocks to the db\n",
      "     ticker priceCurrency ticker_currency\n",
      "1728    UK1           USD         UK1-USD\n",
      "********************\n",
      "[*********************100%***********************]  1 of 1 completed\n"
     ]
    },
    {
     "name": "stderr",
     "output_type": "stream",
     "text": [
      "C:\\Users\\david\\anaconda3\\envs\\svmmvo\\lib\\site-packages\\pandas_datareader\\tiingo.py:234: FutureWarning: In a future version of pandas all arguments of concat except for the argument 'objs' will be keyword-only.\n",
      "  return pd.concat(dfs, self._concat_axis)\n"
     ]
    },
    {
     "name": "stdout",
     "output_type": "stream",
     "text": [
      "Added 1647 stocks to the db\n",
      "     ticker priceCurrency ticker_currency\n",
      "1729   ULTA           USD        ULTA-USD\n",
      "********************\n",
      "[*********************100%***********************]  1 of 1 completed\n",
      "\n",
      "1 Failed download:\n",
      "- UMG1: No timezone found, symbol may be delisted\n",
      "yahoo failed... len of df:  0\n",
      "tiingo failed... len of df:  0\n",
      "Added 1648 stocks to the db\n",
      "    ticker priceCurrency ticker_currency\n",
      "346   UMG1           USD        UMG1-USD\n",
      "********************\n",
      "[*********************100%***********************]  1 of 1 completed\n",
      "\n",
      "1 Failed download:\n",
      "- UNA2: No timezone found, symbol may be delisted\n",
      "yahoo failed... len of df:  0\n",
      "tiingo failed... len of df:  0\n",
      "Added 1649 stocks to the db\n",
      "    ticker priceCurrency ticker_currency\n",
      "971   UNA2           USD        UNA2-USD\n",
      "********************\n",
      "[*********************100%***********************]  1 of 1 completed\n",
      "\n",
      "1 Failed download:\n",
      "- UNC1: No timezone found, symbol may be delisted\n",
      "yahoo failed... len of df:  0\n",
      "tiingo failed... len of df:  0\n",
      "Added 1650 stocks to the db\n",
      "    ticker priceCurrency ticker_currency\n",
      "597   UNC1           USD        UNC1-USD\n",
      "********************\n",
      "[*********************100%***********************]  1 of 1 completed\n"
     ]
    },
    {
     "name": "stderr",
     "output_type": "stream",
     "text": [
      "C:\\Users\\david\\anaconda3\\envs\\svmmvo\\lib\\site-packages\\pandas_datareader\\tiingo.py:234: FutureWarning: In a future version of pandas all arguments of concat except for the argument 'objs' will be keyword-only.\n",
      "  return pd.concat(dfs, self._concat_axis)\n"
     ]
    },
    {
     "name": "stdout",
     "output_type": "stream",
     "text": [
      "Added 1651 stocks to the db\n",
      "     ticker priceCurrency ticker_currency\n",
      "1730    UNH           USD         UNH-USD\n",
      "********************\n",
      "[*********************100%***********************]  1 of 1 completed\n"
     ]
    },
    {
     "name": "stderr",
     "output_type": "stream",
     "text": [
      "C:\\Users\\david\\anaconda3\\envs\\svmmvo\\lib\\site-packages\\pandas_datareader\\tiingo.py:234: FutureWarning: In a future version of pandas all arguments of concat except for the argument 'objs' will be keyword-only.\n",
      "  return pd.concat(dfs, self._concat_axis)\n"
     ]
    },
    {
     "name": "stdout",
     "output_type": "stream",
     "text": [
      "Added 1652 stocks to the db\n",
      "     ticker priceCurrency ticker_currency\n",
      "1731    UNM           USD         UNM-USD\n",
      "********************\n",
      "[*********************100%***********************]  1 of 1 completed\n"
     ]
    },
    {
     "name": "stderr",
     "output_type": "stream",
     "text": [
      "C:\\Users\\david\\anaconda3\\envs\\svmmvo\\lib\\site-packages\\pandas_datareader\\tiingo.py:234: FutureWarning: In a future version of pandas all arguments of concat except for the argument 'objs' will be keyword-only.\n",
      "  return pd.concat(dfs, self._concat_axis)\n"
     ]
    },
    {
     "name": "stdout",
     "output_type": "stream",
     "text": [
      "Added 1653 stocks to the db\n",
      "     ticker priceCurrency ticker_currency\n",
      "1732    UNP           USD         UNP-USD\n",
      "********************\n",
      "[*********************100%***********************]  1 of 1 completed\n",
      "\n",
      "1 Failed download:\n",
      "- UNX1: No timezone found, symbol may be delisted\n",
      "yahoo failed... len of df:  0\n",
      "tiingo failed... len of df:  0\n",
      "Added 1654 stocks to the db\n",
      "    ticker priceCurrency ticker_currency\n",
      "806   UNX1           USD        UNX1-USD\n",
      "********************\n",
      "[*********************100%***********************]  1 of 1 completed\n",
      "\n",
      "1 Failed download:\n",
      "- UP1: No timezone found, symbol may be delisted\n",
      "yahoo failed... len of df:  0\n",
      "tiingo failed... len of df:  0\n",
      "Added 1655 stocks to the db\n",
      "    ticker priceCurrency ticker_currency\n",
      "400    UP1           USD         UP1-USD\n",
      "********************\n",
      "[*********************100%***********************]  1 of 1 completed\n",
      "\n",
      "1 Failed download:\n",
      "- UPC1: No timezone found, symbol may be delisted\n",
      "yahoo failed... len of df:  0\n",
      "tiingo failed... len of df:  0\n",
      "Added 1656 stocks to the db\n",
      "    ticker priceCurrency ticker_currency\n",
      "170   UPC1           USD        UPC1-USD\n",
      "********************\n",
      "[*********************100%***********************]  1 of 1 completed\n",
      "\n",
      "1 Failed download:\n",
      "- UPJ1: No timezone found, symbol may be delisted\n",
      "yahoo failed... len of df:  0\n",
      "tiingo failed... len of df:  0\n",
      "Added 1657 stocks to the db\n",
      "    ticker priceCurrency ticker_currency\n",
      "462   UPJ1           USD        UPJ1-USD\n",
      "********************\n",
      "[*********************100%***********************]  1 of 1 completed\n",
      "\n",
      "1 Failed download:\n",
      "- UPR1: No timezone found, symbol may be delisted\n",
      "yahoo failed... len of df:  0\n",
      "tiingo failed... len of df:  0\n",
      "Added 1658 stocks to the db\n",
      "    ticker priceCurrency ticker_currency\n",
      "341   UPR1           USD        UPR1-USD\n",
      "********************\n",
      "[*********************100%***********************]  1 of 1 completed\n"
     ]
    },
    {
     "name": "stderr",
     "output_type": "stream",
     "text": [
      "C:\\Users\\david\\anaconda3\\envs\\svmmvo\\lib\\site-packages\\pandas_datareader\\tiingo.py:234: FutureWarning: In a future version of pandas all arguments of concat except for the argument 'objs' will be keyword-only.\n",
      "  return pd.concat(dfs, self._concat_axis)\n"
     ]
    },
    {
     "name": "stdout",
     "output_type": "stream",
     "text": [
      "Added 1659 stocks to the db\n",
      "     ticker priceCurrency ticker_currency\n",
      "1733    UPS           USD         UPS-USD\n",
      "********************\n",
      "[*********************100%***********************]  1 of 1 completed\n",
      "\n",
      "1 Failed download:\n",
      "- URB2: No timezone found, symbol may be delisted\n",
      "yahoo failed... len of df:  0\n",
      "tiingo failed... len of df:  0\n",
      "Added 1660 stocks to the db\n",
      "    ticker priceCurrency ticker_currency\n",
      "929   URB2           USD        URB2-USD\n",
      "********************\n",
      "[*********************100%***********************]  1 of 1 completed\n"
     ]
    },
    {
     "name": "stderr",
     "output_type": "stream",
     "text": [
      "C:\\Users\\david\\anaconda3\\envs\\svmmvo\\lib\\site-packages\\pandas_datareader\\tiingo.py:234: FutureWarning: In a future version of pandas all arguments of concat except for the argument 'objs' will be keyword-only.\n",
      "  return pd.concat(dfs, self._concat_axis)\n"
     ]
    },
    {
     "name": "stdout",
     "output_type": "stream",
     "text": [
      "Added 1661 stocks to the db\n",
      "     ticker priceCurrency ticker_currency\n",
      "1734   URBN           USD        URBN-USD\n",
      "********************\n",
      "[*********************100%***********************]  1 of 1 completed\n"
     ]
    },
    {
     "name": "stderr",
     "output_type": "stream",
     "text": [
      "C:\\Users\\david\\anaconda3\\envs\\svmmvo\\lib\\site-packages\\pandas_datareader\\tiingo.py:234: FutureWarning: In a future version of pandas all arguments of concat except for the argument 'objs' will be keyword-only.\n",
      "  return pd.concat(dfs, self._concat_axis)\n"
     ]
    },
    {
     "name": "stdout",
     "output_type": "stream",
     "text": [
      "Added 1662 stocks to the db\n",
      "     ticker priceCurrency ticker_currency\n",
      "1735    URI           USD         URI-USD\n",
      "********************\n",
      "[*********************100%***********************]  1 of 1 completed\n"
     ]
    },
    {
     "name": "stderr",
     "output_type": "stream",
     "text": [
      "C:\\Users\\david\\anaconda3\\envs\\svmmvo\\lib\\site-packages\\pandas_datareader\\tiingo.py:234: FutureWarning: In a future version of pandas all arguments of concat except for the argument 'objs' will be keyword-only.\n",
      "  return pd.concat(dfs, self._concat_axis)\n"
     ]
    },
    {
     "name": "stdout",
     "output_type": "stream",
     "text": [
      "Added 1663 stocks to the db\n",
      "     ticker priceCurrency ticker_currency\n",
      "1736    USB           USD         USB-USD\n",
      "********************\n",
      "[*********************100%***********************]  1 of 1 completed\n",
      "\n",
      "1 Failed download:\n",
      "- USB1: No timezone found, symbol may be delisted\n",
      "yahoo failed... len of df:  0\n",
      "tiingo failed... len of df:  0\n",
      "Added 1664 stocks to the db\n",
      "    ticker priceCurrency ticker_currency\n",
      "324   USB1           USD        USB1-USD\n",
      "********************\n",
      "[*********************100%***********************]  1 of 1 completed\n",
      "\n",
      "1 Failed download:\n",
      "- USBC1: No timezone found, symbol may be delisted\n",
      "yahoo failed... len of df:  0\n",
      "tiingo failed... len of df:  0\n",
      "Added 1665 stocks to the db\n",
      "     ticker priceCurrency ticker_currency\n",
      "1737  USBC1           USD       USBC1-USD\n",
      "********************\n",
      "[*********************100%***********************]  1 of 1 completed\n",
      "\n",
      "1 Failed download:\n",
      "- USH1: No timezone found, symbol may be delisted\n",
      "yahoo failed... len of df:  0\n",
      "tiingo failed... len of df:  0\n",
      "Added 1666 stocks to the db\n",
      "    ticker priceCurrency ticker_currency\n",
      "325   USH1           USD        USH1-USD\n",
      "********************\n",
      "[*********************100%***********************]  1 of 1 completed\n",
      "\n",
      "1 Failed download:\n",
      "- USHC1: No timezone found, symbol may be delisted\n",
      "yahoo failed... len of df:  0\n",
      "tiingo failed... len of df:  0\n",
      "Added 1667 stocks to the db\n",
      "    ticker priceCurrency ticker_currency\n",
      "327  USHC1           USD       USHC1-USD\n",
      "********************\n",
      "[*********************100%***********************]  1 of 1 completed\n",
      "\n",
      "1 Failed download:\n",
      "- USL2: No timezone found, symbol may be delisted\n",
      "yahoo failed... len of df:  0\n",
      "tiingo failed... len of df:  0\n",
      "Added 1668 stocks to the db\n",
      "    ticker priceCurrency ticker_currency\n",
      "626   USL2           USD        USL2-USD\n",
      "********************\n",
      "[*********************100%***********************]  1 of 1 completed\n",
      "\n",
      "1 Failed download:\n",
      "- USL2PR: No timezone found, symbol may be delisted\n",
      "yahoo failed... len of df:  0\n",
      "tiingo failed... len of df:  0\n",
      "Added 1669 stocks to the db\n",
      "     ticker priceCurrency ticker_currency\n",
      "987  USL2PR           USD      USL2PR-USD\n",
      "********************\n",
      "[*********************100%***********************]  1 of 1 completed\n",
      "\n",
      "1 Failed download:\n",
      "- USM1: No timezone found, symbol may be delisted\n",
      "yahoo failed... len of df:  0\n",
      "tiingo failed... len of df:  0\n",
      "Added 1670 stocks to the db\n",
      "    ticker priceCurrency ticker_currency\n",
      "385   USM1           USD        USM1-USD\n",
      "********************\n",
      "[*********************100%***********************]  1 of 1 completed\n",
      "\n",
      "1 Failed download:\n",
      "- USS1: No timezone found, symbol may be delisted\n",
      "yahoo failed... len of df:  0\n",
      "tiingo failed... len of df:  0\n",
      "Added 1671 stocks to the db\n",
      "     ticker priceCurrency ticker_currency\n",
      "1738   USS1           USD        USS1-USD\n",
      "********************\n",
      "[*********************100%***********************]  1 of 1 completed\n",
      "\n",
      "1 Failed download:\n",
      "- UST2: No timezone found, symbol may be delisted\n",
      "yahoo failed... len of df:  0\n",
      "tiingo failed... len of df:  0\n",
      "Added 1672 stocks to the db\n",
      "    ticker priceCurrency ticker_currency\n",
      "192   UST2           USD        UST2-USD\n",
      "********************\n",
      "[*********************100%***********************]  1 of 1 completed\n",
      "\n",
      "1 Failed download:\n",
      "- USW1: No timezone found, symbol may be delisted\n",
      "yahoo failed... len of df:  0\n",
      "tiingo failed... len of df:  0\n",
      "Added 1673 stocks to the db\n",
      "    ticker priceCurrency ticker_currency\n",
      "334   USW1           USD        USW1-USD\n",
      "********************\n",
      "[*********************100%***********************]  1 of 1 completed\n",
      "\n",
      "1 Failed download:\n",
      "- UV1: No timezone found, symbol may be delisted\n",
      "yahoo failed... len of df:  0\n",
      "tiingo failed... len of df:  0\n",
      "Added 1674 stocks to the db\n",
      "    ticker priceCurrency ticker_currency\n",
      "593    UV1           USD         UV1-USD\n",
      "********************\n",
      "[*********************100%***********************]  1 of 1 completed\n",
      "\n",
      "1 Failed download:\n",
      "- UVL1: No timezone found, symbol may be delisted\n",
      "yahoo failed... len of df:  0\n",
      "tiingo failed... len of df:  0\n",
      "Added 1675 stocks to the db\n",
      "    ticker priceCurrency ticker_currency\n",
      "841   UVL1           USD        UVL1-USD\n",
      "********************\n",
      "[*********************100%***********************]  1 of 1 completed\n",
      "\n",
      "1 Failed download:\n",
      "- UVN1: No timezone found, symbol may be delisted\n",
      "yahoo failed... len of df:  0\n",
      "tiingo failed... len of df:  0\n",
      "Added 1676 stocks to the db\n",
      "    ticker priceCurrency ticker_currency\n",
      "261   UVN1           USD        UVN1-USD\n",
      "********************\n",
      "[*********************100%***********************]  1 of 1 completed\n"
     ]
    },
    {
     "name": "stderr",
     "output_type": "stream",
     "text": [
      "C:\\Users\\david\\anaconda3\\envs\\svmmvo\\lib\\site-packages\\pandas_datareader\\tiingo.py:234: FutureWarning: In a future version of pandas all arguments of concat except for the argument 'objs' will be keyword-only.\n",
      "  return pd.concat(dfs, self._concat_axis)\n"
     ]
    },
    {
     "name": "stdout",
     "output_type": "stream",
     "text": [
      "Added 1677 stocks to the db\n",
      "     ticker priceCurrency ticker_currency\n",
      "1739      V           USD           V-USD\n",
      "********************\n",
      "[*********************100%***********************]  1 of 1 completed\n",
      "\n",
      "1 Failed download:\n",
      "- V4: No timezone found, symbol may be delisted\n",
      "yahoo failed... len of df:  0\n",
      "tiingo failed... len of df:  0\n",
      "Added 1678 stocks to the db\n",
      "    ticker priceCurrency ticker_currency\n",
      "764     V4           USD          V4-USD\n",
      "********************\n",
      "[*********************100%***********************]  1 of 1 completed\n",
      "\n",
      "1 Failed download:\n",
      "- VAR1: No timezone found, symbol may be delisted\n",
      "yahoo failed... len of df:  0\n",
      "tiingo failed... len of df:  0\n",
      "Added 1679 stocks to the db\n",
      "   ticker priceCurrency ticker_currency\n",
      "35   VAR1           USD        VAR1-USD\n",
      "********************\n",
      "[*********************100%***********************]  1 of 1 completed\n",
      "\n",
      "1 Failed download:\n",
      "- VAT1: No timezone found, symbol may be delisted\n",
      "yahoo failed... len of df:  0\n",
      "tiingo failed... len of df:  0\n",
      "Added 1680 stocks to the db\n",
      "    ticker priceCurrency ticker_currency\n",
      "344   VAT1           USD        VAT1-USD\n",
      "********************\n",
      "[*********************100%***********************]  1 of 1 completed\n",
      "\n",
      "1 Failed download:\n",
      "- VC2: No timezone found, symbol may be delisted\n",
      "yahoo failed... len of df:  0\n",
      "tiingo failed... len of df:  0\n",
      "Added 1681 stocks to the db\n",
      "    ticker priceCurrency ticker_currency\n",
      "787    VC2           USD         VC2-USD\n",
      "********************\n",
      "[*********************100%***********************]  1 of 1 completed\n",
      "\n",
      "1 Failed download:\n",
      "- VCA1: No timezone found, symbol may be delisted\n",
      "yahoo failed... len of df:  0\n",
      "tiingo failed... len of df:  0\n",
      "Added 1682 stocks to the db\n",
      "    ticker priceCurrency ticker_currency\n",
      "876   VCA1           USD        VCA1-USD\n",
      "********************\n",
      "[*********************100%***********************]  1 of 1 completed\n",
      "\n",
      "1 Failed download:\n",
      "- VEC1: No timezone found, symbol may be delisted\n",
      "yahoo failed... len of df:  0\n",
      "tiingo failed... len of df:  0\n",
      "Added 1683 stocks to the db\n",
      "    ticker priceCurrency ticker_currency\n",
      "957   VEC1           USD        VEC1-USD\n",
      "********************\n",
      "[*********************100%***********************]  1 of 1 completed\n",
      "\n",
      "1 Failed download:\n",
      "- VEL1: No timezone found, symbol may be delisted\n",
      "yahoo failed... len of df:  0\n",
      "tiingo failed... len of df:  0\n",
      "Added 1684 stocks to the db\n",
      "    ticker priceCurrency ticker_currency\n",
      "918   VEL1           USD        VEL1-USD\n",
      "********************\n",
      "[*********************100%***********************]  1 of 1 completed\n",
      "\n",
      "1 Failed download:\n",
      "- VEN1: No timezone found, symbol may be delisted\n",
      "yahoo failed... len of df:  0\n",
      "tiingo failed... len of df:  0\n",
      "Added 1685 stocks to the db\n",
      "    ticker priceCurrency ticker_currency\n",
      "692   VEN1           USD        VEN1-USD\n",
      "********************\n",
      "[*********************100%***********************]  1 of 1 completed\n"
     ]
    },
    {
     "name": "stderr",
     "output_type": "stream",
     "text": [
      "C:\\Users\\david\\anaconda3\\envs\\svmmvo\\lib\\site-packages\\pandas_datareader\\tiingo.py:234: FutureWarning: In a future version of pandas all arguments of concat except for the argument 'objs' will be keyword-only.\n",
      "  return pd.concat(dfs, self._concat_axis)\n"
     ]
    },
    {
     "name": "stdout",
     "output_type": "stream",
     "text": [
      "Added 1686 stocks to the db\n",
      "     ticker priceCurrency ticker_currency\n",
      "1740    VFC           USD         VFC-USD\n",
      "********************\n",
      "[*********************100%***********************]  1 of 1 completed\n"
     ]
    },
    {
     "name": "stderr",
     "output_type": "stream",
     "text": [
      "C:\\Users\\david\\anaconda3\\envs\\svmmvo\\lib\\site-packages\\pandas_datareader\\tiingo.py:234: FutureWarning: In a future version of pandas all arguments of concat except for the argument 'objs' will be keyword-only.\n",
      "  return pd.concat(dfs, self._concat_axis)\n"
     ]
    },
    {
     "name": "stdout",
     "output_type": "stream",
     "text": [
      "Added 1687 stocks to the db\n",
      "     ticker priceCurrency ticker_currency\n",
      "1741    VHI           USD         VHI-USD\n",
      "********************\n",
      "[*********************100%***********************]  1 of 1 completed\n",
      "\n",
      "1 Failed download:\n",
      "- VIAB1: No timezone found, symbol may be delisted\n",
      "yahoo failed... len of df:  0\n",
      "tiingo failed... len of df:  0\n",
      "Added 1688 stocks to the db\n",
      "   ticker priceCurrency ticker_currency\n",
      "33  VIAB1           USD       VIAB1-USD\n",
      "********************\n",
      "[*********************100%***********************]  1 of 1 completed\n"
     ]
    },
    {
     "name": "stderr",
     "output_type": "stream",
     "text": [
      "C:\\Users\\david\\anaconda3\\envs\\svmmvo\\lib\\site-packages\\pandas_datareader\\tiingo.py:234: FutureWarning: In a future version of pandas all arguments of concat except for the argument 'objs' will be keyword-only.\n",
      "  return pd.concat(dfs, self._concat_axis)\n"
     ]
    },
    {
     "name": "stdout",
     "output_type": "stream",
     "text": [
      "Added 1689 stocks to the db\n",
      "     ticker priceCurrency ticker_currency\n",
      "1742   VIAV           USD        VIAV-USD\n",
      "********************\n",
      "[*********************100%***********************]  1 of 1 completed\n"
     ]
    },
    {
     "name": "stderr",
     "output_type": "stream",
     "text": [
      "C:\\Users\\david\\anaconda3\\envs\\svmmvo\\lib\\site-packages\\pandas_datareader\\tiingo.py:234: FutureWarning: In a future version of pandas all arguments of concat except for the argument 'objs' will be keyword-only.\n",
      "  return pd.concat(dfs, self._concat_axis)\n"
     ]
    },
    {
     "name": "stdout",
     "output_type": "stream",
     "text": [
      "Added 1690 stocks to the db\n",
      "     ticker priceCurrency ticker_currency\n",
      "1743   VICI           USD        VICI-USD\n",
      "********************\n",
      "[*********************100%***********************]  1 of 1 completed\n"
     ]
    },
    {
     "name": "stderr",
     "output_type": "stream",
     "text": [
      "C:\\Users\\david\\anaconda3\\envs\\svmmvo\\lib\\site-packages\\pandas_datareader\\tiingo.py:234: FutureWarning: In a future version of pandas all arguments of concat except for the argument 'objs' will be keyword-only.\n",
      "  return pd.concat(dfs, self._concat_axis)\n"
     ]
    },
    {
     "name": "stdout",
     "output_type": "stream",
     "text": [
      "Added 1691 stocks to the db\n",
      "     ticker priceCurrency ticker_currency\n",
      "1744    VLO           USD         VLO-USD\n",
      "********************\n",
      "[*********************100%***********************]  1 of 1 completed\n"
     ]
    },
    {
     "name": "stderr",
     "output_type": "stream",
     "text": [
      "C:\\Users\\david\\anaconda3\\envs\\svmmvo\\lib\\site-packages\\pandas_datareader\\tiingo.py:234: FutureWarning: In a future version of pandas all arguments of concat except for the argument 'objs' will be keyword-only.\n",
      "  return pd.concat(dfs, self._concat_axis)\n"
     ]
    },
    {
     "name": "stdout",
     "output_type": "stream",
     "text": [
      "Added 1692 stocks to the db\n",
      "     ticker priceCurrency ticker_currency\n",
      "1745    VMC           USD         VMC-USD\n",
      "********************\n",
      "[*********************100%***********************]  1 of 1 completed\n"
     ]
    },
    {
     "name": "stderr",
     "output_type": "stream",
     "text": [
      "C:\\Users\\david\\anaconda3\\envs\\svmmvo\\lib\\site-packages\\pandas_datareader\\tiingo.py:234: FutureWarning: In a future version of pandas all arguments of concat except for the argument 'objs' will be keyword-only.\n",
      "  return pd.concat(dfs, self._concat_axis)\n"
     ]
    },
    {
     "name": "stdout",
     "output_type": "stream",
     "text": [
      "Added 1693 stocks to the db\n",
      "     ticker priceCurrency ticker_currency\n",
      "1746    VNO           USD         VNO-USD\n",
      "********************\n",
      "[*********************100%***********************]  1 of 1 completed\n"
     ]
    },
    {
     "name": "stderr",
     "output_type": "stream",
     "text": [
      "C:\\Users\\david\\anaconda3\\envs\\svmmvo\\lib\\site-packages\\pandas_datareader\\tiingo.py:234: FutureWarning: In a future version of pandas all arguments of concat except for the argument 'objs' will be keyword-only.\n",
      "  return pd.concat(dfs, self._concat_axis)\n"
     ]
    },
    {
     "name": "stdout",
     "output_type": "stream",
     "text": [
      "Added 1694 stocks to the db\n",
      "     ticker priceCurrency ticker_currency\n",
      "1747    VNT           USD         VNT-USD\n",
      "********************\n",
      "[*********************100%***********************]  1 of 1 completed\n",
      "\n",
      "1 Failed download:\n",
      "- VO1: No timezone found, symbol may be delisted\n",
      "yahoo failed... len of df:  0\n",
      "tiingo failed... len of df:  0\n",
      "Added 1695 stocks to the db\n",
      "     ticker priceCurrency ticker_currency\n",
      "1748    VO1           USD         VO1-USD\n",
      "********************\n",
      "[*********************100%***********************]  1 of 1 completed\n",
      "\n",
      "1 Failed download:\n",
      "- VON1: No timezone found, symbol may be delisted\n",
      "yahoo failed... len of df:  0\n",
      "tiingo failed... len of df:  0\n",
      "Added 1696 stocks to the db\n",
      "    ticker priceCurrency ticker_currency\n",
      "492   VON1           USD        VON1-USD\n",
      "********************\n",
      "[*********************100%***********************]  1 of 1 completed\n"
     ]
    },
    {
     "name": "stderr",
     "output_type": "stream",
     "text": [
      "C:\\Users\\david\\anaconda3\\envs\\svmmvo\\lib\\site-packages\\pandas_datareader\\tiingo.py:234: FutureWarning: In a future version of pandas all arguments of concat except for the argument 'objs' will be keyword-only.\n",
      "  return pd.concat(dfs, self._concat_axis)\n"
     ]
    },
    {
     "name": "stdout",
     "output_type": "stream",
     "text": [
      "Added 1697 stocks to the db\n",
      "     ticker priceCurrency ticker_currency\n",
      "1749   VRSK           USD        VRSK-USD\n",
      "********************\n",
      "[*********************100%***********************]  1 of 1 completed\n"
     ]
    },
    {
     "name": "stderr",
     "output_type": "stream",
     "text": [
      "C:\\Users\\david\\anaconda3\\envs\\svmmvo\\lib\\site-packages\\pandas_datareader\\tiingo.py:234: FutureWarning: In a future version of pandas all arguments of concat except for the argument 'objs' will be keyword-only.\n",
      "  return pd.concat(dfs, self._concat_axis)\n"
     ]
    },
    {
     "name": "stdout",
     "output_type": "stream",
     "text": [
      "Added 1698 stocks to the db\n",
      "     ticker priceCurrency ticker_currency\n",
      "1750   VRSN           USD        VRSN-USD\n",
      "********************\n",
      "[*********************100%***********************]  1 of 1 completed\n",
      "\n",
      "1 Failed download:\n",
      "- VRT2: No timezone found, symbol may be delisted\n",
      "yahoo failed... len of df:  0\n",
      "tiingo failed... len of df:  0\n",
      "Added 1699 stocks to the db\n",
      "    ticker priceCurrency ticker_currency\n",
      "727   VRT2           USD        VRT2-USD\n",
      "********************\n",
      "[*********************100%***********************]  1 of 1 completed\n",
      "\n",
      "1 Failed download:\n",
      "- VRTS1: No timezone found, symbol may be delisted\n",
      "yahoo failed... len of df:  0\n",
      "tiingo failed... len of df:  0\n",
      "Added 1700 stocks to the db\n",
      "     ticker priceCurrency ticker_currency\n",
      "1751  VRTS1           USD       VRTS1-USD\n",
      "********************\n",
      "[*********************100%***********************]  1 of 1 completed\n"
     ]
    },
    {
     "name": "stderr",
     "output_type": "stream",
     "text": [
      "C:\\Users\\david\\anaconda3\\envs\\svmmvo\\lib\\site-packages\\pandas_datareader\\tiingo.py:234: FutureWarning: In a future version of pandas all arguments of concat except for the argument 'objs' will be keyword-only.\n",
      "  return pd.concat(dfs, self._concat_axis)\n"
     ]
    },
    {
     "name": "stdout",
     "output_type": "stream",
     "text": [
      "Added 1701 stocks to the db\n",
      "     ticker priceCurrency ticker_currency\n",
      "1752   VRTX           USD        VRTX-USD\n",
      "********************\n",
      "[*********************100%***********************]  1 of 1 completed\n",
      "\n",
      "1 Failed download:\n",
      "- VRY1: No timezone found, symbol may be delisted\n",
      "yahoo failed... len of df:  0\n",
      "tiingo failed... len of df:  0\n",
      "Added 1702 stocks to the db\n",
      "    ticker priceCurrency ticker_currency\n",
      "582   VRY1           USD        VRY1-USD\n",
      "********************\n",
      "[*********************100%***********************]  1 of 1 completed\n",
      "\n",
      "1 Failed download:\n",
      "- VSTNQ1: No timezone found, symbol may be delisted\n",
      "yahoo failed... len of df:  0\n",
      "tiingo failed... len of df:  0\n",
      "Added 1703 stocks to the db\n",
      "     ticker priceCurrency ticker_currency\n",
      "198  VSTNQ1           USD      VSTNQ1-USD\n",
      "********************\n",
      "[*********************100%***********************]  1 of 1 completed\n"
     ]
    },
    {
     "name": "stderr",
     "output_type": "stream",
     "text": [
      "C:\\Users\\david\\anaconda3\\envs\\svmmvo\\lib\\site-packages\\pandas_datareader\\tiingo.py:234: FutureWarning: In a future version of pandas all arguments of concat except for the argument 'objs' will be keyword-only.\n",
      "  return pd.concat(dfs, self._concat_axis)\n"
     ]
    },
    {
     "name": "stdout",
     "output_type": "stream",
     "text": [
      "Added 1704 stocks to the db\n",
      "     ticker priceCurrency ticker_currency\n",
      "1753    VTR           USD         VTR-USD\n",
      "********************\n",
      "[*********************100%***********************]  1 of 1 completed\n"
     ]
    },
    {
     "name": "stderr",
     "output_type": "stream",
     "text": [
      "C:\\Users\\david\\anaconda3\\envs\\svmmvo\\lib\\site-packages\\pandas_datareader\\tiingo.py:234: FutureWarning: In a future version of pandas all arguments of concat except for the argument 'objs' will be keyword-only.\n",
      "  return pd.concat(dfs, self._concat_axis)\n"
     ]
    },
    {
     "name": "stdout",
     "output_type": "stream",
     "text": [
      "Added 1705 stocks to the db\n",
      "     ticker priceCurrency ticker_currency\n",
      "1754   VTRS           USD        VTRS-USD\n",
      "********************\n",
      "[*********************100%***********************]  1 of 1 completed\n"
     ]
    },
    {
     "name": "stderr",
     "output_type": "stream",
     "text": [
      "C:\\Users\\david\\anaconda3\\envs\\svmmvo\\lib\\site-packages\\pandas_datareader\\tiingo.py:234: FutureWarning: In a future version of pandas all arguments of concat except for the argument 'objs' will be keyword-only.\n",
      "  return pd.concat(dfs, self._concat_axis)\n"
     ]
    },
    {
     "name": "stdout",
     "output_type": "stream",
     "text": [
      "Added 1706 stocks to the db\n",
      "     ticker priceCurrency ticker_currency\n",
      "1755    VVI           USD         VVI-USD\n",
      "********************\n",
      "[*********************100%***********************]  1 of 1 completed\n"
     ]
    },
    {
     "name": "stderr",
     "output_type": "stream",
     "text": [
      "C:\\Users\\david\\anaconda3\\envs\\svmmvo\\lib\\site-packages\\pandas_datareader\\tiingo.py:234: FutureWarning: In a future version of pandas all arguments of concat except for the argument 'objs' will be keyword-only.\n",
      "  return pd.concat(dfs, self._concat_axis)\n"
     ]
    },
    {
     "name": "stdout",
     "output_type": "stream",
     "text": [
      "Added 1707 stocks to the db\n",
      "     ticker priceCurrency ticker_currency\n",
      "1756     VZ           USD          VZ-USD\n",
      "********************\n",
      "[*********************100%***********************]  1 of 1 completed\n"
     ]
    },
    {
     "name": "stderr",
     "output_type": "stream",
     "text": [
      "C:\\Users\\david\\anaconda3\\envs\\svmmvo\\lib\\site-packages\\pandas_datareader\\tiingo.py:234: FutureWarning: In a future version of pandas all arguments of concat except for the argument 'objs' will be keyword-only.\n",
      "  return pd.concat(dfs, self._concat_axis)\n"
     ]
    },
    {
     "name": "stdout",
     "output_type": "stream",
     "text": [
      "Added 1708 stocks to the db\n",
      "     ticker priceCurrency ticker_currency\n",
      "1757    WAB           USD         WAB-USD\n",
      "********************\n",
      "[*********************100%***********************]  1 of 1 completed\n",
      "\n",
      "1 Failed download:\n",
      "- WAI1: No timezone found, symbol may be delisted\n",
      "yahoo failed... len of df:  0\n",
      "tiingo failed... len of df:  0\n",
      "Added 1709 stocks to the db\n",
      "    ticker priceCurrency ticker_currency\n",
      "350   WAI1           USD        WAI1-USD\n",
      "********************\n",
      "[*********************100%***********************]  1 of 1 completed\n",
      "\n",
      "1 Failed download:\n",
      "- WAMUQ1: No timezone found, symbol may be delisted\n",
      "yahoo failed... len of df:  0\n",
      "tiingo failed... len of df:  0\n",
      "Added 1710 stocks to the db\n",
      "     ticker priceCurrency ticker_currency\n",
      "164  WAMUQ1           USD      WAMUQ1-USD\n",
      "********************\n",
      "[*********************100%***********************]  1 of 1 completed\n",
      "\n",
      "1 Failed download:\n",
      "- WAN1B: No timezone found, symbol may be delisted\n",
      "yahoo failed... len of df:  0\n",
      "tiingo failed... len of df:  0\n",
      "Added 1711 stocks to the db\n",
      "    ticker priceCurrency ticker_currency\n",
      "740  WAN1B           USD       WAN1B-USD\n",
      "********************\n",
      "[*********************100%***********************]  1 of 1 completed\n"
     ]
    },
    {
     "name": "stderr",
     "output_type": "stream",
     "text": [
      "C:\\Users\\david\\anaconda3\\envs\\svmmvo\\lib\\site-packages\\pandas_datareader\\tiingo.py:234: FutureWarning: In a future version of pandas all arguments of concat except for the argument 'objs' will be keyword-only.\n",
      "  return pd.concat(dfs, self._concat_axis)\n"
     ]
    },
    {
     "name": "stdout",
     "output_type": "stream",
     "text": [
      "Added 1712 stocks to the db\n",
      "     ticker priceCurrency ticker_currency\n",
      "1758    WAT           USD         WAT-USD\n",
      "********************\n",
      "[*********************100%***********************]  1 of 1 completed\n",
      "\n",
      "1 Failed download:\n",
      "- WB1: No timezone found, symbol may be delisted\n",
      "yahoo failed... len of df:  0\n",
      "tiingo failed... len of df:  0\n",
      "Added 1713 stocks to the db\n",
      "     ticker priceCurrency ticker_currency\n",
      "1759    WB1           USD         WB1-USD\n",
      "********************\n",
      "[*********************100%***********************]  1 of 1 completed\n",
      "\n",
      "1 Failed download:\n",
      "- WB2: No timezone found, symbol may be delisted\n",
      "yahoo failed... len of df:  0\n",
      "tiingo failed... len of df:  0\n",
      "Added 1714 stocks to the db\n",
      "     ticker priceCurrency ticker_currency\n",
      "1760    WB2           USD         WB2-USD\n",
      "********************\n",
      "[*********************100%***********************]  1 of 1 completed\n",
      "\n",
      "1 Failed download:\n",
      "- WB4: No timezone found, symbol may be delisted\n",
      "yahoo failed... len of df:  0\n",
      "tiingo failed... len of df:  0\n",
      "Added 1715 stocks to the db\n",
      "    ticker priceCurrency ticker_currency\n",
      "105    WB4           USD         WB4-USD\n",
      "********************\n",
      "[*********************100%***********************]  1 of 1 completed\n"
     ]
    },
    {
     "name": "stderr",
     "output_type": "stream",
     "text": [
      "C:\\Users\\david\\anaconda3\\envs\\svmmvo\\lib\\site-packages\\pandas_datareader\\tiingo.py:234: FutureWarning: In a future version of pandas all arguments of concat except for the argument 'objs' will be keyword-only.\n",
      "  return pd.concat(dfs, self._concat_axis)\n"
     ]
    },
    {
     "name": "stdout",
     "output_type": "stream",
     "text": [
      "Added 1716 stocks to the db\n",
      "     ticker priceCurrency ticker_currency\n",
      "1761    WBA           USD         WBA-USD\n",
      "********************\n",
      "[*********************100%***********************]  1 of 1 completed\n"
     ]
    },
    {
     "name": "stderr",
     "output_type": "stream",
     "text": [
      "C:\\Users\\david\\anaconda3\\envs\\svmmvo\\lib\\site-packages\\pandas_datareader\\tiingo.py:234: FutureWarning: In a future version of pandas all arguments of concat except for the argument 'objs' will be keyword-only.\n",
      "  return pd.concat(dfs, self._concat_axis)\n"
     ]
    },
    {
     "name": "stdout",
     "output_type": "stream",
     "text": [
      "Added 1717 stocks to the db\n",
      "     ticker priceCurrency ticker_currency\n",
      "1762    WBD           USD         WBD-USD\n",
      "********************\n",
      "[*********************100%***********************]  1 of 1 completed\n",
      "\n",
      "1 Failed download:\n",
      "- WCG2: No timezone found, symbol may be delisted\n",
      "yahoo failed... len of df:  0\n",
      "tiingo failed... len of df:  0\n",
      "Added 1718 stocks to the db\n",
      "   ticker priceCurrency ticker_currency\n",
      "31   WCG2           USD        WCG2-USD\n",
      "********************\n",
      "[*********************100%***********************]  1 of 1 completed\n",
      "\n",
      "1 Failed download:\n",
      "- WCI1: No timezone found, symbol may be delisted\n",
      "yahoo failed... len of df:  0\n",
      "tiingo failed... len of df:  0\n",
      "Added 1719 stocks to the db\n",
      "    ticker priceCurrency ticker_currency\n",
      "553   WCI1           USD        WCI1-USD\n",
      "********************\n",
      "[*********************100%***********************]  1 of 1 completed\n",
      "\n",
      "1 Failed download:\n",
      "- WCOEQ1: No timezone found, symbol may be delisted\n",
      "yahoo failed... len of df:  0\n",
      "tiingo failed... len of df:  0\n",
      "Added 1720 stocks to the db\n",
      "     ticker priceCurrency ticker_currency\n",
      "251  WCOEQ1           USD      WCOEQ1-USD\n",
      "********************\n",
      "[*********************100%***********************]  1 of 1 completed\n",
      "\n",
      "1 Failed download:\n",
      "- WD1: No timezone found, symbol may be delisted\n",
      "yahoo failed... len of df:  0\n",
      "tiingo failed... len of df:  0\n",
      "Added 1721 stocks to the db\n",
      "    ticker priceCurrency ticker_currency\n",
      "654    WD1           USD         WD1-USD\n",
      "********************\n",
      "[*********************100%***********************]  1 of 1 completed\n"
     ]
    },
    {
     "name": "stderr",
     "output_type": "stream",
     "text": [
      "C:\\Users\\david\\anaconda3\\envs\\svmmvo\\lib\\site-packages\\pandas_datareader\\tiingo.py:234: FutureWarning: In a future version of pandas all arguments of concat except for the argument 'objs' will be keyword-only.\n",
      "  return pd.concat(dfs, self._concat_axis)\n"
     ]
    },
    {
     "name": "stdout",
     "output_type": "stream",
     "text": [
      "Added 1722 stocks to the db\n",
      "     ticker priceCurrency ticker_currency\n",
      "1763    WDC           USD         WDC-USD\n",
      "********************\n",
      "[*********************100%***********************]  1 of 1 completed\n",
      "\n",
      "1 Failed download:\n",
      "- WEAR1: No timezone found, symbol may be delisted\n",
      "yahoo failed... len of df:  0\n",
      "tiingo failed... len of df:  0\n",
      "Added 1723 stocks to the db\n",
      "     ticker priceCurrency ticker_currency\n",
      "1764  WEAR1           USD       WEAR1-USD\n",
      "********************\n",
      "[*********************100%***********************]  1 of 1 completed\n"
     ]
    },
    {
     "name": "stderr",
     "output_type": "stream",
     "text": [
      "C:\\Users\\david\\anaconda3\\envs\\svmmvo\\lib\\site-packages\\pandas_datareader\\tiingo.py:234: FutureWarning: In a future version of pandas all arguments of concat except for the argument 'objs' will be keyword-only.\n",
      "  return pd.concat(dfs, self._concat_axis)\n"
     ]
    },
    {
     "name": "stdout",
     "output_type": "stream",
     "text": [
      "Added 1724 stocks to the db\n",
      "     ticker priceCurrency ticker_currency\n",
      "1765    WEC           USD         WEC-USD\n",
      "********************\n",
      "[*********************100%***********************]  1 of 1 completed\n",
      "\n",
      "1 Failed download:\n",
      "- WELB1: No timezone found, symbol may be delisted\n",
      "yahoo failed... len of df:  0\n",
      "tiingo failed... len of df:  0\n",
      "Added 1725 stocks to the db\n",
      "    ticker priceCurrency ticker_currency\n",
      "770  WELB1           USD       WELB1-USD\n",
      "********************\n",
      "[*********************100%***********************]  1 of 1 completed\n"
     ]
    },
    {
     "name": "stderr",
     "output_type": "stream",
     "text": [
      "C:\\Users\\david\\anaconda3\\envs\\svmmvo\\lib\\site-packages\\pandas_datareader\\tiingo.py:234: FutureWarning: In a future version of pandas all arguments of concat except for the argument 'objs' will be keyword-only.\n",
      "  return pd.concat(dfs, self._concat_axis)\n"
     ]
    },
    {
     "name": "stdout",
     "output_type": "stream",
     "text": [
      "Added 1726 stocks to the db\n",
      "     ticker priceCurrency ticker_currency\n",
      "1766   WELL           USD        WELL-USD\n",
      "********************\n",
      "[*********************100%***********************]  1 of 1 completed\n"
     ]
    },
    {
     "name": "stderr",
     "output_type": "stream",
     "text": [
      "C:\\Users\\david\\anaconda3\\envs\\svmmvo\\lib\\site-packages\\pandas_datareader\\tiingo.py:234: FutureWarning: In a future version of pandas all arguments of concat except for the argument 'objs' will be keyword-only.\n",
      "  return pd.concat(dfs, self._concat_axis)\n"
     ]
    },
    {
     "name": "stdout",
     "output_type": "stream",
     "text": [
      "Added 1727 stocks to the db\n",
      "     ticker priceCurrency ticker_currency\n",
      "1767    WEN           USD         WEN-USD\n",
      "********************\n",
      "[*********************100%***********************]  1 of 1 completed\n",
      "\n",
      "1 Failed download:\n",
      "- WEN1: No timezone found, symbol may be delisted\n",
      "yahoo failed... len of df:  0\n",
      "tiingo failed... len of df:  0\n",
      "Added 1728 stocks to the db\n",
      "     ticker priceCurrency ticker_currency\n",
      "1768   WEN1           USD        WEN1-USD\n",
      "********************\n",
      "[*********************100%***********************]  1 of 1 completed\n",
      "\n",
      "1 Failed download:\n",
      "- WETT1: No timezone found, symbol may be delisted\n",
      "yahoo failed... len of df:  0\n",
      "tiingo failed... len of df:  0\n",
      "Added 1729 stocks to the db\n",
      "    ticker priceCurrency ticker_currency\n",
      "580  WETT1           USD       WETT1-USD\n",
      "********************\n",
      "[*********************100%***********************]  1 of 1 completed\n"
     ]
    },
    {
     "name": "stderr",
     "output_type": "stream",
     "text": [
      "C:\\Users\\david\\anaconda3\\envs\\svmmvo\\lib\\site-packages\\pandas_datareader\\tiingo.py:234: FutureWarning: In a future version of pandas all arguments of concat except for the argument 'objs' will be keyword-only.\n",
      "  return pd.concat(dfs, self._concat_axis)\n"
     ]
    },
    {
     "name": "stdout",
     "output_type": "stream",
     "text": [
      "Added 1730 stocks to the db\n",
      "     ticker priceCurrency ticker_currency\n",
      "1769    WFC           USD         WFC-USD\n",
      "********************\n",
      "[*********************100%***********************]  1 of 1 completed\n",
      "\n",
      "1 Failed download:\n",
      "- WFC1: No timezone found, symbol may be delisted\n",
      "yahoo failed... len of df:  0\n",
      "tiingo failed... len of df:  0\n",
      "Added 1731 stocks to the db\n",
      "     ticker priceCurrency ticker_currency\n",
      "1770   WFC1           USD        WFC1-USD\n",
      "********************\n",
      "[*********************100%***********************]  1 of 1 completed\n",
      "\n",
      "1 Failed download:\n",
      "- WFI2: No timezone found, symbol may be delisted\n",
      "yahoo failed... len of df:  0\n",
      "tiingo failed... len of df:  0\n",
      "Added 1732 stocks to the db\n",
      "    ticker priceCurrency ticker_currency\n",
      "586   WFI2           USD        WFI2-USD\n",
      "********************\n",
      "[*********************100%***********************]  1 of 1 completed\n",
      "\n",
      "1 Failed download:\n",
      "- WFM3: No timezone found, symbol may be delisted\n",
      "yahoo failed... len of df:  0\n",
      "tiingo failed... len of df:  0\n",
      "Added 1733 stocks to the db\n",
      "   ticker priceCurrency ticker_currency\n",
      "39   WFM3           USD        WFM3-USD\n",
      "********************\n",
      "[*********************100%***********************]  1 of 1 completed\n",
      "\n",
      "1 Failed download:\n",
      "- WGL2: No timezone found, symbol may be delisted\n",
      "yahoo failed... len of df:  0\n",
      "tiingo failed... len of df:  0\n",
      "Added 1734 stocks to the db\n",
      "    ticker priceCurrency ticker_currency\n",
      "356   WGL2           USD        WGL2-USD\n",
      "********************\n",
      "[*********************100%***********************]  1 of 1 completed\n"
     ]
    },
    {
     "name": "stderr",
     "output_type": "stream",
     "text": [
      "C:\\Users\\david\\anaconda3\\envs\\svmmvo\\lib\\site-packages\\pandas_datareader\\tiingo.py:234: FutureWarning: In a future version of pandas all arguments of concat except for the argument 'objs' will be keyword-only.\n",
      "  return pd.concat(dfs, self._concat_axis)\n"
     ]
    },
    {
     "name": "stdout",
     "output_type": "stream",
     "text": [
      "Added 1735 stocks to the db\n",
      "     ticker priceCurrency ticker_currency\n",
      "1771    WHR           USD         WHR-USD\n",
      "********************\n",
      "[*********************100%***********************]  1 of 1 completed\n",
      "\n",
      "1 Failed download:\n",
      "- WHXCQ1: No timezone found, symbol may be delisted\n",
      "yahoo failed... len of df:  0\n",
      "tiingo failed... len of df:  0\n",
      "Added 1736 stocks to the db\n",
      "     ticker priceCurrency ticker_currency\n",
      "378  WHXCQ1           USD      WHXCQ1-USD\n",
      "********************\n",
      "[*********************100%***********************]  1 of 1 completed\n",
      "\n",
      "1 Failed download:\n",
      "- WIL1: No timezone found, symbol may be delisted\n",
      "yahoo failed... len of df:  0\n",
      "tiingo failed... len of df:  0\n",
      "Added 1737 stocks to the db\n",
      "    ticker priceCurrency ticker_currency\n",
      "652   WIL1           USD        WIL1-USD\n",
      "********************\n",
      "[*********************100%***********************]  1 of 1 completed\n",
      "\n",
      "1 Failed download:\n",
      "- WK1: No timezone found, symbol may be delisted\n",
      "yahoo failed... len of df:  0\n",
      "tiingo failed... len of df:  0\n",
      "Added 1738 stocks to the db\n",
      "    ticker priceCurrency ticker_currency\n",
      "547    WK1           USD         WK1-USD\n",
      "********************\n",
      "[*********************100%***********************]  1 of 1 completed\n",
      "\n",
      "1 Failed download:\n",
      "- WKU1: No timezone found, symbol may be delisted\n",
      "yahoo failed... len of df:  0\n",
      "tiingo failed... len of df:  0\n",
      "Added 1739 stocks to the db\n",
      "    ticker priceCurrency ticker_currency\n",
      "901   WKU1           USD        WKU1-USD\n",
      "********************\n",
      "[*********************100%***********************]  1 of 1 completed\n",
      "\n",
      "1 Failed download:\n",
      "- WLA1: No timezone found, symbol may be delisted\n",
      "yahoo failed... len of df:  0\n",
      "tiingo failed... len of df:  0\n",
      "Added 1740 stocks to the db\n",
      "    ticker priceCurrency ticker_currency\n",
      "286   WLA1           USD        WLA1-USD\n",
      "********************\n",
      "[*********************100%***********************]  1 of 1 completed\n",
      "\n",
      "1 Failed download:\n",
      "- WLL1: No timezone found, symbol may be delisted\n",
      "yahoo failed... len of df:  0\n",
      "tiingo failed... len of df:  0\n",
      "Added 1741 stocks to the db\n",
      "     ticker priceCurrency ticker_currency\n",
      "1772   WLL1           USD        WLL1-USD\n",
      "********************\n",
      "[*********************100%***********************]  1 of 1 completed\n",
      "\n",
      "1 Failed download:\n",
      "- WLP1: No timezone found, symbol may be delisted\n",
      "yahoo failed... len of df:  0\n",
      "tiingo failed... len of df:  0\n",
      "Added 1742 stocks to the db\n",
      "     ticker priceCurrency ticker_currency\n",
      "1773   WLP1           USD        WLP1-USD\n",
      "********************\n",
      "[*********************100%***********************]  1 of 1 completed\n"
     ]
    },
    {
     "name": "stderr",
     "output_type": "stream",
     "text": [
      "C:\\Users\\david\\anaconda3\\envs\\svmmvo\\lib\\site-packages\\pandas_datareader\\tiingo.py:234: FutureWarning: In a future version of pandas all arguments of concat except for the argument 'objs' will be keyword-only.\n",
      "  return pd.concat(dfs, self._concat_axis)\n"
     ]
    },
    {
     "name": "stdout",
     "output_type": "stream",
     "text": [
      "Added 1743 stocks to the db\n",
      "     ticker priceCurrency ticker_currency\n",
      "1774     WM           USD          WM-USD\n",
      "********************\n",
      "[*********************100%***********************]  1 of 1 completed\n"
     ]
    },
    {
     "name": "stderr",
     "output_type": "stream",
     "text": [
      "C:\\Users\\david\\anaconda3\\envs\\svmmvo\\lib\\site-packages\\pandas_datareader\\tiingo.py:234: FutureWarning: In a future version of pandas all arguments of concat except for the argument 'objs' will be keyword-only.\n",
      "  return pd.concat(dfs, self._concat_axis)\n"
     ]
    },
    {
     "name": "stdout",
     "output_type": "stream",
     "text": [
      "Added 1744 stocks to the db\n",
      "     ticker priceCurrency ticker_currency\n",
      "1775    WMB           USD         WMB-USD\n",
      "********************\n",
      "[*********************100%***********************]  1 of 1 completed\n",
      "\n",
      "1 Failed download:\n",
      "- WMRY1: No timezone found, symbol may be delisted\n",
      "yahoo failed... len of df:  0\n",
      "tiingo failed... len of df:  0\n",
      "Added 1745 stocks to the db\n",
      "    ticker priceCurrency ticker_currency\n",
      "755  WMRY1           USD       WMRY1-USD\n",
      "********************\n",
      "[*********************100%***********************]  1 of 1 completed\n"
     ]
    },
    {
     "name": "stderr",
     "output_type": "stream",
     "text": [
      "C:\\Users\\david\\anaconda3\\envs\\svmmvo\\lib\\site-packages\\pandas_datareader\\tiingo.py:234: FutureWarning: In a future version of pandas all arguments of concat except for the argument 'objs' will be keyword-only.\n",
      "  return pd.concat(dfs, self._concat_axis)\n"
     ]
    },
    {
     "name": "stdout",
     "output_type": "stream",
     "text": [
      "Added 1746 stocks to the db\n",
      "     ticker priceCurrency ticker_currency\n",
      "1776    WMT           USD         WMT-USD\n",
      "********************\n",
      "[*********************100%***********************]  1 of 1 completed\n",
      "\n",
      "1 Failed download:\n",
      "- WMX1: No timezone found, symbol may be delisted\n",
      "yahoo failed... len of df:  0\n",
      "tiingo failed... len of df:  0\n",
      "Added 1747 stocks to the db\n",
      "    ticker priceCurrency ticker_currency\n",
      "337   WMX1           USD        WMX1-USD\n",
      "********************\n",
      "[*********************100%***********************]  1 of 1 completed\n",
      "\n",
      "1 Failed download:\n",
      "- WNDXQ1: No timezone found, symbol may be delisted\n",
      "yahoo failed... len of df:  0\n",
      "tiingo failed... len of df:  0\n",
      "Added 1748 stocks to the db\n",
      "     ticker priceCurrency ticker_currency\n",
      "238  WNDXQ1           USD      WNDXQ1-USD\n",
      "********************\n",
      "[*********************100%***********************]  1 of 1 completed\n",
      "\n",
      "1 Failed download:\n",
      "- WNO1: No timezone found, symbol may be delisted\n",
      "yahoo failed... len of df:  0\n",
      "tiingo failed... len of df:  0\n",
      "Added 1749 stocks to the db\n",
      "    ticker priceCurrency ticker_currency\n",
      "875   WNO1           USD        WNO1-USD\n",
      "********************\n",
      "[*********************100%***********************]  1 of 1 completed\n",
      "\n",
      "1 Failed download:\n",
      "- WNP1: No timezone found, symbol may be delisted\n",
      "yahoo failed... len of df:  0\n",
      "tiingo failed... len of df:  0\n",
      "Added 1750 stocks to the db\n",
      "    ticker priceCurrency ticker_currency\n",
      "870   WNP1           USD        WNP1-USD\n",
      "********************\n",
      "[*********************100%***********************]  1 of 1 completed\n"
     ]
    },
    {
     "name": "stderr",
     "output_type": "stream",
     "text": [
      "C:\\Users\\david\\anaconda3\\envs\\svmmvo\\lib\\site-packages\\pandas_datareader\\tiingo.py:234: FutureWarning: In a future version of pandas all arguments of concat except for the argument 'objs' will be keyword-only.\n",
      "  return pd.concat(dfs, self._concat_axis)\n"
     ]
    },
    {
     "name": "stdout",
     "output_type": "stream",
     "text": [
      "Added 1751 stocks to the db\n",
      "     ticker priceCurrency ticker_currency\n",
      "1777    WOR           USD         WOR-USD\n",
      "********************\n",
      "[*********************100%***********************]  1 of 1 completed\n",
      "\n",
      "1 Failed download:\n",
      "- WPI1: No timezone found, symbol may be delisted\n",
      "yahoo failed... len of df:  0\n",
      "tiingo failed... len of df:  0\n",
      "Added 1752 stocks to the db\n",
      "    ticker priceCurrency ticker_currency\n",
      "596   WPI1           USD        WPI1-USD\n",
      "********************\n",
      "[*********************100%***********************]  1 of 1 completed\n",
      "\n",
      "1 Failed download:\n",
      "- WPM1: No timezone found, symbol may be delisted\n",
      "yahoo failed... len of df:  0\n",
      "tiingo failed... len of df:  0\n",
      "Added 1753 stocks to the db\n",
      "    ticker priceCurrency ticker_currency\n",
      "473   WPM1           USD        WPM1-USD\n",
      "********************\n",
      "[*********************100%***********************]  1 of 1 completed\n"
     ]
    },
    {
     "name": "stderr",
     "output_type": "stream",
     "text": [
      "C:\\Users\\david\\anaconda3\\envs\\svmmvo\\lib\\site-packages\\pandas_datareader\\tiingo.py:234: FutureWarning: In a future version of pandas all arguments of concat except for the argument 'objs' will be keyword-only.\n",
      "  return pd.concat(dfs, self._concat_axis)\n"
     ]
    },
    {
     "name": "stdout",
     "output_type": "stream",
     "text": [
      "Added 1754 stocks to the db\n",
      "     ticker priceCurrency ticker_currency\n",
      "1778    WRB           USD         WRB-USD\n",
      "********************\n",
      "[*********************100%***********************]  1 of 1 completed\n",
      "\n",
      "1 Failed download:\n",
      "- WRC2: No timezone found, symbol may be delisted\n",
      "yahoo failed... len of df:  0\n",
      "tiingo failed... len of df:  0\n",
      "Added 1755 stocks to the db\n",
      "    ticker priceCurrency ticker_currency\n",
      "851   WRC2           USD        WRC2-USD\n",
      "********************\n",
      "[*********************100%***********************]  1 of 1 completed\n"
     ]
    },
    {
     "name": "stderr",
     "output_type": "stream",
     "text": [
      "C:\\Users\\david\\anaconda3\\envs\\svmmvo\\lib\\site-packages\\pandas_datareader\\tiingo.py:234: FutureWarning: In a future version of pandas all arguments of concat except for the argument 'objs' will be keyword-only.\n",
      "  return pd.concat(dfs, self._concat_axis)\n"
     ]
    },
    {
     "name": "stdout",
     "output_type": "stream",
     "text": [
      "Added 1756 stocks to the db\n",
      "     ticker priceCurrency ticker_currency\n",
      "1779    WRK           USD         WRK-USD\n",
      "********************\n",
      "[*********************100%***********************]  1 of 1 completed\n",
      "\n",
      "1 Failed download:\n",
      "- WS1: No timezone found, symbol may be delisted\n",
      "yahoo failed... len of df:  0\n",
      "tiingo failed... len of df:  0\n",
      "Added 1757 stocks to the db\n",
      "    ticker priceCurrency ticker_currency\n",
      "641    WS1           USD         WS1-USD\n",
      "********************\n",
      "[*********************100%***********************]  1 of 1 completed\n",
      "\n",
      "1 Failed download:\n",
      "- WSN1: No timezone found, symbol may be delisted\n",
      "yahoo failed... len of df:  0\n",
      "tiingo failed... len of df:  0\n",
      "Added 1758 stocks to the db\n",
      "    ticker priceCurrency ticker_currency\n",
      "503   WSN1           USD        WSN1-USD\n",
      "********************\n",
      "[*********************100%***********************]  1 of 1 completed\n"
     ]
    },
    {
     "name": "stderr",
     "output_type": "stream",
     "text": [
      "C:\\Users\\david\\anaconda3\\envs\\svmmvo\\lib\\site-packages\\pandas_datareader\\tiingo.py:234: FutureWarning: In a future version of pandas all arguments of concat except for the argument 'objs' will be keyword-only.\n",
      "  return pd.concat(dfs, self._concat_axis)\n"
     ]
    },
    {
     "name": "stdout",
     "output_type": "stream",
     "text": [
      "Added 1759 stocks to the db\n",
      "     ticker priceCurrency ticker_currency\n",
      "1780    WST           USD         WST-USD\n",
      "********************\n",
      "[*********************100%***********************]  1 of 1 completed\n",
      "\n",
      "1 Failed download:\n",
      "- WSW1: No timezone found, symbol may be delisted\n",
      "yahoo failed... len of df:  0\n",
      "tiingo failed... len of df:  0\n",
      "Added 1760 stocks to the db\n",
      "    ticker priceCurrency ticker_currency\n",
      "659   WSW1           USD        WSW1-USD\n",
      "********************\n",
      "[*********************100%***********************]  1 of 1 completed\n",
      "\n",
      "1 Failed download:\n",
      "- WTH1: No timezone found, symbol may be delisted\n",
      "yahoo failed... len of df:  0\n",
      "tiingo failed... len of df:  0\n",
      "Added 1761 stocks to the db\n",
      "    ticker priceCurrency ticker_currency\n",
      "743   WTH1           USD        WTH1-USD\n",
      "********************\n",
      "[*********************100%***********************]  1 of 1 completed\n"
     ]
    },
    {
     "name": "stderr",
     "output_type": "stream",
     "text": [
      "C:\\Users\\david\\anaconda3\\envs\\svmmvo\\lib\\site-packages\\pandas_datareader\\tiingo.py:234: FutureWarning: In a future version of pandas all arguments of concat except for the argument 'objs' will be keyword-only.\n",
      "  return pd.concat(dfs, self._concat_axis)\n"
     ]
    },
    {
     "name": "stdout",
     "output_type": "stream",
     "text": [
      "Added 1762 stocks to the db\n",
      "     ticker priceCurrency ticker_currency\n",
      "1781    WTW           USD         WTW-USD\n",
      "********************\n",
      "[*********************100%***********************]  1 of 1 completed\n"
     ]
    },
    {
     "name": "stderr",
     "output_type": "stream",
     "text": [
      "C:\\Users\\david\\anaconda3\\envs\\svmmvo\\lib\\site-packages\\pandas_datareader\\tiingo.py:234: FutureWarning: In a future version of pandas all arguments of concat except for the argument 'objs' will be keyword-only.\n",
      "  return pd.concat(dfs, self._concat_axis)\n"
     ]
    },
    {
     "name": "stdout",
     "output_type": "stream",
     "text": [
      "Added 1763 stocks to the db\n",
      "     ticker priceCurrency ticker_currency\n",
      "1782     WU           USD          WU-USD\n",
      "********************\n",
      "[*********************100%***********************]  1 of 1 completed\n",
      "\n",
      "1 Failed download:\n",
      "- WW2: No timezone found, symbol may be delisted\n",
      "yahoo failed... len of df:  0\n",
      "tiingo failed... len of df:  0\n",
      "Added 1764 stocks to the db\n",
      "    ticker priceCurrency ticker_currency\n",
      "448    WW2           USD         WW2-USD\n",
      "********************\n",
      "[*********************100%***********************]  1 of 1 completed\n",
      "\n",
      "1 Failed download:\n",
      "- WWY1: No timezone found, symbol may be delisted\n",
      "yahoo failed... len of df:  0\n",
      "tiingo failed... len of df:  0\n",
      "Added 1765 stocks to the db\n",
      "   ticker priceCurrency ticker_currency\n",
      "97   WWY1           USD        WWY1-USD\n",
      "********************\n",
      "[*********************100%***********************]  1 of 1 completed\n"
     ]
    },
    {
     "name": "stderr",
     "output_type": "stream",
     "text": [
      "C:\\Users\\david\\anaconda3\\envs\\svmmvo\\lib\\site-packages\\pandas_datareader\\tiingo.py:234: FutureWarning: In a future version of pandas all arguments of concat except for the argument 'objs' will be keyword-only.\n",
      "  return pd.concat(dfs, self._concat_axis)\n"
     ]
    },
    {
     "name": "stdout",
     "output_type": "stream",
     "text": [
      "Added 1766 stocks to the db\n",
      "     ticker priceCurrency ticker_currency\n",
      "1783     WY           USD          WY-USD\n",
      "********************\n",
      "[*********************100%***********************]  1 of 1 completed\n",
      "\n",
      "1 Failed download:\n",
      "- WY1: No timezone found, symbol may be delisted\n",
      "yahoo failed... len of df:  0\n",
      "tiingo failed... len of df:  0\n",
      "Added 1767 stocks to the db\n",
      "    ticker priceCurrency ticker_currency\n",
      "443    WY1           USD         WY1-USD\n",
      "********************\n",
      "[*********************100%***********************]  1 of 1 completed\n",
      "\n",
      "1 Failed download:\n",
      "- WYE1: No timezone found, symbol may be delisted\n",
      "yahoo failed... len of df:  0\n",
      "tiingo failed... len of df:  0\n",
      "Added 1768 stocks to the db\n",
      "   ticker priceCurrency ticker_currency\n",
      "81   WYE1           USD        WYE1-USD\n",
      "********************\n",
      "[*********************100%***********************]  1 of 1 completed\n"
     ]
    },
    {
     "name": "stderr",
     "output_type": "stream",
     "text": [
      "C:\\Users\\david\\anaconda3\\envs\\svmmvo\\lib\\site-packages\\pandas_datareader\\tiingo.py:234: FutureWarning: In a future version of pandas all arguments of concat except for the argument 'objs' will be keyword-only.\n",
      "  return pd.concat(dfs, self._concat_axis)\n"
     ]
    },
    {
     "name": "stdout",
     "output_type": "stream",
     "text": [
      "Added 1769 stocks to the db\n",
      "     ticker priceCurrency ticker_currency\n",
      "1784   WYNN           USD        WYNN-USD\n",
      "********************\n",
      "[*********************100%***********************]  1 of 1 completed\n"
     ]
    },
    {
     "name": "stderr",
     "output_type": "stream",
     "text": [
      "C:\\Users\\david\\anaconda3\\envs\\svmmvo\\lib\\site-packages\\pandas_datareader\\tiingo.py:234: FutureWarning: In a future version of pandas all arguments of concat except for the argument 'objs' will be keyword-only.\n",
      "  return pd.concat(dfs, self._concat_axis)\n"
     ]
    },
    {
     "name": "stdout",
     "output_type": "stream",
     "text": [
      "Added 1770 stocks to the db\n",
      "     ticker priceCurrency ticker_currency\n",
      "1785      X           USD           X-USD\n",
      "********************\n",
      "[*********************100%***********************]  1 of 1 completed\n",
      "\n",
      "1 Failed download:\n",
      "- XEC1: No timezone found, symbol may be delisted\n",
      "yahoo failed... len of df:  0\n",
      "tiingo failed... len of df:  0\n",
      "Added 1771 stocks to the db\n",
      "   ticker priceCurrency ticker_currency\n",
      "11   XEC1           USD        XEC1-USD\n",
      "********************\n",
      "[*********************100%***********************]  1 of 1 completed\n"
     ]
    },
    {
     "name": "stderr",
     "output_type": "stream",
     "text": [
      "C:\\Users\\david\\anaconda3\\envs\\svmmvo\\lib\\site-packages\\pandas_datareader\\tiingo.py:234: FutureWarning: In a future version of pandas all arguments of concat except for the argument 'objs' will be keyword-only.\n",
      "  return pd.concat(dfs, self._concat_axis)\n"
     ]
    },
    {
     "name": "stdout",
     "output_type": "stream",
     "text": [
      "Added 1772 stocks to the db\n",
      "     ticker priceCurrency ticker_currency\n",
      "1786    XEL           USD         XEL-USD\n",
      "********************\n",
      "[*********************100%***********************]  1 of 1 completed\n",
      "\n",
      "1 Failed download:\n",
      "- XL3: No timezone found, symbol may be delisted\n",
      "yahoo failed... len of df:  0\n",
      "tiingo failed... len of df:  0\n",
      "Added 1773 stocks to the db\n",
      "   ticker priceCurrency ticker_currency\n",
      "65    XL3           USD         XL3-USD\n",
      "********************\n",
      "[*********************100%***********************]  1 of 1 completed\n",
      "\n",
      "1 Failed download:\n",
      "- XLNX1: No timezone found, symbol may be delisted\n",
      "yahoo failed... len of df:  0\n",
      "tiingo failed... len of df:  0\n",
      "Added 1774 stocks to the db\n",
      "  ticker priceCurrency ticker_currency\n",
      "4  XLNX1           USD       XLNX1-USD\n",
      "********************\n",
      "[*********************100%***********************]  1 of 1 completed\n",
      "\n",
      "1 Failed download:\n",
      "- XLO1: No timezone found, symbol may be delisted\n",
      "yahoo failed... len of df:  0\n",
      "tiingo failed... len of df:  0\n",
      "Added 1775 stocks to the db\n",
      "    ticker priceCurrency ticker_currency\n",
      "510   XLO1           USD        XLO1-USD\n",
      "********************\n",
      "[*********************100%***********************]  1 of 1 completed\n"
     ]
    },
    {
     "name": "stderr",
     "output_type": "stream",
     "text": [
      "C:\\Users\\david\\anaconda3\\envs\\svmmvo\\lib\\site-packages\\pandas_datareader\\tiingo.py:234: FutureWarning: In a future version of pandas all arguments of concat except for the argument 'objs' will be keyword-only.\n",
      "  return pd.concat(dfs, self._concat_axis)\n"
     ]
    },
    {
     "name": "stdout",
     "output_type": "stream",
     "text": [
      "Added 1776 stocks to the db\n",
      "     ticker priceCurrency ticker_currency\n",
      "1787    XOM           USD         XOM-USD\n",
      "********************\n",
      "[*********************100%***********************]  1 of 1 completed\n"
     ]
    },
    {
     "name": "stderr",
     "output_type": "stream",
     "text": [
      "C:\\Users\\david\\anaconda3\\envs\\svmmvo\\lib\\site-packages\\pandas_datareader\\tiingo.py:234: FutureWarning: In a future version of pandas all arguments of concat except for the argument 'objs' will be keyword-only.\n",
      "  return pd.concat(dfs, self._concat_axis)\n"
     ]
    },
    {
     "name": "stdout",
     "output_type": "stream",
     "text": [
      "Added 1777 stocks to the db\n",
      "     ticker priceCurrency ticker_currency\n",
      "1788   XRAY           USD        XRAY-USD\n",
      "********************\n",
      "[*********************100%***********************]  1 of 1 completed\n"
     ]
    },
    {
     "name": "stderr",
     "output_type": "stream",
     "text": [
      "C:\\Users\\david\\anaconda3\\envs\\svmmvo\\lib\\site-packages\\pandas_datareader\\tiingo.py:234: FutureWarning: In a future version of pandas all arguments of concat except for the argument 'objs' will be keyword-only.\n",
      "  return pd.concat(dfs, self._concat_axis)\n"
     ]
    },
    {
     "name": "stdout",
     "output_type": "stream",
     "text": [
      "Added 1778 stocks to the db\n",
      "     ticker priceCurrency ticker_currency\n",
      "1789    XRX           USD         XRX-USD\n",
      "********************\n",
      "[*********************100%***********************]  1 of 1 completed\n",
      "\n",
      "1 Failed download:\n",
      "- XTO1: No timezone found, symbol may be delisted\n",
      "yahoo failed... len of df:  0\n",
      "tiingo failed... len of df:  0\n",
      "Added 1779 stocks to the db\n",
      "    ticker priceCurrency ticker_currency\n",
      "210   XTO1           USD        XTO1-USD\n",
      "********************\n",
      "[*********************100%***********************]  1 of 1 completed\n"
     ]
    },
    {
     "name": "stderr",
     "output_type": "stream",
     "text": [
      "C:\\Users\\david\\anaconda3\\envs\\svmmvo\\lib\\site-packages\\pandas_datareader\\tiingo.py:234: FutureWarning: In a future version of pandas all arguments of concat except for the argument 'objs' will be keyword-only.\n",
      "  return pd.concat(dfs, self._concat_axis)\n"
     ]
    },
    {
     "name": "stdout",
     "output_type": "stream",
     "text": [
      "Added 1780 stocks to the db\n",
      "     ticker priceCurrency ticker_currency\n",
      "1790    XYL           USD         XYL-USD\n",
      "********************\n",
      "[*********************100%***********************]  1 of 1 completed\n",
      "\n",
      "1 Failed download:\n",
      "- YAT1: No timezone found, symbol may be delisted\n",
      "yahoo failed... len of df:  0\n",
      "tiingo failed... len of df:  0\n",
      "Added 1781 stocks to the db\n",
      "    ticker priceCurrency ticker_currency\n",
      "694   YAT1           USD        YAT1-USD\n",
      "********************\n",
      "[*********************100%***********************]  1 of 1 completed\n",
      "\n",
      "1 Failed download:\n",
      "- YB1: No timezone found, symbol may be delisted\n",
      "yahoo failed... len of df:  0\n",
      "tiingo failed... len of df:  0\n",
      "Added 1782 stocks to the db\n",
      "    ticker priceCurrency ticker_currency\n",
      "775    YB1           USD         YB1-USD\n",
      "********************\n",
      "[*********************100%***********************]  1 of 1 completed\n",
      "\n",
      "1 Failed download:\n",
      "- YNR1: No timezone found, symbol may be delisted\n",
      "yahoo failed... len of df:  0\n",
      "tiingo failed... len of df:  0\n",
      "Added 1783 stocks to the db\n",
      "    ticker priceCurrency ticker_currency\n",
      "351   YNR1           USD        YNR1-USD\n",
      "********************\n",
      "[*********************100%***********************]  1 of 1 completed\n"
     ]
    },
    {
     "name": "stderr",
     "output_type": "stream",
     "text": [
      "C:\\Users\\david\\anaconda3\\envs\\svmmvo\\lib\\site-packages\\pandas_datareader\\tiingo.py:234: FutureWarning: In a future version of pandas all arguments of concat except for the argument 'objs' will be keyword-only.\n",
      "  return pd.concat(dfs, self._concat_axis)\n"
     ]
    },
    {
     "name": "stdout",
     "output_type": "stream",
     "text": [
      "Added 1784 stocks to the db\n",
      "     ticker priceCurrency ticker_currency\n",
      "1791    YUM           USD         YUM-USD\n",
      "********************\n",
      "[*********************100%***********************]  1 of 1 completed\n",
      "\n",
      "1 Failed download:\n",
      "- ZA1: No timezone found, symbol may be delisted\n",
      "yahoo failed... len of df:  0\n",
      "tiingo failed... len of df:  0\n",
      "Added 1785 stocks to the db\n",
      "    ticker priceCurrency ticker_currency\n",
      "681    ZA1           USD         ZA1-USD\n",
      "********************\n",
      "[*********************100%***********************]  1 of 1 completed\n",
      "\n",
      "1 Failed download:\n",
      "- ZB1: No timezone found, symbol may be delisted\n",
      "yahoo failed... len of df:  0\n",
      "tiingo failed... len of df:  0\n",
      "Added 1786 stocks to the db\n",
      "    ticker priceCurrency ticker_currency\n",
      "554    ZB1           USD         ZB1-USD\n",
      "********************\n",
      "[*********************100%***********************]  1 of 1 completed\n"
     ]
    },
    {
     "name": "stderr",
     "output_type": "stream",
     "text": [
      "C:\\Users\\david\\anaconda3\\envs\\svmmvo\\lib\\site-packages\\pandas_datareader\\tiingo.py:234: FutureWarning: In a future version of pandas all arguments of concat except for the argument 'objs' will be keyword-only.\n",
      "  return pd.concat(dfs, self._concat_axis)\n"
     ]
    },
    {
     "name": "stdout",
     "output_type": "stream",
     "text": [
      "Added 1787 stocks to the db\n",
      "     ticker priceCurrency ticker_currency\n",
      "1792    ZBH           USD         ZBH-USD\n",
      "********************\n",
      "[*********************100%***********************]  1 of 1 completed\n"
     ]
    },
    {
     "name": "stderr",
     "output_type": "stream",
     "text": [
      "C:\\Users\\david\\anaconda3\\envs\\svmmvo\\lib\\site-packages\\pandas_datareader\\tiingo.py:234: FutureWarning: In a future version of pandas all arguments of concat except for the argument 'objs' will be keyword-only.\n",
      "  return pd.concat(dfs, self._concat_axis)\n"
     ]
    },
    {
     "name": "stdout",
     "output_type": "stream",
     "text": [
      "Added 1788 stocks to the db\n",
      "     ticker priceCurrency ticker_currency\n",
      "1793   ZBRA           USD        ZBRA-USD\n",
      "********************\n",
      "[*********************100%***********************]  1 of 1 completed\n",
      "\n",
      "1 Failed download:\n",
      "- ZETHQ1: No timezone found, symbol may be delisted\n",
      "yahoo failed... len of df:  0\n",
      "tiingo failed... len of df:  0\n",
      "Added 1789 stocks to the db\n",
      "     ticker priceCurrency ticker_currency\n",
      "505  ZETHQ1           USD      ZETHQ1-USD\n",
      "********************\n",
      "[*********************100%***********************]  1 of 1 completed\n"
     ]
    },
    {
     "name": "stderr",
     "output_type": "stream",
     "text": [
      "C:\\Users\\david\\anaconda3\\envs\\svmmvo\\lib\\site-packages\\pandas_datareader\\tiingo.py:234: FutureWarning: In a future version of pandas all arguments of concat except for the argument 'objs' will be keyword-only.\n",
      "  return pd.concat(dfs, self._concat_axis)\n"
     ]
    },
    {
     "name": "stdout",
     "output_type": "stream",
     "text": [
      "Added 1790 stocks to the db\n",
      "     ticker priceCurrency ticker_currency\n",
      "1794   ZION           USD        ZION-USD\n",
      "********************\n",
      "[*********************100%***********************]  1 of 1 completed\n",
      "\n",
      "1 Failed download:\n",
      "- ZRN1: No timezone found, symbol may be delisted\n",
      "yahoo failed... len of df:  0\n",
      "tiingo failed... len of df:  0\n",
      "Added 1791 stocks to the db\n",
      "    ticker priceCurrency ticker_currency\n",
      "625   ZRN1           USD        ZRN1-USD\n",
      "********************\n",
      "[*********************100%***********************]  1 of 1 completed\n"
     ]
    },
    {
     "name": "stderr",
     "output_type": "stream",
     "text": [
      "C:\\Users\\david\\anaconda3\\envs\\svmmvo\\lib\\site-packages\\pandas_datareader\\tiingo.py:234: FutureWarning: In a future version of pandas all arguments of concat except for the argument 'objs' will be keyword-only.\n",
      "  return pd.concat(dfs, self._concat_axis)\n"
     ]
    },
    {
     "name": "stdout",
     "output_type": "stream",
     "text": [
      "Added 1792 stocks to the db\n",
      "     ticker priceCurrency ticker_currency\n",
      "1795    ZTS           USD         ZTS-USD\n",
      "********************\n"
     ]
    }
   ],
   "source": [
    "i = 1\n",
    "for name, group in ticker_info.groupby('ticker'):\n",
    "    #find a valid time period for the assets\n",
    "    startDate = group.startDate.min()\n",
    "    endDate = group.endDate.max()\n",
    "    group = group.iloc[:1]\n",
    "    group = group[['ticker', 'priceCurrency']]\n",
    "    group['ticker_currency'] = group.ticker + \"-\" + group.priceCurrency\n",
    "\n",
    "    try:\n",
    "        df_yf =retrieve_yahoo_finance(startDate, endDate, freq='D', ticker_info=group)\n",
    "        merged_df_yf = merge_equities_df(Database, df_yf)\n",
    "    except:\n",
    "        print(\"yahoo failed... len of df: \", len(df_yf))\n",
    "\n",
    "    try:\n",
    "        df_tiingo = []\n",
    "        df_tiingo = retrieve_tiingo(startDate, endDate, group)\n",
    "        merged_df_tiingo = merge_equities_df(Database, df_tiingo)\n",
    "    except:\n",
    "        print(\"tiingo failed... len of df: \", len(df_tiingo))\n",
    "\n",
    "    try:\n",
    "        add_dfs_to_db('equities_series', Database, [merged_df_tiingo, merged_df_yf], indices_of_primary_key=[0])\n",
    "        print(\"Added \"+ str(i) + \" stocks to the db\")\n",
    "        print(group)\n",
    "        print(\"*\"*20)\n",
    "        i+=1\n",
    "    except:\n",
    "        print(\"adding \"+name + \" failed!\")"
   ],
   "metadata": {
    "collapsed": false
   }
  }
 ],
 "metadata": {
  "kernelspec": {
   "display_name": "Python 3",
   "language": "python",
   "name": "python3"
  },
  "language_info": {
   "codemirror_mode": {
    "name": "ipython",
    "version": 2
   },
   "file_extension": ".py",
   "mimetype": "text/x-python",
   "name": "python",
   "nbconvert_exporter": "python",
   "pygments_lexer": "ipython2",
   "version": "2.7.6"
  }
 },
 "nbformat": 4,
 "nbformat_minor": 0
}
