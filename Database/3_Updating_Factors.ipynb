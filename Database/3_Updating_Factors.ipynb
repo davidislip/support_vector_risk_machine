{
 "cells": [
  {
   "cell_type": "markdown",
   "metadata": {},
   "source": [
    "# Getting Factor Data"
   ]
  },
  {
   "cell_type": "code",
   "execution_count": 1,
   "metadata": {
    "collapsed": false,
    "jupyter": {
     "outputs_hidden": false
    }
   },
   "outputs": [],
   "source": [
    "from services.database import Database\n",
    "from pandas_datareader.famafrench import get_available_datasets\n",
    "from services.dataloading import *\n",
    "import datetime\n",
    "\n",
    "Database.initialize()"
   ]
  },
  {
   "cell_type": "code",
   "execution_count": 2,
   "outputs": [
    {
     "data": {
      "text/plain": "['F-F_Research_Data_Factors',\n 'F-F_Research_Data_Factors_weekly',\n 'F-F_Research_Data_Factors_daily',\n 'F-F_Research_Data_5_Factors_2x3',\n 'F-F_Research_Data_5_Factors_2x3_daily',\n 'Portfolios_Formed_on_ME',\n 'Portfolios_Formed_on_ME_Wout_Div',\n 'Portfolios_Formed_on_ME_Daily',\n 'Portfolios_Formed_on_BE-ME',\n 'Portfolios_Formed_on_BE-ME_Wout_Div',\n 'Portfolios_Formed_on_BE-ME_Daily',\n 'Portfolios_Formed_on_OP',\n 'Portfolios_Formed_on_OP_Wout_Div',\n 'Portfolios_Formed_on_OP_Daily',\n 'Portfolios_Formed_on_INV',\n 'Portfolios_Formed_on_INV_Wout_Div',\n 'Portfolios_Formed_on_INV_Daily',\n '6_Portfolios_2x3',\n '6_Portfolios_2x3_Wout_Div',\n '6_Portfolios_2x3_weekly',\n '6_Portfolios_2x3_daily',\n '25_Portfolios_5x5',\n '25_Portfolios_5x5_Wout_Div',\n '25_Portfolios_5x5_Daily',\n '100_Portfolios_10x10',\n '100_Portfolios_10x10_Wout_Div',\n '100_Portfolios_10x10_Daily',\n '6_Portfolios_ME_OP_2x3',\n '6_Portfolios_ME_OP_2x3_Wout_Div',\n '6_Portfolios_ME_OP_2x3_daily',\n '25_Portfolios_ME_OP_5x5',\n '25_Portfolios_ME_OP_5x5_Wout_Div',\n '25_Portfolios_ME_OP_5x5_daily',\n '100_Portfolios_ME_OP_10x10',\n '100_Portfolios_10x10_ME_OP_Wout_Div',\n '100_Portfolios_ME_OP_10x10_daily',\n '6_Portfolios_ME_INV_2x3',\n '6_Portfolios_ME_INV_2x3_Wout_Div',\n '6_Portfolios_ME_INV_2x3_daily',\n '25_Portfolios_ME_INV_5x5',\n '25_Portfolios_ME_INV_5x5_Wout_Div',\n '25_Portfolios_ME_INV_5x5_daily',\n '100_Portfolios_ME_INV_10x10',\n '100_Portfolios_10x10_ME_INV_Wout_Div',\n '100_Portfolios_ME_INV_10x10_daily',\n '25_Portfolios_BEME_OP_5x5',\n '25_Portfolios_BEME_OP_5x5_Wout_Div',\n '25_Portfolios_BEME_OP_5x5_daily',\n '25_Portfolios_BEME_INV_5x5',\n '25_Portfolios_BEME_INV_5x5_Wout_Div',\n '25_Portfolios_BEME_INV_5x5_daily',\n '25_Portfolios_OP_INV_5x5',\n '25_Portfolios_OP_INV_5x5_Wout_Div',\n '25_Portfolios_OP_INV_5x5_daily',\n '32_Portfolios_ME_BEME_OP_2x4x4',\n '32_Portfolios_ME_BEME_OP_2x4x4_Wout_Div',\n '32_Portfolios_ME_BEME_INV_2x4x4',\n '32_Portfolios_ME_BEME_INV_2x4x4_Wout_Div',\n '32_Portfolios_ME_OP_INV_2x4x4',\n '32_Portfolios_ME_OP_INV_2x4x4_Wout_Div',\n 'Portfolios_Formed_on_E-P',\n 'Portfolios_Formed_on_E-P_Wout_Div',\n 'Portfolios_Formed_on_CF-P',\n 'Portfolios_Formed_on_CF-P_Wout_Div',\n 'Portfolios_Formed_on_D-P',\n 'Portfolios_Formed_on_D-P_Wout_Div',\n '6_Portfolios_ME_EP_2x3',\n '6_Portfolios_ME_EP_2x3_Wout_Div',\n '6_Portfolios_ME_CFP_2x3',\n '6_Portfolios_ME_CFP_2x3_Wout_Div',\n '6_Portfolios_ME_DP_2x3',\n '6_Portfolios_ME_DP_2x3_Wout_Div',\n 'F-F_Momentum_Factor',\n 'F-F_Momentum_Factor_daily',\n '6_Portfolios_ME_Prior_12_2',\n '6_Portfolios_ME_Prior_12_2_Daily',\n '25_Portfolios_ME_Prior_12_2',\n '25_Portfolios_ME_Prior_12_2_Daily',\n '10_Portfolios_Prior_12_2',\n '10_Portfolios_Prior_12_2_Daily',\n 'F-F_ST_Reversal_Factor',\n 'F-F_ST_Reversal_Factor_daily',\n '6_Portfolios_ME_Prior_1_0',\n '6_Portfolios_ME_Prior_1_0_Daily',\n '25_Portfolios_ME_Prior_1_0',\n '25_Portfolios_ME_Prior_1_0_Daily',\n '10_Portfolios_Prior_1_0',\n '10_Portfolios_Prior_1_0_Daily',\n 'F-F_LT_Reversal_Factor',\n 'F-F_LT_Reversal_Factor_daily',\n '6_Portfolios_ME_Prior_60_13',\n '6_Portfolios_ME_Prior_60_13_Daily',\n '25_Portfolios_ME_Prior_60_13',\n '25_Portfolios_ME_Prior_60_13_Daily',\n '10_Portfolios_Prior_60_13',\n '10_Portfolios_Prior_60_13_Daily',\n 'Portfolios_Formed_on_AC',\n '25_Portfolios_ME_AC_5x5',\n 'Portfolios_Formed_on_BETA',\n '25_Portfolios_ME_BETA_5x5',\n 'Portfolios_Formed_on_NI',\n '25_Portfolios_ME_NI_5x5',\n 'Portfolios_Formed_on_VAR',\n '25_Portfolios_ME_VAR_5x5',\n 'Portfolios_Formed_on_RESVAR',\n '25_Portfolios_ME_RESVAR_5x5',\n '5_Industry_Portfolios',\n '5_Industry_Portfolios_Wout_Div',\n '5_Industry_Portfolios_daily',\n '10_Industry_Portfolios',\n '10_Industry_Portfolios_Wout_Div',\n '10_Industry_Portfolios_daily',\n '12_Industry_Portfolios',\n '12_Industry_Portfolios_Wout_Div',\n '12_Industry_Portfolios_daily',\n '17_Industry_Portfolios',\n '17_Industry_Portfolios_Wout_Div',\n '17_Industry_Portfolios_daily',\n '30_Industry_Portfolios',\n '30_Industry_Portfolios_Wout_Div',\n '30_Industry_Portfolios_daily',\n '38_Industry_Portfolios',\n '38_Industry_Portfolios_Wout_Div',\n '38_Industry_Portfolios_daily',\n '48_Industry_Portfolios',\n '48_Industry_Portfolios_Wout_Div',\n '48_Industry_Portfolios_daily',\n '49_Industry_Portfolios',\n '49_Industry_Portfolios_Wout_Div',\n '49_Industry_Portfolios_daily',\n 'ME_Breakpoints',\n 'BE-ME_Breakpoints',\n 'OP_Breakpoints',\n 'INV_Breakpoints',\n 'E-P_Breakpoints',\n 'CF-P_Breakpoints',\n 'D-P_Breakpoints',\n 'Prior_2-12_Breakpoints',\n 'Developed_3_Factors',\n 'Developed_3_Factors_Daily',\n 'Developed_ex_US_3_Factors',\n 'Developed_ex_US_3_Factors_Daily',\n 'Europe_3_Factors',\n 'Europe_3_Factors_Daily',\n 'Japan_3_Factors',\n 'Japan_3_Factors_Daily',\n 'Asia_Pacific_ex_Japan_3_Factors',\n 'Asia_Pacific_ex_Japan_3_Factors_Daily',\n 'North_America_3_Factors',\n 'North_America_3_Factors_Daily',\n 'Developed_5_Factors',\n 'Developed_5_Factors_Daily',\n 'Developed_ex_US_5_Factors',\n 'Developed_ex_US_5_Factors_Daily',\n 'Europe_5_Factors',\n 'Europe_5_Factors_Daily',\n 'Japan_5_Factors',\n 'Japan_5_Factors_Daily',\n 'Asia_Pacific_ex_Japan_5_Factors',\n 'Asia_Pacific_ex_Japan_5_Factors_Daily',\n 'North_America_5_Factors',\n 'North_America_5_Factors_Daily',\n 'Developed_Mom_Factor',\n 'Developed_Mom_Factor_Daily',\n 'Developed_ex_US_Mom_Factor',\n 'Developed_ex_US_Mom_Factor_Daily',\n 'Europe_Mom_Factor',\n 'Europe_Mom_Factor_Daily',\n 'Japan_Mom_Factor',\n 'Japan_Mom_Factor_Daily',\n 'Asia_Pacific_ex_Japan_MOM_Factor',\n 'Asia_Pacific_ex_Japan_MOM_Factor_Daily',\n 'North_America_Mom_Factor',\n 'North_America_Mom_Factor_Daily',\n 'Developed_6_Portfolios_ME_BE-ME',\n 'Developed_6_Portfolios_ME_BE-ME_daily',\n 'Developed_ex_US_6_Portfolios_ME_BE-ME',\n 'Developed_ex_US_6_Portfolios_ME_BE-ME_daily',\n 'Europe_6_Portfolios_ME_BE-ME',\n 'Europe_6_Portfolios_ME_BE-ME_daily',\n 'Japan_6_Portfolios_ME_BE-ME',\n 'Japan_6_Portfolios_ME_BE-ME_daily',\n 'Asia_Pacific_ex_Japan_6_Portfolios_ME_BE-ME',\n 'Asia_Pacific_ex_Japan_6_Portfolios_ME_BE-ME_daily',\n 'North_America_6_Portfolios_ME_BE-ME',\n 'North_America_6_Portfolios_ME_BE-ME_daily',\n 'Developed_25_Portfolios_ME_BE-ME',\n 'Developed_25_Portfolios_ME_BE-ME_daily',\n 'Developed_ex_US_25_Portfolios_ME_BE-ME',\n 'Developed_ex_US_25_Portfolios_ME_BE-ME_daily',\n 'Europe_25_Portfolios_ME_BE-ME',\n 'Europe_25_Portfolios_ME_BE-ME_daily',\n 'Japan_25_Portfolios_ME_BE-ME',\n 'Japan_25_Portfolios_ME_BE-ME_daily',\n 'Asia_Pacific_ex_Japan_25_Portfolios_ME_BE-ME',\n 'Asia_Pacific_ex_Japan_25_Portfolios_ME_BE-ME_daily',\n 'North_America_25_Portfolios_ME_BE-ME',\n 'North_America_25_Portfolios_ME_BE-ME_daily',\n 'Developed_6_Portfolios_ME_OP',\n 'Developed_6_Portfolios_ME_OP_Daily',\n 'Developed_ex_US_6_Portfolios_ME_OP',\n 'Developed_ex_US_6_Portfolios_ME_OP_Daily',\n 'Europe_6_Portfolios_ME_OP',\n 'Europe_6_Portfolios_ME_OP_Daily',\n 'Japan_6_Portfolios_ME_OP',\n 'Japan_6_Portfolios_ME_OP_Daily',\n 'Asia_Pacific_ex_Japan_6_Portfolios_ME_OP',\n 'Asia_Pacific_ex_Japan_6_Portfolios_ME_OP_Daily',\n 'North_America_6_Portfolios_ME_OP',\n 'North_America_6_Portfolios_ME_OP_Daily',\n 'Developed_25_Portfolios_ME_OP',\n 'Developed_25_Portfolios_ME_OP_Daily',\n 'Developed_ex_US_25_Portfolios_ME_OP',\n 'Developed_ex_US_25_Portfolios_ME_OP_Daily',\n 'Europe_25_Portfolios_ME_OP',\n 'Europe_25_Portfolios_ME_OP_Daily',\n 'Japan_25_Portfolios_ME_OP',\n 'Japan_25_Portfolios_ME_OP_Daily',\n 'Asia_Pacific_ex_Japan_25_Portfolios_ME_OP',\n 'Asia_Pacific_ex_Japan_25_Portfolios_ME_OP_Daily',\n 'North_America_25_Portfolios_ME_OP',\n 'North_America_25_Portfolios_ME_OP_Daily',\n 'Developed_6_Portfolios_ME_INV',\n 'Developed_6_Portfolios_ME_INV_Daily',\n 'Developed_ex_US_6_Portfolios_ME_INV',\n 'Developed_ex_US_6_Portfolios_ME_INV_Daily',\n 'Europe_6_Portfolios_ME_INV',\n 'Europe_6_Portfolios_ME_INV_Daily',\n 'Japan_6_Portfolios_ME_INV',\n 'Japan_6_Portfolios_ME_INV_Daily',\n 'Asia_Pacific_ex_Japan_6_Portfolios_ME_INV',\n 'Asia_Pacific_ex_Japan_6_Portfolios_ME_INV_Daily',\n 'North_America_6_Portfolios_ME_INV',\n 'North_America_6_Portfolios_ME_INV_Daily',\n 'Developed_25_Portfolios_ME_INV',\n 'Developed_25_Portfolios_ME_INV_Daily',\n 'Developed_ex_US_25_Portfolios_ME_INV',\n 'Developed_ex_US_25_Portfolios_ME_INV_Daily',\n 'Europe_25_Portfolios_ME_INV',\n 'Europe_25_Portfolios_ME_INV_Daily',\n 'Japan_25_Portfolios_ME_INV',\n 'Japan_25_Portfolios_ME_INV_Daily',\n 'Asia_Pacific_ex_Japan_25_Portfolios_ME_INV',\n 'Asia_Pacific_ex_Japan_25_Portfolios_ME_INV_Daily',\n 'North_America_25_Portfolios_ME_INV',\n 'North_America_25_Portfolios_ME_INV_Daily',\n 'Developed_6_Portfolios_ME_Prior_12_2',\n 'Developed_6_Portfolios_ME_Prior_250_20_daily',\n 'Developed_ex_US_6_Portfolios_ME_Prior_12_2',\n 'Developed_ex_US_6_Portfolios_ME_Prior_250_20_daily',\n 'Europe_6_Portfolios_ME_Prior_12_2',\n 'Europe_6_Portfolios_ME_Prior_250_20_daily',\n 'Japan_6_Portfolios_ME_Prior_12_2',\n 'Japan_6_Portfolios_ME_Prior_250_20_daily',\n 'Asia_Pacific_ex_Japan_6_Portfolios_ME_Prior_12_2',\n 'Asia_Pacific_ex_Japan_6_Portfolios_ME_Prior_250_20_daily',\n 'North_America_6_Portfolios_ME_Prior_12_2',\n 'North_America_6_Portfolios_ME_Prior_250_20_daily',\n 'Developed_25_Portfolios_ME_Prior_12_2',\n 'Developed_25_Portfolios_ME_Prior_250_20_daily',\n 'Developed_ex_US_25_Portfolios_ME_Prior_12_2',\n 'Developed_ex_US_25_Portfolios_ME_Prior_250_20_daily',\n 'Europe_25_Portfolios_ME_Prior_12_2',\n 'Europe_25_Portfolios_ME_Prior_250_20_daily',\n 'Japan_25_Portfolios_ME_Prior_12_2',\n 'Japan_25_Portfolios_ME_Prior_250_20_daily',\n 'Asia_Pacific_ex_Japan_25_Portfolios_ME_Prior_12_2',\n 'Asia_Pacific_ex_Japan_25_Portfolios_ME_Prior_250_20_daily',\n 'North_America_25_Portfolios_ME_Prior_12_2',\n 'North_America_25_Portfolios_ME_Prior_250_20_daily',\n 'Developed_32_Portfolios_ME_BE-ME_OP_2x4x4',\n 'Developed_ex_US_32_Portfolios_ME_BE-ME_OP_2x4x4',\n 'Europe_32_Portfolios_ME_BE-ME_OP_2x4x4',\n 'Japan_32_Portfolios_ME_BE-ME_OP_2x4x4',\n 'Asia_Pacific_ex_Japan_32_Portfolios_ME_BE-ME_OP_2x4x4',\n 'North_America_32_Portfolios_ME_BE-ME_OP_2x4x4',\n 'Developed_32_Portfolios_ME_BE-ME_INV(TA)_2x4x4',\n 'Developed_ex_US_32_Portfolios_ME_BE-ME_INV(TA)_2x4x4',\n 'Europe_32_Portfolios_ME_BE-ME_INV(TA)_2x4x4',\n 'Japan_32_Portfolios_ME_BE-ME_INV(TA)_2x4x4',\n 'Asia_Pacific_ex_Japan_32_Portfolios_ME_BE-ME_INV(TA)_2x4x4',\n 'North_America_32_Portfolios_ME_BE-ME_INV(TA)_2x4x4',\n 'Developed_32_Portfolios_ME_INV(TA)_OP_2x4x4',\n 'Developed_ex_US_32_Portfolios_ME_INV(TA)_OP_2x4x4',\n 'Europe_32_Portfolios_ME_INV(TA)_OP_2x4x4',\n 'Japan_32_Portfolios_ME_INV(TA)_OP_2x4x4',\n 'Asia_Pacific_ex_Japan_32_Portfolios_ME_INV(TA)_OP_2x4x4',\n 'North_America_32_Portfolios_ME_INV(TA)_OP_2x4x4',\n 'Emerging_5_Factors',\n 'Emerging_MOM_Factor',\n 'Emerging_Markets_6_Portfolios_ME_BE-ME',\n 'Emerging_Markets_6_Portfolios_ME_OP',\n 'Emerging_Markets_6_Portfolios_ME_INV',\n 'Emerging_Markets_6_Portfolios_ME_Prior_12_2',\n 'Emerging_Markets_4_Portfolios_BE-ME_OP',\n 'Emerging_Markets_4_Portfolios_OP_INV',\n 'Emerging_Markets_4_Portfolios_BE-ME_INV']"
     },
     "execution_count": 2,
     "metadata": {},
     "output_type": "execute_result"
    }
   ],
   "source": [
    "get_available_datasets()"
   ],
   "metadata": {
    "collapsed": false
   }
  },
  {
   "cell_type": "code",
   "execution_count": 3,
   "metadata": {
    "collapsed": false,
    "jupyter": {
     "outputs_hidden": false
    }
   },
   "outputs": [],
   "source": [
    "start = datetime.datetime(1995, 1, 1)\n",
    "end = datetime.datetime(2023, 2, 28)\n",
    "\n",
    "fama_french_datasets_to_get = ['F-F_Research_Data_5_Factors_2x3', 'F-F_Momentum_Factor', 'F-F_ST_Reversal_Factor', 'F-F_LT_Reversal_Factor']\n",
    "\n",
    "fama_factors_to_upload = update_factor_id_from_famafrench(Database, fama_french_datasets_to_get, start, end)\n"
   ]
  },
  {
   "cell_type": "code",
   "execution_count": 4,
   "outputs": [
    {
     "data": {
      "text/plain": "        id                         factor\n0        0                         Mkt-RF\n1        1                            SMB\n2        2                            HML\n3        3                             RF\n4        4  OA_AbnormalAccruals_retport01\n...    ...                            ...\n1432  1435                            RMW\n1433  1436                            CMA\n1434  1438                         Mom   \n1435  1439                         ST_Rev\n1436  1440                         LT_Rev\n\n[1437 rows x 2 columns]",
      "text/html": "<div>\n<style scoped>\n    .dataframe tbody tr th:only-of-type {\n        vertical-align: middle;\n    }\n\n    .dataframe tbody tr th {\n        vertical-align: top;\n    }\n\n    .dataframe thead th {\n        text-align: right;\n    }\n</style>\n<table border=\"1\" class=\"dataframe\">\n  <thead>\n    <tr style=\"text-align: right;\">\n      <th></th>\n      <th>id</th>\n      <th>factor</th>\n    </tr>\n  </thead>\n  <tbody>\n    <tr>\n      <th>0</th>\n      <td>0</td>\n      <td>Mkt-RF</td>\n    </tr>\n    <tr>\n      <th>1</th>\n      <td>1</td>\n      <td>SMB</td>\n    </tr>\n    <tr>\n      <th>2</th>\n      <td>2</td>\n      <td>HML</td>\n    </tr>\n    <tr>\n      <th>3</th>\n      <td>3</td>\n      <td>RF</td>\n    </tr>\n    <tr>\n      <th>4</th>\n      <td>4</td>\n      <td>OA_AbnormalAccruals_retport01</td>\n    </tr>\n    <tr>\n      <th>...</th>\n      <td>...</td>\n      <td>...</td>\n    </tr>\n    <tr>\n      <th>1432</th>\n      <td>1435</td>\n      <td>RMW</td>\n    </tr>\n    <tr>\n      <th>1433</th>\n      <td>1436</td>\n      <td>CMA</td>\n    </tr>\n    <tr>\n      <th>1434</th>\n      <td>1438</td>\n      <td>Mom</td>\n    </tr>\n    <tr>\n      <th>1435</th>\n      <td>1439</td>\n      <td>ST_Rev</td>\n    </tr>\n    <tr>\n      <th>1436</th>\n      <td>1440</td>\n      <td>LT_Rev</td>\n    </tr>\n  </tbody>\n</table>\n<p>1437 rows × 2 columns</p>\n</div>"
     },
     "execution_count": 4,
     "metadata": {},
     "output_type": "execute_result"
    }
   ],
   "source": [
    "Database.query(\"SELECT * from factor_id\")"
   ],
   "metadata": {
    "collapsed": false
   }
  },
  {
   "cell_type": "code",
   "execution_count": 5,
   "outputs": [
    {
     "name": "stdout",
     "output_type": "stream",
     "text": [
      "F-F_Research_Data_5_Factors_2x3\n",
      "F-F_Momentum_Factor\n",
      "F-F_ST_Reversal_Factor\n",
      "F-F_LT_Reversal_Factor\n"
     ]
    }
   ],
   "source": [
    "for dataset_name, df in fama_factors_to_upload.items():\n",
    "    print(dataset_name)\n",
    "\n",
    "upload_fama_factor_data(Database, fama_factors_to_upload)"
   ],
   "metadata": {
    "collapsed": false
   }
  },
  {
   "cell_type": "code",
   "execution_count": 4,
   "metadata": {
    "collapsed": false,
    "jupyter": {
     "outputs_hidden": false
    }
   },
   "outputs": [],
   "source": [
    "open_asset_df = update_factor_id_from_open_asset_pricing(Database, directory = 'local data/zimmerman/Predictor/')\n",
    "insert_open_asset_factors(Database, open_asset_df)"
   ]
  }
 ],
 "metadata": {
  "kernelspec": {
   "display_name": "Python 3 (ipykernel)",
   "language": "python",
   "name": "python3"
  },
  "language_info": {
   "codemirror_mode": {
    "name": "ipython",
    "version": 3
   },
   "file_extension": ".py",
   "mimetype": "text/x-python",
   "name": "python",
   "nbconvert_exporter": "python",
   "pygments_lexer": "ipython3",
   "version": "3.10.6"
  }
 },
 "nbformat": 4,
 "nbformat_minor": 4
}
