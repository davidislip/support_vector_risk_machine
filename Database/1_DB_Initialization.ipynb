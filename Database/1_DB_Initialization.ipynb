{
 "cells": [
  {
   "cell_type": "code",
   "execution_count": 10,
   "outputs": [],
   "source": [
    "from services.database import Database\n",
    "from sqlalchemy import  Column, Integer, String, DateTime, Float\n",
    "from sqlalchemy import inspect\n",
    "Database.initialize()"
   ],
   "metadata": {
    "collapsed": false
   }
  },
  {
   "cell_type": "code",
   "execution_count": 11,
   "outputs": [
    {
     "name": "stdout",
     "output_type": "stream",
     "text": [
      "['asset_id', 'currency_id', 'equities_series', 'equity_index_id', 'exchange_id', 'factor_id', 'factors', 'frequency_id', 'metric_id', 'source_id', 'ticker_id', 'ticker_index_membership', 'tiingo_tickers']\n"
     ]
    }
   ],
   "source": [
    "inspector = inspect(Database.engine)\n",
    "print(inspector.get_table_names())"
   ],
   "metadata": {
    "collapsed": false
   }
  },
  {
   "cell_type": "code",
   "execution_count": 9,
   "outputs": [
    {
     "name": "stdout",
     "output_type": "stream",
     "text": [
      "2023-04-24 14:31:19,343 INFO sqlalchemy.engine.Engine DROP TABLE index_id\n",
      "2023-04-24 14:31:19,343 INFO sqlalchemy.engine.Engine [raw sql] ()\n",
      "2023-04-24 14:31:19,358 INFO sqlalchemy.engine.Engine COMMIT\n"
     ]
    },
    {
     "data": {
      "text/plain": "<sqlalchemy.engine.cursor.LegacyCursorResult at 0x2b2f47686a0>"
     },
     "execution_count": 9,
     "metadata": {},
     "output_type": "execute_result"
    }
   ],
   "source": [
    "# for table_name in inspector.get_table_names():\n",
    "#     Database.engine.execute(\"DROP TABLE \" + table_name)"
   ],
   "metadata": {
    "collapsed": false
   }
  },
  {
   "cell_type": "code",
   "execution_count": 22,
   "outputs": [
    {
     "name": "stdout",
     "output_type": "stream",
     "text": [
      "2023-04-24 10:09:20,550 INFO sqlalchemy.engine.Engine BEGIN (implicit)\n",
      "2023-04-24 10:09:20,550 INFO sqlalchemy.engine.Engine PRAGMA main.table_info(\"source_id\")\n",
      "2023-04-24 10:09:20,550 INFO sqlalchemy.engine.Engine [raw sql] ()\n",
      "2023-04-24 10:09:20,551 INFO sqlalchemy.engine.Engine PRAGMA temp.table_info(\"source_id\")\n",
      "2023-04-24 10:09:20,552 INFO sqlalchemy.engine.Engine [raw sql] ()\n",
      "2023-04-24 10:09:20,553 INFO sqlalchemy.engine.Engine \n",
      "CREATE TABLE source_id (\n",
      "\tid INTEGER NOT NULL, \n",
      "\tsource VARCHAR NOT NULL, \n",
      "\tdescription VARCHAR, \n",
      "\tPRIMARY KEY (id, source)\n",
      ")\n",
      "\n",
      "\n",
      "2023-04-24 10:09:20,553 INFO sqlalchemy.engine.Engine [no key 0.00040s] ()\n",
      "2023-04-24 10:09:20,559 INFO sqlalchemy.engine.Engine COMMIT\n"
     ]
    }
   ],
   "source": [
    "class SourceId(Database.Base):\n",
    "    \"\"\"\n",
    "    a table of the different datasources\n",
    "    \"\"\"\n",
    "    __tablename__ = 'source_id'\n",
    "    id = Column(Integer, primary_key=True)\n",
    "    source = Column(String, primary_key = True)\n",
    "    description = Column(String)\n",
    "Database.create_table(SourceId)"
   ],
   "metadata": {
    "collapsed": false
   }
  },
  {
   "cell_type": "code",
   "execution_count": 23,
   "outputs": [
    {
     "name": "stdout",
     "output_type": "stream",
     "text": [
      "2023-04-24 10:09:20,867 INFO sqlalchemy.engine.Engine BEGIN (implicit)\n",
      "2023-04-24 10:09:20,867 INFO sqlalchemy.engine.Engine PRAGMA main.table_info(\"ticker_id\")\n",
      "2023-04-24 10:09:20,868 INFO sqlalchemy.engine.Engine [raw sql] ()\n",
      "2023-04-24 10:09:20,869 INFO sqlalchemy.engine.Engine PRAGMA temp.table_info(\"ticker_id\")\n",
      "2023-04-24 10:09:20,869 INFO sqlalchemy.engine.Engine [raw sql] ()\n",
      "2023-04-24 10:09:20,870 INFO sqlalchemy.engine.Engine \n",
      "CREATE TABLE ticker_id (\n",
      "\tid INTEGER NOT NULL, \n",
      "\tticker_currency VARCHAR NOT NULL, \n",
      "\tticker VARCHAR, \n",
      "\tcurrency VARCHAR, \n",
      "\tPRIMARY KEY (id, ticker_currency)\n",
      ")\n",
      "\n",
      "\n",
      "2023-04-24 10:09:20,871 INFO sqlalchemy.engine.Engine [no key 0.00067s] ()\n",
      "2023-04-24 10:09:20,879 INFO sqlalchemy.engine.Engine COMMIT\n"
     ]
    }
   ],
   "source": [
    "class TickerId(Database.Base):\n",
    "    \"\"\"\n",
    "    a table of the different tickers\n",
    "    \"\"\"\n",
    "    __tablename__ = 'ticker_id'\n",
    "    id = Column(Integer, primary_key=True)\n",
    "    ticker_currency = Column(String, primary_key=True)\n",
    "    ticker = Column(String)\n",
    "    currency = Column(String)\n",
    "\n",
    "Database.create_table(TickerId)"
   ],
   "metadata": {
    "collapsed": false
   }
  },
  {
   "cell_type": "code",
   "execution_count": 24,
   "outputs": [
    {
     "name": "stdout",
     "output_type": "stream",
     "text": [
      "2023-04-24 10:09:21,085 INFO sqlalchemy.engine.Engine BEGIN (implicit)\n",
      "2023-04-24 10:09:21,086 INFO sqlalchemy.engine.Engine PRAGMA main.table_info(\"exchange_id\")\n",
      "2023-04-24 10:09:21,086 INFO sqlalchemy.engine.Engine [raw sql] ()\n",
      "2023-04-24 10:09:21,087 INFO sqlalchemy.engine.Engine PRAGMA temp.table_info(\"exchange_id\")\n",
      "2023-04-24 10:09:21,088 INFO sqlalchemy.engine.Engine [raw sql] ()\n",
      "2023-04-24 10:09:21,089 INFO sqlalchemy.engine.Engine \n",
      "CREATE TABLE exchange_id (\n",
      "\tid INTEGER NOT NULL, \n",
      "\texchange VARCHAR NOT NULL, \n",
      "\tPRIMARY KEY (id, exchange)\n",
      ")\n",
      "\n",
      "\n",
      "2023-04-24 10:09:21,089 INFO sqlalchemy.engine.Engine [no key 0.00054s] ()\n",
      "2023-04-24 10:09:21,095 INFO sqlalchemy.engine.Engine COMMIT\n"
     ]
    }
   ],
   "source": [
    "class ExchangeId(Database.Base):\n",
    "    \"\"\"\n",
    "    a table of the different exchanges\n",
    "    \"\"\"\n",
    "    __tablename__ = 'exchange_id'\n",
    "    id = Column(Integer, primary_key=True)\n",
    "    exchange = Column(String, primary_key=True)\n",
    "\n",
    "Database.create_table(ExchangeId)"
   ],
   "metadata": {
    "collapsed": false
   }
  },
  {
   "cell_type": "code",
   "execution_count": 25,
   "outputs": [
    {
     "name": "stdout",
     "output_type": "stream",
     "text": [
      "2023-04-24 10:09:21,277 INFO sqlalchemy.engine.Engine BEGIN (implicit)\n",
      "2023-04-24 10:09:21,278 INFO sqlalchemy.engine.Engine PRAGMA main.table_info(\"asset_id\")\n",
      "2023-04-24 10:09:21,278 INFO sqlalchemy.engine.Engine [raw sql] ()\n",
      "2023-04-24 10:09:21,279 INFO sqlalchemy.engine.Engine PRAGMA temp.table_info(\"asset_id\")\n",
      "2023-04-24 10:09:21,280 INFO sqlalchemy.engine.Engine [raw sql] ()\n",
      "2023-04-24 10:09:21,281 INFO sqlalchemy.engine.Engine \n",
      "CREATE TABLE asset_id (\n",
      "\tid INTEGER NOT NULL, \n",
      "\tasset VARCHAR NOT NULL, \n",
      "\tPRIMARY KEY (id, asset)\n",
      ")\n",
      "\n",
      "\n",
      "2023-04-24 10:09:21,282 INFO sqlalchemy.engine.Engine [no key 0.00073s] ()\n",
      "2023-04-24 10:09:21,289 INFO sqlalchemy.engine.Engine COMMIT\n"
     ]
    }
   ],
   "source": [
    "class AssetId(Database.Base):\n",
    "    \"\"\"\n",
    "    a table of different asset types\n",
    "    \"\"\"\n",
    "    __tablename__ = 'asset_id'\n",
    "    id = Column(Integer, primary_key=True)\n",
    "    asset = Column(String, primary_key=True)\n",
    "\n",
    "Database.create_table(AssetId)"
   ],
   "metadata": {
    "collapsed": false
   }
  },
  {
   "cell_type": "code",
   "execution_count": 26,
   "outputs": [
    {
     "name": "stdout",
     "output_type": "stream",
     "text": [
      "2023-04-24 10:09:21,466 INFO sqlalchemy.engine.Engine BEGIN (implicit)\n",
      "2023-04-24 10:09:21,466 INFO sqlalchemy.engine.Engine PRAGMA main.table_info(\"currency_id\")\n",
      "2023-04-24 10:09:21,467 INFO sqlalchemy.engine.Engine [raw sql] ()\n",
      "2023-04-24 10:09:21,468 INFO sqlalchemy.engine.Engine PRAGMA temp.table_info(\"currency_id\")\n",
      "2023-04-24 10:09:21,468 INFO sqlalchemy.engine.Engine [raw sql] ()\n",
      "2023-04-24 10:09:21,469 INFO sqlalchemy.engine.Engine \n",
      "CREATE TABLE currency_id (\n",
      "\tid INTEGER NOT NULL, \n",
      "\tcurrency VARCHAR NOT NULL, \n",
      "\tPRIMARY KEY (id, currency)\n",
      ")\n",
      "\n",
      "\n",
      "2023-04-24 10:09:21,470 INFO sqlalchemy.engine.Engine [no key 0.00045s] ()\n",
      "2023-04-24 10:09:21,476 INFO sqlalchemy.engine.Engine COMMIT\n"
     ]
    }
   ],
   "source": [
    "class CurrencyId(Database.Base):\n",
    "    \"\"\"\n",
    "    a table of different currencies\n",
    "    \"\"\"\n",
    "    __tablename__ = 'currency_id'\n",
    "    id = Column(Integer, primary_key=True)\n",
    "    currency = Column(String, primary_key=True)\n",
    "\n",
    "Database.create_table(CurrencyId)"
   ],
   "metadata": {
    "collapsed": false
   }
  },
  {
   "cell_type": "code",
   "execution_count": 27,
   "outputs": [
    {
     "name": "stdout",
     "output_type": "stream",
     "text": [
      "2023-04-24 10:09:21,678 INFO sqlalchemy.engine.Engine BEGIN (implicit)\n",
      "2023-04-24 10:09:21,679 INFO sqlalchemy.engine.Engine PRAGMA main.table_info(\"frequency_id\")\n",
      "2023-04-24 10:09:21,679 INFO sqlalchemy.engine.Engine [raw sql] ()\n",
      "2023-04-24 10:09:21,681 INFO sqlalchemy.engine.Engine PRAGMA temp.table_info(\"frequency_id\")\n",
      "2023-04-24 10:09:21,681 INFO sqlalchemy.engine.Engine [raw sql] ()\n",
      "2023-04-24 10:09:21,682 INFO sqlalchemy.engine.Engine \n",
      "CREATE TABLE frequency_id (\n",
      "\tid INTEGER NOT NULL, \n",
      "\tfrequency VARCHAR NOT NULL, \n",
      "\tPRIMARY KEY (id, frequency)\n",
      ")\n",
      "\n",
      "\n",
      "2023-04-24 10:09:21,683 INFO sqlalchemy.engine.Engine [no key 0.00072s] ()\n",
      "2023-04-24 10:09:21,689 INFO sqlalchemy.engine.Engine COMMIT\n"
     ]
    }
   ],
   "source": [
    "class FrequencyId(Database.Base):\n",
    "    \"\"\"\n",
    "    a table of different time frequencies\n",
    "    \"\"\"\n",
    "    __tablename__ = 'frequency_id'\n",
    "    id = Column(Integer, primary_key=True)\n",
    "    frequency = Column(String, primary_key=True)\n",
    "\n",
    "Database.create_table(FrequencyId)"
   ],
   "metadata": {
    "collapsed": false
   }
  },
  {
   "cell_type": "code",
   "execution_count": 28,
   "outputs": [
    {
     "name": "stdout",
     "output_type": "stream",
     "text": [
      "2023-04-24 10:09:21,840 INFO sqlalchemy.engine.Engine BEGIN (implicit)\n",
      "2023-04-24 10:09:21,841 INFO sqlalchemy.engine.Engine PRAGMA main.table_info(\"factor_id\")\n",
      "2023-04-24 10:09:21,842 INFO sqlalchemy.engine.Engine [raw sql] ()\n",
      "2023-04-24 10:09:21,843 INFO sqlalchemy.engine.Engine PRAGMA temp.table_info(\"factor_id\")\n",
      "2023-04-24 10:09:21,843 INFO sqlalchemy.engine.Engine [raw sql] ()\n",
      "2023-04-24 10:09:21,844 INFO sqlalchemy.engine.Engine \n",
      "CREATE TABLE factor_id (\n",
      "\tid INTEGER NOT NULL, \n",
      "\tfactor VARCHAR NOT NULL, \n",
      "\tPRIMARY KEY (id, factor)\n",
      ")\n",
      "\n",
      "\n",
      "2023-04-24 10:09:21,845 INFO sqlalchemy.engine.Engine [no key 0.00036s] ()\n",
      "2023-04-24 10:09:21,852 INFO sqlalchemy.engine.Engine COMMIT\n"
     ]
    }
   ],
   "source": [
    "class FactorId(Database.Base):\n",
    "    \"\"\"\n",
    "    a table of ids for differen factor portfolios\n",
    "    \"\"\"\n",
    "    __tablename__ = 'factor_id'\n",
    "    id = Column(Integer, primary_key=True)\n",
    "    factor = Column(String, primary_key=True)\n",
    "\n",
    "Database.create_table(FactorId)"
   ],
   "metadata": {
    "collapsed": false
   }
  },
  {
   "cell_type": "code",
   "execution_count": 29,
   "outputs": [
    {
     "name": "stdout",
     "output_type": "stream",
     "text": [
      "2023-04-24 10:09:22,034 INFO sqlalchemy.engine.Engine BEGIN (implicit)\n",
      "2023-04-24 10:09:22,035 INFO sqlalchemy.engine.Engine PRAGMA main.table_info(\"metric_id\")\n",
      "2023-04-24 10:09:22,035 INFO sqlalchemy.engine.Engine [raw sql] ()\n",
      "2023-04-24 10:09:22,036 INFO sqlalchemy.engine.Engine PRAGMA temp.table_info(\"metric_id\")\n",
      "2023-04-24 10:09:22,037 INFO sqlalchemy.engine.Engine [raw sql] ()\n",
      "2023-04-24 10:09:22,038 INFO sqlalchemy.engine.Engine \n",
      "CREATE TABLE metric_id (\n",
      "\tid INTEGER NOT NULL, \n",
      "\tmetric VARCHAR NOT NULL, \n",
      "\t\"desc\" VARCHAR, \n",
      "\tPRIMARY KEY (id, metric)\n",
      ")\n",
      "\n",
      "\n",
      "2023-04-24 10:09:22,038 INFO sqlalchemy.engine.Engine [no key 0.00053s] ()\n",
      "2023-04-24 10:09:22,045 INFO sqlalchemy.engine.Engine COMMIT\n"
     ]
    }
   ],
   "source": [
    "class MetricId(Database.Base):\n",
    "    \"\"\"\n",
    "    a table of metrics that we will store for fundamentals\n",
    "    \"\"\"\n",
    "    __tablename__ = 'metric_id'\n",
    "    id = Column(Integer, primary_key=True)\n",
    "    metric = Column(String, primary_key=True)\n",
    "    desc = Column(String)\n",
    "\n",
    "Database.create_table(MetricId)"
   ],
   "metadata": {
    "collapsed": false
   }
  },
  {
   "cell_type": "code",
   "execution_count": 7,
   "outputs": [
    {
     "name": "stdout",
     "output_type": "stream",
     "text": [
      "2023-04-24 14:29:39,173 INFO sqlalchemy.engine.Engine BEGIN (implicit)\n",
      "2023-04-24 14:29:39,173 INFO sqlalchemy.engine.Engine PRAGMA main.table_info(\"equity_index_id\")\n",
      "2023-04-24 14:29:39,173 INFO sqlalchemy.engine.Engine [raw sql] ()\n",
      "2023-04-24 14:29:39,173 INFO sqlalchemy.engine.Engine PRAGMA temp.table_info(\"equity_index_id\")\n",
      "2023-04-24 14:29:39,173 INFO sqlalchemy.engine.Engine [raw sql] ()\n",
      "2023-04-24 14:29:39,188 INFO sqlalchemy.engine.Engine \n",
      "CREATE TABLE equity_index_id (\n",
      "\tid INTEGER NOT NULL, \n",
      "\tequity_index VARCHAR NOT NULL, \n",
      "\tPRIMARY KEY (id, equity_index)\n",
      ")\n",
      "\n",
      "\n",
      "2023-04-24 14:29:39,188 INFO sqlalchemy.engine.Engine [no key 0.00115s] ()\n",
      "2023-04-24 14:29:39,188 INFO sqlalchemy.engine.Engine COMMIT\n"
     ]
    }
   ],
   "source": [
    "class EquityIndexId(Database.Base):\n",
    "    __tablename__ = 'equity_index_id'\n",
    "    id = Column(Integer, primary_key=True)\n",
    "    equity_index = Column(String, primary_key=True)\n",
    "\n",
    "Database.create_table(EquityIndexId)"
   ],
   "metadata": {
    "collapsed": false
   }
  },
  {
   "cell_type": "code",
   "execution_count": 6,
   "outputs": [
    {
     "data": {
      "text/plain": "<sqlalchemy.engine.cursor.LegacyCursorResult at 0x22e6f49dbd0>"
     },
     "execution_count": 6,
     "metadata": {},
     "output_type": "execute_result"
    }
   ],
   "source": [
    "Database.engine.execute(\"DROP TABLE tickers\")"
   ],
   "metadata": {
    "collapsed": false
   }
  },
  {
   "cell_type": "code",
   "execution_count": 7,
   "outputs": [],
   "source": [
    "class Tickers(Database.Base):\n",
    "    __tablename__ = 'tiingo_tickers'\n",
    "    id = Column(Integer, primary_key=True) #id will be unique with this data\n",
    "    source = Column(String)\n",
    "    ticker = Column(String)\n",
    "    exchange = Column(String)\n",
    "    assetType = Column(String)\n",
    "    priceCurrency = Column(String)\n",
    "    startDate = Column(DateTime)\n",
    "    endDate = Column(DateTime)\n",
    "Database.create_table(Tickers)"
   ],
   "metadata": {
    "collapsed": false
   }
  },
  {
   "cell_type": "code",
   "execution_count": 9,
   "outputs": [],
   "source": [
    "class Tickers_Index_Membership(Database.Base):\n",
    "    __tablename__ = 'ticker_index_membership'\n",
    "    id = Column(Integer, primary_key=True) #id will be int of concatenation of source_id, ticker_id, exchange_id, asset type id, currency_id\n",
    "    source = Column(String)\n",
    "    ticker = Column(String)\n",
    "    equity_index = Column(String)\n",
    "    priceCurrency = Column(String)\n",
    "    startDate = Column(DateTime)\n",
    "    endDate = Column(DateTime)\n",
    "Database.create_table(Tickers_Index_Membership)"
   ],
   "metadata": {
    "collapsed": false
   }
  },
  {
   "cell_type": "code",
   "execution_count": 31,
   "outputs": [
    {
     "name": "stdout",
     "output_type": "stream",
     "text": [
      "2023-04-24 10:09:22,399 INFO sqlalchemy.engine.Engine BEGIN (implicit)\n",
      "2023-04-24 10:09:22,400 INFO sqlalchemy.engine.Engine PRAGMA main.table_info(\"factors\")\n",
      "2023-04-24 10:09:22,401 INFO sqlalchemy.engine.Engine [raw sql] ()\n",
      "2023-04-24 10:09:22,401 INFO sqlalchemy.engine.Engine PRAGMA temp.table_info(\"factors\")\n",
      "2023-04-24 10:09:22,402 INFO sqlalchemy.engine.Engine [raw sql] ()\n",
      "2023-04-24 10:09:22,408 INFO sqlalchemy.engine.Engine \n",
      "CREATE TABLE factors (\n",
      "\tid INTEGER NOT NULL, \n",
      "\tsource VARCHAR, \n",
      "\tfrequency VARCHAR, \n",
      "\tfactor VARCHAR, \n",
      "\tdate DATETIME, \n",
      "\tret FLOAT, \n",
      "\tPRIMARY KEY (id)\n",
      ")\n",
      "\n",
      "\n",
      "2023-04-24 10:09:22,409 INFO sqlalchemy.engine.Engine [no key 0.00128s] ()\n",
      "2023-04-24 10:09:22,415 INFO sqlalchemy.engine.Engine COMMIT\n"
     ]
    }
   ],
   "source": [
    "class Factors(Database.Base):\n",
    "    __tablename__ = 'factors'\n",
    "    id = Column(Integer, primary_key=True) #id will be concatention of source id, frequency id, factor id, date related integer\n",
    "    source = Column(String)\n",
    "    frequency = Column(String)\n",
    "    factor = Column(String)\n",
    "    date = Column(DateTime)\n",
    "    ret = Column(Float)\n",
    "\n",
    "Database.create_table(Factors)"
   ],
   "metadata": {
    "collapsed": false
   }
  },
  {
   "cell_type": "code",
   "execution_count": 3,
   "outputs": [],
   "source": [
    "class EquitySeriesInfo(Database.Base):\n",
    "    __tablename__ = 'equities_series'\n",
    "    id = Column(Integer, primary_key=True) #source, frequency, ticker_currency, date\n",
    "    source = Column(String)\n",
    "    frequency = Column(String)\n",
    "    ticker_currency = Column(String)\n",
    "    date = Column(DateTime)\n",
    "    close = Column(Float)\n",
    "    high = Column(Float)\n",
    "    low = Column(Float)\n",
    "    open = Column(Float)\n",
    "    volume = Column(Float)\n",
    "    adjClose = Column(Float)\n",
    "    adjHigh = Column(Float)\n",
    "    adjLow = Column(Float)\n",
    "    adjOpen = Column(Float)\n",
    "    adjVolume = Column(Float)\n",
    "    divCash = Column(Float)\n",
    "    splitFactor = Column(Float)\n",
    "\n",
    "Database.create_table(EquitySeriesInfo)"
   ],
   "metadata": {
    "collapsed": false
   }
  },
  {
   "cell_type": "code",
   "execution_count": 12,
   "outputs": [],
   "source": [
    "class Fundamentals(Database.Base):\n",
    "    __tablename__ = 'fundamentals'\n",
    "    id = Column(Integer, primary_key=True)\n",
    "    source = Column(String)\n",
    "    frequency = Column(String)\n",
    "    metric = Column(String)\n",
    "    ticker_currency = Column(String)\n",
    "    date = Column(DateTime)\n",
    "    value = Column(Float)\n",
    "\n",
    "Database.create_table(Fundamentals)"
   ],
   "metadata": {
    "collapsed": false
   }
  },
  {
   "cell_type": "code",
   "execution_count": null,
   "outputs": [],
   "source": [],
   "metadata": {
    "collapsed": false
   }
  }
 ],
 "metadata": {
  "kernelspec": {
   "display_name": "Python 3",
   "language": "python",
   "name": "python3"
  },
  "language_info": {
   "codemirror_mode": {
    "name": "ipython",
    "version": 2
   },
   "file_extension": ".py",
   "mimetype": "text/x-python",
   "name": "python",
   "nbconvert_exporter": "python",
   "pygments_lexer": "ipython2",
   "version": "2.7.6"
  }
 },
 "nbformat": 4,
 "nbformat_minor": 0
}
