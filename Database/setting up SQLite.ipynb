{
 "cells": [
  {
   "cell_type": "code",
   "execution_count": 1,
   "metadata": {
    "collapsed": true
   },
   "outputs": [],
   "source": [
    "from services.database import Database\n",
    "from sqlalchemy import create_engine, Column, Integer, String, Table, MetaData\n",
    "\n",
    "import pandas as pd\n",
    "Database.initialize()"
   ]
  },
  {
   "cell_type": "code",
   "execution_count": 2,
   "outputs": [],
   "source": [
    "class MyTable(Database.Base):\n",
    "    __tablename__ = 'my_table'\n",
    "    #id = Column(Integer, primary_key=True)\n",
    "    column1 = Column(String, primary_key=True)\n",
    "    column2 = Column(Integer)"
   ],
   "metadata": {
    "collapsed": false
   }
  },
  {
   "cell_type": "code",
   "execution_count": 15,
   "outputs": [],
   "source": [
    "df = pd.DataFrame({'column1': ['a', 'b', 'c'], 'column2': [3, 2, 5]})"
   ],
   "metadata": {
    "collapsed": false
   }
  },
  {
   "cell_type": "code",
   "execution_count": 4,
   "outputs": [
    {
     "name": "stdout",
     "output_type": "stream",
     "text": [
      "['asset_id', 'currency_id', 'equities_closing_prices', 'exchange_id', 'factor_id', 'factors', 'frequency_id', 'fundamentals', 'source_id', 'ticker_id', 'tickers']\n"
     ]
    }
   ],
   "source": [
    "from sqlalchemy import inspect\n",
    "engine = create_engine(\"sqlite:///financial_db.sqlite\")\n",
    "inspector = inspect(engine)\n",
    "print(inspector.get_table_names())"
   ],
   "metadata": {
    "collapsed": false
   }
  },
  {
   "cell_type": "code",
   "execution_count": 5,
   "outputs": [
    {
     "name": "stdout",
     "output_type": "stream",
     "text": [
      "2023-04-24 06:55:13,422 INFO sqlalchemy.engine.Engine BEGIN (implicit)\n",
      "2023-04-24 06:55:13,423 INFO sqlalchemy.engine.Engine PRAGMA main.table_info(\"SELECT * FROM my_table\")\n",
      "2023-04-24 06:55:13,424 INFO sqlalchemy.engine.Engine [raw sql] ()\n",
      "2023-04-24 06:55:13,425 INFO sqlalchemy.engine.Engine PRAGMA temp.table_info(\"SELECT * FROM my_table\")\n",
      "2023-04-24 06:55:13,425 INFO sqlalchemy.engine.Engine [raw sql] ()\n",
      "2023-04-24 06:55:13,426 INFO sqlalchemy.engine.Engine SELECT * FROM my_table\n",
      "2023-04-24 06:55:13,427 INFO sqlalchemy.engine.Engine [raw sql] ()\n",
      "2023-04-24 06:55:13,428 INFO sqlalchemy.engine.Engine ROLLBACK\n"
     ]
    },
    {
     "ename": "OperationalError",
     "evalue": "(sqlite3.OperationalError) no such table: my_table\n[SQL: SELECT * FROM my_table]\n(Background on this error at: https://sqlalche.me/e/14/e3q8)",
     "output_type": "error",
     "traceback": [
      "\u001B[1;31m---------------------------------------------------------------------------\u001B[0m",
      "\u001B[1;31mOperationalError\u001B[0m                          Traceback (most recent call last)",
      "File \u001B[1;32m~\\anaconda3\\envs\\svmmvo\\lib\\site-packages\\sqlalchemy\\engine\\base.py:1900\u001B[0m, in \u001B[0;36mConnection._execute_context\u001B[1;34m(self, dialect, constructor, statement, parameters, execution_options, *args, **kw)\u001B[0m\n\u001B[0;32m   1899\u001B[0m     \u001B[38;5;28;01mif\u001B[39;00m \u001B[38;5;129;01mnot\u001B[39;00m evt_handled:\n\u001B[1;32m-> 1900\u001B[0m         \u001B[38;5;28;43mself\u001B[39;49m\u001B[38;5;241;43m.\u001B[39;49m\u001B[43mdialect\u001B[49m\u001B[38;5;241;43m.\u001B[39;49m\u001B[43mdo_execute\u001B[49m\u001B[43m(\u001B[49m\n\u001B[0;32m   1901\u001B[0m \u001B[43m            \u001B[49m\u001B[43mcursor\u001B[49m\u001B[43m,\u001B[49m\u001B[43m \u001B[49m\u001B[43mstatement\u001B[49m\u001B[43m,\u001B[49m\u001B[43m \u001B[49m\u001B[43mparameters\u001B[49m\u001B[43m,\u001B[49m\u001B[43m \u001B[49m\u001B[43mcontext\u001B[49m\n\u001B[0;32m   1902\u001B[0m \u001B[43m        \u001B[49m\u001B[43m)\u001B[49m\n\u001B[0;32m   1904\u001B[0m \u001B[38;5;28;01mif\u001B[39;00m \u001B[38;5;28mself\u001B[39m\u001B[38;5;241m.\u001B[39m_has_events \u001B[38;5;129;01mor\u001B[39;00m \u001B[38;5;28mself\u001B[39m\u001B[38;5;241m.\u001B[39mengine\u001B[38;5;241m.\u001B[39m_has_events:\n",
      "File \u001B[1;32m~\\anaconda3\\envs\\svmmvo\\lib\\site-packages\\sqlalchemy\\engine\\default.py:736\u001B[0m, in \u001B[0;36mDefaultDialect.do_execute\u001B[1;34m(self, cursor, statement, parameters, context)\u001B[0m\n\u001B[0;32m    735\u001B[0m \u001B[38;5;28;01mdef\u001B[39;00m \u001B[38;5;21mdo_execute\u001B[39m(\u001B[38;5;28mself\u001B[39m, cursor, statement, parameters, context\u001B[38;5;241m=\u001B[39m\u001B[38;5;28;01mNone\u001B[39;00m):\n\u001B[1;32m--> 736\u001B[0m     \u001B[43mcursor\u001B[49m\u001B[38;5;241;43m.\u001B[39;49m\u001B[43mexecute\u001B[49m\u001B[43m(\u001B[49m\u001B[43mstatement\u001B[49m\u001B[43m,\u001B[49m\u001B[43m \u001B[49m\u001B[43mparameters\u001B[49m\u001B[43m)\u001B[49m\n",
      "\u001B[1;31mOperationalError\u001B[0m: no such table: my_table",
      "\nThe above exception was the direct cause of the following exception:\n",
      "\u001B[1;31mOperationalError\u001B[0m                          Traceback (most recent call last)",
      "Cell \u001B[1;32mIn [5], line 1\u001B[0m\n\u001B[1;32m----> 1\u001B[0m \u001B[43mDatabase\u001B[49m\u001B[38;5;241;43m.\u001B[39;49m\u001B[43mquery\u001B[49m\u001B[43m(\u001B[49m\u001B[38;5;124;43m\"\u001B[39;49m\u001B[38;5;124;43mSELECT * FROM my_table\u001B[39;49m\u001B[38;5;124;43m\"\u001B[39;49m\u001B[43m)\u001B[49m\n",
      "File \u001B[1;32m~\\PycharmProjects\\FiMongoDB\\services\\database.py:91\u001B[0m, in \u001B[0;36mDatabase.query\u001B[1;34m(query)\u001B[0m\n\u001B[0;32m     88\u001B[0m \u001B[38;5;129m@staticmethod\u001B[39m\n\u001B[0;32m     89\u001B[0m \u001B[38;5;28;01mdef\u001B[39;00m \u001B[38;5;21mquery\u001B[39m(query):  \u001B[38;5;66;03m# Returns all records from db.collection matching query\u001B[39;00m\n\u001B[0;32m     90\u001B[0m     \u001B[38;5;28;01mwith\u001B[39;00m Database\u001B[38;5;241m.\u001B[39mengine\u001B[38;5;241m.\u001B[39mbegin() \u001B[38;5;28;01mas\u001B[39;00m connection:\n\u001B[1;32m---> 91\u001B[0m         \u001B[38;5;28;01mreturn\u001B[39;00m \u001B[43mpd\u001B[49m\u001B[38;5;241;43m.\u001B[39;49m\u001B[43mread_sql\u001B[49m\u001B[43m(\u001B[49m\u001B[43mquery\u001B[49m\u001B[43m,\u001B[49m\u001B[43m \u001B[49m\u001B[43mconnection\u001B[49m\u001B[43m)\u001B[49m  \u001B[38;5;66;03m# query must be in JSON\u001B[39;00m\n\u001B[0;32m     92\u001B[0m     connection\u001B[38;5;241m.\u001B[39mclose()\n",
      "File \u001B[1;32m~\\anaconda3\\envs\\svmmvo\\lib\\site-packages\\pandas\\io\\sql.py:593\u001B[0m, in \u001B[0;36mread_sql\u001B[1;34m(sql, con, index_col, coerce_float, params, parse_dates, columns, chunksize)\u001B[0m\n\u001B[0;32m    584\u001B[0m     \u001B[38;5;28;01mreturn\u001B[39;00m pandas_sql\u001B[38;5;241m.\u001B[39mread_table(\n\u001B[0;32m    585\u001B[0m         sql,\n\u001B[0;32m    586\u001B[0m         index_col\u001B[38;5;241m=\u001B[39mindex_col,\n\u001B[1;32m   (...)\u001B[0m\n\u001B[0;32m    590\u001B[0m         chunksize\u001B[38;5;241m=\u001B[39mchunksize,\n\u001B[0;32m    591\u001B[0m     )\n\u001B[0;32m    592\u001B[0m \u001B[38;5;28;01melse\u001B[39;00m:\n\u001B[1;32m--> 593\u001B[0m     \u001B[38;5;28;01mreturn\u001B[39;00m \u001B[43mpandas_sql\u001B[49m\u001B[38;5;241;43m.\u001B[39;49m\u001B[43mread_query\u001B[49m\u001B[43m(\u001B[49m\n\u001B[0;32m    594\u001B[0m \u001B[43m        \u001B[49m\u001B[43msql\u001B[49m\u001B[43m,\u001B[49m\n\u001B[0;32m    595\u001B[0m \u001B[43m        \u001B[49m\u001B[43mindex_col\u001B[49m\u001B[38;5;241;43m=\u001B[39;49m\u001B[43mindex_col\u001B[49m\u001B[43m,\u001B[49m\n\u001B[0;32m    596\u001B[0m \u001B[43m        \u001B[49m\u001B[43mparams\u001B[49m\u001B[38;5;241;43m=\u001B[39;49m\u001B[43mparams\u001B[49m\u001B[43m,\u001B[49m\n\u001B[0;32m    597\u001B[0m \u001B[43m        \u001B[49m\u001B[43mcoerce_float\u001B[49m\u001B[38;5;241;43m=\u001B[39;49m\u001B[43mcoerce_float\u001B[49m\u001B[43m,\u001B[49m\n\u001B[0;32m    598\u001B[0m \u001B[43m        \u001B[49m\u001B[43mparse_dates\u001B[49m\u001B[38;5;241;43m=\u001B[39;49m\u001B[43mparse_dates\u001B[49m\u001B[43m,\u001B[49m\n\u001B[0;32m    599\u001B[0m \u001B[43m        \u001B[49m\u001B[43mchunksize\u001B[49m\u001B[38;5;241;43m=\u001B[39;49m\u001B[43mchunksize\u001B[49m\u001B[43m,\u001B[49m\n\u001B[0;32m    600\u001B[0m \u001B[43m    \u001B[49m\u001B[43m)\u001B[49m\n",
      "File \u001B[1;32m~\\anaconda3\\envs\\svmmvo\\lib\\site-packages\\pandas\\io\\sql.py:1560\u001B[0m, in \u001B[0;36mSQLDatabase.read_query\u001B[1;34m(self, sql, index_col, coerce_float, parse_dates, params, chunksize, dtype)\u001B[0m\n\u001B[0;32m   1512\u001B[0m \u001B[38;5;124;03m\"\"\"\u001B[39;00m\n\u001B[0;32m   1513\u001B[0m \u001B[38;5;124;03mRead SQL query into a DataFrame.\u001B[39;00m\n\u001B[0;32m   1514\u001B[0m \n\u001B[1;32m   (...)\u001B[0m\n\u001B[0;32m   1556\u001B[0m \n\u001B[0;32m   1557\u001B[0m \u001B[38;5;124;03m\"\"\"\u001B[39;00m\n\u001B[0;32m   1558\u001B[0m args \u001B[38;5;241m=\u001B[39m _convert_params(sql, params)\n\u001B[1;32m-> 1560\u001B[0m result \u001B[38;5;241m=\u001B[39m \u001B[38;5;28;43mself\u001B[39;49m\u001B[38;5;241;43m.\u001B[39;49m\u001B[43mexecute\u001B[49m\u001B[43m(\u001B[49m\u001B[38;5;241;43m*\u001B[39;49m\u001B[43margs\u001B[49m\u001B[43m)\u001B[49m\n\u001B[0;32m   1561\u001B[0m columns \u001B[38;5;241m=\u001B[39m result\u001B[38;5;241m.\u001B[39mkeys()\n\u001B[0;32m   1563\u001B[0m \u001B[38;5;28;01mif\u001B[39;00m chunksize \u001B[38;5;129;01mis\u001B[39;00m \u001B[38;5;129;01mnot\u001B[39;00m \u001B[38;5;28;01mNone\u001B[39;00m:\n",
      "File \u001B[1;32m~\\anaconda3\\envs\\svmmvo\\lib\\site-packages\\pandas\\io\\sql.py:1405\u001B[0m, in \u001B[0;36mSQLDatabase.execute\u001B[1;34m(self, *args, **kwargs)\u001B[0m\n\u001B[0;32m   1403\u001B[0m \u001B[38;5;28;01mdef\u001B[39;00m \u001B[38;5;21mexecute\u001B[39m(\u001B[38;5;28mself\u001B[39m, \u001B[38;5;241m*\u001B[39margs, \u001B[38;5;241m*\u001B[39m\u001B[38;5;241m*\u001B[39mkwargs):\n\u001B[0;32m   1404\u001B[0m     \u001B[38;5;124;03m\"\"\"Simple passthrough to SQLAlchemy connectable\"\"\"\u001B[39;00m\n\u001B[1;32m-> 1405\u001B[0m     \u001B[38;5;28;01mreturn\u001B[39;00m \u001B[38;5;28mself\u001B[39m\u001B[38;5;241m.\u001B[39mconnectable\u001B[38;5;241m.\u001B[39mexecution_options()\u001B[38;5;241m.\u001B[39mexecute(\u001B[38;5;241m*\u001B[39margs, \u001B[38;5;241m*\u001B[39m\u001B[38;5;241m*\u001B[39mkwargs)\n",
      "File \u001B[1;32m~\\anaconda3\\envs\\svmmvo\\lib\\site-packages\\sqlalchemy\\engine\\base.py:1365\u001B[0m, in \u001B[0;36mConnection.execute\u001B[1;34m(self, statement, *multiparams, **params)\u001B[0m\n\u001B[0;32m   1356\u001B[0m \u001B[38;5;28;01mif\u001B[39;00m \u001B[38;5;28misinstance\u001B[39m(statement, util\u001B[38;5;241m.\u001B[39mstring_types):\n\u001B[0;32m   1357\u001B[0m     util\u001B[38;5;241m.\u001B[39mwarn_deprecated_20(\n\u001B[0;32m   1358\u001B[0m         \u001B[38;5;124m\"\u001B[39m\u001B[38;5;124mPassing a string to Connection.execute() is \u001B[39m\u001B[38;5;124m\"\u001B[39m\n\u001B[0;32m   1359\u001B[0m         \u001B[38;5;124m\"\u001B[39m\u001B[38;5;124mdeprecated and will be removed in version 2.0.  Use the \u001B[39m\u001B[38;5;124m\"\u001B[39m\n\u001B[1;32m   (...)\u001B[0m\n\u001B[0;32m   1362\u001B[0m         \u001B[38;5;124m\"\u001B[39m\u001B[38;5;124mdriver-level SQL string.\u001B[39m\u001B[38;5;124m\"\u001B[39m\n\u001B[0;32m   1363\u001B[0m     )\n\u001B[1;32m-> 1365\u001B[0m     \u001B[38;5;28;01mreturn\u001B[39;00m \u001B[38;5;28;43mself\u001B[39;49m\u001B[38;5;241;43m.\u001B[39;49m\u001B[43m_exec_driver_sql\u001B[49m\u001B[43m(\u001B[49m\n\u001B[0;32m   1366\u001B[0m \u001B[43m        \u001B[49m\u001B[43mstatement\u001B[49m\u001B[43m,\u001B[49m\n\u001B[0;32m   1367\u001B[0m \u001B[43m        \u001B[49m\u001B[43mmultiparams\u001B[49m\u001B[43m,\u001B[49m\n\u001B[0;32m   1368\u001B[0m \u001B[43m        \u001B[49m\u001B[43mparams\u001B[49m\u001B[43m,\u001B[49m\n\u001B[0;32m   1369\u001B[0m \u001B[43m        \u001B[49m\u001B[43m_EMPTY_EXECUTION_OPTS\u001B[49m\u001B[43m,\u001B[49m\n\u001B[0;32m   1370\u001B[0m \u001B[43m        \u001B[49m\u001B[43mfuture\u001B[49m\u001B[38;5;241;43m=\u001B[39;49m\u001B[38;5;28;43;01mFalse\u001B[39;49;00m\u001B[43m,\u001B[49m\n\u001B[0;32m   1371\u001B[0m \u001B[43m    \u001B[49m\u001B[43m)\u001B[49m\n\u001B[0;32m   1373\u001B[0m \u001B[38;5;28;01mtry\u001B[39;00m:\n\u001B[0;32m   1374\u001B[0m     meth \u001B[38;5;241m=\u001B[39m statement\u001B[38;5;241m.\u001B[39m_execute_on_connection\n",
      "File \u001B[1;32m~\\anaconda3\\envs\\svmmvo\\lib\\site-packages\\sqlalchemy\\engine\\base.py:1669\u001B[0m, in \u001B[0;36mConnection._exec_driver_sql\u001B[1;34m(self, statement, multiparams, params, execution_options, future)\u001B[0m\n\u001B[0;32m   1659\u001B[0m         (\n\u001B[0;32m   1660\u001B[0m             statement,\n\u001B[0;32m   1661\u001B[0m             distilled_params,\n\u001B[1;32m   (...)\u001B[0m\n\u001B[0;32m   1665\u001B[0m             statement, distilled_parameters, execution_options\n\u001B[0;32m   1666\u001B[0m         )\n\u001B[0;32m   1668\u001B[0m dialect \u001B[38;5;241m=\u001B[39m \u001B[38;5;28mself\u001B[39m\u001B[38;5;241m.\u001B[39mdialect\n\u001B[1;32m-> 1669\u001B[0m ret \u001B[38;5;241m=\u001B[39m \u001B[38;5;28;43mself\u001B[39;49m\u001B[38;5;241;43m.\u001B[39;49m\u001B[43m_execute_context\u001B[49m\u001B[43m(\u001B[49m\n\u001B[0;32m   1670\u001B[0m \u001B[43m    \u001B[49m\u001B[43mdialect\u001B[49m\u001B[43m,\u001B[49m\n\u001B[0;32m   1671\u001B[0m \u001B[43m    \u001B[49m\u001B[43mdialect\u001B[49m\u001B[38;5;241;43m.\u001B[39;49m\u001B[43mexecution_ctx_cls\u001B[49m\u001B[38;5;241;43m.\u001B[39;49m\u001B[43m_init_statement\u001B[49m\u001B[43m,\u001B[49m\n\u001B[0;32m   1672\u001B[0m \u001B[43m    \u001B[49m\u001B[43mstatement\u001B[49m\u001B[43m,\u001B[49m\n\u001B[0;32m   1673\u001B[0m \u001B[43m    \u001B[49m\u001B[43mdistilled_parameters\u001B[49m\u001B[43m,\u001B[49m\n\u001B[0;32m   1674\u001B[0m \u001B[43m    \u001B[49m\u001B[43mexecution_options\u001B[49m\u001B[43m,\u001B[49m\n\u001B[0;32m   1675\u001B[0m \u001B[43m    \u001B[49m\u001B[43mstatement\u001B[49m\u001B[43m,\u001B[49m\n\u001B[0;32m   1676\u001B[0m \u001B[43m    \u001B[49m\u001B[43mdistilled_parameters\u001B[49m\u001B[43m,\u001B[49m\n\u001B[0;32m   1677\u001B[0m \u001B[43m\u001B[49m\u001B[43m)\u001B[49m\n\u001B[0;32m   1679\u001B[0m \u001B[38;5;28;01mif\u001B[39;00m \u001B[38;5;129;01mnot\u001B[39;00m future:\n\u001B[0;32m   1680\u001B[0m     \u001B[38;5;28;01mif\u001B[39;00m \u001B[38;5;28mself\u001B[39m\u001B[38;5;241m.\u001B[39m_has_events \u001B[38;5;129;01mor\u001B[39;00m \u001B[38;5;28mself\u001B[39m\u001B[38;5;241m.\u001B[39mengine\u001B[38;5;241m.\u001B[39m_has_events:\n",
      "File \u001B[1;32m~\\anaconda3\\envs\\svmmvo\\lib\\site-packages\\sqlalchemy\\engine\\base.py:1943\u001B[0m, in \u001B[0;36mConnection._execute_context\u001B[1;34m(self, dialect, constructor, statement, parameters, execution_options, *args, **kw)\u001B[0m\n\u001B[0;32m   1940\u001B[0m             branched\u001B[38;5;241m.\u001B[39mclose()\n\u001B[0;32m   1942\u001B[0m \u001B[38;5;28;01mexcept\u001B[39;00m \u001B[38;5;167;01mBaseException\u001B[39;00m \u001B[38;5;28;01mas\u001B[39;00m e:\n\u001B[1;32m-> 1943\u001B[0m     \u001B[38;5;28;43mself\u001B[39;49m\u001B[38;5;241;43m.\u001B[39;49m\u001B[43m_handle_dbapi_exception\u001B[49m\u001B[43m(\u001B[49m\n\u001B[0;32m   1944\u001B[0m \u001B[43m        \u001B[49m\u001B[43me\u001B[49m\u001B[43m,\u001B[49m\u001B[43m \u001B[49m\u001B[43mstatement\u001B[49m\u001B[43m,\u001B[49m\u001B[43m \u001B[49m\u001B[43mparameters\u001B[49m\u001B[43m,\u001B[49m\u001B[43m \u001B[49m\u001B[43mcursor\u001B[49m\u001B[43m,\u001B[49m\u001B[43m \u001B[49m\u001B[43mcontext\u001B[49m\n\u001B[0;32m   1945\u001B[0m \u001B[43m    \u001B[49m\u001B[43m)\u001B[49m\n\u001B[0;32m   1947\u001B[0m \u001B[38;5;28;01mreturn\u001B[39;00m result\n",
      "File \u001B[1;32m~\\anaconda3\\envs\\svmmvo\\lib\\site-packages\\sqlalchemy\\engine\\base.py:2124\u001B[0m, in \u001B[0;36mConnection._handle_dbapi_exception\u001B[1;34m(self, e, statement, parameters, cursor, context)\u001B[0m\n\u001B[0;32m   2122\u001B[0m     util\u001B[38;5;241m.\u001B[39mraise_(newraise, with_traceback\u001B[38;5;241m=\u001B[39mexc_info[\u001B[38;5;241m2\u001B[39m], from_\u001B[38;5;241m=\u001B[39me)\n\u001B[0;32m   2123\u001B[0m \u001B[38;5;28;01melif\u001B[39;00m should_wrap:\n\u001B[1;32m-> 2124\u001B[0m     \u001B[43mutil\u001B[49m\u001B[38;5;241;43m.\u001B[39;49m\u001B[43mraise_\u001B[49m\u001B[43m(\u001B[49m\n\u001B[0;32m   2125\u001B[0m \u001B[43m        \u001B[49m\u001B[43msqlalchemy_exception\u001B[49m\u001B[43m,\u001B[49m\u001B[43m \u001B[49m\u001B[43mwith_traceback\u001B[49m\u001B[38;5;241;43m=\u001B[39;49m\u001B[43mexc_info\u001B[49m\u001B[43m[\u001B[49m\u001B[38;5;241;43m2\u001B[39;49m\u001B[43m]\u001B[49m\u001B[43m,\u001B[49m\u001B[43m \u001B[49m\u001B[43mfrom_\u001B[49m\u001B[38;5;241;43m=\u001B[39;49m\u001B[43me\u001B[49m\n\u001B[0;32m   2126\u001B[0m \u001B[43m    \u001B[49m\u001B[43m)\u001B[49m\n\u001B[0;32m   2127\u001B[0m \u001B[38;5;28;01melse\u001B[39;00m:\n\u001B[0;32m   2128\u001B[0m     util\u001B[38;5;241m.\u001B[39mraise_(exc_info[\u001B[38;5;241m1\u001B[39m], with_traceback\u001B[38;5;241m=\u001B[39mexc_info[\u001B[38;5;241m2\u001B[39m])\n",
      "File \u001B[1;32m~\\anaconda3\\envs\\svmmvo\\lib\\site-packages\\sqlalchemy\\util\\compat.py:208\u001B[0m, in \u001B[0;36mraise_\u001B[1;34m(***failed resolving arguments***)\u001B[0m\n\u001B[0;32m    205\u001B[0m     exception\u001B[38;5;241m.\u001B[39m__cause__ \u001B[38;5;241m=\u001B[39m replace_context\n\u001B[0;32m    207\u001B[0m \u001B[38;5;28;01mtry\u001B[39;00m:\n\u001B[1;32m--> 208\u001B[0m     \u001B[38;5;28;01mraise\u001B[39;00m exception\n\u001B[0;32m    209\u001B[0m \u001B[38;5;28;01mfinally\u001B[39;00m:\n\u001B[0;32m    210\u001B[0m     \u001B[38;5;66;03m# credit to\u001B[39;00m\n\u001B[0;32m    211\u001B[0m     \u001B[38;5;66;03m# https://cosmicpercolator.com/2016/01/13/exception-leaks-in-python-2-and-3/\u001B[39;00m\n\u001B[0;32m    212\u001B[0m     \u001B[38;5;66;03m# as the __traceback__ object creates a cycle\u001B[39;00m\n\u001B[0;32m    213\u001B[0m     \u001B[38;5;28;01mdel\u001B[39;00m exception, replace_context, from_, with_traceback\n",
      "File \u001B[1;32m~\\anaconda3\\envs\\svmmvo\\lib\\site-packages\\sqlalchemy\\engine\\base.py:1900\u001B[0m, in \u001B[0;36mConnection._execute_context\u001B[1;34m(self, dialect, constructor, statement, parameters, execution_options, *args, **kw)\u001B[0m\n\u001B[0;32m   1898\u001B[0m                 \u001B[38;5;28;01mbreak\u001B[39;00m\n\u001B[0;32m   1899\u001B[0m     \u001B[38;5;28;01mif\u001B[39;00m \u001B[38;5;129;01mnot\u001B[39;00m evt_handled:\n\u001B[1;32m-> 1900\u001B[0m         \u001B[38;5;28;43mself\u001B[39;49m\u001B[38;5;241;43m.\u001B[39;49m\u001B[43mdialect\u001B[49m\u001B[38;5;241;43m.\u001B[39;49m\u001B[43mdo_execute\u001B[49m\u001B[43m(\u001B[49m\n\u001B[0;32m   1901\u001B[0m \u001B[43m            \u001B[49m\u001B[43mcursor\u001B[49m\u001B[43m,\u001B[49m\u001B[43m \u001B[49m\u001B[43mstatement\u001B[49m\u001B[43m,\u001B[49m\u001B[43m \u001B[49m\u001B[43mparameters\u001B[49m\u001B[43m,\u001B[49m\u001B[43m \u001B[49m\u001B[43mcontext\u001B[49m\n\u001B[0;32m   1902\u001B[0m \u001B[43m        \u001B[49m\u001B[43m)\u001B[49m\n\u001B[0;32m   1904\u001B[0m \u001B[38;5;28;01mif\u001B[39;00m \u001B[38;5;28mself\u001B[39m\u001B[38;5;241m.\u001B[39m_has_events \u001B[38;5;129;01mor\u001B[39;00m \u001B[38;5;28mself\u001B[39m\u001B[38;5;241m.\u001B[39mengine\u001B[38;5;241m.\u001B[39m_has_events:\n\u001B[0;32m   1905\u001B[0m     \u001B[38;5;28mself\u001B[39m\u001B[38;5;241m.\u001B[39mdispatch\u001B[38;5;241m.\u001B[39mafter_cursor_execute(\n\u001B[0;32m   1906\u001B[0m         \u001B[38;5;28mself\u001B[39m,\n\u001B[0;32m   1907\u001B[0m         cursor,\n\u001B[1;32m   (...)\u001B[0m\n\u001B[0;32m   1911\u001B[0m         context\u001B[38;5;241m.\u001B[39mexecutemany,\n\u001B[0;32m   1912\u001B[0m     )\n",
      "File \u001B[1;32m~\\anaconda3\\envs\\svmmvo\\lib\\site-packages\\sqlalchemy\\engine\\default.py:736\u001B[0m, in \u001B[0;36mDefaultDialect.do_execute\u001B[1;34m(self, cursor, statement, parameters, context)\u001B[0m\n\u001B[0;32m    735\u001B[0m \u001B[38;5;28;01mdef\u001B[39;00m \u001B[38;5;21mdo_execute\u001B[39m(\u001B[38;5;28mself\u001B[39m, cursor, statement, parameters, context\u001B[38;5;241m=\u001B[39m\u001B[38;5;28;01mNone\u001B[39;00m):\n\u001B[1;32m--> 736\u001B[0m     \u001B[43mcursor\u001B[49m\u001B[38;5;241;43m.\u001B[39;49m\u001B[43mexecute\u001B[49m\u001B[43m(\u001B[49m\u001B[43mstatement\u001B[49m\u001B[43m,\u001B[49m\u001B[43m \u001B[49m\u001B[43mparameters\u001B[49m\u001B[43m)\u001B[49m\n",
      "\u001B[1;31mOperationalError\u001B[0m: (sqlite3.OperationalError) no such table: my_table\n[SQL: SELECT * FROM my_table]\n(Background on this error at: https://sqlalche.me/e/14/e3q8)"
     ]
    }
   ],
   "source": [
    "Database.query(\"SELECT * FROM my_table\")"
   ],
   "metadata": {
    "collapsed": false
   }
  },
  {
   "cell_type": "code",
   "execution_count": 6,
   "outputs": [
    {
     "name": "stdout",
     "output_type": "stream",
     "text": [
      "2023-04-24 06:55:17,817 INFO sqlalchemy.engine.Engine BEGIN (implicit)\n",
      "2023-04-24 06:55:17,817 INFO sqlalchemy.engine.Engine PRAGMA main.table_info(\"my_table\")\n",
      "2023-04-24 06:55:17,818 INFO sqlalchemy.engine.Engine [raw sql] ()\n",
      "2023-04-24 06:55:17,819 INFO sqlalchemy.engine.Engine PRAGMA temp.table_info(\"my_table\")\n",
      "2023-04-24 06:55:17,819 INFO sqlalchemy.engine.Engine [raw sql] ()\n",
      "2023-04-24 06:55:17,820 INFO sqlalchemy.engine.Engine \n",
      "CREATE TABLE my_table (\n",
      "\tcolumn1 VARCHAR NOT NULL, \n",
      "\tcolumn2 INTEGER, \n",
      "\tPRIMARY KEY (column1)\n",
      ")\n",
      "\n",
      "\n",
      "2023-04-24 06:55:17,820 INFO sqlalchemy.engine.Engine [no key 0.00043s] ()\n",
      "2023-04-24 06:55:17,827 INFO sqlalchemy.engine.Engine COMMIT\n"
     ]
    }
   ],
   "source": [
    "Database.create_table(MyTable)"
   ],
   "metadata": {
    "collapsed": false
   }
  },
  {
   "cell_type": "code",
   "execution_count": 16,
   "outputs": [
    {
     "name": "stdout",
     "output_type": "stream",
     "text": [
      "2023-04-24 06:56:41,786 INFO sqlalchemy.engine.Engine PRAGMA main.table_xinfo(\"my_table\")\n",
      "2023-04-24 06:56:41,786 INFO sqlalchemy.engine.Engine [raw sql] ()\n",
      "2023-04-24 06:56:41,787 INFO sqlalchemy.engine.Engine SELECT sql FROM  (SELECT * FROM sqlite_master UNION ALL   SELECT * FROM sqlite_temp_master) WHERE name = ? AND type = 'table'\n",
      "2023-04-24 06:56:41,788 INFO sqlalchemy.engine.Engine [raw sql] ('my_table',)\n",
      "2023-04-24 06:56:41,789 INFO sqlalchemy.engine.Engine PRAGMA main.foreign_key_list(\"my_table\")\n",
      "2023-04-24 06:56:41,789 INFO sqlalchemy.engine.Engine [raw sql] ()\n",
      "2023-04-24 06:56:41,790 INFO sqlalchemy.engine.Engine PRAGMA temp.foreign_key_list(\"my_table\")\n",
      "2023-04-24 06:56:41,791 INFO sqlalchemy.engine.Engine [raw sql] ()\n",
      "2023-04-24 06:56:41,792 INFO sqlalchemy.engine.Engine SELECT sql FROM  (SELECT * FROM sqlite_master UNION ALL   SELECT * FROM sqlite_temp_master) WHERE name = ? AND type = 'table'\n",
      "2023-04-24 06:56:41,792 INFO sqlalchemy.engine.Engine [raw sql] ('my_table',)\n",
      "2023-04-24 06:56:41,793 INFO sqlalchemy.engine.Engine PRAGMA main.index_list(\"my_table\")\n",
      "2023-04-24 06:56:41,863 INFO sqlalchemy.engine.Engine [raw sql] ()\n",
      "2023-04-24 06:56:41,865 INFO sqlalchemy.engine.Engine PRAGMA main.index_list(\"my_table\")\n",
      "2023-04-24 06:56:41,865 INFO sqlalchemy.engine.Engine [raw sql] ()\n",
      "2023-04-24 06:56:41,866 INFO sqlalchemy.engine.Engine PRAGMA main.index_info(\"sqlite_autoindex_my_table_1\")\n",
      "2023-04-24 06:56:41,866 INFO sqlalchemy.engine.Engine [raw sql] ()\n",
      "2023-04-24 06:56:41,867 INFO sqlalchemy.engine.Engine SELECT sql FROM  (SELECT * FROM sqlite_master UNION ALL   SELECT * FROM sqlite_temp_master) WHERE name = ? AND type = 'table'\n",
      "2023-04-24 06:56:41,867 INFO sqlalchemy.engine.Engine [raw sql] ('my_table',)\n",
      "2023-04-24 06:56:41,869 INFO sqlalchemy.engine.Engine BEGIN (implicit)\n",
      "2023-04-24 06:56:41,870 INFO sqlalchemy.engine.Engine INSERT INTO my_table (column1, column2) VALUES (?, ?) ON CONFLICT (column1) DO UPDATE SET column1 = ?, column2 = ?\n",
      "2023-04-24 06:56:41,870 INFO sqlalchemy.engine.Engine [no key 0.00055s] ('a', 3, 'a', 3)\n",
      "2023-04-24 06:56:41,873 INFO sqlalchemy.engine.Engine INSERT INTO my_table (column1, column2) VALUES (?, ?) ON CONFLICT (column1) DO UPDATE SET column1 = ?, column2 = ?\n",
      "2023-04-24 06:56:41,874 INFO sqlalchemy.engine.Engine [no key 0.00092s] ('b', 2, 'b', 2)\n",
      "2023-04-24 06:56:41,875 INFO sqlalchemy.engine.Engine INSERT INTO my_table (column1, column2) VALUES (?, ?) ON CONFLICT (column1) DO UPDATE SET column1 = ?, column2 = ?\n",
      "2023-04-24 06:56:41,875 INFO sqlalchemy.engine.Engine [no key 0.00042s] ('c', 5, 'c', 5)\n",
      "2023-04-24 06:56:41,876 INFO sqlalchemy.engine.Engine COMMIT\n"
     ]
    }
   ],
   "source": [
    "Database.insert_from_df_by_name('my_table', df)"
   ],
   "metadata": {
    "collapsed": false
   }
  },
  {
   "cell_type": "code",
   "execution_count": 7,
   "outputs": [
    {
     "name": "stdout",
     "output_type": "stream",
     "text": [
      "2023-04-24 06:55:25,167 INFO sqlalchemy.engine.Engine BEGIN (implicit)\n",
      "2023-04-24 06:55:25,168 INFO sqlalchemy.engine.Engine INSERT INTO my_table (column1, column2) VALUES (?, ?) ON CONFLICT (column1) DO UPDATE SET column1 = ?, column2 = ?\n",
      "2023-04-24 06:55:25,170 INFO sqlalchemy.engine.Engine [no key 0.00127s] ('a', 3, 'a', 3)\n",
      "2023-04-24 06:55:25,171 INFO sqlalchemy.engine.Engine INSERT INTO my_table (column1, column2) VALUES (?, ?) ON CONFLICT (column1) DO UPDATE SET column1 = ?, column2 = ?\n",
      "2023-04-24 06:55:25,172 INFO sqlalchemy.engine.Engine [no key 0.00040s] ('b', 2, 'b', 2)\n",
      "2023-04-24 06:55:25,173 INFO sqlalchemy.engine.Engine INSERT INTO my_table (column1, column2) VALUES (?, ?) ON CONFLICT (column1) DO UPDATE SET column1 = ?, column2 = ?\n",
      "2023-04-24 06:55:25,174 INFO sqlalchemy.engine.Engine [no key 0.00146s] ('c', 9, 'c', 9)\n",
      "2023-04-24 06:55:25,175 INFO sqlalchemy.engine.Engine COMMIT\n"
     ]
    }
   ],
   "source": [
    "Database.insert_from_df(MyTable, df)"
   ],
   "metadata": {
    "collapsed": false
   }
  },
  {
   "cell_type": "code",
   "execution_count": 17,
   "outputs": [
    {
     "name": "stdout",
     "output_type": "stream",
     "text": [
      "2023-04-24 06:56:46,583 INFO sqlalchemy.engine.Engine BEGIN (implicit)\n",
      "2023-04-24 06:56:46,585 INFO sqlalchemy.engine.Engine PRAGMA main.table_info(\"SELECT * FROM my_table\")\n",
      "2023-04-24 06:56:46,585 INFO sqlalchemy.engine.Engine [raw sql] ()\n",
      "2023-04-24 06:56:46,586 INFO sqlalchemy.engine.Engine PRAGMA temp.table_info(\"SELECT * FROM my_table\")\n",
      "2023-04-24 06:56:46,587 INFO sqlalchemy.engine.Engine [raw sql] ()\n",
      "2023-04-24 06:56:46,587 INFO sqlalchemy.engine.Engine SELECT * FROM my_table\n",
      "2023-04-24 06:56:46,588 INFO sqlalchemy.engine.Engine [raw sql] ()\n",
      "2023-04-24 06:56:46,589 INFO sqlalchemy.engine.Engine COMMIT\n"
     ]
    },
    {
     "data": {
      "text/plain": "  column1  column2\n0       a        3\n1       b        2\n2       c        5",
      "text/html": "<div>\n<style scoped>\n    .dataframe tbody tr th:only-of-type {\n        vertical-align: middle;\n    }\n\n    .dataframe tbody tr th {\n        vertical-align: top;\n    }\n\n    .dataframe thead th {\n        text-align: right;\n    }\n</style>\n<table border=\"1\" class=\"dataframe\">\n  <thead>\n    <tr style=\"text-align: right;\">\n      <th></th>\n      <th>column1</th>\n      <th>column2</th>\n    </tr>\n  </thead>\n  <tbody>\n    <tr>\n      <th>0</th>\n      <td>a</td>\n      <td>3</td>\n    </tr>\n    <tr>\n      <th>1</th>\n      <td>b</td>\n      <td>2</td>\n    </tr>\n    <tr>\n      <th>2</th>\n      <td>c</td>\n      <td>5</td>\n    </tr>\n  </tbody>\n</table>\n</div>"
     },
     "execution_count": 17,
     "metadata": {},
     "output_type": "execute_result"
    }
   ],
   "source": [
    "Database.query(\"SELECT * FROM my_table\")"
   ],
   "metadata": {
    "collapsed": false
   }
  },
  {
   "cell_type": "code",
   "execution_count": 9,
   "outputs": [
    {
     "data": {
      "text/plain": "FacadeDict({'my_table': Table('my_table', MetaData(), Column('column1', String(), table=<my_table>, primary_key=True, nullable=False), Column('column2', Integer(), table=<my_table>), schema=None)})"
     },
     "execution_count": 9,
     "metadata": {},
     "output_type": "execute_result"
    }
   ],
   "source": [
    "Database.Base.metadata.tables"
   ],
   "metadata": {
    "collapsed": false
   }
  },
  {
   "cell_type": "code",
   "execution_count": 10,
   "outputs": [
    {
     "name": "stdout",
     "output_type": "stream",
     "text": [
      "2023-04-24 06:55:43,639 INFO sqlalchemy.engine.Engine PRAGMA main.table_info(\"my_table_prev\")\n",
      "2023-04-24 06:55:43,640 INFO sqlalchemy.engine.Engine [raw sql] ()\n",
      "2023-04-24 06:55:43,641 INFO sqlalchemy.engine.Engine PRAGMA temp.table_info(\"my_table_prev\")\n",
      "2023-04-24 06:55:43,641 INFO sqlalchemy.engine.Engine [raw sql] ()\n",
      "2023-04-24 06:55:43,643 INFO sqlalchemy.engine.Engine PRAGMA main.table_xinfo(\"my_table\")\n",
      "2023-04-24 06:55:43,643 INFO sqlalchemy.engine.Engine [raw sql] ()\n",
      "2023-04-24 06:55:43,645 INFO sqlalchemy.engine.Engine SELECT sql FROM  (SELECT * FROM sqlite_master UNION ALL   SELECT * FROM sqlite_temp_master) WHERE name = ? AND type = 'table'\n",
      "2023-04-24 06:55:43,646 INFO sqlalchemy.engine.Engine [raw sql] ('my_table',)\n",
      "2023-04-24 06:55:43,646 INFO sqlalchemy.engine.Engine PRAGMA main.foreign_key_list(\"my_table\")\n",
      "2023-04-24 06:55:43,647 INFO sqlalchemy.engine.Engine [raw sql] ()\n",
      "2023-04-24 06:55:43,648 INFO sqlalchemy.engine.Engine PRAGMA temp.foreign_key_list(\"my_table\")\n",
      "2023-04-24 06:55:43,648 INFO sqlalchemy.engine.Engine [raw sql] ()\n",
      "2023-04-24 06:55:43,649 INFO sqlalchemy.engine.Engine SELECT sql FROM  (SELECT * FROM sqlite_master UNION ALL   SELECT * FROM sqlite_temp_master) WHERE name = ? AND type = 'table'\n",
      "2023-04-24 06:55:43,649 INFO sqlalchemy.engine.Engine [raw sql] ('my_table',)\n",
      "2023-04-24 06:55:43,650 INFO sqlalchemy.engine.Engine PRAGMA main.index_list(\"my_table\")\n",
      "2023-04-24 06:55:43,650 INFO sqlalchemy.engine.Engine [raw sql] ()\n",
      "2023-04-24 06:55:43,652 INFO sqlalchemy.engine.Engine PRAGMA main.index_list(\"my_table\")\n",
      "2023-04-24 06:55:43,652 INFO sqlalchemy.engine.Engine [raw sql] ()\n",
      "2023-04-24 06:55:43,653 INFO sqlalchemy.engine.Engine PRAGMA main.index_info(\"sqlite_autoindex_my_table_1\")\n",
      "2023-04-24 06:55:43,653 INFO sqlalchemy.engine.Engine [raw sql] ()\n",
      "2023-04-24 06:55:43,655 INFO sqlalchemy.engine.Engine SELECT sql FROM  (SELECT * FROM sqlite_master UNION ALL   SELECT * FROM sqlite_temp_master) WHERE name = ? AND type = 'table'\n",
      "2023-04-24 06:55:43,655 INFO sqlalchemy.engine.Engine [raw sql] ('my_table',)\n",
      "2023-04-24 06:55:43,656 INFO sqlalchemy.engine.Engine BEGIN (implicit)\n",
      "2023-04-24 06:55:43,657 INFO sqlalchemy.engine.Engine \n",
      "CREATE TABLE my_table_prev (\n",
      "\tcolumn1 VARCHAR NOT NULL, \n",
      "\tcolumn2 INTEGER, \n",
      "\tPRIMARY KEY (column1)\n",
      ")\n",
      "\n",
      "\n",
      "2023-04-24 06:55:43,658 INFO sqlalchemy.engine.Engine [no key 0.00052s] ()\n",
      "2023-04-24 06:55:43,666 INFO sqlalchemy.engine.Engine COMMIT\n",
      "2023-04-24 06:55:43,667 INFO sqlalchemy.engine.Engine INSERT INTO my_table_prev SELECT * FROM my_table\n",
      "2023-04-24 06:55:43,668 INFO sqlalchemy.engine.Engine [raw sql] ()\n",
      "2023-04-24 06:55:43,669 INFO sqlalchemy.engine.Engine COMMIT\n"
     ]
    },
    {
     "name": "stderr",
     "output_type": "stream",
     "text": [
      "C:\\Users\\david\\PycharmProjects\\FiMongoDB\\services\\database.py:44: SAWarning: Table 'my_table' already exists within the given MetaData - not copying.\n",
      "  new_table = original_table.tometadata(metadata)\n"
     ]
    }
   ],
   "source": [
    "Database.copy_table(MyTable)"
   ],
   "metadata": {
    "collapsed": false
   }
  },
  {
   "cell_type": "code",
   "execution_count": 11,
   "outputs": [
    {
     "name": "stdout",
     "output_type": "stream",
     "text": [
      "['asset_id', 'currency_id', 'equities_closing_prices', 'exchange_id', 'factor_id', 'factors', 'frequency_id', 'fundamentals', 'my_table', 'my_table_prev', 'source_id', 'ticker_id', 'tickers']\n"
     ]
    }
   ],
   "source": [
    "inspector = inspect(engine)\n",
    "print(inspector.get_table_names())"
   ],
   "metadata": {
    "collapsed": false
   }
  },
  {
   "cell_type": "code",
   "execution_count": 12,
   "outputs": [
    {
     "name": "stdout",
     "output_type": "stream",
     "text": [
      "2023-04-24 06:55:56,267 INFO sqlalchemy.engine.Engine BEGIN (implicit)\n",
      "2023-04-24 06:55:56,269 INFO sqlalchemy.engine.Engine PRAGMA main.table_info(\"SELECT * FROM my_table\")\n",
      "2023-04-24 06:55:56,269 INFO sqlalchemy.engine.Engine [raw sql] ()\n",
      "2023-04-24 06:55:56,270 INFO sqlalchemy.engine.Engine PRAGMA temp.table_info(\"SELECT * FROM my_table\")\n",
      "2023-04-24 06:55:56,271 INFO sqlalchemy.engine.Engine [raw sql] ()\n",
      "2023-04-24 06:55:56,271 INFO sqlalchemy.engine.Engine SELECT * FROM my_table\n",
      "2023-04-24 06:55:56,272 INFO sqlalchemy.engine.Engine [raw sql] ()\n",
      "2023-04-24 06:55:56,273 INFO sqlalchemy.engine.Engine COMMIT\n"
     ]
    },
    {
     "data": {
      "text/plain": "  column1  column2\n0       a        3\n1       b        2\n2       c        9",
      "text/html": "<div>\n<style scoped>\n    .dataframe tbody tr th:only-of-type {\n        vertical-align: middle;\n    }\n\n    .dataframe tbody tr th {\n        vertical-align: top;\n    }\n\n    .dataframe thead th {\n        text-align: right;\n    }\n</style>\n<table border=\"1\" class=\"dataframe\">\n  <thead>\n    <tr style=\"text-align: right;\">\n      <th></th>\n      <th>column1</th>\n      <th>column2</th>\n    </tr>\n  </thead>\n  <tbody>\n    <tr>\n      <th>0</th>\n      <td>a</td>\n      <td>3</td>\n    </tr>\n    <tr>\n      <th>1</th>\n      <td>b</td>\n      <td>2</td>\n    </tr>\n    <tr>\n      <th>2</th>\n      <td>c</td>\n      <td>9</td>\n    </tr>\n  </tbody>\n</table>\n</div>"
     },
     "execution_count": 12,
     "metadata": {},
     "output_type": "execute_result"
    }
   ],
   "source": [
    "Database.query(\"SELECT * FROM my_table\")"
   ],
   "metadata": {
    "collapsed": false
   }
  },
  {
   "cell_type": "code",
   "execution_count": 13,
   "outputs": [
    {
     "name": "stdout",
     "output_type": "stream",
     "text": [
      "2023-04-24 06:55:57,427 INFO sqlalchemy.engine.Engine BEGIN (implicit)\n",
      "2023-04-24 06:55:57,429 INFO sqlalchemy.engine.Engine PRAGMA main.table_info(\"SELECT * FROM my_table_prev\")\n",
      "2023-04-24 06:55:57,431 INFO sqlalchemy.engine.Engine [raw sql] ()\n",
      "2023-04-24 06:55:57,433 INFO sqlalchemy.engine.Engine PRAGMA temp.table_info(\"SELECT * FROM my_table_prev\")\n",
      "2023-04-24 06:55:57,434 INFO sqlalchemy.engine.Engine [raw sql] ()\n",
      "2023-04-24 06:55:57,436 INFO sqlalchemy.engine.Engine SELECT * FROM my_table_prev\n",
      "2023-04-24 06:55:57,436 INFO sqlalchemy.engine.Engine [raw sql] ()\n",
      "2023-04-24 06:55:57,438 INFO sqlalchemy.engine.Engine COMMIT\n"
     ]
    },
    {
     "data": {
      "text/plain": "  column1  column2\n0       a        3\n1       b        2\n2       c        9",
      "text/html": "<div>\n<style scoped>\n    .dataframe tbody tr th:only-of-type {\n        vertical-align: middle;\n    }\n\n    .dataframe tbody tr th {\n        vertical-align: top;\n    }\n\n    .dataframe thead th {\n        text-align: right;\n    }\n</style>\n<table border=\"1\" class=\"dataframe\">\n  <thead>\n    <tr style=\"text-align: right;\">\n      <th></th>\n      <th>column1</th>\n      <th>column2</th>\n    </tr>\n  </thead>\n  <tbody>\n    <tr>\n      <th>0</th>\n      <td>a</td>\n      <td>3</td>\n    </tr>\n    <tr>\n      <th>1</th>\n      <td>b</td>\n      <td>2</td>\n    </tr>\n    <tr>\n      <th>2</th>\n      <td>c</td>\n      <td>9</td>\n    </tr>\n  </tbody>\n</table>\n</div>"
     },
     "execution_count": 13,
     "metadata": {},
     "output_type": "execute_result"
    }
   ],
   "source": [
    "Database.query(\"SELECT * FROM my_table_prev\")"
   ],
   "metadata": {
    "collapsed": false
   }
  },
  {
   "cell_type": "code",
   "execution_count": 18,
   "outputs": [
    {
     "name": "stdout",
     "output_type": "stream",
     "text": [
      "2023-04-24 06:56:59,247 INFO sqlalchemy.engine.Engine DROP TABLE my_table\n",
      "2023-04-24 06:56:59,247 INFO sqlalchemy.engine.Engine [raw sql] ()\n",
      "2023-04-24 06:56:59,257 INFO sqlalchemy.engine.Engine COMMIT\n"
     ]
    },
    {
     "data": {
      "text/plain": "<sqlalchemy.engine.cursor.LegacyCursorResult at 0x1da192f6380>"
     },
     "execution_count": 18,
     "metadata": {},
     "output_type": "execute_result"
    }
   ],
   "source": [
    "Database.engine.execute(\"DROP TABLE my_table\")"
   ],
   "metadata": {
    "collapsed": false
   }
  },
  {
   "cell_type": "code",
   "execution_count": 19,
   "outputs": [
    {
     "name": "stdout",
     "output_type": "stream",
     "text": [
      "2023-04-24 06:56:59,663 INFO sqlalchemy.engine.Engine DROP TABLE my_table_prev\n",
      "2023-04-24 06:56:59,664 INFO sqlalchemy.engine.Engine [raw sql] ()\n",
      "2023-04-24 06:56:59,672 INFO sqlalchemy.engine.Engine COMMIT\n"
     ]
    },
    {
     "data": {
      "text/plain": "<sqlalchemy.engine.cursor.LegacyCursorResult at 0x1da192f6170>"
     },
     "execution_count": 19,
     "metadata": {},
     "output_type": "execute_result"
    }
   ],
   "source": [
    "Database.engine.execute(\"DROP TABLE my_table_prev\")"
   ],
   "metadata": {
    "collapsed": false
   }
  },
  {
   "cell_type": "code",
   "execution_count": 20,
   "outputs": [],
   "source": [
    "Database.disconnect()"
   ],
   "metadata": {
    "collapsed": false
   }
  },
  {
   "cell_type": "code",
   "execution_count": 21,
   "outputs": [],
   "source": [
    "Database.engine.dispose()"
   ],
   "metadata": {
    "collapsed": false
   }
  },
  {
   "cell_type": "code",
   "execution_count": null,
   "outputs": [],
   "source": [],
   "metadata": {
    "collapsed": false
   }
  }
 ],
 "metadata": {
  "kernelspec": {
   "display_name": "Python 3",
   "language": "python",
   "name": "python3"
  },
  "language_info": {
   "codemirror_mode": {
    "name": "ipython",
    "version": 2
   },
   "file_extension": ".py",
   "mimetype": "text/x-python",
   "name": "python",
   "nbconvert_exporter": "python",
   "pygments_lexer": "ipython2",
   "version": "2.7.6"
  }
 },
 "nbformat": 4,
 "nbformat_minor": 0
}
