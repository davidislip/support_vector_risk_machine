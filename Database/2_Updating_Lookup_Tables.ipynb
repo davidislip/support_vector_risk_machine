{
 "cells": [
  {
   "cell_type": "code",
   "execution_count": 1,
   "outputs": [],
   "source": [
    "from services.database import Database\n",
    "from sqlalchemy import inspect\n",
    "from services.database_init import *\n",
    "\n",
    "Database.initialize()"
   ],
   "metadata": {
    "collapsed": false
   }
  },
  {
   "cell_type": "code",
   "execution_count": 2,
   "outputs": [
    {
     "name": "stdout",
     "output_type": "stream",
     "text": [
      "['asset_id', 'currency_id', 'equities_series', 'equity_index_id', 'exchange_id', 'factor_id', 'factors', 'frequency_id', 'fundamentals', 'metric_id', 'source_id', 'ticker_id', 'ticker_index_membership', 'tiingo_tickers']\n"
     ]
    }
   ],
   "source": [
    "inspector = inspect(Database.engine)\n",
    "print(inspector.get_table_names())"
   ],
   "metadata": {
    "collapsed": false
   }
  },
  {
   "cell_type": "code",
   "execution_count": 3,
   "metadata": {
    "collapsed": true
   },
   "outputs": [],
   "source": [
    "#create source table\n",
    "create_source_table(Database)"
   ]
  },
  {
   "cell_type": "code",
   "execution_count": 2,
   "outputs": [],
   "source": [
    "#create ticker table\n",
    "create_ticker_id(Database)"
   ],
   "metadata": {
    "collapsed": false
   }
  },
  {
   "cell_type": "code",
   "execution_count": null,
   "outputs": [],
   "source": [
    "fill_tickers_from_tiingo(Database)"
   ],
   "metadata": {
    "collapsed": false
   }
  },
  {
   "cell_type": "code",
   "execution_count": 3,
   "outputs": [],
   "source": [
    "insert_gfd_ticker_index_membership(Database)"
   ],
   "metadata": {
    "collapsed": false
   }
  },
  {
   "cell_type": "code",
   "execution_count": 6,
   "outputs": [
    {
     "name": "stdout",
     "output_type": "stream",
     "text": [
      "2023-04-25 12:52:49,065 INFO sqlalchemy.engine.Engine BEGIN (implicit)\n",
      "2023-04-25 12:52:49,065 INFO sqlalchemy.engine.Engine PRAGMA main.table_info(\"SELECT * FROM exchange_id\")\n",
      "2023-04-25 12:52:49,066 INFO sqlalchemy.engine.Engine [raw sql] ()\n",
      "2023-04-25 12:52:49,067 INFO sqlalchemy.engine.Engine PRAGMA temp.table_info(\"SELECT * FROM exchange_id\")\n",
      "2023-04-25 12:52:49,068 INFO sqlalchemy.engine.Engine [raw sql] ()\n",
      "2023-04-25 12:52:49,068 INFO sqlalchemy.engine.Engine SELECT * FROM exchange_id\n",
      "2023-04-25 12:52:49,069 INFO sqlalchemy.engine.Engine [raw sql] ()\n",
      "2023-04-25 12:52:49,071 INFO sqlalchemy.engine.Engine COMMIT\n",
      "2023-04-25 12:52:49,143 INFO sqlalchemy.engine.Engine PRAGMA main.table_xinfo(\"exchange_id\")\n",
      "2023-04-25 12:52:49,144 INFO sqlalchemy.engine.Engine [raw sql] ()\n",
      "2023-04-25 12:52:49,145 INFO sqlalchemy.engine.Engine SELECT sql FROM  (SELECT * FROM sqlite_master UNION ALL   SELECT * FROM sqlite_temp_master) WHERE name = ? AND type = 'table'\n",
      "2023-04-25 12:52:49,145 INFO sqlalchemy.engine.Engine [raw sql] ('exchange_id',)\n",
      "2023-04-25 12:52:49,147 INFO sqlalchemy.engine.Engine PRAGMA main.foreign_key_list(\"exchange_id\")\n",
      "2023-04-25 12:52:49,147 INFO sqlalchemy.engine.Engine [raw sql] ()\n",
      "2023-04-25 12:52:49,147 INFO sqlalchemy.engine.Engine PRAGMA temp.foreign_key_list(\"exchange_id\")\n",
      "2023-04-25 12:52:49,148 INFO sqlalchemy.engine.Engine [raw sql] ()\n",
      "2023-04-25 12:52:49,149 INFO sqlalchemy.engine.Engine SELECT sql FROM  (SELECT * FROM sqlite_master UNION ALL   SELECT * FROM sqlite_temp_master) WHERE name = ? AND type = 'table'\n",
      "2023-04-25 12:52:49,149 INFO sqlalchemy.engine.Engine [raw sql] ('exchange_id',)\n",
      "2023-04-25 12:52:49,150 INFO sqlalchemy.engine.Engine PRAGMA main.index_list(\"exchange_id\")\n",
      "2023-04-25 12:52:49,150 INFO sqlalchemy.engine.Engine [raw sql] ()\n",
      "2023-04-25 12:52:49,151 INFO sqlalchemy.engine.Engine PRAGMA main.index_list(\"exchange_id\")\n",
      "2023-04-25 12:52:49,151 INFO sqlalchemy.engine.Engine [raw sql] ()\n",
      "2023-04-25 12:52:49,152 INFO sqlalchemy.engine.Engine PRAGMA main.index_info(\"sqlite_autoindex_exchange_id_1\")\n",
      "2023-04-25 12:52:49,152 INFO sqlalchemy.engine.Engine [raw sql] ()\n",
      "2023-04-25 12:52:49,153 INFO sqlalchemy.engine.Engine SELECT sql FROM  (SELECT * FROM sqlite_master UNION ALL   SELECT * FROM sqlite_temp_master) WHERE name = ? AND type = 'table'\n",
      "2023-04-25 12:52:49,154 INFO sqlalchemy.engine.Engine [raw sql] ('exchange_id',)\n"
     ]
    }
   ],
   "source": [
    "# exchange id\n",
    "# pull in the exchanges from the tiingo file\n",
    "create_exchange_id(Database)"
   ],
   "metadata": {
    "collapsed": false
   }
  },
  {
   "cell_type": "code",
   "execution_count": 7,
   "outputs": [
    {
     "name": "stdout",
     "output_type": "stream",
     "text": [
      "2023-04-25 12:52:49,675 INFO sqlalchemy.engine.Engine BEGIN (implicit)\n",
      "2023-04-25 12:52:49,676 INFO sqlalchemy.engine.Engine PRAGMA main.table_info(\"SELECT * FROM asset_id\")\n",
      "2023-04-25 12:52:49,677 INFO sqlalchemy.engine.Engine [raw sql] ()\n",
      "2023-04-25 12:52:49,678 INFO sqlalchemy.engine.Engine PRAGMA temp.table_info(\"SELECT * FROM asset_id\")\n",
      "2023-04-25 12:52:49,678 INFO sqlalchemy.engine.Engine [raw sql] ()\n",
      "2023-04-25 12:52:49,679 INFO sqlalchemy.engine.Engine SELECT * FROM asset_id\n",
      "2023-04-25 12:52:49,679 INFO sqlalchemy.engine.Engine [raw sql] ()\n",
      "2023-04-25 12:52:49,681 INFO sqlalchemy.engine.Engine COMMIT\n",
      "2023-04-25 12:52:49,758 INFO sqlalchemy.engine.Engine PRAGMA main.table_xinfo(\"asset_id\")\n",
      "2023-04-25 12:52:49,758 INFO sqlalchemy.engine.Engine [raw sql] ()\n",
      "2023-04-25 12:52:49,759 INFO sqlalchemy.engine.Engine SELECT sql FROM  (SELECT * FROM sqlite_master UNION ALL   SELECT * FROM sqlite_temp_master) WHERE name = ? AND type = 'table'\n",
      "2023-04-25 12:52:49,760 INFO sqlalchemy.engine.Engine [raw sql] ('asset_id',)\n",
      "2023-04-25 12:52:49,761 INFO sqlalchemy.engine.Engine PRAGMA main.foreign_key_list(\"asset_id\")\n",
      "2023-04-25 12:52:49,761 INFO sqlalchemy.engine.Engine [raw sql] ()\n",
      "2023-04-25 12:52:49,762 INFO sqlalchemy.engine.Engine PRAGMA temp.foreign_key_list(\"asset_id\")\n",
      "2023-04-25 12:52:49,763 INFO sqlalchemy.engine.Engine [raw sql] ()\n",
      "2023-04-25 12:52:49,763 INFO sqlalchemy.engine.Engine SELECT sql FROM  (SELECT * FROM sqlite_master UNION ALL   SELECT * FROM sqlite_temp_master) WHERE name = ? AND type = 'table'\n",
      "2023-04-25 12:52:49,764 INFO sqlalchemy.engine.Engine [raw sql] ('asset_id',)\n",
      "2023-04-25 12:52:49,765 INFO sqlalchemy.engine.Engine PRAGMA main.index_list(\"asset_id\")\n",
      "2023-04-25 12:52:49,765 INFO sqlalchemy.engine.Engine [raw sql] ()\n",
      "2023-04-25 12:52:49,766 INFO sqlalchemy.engine.Engine PRAGMA main.index_list(\"asset_id\")\n",
      "2023-04-25 12:52:49,767 INFO sqlalchemy.engine.Engine [raw sql] ()\n",
      "2023-04-25 12:52:49,767 INFO sqlalchemy.engine.Engine PRAGMA main.index_info(\"sqlite_autoindex_asset_id_1\")\n",
      "2023-04-25 12:52:49,768 INFO sqlalchemy.engine.Engine [raw sql] ()\n",
      "2023-04-25 12:52:49,768 INFO sqlalchemy.engine.Engine SELECT sql FROM  (SELECT * FROM sqlite_master UNION ALL   SELECT * FROM sqlite_temp_master) WHERE name = ? AND type = 'table'\n",
      "2023-04-25 12:52:49,769 INFO sqlalchemy.engine.Engine [raw sql] ('asset_id',)\n"
     ]
    }
   ],
   "source": [
    "#asset id\n",
    "# pull in the asset id from the tiingo file\n",
    "create_asset_id(Database)"
   ],
   "metadata": {
    "collapsed": false
   }
  },
  {
   "cell_type": "code",
   "execution_count": 8,
   "outputs": [
    {
     "name": "stdout",
     "output_type": "stream",
     "text": [
      "2023-04-25 12:52:50,191 INFO sqlalchemy.engine.Engine BEGIN (implicit)\n",
      "2023-04-25 12:52:50,192 INFO sqlalchemy.engine.Engine PRAGMA main.table_info(\"SELECT * FROM currency_id\")\n",
      "2023-04-25 12:52:50,192 INFO sqlalchemy.engine.Engine [raw sql] ()\n",
      "2023-04-25 12:52:50,193 INFO sqlalchemy.engine.Engine PRAGMA temp.table_info(\"SELECT * FROM currency_id\")\n",
      "2023-04-25 12:52:50,194 INFO sqlalchemy.engine.Engine [raw sql] ()\n",
      "2023-04-25 12:52:50,194 INFO sqlalchemy.engine.Engine SELECT * FROM currency_id\n",
      "2023-04-25 12:52:50,195 INFO sqlalchemy.engine.Engine [raw sql] ()\n",
      "2023-04-25 12:52:50,196 INFO sqlalchemy.engine.Engine COMMIT\n",
      "2023-04-25 12:52:50,273 INFO sqlalchemy.engine.Engine PRAGMA main.table_xinfo(\"currency_id\")\n",
      "2023-04-25 12:52:50,273 INFO sqlalchemy.engine.Engine [raw sql] ()\n",
      "2023-04-25 12:52:50,274 INFO sqlalchemy.engine.Engine SELECT sql FROM  (SELECT * FROM sqlite_master UNION ALL   SELECT * FROM sqlite_temp_master) WHERE name = ? AND type = 'table'\n",
      "2023-04-25 12:52:50,275 INFO sqlalchemy.engine.Engine [raw sql] ('currency_id',)\n",
      "2023-04-25 12:52:50,275 INFO sqlalchemy.engine.Engine PRAGMA main.foreign_key_list(\"currency_id\")\n",
      "2023-04-25 12:52:50,276 INFO sqlalchemy.engine.Engine [raw sql] ()\n",
      "2023-04-25 12:52:50,276 INFO sqlalchemy.engine.Engine PRAGMA temp.foreign_key_list(\"currency_id\")\n",
      "2023-04-25 12:52:50,277 INFO sqlalchemy.engine.Engine [raw sql] ()\n",
      "2023-04-25 12:52:50,277 INFO sqlalchemy.engine.Engine SELECT sql FROM  (SELECT * FROM sqlite_master UNION ALL   SELECT * FROM sqlite_temp_master) WHERE name = ? AND type = 'table'\n",
      "2023-04-25 12:52:50,278 INFO sqlalchemy.engine.Engine [raw sql] ('currency_id',)\n",
      "2023-04-25 12:52:50,279 INFO sqlalchemy.engine.Engine PRAGMA main.index_list(\"currency_id\")\n",
      "2023-04-25 12:52:50,280 INFO sqlalchemy.engine.Engine [raw sql] ()\n",
      "2023-04-25 12:52:50,280 INFO sqlalchemy.engine.Engine PRAGMA main.index_list(\"currency_id\")\n",
      "2023-04-25 12:52:50,281 INFO sqlalchemy.engine.Engine [raw sql] ()\n",
      "2023-04-25 12:52:50,282 INFO sqlalchemy.engine.Engine PRAGMA main.index_info(\"sqlite_autoindex_currency_id_1\")\n",
      "2023-04-25 12:52:50,282 INFO sqlalchemy.engine.Engine [raw sql] ()\n",
      "2023-04-25 12:52:50,283 INFO sqlalchemy.engine.Engine SELECT sql FROM  (SELECT * FROM sqlite_master UNION ALL   SELECT * FROM sqlite_temp_master) WHERE name = ? AND type = 'table'\n",
      "2023-04-25 12:52:50,284 INFO sqlalchemy.engine.Engine [raw sql] ('currency_id',)\n"
     ]
    }
   ],
   "source": [
    "#currency_id\n",
    "# pull in the currency id from the tiingo file\n",
    "create_currency_id(Database)"
   ],
   "metadata": {
    "collapsed": false
   }
  },
  {
   "cell_type": "code",
   "execution_count": 9,
   "outputs": [
    {
     "name": "stdout",
     "output_type": "stream",
     "text": [
      "2023-04-25 12:52:50,680 INFO sqlalchemy.engine.Engine BEGIN (implicit)\n",
      "2023-04-25 12:52:50,681 INFO sqlalchemy.engine.Engine PRAGMA main.table_info(\"SELECT * FROM frequency_id\")\n",
      "2023-04-25 12:52:50,682 INFO sqlalchemy.engine.Engine [raw sql] ()\n",
      "2023-04-25 12:52:50,684 INFO sqlalchemy.engine.Engine PRAGMA temp.table_info(\"SELECT * FROM frequency_id\")\n",
      "2023-04-25 12:52:50,685 INFO sqlalchemy.engine.Engine [raw sql] ()\n",
      "2023-04-25 12:52:50,686 INFO sqlalchemy.engine.Engine SELECT * FROM frequency_id\n",
      "2023-04-25 12:52:50,686 INFO sqlalchemy.engine.Engine [raw sql] ()\n",
      "2023-04-25 12:52:50,688 INFO sqlalchemy.engine.Engine COMMIT\n",
      "2023-04-25 12:52:50,690 INFO sqlalchemy.engine.Engine PRAGMA main.table_xinfo(\"frequency_id\")\n",
      "2023-04-25 12:52:50,692 INFO sqlalchemy.engine.Engine [raw sql] ()\n",
      "2023-04-25 12:52:50,693 INFO sqlalchemy.engine.Engine SELECT sql FROM  (SELECT * FROM sqlite_master UNION ALL   SELECT * FROM sqlite_temp_master) WHERE name = ? AND type = 'table'\n",
      "2023-04-25 12:52:50,693 INFO sqlalchemy.engine.Engine [raw sql] ('frequency_id',)\n",
      "2023-04-25 12:52:50,695 INFO sqlalchemy.engine.Engine PRAGMA main.foreign_key_list(\"frequency_id\")\n",
      "2023-04-25 12:52:50,696 INFO sqlalchemy.engine.Engine [raw sql] ()\n",
      "2023-04-25 12:52:50,696 INFO sqlalchemy.engine.Engine PRAGMA temp.foreign_key_list(\"frequency_id\")\n",
      "2023-04-25 12:52:50,697 INFO sqlalchemy.engine.Engine [raw sql] ()\n",
      "2023-04-25 12:52:50,697 INFO sqlalchemy.engine.Engine SELECT sql FROM  (SELECT * FROM sqlite_master UNION ALL   SELECT * FROM sqlite_temp_master) WHERE name = ? AND type = 'table'\n",
      "2023-04-25 12:52:50,698 INFO sqlalchemy.engine.Engine [raw sql] ('frequency_id',)\n",
      "2023-04-25 12:52:50,699 INFO sqlalchemy.engine.Engine PRAGMA main.index_list(\"frequency_id\")\n",
      "2023-04-25 12:52:50,699 INFO sqlalchemy.engine.Engine [raw sql] ()\n",
      "2023-04-25 12:52:50,700 INFO sqlalchemy.engine.Engine PRAGMA main.index_list(\"frequency_id\")\n",
      "2023-04-25 12:52:50,700 INFO sqlalchemy.engine.Engine [raw sql] ()\n",
      "2023-04-25 12:52:50,701 INFO sqlalchemy.engine.Engine PRAGMA main.index_info(\"sqlite_autoindex_frequency_id_1\")\n",
      "2023-04-25 12:52:50,702 INFO sqlalchemy.engine.Engine [raw sql] ()\n",
      "2023-04-25 12:52:50,702 INFO sqlalchemy.engine.Engine SELECT sql FROM  (SELECT * FROM sqlite_master UNION ALL   SELECT * FROM sqlite_temp_master) WHERE name = ? AND type = 'table'\n",
      "2023-04-25 12:52:50,703 INFO sqlalchemy.engine.Engine [raw sql] ('frequency_id',)\n"
     ]
    }
   ],
   "source": [
    "# frequency id\n",
    "create_frequencyid(Database)"
   ],
   "metadata": {
    "collapsed": false
   }
  },
  {
   "cell_type": "code",
   "execution_count": 10,
   "outputs": [
    {
     "name": "stdout",
     "output_type": "stream",
     "text": [
      "2023-04-25 12:52:51,824 INFO sqlalchemy.engine.Engine BEGIN (implicit)\n",
      "2023-04-25 12:52:51,826 INFO sqlalchemy.engine.Engine PRAGMA main.table_info(\"SELECT * FROM equity_index_id\")\n",
      "2023-04-25 12:52:51,827 INFO sqlalchemy.engine.Engine [raw sql] ()\n",
      "2023-04-25 12:52:51,828 INFO sqlalchemy.engine.Engine PRAGMA temp.table_info(\"SELECT * FROM equity_index_id\")\n",
      "2023-04-25 12:52:51,829 INFO sqlalchemy.engine.Engine [raw sql] ()\n",
      "2023-04-25 12:52:51,829 INFO sqlalchemy.engine.Engine SELECT * FROM equity_index_id\n",
      "2023-04-25 12:52:51,830 INFO sqlalchemy.engine.Engine [raw sql] ()\n",
      "2023-04-25 12:52:51,831 INFO sqlalchemy.engine.Engine COMMIT\n",
      "2023-04-25 12:52:51,833 INFO sqlalchemy.engine.Engine PRAGMA main.table_xinfo(\"equity_index_id\")\n",
      "2023-04-25 12:52:51,834 INFO sqlalchemy.engine.Engine [raw sql] ()\n",
      "2023-04-25 12:52:51,835 INFO sqlalchemy.engine.Engine SELECT sql FROM  (SELECT * FROM sqlite_master UNION ALL   SELECT * FROM sqlite_temp_master) WHERE name = ? AND type = 'table'\n",
      "2023-04-25 12:52:51,835 INFO sqlalchemy.engine.Engine [raw sql] ('equity_index_id',)\n",
      "2023-04-25 12:52:51,836 INFO sqlalchemy.engine.Engine PRAGMA main.foreign_key_list(\"equity_index_id\")\n",
      "2023-04-25 12:52:51,837 INFO sqlalchemy.engine.Engine [raw sql] ()\n",
      "2023-04-25 12:52:51,837 INFO sqlalchemy.engine.Engine PRAGMA temp.foreign_key_list(\"equity_index_id\")\n",
      "2023-04-25 12:52:51,838 INFO sqlalchemy.engine.Engine [raw sql] ()\n",
      "2023-04-25 12:52:51,839 INFO sqlalchemy.engine.Engine SELECT sql FROM  (SELECT * FROM sqlite_master UNION ALL   SELECT * FROM sqlite_temp_master) WHERE name = ? AND type = 'table'\n",
      "2023-04-25 12:52:51,839 INFO sqlalchemy.engine.Engine [raw sql] ('equity_index_id',)\n",
      "2023-04-25 12:52:51,840 INFO sqlalchemy.engine.Engine PRAGMA main.index_list(\"equity_index_id\")\n",
      "2023-04-25 12:52:51,840 INFO sqlalchemy.engine.Engine [raw sql] ()\n",
      "2023-04-25 12:52:51,841 INFO sqlalchemy.engine.Engine PRAGMA main.index_list(\"equity_index_id\")\n",
      "2023-04-25 12:52:51,841 INFO sqlalchemy.engine.Engine [raw sql] ()\n",
      "2023-04-25 12:52:51,842 INFO sqlalchemy.engine.Engine PRAGMA main.index_info(\"sqlite_autoindex_equity_index_id_1\")\n",
      "2023-04-25 12:52:51,842 INFO sqlalchemy.engine.Engine [raw sql] ()\n",
      "2023-04-25 12:52:51,843 INFO sqlalchemy.engine.Engine SELECT sql FROM  (SELECT * FROM sqlite_master UNION ALL   SELECT * FROM sqlite_temp_master) WHERE name = ? AND type = 'table'\n",
      "2023-04-25 12:52:51,843 INFO sqlalchemy.engine.Engine [raw sql] ('equity_index_id',)\n"
     ]
    }
   ],
   "source": [
    "create_equity_index_id(Database)"
   ],
   "metadata": {
    "collapsed": false
   }
  },
  {
   "cell_type": "code",
   "execution_count": null,
   "outputs": [],
   "source": [],
   "metadata": {
    "collapsed": false
   }
  }
 ],
 "metadata": {
  "kernelspec": {
   "display_name": "Python 3",
   "language": "python",
   "name": "python3"
  },
  "language_info": {
   "codemirror_mode": {
    "name": "ipython",
    "version": 2
   },
   "file_extension": ".py",
   "mimetype": "text/x-python",
   "name": "python",
   "nbconvert_exporter": "python",
   "pygments_lexer": "ipython2",
   "version": "2.7.6"
  }
 },
 "nbformat": 4,
 "nbformat_minor": 0
}
