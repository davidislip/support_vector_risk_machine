{
 "cells": [
  {
   "cell_type": "markdown",
   "source": [
    "### Pulling and Storing Fundamentals Data\n",
    "To set up WRDS in python run the following:\n",
    "\n",
    "    import wrds\n",
    "    db = wrds.Connection(wrds_username='islipdav')\n",
    "    db.create_pgpass_file()\n",
    "\n",
    "it will ask you for your username and password and will set up your password file on your local machine"
   ],
   "metadata": {
    "collapsed": false
   }
  },
  {
   "cell_type": "code",
   "execution_count": 1,
   "outputs": [],
   "source": [
    "from services.database import Database\n",
    "from services.dataloading import *\n",
    "Database.initialize()\n",
    "ticker_info = Database.query(\"SELECT * from ticker_index_membership \"\n",
    "                             \"where equity_index = 'S&P500' and \"\n",
    "                             \"startDate <> '1900-01-01 00:00:00.000000'\")\n",
    "\n",
    "ticker_info['ticker_currency'] = ticker_info.ticker + \"-\" + ticker_info.priceCurrency"
   ],
   "metadata": {
    "collapsed": false
   }
  },
  {
   "cell_type": "code",
   "execution_count": 3,
   "outputs": [
    {
     "data": {
      "text/plain": "False"
     },
     "execution_count": 3,
     "metadata": {},
     "output_type": "execute_result"
    }
   ],
   "source": [
    "len(ticker_info.ticker.unique()) == len(ticker_info)"
   ],
   "metadata": {
    "collapsed": false
   }
  },
  {
   "cell_type": "code",
   "execution_count": 150,
   "outputs": [
    {
     "name": "stdout",
     "output_type": "stream",
     "text": [
      "Loading library list...\n",
      "Done\n"
     ]
    }
   ],
   "source": [
    "raw_data = get_raw_wrds_ratios('islipdav', ticker_info)"
   ],
   "metadata": {
    "collapsed": false
   }
  },
  {
   "cell_type": "code",
   "execution_count": 187,
   "outputs": [],
   "source": [
    "de_duped_df_out = process_wrds_ratio_data(raw_data, ticker_info)"
   ],
   "metadata": {
    "collapsed": false
   }
  },
  {
   "cell_type": "code",
   "execution_count": 168,
   "outputs": [],
   "source": [
    "#add the metrics to the id table\n",
    "add_to_metric_id(Database, de_duped_df_out.metric.unique(), desc = 'see WRDS documentation for more details')"
   ],
   "metadata": {
    "collapsed": false
   }
  },
  {
   "cell_type": "code",
   "execution_count": 195,
   "outputs": [],
   "source": [
    "#add the data to the fundamentals data\n",
    "wrds_funda_merged = merge_fundamentals_df(Database, de_duped_df_out)\n",
    "add_dfs_to_db('fundamentals', Database, [wrds_funda_merged], indices_of_primary_key=[0])"
   ],
   "metadata": {
    "collapsed": false
   }
  },
  {
   "cell_type": "markdown",
   "source": [],
   "metadata": {
    "collapsed": false
   }
  },
  {
   "cell_type": "markdown",
   "source": [
    "### ML Factor Fundamentals Dataset"
   ],
   "metadata": {
    "collapsed": false
   }
  },
  {
   "cell_type": "code",
   "execution_count": 20,
   "outputs": [],
   "source": [
    "def process_ml_factor_fundamentals():\n",
    "    ml_factor = pd.read_csv(\"local data/mlfactor/data_ml.csv\")\n",
    "    ml_factor['ticker'] = 'MLBook' + ml_factor.stock_id.astype('string')\n",
    "    ml_factor = ml_factor.drop(['Unnamed: 0', 'stock_id'], axis = 1)\n",
    "    ml_factor_long = ml_factor.melt( id_vars = ['ticker', 'date'])\n",
    "    ml_factor_long['frequency'] = 'M'\n",
    "    ml_factor_long['source'] = 'mlfactor'\n",
    "    ml_factor_long = ml_factor_long.rename(columns={\"variable\": \"metric\"})\n",
    "\n",
    "    group_cols = ['ticker', 'date', 'metric', 'frequency', 'source']\n",
    "    de_dup_df = replace_duplicates_with_mean(group_cols, ml_factor_long)\n",
    "\n",
    "    de_dup_df['priceCurrency'] = 'USD'\n",
    "    de_dup_df['ticker_currency'] = de_dup_df.ticker + \"-\" + de_dup_df.priceCurrency\n",
    "    de_dup_df.date = pd.to_datetime(de_dup_df.date, format=\"%Y-%m-%d\")\n",
    "\n",
    "    return de_dup_df"
   ],
   "metadata": {
    "collapsed": false
   }
  },
  {
   "cell_type": "code",
   "execution_count": 23,
   "outputs": [
    {
     "data": {
      "text/plain": "              ticker       date        metric frequency    source  value  \\\n0           MLBook13 2006-12-31  Advt_12M_Usd         M  mlfactor  0.250   \n1           MLBook13 2007-01-31  Advt_12M_Usd         M  mlfactor  0.250   \n2           MLBook13 2007-02-28  Advt_12M_Usd         M  mlfactor  0.260   \n3           MLBook17 2015-03-31  Advt_12M_Usd         M  mlfactor  0.730   \n4           MLBook17 2015-04-30  Advt_12M_Usd         M  mlfactor  0.720   \n...              ...        ...           ...       ...       ...    ...   \n27487855  MLBook1205 2004-05-31      R12M_Usd         M  mlfactor  0.112   \n27487856  MLBook1205 2004-07-31      R12M_Usd         M  mlfactor  0.122   \n27487857  MLBook1205 2004-08-31      R12M_Usd         M  mlfactor  0.091   \n27487858  MLBook1205 2004-09-30      R12M_Usd         M  mlfactor  0.040   \n27487859   MLBook292 2000-04-30      R12M_Usd         M  mlfactor -0.544   \n\n         priceCurrency ticker_currency  \n0                  USD    MLBook13-USD  \n1                  USD    MLBook13-USD  \n2                  USD    MLBook13-USD  \n3                  USD    MLBook17-USD  \n4                  USD    MLBook17-USD  \n...                ...             ...  \n27487855           USD  MLBook1205-USD  \n27487856           USD  MLBook1205-USD  \n27487857           USD  MLBook1205-USD  \n27487858           USD  MLBook1205-USD  \n27487859           USD   MLBook292-USD  \n\n[27487860 rows x 8 columns]",
      "text/html": "<div>\n<style scoped>\n    .dataframe tbody tr th:only-of-type {\n        vertical-align: middle;\n    }\n\n    .dataframe tbody tr th {\n        vertical-align: top;\n    }\n\n    .dataframe thead th {\n        text-align: right;\n    }\n</style>\n<table border=\"1\" class=\"dataframe\">\n  <thead>\n    <tr style=\"text-align: right;\">\n      <th></th>\n      <th>ticker</th>\n      <th>date</th>\n      <th>metric</th>\n      <th>frequency</th>\n      <th>source</th>\n      <th>value</th>\n      <th>priceCurrency</th>\n      <th>ticker_currency</th>\n    </tr>\n  </thead>\n  <tbody>\n    <tr>\n      <th>0</th>\n      <td>MLBook13</td>\n      <td>2006-12-31</td>\n      <td>Advt_12M_Usd</td>\n      <td>M</td>\n      <td>mlfactor</td>\n      <td>0.250</td>\n      <td>USD</td>\n      <td>MLBook13-USD</td>\n    </tr>\n    <tr>\n      <th>1</th>\n      <td>MLBook13</td>\n      <td>2007-01-31</td>\n      <td>Advt_12M_Usd</td>\n      <td>M</td>\n      <td>mlfactor</td>\n      <td>0.250</td>\n      <td>USD</td>\n      <td>MLBook13-USD</td>\n    </tr>\n    <tr>\n      <th>2</th>\n      <td>MLBook13</td>\n      <td>2007-02-28</td>\n      <td>Advt_12M_Usd</td>\n      <td>M</td>\n      <td>mlfactor</td>\n      <td>0.260</td>\n      <td>USD</td>\n      <td>MLBook13-USD</td>\n    </tr>\n    <tr>\n      <th>3</th>\n      <td>MLBook17</td>\n      <td>2015-03-31</td>\n      <td>Advt_12M_Usd</td>\n      <td>M</td>\n      <td>mlfactor</td>\n      <td>0.730</td>\n      <td>USD</td>\n      <td>MLBook17-USD</td>\n    </tr>\n    <tr>\n      <th>4</th>\n      <td>MLBook17</td>\n      <td>2015-04-30</td>\n      <td>Advt_12M_Usd</td>\n      <td>M</td>\n      <td>mlfactor</td>\n      <td>0.720</td>\n      <td>USD</td>\n      <td>MLBook17-USD</td>\n    </tr>\n    <tr>\n      <th>...</th>\n      <td>...</td>\n      <td>...</td>\n      <td>...</td>\n      <td>...</td>\n      <td>...</td>\n      <td>...</td>\n      <td>...</td>\n      <td>...</td>\n    </tr>\n    <tr>\n      <th>27487855</th>\n      <td>MLBook1205</td>\n      <td>2004-05-31</td>\n      <td>R12M_Usd</td>\n      <td>M</td>\n      <td>mlfactor</td>\n      <td>0.112</td>\n      <td>USD</td>\n      <td>MLBook1205-USD</td>\n    </tr>\n    <tr>\n      <th>27487856</th>\n      <td>MLBook1205</td>\n      <td>2004-07-31</td>\n      <td>R12M_Usd</td>\n      <td>M</td>\n      <td>mlfactor</td>\n      <td>0.122</td>\n      <td>USD</td>\n      <td>MLBook1205-USD</td>\n    </tr>\n    <tr>\n      <th>27487857</th>\n      <td>MLBook1205</td>\n      <td>2004-08-31</td>\n      <td>R12M_Usd</td>\n      <td>M</td>\n      <td>mlfactor</td>\n      <td>0.091</td>\n      <td>USD</td>\n      <td>MLBook1205-USD</td>\n    </tr>\n    <tr>\n      <th>27487858</th>\n      <td>MLBook1205</td>\n      <td>2004-09-30</td>\n      <td>R12M_Usd</td>\n      <td>M</td>\n      <td>mlfactor</td>\n      <td>0.040</td>\n      <td>USD</td>\n      <td>MLBook1205-USD</td>\n    </tr>\n    <tr>\n      <th>27487859</th>\n      <td>MLBook292</td>\n      <td>2000-04-30</td>\n      <td>R12M_Usd</td>\n      <td>M</td>\n      <td>mlfactor</td>\n      <td>-0.544</td>\n      <td>USD</td>\n      <td>MLBook292-USD</td>\n    </tr>\n  </tbody>\n</table>\n<p>27487860 rows × 8 columns</p>\n</div>"
     },
     "execution_count": 23,
     "metadata": {},
     "output_type": "execute_result"
    }
   ],
   "source": [
    "ml_factor_fundamentals = process_ml_factor_fundamentals()\n",
    "ml_factor_fundamentals"
   ],
   "metadata": {
    "collapsed": false
   }
  },
  {
   "cell_type": "code",
   "execution_count": 24,
   "outputs": [],
   "source": [
    "add_to_metric_id(Database, ml_factor_fundamentals.metric.unique(), desc = 'see ML for Factor textbook')"
   ],
   "metadata": {
    "collapsed": false
   }
  },
  {
   "cell_type": "code",
   "execution_count": 25,
   "outputs": [],
   "source": [
    "ml_factor_funda_merged = merge_fundamentals_df(Database, ml_factor_fundamentals)"
   ],
   "metadata": {
    "collapsed": false
   }
  },
  {
   "cell_type": "code",
   "execution_count": 26,
   "outputs": [
    {
     "data": {
      "text/plain": "           ticker_x       date        metric frequency    source  value  \\\n0          MLBook13 2006-12-31  Advt_12M_Usd         M  mlfactor   0.25   \n1          MLBook13 2007-01-31  Advt_12M_Usd         M  mlfactor   0.25   \n2          MLBook13 2007-02-28  Advt_12M_Usd         M  mlfactor   0.26   \n3          MLBook13 2005-06-30  Advt_12M_Usd         M  mlfactor   0.20   \n4          MLBook13 2005-07-31  Advt_12M_Usd         M  mlfactor   0.20   \n...             ...        ...           ...       ...       ...    ...   \n27487855  MLBook950 2018-09-30      R12M_Usd         M  mlfactor   0.00   \n27487856  MLBook950 2018-10-31      R12M_Usd         M  mlfactor   0.00   \n27487857  MLBook950 2018-11-30      R12M_Usd         M  mlfactor   0.00   \n27487858  MLBook950 2018-12-31      R12M_Usd         M  mlfactor   0.00   \n27487859  MLBook950 2019-01-31      R12M_Usd         M  mlfactor   0.00   \n\n         priceCurrency ticker_currency  source_id  \\\n0                  USD    MLBook13-USD          2   \n1                  USD    MLBook13-USD          2   \n2                  USD    MLBook13-USD          2   \n3                  USD    MLBook13-USD          2   \n4                  USD    MLBook13-USD          2   \n...                ...             ...        ...   \n27487855           USD   MLBook950-USD          2   \n27487856           USD   MLBook950-USD          2   \n27487857           USD   MLBook950-USD          2   \n27487858           USD   MLBook950-USD          2   \n27487859           USD   MLBook950-USD          2   \n\n                                    description  frequency_id  metric_id  \\\n0         Machine learning for factor investing             1          0   \n1         Machine learning for factor investing             1          0   \n2         Machine learning for factor investing             1          0   \n3         Machine learning for factor investing             1          0   \n4         Machine learning for factor investing             1          0   \n...                                         ...           ...        ...   \n27487855  Machine learning for factor investing             1         96   \n27487856  Machine learning for factor investing             1         96   \n27487857  Machine learning for factor investing             1         96   \n27487858  Machine learning for factor investing             1         96   \n27487859  Machine learning for factor investing             1         96   \n\n                                desc  ticker_id   ticker_y currency  \\\n0         see ML for Factor textbook     106563   MLBook13      USD   \n1         see ML for Factor textbook     106563   MLBook13      USD   \n2         see ML for Factor textbook     106563   MLBook13      USD   \n3         see ML for Factor textbook     106563   MLBook13      USD   \n4         see ML for Factor textbook     106563   MLBook13      USD   \n...                              ...        ...        ...      ...   \n27487855  see ML for Factor textbook     107769  MLBook950      USD   \n27487856  see ML for Factor textbook     107769  MLBook950      USD   \n27487857  see ML for Factor textbook     107769  MLBook950      USD   \n27487858  see ML for Factor textbook     107769  MLBook950      USD   \n27487859  see ML for Factor textbook     107769  MLBook950      USD   \n\n                          id  \n0          21010656320061231  \n1          21010656320070131  \n2          21010656320070228  \n3          21010656320050630  \n4          21010656320050731  \n...                      ...  \n27487855  219610776920180930  \n27487856  219610776920181031  \n27487857  219610776920181130  \n27487858  219610776920181231  \n27487859  219610776920190131  \n\n[27487860 rows x 17 columns]",
      "text/html": "<div>\n<style scoped>\n    .dataframe tbody tr th:only-of-type {\n        vertical-align: middle;\n    }\n\n    .dataframe tbody tr th {\n        vertical-align: top;\n    }\n\n    .dataframe thead th {\n        text-align: right;\n    }\n</style>\n<table border=\"1\" class=\"dataframe\">\n  <thead>\n    <tr style=\"text-align: right;\">\n      <th></th>\n      <th>ticker_x</th>\n      <th>date</th>\n      <th>metric</th>\n      <th>frequency</th>\n      <th>source</th>\n      <th>value</th>\n      <th>priceCurrency</th>\n      <th>ticker_currency</th>\n      <th>source_id</th>\n      <th>description</th>\n      <th>frequency_id</th>\n      <th>metric_id</th>\n      <th>desc</th>\n      <th>ticker_id</th>\n      <th>ticker_y</th>\n      <th>currency</th>\n      <th>id</th>\n    </tr>\n  </thead>\n  <tbody>\n    <tr>\n      <th>0</th>\n      <td>MLBook13</td>\n      <td>2006-12-31</td>\n      <td>Advt_12M_Usd</td>\n      <td>M</td>\n      <td>mlfactor</td>\n      <td>0.25</td>\n      <td>USD</td>\n      <td>MLBook13-USD</td>\n      <td>2</td>\n      <td>Machine learning for factor investing</td>\n      <td>1</td>\n      <td>0</td>\n      <td>see ML for Factor textbook</td>\n      <td>106563</td>\n      <td>MLBook13</td>\n      <td>USD</td>\n      <td>21010656320061231</td>\n    </tr>\n    <tr>\n      <th>1</th>\n      <td>MLBook13</td>\n      <td>2007-01-31</td>\n      <td>Advt_12M_Usd</td>\n      <td>M</td>\n      <td>mlfactor</td>\n      <td>0.25</td>\n      <td>USD</td>\n      <td>MLBook13-USD</td>\n      <td>2</td>\n      <td>Machine learning for factor investing</td>\n      <td>1</td>\n      <td>0</td>\n      <td>see ML for Factor textbook</td>\n      <td>106563</td>\n      <td>MLBook13</td>\n      <td>USD</td>\n      <td>21010656320070131</td>\n    </tr>\n    <tr>\n      <th>2</th>\n      <td>MLBook13</td>\n      <td>2007-02-28</td>\n      <td>Advt_12M_Usd</td>\n      <td>M</td>\n      <td>mlfactor</td>\n      <td>0.26</td>\n      <td>USD</td>\n      <td>MLBook13-USD</td>\n      <td>2</td>\n      <td>Machine learning for factor investing</td>\n      <td>1</td>\n      <td>0</td>\n      <td>see ML for Factor textbook</td>\n      <td>106563</td>\n      <td>MLBook13</td>\n      <td>USD</td>\n      <td>21010656320070228</td>\n    </tr>\n    <tr>\n      <th>3</th>\n      <td>MLBook13</td>\n      <td>2005-06-30</td>\n      <td>Advt_12M_Usd</td>\n      <td>M</td>\n      <td>mlfactor</td>\n      <td>0.20</td>\n      <td>USD</td>\n      <td>MLBook13-USD</td>\n      <td>2</td>\n      <td>Machine learning for factor investing</td>\n      <td>1</td>\n      <td>0</td>\n      <td>see ML for Factor textbook</td>\n      <td>106563</td>\n      <td>MLBook13</td>\n      <td>USD</td>\n      <td>21010656320050630</td>\n    </tr>\n    <tr>\n      <th>4</th>\n      <td>MLBook13</td>\n      <td>2005-07-31</td>\n      <td>Advt_12M_Usd</td>\n      <td>M</td>\n      <td>mlfactor</td>\n      <td>0.20</td>\n      <td>USD</td>\n      <td>MLBook13-USD</td>\n      <td>2</td>\n      <td>Machine learning for factor investing</td>\n      <td>1</td>\n      <td>0</td>\n      <td>see ML for Factor textbook</td>\n      <td>106563</td>\n      <td>MLBook13</td>\n      <td>USD</td>\n      <td>21010656320050731</td>\n    </tr>\n    <tr>\n      <th>...</th>\n      <td>...</td>\n      <td>...</td>\n      <td>...</td>\n      <td>...</td>\n      <td>...</td>\n      <td>...</td>\n      <td>...</td>\n      <td>...</td>\n      <td>...</td>\n      <td>...</td>\n      <td>...</td>\n      <td>...</td>\n      <td>...</td>\n      <td>...</td>\n      <td>...</td>\n      <td>...</td>\n      <td>...</td>\n    </tr>\n    <tr>\n      <th>27487855</th>\n      <td>MLBook950</td>\n      <td>2018-09-30</td>\n      <td>R12M_Usd</td>\n      <td>M</td>\n      <td>mlfactor</td>\n      <td>0.00</td>\n      <td>USD</td>\n      <td>MLBook950-USD</td>\n      <td>2</td>\n      <td>Machine learning for factor investing</td>\n      <td>1</td>\n      <td>96</td>\n      <td>see ML for Factor textbook</td>\n      <td>107769</td>\n      <td>MLBook950</td>\n      <td>USD</td>\n      <td>219610776920180930</td>\n    </tr>\n    <tr>\n      <th>27487856</th>\n      <td>MLBook950</td>\n      <td>2018-10-31</td>\n      <td>R12M_Usd</td>\n      <td>M</td>\n      <td>mlfactor</td>\n      <td>0.00</td>\n      <td>USD</td>\n      <td>MLBook950-USD</td>\n      <td>2</td>\n      <td>Machine learning for factor investing</td>\n      <td>1</td>\n      <td>96</td>\n      <td>see ML for Factor textbook</td>\n      <td>107769</td>\n      <td>MLBook950</td>\n      <td>USD</td>\n      <td>219610776920181031</td>\n    </tr>\n    <tr>\n      <th>27487857</th>\n      <td>MLBook950</td>\n      <td>2018-11-30</td>\n      <td>R12M_Usd</td>\n      <td>M</td>\n      <td>mlfactor</td>\n      <td>0.00</td>\n      <td>USD</td>\n      <td>MLBook950-USD</td>\n      <td>2</td>\n      <td>Machine learning for factor investing</td>\n      <td>1</td>\n      <td>96</td>\n      <td>see ML for Factor textbook</td>\n      <td>107769</td>\n      <td>MLBook950</td>\n      <td>USD</td>\n      <td>219610776920181130</td>\n    </tr>\n    <tr>\n      <th>27487858</th>\n      <td>MLBook950</td>\n      <td>2018-12-31</td>\n      <td>R12M_Usd</td>\n      <td>M</td>\n      <td>mlfactor</td>\n      <td>0.00</td>\n      <td>USD</td>\n      <td>MLBook950-USD</td>\n      <td>2</td>\n      <td>Machine learning for factor investing</td>\n      <td>1</td>\n      <td>96</td>\n      <td>see ML for Factor textbook</td>\n      <td>107769</td>\n      <td>MLBook950</td>\n      <td>USD</td>\n      <td>219610776920181231</td>\n    </tr>\n    <tr>\n      <th>27487859</th>\n      <td>MLBook950</td>\n      <td>2019-01-31</td>\n      <td>R12M_Usd</td>\n      <td>M</td>\n      <td>mlfactor</td>\n      <td>0.00</td>\n      <td>USD</td>\n      <td>MLBook950-USD</td>\n      <td>2</td>\n      <td>Machine learning for factor investing</td>\n      <td>1</td>\n      <td>96</td>\n      <td>see ML for Factor textbook</td>\n      <td>107769</td>\n      <td>MLBook950</td>\n      <td>USD</td>\n      <td>219610776920190131</td>\n    </tr>\n  </tbody>\n</table>\n<p>27487860 rows × 17 columns</p>\n</div>"
     },
     "execution_count": 26,
     "metadata": {},
     "output_type": "execute_result"
    }
   ],
   "source": [
    "ml_factor_funda_merged"
   ],
   "metadata": {
    "collapsed": false
   }
  },
  {
   "cell_type": "code",
   "execution_count": 27,
   "outputs": [],
   "source": [
    "add_dfs_to_db('fundamentals', Database, [ml_factor_funda_merged], indices_of_primary_key=[0])"
   ],
   "metadata": {
    "collapsed": false
   }
  },
  {
   "cell_type": "code",
   "execution_count": null,
   "outputs": [],
   "source": [],
   "metadata": {
    "collapsed": false
   }
  }
 ],
 "metadata": {
  "kernelspec": {
   "display_name": "Python 3",
   "language": "python",
   "name": "python3"
  },
  "language_info": {
   "codemirror_mode": {
    "name": "ipython",
    "version": 2
   },
   "file_extension": ".py",
   "mimetype": "text/x-python",
   "name": "python",
   "nbconvert_exporter": "python",
   "pygments_lexer": "ipython2",
   "version": "2.7.6"
  }
 },
 "nbformat": 4,
 "nbformat_minor": 0
}
