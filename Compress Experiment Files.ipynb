{
 "cells": [
  {
   "cell_type": "markdown",
   "source": [
    "This notebook loops through the local experiment folder and removes the large files/variables associated with each experiment and stores a single copy of them in a separate file\n",
    "\n",
    "In particular, the backtest results pkls have a lot of extra information that is not required"
   ],
   "metadata": {
    "collapsed": false
   }
  },
  {
   "cell_type": "code",
   "execution_count": 15,
   "outputs": [],
   "source": [
    "import pandas as pd\n",
    "from services.experiments import *\n",
    "import matplotlib.pyplot as plt"
   ],
   "metadata": {
    "collapsed": false
   }
  },
  {
   "cell_type": "code",
   "execution_count": 106,
   "outputs": [],
   "source": [
    "universe = 'SP'\n",
    "\n",
    "CardMVO_path = \"Experiments//\"+universe+\"//\"+\"CardMVO\"\n",
    "CardMVO_experiments = pd.read_pickle(CardMVO_path+\"//data_dictionary.pkl\")\n",
    "\n",
    "# add filters here\n",
    "\n",
    "\n",
    "assert (CardMVO_experiments.groupby(['cardinality_ratio', 'turnover_limit']).uid.count() == 1).all()\n",
    "\n",
    "unique_card_turnover_df = CardMVO_experiments.groupby(['cardinality_ratio', 'turnover_limit']).uid.first() # unique experiments\n",
    "\n",
    "#def read_results(CardMVO_experiments):\n",
    "estimators = CardMVO_experiments.groupby(['estimator', 'EstNumObs', 'k', 'alpha']).first()\n",
    "estimator_idx = 0\n",
    "\n",
    "contexts_by_estimator = {}\n",
    "mu_by_estimator = {}\n",
    "cov_by_estimator = {}\n",
    "\n",
    "for uid in unique_card_turnover_df:\n",
    "\n",
    "    results = import_dict(CardMVO_path, uid, 'backtest_results')\n",
    "\n",
    "    contexts_by_period = {} #indexed by t; period context, and cov\n",
    "    mu_by_period = {}\n",
    "    cov_by_period = {}\n",
    "\n",
    "    if uid == estimators.iloc[estimator_idx].uid: #on the first uid save stuff\n",
    "        estimator_key = estimators.index[estimator_idx]\n",
    "        for t in results.keys():\n",
    "            period_results = results[t]\n",
    "            if 'optimization_params' in period_results.keys():\n",
    "                contexts_by_period[t] = period_results['optimization_params']['period_Context']\n",
    "\n",
    "            if 'mu' in period_results.keys():\n",
    "                mu_by_period[t] = period_results['mu']\n",
    "\n",
    "            if 'cov' in period_results.keys():\n",
    "                cov_by_period[t] = period_results['cov']\n",
    "\n",
    "        contexts_by_estimator[estimator_key] = contexts_by_period\n",
    "        mu_by_estimator[estimator_key] = mu_by_period\n",
    "        cov_by_estimator[estimator_key] = cov_by_period\n",
    "\n",
    "        estimator_idx = min(len(estimators)-1, estimator_idx+1) #move on to the next estimator\n",
    "\n",
    "    for t in results.keys():\n",
    "        period_results = results[t]\n",
    "        if 'optimization_params' in period_results.keys():\n",
    "            del results[t]['optimization_params']['period_Context']\n",
    "            del results[t]['optimization_params']['mu']\n",
    "            del results[t]['optimization_params']['Q']\n",
    "\n",
    "        if 'mu' in period_results.keys():\n",
    "            del results[t]['mu']\n",
    "        if 'cov' in period_results.keys():\n",
    "            del results[t]['cov']\n",
    "\n",
    "            # exiting loop over all experiments\n",
    "        export_dict(CardMVO_path, uid, results, 'backtest_results')\n",
    "\n",
    "# exiting loop over all experiments\n",
    "export_dict(CardMVO_path, '', contexts_by_estimator, 'contexts_by_estimator')\n",
    "export_dict(CardMVO_path, '', mu_by_estimator, 'mu_by_estimator')\n",
    "export_dict(CardMVO_path, '', cov_by_estimator, 'cov_by_estimator')"
   ],
   "metadata": {
    "collapsed": false
   }
  },
  {
   "cell_type": "code",
   "execution_count": 107,
   "outputs": [
    {
     "data": {
      "text/plain": "dict_keys([('exponential_weighted_estimator_shrinkage', '750', '120', '0.01')])"
     },
     "execution_count": 107,
     "metadata": {},
     "output_type": "execute_result"
    }
   ],
   "source": [
    "contexts_by_estimator.keys()"
   ],
   "metadata": {
    "collapsed": false
   }
  },
  {
   "cell_type": "code",
   "execution_count": 108,
   "outputs": [
    {
     "data": {
      "text/plain": "dict_keys(['obj_value', 'time', 'optimality gap', 'x', 'z', 'feasible_solution', 'optimization_params', 'calEnd'])"
     },
     "execution_count": 108,
     "metadata": {},
     "output_type": "execute_result"
    }
   ],
   "source": [
    "results[0].keys()"
   ],
   "metadata": {
    "collapsed": false
   }
  },
  {
   "cell_type": "code",
   "execution_count": 109,
   "outputs": [
    {
     "data": {
      "text/plain": "{'targetRet': 0.4044358812724712,\n 'previous_portfolio': None,\n 'K': 286,\n 'k': 120,\n 'alpha': 0.010000000000000009,\n 'premium': 2,\n 'EstNumObs': 750,\n 'ticker_index': 0,\n 'target_return_strategy': <function services.environment_functions.premium_target(mu, premium)>,\n 'target_return_strategy_args': ['premium'],\n 'turnover_limit': 1.25,\n 'turnover_constraints': True,\n 'cardinality_ratio': 1,\n 'MipGap': 0.05,\n 'limit_time': 20,\n 'bigMStrategy': <function services.big_m_strategies.HyperparameterBigMStrategy(**kwargs)>,\n 'bigM_limit_time': 20,\n 'bigM_MipGap': 0.05,\n 'bigM_SolutionLimit': 10,\n 'SkipSOCP': True,\n 'tightening_iter_lim': 1,\n 'SVMMVO_bigM_time_limit': 5,\n 'SVMMVO_MipGap': 0.1,\n 'SVMMVO_SolutionLimit': 5,\n 'SOCP_limit_time': 10,\n 'q': 1,\n 'C': 0.1,\n 'epsilon': 0.1,\n 'separable': False,\n 'LogToConsole': False,\n 'Verbose': False,\n 'hyperparams': {'C': [0.1, 1.0, 10.0, 100.0],\n  'epsilon': [0.1, 1.0, 10.0, 100.0]},\n 'q_alpha': 0.6838,\n 'kappa': 0.025}"
     },
     "execution_count": 109,
     "metadata": {},
     "output_type": "execute_result"
    }
   ],
   "source": [
    "results[0]['optimization_params']"
   ],
   "metadata": {
    "collapsed": false
   }
  },
  {
   "cell_type": "code",
   "execution_count": 112,
   "outputs": [
    {
     "name": "stdout",
     "output_type": "stream",
     "text": [
      "q = 1  runs available:  ['SunJan212024']\n",
      "q = 2  runs available:  ['SunJan212024']\n",
      "q = 3  runs available:  ['SunJan212024']\n",
      "q = 5  runs available:  ['SunJan212024']\n",
      "q = 10  runs available:  ['SunJan212024']\n"
     ]
    }
   ],
   "source": [
    "\n",
    "SVMMVO_path = \"Experiments//\"+universe+\"//\"+\"SVMMVO\"\n",
    "qs = [1, 2, 3, 5, 10]\n",
    "\n",
    "\n",
    "for q in qs:\n",
    "    SVMMVO_path_q = SVMMVO_path+\"//\"+str(q)\n",
    "    SVMMVO_experiments_q = pd.read_pickle(SVMMVO_path_q+\"//data_dictionary.pkl\")\n",
    "\n",
    "    estimators = SVMMVO_experiments_q.groupby(['estimator', 'EstNumObs', 'k', 'alpha']).first()\n",
    "    estimator_idx = 0\n",
    "\n",
    "    contexts_by_estimator = {}\n",
    "    mu_by_estimator = {}\n",
    "    cov_by_estimator = {}\n",
    "\n",
    "    print(\"q =\", q, \" runs available: \", SVMMVO_experiments_q.run.unique())\n",
    "\n",
    "    assert len(SVMMVO_experiments_q.uid) == len(SVMMVO_experiments_q.uid.unique())\n",
    "\n",
    "    for uid in SVMMVO_experiments_q.uid:\n",
    "        results = import_dict(SVMMVO_path_q, uid, 'backtest_results')\n",
    "\n",
    "        contexts_by_period = {} #indexed by t; period context, and cov\n",
    "        mu_by_period = {}\n",
    "        cov_by_period = {}\n",
    "\n",
    "        # new estimator encountered\n",
    "        # store\n",
    "        if uid == estimators.iloc[estimator_idx].uid: #on the first uid save stuff\n",
    "            estimator_key = estimators.index[estimator_idx]\n",
    "            for t in results.keys():\n",
    "                period_results = results[t]\n",
    "                if 'optimization_params' in period_results.keys():\n",
    "                    contexts_by_period[t] = period_results['optimization_params']['period_Context']\n",
    "\n",
    "                if 'mu' in period_results.keys():\n",
    "                    mu_by_period[t] = period_results['mu']\n",
    "\n",
    "                if 'cov' in period_results.keys():\n",
    "                    cov_by_period[t] = period_results['cov']\n",
    "\n",
    "            contexts_by_estimator[estimator_key] = contexts_by_period\n",
    "            mu_by_estimator[estimator_key] = mu_by_period\n",
    "            cov_by_estimator[estimator_key] = cov_by_period\n",
    "\n",
    "            estimator_idx = min(len(estimators)-1, estimator_idx+1) #move on to the next estimator\n",
    "\n",
    "        for t in results.keys():\n",
    "            period_results = results[t]\n",
    "            if 'optimization_params' in period_results.keys():\n",
    "                del results[t]['optimization_params']['period_Context']\n",
    "                del results[t]['optimization_params']['mu']\n",
    "                del results[t]['optimization_params']['Q']\n",
    "\n",
    "            if 'mu' in period_results.keys():\n",
    "                del results[t]['mu']\n",
    "            if 'cov' in period_results.keys():\n",
    "                del results[t]['cov']\n",
    "\n",
    "            # exiting loop over all experiments\n",
    "        export_dict(SVMMVO_path_q, uid, results, 'backtest_results')\n",
    "\n",
    "    # exiting loop over all experiments\n",
    "    export_dict(SVMMVO_path_q, '', contexts_by_estimator, 'contexts_by_estimator')\n",
    "    export_dict(SVMMVO_path_q, '', mu_by_estimator, 'mu_by_estimator')\n",
    "    export_dict(SVMMVO_path_q, '', cov_by_estimator, 'cov_by_estimator')\n",
    "\n",
    "    # delete the unnesssary files"
   ],
   "metadata": {
    "collapsed": false
   }
  },
  {
   "cell_type": "code",
   "execution_count": 110,
   "outputs": [
    {
     "data": {
      "text/plain": "dict_keys(['obj_value', 'time', 'optimality gap', 'x', 'z', 'feasible_solution', 'optimization_params', 'calEnd'])"
     },
     "execution_count": 110,
     "metadata": {},
     "output_type": "execute_result"
    }
   ],
   "source": [
    "results[0].keys()"
   ],
   "metadata": {
    "collapsed": false
   }
  },
  {
   "cell_type": "code",
   "execution_count": 111,
   "outputs": [
    {
     "data": {
      "text/plain": "dict_keys(['targetRet', 'previous_portfolio', 'K', 'k', 'alpha', 'premium', 'EstNumObs', 'ticker_index', 'target_return_strategy', 'target_return_strategy_args', 'turnover_limit', 'turnover_constraints', 'cardinality_ratio', 'MipGap', 'limit_time', 'bigMStrategy', 'bigM_limit_time', 'bigM_MipGap', 'bigM_SolutionLimit', 'SkipSOCP', 'tightening_iter_lim', 'SVMMVO_bigM_time_limit', 'SVMMVO_MipGap', 'SVMMVO_SolutionLimit', 'SOCP_limit_time', 'q', 'C', 'epsilon', 'separable', 'LogToConsole', 'Verbose', 'hyperparams', 'q_alpha', 'kappa'])"
     },
     "execution_count": 111,
     "metadata": {},
     "output_type": "execute_result"
    }
   ],
   "source": [
    "results[0]['optimization_params'].keys()"
   ],
   "metadata": {
    "collapsed": false
   }
  },
  {
   "cell_type": "code",
   "execution_count": 42,
   "outputs": [
    {
     "data": {
      "text/plain": "1.0"
     },
     "execution_count": 42,
     "metadata": {},
     "output_type": "execute_result"
    }
   ],
   "source": [
    "results[1]['C']"
   ],
   "metadata": {
    "collapsed": false
   }
  },
  {
   "cell_type": "code",
   "execution_count": 32,
   "outputs": [
    {
     "ename": "KeyError",
     "evalue": "0",
     "output_type": "error",
     "traceback": [
      "\u001B[1;31m---------------------------------------------------------------------------\u001B[0m",
      "\u001B[1;31mKeyError\u001B[0m                                  Traceback (most recent call last)",
      "Cell \u001B[1;32mIn [32], line 1\u001B[0m\n\u001B[1;32m----> 1\u001B[0m \u001B[43mMVO_results\u001B[49m\u001B[43m[\u001B[49m\u001B[38;5;241;43m0\u001B[39;49m\u001B[43m]\u001B[49m\u001B[38;5;241m.\u001B[39mkeys()\n",
      "\u001B[1;31mKeyError\u001B[0m: 0"
     ]
    }
   ],
   "source": [
    "MVO_results[0].keys()"
   ],
   "metadata": {
    "collapsed": false
   }
  },
  {
   "cell_type": "code",
   "execution_count": 37,
   "outputs": [
    {
     "data": {
      "text/plain": "dict_keys(['obj_value', 'time', 'optimality gap', 'x', 'z', 'feasible_solution', 'optimization_params', 'calEnd', 'mu', 'cov'])"
     },
     "execution_count": 37,
     "metadata": {},
     "output_type": "execute_result"
    }
   ],
   "source": [
    "MVO_results['1'][0].keys()"
   ],
   "metadata": {
    "collapsed": false
   }
  },
  {
   "cell_type": "code",
   "execution_count": null,
   "outputs": [],
   "source": [],
   "metadata": {
    "collapsed": false
   }
  }
 ],
 "metadata": {
  "kernelspec": {
   "display_name": "Python 3",
   "language": "python",
   "name": "python3"
  },
  "language_info": {
   "codemirror_mode": {
    "name": "ipython",
    "version": 2
   },
   "file_extension": ".py",
   "mimetype": "text/x-python",
   "name": "python",
   "nbconvert_exporter": "python",
   "pygments_lexer": "ipython2",
   "version": "2.7.6"
  }
 },
 "nbformat": 4,
 "nbformat_minor": 0
}
