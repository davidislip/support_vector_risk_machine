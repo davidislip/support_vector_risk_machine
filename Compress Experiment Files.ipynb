{
 "cells": [
  {
   "cell_type": "markdown",
   "source": [
    "This notebook loops through the local experiment folder and removes the large files/variables associated with each experiment and stores a single copy of them in a separate file\n",
    "\n",
    "In particular, the backtest results pkls have a lot of extra information that is not required"
   ],
   "metadata": {
    "collapsed": false
   }
  },
  {
   "cell_type": "code",
   "execution_count": 5,
   "outputs": [],
   "source": [
    "import pandas as pd\n",
    "from services.experiments import *\n",
    "import matplotlib.pyplot as plt"
   ],
   "metadata": {
    "collapsed": false,
    "ExecuteTime": {
     "end_time": "2024-02-13T18:03:09.276912200Z",
     "start_time": "2024-02-13T18:03:09.261275200Z"
    }
   }
  },
  {
   "cell_type": "code",
   "execution_count": 7,
   "outputs": [
    {
     "name": "stdout",
     "output_type": "stream",
     "text": [
      "Number of estimators  1\n",
      "processing estimator  Index(['uid', 'optimizer', 'universe', 'imputation_method', 'ticker_str',\n",
      "       'hyperparam_search', 'NoPeriods', 'run', 'C', 'LogToConsole', 'MipGap',\n",
      "       'SOCP_limit_time', 'SVMMVO_MipGap', 'SVMMVO_SolutionLimit',\n",
      "       'SVMMVO_bigM_time_limit', 'SkipSOCP', 'Verbose', 'bigMStrategy',\n",
      "       'bigM_MipGap', 'bigM_SolutionLimit', 'bigM_limit_time',\n",
      "       'cardinality_ratio', 'epsilon', 'hyperparams', 'kappa', 'limit_time',\n",
      "       'premium', 'q', 'q_alpha', 'separable', 'target_return_strategy',\n",
      "       'target_return_strategy_args', 'ticker_index', 'tightening_iter_lim',\n",
      "       'turnover_constraints', 'turnover_limit'],\n",
      "      dtype='object')\n",
      "Deleting\n"
     ]
    }
   ],
   "source": [
    "universe = 'SP'\n",
    "\n",
    "CardMVO_path = \"Experiments//\"+universe+\"//\"+\"CardMVO\"\n",
    "CardMVO_experiments = pd.read_pickle(CardMVO_path+\"//data_dictionary.pkl\")\n",
    "\n",
    "# add filters here\n",
    "\n",
    "\n",
    "#assert (CardMVO_experiments.groupby(['cardinality_ratio', 'turnover_limit']).uid.count() == 1).all()\n",
    "\n",
    "unique_card_turnover_df = CardMVO_experiments.uid #.first() # unique experiments\n",
    "\n",
    "#def read_results(CardMVO_experiments):\n",
    "estimators = CardMVO_experiments.groupby(['estimator', 'EstNumObs', 'k', 'alpha']).first()\n",
    "\n",
    "print(\"Number of estimators \", len(estimators))\n",
    "estimator_idx = 0\n",
    "\n",
    "contexts_by_estimator = {}\n",
    "mu_by_estimator = {}\n",
    "cov_by_estimator = {}\n",
    "\n",
    "for uid in unique_card_turnover_df:\n",
    "\n",
    "    results = import_dict(CardMVO_path, uid, 'backtest_results')\n",
    "\n",
    "    contexts_by_period = {} #indexed by t; period context, and cov\n",
    "    mu_by_period = {}\n",
    "    cov_by_period = {}\n",
    "\n",
    "    if uid == estimators.iloc[estimator_idx].uid: #on the first uid save stuff\n",
    "        print(\"processing estimator \", estimators.iloc[estimator_idx].index)\n",
    "        estimator_key = estimators.index[estimator_idx]\n",
    "        for t in results.keys():\n",
    "            period_results = results[t]\n",
    "            if 'optimization_params' in period_results.keys():\n",
    "                if 'period_Context' in period_results['optimization_params'].keys():\n",
    "                    contexts_by_period[t] = period_results['optimization_params']['period_Context']\n",
    "\n",
    "            if 'mu' in period_results.keys():\n",
    "                mu_by_period[t] = period_results['mu']\n",
    "\n",
    "            if 'cov' in period_results.keys():\n",
    "                cov_by_period[t] = period_results['cov']\n",
    "\n",
    "        contexts_by_estimator[estimator_key] = contexts_by_period\n",
    "        mu_by_estimator[estimator_key] = mu_by_period\n",
    "        cov_by_estimator[estimator_key] = cov_by_period\n",
    "\n",
    "        estimator_idx = min(len(estimators)-1, estimator_idx+1) #move on to the next estimator\n",
    "\n",
    "    delete_flag = False\n",
    "    for t in results.keys():\n",
    "        period_results = results[t]\n",
    "        if 'optimization_params' in period_results.keys():\n",
    "            if 'period_Context' in period_results['optimization_params'].keys():\n",
    "                del results[t]['optimization_params']['period_Context']\n",
    "                delete_flag = True\n",
    "            if 'mu' in period_results['optimization_params'].keys():\n",
    "                del results[t]['optimization_params']['mu']\n",
    "                delete_flag = True\n",
    "\n",
    "            if 'Q' in period_results['optimization_params'].keys():\n",
    "                del results[t]['optimization_params']['Q']\n",
    "                delete_flag = True\n",
    "\n",
    "        if 'mu' in period_results.keys():\n",
    "            del results[t]['mu']\n",
    "            delete_flag = True\n",
    "\n",
    "        if 'cov' in period_results.keys():\n",
    "            del results[t]['cov']\n",
    "            delete_flag = True\n",
    "\n",
    "\n",
    "            # exiting loop over all experiments\n",
    "        export_dict(CardMVO_path, uid, results, 'backtest_results')\n",
    "\n",
    "if delete_flag:\n",
    "    # exiting loop over all experiments\n",
    "    print(\"Deleting\")\n",
    "    export_dict(CardMVO_path, '', contexts_by_estimator, 'contexts_by_estimator')\n",
    "    export_dict(CardMVO_path, '', mu_by_estimator, 'mu_by_estimator')\n",
    "    export_dict(CardMVO_path, '', cov_by_estimator, 'cov_by_estimator')\n",
    "else:\n",
    "    print(\"No changes made\")"
   ],
   "metadata": {
    "collapsed": false,
    "ExecuteTime": {
     "end_time": "2024-02-13T18:03:52.573067600Z",
     "start_time": "2024-02-13T18:03:44.791700800Z"
    }
   }
  },
  {
   "cell_type": "code",
   "execution_count": 16,
   "outputs": [
    {
     "name": "stdout",
     "output_type": "stream",
     "text": [
      "Number of estimators  1\n",
      "q = 10  runs available:  ['SunJan212024']\n",
      "processing estimator  Index(['uid', 'optimizer', 'universe', 'imputation_method', 'ticker_str',\n",
      "       'hyperparam_search', 'NoPeriods', 'run', 'C', 'LogToConsole', 'MipGap',\n",
      "       'SOCP_limit_time', 'SVMMVO_MipGap', 'SVMMVO_SolutionLimit',\n",
      "       'SVMMVO_bigM_time_limit', 'SkipSOCP', 'Verbose', 'bigMStrategy',\n",
      "       'bigM_MipGap', 'bigM_SolutionLimit', 'bigM_limit_time',\n",
      "       'cardinality_ratio', 'epsilon', 'hyperparams', 'kappa', 'limit_time',\n",
      "       'premium', 'q', 'q_alpha', 'separable', 'target_return_strategy',\n",
      "       'target_return_strategy_args', 'ticker_index', 'tightening_iter_lim',\n",
      "       'turnover_constraints', 'turnover_limit'],\n",
      "      dtype='object')\n",
      "Deletion made\n"
     ]
    }
   ],
   "source": [
    "\n",
    "SVMMVO_path = \"Experiments//\"+universe+\"//\"+\"SVMMVO\"\n",
    "qs = [10]\n",
    "\n",
    "\n",
    "for q in qs:\n",
    "    SVMMVO_path_q = SVMMVO_path+\"//\"+str(q)\n",
    "    SVMMVO_experiments_q = pd.read_pickle(SVMMVO_path_q+\"//data_dictionary.pkl\")\n",
    "\n",
    "    estimators = SVMMVO_experiments_q.groupby(['estimator', 'EstNumObs', 'k', 'alpha']).first()\n",
    "    estimator_idx = 0\n",
    "    print(\"Number of estimators \", len(estimators))\n",
    "\n",
    "    contexts_by_estimator = {}\n",
    "    mu_by_estimator = {}\n",
    "    cov_by_estimator = {}\n",
    "\n",
    "    print(\"q =\", q, \" runs available: \", SVMMVO_experiments_q.run.unique())\n",
    "\n",
    "    assert len(SVMMVO_experiments_q.uid) == len(SVMMVO_experiments_q.uid.unique())\n",
    "\n",
    "    for uid in SVMMVO_experiments_q.uid:\n",
    "        results = import_dict(SVMMVO_path_q, uid, 'backtest_results')\n",
    "\n",
    "        contexts_by_period = {} #indexed by t; period context, and cov\n",
    "        mu_by_period = {}\n",
    "        cov_by_period = {}\n",
    "\n",
    "        # new estimator encountered\n",
    "        # store\n",
    "        if uid == estimators.iloc[estimator_idx].uid: #on the first uid save stuff\n",
    "            \n",
    "            print(\"processing estimator \", estimators.iloc[estimator_idx].index)\n",
    "            estimator_key = estimators.index[estimator_idx]\n",
    "            for t in results.keys():\n",
    "                period_results = results[t]\n",
    "                if 'optimization_params' in period_results.keys():\n",
    "                    if 'period_Context' in period_results['optimization_params'].keys():\n",
    "                        contexts_by_period[t] = period_results['optimization_params']['period_Context']\n",
    "\n",
    "                if 'mu' in period_results.keys():\n",
    "                    mu_by_period[t] = period_results['mu']\n",
    "\n",
    "                if 'cov' in period_results.keys():\n",
    "                    cov_by_period[t] = period_results['cov']\n",
    "\n",
    "            contexts_by_estimator[estimator_key] = contexts_by_period\n",
    "            mu_by_estimator[estimator_key] = mu_by_period\n",
    "            cov_by_estimator[estimator_key] = cov_by_period\n",
    "\n",
    "            estimator_idx = min(len(estimators)-1, estimator_idx+1) #move on to the next estimator\n",
    "        delete_flag = False\n",
    "        for t in results.keys():\n",
    "            period_results = results[t]\n",
    "            if 'optimization_params' in period_results.keys():\n",
    "                if 'period_Context' in period_results['optimization_params'].keys():\n",
    "                    del results[t]['optimization_params']['period_Context']\n",
    "                    delete_flag = True\n",
    "                if 'mu' in period_results['optimization_params'].keys():\n",
    "                    del results[t]['optimization_params']['mu']\n",
    "                    delete_flag = True\n",
    "                if 'Q' in period_results['optimization_params'].keys():\n",
    "                    del results[t]['optimization_params']['Q']\n",
    "                    delete_flag = True\n",
    "            if 'mu' in period_results.keys():\n",
    "                del results[t]['mu']\n",
    "                delete_flag = True\n",
    "            if 'cov' in period_results.keys():\n",
    "                del results[t]['cov']\n",
    "                delete_flag = True\n",
    "\n",
    "            # exiting loop over all experiments\n",
    "        export_dict(SVMMVO_path_q, uid, results, 'backtest_results')\n",
    "\n",
    "    if delete_flag:\n",
    "    # exiting loop over all experiments\n",
    "        print(\"Deletion made\")\n",
    "        export_dict(SVMMVO_path_q, '', contexts_by_estimator, 'contexts_by_estimator')\n",
    "        export_dict(SVMMVO_path_q, '', mu_by_estimator, 'mu_by_estimator')\n",
    "        export_dict(SVMMVO_path_q, '', cov_by_estimator, 'cov_by_estimator')\n",
    "        # print(\"estimators \", contexts_by_estimator.keys())\n",
    "    else:\n",
    "        print(\"No changes made\")\n",
    "    # delete the unnesssary files"
   ],
   "metadata": {
    "collapsed": false,
    "ExecuteTime": {
     "end_time": "2024-02-13T18:10:46.865499900Z",
     "start_time": "2024-02-13T18:10:41.595999500Z"
    }
   }
  },
  {
   "cell_type": "code",
   "execution_count": null,
   "outputs": [],
   "source": [],
   "metadata": {
    "collapsed": false
   }
  }
 ],
 "metadata": {
  "kernelspec": {
   "display_name": "Python 3",
   "language": "python",
   "name": "python3"
  },
  "language_info": {
   "codemirror_mode": {
    "name": "ipython",
    "version": 2
   },
   "file_extension": ".py",
   "mimetype": "text/x-python",
   "name": "python",
   "nbconvert_exporter": "python",
   "pygments_lexer": "ipython2",
   "version": "2.7.6"
  }
 },
 "nbformat": 4,
 "nbformat_minor": 0
}
