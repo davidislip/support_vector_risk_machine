{
 "cells": [
  {
   "cell_type": "markdown",
   "source": [
    "\n",
    "# MMF1921/MIE377 Style Backtesting Template\n",
    "\n",
    "From the MIE377/MMF1921 Projects:\n",
    "\n",
    "        The purpose of this program is to provide a template with which to develop Project 2. The project requires you to test different models  (and/or different model combinations) to create an asset management algorithm.\n",
    "\n",
    "        This template will be used by the instructor and TA to assess your trading algorithm using different datasets.\n",
    "\n",
    "        # PLEASE DO NOT MODIFY THIS TEMPLATE (for Project submission purposes)\n",
    "\n",
    "This template for evaluating asset allocation algorithms is the exact same style as the one in MIE377.\n",
    "\n",
    "Is it fast? No it is not.\n",
    "\n",
    "Is it clear and relatively easy to follow? Yes it is.\n",
    "\n",
    "There are a couple of moving parts:\n",
    "\n",
    "* The database: see the Database folder for examples of where and how the data was processed. Download SQLLite viewer to explore the data and look at the queries in the notebooks to understand what data is in there\n",
    "* The services: in the services folder there are some helpers to extract the data (data_retrieval.py), estimate means and covariances (estimators.py), and optimizers (optimization.py)\n",
    "* Strategies are also defined in the services folder. The current convention is that a strategy takes in data (returns and factor returns) and outputs an allocation.\n",
    "* Typically, the strategies will use some form of estimator and an optimizer come up with allocations.\n",
    "\n",
    "If you do not want to deal with the database then use the MIE377_Project_Main template and copy cells 2.1 and 2.2 into the appropriate spot\n",
    "and replace \n",
    "\n",
    "        x[:,t] = project_function(periodReturns, periodFactRet)\n",
    "\n",
    "with\n",
    "\n",
    "        x[:,t] = Strategy.execute_strategy(periodReturns, periodFactRet) #equal_weight(periodReturns) #StrategyFunction(periodReturns, periodFactRet, x0[:,t]);\n",
    "\n",
    "# 1. Read input files"
   ],
   "metadata": {
    "collapsed": false
   }
  },
  {
   "cell_type": "code",
   "execution_count": 1,
   "outputs": [
    {
     "name": "stdout",
     "output_type": "stream",
     "text": [
      "['asset_id', 'currency_id', 'equities_series', 'equity_index_id', 'exchange_id', 'factor_id', 'factors', 'frequency_id', 'fundamentals', 'metric_id', 'source_id', 'ticker_id', 'ticker_index_membership', 'tiingo_tickers']\n"
     ]
    }
   ],
   "source": [
    "import time\n",
    "import math\n",
    "\n",
    "import numpy as np\n",
    "import pandas as pd\n",
    "from services.experiments import *\n",
    "from Database.services.database import Database\n",
    "from sqlalchemy import inspect\n",
    "from services.data_retreival import *\n",
    "from scipy.stats import gmean\n",
    "import matplotlib.pyplot as plt\n",
    "from services.strategies import *\n",
    "from services.optimization_layers import *\n",
    "from services.optimization import *\n",
    "from services.binary_optimization import *\n",
    "from services.environment_functions import *\n",
    "from services.big_m_strategies import *\n",
    "from services.plotting_functions import *\n",
    "import os\n",
    "Database.initialize(\"sqlite:///Database//financial_db.sqlite\") #for courses replace this with a flat file\n",
    "inspector = inspect(Database.engine)\n",
    "print(inspector.get_table_names())\n",
    "\n",
    "universe = 'SP'\n",
    "imputation_method = 'Multivariate'\n",
    "ticker_str = 'AAPL'\n",
    "#exponential params\n",
    "\n",
    "\n",
    "adjClose = pd.read_csv(\"flat_files/MonthlyAssetPrices\"+ universe + \".csv\", index_col=0, header = 1).iloc[1:,:]\n",
    "\n",
    "daily_adjClose =  pd.read_csv(\"flat_files/DailyAssetPrices\"+universe + \".csv\", index_col=0, header = 1).iloc[1:,:]\n",
    "\n",
    "TechnicalAnalysis = pd.read_csv(\"flat_files/TechnicalAnalysis\" + universe + \".csv\", index_col=[0,1])\n",
    "\n",
    "if universe ==  'SP':\n",
    "    FinancialRatios = pd.read_csv(\"flat_files/\" + imputation_method + \"WRDS.csv\", index_col=[0,1])\n",
    "    TechnicalAnalysis.index.names = FinancialRatios.index.names\n",
    "    ContextualInfo = TechnicalAnalysis.merge(FinancialRatios, how = 'left', left_index=True, right_index=True)\n",
    "\n",
    "else:\n",
    "    TechnicalAnalysis.index.names = ['date', 'ticker']\n",
    "    ContextualInfo = TechnicalAnalysis\n"
   ],
   "metadata": {
    "collapsed": false,
    "ExecuteTime": {
     "end_time": "2024-01-21T03:22:30.152973300Z",
     "start_time": "2024-01-21T03:22:22.064189400Z"
    }
   }
  },
  {
   "cell_type": "code",
   "execution_count": 2,
   "outputs": [],
   "source": [
    "adjClose.index = pd.to_datetime(adjClose.index, format='%Y-%m-%d').tz_localize(None)\n",
    "daily_adjClose.index = pd.to_datetime(daily_adjClose.index, format='%Y-%m-%d').tz_localize(None)\n",
    "ContextualInfo.index = ContextualInfo.index.set_levels([pd.to_datetime(ContextualInfo.index.levels[0]).tz_localize(None), ContextualInfo.index.levels[1]])"
   ],
   "metadata": {
    "collapsed": false,
    "ExecuteTime": {
     "end_time": "2024-01-21T03:22:30.171658800Z",
     "start_time": "2024-01-21T03:22:30.151973200Z"
    }
   }
  },
  {
   "cell_type": "code",
   "execution_count": 3,
   "outputs": [
    {
     "name": "stdout",
     "output_type": "stream",
     "text": [
      "The earliest possible start date\n"
     ]
    },
    {
     "data": {
      "text/plain": "Timestamp('1996-11-30 00:00:00')"
     },
     "execution_count": 3,
     "metadata": {},
     "output_type": "execute_result"
    }
   ],
   "source": [
    "print(\"The earliest possible start date\")\n",
    "max(daily_adjClose.index.unique()[0], ContextualInfo.index.get_level_values('date').unique()[0], adjClose.index.unique()[0])"
   ],
   "metadata": {
    "collapsed": false,
    "ExecuteTime": {
     "end_time": "2024-01-21T03:22:30.199657600Z",
     "start_time": "2024-01-21T03:22:30.167652300Z"
    }
   }
  },
  {
   "cell_type": "code",
   "execution_count": 4,
   "outputs": [
    {
     "name": "stdout",
     "output_type": "stream",
     "text": [
      "The latest possible start date\n"
     ]
    },
    {
     "data": {
      "text/plain": "Timestamp('2023-04-21 00:00:00')"
     },
     "execution_count": 4,
     "metadata": {},
     "output_type": "execute_result"
    }
   ],
   "source": [
    "print(\"The latest possible start date\")\n",
    "min(daily_adjClose.index.unique()[-1], ContextualInfo.index.get_level_values('date').unique()[-1], adjClose.index.unique()[-1])"
   ],
   "metadata": {
    "collapsed": false,
    "ExecuteTime": {
     "end_time": "2024-01-21T03:22:30.211109300Z",
     "start_time": "2024-01-21T03:22:30.183657700Z"
    }
   }
  },
  {
   "cell_type": "code",
   "execution_count": 5,
   "outputs": [],
   "source": [
    "start_date = pd.to_datetime('1996-11-30', format = '%Y-%m-%d')\n",
    "\n",
    "end_date = pd.to_datetime('2022-12-31', format = '%Y-%m-%d')\n",
    "\n",
    "# start_date = pd.to_datetime('2006-05-31', format = '%Y-%m-%d')\n",
    "#\n",
    "# end_date = pd.to_datetime('2022-12-31', format = '%Y-%m-%d')\n",
    "\n",
    "factors = ('Mkt-RF', 'RF')\n",
    "\n",
    "factorRet = get_monthly_factors(factors, start_date, end_date, Database)\n",
    "\n",
    "factorRet = factorRet.droplevel(0, axis = 1)\n",
    "factorRet.columns = [col.strip() for col in factorRet.columns]"
   ],
   "metadata": {
    "collapsed": false,
    "ExecuteTime": {
     "end_time": "2024-01-21T03:22:33.823013300Z",
     "start_time": "2024-01-21T03:22:30.199657600Z"
    }
   }
  },
  {
   "cell_type": "code",
   "execution_count": 6,
   "outputs": [],
   "source": [
    "adjClose = adjClose[start_date:end_date]\n",
    "daily_adjClose = daily_adjClose[start_date:end_date]\n",
    "idx = pd.IndexSlice\n",
    "ContextualInfo = ContextualInfo.loc[idx[start_date:end_date, :], :]"
   ],
   "metadata": {
    "collapsed": false,
    "ExecuteTime": {
     "end_time": "2024-01-21T03:22:33.949532100Z",
     "start_time": "2024-01-21T03:22:33.823013300Z"
    }
   }
  },
  {
   "cell_type": "code",
   "execution_count": 7,
   "outputs": [],
   "source": [
    "# Initial budget to invest ($100,000)\n",
    "initialVal = 100000\n",
    "\n",
    "# Length of investment period (in months) - but actually units of data\n",
    "investPeriod = 6\n",
    "\n",
    "# divide the factor returns by 100\n",
    "factorRet = factorRet/100\n",
    "\n",
    "#rf and factor returns\n",
    "#drop the first observation to align the dataset with the returns data that will\n",
    "#result\n",
    "factorRet = factorRet.iloc[1:, :]\n",
    "\n",
    "#rf and factor returns\n",
    "riskFree = factorRet['RF']\n",
    "factorRet = factorRet.loc[:,factorRet.columns != 'RF'];"
   ],
   "metadata": {
    "collapsed": false,
    "ExecuteTime": {
     "end_time": "2024-01-21T03:22:33.966541600Z",
     "start_time": "2024-01-21T03:22:33.949532100Z"
    }
   }
  },
  {
   "cell_type": "code",
   "execution_count": 8,
   "outputs": [],
   "source": [
    "#Identify the tickers and the dates\n",
    "tickers = adjClose.columns\n",
    "dates   = factorRet.index"
   ],
   "metadata": {
    "collapsed": false,
    "ExecuteTime": {
     "end_time": "2024-01-21T03:22:33.996114800Z",
     "start_time": "2024-01-21T03:22:33.967555600Z"
    }
   }
  },
  {
   "cell_type": "code",
   "execution_count": 9,
   "outputs": [],
   "source": [
    "# Calculate the stocks monthly excess returns\n",
    "# pct change and drop the first null observation\n",
    "returns = adjClose.pct_change(1).iloc[1:, :]\n",
    "returns = returns  - np.diag(riskFree.values) @ np.ones_like(returns.values) # risk adjusted returns\n",
    "# Align the price table to the asset and factor returns tables by discarding the first observation.\n",
    "adjClose = adjClose.iloc[1:,:]"
   ],
   "metadata": {
    "collapsed": false,
    "ExecuteTime": {
     "end_time": "2024-01-21T03:22:34.012114300Z",
     "start_time": "2024-01-21T03:22:33.983130600Z"
    }
   }
  },
  {
   "cell_type": "code",
   "execution_count": 10,
   "outputs": [],
   "source": [
    "assert adjClose.index[0] == returns.index[0]\n",
    "assert adjClose.index[0] == factorRet.index[0]"
   ],
   "metadata": {
    "collapsed": false,
    "ExecuteTime": {
     "end_time": "2024-01-21T03:22:34.035113400Z",
     "start_time": "2024-01-21T03:22:34.015116600Z"
    }
   }
  },
  {
   "cell_type": "markdown",
   "source": [
    "# 2. Run your program\n",
    "\n",
    "This section will run your Project1_Function in a loop. The data will be loaded progressively as a growing window of historical observations.\n",
    "Rebalancing will take place after every loop\n",
    "\n",
    "### 2.1 Some Standard Allocation Strategies"
   ],
   "metadata": {
    "collapsed": false
   }
  },
  {
   "cell_type": "code",
   "execution_count": 11,
   "outputs": [],
   "source": [
    "# Some strategies (uncomment this or the next cell to pick a strategy to test)\n",
    "# Strategy = general_strategy(sample_estimator, MVO, NumObs=48)  #the general strategy object takes an estimator function and an optimizer function\n",
    "#                                                                #the only constraint is that the estimators outputs are the optimizers inputs\n",
    "# investor preferences (static throughout the backtest)\n",
    "hyperparam_search = False # True if model has hyperparams\n",
    "optimizer = SVMMVO # CardMVO , MVO\n",
    "estimator = exponential_weighted_estimator_shrinkage #\n",
    "EstNumObs = 750\n",
    "k = 6*20 #estimation horizon\n",
    "alpha= 1 - 0.990 #estimation decay\n",
    "return_premium = 1.4 #optimization premium\n",
    "\n",
    "turnover_constraints = True\n",
    "turnover_limit = 0.75 # 0.75, 1, 1.25\n",
    "cardinality_ratio = 0.5 #optimization\n",
    "\n",
    "MipGap = 0.05 # for portfolio optimizer\n",
    "limit_time = 120 # for portfolio optimizer\n",
    "\n",
    "target_return_strategy = premium_target # for portfolio optimizer to calculate return target\n",
    "# mean_target, premium_target, ticker_return_target\n",
    "target_return_strategy_args = ['premium'] # args for the return strategy\n",
    "\n",
    "bigMStrategy = HyperparameterBigMStrategy #objectiveBigMStrategy #objectiveBigMStrategyTightening , objectiveBigMStrategy\n",
    "\n",
    "bigM_limit_time=20 # for the feasible solution used to calculate big M\n",
    "bigM_MipGap=0.05 # for the feasible solution used to calculate big M\n",
    "bigM_SolutionLimit=120 # for the feasible solution used to calculate big <\n",
    "\n",
    "SkipSOCP = True # flag to skip the SOCP\n",
    "tightening_iter_lim = 1 # number of iterations of tightening to do\n",
    "\n",
    "SVMMVO_bigM_time_limit = 5 # for computing a better solution in the tightening strategy\n",
    "SVMMVO_MipGap=0.1 # for computing a better solution in the tightening strategy\n",
    "SVMMVO_SolutionLimit=5 # for computing a better solution in the tightening strategy\n",
    "\n",
    "SOCP_limit_time=10 # time limit for the SOCP's\n",
    "\n",
    "ticker_index = tickers.get_loc(ticker_str) # the ticker we want to compare to if\n",
    "#  we are using the ticker_return_target strategy\n",
    "\n",
    "q = 2 #subset of features\n",
    "\n",
    "C = 0.1 # separation importance\n",
    "\n",
    "epsilon = 0.1 # regularization amount for SVM\n",
    "\n",
    "separable = False # do not restrict the hyperplane to be separable\n",
    "\n",
    "LogToConsole = True # display optimization results in the console\n",
    "Verbose = True # print statements\n",
    "\n",
    "hyperparams = {'C': list(np.geomspace(0.1, 100, 4)), 'epsilon': list(np.geomspace(0.1, 100, 4))} # hyperparams for hyperparam search\n",
    "#q_alpha = 0.3187 # alpha for Q(t, a) = (1 - q_alpha) Q(t-1. a) + R(t, a)\n",
    "q_alpha = 0.6838\n",
    "kappa = 0.1 # 10 % risk/turnover tolerance\n",
    "\n",
    "investor_preferences = {'k':k, # horizon\n",
    "                        'alpha':alpha, # decay\n",
    "                        'premium':return_premium, # return premium preference\n",
    "                        'EstNumObs':EstNumObs,\n",
    "                        'ticker_index':ticker_index, # benchmark index for comparison used in place of return premium depending on the investors function to set r_min\n",
    "                        'target_return_strategy':target_return_strategy, # strategy for setting return\n",
    "                        'target_return_strategy_args': target_return_strategy_args, # args for return setting strategy\n",
    "                        'turnover_limit':turnover_limit, # turnover limit\n",
    "                        'turnover_constraints':turnover_constraints, # turnover limit choice (Y/N)\n",
    "                        'cardinality_ratio': cardinality_ratio, # Pct of assets to invest in\n",
    "                        'MipGap' : MipGap, 'limit_time':limit_time, # problem solving limits\n",
    "    \n",
    "                        'bigMStrategy':bigMStrategy,\n",
    "                        'bigM_limit_time':bigM_limit_time,\n",
    "                        'bigM_MipGap':bigM_MipGap,\n",
    "                        'bigM_SolutionLimit':bigM_SolutionLimit,\n",
    "\n",
    "                        'SkipSOCP':SkipSOCP,\n",
    "                        'tightening_iter_lim':tightening_iter_lim,\n",
    "\n",
    "                        'SVMMVO_bigM_time_limit':SVMMVO_bigM_time_limit,\n",
    "                        'SVMMVO_MipGap':SVMMVO_MipGap,\n",
    "                        'SVMMVO_SolutionLimit':SVMMVO_SolutionLimit,\n",
    "\n",
    "                        'SOCP_limit_time':SOCP_limit_time,\n",
    "                        'q':q,\n",
    "                        'C':C,\n",
    "                        'epsilon':epsilon,\n",
    "                        'separable':separable,\n",
    "                        'LogToConsole':LogToConsole,\n",
    "                        'Verbose':Verbose,\n",
    "                        'hyperparams':hyperparams,\n",
    "                        'q_alpha':q_alpha,\n",
    "                        'kappa':kappa}\n",
    "\n",
    "Strategy = general_strategy(estimator, optimizer,\n",
    "                            investor_preferences = investor_preferences)\n",
    "\n",
    "Strategy.extract_estimation_info = populate_exponential_weighted_estimator_shrinkage\n",
    "Strategy.extract_optimization_info = populate_kwargs\n",
    "\n",
    "StrategyCardMVO = general_strategy(estimator, CardMVO,\n",
    "                            investor_preferences = investor_preferences)\n",
    "\n",
    "StrategyCardMVO.extract_estimation_info = populate_exponential_weighted_estimator_shrinkage\n",
    "StrategyCardMVO.extract_optimization_info = populate_kwargs\n",
    "\n",
    "env = environment()\n",
    "# see strategy script for different options OLS_RP() #OLS_MVO() #HistoricalMeanVarianceOptimization()"
   ],
   "metadata": {
    "collapsed": false,
    "ExecuteTime": {
     "end_time": "2024-01-21T17:47:20.910320Z",
     "start_time": "2024-01-21T17:47:20.872799100Z"
    }
   }
  },
  {
   "cell_type": "code",
   "execution_count": 12,
   "outputs": [],
   "source": [
    "\n",
    "# Start of out-of-sample test period\n",
    "testStart = returns.index[0] + pd.offsets.DateOffset(years=2)\n",
    "\n",
    "# End of the first investment period\n",
    "# testEnd = testStart + pd.offsets.DateOffset(months=investPeriod) - pd.offsets.DateOffset(days = 1)\n",
    "testEnd = testStart + pd.offsets.MonthBegin(investPeriod) - pd.offsets.DateOffset(days = 1)\n",
    "\n",
    "# End of calibration period\n",
    "calEnd = testStart -  pd.offsets.DateOffset(days = 1)"
   ],
   "metadata": {
    "collapsed": false,
    "ExecuteTime": {
     "end_time": "2024-01-21T17:47:22.131543700Z",
     "start_time": "2024-01-21T17:47:22.100276600Z"
    }
   }
  },
  {
   "cell_type": "code",
   "execution_count": 13,
   "outputs": [
    {
     "name": "stdout",
     "output_type": "stream",
     "text": [
      "Test Start 1998-12-31 00:00:00\n",
      "Test End 1999-05-31 00:00:00\n",
      "Calibration End 1998-12-30 00:00:00\n"
     ]
    }
   ],
   "source": [
    "print(\"Test Start\", testStart)\n",
    "print(\"Test End\", testEnd)\n",
    "print(\"Calibration End\", calEnd)"
   ],
   "metadata": {
    "collapsed": false,
    "ExecuteTime": {
     "end_time": "2024-01-21T17:47:22.650274700Z",
     "start_time": "2024-01-21T17:47:22.631274700Z"
    }
   }
  },
  {
   "cell_type": "code",
   "execution_count": 14,
   "outputs": [
    {
     "name": "stdout",
     "output_type": "stream",
     "text": [
      "--------------------\n",
      "Calculating Big M\n",
      "--------------------\n",
      "Constructing Feasible Solution...\n",
      "Extracting a cardinality constrained portfolio...\n",
      "Set parameter Username\n",
      "Academic license - for non-commercial use only - expires 2025-01-07\n",
      "Set parameter TimeLimit to value 20\n",
      "Set parameter MIPGap to value 0.05\n",
      "Set parameter FeasibilityTol to value 1e-08\n",
      "Set parameter SolutionLimit to value 120\n",
      "--------------------\n",
      "Solving Card MVO...\n",
      "Gurobi Optimizer version 11.0.0 build v11.0.0rc2 (win64 - Windows 10.0 (19045.2))\n",
      "\n",
      "CPU model: Intel(R) Core(TM) i5-8350U CPU @ 1.70GHz, instruction set [SSE2|AVX|AVX2]\n",
      "Thread count: 4 physical cores, 8 logical processors, using up to 8 threads\n",
      "\n",
      "Optimize a model with 289 rows, 572 columns and 1430 nonzeros\n",
      "Model fingerprint: 0xd0caa348\n",
      "Model has 41041 quadratic objective terms\n",
      "Variable types: 286 continuous, 286 integer (286 binary)\n",
      "Coefficient statistics:\n",
      "  Matrix range     [9e-04, 1e+00]\n",
      "  Objective range  [0e+00, 0e+00]\n",
      "  QObjective range [1e-05, 2e+00]\n",
      "  Bounds range     [1e+00, 1e+00]\n",
      "  RHS range        [3e-01, 1e+02]\n",
      "Presolve time: 0.08s\n",
      "Presolved: 391 rows, 623 columns, 1634 nonzeros\n",
      "Presolved model has 41092 quadratic objective terms\n",
      "Variable types: 337 continuous, 286 integer (286 binary)\n",
      "Found heuristic solution: objective 0.0151464\n",
      "Found heuristic solution: objective 0.0106936\n",
      "\n",
      "Root relaxation: objective 9.584293e-03, 121 iterations, 0.01 seconds (0.00 work units)\n",
      "\n",
      "    Nodes    |    Current Node    |     Objective Bounds      |     Work\n",
      " Expl Unexpl |  Obj  Depth IntInf | Incumbent    BestBd   Gap | It/Node Time\n",
      "\n",
      "     0     0    0.00958    0   32    0.01069    0.00958  10.4%     -    0s\n",
      "H    0     0                       0.0095843    0.00958  0.00%     -    0s\n",
      "     0     0    0.00958    0   32    0.00958    0.00958  0.00%     -    0s\n",
      "\n",
      "Explored 1 nodes (121 simplex iterations) in 0.21 seconds (0.02 work units)\n",
      "Thread count was 8 (of 8 available processors)\n",
      "\n",
      "Solution count 3: 0.00958429 0.0106936 0.0151464 \n",
      "\n",
      "Optimal solution found (tolerance 5.00e-02)\n",
      "Best objective 9.584292796862e-03, best bound 9.584292796862e-03, gap 0.0000%\n",
      "Card MVO Finished...\n",
      "--------------------\n",
      "New Best C  0.000244140625\n",
      "Test Error  6.4001436291194365\n",
      "Selected Features  Index(['adjVolume_std_250', 'mean'], dtype='object')\n",
      "New Best C  8.000000000000004\n",
      "Test Error  6.400007958172206\n",
      "Selected Features  Index(['rect_act', 'mean'], dtype='object')\n",
      "Set parameter TimeLimit to value 20\n",
      "Set parameter FeasibilityTol to value 1e-08\n",
      "Gurobi Optimizer version 11.0.0 build v11.0.0rc2 (win64 - Windows 10.0 (19045.2))\n",
      "\n",
      "CPU model: Intel(R) Core(TM) i5-8350U CPU @ 1.70GHz, instruction set [SSE2|AVX|AVX2]\n",
      "Thread count: 4 physical cores, 8 logical processors, using up to 8 threads\n",
      "\n",
      "Optimize a model with 577 rows, 577 columns and 42767 nonzeros\n",
      "Model fingerprint: 0x54538095\n",
      "Model has 145 quadratic objective terms\n",
      "Variable types: 432 continuous, 145 integer (145 binary)\n",
      "Coefficient statistics:\n",
      "  Matrix range     [8e-06, 2e+01]\n",
      "  Objective range  [3e-02, 3e-02]\n",
      "  QObjective range [1e+00, 1e+00]\n",
      "  Bounds range     [1e+00, 1e+00]\n",
      "  RHS range        [1e+00, 2e+00]\n",
      "\n",
      "User MIP start produced solution with objective 1.79021 (0.03s)\n",
      "Loaded user MIP start with objective 1.79021\n",
      "\n",
      "Presolve time: 0.06s\n",
      "Presolved: 577 rows, 577 columns, 42767 nonzeros\n",
      "Presolved model has 145 quadratic objective terms\n",
      "Variable types: 432 continuous, 145 integer (145 binary)\n",
      "\n",
      "Root relaxation: objective 1.459665e+00, 538 iterations, 0.08 seconds (0.07 work units)\n",
      "\n",
      "    Nodes    |    Current Node    |     Objective Bounds      |     Work\n",
      " Expl Unexpl |  Obj  Depth IntInf | Incumbent    BestBd   Gap | It/Node Time\n",
      "\n",
      "     0     0    1.45966    0   98    1.79021    1.45966  18.5%     -    0s\n",
      "H    0     0                       1.7768524    1.45966  17.9%     -    0s\n",
      "     0     0    1.51379    0  104    1.77685    1.51379  14.8%     -    0s\n",
      "     0     0    1.51379    0   22    1.77685    1.51379  14.8%     -    1s\n",
      "     0     0    1.51379    0   28    1.77685    1.51379  14.8%     -    1s\n",
      "     0     0    1.51379    0   32    1.77685    1.51379  14.8%     -    1s\n",
      "     0     0    1.51379    0   25    1.77685    1.51379  14.8%     -    1s\n",
      "     0     0    1.51379    0   24    1.77685    1.51379  14.8%     -    1s\n",
      "     0     0    1.61631    0   36    1.77685    1.61631  9.04%     -    2s\n",
      "     0     0    1.62729    0   38    1.77685    1.62729  8.42%     -    2s\n",
      "     0     0    1.67384    0   29    1.77685    1.67384  5.80%     -    2s\n",
      "     0     0    1.67606    0   24    1.77685    1.67606  5.67%     -    3s\n",
      "     0     0    1.68378    0   18    1.77685    1.68378  5.24%     -    3s\n",
      "     0     0    1.68409    0   16    1.77685    1.68409  5.22%     -    3s\n",
      "     0     0    1.68660    0   22    1.77685    1.68660  5.08%     -    3s\n",
      "H    0     0                       1.7433538    1.68660  3.26%     -    3s\n",
      "     0     0    1.68856    0   21    1.74335    1.68856  3.14%     -    3s\n",
      "     0     0    1.69115    0   19    1.74335    1.69115  2.99%     -    3s\n",
      "     0     0    1.69146    0   20    1.74335    1.69146  2.98%     -    4s\n",
      "     0     0    1.69310    0   24    1.74335    1.69310  2.88%     -    4s\n",
      "     0     0    1.69443    0   25    1.74335    1.69443  2.81%     -    4s\n",
      "     0     0    1.69621    0   20    1.74335    1.69621  2.70%     -    4s\n",
      "     0     0    1.69667    0   17    1.74335    1.69667  2.68%     -    4s\n",
      "     0     0    1.69753    0   19    1.74335    1.69753  2.63%     -    4s\n",
      "     0     0    1.69766    0   20    1.74335    1.69766  2.62%     -    4s\n",
      "     0     0    1.69857    0   17    1.74335    1.69857  2.57%     -    4s\n",
      "     0     0    1.69891    0   17    1.74335    1.69891  2.55%     -    4s\n",
      "     0     0    1.69927    0   16    1.74335    1.69927  2.53%     -    4s\n",
      "     0     0    1.69980    0   15    1.74335    1.69980  2.50%     -    4s\n",
      "     0     0    1.70034    0   19    1.74335    1.70034  2.47%     -    4s\n",
      "     0     0    1.70075    0   16    1.74335    1.70075  2.44%     -    4s\n",
      "     0     0    1.70188    0   20    1.74335    1.70188  2.38%     -    4s\n",
      "     0     0    1.70215    0   17    1.74335    1.70215  2.36%     -    4s\n",
      "     0     0    1.70259    0   19    1.74335    1.70259  2.34%     -    4s\n",
      "     0     0    1.70311    0   17    1.74335    1.70311  2.31%     -    4s\n",
      "     0     0    1.70480    0   19    1.74335    1.70480  2.21%     -    4s\n",
      "     0     0    1.70594    0   19    1.74335    1.70594  2.15%     -    4s\n",
      "     0     0    1.70713    0   19    1.74335    1.70713  2.08%     -    4s\n",
      "     0     0    1.70956    0   19    1.74335    1.70956  1.94%     -    4s\n",
      "     0     0    1.71119    0   17    1.74335    1.71119  1.85%     -    4s\n",
      "     0     0    1.71179    0   17    1.74335    1.71179  1.81%     -    6s\n",
      "     0     2    1.71179    0   17    1.74335    1.71179  1.81%     -    6s\n",
      "\n",
      "Cutting planes:\n",
      "  Implied bound: 65\n",
      "  MIR: 9\n",
      "\n",
      "Explored 66 nodes (8045 simplex iterations) in 7.81 seconds (4.01 work units)\n",
      "Thread count was 8 (of 8 available processors)\n",
      "\n",
      "Solution count 3: 1.74335 1.77685 1.79021 \n",
      "\n",
      "Optimal solution found (tolerance 1.00e-04)\n",
      "Best objective 1.743353741093e+00, best bound 1.743353641319e+00, gap 0.0000%\n",
      "Largest epsilon value guaranteeing  1.1  risk:  0.000549761793659391\n",
      "Feasible solution constructed in  15.86160135269165  seconds\n",
      "Feasible solution objective value  0.010542722076548125\n",
      "Xi Lemma  Lemma 5\n",
      "Theorem 2 big M  326.3748510274669\n",
      "Theorem 3 big M  210.73375648301308\n",
      "C and epsilon updated from big M\n",
      "Calculated Big M  210.73375648301308\n",
      "Calculated big W 4.37914274168186\n",
      "Calculated big b 105.36687824150654\n",
      "Calculated big xi 210.73375648301308\n",
      "Set parameter TimeLimit to value 120\n",
      "Set parameter FeasibilityTol to value 1e-08\n",
      "Set parameter MIPGap to value 0.05\n",
      "Gurobi Optimizer version 11.0.0 build v11.0.0rc2 (win64 - Windows 10.0 (19045.2))\n",
      "\n",
      "CPU model: Intel(R) Core(TM) i5-8350U CPU @ 1.70GHz, instruction set [SSE2|AVX|AVX2]\n",
      "Thread count: 4 physical cores, 8 logical processors, using up to 8 threads\n",
      "\n",
      "Optimize a model with 1152 rows, 1149 columns and 86811 nonzeros\n",
      "Model fingerprint: 0xdb8813f9\n",
      "Model has 41186 quadratic objective terms\n",
      "Variable types: 718 continuous, 431 integer (431 binary)\n",
      "Coefficient statistics:\n",
      "  Matrix range     [8e-06, 2e+02]\n",
      "  Objective range  [2e-05, 2e-05]\n",
      "  QObjective range [1e-05, 2e+00]\n",
      "  Bounds range     [1e+00, 1e+00]\n",
      "  RHS range        [3e-01, 2e+02]\n",
      "\n",
      "User MIP start produced solution with objective 0.0105427 (0.05s)\n",
      "Loaded user MIP start with objective 0.0105427\n",
      "\n",
      "Presolve time: 0.15s\n",
      "Presolved: 1254 rows, 1200 columns, 87015 nonzeros\n",
      "Presolved model has 41237 quadratic objective terms\n",
      "Variable types: 769 continuous, 431 integer (431 binary)\n",
      "\n",
      "Root relaxation: objective 9.584293e-03, 123 iterations, 0.02 seconds (0.01 work units)\n",
      "\n",
      "    Nodes    |    Current Node    |     Objective Bounds      |     Work\n",
      " Expl Unexpl |  Obj  Depth IntInf | Incumbent    BestBd   Gap | It/Node Time\n",
      "\n",
      "     0     0    0.00958    0   32    0.01054    0.00958  9.09%     -    0s\n",
      "     0     0    0.00958    0   32    0.01054    0.00958  9.09%     -    0s\n",
      "     0     0    0.00958    0   32    0.01054    0.00958  9.09%     -    0s\n",
      "     0     0    0.00958    0   32    0.01054    0.00958  9.09%     -    1s\n",
      "     0     0    0.00958    0   32    0.01054    0.00958  9.09%     -    1s\n",
      "     0     0    0.00958    0  285    0.01054    0.00958  9.09%     -    1s\n",
      "     0     0    0.00958    0  285    0.01054    0.00958  9.09%     -    1s\n",
      "     0     0    0.00958    0  285    0.01054    0.00958  9.09%     -    1s\n",
      "     0     0    0.00958    0  285    0.01054    0.00958  9.09%     -    1s\n",
      "     0     0    0.00958    0  286    0.01054    0.00958  9.09%     -    2s\n",
      "     0     0    0.00958    0  286    0.01054    0.00958  9.09%     -    2s\n",
      "     0     0    0.00958    0  286    0.01054    0.00958  9.09%     -    2s\n",
      "     0     2    0.00958    0  286    0.01054    0.00958  9.09%     -    2s\n",
      "H  164   158                       0.0104765    0.00958  8.52%  59.9    4s\n",
      "   190   190    0.00961   34  386    0.01048    0.00958  8.52%  54.0    5s\n",
      "H  209   200                       0.0103966    0.00958  7.81%  49.5    5s\n",
      "H  278   241                       0.0103736    0.00958  7.61%  39.2    5s\n",
      "H  283   241                       0.0103406    0.00958  7.31%  38.7    5s\n",
      "H  331   286                       0.0103202    0.00958  7.13%  33.8    5s\n",
      "H  339   296                       0.0102876    0.00958  6.84%  33.1    6s\n",
      "H  340   296                       0.0102678    0.00958  6.66%  33.0    6s\n",
      "   564   506    0.00971  124  304    0.01027    0.00959  6.62%  33.8   10s\n",
      "H  567   506                       0.0102677    0.00959  6.61%  33.8   10s\n",
      "   805   695    0.01012  157  255    0.01027    0.00959  6.61%  48.5   15s\n",
      "  1108   930    0.00980  153  266    0.01027    0.00959  6.60%  53.8   21s\n",
      "  1187   986    0.00959   73  286    0.01027    0.00959  6.60%  54.9   29s\n",
      "  1189   987    0.01008  154  284    0.01027    0.00959  6.60%  54.8   30s\n",
      "  1348  1100    0.00981   31  357    0.01027    0.00959  6.60%  59.9   35s\n",
      "  1456  1173    0.00987   44  362    0.01027    0.00959  6.60%  59.4   40s\n",
      "  1565  1249    0.00995   57  342    0.01027    0.00959  6.60%  58.7   45s\n",
      "  1719  1355    0.01008   77  315    0.01027    0.00959  6.60%  58.3   50s\n",
      "  2120  1606    0.00959   30  264    0.01027    0.00959  6.60%  58.3   55s\n",
      "  2458  1806    0.00959   65  229    0.01027    0.00959  6.60%  60.5   60s\n",
      "  2763  2006    0.00959  100  194    0.01027    0.00959  6.60%  63.4   65s\n",
      "  2895  2099    0.00961  114  323    0.01027    0.00959  6.60%  64.1   74s\n",
      "  2978  2167    0.00959  124  169    0.01027    0.00959  6.60%  64.5   75s\n",
      "  3287  2320    0.00973  153  284    0.01027    0.00959  6.60%  64.9   81s\n",
      "  3528  2434    0.01018  168  269    0.01027    0.00959  6.60%  64.7   85s\n",
      "  3853  2548    0.01002   49  275    0.01027    0.00959  6.60%  61.8   96s\n",
      "  4339  2969    0.00973   36  349    0.01027    0.00959  6.60%  58.6  101s\n",
      "  5055  3689    0.01024  157  187    0.01027    0.00959  6.60%  54.8  106s\n",
      "  5746  4308    0.00963   71  364    0.01027    0.00959  6.60%  53.0  110s\n",
      "  6446  4895    0.00990  162  272    0.01027    0.00959  6.60%  52.1  115s\n",
      "  7073  5369    0.01025  174  247    0.01027    0.00959  6.60%  50.3  120s\n",
      "\n",
      "Cutting planes:\n",
      "  MIR: 1\n",
      "  Flow cover: 1\n",
      "\n",
      "Explored 7303 nodes (366914 simplex iterations) in 120.03 seconds (100.67 work units)\n",
      "Thread count was 8 (of 8 available processors)\n",
      "\n",
      "Solution count 8: 0.0102677 0.0102876 0.0103202 ... 0.0105427\n",
      "\n",
      "Time limit reached\n",
      "Best objective 1.026765794533e-02, best bound 9.589641158498e-03, gap 6.6034%\n",
      "SVM MVO Objective Value  0.010267657945332631\n",
      "Norm of w  0.028331264625349448\n",
      "Classification errors  36.987157289643754\n",
      "Set parameter TimeLimit to value 120\n",
      "Set parameter MIPGap to value 0.05\n",
      "Set parameter FeasibilityTol to value 1e-08\n",
      "--------------------\n",
      "Solving Card MVO...\n",
      "Gurobi Optimizer version 11.0.0 build v11.0.0rc2 (win64 - Windows 10.0 (19045.2))\n",
      "\n",
      "CPU model: Intel(R) Core(TM) i5-8350U CPU @ 1.70GHz, instruction set [SSE2|AVX|AVX2]\n",
      "Thread count: 4 physical cores, 8 logical processors, using up to 8 threads\n",
      "\n",
      "Optimize a model with 289 rows, 572 columns and 1430 nonzeros\n",
      "Model fingerprint: 0xd0caa348\n",
      "Model has 41041 quadratic objective terms\n",
      "Variable types: 286 continuous, 286 integer (286 binary)\n",
      "Coefficient statistics:\n",
      "  Matrix range     [9e-04, 1e+00]\n",
      "  Objective range  [0e+00, 0e+00]\n",
      "  QObjective range [1e-05, 2e+00]\n",
      "  Bounds range     [1e+00, 1e+00]\n",
      "  RHS range        [3e-01, 1e+02]\n",
      "Presolve time: 0.08s\n",
      "Presolved: 391 rows, 623 columns, 1634 nonzeros\n",
      "Presolved model has 41092 quadratic objective terms\n",
      "Variable types: 337 continuous, 286 integer (286 binary)\n",
      "Found heuristic solution: objective 0.0151464\n",
      "Found heuristic solution: objective 0.0106936\n",
      "\n",
      "Root relaxation: objective 9.584293e-03, 121 iterations, 0.01 seconds (0.00 work units)\n",
      "\n",
      "    Nodes    |    Current Node    |     Objective Bounds      |     Work\n",
      " Expl Unexpl |  Obj  Depth IntInf | Incumbent    BestBd   Gap | It/Node Time\n",
      "\n",
      "     0     0    0.00958    0   32    0.01069    0.00958  10.4%     -    0s\n",
      "H    0     0                       0.0095843    0.00958  0.00%     -    0s\n",
      "     0     0    0.00958    0   32    0.00958    0.00958  0.00%     -    0s\n",
      "\n",
      "Explored 1 nodes (121 simplex iterations) in 0.17 seconds (0.02 work units)\n",
      "Thread count was 8 (of 8 available processors)\n",
      "\n",
      "Solution count 3: 0.00958429 0.0106936 0.0151464 \n",
      "\n",
      "Optimal solution found (tolerance 5.00e-02)\n",
      "Best objective 9.584292796862e-03, best bound 9.584292796862e-03, gap 0.0000%\n",
      "Card MVO Finished...\n",
      "--------------------\n"
     ]
    }
   ],
   "source": [
    "# Number of assets\n",
    "n  = len(tickers)\n",
    "env.n = n\n",
    "\n",
    "# Measure runtime: start the clock\n",
    "start_time = time.time()\n",
    "\n",
    "# Subset the returns and factor returns corresponding to the current calibration period.\n",
    "periodReturns = returns[returns.index <= calEnd]\n",
    "periodFactRet = factorRet[factorRet.index <= calEnd]\n",
    "\n",
    "# take the last available contextual observations\n",
    "period_daily_adjClose = daily_adjClose[daily_adjClose.index <= calEnd]\n",
    "period_Context_idx = ContextualInfo.index.get_level_values('date') <= calEnd\n",
    "period_Context = ContextualInfo.iloc[period_Context_idx].groupby('ticker').last()\n",
    "\n",
    "env.periodReturns = periodReturns\n",
    "env.periodFactRet = periodFactRet\n",
    "env.period_daily_adjClose = period_daily_adjClose\n",
    "env.period_Context = period_Context\n",
    "\n",
    "# there should be a feature vector for each asset\n",
    "assert len(period_Context) == n\n",
    "# all the tickers should be aligned in the context and ticker dataset\n",
    "assert (periodReturns.columns == period_Context.index).all()\n",
    "\n",
    "current_price_idx = (calEnd - pd.offsets.DateOffset(months=1) <= adjClose.index)&(adjClose.index <= calEnd)\n",
    "currentPrices = adjClose[current_price_idx]\n",
    "\n",
    "# Subset the prices corresponding to the current out-of-sample test period.\n",
    "periodPrices_idx = (testStart <= adjClose.index)&(adjClose.index <= testEnd)\n",
    "periodPrices = adjClose[periodPrices_idx]\n",
    "\n",
    "assert len(periodPrices) == investPeriod\n",
    "assert len(currentPrices) == 1\n",
    "\n",
    "# Set the initial value of the portfolio or update the portfolio value\n",
    "\n",
    "#----------------------------------------------------------------------\n",
    "# Portfolio optimization\n",
    "# You must write code your own algorithmic trading function\n",
    "#----------------------------------------------------------------------\n",
    "\n",
    "x = Strategy.execute_strategy(periodReturns, periodFactRet, environment=env) #equal_weight(periodReturns) #StrategyFunction(periodReturns, periodFactRet, x0[:,t]);\n",
    "x = StrategyCardMVO.execute_strategy(periodReturns, periodFactRet, environment=env) #equal_weight(periodReturns) #StrategyFunction(periodReturns, periodFactRet, x0[:,t]);\n",
    "\n",
    "end_time = time.time()"
   ],
   "metadata": {
    "collapsed": false,
    "ExecuteTime": {
     "end_time": "2024-01-21T17:47:35.278604Z",
     "start_time": "2024-01-21T17:47:23.452035600Z"
    }
   }
  },
  {
   "cell_type": "code",
   "execution_count": 15,
   "outputs": [
    {
     "data": {
      "text/plain": "dict_keys(['obj_value', 'time', 'bigM_time', 'optimality gap', 'x', 'z', 'w', 't', 'b', 'xi', 'feasible_solution', 'C', 'epsilon', 'optimization_params'])"
     },
     "execution_count": 15,
     "metadata": {},
     "output_type": "execute_result"
    }
   ],
   "source": [
    "Strategy.current_results.keys()"
   ],
   "metadata": {
    "collapsed": false,
    "ExecuteTime": {
     "end_time": "2024-01-21T17:47:35.309110400Z",
     "start_time": "2024-01-21T17:47:35.270598300Z"
    }
   }
  },
  {
   "cell_type": "code",
   "execution_count": 16,
   "outputs": [
    {
     "data": {
      "text/plain": "dict_keys(['mu', 'Q', 'targetRet', 'previous_portfolio', 'K', 'period_Context', 'k', 'alpha', 'premium', 'EstNumObs', 'ticker_index', 'target_return_strategy', 'target_return_strategy_args', 'turnover_limit', 'turnover_constraints', 'cardinality_ratio', 'MipGap', 'limit_time', 'bigMStrategy', 'bigM_limit_time', 'bigM_MipGap', 'bigM_SolutionLimit', 'SkipSOCP', 'tightening_iter_lim', 'SVMMVO_bigM_time_limit', 'SVMMVO_MipGap', 'SVMMVO_SolutionLimit', 'SOCP_limit_time', 'q', 'C', 'epsilon', 'separable', 'LogToConsole', 'Verbose', 'hyperparams', 'q_alpha', 'kappa'])"
     },
     "execution_count": 16,
     "metadata": {},
     "output_type": "execute_result"
    }
   ],
   "source": [
    "Strategy.current_results['optimization_params'].keys()"
   ],
   "metadata": {
    "collapsed": false,
    "ExecuteTime": {
     "end_time": "2024-01-21T17:47:35.310110500Z",
     "start_time": "2024-01-21T17:47:35.290110700Z"
    }
   }
  },
  {
   "cell_type": "code",
   "execution_count": 17,
   "outputs": [
    {
     "data": {
      "text/plain": "0.010267657945332631"
     },
     "execution_count": 17,
     "metadata": {},
     "output_type": "execute_result"
    }
   ],
   "source": [
    "Strategy.current_results['obj_value'] # bound satisfied"
   ],
   "metadata": {
    "collapsed": false,
    "ExecuteTime": {
     "end_time": "2024-01-21T17:47:35.362111500Z",
     "start_time": "2024-01-21T17:47:35.305110Z"
    }
   }
  },
  {
   "cell_type": "code",
   "execution_count": 18,
   "outputs": [
    {
     "data": {
      "text/plain": "            mean  average_correlation\nticker                               \nAAPL    1.290522             0.414904\nABT     0.317805             0.161565\nADBE    0.706310             0.192909\nADI     1.544101             2.046395\nADM    -0.707782            -0.752094\n...          ...                  ...\nX      -1.187470            -0.452343\nXRAY   -0.310993            -1.204692\nXRX     0.806871             0.571701\nZBRA   -0.792299            -0.238613\nZION    1.037092             0.093643\n\n[286 rows x 2 columns]",
      "text/html": "<div>\n<style scoped>\n    .dataframe tbody tr th:only-of-type {\n        vertical-align: middle;\n    }\n\n    .dataframe tbody tr th {\n        vertical-align: top;\n    }\n\n    .dataframe thead th {\n        text-align: right;\n    }\n</style>\n<table border=\"1\" class=\"dataframe\">\n  <thead>\n    <tr style=\"text-align: right;\">\n      <th></th>\n      <th>mean</th>\n      <th>average_correlation</th>\n    </tr>\n    <tr>\n      <th>ticker</th>\n      <th></th>\n      <th></th>\n    </tr>\n  </thead>\n  <tbody>\n    <tr>\n      <th>AAPL</th>\n      <td>1.290522</td>\n      <td>0.414904</td>\n    </tr>\n    <tr>\n      <th>ABT</th>\n      <td>0.317805</td>\n      <td>0.161565</td>\n    </tr>\n    <tr>\n      <th>ADBE</th>\n      <td>0.706310</td>\n      <td>0.192909</td>\n    </tr>\n    <tr>\n      <th>ADI</th>\n      <td>1.544101</td>\n      <td>2.046395</td>\n    </tr>\n    <tr>\n      <th>ADM</th>\n      <td>-0.707782</td>\n      <td>-0.752094</td>\n    </tr>\n    <tr>\n      <th>...</th>\n      <td>...</td>\n      <td>...</td>\n    </tr>\n    <tr>\n      <th>X</th>\n      <td>-1.187470</td>\n      <td>-0.452343</td>\n    </tr>\n    <tr>\n      <th>XRAY</th>\n      <td>-0.310993</td>\n      <td>-1.204692</td>\n    </tr>\n    <tr>\n      <th>XRX</th>\n      <td>0.806871</td>\n      <td>0.571701</td>\n    </tr>\n    <tr>\n      <th>ZBRA</th>\n      <td>-0.792299</td>\n      <td>-0.238613</td>\n    </tr>\n    <tr>\n      <th>ZION</th>\n      <td>1.037092</td>\n      <td>0.093643</td>\n    </tr>\n  </tbody>\n</table>\n<p>286 rows × 2 columns</p>\n</div>"
     },
     "execution_count": 18,
     "metadata": {},
     "output_type": "execute_result"
    }
   ],
   "source": [
    "Strategy.current_results['optimization_params']['period_Context'].iloc[:,Strategy.current_results['t'] > 0.0001]"
   ],
   "metadata": {
    "collapsed": false,
    "ExecuteTime": {
     "end_time": "2024-01-21T17:47:35.381115500Z",
     "start_time": "2024-01-21T17:47:35.323111Z"
    }
   }
  },
  {
   "cell_type": "code",
   "execution_count": 19,
   "outputs": [
    {
     "data": {
      "text/plain": "0.010542722076548126"
     },
     "execution_count": 19,
     "metadata": {},
     "output_type": "execute_result"
    }
   ],
   "source": [
    "StrategyCardMVO.current_results['obj_value']*(1 + kappa)"
   ],
   "metadata": {
    "collapsed": false,
    "ExecuteTime": {
     "end_time": "2024-01-21T17:47:35.382115600Z",
     "start_time": "2024-01-21T17:47:35.334111500Z"
    }
   }
  },
  {
   "cell_type": "code",
   "execution_count": 20,
   "outputs": [],
   "source": [
    "x_svmmvo = Strategy.current_results['x']\n",
    "x_cardmvo = StrategyCardMVO.current_results['x']"
   ],
   "metadata": {
    "collapsed": false,
    "ExecuteTime": {
     "end_time": "2024-01-21T17:47:35.383116Z",
     "start_time": "2024-01-21T17:47:35.352112200Z"
    }
   }
  },
  {
   "cell_type": "code",
   "execution_count": 21,
   "outputs": [],
   "source": [
    "portfolios = pd.DataFrame([x_svmmvo, x_cardmvo], columns = tickers, index = ['SVMMVO','CardMVO']).T"
   ],
   "metadata": {
    "collapsed": false,
    "ExecuteTime": {
     "end_time": "2024-01-21T17:47:35.398406700Z",
     "start_time": "2024-01-21T17:47:35.367110800Z"
    }
   }
  },
  {
   "cell_type": "code",
   "execution_count": 22,
   "outputs": [
    {
     "data": {
      "text/plain": "<Figure size 400x600 with 1 Axes>",
      "image/png": "[encoded data removed]"
     },
     "metadata": {},
     "output_type": "display_data"
    }
   ],
   "source": [
    "portfolios[(portfolios > 0.001).any(axis =1)].plot.barh(figsize = (4, 6));"
   ],
   "metadata": {
    "collapsed": false,
    "ExecuteTime": {
     "end_time": "2024-01-21T17:47:35.579976500Z",
     "start_time": "2024-01-21T17:47:35.395390600Z"
    }
   }
  },
  {
   "cell_type": "markdown",
   "source": [
    "# 3. Efficient Frontier"
   ],
   "metadata": {
    "collapsed": false
   }
  },
  {
   "cell_type": "code",
   "execution_count": 23,
   "outputs": [
    {
     "name": "stdout",
     "output_type": "stream",
     "text": [
      "Set parameter TimeLimit to value 120\n",
      "Set parameter MIPGap to value 0.05\n",
      "Set parameter FeasibilityTol to value 1e-08\n",
      "--------------------\n",
      "Solving Card MVO...\n",
      "Gurobi Optimizer version 11.0.0 build v11.0.0rc2 (win64 - Windows 10.0 (19045.2))\n",
      "\n",
      "CPU model: Intel(R) Core(TM) i5-8350U CPU @ 1.70GHz, instruction set [SSE2|AVX|AVX2]\n",
      "Thread count: 4 physical cores, 8 logical processors, using up to 8 threads\n",
      "\n",
      "Optimize a model with 289 rows, 572 columns and 1430 nonzeros\n",
      "Model fingerprint: 0xd70debc8\n",
      "Model has 41041 quadratic objective terms\n",
      "Variable types: 286 continuous, 286 integer (286 binary)\n",
      "Coefficient statistics:\n",
      "  Matrix range     [9e-04, 1e+00]\n",
      "  Objective range  [0e+00, 0e+00]\n",
      "  QObjective range [1e-05, 2e+00]\n",
      "  Bounds range     [1e+00, 1e+00]\n",
      "  RHS range        [1e+00, 1e+05]\n",
      "Found heuristic solution: objective 0.0890611\n",
      "Presolve removed 288 rows and 286 columns\n",
      "Presolve time: 0.02s\n",
      "Presolved: 1 rows, 286 columns, 286 nonzeros\n",
      "Presolved model has 41041 quadratic objective terms\n",
      "Variable types: 286 continuous, 0 integer (0 binary)\n",
      "Root relaxation presolve time: 0.07s\n",
      "Root relaxation presolved: 1 rows, 286 columns, 286 nonzeros\n",
      "Root relaxation presolved model has 41041 quadratic objective terms\n",
      "Root barrier log...\n",
      "\n",
      "Ordering time: 0.01s\n",
      "\n",
      "Barrier statistics:\n",
      " Free vars  : 285\n",
      " AA' NZ     : 4.076e+04\n",
      " Factor NZ  : 4.104e+04 (roughly 1 MB of memory)\n",
      " Factor Ops : 7.839e+06 (less than 1 second per iteration)\n",
      " Threads    : 3\n",
      "\n",
      "                  Objective                Residual\n",
      "Iter       Primal          Dual         Primal    Dual     Compl     Time\n",
      "   0   2.18890796e+05 -2.18890796e+05  2.86e+05 2.06e-05  2.50e+05     0s\n",
      "   1   2.27460749e-01 -5.00151775e+02  3.15e+02 2.27e-08  2.77e+02     0s\n",
      "   2   1.66001199e-02 -4.97319000e+02  3.15e-04 2.27e-14  8.70e-01     0s\n",
      "   3   1.65978899e-02 -5.08700360e-01  1.78e-08 6.94e-18  9.18e-04     0s\n",
      "   4   1.49934834e-02 -1.01903444e-02  4.67e-10 6.94e-18  4.40e-05     0s\n",
      "   5   6.47500680e-03 -7.23322983e-03  1.33e-15 2.78e-17  2.40e-05     0s\n",
      "   6   4.21042017e-03  1.48397378e-03  5.55e-17 1.39e-17  4.77e-06     0s\n",
      "   7   3.33176866e-03  2.42336384e-03  1.79e-16 1.04e-17  1.59e-06     0s\n",
      "   8   2.97037634e-03  2.89100442e-03  3.33e-16 6.94e-18  1.39e-07     0s\n",
      "   9   2.91242297e-03  2.90871808e-03  1.33e-15 6.94e-18  6.48e-09     0s\n",
      "  10   2.90929217e-03  2.90927248e-03  9.99e-16 6.94e-18  3.44e-11     0s\n",
      "  11   2.90927348e-03  2.90927340e-03  2.03e-13 1.04e-17  1.37e-13     0s\n",
      "\n",
      "Barrier solved model in 11 iterations and 0.28 seconds (0.07 work units)\n",
      "Optimal objective 2.90927348e-03\n",
      "\n",
      "\n",
      "Root relaxation: objective 2.909273e-03, 0 iterations, 0.23 seconds (0.08 work units)\n",
      "\n",
      "    Nodes    |    Current Node    |     Objective Bounds      |     Work\n",
      " Expl Unexpl |  Obj  Depth IntInf | Incumbent    BestBd   Gap | It/Node Time\n",
      "\n",
      "*    0     0               0       0.0029093    0.00291  0.00%     -    0s\n",
      "\n",
      "Explored 1 nodes (0 simplex iterations) in 0.32 seconds (0.08 work units)\n",
      "Thread count was 8 (of 8 available processors)\n",
      "\n",
      "Solution count 1: 0.00290927 \n",
      "\n",
      "Optimal solution found (tolerance 5.00e-02)\n",
      "Best objective 2.909273479301e-03, best bound 2.909273479301e-03, gap 0.0000%\n",
      "Card MVO Finished...\n",
      "--------------------\n"
     ]
    }
   ],
   "source": [
    "# solve min variance and store it, along with the expected return\n",
    "from IPython.display import clear_output\n",
    "\n",
    "plot_scaling = 0.5\n",
    "NumPts = 10\n",
    "StrategyCardMVO.investor_preferences['cardinality_ratio'] = 1\n",
    "StrategyCardMVO.investor_preferences['premium'] = -1 * 10 ** 6\n",
    "StrategyCardMVO.execute_strategy(periodReturns, periodFactRet, environment=env)\n",
    "min_return = StrategyCardMVO.current_results['x']@StrategyCardMVO.current_estimates[0]\n",
    "max_return  = plot_scaling*StrategyCardMVO.current_estimates[0].max()\n",
    "max_premium = max_return/StrategyCardMVO.current_estimates[0].mean()\n",
    "min_premium = min_return/StrategyCardMVO.current_estimates[0].mean()\n",
    "\n",
    "path = \"Experiments//EF//\"+universe+\"//\"\n",
    "if not os.path.exists(path):\n",
    "    os.makedirs(path)\n",
    "    print(\"Path created: \", path)"
   ],
   "metadata": {
    "collapsed": false,
    "ExecuteTime": {
     "end_time": "2024-01-21T17:47:35.849552600Z",
     "start_time": "2024-01-21T17:47:35.574978Z"
    }
   }
  },
  {
   "cell_type": "markdown",
   "source": [
    "### Do not run here"
   ],
   "metadata": {
    "collapsed": false
   }
  },
  {
   "cell_type": "code",
   "execution_count": 24,
   "outputs": [
    {
     "name": "stdout",
     "output_type": "stream",
     "text": [
      "Set parameter TimeLimit to value 120\n",
      "Set parameter MIPGap to value 0.05\n",
      "Cardinality ratio that binds  0.16083916083916083\n"
     ]
    }
   ],
   "source": [
    "vols_mvo, rets_mvo, premiums_mvo, cardinalities_mvo, mip_gaps, results = efficient_frontier_premium(StrategyCardMVO, max_return, min_return, NumPts, periodReturns, periodFactRet, env)\n",
    "print(\"Cardinality ratio that binds \", cardinalities_mvo.max()/len(tickers)) #natural cardinality based on 0.1%\n",
    "mvo_frontier_results = {}\n",
    "mvo_frontier_results['MVO'] =  vols_mvo, rets_mvo, premiums_mvo, cardinalities_mvo, mip_gaps, results\n",
    "export_dict(path, '', mvo_frontier_results, 'MVO')"
   ],
   "metadata": {
    "collapsed": false
   }
  },
  {
   "cell_type": "code",
   "execution_count": 25,
   "outputs": [
    {
     "name": "stdout",
     "output_type": "stream",
     "text": [
      "Set parameter TimeLimit to value 120\n",
      "Set parameter MIPGap to value 0.05\n"
     ]
    }
   ],
   "source": [
    "cardinality_ratios = [0.02, 0.04, 0.06, 0.08, 0.1]\n",
    "cardinality_frontier_results = {}\n",
    "\n",
    "for cardinality_ratio in cardinality_ratios:\n",
    "    StrategyCardMVO.investor_preferences['cardinality_ratio'] = cardinality_ratio\n",
    "    cardinality_frontier_results[cardinality_ratio] = efficient_frontier_premium(StrategyCardMVO, max_return, min_return, NumPts, periodReturns, periodFactRet, env)\n",
    "export_dict(path, '', cardinality_frontier_results, 'CardMVO')"
   ],
   "metadata": {
    "collapsed": false
   }
  },
  {
   "cell_type": "code",
   "execution_count": 26,
   "outputs": [
    {
     "name": "stdout",
     "output_type": "stream",
     "text": [
      "Set parameter TimeLimit to value 20\n",
      "Set parameter MIPGap to value 0.05\n",
      "Set parameter TimeLimit to value 20\n",
      "Set parameter FeasibilityTol to value 1e-08\n",
      "Set parameter TimeLimit to value 120\n",
      "Set parameter FeasibilityTol to value 1e-08\n",
      "Set parameter MIPGap to value 0.05\n"
     ]
    }
   ],
   "source": [
    "kappas =  [0.0125, 0.025, 0.05, 0.1, 0.2, 0.4, 0.8]\n",
    "svmmvo_frontier_results = {}\n",
    "for cardinality_ratio in cardinality_ratios:\n",
    "    for kappa in kappas:\n",
    "        Strategy.investor_preferences['kappa'] = kappa\n",
    "        Strategy.investor_preferences['cardinality_ratio'] = cardinality_ratio\n",
    "        svmmvo_frontier_results[(cardinality_ratio, kappa)] = efficient_frontier_premium(Strategy, max_return, min_return, NumPts, periodReturns, periodFactRet, env)\n",
    "export_dict(path, '', svmmvo_frontier_results, 'SVMMVO')"
   ],
   "metadata": {
    "collapsed": false
   }
  },
  {
   "cell_type": "markdown",
   "source": [
    "# Analysis of Frontiers"
   ],
   "metadata": {
    "collapsed": false
   }
  },
  {
   "cell_type": "code",
   "execution_count": 331,
   "outputs": [],
   "source": [
    "from services.experiments import *\n",
    "mvo_frontier_results = import_dict(path, '', 'MVO')\n",
    "cardinality_frontier_results = import_dict(path, '', 'CardMVO')\n",
    "svmmvo_frontier_results = import_dict(path, '', 'SVMMVO')\n",
    "\n",
    "cardinality = 0.04\n",
    "cardinality_str = r\"$K = \\lfloor \"+str(cardinality) + r\"N \\rfloor$\"\n",
    "kappa = 0.4\n",
    "kappa_str = r\"$\\kappa = \"+str(kappa*100)+r\"\\%$\"\n"
   ],
   "metadata": {
    "collapsed": false
   }
  },
  {
   "cell_type": "code",
   "execution_count": 332,
   "outputs": [],
   "source": [
    "vols_mvo, rets_mvo, premiums_mvo, cardinalities_mvo, gaps_mvo, results_mvo = mvo_frontier_results['MVO']"
   ],
   "metadata": {
    "collapsed": false
   }
  },
  {
   "cell_type": "code",
   "execution_count": 333,
   "outputs": [],
   "source": [
    "vols_cardmvo, rets_cardmvo, premiums_cardmvo, cardinalities_cardmvo, gaps_cardmvo, results_cardmvo = cardinality_frontier_results[cardinality]"
   ],
   "metadata": {
    "collapsed": false,
    "ExecuteTime": {
     "end_time": "2024-01-22T06:54:15.845576900Z",
     "start_time": "2024-01-22T06:54:15.658455900Z"
    }
   }
  },
  {
   "cell_type": "code",
   "execution_count": 334,
   "outputs": [],
   "source": [
    "vols_svmmvo, rets_svmmvo, premiums_svmmvo, cardinalities_svmmvo, gaps_svmmvo, results_svmmvo = svmmvo_frontier_results[(cardinality, kappa)]"
   ],
   "metadata": {
    "collapsed": false,
    "ExecuteTime": {
     "end_time": "2024-01-22T06:54:16.228129Z",
     "start_time": "2024-01-22T06:54:16.219568900Z"
    }
   }
  },
  {
   "cell_type": "code",
   "execution_count": 335,
   "outputs": [],
   "source": [
    "#tickers[(results_svmmvo[t]['optimization_params']['mu'] > 0.5).flatten()]"
   ],
   "metadata": {
    "collapsed": false
   }
  },
  {
   "cell_type": "code",
   "execution_count": 336,
   "outputs": [],
   "source": [
    "vols_svmmvo = np.array([results_svmmvo[t]['x']@results_svmmvo[t]['optimization_params']['Q']@results_svmmvo[t]['x']  for t in results_svmmvo.keys()])"
   ],
   "metadata": {
    "collapsed": false
   }
  },
  {
   "cell_type": "code",
   "execution_count": 337,
   "outputs": [],
   "source": [
    "# import matplotlib\n",
    "# matplotlib.rc('text', usetex=True)\n",
    "# matplotlib.rcParams['text.latex.preamble']=[r\"\\usepackage{amsmath}\"]"
   ],
   "metadata": {
    "collapsed": false
   }
  },
  {
   "cell_type": "code",
   "execution_count": 338,
   "outputs": [
    {
     "data": {
      "text/plain": "<Figure size 600x300 with 1 Axes>",
      "image/png": "[encoded data removed]"
     },
     "metadata": {},
     "output_type": "display_data"
    }
   ],
   "source": [
    "plt.figure(figsize = (6,3))\n",
    "ax = plt.gca()\n",
    "plt.plot(np.sqrt(vols_mvo), rets_mvo, 'o-',  label = 'MVO', color = '#648FFF')\n",
    "plt.plot(np.sqrt(vols_cardmvo), rets_cardmvo, 'o-',  label = 'CardMVO($K$)', color = '#FE6100')\n",
    "plt.plot(np.sqrt(vols_svmmvo), rets_svmmvo, 'o-', label = r\"SVMMVO($K, \\kappa$)\", color = '#785EF0')\n",
    "plt.plot(np.sqrt((1+0.2)*vols_cardmvo), rets_cardmvo, '.-', label = r\"$(1 + \\kappa)$ - CardMVO($K$)\", color = '#FFB000')\n",
    "plt.title(\"Efficient Frontier \"+cardinality_str + \" \"+ kappa_str)\n",
    "plt.xlabel(r'$\\sqrt{\\bf{x}^{\\intercal} \\bf{\\Sigma} \\bf{x}}$')\n",
    "plt.ylabel(r'$\\bf{r}^{\\intercal} \\bf{x}$')\n",
    "plt.tight_layout()\n",
    "plt.legend()\n",
    "plt.savefig(path+\"frontier_\"+str(cardinality).replace(\".\",\"dot\")+\"_\"+str(kappa).replace(\".\",\"dot\") +\".svg\")"
   ],
   "metadata": {
    "collapsed": false,
    "ExecuteTime": {
     "end_time": "2024-01-22T06:54:16.861939200Z",
     "start_time": "2024-01-22T06:54:16.627075Z"
    }
   }
  },
  {
   "cell_type": "code",
   "execution_count": 339,
   "outputs": [
    {
     "name": "stdout",
     "output_type": "stream",
     "text": [
      "0\n",
      "1\n",
      "6\n",
      "8\n",
      "9\n"
     ]
    }
   ],
   "source": [
    "for t in results_svmmvo.keys():\n",
    "    t_vals = results_svmmvo[t]['t']\n",
    "    if np.sum(np.abs(results_svmmvo[t]['w'][t_vals > 0.99])) > 0.001:\n",
    "        print(t)"
   ],
   "metadata": {
    "collapsed": false
   }
  },
  {
   "cell_type": "code",
   "execution_count": 340,
   "outputs": [],
   "source": [
    "t = 3"
   ],
   "metadata": {
    "collapsed": false
   }
  },
  {
   "cell_type": "code",
   "execution_count": 311,
   "outputs": [
    {
     "data": {
      "text/plain": "dict_keys(['mu', 'Q', 'targetRet', 'previous_portfolio', 'K', 'period_Context', 'k', 'alpha', 'premium', 'EstNumObs', 'ticker_index', 'target_return_strategy', 'target_return_strategy_args', 'turnover_limit', 'turnover_constraints', 'cardinality_ratio', 'MipGap', 'limit_time', 'bigMStrategy', 'bigM_limit_time', 'bigM_MipGap', 'bigM_SolutionLimit', 'SkipSOCP', 'tightening_iter_lim', 'SVMMVO_bigM_time_limit', 'SVMMVO_MipGap', 'SVMMVO_SolutionLimit', 'SOCP_limit_time', 'q', 'C', 'epsilon', 'separable', 'LogToConsole', 'Verbose', 'hyperparams', 'q_alpha', 'kappa'])"
     },
     "execution_count": 311,
     "metadata": {},
     "output_type": "execute_result"
    }
   ],
   "source": [
    "z_vals = np.rint(results_svmmvo[t]['z'])\n",
    "t_vals = results_svmmvo[t]['t']\n",
    "w_vals = results_svmmvo[t]['w'][t_vals > 0.99]\n",
    "b_val = results_svmmvo[t]['b']\n",
    "ret_string = r'$r_{\\mathsf{min}} = '+str(np.round(100*rets_svmmvo[t], 2)) + r'\\%$'\n",
    "results_svmmvo[t]['optimization_params'].keys()"
   ],
   "metadata": {
    "collapsed": false
   }
  },
  {
   "cell_type": "code",
   "execution_count": 312,
   "outputs": [
    {
     "name": "stderr",
     "output_type": "stream",
     "text": [
      "C:\\Users\\david\\AppData\\Local\\Temp\\ipykernel_23592\\2523817129.py:8: SettingWithCopyWarning: \n",
      "A value is trying to be set on a copy of a slice from a DataFrame\n",
      "\n",
      "See the caveats in the documentation: https://pandas.pydata.org/pandas-docs/stable/user_guide/indexing.html#returning-a-view-versus-a-copy\n",
      "  context2d[r'$\\bf{z}$'].iloc[z_vals_reduced > 0.01] = '#648FFF'\n"
     ]
    }
   ],
   "source": [
    "context2d = results_svmmvo[0]['optimization_params']['period_Context'].iloc[:, t_vals > 0.99]\n",
    "from scipy import stats\n",
    "assets = (np.abs(stats.zscore(context2d)) < 100).all(axis=1)\n",
    "z_vals_reduced = z_vals[assets]\n",
    "context2d = context2d[assets]\n",
    "#context2d  = context2d.rank()/(len(context2d)+1)\n",
    "context2d[r'$\\bf{z}$'] = '#FE6100'\n",
    "context2d[r'$\\bf{z}$'].iloc[z_vals_reduced > 0.01] = '#648FFF'"
   ],
   "metadata": {
    "collapsed": false
   }
  },
  {
   "cell_type": "code",
   "execution_count": 313,
   "outputs": [],
   "source": [
    "def create_linear_function(w, b):\n",
    "    def formula(x):\n",
    "        return (-1/(w[1]))*(w[0]*x + b)\n",
    "    return formula"
   ],
   "metadata": {
    "collapsed": false
   }
  },
  {
   "cell_type": "code",
   "execution_count": 314,
   "outputs": [],
   "source": [
    "line = create_linear_function(w_vals, b_val)\n",
    "x = np.array([-2, 3])"
   ],
   "metadata": {
    "collapsed": false
   }
  },
  {
   "cell_type": "code",
   "execution_count": 315,
   "outputs": [
    {
     "data": {
      "text/plain": "array([-2.33267001,  0.78067128])"
     },
     "execution_count": 315,
     "metadata": {},
     "output_type": "execute_result"
    }
   ],
   "source": [
    "line(x)"
   ],
   "metadata": {
    "collapsed": false
   }
  },
  {
   "cell_type": "code",
   "execution_count": 316,
   "outputs": [
    {
     "data": {
      "text/plain": "<Figure size 400x400 with 1 Axes>",
      "image/png": "[encoded data removed]"
     },
     "metadata": {},
     "output_type": "display_data"
    }
   ],
   "source": [
    "plt.figure(figsize = (4,4))\n",
    "ax = plt.gca()\n",
    "eligible = z_vals_reduced > 0.01\n",
    "plt.scatter(context2d.iloc[eligible ,0], context2d.iloc[eligible ,1], c = context2d.iloc[eligible ,2].values, label= r'$z_i = 1$', marker = '.')\n",
    "plt.scatter(context2d.iloc[~eligible,0], context2d.iloc[~eligible,1], c = context2d.iloc[~eligible,2].values, label= r'$z_i = 0$', marker = '.')\n",
    "#context2d.plot.scatter(x = 0, y = 1, c = 2, ax = ax)\n",
    "plt.plot(x, line(x), '--', linewidth = 2, label = r'${\\bf{y}^{\\intercal}\\bf{w}} + b = 0$', color ='black')\n",
    "plt.xlabel(context2d.columns[0])\n",
    "plt.ylabel(context2d.columns[1])\n",
    "plt.title(\"Assets in selected feature space \\n\"+ ret_string + \" \" +cardinality_str + \" \"+ kappa_str)\n",
    "plt.legend(loc = 'upper left')\n",
    "plt.tight_layout()\n",
    "plt.savefig(path+\"features_\"+str(cardinality).replace(\".\",\"dot\")+\"_\"+str(kappa).replace(\".\",\"dot\")+str(t) +\".svg\")"
   ],
   "metadata": {
    "collapsed": false
   }
  },
  {
   "cell_type": "code",
   "execution_count": 317,
   "outputs": [
    {
     "data": {
      "text/plain": "(array([1., 1., 0., 1., 1., 3., 2., 1., 4., 0., 1., 0., 1., 0., 0., 2., 0.,\n        0., 0., 1.]),\n array([-0.86855629, -0.75253315, -0.63651001, -0.52048687, -0.40446373,\n        -0.28844059, -0.17241745, -0.05639431,  0.05962883,  0.17565197,\n         0.29167511,  0.40769825,  0.52372139,  0.63974453,  0.75576767,\n         0.87179081,  0.98781395,  1.10383709,  1.21986023,  1.33588336,\n         1.4519065 ]),\n <BarContainer object of 20 artists>)"
     },
     "execution_count": 317,
     "metadata": {},
     "output_type": "execute_result"
    },
    {
     "data": {
      "text/plain": "<Figure size 640x480 with 1 Axes>",
      "image/png": "[encoded data removed]"
     },
     "metadata": {},
     "output_type": "display_data"
    }
   ],
   "source": [
    "plt.hist(context2d.iloc[eligible ,0]\n",
    "         , bins = 20)"
   ],
   "metadata": {
    "collapsed": false
   }
  }
 ],
 "metadata": {
  "kernelspec": {
   "display_name": "Python 3",
   "language": "python",
   "name": "python3"
  },
  "language_info": {
   "codemirror_mode": {
    "name": "ipython",
    "version": 2
   },
   "file_extension": ".py",
   "mimetype": "text/x-python",
   "name": "python",
   "nbconvert_exporter": "python",
   "pygments_lexer": "ipython2",
   "version": "2.7.6"
  }
 },
 "nbformat": 4,
 "nbformat_minor": 0
}
