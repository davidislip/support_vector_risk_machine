{
 "cells": [
  {
   "cell_type": "markdown",
   "source": [
    "\n",
    "# MMF1921/MIE377 Style Backtesting Template\n",
    "\n",
    "From the MIE377/MMF1921 Projects:\n",
    "\n",
    "        The purpose of this program is to provide a template with which to develop Project 2. The project requires you to test different models  (and/or different model combinations) to create an asset management algorithm.\n",
    "\n",
    "        This template will be used by the instructor and TA to assess your trading algorithm using different datasets.\n",
    "\n",
    "        # PLEASE DO NOT MODIFY THIS TEMPLATE (for Project submission purposes)\n",
    "\n",
    "This template for evaluating asset allocation algorithms is the exact same style as the one in MIE377.\n",
    "\n",
    "Is it fast? No it is not.\n",
    "\n",
    "Is it clear and relatively easy to follow? Yes it is.\n",
    "\n",
    "There are a couple of moving parts:\n",
    "\n",
    "* The database: see the Database folder for examples of where and how the data was processed. Download SQLLite viewer to explore the data and look at the queries in the notebooks to understand what data is in there\n",
    "* The services: in the services folder there are some helpers to extract the data (data_retrieval.py), estimate means and covariances (estimators.py), and optimizers (optimization.py)\n",
    "* Strategies are also defined in the services folder. The current convention is that a strategy takes in data (returns and factor returns) and outputs an allocation.\n",
    "* Typically, the strategies will use some form of estimator and an optimizer come up with allocations.\n",
    "\n",
    "If you do not want to deal with the database then use the MIE377_Project_Main template and copy cells 2.1 and 2.2 into the appropriate spot\n",
    "and replace \n",
    "\n",
    "        x[:,t] = project_function(periodReturns, periodFactRet)\n",
    "\n",
    "with\n",
    "\n",
    "        x[:,t] = Strategy.execute_strategy(periodReturns, periodFactRet) #equal_weight(periodReturns) #StrategyFunction(periodReturns, periodFactRet, x0[:,t]);\n",
    "\n",
    "# 1. Read input files"
   ],
   "metadata": {
    "collapsed": false
   }
  },
  {
   "cell_type": "code",
   "execution_count": 1,
   "outputs": [
    {
     "name": "stdout",
     "output_type": "stream",
     "text": [
      "['asset_id', 'currency_id', 'equities_series', 'equity_index_id', 'exchange_id', 'factor_id', 'factors', 'frequency_id', 'fundamentals', 'metric_id', 'source_id', 'ticker_id', 'ticker_index_membership', 'tiingo_tickers']\n"
     ]
    }
   ],
   "source": [
    "import time\n",
    "import math\n",
    "\n",
    "import numpy as np\n",
    "import pandas as pd\n",
    "from services.experiments import *\n",
    "from Database.services.database import Database\n",
    "from sqlalchemy import inspect\n",
    "from services.data_retreival import *\n",
    "from scipy.stats import gmean\n",
    "import matplotlib.pyplot as plt\n",
    "from services.strategies import *\n",
    "from services.optimization_layers import *\n",
    "from services.optimization import *\n",
    "\n",
    "from services.environment_functions import *\n",
    "from services.class_weighted_bigM import *\n",
    "from services.plotting_functions import *\n",
    "import os\n",
    "Database.initialize(\"sqlite:///Database//financial_db.sqlite\") #for courses replace this with a flat file\n",
    "inspector = inspect(Database.engine)\n",
    "print(inspector.get_table_names())\n",
    "\n",
    "universe = 'SP'\n",
    "imputation_method = 'Multivariate'\n",
    "ticker_str = 'AAPL'\n",
    "#exponential params\n",
    "\n",
    "\n",
    "adjClose = pd.read_csv(\"flat_files/MonthlyAssetPrices\"+ universe + \".csv\", index_col=0, header = 1).iloc[1:,:]\n",
    "\n",
    "daily_adjClose =  pd.read_csv(\"flat_files/DailyAssetPrices\"+universe + \".csv\", index_col=0, header = 1).iloc[1:,:]\n",
    "\n",
    "TechnicalAnalysis = pd.read_csv(\"flat_files/TechnicalAnalysis\" + universe + \".csv\", index_col=[0,1])\n",
    "\n",
    "if universe ==  'SP':\n",
    "    FinancialRatios = pd.read_csv(\"flat_files/\" + imputation_method + \"WRDS.csv\", index_col=[0,1])\n",
    "    TechnicalAnalysis.index.names = FinancialRatios.index.names\n",
    "    ContextualInfo = TechnicalAnalysis.merge(FinancialRatios, how = 'left', left_index=True, right_index=True)\n",
    "\n",
    "else:\n",
    "    TechnicalAnalysis.index.names = ['date', 'ticker']\n",
    "    ContextualInfo = TechnicalAnalysis\n"
   ],
   "metadata": {
    "collapsed": false,
    "ExecuteTime": {
     "end_time": "2024-01-21T03:22:30.152973300Z",
     "start_time": "2024-01-21T03:22:22.064189400Z"
    }
   }
  },
  {
   "cell_type": "code",
   "execution_count": 2,
   "outputs": [],
   "source": [
    "adjClose.index = pd.to_datetime(adjClose.index, format='%Y-%m-%d').tz_localize(None)\n",
    "daily_adjClose.index = pd.to_datetime(daily_adjClose.index, format='%Y-%m-%d').tz_localize(None)\n",
    "ContextualInfo.index = ContextualInfo.index.set_levels([pd.to_datetime(ContextualInfo.index.levels[0]).tz_localize(None), ContextualInfo.index.levels[1]])"
   ],
   "metadata": {
    "collapsed": false,
    "ExecuteTime": {
     "end_time": "2024-01-21T03:22:30.171658800Z",
     "start_time": "2024-01-21T03:22:30.151973200Z"
    }
   }
  },
  {
   "cell_type": "code",
   "execution_count": 3,
   "outputs": [
    {
     "name": "stdout",
     "output_type": "stream",
     "text": [
      "The earliest possible start date\n"
     ]
    },
    {
     "data": {
      "text/plain": "Timestamp('1996-11-30 00:00:00')"
     },
     "execution_count": 3,
     "metadata": {},
     "output_type": "execute_result"
    }
   ],
   "source": [
    "print(\"The earliest possible start date\")\n",
    "max(daily_adjClose.index.unique()[0], ContextualInfo.index.get_level_values('date').unique()[0], adjClose.index.unique()[0])"
   ],
   "metadata": {
    "collapsed": false,
    "ExecuteTime": {
     "end_time": "2024-01-21T03:22:30.199657600Z",
     "start_time": "2024-01-21T03:22:30.167652300Z"
    }
   }
  },
  {
   "cell_type": "code",
   "execution_count": 4,
   "outputs": [
    {
     "name": "stdout",
     "output_type": "stream",
     "text": [
      "The latest possible start date\n"
     ]
    },
    {
     "data": {
      "text/plain": "Timestamp('2023-04-21 00:00:00')"
     },
     "execution_count": 4,
     "metadata": {},
     "output_type": "execute_result"
    }
   ],
   "source": [
    "print(\"The latest possible start date\")\n",
    "min(daily_adjClose.index.unique()[-1], ContextualInfo.index.get_level_values('date').unique()[-1], adjClose.index.unique()[-1])"
   ],
   "metadata": {
    "collapsed": false,
    "ExecuteTime": {
     "end_time": "2024-01-21T03:22:30.211109300Z",
     "start_time": "2024-01-21T03:22:30.183657700Z"
    }
   }
  },
  {
   "cell_type": "code",
   "execution_count": 5,
   "outputs": [],
   "source": [
    "start_date = pd.to_datetime('1996-11-30', format = '%Y-%m-%d')\n",
    "\n",
    "end_date = pd.to_datetime('2022-12-31', format = '%Y-%m-%d')\n",
    "\n",
    "# start_date = pd.to_datetime('2006-05-31', format = '%Y-%m-%d')\n",
    "#\n",
    "# end_date = pd.to_datetime('2022-12-31', format = '%Y-%m-%d')\n",
    "\n",
    "factors = ('Mkt-RF', 'RF')\n",
    "\n",
    "factorRet = get_monthly_factors(factors, start_date, end_date, Database)\n",
    "\n",
    "factorRet = factorRet.droplevel(0, axis = 1)\n",
    "factorRet.columns = [col.strip() for col in factorRet.columns]"
   ],
   "metadata": {
    "collapsed": false,
    "ExecuteTime": {
     "end_time": "2024-01-21T03:22:33.823013300Z",
     "start_time": "2024-01-21T03:22:30.199657600Z"
    }
   }
  },
  {
   "cell_type": "code",
   "execution_count": 6,
   "outputs": [],
   "source": [
    "adjClose = adjClose[start_date:end_date]\n",
    "daily_adjClose = daily_adjClose[start_date:end_date]\n",
    "idx = pd.IndexSlice\n",
    "ContextualInfo = ContextualInfo.loc[idx[start_date:end_date, :], :]"
   ],
   "metadata": {
    "collapsed": false,
    "ExecuteTime": {
     "end_time": "2024-01-21T03:22:33.949532100Z",
     "start_time": "2024-01-21T03:22:33.823013300Z"
    }
   }
  },
  {
   "cell_type": "code",
   "execution_count": 7,
   "outputs": [],
   "source": [
    "# Initial budget to invest ($100,000)\n",
    "initialVal = 100000\n",
    "\n",
    "# Length of investment period (in months) - but actually units of data\n",
    "investPeriod = 6\n",
    "\n",
    "# divide the factor returns by 100\n",
    "factorRet = factorRet/100\n",
    "\n",
    "#rf and factor returns\n",
    "#drop the first observation to align the dataset with the returns data that will\n",
    "#result\n",
    "factorRet = factorRet.iloc[1:, :]\n",
    "\n",
    "#rf and factor returns\n",
    "riskFree = factorRet['RF']\n",
    "factorRet = factorRet.loc[:,factorRet.columns != 'RF'];"
   ],
   "metadata": {
    "collapsed": false,
    "ExecuteTime": {
     "end_time": "2024-01-21T03:22:33.966541600Z",
     "start_time": "2024-01-21T03:22:33.949532100Z"
    }
   }
  },
  {
   "cell_type": "code",
   "execution_count": 8,
   "outputs": [],
   "source": [
    "#Identify the tickers and the dates\n",
    "tickers = adjClose.columns\n",
    "dates   = factorRet.index"
   ],
   "metadata": {
    "collapsed": false,
    "ExecuteTime": {
     "end_time": "2024-01-21T03:22:33.996114800Z",
     "start_time": "2024-01-21T03:22:33.967555600Z"
    }
   }
  },
  {
   "cell_type": "code",
   "execution_count": 9,
   "outputs": [],
   "source": [
    "# Calculate the stocks monthly excess returns\n",
    "# pct change and drop the first null observation\n",
    "returns = adjClose.pct_change(1).iloc[1:, :]\n",
    "returns = returns  - np.diag(riskFree.values) @ np.ones_like(returns.values) # risk adjusted returns\n",
    "# Align the price table to the asset and factor returns tables by discarding the first observation.\n",
    "adjClose = adjClose.iloc[1:,:]"
   ],
   "metadata": {
    "collapsed": false,
    "ExecuteTime": {
     "end_time": "2024-01-21T03:22:34.012114300Z",
     "start_time": "2024-01-21T03:22:33.983130600Z"
    }
   }
  },
  {
   "cell_type": "code",
   "execution_count": 10,
   "outputs": [],
   "source": [
    "assert adjClose.index[0] == returns.index[0]\n",
    "assert adjClose.index[0] == factorRet.index[0]"
   ],
   "metadata": {
    "collapsed": false,
    "ExecuteTime": {
     "end_time": "2024-01-21T03:22:34.035113400Z",
     "start_time": "2024-01-21T03:22:34.015116600Z"
    }
   }
  },
  {
   "cell_type": "markdown",
   "source": [
    "# 2. Run your program\n",
    "\n",
    "This section will run your Project1_Function in a loop. The data will be loaded progressively as a growing window of historical observations.\n",
    "Rebalancing will take place after every loop\n",
    "\n",
    "### 2.1 Some Standard Allocation Strategies"
   ],
   "metadata": {
    "collapsed": false
   }
  },
  {
   "cell_type": "code",
   "execution_count": 11,
   "outputs": [],
   "source": [
    "\n",
    "def SVMMVO(limit_time=30, MipGap=0.01, LogToConsole=True, Verbose=True, SolutionLimit=GRB.MAXINT, user_big_m=None,\n",
    "           **kwargs):  # if kwargs does not have limit time and mipgap then\n",
    "\n",
    "    mu, targetRet, Q, K, q, epsilon, period_Context, C, separable = unpack_kwargs(kwargs)\n",
    "\n",
    "    bigMStrategy = kwargs['bigMStrategy']\n",
    "    turnover_constraints = kwargs['turnover_constraints']\n",
    "    previous_portfolio = kwargs['previous_portfolio']\n",
    "\n",
    "    if turnover_constraints:\n",
    "        turnover_limit = kwargs['turnover_limit']\n",
    "\n",
    "    feasible_solution = True\n",
    "\n",
    "    n, p = period_Context.shape\n",
    "    mu = mu.squeeze()\n",
    "\n",
    "    class_weights = {0: K / n, 1: (n - K) / n}\n",
    "    if Verbose:\n",
    "        print(\"Class weighted SVM\")\n",
    "\n",
    "    start = time.time()\n",
    "\n",
    "    # compute big M here\n",
    "    big_M_results, bigM, big_w_inf, big_b, big_xi = SVMMVO_check_bigM(user_big_m, LogToConsole,\n",
    "                                                                      bigMStrategy, Verbose, kwargs)\n",
    "\n",
    "    # if epsilon and C in big_M_results --> update epsilon and C: kappa\n",
    "    if 'epsilon' in big_M_results.keys() and 'C' in big_M_results.keys():\n",
    "        C, epsilon = big_M_results['C'], big_M_results['epsilon']\n",
    "        if Verbose:\n",
    "            print(\"C and epsilon updated from big M\")\n",
    "    # if the big M strategy yields feasibility information then\n",
    "    # update the feasible solution flag\n",
    "    if 'feasible_solution' in big_M_results.keys():\n",
    "        feasible_solution = big_M_results['feasible_solution']\n",
    "\n",
    "    if Verbose:\n",
    "        print(\"Calculated Big M \", bigM)\n",
    "        print(\"Calculated big W\", big_w_inf)\n",
    "        print(\"Calculated big b\", big_b)\n",
    "        print(\"Calculated big xi\", big_xi)\n",
    "\n",
    "    bigM_finish_time = time.time()\n",
    "\n",
    "    m, x_vars, z_vars, w_vars, b_var, t_vars, xi_plus_vars, xi_neg_vars = CreateSVMMVOModel(mu, targetRet, Q, K, q,\n",
    "                                                                                            epsilon,\n",
    "                                                                                            bigM, big_w_inf,\n",
    "                                                                                            period_Context, C=C,\n",
    "                                                                                            separable=separable,\n",
    "                                                                                            limit_time=limit_time,\n",
    "                                                                                            MipGap=MipGap,\n",
    "                                                                                            LogToConsole=LogToConsole,\n",
    "                                                                                            class_weights=class_weights)\n",
    "\n",
    "    m.Params.SolutionLimit = SolutionLimit\n",
    "    if 'warm_start' in big_M_results.keys():\n",
    "        warm_start = big_M_results['warm_start']\n",
    "        x_vars.Start = warm_start['x_vals']\n",
    "        z_vars.Start = warm_start['z_vals']\n",
    "        w_vars.Start = warm_start['w_vals']\n",
    "        b_var.Start = warm_start['b_val']\n",
    "        t_vars.Start = warm_start['t_vals']\n",
    "        # xi_vars.Start = warm_start['xi_vals']\n",
    "        # print(\"Warm Start\")\n",
    "        # m.Params.LogToConsole = True\n",
    "\n",
    "    if previous_portfolio is not None and turnover_constraints:  # add turnover constraints\n",
    "        absolute_delta = addTurnoverConstraints(m, x_vars, previous_portfolio, turnover_limit)\n",
    "\n",
    "    if feasible_solution:  # if we are feasible to the best of our knowledge\n",
    "        m.optimize()  # try to solve\n",
    "        # model did not solve\n",
    "        if m.status in (4, 3):  # ah turns out we are not feasible\n",
    "            feasible_solution = False  # update the flag\n",
    "    else:  # feasible_solution is already set to false\n",
    "        # it must be because of the turnover constraint\n",
    "        # compute the min turnover portfolio that satisfies the constraint\n",
    "        if previous_portfolio is not None and turnover_constraints:\n",
    "            if Verbose:\n",
    "                print(\"Calculating the closest turnover portfolio...\")\n",
    "            smallestTurnoverModelSVMMVO(m, n, absolute_delta, separable, w_vars,\n",
    "                                        xi_plus_vars, xi_neg_vars, epsilon, C, class_weights)\n",
    "\n",
    "    obj_value, gap2, x, z, w, t, b, xi_plus, xi_neg = extractSVMMVOSolution(n, p, m, x_vars, z_vars, w_vars,\n",
    "                                                                            t_vars, b_var, xi_plus_vars, xi_neg_vars)\n",
    "    if Verbose:\n",
    "        print(\"SVM MVO Objective Value \", obj_value)\n",
    "        print(\"Norm of w \", np.power(w, 2).sum())\n",
    "        print(\"Positive Classification errors \", np.sum(xi_plus))\n",
    "        print(\"Negative Classification errors \", np.sum(xi_neg))\n",
    "    end = time.time()\n",
    "    # m.Params.LogToConsole = False\n",
    "    return {'obj_value': obj_value, 'time': end - start, 'bigM_time': bigM_finish_time - start, 'optimality gap': gap2,\n",
    "            'x': x, 'z': z, 'w': w, 't': t, 'b': b, 'xi_plus': xi_plus, 'xi_neg': xi_neg,\n",
    "            'feasible_solution': feasible_solution,\n",
    "            'C': C, 'epsilon': epsilon}\n"
   ],
   "metadata": {
    "collapsed": false
   }
  },
  {
   "cell_type": "code",
   "execution_count": 12,
   "outputs": [],
   "source": [
    "# Some strategies (uncomment this or the next cell to pick a strategy to test)\n",
    "# Strategy = general_strategy(sample_estimator, MVO, NumObs=48)  #the general strategy object takes an estimator function and an optimizer function\n",
    "#                                                                #the only constraint is that the estimators outputs are the optimizers inputs\n",
    "# investor preferences (static throughout the backtest)\n",
    "hyperparam_search = False # True if model has hyperparams\n",
    "optimizer = SVMMVO # CardMVO , MVO\n",
    "estimator = exponential_weighted_estimator_shrinkage #\n",
    "EstNumObs = 750\n",
    "k = 6*20 #estimation horizon\n",
    "alpha= 1 - 0.990 #estimation decay\n",
    "return_premium = 1.4 #optimization premium\n",
    "\n",
    "turnover_constraints = True\n",
    "turnover_limit = 0.75 # 0.75, 1, 1.25\n",
    "cardinality_ratio = 0.5 #optimization\n",
    "\n",
    "MipGap = 0.05 # for portfolio optimizer\n",
    "limit_time = 20 # for portfolio optimizer\n",
    "\n",
    "target_return_strategy = premium_target # for portfolio optimizer to calculate return target\n",
    "# mean_target, premium_target, ticker_return_target\n",
    "target_return_strategy_args = ['premium'] # args for the return strategy\n",
    "\n",
    "bigMStrategy = HyperparameterBigMStrategy #objectiveBigMStrategy #objectiveBigMStrategyTightening , objectiveBigMStrategy\n",
    "\n",
    "bigM_limit_time=20 # for the feasible solution used to calculate big M\n",
    "bigM_MipGap=0.05 # for the feasible solution used to calculate big M\n",
    "bigM_SolutionLimit=20 # for the feasible solution used to calculate big <\n",
    "\n",
    "SkipSOCP = True # flag to skip the SOCP\n",
    "tightening_iter_lim = 1 # number of iterations of tightening to do\n",
    "\n",
    "SVMMVO_bigM_time_limit = 5 # for computing a better solution in the tightening strategy\n",
    "SVMMVO_MipGap=0.1 # for computing a better solution in the tightening strategy\n",
    "SVMMVO_SolutionLimit=5 # for computing a better solution in the tightening strategy\n",
    "\n",
    "SOCP_limit_time=10 # time limit for the SOCP's\n",
    "\n",
    "ticker_index = tickers.get_loc(ticker_str) # the ticker we want to compare to if\n",
    "#  we are using the ticker_return_target strategy\n",
    "\n",
    "q = 2 #subset of features\n",
    "\n",
    "C = 0.1 # separation importance\n",
    "\n",
    "epsilon = 0.1 # regularization amount for SVM\n",
    "\n",
    "separable = False # do not restrict the hyperplane to be separable\n",
    "\n",
    "LogToConsole = True # display optimization results in the console\n",
    "Verbose = True # print statements\n",
    "\n",
    "hyperparams = {'C': list(np.geomspace(0.1, 100, 4)), 'epsilon': list(np.geomspace(0.1, 100, 4))} # hyperparams for hyperparam search\n",
    "#q_alpha = 0.3187 # alpha for Q(t, a) = (1 - q_alpha) Q(t-1. a) + R(t, a)\n",
    "q_alpha = 0.6838\n",
    "kappa = 0.1 # 10 % risk/turnover tolerance\n",
    "\n",
    "investor_preferences = {'k':k, # horizon\n",
    "                        'alpha':alpha, # decay\n",
    "                        'premium':return_premium, # return premium preference\n",
    "                        'EstNumObs':EstNumObs,\n",
    "                        'ticker_index':ticker_index, # benchmark index for comparison used in place of return premium depending on the investors function to set r_min\n",
    "                        'target_return_strategy':target_return_strategy, # strategy for setting return\n",
    "                        'target_return_strategy_args': target_return_strategy_args, # args for return setting strategy\n",
    "                        'turnover_limit':turnover_limit, # turnover limit\n",
    "                        'turnover_constraints':turnover_constraints, # turnover limit choice (Y/N)\n",
    "                        'cardinality_ratio': cardinality_ratio, # Pct of assets to invest in\n",
    "                        'MipGap' : MipGap, 'limit_time':limit_time, # problem solving limits\n",
    "    \n",
    "                        'bigMStrategy':bigMStrategy,\n",
    "                        'bigM_limit_time':bigM_limit_time,\n",
    "                        'bigM_MipGap':bigM_MipGap,\n",
    "                        'bigM_SolutionLimit':bigM_SolutionLimit,\n",
    "\n",
    "                        'SkipSOCP':SkipSOCP,\n",
    "                        'tightening_iter_lim':tightening_iter_lim,\n",
    "\n",
    "                        'SVMMVO_bigM_time_limit':SVMMVO_bigM_time_limit,\n",
    "                        'SVMMVO_MipGap':SVMMVO_MipGap,\n",
    "                        'SVMMVO_SolutionLimit':SVMMVO_SolutionLimit,\n",
    "\n",
    "                        'SOCP_limit_time':SOCP_limit_time,\n",
    "                        'q':q,\n",
    "                        'C':C,\n",
    "                        'epsilon':epsilon,\n",
    "                        'separable':separable,\n",
    "                        'LogToConsole':LogToConsole,\n",
    "                        'Verbose':Verbose,\n",
    "                        'hyperparams':hyperparams,\n",
    "                        'q_alpha':q_alpha,\n",
    "                        'kappa':kappa}\n",
    "\n",
    "Strategy = general_strategy(estimator, optimizer,\n",
    "                            investor_preferences = investor_preferences)\n",
    "\n",
    "Strategy.extract_estimation_info = populate_exponential_weighted_estimator_shrinkage\n",
    "Strategy.extract_optimization_info = populate_kwargs\n",
    "\n",
    "StrategyCardMVO = general_strategy(estimator, CardMVO,\n",
    "                            investor_preferences = investor_preferences)\n",
    "\n",
    "StrategyCardMVO.extract_estimation_info = populate_exponential_weighted_estimator_shrinkage\n",
    "StrategyCardMVO.extract_optimization_info = populate_kwargs\n",
    "\n",
    "env = environment()\n",
    "# see strategy script for different options OLS_RP() #OLS_MVO() #HistoricalMeanVarianceOptimization()"
   ],
   "metadata": {
    "collapsed": false,
    "ExecuteTime": {
     "end_time": "2024-01-21T17:47:20.910320Z",
     "start_time": "2024-01-21T17:47:20.872799100Z"
    }
   }
  },
  {
   "cell_type": "code",
   "execution_count": 13,
   "outputs": [],
   "source": [
    "\n",
    "# Start of out-of-sample test period\n",
    "testStart = returns.index[0] + pd.offsets.DateOffset(years=2)\n",
    "\n",
    "# End of the first investment period\n",
    "# testEnd = testStart + pd.offsets.DateOffset(months=investPeriod) - pd.offsets.DateOffset(days = 1)\n",
    "testEnd = testStart + pd.offsets.MonthBegin(investPeriod) - pd.offsets.DateOffset(days = 1)\n",
    "\n",
    "# End of calibration period\n",
    "calEnd = testStart -  pd.offsets.DateOffset(days = 1)"
   ],
   "metadata": {
    "collapsed": false,
    "ExecuteTime": {
     "end_time": "2024-01-21T17:47:22.131543700Z",
     "start_time": "2024-01-21T17:47:22.100276600Z"
    }
   }
  },
  {
   "cell_type": "code",
   "execution_count": 14,
   "outputs": [
    {
     "name": "stdout",
     "output_type": "stream",
     "text": [
      "Test Start 1998-12-31 00:00:00\n",
      "Test End 1999-05-31 00:00:00\n",
      "Calibration End 1998-12-30 00:00:00\n"
     ]
    }
   ],
   "source": [
    "print(\"Test Start\", testStart)\n",
    "print(\"Test End\", testEnd)\n",
    "print(\"Calibration End\", calEnd)"
   ],
   "metadata": {
    "collapsed": false,
    "ExecuteTime": {
     "end_time": "2024-01-21T17:47:22.650274700Z",
     "start_time": "2024-01-21T17:47:22.631274700Z"
    }
   }
  },
  {
   "cell_type": "code",
   "execution_count": 15,
   "outputs": [
    {
     "name": "stdout",
     "output_type": "stream",
     "text": [
      "Class weighted SVM\n",
      "--------------------\n",
      "Calculating Big M\n",
      "--------------------\n",
      "Constructing Feasible Solution...\n",
      "Extracting a cardinality constrained portfolio...\n",
      "Set parameter Username\n",
      "Academic license - for non-commercial use only - expires 2025-01-07\n",
      "Set parameter TimeLimit to value 20\n",
      "Set parameter MIPGap to value 0.05\n",
      "Set parameter FeasibilityTol to value 1e-08\n",
      "Set parameter SolutionLimit to value 20\n",
      "--------------------\n",
      "Solving Card MVO...\n",
      "Gurobi Optimizer version 11.0.0 build v11.0.0rc2 (win64 - Windows 10.0 (19045.2))\n",
      "\n",
      "CPU model: Intel(R) Core(TM) i5-8350U CPU @ 1.70GHz, instruction set [SSE2|AVX|AVX2]\n",
      "Thread count: 4 physical cores, 8 logical processors, using up to 8 threads\n",
      "\n",
      "Optimize a model with 289 rows, 572 columns and 1430 nonzeros\n",
      "Model fingerprint: 0xd0caa348\n",
      "Model has 41041 quadratic objective terms\n",
      "Variable types: 286 continuous, 286 integer (286 binary)\n",
      "Coefficient statistics:\n",
      "  Matrix range     [9e-04, 1e+00]\n",
      "  Objective range  [0e+00, 0e+00]\n",
      "  QObjective range [1e-05, 2e+00]\n",
      "  Bounds range     [1e+00, 1e+00]\n",
      "  RHS range        [3e-01, 1e+02]\n",
      "Presolve time: 0.08s\n",
      "Presolved: 391 rows, 623 columns, 1634 nonzeros\n",
      "Presolved model has 41092 quadratic objective terms\n",
      "Variable types: 337 continuous, 286 integer (286 binary)\n",
      "Found heuristic solution: objective 0.0151464\n",
      "Found heuristic solution: objective 0.0106936\n",
      "\n",
      "Root relaxation: objective 9.584293e-03, 121 iterations, 0.01 seconds (0.00 work units)\n",
      "\n",
      "    Nodes    |    Current Node    |     Objective Bounds      |     Work\n",
      " Expl Unexpl |  Obj  Depth IntInf | Incumbent    BestBd   Gap | It/Node Time\n",
      "\n",
      "     0     0    0.00958    0   32    0.01069    0.00958  10.4%     -    0s\n",
      "H    0     0                       0.0095843    0.00958  0.00%     -    0s\n",
      "     0     0    0.00958    0   32    0.00958    0.00958  0.00%     -    0s\n",
      "\n",
      "Explored 1 nodes (121 simplex iterations) in 0.18 seconds (0.02 work units)\n",
      "Thread count was 8 (of 8 available processors)\n",
      "\n",
      "Solution count 3: 0.00958429 0.0106936 0.0151464 \n",
      "\n",
      "Optimal solution found (tolerance 5.00e-02)\n",
      "Best objective 9.584292796862e-03, best bound 9.584292796862e-03, gap 0.0000%\n",
      "Card MVO Finished...\n",
      "--------------------\n",
      "New Best C  0.000244140625\n",
      "Test Error  3.2000065471961747\n",
      "Selected Features  Index(['mean', 'adjVolume_std_250'], dtype='object')\n",
      "Set parameter TimeLimit to value 20\n",
      "Set parameter FeasibilityTol to value 1e-08\n",
      "Gurobi Optimizer version 11.0.0 build v11.0.0rc2 (win64 - Windows 10.0 (19045.2))\n",
      "\n",
      "CPU model: Intel(R) Core(TM) i5-8350U CPU @ 1.70GHz, instruction set [SSE2|AVX|AVX2]\n",
      "Thread count: 4 physical cores, 8 logical processors, using up to 8 threads\n",
      "\n",
      "Optimize a model with 577 rows, 863 columns and 42767 nonzeros\n",
      "Model fingerprint: 0xd56a2ff9\n",
      "Model has 145 quadratic objective terms\n",
      "Variable types: 718 continuous, 145 integer (145 binary)\n",
      "Coefficient statistics:\n",
      "  Matrix range     [8e-06, 2e+01]\n",
      "  Objective range  [4e-07, 4e-07]\n",
      "  QObjective range [1e+00, 1e+00]\n",
      "  Bounds range     [1e+00, 1e+00]\n",
      "  RHS range        [1e+00, 2e+00]\n",
      "\n",
      "User MIP start produced solution with objective 2.73164e-05 (0.02s)\n",
      "Loaded user MIP start with objective 2.73164e-05\n",
      "\n",
      "Presolve removed 0 rows and 286 columns\n",
      "Presolve time: 0.05s\n",
      "Presolved: 577 rows, 577 columns, 42767 nonzeros\n",
      "Presolved model has 145 quadratic objective terms\n",
      "Variable types: 432 continuous, 145 integer (145 binary)\n",
      "\n",
      "Root relaxation: interrupted, 128 iterations, 0.02 seconds (0.01 work units)\n",
      "\n",
      "    Nodes    |    Current Node    |     Objective Bounds      |     Work\n",
      " Expl Unexpl |  Obj  Depth IntInf | Incumbent    BestBd   Gap | It/Node Time\n",
      "\n",
      "     0     0          -    0         0.00003    0.00003  0.01%     -    0s\n",
      "\n",
      "Explored 1 nodes (128 simplex iterations) in 0.12 seconds (0.04 work units)\n",
      "Thread count was 8 (of 8 available processors)\n",
      "\n",
      "Solution count 1: 2.73164e-05 \n",
      "\n",
      "Optimal solution found (tolerance 1.00e-04)\n",
      "Best objective 2.731644751854e-05, best bound 2.731504303045e-05, gap 0.0051%\n",
      "Largest epsilon value guaranteeing  1.1  risk:  35.086161150190556\n",
      "Feasible solution constructed in  5.524001359939575  seconds\n",
      "Feasible solution objective value  0.010542722076548125\n",
      "Xi Lemma  Lemma 5\n",
      "Theorem 2 big M  3.2840044421925128\n",
      "Theorem 3 big M  2.8262510786849635\n",
      "C and epsilon updated from big M\n",
      "Calculated Big M  2.8262510786849635\n",
      "Calculated big W 0.01733438555888072\n",
      "Calculated big b 1.413125539342482\n",
      "Calculated big xi 2.826251078684964\n",
      "Set parameter TimeLimit to value 20\n",
      "Set parameter FeasibilityTol to value 1e-08\n",
      "Set parameter MIPGap to value 0.05\n",
      "Gurobi Optimizer version 11.0.0 build v11.0.0rc2 (win64 - Windows 10.0 (19045.2))\n",
      "\n",
      "CPU model: Intel(R) Core(TM) i5-8350U CPU @ 1.70GHz, instruction set [SSE2|AVX|AVX2]\n",
      "Thread count: 4 physical cores, 8 logical processors, using up to 8 threads\n",
      "\n",
      "Optimize a model with 1152 rows, 1435 columns and 86811 nonzeros\n",
      "Model fingerprint: 0x37dfaa60\n",
      "Model has 41186 quadratic objective terms\n",
      "Variable types: 1004 continuous, 431 integer (431 binary)\n",
      "Coefficient statistics:\n",
      "  Matrix range     [8e-06, 2e+01]\n",
      "  Objective range  [1e-05, 1e-05]\n",
      "  QObjective range [1e-05, 4e+01]\n",
      "  Bounds range     [1e+00, 1e+00]\n",
      "  RHS range        [3e-01, 1e+02]\n",
      "\n",
      "User MIP start produced solution with objective 0.0105427 (0.05s)\n",
      "Loaded user MIP start with objective 0.0105427\n",
      "\n",
      "Presolve added 0 rows and 280 columns\n",
      "Presolve removed 280 rows and 0 columns\n",
      "Presolve time: 0.13s\n",
      "Presolved: 974 rows, 1766 columns, 46135 nonzeros\n",
      "Presolved model has 41237 quadratic objective terms\n",
      "Found heuristic solution: objective 0.0109263\n",
      "Variable types: 1335 continuous, 431 integer (431 binary)\n",
      "\n",
      "Root relaxation: objective 9.584293e-03, 633 iterations, 0.06 seconds (0.06 work units)\n",
      "\n",
      "    Nodes    |    Current Node    |     Objective Bounds      |     Work\n",
      " Expl Unexpl |  Obj  Depth IntInf | Incumbent    BestBd   Gap | It/Node Time\n",
      "\n",
      "     0     0    0.00958    0  286    0.01054    0.00958  9.09%     -    0s\n",
      "H    0     0                       0.0105427    0.00958  9.09%     -    0s\n",
      "     0     0    0.00959    0  286    0.01054    0.00959  9.01%     -    0s\n",
      "     0     2    0.00959    0  286    0.01054    0.00959  9.01%     -    0s\n",
      "H  427   416                       0.0105391    0.00963  8.61%  39.0    4s\n",
      "   473   474    0.00972   12  409    0.01054    0.00963  8.61%  38.6    5s\n",
      "  1148  1002    0.01008   40  286    0.01054    0.00964  8.52%  32.5   11s\n",
      "  1266  1085    0.01010   25  404    0.01054    0.00967  8.28%  35.4   15s\n",
      "H 1322  1066                       0.0104869    0.00967  7.82%  34.9   15s\n",
      "H 1583  1083                       0.0102775    0.00967  5.91%  32.7   17s\n",
      "H 1661  1058                       0.0102602    0.00967  5.75%  32.1   18s\n",
      "  1928  1180    0.00988   33  396    0.01026    0.00969  5.59%  31.5   20s\n",
      "\n",
      "Explored 1936 nodes (61613 simplex iterations) in 20.02 seconds (14.51 work units)\n",
      "Thread count was 8 (of 8 available processors)\n",
      "\n",
      "Solution count 5: 0.0102602 0.0102775 0.0105391 ... 0.0105427\n",
      "\n",
      "Time limit reached\n",
      "Best objective 1.026015057665e-02, best bound 9.686809827103e-03, gap 5.5880%\n",
      "SVM MVO Objective Value  0.010260150576651554\n",
      "Norm of w  0.0\n",
      "Positive Classification errors  38.0\n",
      "Negative Classification errors  0.0\n",
      "Set parameter TimeLimit to value 20\n",
      "Set parameter MIPGap to value 0.05\n",
      "Set parameter FeasibilityTol to value 1e-08\n",
      "--------------------\n",
      "Solving Card MVO...\n",
      "Gurobi Optimizer version 11.0.0 build v11.0.0rc2 (win64 - Windows 10.0 (19045.2))\n",
      "\n",
      "CPU model: Intel(R) Core(TM) i5-8350U CPU @ 1.70GHz, instruction set [SSE2|AVX|AVX2]\n",
      "Thread count: 4 physical cores, 8 logical processors, using up to 8 threads\n",
      "\n",
      "Optimize a model with 289 rows, 572 columns and 1430 nonzeros\n",
      "Model fingerprint: 0xd0caa348\n",
      "Model has 41041 quadratic objective terms\n",
      "Variable types: 286 continuous, 286 integer (286 binary)\n",
      "Coefficient statistics:\n",
      "  Matrix range     [9e-04, 1e+00]\n",
      "  Objective range  [0e+00, 0e+00]\n",
      "  QObjective range [1e-05, 2e+00]\n",
      "  Bounds range     [1e+00, 1e+00]\n",
      "  RHS range        [3e-01, 1e+02]\n",
      "Presolve time: 0.07s\n",
      "Presolved: 391 rows, 623 columns, 1634 nonzeros\n",
      "Presolved model has 41092 quadratic objective terms\n",
      "Variable types: 337 continuous, 286 integer (286 binary)\n",
      "Found heuristic solution: objective 0.0151464\n",
      "Found heuristic solution: objective 0.0106936\n",
      "\n",
      "Root relaxation: objective 9.584293e-03, 121 iterations, 0.01 seconds (0.00 work units)\n",
      "\n",
      "    Nodes    |    Current Node    |     Objective Bounds      |     Work\n",
      " Expl Unexpl |  Obj  Depth IntInf | Incumbent    BestBd   Gap | It/Node Time\n",
      "\n",
      "     0     0    0.00958    0   32    0.01069    0.00958  10.4%     -    0s\n",
      "H    0     0                       0.0095843    0.00958  0.00%     -    0s\n",
      "     0     0    0.00958    0   32    0.00958    0.00958  0.00%     -    0s\n",
      "\n",
      "Explored 1 nodes (121 simplex iterations) in 0.16 seconds (0.02 work units)\n",
      "Thread count was 8 (of 8 available processors)\n",
      "\n",
      "Solution count 3: 0.00958429 0.0106936 0.0151464 \n",
      "\n",
      "Optimal solution found (tolerance 5.00e-02)\n",
      "Best objective 9.584292796862e-03, best bound 9.584292796862e-03, gap 0.0000%\n",
      "Card MVO Finished...\n",
      "--------------------\n"
     ]
    }
   ],
   "source": [
    "# Number of assets\n",
    "n  = len(tickers)\n",
    "env.n = n\n",
    "\n",
    "# Measure runtime: start the clock\n",
    "start_time = time.time()\n",
    "\n",
    "# Subset the returns and factor returns corresponding to the current calibration period.\n",
    "periodReturns = returns[returns.index <= calEnd]\n",
    "periodFactRet = factorRet[factorRet.index <= calEnd]\n",
    "\n",
    "# take the last available contextual observations\n",
    "period_daily_adjClose = daily_adjClose[daily_adjClose.index <= calEnd]\n",
    "period_Context_idx = ContextualInfo.index.get_level_values('date') <= calEnd\n",
    "period_Context = ContextualInfo.iloc[period_Context_idx].groupby('ticker').last()\n",
    "\n",
    "env.periodReturns = periodReturns\n",
    "env.periodFactRet = periodFactRet\n",
    "env.period_daily_adjClose = period_daily_adjClose\n",
    "env.period_Context = period_Context\n",
    "\n",
    "# there should be a feature vector for each asset\n",
    "assert len(period_Context) == n\n",
    "# all the tickers should be aligned in the context and ticker dataset\n",
    "assert (periodReturns.columns == period_Context.index).all()\n",
    "\n",
    "current_price_idx = (calEnd - pd.offsets.DateOffset(months=1) <= adjClose.index)&(adjClose.index <= calEnd)\n",
    "currentPrices = adjClose[current_price_idx]\n",
    "\n",
    "# Subset the prices corresponding to the current out-of-sample test period.\n",
    "periodPrices_idx = (testStart <= adjClose.index)&(adjClose.index <= testEnd)\n",
    "periodPrices = adjClose[periodPrices_idx]\n",
    "\n",
    "assert len(periodPrices) == investPeriod\n",
    "assert len(currentPrices) == 1\n",
    "\n",
    "# Set the initial value of the portfolio or update the portfolio value\n",
    "\n",
    "#----------------------------------------------------------------------\n",
    "# Portfolio optimization\n",
    "# You must write code your own algorithmic trading function\n",
    "#----------------------------------------------------------------------\n",
    "\n",
    "x = Strategy.execute_strategy(periodReturns, periodFactRet, environment=env) #equal_weight(periodReturns) #StrategyFunction(periodReturns, periodFactRet, x0[:,t]);\n",
    "x = StrategyCardMVO.execute_strategy(periodReturns, periodFactRet, environment=env) #equal_weight(periodReturns) #StrategyFunction(periodReturns, periodFactRet, x0[:,t]);\n",
    "\n",
    "end_time = time.time()"
   ],
   "metadata": {
    "collapsed": false,
    "ExecuteTime": {
     "end_time": "2024-01-21T17:47:35.278604Z",
     "start_time": "2024-01-21T17:47:23.452035600Z"
    }
   }
  },
  {
   "cell_type": "code",
   "execution_count": 16,
   "outputs": [
    {
     "data": {
      "text/plain": "dict_keys(['obj_value', 'time', 'bigM_time', 'optimality gap', 'x', 'z', 'w', 't', 'b', 'xi_plus', 'xi_neg', 'feasible_solution', 'C', 'epsilon', 'optimization_params'])"
     },
     "execution_count": 16,
     "metadata": {},
     "output_type": "execute_result"
    }
   ],
   "source": [
    "Strategy.current_results.keys()"
   ],
   "metadata": {
    "collapsed": false,
    "ExecuteTime": {
     "end_time": "2024-01-21T17:47:35.309110400Z",
     "start_time": "2024-01-21T17:47:35.270598300Z"
    }
   }
  },
  {
   "cell_type": "code",
   "execution_count": 17,
   "outputs": [
    {
     "data": {
      "text/plain": "dict_keys(['mu', 'Q', 'targetRet', 'previous_portfolio', 'K', 'period_Context', 'k', 'alpha', 'premium', 'EstNumObs', 'ticker_index', 'target_return_strategy', 'target_return_strategy_args', 'turnover_limit', 'turnover_constraints', 'cardinality_ratio', 'MipGap', 'limit_time', 'bigMStrategy', 'bigM_limit_time', 'bigM_MipGap', 'bigM_SolutionLimit', 'SkipSOCP', 'tightening_iter_lim', 'SVMMVO_bigM_time_limit', 'SVMMVO_MipGap', 'SVMMVO_SolutionLimit', 'SOCP_limit_time', 'q', 'C', 'epsilon', 'separable', 'LogToConsole', 'Verbose', 'hyperparams', 'q_alpha', 'kappa'])"
     },
     "execution_count": 17,
     "metadata": {},
     "output_type": "execute_result"
    }
   ],
   "source": [
    "Strategy.current_results['optimization_params'].keys()"
   ],
   "metadata": {
    "collapsed": false,
    "ExecuteTime": {
     "end_time": "2024-01-21T17:47:35.310110500Z",
     "start_time": "2024-01-21T17:47:35.290110700Z"
    }
   }
  },
  {
   "cell_type": "code",
   "execution_count": 18,
   "outputs": [
    {
     "data": {
      "text/plain": "0.010260150576651554"
     },
     "execution_count": 18,
     "metadata": {},
     "output_type": "execute_result"
    }
   ],
   "source": [
    "Strategy.current_results['obj_value'] # bound satisfied"
   ],
   "metadata": {
    "collapsed": false,
    "ExecuteTime": {
     "end_time": "2024-01-21T17:47:35.362111500Z",
     "start_time": "2024-01-21T17:47:35.305110Z"
    }
   }
  },
  {
   "cell_type": "code",
   "execution_count": 19,
   "outputs": [
    {
     "data": {
      "text/plain": "Empty DataFrame\nColumns: []\nIndex: [AAPL, ABT, ADBE, ADI, ADM, ADP, ADSK, AEP, AFL, AIG, AJG, ALB, ALK, ALL, AMAT, AMD, AMGN, AOS, APA, APD, APH, ASH, ATO, ATVI, AVY, AXP, AZO, BA, BAC, BAX, BBY, BC, BDX, BEN, BIO, BK, BKR, BMY, BSET, BSX, BWA, C, CAG, CAH, CAT, CB, CCK, CHD, CI, CINF, CL, CLF, CLX, CMA, CMI, CMS, CNA, CNP, COF, COO, CPB, CPRT, CSCO, CSX, CTAS, CTRA, CW, D, DD, DDS, DE, DHI, DHR, DIS, DLX, DOV, DTE, DUK, EA, ECL, ED, EFX, EIX, EMN, EMR, EOG, EQT, ETN, ETR, EXC, EXPD, F, FAST, FDX, FISV, FITB, GCO, GD, GE, GEN, ...]\n\n[286 rows x 0 columns]",
      "text/html": "<div>\n<style scoped>\n    .dataframe tbody tr th:only-of-type {\n        vertical-align: middle;\n    }\n\n    .dataframe tbody tr th {\n        vertical-align: top;\n    }\n\n    .dataframe thead th {\n        text-align: right;\n    }\n</style>\n<table border=\"1\" class=\"dataframe\">\n  <thead>\n    <tr style=\"text-align: right;\">\n      <th></th>\n    </tr>\n    <tr>\n      <th>ticker</th>\n    </tr>\n  </thead>\n  <tbody>\n    <tr>\n      <th>AAPL</th>\n    </tr>\n    <tr>\n      <th>ABT</th>\n    </tr>\n    <tr>\n      <th>ADBE</th>\n    </tr>\n    <tr>\n      <th>ADI</th>\n    </tr>\n    <tr>\n      <th>ADM</th>\n    </tr>\n    <tr>\n      <th>...</th>\n    </tr>\n    <tr>\n      <th>X</th>\n    </tr>\n    <tr>\n      <th>XRAY</th>\n    </tr>\n    <tr>\n      <th>XRX</th>\n    </tr>\n    <tr>\n      <th>ZBRA</th>\n    </tr>\n    <tr>\n      <th>ZION</th>\n    </tr>\n  </tbody>\n</table>\n<p>286 rows × 0 columns</p>\n</div>"
     },
     "execution_count": 19,
     "metadata": {},
     "output_type": "execute_result"
    }
   ],
   "source": [
    "Strategy.current_results['optimization_params']['period_Context'].iloc[:,Strategy.current_results['t'] > 0.0001]"
   ],
   "metadata": {
    "collapsed": false,
    "ExecuteTime": {
     "end_time": "2024-01-21T17:47:35.381115500Z",
     "start_time": "2024-01-21T17:47:35.323111Z"
    }
   }
  },
  {
   "cell_type": "code",
   "execution_count": 20,
   "outputs": [
    {
     "data": {
      "text/plain": "0.010542722076548126"
     },
     "execution_count": 20,
     "metadata": {},
     "output_type": "execute_result"
    }
   ],
   "source": [
    "StrategyCardMVO.current_results['obj_value']*(1 + kappa)"
   ],
   "metadata": {
    "collapsed": false,
    "ExecuteTime": {
     "end_time": "2024-01-21T17:47:35.382115600Z",
     "start_time": "2024-01-21T17:47:35.334111500Z"
    }
   }
  },
  {
   "cell_type": "code",
   "execution_count": 21,
   "outputs": [],
   "source": [
    "x_svmmvo = Strategy.current_results['x']\n",
    "x_cardmvo = StrategyCardMVO.current_results['x']"
   ],
   "metadata": {
    "collapsed": false,
    "ExecuteTime": {
     "end_time": "2024-01-21T17:47:35.383116Z",
     "start_time": "2024-01-21T17:47:35.352112200Z"
    }
   }
  },
  {
   "cell_type": "code",
   "execution_count": 22,
   "outputs": [],
   "source": [
    "portfolios = pd.DataFrame([x_svmmvo, x_cardmvo], columns = tickers, index = ['SVMMVO','CardMVO']).T"
   ],
   "metadata": {
    "collapsed": false,
    "ExecuteTime": {
     "end_time": "2024-01-21T17:47:35.398406700Z",
     "start_time": "2024-01-21T17:47:35.367110800Z"
    }
   }
  },
  {
   "cell_type": "code",
   "execution_count": 23,
   "outputs": [
    {
     "data": {
      "text/plain": "<Figure size 400x600 with 1 Axes>",
      "image/png": "[encoded data removed]"
     },
     "metadata": {},
     "output_type": "display_data"
    }
   ],
   "source": [
    "portfolios[(portfolios > 0.001).any(axis =1)].plot.barh(figsize = (4, 6));"
   ],
   "metadata": {
    "collapsed": false,
    "ExecuteTime": {
     "end_time": "2024-01-21T17:47:35.579976500Z",
     "start_time": "2024-01-21T17:47:35.395390600Z"
    }
   }
  },
  {
   "cell_type": "markdown",
   "source": [
    "# 3. Efficient Frontier"
   ],
   "metadata": {
    "collapsed": false
   }
  },
  {
   "cell_type": "code",
   "execution_count": 27,
   "outputs": [
    {
     "name": "stdout",
     "output_type": "stream",
     "text": [
      "Set parameter TimeLimit to value 20\n",
      "Set parameter MIPGap to value 0.05\n",
      "Set parameter FeasibilityTol to value 1e-08\n",
      "--------------------\n",
      "Solving Card MVO...\n",
      "Gurobi Optimizer version 11.0.0 build v11.0.0rc2 (win64 - Windows 10.0 (19045.2))\n",
      "\n",
      "CPU model: Intel(R) Core(TM) i5-8350U CPU @ 1.70GHz, instruction set [SSE2|AVX|AVX2]\n",
      "Thread count: 4 physical cores, 8 logical processors, using up to 8 threads\n",
      "\n",
      "Optimize a model with 289 rows, 572 columns and 1430 nonzeros\n",
      "Model fingerprint: 0xd70debc8\n",
      "Model has 41041 quadratic objective terms\n",
      "Variable types: 286 continuous, 286 integer (286 binary)\n",
      "Coefficient statistics:\n",
      "  Matrix range     [9e-04, 1e+00]\n",
      "  Objective range  [0e+00, 0e+00]\n",
      "  QObjective range [1e-05, 2e+00]\n",
      "  Bounds range     [1e+00, 1e+00]\n",
      "  RHS range        [1e+00, 1e+05]\n",
      "Found heuristic solution: objective 0.0890611\n",
      "Presolve removed 288 rows and 286 columns\n",
      "Presolve time: 0.02s\n",
      "Presolved: 1 rows, 286 columns, 286 nonzeros\n",
      "Presolved model has 41041 quadratic objective terms\n",
      "Variable types: 286 continuous, 0 integer (0 binary)\n",
      "Root relaxation presolve time: 0.06s\n",
      "Root relaxation presolved: 1 rows, 286 columns, 286 nonzeros\n",
      "Root relaxation presolved model has 41041 quadratic objective terms\n",
      "Root barrier log...\n",
      "\n",
      "Ordering time: 0.00s\n",
      "\n",
      "Barrier statistics:\n",
      " Free vars  : 285\n",
      " AA' NZ     : 4.076e+04\n",
      " Factor NZ  : 4.104e+04 (roughly 1 MB of memory)\n",
      " Factor Ops : 7.839e+06 (less than 1 second per iteration)\n",
      " Threads    : 3\n",
      "\n",
      "                  Objective                Residual\n",
      "Iter       Primal          Dual         Primal    Dual     Compl     Time\n",
      "   0   2.18890796e+05 -2.18890796e+05  2.86e+05 2.06e-05  2.50e+05     0s\n",
      "   1   2.27460749e-01 -5.00151775e+02  3.15e+02 2.27e-08  2.77e+02     0s\n",
      "   2   1.66001199e-02 -4.97319000e+02  3.15e-04 2.27e-14  8.70e-01     0s\n",
      "   3   1.65978899e-02 -5.08700360e-01  1.78e-08 6.94e-18  9.18e-04     0s\n",
      "   4   1.49934834e-02 -1.01903444e-02  4.67e-10 6.94e-18  4.40e-05     0s\n",
      "   5   6.47500680e-03 -7.23322983e-03  1.33e-15 2.78e-17  2.40e-05     0s\n",
      "   6   4.21042017e-03  1.48397378e-03  5.55e-17 1.39e-17  4.77e-06     0s\n",
      "   7   3.33176866e-03  2.42336384e-03  1.79e-16 1.04e-17  1.59e-06     0s\n",
      "   8   2.97037634e-03  2.89100442e-03  3.33e-16 6.94e-18  1.39e-07     0s\n",
      "   9   2.91242297e-03  2.90871808e-03  1.33e-15 6.94e-18  6.48e-09     0s\n",
      "  10   2.90929217e-03  2.90927248e-03  9.99e-16 6.94e-18  3.44e-11     0s\n",
      "  11   2.90927348e-03  2.90927340e-03  2.03e-13 1.04e-17  1.37e-13     0s\n",
      "\n",
      "Barrier solved model in 11 iterations and 0.20 seconds (0.07 work units)\n",
      "Optimal objective 2.90927348e-03\n",
      "\n",
      "\n",
      "Root relaxation: objective 2.909273e-03, 0 iterations, 0.16 seconds (0.08 work units)\n",
      "\n",
      "    Nodes    |    Current Node    |     Objective Bounds      |     Work\n",
      " Expl Unexpl |  Obj  Depth IntInf | Incumbent    BestBd   Gap | It/Node Time\n",
      "\n",
      "*    0     0               0       0.0029093    0.00291  0.00%     -    0s\n",
      "\n",
      "Explored 1 nodes (0 simplex iterations) in 0.23 seconds (0.08 work units)\n",
      "Thread count was 8 (of 8 available processors)\n",
      "\n",
      "Solution count 1: 0.00290927 \n",
      "\n",
      "Optimal solution found (tolerance 5.00e-02)\n",
      "Best objective 2.909273479301e-03, best bound 2.909273479301e-03, gap 0.0000%\n",
      "Card MVO Finished...\n",
      "--------------------\n"
     ]
    }
   ],
   "source": [
    "# solve min variance and store it, along with the expected return\n",
    "from IPython.display import clear_output\n",
    "\n",
    "plot_scaling = 0.5\n",
    "NumPts = 10\n",
    "StrategyCardMVO.investor_preferences['cardinality_ratio'] = 1\n",
    "StrategyCardMVO.investor_preferences['premium'] = -1 * 10 ** 6\n",
    "StrategyCardMVO.execute_strategy(periodReturns, periodFactRet, environment=env)\n",
    "min_return = StrategyCardMVO.current_results['x']@StrategyCardMVO.current_estimates[0]\n",
    "max_return  = plot_scaling*StrategyCardMVO.current_estimates[0].max()\n",
    "max_premium = max_return/StrategyCardMVO.current_estimates[0].mean()\n",
    "min_premium = min_return/StrategyCardMVO.current_estimates[0].mean()\n",
    "\n",
    "path = \"Experiments//EF//\"+universe+\"//\"\n",
    "if not os.path.exists(path):\n",
    "    os.makedirs(path)\n",
    "    print(\"Path created: \", path)"
   ],
   "metadata": {
    "collapsed": false,
    "ExecuteTime": {
     "end_time": "2024-01-21T17:47:35.849552600Z",
     "start_time": "2024-01-21T17:47:35.574978Z"
    }
   }
  },
  {
   "cell_type": "markdown",
   "source": [
    "### Do not run here"
   ],
   "metadata": {
    "collapsed": false
   }
  },
  {
   "cell_type": "code",
   "execution_count": 28,
   "outputs": [
    {
     "name": "stdout",
     "output_type": "stream",
     "text": [
      "Set parameter TimeLimit to value 120\n",
      "Set parameter MIPGap to value 0.05\n",
      "Cardinality ratio that binds  0.16083916083916083\n"
     ]
    }
   ],
   "source": [
    "vols_mvo, rets_mvo, premiums_mvo, cardinalities_mvo, mip_gaps, results = efficient_frontier_premium(StrategyCardMVO, max_return, min_return, NumPts, periodReturns, periodFactRet, env)\n",
    "print(\"Cardinality ratio that binds \", cardinalities_mvo.max()/len(tickers)) #natural cardinality based on 0.1%\n",
    "mvo_frontier_results = {}\n",
    "mvo_frontier_results['MVO'] =  vols_mvo, rets_mvo, premiums_mvo, cardinalities_mvo, mip_gaps, results\n",
    "export_dict(path, '', mvo_frontier_results, 'MVO')"
   ],
   "metadata": {
    "collapsed": false
   }
  },
  {
   "cell_type": "code",
   "execution_count": 29,
   "outputs": [
    {
     "name": "stdout",
     "output_type": "stream",
     "text": [
      "Set parameter TimeLimit to value 120\n",
      "Set parameter MIPGap to value 0.05\n"
     ]
    }
   ],
   "source": [
    "cardinality_ratios = [0.02, 0.04, 0.06, 0.08, 0.1]\n",
    "cardinality_frontier_results = {}\n",
    "\n",
    "for cardinality_ratio in cardinality_ratios:\n",
    "    StrategyCardMVO.investor_preferences['cardinality_ratio'] = cardinality_ratio\n",
    "    cardinality_frontier_results[cardinality_ratio] = efficient_frontier_premium(StrategyCardMVO, max_return, min_return, NumPts, periodReturns, periodFactRet, env)\n",
    "export_dict(path, '', cardinality_frontier_results, 'CardMVO')"
   ],
   "metadata": {
    "collapsed": false
   }
  },
  {
   "cell_type": "code",
   "execution_count": 30,
   "outputs": [
    {
     "name": "stdout",
     "output_type": "stream",
     "text": [
      "Set parameter TimeLimit to value 20\n",
      "Set parameter MIPGap to value 0.05\n",
      "Set parameter TimeLimit to value 20\n",
      "Set parameter FeasibilityTol to value 1e-08\n",
      "Set parameter TimeLimit to value 120\n",
      "Set parameter FeasibilityTol to value 1e-08\n",
      "Set parameter MIPGap to value 0.05\n"
     ]
    }
   ],
   "source": [
    "kappas =  [0.0125, 0.025, 0.05, 0.1, 0.2, 0.4, 0.8, 1.6]\n",
    "svmmvo_frontier_results = {}\n",
    "for cardinality_ratio in cardinality_ratios:\n",
    "    for kappa in kappas:\n",
    "        Strategy.investor_preferences['kappa'] = kappa\n",
    "        Strategy.investor_preferences['cardinality_ratio'] = cardinality_ratio\n",
    "        svmmvo_frontier_results[(cardinality_ratio, kappa)] = efficient_frontier_premium(Strategy, max_return, min_return, NumPts, periodReturns, periodFactRet, env)\n",
    "export_dict(path, '', svmmvo_frontier_results, 'SVMMVO')"
   ],
   "metadata": {
    "collapsed": false
   }
  },
  {
   "cell_type": "markdown",
   "source": [
    "# Analysis of Frontiers"
   ],
   "metadata": {
    "collapsed": false
   }
  },
  {
   "cell_type": "code",
   "execution_count": 28,
   "outputs": [],
   "source": [
    "from services.experiments import *\n",
    "mvo_frontier_results = import_dict(path, '', 'MVO')\n",
    "cardinality_frontier_results = import_dict(path, '', 'CardMVO')\n",
    "svmmvo_frontier_results = import_dict(path, '', 'SVMMVO')\n",
    "\n",
    "cardinality = 0.04\n",
    "cardinality_str = r\"$K = \\lfloor \"+str(cardinality) + r\"N \\rfloor$\"\n",
    "kappa = 0.8\n",
    "kappa_str = r\"$\\kappa = \"+str(kappa*100)+r\"\\%$\""
   ],
   "metadata": {
    "collapsed": false
   }
  },
  {
   "cell_type": "code",
   "execution_count": 29,
   "outputs": [],
   "source": [
    "vols_mvo, rets_mvo, premiums_mvo, cardinalities_mvo, gaps_mvo, results_mvo = mvo_frontier_results['MVO']"
   ],
   "metadata": {
    "collapsed": false
   }
  },
  {
   "cell_type": "code",
   "execution_count": 30,
   "outputs": [],
   "source": [
    "vols_cardmvo, rets_cardmvo, premiums_cardmvo, cardinalities_cardmvo, gaps_cardmvo, results_cardmvo = cardinality_frontier_results[cardinality]"
   ],
   "metadata": {
    "collapsed": false,
    "ExecuteTime": {
     "end_time": "2024-01-22T06:54:15.845576900Z",
     "start_time": "2024-01-22T06:54:15.658455900Z"
    }
   }
  },
  {
   "cell_type": "code",
   "execution_count": 31,
   "outputs": [],
   "source": [
    "vols_svmmvo, rets_svmmvo, premiums_svmmvo, cardinalities_svmmvo, gaps_svmmvo, results_svmmvo = svmmvo_frontier_results[(cardinality, kappa)]"
   ],
   "metadata": {
    "collapsed": false,
    "ExecuteTime": {
     "end_time": "2024-01-22T06:54:16.228129Z",
     "start_time": "2024-01-22T06:54:16.219568900Z"
    }
   }
  },
  {
   "cell_type": "code",
   "execution_count": 32,
   "outputs": [],
   "source": [
    "#tickers[(results_svmmvo[t]['optimization_params']['mu'] > 0.5).flatten()]"
   ],
   "metadata": {
    "collapsed": false
   }
  },
  {
   "cell_type": "code",
   "execution_count": 33,
   "outputs": [],
   "source": [
    "vols_svmmvo = np.array([results_svmmvo[t]['x']@results_svmmvo[t]['optimization_params']['Q']@results_svmmvo[t]['x']  for t in results_svmmvo.keys()])"
   ],
   "metadata": {
    "collapsed": false
   }
  },
  {
   "cell_type": "code",
   "execution_count": 34,
   "outputs": [],
   "source": [
    "# import matplotlib\n",
    "# matplotlib.rc('text', usetex=True)\n",
    "# matplotlib.rcParams['text.latex.preamble']=[r\"\\usepackage{amsmath}\"]"
   ],
   "metadata": {
    "collapsed": false
   }
  },
  {
   "cell_type": "code",
   "execution_count": 35,
   "outputs": [
    {
     "data": {
      "text/plain": "<Figure size 600x300 with 1 Axes>",
      "image/png": "[encoded data removed]"
     },
     "metadata": {},
     "output_type": "display_data"
    }
   ],
   "source": [
    "plt.figure(figsize = (6,3))\n",
    "ax = plt.gca()\n",
    "plt.plot(np.sqrt(vols_mvo), rets_mvo, 'o-',  label = 'MVO', color = '#648FFF')\n",
    "plt.plot(np.sqrt(vols_cardmvo), rets_cardmvo, 'o-',  label = 'CardMVO($K$)', color = '#FE6100')\n",
    "plt.plot(np.sqrt(vols_svmmvo), rets_svmmvo, 'o-', label = r\"SVMMVO($K, \\kappa$)\", color = '#785EF0')\n",
    "plt.plot(np.sqrt((1+kappa)*vols_cardmvo), rets_cardmvo, '.-', label = r\"$(1 + \\kappa)$ - CardMVO($K$)\", color = '#FFB000')\n",
    "plt.title(\"Efficient Frontier \"+cardinality_str + \" \"+ kappa_str)\n",
    "plt.xlabel(r'$\\sqrt{\\bf{x}^{\\intercal} \\bf{\\Sigma} \\bf{x}}$')\n",
    "plt.ylabel(r'$\\bf{r}^{\\intercal} \\bf{x}$')\n",
    "plt.tight_layout()\n",
    "plt.legend()\n",
    "plt.savefig(path+\"frontier_\"+str(cardinality).replace(\".\",\"dot\")+\"_\"+str(kappa).replace(\".\",\"dot\") +\".svg\")"
   ],
   "metadata": {
    "collapsed": false,
    "ExecuteTime": {
     "end_time": "2024-01-22T06:54:16.861939200Z",
     "start_time": "2024-01-22T06:54:16.627075Z"
    }
   }
  },
  {
   "cell_type": "code",
   "execution_count": 240,
   "outputs": [
    {
     "name": "stdout",
     "output_type": "stream",
     "text": [
      "0\n",
      "1\n",
      "2\n",
      "3\n",
      "4\n",
      "5\n",
      "7\n"
     ]
    }
   ],
   "source": [
    "for t in results_svmmvo.keys():\n",
    "    t_vals = results_svmmvo[t]['t']\n",
    "    if np.sum(np.abs(results_svmmvo[t]['w'][t_vals > 0.99])) > 0.0001:\n",
    "        print(t)"
   ],
   "metadata": {
    "collapsed": false
   }
  },
  {
   "cell_type": "code",
   "execution_count": 248,
   "outputs": [],
   "source": [
    "t = 5"
   ],
   "metadata": {
    "collapsed": false
   }
  },
  {
   "cell_type": "code",
   "execution_count": 249,
   "outputs": [],
   "source": [
    "z_vals = np.rint(results_svmmvo[t]['z'])\n",
    "t_vals = results_svmmvo[t]['t']\n",
    "w_vals = results_svmmvo[t]['w'][t_vals > 0.99]\n",
    "b_val = results_svmmvo[t]['b']\n",
    "ret_string = r'$r_{\\mathsf{min}} = '+str(np.round(100*rets_svmmvo[t], 2)) + r'\\%$'"
   ],
   "metadata": {
    "collapsed": false
   }
  },
  {
   "cell_type": "code",
   "execution_count": 250,
   "outputs": [
    {
     "name": "stderr",
     "output_type": "stream",
     "text": [
      "C:\\Users\\david\\AppData\\Local\\Temp\\ipykernel_6888\\2523817129.py:8: SettingWithCopyWarning: \n",
      "A value is trying to be set on a copy of a slice from a DataFrame\n",
      "\n",
      "See the caveats in the documentation: https://pandas.pydata.org/pandas-docs/stable/user_guide/indexing.html#returning-a-view-versus-a-copy\n",
      "  context2d[r'$\\bf{z}$'].iloc[z_vals_reduced > 0.01] = '#648FFF'\n"
     ]
    }
   ],
   "source": [
    "context2d = results_svmmvo[0]['optimization_params']['period_Context'].iloc[:, t_vals > 0.99]\n",
    "from scipy import stats\n",
    "assets = (np.abs(stats.zscore(context2d)) < 100).all(axis=1)\n",
    "z_vals_reduced = z_vals[assets]\n",
    "context2d = context2d[assets]\n",
    "#context2d  = context2d.rank()/(len(context2d)+1)\n",
    "context2d[r'$\\bf{z}$'] = '#FE6100'\n",
    "context2d[r'$\\bf{z}$'].iloc[z_vals_reduced > 0.01] = '#648FFF'"
   ],
   "metadata": {
    "collapsed": false
   }
  },
  {
   "cell_type": "code",
   "execution_count": 251,
   "outputs": [],
   "source": [
    "def create_linear_function(w, b):\n",
    "    def formula(x):\n",
    "        return (-1/(w[1]))*(w[0]*x + b)\n",
    "    return formula"
   ],
   "metadata": {
    "collapsed": false
   }
  },
  {
   "cell_type": "code",
   "execution_count": 252,
   "outputs": [],
   "source": [
    "line = create_linear_function(w_vals, b_val)\n",
    "x = np.array([-1, 3])"
   ],
   "metadata": {
    "collapsed": false
   }
  },
  {
   "cell_type": "code",
   "execution_count": 253,
   "outputs": [
    {
     "data": {
      "text/plain": "array([-2.16284998,  1.67999012])"
     },
     "execution_count": 253,
     "metadata": {},
     "output_type": "execute_result"
    }
   ],
   "source": [
    "line(x)"
   ],
   "metadata": {
    "collapsed": false
   }
  },
  {
   "cell_type": "code",
   "execution_count": 254,
   "outputs": [
    {
     "data": {
      "text/plain": "<Figure size 400x400 with 1 Axes>",
      "image/png": "[encoded data removed]"
     },
     "metadata": {},
     "output_type": "display_data"
    }
   ],
   "source": [
    "plt.figure(figsize = (4,4))\n",
    "ax = plt.gca()\n",
    "eligible = z_vals_reduced > 0.01\n",
    "plt.scatter(context2d.iloc[eligible ,0], context2d.iloc[eligible ,1], c = context2d.iloc[eligible ,2].values, label= r'$z_i = 1$', marker = '.')\n",
    "plt.scatter(context2d.iloc[~eligible,0], context2d.iloc[~eligible,1], c = context2d.iloc[~eligible,2].values, label= r'$z_i = 0$', marker = '.')\n",
    "#context2d.plot.scatter(x = 0, y = 1, c = 2, ax = ax)\n",
    "plt.plot(x, line(x), '--', linewidth = 2, label = r'${\\bf{y}^{\\intercal}\\bf{w}} + b = 0$', color ='black')\n",
    "plt.xlabel(context2d.columns[0])\n",
    "plt.ylabel(context2d.columns[1])\n",
    "plt.title(\"Assets in selected feature space \\n\"+ ret_string + \" \" +cardinality_str + \" \"+ kappa_str)\n",
    "plt.legend(loc = 'upper left')\n",
    "plt.tight_layout()\n",
    "plt.savefig(path+\"features_\"+str(cardinality).replace(\".\",\"dot\")+\"_\"+str(kappa).replace(\".\",\"dot\")+str(t) +\".svg\")"
   ],
   "metadata": {
    "collapsed": false
   }
  },
  {
   "cell_type": "code",
   "execution_count": null,
   "outputs": [],
   "source": [],
   "metadata": {
    "collapsed": false
   }
  },
  {
   "cell_type": "code",
   "execution_count": 231,
   "outputs": [],
   "source": [],
   "metadata": {
    "collapsed": false
   }
  }
 ],
 "metadata": {
  "kernelspec": {
   "display_name": "Python 3",
   "language": "python",
   "name": "python3"
  },
  "language_info": {
   "codemirror_mode": {
    "name": "ipython",
    "version": 2
   },
   "file_extension": ".py",
   "mimetype": "text/x-python",
   "name": "python",
   "nbconvert_exporter": "python",
   "pygments_lexer": "ipython2",
   "version": "2.7.6"
  }
 },
 "nbformat": 4,
 "nbformat_minor": 0
}
