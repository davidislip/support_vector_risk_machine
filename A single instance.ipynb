{
 "cells": [
  {
   "cell_type": "markdown",
   "source": [
    "\n",
    "# MMF1921/MIE377 Style Backtesting Template\n",
    "\n",
    "From the MIE377/MMF1921 Projects:\n",
    "\n",
    "        The purpose of this program is to provide a template with which to develop Project 2. The project requires you to test different models  (and/or different model combinations) to create an asset management algorithm.\n",
    "\n",
    "        This template will be used by the instructor and TA to assess your trading algorithm using different datasets.\n",
    "\n",
    "        # PLEASE DO NOT MODIFY THIS TEMPLATE (for Project submission purposes)\n",
    "\n",
    "This template for evaluating asset allocation algorithms is the exact same style as the one in MIE377.\n",
    "\n",
    "Is it fast? No it is not.\n",
    "\n",
    "Is it clear and relatively easy to follow? Yes it is.\n",
    "\n",
    "There are a couple of moving parts:\n",
    "\n",
    "* The database: see the Database folder for examples of where and how the data was processed. Download SQLLite viewer to explore the data and look at the queries in the notebooks to understand what data is in there\n",
    "* The services: in the services folder there are some helpers to extract the data (data_retrieval.py), estimate means and covariances (estimators.py), and optimizers (optimization.py)\n",
    "* Strategies are also defined in the services folder. The current convention is that a strategy takes in data (returns and factor returns) and outputs an allocation.\n",
    "* Typically, the strategies will use some form of estimator and an optimizer come up with allocations.\n",
    "\n",
    "If you do not want to deal with the database then use the MIE377_Project_Main template and copy cells 2.1 and 2.2 into the appropriate spot\n",
    "and replace \n",
    "\n",
    "        x[:,t] = project_function(periodReturns, periodFactRet)\n",
    "\n",
    "with\n",
    "\n",
    "        x[:,t] = Strategy.execute_strategy(periodReturns, periodFactRet) #equal_weight(periodReturns) #StrategyFunction(periodReturns, periodFactRet, x0[:,t]);\n",
    "\n",
    "# 1. Read input files"
   ],
   "metadata": {
    "collapsed": false
   }
  },
  {
   "cell_type": "code",
   "execution_count": 1,
   "outputs": [
    {
     "name": "stdout",
     "output_type": "stream",
     "text": [
      "['asset_id', 'currency_id', 'equities_series', 'equity_index_id', 'exchange_id', 'factor_id', 'factors', 'frequency_id', 'fundamentals', 'metric_id', 'source_id', 'ticker_id', 'ticker_index_membership', 'tiingo_tickers']\n"
     ]
    }
   ],
   "source": [
    "import time\n",
    "import math\n",
    "\n",
    "import numpy as np\n",
    "import pandas as pd\n",
    "\n",
    "from Database.services.database import Database\n",
    "from sqlalchemy import inspect\n",
    "from services.data_retreival import *\n",
    "from scipy.stats import gmean\n",
    "import matplotlib.pyplot as plt\n",
    "from services.strategies import *\n",
    "from services.optimization_layers import *\n",
    "from services.optimization import *\n",
    "from services.binary_optimization import *\n",
    "from services.environment_functions import *\n",
    "from services.big_m_strategies import *\n",
    "\n",
    "Database.initialize(\"sqlite:///Database//financial_db.sqlite\") #for courses replace this with a flat file\n",
    "inspector = inspect(Database.engine)\n",
    "print(inspector.get_table_names())\n",
    "\n",
    "universe = 'SP'\n",
    "imputation_method = 'Multivariate'\n",
    "ticker_str = 'AAPL'\n",
    "#exponential params\n",
    "\n",
    "\n",
    "adjClose = pd.read_csv(\"flat_files/MonthlyAssetPrices\"+ universe + \".csv\", index_col=0, header = 1).iloc[1:,:]\n",
    "\n",
    "daily_adjClose =  pd.read_csv(\"flat_files/DailyAssetPrices\"+universe + \".csv\", index_col=0, header = 1).iloc[1:,:]\n",
    "\n",
    "TechnicalAnalysis = pd.read_csv(\"flat_files/TechnicalAnalysis\" + universe + \".csv\", index_col=[0,1])\n",
    "\n",
    "if universe ==  'SP':\n",
    "    FinancialRatios = pd.read_csv(\"flat_files/\" + imputation_method + \"WRDS.csv\", index_col=[0,1])\n",
    "    TechnicalAnalysis.index.names = FinancialRatios.index.names\n",
    "    ContextualInfo = TechnicalAnalysis.merge(FinancialRatios, how = 'left', left_index=True, right_index=True)\n",
    "\n",
    "else:\n",
    "    TechnicalAnalysis.index.names = ['date', 'ticker']\n",
    "    ContextualInfo = TechnicalAnalysis\n"
   ],
   "metadata": {
    "collapsed": false,
    "ExecuteTime": {
     "end_time": "2023-12-22T18:58:39.622327300Z",
     "start_time": "2023-12-22T18:58:34.424309100Z"
    }
   }
  },
  {
   "cell_type": "code",
   "execution_count": 2,
   "outputs": [],
   "source": [
    "adjClose.index = pd.to_datetime(adjClose.index, format='%Y-%m-%d').tz_localize(None)\n",
    "daily_adjClose.index = pd.to_datetime(daily_adjClose.index, format='%Y-%m-%d').tz_localize(None)\n",
    "ContextualInfo.index = ContextualInfo.index.set_levels([pd.to_datetime(ContextualInfo.index.levels[0]).tz_localize(None), ContextualInfo.index.levels[1]])"
   ],
   "metadata": {
    "collapsed": false,
    "ExecuteTime": {
     "end_time": "2023-12-22T18:58:39.637845400Z",
     "start_time": "2023-12-22T18:58:39.624327100Z"
    }
   }
  },
  {
   "cell_type": "code",
   "execution_count": 3,
   "outputs": [
    {
     "name": "stdout",
     "output_type": "stream",
     "text": [
      "The earliest possible start date\n"
     ]
    },
    {
     "data": {
      "text/plain": "Timestamp('1996-11-30 00:00:00')"
     },
     "execution_count": 3,
     "metadata": {},
     "output_type": "execute_result"
    }
   ],
   "source": [
    "print(\"The earliest possible start date\")\n",
    "max(daily_adjClose.index.unique()[0], ContextualInfo.index.get_level_values('date').unique()[0], adjClose.index.unique()[0])"
   ],
   "metadata": {
    "collapsed": false,
    "ExecuteTime": {
     "end_time": "2023-12-22T18:58:39.696598900Z",
     "start_time": "2023-12-22T18:58:39.638844900Z"
    }
   }
  },
  {
   "cell_type": "code",
   "execution_count": 4,
   "outputs": [
    {
     "name": "stdout",
     "output_type": "stream",
     "text": [
      "The latest possible start date\n"
     ]
    },
    {
     "data": {
      "text/plain": "Timestamp('2023-04-21 00:00:00')"
     },
     "execution_count": 4,
     "metadata": {},
     "output_type": "execute_result"
    }
   ],
   "source": [
    "print(\"The latest possible start date\")\n",
    "min(daily_adjClose.index.unique()[-1], ContextualInfo.index.get_level_values('date').unique()[-1], adjClose.index.unique()[-1])"
   ],
   "metadata": {
    "collapsed": false,
    "ExecuteTime": {
     "end_time": "2023-12-22T18:58:39.710600800Z",
     "start_time": "2023-12-22T18:58:39.658844400Z"
    }
   }
  },
  {
   "cell_type": "code",
   "execution_count": 5,
   "outputs": [],
   "source": [
    "start_date = pd.to_datetime('1996-11-30', format = '%Y-%m-%d')\n",
    "\n",
    "end_date = pd.to_datetime('2022-12-31', format = '%Y-%m-%d')\n",
    "\n",
    "# start_date = pd.to_datetime('2006-05-31', format = '%Y-%m-%d')\n",
    "#\n",
    "# end_date = pd.to_datetime('2022-12-31', format = '%Y-%m-%d')\n",
    "\n",
    "factors = ('Mkt-RF', 'RF')\n",
    "\n",
    "factorRet = get_monthly_factors(factors, start_date, end_date, Database)\n",
    "\n",
    "factorRet = factorRet.droplevel(0, axis = 1)\n",
    "factorRet.columns = [col.strip() for col in factorRet.columns]"
   ],
   "metadata": {
    "collapsed": false,
    "ExecuteTime": {
     "end_time": "2023-12-22T18:58:42.940030900Z",
     "start_time": "2023-12-22T18:58:39.672852900Z"
    }
   }
  },
  {
   "cell_type": "code",
   "execution_count": 6,
   "outputs": [],
   "source": [
    "adjClose = adjClose[start_date:end_date]\n",
    "daily_adjClose = daily_adjClose[start_date:end_date]\n",
    "idx = pd.IndexSlice\n",
    "ContextualInfo = ContextualInfo.loc[idx[start_date:end_date, :], :]"
   ],
   "metadata": {
    "collapsed": false,
    "ExecuteTime": {
     "end_time": "2023-12-22T18:58:42.988942200Z",
     "start_time": "2023-12-22T18:58:42.944986800Z"
    }
   }
  },
  {
   "cell_type": "code",
   "execution_count": 7,
   "outputs": [],
   "source": [
    "# Initial budget to invest ($100,000)\n",
    "initialVal = 100000\n",
    "\n",
    "# Length of investment period (in months) - but actually units of data\n",
    "investPeriod = 6\n",
    "\n",
    "# divide the factor returns by 100\n",
    "factorRet = factorRet/100\n",
    "\n",
    "#rf and factor returns\n",
    "#drop the first observation to align the dataset with the returns data that will\n",
    "#result\n",
    "factorRet = factorRet.iloc[1:, :]\n",
    "\n",
    "#rf and factor returns\n",
    "riskFree = factorRet['RF']\n",
    "factorRet = factorRet.loc[:,factorRet.columns != 'RF'];"
   ],
   "metadata": {
    "collapsed": false,
    "ExecuteTime": {
     "end_time": "2023-12-22T18:58:42.988942200Z",
     "start_time": "2023-12-22T18:58:42.974434100Z"
    }
   }
  },
  {
   "cell_type": "code",
   "execution_count": 8,
   "outputs": [],
   "source": [
    "#Identify the tickers and the dates\n",
    "tickers = adjClose.columns\n",
    "dates   = factorRet.index"
   ],
   "metadata": {
    "collapsed": false,
    "ExecuteTime": {
     "end_time": "2023-12-22T18:58:43.004942400Z",
     "start_time": "2023-12-22T18:58:42.987942Z"
    }
   }
  },
  {
   "cell_type": "code",
   "execution_count": 9,
   "outputs": [],
   "source": [
    "# Calculate the stocks monthly excess returns\n",
    "# pct change and drop the first null observation\n",
    "returns = adjClose.pct_change(1).iloc[1:, :]\n",
    "returns = returns  - np.diag(riskFree.values) @ np.ones_like(returns.values) # risk adjusted returns\n",
    "# Align the price table to the asset and factor returns tables by discarding the first observation.\n",
    "adjClose = adjClose.iloc[1:,:]"
   ],
   "metadata": {
    "collapsed": false,
    "ExecuteTime": {
     "end_time": "2023-12-22T18:58:43.040941800Z",
     "start_time": "2023-12-22T18:58:43.005942400Z"
    }
   }
  },
  {
   "cell_type": "code",
   "execution_count": 16,
   "outputs": [],
   "source": [
    "assert adjClose.index[0] == returns.index[0]\n",
    "assert adjClose.index[0] == factorRet.index[0]"
   ],
   "metadata": {
    "collapsed": false,
    "ExecuteTime": {
     "end_time": "2023-12-22T18:58:43.051942100Z",
     "start_time": "2023-12-22T18:58:43.033942100Z"
    }
   }
  },
  {
   "cell_type": "markdown",
   "source": [
    "# 2. Run your program\n",
    "\n",
    "This section will run your Project1_Function in a loop. The data will be loaded progressively as a growing window of historical observations.\n",
    "Rebalancing will take place after every loop\n",
    "\n",
    "### 2.1 Some Standard Allocation Strategies"
   ],
   "metadata": {
    "collapsed": false
   }
  },
  {
   "cell_type": "code",
   "execution_count": 55,
   "outputs": [],
   "source": [
    "# Some strategies (uncomment this or the next cell to pick a strategy to test)\n",
    "# Strategy = general_strategy(sample_estimator, MVO, NumObs=48)  #the general strategy object takes an estimator function and an optimizer function\n",
    "#                                                                #the only constraint is that the estimators outputs are the optimizers inputs\n",
    "# investor preferences (static throughout the backtest)\n",
    "hyperparam_search = True # True if model has hyperparams\n",
    "optimizer = SVMMVO # CardMVO , MVO\n",
    "estimator = exponential_weighted_estimator_shrinkage #\n",
    "EstNumObs = 700\n",
    "k = 6*20 #estimation horizon\n",
    "alpha= 1 - 0.985 #estimation decay\n",
    "return_premium = 1.4 #optimization premium\n",
    "\n",
    "turnover_constraints = True\n",
    "turnover_limit = 0.75 # 0.75, 1, 1.25\n",
    "cardinality_ratio = 0.3 #optimization\n",
    "\n",
    "MipGap = 0.05 # for portfolio optimizer\n",
    "limit_time = 20 # for portfolio optimizer\n",
    "\n",
    "target_return_strategy = premium_target # for portfolio optimizer to calculate return target\n",
    "# mean_target, premium_target, ticker_return_target\n",
    "target_return_strategy_args = ['premium'] # args for the return strategy\n",
    "\n",
    "bigMStrategy = HyperparameterBigMStrategy #objectiveBigMStrategy #objectiveBigMStrategyTightening , objectiveBigMStrategy\n",
    "\n",
    "bigM_limit_time=20 # for the feasible solution used to calculate big M\n",
    "bigM_MipGap=0.1 # for the feasible solution used to calculate big M\n",
    "bigM_SolutionLimit=10 # for the feasible solution used to calculate big <\n",
    "\n",
    "SkipSOCP = True # flag to skip the SOCP\n",
    "tightening_iter_lim = 1 # number of iterations of tightening to do\n",
    "\n",
    "SVMMVO_bigM_time_limit = 5 # for computing a better solution in the tightening strategy\n",
    "SVMMVO_MipGap=0.1 # for computing a better solution in the tightening strategy\n",
    "SVMMVO_SolutionLimit=5 # for computing a better solution in the tightening strategy\n",
    "\n",
    "SOCP_limit_time=10 # time limit for the SOCP's\n",
    "\n",
    "ticker_index = tickers.get_loc(ticker_str) # the ticker we want to compare to if\n",
    "#  we are using the ticker_return_target strategy\n",
    "\n",
    "q = 5 #subset of features\n",
    "\n",
    "C = 0.1 # separation importance\n",
    "\n",
    "epsilon = 0.1 # regularization amount for SVM\n",
    "\n",
    "separable = False # do not restrict the hyperplane to be separable\n",
    "\n",
    "LogToConsole = True # display optimization results in the console\n",
    "Verbose = True # print statements\n",
    "\n",
    "hyperparams = {'C': list(np.geomspace(0.1, 100, 4)), 'epsilon': list(np.geomspace(0.1, 100, 4))} # hyperparams for hyperparam search\n",
    "#q_alpha = 0.3187 # alpha for Q(t, a) = (1 - q_alpha) Q(t-1. a) + R(t, a)\n",
    "q_alpha = 0.6838\n",
    "kappa = 0.05 # 10 % risk/turnover tolerance\n",
    "\n",
    "investor_preferences = {'k':k, # horizon\n",
    "                        'alpha':alpha, # decay\n",
    "                        'premium':return_premium, # return premium preference\n",
    "                        'EstNumObs':EstNumObs,\n",
    "                        'ticker_index':ticker_index, # benchmark index for comparison used in place of return premium depending on the investors function to set r_min\n",
    "                        'target_return_strategy':target_return_strategy, # strategy for setting return\n",
    "                        'target_return_strategy_args': target_return_strategy_args, # args for return setting strategy\n",
    "                        'turnover_limit':turnover_limit, # turnover limit\n",
    "                        'turnover_constraints':turnover_constraints, # turnover limit choice (Y/N)\n",
    "                        'cardinality_ratio': cardinality_ratio, # Pct of assets to invest in\n",
    "                        'MipGap' : MipGap, 'limit_time':limit_time, # problem solving limits\n",
    "    \n",
    "                        'bigMStrategy':bigMStrategy,\n",
    "                        'bigM_limit_time':bigM_limit_time,\n",
    "                        'bigM_MipGap':bigM_MipGap,\n",
    "                        'bigM_SolutionLimit':bigM_SolutionLimit,\n",
    "\n",
    "                        'SkipSOCP':SkipSOCP,\n",
    "                        'tightening_iter_lim':tightening_iter_lim,\n",
    "\n",
    "                        'SVMMVO_bigM_time_limit':SVMMVO_bigM_time_limit,\n",
    "                        'SVMMVO_MipGap':SVMMVO_MipGap,\n",
    "                        'SVMMVO_SolutionLimit':SVMMVO_SolutionLimit,\n",
    "\n",
    "                        'SOCP_limit_time':SOCP_limit_time,\n",
    "                        'q':q,\n",
    "                        'C':C,\n",
    "                        'epsilon':epsilon,\n",
    "                        'separable':separable,\n",
    "                        'LogToConsole':LogToConsole,\n",
    "                        'Verbose':Verbose,\n",
    "                        'hyperparams':hyperparams,\n",
    "                        'q_alpha':q_alpha,\n",
    "                        'kappa':kappa}\n",
    "\n",
    "Strategy = general_strategy(estimator, optimizer,\n",
    "                            investor_preferences = investor_preferences)\n",
    "\n",
    "Strategy.extract_estimation_info = populate_exponential_weighted_estimator_shrinkage\n",
    "Strategy.extract_optimization_info = populate_kwargs\n",
    "\n",
    "env = environment()\n",
    "# see strategy script for different options OLS_RP() #OLS_MVO() #HistoricalMeanVarianceOptimization()"
   ],
   "metadata": {
    "collapsed": false,
    "ExecuteTime": {
     "end_time": "2023-12-22T23:13:28.825773Z",
     "start_time": "2023-12-22T23:13:28.791921100Z"
    }
   }
  },
  {
   "cell_type": "code",
   "execution_count": 56,
   "outputs": [],
   "source": [
    "\n",
    "# Start of out-of-sample test period\n",
    "testStart = returns.index[0] + pd.offsets.DateOffset(years=2)\n",
    "\n",
    "# End of the first investment period\n",
    "# testEnd = testStart + pd.offsets.DateOffset(months=investPeriod) - pd.offsets.DateOffset(days = 1)\n",
    "testEnd = testStart + pd.offsets.MonthBegin(investPeriod) - pd.offsets.DateOffset(days = 1)\n",
    "\n",
    "# End of calibration period\n",
    "calEnd = testStart -  pd.offsets.DateOffset(days = 1)"
   ],
   "metadata": {
    "collapsed": false,
    "ExecuteTime": {
     "end_time": "2023-12-22T23:13:30.620408700Z",
     "start_time": "2023-12-22T23:13:30.590179300Z"
    }
   }
  },
  {
   "cell_type": "code",
   "execution_count": 57,
   "outputs": [
    {
     "name": "stdout",
     "output_type": "stream",
     "text": [
      "Test Start 1998-12-31 00:00:00\n",
      "Test End 1999-05-31 00:00:00\n",
      "Calibration End 1998-12-30 00:00:00\n"
     ]
    }
   ],
   "source": [
    "print(\"Test Start\", testStart)\n",
    "print(\"Test End\", testEnd)\n",
    "print(\"Calibration End\", calEnd)"
   ],
   "metadata": {
    "collapsed": false,
    "ExecuteTime": {
     "end_time": "2023-12-22T23:13:34.118795300Z",
     "start_time": "2023-12-22T23:13:34.095589500Z"
    }
   }
  },
  {
   "cell_type": "code",
   "execution_count": 58,
   "outputs": [],
   "source": [
    "# Total number of investment periods\n",
    "NoPeriods = math.ceil((returns.index[-1].to_period('M') - testStart.to_period('M')).n / investPeriod)"
   ],
   "metadata": {
    "collapsed": false,
    "ExecuteTime": {
     "end_time": "2023-12-22T23:13:34.825086700Z",
     "start_time": "2023-12-22T23:13:34.805582100Z"
    }
   }
  },
  {
   "cell_type": "code",
   "execution_count": 59,
   "outputs": [
    {
     "name": "stdout",
     "output_type": "stream",
     "text": [
      "--------------------\n",
      "Calculating Big M\n",
      "--------------------\n",
      "Constructing Feasible Solution...\n",
      "Extracting a cardinality constrained portfolio...\n",
      "Set parameter TimeLimit to value 20\n",
      "Set parameter MIPGap to value 0.1\n",
      "Set parameter SolutionLimit to value 10\n",
      "--------------------\n",
      "Solving Card MVO...\n",
      "Gurobi Optimizer version 11.0.0 build v11.0.0rc2 (win64 - Windows 10.0 (19045.2))\n",
      "\n",
      "CPU model: Intel(R) Core(TM) i5-8350U CPU @ 1.70GHz, instruction set [SSE2|AVX|AVX2]\n",
      "Thread count: 4 physical cores, 8 logical processors, using up to 8 threads\n",
      "\n",
      "Optimize a model with 289 rows, 572 columns and 1430 nonzeros\n",
      "Model fingerprint: 0x60ec0e42\n",
      "Model has 41041 quadratic objective terms\n",
      "Variable types: 286 continuous, 286 integer (286 binary)\n",
      "Coefficient statistics:\n",
      "  Matrix range     [2e-03, 1e+00]\n",
      "  Objective range  [0e+00, 0e+00]\n",
      "  QObjective range [1e-05, 3e+00]\n",
      "  Bounds range     [1e+00, 1e+00]\n",
      "  RHS range        [4e-01, 9e+01]\n",
      "Presolve time: 0.06s\n",
      "Presolved: 357 rows, 606 columns, 1565 nonzeros\n",
      "Presolved model has 41075 quadratic objective terms\n",
      "Variable types: 320 continuous, 286 integer (286 binary)\n",
      "Found heuristic solution: objective 0.0212490\n",
      "\n",
      "Root relaxation: objective 1.197186e-02, 100 iterations, 0.01 seconds (0.00 work units)\n",
      "\n",
      "    Nodes    |    Current Node    |     Objective Bounds      |     Work\n",
      " Expl Unexpl |  Obj  Depth IntInf | Incumbent    BestBd   Gap | It/Node Time\n",
      "\n",
      "     0     0    0.01197    0   29    0.02125    0.01197  43.7%     -    0s\n",
      "H    0     0                       0.0119719    0.01197  0.00%     -    0s\n",
      "\n",
      "Explored 1 nodes (100 simplex iterations) in 0.13 seconds (0.02 work units)\n",
      "Thread count was 8 (of 8 available processors)\n",
      "\n",
      "Solution count 2: 0.0119719 0.021249 \n",
      "\n",
      "Optimal solution found (tolerance 1.00e-01)\n",
      "Best objective 1.197186328770e-02, best bound 1.197186328770e-02, gap 0.0000%\n",
      "Card MVO Finished...\n",
      "--------------------\n",
      "New Best C  0.0001220703125\n",
      "Test Error  11.600374273264373\n",
      "New Best C  32.00000000000002\n",
      "Test Error  11.54592851028723\n",
      "New Best C  128.0000000000001\n",
      "Test Error  11.501545408779062\n",
      "New Best C  256.0000000000003\n",
      "Test Error  9.471693803163433\n",
      "New Best C  512.0000000000006\n",
      "Test Error  8.812626966252408\n",
      "Non degenerate solution found\n",
      "Set parameter TimeLimit to value 20\n",
      "Gurobi Optimizer version 11.0.0 build v11.0.0rc2 (win64 - Windows 10.0 (19045.2))\n",
      "\n",
      "CPU model: Intel(R) Core(TM) i5-8350U CPU @ 1.70GHz, instruction set [SSE2|AVX|AVX2]\n",
      "Thread count: 4 physical cores, 8 logical processors, using up to 8 threads\n",
      "\n",
      "Optimize a model with 577 rows, 577 columns and 42767 nonzeros\n",
      "Model fingerprint: 0x912f7524\n",
      "Model has 145 quadratic objective terms\n",
      "Variable types: 432 continuous, 145 integer (145 binary)\n",
      "Coefficient statistics:\n",
      "  Matrix range     [8e-06, 2e+01]\n",
      "  Objective range  [2e+00, 2e+00]\n",
      "  QObjective range [1e+00, 1e+00]\n",
      "  Bounds range     [1e+00, 1e+00]\n",
      "  RHS range        [1e+00, 5e+00]\n",
      "Found heuristic solution: objective 1.024000e+12\n",
      "Presolve time: 0.04s\n",
      "Presolved: 577 rows, 577 columns, 42767 nonzeros\n",
      "Presolved model has 145 quadratic objective terms\n",
      "Variable types: 432 continuous, 145 integer (145 binary)\n",
      "\n",
      "Root relaxation: objective 1.293180e+01, 428 iterations, 0.04 seconds (0.05 work units)\n",
      "\n",
      "    Nodes    |    Current Node    |     Objective Bounds      |     Work\n",
      " Expl Unexpl |  Obj  Depth IntInf | Incumbent    BestBd   Gap | It/Node Time\n",
      "\n",
      "     0     0   12.93180    0  145 1.0240e+12   12.93180   100%     -    0s\n",
      "H    0     0                     103.8321678   12.93180  87.5%     -    0s\n",
      "H    0     0                      55.9073356   13.11479  76.5%     -    0s\n",
      "     0     0   14.33338    0  145   55.90734   14.33338  74.4%     -    0s\n",
      "     0     0   14.33338    0   23   55.90734   14.33338  74.4%     -    0s\n",
      "     0     0   14.33338    0   64   55.90734   14.33338  74.4%     -    2s\n",
      "     0     0   14.33338    0   63   55.90734   14.33338  74.4%     -    2s\n",
      "     0     0   16.30595    0   59   55.90734   16.30595  70.8%     -    3s\n",
      "     0     0   16.42938    0   57   55.90734   16.42938  70.6%     -    3s\n",
      "     0     0   23.05906    0   57   55.90734   23.05906  58.8%     -    3s\n",
      "     0     0   23.44779    0   58   55.90734   23.44779  58.1%     -    3s\n",
      "     0     0   26.22580    0   56   55.90734   26.22580  53.1%     -    3s\n",
      "     0     0   26.42655    0   55   55.90734   26.42655  52.7%     -    3s\n",
      "     0     0   29.13758    0   47   55.90734   29.13758  47.9%     -    4s\n",
      "     0     0   29.35741    0   48   55.90734   29.35741  47.5%     -    4s\n",
      "     0     0   29.79335    0   48   55.90734   29.79335  46.7%     -    4s\n",
      "     0     0   29.98728    0   49   55.90734   29.98728  46.4%     -    4s\n",
      "     0     0   30.18485    0   47   55.90734   30.18485  46.0%     -    4s\n",
      "     0     0   30.32256    0   47   55.90734   30.32256  45.8%     -    4s\n",
      "     0     0   30.44146    0   44   55.90734   30.44146  45.6%     -    4s\n",
      "     0     0   30.44435    0   46   55.90734   30.44435  45.5%     -    4s\n",
      "     0     0   30.61002    0   43   55.90734   30.61002  45.2%     -    4s\n",
      "     0     0   30.61927    0   43   55.90734   30.61927  45.2%     -    4s\n",
      "     0     0   30.68760    0   41   55.90734   30.68760  45.1%     -    4s\n",
      "     0     0   31.00425    0   42   55.90734   31.00425  44.5%     -    4s\n",
      "     0     0   31.00425    0   45   55.90734   31.00425  44.5%     -    4s\n",
      "     0     0   31.00425    0   43   55.90734   31.00425  44.5%     -    4s\n",
      "     0     0   31.00425    0   43   55.90734   31.00425  44.5%     -    4s\n",
      "     0     0   31.00425    0   43   55.90734   31.00425  44.5%     -    4s\n",
      "     0     0   31.00425    0   42   55.90734   31.00425  44.5%     -    4s\n",
      "     0     0   31.00696    0   40   55.90734   31.00696  44.5%     -    4s\n",
      "     0     0   31.00696    0   41   55.90734   31.00696  44.5%     -    5s\n",
      "     0     0   31.00696    0   41   55.90734   31.00696  44.5%     -    5s\n",
      "     0     0   31.00696    0   41   55.90734   31.00696  44.5%     -    5s\n",
      "     0     0   31.00696    0   42   55.90734   31.00696  44.5%     -    5s\n",
      "     0     0   31.00696    0   41   55.90734   31.00696  44.5%     -    5s\n",
      "     0     0   31.00696    0   42   55.90734   31.00696  44.5%     -    5s\n",
      "     0     0   31.00696    0   40   55.90734   31.00696  44.5%     -    5s\n",
      "     0     0   31.01584    0   40   55.90734   31.01584  44.5%     -    5s\n",
      "     0     0   31.02421    0   40   55.90734   31.02421  44.5%     -    5s\n",
      "     0     0   31.03239    0   42   55.90734   31.03239  44.5%     -    5s\n",
      "     0     0   31.04708    0   42   55.90734   31.04708  44.5%     -    5s\n",
      "     0     0   31.05708    0   42   55.90734   31.05708  44.4%     -    5s\n",
      "     0     0   31.06126    0   40   55.90734   31.06126  44.4%     -    5s\n",
      "     0     0   31.08723    0   38   55.90734   31.08723  44.4%     -    5s\n",
      "     0     0   31.17906    0   40   55.90734   31.17906  44.2%     -    5s\n",
      "     0     0   31.17906    0   39   55.90734   31.17906  44.2%     -    5s\n",
      "     0     0   31.17906    0   39   55.90734   31.17906  44.2%     -    5s\n",
      "     0     0   31.17906    0   39   55.90734   31.17906  44.2%     -    5s\n",
      "     0     0   31.17906    0   41   55.90734   31.17906  44.2%     -    5s\n",
      "     0     0   31.17906    0   41   55.90734   31.17906  44.2%     -    5s\n",
      "     0     0   31.17906    0   42   55.90734   31.17906  44.2%     -    5s\n",
      "     0     0   31.32374    0   42   55.90734   31.32374  44.0%     -    8s\n",
      "     0     2   31.32374    0   42   55.90734   31.32374  44.0%     -    8s\n",
      "H   19    24                      53.7937380   32.52415  39.5%   216    9s\n",
      "    32    38   35.61715    7   38   53.79374   32.52415  39.5%   196   10s\n",
      "H   59    68                      52.6470919   32.52415  38.2%   158   10s\n",
      "H  471   512                      52.3333451   32.52415  37.9%  55.3   11s\n",
      "*  471   512             112      52.3333451   32.52415  37.9%  55.5   11s\n",
      "H  516   542                      50.0207504   32.52415  35.0%  51.9   11s\n",
      "H  638   542                      48.6349672   32.95213  32.2%  50.6   12s\n",
      "   641   544   46.88940  126   41   48.63497   32.95213  32.2%  50.4   15s\n",
      "   775   634   43.01388   32   27   48.63497   34.44293  29.2%  80.2   20s\n",
      "\n",
      "Explored 782 nodes (69550 simplex iterations) in 20.01 seconds (16.55 work units)\n",
      "Thread count was 8 (of 8 available processors)\n",
      "\n",
      "Solution count 7: 48.635 50.0208 52.3333 ... 103.832\n",
      "\n",
      "Time limit reached\n",
      "Best objective 4.863496666400e+01, best bound 3.444292584140e+01, gap 29.1807%\n",
      "Largest epsilon value guaranteeing  1.05  risk:  1.2307876522679606e-05\n",
      "Feasible solution constructed in  23.233994483947754  seconds\n",
      "Xi Lemma  Lemma 2\n",
      "Theorem 2 big M  1276.2139530083002\n",
      "Theorem 3 big M  2372.9575952694818\n",
      "C and epsilon updated from big M\n",
      "Calculated Big M  1276.2139530083002\n",
      "Calculated big W 31.958321294209313\n",
      "Calculated big b 1186.4787976347409\n",
      "Calculated big xi 35.65693478808093\n",
      "Set parameter TimeLimit to value 20\n",
      "Set parameter MIPGap to value 0.05\n",
      "Gurobi Optimizer version 11.0.0 build v11.0.0rc2 (win64 - Windows 10.0 (19045.2))\n",
      "\n",
      "CPU model: Intel(R) Core(TM) i5-8350U CPU @ 1.70GHz, instruction set [SSE2|AVX|AVX2]\n",
      "Thread count: 4 physical cores, 8 logical processors, using up to 8 threads\n",
      "\n",
      "Optimize a model with 1152 rows, 1149 columns and 86811 nonzeros\n",
      "Model fingerprint: 0x5d26062c\n",
      "Model has 41186 quadratic objective terms\n",
      "Variable types: 718 continuous, 431 integer (431 binary)\n",
      "Coefficient statistics:\n",
      "  Matrix range     [8e-06, 1e+03]\n",
      "  Objective range  [4e-04, 4e-04]\n",
      "  QObjective range [1e-05, 3e+00]\n",
      "  Bounds range     [1e+00, 1e+00]\n",
      "  RHS range        [4e-01, 1e+03]\n",
      "Found heuristic solution: objective 2.016522e+08\n",
      "Presolve time: 0.16s\n",
      "Presolved: 1220 rows, 1183 columns, 86946 nonzeros\n",
      "Presolved model has 41220 quadratic objective terms\n",
      "Found heuristic solution: objective 0.2119286\n",
      "Variable types: 752 continuous, 431 integer (431 binary)\n",
      "\n",
      "Root relaxation: objective 1.197188e-02, 103 iterations, 0.02 seconds (0.01 work units)\n",
      "\n",
      "    Nodes    |    Current Node    |     Objective Bounds      |     Work\n",
      " Expl Unexpl |  Obj  Depth IntInf | Incumbent    BestBd   Gap | It/Node Time\n",
      "\n",
      "     0     0    0.01197    0   28    0.21193    0.01197  94.4%     -    0s\n",
      "H    0     0                       0.0317141    0.01197  62.3%     -    0s\n",
      "     0     0    0.01197    0   28    0.03171    0.01197  62.3%     -    0s\n",
      "     0     0    0.01197    0   28    0.03171    0.01197  62.3%     -    1s\n",
      "     0     0    0.01197    0   28    0.03171    0.01197  62.3%     -    1s\n",
      "     0     0    0.01197    0   28    0.03171    0.01197  62.2%     -    1s\n",
      "     0     0    0.01197    0   28    0.03171    0.01197  62.2%     -    1s\n",
      "     0     0    0.01197    0   28    0.03171    0.01197  62.2%     -    1s\n",
      "     0     0    0.01197    0   28    0.03171    0.01197  62.2%     -    2s\n",
      "     0     0    0.01197    0   28    0.03171    0.01197  62.2%     -    2s\n",
      "H    0     0                       0.0223668    0.01197  46.5%     -    2s\n",
      "H    0     0                       0.0203490    0.01197  41.2%     -    2s\n",
      "     0     2    0.01197    0   28    0.02035    0.01197  41.2%     -    3s\n",
      "     7    12    0.01288    3  336    0.02035    0.01197  41.2%   474    5s\n",
      "    39    44    0.01288   10  382    0.02035    0.01197  41.2%   365   10s\n",
      "    81    91    0.01288   17  317    0.02035    0.01197  41.2%   330   15s\n",
      "H   90    99                       0.0196668    0.01197  39.1%   327   15s\n",
      "H  142   145                       0.0196578    0.01197  39.1%   297   17s\n",
      "H  187   191                       0.0196499    0.01197  39.1%   285   18s\n",
      "H  217   225                       0.0196473    0.01197  39.1%   279   19s\n",
      "   224   229    0.01289   39  200    0.01965    0.01197  39.1%   279   20s\n",
      "H  225   229                       0.0154866    0.01197  22.7%   278   20s\n",
      "\n",
      "Cutting planes:\n",
      "  MIR: 4\n",
      "\n",
      "Explored 228 nodes (63603 simplex iterations) in 20.02 seconds (14.84 work units)\n",
      "Thread count was 8 (of 8 available processors)\n",
      "\n",
      "Solution count 7: 0.0154866 0.0196473 0.020349 ... 2.01652e+08\n",
      "\n",
      "Time limit reached\n",
      "Best objective 1.548664972026e-02, best bound 1.197207814326e-02, gap 22.6942%\n",
      "SVM MVO Objective Value  0.015486649720263247\n",
      "Norm of w  115.86607483990997\n",
      "Classification errors  7.380451265037989\n"
     ]
    }
   ],
   "source": [
    "# Number of assets\n",
    "n  = len(tickers)\n",
    "env.n = n\n",
    "\n",
    "# Initiate counter for the number of observations per investment period\n",
    "toDay = 0\n",
    "\n",
    "# Measure runtime: start the clock\n",
    "start_time = time.time()\n",
    "\n",
    "# Empty list to measure the value of the portfolio over the period\n",
    "portfValue = []\n",
    "\n",
    "# Subset the returns and factor returns corresponding to the current calibration period.\n",
    "periodReturns = returns[returns.index <= calEnd]\n",
    "periodFactRet = factorRet[factorRet.index <= calEnd]\n",
    "\n",
    "# take the last available contextual observations\n",
    "period_daily_adjClose = daily_adjClose[daily_adjClose.index <= calEnd]\n",
    "period_Context_idx = ContextualInfo.index.get_level_values('date') <= calEnd\n",
    "period_Context = ContextualInfo.iloc[period_Context_idx].groupby('ticker').last()\n",
    "\n",
    "env.periodReturns = periodReturns\n",
    "env.periodFactRet = periodFactRet\n",
    "env.period_daily_adjClose = period_daily_adjClose\n",
    "env.period_Context = period_Context\n",
    "\n",
    "# there should be a feature vector for each asset\n",
    "assert len(period_Context) == n\n",
    "# all the tickers should be aligned in the context and ticker dataset\n",
    "assert (periodReturns.columns == period_Context.index).all()\n",
    "\n",
    "current_price_idx = (calEnd - pd.offsets.DateOffset(months=1) <= adjClose.index)&(adjClose.index <= calEnd)\n",
    "currentPrices = adjClose[current_price_idx]\n",
    "\n",
    "# Subset the prices corresponding to the current out-of-sample test period.\n",
    "periodPrices_idx = (testStart <= adjClose.index)&(adjClose.index <= testEnd)\n",
    "periodPrices = adjClose[periodPrices_idx]\n",
    "\n",
    "assert len(periodPrices) == investPeriod\n",
    "assert len(currentPrices) == 1\n",
    "# Set the initial value of the portfolio or update the portfolio value\n",
    "\n",
    "\n",
    "#----------------------------------------------------------------------\n",
    "# Portfolio optimization\n",
    "# You must write code your own algorithmic trading function\n",
    "#----------------------------------------------------------------------\n",
    "# add in the estimation info\n",
    "\n",
    "x = Strategy.execute_strategy(periodReturns, periodFactRet, environment=env) #equal_weight(periodReturns) #StrategyFunction(periodReturns, periodFactRet, x0[:,t]);\n",
    "\n",
    "\n",
    "# Update your calibration and out-of-sample test periods\n",
    "# testStart = testStart + pd.offsets.DateOffset(months=investPeriod)\n",
    "# testEnd   = testStart + pd.offsets.DateOffset(months=investPeriod) - pd.offsets.DateOffset(days=1)\n",
    "# calEnd    = testStart - pd.offsets.DateOffset(days=1)\n",
    "end_time = time.time()"
   ],
   "metadata": {
    "collapsed": false,
    "ExecuteTime": {
     "end_time": "2023-12-22T23:13:38.489883600Z",
     "start_time": "2023-12-22T23:13:35.724764Z"
    }
   }
  },
  {
   "cell_type": "markdown",
   "source": [
    "# 3. Results"
   ],
   "metadata": {
    "collapsed": false
   }
  },
  {
   "cell_type": "code",
   "execution_count": 60,
   "outputs": [
    {
     "data": {
      "text/plain": "array([0.05320005, 0.02649822, 0.01220284, 0.0086831 , 0.02126961,\n       0.04301263, 0.07070017, 0.11595405, 0.04834759, 0.01964492,\n       0.03174044, 0.09045204, 0.0517772 , 0.01420197, 0.00859832,\n       0.01875059, 0.09322572, 0.03606237, 0.03044084, 0.20523733])"
     },
     "execution_count": 60,
     "metadata": {},
     "output_type": "execute_result"
    }
   ],
   "source": [
    "x[x > 0.001]"
   ],
   "metadata": {
    "collapsed": false
   }
  },
  {
   "cell_type": "code",
   "execution_count": null,
   "outputs": [],
   "source": [],
   "metadata": {
    "collapsed": false
   }
  }
 ],
 "metadata": {
  "kernelspec": {
   "display_name": "Python 3",
   "language": "python",
   "name": "python3"
  },
  "language_info": {
   "codemirror_mode": {
    "name": "ipython",
    "version": 2
   },
   "file_extension": ".py",
   "mimetype": "text/x-python",
   "name": "python",
   "nbconvert_exporter": "python",
   "pygments_lexer": "ipython2",
   "version": "2.7.6"
  }
 },
 "nbformat": 4,
 "nbformat_minor": 0
}
