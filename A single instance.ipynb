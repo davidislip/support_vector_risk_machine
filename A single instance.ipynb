{
 "cells": [
  {
   "cell_type": "markdown",
   "source": [
    "\n",
    "# MMF1921/MIE377 Style Backtesting Template\n",
    "\n",
    "From the MIE377/MMF1921 Projects:\n",
    "\n",
    "        The purpose of this program is to provide a template with which to develop Project 2. The project requires you to test different models  (and/or different model combinations) to create an asset management algorithm.\n",
    "\n",
    "        This template will be used by the instructor and TA to assess your trading algorithm using different datasets.\n",
    "\n",
    "        # PLEASE DO NOT MODIFY THIS TEMPLATE (for Project submission purposes)\n",
    "\n",
    "This template for evaluating asset allocation algorithms is the exact same style as the one in MIE377.\n",
    "\n",
    "Is it fast? No it is not.\n",
    "\n",
    "Is it clear and relatively easy to follow? Yes it is.\n",
    "\n",
    "There are a couple of moving parts:\n",
    "\n",
    "* The database: see the Database folder for examples of where and how the data was processed. Download SQLLite viewer to explore the data and look at the queries in the notebooks to understand what data is in there\n",
    "* The services: in the services folder there are some helpers to extract the data (data_retrieval.py), estimate means and covariances (estimators.py), and optimizers (optimization.py)\n",
    "* Strategies are also defined in the services folder. The current convention is that a strategy takes in data (returns and factor returns) and outputs an allocation.\n",
    "* Typically, the strategies will use some form of estimator and an optimizer come up with allocations.\n",
    "\n",
    "If you do not want to deal with the database then use the MIE377_Project_Main template and copy cells 2.1 and 2.2 into the appropriate spot\n",
    "and replace \n",
    "\n",
    "        x[:,t] = project_function(periodReturns, periodFactRet)\n",
    "\n",
    "with\n",
    "\n",
    "        x[:,t] = Strategy.execute_strategy(periodReturns, periodFactRet) #equal_weight(periodReturns) #StrategyFunction(periodReturns, periodFactRet, x0[:,t]);\n",
    "\n",
    "# 1. Read input files"
   ],
   "metadata": {
    "collapsed": false
   }
  },
  {
   "cell_type": "code",
   "execution_count": 1,
   "outputs": [
    {
     "name": "stdout",
     "output_type": "stream",
     "text": [
      "['asset_id', 'currency_id', 'equities_series', 'equity_index_id', 'exchange_id', 'factor_id', 'factors', 'frequency_id', 'fundamentals', 'metric_id', 'source_id', 'ticker_id', 'ticker_index_membership', 'tiingo_tickers']\n"
     ]
    }
   ],
   "source": [
    "import time\n",
    "import math\n",
    "\n",
    "import numpy as np\n",
    "import pandas as pd\n",
    "\n",
    "from Database.services.database import Database\n",
    "from sqlalchemy import inspect\n",
    "from services.data_retreival import *\n",
    "from scipy.stats import gmean\n",
    "import matplotlib.pyplot as plt\n",
    "from services.strategies import *\n",
    "from services.optimization_layers import *\n",
    "from services.optimization import *\n",
    "from services.binary_optimization import *\n",
    "from services.environment_functions import *\n",
    "from services.big_m_strategies import *\n",
    "\n",
    "Database.initialize(\"sqlite:///Database//financial_db.sqlite\") #for courses replace this with a flat file\n",
    "inspector = inspect(Database.engine)\n",
    "print(inspector.get_table_names())\n",
    "\n",
    "universe = 'SP'\n",
    "imputation_method = 'Multivariate'\n",
    "ticker_str = 'AAPL'\n",
    "#exponential params\n",
    "\n",
    "\n",
    "adjClose = pd.read_csv(\"flat_files/MonthlyAssetPrices\"+ universe + \".csv\", index_col=0, header = 1).iloc[1:,:]\n",
    "\n",
    "daily_adjClose =  pd.read_csv(\"flat_files/DailyAssetPrices\"+universe + \".csv\", index_col=0, header = 1).iloc[1:,:]\n",
    "\n",
    "TechnicalAnalysis = pd.read_csv(\"flat_files/TechnicalAnalysis\" + universe + \".csv\", index_col=[0,1])\n",
    "\n",
    "if universe ==  'SP':\n",
    "    FinancialRatios = pd.read_csv(\"flat_files/\" + imputation_method + \"WRDS.csv\", index_col=[0,1])\n",
    "    TechnicalAnalysis.index.names = FinancialRatios.index.names\n",
    "    ContextualInfo = TechnicalAnalysis.merge(FinancialRatios, how = 'left', left_index=True, right_index=True)\n",
    "\n",
    "else:\n",
    "    TechnicalAnalysis.index.names = ['date', 'ticker']\n",
    "    ContextualInfo = TechnicalAnalysis\n"
   ],
   "metadata": {
    "collapsed": false,
    "ExecuteTime": {
     "end_time": "2023-12-22T18:58:39.622327300Z",
     "start_time": "2023-12-22T18:58:34.424309100Z"
    }
   }
  },
  {
   "cell_type": "code",
   "execution_count": 2,
   "outputs": [],
   "source": [
    "adjClose.index = pd.to_datetime(adjClose.index, format='%Y-%m-%d').tz_localize(None)\n",
    "daily_adjClose.index = pd.to_datetime(daily_adjClose.index, format='%Y-%m-%d').tz_localize(None)\n",
    "ContextualInfo.index = ContextualInfo.index.set_levels([pd.to_datetime(ContextualInfo.index.levels[0]).tz_localize(None), ContextualInfo.index.levels[1]])"
   ],
   "metadata": {
    "collapsed": false,
    "ExecuteTime": {
     "end_time": "2023-12-22T18:58:39.637845400Z",
     "start_time": "2023-12-22T18:58:39.624327100Z"
    }
   }
  },
  {
   "cell_type": "code",
   "execution_count": 3,
   "outputs": [
    {
     "name": "stdout",
     "output_type": "stream",
     "text": [
      "The earliest possible start date\n"
     ]
    },
    {
     "data": {
      "text/plain": "Timestamp('1996-11-30 00:00:00')"
     },
     "execution_count": 3,
     "metadata": {},
     "output_type": "execute_result"
    }
   ],
   "source": [
    "print(\"The earliest possible start date\")\n",
    "max(daily_adjClose.index.unique()[0], ContextualInfo.index.get_level_values('date').unique()[0], adjClose.index.unique()[0])"
   ],
   "metadata": {
    "collapsed": false,
    "ExecuteTime": {
     "end_time": "2023-12-22T18:58:39.696598900Z",
     "start_time": "2023-12-22T18:58:39.638844900Z"
    }
   }
  },
  {
   "cell_type": "code",
   "execution_count": 4,
   "outputs": [
    {
     "name": "stdout",
     "output_type": "stream",
     "text": [
      "The latest possible start date\n"
     ]
    },
    {
     "data": {
      "text/plain": "Timestamp('2023-04-21 00:00:00')"
     },
     "execution_count": 4,
     "metadata": {},
     "output_type": "execute_result"
    }
   ],
   "source": [
    "print(\"The latest possible start date\")\n",
    "min(daily_adjClose.index.unique()[-1], ContextualInfo.index.get_level_values('date').unique()[-1], adjClose.index.unique()[-1])"
   ],
   "metadata": {
    "collapsed": false,
    "ExecuteTime": {
     "end_time": "2023-12-22T18:58:39.710600800Z",
     "start_time": "2023-12-22T18:58:39.658844400Z"
    }
   }
  },
  {
   "cell_type": "code",
   "execution_count": 5,
   "outputs": [],
   "source": [
    "start_date = pd.to_datetime('1996-11-30', format = '%Y-%m-%d')\n",
    "\n",
    "end_date = pd.to_datetime('2022-12-31', format = '%Y-%m-%d')\n",
    "\n",
    "# start_date = pd.to_datetime('2006-05-31', format = '%Y-%m-%d')\n",
    "#\n",
    "# end_date = pd.to_datetime('2022-12-31', format = '%Y-%m-%d')\n",
    "\n",
    "factors = ('Mkt-RF', 'RF')\n",
    "\n",
    "factorRet = get_monthly_factors(factors, start_date, end_date, Database)\n",
    "\n",
    "factorRet = factorRet.droplevel(0, axis = 1)\n",
    "factorRet.columns = [col.strip() for col in factorRet.columns]"
   ],
   "metadata": {
    "collapsed": false,
    "ExecuteTime": {
     "end_time": "2023-12-22T18:58:42.940030900Z",
     "start_time": "2023-12-22T18:58:39.672852900Z"
    }
   }
  },
  {
   "cell_type": "code",
   "execution_count": 6,
   "outputs": [],
   "source": [
    "adjClose = adjClose[start_date:end_date]\n",
    "daily_adjClose = daily_adjClose[start_date:end_date]\n",
    "idx = pd.IndexSlice\n",
    "ContextualInfo = ContextualInfo.loc[idx[start_date:end_date, :], :]"
   ],
   "metadata": {
    "collapsed": false,
    "ExecuteTime": {
     "end_time": "2023-12-22T18:58:42.988942200Z",
     "start_time": "2023-12-22T18:58:42.944986800Z"
    }
   }
  },
  {
   "cell_type": "code",
   "execution_count": 7,
   "outputs": [],
   "source": [
    "# Initial budget to invest ($100,000)\n",
    "initialVal = 100000\n",
    "\n",
    "# Length of investment period (in months) - but actually units of data\n",
    "investPeriod = 6\n",
    "\n",
    "# divide the factor returns by 100\n",
    "factorRet = factorRet/100\n",
    "\n",
    "#rf and factor returns\n",
    "#drop the first observation to align the dataset with the returns data that will\n",
    "#result\n",
    "factorRet = factorRet.iloc[1:, :]\n",
    "\n",
    "#rf and factor returns\n",
    "riskFree = factorRet['RF']\n",
    "factorRet = factorRet.loc[:,factorRet.columns != 'RF'];"
   ],
   "metadata": {
    "collapsed": false,
    "ExecuteTime": {
     "end_time": "2023-12-22T18:58:42.988942200Z",
     "start_time": "2023-12-22T18:58:42.974434100Z"
    }
   }
  },
  {
   "cell_type": "code",
   "execution_count": 8,
   "outputs": [],
   "source": [
    "#Identify the tickers and the dates\n",
    "tickers = adjClose.columns\n",
    "dates   = factorRet.index"
   ],
   "metadata": {
    "collapsed": false,
    "ExecuteTime": {
     "end_time": "2023-12-22T18:58:43.004942400Z",
     "start_time": "2023-12-22T18:58:42.987942Z"
    }
   }
  },
  {
   "cell_type": "code",
   "execution_count": 9,
   "outputs": [],
   "source": [
    "# Calculate the stocks monthly excess returns\n",
    "# pct change and drop the first null observation\n",
    "returns = adjClose.pct_change(1).iloc[1:, :]\n",
    "returns = returns  - np.diag(riskFree.values) @ np.ones_like(returns.values) # risk adjusted returns\n",
    "# Align the price table to the asset and factor returns tables by discarding the first observation.\n",
    "adjClose = adjClose.iloc[1:,:]"
   ],
   "metadata": {
    "collapsed": false,
    "ExecuteTime": {
     "end_time": "2023-12-22T18:58:43.040941800Z",
     "start_time": "2023-12-22T18:58:43.005942400Z"
    }
   }
  },
  {
   "cell_type": "code",
   "execution_count": 10,
   "outputs": [],
   "source": [
    "assert adjClose.index[0] == returns.index[0]\n",
    "assert adjClose.index[0] == factorRet.index[0]"
   ],
   "metadata": {
    "collapsed": false,
    "ExecuteTime": {
     "end_time": "2023-12-22T18:58:43.051942100Z",
     "start_time": "2023-12-22T18:58:43.033942100Z"
    }
   }
  },
  {
   "cell_type": "markdown",
   "source": [
    "# 2. Run your program\n",
    "\n",
    "This section will run your Project1_Function in a loop. The data will be loaded progressively as a growing window of historical observations.\n",
    "Rebalancing will take place after every loop\n",
    "\n",
    "### 2.1 Some Standard Allocation Strategies"
   ],
   "metadata": {
    "collapsed": false
   }
  },
  {
   "cell_type": "code",
   "execution_count": 264,
   "outputs": [],
   "source": [
    "# Some strategies (uncomment this or the next cell to pick a strategy to test)\n",
    "# Strategy = general_strategy(sample_estimator, MVO, NumObs=48)  #the general strategy object takes an estimator function and an optimizer function\n",
    "#                                                                #the only constraint is that the estimators outputs are the optimizers inputs\n",
    "# investor preferences (static throughout the backtest)\n",
    "hyperparam_search = False # True if model has hyperparams\n",
    "optimizer = SVMMVO # CardMVO , MVO\n",
    "estimator = exponential_weighted_estimator_shrinkage #\n",
    "EstNumObs = 750\n",
    "k = 6*20 #estimation horizon\n",
    "alpha= 1 - 0.999 #estimation decay\n",
    "return_premium = 1.4 #optimization premium\n",
    "\n",
    "turnover_constraints = True\n",
    "turnover_limit = 0.75 # 0.75, 1, 1.25\n",
    "cardinality_ratio = 0.5 #optimization\n",
    "\n",
    "MipGap = 0.05 # for portfolio optimizer\n",
    "limit_time = 240 # for portfolio optimizer\n",
    "\n",
    "target_return_strategy = premium_target # for portfolio optimizer to calculate return target\n",
    "# mean_target, premium_target, ticker_return_target\n",
    "target_return_strategy_args = ['premium'] # args for the return strategy\n",
    "\n",
    "bigMStrategy = HyperparameterBigMStrategy #objectiveBigMStrategy #objectiveBigMStrategyTightening , objectiveBigMStrategy\n",
    "\n",
    "bigM_limit_time=20 # for the feasible solution used to calculate big M\n",
    "bigM_MipGap=0.1 # for the feasible solution used to calculate big M\n",
    "bigM_SolutionLimit=10 # for the feasible solution used to calculate big <\n",
    "\n",
    "SkipSOCP = True # flag to skip the SOCP\n",
    "tightening_iter_lim = 1 # number of iterations of tightening to do\n",
    "\n",
    "SVMMVO_bigM_time_limit = 5 # for computing a better solution in the tightening strategy\n",
    "SVMMVO_MipGap=0.1 # for computing a better solution in the tightening strategy\n",
    "SVMMVO_SolutionLimit=5 # for computing a better solution in the tightening strategy\n",
    "\n",
    "SOCP_limit_time=10 # time limit for the SOCP's\n",
    "\n",
    "ticker_index = tickers.get_loc(ticker_str) # the ticker we want to compare to if\n",
    "#  we are using the ticker_return_target strategy\n",
    "\n",
    "q = 5 #subset of features\n",
    "\n",
    "C = 0.1 # separation importance\n",
    "\n",
    "epsilon = 0.1 # regularization amount for SVM\n",
    "\n",
    "separable = False # do not restrict the hyperplane to be separable\n",
    "\n",
    "LogToConsole = True # display optimization results in the console\n",
    "Verbose = True # print statements\n",
    "\n",
    "hyperparams = {'C': list(np.geomspace(0.1, 100, 4)), 'epsilon': list(np.geomspace(0.1, 100, 4))} # hyperparams for hyperparam search\n",
    "#q_alpha = 0.3187 # alpha for Q(t, a) = (1 - q_alpha) Q(t-1. a) + R(t, a)\n",
    "q_alpha = 0.6838\n",
    "kappa = 0.1 # 10 % risk/turnover tolerance\n",
    "\n",
    "investor_preferences = {'k':k, # horizon\n",
    "                        'alpha':alpha, # decay\n",
    "                        'premium':return_premium, # return premium preference\n",
    "                        'EstNumObs':EstNumObs,\n",
    "                        'ticker_index':ticker_index, # benchmark index for comparison used in place of return premium depending on the investors function to set r_min\n",
    "                        'target_return_strategy':target_return_strategy, # strategy for setting return\n",
    "                        'target_return_strategy_args': target_return_strategy_args, # args for return setting strategy\n",
    "                        'turnover_limit':turnover_limit, # turnover limit\n",
    "                        'turnover_constraints':turnover_constraints, # turnover limit choice (Y/N)\n",
    "                        'cardinality_ratio': cardinality_ratio, # Pct of assets to invest in\n",
    "                        'MipGap' : MipGap, 'limit_time':limit_time, # problem solving limits\n",
    "    \n",
    "                        'bigMStrategy':bigMStrategy,\n",
    "                        'bigM_limit_time':bigM_limit_time,\n",
    "                        'bigM_MipGap':bigM_MipGap,\n",
    "                        'bigM_SolutionLimit':bigM_SolutionLimit,\n",
    "\n",
    "                        'SkipSOCP':SkipSOCP,\n",
    "                        'tightening_iter_lim':tightening_iter_lim,\n",
    "\n",
    "                        'SVMMVO_bigM_time_limit':SVMMVO_bigM_time_limit,\n",
    "                        'SVMMVO_MipGap':SVMMVO_MipGap,\n",
    "                        'SVMMVO_SolutionLimit':SVMMVO_SolutionLimit,\n",
    "\n",
    "                        'SOCP_limit_time':SOCP_limit_time,\n",
    "                        'q':q,\n",
    "                        'C':C,\n",
    "                        'epsilon':epsilon,\n",
    "                        'separable':separable,\n",
    "                        'LogToConsole':LogToConsole,\n",
    "                        'Verbose':Verbose,\n",
    "                        'hyperparams':hyperparams,\n",
    "                        'q_alpha':q_alpha,\n",
    "                        'kappa':kappa}\n",
    "\n",
    "Strategy = general_strategy(estimator, optimizer,\n",
    "                            investor_preferences = investor_preferences)\n",
    "\n",
    "Strategy.extract_estimation_info = populate_exponential_weighted_estimator_shrinkage\n",
    "Strategy.extract_optimization_info = populate_kwargs\n",
    "\n",
    "StrategyCardMVO = general_strategy(estimator, CardMVO,\n",
    "                            investor_preferences = investor_preferences)\n",
    "\n",
    "StrategyCardMVO.extract_estimation_info = populate_exponential_weighted_estimator_shrinkage\n",
    "StrategyCardMVO.extract_optimization_info = populate_kwargs\n",
    "\n",
    "env = environment()\n",
    "# see strategy script for different options OLS_RP() #OLS_MVO() #HistoricalMeanVarianceOptimization()"
   ],
   "metadata": {
    "collapsed": false,
    "ExecuteTime": {
     "end_time": "2023-12-22T23:13:28.825773Z",
     "start_time": "2023-12-22T23:13:28.791921100Z"
    }
   }
  },
  {
   "cell_type": "code",
   "execution_count": 265,
   "outputs": [],
   "source": [
    "\n",
    "# Start of out-of-sample test period\n",
    "testStart = returns.index[0] + pd.offsets.DateOffset(years=2)\n",
    "\n",
    "# End of the first investment period\n",
    "# testEnd = testStart + pd.offsets.DateOffset(months=investPeriod) - pd.offsets.DateOffset(days = 1)\n",
    "testEnd = testStart + pd.offsets.MonthBegin(investPeriod) - pd.offsets.DateOffset(days = 1)\n",
    "\n",
    "# End of calibration period\n",
    "calEnd = testStart -  pd.offsets.DateOffset(days = 1)"
   ],
   "metadata": {
    "collapsed": false,
    "ExecuteTime": {
     "end_time": "2023-12-22T23:13:30.620408700Z",
     "start_time": "2023-12-22T23:13:30.590179300Z"
    }
   }
  },
  {
   "cell_type": "code",
   "execution_count": 266,
   "outputs": [
    {
     "name": "stdout",
     "output_type": "stream",
     "text": [
      "Test Start 1998-12-31 00:00:00\n",
      "Test End 1999-05-31 00:00:00\n",
      "Calibration End 1998-12-30 00:00:00\n"
     ]
    }
   ],
   "source": [
    "print(\"Test Start\", testStart)\n",
    "print(\"Test End\", testEnd)\n",
    "print(\"Calibration End\", calEnd)"
   ],
   "metadata": {
    "collapsed": false,
    "ExecuteTime": {
     "end_time": "2023-12-22T23:13:34.118795300Z",
     "start_time": "2023-12-22T23:13:34.095589500Z"
    }
   }
  },
  {
   "cell_type": "code",
   "execution_count": 267,
   "outputs": [
    {
     "name": "stdout",
     "output_type": "stream",
     "text": [
      "--------------------\n",
      "Calculating Big M\n",
      "--------------------\n",
      "Constructing Feasible Solution...\n",
      "Extracting a cardinality constrained portfolio...\n",
      "Set parameter TimeLimit to value 20\n",
      "Set parameter MIPGap to value 0.1\n",
      "Set parameter SolutionLimit to value 10\n",
      "--------------------\n",
      "Solving Card MVO...\n",
      "Gurobi Optimizer version 11.0.0 build v11.0.0rc2 (win64 - Windows 10.0 (19045.2))\n",
      "\n",
      "CPU model: Intel(R) Core(TM) i5-8350U CPU @ 1.70GHz, instruction set [SSE2|AVX|AVX2]\n",
      "Thread count: 4 physical cores, 8 logical processors, using up to 8 threads\n",
      "\n",
      "Optimize a model with 289 rows, 572 columns and 1430 nonzeros\n",
      "Model fingerprint: 0x2e9630ed\n",
      "Model has 41041 quadratic objective terms\n",
      "Variable types: 286 continuous, 286 integer (286 binary)\n",
      "Coefficient statistics:\n",
      "  Matrix range     [3e-03, 1e+00]\n",
      "  Objective range  [0e+00, 0e+00]\n",
      "  QObjective range [1e-05, 2e+00]\n",
      "  Bounds range     [1e+00, 1e+00]\n",
      "  RHS range        [3e-01, 1e+02]\n",
      "Presolve time: 0.13s\n",
      "Presolved: 399 rows, 627 columns, 1649 nonzeros\n",
      "Presolved model has 41096 quadratic objective terms\n",
      "Variable types: 341 continuous, 286 integer (286 binary)\n",
      "Found heuristic solution: objective 0.0248496\n",
      "Found heuristic solution: objective 0.0192042\n",
      "\n",
      "Root relaxation: objective 1.542585e-02, 113 iterations, 0.02 seconds (0.00 work units)\n",
      "\n",
      "    Nodes    |    Current Node    |     Objective Bounds      |     Work\n",
      " Expl Unexpl |  Obj  Depth IntInf | Incumbent    BestBd   Gap | It/Node Time\n",
      "\n",
      "     0     0    0.01543    0   28    0.01920    0.01543  19.7%     -    0s\n",
      "H    0     0                       0.0154258    0.01543  0.00%     -    0s\n",
      "     0     0    0.01543    0   28    0.01543    0.01543  0.00%     -    0s\n",
      "\n",
      "Explored 1 nodes (113 simplex iterations) in 0.31 seconds (0.02 work units)\n",
      "Thread count was 8 (of 8 available processors)\n",
      "\n",
      "Solution count 3: 0.0154258 0.0192042 0.0248496 \n",
      "\n",
      "Optimal solution found (tolerance 1.00e-01)\n",
      "Best objective 1.542584725552e-02, best bound 1.542584725552e-02, gap 0.0000%\n",
      "Card MVO Finished...\n",
      "--------------------\n",
      "New Best C  6.103515625e-05\n",
      "Test Error  5.600810831885847\n",
      "Selected Features  Index(['variance', 'mean', 'adjRet_mean_500', 'adjRet_mean_250', 'roe'], dtype='object')\n",
      "New Best C  0.0019531250000000017\n",
      "Test Error  5.600393191557132\n",
      "Selected Features  Index(['variance', 'roe', 'mean', 'aftret_eq', 'adjRet_mean_500'], dtype='object')\n",
      "New Best C  4.000000000000001\n",
      "Test Error  5.550389237940536\n",
      "Selected Features  Index(['rect_turn', 'sale_nwc', 'mean', 'adjRet_mean_500', 'variance'], dtype='object')\n",
      "New Best C  8.000000000000004\n",
      "Test Error  4.923719597024782\n",
      "Selected Features  Index(['average_abs_correlation', 'average_correlation', 'sale_nwc', 'mean',\n",
      "       'adjRet_mean_500'],\n",
      "      dtype='object')\n",
      "New Best C  16.000000000000007\n",
      "Test Error  4.413749720983572\n",
      "Selected Features  Index(['sale_nwc', 'mean', 'average_correlation', 'average_abs_correlation',\n",
      "       'adjRet_mean_500'],\n",
      "      dtype='object')\n",
      "New Best C  32.00000000000002\n",
      "Test Error  3.9810817330821386\n",
      "Selected Features  Index(['sale_nwc', 'average_abs_correlation', 'average_correlation', 'mean',\n",
      "       'adjRet_mean_500'],\n",
      "      dtype='object')\n",
      "New Best C  64.00000000000006\n",
      "Test Error  3.034082514649007\n",
      "Selected Features  Index(['sale_nwc', 'adjRet_mean_500', 'average_correlation',\n",
      "       'average_abs_correlation', 'mean'],\n",
      "      dtype='object')\n",
      "New Best C  128.0000000000001\n",
      "Test Error  2.4747300728084047\n",
      "Selected Features  Index(['cash_debt', 'average_correlation', 'adjRet_mean_500',\n",
      "       'average_abs_correlation', 'mean'],\n",
      "      dtype='object')\n",
      "New Best C  256.0000000000003\n",
      "Test Error  2.1588138492584195\n",
      "Selected Features  Index(['short_debt', 'mean', 'average_correlation', 'average_abs_correlation',\n",
      "       'adjRet_mean_500'],\n",
      "      dtype='object')\n",
      "New Best C  512.0000000000006\n",
      "Test Error  1.8789201760734102\n",
      "Selected Features  Index(['adjRet_mean_40', 'average_abs_correlation', 'average_correlation',\n",
      "       'adjRet_mean_500', 'mean'],\n",
      "      dtype='object')\n",
      "New Best C  1023.9999999999993\n",
      "Test Error  1.7965164501978408\n",
      "Selected Features  Index(['adjRet_mean_40', 'average_abs_correlation', 'average_correlation',\n",
      "       'adjRet_mean_500', 'mean'],\n",
      "      dtype='object')\n",
      "New Best C  2047.9999999999989\n",
      "Test Error  1.7927084342259505\n",
      "Selected Features  Index(['adjRet_mean_40', 'average_abs_correlation', 'average_correlation',\n",
      "       'adjRet_mean_500', 'mean'],\n",
      "      dtype='object')\n",
      "Non degenerate solution found\n",
      "Set parameter TimeLimit to value 20\n",
      "Gurobi Optimizer version 11.0.0 build v11.0.0rc2 (win64 - Windows 10.0 (19045.2))\n",
      "\n",
      "CPU model: Intel(R) Core(TM) i5-8350U CPU @ 1.70GHz, instruction set [SSE2|AVX|AVX2]\n",
      "Thread count: 4 physical cores, 8 logical processors, using up to 8 threads\n",
      "\n",
      "Optimize a model with 577 rows, 577 columns and 42767 nonzeros\n",
      "Model fingerprint: 0x3ee4bdd3\n",
      "Model has 145 quadratic objective terms\n",
      "Variable types: 432 continuous, 145 integer (145 binary)\n",
      "Coefficient statistics:\n",
      "  Matrix range     [8e-06, 2e+01]\n",
      "  Objective range  [7e+00, 7e+00]\n",
      "  QObjective range [1e+00, 1e+00]\n",
      "  Bounds range     [1e+00, 1e+00]\n",
      "  RHS range        [1e+00, 5e+00]\n",
      "Found heuristic solution: objective 4.096000e+12\n",
      "Presolve time: 0.06s\n",
      "Presolved: 577 rows, 577 columns, 42767 nonzeros\n",
      "Presolved model has 145 quadratic objective terms\n",
      "Variable types: 432 continuous, 145 integer (145 binary)\n",
      "\n",
      "Root relaxation: objective 6.981250e+00, 368 iterations, 0.05 seconds (0.04 work units)\n",
      "\n",
      "    Nodes    |    Current Node    |     Objective Bounds      |     Work\n",
      " Expl Unexpl |  Obj  Depth IntInf | Incumbent    BestBd   Gap | It/Node Time\n",
      "\n",
      "     0     0    6.98125    0  144 4.0960e+12    6.98125   100%     -    0s\n",
      "H    0     0                     125.0266202    6.98125  94.4%     -    0s\n",
      "     0     0    6.98125    0  144  125.02662    6.98125  94.4%     -    0s\n",
      "     0     0    6.98125    0    8  125.02662    6.98125  94.4%     -    1s\n",
      "     0     0    6.98125    0   57  125.02662    6.98125  94.4%     -    1s\n",
      "     0     0    6.98125    0   50  125.02662    6.98125  94.4%     -    2s\n",
      "     0     0    6.98125    0   49  125.02662    6.98125  94.4%     -    2s\n",
      "     0     0    6.98125    0   52  125.02662    6.98125  94.4%     -    2s\n",
      "     0     0    6.98125    0   55  125.02662    6.98125  94.4%     -    2s\n",
      "     0     0    7.26496    0   54  125.02662    7.26496  94.2%     -    3s\n",
      "     0     0    7.66682    0   52  125.02662    7.66682  93.9%     -    3s\n",
      "     0     0   15.39730    0   46  125.02662   15.39730  87.7%     -    3s\n",
      "     0     0   15.99403    0   51  125.02662   15.99403  87.2%     -    3s\n",
      "     0     0   18.08728    0   47  125.02662   18.08728  85.5%     -    3s\n",
      "     0     0   18.20790    0   45  125.02662   18.20790  85.4%     -    3s\n",
      "     0     0   20.47065    0   42  125.02662   20.47065  83.6%     -    3s\n",
      "     0     0   20.63742    0   42  125.02662   20.63742  83.5%     -    3s\n",
      "     0     0   22.51648    0   44  125.02662   22.51648  82.0%     -    3s\n",
      "     0     0   22.73121    0   45  125.02662   22.73121  81.8%     -    3s\n",
      "     0     0   23.65210    0   38  125.02662   23.65210  81.1%     -    4s\n",
      "     0     0   23.75546    0   39  125.02662   23.75546  81.0%     -    4s\n",
      "     0     0   24.28218    0   39  125.02662   24.28218  80.6%     -    4s\n",
      "     0     0   24.47524    0   39  125.02662   24.47524  80.4%     -    4s\n",
      "     0     0   24.54896    0   36  125.02662   24.54896  80.4%     -    4s\n",
      "     0     0   24.59703    0   37  125.02662   24.59703  80.3%     -    4s\n",
      "     0     0   24.86327    0   35  125.02662   24.86327  80.1%     -    4s\n",
      "     0     0   24.86668    0   36  125.02662   24.86668  80.1%     -    4s\n",
      "     0     0   24.98462    0   35  125.02662   24.98462  80.0%     -    4s\n",
      "     0     0   25.18004    0   36  125.02662   25.18004  79.9%     -    4s\n",
      "     0     0   25.18004    0   35  125.02662   25.18004  79.9%     -    4s\n",
      "     0     0   25.18004    0   34  125.02662   25.18004  79.9%     -    4s\n",
      "     0     0   25.18004    0   35  125.02662   25.18004  79.9%     -    4s\n",
      "     0     0   25.18004    0   35  125.02662   25.18004  79.9%     -    4s\n",
      "     0     0   25.18004    0   34  125.02662   25.18004  79.9%     -    4s\n",
      "     0     0   25.18004    0   34  125.02662   25.18004  79.9%     -    4s\n",
      "     0     0   25.18004    0   33  125.02662   25.18004  79.9%     -    4s\n",
      "     0     0   25.18004    0   33  125.02662   25.18004  79.9%     -    4s\n",
      "     0     0   25.18004    0   33  125.02662   25.18004  79.9%     -    4s\n",
      "     0     0   25.18004    0   33  125.02662   25.18004  79.9%     -    4s\n",
      "     0     0   25.22385    0   33  125.02662   25.22385  79.8%     -   10s\n",
      "     0     2   25.34413    0   33  125.02662   25.34413  79.7%     -   11s\n",
      "H   29    33                     106.8451503   25.84038  75.8%   128   12s\n",
      "H  475   423                      92.1483285   26.70384  71.0%  61.1   15s\n",
      "\n",
      "Explored 477 nodes (36323 simplex iterations) in 20.12 seconds (9.99 work units)\n",
      "Thread count was 8 (of 8 available processors)\n",
      "\n",
      "Solution count 4: 92.1483 106.845 125.027 19576.2 \n",
      "\n",
      "Time limit reached\n",
      "Best objective 9.214831590094e+01, best bound 2.670384412864e+01, gap 71.0208%\n",
      "Largest epsilon value guaranteeing  1.1  risk:  1.6740237848838944e-05\n",
      "Feasible solution constructed in  36.91301155090332  seconds\n",
      "Feasible solution objective value  0.016968431981068958\n",
      "Xi Lemma  Lemma 2\n",
      "Theorem 2 big M  1377.4221230295825\n",
      "Theorem 3 big M  2363.9998834517196\n",
      "C and epsilon updated from big M\n",
      "Calculated Big M  1377.4221230295825\n",
      "Calculated big W 31.83757960194786\n",
      "Calculated big b 1181.9999417258598\n",
      "Calculated big xi 141.5520516720532\n",
      "Set parameter TimeLimit to value 240\n",
      "Set parameter MIPGap to value 0.05\n",
      "Gurobi Optimizer version 11.0.0 build v11.0.0rc2 (win64 - Windows 10.0 (19045.2))\n",
      "\n",
      "CPU model: Intel(R) Core(TM) i5-8350U CPU @ 1.70GHz, instruction set [SSE2|AVX|AVX2]\n",
      "Thread count: 4 physical cores, 8 logical processors, using up to 8 threads\n",
      "\n",
      "Optimize a model with 1152 rows, 1149 columns and 86811 nonzeros\n",
      "Model fingerprint: 0x655408d0\n",
      "Model has 41186 quadratic objective terms\n",
      "Variable types: 718 continuous, 431 integer (431 binary)\n",
      "Coefficient statistics:\n",
      "  Matrix range     [8e-06, 1e+03]\n",
      "  Objective range  [1e-04, 1e-04]\n",
      "  QObjective range [1e-05, 2e+00]\n",
      "  Bounds range     [1e+00, 1e+00]\n",
      "  RHS range        [3e-01, 1e+03]\n",
      "Found heuristic solution: objective 6.856801e+07\n",
      "Presolve time: 0.44s\n",
      "Presolved: 1262 rows, 1204 columns, 87030 nonzeros\n",
      "Presolved model has 41241 quadratic objective terms\n",
      "Found heuristic solution: objective 0.1043950\n",
      "Variable types: 773 continuous, 431 integer (431 binary)\n",
      "\n",
      "Root relaxation: objective 1.542585e-02, 114 iterations, 0.05 seconds (0.01 work units)\n",
      "\n",
      "    Nodes    |    Current Node    |     Objective Bounds      |     Work\n",
      " Expl Unexpl |  Obj  Depth IntInf | Incumbent    BestBd   Gap | It/Node Time\n",
      "\n",
      "     0     0    0.01543    0   27    0.10439    0.01543  85.2%     -    0s\n",
      "H    0     0                       0.0218991    0.01543  29.6%     -    0s\n",
      "     0     0    0.01543    0   27    0.02190    0.01543  29.6%     -    1s\n",
      "     0     0    0.01543    0   27    0.02190    0.01543  29.6%     -    2s\n",
      "     0     0    0.01543    0   27    0.02190    0.01543  29.6%     -    2s\n",
      "     0     0    0.01543    0   27    0.02190    0.01543  29.6%     -    2s\n",
      "     0     0    0.01543    0   27    0.02190    0.01543  29.6%     -    2s\n",
      "     0     0    0.01543    0   27    0.02190    0.01543  29.6%     -    3s\n",
      "     0     0    0.01543    0   27    0.02190    0.01543  29.6%     -    3s\n",
      "     0     0    0.01543    0   27    0.02190    0.01543  29.6%     -    3s\n",
      "     0     0    0.01543    0   27    0.02190    0.01543  29.6%     -    3s\n",
      "H    0     0                       0.0210935    0.01543  26.9%     -    4s\n",
      "H    0     0                       0.0197712    0.01543  22.0%     -    4s\n",
      "H    0     0                       0.0190561    0.01543  19.0%     -    4s\n",
      "     0     2    0.01543    0   27    0.01906    0.01543  19.0%     -    5s\n",
      "    39    44    0.01856   10  367    0.01906    0.01543  19.0%   349   10s\n",
      "    72    82    0.01857   17  320    0.01906    0.01543  19.0%   303   15s\n",
      "H   89    97                       0.0188745    0.01543  18.3%   283   15s\n",
      "H  122   128                       0.0188692    0.01543  18.2%   284   17s\n",
      "H  163   170                       0.0188685    0.01543  18.2%   288   19s\n",
      "H  167   170                       0.0188054    0.01543  18.0%   286   19s\n",
      "   189   206    0.01857   37  230    0.01881    0.01543  18.0%   279   23s\n",
      "H  200   206                       0.0182424    0.01543  15.4%   275   23s\n",
      "   240   232    0.01543   16  321    0.01824    0.01543  15.4%   274   27s\n",
      "H  244   232                       0.0174156    0.01543  11.4%   273   27s\n",
      "H  251   235                       0.0173858    0.01543  11.3%   273   28s\n",
      "H  267   235                       0.0171490    0.01543  10.0%   268   28s\n",
      "   270   235    0.01543   23  278    0.01715    0.01543  10.0%   268   31s\n",
      "H  284   235                       0.0170402    0.01543  9.47%   267   31s\n",
      "   355   257    0.01544   35  243    0.01704    0.01543  9.47%   261   37s\n",
      "H  362   257                       0.0169279    0.01543  8.87%   259   37s\n",
      "H  411   304                       0.0168572    0.01543  8.49%   252   42s\n",
      "   473   367    0.01545   65  161    0.01686    0.01543  8.49%   248   46s\n",
      "H  483   366                       0.0167271    0.01543  7.78%   248   46s\n",
      "   499   409    0.01545   73  155    0.01673    0.01543  7.78%   248   51s\n",
      "H  533   409                       0.0166286    0.01543  7.23%   239   51s\n",
      "   556   424    0.01546   82  153    0.01663    0.01543  7.23%   237   59s\n",
      "H  566   423                       0.0165923    0.01543  7.03%   234   59s\n",
      "H  576   423                       0.0165898    0.01543  7.02%   231   59s\n",
      "   581   467    0.01546   87  150    0.01659    0.01543  7.02%   230   60s\n",
      "H  635   555                       0.0165566    0.01543  6.83%   226   63s\n",
      "H  663   554                       0.0164846    0.01543  6.42%   219   63s\n",
      "H  733   519                       0.0161995    0.01543  4.78%   209   67s\n",
      "\n",
      "Cutting planes:\n",
      "  Flow cover: 4\n",
      "\n",
      "Explored 839 nodes (164933 simplex iterations) in 67.35 seconds (35.14 work units)\n",
      "Thread count was 8 (of 8 available processors)\n",
      "\n",
      "Solution count 10: 0.0161995 0.0164846 0.0165566 ... 0.0170402\n",
      "\n",
      "Optimal solution found (tolerance 5.00e-02)\n",
      "Best objective 1.619951903382e-02, best bound 1.542595329969e-02, gap 4.7752%\n",
      "SVM MVO Objective Value  0.016199519033822822\n",
      "Norm of w  56.300580408049925\n",
      "Classification errors  2.2226173652892847\n",
      "Set parameter TimeLimit to value 240\n",
      "Set parameter MIPGap to value 0.05\n",
      "--------------------\n",
      "Solving Card MVO...\n",
      "Gurobi Optimizer version 11.0.0 build v11.0.0rc2 (win64 - Windows 10.0 (19045.2))\n",
      "\n",
      "CPU model: Intel(R) Core(TM) i5-8350U CPU @ 1.70GHz, instruction set [SSE2|AVX|AVX2]\n",
      "Thread count: 4 physical cores, 8 logical processors, using up to 8 threads\n",
      "\n",
      "Optimize a model with 289 rows, 572 columns and 1430 nonzeros\n",
      "Model fingerprint: 0x2e9630ed\n",
      "Model has 41041 quadratic objective terms\n",
      "Variable types: 286 continuous, 286 integer (286 binary)\n",
      "Coefficient statistics:\n",
      "  Matrix range     [3e-03, 1e+00]\n",
      "  Objective range  [0e+00, 0e+00]\n",
      "  QObjective range [1e-05, 2e+00]\n",
      "  Bounds range     [1e+00, 1e+00]\n",
      "  RHS range        [3e-01, 1e+02]\n",
      "Presolve time: 0.09s\n",
      "Presolved: 399 rows, 627 columns, 1649 nonzeros\n",
      "Presolved model has 41096 quadratic objective terms\n",
      "Variable types: 341 continuous, 286 integer (286 binary)\n",
      "Found heuristic solution: objective 0.0248496\n",
      "Found heuristic solution: objective 0.0192042\n",
      "\n",
      "Root relaxation: objective 1.542585e-02, 113 iterations, 0.01 seconds (0.00 work units)\n",
      "\n",
      "    Nodes    |    Current Node    |     Objective Bounds      |     Work\n",
      " Expl Unexpl |  Obj  Depth IntInf | Incumbent    BestBd   Gap | It/Node Time\n",
      "\n",
      "     0     0    0.01543    0   28    0.01920    0.01543  19.7%     -    0s\n",
      "H    0     0                       0.0154258    0.01543  0.00%     -    0s\n",
      "     0     0    0.01543    0   28    0.01543    0.01543  0.00%     -    0s\n",
      "\n",
      "Explored 1 nodes (113 simplex iterations) in 0.22 seconds (0.02 work units)\n",
      "Thread count was 8 (of 8 available processors)\n",
      "\n",
      "Solution count 3: 0.0154258 0.0192042 0.0248496 \n",
      "\n",
      "Optimal solution found (tolerance 5.00e-02)\n",
      "Best objective 1.542584725552e-02, best bound 1.542584725552e-02, gap 0.0000%\n",
      "Card MVO Finished...\n",
      "--------------------\n"
     ]
    }
   ],
   "source": [
    "# Number of assets\n",
    "n  = len(tickers)\n",
    "env.n = n\n",
    "\n",
    "# Measure runtime: start the clock\n",
    "start_time = time.time()\n",
    "\n",
    "# Subset the returns and factor returns corresponding to the current calibration period.\n",
    "periodReturns = returns[returns.index <= calEnd]\n",
    "periodFactRet = factorRet[factorRet.index <= calEnd]\n",
    "\n",
    "# take the last available contextual observations\n",
    "period_daily_adjClose = daily_adjClose[daily_adjClose.index <= calEnd]\n",
    "period_Context_idx = ContextualInfo.index.get_level_values('date') <= calEnd\n",
    "period_Context = ContextualInfo.iloc[period_Context_idx].groupby('ticker').last()\n",
    "\n",
    "env.periodReturns = periodReturns\n",
    "env.periodFactRet = periodFactRet\n",
    "env.period_daily_adjClose = period_daily_adjClose\n",
    "env.period_Context = period_Context\n",
    "\n",
    "# there should be a feature vector for each asset\n",
    "assert len(period_Context) == n\n",
    "# all the tickers should be aligned in the context and ticker dataset\n",
    "assert (periodReturns.columns == period_Context.index).all()\n",
    "\n",
    "current_price_idx = (calEnd - pd.offsets.DateOffset(months=1) <= adjClose.index)&(adjClose.index <= calEnd)\n",
    "currentPrices = adjClose[current_price_idx]\n",
    "\n",
    "# Subset the prices corresponding to the current out-of-sample test period.\n",
    "periodPrices_idx = (testStart <= adjClose.index)&(adjClose.index <= testEnd)\n",
    "periodPrices = adjClose[periodPrices_idx]\n",
    "\n",
    "assert len(periodPrices) == investPeriod\n",
    "assert len(currentPrices) == 1\n",
    "# Set the initial value of the portfolio or update the portfolio value\n",
    "\n",
    "#----------------------------------------------------------------------\n",
    "# Portfolio optimization\n",
    "# You must write code your own algorithmic trading function\n",
    "#----------------------------------------------------------------------\n",
    "\n",
    "\n",
    "x = Strategy.execute_strategy(periodReturns, periodFactRet, environment=env) #equal_weight(periodReturns) #StrategyFunction(periodReturns, periodFactRet, x0[:,t]);\n",
    "x = StrategyCardMVO.execute_strategy(periodReturns, periodFactRet, environment=env) #equal_weight(periodReturns) #StrategyFunction(periodReturns, periodFactRet, x0[:,t]);\n",
    "\n",
    "end_time = time.time()"
   ],
   "metadata": {
    "collapsed": false,
    "ExecuteTime": {
     "end_time": "2023-12-22T23:13:38.489883600Z",
     "start_time": "2023-12-22T23:13:35.724764Z"
    }
   }
  },
  {
   "cell_type": "code",
   "execution_count": 268,
   "outputs": [
    {
     "data": {
      "text/plain": "dict_keys(['obj_value', 'time', 'bigM_time', 'optimality gap', 'x', 'z', 'w', 't', 'b', 'xi', 'feasible_solution', 'C', 'epsilon', 'optimization_params'])"
     },
     "execution_count": 268,
     "metadata": {},
     "output_type": "execute_result"
    }
   ],
   "source": [
    "Strategy.current_results.keys()"
   ],
   "metadata": {
    "collapsed": false
   }
  },
  {
   "cell_type": "code",
   "execution_count": 269,
   "outputs": [
    {
     "data": {
      "text/plain": "0.016199519033822822"
     },
     "execution_count": 269,
     "metadata": {},
     "output_type": "execute_result"
    }
   ],
   "source": [
    "Strategy.current_results['obj_value'] #bound satisfied"
   ],
   "metadata": {
    "collapsed": false
   }
  },
  {
   "cell_type": "code",
   "execution_count": 270,
   "outputs": [
    {
     "data": {
      "text/plain": "        adjRet_std_40  adjRet_mean_500     gprof      mean  \\\nticker                                                       \nAAPL         0.946985         0.346945  0.083775  1.049490   \nABT         -0.773639         0.490461  1.067319  0.374903   \nADBE         0.697260        -0.365577 -0.389284 -0.204234   \nADI          0.656917        -0.746119  0.219690  0.084123   \nADM         -0.892399        -1.190226 -0.919549 -1.163478   \n...               ...              ...       ...       ...   \nX           -0.079434        -1.168590 -0.886305 -1.292226   \nXRAY        -1.053424        -0.481103  0.674310 -0.550812   \nXRX         -0.614141         0.973167  0.029633  1.079148   \nZBRA         0.468528         0.033777  1.408517 -0.085345   \nZION        -0.181623         0.970252 -1.090406  1.166235   \n\n        average_abs_correlation  \nticker                           \nAAPL                   0.318534  \nABT                    0.164383  \nADBE                  -0.108546  \nADI                    1.368731  \nADM                   -0.846717  \n...                         ...  \nX                     -0.289070  \nXRAY                  -1.403272  \nXRX                    0.582515  \nZBRA                   0.134867  \nZION                  -0.037885  \n\n[286 rows x 5 columns]",
      "text/html": "<div>\n<style scoped>\n    .dataframe tbody tr th:only-of-type {\n        vertical-align: middle;\n    }\n\n    .dataframe tbody tr th {\n        vertical-align: top;\n    }\n\n    .dataframe thead th {\n        text-align: right;\n    }\n</style>\n<table border=\"1\" class=\"dataframe\">\n  <thead>\n    <tr style=\"text-align: right;\">\n      <th></th>\n      <th>adjRet_std_40</th>\n      <th>adjRet_mean_500</th>\n      <th>gprof</th>\n      <th>mean</th>\n      <th>average_abs_correlation</th>\n    </tr>\n    <tr>\n      <th>ticker</th>\n      <th></th>\n      <th></th>\n      <th></th>\n      <th></th>\n      <th></th>\n    </tr>\n  </thead>\n  <tbody>\n    <tr>\n      <th>AAPL</th>\n      <td>0.946985</td>\n      <td>0.346945</td>\n      <td>0.083775</td>\n      <td>1.049490</td>\n      <td>0.318534</td>\n    </tr>\n    <tr>\n      <th>ABT</th>\n      <td>-0.773639</td>\n      <td>0.490461</td>\n      <td>1.067319</td>\n      <td>0.374903</td>\n      <td>0.164383</td>\n    </tr>\n    <tr>\n      <th>ADBE</th>\n      <td>0.697260</td>\n      <td>-0.365577</td>\n      <td>-0.389284</td>\n      <td>-0.204234</td>\n      <td>-0.108546</td>\n    </tr>\n    <tr>\n      <th>ADI</th>\n      <td>0.656917</td>\n      <td>-0.746119</td>\n      <td>0.219690</td>\n      <td>0.084123</td>\n      <td>1.368731</td>\n    </tr>\n    <tr>\n      <th>ADM</th>\n      <td>-0.892399</td>\n      <td>-1.190226</td>\n      <td>-0.919549</td>\n      <td>-1.163478</td>\n      <td>-0.846717</td>\n    </tr>\n    <tr>\n      <th>...</th>\n      <td>...</td>\n      <td>...</td>\n      <td>...</td>\n      <td>...</td>\n      <td>...</td>\n    </tr>\n    <tr>\n      <th>X</th>\n      <td>-0.079434</td>\n      <td>-1.168590</td>\n      <td>-0.886305</td>\n      <td>-1.292226</td>\n      <td>-0.289070</td>\n    </tr>\n    <tr>\n      <th>XRAY</th>\n      <td>-1.053424</td>\n      <td>-0.481103</td>\n      <td>0.674310</td>\n      <td>-0.550812</td>\n      <td>-1.403272</td>\n    </tr>\n    <tr>\n      <th>XRX</th>\n      <td>-0.614141</td>\n      <td>0.973167</td>\n      <td>0.029633</td>\n      <td>1.079148</td>\n      <td>0.582515</td>\n    </tr>\n    <tr>\n      <th>ZBRA</th>\n      <td>0.468528</td>\n      <td>0.033777</td>\n      <td>1.408517</td>\n      <td>-0.085345</td>\n      <td>0.134867</td>\n    </tr>\n    <tr>\n      <th>ZION</th>\n      <td>-0.181623</td>\n      <td>0.970252</td>\n      <td>-1.090406</td>\n      <td>1.166235</td>\n      <td>-0.037885</td>\n    </tr>\n  </tbody>\n</table>\n<p>286 rows × 5 columns</p>\n</div>"
     },
     "execution_count": 270,
     "metadata": {},
     "output_type": "execute_result"
    }
   ],
   "source": [
    "Strategy.current_results['optimization_params']['period_Context'].iloc[:,Strategy.current_results['t'] > 0.0001]"
   ],
   "metadata": {
    "collapsed": false
   }
  },
  {
   "cell_type": "code",
   "execution_count": 271,
   "outputs": [
    {
     "data": {
      "text/plain": "0.016968431981068958"
     },
     "execution_count": 271,
     "metadata": {},
     "output_type": "execute_result"
    }
   ],
   "source": [
    "StrategyCardMVO.current_results['obj_value']*(1+ kappa)"
   ],
   "metadata": {
    "collapsed": false
   }
  },
  {
   "cell_type": "code",
   "execution_count": 272,
   "outputs": [],
   "source": [
    "x_svmmvo = Strategy.current_results['x']\n",
    "x_cardmvo = StrategyCardMVO.current_results['x']"
   ],
   "metadata": {
    "collapsed": false
   }
  },
  {
   "cell_type": "code",
   "execution_count": 273,
   "outputs": [],
   "source": [
    "portfolios = pd.DataFrame([x_svmmvo, x_cardmvo], columns = tickers, index = ['SVMMVO','CardMVO']).T"
   ],
   "metadata": {
    "collapsed": false
   }
  },
  {
   "cell_type": "code",
   "execution_count": 274,
   "outputs": [
    {
     "data": {
      "text/plain": "<Figure size 400x600 with 1 Axes>",
      "image/png": "[encoded data removed]"
     },
     "metadata": {},
     "output_type": "display_data"
    }
   ],
   "source": [
    "portfolios[(portfolios > 0.001).any(axis =1)].plot.barh(figsize = (4, 6));"
   ],
   "metadata": {
    "collapsed": false
   }
  },
  {
   "cell_type": "markdown",
   "source": [
    "# 3. Efficient Frontier"
   ],
   "metadata": {
    "collapsed": false
   }
  },
  {
   "cell_type": "code",
   "execution_count": 275,
   "outputs": [
    {
     "name": "stdout",
     "output_type": "stream",
     "text": [
      "Set parameter TimeLimit to value 240\n",
      "Set parameter MIPGap to value 0.05\n",
      "--------------------\n",
      "Solving Card MVO...\n",
      "Gurobi Optimizer version 11.0.0 build v11.0.0rc2 (win64 - Windows 10.0 (19045.2))\n",
      "\n",
      "CPU model: Intel(R) Core(TM) i5-8350U CPU @ 1.70GHz, instruction set [SSE2|AVX|AVX2]\n",
      "Thread count: 4 physical cores, 8 logical processors, using up to 8 threads\n",
      "\n",
      "Optimize a model with 289 rows, 572 columns and 1430 nonzeros\n",
      "Model fingerprint: 0x8d5723e6\n",
      "Model has 41041 quadratic objective terms\n",
      "Variable types: 286 continuous, 286 integer (286 binary)\n",
      "Coefficient statistics:\n",
      "  Matrix range     [3e-03, 1e+00]\n",
      "  Objective range  [0e+00, 0e+00]\n",
      "  QObjective range [1e-05, 2e+00]\n",
      "  Bounds range     [1e+00, 1e+00]\n",
      "  RHS range        [1e+00, 1e+05]\n",
      "Found heuristic solution: objective 0.1562749\n",
      "Presolve removed 288 rows and 286 columns\n",
      "Presolve time: 0.02s\n",
      "Presolved: 1 rows, 286 columns, 286 nonzeros\n",
      "Presolved model has 41041 quadratic objective terms\n",
      "Variable types: 286 continuous, 0 integer (0 binary)\n",
      "Root relaxation presolve time: 0.10s\n",
      "Root relaxation presolved: 1 rows, 286 columns, 286 nonzeros\n",
      "Root relaxation presolved model has 41041 quadratic objective terms\n",
      "Root barrier log...\n",
      "\n",
      "Ordering time: 0.01s\n",
      "\n",
      "Barrier statistics:\n",
      " Free vars  : 285\n",
      " AA' NZ     : 4.076e+04\n",
      " Factor NZ  : 4.104e+04 (roughly 1 MB of memory)\n",
      " Factor Ops : 7.839e+06 (less than 1 second per iteration)\n",
      " Threads    : 3\n",
      "\n",
      "                  Objective                Residual\n",
      "Iter       Primal          Dual         Primal    Dual     Compl     Time\n",
      "   0   1.66870721e+05 -1.66870721e+05  2.86e+05 1.96e-05  2.50e+05     0s\n",
      "   1   1.76678469e-01 -5.00093747e+02  3.18e+02 2.18e-08  2.79e+02     0s\n",
      "   2   1.56948760e-02 -4.97348940e+02  3.18e-04 2.18e-14  8.70e-01     0s\n",
      "   3   1.56935208e-02 -5.08243294e-01  1.71e-08 6.94e-18  9.16e-04     0s\n",
      "   4   1.45750940e-02 -1.03924742e-02  4.86e-10 6.94e-18  4.36e-05     0s\n",
      "   5   7.40241690e-03 -9.23930829e-03  2.22e-16 2.78e-17  2.91e-05     0s\n",
      "   6   4.56852092e-03  1.46499947e-03  3.33e-16 1.04e-17  5.43e-06     0s\n",
      "   7   3.58579178e-03  2.72797336e-03  3.05e-16 8.67e-18  1.50e-06     0s\n",
      "   8   3.25324540e-03  3.18019703e-03  1.11e-16 6.94e-18  1.28e-07     0s\n",
      "   9   3.20201886e-03  3.19767699e-03  4.44e-16 6.94e-18  7.59e-09     0s\n",
      "  10   3.19851804e-03  3.19848098e-03  6.00e-15 8.67e-18  6.48e-11     0s\n",
      "  11   3.19849222e-03  3.19849035e-03  3.45e-13 6.94e-18  3.27e-12     0s\n",
      "\n",
      "Barrier solved model in 11 iterations and 0.39 seconds (0.07 work units)\n",
      "Optimal objective 3.19849222e-03\n",
      "\n",
      "\n",
      "Root relaxation: objective 3.198492e-03, 0 iterations, 0.32 seconds (0.08 work units)\n",
      "\n",
      "    Nodes    |    Current Node    |     Objective Bounds      |     Work\n",
      " Expl Unexpl |  Obj  Depth IntInf | Incumbent    BestBd   Gap | It/Node Time\n",
      "\n",
      "*    0     0               0       0.0031985    0.00320  0.00%     -    0s\n",
      "\n",
      "Explored 1 nodes (0 simplex iterations) in 0.44 seconds (0.08 work units)\n",
      "Thread count was 8 (of 8 available processors)\n",
      "\n",
      "Solution count 1: 0.00319849 \n",
      "\n",
      "Optimal solution found (tolerance 5.00e-02)\n",
      "Best objective 3.198492219327e-03, best bound 3.198492219324e-03, gap 0.0000%\n",
      "Card MVO Finished...\n",
      "--------------------\n"
     ]
    }
   ],
   "source": [
    "# solve min variance and store it, along with the expected return\n",
    "from IPython.display import clear_output\n",
    "\n",
    "plot_scaling = 0.5\n",
    "NumPts = 10\n",
    "StrategyCardMVO.investor_preferences['cardinality_ratio'] = 1\n",
    "StrategyCardMVO.investor_preferences['premium'] = -1 * 10 ** 6\n",
    "StrategyCardMVO.execute_strategy(periodReturns, periodFactRet, environment=env)\n",
    "min_return = StrategyCardMVO.current_results['x']@StrategyCardMVO.current_estimates[0]\n",
    "max_return  = plot_scaling*StrategyCardMVO.current_estimates[0].max()\n",
    "max_premium = max_return/StrategyCardMVO.current_estimates[0].mean()\n",
    "min_premium = min_return/StrategyCardMVO.current_estimates[0].mean()"
   ],
   "metadata": {
    "collapsed": false
   }
  },
  {
   "cell_type": "code",
   "execution_count": 262,
   "outputs": [
    {
     "name": "stdout",
     "output_type": "stream",
     "text": [
      "Set parameter TimeLimit to value 240\n",
      "Set parameter MIPGap to value 0.05\n"
     ]
    }
   ],
   "source": [
    "from services.plotting_functions import *\n",
    "vols_mvo, rets_mvo, premiums_mvo, cardinalities_mvo, mip_gaps = efficient_frontier_premium(StrategyCardMVO, max_return, min_return, NumPts, periodReturns, periodFactRet, env)"
   ],
   "metadata": {
    "collapsed": false
   }
  },
  {
   "cell_type": "markdown",
   "source": [],
   "metadata": {
    "collapsed": false
   }
  },
  {
   "cell_type": "code",
   "execution_count": 263,
   "outputs": [
    {
     "name": "stdout",
     "output_type": "stream",
     "text": [
      "Cardinality ratio that binds  0.08741258741258741\n"
     ]
    }
   ],
   "source": [
    "print(\"Cardinality ratio that binds \", cardinalities_mvo.max()/len(tickers)) #natural cardinality based on 0.1%"
   ],
   "metadata": {
    "collapsed": false
   }
  },
  {
   "cell_type": "code",
   "execution_count": 237,
   "outputs": [
    {
     "name": "stdout",
     "output_type": "stream",
     "text": [
      "Set parameter TimeLimit to value 240\n",
      "Set parameter MIPGap to value 0.05\n"
     ]
    }
   ],
   "source": [
    "cardinality_ratios = [0.02, 0.04, 0.06, 0.08, 0.1]\n",
    "cardinality_frontier_results = {}\n",
    "for cardinality_ratio in cardinality_ratios:\n",
    "    StrategyCardMVO.investor_preferences['cardinality_ratio'] = cardinality_ratio\n",
    "    cardinality_frontier_results[cardinality_ratio] = efficient_frontier_premium(StrategyCardMVO, max_return, min_return, NumPts, periodReturns, periodFactRet, env)"
   ],
   "metadata": {
    "collapsed": false
   }
  },
  {
   "cell_type": "code",
   "execution_count": null,
   "outputs": [],
   "source": [
    "kappas =  [0.01, 0.05, 0.1, 0.2, 0.5, 1]"
   ],
   "metadata": {
    "collapsed": false
   }
  },
  {
   "cell_type": "code",
   "execution_count": 234,
   "outputs": [],
   "source": [
    "svmmvo_frontier_results = {}\n",
    "for cardinality_ratio in cardinality_ratios:\n",
    "    for kappa in kappas:\n",
    "        Strategy.investor_preferences['kappa'] = kappa\n",
    "        Strategy.investor_preferences['cardinality_ratio'] = cardinality_ratio\n",
    "        svmmvo_frontier_results =[(cardinality_ratio, kappa)] = efficient_frontier_premium(StrategyCardMVO, max_return, min_return, NumPts, periodReturns, periodFactRet, env)"
   ],
   "metadata": {
    "collapsed": false
   }
  },
  {
   "cell_type": "code",
   "execution_count": 256,
   "outputs": [],
   "source": [
    "vols_cardmvo, rets_cardmvo, premiums_cardmvo, cardinalities_cardmvo = cardinality_frontier_results[0.02]"
   ],
   "metadata": {
    "collapsed": false
   }
  },
  {
   "cell_type": "code",
   "execution_count": 257,
   "outputs": [
    {
     "data": {
      "text/plain": "[<matplotlib.lines.Line2D at 0x1bba8fbca30>]"
     },
     "execution_count": 257,
     "metadata": {},
     "output_type": "execute_result"
    },
    {
     "data": {
      "text/plain": "<Figure size 640x480 with 1 Axes>",
      "image/png": "[encoded data removed]"
     },
     "metadata": {},
     "output_type": "display_data"
    }
   ],
   "source": [
    "plt.plot(vols_mvo, rets_mvo, 'o-')\n",
    "plt.plot(vols_cardmvo, rets_cardmvo, 'o-')"
   ],
   "metadata": {
    "collapsed": false
   }
  }
 ],
 "metadata": {
  "kernelspec": {
   "display_name": "Python 3",
   "language": "python",
   "name": "python3"
  },
  "language_info": {
   "codemirror_mode": {
    "name": "ipython",
    "version": 2
   },
   "file_extension": ".py",
   "mimetype": "text/x-python",
   "name": "python",
   "nbconvert_exporter": "python",
   "pygments_lexer": "ipython2",
   "version": "2.7.6"
  }
 },
 "nbformat": 4,
 "nbformat_minor": 0
}
