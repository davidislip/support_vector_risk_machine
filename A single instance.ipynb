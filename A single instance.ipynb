{
 "cells": [
  {
   "cell_type": "markdown",
   "source": [
    "\n",
    "# MMF1921/MIE377 Style Backtesting Template\n",
    "\n",
    "From the MIE377/MMF1921 Projects:\n",
    "\n",
    "        The purpose of this program is to provide a template with which to develop Project 2. The project requires you to test different models  (and/or different model combinations) to create an asset management algorithm.\n",
    "\n",
    "        This template will be used by the instructor and TA to assess your trading algorithm using different datasets.\n",
    "\n",
    "        # PLEASE DO NOT MODIFY THIS TEMPLATE (for Project submission purposes)\n",
    "\n",
    "This template for evaluating asset allocation algorithms is the exact same style as the one in MIE377.\n",
    "\n",
    "Is it fast? No it is not.\n",
    "\n",
    "Is it clear and relatively easy to follow? Yes it is.\n",
    "\n",
    "There are a couple of moving parts:\n",
    "\n",
    "* The database: see the Database folder for examples of where and how the data was processed. Download SQLLite viewer to explore the data and look at the queries in the notebooks to understand what data is in there\n",
    "* The services: in the services folder there are some helpers to extract the data (data_retrieval.py), estimate means and covariances (estimators.py), and optimizers (optimization.py)\n",
    "* Strategies are also defined in the services folder. The current convention is that a strategy takes in data (returns and factor returns) and outputs an allocation.\n",
    "* Typically, the strategies will use some form of estimator and an optimizer come up with allocations.\n",
    "\n",
    "If you do not want to deal with the database then use the MIE377_Project_Main template and copy cells 2.1 and 2.2 into the appropriate spot\n",
    "and replace \n",
    "\n",
    "        x[:,t] = project_function(periodReturns, periodFactRet)\n",
    "\n",
    "with\n",
    "\n",
    "        x[:,t] = Strategy.execute_strategy(periodReturns, periodFactRet) #equal_weight(periodReturns) #StrategyFunction(periodReturns, periodFactRet, x0[:,t]);\n",
    "\n",
    "# 1. Read input files"
   ],
   "metadata": {
    "collapsed": false
   }
  },
  {
   "cell_type": "code",
   "execution_count": 1,
   "outputs": [
    {
     "name": "stdout",
     "output_type": "stream",
     "text": [
      "['asset_id', 'currency_id', 'equities_series', 'equity_index_id', 'exchange_id', 'factor_id', 'factors', 'frequency_id', 'fundamentals', 'metric_id', 'source_id', 'ticker_id', 'ticker_index_membership', 'tiingo_tickers']\n"
     ]
    }
   ],
   "source": [
    "import time\n",
    "import math\n",
    "\n",
    "import numpy as np\n",
    "import pandas as pd\n",
    "from services.experiments import *\n",
    "from Database.services.database import Database\n",
    "from sqlalchemy import inspect\n",
    "from services.data_retreival import *\n",
    "from scipy.stats import gmean\n",
    "import matplotlib.pyplot as plt\n",
    "from services.strategies import *\n",
    "from services.optimization_layers import *\n",
    "from services.optimization import *\n",
    "from services.binary_optimization import *\n",
    "from services.environment_functions import *\n",
    "from services.big_m_strategies import *\n",
    "from services.plotting_functions import *\n",
    "import os\n",
    "Database.initialize(\"sqlite:///Database//financial_db.sqlite\") #for courses replace this with a flat file\n",
    "inspector = inspect(Database.engine)\n",
    "print(inspector.get_table_names())\n",
    "\n",
    "universe = 'SP'\n",
    "imputation_method = 'Multivariate'\n",
    "ticker_str = 'AAPL'\n",
    "#exponential params\n",
    "\n",
    "\n",
    "adjClose = pd.read_csv(\"flat_files/MonthlyAssetPrices\"+ universe + \".csv\", index_col=0, header = 1).iloc[1:,:]\n",
    "\n",
    "daily_adjClose =  pd.read_csv(\"flat_files/DailyAssetPrices\"+universe + \".csv\", index_col=0, header = 1).iloc[1:,:]\n",
    "\n",
    "TechnicalAnalysis = pd.read_csv(\"flat_files/TechnicalAnalysis\" + universe + \".csv\", index_col=[0,1])\n",
    "\n",
    "if universe ==  'SP':\n",
    "    FinancialRatios = pd.read_csv(\"flat_files/\" + imputation_method + \"WRDS.csv\", index_col=[0,1])\n",
    "    TechnicalAnalysis.index.names = FinancialRatios.index.names\n",
    "    ContextualInfo = TechnicalAnalysis.merge(FinancialRatios, how = 'left', left_index=True, right_index=True)\n",
    "\n",
    "else:\n",
    "    TechnicalAnalysis.index.names = ['date', 'ticker']\n",
    "    ContextualInfo = TechnicalAnalysis\n"
   ],
   "metadata": {
    "collapsed": false,
    "ExecuteTime": {
     "end_time": "2024-01-21T03:22:30.152973300Z",
     "start_time": "2024-01-21T03:22:22.064189400Z"
    }
   }
  },
  {
   "cell_type": "code",
   "execution_count": 2,
   "outputs": [],
   "source": [
    "adjClose.index = pd.to_datetime(adjClose.index, format='%Y-%m-%d').tz_localize(None)\n",
    "daily_adjClose.index = pd.to_datetime(daily_adjClose.index, format='%Y-%m-%d').tz_localize(None)\n",
    "ContextualInfo.index = ContextualInfo.index.set_levels([pd.to_datetime(ContextualInfo.index.levels[0]).tz_localize(None), ContextualInfo.index.levels[1]])"
   ],
   "metadata": {
    "collapsed": false,
    "ExecuteTime": {
     "end_time": "2024-01-21T03:22:30.171658800Z",
     "start_time": "2024-01-21T03:22:30.151973200Z"
    }
   }
  },
  {
   "cell_type": "code",
   "execution_count": 3,
   "outputs": [
    {
     "name": "stdout",
     "output_type": "stream",
     "text": [
      "The earliest possible start date\n"
     ]
    },
    {
     "data": {
      "text/plain": "Timestamp('1996-11-30 00:00:00')"
     },
     "execution_count": 3,
     "metadata": {},
     "output_type": "execute_result"
    }
   ],
   "source": [
    "print(\"The earliest possible start date\")\n",
    "max(daily_adjClose.index.unique()[0], ContextualInfo.index.get_level_values('date').unique()[0], adjClose.index.unique()[0])"
   ],
   "metadata": {
    "collapsed": false,
    "ExecuteTime": {
     "end_time": "2024-01-21T03:22:30.199657600Z",
     "start_time": "2024-01-21T03:22:30.167652300Z"
    }
   }
  },
  {
   "cell_type": "code",
   "execution_count": 4,
   "outputs": [
    {
     "name": "stdout",
     "output_type": "stream",
     "text": [
      "The latest possible start date\n"
     ]
    },
    {
     "data": {
      "text/plain": "Timestamp('2023-04-21 00:00:00')"
     },
     "execution_count": 4,
     "metadata": {},
     "output_type": "execute_result"
    }
   ],
   "source": [
    "print(\"The latest possible start date\")\n",
    "min(daily_adjClose.index.unique()[-1], ContextualInfo.index.get_level_values('date').unique()[-1], adjClose.index.unique()[-1])"
   ],
   "metadata": {
    "collapsed": false,
    "ExecuteTime": {
     "end_time": "2024-01-21T03:22:30.211109300Z",
     "start_time": "2024-01-21T03:22:30.183657700Z"
    }
   }
  },
  {
   "cell_type": "code",
   "execution_count": 5,
   "outputs": [],
   "source": [
    "start_date = pd.to_datetime('1996-11-30', format = '%Y-%m-%d')\n",
    "\n",
    "end_date = pd.to_datetime('2022-12-31', format = '%Y-%m-%d')\n",
    "\n",
    "# start_date = pd.to_datetime('2006-05-31', format = '%Y-%m-%d')\n",
    "#\n",
    "# end_date = pd.to_datetime('2022-12-31', format = '%Y-%m-%d')\n",
    "\n",
    "factors = ('Mkt-RF', 'RF')\n",
    "\n",
    "factorRet = get_monthly_factors(factors, start_date, end_date, Database)\n",
    "\n",
    "factorRet = factorRet.droplevel(0, axis = 1)\n",
    "factorRet.columns = [col.strip() for col in factorRet.columns]"
   ],
   "metadata": {
    "collapsed": false,
    "ExecuteTime": {
     "end_time": "2024-01-21T03:22:33.823013300Z",
     "start_time": "2024-01-21T03:22:30.199657600Z"
    }
   }
  },
  {
   "cell_type": "code",
   "execution_count": 6,
   "outputs": [],
   "source": [
    "adjClose = adjClose[start_date:end_date]\n",
    "daily_adjClose = daily_adjClose[start_date:end_date]\n",
    "idx = pd.IndexSlice\n",
    "ContextualInfo = ContextualInfo.loc[idx[start_date:end_date, :], :]"
   ],
   "metadata": {
    "collapsed": false,
    "ExecuteTime": {
     "end_time": "2024-01-21T03:22:33.949532100Z",
     "start_time": "2024-01-21T03:22:33.823013300Z"
    }
   }
  },
  {
   "cell_type": "code",
   "execution_count": 7,
   "outputs": [],
   "source": [
    "# Initial budget to invest ($100,000)\n",
    "initialVal = 100000\n",
    "\n",
    "# Length of investment period (in months) - but actually units of data\n",
    "investPeriod = 6\n",
    "\n",
    "# divide the factor returns by 100\n",
    "factorRet = factorRet/100\n",
    "\n",
    "#rf and factor returns\n",
    "#drop the first observation to align the dataset with the returns data that will\n",
    "#result\n",
    "factorRet = factorRet.iloc[1:, :]\n",
    "\n",
    "#rf and factor returns\n",
    "riskFree = factorRet['RF']\n",
    "factorRet = factorRet.loc[:,factorRet.columns != 'RF'];"
   ],
   "metadata": {
    "collapsed": false,
    "ExecuteTime": {
     "end_time": "2024-01-21T03:22:33.966541600Z",
     "start_time": "2024-01-21T03:22:33.949532100Z"
    }
   }
  },
  {
   "cell_type": "code",
   "execution_count": 8,
   "outputs": [],
   "source": [
    "#Identify the tickers and the dates\n",
    "tickers = adjClose.columns\n",
    "dates   = factorRet.index"
   ],
   "metadata": {
    "collapsed": false,
    "ExecuteTime": {
     "end_time": "2024-01-21T03:22:33.996114800Z",
     "start_time": "2024-01-21T03:22:33.967555600Z"
    }
   }
  },
  {
   "cell_type": "code",
   "execution_count": 9,
   "outputs": [],
   "source": [
    "# Calculate the stocks monthly excess returns\n",
    "# pct change and drop the first null observation\n",
    "returns = adjClose.pct_change(1).iloc[1:, :]\n",
    "returns = returns  - np.diag(riskFree.values) @ np.ones_like(returns.values) # risk adjusted returns\n",
    "# Align the price table to the asset and factor returns tables by discarding the first observation.\n",
    "adjClose = adjClose.iloc[1:,:]"
   ],
   "metadata": {
    "collapsed": false,
    "ExecuteTime": {
     "end_time": "2024-01-21T03:22:34.012114300Z",
     "start_time": "2024-01-21T03:22:33.983130600Z"
    }
   }
  },
  {
   "cell_type": "code",
   "execution_count": 10,
   "outputs": [],
   "source": [
    "assert adjClose.index[0] == returns.index[0]\n",
    "assert adjClose.index[0] == factorRet.index[0]"
   ],
   "metadata": {
    "collapsed": false,
    "ExecuteTime": {
     "end_time": "2024-01-21T03:22:34.035113400Z",
     "start_time": "2024-01-21T03:22:34.015116600Z"
    }
   }
  },
  {
   "cell_type": "markdown",
   "source": [
    "# 2. Run your program\n",
    "\n",
    "This section will run your Project1_Function in a loop. The data will be loaded progressively as a growing window of historical observations.\n",
    "Rebalancing will take place after every loop\n",
    "\n",
    "### 2.1 Some Standard Allocation Strategies"
   ],
   "metadata": {
    "collapsed": false
   }
  },
  {
   "cell_type": "code",
   "execution_count": 11,
   "outputs": [],
   "source": [
    "# Some strategies (uncomment this or the next cell to pick a strategy to test)\n",
    "# Strategy = general_strategy(sample_estimator, MVO, NumObs=48)  #the general strategy object takes an estimator function and an optimizer function\n",
    "#                                                                #the only constraint is that the estimators outputs are the optimizers inputs\n",
    "# investor preferences (static throughout the backtest)\n",
    "hyperparam_search = False # True if model has hyperparams\n",
    "optimizer = SVMMVO # CardMVO , MVO\n",
    "estimator = exponential_weighted_estimator_shrinkage #\n",
    "EstNumObs = 750\n",
    "k = 6*20 #estimation horizon\n",
    "alpha= 1 - 0.990 #estimation decay\n",
    "return_premium = 1.4 #optimization premium\n",
    "\n",
    "turnover_constraints = True\n",
    "turnover_limit = 0.75 # 0.75, 1, 1.25\n",
    "cardinality_ratio = 0.5 #optimization\n",
    "\n",
    "MipGap = 0.05 # for portfolio optimizer\n",
    "limit_time = 240 # for portfolio optimizer\n",
    "\n",
    "target_return_strategy = premium_target # for portfolio optimizer to calculate return target\n",
    "# mean_target, premium_target, ticker_return_target\n",
    "target_return_strategy_args = ['premium'] # args for the return strategy\n",
    "\n",
    "bigMStrategy = HyperparameterBigMStrategy #objectiveBigMStrategy #objectiveBigMStrategyTightening , objectiveBigMStrategy\n",
    "\n",
    "bigM_limit_time=20 # for the feasible solution used to calculate big M\n",
    "bigM_MipGap=0.05 # for the feasible solution used to calculate big M\n",
    "bigM_SolutionLimit=240 # for the feasible solution used to calculate big <\n",
    "\n",
    "SkipSOCP = True # flag to skip the SOCP\n",
    "tightening_iter_lim = 1 # number of iterations of tightening to do\n",
    "\n",
    "SVMMVO_bigM_time_limit = 5 # for computing a better solution in the tightening strategy\n",
    "SVMMVO_MipGap=0.1 # for computing a better solution in the tightening strategy\n",
    "SVMMVO_SolutionLimit=5 # for computing a better solution in the tightening strategy\n",
    "\n",
    "SOCP_limit_time=10 # time limit for the SOCP's\n",
    "\n",
    "ticker_index = tickers.get_loc(ticker_str) # the ticker we want to compare to if\n",
    "#  we are using the ticker_return_target strategy\n",
    "\n",
    "q = 2 #subset of features\n",
    "\n",
    "C = 0.1 # separation importance\n",
    "\n",
    "epsilon = 0.1 # regularization amount for SVM\n",
    "\n",
    "separable = False # do not restrict the hyperplane to be separable\n",
    "\n",
    "LogToConsole = True # display optimization results in the console\n",
    "Verbose = True # print statements\n",
    "\n",
    "hyperparams = {'C': list(np.geomspace(0.1, 100, 4)), 'epsilon': list(np.geomspace(0.1, 100, 4))} # hyperparams for hyperparam search\n",
    "#q_alpha = 0.3187 # alpha for Q(t, a) = (1 - q_alpha) Q(t-1. a) + R(t, a)\n",
    "q_alpha = 0.6838\n",
    "kappa = 0.1 # 10 % risk/turnover tolerance\n",
    "\n",
    "investor_preferences = {'k':k, # horizon\n",
    "                        'alpha':alpha, # decay\n",
    "                        'premium':return_premium, # return premium preference\n",
    "                        'EstNumObs':EstNumObs,\n",
    "                        'ticker_index':ticker_index, # benchmark index for comparison used in place of return premium depending on the investors function to set r_min\n",
    "                        'target_return_strategy':target_return_strategy, # strategy for setting return\n",
    "                        'target_return_strategy_args': target_return_strategy_args, # args for return setting strategy\n",
    "                        'turnover_limit':turnover_limit, # turnover limit\n",
    "                        'turnover_constraints':turnover_constraints, # turnover limit choice (Y/N)\n",
    "                        'cardinality_ratio': cardinality_ratio, # Pct of assets to invest in\n",
    "                        'MipGap' : MipGap, 'limit_time':limit_time, # problem solving limits\n",
    "    \n",
    "                        'bigMStrategy':bigMStrategy,\n",
    "                        'bigM_limit_time':bigM_limit_time,\n",
    "                        'bigM_MipGap':bigM_MipGap,\n",
    "                        'bigM_SolutionLimit':bigM_SolutionLimit,\n",
    "\n",
    "                        'SkipSOCP':SkipSOCP,\n",
    "                        'tightening_iter_lim':tightening_iter_lim,\n",
    "\n",
    "                        'SVMMVO_bigM_time_limit':SVMMVO_bigM_time_limit,\n",
    "                        'SVMMVO_MipGap':SVMMVO_MipGap,\n",
    "                        'SVMMVO_SolutionLimit':SVMMVO_SolutionLimit,\n",
    "\n",
    "                        'SOCP_limit_time':SOCP_limit_time,\n",
    "                        'q':q,\n",
    "                        'C':C,\n",
    "                        'epsilon':epsilon,\n",
    "                        'separable':separable,\n",
    "                        'LogToConsole':LogToConsole,\n",
    "                        'Verbose':Verbose,\n",
    "                        'hyperparams':hyperparams,\n",
    "                        'q_alpha':q_alpha,\n",
    "                        'kappa':kappa}\n",
    "\n",
    "Strategy = general_strategy(estimator, optimizer,\n",
    "                            investor_preferences = investor_preferences)\n",
    "\n",
    "Strategy.extract_estimation_info = populate_exponential_weighted_estimator_shrinkage\n",
    "Strategy.extract_optimization_info = populate_kwargs\n",
    "\n",
    "StrategyCardMVO = general_strategy(estimator, CardMVO,\n",
    "                            investor_preferences = investor_preferences)\n",
    "\n",
    "StrategyCardMVO.extract_estimation_info = populate_exponential_weighted_estimator_shrinkage\n",
    "StrategyCardMVO.extract_optimization_info = populate_kwargs\n",
    "\n",
    "env = environment()\n",
    "# see strategy script for different options OLS_RP() #OLS_MVO() #HistoricalMeanVarianceOptimization()"
   ],
   "metadata": {
    "collapsed": false,
    "ExecuteTime": {
     "end_time": "2024-01-21T17:47:20.910320Z",
     "start_time": "2024-01-21T17:47:20.872799100Z"
    }
   }
  },
  {
   "cell_type": "code",
   "execution_count": 12,
   "outputs": [],
   "source": [
    "\n",
    "# Start of out-of-sample test period\n",
    "testStart = returns.index[0] + pd.offsets.DateOffset(years=2)\n",
    "\n",
    "# End of the first investment period\n",
    "# testEnd = testStart + pd.offsets.DateOffset(months=investPeriod) - pd.offsets.DateOffset(days = 1)\n",
    "testEnd = testStart + pd.offsets.MonthBegin(investPeriod) - pd.offsets.DateOffset(days = 1)\n",
    "\n",
    "# End of calibration period\n",
    "calEnd = testStart -  pd.offsets.DateOffset(days = 1)"
   ],
   "metadata": {
    "collapsed": false,
    "ExecuteTime": {
     "end_time": "2024-01-21T17:47:22.131543700Z",
     "start_time": "2024-01-21T17:47:22.100276600Z"
    }
   }
  },
  {
   "cell_type": "code",
   "execution_count": 13,
   "outputs": [
    {
     "name": "stdout",
     "output_type": "stream",
     "text": [
      "Test Start 1998-12-31 00:00:00\n",
      "Test End 1999-05-31 00:00:00\n",
      "Calibration End 1998-12-30 00:00:00\n"
     ]
    }
   ],
   "source": [
    "print(\"Test Start\", testStart)\n",
    "print(\"Test End\", testEnd)\n",
    "print(\"Calibration End\", calEnd)"
   ],
   "metadata": {
    "collapsed": false,
    "ExecuteTime": {
     "end_time": "2024-01-21T17:47:22.650274700Z",
     "start_time": "2024-01-21T17:47:22.631274700Z"
    }
   }
  },
  {
   "cell_type": "code",
   "execution_count": 14,
   "outputs": [
    {
     "name": "stdout",
     "output_type": "stream",
     "text": [
      "--------------------\n",
      "Calculating Big M\n",
      "--------------------\n",
      "Constructing Feasible Solution...\n",
      "Extracting a cardinality constrained portfolio...\n",
      "Set parameter Username\n",
      "Academic license - for non-commercial use only - expires 2025-01-07\n",
      "Set parameter TimeLimit to value 20\n",
      "Set parameter MIPGap to value 0.05\n",
      "Set parameter SolutionLimit to value 240\n",
      "--------------------\n",
      "Solving Card MVO...\n",
      "Gurobi Optimizer version 11.0.0 build v11.0.0rc2 (win64 - Windows 10.0 (19045.2))\n",
      "\n",
      "CPU model: Intel(R) Core(TM) i5-8350U CPU @ 1.70GHz, instruction set [SSE2|AVX|AVX2]\n",
      "Thread count: 4 physical cores, 8 logical processors, using up to 8 threads\n",
      "\n",
      "Optimize a model with 289 rows, 572 columns and 1430 nonzeros\n",
      "Model fingerprint: 0xd0caa348\n",
      "Model has 41041 quadratic objective terms\n",
      "Variable types: 286 continuous, 286 integer (286 binary)\n",
      "Coefficient statistics:\n",
      "  Matrix range     [9e-04, 1e+00]\n",
      "  Objective range  [0e+00, 0e+00]\n",
      "  QObjective range [1e-05, 2e+00]\n",
      "  Bounds range     [1e+00, 1e+00]\n",
      "  RHS range        [3e-01, 1e+02]\n",
      "Presolve time: 0.07s\n",
      "Presolved: 391 rows, 623 columns, 1634 nonzeros\n",
      "Presolved model has 41092 quadratic objective terms\n",
      "Variable types: 337 continuous, 286 integer (286 binary)\n",
      "Found heuristic solution: objective 0.0151464\n",
      "Found heuristic solution: objective 0.0106936\n",
      "\n",
      "Root relaxation: objective 9.584293e-03, 121 iterations, 0.01 seconds (0.00 work units)\n",
      "\n",
      "    Nodes    |    Current Node    |     Objective Bounds      |     Work\n",
      " Expl Unexpl |  Obj  Depth IntInf | Incumbent    BestBd   Gap | It/Node Time\n",
      "\n",
      "     0     0    0.00958    0   32    0.01069    0.00958  10.4%     -    0s\n",
      "H    0     0                       0.0095843    0.00958  0.00%     -    0s\n",
      "     0     0    0.00958    0   32    0.00958    0.00958  0.00%     -    0s\n",
      "\n",
      "Explored 1 nodes (121 simplex iterations) in 0.16 seconds (0.02 work units)\n",
      "Thread count was 8 (of 8 available processors)\n",
      "\n",
      "Solution count 3: 0.00958429 0.0106936 0.0151464 \n",
      "\n",
      "Optimal solution found (tolerance 5.00e-02)\n",
      "Best objective 9.584292796862e-03, best bound 9.584292796862e-03, gap 0.0000%\n",
      "Card MVO Finished...\n",
      "--------------------\n",
      "New Best C  6.103515625e-05\n",
      "Test Error  6.400032187784999\n",
      "Selected Features  Index(['mean', 'adjVolume_std_250'], dtype='object')\n",
      "New Best C  8.000000000000004\n",
      "Test Error  6.400007958172206\n",
      "Selected Features  Index(['rect_act', 'mean'], dtype='object')\n",
      "Set parameter TimeLimit to value 20\n",
      "Gurobi Optimizer version 11.0.0 build v11.0.0rc2 (win64 - Windows 10.0 (19045.2))\n",
      "\n",
      "CPU model: Intel(R) Core(TM) i5-8350U CPU @ 1.70GHz, instruction set [SSE2|AVX|AVX2]\n",
      "Thread count: 4 physical cores, 8 logical processors, using up to 8 threads\n",
      "\n",
      "Optimize a model with 577 rows, 577 columns and 42767 nonzeros\n",
      "Model fingerprint: 0x11453f85\n",
      "Model has 145 quadratic objective terms\n",
      "Variable types: 432 continuous, 145 integer (145 binary)\n",
      "Coefficient statistics:\n",
      "  Matrix range     [8e-06, 2e+01]\n",
      "  Objective range  [3e-02, 3e-02]\n",
      "  QObjective range [1e+00, 1e+00]\n",
      "  Bounds range     [1e+00, 1e+00]\n",
      "  RHS range        [1e+00, 2e+00]\n",
      "Found heuristic solution: objective 1.600000e+10\n",
      "Presolve time: 0.05s\n",
      "Presolved: 577 rows, 577 columns, 42767 nonzeros\n",
      "Presolved model has 145 quadratic objective terms\n",
      "Variable types: 432 continuous, 145 integer (145 binary)\n",
      "\n",
      "Root relaxation: objective 1.459665e+00, 538 iterations, 0.06 seconds (0.07 work units)\n",
      "\n",
      "    Nodes    |    Current Node    |     Objective Bounds      |     Work\n",
      " Expl Unexpl |  Obj  Depth IntInf | Incumbent    BestBd   Gap | It/Node Time\n",
      "\n",
      "     0     0    1.45966    0   98 1.6000e+10    1.45966   100%     -    0s\n",
      "H    0     0                       1.7843872    1.45966  18.2%     -    0s\n",
      "H    0     0                       1.7768524    1.45966  17.9%     -    0s\n",
      "     0     0    1.52844    0  104    1.77685    1.52844  14.0%     -    0s\n",
      "     0     0    1.52844    0   22    1.77685    1.52844  14.0%     -    0s\n",
      "     0     0    1.52844    0   28    1.77685    1.52844  14.0%     -    0s\n",
      "     0     0    1.52844    0   32    1.77685    1.52844  14.0%     -    0s\n",
      "     0     0    1.52844    0   27    1.77685    1.52844  14.0%     -    1s\n",
      "     0     0    1.52844    0   26    1.77685    1.52844  14.0%     -    1s\n",
      "     0     0    1.52844    0   25    1.77685    1.52844  14.0%     -    1s\n",
      "     0     0    1.61487    0   37    1.77685    1.61487  9.12%     -    1s\n",
      "     0     0    1.62382    0   36    1.77685    1.62382  8.61%     -    1s\n",
      "     0     0    1.67441    0   30    1.77685    1.67441  5.77%     -    2s\n",
      "     0     0    1.67611    0   31    1.77685    1.67611  5.67%     -    2s\n",
      "     0     0    1.68469    0   22    1.77685    1.68469  5.19%     -    2s\n",
      "     0     0    1.68569    0   23    1.77685    1.68569  5.13%     -    2s\n",
      "     0     0    1.69005    0   25    1.77685    1.69005  4.88%     -    2s\n",
      "H    0     0                       1.7433538    1.69130  2.99%     -    2s\n",
      "     0     0    1.69170    0   22    1.74335    1.69170  2.96%     -    2s\n",
      "     0     0    1.69447    0   19    1.74335    1.69447  2.80%     -    3s\n",
      "     0     0    1.69490    0   21    1.74335    1.69490  2.78%     -    3s\n",
      "     0     0    1.69638    0   24    1.74335    1.69638  2.69%     -    3s\n",
      "     0     0    1.69656    0   22    1.74335    1.69656  2.68%     -    3s\n",
      "     0     0    1.69734    0   22    1.74335    1.69734  2.64%     -    3s\n",
      "     0     0    1.69794    0   22    1.74335    1.69794  2.60%     -    3s\n",
      "     0     0    1.69876    0   21    1.74335    1.69876  2.56%     -    3s\n",
      "     0     0    1.69905    0   20    1.74335    1.69905  2.54%     -    3s\n",
      "     0     0    1.70022    0   21    1.74335    1.70022  2.47%     -    3s\n",
      "     0     0    1.70059    0   18    1.74335    1.70059  2.45%     -    3s\n",
      "     0     0    1.70220    0   17    1.74335    1.70220  2.36%     -    3s\n",
      "     0     0    1.70383    0   22    1.74335    1.70383  2.27%     -    3s\n",
      "     0     0    1.70510    0   20    1.74335    1.70510  2.19%     -    3s\n",
      "     0     0    1.70614    0   19    1.74335    1.70614  2.13%     -    3s\n",
      "     0     0    1.70668    0   16    1.74335    1.70668  2.10%     -    3s\n",
      "     0     0    1.71028    0   17    1.74335    1.71028  1.90%     -    3s\n",
      "     0     0    1.71114    0   18    1.74335    1.71114  1.85%     -    3s\n",
      "     0     0    1.71177    0   19    1.74335    1.71177  1.81%     -    3s\n",
      "     0     0    1.71177    0   19    1.74335    1.71177  1.81%     -    5s\n",
      "     0     2    1.71177    0   19    1.74335    1.71177  1.81%     -    5s\n",
      "\n",
      "Cutting planes:\n",
      "  Gomory: 2\n",
      "  Implied bound: 62\n",
      "  MIR: 10\n",
      "\n",
      "Explored 68 nodes (7484 simplex iterations) in 6.03 seconds (3.73 work units)\n",
      "Thread count was 8 (of 8 available processors)\n",
      "\n",
      "Solution count 4: 1.74335 1.77685 1.78439 450.94 \n",
      "\n",
      "Optimal solution found (tolerance 1.00e-04)\n",
      "Best objective 1.743353741126e+00, best bound 1.743353347470e+00, gap 0.0000%\n",
      "Largest epsilon value guaranteeing  1.1  risk:  0.0005497617936490109\n",
      "Feasible solution constructed in  12.544997930526733  seconds\n",
      "Feasible solution objective value  0.010542722076548125\n",
      "Xi Lemma  Lemma 5\n",
      "Theorem 2 big M  326.3748510305291\n",
      "Theorem 3 big M  210.73375648498362\n",
      "C and epsilon updated from big M\n",
      "Calculated Big M  210.73375648498362\n",
      "Calculated big W 4.379142741723201\n",
      "Calculated big b 105.36687824249181\n",
      "Calculated big xi 210.73375648498362\n",
      "Set parameter TimeLimit to value 240\n",
      "Set parameter MIPGap to value 0.05\n",
      "Gurobi Optimizer version 11.0.0 build v11.0.0rc2 (win64 - Windows 10.0 (19045.2))\n",
      "\n",
      "CPU model: Intel(R) Core(TM) i5-8350U CPU @ 1.70GHz, instruction set [SSE2|AVX|AVX2]\n",
      "Thread count: 4 physical cores, 8 logical processors, using up to 8 threads\n",
      "\n",
      "Optimize a model with 1152 rows, 1149 columns and 86811 nonzeros\n",
      "Model fingerprint: 0xa2fffe59\n",
      "Model has 41186 quadratic objective terms\n",
      "Variable types: 718 continuous, 431 integer (431 binary)\n",
      "Coefficient statistics:\n",
      "  Matrix range     [8e-06, 2e+02]\n",
      "  Objective range  [2e-05, 2e-05]\n",
      "  QObjective range [1e-05, 2e+00]\n",
      "  Bounds range     [1e+00, 1e+00]\n",
      "  RHS range        [3e-01, 2e+02]\n",
      "Found heuristic solution: objective 8796188.9261\n",
      "Presolve time: 0.12s\n",
      "Presolved: 1254 rows, 1200 columns, 87015 nonzeros\n",
      "Presolved model has 41237 quadratic objective terms\n",
      "Found heuristic solution: objective 0.2320711\n",
      "Variable types: 769 continuous, 431 integer (431 binary)\n",
      "\n",
      "Root relaxation: objective 9.584293e-03, 123 iterations, 0.02 seconds (0.01 work units)\n",
      "\n",
      "    Nodes    |    Current Node    |     Objective Bounds      |     Work\n",
      " Expl Unexpl |  Obj  Depth IntInf | Incumbent    BestBd   Gap | It/Node Time\n",
      "\n",
      "     0     0    0.00958    0   32    0.23207    0.00958  95.9%     -    0s\n",
      "H    0     0                       0.0105685    0.00958  9.31%     -    0s\n",
      "     0     0    0.00958    0   32    0.01057    0.00958  9.31%     -    0s\n",
      "     0     0    0.00958    0   32    0.01057    0.00958  9.31%     -    0s\n",
      "     0     0    0.00958    0   32    0.01057    0.00958  9.31%     -    0s\n",
      "     0     0    0.00958    0   32    0.01057    0.00958  9.31%     -    0s\n",
      "     0     0    0.00958    0  285    0.01057    0.00958  9.31%     -    1s\n",
      "     0     0    0.00958    0  285    0.01057    0.00958  9.31%     -    1s\n",
      "     0     0    0.00958    0  285    0.01057    0.00958  9.31%     -    1s\n",
      "     0     0    0.00958    0  285    0.01057    0.00958  9.31%     -    1s\n",
      "     0     0    0.00958    0  286    0.01057    0.00958  9.31%     -    1s\n",
      "     0     0    0.00958    0  286    0.01057    0.00958  9.31%     -    1s\n",
      "     0     0    0.00958    0  286    0.01057    0.00958  9.31%     -    1s\n",
      "     0     2    0.00958    0  286    0.01057    0.00958  9.31%     -    1s\n",
      "H   93    84                       0.0104737    0.00958  8.49%   239    4s\n",
      "   114   108    0.00961   10  397    0.01047    0.00958  8.49%   230    5s\n",
      "H  124   112                       0.0104480    0.00958  8.27%   219    5s\n",
      "H  127   112                       0.0104045    0.00958  7.88%   218    5s\n",
      "H  161   153                       0.0103992    0.00958  7.84%   199    6s\n",
      "H  161   153                       0.0103773    0.00958  7.64%   199    6s\n",
      "H  163   153                       0.0103742    0.00958  7.61%   200    6s\n",
      "H  192   191                       0.0103689    0.00958  7.57%   190    7s\n",
      "H  197   191                       0.0103171    0.00958  7.10%   189    7s\n",
      "H  225   221                       0.0103096    0.00958  7.03%   180    7s\n",
      "H  236   221                       0.0103051    0.00958  6.99%   178    7s\n",
      "H  265   226                       0.0102859    0.00958  6.82%   167    8s\n",
      "H  293   264                       0.0102707    0.00958  6.68%   159    9s\n",
      "   311   285    0.00963   52  324    0.01027    0.00958  6.68%   153   10s\n",
      "   517   515    0.00966   95  292    0.01027    0.00958  6.68%   126   15s\n",
      "   668   646    0.00974  129  274    0.01027    0.00958  6.68%   120   20s\n",
      "   788   732    0.00998  161  262    0.01027    0.00958  6.68%   117   27s\n",
      "H  814   732                       0.0102677    0.00958  6.66%   115   27s\n",
      "   956   937    0.00958   40  245    0.01027    0.00958  6.66%   108   30s\n",
      "  1164  1033    0.00969  113  286    0.01027    0.00958  6.66%   108   37s\n",
      "  1177  1042    0.00966   69  288    0.01027    0.00958  6.66%   107   40s\n",
      "  1235  1085    0.00965   17  396    0.01027    0.00958  6.66%   114   45s\n",
      "  1386  1186    0.00982   37  313    0.01027    0.00958  6.66%   124   50s\n",
      "  1454  1233    0.00993   47  296    0.01027    0.00958  6.66%   128   57s\n",
      "  1545  1299    0.01027   62  136    0.01027    0.00958  6.66%   129   60s\n",
      "  1685  1392    0.01005   77  217    0.01027    0.00958  6.66%   129   66s\n",
      "  1720  1413     cutoff   77         0.01027    0.00958  6.66%   127   76s\n",
      "  1868  1506    0.01007   90  227    0.01027    0.00958  6.66%   123   80s\n",
      "  2029  1538     cutoff  105         0.01027    0.00958  6.66%   121   85s\n",
      "  2117  1564    0.01014  121  193    0.01027    0.00958  6.66%   121   91s\n",
      "  2311  1606    0.01025  157  146    0.01027    0.00958  6.66%   121   96s\n",
      "  2464  1750    0.00972   21  305    0.01027    0.00958  6.66%   121  100s\n",
      "  2727  1863    0.00977   35  297    0.01027    0.00958  6.66%   119  108s\n",
      "  2836  1961    0.00974   46  278    0.01027    0.00958  6.66%   121  111s\n",
      "  2922  1961    0.00982   52  311    0.01027    0.00958  6.66%   121  119s\n",
      "  2951  2008    0.00980   53  289    0.01027    0.00958  6.66%   121  120s\n",
      "  3266  2173    0.00987   87  282    0.01027    0.00958  6.66%   121  126s\n",
      "  3514  2318    0.00995  130  266    0.01027    0.00958  6.66%   120  130s\n",
      "  3638  2372    0.01002  157  263    0.01027    0.00958  6.66%   120  135s\n",
      "  3736  2469    0.01005  162  264    0.01027    0.00958  6.66%   119  140s\n",
      "  3882  2461    0.01009  175  255    0.01027    0.00958  6.66%   119  145s\n",
      "  3952  2514    0.01026  191  243    0.01027    0.00958  6.66%   119  150s\n",
      "  4147  2642    0.00966   67  293    0.01027    0.00958  6.66%   120  155s\n",
      "  4489  3019    0.00982  130  257    0.01027    0.00958  6.66%   118  160s\n",
      "  4970  3233    0.01019  199  226    0.01027    0.00958  6.66%   115  167s\n",
      "  5299  3680    0.00965   88  273    0.01027    0.00958  6.66%   114  172s\n",
      "  5565  3831    0.00980  158  258    0.01027    0.00958  6.66%   113  176s\n",
      "  5762  3996    0.00983  178  257    0.01027    0.00958  6.66%   113  187s\n",
      "  5955  4140     cutoff  187         0.01027    0.00958  6.66%   113  194s\n",
      "  6149  4488    0.00960   81  266    0.01027    0.00958  6.66%   112  199s\n",
      "  6527  4795    0.00988  161  274    0.01027    0.00958  6.66%   110  203s\n",
      "  6891  4993    0.00995  110  274    0.01027    0.00958  6.66%   109  208s\n",
      "  7107  5173     cutoff  185         0.01027    0.00958  6.66%   110  214s\n",
      "  7350  5549    0.00967   73  288    0.01027    0.00958  6.66%   110  219s\n",
      "  7804  5867    0.00961   54  283    0.01027    0.00958  6.66%   107  223s\n",
      "  8157  6069    0.00979  130  270    0.01027    0.00958  6.66%   106  227s\n",
      "  8439  6185    0.00961   56  296    0.01027    0.00958  6.66%   107  234s\n",
      "  8571  6478    0.00964   62  295    0.01027    0.00958  6.66%   107  240s\n",
      "\n",
      "Cutting planes:\n",
      "  MIR: 2\n",
      "  Flow cover: 3\n",
      "\n",
      "Explored 8892 nodes (950277 simplex iterations) in 240.08 seconds (216.30 work units)\n",
      "Thread count was 8 (of 8 available processors)\n",
      "\n",
      "Solution count 10: 0.0102677 0.0102707 0.0102859 ... 0.0104045\n",
      "\n",
      "Time limit reached\n",
      "Best objective 1.026765794532e-02, best bound 9.584292796862e-03, gap 6.6555%\n",
      "SVM MVO Objective Value  0.010267657945321744\n",
      "Norm of w  0.028331264625349437\n",
      "Classification errors  36.98715728964376\n",
      "Set parameter TimeLimit to value 240\n",
      "Set parameter MIPGap to value 0.05\n",
      "--------------------\n",
      "Solving Card MVO...\n",
      "Gurobi Optimizer version 11.0.0 build v11.0.0rc2 (win64 - Windows 10.0 (19045.2))\n",
      "\n",
      "CPU model: Intel(R) Core(TM) i5-8350U CPU @ 1.70GHz, instruction set [SSE2|AVX|AVX2]\n",
      "Thread count: 4 physical cores, 8 logical processors, using up to 8 threads\n",
      "\n",
      "Optimize a model with 289 rows, 572 columns and 1430 nonzeros\n",
      "Model fingerprint: 0xd0caa348\n",
      "Model has 41041 quadratic objective terms\n",
      "Variable types: 286 continuous, 286 integer (286 binary)\n",
      "Coefficient statistics:\n",
      "  Matrix range     [9e-04, 1e+00]\n",
      "  Objective range  [0e+00, 0e+00]\n",
      "  QObjective range [1e-05, 2e+00]\n",
      "  Bounds range     [1e+00, 1e+00]\n",
      "  RHS range        [3e-01, 1e+02]\n",
      "Presolve time: 0.11s\n",
      "Presolved: 391 rows, 623 columns, 1634 nonzeros\n",
      "Presolved model has 41092 quadratic objective terms\n",
      "Variable types: 337 continuous, 286 integer (286 binary)\n",
      "Found heuristic solution: objective 0.0151464\n",
      "Found heuristic solution: objective 0.0106936\n",
      "\n",
      "Root relaxation: objective 9.584293e-03, 121 iterations, 0.03 seconds (0.00 work units)\n",
      "\n",
      "    Nodes    |    Current Node    |     Objective Bounds      |     Work\n",
      " Expl Unexpl |  Obj  Depth IntInf | Incumbent    BestBd   Gap | It/Node Time\n",
      "\n",
      "     0     0    0.00958    0   32    0.01069    0.00958  10.4%     -    0s\n",
      "H    0     0                       0.0095843    0.00958  0.00%     -    0s\n",
      "     0     0    0.00958    0   32    0.00958    0.00958  0.00%     -    0s\n",
      "\n",
      "Explored 1 nodes (121 simplex iterations) in 0.26 seconds (0.02 work units)\n",
      "Thread count was 8 (of 8 available processors)\n",
      "\n",
      "Solution count 3: 0.00958429 0.0106936 0.0151464 \n",
      "\n",
      "Optimal solution found (tolerance 5.00e-02)\n",
      "Best objective 9.584292796862e-03, best bound 9.584292796862e-03, gap 0.0000%\n",
      "Card MVO Finished...\n",
      "--------------------\n"
     ]
    }
   ],
   "source": [
    "# Number of assets\n",
    "n  = len(tickers)\n",
    "env.n = n\n",
    "\n",
    "# Measure runtime: start the clock\n",
    "start_time = time.time()\n",
    "\n",
    "# Subset the returns and factor returns corresponding to the current calibration period.\n",
    "periodReturns = returns[returns.index <= calEnd]\n",
    "periodFactRet = factorRet[factorRet.index <= calEnd]\n",
    "\n",
    "# take the last available contextual observations\n",
    "period_daily_adjClose = daily_adjClose[daily_adjClose.index <= calEnd]\n",
    "period_Context_idx = ContextualInfo.index.get_level_values('date') <= calEnd\n",
    "period_Context = ContextualInfo.iloc[period_Context_idx].groupby('ticker').last()\n",
    "\n",
    "env.periodReturns = periodReturns\n",
    "env.periodFactRet = periodFactRet\n",
    "env.period_daily_adjClose = period_daily_adjClose\n",
    "env.period_Context = period_Context\n",
    "\n",
    "# there should be a feature vector for each asset\n",
    "assert len(period_Context) == n\n",
    "# all the tickers should be aligned in the context and ticker dataset\n",
    "assert (periodReturns.columns == period_Context.index).all()\n",
    "\n",
    "current_price_idx = (calEnd - pd.offsets.DateOffset(months=1) <= adjClose.index)&(adjClose.index <= calEnd)\n",
    "currentPrices = adjClose[current_price_idx]\n",
    "\n",
    "# Subset the prices corresponding to the current out-of-sample test period.\n",
    "periodPrices_idx = (testStart <= adjClose.index)&(adjClose.index <= testEnd)\n",
    "periodPrices = adjClose[periodPrices_idx]\n",
    "\n",
    "assert len(periodPrices) == investPeriod\n",
    "assert len(currentPrices) == 1\n",
    "\n",
    "# Set the initial value of the portfolio or update the portfolio value\n",
    "\n",
    "#----------------------------------------------------------------------\n",
    "# Portfolio optimization\n",
    "# You must write code your own algorithmic trading function\n",
    "#----------------------------------------------------------------------\n",
    "\n",
    "x = Strategy.execute_strategy(periodReturns, periodFactRet, environment=env) #equal_weight(periodReturns) #StrategyFunction(periodReturns, periodFactRet, x0[:,t]);\n",
    "x = StrategyCardMVO.execute_strategy(periodReturns, periodFactRet, environment=env) #equal_weight(periodReturns) #StrategyFunction(periodReturns, periodFactRet, x0[:,t]);\n",
    "\n",
    "end_time = time.time()"
   ],
   "metadata": {
    "collapsed": false,
    "ExecuteTime": {
     "end_time": "2024-01-21T17:47:35.278604Z",
     "start_time": "2024-01-21T17:47:23.452035600Z"
    }
   }
  },
  {
   "cell_type": "code",
   "execution_count": 15,
   "outputs": [
    {
     "data": {
      "text/plain": "dict_keys(['obj_value', 'time', 'bigM_time', 'optimality gap', 'x', 'z', 'w', 't', 'b', 'xi', 'feasible_solution', 'C', 'epsilon', 'optimization_params'])"
     },
     "execution_count": 15,
     "metadata": {},
     "output_type": "execute_result"
    }
   ],
   "source": [
    "Strategy.current_results.keys()"
   ],
   "metadata": {
    "collapsed": false,
    "ExecuteTime": {
     "end_time": "2024-01-21T17:47:35.309110400Z",
     "start_time": "2024-01-21T17:47:35.270598300Z"
    }
   }
  },
  {
   "cell_type": "code",
   "execution_count": 16,
   "outputs": [
    {
     "data": {
      "text/plain": "dict_keys(['mu', 'Q', 'targetRet', 'previous_portfolio', 'K', 'period_Context', 'k', 'alpha', 'premium', 'EstNumObs', 'ticker_index', 'target_return_strategy', 'target_return_strategy_args', 'turnover_limit', 'turnover_constraints', 'cardinality_ratio', 'MipGap', 'limit_time', 'bigMStrategy', 'bigM_limit_time', 'bigM_MipGap', 'bigM_SolutionLimit', 'SkipSOCP', 'tightening_iter_lim', 'SVMMVO_bigM_time_limit', 'SVMMVO_MipGap', 'SVMMVO_SolutionLimit', 'SOCP_limit_time', 'q', 'C', 'epsilon', 'separable', 'LogToConsole', 'Verbose', 'hyperparams', 'q_alpha', 'kappa'])"
     },
     "execution_count": 16,
     "metadata": {},
     "output_type": "execute_result"
    }
   ],
   "source": [
    "Strategy.current_results['optimization_params'].keys()"
   ],
   "metadata": {
    "collapsed": false,
    "ExecuteTime": {
     "end_time": "2024-01-21T17:47:35.310110500Z",
     "start_time": "2024-01-21T17:47:35.290110700Z"
    }
   }
  },
  {
   "cell_type": "code",
   "execution_count": 17,
   "outputs": [
    {
     "data": {
      "text/plain": "0.010267657945321744"
     },
     "execution_count": 17,
     "metadata": {},
     "output_type": "execute_result"
    }
   ],
   "source": [
    "Strategy.current_results['obj_value'] # bound satisfied"
   ],
   "metadata": {
    "collapsed": false,
    "ExecuteTime": {
     "end_time": "2024-01-21T17:47:35.362111500Z",
     "start_time": "2024-01-21T17:47:35.305110Z"
    }
   }
  },
  {
   "cell_type": "code",
   "execution_count": 18,
   "outputs": [
    {
     "data": {
      "text/plain": "            mean  average_correlation\nticker                               \nAAPL    1.290522             0.414904\nABT     0.317805             0.161565\nADBE    0.706310             0.192909\nADI     1.544101             2.046395\nADM    -0.707782            -0.752094\n...          ...                  ...\nX      -1.187470            -0.452343\nXRAY   -0.310993            -1.204692\nXRX     0.806871             0.571701\nZBRA   -0.792299            -0.238613\nZION    1.037092             0.093643\n\n[286 rows x 2 columns]",
      "text/html": "<div>\n<style scoped>\n    .dataframe tbody tr th:only-of-type {\n        vertical-align: middle;\n    }\n\n    .dataframe tbody tr th {\n        vertical-align: top;\n    }\n\n    .dataframe thead th {\n        text-align: right;\n    }\n</style>\n<table border=\"1\" class=\"dataframe\">\n  <thead>\n    <tr style=\"text-align: right;\">\n      <th></th>\n      <th>mean</th>\n      <th>average_correlation</th>\n    </tr>\n    <tr>\n      <th>ticker</th>\n      <th></th>\n      <th></th>\n    </tr>\n  </thead>\n  <tbody>\n    <tr>\n      <th>AAPL</th>\n      <td>1.290522</td>\n      <td>0.414904</td>\n    </tr>\n    <tr>\n      <th>ABT</th>\n      <td>0.317805</td>\n      <td>0.161565</td>\n    </tr>\n    <tr>\n      <th>ADBE</th>\n      <td>0.706310</td>\n      <td>0.192909</td>\n    </tr>\n    <tr>\n      <th>ADI</th>\n      <td>1.544101</td>\n      <td>2.046395</td>\n    </tr>\n    <tr>\n      <th>ADM</th>\n      <td>-0.707782</td>\n      <td>-0.752094</td>\n    </tr>\n    <tr>\n      <th>...</th>\n      <td>...</td>\n      <td>...</td>\n    </tr>\n    <tr>\n      <th>X</th>\n      <td>-1.187470</td>\n      <td>-0.452343</td>\n    </tr>\n    <tr>\n      <th>XRAY</th>\n      <td>-0.310993</td>\n      <td>-1.204692</td>\n    </tr>\n    <tr>\n      <th>XRX</th>\n      <td>0.806871</td>\n      <td>0.571701</td>\n    </tr>\n    <tr>\n      <th>ZBRA</th>\n      <td>-0.792299</td>\n      <td>-0.238613</td>\n    </tr>\n    <tr>\n      <th>ZION</th>\n      <td>1.037092</td>\n      <td>0.093643</td>\n    </tr>\n  </tbody>\n</table>\n<p>286 rows × 2 columns</p>\n</div>"
     },
     "execution_count": 18,
     "metadata": {},
     "output_type": "execute_result"
    }
   ],
   "source": [
    "Strategy.current_results['optimization_params']['period_Context'].iloc[:,Strategy.current_results['t'] > 0.0001]"
   ],
   "metadata": {
    "collapsed": false,
    "ExecuteTime": {
     "end_time": "2024-01-21T17:47:35.381115500Z",
     "start_time": "2024-01-21T17:47:35.323111Z"
    }
   }
  },
  {
   "cell_type": "code",
   "execution_count": 19,
   "outputs": [
    {
     "data": {
      "text/plain": "0.010542722076548126"
     },
     "execution_count": 19,
     "metadata": {},
     "output_type": "execute_result"
    }
   ],
   "source": [
    "StrategyCardMVO.current_results['obj_value']*(1 + kappa)"
   ],
   "metadata": {
    "collapsed": false,
    "ExecuteTime": {
     "end_time": "2024-01-21T17:47:35.382115600Z",
     "start_time": "2024-01-21T17:47:35.334111500Z"
    }
   }
  },
  {
   "cell_type": "code",
   "execution_count": 20,
   "outputs": [],
   "source": [
    "x_svmmvo = Strategy.current_results['x']\n",
    "x_cardmvo = StrategyCardMVO.current_results['x']"
   ],
   "metadata": {
    "collapsed": false,
    "ExecuteTime": {
     "end_time": "2024-01-21T17:47:35.383116Z",
     "start_time": "2024-01-21T17:47:35.352112200Z"
    }
   }
  },
  {
   "cell_type": "code",
   "execution_count": 21,
   "outputs": [],
   "source": [
    "portfolios = pd.DataFrame([x_svmmvo, x_cardmvo], columns = tickers, index = ['SVMMVO','CardMVO']).T"
   ],
   "metadata": {
    "collapsed": false,
    "ExecuteTime": {
     "end_time": "2024-01-21T17:47:35.398406700Z",
     "start_time": "2024-01-21T17:47:35.367110800Z"
    }
   }
  },
  {
   "cell_type": "code",
   "execution_count": 22,
   "outputs": [
    {
     "data": {
      "text/plain": "<Figure size 400x600 with 1 Axes>",
      "image/png": "[encoded data removed]"
     },
     "metadata": {},
     "output_type": "display_data"
    }
   ],
   "source": [
    "portfolios[(portfolios > 0.001).any(axis =1)].plot.barh(figsize = (4, 6));"
   ],
   "metadata": {
    "collapsed": false,
    "ExecuteTime": {
     "end_time": "2024-01-21T17:47:35.579976500Z",
     "start_time": "2024-01-21T17:47:35.395390600Z"
    }
   }
  },
  {
   "cell_type": "markdown",
   "source": [
    "# 3. Efficient Frontier"
   ],
   "metadata": {
    "collapsed": false
   }
  },
  {
   "cell_type": "code",
   "execution_count": 23,
   "outputs": [
    {
     "name": "stdout",
     "output_type": "stream",
     "text": [
      "Set parameter TimeLimit to value 240\n",
      "Set parameter MIPGap to value 0.05\n",
      "--------------------\n",
      "Solving Card MVO...\n",
      "Gurobi Optimizer version 11.0.0 build v11.0.0rc2 (win64 - Windows 10.0 (19045.2))\n",
      "\n",
      "CPU model: Intel(R) Core(TM) i5-8350U CPU @ 1.70GHz, instruction set [SSE2|AVX|AVX2]\n",
      "Thread count: 4 physical cores, 8 logical processors, using up to 8 threads\n",
      "\n",
      "Optimize a model with 289 rows, 572 columns and 1430 nonzeros\n",
      "Model fingerprint: 0xd70debc8\n",
      "Model has 41041 quadratic objective terms\n",
      "Variable types: 286 continuous, 286 integer (286 binary)\n",
      "Coefficient statistics:\n",
      "  Matrix range     [9e-04, 1e+00]\n",
      "  Objective range  [0e+00, 0e+00]\n",
      "  QObjective range [1e-05, 2e+00]\n",
      "  Bounds range     [1e+00, 1e+00]\n",
      "  RHS range        [1e+00, 1e+05]\n",
      "Found heuristic solution: objective 0.0890611\n",
      "Presolve removed 288 rows and 286 columns\n",
      "Presolve time: 0.03s\n",
      "Presolved: 1 rows, 286 columns, 286 nonzeros\n",
      "Presolved model has 41041 quadratic objective terms\n",
      "Variable types: 286 continuous, 0 integer (0 binary)\n",
      "Root relaxation presolve time: 0.10s\n",
      "Root relaxation presolved: 1 rows, 286 columns, 286 nonzeros\n",
      "Root relaxation presolved model has 41041 quadratic objective terms\n",
      "Root barrier log...\n",
      "\n",
      "Ordering time: 0.01s\n",
      "\n",
      "Barrier statistics:\n",
      " Free vars  : 285\n",
      " AA' NZ     : 4.076e+04\n",
      " Factor NZ  : 4.104e+04 (roughly 1 MB of memory)\n",
      " Factor Ops : 7.839e+06 (less than 1 second per iteration)\n",
      " Threads    : 3\n",
      "\n",
      "                  Objective                Residual\n",
      "Iter       Primal          Dual         Primal    Dual     Compl     Time\n",
      "   0   2.18890796e+05 -2.18890796e+05  2.86e+05 2.06e-05  2.50e+05     0s\n",
      "   1   2.27460749e-01 -5.00151775e+02  3.15e+02 2.27e-08  2.77e+02     0s\n",
      "   2   1.66001199e-02 -4.97319000e+02  3.15e-04 2.27e-14  8.70e-01     0s\n",
      "   3   1.65978899e-02 -5.08700360e-01  1.78e-08 6.94e-18  9.18e-04     0s\n",
      "   4   1.49934834e-02 -1.01903444e-02  4.67e-10 6.94e-18  4.40e-05     0s\n",
      "   5   6.47500680e-03 -7.23322983e-03  1.33e-15 2.78e-17  2.40e-05     0s\n",
      "   6   4.21042017e-03  1.48397378e-03  5.55e-17 1.39e-17  4.77e-06     0s\n",
      "   7   3.33176866e-03  2.42336384e-03  1.79e-16 1.04e-17  1.59e-06     0s\n",
      "   8   2.97037634e-03  2.89100442e-03  3.33e-16 6.94e-18  1.39e-07     0s\n",
      "   9   2.91242297e-03  2.90871808e-03  1.33e-15 6.94e-18  6.48e-09     0s\n",
      "  10   2.90929217e-03  2.90927248e-03  9.99e-16 6.94e-18  3.44e-11     0s\n",
      "  11   2.90927348e-03  2.90927340e-03  2.03e-13 1.04e-17  1.37e-13     0s\n",
      "\n",
      "Barrier solved model in 11 iterations and 0.32 seconds (0.07 work units)\n",
      "Optimal objective 2.90927348e-03\n",
      "\n",
      "\n",
      "Root relaxation: objective 2.909273e-03, 0 iterations, 0.25 seconds (0.08 work units)\n",
      "\n",
      "    Nodes    |    Current Node    |     Objective Bounds      |     Work\n",
      " Expl Unexpl |  Obj  Depth IntInf | Incumbent    BestBd   Gap | It/Node Time\n",
      "\n",
      "*    0     0               0       0.0029093    0.00291  0.00%     -    0s\n",
      "\n",
      "Explored 1 nodes (0 simplex iterations) in 0.37 seconds (0.08 work units)\n",
      "Thread count was 8 (of 8 available processors)\n",
      "\n",
      "Solution count 1: 0.00290927 \n",
      "\n",
      "Optimal solution found (tolerance 5.00e-02)\n",
      "Best objective 2.909273479301e-03, best bound 2.909273479301e-03, gap 0.0000%\n",
      "Card MVO Finished...\n",
      "--------------------\n"
     ]
    }
   ],
   "source": [
    "# solve min variance and store it, along with the expected return\n",
    "from IPython.display import clear_output\n",
    "\n",
    "plot_scaling = 0.5\n",
    "NumPts = 10\n",
    "StrategyCardMVO.investor_preferences['cardinality_ratio'] = 1\n",
    "StrategyCardMVO.investor_preferences['premium'] = -1 * 10 ** 6\n",
    "StrategyCardMVO.execute_strategy(periodReturns, periodFactRet, environment=env)\n",
    "min_return = StrategyCardMVO.current_results['x']@StrategyCardMVO.current_estimates[0]\n",
    "max_return  = plot_scaling*StrategyCardMVO.current_estimates[0].max()\n",
    "max_premium = max_return/StrategyCardMVO.current_estimates[0].mean()\n",
    "min_premium = min_return/StrategyCardMVO.current_estimates[0].mean()\n",
    "\n",
    "path = \"Experiments//EF//\"+universe+\"//\"\n",
    "if not os.path.exists(path):\n",
    "    os.makedirs(path)\n",
    "    print(\"Path created: \", path)"
   ],
   "metadata": {
    "collapsed": false,
    "ExecuteTime": {
     "end_time": "2024-01-21T17:47:35.849552600Z",
     "start_time": "2024-01-21T17:47:35.574978Z"
    }
   }
  },
  {
   "cell_type": "markdown",
   "source": [
    "### Do not run here"
   ],
   "metadata": {
    "collapsed": false
   }
  },
  {
   "cell_type": "code",
   "execution_count": 37,
   "outputs": [],
   "source": [
    "vols_mvo, rets_mvo, premiums_mvo, cardinalities_mvo, mip_gaps, results = efficient_frontier_premium(StrategyCardMVO, max_return, min_return, NumPts, periodReturns, periodFactRet, env)\n",
    "print(\"Cardinality ratio that binds \", cardinalities_mvo.max()/len(tickers)) #natural cardinality based on 0.1%\n",
    "mvo_frontier_results = {}\n",
    "mvo_frontier_results['MVO'] =  vols_mvo, rets_mvo, premiums_mvo, cardinalities_mvo, mip_gaps, results\n",
    "export_dict(path, '', mvo_frontier_results, 'MVO')"
   ],
   "metadata": {
    "collapsed": false
   }
  },
  {
   "cell_type": "code",
   "execution_count": 25,
   "outputs": [
    {
     "name": "stdout",
     "output_type": "stream",
     "text": [
      "Set parameter TimeLimit to value 240\n",
      "Set parameter MIPGap to value 0.05\n"
     ]
    }
   ],
   "source": [
    "cardinality_ratios = [0.02, 0.04, 0.06, 0.08, 0.1]\n",
    "cardinality_frontier_results = {}\n",
    "\n",
    "for cardinality_ratio in cardinality_ratios:\n",
    "    StrategyCardMVO.investor_preferences['cardinality_ratio'] = cardinality_ratio\n",
    "    cardinality_frontier_results[cardinality_ratio] = efficient_frontier_premium(StrategyCardMVO, max_return, min_return, NumPts, periodReturns, periodFactRet, env)\n",
    "export_dict(path, '', cardinality_frontier_results, 'CardMVO')"
   ],
   "metadata": {
    "collapsed": false
   }
  },
  {
   "cell_type": "code",
   "execution_count": 27,
   "outputs": [
    {
     "name": "stdout",
     "output_type": "stream",
     "text": [
      "Set parameter TimeLimit to value 20\n",
      "Set parameter MIPGap to value 0.05\n",
      "Set parameter TimeLimit to value 20\n",
      "Set parameter TimeLimit to value 240\n",
      "Set parameter MIPGap to value 0.05\n"
     ]
    }
   ],
   "source": [
    "kappas =  [0.0125, 0.025, 0.05, 0.1, 0.2, 0.4, 0.8]\n",
    "svmmvo_frontier_results = {}\n",
    "for cardinality_ratio in cardinality_ratios:\n",
    "    for kappa in kappas:\n",
    "        Strategy.investor_preferences['kappa'] = kappa\n",
    "        Strategy.investor_preferences['cardinality_ratio'] = cardinality_ratio\n",
    "        svmmvo_frontier_results[(cardinality_ratio, kappa)] = efficient_frontier_premium(Strategy, max_return, min_return, NumPts, periodReturns, periodFactRet, env)\n",
    "export_dict(path, '', svmmvo_frontier_results, 'SVMMVO')"
   ],
   "metadata": {
    "collapsed": false
   }
  },
  {
   "cell_type": "markdown",
   "source": [
    "# Analysis of Frontiers"
   ],
   "metadata": {
    "collapsed": false
   }
  },
  {
   "cell_type": "code",
   "execution_count": 561,
   "outputs": [],
   "source": [
    "from services.experiments import *\n",
    "mvo_frontier_results = import_dict(path, '', 'MVO')\n",
    "cardinality_frontier_results = import_dict(path, '', 'CardMVO')\n",
    "svmmvo_frontier_results = import_dict(path, '', 'SVMMVO')\n",
    "\n",
    "cardinality = 0.08\n",
    "cardinality_str = r\"$K = \\lfloor \"+str(cardinality) + r\"N \\rfloor$\"\n",
    "kappa = 0.4\n",
    "kappa_str = r\"$\\kappa = \"+str(kappa*100)+r\"\\%$\"\n"
   ],
   "metadata": {
    "collapsed": false
   }
  },
  {
   "cell_type": "code",
   "execution_count": 562,
   "outputs": [],
   "source": [
    "vols_mvo, rets_mvo, premiums_mvo, cardinalities_mvo, gaps_mvo, results_mvo = mvo_frontier_results['MVO']"
   ],
   "metadata": {
    "collapsed": false
   }
  },
  {
   "cell_type": "code",
   "execution_count": 563,
   "outputs": [],
   "source": [
    "vols_cardmvo, rets_cardmvo, premiums_cardmvo, cardinalities_cardmvo, gaps_cardmvo, results_cardmvo = cardinality_frontier_results[cardinality]"
   ],
   "metadata": {
    "collapsed": false,
    "ExecuteTime": {
     "end_time": "2024-01-22T06:54:15.845576900Z",
     "start_time": "2024-01-22T06:54:15.658455900Z"
    }
   }
  },
  {
   "cell_type": "code",
   "execution_count": 564,
   "outputs": [],
   "source": [
    "vols_svmmvo, rets_svmmvo, premiums_svmmvo, cardinalities_svmmvo, gaps_svmmvo, results_svmmvo = svmmvo_frontier_results[(cardinality, kappa)]"
   ],
   "metadata": {
    "collapsed": false,
    "ExecuteTime": {
     "end_time": "2024-01-22T06:54:16.228129Z",
     "start_time": "2024-01-22T06:54:16.219568900Z"
    }
   }
  },
  {
   "cell_type": "code",
   "execution_count": 565,
   "outputs": [],
   "source": [
    "vols_svmmvo = np.array([results_svmmvo[t]['x']@results_svmmvo[t]['optimization_params']['Q']@results_svmmvo[t]['x']  for t in results_svmmvo.keys()])"
   ],
   "metadata": {
    "collapsed": false
   }
  },
  {
   "cell_type": "code",
   "execution_count": 566,
   "outputs": [],
   "source": [
    "# import matplotlib\n",
    "# matplotlib.rc('text', usetex=True)\n",
    "# matplotlib.rcParams['text.latex.preamble']=[r\"\\usepackage{amsmath}\"]"
   ],
   "metadata": {
    "collapsed": false
   }
  },
  {
   "cell_type": "code",
   "execution_count": 568,
   "outputs": [
    {
     "data": {
      "text/plain": "<Figure size 600x300 with 1 Axes>",
      "image/png": "[encoded data removed]"
     },
     "metadata": {},
     "output_type": "display_data"
    }
   ],
   "source": [
    "plt.figure(figsize = (6,3))\n",
    "ax = plt.gca()\n",
    "plt.plot(np.sqrt(vols_mvo), rets_mvo, 'o-',  label = 'MVO', color = '#648FFF')\n",
    "plt.plot(np.sqrt(vols_cardmvo), rets_cardmvo, 'o-',  label = 'CardMVO($K$)', color = '#FE6100')\n",
    "plt.plot(np.sqrt(vols_svmmvo), rets_svmmvo, 'o-', label = r\"SVMMVO($K, \\kappa$)\", color = '#785EF0')\n",
    "plt.plot(np.sqrt((1+0.2)*vols_cardmvo), rets_cardmvo, '.-', label = r\"$(1 + \\kappa)$ - CardMVO($K$)\", color = '#FFB000')\n",
    "plt.title(\"Efficient Frontier \"+cardinality_str + \" \"+ kappa_str)\n",
    "plt.xlabel(r'$\\sqrt{\\bf{x}^{\\intercal} \\bf{\\Sigma} \\bf{x}}$')\n",
    "plt.ylabel(r'$\\bf{r}^{\\intercal} \\bf{x}$')\n",
    "plt.tight_layout()\n",
    "plt.legend()\n",
    "plt.savefig(path+\"frontier_\"+str(cardinality).replace(\".\",\"dot\")+\"_\"+str(kappa).replace(\".\",\"dot\") +\".svg\")"
   ],
   "metadata": {
    "collapsed": false,
    "ExecuteTime": {
     "end_time": "2024-01-22T06:54:16.861939200Z",
     "start_time": "2024-01-22T06:54:16.627075Z"
    }
   }
  },
  {
   "cell_type": "code",
   "execution_count": 569,
   "outputs": [
    {
     "name": "stdout",
     "output_type": "stream",
     "text": [
      "0\n",
      "1\n",
      "2\n",
      "3\n",
      "4\n",
      "5\n",
      "7\n"
     ]
    }
   ],
   "source": [
    "for t in results_svmmvo.keys():\n",
    "    t_vals = results_svmmvo[t]['t']\n",
    "    if np.sum(np.abs(results_svmmvo[t]['w'][t_vals > 0.99])) > 0.001:\n",
    "        print(t)"
   ],
   "metadata": {
    "collapsed": false
   }
  },
  {
   "cell_type": "code",
   "execution_count": 612,
   "outputs": [
    {
     "data": {
      "text/plain": "dict_keys(['mu', 'Q', 'targetRet', 'previous_portfolio', 'K', 'period_Context', 'k', 'alpha', 'premium', 'EstNumObs', 'ticker_index', 'target_return_strategy', 'target_return_strategy_args', 'turnover_limit', 'turnover_constraints', 'cardinality_ratio', 'MipGap', 'limit_time', 'bigMStrategy', 'bigM_limit_time', 'bigM_MipGap', 'bigM_SolutionLimit', 'SkipSOCP', 'tightening_iter_lim', 'SVMMVO_bigM_time_limit', 'SVMMVO_MipGap', 'SVMMVO_SolutionLimit', 'SOCP_limit_time', 'q', 'C', 'epsilon', 'separable', 'LogToConsole', 'Verbose', 'hyperparams', 'q_alpha', 'kappa'])"
     },
     "execution_count": 612,
     "metadata": {},
     "output_type": "execute_result"
    }
   ],
   "source": [
    "z_vals = np.rint(results_svmmvo[t]['z'])\n",
    "t_vals = results_svmmvo[t]['t']\n",
    "w_vals = results_svmmvo[t]['w'][t_vals > 0.99]\n",
    "b_val = results_svmmvo[t]['b']\n",
    "ret_string = r'$r_{\\mathsf{min}} = '+str(np.round(100*rets_svmmvo[t], 2)) + r'\\%$'\n",
    "results_svmmvo[t]['optimization_params'].keys()"
   ],
   "metadata": {
    "collapsed": false
   }
  },
  {
   "cell_type": "code",
   "execution_count": 615,
   "outputs": [
    {
     "name": "stderr",
     "output_type": "stream",
     "text": [
      "C:\\Users\\david\\AppData\\Local\\Temp\\ipykernel_9064\\2523817129.py:8: SettingWithCopyWarning: \n",
      "A value is trying to be set on a copy of a slice from a DataFrame\n",
      "\n",
      "See the caveats in the documentation: https://pandas.pydata.org/pandas-docs/stable/user_guide/indexing.html#returning-a-view-versus-a-copy\n",
      "  context2d[r'$\\bf{z}$'].iloc[z_vals_reduced > 0.01] = '#648FFF'\n"
     ]
    }
   ],
   "source": [
    "context2d = results_svmmvo[0]['optimization_params']['period_Context'].iloc[:, t_vals > 0.99]\n",
    "from scipy import stats\n",
    "assets = (np.abs(stats.zscore(context2d)) < 100).all(axis=1)\n",
    "z_vals_reduced = z_vals[assets]\n",
    "context2d = context2d[assets]\n",
    "#context2d  = context2d.rank()/(len(context2d)+1)\n",
    "context2d[r'$\\bf{z}$'] = '#FE6100'\n",
    "context2d[r'$\\bf{z}$'].iloc[z_vals_reduced > 0.01] = '#648FFF'"
   ],
   "metadata": {
    "collapsed": false
   }
  },
  {
   "cell_type": "code",
   "execution_count": 616,
   "outputs": [],
   "source": [
    "def create_linear_function(w, b):\n",
    "    def formula(x):\n",
    "        return (-1/(w[1]))*(w[0]*x + b)\n",
    "    return formula"
   ],
   "metadata": {
    "collapsed": false
   }
  },
  {
   "cell_type": "code",
   "execution_count": 621,
   "outputs": [],
   "source": [
    "line = create_linear_function(w_vals, b_val)\n",
    "x = np.array([-1, 3])"
   ],
   "metadata": {
    "collapsed": false
   }
  },
  {
   "cell_type": "code",
   "execution_count": 622,
   "outputs": [
    {
     "data": {
      "text/plain": "array([-2.25945878,  2.11760406])"
     },
     "execution_count": 622,
     "metadata": {},
     "output_type": "execute_result"
    }
   ],
   "source": [
    "line(x)"
   ],
   "metadata": {
    "collapsed": false
   }
  },
  {
   "cell_type": "code",
   "execution_count": 623,
   "outputs": [
    {
     "data": {
      "text/plain": "            mean  average_abs_correlation $\\bf{z}$\nticker                                            \nAAPL    1.290522                 0.513241  #FE6100\nABT     0.317805                 0.156457  #FE6100\nADBE    0.706310                 0.191346  #FE6100\nADI     1.544101                 2.056747  #FE6100\nADM    -0.707782                -0.754025  #FE6100\n...          ...                      ...      ...\nX      -1.187470                -0.458315  #FE6100\nXRAY   -0.310993                -1.201392  #FE6100\nXRX     0.806871                 0.566003  #FE6100\nZBRA   -0.792299                -0.238437  #FE6100\nZION    1.037092                 0.097926  #FE6100\n\n[286 rows x 3 columns]",
      "text/html": "<div>\n<style scoped>\n    .dataframe tbody tr th:only-of-type {\n        vertical-align: middle;\n    }\n\n    .dataframe tbody tr th {\n        vertical-align: top;\n    }\n\n    .dataframe thead th {\n        text-align: right;\n    }\n</style>\n<table border=\"1\" class=\"dataframe\">\n  <thead>\n    <tr style=\"text-align: right;\">\n      <th></th>\n      <th>mean</th>\n      <th>average_abs_correlation</th>\n      <th>$\\bf{z}$</th>\n    </tr>\n    <tr>\n      <th>ticker</th>\n      <th></th>\n      <th></th>\n      <th></th>\n    </tr>\n  </thead>\n  <tbody>\n    <tr>\n      <th>AAPL</th>\n      <td>1.290522</td>\n      <td>0.513241</td>\n      <td>#FE6100</td>\n    </tr>\n    <tr>\n      <th>ABT</th>\n      <td>0.317805</td>\n      <td>0.156457</td>\n      <td>#FE6100</td>\n    </tr>\n    <tr>\n      <th>ADBE</th>\n      <td>0.706310</td>\n      <td>0.191346</td>\n      <td>#FE6100</td>\n    </tr>\n    <tr>\n      <th>ADI</th>\n      <td>1.544101</td>\n      <td>2.056747</td>\n      <td>#FE6100</td>\n    </tr>\n    <tr>\n      <th>ADM</th>\n      <td>-0.707782</td>\n      <td>-0.754025</td>\n      <td>#FE6100</td>\n    </tr>\n    <tr>\n      <th>...</th>\n      <td>...</td>\n      <td>...</td>\n      <td>...</td>\n    </tr>\n    <tr>\n      <th>X</th>\n      <td>-1.187470</td>\n      <td>-0.458315</td>\n      <td>#FE6100</td>\n    </tr>\n    <tr>\n      <th>XRAY</th>\n      <td>-0.310993</td>\n      <td>-1.201392</td>\n      <td>#FE6100</td>\n    </tr>\n    <tr>\n      <th>XRX</th>\n      <td>0.806871</td>\n      <td>0.566003</td>\n      <td>#FE6100</td>\n    </tr>\n    <tr>\n      <th>ZBRA</th>\n      <td>-0.792299</td>\n      <td>-0.238437</td>\n      <td>#FE6100</td>\n    </tr>\n    <tr>\n      <th>ZION</th>\n      <td>1.037092</td>\n      <td>0.097926</td>\n      <td>#FE6100</td>\n    </tr>\n  </tbody>\n</table>\n<p>286 rows × 3 columns</p>\n</div>"
     },
     "execution_count": 623,
     "metadata": {},
     "output_type": "execute_result"
    }
   ],
   "source": [
    "context2d"
   ],
   "metadata": {
    "collapsed": false
   }
  },
  {
   "cell_type": "code",
   "execution_count": 624,
   "outputs": [
    {
     "data": {
      "text/plain": "<Figure size 400x400 with 1 Axes>",
      "image/png": "[encoded data removed]"
     },
     "metadata": {},
     "output_type": "display_data"
    }
   ],
   "source": [
    "plt.figure(figsize = (4,4))\n",
    "ax = plt.gca()\n",
    "eligible = z_vals_reduced > 0.01\n",
    "plt.scatter(context2d.iloc[eligible ,0], context2d.iloc[eligible ,1], c = context2d.iloc[eligible ,2].values, label= r'$z_i = 1$', marker = '.')\n",
    "plt.scatter(context2d.iloc[~eligible,0], context2d.iloc[~eligible,1], c = context2d.iloc[~eligible,2].values, label= r'$z_i = 0$', marker = '.')\n",
    "#context2d.plot.scatter(x = 0, y = 1, c = 2, ax = ax)\n",
    "plt.plot(x, line(x), '--', linewidth = 2, label = r'${\\bf{y}^{\\intercal}\\bf{w}} + b = 0$', color ='black')\n",
    "plt.xlabel(context2d.columns[0])\n",
    "plt.ylabel(context2d.columns[1])\n",
    "plt.title(\"Assets in selected feature space \\n\"+ ret_string + \" \" +cardinality_str + \" \"+ kappa_str)\n",
    "plt.legend(loc = 'upper left');\n",
    "plt.tight_layout()\n",
    "plt.savefig(path+\"features_\"+str(cardinality).replace(\".\",\"dot\")+\"_\"+str(kappa).replace(\".\",\"dot\")+str(t) +\".svg\")"
   ],
   "metadata": {
    "collapsed": false
   }
  },
  {
   "cell_type": "code",
   "execution_count": 591,
   "outputs": [],
   "source": [],
   "metadata": {
    "collapsed": false
   }
  },
  {
   "cell_type": "code",
   "execution_count": 515,
   "outputs": [],
   "source": [],
   "metadata": {
    "collapsed": false
   }
  }
 ],
 "metadata": {
  "kernelspec": {
   "display_name": "Python 3",
   "language": "python",
   "name": "python3"
  },
  "language_info": {
   "codemirror_mode": {
    "name": "ipython",
    "version": 2
   },
   "file_extension": ".py",
   "mimetype": "text/x-python",
   "name": "python",
   "nbconvert_exporter": "python",
   "pygments_lexer": "ipython2",
   "version": "2.7.6"
  }
 },
 "nbformat": 4,
 "nbformat_minor": 0
}
