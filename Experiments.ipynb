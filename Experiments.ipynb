{
 "cells": [
  {
   "cell_type": "markdown",
   "source": [
    "\n",
    "# Running the Experiments\n",
    "\n",
    "# 1. Read input files"
   ],
   "metadata": {
    "collapsed": false
   }
  },
  {
   "cell_type": "code",
   "execution_count": 14,
   "outputs": [
    {
     "name": "stdout",
     "output_type": "stream",
     "text": [
      "['asset_id', 'currency_id', 'equities_series', 'equity_index_id', 'exchange_id', 'factor_id', 'factors', 'frequency_id', 'fundamentals', 'metric_id', 'source_id', 'ticker_id', 'ticker_index_membership', 'tiingo_tickers']\n"
     ]
    }
   ],
   "source": [
    "import time\n",
    "import math\n",
    "\n",
    "import numpy as np\n",
    "import pandas as pd\n",
    "from itertools import product\n",
    "from Database.services.database import Database\n",
    "from sqlalchemy import inspect\n",
    "from services.data_retreival import *\n",
    "from scipy.stats import gmean\n",
    "import matplotlib.pyplot as plt\n",
    "from services.strategies import *\n",
    "from services.optimization_layers import *\n",
    "from services.optimization import *\n",
    "from services.binary_optimization import *\n",
    "from services.environment_functions import *\n",
    "from services.big_m_strategies import *\n",
    "from services.experiments import *\n",
    "from services.class_weighted_bigM import *\n",
    "from services.class_weighted_models import *\n",
    "\n",
    "Database.initialize(\"sqlite:///Database//financial_db.sqlite\") #for courses replace this with a flat file\n",
    "inspector = inspect(Database.engine)\n",
    "print(inspector.get_table_names())\n",
    "\n",
    "universe = 'ETF'\n",
    "imputation_method = 'Univariate'\n",
    "ticker_str = 'SPY'\n",
    "#exponential params\n",
    "\n",
    "\n",
    "adjClose = pd.read_csv(\"flat_files/MonthlyAssetPrices\"+ universe + \".csv\", index_col=0, header = 1).iloc[1:,:]\n",
    "\n",
    "daily_adjClose =  pd.read_csv(\"flat_files/DailyAssetPrices\"+universe + \".csv\", index_col=0, header = 1).iloc[1:,:]\n",
    "\n",
    "TechnicalAnalysis = pd.read_csv(\"flat_files/TechnicalAnalysis\" + universe + \".csv\", index_col=[0,1])\n",
    "\n",
    "if universe ==  'SP':\n",
    "    FinancialRatios = pd.read_csv(\"flat_files/\" + imputation_method + \"WRDS.csv\", index_col=[0,1])\n",
    "    TechnicalAnalysis.index.names = FinancialRatios.index.names\n",
    "    ContextualInfo = TechnicalAnalysis.merge(FinancialRatios, how = 'left', left_index=True, right_index=True)\n",
    "\n",
    "else:\n",
    "    TechnicalAnalysis.index.names = ['date', 'ticker']\n",
    "    ContextualInfo = TechnicalAnalysis\n"
   ],
   "metadata": {
    "collapsed": false,
    "ExecuteTime": {
     "end_time": "2024-02-26T02:46:30.310540400Z",
     "start_time": "2024-02-26T02:46:29.869711700Z"
    }
   }
  },
  {
   "cell_type": "code",
   "execution_count": 15,
   "outputs": [],
   "source": [
    "adjClose.index = pd.to_datetime(adjClose.index, format='%Y-%m-%d').tz_localize(None)\n",
    "daily_adjClose.index = pd.to_datetime(daily_adjClose.index, format='%Y-%m-%d').tz_localize(None)\n",
    "ContextualInfo.index = ContextualInfo.index.set_levels([pd.to_datetime(ContextualInfo.index.levels[0]).tz_localize(None), ContextualInfo.index.levels[1]])"
   ],
   "metadata": {
    "collapsed": false,
    "ExecuteTime": {
     "end_time": "2024-02-26T02:46:30.386079200Z",
     "start_time": "2024-02-26T02:46:30.376857800Z"
    }
   }
  },
  {
   "cell_type": "code",
   "execution_count": 16,
   "outputs": [
    {
     "name": "stdout",
     "output_type": "stream",
     "text": [
      "The earliest possible start date\n"
     ]
    },
    {
     "data": {
      "text/plain": "Timestamp('2006-01-31 00:00:00')"
     },
     "execution_count": 16,
     "metadata": {},
     "output_type": "execute_result"
    }
   ],
   "source": [
    "print(\"The earliest possible start date\")\n",
    "max(daily_adjClose.index.unique()[0], ContextualInfo.index.get_level_values('date').unique()[0], adjClose.index.unique()[0])"
   ],
   "metadata": {
    "collapsed": false,
    "ExecuteTime": {
     "end_time": "2024-02-26T02:46:30.815912700Z",
     "start_time": "2024-02-26T02:46:30.808670900Z"
    }
   }
  },
  {
   "cell_type": "code",
   "execution_count": 17,
   "outputs": [
    {
     "name": "stdout",
     "output_type": "stream",
     "text": [
      "The latest possible start date\n"
     ]
    },
    {
     "data": {
      "text/plain": "Timestamp('2023-04-21 00:00:00')"
     },
     "execution_count": 17,
     "metadata": {},
     "output_type": "execute_result"
    }
   ],
   "source": [
    "print(\"The latest possible start date\")\n",
    "min(daily_adjClose.index.unique()[-1], ContextualInfo.index.get_level_values('date').unique()[-1], adjClose.index.unique()[-1])"
   ],
   "metadata": {
    "collapsed": false,
    "ExecuteTime": {
     "end_time": "2024-02-26T02:46:31.119642400Z",
     "start_time": "2024-02-26T02:46:31.107225400Z"
    }
   }
  },
  {
   "cell_type": "code",
   "execution_count": 18,
   "outputs": [],
   "source": [
    "# start_date = pd.to_datetime('1996-11-30', format = '%Y-%m-%d')\n",
    "# \n",
    "# end_date = pd.to_datetime('2022-12-31', format = '%Y-%m-%d')\n",
    "\n",
    "start_date = pd.to_datetime('2006-05-31', format = '%Y-%m-%d')\n",
    "\n",
    "end_date = pd.to_datetime('2022-12-31', format = '%Y-%m-%d')\n",
    "\n",
    "factors = ('Mkt-RF', 'RF')\n",
    "\n",
    "factorRet = get_monthly_factors(factors, start_date, end_date, Database)\n",
    "\n",
    "factorRet = factorRet.droplevel(0, axis = 1)\n",
    "factorRet.columns = [col.strip() for col in factorRet.columns]"
   ],
   "metadata": {
    "collapsed": false,
    "ExecuteTime": {
     "end_time": "2024-02-26T02:46:33.561166400Z",
     "start_time": "2024-02-26T02:46:31.371720900Z"
    }
   }
  },
  {
   "cell_type": "code",
   "execution_count": 19,
   "outputs": [],
   "source": [
    "adjClose = adjClose[start_date:end_date]\n",
    "daily_adjClose = daily_adjClose[start_date:end_date]\n",
    "idx = pd.IndexSlice\n",
    "ContextualInfo = ContextualInfo.loc[idx[start_date:end_date, :], :]"
   ],
   "metadata": {
    "collapsed": false,
    "ExecuteTime": {
     "end_time": "2024-02-26T02:46:33.575146100Z",
     "start_time": "2024-02-26T02:46:33.562195400Z"
    }
   }
  },
  {
   "cell_type": "code",
   "execution_count": 20,
   "outputs": [],
   "source": [
    "# Initial budget to invest ($100,000)\n",
    "initialVal = 100000\n",
    "\n",
    "# Length of investment period (in months) - but actually units of data\n",
    "investPeriod = 6\n",
    "\n",
    "# divide the factor returns by 100\n",
    "factorRet = factorRet/100\n",
    "\n",
    "#rf and factor returns\n",
    "#drop the first observation to align the dataset with the returns data that will\n",
    "#result\n",
    "factorRet = factorRet.iloc[1:, :]\n",
    "\n",
    "#rf and factor returns\n",
    "riskFree = factorRet['RF']\n",
    "factorRet = factorRet.loc[:,factorRet.columns != 'RF'];"
   ],
   "metadata": {
    "collapsed": false,
    "ExecuteTime": {
     "end_time": "2024-02-26T02:46:33.589903100Z",
     "start_time": "2024-02-26T02:46:33.577203200Z"
    }
   }
  },
  {
   "cell_type": "code",
   "execution_count": 21,
   "outputs": [],
   "source": [
    "#Identify the tickers and the dates\n",
    "tickers = adjClose.columns\n",
    "dates   = factorRet.index"
   ],
   "metadata": {
    "collapsed": false,
    "ExecuteTime": {
     "end_time": "2024-02-26T02:46:33.603183300Z",
     "start_time": "2024-02-26T02:46:33.587869100Z"
    }
   }
  },
  {
   "cell_type": "code",
   "execution_count": 22,
   "outputs": [],
   "source": [
    "# Calculate the stocks monthly excess returns\n",
    "# pct change and drop the first null observation\n",
    "returns = adjClose.pct_change(1).iloc[1:, :]\n",
    "returns = returns  - np.diag(riskFree.values) @ np.ones_like(returns.values) # risk adjusted returns\n",
    "# Align the price table to the asset and factor returns tables by discarding the first observation.\n",
    "adjClose = adjClose.iloc[1:,:]"
   ],
   "metadata": {
    "collapsed": false,
    "ExecuteTime": {
     "end_time": "2024-02-26T02:46:33.620634700Z",
     "start_time": "2024-02-26T02:46:33.604203700Z"
    }
   }
  },
  {
   "cell_type": "code",
   "execution_count": 23,
   "outputs": [],
   "source": [
    "assert adjClose.index[0] == returns.index[0]\n",
    "assert adjClose.index[0] == factorRet.index[0]"
   ],
   "metadata": {
    "collapsed": false,
    "ExecuteTime": {
     "end_time": "2024-02-26T02:46:33.634047600Z",
     "start_time": "2024-02-26T02:46:33.619609500Z"
    }
   }
  },
  {
   "cell_type": "markdown",
   "source": [
    "# 2. Run your program\n",
    "\n",
    "This section will run your Project1_Function in a loop. The data will be loaded progressively as a growing window of historical observations.\n",
    "Rebalancing will take place after every loop\n",
    "\n",
    "### 2.1 Some Standard Allocation Strategies"
   ],
   "metadata": {
    "collapsed": false
   }
  },
  {
   "cell_type": "code",
   "execution_count": 30,
   "outputs": [],
   "source": [
    "# Some strategies (uncomment this or the next cell to pick a strategy to test)\n",
    "# Strategy = general_strategy(sample_estimator, MVO, NumObs=48)  #the general strategy object takes an estimator function and an optimizer function\n",
    "#                                                                #the only constraint is that the estimators outputs are the optimizers inputs\n",
    "# investor preferences (static throughout the backtest)\n",
    "run = 'SunJan212024'\n",
    "hyperparam_search = False # True if model has hyperparams\n",
    "optimizer = CardMVO # CardMVO , MVO\n",
    "estimator = exponential_weighted_estimator_shrinkage #\n",
    "EstNumObs = 750\n",
    "k = 6*20 #estimation horizon\n",
    "alpha= 1 - 0.990 #estimation decay\n",
    "return_premium = 1 #optimization premium\n",
    "\n",
    "turnover_constraints = True\n",
    "turnover_limit = 0.75 # 0.75, 1, 1.25\n",
    "cardinality_ratio = 0.1 #optimization\n",
    "\n",
    "MipGap = 0.05 # for portfolio optimizer\n",
    "limit_time = 20 # for portfolio optimizer\n",
    "\n",
    "target_return_strategy = premium_target # for portfolio optimizer to calculate return target\n",
    "# mean_target, premium_target, ticker_return_target\n",
    "target_return_strategy_args = ['premium'] # args for the return strategy\n",
    "\n",
    "bigMStrategy = ClassWgtHyperparameterBigMStrategyV2 #objectiveBigMStrategy #objectiveBigMStrategyTightening , objectiveBigMStrategy\n",
    "\n",
    "bigM_limit_time=20 # for the feasible solution used to calculate big M\n",
    "bigM_MipGap=0.05 # for the feasible solution used to calculate big M\n",
    "bigM_SolutionLimit=10 # for the feasible solution used to calculate big <\n",
    "\n",
    "SkipSOCP = True # flag to skip the SOCP\n",
    "tightening_iter_lim = 1 # number of iterations of tightening to do\n",
    "\n",
    "SVMMVO_bigM_time_limit = 5 # for computing a better solution in the tightening strategy\n",
    "SVMMVO_MipGap=0.1 # for computing a better solution in the tightening strategy\n",
    "SVMMVO_SolutionLimit=5 # for computing a better solution in the tightening strategy\n",
    "\n",
    "SOCP_limit_time=10 # time limit for the SOCP's\n",
    "\n",
    "ticker_index = tickers.get_loc(ticker_str) # the ticker we want to compare to if\n",
    "#  we are using the ticker_return_target strategy\n",
    "\n",
    "q = 20 #subset of features\n",
    "\n",
    "C = 0.1 # separation importance\n",
    "epsilon = 0.1 # regularization amount for SVM\n",
    "\n",
    "separable = False # do not restrict the hyperplane to be separable\n",
    "\n",
    "LogToConsole = False # display optimization results in the console\n",
    "Verbose = False # print statements\n",
    "\n",
    "hyperparams = {'C': list(np.geomspace(0.1, 100, 4)), 'epsilon': list(np.geomspace(0.1, 100, 4))} # hyperparams for hyperparam search\n",
    "#q_alpha = 0.3187 # alpha for Q(t, a) = (1 - q_alpha) Q(t-1. a) + R(t, a)\n",
    "q_alpha = 0.6838\n",
    "\n",
    "kappa = 1.6 # 10 % risk/turnover tolerance plan: 0.1, 0.2, 0.4, 0.8, 1.6 (0.6, 1.0)\n",
    "\n",
    "investor_preferences = {'k':k, # horizon\n",
    "                        'alpha':alpha, # decay\n",
    "                        'premium':return_premium, # return premium preference\n",
    "                        'EstNumObs':EstNumObs,\n",
    "                        'ticker_index':ticker_index, # benchmark index for comparison used in place of return premium depending on the investors function to set r_min\n",
    "                        'target_return_strategy':target_return_strategy, # strategy for setting return\n",
    "                        'target_return_strategy_args': target_return_strategy_args, # args for return setting strategy\n",
    "                        'turnover_limit':turnover_limit, # turnover limit\n",
    "                        'turnover_constraints':turnover_constraints, # turnover limit choice (Y/N)\n",
    "                        'cardinality_ratio': cardinality_ratio, # Pct of assets to invest in\n",
    "                        'MipGap' : MipGap, 'limit_time':limit_time, # problem solving limits\n",
    "    \n",
    "                        'bigMStrategy':bigMStrategy,\n",
    "                        'bigM_limit_time':bigM_limit_time,\n",
    "                        'bigM_MipGap':bigM_MipGap,\n",
    "                        'bigM_SolutionLimit':bigM_SolutionLimit,\n",
    "\n",
    "                        'SkipSOCP':SkipSOCP,\n",
    "                        'tightening_iter_lim':tightening_iter_lim,\n",
    "\n",
    "                        'SVMMVO_bigM_time_limit':SVMMVO_bigM_time_limit,\n",
    "                        'SVMMVO_MipGap':SVMMVO_MipGap,\n",
    "                        'SVMMVO_SolutionLimit':SVMMVO_SolutionLimit,\n",
    "\n",
    "                        'SOCP_limit_time':SOCP_limit_time,\n",
    "                        'q':q,\n",
    "                        'C':C,\n",
    "                        'epsilon':epsilon,\n",
    "                        'separable':separable,\n",
    "                        'LogToConsole':LogToConsole,\n",
    "                        'Verbose':Verbose,\n",
    "                        'hyperparams':hyperparams,\n",
    "                        'q_alpha':q_alpha,\n",
    "                        'kappa':kappa}\n"
   ],
   "metadata": {
    "collapsed": false,
    "ExecuteTime": {
     "end_time": "2024-03-05T00:16:52.671351100Z",
     "start_time": "2024-03-05T00:16:52.647009400Z"
    }
   }
  },
  {
   "cell_type": "markdown",
   "source": [
    "\n"
   ],
   "metadata": {
    "collapsed": false
   }
  },
  {
   "cell_type": "code",
   "execution_count": 31,
   "outputs": [
    {
     "name": "stdout",
     "output_type": "stream",
     "text": [
      "Experiments//ETF//CardMVO\n"
     ]
    }
   ],
   "source": [
    "if optimizer.__name__ == 'CardMVO':\n",
    "    path = \"Experiments//\"+universe+\"//\"+optimizer.__name__\n",
    "    print(path)\n",
    "elif optimizer.__name__ == 'SVMMVO':\n",
    "    path = \"Experiments//\"+universe+\"//\"+optimizer.__name__+\"//\"+str(q)\n",
    "    print(path)\n",
    "elif optimizer.__name__ == 'ClassWgtSVMMVO':\n",
    "    path = \"Experiments//\"+universe+\"//\"+optimizer.__name__+\"//\"+str(q)\n",
    "    print(path)\n",
    "else:\n",
    "    raise Exception(\"Model Type not supported for these experiments\")\n",
    "df = init_dataframe(investor_preferences, path)"
   ],
   "metadata": {
    "collapsed": false,
    "ExecuteTime": {
     "end_time": "2024-03-05T00:16:55.362123Z",
     "start_time": "2024-03-05T00:16:53.975877600Z"
    }
   }
  },
  {
   "cell_type": "code",
   "execution_count": 32,
   "outputs": [
    {
     "name": "stdout",
     "output_type": "stream",
     "text": [
      "Testing configuration  (1, 1.25)\n",
      "Test Start 2008-06-30 00:00:00\n",
      "Test End 2008-11-30 00:00:00\n",
      "Calibration End 2008-06-29 00:00:00\n",
      "Set parameter TimeLimit to value 20\n",
      "Set parameter MIPGap to value 0.05\n",
      "Set parameter TimeLimit to value 20\n",
      "Set parameter MIPGap to value 0.05\n",
      "Set parameter TimeLimit to value 20\n",
      "Set parameter MIPGap to value 0.05\n",
      "Set parameter TimeLimit to value 20\n",
      "Set parameter MIPGap to value 0.05\n",
      "Set parameter TimeLimit to value 20\n",
      "Set parameter MIPGap to value 0.05\n",
      "Set parameter TimeLimit to value 20\n",
      "Set parameter MIPGap to value 0.05\n",
      "Set parameter TimeLimit to value 20\n",
      "Set parameter MIPGap to value 0.05\n",
      "Set parameter TimeLimit to value 20\n",
      "Set parameter MIPGap to value 0.05\n",
      "Set parameter TimeLimit to value 20\n",
      "Set parameter MIPGap to value 0.05\n",
      "Set parameter TimeLimit to value 20\n",
      "Set parameter MIPGap to value 0.05\n",
      "Set parameter TimeLimit to value 20\n",
      "Set parameter MIPGap to value 0.05\n",
      "Set parameter TimeLimit to value 20\n",
      "Set parameter MIPGap to value 0.05\n",
      "Set parameter TimeLimit to value 20\n",
      "Set parameter MIPGap to value 0.05\n",
      "Set parameter TimeLimit to value 20\n",
      "Set parameter MIPGap to value 0.05\n",
      "Set parameter TimeLimit to value 20\n",
      "Set parameter MIPGap to value 0.05\n",
      "Set parameter TimeLimit to value 20\n",
      "Set parameter MIPGap to value 0.05\n",
      "Set parameter TimeLimit to value 20\n",
      "Set parameter MIPGap to value 0.05\n",
      "Set parameter TimeLimit to value 20\n",
      "Set parameter MIPGap to value 0.05\n",
      "Set parameter TimeLimit to value 20\n",
      "Set parameter MIPGap to value 0.05\n",
      "Set parameter TimeLimit to value 20\n",
      "Set parameter MIPGap to value 0.05\n",
      "Set parameter TimeLimit to value 20\n",
      "Set parameter MIPGap to value 0.05\n",
      "Set parameter TimeLimit to value 20\n",
      "Set parameter MIPGap to value 0.05\n",
      "Set parameter TimeLimit to value 20\n",
      "Set parameter MIPGap to value 0.05\n",
      "Set parameter TimeLimit to value 20\n",
      "Set parameter MIPGap to value 0.05\n",
      "Set parameter TimeLimit to value 20\n",
      "Set parameter MIPGap to value 0.05\n",
      "Set parameter TimeLimit to value 20\n",
      "Set parameter MIPGap to value 0.05\n",
      "Set parameter TimeLimit to value 20\n",
      "Set parameter MIPGap to value 0.05\n",
      "Set parameter TimeLimit to value 20\n",
      "Set parameter MIPGap to value 0.05\n",
      "Set parameter TimeLimit to value 20\n",
      "Set parameter MIPGap to value 0.05\n",
      "Completed configuration  (1, 1.25)\n"
     ]
    }
   ],
   "source": [
    "from IPython.display import clear_output\n",
    "\n",
    "kappas = [0.0125, 0.025, 0.05, 0.1, 0.2, 0.4, 0.8, 1.6]\n",
    "cardinality_ratios = [0.01, 0.03, 0.05, 0.07, 0.09, 0.1, 0.2, 0.4, 0.6, 0.8, 1] #[0.07, 0.1, 0.2, 0.4, 0.6, 0.8] # includes mvo\n",
    "turnover_limits = [0.75, 1, 1.25]\n",
    "\n",
    "for cardinality_ratio, turnover_limit in product(cardinality_ratios, turnover_limits):\n",
    "    \n",
    "    clear_output(wait=True)\n",
    "\n",
    "    # initialize strategy\n",
    "    investor_preferences['turnover_limit'] = turnover_limit # turnover limit\n",
    "    investor_preferences['cardinality_ratio'] = cardinality_ratio\n",
    "    investor_preferences['kappa'] = kappa\n",
    "    \n",
    "    Strategy = general_strategy(estimator, optimizer,\n",
    "                                investor_preferences = investor_preferences)\n",
    "\n",
    "    Strategy.extract_estimation_info = populate_exponential_weighted_estimator_shrinkage\n",
    "    Strategy.extract_optimization_info = populate_kwargs\n",
    "\n",
    "    env = environment()\n",
    "\n",
    "    # Start of out-of-sample test period\n",
    "    testStart = returns.index[0] + pd.offsets.DateOffset(years=2)\n",
    "\n",
    "    # End of the first investment period\n",
    "    # testEnd = testStart + pd.offsets.DateOffset(months=investPeriod) - pd.offsets.DateOffset(days = 1)\n",
    "    testEnd = testStart + pd.offsets.MonthBegin(investPeriod) - pd.offsets.DateOffset(days = 1)\n",
    "\n",
    "    # End of calibration period\n",
    "    calEnd = testStart -  pd.offsets.DateOffset(days = 1)\n",
    "    print(\"Testing configuration \", (cardinality_ratio, turnover_limit))\n",
    "    print(\"Test Start\", testStart)\n",
    "    print(\"Test End\", testEnd)\n",
    "    print(\"Calibration End\", calEnd)\n",
    "\n",
    "    # Total number of investment periods\n",
    "    NoPeriods = math.ceil((returns.index[-1].to_period('M') - testStart.to_period('M')).n / investPeriod)\n",
    "    n = len(tickers)\n",
    "\n",
    "    portfValue, elapsed_time, turnover, x, backtest_results, hyperparam_hist = execute_backtest(env, Strategy, tickers, returns, factorRet, ContextualInfo,\n",
    "                     adjClose, daily_adjClose, NoPeriods, testStart, testEnd, calEnd, initialVal,\n",
    "                     investPeriod, hyperparam_search = hyperparam_search)\n",
    "    print(\"Completed configuration \", (cardinality_ratio, turnover_limit))\n",
    "    \n",
    "    df, uid = add_to_data_dict(path, df, run, estimator,\n",
    "                 optimizer, universe,\n",
    "                 imputation_method, ticker_str,\n",
    "                 hyperparam_search, NoPeriods, investor_preferences)\n",
    "\n",
    "    export_experimental_results(path, uid, portfValue, elapsed_time, x, turnover)\n",
    "    export_dict(path, uid, backtest_results, 'backtest_results')\n",
    "    export_dict(path, uid, hyperparam_hist, 'hyperparam_hist')\n",
    "\n",
    "    del env\n",
    "    del Strategy"
   ],
   "metadata": {
    "collapsed": false,
    "pycharm": {
     "is_executing": true
    }
   }
  },
  {
   "cell_type": "code",
   "execution_count": 36,
   "outputs": [],
   "source": [
    "curr_df = pd.read_pickle(path+\"//data_dictionary.pkl\")\n",
    "# add experiment info to the data dict\n",
    "df = pd.concat([df, curr_df], axis = 0)\n",
    "\n",
    "df.drop_duplicates(inplace = True)\n",
    "df.to_pickle(path+\"//data_dictionary.pkl\")"
   ],
   "metadata": {
    "collapsed": false,
    "pycharm": {
     "is_executing": true
    },
    "ExecuteTime": {
     "end_time": "2024-03-05T00:20:38.736123100Z",
     "start_time": "2024-03-05T00:20:38.723121800Z"
    }
   }
  },
  {
   "cell_type": "code",
   "execution_count": 37,
   "outputs": [
    {
     "data": {
      "text/plain": "array(['0.01', '0.03', '0.05', '0.07', '0.1', '1', '0.02', '0.09', '0.2',\n       '0.4', '0.6', '0.8'], dtype=object)"
     },
     "execution_count": 37,
     "metadata": {},
     "output_type": "execute_result"
    }
   ],
   "source": [
    "df.cardinality_ratio.unique()"
   ],
   "metadata": {
    "collapsed": false,
    "ExecuteTime": {
     "end_time": "2024-03-05T00:20:39.845990Z",
     "start_time": "2024-03-05T00:20:39.830721100Z"
    }
   }
  },
  {
   "cell_type": "code",
   "execution_count": 38,
   "outputs": [
    {
     "data": {
      "text/plain": "                                                                               uid  \\\n57a94fbeba5f9b8e6c1cb0f8729bfce709fc5b93  57a94fbeba5f9b8e6c1cb0f8729bfce709fc5b93   \ne8cfa8ed6dbac88b5ec04b335ceb3173e5fe22f2  e8cfa8ed6dbac88b5ec04b335ceb3173e5fe22f2   \n072055faabd386d78ceeaf47943a239dc0beb715  072055faabd386d78ceeaf47943a239dc0beb715   \n250ac35b1f90fbe617ff66f40eb7426326c38e16  250ac35b1f90fbe617ff66f40eb7426326c38e16   \n7bb8b280eae5dee880b49f7918d4b4dbec6a7631  7bb8b280eae5dee880b49f7918d4b4dbec6a7631   \n...                                                                            ...   \n9723fa530a35f50aa2c8dcb0a5e52406530db43b  9723fa530a35f50aa2c8dcb0a5e52406530db43b   \n41b6016ed633a051ce1eec6e43e60ddba6333981  41b6016ed633a051ce1eec6e43e60ddba6333981   \n5ef2735951c5decddcd640bd4a1feec398e4e7f4  5ef2735951c5decddcd640bd4a1feec398e4e7f4   \nda79e8636296c2f584cba06e5c245c0288ff76ba  da79e8636296c2f584cba06e5c245c0288ff76ba   \n1d2cc74f79216997e72f69fdfe1c45fd188e09bb  1d2cc74f79216997e72f69fdfe1c45fd188e09bb   \n\n                                                                         estimator  \\\n57a94fbeba5f9b8e6c1cb0f8729bfce709fc5b93  exponential_weighted_estimator_shrinkage   \ne8cfa8ed6dbac88b5ec04b335ceb3173e5fe22f2  exponential_weighted_estimator_shrinkage   \n072055faabd386d78ceeaf47943a239dc0beb715  exponential_weighted_estimator_shrinkage   \n250ac35b1f90fbe617ff66f40eb7426326c38e16  exponential_weighted_estimator_shrinkage   \n7bb8b280eae5dee880b49f7918d4b4dbec6a7631  exponential_weighted_estimator_shrinkage   \n...                                                                            ...   \n9723fa530a35f50aa2c8dcb0a5e52406530db43b  exponential_weighted_estimator_shrinkage   \n41b6016ed633a051ce1eec6e43e60ddba6333981  exponential_weighted_estimator_shrinkage   \n5ef2735951c5decddcd640bd4a1feec398e4e7f4  exponential_weighted_estimator_shrinkage   \nda79e8636296c2f584cba06e5c245c0288ff76ba  exponential_weighted_estimator_shrinkage   \n1d2cc74f79216997e72f69fdfe1c45fd188e09bb  exponential_weighted_estimator_shrinkage   \n\n                                         optimizer universe imputation_method  \\\n57a94fbeba5f9b8e6c1cb0f8729bfce709fc5b93   CardMVO      ETF        Univariate   \ne8cfa8ed6dbac88b5ec04b335ceb3173e5fe22f2   CardMVO      ETF        Univariate   \n072055faabd386d78ceeaf47943a239dc0beb715   CardMVO      ETF        Univariate   \n250ac35b1f90fbe617ff66f40eb7426326c38e16   CardMVO      ETF        Univariate   \n7bb8b280eae5dee880b49f7918d4b4dbec6a7631   CardMVO      ETF        Univariate   \n...                                            ...      ...               ...   \n9723fa530a35f50aa2c8dcb0a5e52406530db43b   CardMVO      ETF        Univariate   \n41b6016ed633a051ce1eec6e43e60ddba6333981   CardMVO      ETF        Univariate   \n5ef2735951c5decddcd640bd4a1feec398e4e7f4   CardMVO      ETF        Univariate   \nda79e8636296c2f584cba06e5c245c0288ff76ba   CardMVO      ETF        Univariate   \n1d2cc74f79216997e72f69fdfe1c45fd188e09bb   CardMVO      ETF        Univariate   \n\n                                         ticker_str hyperparam_search  \\\n57a94fbeba5f9b8e6c1cb0f8729bfce709fc5b93        SPY             False   \ne8cfa8ed6dbac88b5ec04b335ceb3173e5fe22f2        SPY             False   \n072055faabd386d78ceeaf47943a239dc0beb715        SPY             False   \n250ac35b1f90fbe617ff66f40eb7426326c38e16        SPY             False   \n7bb8b280eae5dee880b49f7918d4b4dbec6a7631        SPY             False   \n...                                             ...               ...   \n9723fa530a35f50aa2c8dcb0a5e52406530db43b        SPY             False   \n41b6016ed633a051ce1eec6e43e60ddba6333981        SPY             False   \n5ef2735951c5decddcd640bd4a1feec398e4e7f4        SPY             False   \nda79e8636296c2f584cba06e5c245c0288ff76ba        SPY             False   \n1d2cc74f79216997e72f69fdfe1c45fd188e09bb        SPY             False   \n\n                                         NoPeriods           run    C  ...  \\\n57a94fbeba5f9b8e6c1cb0f8729bfce709fc5b93        29  SunJan212024  0.1  ...   \ne8cfa8ed6dbac88b5ec04b335ceb3173e5fe22f2        29  SunJan212024  0.1  ...   \n072055faabd386d78ceeaf47943a239dc0beb715        29  SunJan212024  0.1  ...   \n250ac35b1f90fbe617ff66f40eb7426326c38e16        29  SunJan212024  0.1  ...   \n7bb8b280eae5dee880b49f7918d4b4dbec6a7631        29  SunJan212024  0.1  ...   \n...                                            ...           ...  ...  ...   \n9723fa530a35f50aa2c8dcb0a5e52406530db43b        29  SunJan212024  0.1  ...   \n41b6016ed633a051ce1eec6e43e60ddba6333981        29  SunJan212024  0.1  ...   \n5ef2735951c5decddcd640bd4a1feec398e4e7f4        29  SunJan212024  0.1  ...   \nda79e8636296c2f584cba06e5c245c0288ff76ba        29  SunJan212024  0.1  ...   \n1d2cc74f79216997e72f69fdfe1c45fd188e09bb        29  SunJan212024  0.1  ...   \n\n                                         premium   q q_alpha separable  \\\n57a94fbeba5f9b8e6c1cb0f8729bfce709fc5b93       1   3  0.6838     False   \ne8cfa8ed6dbac88b5ec04b335ceb3173e5fe22f2       1   3  0.6838     False   \n072055faabd386d78ceeaf47943a239dc0beb715       1   3  0.6838     False   \n250ac35b1f90fbe617ff66f40eb7426326c38e16       1   3  0.6838     False   \n7bb8b280eae5dee880b49f7918d4b4dbec6a7631       1   3  0.6838     False   \n...                                          ...  ..     ...       ...   \n9723fa530a35f50aa2c8dcb0a5e52406530db43b       1  20  0.6838     False   \n41b6016ed633a051ce1eec6e43e60ddba6333981       1  20  0.6838     False   \n5ef2735951c5decddcd640bd4a1feec398e4e7f4       1  20  0.6838     False   \nda79e8636296c2f584cba06e5c245c0288ff76ba       1  20  0.6838     False   \n1d2cc74f79216997e72f69fdfe1c45fd188e09bb       1  20  0.6838     False   \n\n                                         target_return_strategy  \\\n57a94fbeba5f9b8e6c1cb0f8729bfce709fc5b93         premium_target   \ne8cfa8ed6dbac88b5ec04b335ceb3173e5fe22f2         premium_target   \n072055faabd386d78ceeaf47943a239dc0beb715         premium_target   \n250ac35b1f90fbe617ff66f40eb7426326c38e16         premium_target   \n7bb8b280eae5dee880b49f7918d4b4dbec6a7631         premium_target   \n...                                                         ...   \n9723fa530a35f50aa2c8dcb0a5e52406530db43b         premium_target   \n41b6016ed633a051ce1eec6e43e60ddba6333981         premium_target   \n5ef2735951c5decddcd640bd4a1feec398e4e7f4         premium_target   \nda79e8636296c2f584cba06e5c245c0288ff76ba         premium_target   \n1d2cc74f79216997e72f69fdfe1c45fd188e09bb         premium_target   \n\n                                         target_return_strategy_args  \\\n57a94fbeba5f9b8e6c1cb0f8729bfce709fc5b93                 ['premium']   \ne8cfa8ed6dbac88b5ec04b335ceb3173e5fe22f2                 ['premium']   \n072055faabd386d78ceeaf47943a239dc0beb715                 ['premium']   \n250ac35b1f90fbe617ff66f40eb7426326c38e16                 ['premium']   \n7bb8b280eae5dee880b49f7918d4b4dbec6a7631                 ['premium']   \n...                                                              ...   \n9723fa530a35f50aa2c8dcb0a5e52406530db43b                 ['premium']   \n41b6016ed633a051ce1eec6e43e60ddba6333981                 ['premium']   \n5ef2735951c5decddcd640bd4a1feec398e4e7f4                 ['premium']   \nda79e8636296c2f584cba06e5c245c0288ff76ba                 ['premium']   \n1d2cc74f79216997e72f69fdfe1c45fd188e09bb                 ['premium']   \n\n                                         ticker_index tightening_iter_lim  \\\n57a94fbeba5f9b8e6c1cb0f8729bfce709fc5b93          250                   1   \ne8cfa8ed6dbac88b5ec04b335ceb3173e5fe22f2          250                   1   \n072055faabd386d78ceeaf47943a239dc0beb715          250                   1   \n250ac35b1f90fbe617ff66f40eb7426326c38e16          250                   1   \n7bb8b280eae5dee880b49f7918d4b4dbec6a7631          250                   1   \n...                                               ...                 ...   \n9723fa530a35f50aa2c8dcb0a5e52406530db43b          250                   1   \n41b6016ed633a051ce1eec6e43e60ddba6333981          250                   1   \n5ef2735951c5decddcd640bd4a1feec398e4e7f4          250                   1   \nda79e8636296c2f584cba06e5c245c0288ff76ba          250                   1   \n1d2cc74f79216997e72f69fdfe1c45fd188e09bb          250                   1   \n\n                                         turnover_constraints turnover_limit  \n57a94fbeba5f9b8e6c1cb0f8729bfce709fc5b93                 True           0.75  \ne8cfa8ed6dbac88b5ec04b335ceb3173e5fe22f2                 True              1  \n072055faabd386d78ceeaf47943a239dc0beb715                 True           1.25  \n250ac35b1f90fbe617ff66f40eb7426326c38e16                 True           0.75  \n7bb8b280eae5dee880b49f7918d4b4dbec6a7631                 True              1  \n...                                                       ...            ...  \n9723fa530a35f50aa2c8dcb0a5e52406530db43b                 True              1  \n41b6016ed633a051ce1eec6e43e60ddba6333981                 True           1.25  \n5ef2735951c5decddcd640bd4a1feec398e4e7f4                 True           0.75  \nda79e8636296c2f584cba06e5c245c0288ff76ba                 True              1  \n1d2cc74f79216997e72f69fdfe1c45fd188e09bb                 True           1.25  \n\n[66 rows x 40 columns]",
      "text/html": "<div>\n<style scoped>\n    .dataframe tbody tr th:only-of-type {\n        vertical-align: middle;\n    }\n\n    .dataframe tbody tr th {\n        vertical-align: top;\n    }\n\n    .dataframe thead th {\n        text-align: right;\n    }\n</style>\n<table border=\"1\" class=\"dataframe\">\n  <thead>\n    <tr style=\"text-align: right;\">\n      <th></th>\n      <th>uid</th>\n      <th>estimator</th>\n      <th>optimizer</th>\n      <th>universe</th>\n      <th>imputation_method</th>\n      <th>ticker_str</th>\n      <th>hyperparam_search</th>\n      <th>NoPeriods</th>\n      <th>run</th>\n      <th>C</th>\n      <th>...</th>\n      <th>premium</th>\n      <th>q</th>\n      <th>q_alpha</th>\n      <th>separable</th>\n      <th>target_return_strategy</th>\n      <th>target_return_strategy_args</th>\n      <th>ticker_index</th>\n      <th>tightening_iter_lim</th>\n      <th>turnover_constraints</th>\n      <th>turnover_limit</th>\n    </tr>\n  </thead>\n  <tbody>\n    <tr>\n      <th>57a94fbeba5f9b8e6c1cb0f8729bfce709fc5b93</th>\n      <td>57a94fbeba5f9b8e6c1cb0f8729bfce709fc5b93</td>\n      <td>exponential_weighted_estimator_shrinkage</td>\n      <td>CardMVO</td>\n      <td>ETF</td>\n      <td>Univariate</td>\n      <td>SPY</td>\n      <td>False</td>\n      <td>29</td>\n      <td>SunJan212024</td>\n      <td>0.1</td>\n      <td>...</td>\n      <td>1</td>\n      <td>3</td>\n      <td>0.6838</td>\n      <td>False</td>\n      <td>premium_target</td>\n      <td>['premium']</td>\n      <td>250</td>\n      <td>1</td>\n      <td>True</td>\n      <td>0.75</td>\n    </tr>\n    <tr>\n      <th>e8cfa8ed6dbac88b5ec04b335ceb3173e5fe22f2</th>\n      <td>e8cfa8ed6dbac88b5ec04b335ceb3173e5fe22f2</td>\n      <td>exponential_weighted_estimator_shrinkage</td>\n      <td>CardMVO</td>\n      <td>ETF</td>\n      <td>Univariate</td>\n      <td>SPY</td>\n      <td>False</td>\n      <td>29</td>\n      <td>SunJan212024</td>\n      <td>0.1</td>\n      <td>...</td>\n      <td>1</td>\n      <td>3</td>\n      <td>0.6838</td>\n      <td>False</td>\n      <td>premium_target</td>\n      <td>['premium']</td>\n      <td>250</td>\n      <td>1</td>\n      <td>True</td>\n      <td>1</td>\n    </tr>\n    <tr>\n      <th>072055faabd386d78ceeaf47943a239dc0beb715</th>\n      <td>072055faabd386d78ceeaf47943a239dc0beb715</td>\n      <td>exponential_weighted_estimator_shrinkage</td>\n      <td>CardMVO</td>\n      <td>ETF</td>\n      <td>Univariate</td>\n      <td>SPY</td>\n      <td>False</td>\n      <td>29</td>\n      <td>SunJan212024</td>\n      <td>0.1</td>\n      <td>...</td>\n      <td>1</td>\n      <td>3</td>\n      <td>0.6838</td>\n      <td>False</td>\n      <td>premium_target</td>\n      <td>['premium']</td>\n      <td>250</td>\n      <td>1</td>\n      <td>True</td>\n      <td>1.25</td>\n    </tr>\n    <tr>\n      <th>250ac35b1f90fbe617ff66f40eb7426326c38e16</th>\n      <td>250ac35b1f90fbe617ff66f40eb7426326c38e16</td>\n      <td>exponential_weighted_estimator_shrinkage</td>\n      <td>CardMVO</td>\n      <td>ETF</td>\n      <td>Univariate</td>\n      <td>SPY</td>\n      <td>False</td>\n      <td>29</td>\n      <td>SunJan212024</td>\n      <td>0.1</td>\n      <td>...</td>\n      <td>1</td>\n      <td>3</td>\n      <td>0.6838</td>\n      <td>False</td>\n      <td>premium_target</td>\n      <td>['premium']</td>\n      <td>250</td>\n      <td>1</td>\n      <td>True</td>\n      <td>0.75</td>\n    </tr>\n    <tr>\n      <th>7bb8b280eae5dee880b49f7918d4b4dbec6a7631</th>\n      <td>7bb8b280eae5dee880b49f7918d4b4dbec6a7631</td>\n      <td>exponential_weighted_estimator_shrinkage</td>\n      <td>CardMVO</td>\n      <td>ETF</td>\n      <td>Univariate</td>\n      <td>SPY</td>\n      <td>False</td>\n      <td>29</td>\n      <td>SunJan212024</td>\n      <td>0.1</td>\n      <td>...</td>\n      <td>1</td>\n      <td>3</td>\n      <td>0.6838</td>\n      <td>False</td>\n      <td>premium_target</td>\n      <td>['premium']</td>\n      <td>250</td>\n      <td>1</td>\n      <td>True</td>\n      <td>1</td>\n    </tr>\n    <tr>\n      <th>...</th>\n      <td>...</td>\n      <td>...</td>\n      <td>...</td>\n      <td>...</td>\n      <td>...</td>\n      <td>...</td>\n      <td>...</td>\n      <td>...</td>\n      <td>...</td>\n      <td>...</td>\n      <td>...</td>\n      <td>...</td>\n      <td>...</td>\n      <td>...</td>\n      <td>...</td>\n      <td>...</td>\n      <td>...</td>\n      <td>...</td>\n      <td>...</td>\n      <td>...</td>\n      <td>...</td>\n    </tr>\n    <tr>\n      <th>9723fa530a35f50aa2c8dcb0a5e52406530db43b</th>\n      <td>9723fa530a35f50aa2c8dcb0a5e52406530db43b</td>\n      <td>exponential_weighted_estimator_shrinkage</td>\n      <td>CardMVO</td>\n      <td>ETF</td>\n      <td>Univariate</td>\n      <td>SPY</td>\n      <td>False</td>\n      <td>29</td>\n      <td>SunJan212024</td>\n      <td>0.1</td>\n      <td>...</td>\n      <td>1</td>\n      <td>20</td>\n      <td>0.6838</td>\n      <td>False</td>\n      <td>premium_target</td>\n      <td>['premium']</td>\n      <td>250</td>\n      <td>1</td>\n      <td>True</td>\n      <td>1</td>\n    </tr>\n    <tr>\n      <th>41b6016ed633a051ce1eec6e43e60ddba6333981</th>\n      <td>41b6016ed633a051ce1eec6e43e60ddba6333981</td>\n      <td>exponential_weighted_estimator_shrinkage</td>\n      <td>CardMVO</td>\n      <td>ETF</td>\n      <td>Univariate</td>\n      <td>SPY</td>\n      <td>False</td>\n      <td>29</td>\n      <td>SunJan212024</td>\n      <td>0.1</td>\n      <td>...</td>\n      <td>1</td>\n      <td>20</td>\n      <td>0.6838</td>\n      <td>False</td>\n      <td>premium_target</td>\n      <td>['premium']</td>\n      <td>250</td>\n      <td>1</td>\n      <td>True</td>\n      <td>1.25</td>\n    </tr>\n    <tr>\n      <th>5ef2735951c5decddcd640bd4a1feec398e4e7f4</th>\n      <td>5ef2735951c5decddcd640bd4a1feec398e4e7f4</td>\n      <td>exponential_weighted_estimator_shrinkage</td>\n      <td>CardMVO</td>\n      <td>ETF</td>\n      <td>Univariate</td>\n      <td>SPY</td>\n      <td>False</td>\n      <td>29</td>\n      <td>SunJan212024</td>\n      <td>0.1</td>\n      <td>...</td>\n      <td>1</td>\n      <td>20</td>\n      <td>0.6838</td>\n      <td>False</td>\n      <td>premium_target</td>\n      <td>['premium']</td>\n      <td>250</td>\n      <td>1</td>\n      <td>True</td>\n      <td>0.75</td>\n    </tr>\n    <tr>\n      <th>da79e8636296c2f584cba06e5c245c0288ff76ba</th>\n      <td>da79e8636296c2f584cba06e5c245c0288ff76ba</td>\n      <td>exponential_weighted_estimator_shrinkage</td>\n      <td>CardMVO</td>\n      <td>ETF</td>\n      <td>Univariate</td>\n      <td>SPY</td>\n      <td>False</td>\n      <td>29</td>\n      <td>SunJan212024</td>\n      <td>0.1</td>\n      <td>...</td>\n      <td>1</td>\n      <td>20</td>\n      <td>0.6838</td>\n      <td>False</td>\n      <td>premium_target</td>\n      <td>['premium']</td>\n      <td>250</td>\n      <td>1</td>\n      <td>True</td>\n      <td>1</td>\n    </tr>\n    <tr>\n      <th>1d2cc74f79216997e72f69fdfe1c45fd188e09bb</th>\n      <td>1d2cc74f79216997e72f69fdfe1c45fd188e09bb</td>\n      <td>exponential_weighted_estimator_shrinkage</td>\n      <td>CardMVO</td>\n      <td>ETF</td>\n      <td>Univariate</td>\n      <td>SPY</td>\n      <td>False</td>\n      <td>29</td>\n      <td>SunJan212024</td>\n      <td>0.1</td>\n      <td>...</td>\n      <td>1</td>\n      <td>20</td>\n      <td>0.6838</td>\n      <td>False</td>\n      <td>premium_target</td>\n      <td>['premium']</td>\n      <td>250</td>\n      <td>1</td>\n      <td>True</td>\n      <td>1.25</td>\n    </tr>\n  </tbody>\n</table>\n<p>66 rows × 40 columns</p>\n</div>"
     },
     "execution_count": 38,
     "metadata": {},
     "output_type": "execute_result"
    }
   ],
   "source": [
    "df"
   ],
   "metadata": {
    "collapsed": false,
    "ExecuteTime": {
     "end_time": "2024-03-05T00:20:42.105125300Z",
     "start_time": "2024-03-05T00:20:42.088835100Z"
    }
   }
  },
  {
   "cell_type": "code",
   "execution_count": 16,
   "outputs": [],
   "source": [
    " "
   ],
   "metadata": {
    "collapsed": false,
    "ExecuteTime": {
     "end_time": "2024-02-22T06:27:55.505393Z",
     "start_time": "2024-02-22T06:27:55.458479700Z"
    }
   }
  }
 ],
 "metadata": {
  "kernelspec": {
   "display_name": "Python 3",
   "language": "python",
   "name": "python3"
  },
  "language_info": {
   "codemirror_mode": {
    "name": "ipython",
    "version": 2
   },
   "file_extension": ".py",
   "mimetype": "text/x-python",
   "name": "python",
   "nbconvert_exporter": "python",
   "pygments_lexer": "ipython2",
   "version": "2.7.6"
  }
 },
 "nbformat": 4,
 "nbformat_minor": 0
}
