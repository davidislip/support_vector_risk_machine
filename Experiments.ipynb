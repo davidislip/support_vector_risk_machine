{
 "cells": [
  {
   "cell_type": "markdown",
   "source": [
    "\n",
    "# Running the Experiments\n",
    "\n",
    "# 1. Read input files"
   ],
   "metadata": {
    "collapsed": false
   }
  },
  {
   "cell_type": "code",
   "execution_count": 23,
   "outputs": [
    {
     "name": "stdout",
     "output_type": "stream",
     "text": [
      "['asset_id', 'currency_id', 'equities_series', 'equity_index_id', 'exchange_id', 'factor_id', 'factors', 'frequency_id', 'fundamentals', 'metric_id', 'source_id', 'ticker_id', 'ticker_index_membership', 'tiingo_tickers']\n"
     ]
    }
   ],
   "source": [
    "import time\n",
    "import math\n",
    "\n",
    "import numpy as np\n",
    "import pandas as pd\n",
    "from itertools import product\n",
    "from Database.services.database import Database\n",
    "from sqlalchemy import inspect\n",
    "from services.data_retreival import *\n",
    "from scipy.stats import gmean\n",
    "import matplotlib.pyplot as plt\n",
    "from services.strategies import *\n",
    "from services.optimization_layers import *\n",
    "from services.optimization import *\n",
    "from services.binary_optimization import *\n",
    "from services.environment_functions import *\n",
    "from services.big_m_strategies import *\n",
    "from services.experiments import *\n",
    "from services.class_weighted_bigM import *\n",
    "from services.class_weighted_models import *\n",
    "\n",
    "Database.initialize(\"sqlite:///Database//financial_db.sqlite\") #for courses replace this with a flat file\n",
    "inspector = inspect(Database.engine)\n",
    "print(inspector.get_table_names())\n",
    "\n",
    "universe = 'ETF'\n",
    "imputation_method = 'Univariate'\n",
    "ticker_str = 'SPY'\n",
    "#exponential params\n",
    "\n",
    "\n",
    "adjClose = pd.read_csv(\"flat_files/MonthlyAssetPrices\"+ universe + \".csv\", index_col=0, header = 1).iloc[1:,:]\n",
    "\n",
    "daily_adjClose =  pd.read_csv(\"flat_files/DailyAssetPrices\"+universe + \".csv\", index_col=0, header = 1).iloc[1:,:]\n",
    "\n",
    "TechnicalAnalysis = pd.read_csv(\"flat_files/TechnicalAnalysis\" + universe + \".csv\", index_col=[0,1])\n",
    "\n",
    "if universe ==  'SP':\n",
    "    FinancialRatios = pd.read_csv(\"flat_files/\" + imputation_method + \"WRDS.csv\", index_col=[0,1])\n",
    "    TechnicalAnalysis.index.names = FinancialRatios.index.names\n",
    "    ContextualInfo = TechnicalAnalysis.merge(FinancialRatios, how = 'left', left_index=True, right_index=True)\n",
    "\n",
    "else:\n",
    "    TechnicalAnalysis.index.names = ['date', 'ticker']\n",
    "    ContextualInfo = TechnicalAnalysis\n"
   ],
   "metadata": {
    "collapsed": false,
    "ExecuteTime": {
     "end_time": "2024-03-21T13:53:04.206044500Z",
     "start_time": "2024-03-21T13:53:03.148835200Z"
    }
   }
  },
  {
   "cell_type": "code",
   "execution_count": 24,
   "outputs": [],
   "source": [
    "adjClose.index = pd.to_datetime(adjClose.index, format='%Y-%m-%d').tz_localize(None)\n",
    "daily_adjClose.index = pd.to_datetime(daily_adjClose.index, format='%Y-%m-%d').tz_localize(None)\n",
    "ContextualInfo.index = ContextualInfo.index.set_levels([pd.to_datetime(ContextualInfo.index.levels[0]).tz_localize(None), ContextualInfo.index.levels[1]])"
   ],
   "metadata": {
    "collapsed": false,
    "ExecuteTime": {
     "end_time": "2024-03-21T13:53:04.222766700Z",
     "start_time": "2024-03-21T13:53:04.216518300Z"
    }
   }
  },
  {
   "cell_type": "code",
   "execution_count": 25,
   "outputs": [
    {
     "name": "stdout",
     "output_type": "stream",
     "text": [
      "The earliest possible start date\n"
     ]
    },
    {
     "data": {
      "text/plain": "Timestamp('2006-01-31 00:00:00')"
     },
     "execution_count": 25,
     "metadata": {},
     "output_type": "execute_result"
    }
   ],
   "source": [
    "print(\"The earliest possible start date\")\n",
    "max(daily_adjClose.index.unique()[0], ContextualInfo.index.get_level_values('date').unique()[0], adjClose.index.unique()[0])"
   ],
   "metadata": {
    "collapsed": false,
    "ExecuteTime": {
     "end_time": "2024-03-21T13:53:04.246600500Z",
     "start_time": "2024-03-21T13:53:04.224854500Z"
    }
   }
  },
  {
   "cell_type": "code",
   "execution_count": 26,
   "outputs": [
    {
     "name": "stdout",
     "output_type": "stream",
     "text": [
      "The latest possible start date\n"
     ]
    },
    {
     "data": {
      "text/plain": "Timestamp('2023-04-21 00:00:00')"
     },
     "execution_count": 26,
     "metadata": {},
     "output_type": "execute_result"
    }
   ],
   "source": [
    "print(\"The latest possible start date\")\n",
    "min(daily_adjClose.index.unique()[-1], ContextualInfo.index.get_level_values('date').unique()[-1], adjClose.index.unique()[-1])"
   ],
   "metadata": {
    "collapsed": false,
    "ExecuteTime": {
     "end_time": "2024-03-21T13:53:04.288332100Z",
     "start_time": "2024-03-21T13:53:04.249715100Z"
    }
   }
  },
  {
   "cell_type": "code",
   "execution_count": 27,
   "outputs": [],
   "source": [
    "# start_date = pd.to_datetime('1996-11-30', format = '%Y-%m-%d')\n",
    "# \n",
    "# end_date = pd.to_datetime('2022-12-31', format = '%Y-%m-%d')\n",
    "\n",
    "start_date = pd.to_datetime('2006-05-31', format = '%Y-%m-%d')\n",
    "\n",
    "end_date = pd.to_datetime('2022-12-31', format = '%Y-%m-%d')\n",
    "\n",
    "factors = ('Mkt-RF', 'RF')\n",
    "\n",
    "factorRet = get_monthly_factors(factors, start_date, end_date, Database)\n",
    "\n",
    "factorRet = factorRet.droplevel(0, axis = 1)\n",
    "factorRet.columns = [col.strip() for col in factorRet.columns]"
   ],
   "metadata": {
    "collapsed": false,
    "ExecuteTime": {
     "end_time": "2024-03-21T13:53:07.712895Z",
     "start_time": "2024-03-21T13:53:04.417066400Z"
    }
   }
  },
  {
   "cell_type": "code",
   "execution_count": 28,
   "outputs": [],
   "source": [
    "adjClose = adjClose[start_date:end_date]\n",
    "daily_adjClose = daily_adjClose[start_date:end_date]\n",
    "idx = pd.IndexSlice\n",
    "ContextualInfo = ContextualInfo.loc[idx[start_date:end_date, :], :]"
   ],
   "metadata": {
    "collapsed": false,
    "ExecuteTime": {
     "end_time": "2024-03-21T13:53:07.744274200Z",
     "start_time": "2024-03-21T13:53:07.715985200Z"
    }
   }
  },
  {
   "cell_type": "code",
   "execution_count": 29,
   "outputs": [],
   "source": [
    "# Initial budget to invest ($100,000)\n",
    "initialVal = 100000\n",
    "\n",
    "# Length of investment period (in months) - but actually units of data\n",
    "investPeriod = 6\n",
    "\n",
    "# divide the factor returns by 100\n",
    "factorRet = factorRet/100\n",
    "\n",
    "#rf and factor returns\n",
    "#drop the first observation to align the dataset with the returns data that will\n",
    "#result\n",
    "factorRet = factorRet.iloc[1:, :]\n",
    "\n",
    "#rf and factor returns\n",
    "riskFree = factorRet['RF']\n",
    "factorRet = factorRet.loc[:,factorRet.columns != 'RF'];"
   ],
   "metadata": {
    "collapsed": false,
    "ExecuteTime": {
     "end_time": "2024-03-21T13:53:07.758784700Z",
     "start_time": "2024-03-21T13:53:07.749367100Z"
    }
   }
  },
  {
   "cell_type": "code",
   "execution_count": 30,
   "outputs": [],
   "source": [
    "#Identify the tickers and the dates\n",
    "tickers = adjClose.columns\n",
    "dates   = factorRet.index"
   ],
   "metadata": {
    "collapsed": false,
    "ExecuteTime": {
     "end_time": "2024-03-21T13:53:07.784680700Z",
     "start_time": "2024-03-21T13:53:07.762849300Z"
    }
   }
  },
  {
   "cell_type": "code",
   "execution_count": 31,
   "outputs": [],
   "source": [
    "# Calculate the stocks monthly excess returns\n",
    "# pct change and drop the first null observation\n",
    "returns = adjClose.pct_change(1).iloc[1:, :]\n",
    "returns = returns  - np.diag(riskFree.values) @ np.ones_like(returns.values) # risk adjusted returns\n",
    "# Align the price table to the asset and factor returns tables by discarding the first observation.\n",
    "adjClose = adjClose.iloc[1:,:]"
   ],
   "metadata": {
    "collapsed": false,
    "ExecuteTime": {
     "end_time": "2024-03-21T13:53:07.797527300Z",
     "start_time": "2024-03-21T13:53:07.780492100Z"
    }
   }
  },
  {
   "cell_type": "code",
   "execution_count": 32,
   "outputs": [],
   "source": [
    "assert adjClose.index[0] == returns.index[0]\n",
    "assert adjClose.index[0] == factorRet.index[0]"
   ],
   "metadata": {
    "collapsed": false,
    "ExecuteTime": {
     "end_time": "2024-03-21T13:53:07.825302400Z",
     "start_time": "2024-03-21T13:53:07.799725300Z"
    }
   }
  },
  {
   "cell_type": "markdown",
   "source": [
    "# 2. Run your program\n",
    "\n",
    "This section will run your Project1_Function in a loop. The data will be loaded progressively as a growing window of historical observations.\n",
    "Rebalancing will take place after every loop\n",
    "\n",
    "### 2.1 Some Standard Allocation Strategies"
   ],
   "metadata": {
    "collapsed": false
   }
  },
  {
   "cell_type": "code",
   "execution_count": 33,
   "outputs": [],
   "source": [
    "# Some strategies (uncomment this or the next cell to pick a strategy to test)\n",
    "# Strategy = general_strategy(sample_estimator, MVO, NumObs=48)  #the general strategy object takes an estimator function and an optimizer function\n",
    "#                                                                #the only constraint is that the estimators outputs are the optimizers inputs\n",
    "# investor preferences (static throughout the backtest)\n",
    "run = 'SunJan212024'\n",
    "hyperparam_search = False # True if model has hyperparams\n",
    "optimizer = CardMVO #ClassWgtSVMMVO # CardMVO , MVO\n",
    "estimator = exponential_weighted_estimator_shrinkage #\n",
    "EstNumObs = 750\n",
    "k = 6*20 #estimation horizon\n",
    "alpha= 1 - 0.990 #estimation decay\n",
    "return_premium = 0.25 #optimization premium\n",
    "\n",
    "turnover_constraints = True\n",
    "turnover_limit = 0.75 # 0.75, 1, 1.25\n",
    "cardinality_ratio = 0.1 #optimization\n",
    "\n",
    "MipGap = 0.05 # for portfolio optimizer\n",
    "limit_time = 20 # for portfolio optimizer\n",
    "\n",
    "target_return_strategy = premium_target # for portfolio optimizer to calculate return target\n",
    "# mean_target, premium_target, ticker_return_target\n",
    "target_return_strategy_args = ['premium'] # args for the return strategy\n",
    "\n",
    "bigMStrategy = ClassWgtHyperparameterBigMStrategyV2 #objectiveBigMStrategy #objectiveBigMStrategyTightening , objectiveBigMStrategy\n",
    "\n",
    "bigM_limit_time=20 # for the feasible solution used to calculate big M\n",
    "bigM_MipGap=0.05 # for the feasible solution used to calculate big M\n",
    "bigM_SolutionLimit=10 # for the feasible solution used to calculate big <\n",
    "\n",
    "SkipSOCP = True # flag to skip the SOCP\n",
    "tightening_iter_lim = 1 # number of iterations of tightening to do\n",
    "\n",
    "SVMMVO_bigM_time_limit = 5 # for computing a better solution in the tightening strategy\n",
    "SVMMVO_MipGap=0.1 # for computing a better solution in the tightening strategy\n",
    "SVMMVO_SolutionLimit=5 # for computing a better solution in the tightening strategy\n",
    "\n",
    "SOCP_limit_time=10 # time limit for the SOCP's\n",
    "\n",
    "ticker_index = tickers.get_loc(ticker_str) # the ticker we want to compare to if\n",
    "#  we are using the ticker_return_target strategy\n",
    "\n",
    "q = 20 #subset of features\n",
    "\n",
    "C = 0.1 # separation importance\n",
    "epsilon = 0.1 # regularization amount for SVM\n",
    "\n",
    "separable = False # do not restrict the hyperplane to be separable\n",
    "\n",
    "LogToConsole = False # display optimization results in the console\n",
    "Verbose = False # print statements\n",
    "\n",
    "hyperparams = {'C': list(np.geomspace(0.1, 100, 4)), 'epsilon': list(np.geomspace(0.1, 100, 4))} # hyperparams for hyperparam search\n",
    "#q_alpha = 0.3187 # alpha for Q(t, a) = (1 - q_alpha) Q(t-1. a) + R(t, a)\n",
    "q_alpha = 0.6838\n",
    "\n",
    "kappa = 1.6 # 10 % risk/turnover tolerance plan: 0.1, 0.2, 0.4, 0.8, 1.6 (0.6, 1.0)\n",
    "\n",
    "investor_preferences = {'k':k, # horizon\n",
    "                        'alpha':alpha, # decay\n",
    "                        'premium':return_premium, # return premium preference\n",
    "                        'EstNumObs':EstNumObs,\n",
    "                        'ticker_index':ticker_index, # benchmark index for comparison used in place of return premium depending on the investors function to set r_min\n",
    "                        'target_return_strategy':target_return_strategy, # strategy for setting return\n",
    "                        'target_return_strategy_args': target_return_strategy_args, # args for return setting strategy\n",
    "                        'turnover_limit':turnover_limit, # turnover limit\n",
    "                        'turnover_constraints':turnover_constraints, # turnover limit choice (Y/N)\n",
    "                        'cardinality_ratio': cardinality_ratio, # Pct of assets to invest in\n",
    "                        'MipGap' : MipGap, 'limit_time':limit_time, # problem solving limits\n",
    "    \n",
    "                        'bigMStrategy':bigMStrategy,\n",
    "                        'bigM_limit_time':bigM_limit_time,\n",
    "                        'bigM_MipGap':bigM_MipGap,\n",
    "                        'bigM_SolutionLimit':bigM_SolutionLimit,\n",
    "\n",
    "                        'SkipSOCP':SkipSOCP,\n",
    "                        'tightening_iter_lim':tightening_iter_lim,\n",
    "\n",
    "                        'SVMMVO_bigM_time_limit':SVMMVO_bigM_time_limit,\n",
    "                        'SVMMVO_MipGap':SVMMVO_MipGap,\n",
    "                        'SVMMVO_SolutionLimit':SVMMVO_SolutionLimit,\n",
    "\n",
    "                        'SOCP_limit_time':SOCP_limit_time,\n",
    "                        'q':q,\n",
    "                        'C':C,\n",
    "                        'epsilon':epsilon,\n",
    "                        'separable':separable,\n",
    "                        'LogToConsole':LogToConsole,\n",
    "                        'Verbose':Verbose,\n",
    "                        'hyperparams':hyperparams,\n",
    "                        'q_alpha':q_alpha,\n",
    "                        'kappa':kappa}\n"
   ],
   "metadata": {
    "collapsed": false,
    "ExecuteTime": {
     "end_time": "2024-03-21T13:53:07.830099400Z",
     "start_time": "2024-03-21T13:53:07.823236600Z"
    }
   }
  },
  {
   "cell_type": "markdown",
   "source": [
    "\n"
   ],
   "metadata": {
    "collapsed": false
   }
  },
  {
   "cell_type": "code",
   "execution_count": 34,
   "outputs": [
    {
     "name": "stdout",
     "output_type": "stream",
     "text": [
      "Experiments//ETF//CardMVO\n",
      "Path created:  Experiments//ETF//CardMVO\n"
     ]
    }
   ],
   "source": [
    "if optimizer.__name__ == 'CardMVO':\n",
    "    path = \"Experiments//\"+universe+\"//\"+optimizer.__name__\n",
    "    print(path)\n",
    "elif optimizer.__name__ == 'SVMMVO':\n",
    "    path = \"Experiments//\"+universe+\"//\"+optimizer.__name__+\"//\"+str(q)\n",
    "    print(path)\n",
    "elif optimizer.__name__ == 'ClassWgtSVMMVO':\n",
    "    path = \"Experiments//\"+universe+\"//\"+optimizer.__name__+\"//\"+str(q)\n",
    "    print(path)\n",
    "else:\n",
    "    raise Exception(\"Model Type not supported for these experiments\")\n",
    "df = init_dataframe(investor_preferences, path)"
   ],
   "metadata": {
    "collapsed": false,
    "ExecuteTime": {
     "end_time": "2024-03-21T13:53:09.483368500Z",
     "start_time": "2024-03-21T13:53:09.459797400Z"
    }
   }
  },
  {
   "cell_type": "code",
   "execution_count": 35,
   "outputs": [
    {
     "name": "stdout",
     "output_type": "stream",
     "text": [
      "Testing configuration  (0.8, 1.25)\n",
      "Test Start 2008-06-30 00:00:00\n",
      "Test End 2008-11-30 00:00:00\n",
      "Calibration End 2008-06-29 00:00:00\n",
      "Set parameter TimeLimit to value 20\n",
      "Set parameter MIPGap to value 0.05\n",
      "Set parameter TimeLimit to value 20\n",
      "Set parameter MIPGap to value 0.05\n",
      "Set parameter TimeLimit to value 20\n",
      "Set parameter MIPGap to value 0.05\n",
      "Set parameter TimeLimit to value 20\n",
      "Set parameter MIPGap to value 0.05\n",
      "Set parameter TimeLimit to value 20\n",
      "Set parameter MIPGap to value 0.05\n",
      "Set parameter TimeLimit to value 20\n",
      "Set parameter MIPGap to value 0.05\n",
      "Set parameter TimeLimit to value 20\n",
      "Set parameter MIPGap to value 0.05\n",
      "Set parameter TimeLimit to value 20\n",
      "Set parameter MIPGap to value 0.05\n",
      "Set parameter TimeLimit to value 20\n",
      "Set parameter MIPGap to value 0.05\n",
      "Set parameter TimeLimit to value 20\n",
      "Set parameter MIPGap to value 0.05\n",
      "Set parameter TimeLimit to value 20\n",
      "Set parameter MIPGap to value 0.05\n",
      "Set parameter TimeLimit to value 20\n",
      "Set parameter MIPGap to value 0.05\n",
      "Set parameter TimeLimit to value 20\n",
      "Set parameter MIPGap to value 0.05\n",
      "Set parameter TimeLimit to value 20\n",
      "Set parameter MIPGap to value 0.05\n",
      "Set parameter TimeLimit to value 20\n",
      "Set parameter MIPGap to value 0.05\n",
      "Set parameter TimeLimit to value 20\n",
      "Set parameter MIPGap to value 0.05\n",
      "Set parameter TimeLimit to value 20\n",
      "Set parameter MIPGap to value 0.05\n",
      "Set parameter TimeLimit to value 20\n",
      "Set parameter MIPGap to value 0.05\n",
      "Set parameter TimeLimit to value 20\n",
      "Set parameter MIPGap to value 0.05\n",
      "Set parameter TimeLimit to value 20\n",
      "Set parameter MIPGap to value 0.05\n",
      "Set parameter TimeLimit to value 20\n",
      "Set parameter MIPGap to value 0.05\n",
      "Set parameter TimeLimit to value 20\n",
      "Set parameter MIPGap to value 0.05\n",
      "Set parameter TimeLimit to value 20\n",
      "Set parameter MIPGap to value 0.05\n",
      "Set parameter TimeLimit to value 20\n",
      "Set parameter MIPGap to value 0.05\n",
      "Set parameter TimeLimit to value 20\n",
      "Set parameter MIPGap to value 0.05\n",
      "Set parameter TimeLimit to value 20\n",
      "Set parameter MIPGap to value 0.05\n",
      "Set parameter TimeLimit to value 20\n",
      "Set parameter MIPGap to value 0.05\n",
      "Set parameter TimeLimit to value 20\n",
      "Set parameter MIPGap to value 0.05\n",
      "Set parameter TimeLimit to value 20\n",
      "Set parameter MIPGap to value 0.05\n",
      "Completed configuration  (0.8, 1.25)\n"
     ]
    }
   ],
   "source": [
    "from IPython.display import clear_output\n",
    "\n",
    "kappas = [0.05, 0.1]\n",
    "cardinality_ratios = [0.02, 0.03, 0.05, 0.07, 0.09, 0.1, 0.2, 0.4, 0.6, 0.8] #[0.07, 0.1, 0.2, 0.4, 0.6, 0.8] # includes mvo\n",
    "turnover_limits = [0.75, 1, 1.25]\n",
    "return_premiums = [0.25, 0.5, 1, 1.5]\n",
    "\n",
    "for cardinality_ratio, turnover_limit, premium in product(cardinality_ratios, turnover_limits, return_premiums):\n",
    "    \n",
    "    clear_output(wait=True)\n",
    "\n",
    "    # initialize strategy\n",
    "    investor_preferences['turnover_limit'] = turnover_limit # turnover limit\n",
    "    investor_preferences['cardinality_ratio'] = cardinality_ratio\n",
    "    investor_preferences['kappa'] = kappa\n",
    "    investor_preferences['premium'] = premium\n",
    "    \n",
    "    Strategy = general_strategy(estimator, optimizer,\n",
    "                                investor_preferences = investor_preferences)\n",
    "\n",
    "    Strategy.extract_estimation_info = populate_exponential_weighted_estimator_shrinkage\n",
    "    Strategy.extract_optimization_info = populate_kwargs\n",
    "\n",
    "    env = environment()\n",
    "\n",
    "    # Start of out-of-sample test period\n",
    "    testStart = returns.index[0] + pd.offsets.DateOffset(years=2)\n",
    "\n",
    "    # End of the first investment period\n",
    "    # testEnd = testStart + pd.offsets.DateOffset(months=investPeriod) - pd.offsets.DateOffset(days = 1)\n",
    "    testEnd = testStart + pd.offsets.MonthBegin(investPeriod) - pd.offsets.DateOffset(days = 1)\n",
    "\n",
    "    # End of calibration period\n",
    "    calEnd = testStart -  pd.offsets.DateOffset(days = 1)\n",
    "    print(\"Testing configuration \", (cardinality_ratio, turnover_limit))\n",
    "    print(\"Test Start\", testStart)\n",
    "    print(\"Test End\", testEnd)\n",
    "    print(\"Calibration End\", calEnd)\n",
    "\n",
    "    # Total number of investment periods\n",
    "    NoPeriods = math.ceil((returns.index[-1].to_period('M') - testStart.to_period('M')).n / investPeriod)\n",
    "    n = len(tickers)\n",
    "\n",
    "    portfValue, elapsed_time, turnover, x, backtest_results, hyperparam_hist = execute_backtest(env, Strategy, tickers, returns, factorRet, ContextualInfo,\n",
    "                     adjClose, daily_adjClose, NoPeriods, testStart, testEnd, calEnd, initialVal,\n",
    "                     investPeriod, hyperparam_search = hyperparam_search)\n",
    "    print(\"Completed configuration \", (cardinality_ratio, turnover_limit))\n",
    "    \n",
    "    df, uid = add_to_data_dict(path, df, run, estimator,\n",
    "                 optimizer, universe,\n",
    "                 imputation_method, ticker_str,\n",
    "                 hyperparam_search, NoPeriods, investor_preferences)\n",
    "\n",
    "    export_experimental_results(path, uid, portfValue, elapsed_time, x, turnover)\n",
    "    export_dict(path, uid, backtest_results, 'backtest_results')\n",
    "    export_dict(path, uid, hyperparam_hist, 'hyperparam_hist')\n",
    "\n",
    "    del env\n",
    "    del Strategy"
   ],
   "metadata": {
    "collapsed": false,
    "pycharm": {
     "is_executing": true
    }
   }
  },
  {
   "cell_type": "code",
   "execution_count": 36,
   "outputs": [],
   "source": [
    "curr_df = pd.read_pickle(path+\"//data_dictionary.pkl\")\n",
    "# add experiment info to the data dict\n",
    "df = pd.concat([df, curr_df], axis = 0)\n",
    "\n",
    "df.drop_duplicates(inplace = True)\n",
    "df.to_pickle(path+\"//data_dictionary.pkl\")"
   ],
   "metadata": {
    "collapsed": false,
    "pycharm": {
     "is_executing": true
    },
    "ExecuteTime": {
     "end_time": "2024-03-22T15:30:17.434952700Z",
     "start_time": "2024-03-22T15:30:17.418987400Z"
    }
   }
  },
  {
   "cell_type": "code",
   "execution_count": 37,
   "outputs": [
    {
     "data": {
      "text/plain": "array(['0.02', '0.03', '0.05', '0.07', '0.09', '0.1', '0.2', '0.4', '0.6',\n       '0.8'], dtype=object)"
     },
     "execution_count": 37,
     "metadata": {},
     "output_type": "execute_result"
    }
   ],
   "source": [
    "df.cardinality_ratio.unique()"
   ],
   "metadata": {
    "collapsed": false,
    "ExecuteTime": {
     "end_time": "2024-03-22T15:30:17.785678400Z",
     "start_time": "2024-03-22T15:30:17.775425600Z"
    }
   }
  },
  {
   "cell_type": "code",
   "execution_count": 38,
   "outputs": [
    {
     "data": {
      "text/plain": "                                                                               uid  \\\n35ad80324032f6bf11d546ea02624d9f2d09c3c9  35ad80324032f6bf11d546ea02624d9f2d09c3c9   \n87e8d2fef14de759ec993256b722959cc2811838  87e8d2fef14de759ec993256b722959cc2811838   \n675753e04a35ab3233c20745b7a2a5cf369a0701  675753e04a35ab3233c20745b7a2a5cf369a0701   \n8d6d663cdbedb5483e208554fff20a0c4e33865b  8d6d663cdbedb5483e208554fff20a0c4e33865b   \n60ca44e10487644dfb920101d88eadf1360050b1  60ca44e10487644dfb920101d88eadf1360050b1   \n...                                                                            ...   \ne001bb4d48ff4a044cf8b7cf60038e622c19dc1b  e001bb4d48ff4a044cf8b7cf60038e622c19dc1b   \n46334e4eba83a6e37a16527e93372e0405b666b2  46334e4eba83a6e37a16527e93372e0405b666b2   \ne287fc67301d8f269a6fc57c2397345fd5c3c426  e287fc67301d8f269a6fc57c2397345fd5c3c426   \n41b6016ed633a051ce1eec6e43e60ddba6333981  41b6016ed633a051ce1eec6e43e60ddba6333981   \n00228c8be7a78c7efdb8b290d18ad376d735a231  00228c8be7a78c7efdb8b290d18ad376d735a231   \n\n                                                                         estimator  \\\n35ad80324032f6bf11d546ea02624d9f2d09c3c9  exponential_weighted_estimator_shrinkage   \n87e8d2fef14de759ec993256b722959cc2811838  exponential_weighted_estimator_shrinkage   \n675753e04a35ab3233c20745b7a2a5cf369a0701  exponential_weighted_estimator_shrinkage   \n8d6d663cdbedb5483e208554fff20a0c4e33865b  exponential_weighted_estimator_shrinkage   \n60ca44e10487644dfb920101d88eadf1360050b1  exponential_weighted_estimator_shrinkage   \n...                                                                            ...   \ne001bb4d48ff4a044cf8b7cf60038e622c19dc1b  exponential_weighted_estimator_shrinkage   \n46334e4eba83a6e37a16527e93372e0405b666b2  exponential_weighted_estimator_shrinkage   \ne287fc67301d8f269a6fc57c2397345fd5c3c426  exponential_weighted_estimator_shrinkage   \n41b6016ed633a051ce1eec6e43e60ddba6333981  exponential_weighted_estimator_shrinkage   \n00228c8be7a78c7efdb8b290d18ad376d735a231  exponential_weighted_estimator_shrinkage   \n\n                                         optimizer universe imputation_method  \\\n35ad80324032f6bf11d546ea02624d9f2d09c3c9   CardMVO      ETF        Univariate   \n87e8d2fef14de759ec993256b722959cc2811838   CardMVO      ETF        Univariate   \n675753e04a35ab3233c20745b7a2a5cf369a0701   CardMVO      ETF        Univariate   \n8d6d663cdbedb5483e208554fff20a0c4e33865b   CardMVO      ETF        Univariate   \n60ca44e10487644dfb920101d88eadf1360050b1   CardMVO      ETF        Univariate   \n...                                            ...      ...               ...   \ne001bb4d48ff4a044cf8b7cf60038e622c19dc1b   CardMVO      ETF        Univariate   \n46334e4eba83a6e37a16527e93372e0405b666b2   CardMVO      ETF        Univariate   \ne287fc67301d8f269a6fc57c2397345fd5c3c426   CardMVO      ETF        Univariate   \n41b6016ed633a051ce1eec6e43e60ddba6333981   CardMVO      ETF        Univariate   \n00228c8be7a78c7efdb8b290d18ad376d735a231   CardMVO      ETF        Univariate   \n\n                                         ticker_str hyperparam_search  \\\n35ad80324032f6bf11d546ea02624d9f2d09c3c9        SPY             False   \n87e8d2fef14de759ec993256b722959cc2811838        SPY             False   \n675753e04a35ab3233c20745b7a2a5cf369a0701        SPY             False   \n8d6d663cdbedb5483e208554fff20a0c4e33865b        SPY             False   \n60ca44e10487644dfb920101d88eadf1360050b1        SPY             False   \n...                                             ...               ...   \ne001bb4d48ff4a044cf8b7cf60038e622c19dc1b        SPY             False   \n46334e4eba83a6e37a16527e93372e0405b666b2        SPY             False   \ne287fc67301d8f269a6fc57c2397345fd5c3c426        SPY             False   \n41b6016ed633a051ce1eec6e43e60ddba6333981        SPY             False   \n00228c8be7a78c7efdb8b290d18ad376d735a231        SPY             False   \n\n                                         NoPeriods           run    C  ...  \\\n35ad80324032f6bf11d546ea02624d9f2d09c3c9        29  SunJan212024  0.1  ...   \n87e8d2fef14de759ec993256b722959cc2811838        29  SunJan212024  0.1  ...   \n675753e04a35ab3233c20745b7a2a5cf369a0701        29  SunJan212024  0.1  ...   \n8d6d663cdbedb5483e208554fff20a0c4e33865b        29  SunJan212024  0.1  ...   \n60ca44e10487644dfb920101d88eadf1360050b1        29  SunJan212024  0.1  ...   \n...                                            ...           ...  ...  ...   \ne001bb4d48ff4a044cf8b7cf60038e622c19dc1b        29  SunJan212024  0.1  ...   \n46334e4eba83a6e37a16527e93372e0405b666b2        29  SunJan212024  0.1  ...   \ne287fc67301d8f269a6fc57c2397345fd5c3c426        29  SunJan212024  0.1  ...   \n41b6016ed633a051ce1eec6e43e60ddba6333981        29  SunJan212024  0.1  ...   \n00228c8be7a78c7efdb8b290d18ad376d735a231        29  SunJan212024  0.1  ...   \n\n                                         premium   q q_alpha separable  \\\n35ad80324032f6bf11d546ea02624d9f2d09c3c9    0.25  20  0.6838     False   \n87e8d2fef14de759ec993256b722959cc2811838     0.5  20  0.6838     False   \n675753e04a35ab3233c20745b7a2a5cf369a0701       1  20  0.6838     False   \n8d6d663cdbedb5483e208554fff20a0c4e33865b     1.5  20  0.6838     False   \n60ca44e10487644dfb920101d88eadf1360050b1    0.25  20  0.6838     False   \n...                                          ...  ..     ...       ...   \ne001bb4d48ff4a044cf8b7cf60038e622c19dc1b     1.5  20  0.6838     False   \n46334e4eba83a6e37a16527e93372e0405b666b2    0.25  20  0.6838     False   \ne287fc67301d8f269a6fc57c2397345fd5c3c426     0.5  20  0.6838     False   \n41b6016ed633a051ce1eec6e43e60ddba6333981       1  20  0.6838     False   \n00228c8be7a78c7efdb8b290d18ad376d735a231     1.5  20  0.6838     False   \n\n                                         target_return_strategy  \\\n35ad80324032f6bf11d546ea02624d9f2d09c3c9         premium_target   \n87e8d2fef14de759ec993256b722959cc2811838         premium_target   \n675753e04a35ab3233c20745b7a2a5cf369a0701         premium_target   \n8d6d663cdbedb5483e208554fff20a0c4e33865b         premium_target   \n60ca44e10487644dfb920101d88eadf1360050b1         premium_target   \n...                                                         ...   \ne001bb4d48ff4a044cf8b7cf60038e622c19dc1b         premium_target   \n46334e4eba83a6e37a16527e93372e0405b666b2         premium_target   \ne287fc67301d8f269a6fc57c2397345fd5c3c426         premium_target   \n41b6016ed633a051ce1eec6e43e60ddba6333981         premium_target   \n00228c8be7a78c7efdb8b290d18ad376d735a231         premium_target   \n\n                                         target_return_strategy_args  \\\n35ad80324032f6bf11d546ea02624d9f2d09c3c9                 ['premium']   \n87e8d2fef14de759ec993256b722959cc2811838                 ['premium']   \n675753e04a35ab3233c20745b7a2a5cf369a0701                 ['premium']   \n8d6d663cdbedb5483e208554fff20a0c4e33865b                 ['premium']   \n60ca44e10487644dfb920101d88eadf1360050b1                 ['premium']   \n...                                                              ...   \ne001bb4d48ff4a044cf8b7cf60038e622c19dc1b                 ['premium']   \n46334e4eba83a6e37a16527e93372e0405b666b2                 ['premium']   \ne287fc67301d8f269a6fc57c2397345fd5c3c426                 ['premium']   \n41b6016ed633a051ce1eec6e43e60ddba6333981                 ['premium']   \n00228c8be7a78c7efdb8b290d18ad376d735a231                 ['premium']   \n\n                                         ticker_index tightening_iter_lim  \\\n35ad80324032f6bf11d546ea02624d9f2d09c3c9          250                   1   \n87e8d2fef14de759ec993256b722959cc2811838          250                   1   \n675753e04a35ab3233c20745b7a2a5cf369a0701          250                   1   \n8d6d663cdbedb5483e208554fff20a0c4e33865b          250                   1   \n60ca44e10487644dfb920101d88eadf1360050b1          250                   1   \n...                                               ...                 ...   \ne001bb4d48ff4a044cf8b7cf60038e622c19dc1b          250                   1   \n46334e4eba83a6e37a16527e93372e0405b666b2          250                   1   \ne287fc67301d8f269a6fc57c2397345fd5c3c426          250                   1   \n41b6016ed633a051ce1eec6e43e60ddba6333981          250                   1   \n00228c8be7a78c7efdb8b290d18ad376d735a231          250                   1   \n\n                                         turnover_constraints turnover_limit  \n35ad80324032f6bf11d546ea02624d9f2d09c3c9                 True           0.75  \n87e8d2fef14de759ec993256b722959cc2811838                 True           0.75  \n675753e04a35ab3233c20745b7a2a5cf369a0701                 True           0.75  \n8d6d663cdbedb5483e208554fff20a0c4e33865b                 True           0.75  \n60ca44e10487644dfb920101d88eadf1360050b1                 True              1  \n...                                                       ...            ...  \ne001bb4d48ff4a044cf8b7cf60038e622c19dc1b                 True              1  \n46334e4eba83a6e37a16527e93372e0405b666b2                 True           1.25  \ne287fc67301d8f269a6fc57c2397345fd5c3c426                 True           1.25  \n41b6016ed633a051ce1eec6e43e60ddba6333981                 True           1.25  \n00228c8be7a78c7efdb8b290d18ad376d735a231                 True           1.25  \n\n[120 rows x 40 columns]",
      "text/html": "<div>\n<style scoped>\n    .dataframe tbody tr th:only-of-type {\n        vertical-align: middle;\n    }\n\n    .dataframe tbody tr th {\n        vertical-align: top;\n    }\n\n    .dataframe thead th {\n        text-align: right;\n    }\n</style>\n<table border=\"1\" class=\"dataframe\">\n  <thead>\n    <tr style=\"text-align: right;\">\n      <th></th>\n      <th>uid</th>\n      <th>estimator</th>\n      <th>optimizer</th>\n      <th>universe</th>\n      <th>imputation_method</th>\n      <th>ticker_str</th>\n      <th>hyperparam_search</th>\n      <th>NoPeriods</th>\n      <th>run</th>\n      <th>C</th>\n      <th>...</th>\n      <th>premium</th>\n      <th>q</th>\n      <th>q_alpha</th>\n      <th>separable</th>\n      <th>target_return_strategy</th>\n      <th>target_return_strategy_args</th>\n      <th>ticker_index</th>\n      <th>tightening_iter_lim</th>\n      <th>turnover_constraints</th>\n      <th>turnover_limit</th>\n    </tr>\n  </thead>\n  <tbody>\n    <tr>\n      <th>35ad80324032f6bf11d546ea02624d9f2d09c3c9</th>\n      <td>35ad80324032f6bf11d546ea02624d9f2d09c3c9</td>\n      <td>exponential_weighted_estimator_shrinkage</td>\n      <td>CardMVO</td>\n      <td>ETF</td>\n      <td>Univariate</td>\n      <td>SPY</td>\n      <td>False</td>\n      <td>29</td>\n      <td>SunJan212024</td>\n      <td>0.1</td>\n      <td>...</td>\n      <td>0.25</td>\n      <td>20</td>\n      <td>0.6838</td>\n      <td>False</td>\n      <td>premium_target</td>\n      <td>['premium']</td>\n      <td>250</td>\n      <td>1</td>\n      <td>True</td>\n      <td>0.75</td>\n    </tr>\n    <tr>\n      <th>87e8d2fef14de759ec993256b722959cc2811838</th>\n      <td>87e8d2fef14de759ec993256b722959cc2811838</td>\n      <td>exponential_weighted_estimator_shrinkage</td>\n      <td>CardMVO</td>\n      <td>ETF</td>\n      <td>Univariate</td>\n      <td>SPY</td>\n      <td>False</td>\n      <td>29</td>\n      <td>SunJan212024</td>\n      <td>0.1</td>\n      <td>...</td>\n      <td>0.5</td>\n      <td>20</td>\n      <td>0.6838</td>\n      <td>False</td>\n      <td>premium_target</td>\n      <td>['premium']</td>\n      <td>250</td>\n      <td>1</td>\n      <td>True</td>\n      <td>0.75</td>\n    </tr>\n    <tr>\n      <th>675753e04a35ab3233c20745b7a2a5cf369a0701</th>\n      <td>675753e04a35ab3233c20745b7a2a5cf369a0701</td>\n      <td>exponential_weighted_estimator_shrinkage</td>\n      <td>CardMVO</td>\n      <td>ETF</td>\n      <td>Univariate</td>\n      <td>SPY</td>\n      <td>False</td>\n      <td>29</td>\n      <td>SunJan212024</td>\n      <td>0.1</td>\n      <td>...</td>\n      <td>1</td>\n      <td>20</td>\n      <td>0.6838</td>\n      <td>False</td>\n      <td>premium_target</td>\n      <td>['premium']</td>\n      <td>250</td>\n      <td>1</td>\n      <td>True</td>\n      <td>0.75</td>\n    </tr>\n    <tr>\n      <th>8d6d663cdbedb5483e208554fff20a0c4e33865b</th>\n      <td>8d6d663cdbedb5483e208554fff20a0c4e33865b</td>\n      <td>exponential_weighted_estimator_shrinkage</td>\n      <td>CardMVO</td>\n      <td>ETF</td>\n      <td>Univariate</td>\n      <td>SPY</td>\n      <td>False</td>\n      <td>29</td>\n      <td>SunJan212024</td>\n      <td>0.1</td>\n      <td>...</td>\n      <td>1.5</td>\n      <td>20</td>\n      <td>0.6838</td>\n      <td>False</td>\n      <td>premium_target</td>\n      <td>['premium']</td>\n      <td>250</td>\n      <td>1</td>\n      <td>True</td>\n      <td>0.75</td>\n    </tr>\n    <tr>\n      <th>60ca44e10487644dfb920101d88eadf1360050b1</th>\n      <td>60ca44e10487644dfb920101d88eadf1360050b1</td>\n      <td>exponential_weighted_estimator_shrinkage</td>\n      <td>CardMVO</td>\n      <td>ETF</td>\n      <td>Univariate</td>\n      <td>SPY</td>\n      <td>False</td>\n      <td>29</td>\n      <td>SunJan212024</td>\n      <td>0.1</td>\n      <td>...</td>\n      <td>0.25</td>\n      <td>20</td>\n      <td>0.6838</td>\n      <td>False</td>\n      <td>premium_target</td>\n      <td>['premium']</td>\n      <td>250</td>\n      <td>1</td>\n      <td>True</td>\n      <td>1</td>\n    </tr>\n    <tr>\n      <th>...</th>\n      <td>...</td>\n      <td>...</td>\n      <td>...</td>\n      <td>...</td>\n      <td>...</td>\n      <td>...</td>\n      <td>...</td>\n      <td>...</td>\n      <td>...</td>\n      <td>...</td>\n      <td>...</td>\n      <td>...</td>\n      <td>...</td>\n      <td>...</td>\n      <td>...</td>\n      <td>...</td>\n      <td>...</td>\n      <td>...</td>\n      <td>...</td>\n      <td>...</td>\n      <td>...</td>\n    </tr>\n    <tr>\n      <th>e001bb4d48ff4a044cf8b7cf60038e622c19dc1b</th>\n      <td>e001bb4d48ff4a044cf8b7cf60038e622c19dc1b</td>\n      <td>exponential_weighted_estimator_shrinkage</td>\n      <td>CardMVO</td>\n      <td>ETF</td>\n      <td>Univariate</td>\n      <td>SPY</td>\n      <td>False</td>\n      <td>29</td>\n      <td>SunJan212024</td>\n      <td>0.1</td>\n      <td>...</td>\n      <td>1.5</td>\n      <td>20</td>\n      <td>0.6838</td>\n      <td>False</td>\n      <td>premium_target</td>\n      <td>['premium']</td>\n      <td>250</td>\n      <td>1</td>\n      <td>True</td>\n      <td>1</td>\n    </tr>\n    <tr>\n      <th>46334e4eba83a6e37a16527e93372e0405b666b2</th>\n      <td>46334e4eba83a6e37a16527e93372e0405b666b2</td>\n      <td>exponential_weighted_estimator_shrinkage</td>\n      <td>CardMVO</td>\n      <td>ETF</td>\n      <td>Univariate</td>\n      <td>SPY</td>\n      <td>False</td>\n      <td>29</td>\n      <td>SunJan212024</td>\n      <td>0.1</td>\n      <td>...</td>\n      <td>0.25</td>\n      <td>20</td>\n      <td>0.6838</td>\n      <td>False</td>\n      <td>premium_target</td>\n      <td>['premium']</td>\n      <td>250</td>\n      <td>1</td>\n      <td>True</td>\n      <td>1.25</td>\n    </tr>\n    <tr>\n      <th>e287fc67301d8f269a6fc57c2397345fd5c3c426</th>\n      <td>e287fc67301d8f269a6fc57c2397345fd5c3c426</td>\n      <td>exponential_weighted_estimator_shrinkage</td>\n      <td>CardMVO</td>\n      <td>ETF</td>\n      <td>Univariate</td>\n      <td>SPY</td>\n      <td>False</td>\n      <td>29</td>\n      <td>SunJan212024</td>\n      <td>0.1</td>\n      <td>...</td>\n      <td>0.5</td>\n      <td>20</td>\n      <td>0.6838</td>\n      <td>False</td>\n      <td>premium_target</td>\n      <td>['premium']</td>\n      <td>250</td>\n      <td>1</td>\n      <td>True</td>\n      <td>1.25</td>\n    </tr>\n    <tr>\n      <th>41b6016ed633a051ce1eec6e43e60ddba6333981</th>\n      <td>41b6016ed633a051ce1eec6e43e60ddba6333981</td>\n      <td>exponential_weighted_estimator_shrinkage</td>\n      <td>CardMVO</td>\n      <td>ETF</td>\n      <td>Univariate</td>\n      <td>SPY</td>\n      <td>False</td>\n      <td>29</td>\n      <td>SunJan212024</td>\n      <td>0.1</td>\n      <td>...</td>\n      <td>1</td>\n      <td>20</td>\n      <td>0.6838</td>\n      <td>False</td>\n      <td>premium_target</td>\n      <td>['premium']</td>\n      <td>250</td>\n      <td>1</td>\n      <td>True</td>\n      <td>1.25</td>\n    </tr>\n    <tr>\n      <th>00228c8be7a78c7efdb8b290d18ad376d735a231</th>\n      <td>00228c8be7a78c7efdb8b290d18ad376d735a231</td>\n      <td>exponential_weighted_estimator_shrinkage</td>\n      <td>CardMVO</td>\n      <td>ETF</td>\n      <td>Univariate</td>\n      <td>SPY</td>\n      <td>False</td>\n      <td>29</td>\n      <td>SunJan212024</td>\n      <td>0.1</td>\n      <td>...</td>\n      <td>1.5</td>\n      <td>20</td>\n      <td>0.6838</td>\n      <td>False</td>\n      <td>premium_target</td>\n      <td>['premium']</td>\n      <td>250</td>\n      <td>1</td>\n      <td>True</td>\n      <td>1.25</td>\n    </tr>\n  </tbody>\n</table>\n<p>120 rows × 40 columns</p>\n</div>"
     },
     "execution_count": 38,
     "metadata": {},
     "output_type": "execute_result"
    }
   ],
   "source": [
    "df"
   ],
   "metadata": {
    "collapsed": false,
    "ExecuteTime": {
     "end_time": "2024-03-22T15:30:18.031267200Z",
     "start_time": "2024-03-22T15:30:18.014788100Z"
    }
   }
  },
  {
   "cell_type": "code",
   "execution_count": 39,
   "outputs": [
    {
     "data": {
      "text/plain": "array(['0.25', '0.5', '1', '1.5'], dtype=object)"
     },
     "execution_count": 39,
     "metadata": {},
     "output_type": "execute_result"
    }
   ],
   "source": [
    "df.premium.unique() "
   ],
   "metadata": {
    "collapsed": false,
    "ExecuteTime": {
     "end_time": "2024-03-22T15:30:18.272891Z",
     "start_time": "2024-03-22T15:30:18.260182600Z"
    }
   }
  },
  {
   "cell_type": "code",
   "outputs": [],
   "source": [],
   "metadata": {
    "collapsed": false
   }
  }
 ],
 "metadata": {
  "kernelspec": {
   "display_name": "Python 3",
   "language": "python",
   "name": "python3"
  },
  "language_info": {
   "codemirror_mode": {
    "name": "ipython",
    "version": 2
   },
   "file_extension": ".py",
   "mimetype": "text/x-python",
   "name": "python",
   "nbconvert_exporter": "python",
   "pygments_lexer": "ipython2",
   "version": "2.7.6"
  }
 },
 "nbformat": 4,
 "nbformat_minor": 0
}
