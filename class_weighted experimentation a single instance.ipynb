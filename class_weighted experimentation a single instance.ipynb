{
 "cells": [
  {
   "cell_type": "markdown",
   "source": [
    "\n",
    "# MMF1921/MIE377 Style Backtesting Template\n",
    "\n",
    "From the MIE377/MMF1921 Projects:\n",
    "\n",
    "        The purpose of this program is to provide a template with which to develop Project 2. The project requires you to test different models  (and/or different model combinations) to create an asset management algorithm.\n",
    "\n",
    "        This template will be used by the instructor and TA to assess your trading algorithm using different datasets.\n",
    "\n",
    "        # PLEASE DO NOT MODIFY THIS TEMPLATE (for Project submission purposes)\n",
    "\n",
    "This template for evaluating asset allocation algorithms is the exact same style as the one in MIE377.\n",
    "\n",
    "Is it fast? No it is not.\n",
    "\n",
    "Is it clear and relatively easy to follow? Yes it is.\n",
    "\n",
    "There are a couple of moving parts:\n",
    "\n",
    "* The database: see the Database folder for examples of where and how the data was processed. Download SQLLite viewer to explore the data and look at the queries in the notebooks to understand what data is in there\n",
    "* The services: in the services folder there are some helpers to extract the data (data_retrieval.py), estimate means and covariances (estimators.py), and optimizers (optimization.py)\n",
    "* Strategies are also defined in the services folder. The current convention is that a strategy takes in data (returns and factor returns) and outputs an allocation.\n",
    "* Typically, the strategies will use some form of estimator and an optimizer come up with allocations.\n",
    "\n",
    "If you do not want to deal with the database then use the MIE377_Project_Main template and copy cells 2.1 and 2.2 into the appropriate spot\n",
    "and replace \n",
    "\n",
    "        x[:,t] = project_function(periodReturns, periodFactRet)\n",
    "\n",
    "with\n",
    "\n",
    "        x[:,t] = Strategy.execute_strategy(periodReturns, periodFactRet) #equal_weight(periodReturns) #StrategyFunction(periodReturns, periodFactRet, x0[:,t]);\n",
    "\n",
    "# 1. Read input files"
   ],
   "metadata": {
    "collapsed": false
   }
  },
  {
   "cell_type": "code",
   "execution_count": 1,
   "outputs": [
    {
     "name": "stdout",
     "output_type": "stream",
     "text": [
      "['asset_id', 'currency_id', 'equities_series', 'equity_index_id', 'exchange_id', 'factor_id', 'factors', 'frequency_id', 'fundamentals', 'metric_id', 'source_id', 'ticker_id', 'ticker_index_membership', 'tiingo_tickers']\n"
     ]
    }
   ],
   "source": [
    "import time\n",
    "import math\n",
    "import numpy as np\n",
    "import pandas as pd\n",
    "from services.experiments import *\n",
    "from Database.services.database import Database\n",
    "from sqlalchemy import inspect\n",
    "from services.data_retreival import *\n",
    "from scipy.stats import gmean\n",
    "import matplotlib.pyplot as plt\n",
    "from services.strategies import *\n",
    "from services.optimization_layers import *\n",
    "from services.optimization import *\n",
    "\n",
    "from services.environment_functions import *\n",
    "from services.class_weighted_bigM import *\n",
    "from services.class_weighted_models import *\n",
    "from services.binary_optimization import *\n",
    "\n",
    "from services.plotting_functions import *\n",
    "\n",
    "import os\n",
    "Database.initialize(\"sqlite:///Database//financial_db.sqlite\") #for courses replace this with a flat file\n",
    "inspector = inspect(Database.engine)\n",
    "print(inspector.get_table_names())\n",
    "\n",
    "universe = 'SP'\n",
    "imputation_method = 'Multivariate'\n",
    "ticker_str = 'AAPL'\n",
    "#exponential params\n",
    "\n",
    "\n",
    "adjClose = pd.read_csv(\"flat_files/MonthlyAssetPrices\"+ universe + \".csv\", index_col=0, header = 1).iloc[1:,:]\n",
    "\n",
    "daily_adjClose =  pd.read_csv(\"flat_files/DailyAssetPrices\"+universe + \".csv\", index_col=0, header = 1).iloc[1:,:]\n",
    "\n",
    "TechnicalAnalysis = pd.read_csv(\"flat_files/TechnicalAnalysis\" + universe + \".csv\", index_col=[0,1])\n",
    "\n",
    "if universe ==  'SP':\n",
    "    FinancialRatios = pd.read_csv(\"flat_files/\" + imputation_method + \"WRDS.csv\", index_col=[0,1])\n",
    "    TechnicalAnalysis.index.names = FinancialRatios.index.names\n",
    "    ContextualInfo = TechnicalAnalysis.merge(FinancialRatios, how = 'left', left_index=True, right_index=True)\n",
    "\n",
    "else:\n",
    "    TechnicalAnalysis.index.names = ['date', 'ticker']\n",
    "    ContextualInfo = TechnicalAnalysis\n"
   ],
   "metadata": {
    "collapsed": false,
    "ExecuteTime": {
     "end_time": "2024-02-14T00:23:45.407456300Z",
     "start_time": "2024-02-14T00:23:39.036123800Z"
    }
   }
  },
  {
   "cell_type": "code",
   "execution_count": 2,
   "outputs": [],
   "source": [
    "adjClose.index = pd.to_datetime(adjClose.index, format='%Y-%m-%d').tz_localize(None)\n",
    "daily_adjClose.index = pd.to_datetime(daily_adjClose.index, format='%Y-%m-%d').tz_localize(None)\n",
    "ContextualInfo.index = ContextualInfo.index.set_levels([pd.to_datetime(ContextualInfo.index.levels[0]).tz_localize(None), ContextualInfo.index.levels[1]])"
   ],
   "metadata": {
    "collapsed": false,
    "ExecuteTime": {
     "end_time": "2024-02-14T00:23:45.423158200Z",
     "start_time": "2024-02-14T00:23:45.407456300Z"
    }
   }
  },
  {
   "cell_type": "code",
   "execution_count": 3,
   "outputs": [
    {
     "name": "stdout",
     "output_type": "stream",
     "text": [
      "The earliest possible start date\n"
     ]
    },
    {
     "data": {
      "text/plain": "Timestamp('1996-11-30 00:00:00')"
     },
     "execution_count": 3,
     "metadata": {},
     "output_type": "execute_result"
    }
   ],
   "source": [
    "print(\"The earliest possible start date\")\n",
    "max(daily_adjClose.index.unique()[0], ContextualInfo.index.get_level_values('date').unique()[0], adjClose.index.unique()[0])"
   ],
   "metadata": {
    "collapsed": false,
    "ExecuteTime": {
     "end_time": "2024-02-14T00:23:45.469790700Z",
     "start_time": "2024-02-14T00:23:45.423158200Z"
    }
   }
  },
  {
   "cell_type": "code",
   "execution_count": 4,
   "outputs": [
    {
     "name": "stdout",
     "output_type": "stream",
     "text": [
      "The latest possible start date\n"
     ]
    },
    {
     "data": {
      "text/plain": "Timestamp('2023-04-21 00:00:00')"
     },
     "execution_count": 4,
     "metadata": {},
     "output_type": "execute_result"
    }
   ],
   "source": [
    "print(\"The latest possible start date\")\n",
    "min(daily_adjClose.index.unique()[-1], ContextualInfo.index.get_level_values('date').unique()[-1], adjClose.index.unique()[-1])"
   ],
   "metadata": {
    "collapsed": false,
    "ExecuteTime": {
     "end_time": "2024-02-14T00:23:45.486668600Z",
     "start_time": "2024-02-14T00:23:45.438901400Z"
    }
   }
  },
  {
   "cell_type": "code",
   "execution_count": 5,
   "outputs": [],
   "source": [
    "\n",
    "start_date = pd.to_datetime('1996-11-30', format = '%Y-%m-%d')\n",
    "\n",
    "end_date = pd.to_datetime('2022-12-31', format = '%Y-%m-%d')\n",
    "\n",
    "# start_date = pd.to_datetime('2006-05-31', format = '%Y-%m-%d')\n",
    "#\n",
    "# end_date = pd.to_datetime('2022-12-31', format = '%Y-%m-%d')\n",
    "\n",
    "factors = ('Mkt-RF', 'RF')\n",
    "\n",
    "factorRet = get_monthly_factors(factors, start_date, end_date, Database)\n",
    "factorRet = factorRet.droplevel(0, axis = 1)\n",
    "factorRet.columns = [col.strip() for col in factorRet.columns]"
   ],
   "metadata": {
    "collapsed": false,
    "ExecuteTime": {
     "end_time": "2024-02-14T00:23:48.953816100Z",
     "start_time": "2024-02-14T00:23:45.455638700Z"
    }
   }
  },
  {
   "cell_type": "code",
   "execution_count": 6,
   "outputs": [],
   "source": [
    "adjClose = adjClose[start_date:end_date]\n",
    "daily_adjClose = daily_adjClose[start_date:end_date]\n",
    "idx = pd.IndexSlice\n",
    "ContextualInfo = ContextualInfo.loc[idx[start_date:end_date, :], :]"
   ],
   "metadata": {
    "collapsed": false,
    "ExecuteTime": {
     "end_time": "2024-02-14T00:23:49.095295500Z",
     "start_time": "2024-02-14T00:23:48.953816100Z"
    }
   }
  },
  {
   "cell_type": "code",
   "execution_count": 7,
   "outputs": [],
   "source": [
    "# Initial budget to invest ($100,000)\n",
    "initialVal = 100000\n",
    "\n",
    "# Length of investment period (in months) - but actually units of data\n",
    "investPeriod = 6\n",
    "\n",
    "# divide the factor returns by 100\n",
    "factorRet = factorRet/100\n",
    "\n",
    "#rf and factor returns\n",
    "#drop the first observation to align the dataset with the returns data that will\n",
    "#result\n",
    "factorRet = factorRet.iloc[1:, :]\n",
    "\n",
    "#rf and factor returns\n",
    "riskFree = factorRet['RF']\n",
    "factorRet = factorRet.loc[:,factorRet.columns != 'RF'];"
   ],
   "metadata": {
    "collapsed": false,
    "ExecuteTime": {
     "end_time": "2024-02-14T00:23:49.095295500Z",
     "start_time": "2024-02-14T00:23:49.079635700Z"
    }
   }
  },
  {
   "cell_type": "code",
   "execution_count": 8,
   "outputs": [],
   "source": [
    "#Identify the tickers and the dates\n",
    "tickers = adjClose.columns\n",
    "dates   = factorRet.index"
   ],
   "metadata": {
    "collapsed": false,
    "ExecuteTime": {
     "end_time": "2024-02-14T00:23:49.142169500Z",
     "start_time": "2024-02-14T00:23:49.095295500Z"
    }
   }
  },
  {
   "cell_type": "code",
   "execution_count": 9,
   "outputs": [],
   "source": [
    "# Calculate the stocks monthly excess returns\n",
    "# pct change and drop the first null observation\n",
    "returns = adjClose.pct_change(1).iloc[1:, :]\n",
    "returns = returns  - np.diag(riskFree.values) @ np.ones_like(returns.values) # risk adjusted returns\n",
    "# Align the price table to the asset and factor returns tables by discarding the first observation.\n",
    "adjClose = adjClose.iloc[1:,:]"
   ],
   "metadata": {
    "collapsed": false,
    "ExecuteTime": {
     "end_time": "2024-02-14T00:23:49.173835600Z",
     "start_time": "2024-02-14T00:23:49.110895Z"
    }
   }
  },
  {
   "cell_type": "code",
   "execution_count": 10,
   "outputs": [],
   "source": [
    "assert adjClose.index[0] == returns.index[0]\n",
    "assert adjClose.index[0] == factorRet.index[0]"
   ],
   "metadata": {
    "collapsed": false,
    "ExecuteTime": {
     "end_time": "2024-02-14T00:23:49.220756500Z",
     "start_time": "2024-02-14T00:23:49.126516200Z"
    }
   }
  },
  {
   "cell_type": "markdown",
   "source": [
    "# 2. Run your program\n",
    "\n",
    "This section will run your Project1_Function in a loop. The data will be loaded progressively as a growing window of historical observations.\n",
    "Rebalancing will take place after every loop\n",
    "\n",
    "### 2.1 Some Standard Allocation Strategies"
   ],
   "metadata": {
    "collapsed": false
   }
  },
  {
   "cell_type": "code",
   "execution_count": 19,
   "outputs": [],
   "source": [
    "# Some strategies (uncomment this or the next cell to pick a strategy to test)\n",
    "# Strategy = general_strategy(sample_estimator, MVO, NumObs=48)  #the general strategy object takes an estimator function and an optimizer function\n",
    "#                                                                #the only constraint is that the estimators outputs are the optimizers inputs\n",
    "# investor preferences (static throughout the backtest)\n",
    "hyperparam_search = False # True if model has hyperparams\n",
    "optimizer = ClassWgtSVMMVO # CardMVO , MVO\n",
    "\n",
    "estimator = exponential_weighted_estimator_shrinkage \n",
    "EstNumObs = 750\n",
    "k = 6*20 # estimation horizon\n",
    "alpha= 1 - 0.990 # estimation decay\n",
    "return_premium = 1.4 # optimization premium\n",
    "\n",
    "turnover_constraints = True\n",
    "turnover_limit = 0.75 # 0.75, 1, 1.25\n",
    "cardinality_ratio = 0.5 #optimization\n",
    "\n",
    "MipGap = 0.05 # for portfolio optimizer\n",
    "limit_time = 20 # for portfolio optimizer\n",
    "\n",
    "target_return_strategy = premium_target # for portfolio optimizer to calculate return target\n",
    "# mean_target, premium_target, ticker_return_target\n",
    "target_return_strategy_args = ['premium'] # args for the return strategy\n",
    "\n",
    "bigMStrategy = ClassWgtHyperparameterBigMStrategy # objectiveBigMStrategy #objectiveBigMStrategyTightening , objectiveBigMStrategy\n",
    "\n",
    "bigM_limit_time=20 # for the feasible solution used to calculate big M\n",
    "bigM_MipGap=0.05 # for the feasible solution used to calculate big M\n",
    "bigM_SolutionLimit=20 # for the feasible solution used to calculate big <\n",
    "\n",
    "SkipSOCP = True # flag to skip the SOCP\n",
    "tightening_iter_lim = 1 # number of iterations of tightening to do\n",
    "\n",
    "SVMMVO_bigM_time_limit = 5 # for computing a better solution in the tightening strategy\n",
    "SVMMVO_MipGap=0.1 # for computing a better solution in the tightening strategy\n",
    "SVMMVO_SolutionLimit=5 # for computing a better solution in the tightening strategy\n",
    "\n",
    "SOCP_limit_time=10 # time limit for the SOCP's\n",
    "\n",
    "ticker_index = tickers.get_loc(ticker_str) # the ticker we want to compare to if\n",
    "#  we are using the ticker_return_target strategy\n",
    "\n",
    "q = 2 #subset of features\n",
    "\n",
    "C = 0.1 # separation importance\n",
    "\n",
    "epsilon = 0.1 # regularization amount for SVM\n",
    "\n",
    "separable = False # do not restrict the hyperplane to be separable\n",
    "\n",
    "LogToConsole = True # display optimization results in the console\n",
    "Verbose = True # print statements\n",
    "\n",
    "hyperparams = {'C': list(np.geomspace(0.1, 100, 4)), 'epsilon': list(np.geomspace(0.1, 100, 4))} # hyperparams for hyperparam search\n",
    "#q_alpha = 0.3187 # alpha for Q(t, a) = (1 - q_alpha) Q(t-1. a) + R(t, a)\n",
    "q_alpha = 0.6838\n",
    "kappa = 0.1 # 10 % risk/turnover tolerance\n",
    "\n",
    "investor_preferences = {'k':k, # horizon\n",
    "                        'alpha':alpha, # decay\n",
    "                        'premium':return_premium, # return premium preference\n",
    "                        'EstNumObs':EstNumObs,\n",
    "                        'ticker_index':ticker_index, # benchmark index for comparison used in place of return premium depending on the investors function to set r_min\n",
    "                        'target_return_strategy':target_return_strategy, # strategy for setting return\n",
    "                        'target_return_strategy_args': target_return_strategy_args, # args for return setting strategy\n",
    "                        'turnover_limit':turnover_limit, # turnover limit\n",
    "                        'turnover_constraints':turnover_constraints, # turnover limit choice (Y/N)\n",
    "                        'cardinality_ratio': cardinality_ratio, # Pct of assets to invest in\n",
    "                        'MipGap' : MipGap, 'limit_time':limit_time, # problem solving limits\n",
    "    \n",
    "                        'bigMStrategy':bigMStrategy,\n",
    "                        'bigM_limit_time':bigM_limit_time,\n",
    "                        'bigM_MipGap':bigM_MipGap,\n",
    "                        'bigM_SolutionLimit':bigM_SolutionLimit,\n",
    "\n",
    "                        'SkipSOCP':SkipSOCP,\n",
    "                        'tightening_iter_lim':tightening_iter_lim,\n",
    "\n",
    "                        'SVMMVO_bigM_time_limit':SVMMVO_bigM_time_limit,\n",
    "                        'SVMMVO_MipGap':SVMMVO_MipGap,\n",
    "                        'SVMMVO_SolutionLimit':SVMMVO_SolutionLimit,\n",
    "\n",
    "                        'SOCP_limit_time':SOCP_limit_time,\n",
    "                        'q':q,\n",
    "                        'C':C,\n",
    "                        'epsilon':epsilon,\n",
    "                        'separable':separable,\n",
    "                        'LogToConsole':LogToConsole,\n",
    "                        'Verbose':Verbose,\n",
    "                        'hyperparams':hyperparams,\n",
    "                        'q_alpha':q_alpha,\n",
    "                        'kappa':kappa}\n",
    "\n",
    "Strategy = general_strategy(estimator, optimizer,\n",
    "                            investor_preferences = investor_preferences)\n",
    "\n",
    "Strategy.extract_estimation_info = populate_exponential_weighted_estimator_shrinkage\n",
    "Strategy.extract_optimization_info = populate_kwargs\n",
    "\n",
    "Strategy.store_data = True\n",
    "\n",
    "StrategyCardMVO = general_strategy(estimator, CardMVO,\n",
    "                            investor_preferences = investor_preferences)\n",
    "\n",
    "StrategyCardMVO.extract_estimation_info = populate_exponential_weighted_estimator_shrinkage\n",
    "StrategyCardMVO.extract_optimization_info = populate_kwargs_rank\n",
    "StrategyCardMVO.store_data = True\n",
    "\n",
    "env = environment()\n",
    "# see strategy script for different options OLS_RP() #OLS_MVO() #HistoricalMeanVarianceOptimization()"
   ],
   "metadata": {
    "collapsed": false,
    "ExecuteTime": {
     "end_time": "2024-02-14T00:25:09.601419300Z",
     "start_time": "2024-02-14T00:25:09.574389800Z"
    }
   }
  },
  {
   "cell_type": "code",
   "execution_count": 20,
   "outputs": [],
   "source": [
    "\n",
    "# Start of out-of-sample test period\n",
    "testStart = returns.index[0] + pd.offsets.DateOffset(years=2)\n",
    "\n",
    "# End of the first investment period\n",
    "# testEnd = testStart + pd.offsets.DateOffset(months=investPeriod) - pd.offsets.DateOffset(days = 1)\n",
    "testEnd = testStart + pd.offsets.MonthBegin(investPeriod) - pd.offsets.DateOffset(days = 1)\n",
    "\n",
    "# End of calibration period\n",
    "calEnd = testStart -  pd.offsets.DateOffset(days = 1)"
   ],
   "metadata": {
    "collapsed": false,
    "ExecuteTime": {
     "end_time": "2024-02-14T00:25:10.311349100Z",
     "start_time": "2024-02-14T00:25:10.279923700Z"
    }
   }
  },
  {
   "cell_type": "code",
   "execution_count": 21,
   "outputs": [
    {
     "name": "stdout",
     "output_type": "stream",
     "text": [
      "Test Start 1998-12-31 00:00:00\n",
      "Test End 1999-05-31 00:00:00\n",
      "Calibration End 1998-12-30 00:00:00\n"
     ]
    }
   ],
   "source": [
    "print(\"Test Start\", testStart)\n",
    "print(\"Test End\", testEnd)\n",
    "print(\"Calibration End\", calEnd)"
   ],
   "metadata": {
    "collapsed": false,
    "ExecuteTime": {
     "end_time": "2024-02-14T00:25:10.960046900Z",
     "start_time": "2024-02-14T00:25:10.929185300Z"
    }
   }
  },
  {
   "cell_type": "code",
   "execution_count": 22,
   "outputs": [
    {
     "name": "stdout",
     "output_type": "stream",
     "text": [
      "Class weighted SVM\n",
      "--------------------\n",
      "Calculating Big M\n",
      "--------------------\n",
      "Constructing Feasible Solution...\n",
      "Extracting a cardinality constrained portfolio...\n",
      "Set parameter TimeLimit to value 20\n",
      "Set parameter MIPGap to value 0.05\n",
      "Set parameter FeasibilityTol to value 1e-08\n",
      "Set parameter SolutionLimit to value 20\n",
      "--------------------\n",
      "Solving Card MVO...\n",
      "Gurobi Optimizer version 11.0.0 build v11.0.0rc2 (win64 - Windows 11.0 (22621.2))\n",
      "\n",
      "CPU model: 12th Gen Intel(R) Core(TM) i7-12700H, instruction set [SSE2|AVX|AVX2]\n",
      "Thread count: 14 physical cores, 20 logical processors, using up to 20 threads\n",
      "\n",
      "Optimize a model with 289 rows, 572 columns and 1430 nonzeros\n",
      "Model fingerprint: 0x6cde1d9b\n",
      "Model has 41041 quadratic objective terms\n",
      "Variable types: 286 continuous, 286 integer (286 binary)\n",
      "Coefficient statistics:\n",
      "  Matrix range     [9e-04, 1e+00]\n",
      "  Objective range  [0e+00, 0e+00]\n",
      "  QObjective range [1e-05, 2e+00]\n",
      "  Bounds range     [1e+00, 1e+00]\n",
      "  RHS range        [3e-01, 1e+02]\n",
      "Presolve time: 0.02s\n",
      "Presolved: 391 rows, 623 columns, 1634 nonzeros\n",
      "Presolved model has 41092 quadratic objective terms\n",
      "Variable types: 337 continuous, 286 integer (286 binary)\n",
      "Found heuristic solution: objective 0.0151464\n",
      "Found heuristic solution: objective 0.0106936\n",
      "\n",
      "Root relaxation: objective 9.584293e-03, 121 iterations, 0.00 seconds (0.00 work units)\n",
      "\n",
      "    Nodes    |    Current Node    |     Objective Bounds      |     Work\n",
      " Expl Unexpl |  Obj  Depth IntInf | Incumbent    BestBd   Gap | It/Node Time\n",
      "\n",
      "     0     0    0.00958    0   32    0.01069    0.00958  10.4%     -    0s\n",
      "H    0     0                       0.0095843    0.00958  0.00%     -    0s\n",
      "     0     0    0.00958    0   32    0.00958    0.00958  0.00%     -    0s\n",
      "\n",
      "Explored 1 nodes (121 simplex iterations) in 0.04 seconds (0.02 work units)\n",
      "Thread count was 20 (of 20 available processors)\n",
      "\n",
      "Solution count 3: 0.00958429 0.0106936 0.0151464 \n",
      "\n",
      "Optimal solution found (tolerance 5.00e-02)\n",
      "Best objective 9.584292796862e-03, best bound 9.584292796862e-03, gap 0.0000%\n",
      "Card MVO Finished...\n",
      "--------------------\n",
      "New Best C  0.000244140625\n",
      "Test Error  3.2000065471961747\n",
      "Selected Features  Index(['mean', 'adjVolume_std_250'], dtype='object')\n",
      "Set parameter TimeLimit to value 20\n",
      "Set parameter FeasibilityTol to value 1e-08\n",
      "Gurobi Optimizer version 11.0.0 build v11.0.0rc2 (win64 - Windows 11.0 (22621.2))\n",
      "\n",
      "CPU model: 12th Gen Intel(R) Core(TM) i7-12700H, instruction set [SSE2|AVX|AVX2]\n",
      "Thread count: 14 physical cores, 20 logical processors, using up to 20 threads\n",
      "\n",
      "Optimize a model with 577 rows, 863 columns and 42767 nonzeros\n",
      "Model fingerprint: 0x238fc385\n",
      "Model has 145 quadratic objective terms\n",
      "Variable types: 718 continuous, 145 integer (145 binary)\n",
      "Coefficient statistics:\n",
      "  Matrix range     [8e-06, 2e+01]\n",
      "  Objective range  [4e-07, 4e-07]\n",
      "  QObjective range [1e+00, 1e+00]\n",
      "  Bounds range     [1e+00, 1e+00]\n",
      "  RHS range        [1e+00, 2e+00]\n",
      "\n",
      "User MIP start produced solution with objective 2.73164e-05 (0.00s)\n",
      "Loaded user MIP start with objective 2.73164e-05\n",
      "\n",
      "Presolve removed 0 rows and 286 columns\n",
      "Presolve time: 0.02s\n",
      "Presolved: 577 rows, 577 columns, 42767 nonzeros\n",
      "Presolved model has 145 quadratic objective terms\n",
      "Variable types: 432 continuous, 145 integer (145 binary)\n",
      "\n",
      "Root relaxation: interrupted, 128 iterations, 0.02 seconds (0.01 work units)\n",
      "\n",
      "    Nodes    |    Current Node    |     Objective Bounds      |     Work\n",
      " Expl Unexpl |  Obj  Depth IntInf | Incumbent    BestBd   Gap | It/Node Time\n",
      "\n",
      "     0     0          -    0         0.00003    0.00003  0.01%     -    0s\n",
      "\n",
      "Explored 1 nodes (128 simplex iterations) in 0.05 seconds (0.04 work units)\n",
      "Thread count was 20 (of 20 available processors)\n",
      "\n",
      "Solution count 1: 2.73164e-05 \n",
      "\n",
      "Optimal solution found (tolerance 1.00e-04)\n",
      "Best objective 2.731644751854e-05, best bound 2.731504303045e-05, gap 0.0051%\n",
      "Largest epsilon value guaranteeing  1.1  risk:  35.08616115019054\n",
      "Feasible solution constructed in  2.2821924686431885  seconds\n",
      "Feasible solution objective value  0.010542722076548121\n",
      "Xi Lemma  Lemma 5\n",
      "Theorem 2 big M  3.2840044421925128\n",
      "Theorem 3 big M  2.8262510786849635\n",
      "C and epsilon updated from big M\n",
      "Calculated Big M  2.8262510786849635\n",
      "Calculated big W 0.01733438555888072\n",
      "Calculated big b 1.413125539342482\n",
      "Calculated big xi 2.826251078684964\n",
      "Set parameter TimeLimit to value 20\n",
      "Set parameter FeasibilityTol to value 1e-08\n",
      "Set parameter MIPGap to value 0.05\n",
      "Gurobi Optimizer version 11.0.0 build v11.0.0rc2 (win64 - Windows 11.0 (22621.2))\n",
      "\n",
      "CPU model: 12th Gen Intel(R) Core(TM) i7-12700H, instruction set [SSE2|AVX|AVX2]\n",
      "Thread count: 14 physical cores, 20 logical processors, using up to 20 threads\n",
      "\n",
      "Optimize a model with 1152 rows, 1435 columns and 86811 nonzeros\n",
      "Model fingerprint: 0xaaa35607\n",
      "Model has 41186 quadratic objective terms\n",
      "Variable types: 1004 continuous, 431 integer (431 binary)\n",
      "Coefficient statistics:\n",
      "  Matrix range     [8e-06, 2e+01]\n",
      "  Objective range  [1e-05, 1e-05]\n",
      "  QObjective range [1e-05, 4e+01]\n",
      "  Bounds range     [1e+00, 1e+00]\n",
      "  RHS range        [3e-01, 1e+02]\n",
      "\n",
      "User MIP start produced solution with objective 0.0105427 (0.02s)\n",
      "Loaded user MIP start with objective 0.0105427\n",
      "Presolve added 0 rows and 280 columns\n",
      "Presolve removed 280 rows and 0 columns\n",
      "Presolve time: 0.06s\n",
      "Presolved: 974 rows, 1766 columns, 46135 nonzeros\n",
      "Presolved model has 41237 quadratic objective terms\n",
      "Found heuristic solution: objective 0.0109263\n",
      "Variable types: 1335 continuous, 431 integer (431 binary)\n",
      "\n",
      "Root relaxation: objective 9.584293e-03, 633 iterations, 0.02 seconds (0.06 work units)\n",
      "\n",
      "    Nodes    |    Current Node    |     Objective Bounds      |     Work\n",
      " Expl Unexpl |  Obj  Depth IntInf | Incumbent    BestBd   Gap | It/Node Time\n",
      "\n",
      "     0     0    0.00958    0  286    0.01054    0.00958  9.09%     -    0s\n",
      "H    0     0                       0.0105427    0.00958  9.09%     -    0s\n",
      "     0     0    0.00959    0  286    0.01054    0.00959  9.01%     -    0s\n",
      "     0     2    0.00959    0  286    0.01054    0.00959  9.01%     -    0s\n",
      "H  189   202                       0.0105343    0.00965  8.39%  90.8    1s\n",
      "H  197   202                       0.0105173    0.00965  8.24%  88.6    1s\n",
      "H  708   721                       0.0104714    0.00965  7.84%  48.8    3s\n",
      "H  709   721                       0.0104502    0.00965  7.65%  48.7    3s\n",
      "H  710   721                       0.0104206    0.00965  7.39%  48.7    3s\n",
      "H  711   721                       0.0103899    0.00965  7.11%  48.7    3s\n",
      "H  718   721                       0.0103577    0.00965  6.82%  48.5    3s\n",
      "  1504  1533    0.00983   64  302    0.01036    0.00965  6.82%  36.1    5s\n",
      "H 3090  2713                       0.0103357    0.00967  6.44%  33.6    9s\n",
      "  3097  2729    0.00968   16  412    0.01034    0.00967  6.44%  33.6   10s\n",
      "H 3187  2625                       0.0103043    0.00968  6.06%  33.6   10s\n",
      "H 3191  2501                       0.0102968    0.00968  5.99%  33.6   10s\n",
      "H 3192  2383                       0.0102815    0.00968  5.85%  33.6   10s\n",
      "  6555  4025    0.00998   27  401    0.01028    0.00971  5.53%  28.8   15s\n",
      "\n",
      "Explored 8645 nodes (231184 simplex iterations) in 17.75 seconds (18.41 work units)\n",
      "Thread count was 20 (of 20 available processors)\n",
      "\n",
      "Solution count 10: 0.0102815 0.0102968 0.0103043 ... 0.0105173\n",
      "\n",
      "Optimal solution found (tolerance 5.00e-02)\n",
      "Best objective 1.028146743784e-02, best bound 9.770081777031e-03, gap 4.9739%\n",
      "SVM MVO Objective Value  0.010281467437835375\n",
      "Norm of w  0.0\n",
      "Positive Classification errors  40.0\n",
      "Negative Classification errors  0.0\n",
      "Set parameter TimeLimit to value 20\n",
      "Set parameter MIPGap to value 0.05\n",
      "Set parameter FeasibilityTol to value 1e-08\n",
      "--------------------\n",
      "Solving Card MVO...\n",
      "Gurobi Optimizer version 11.0.0 build v11.0.0rc2 (win64 - Windows 11.0 (22621.2))\n",
      "\n",
      "CPU model: 12th Gen Intel(R) Core(TM) i7-12700H, instruction set [SSE2|AVX|AVX2]\n",
      "Thread count: 14 physical cores, 20 logical processors, using up to 20 threads\n",
      "\n",
      "Optimize a model with 289 rows, 572 columns and 1430 nonzeros\n",
      "Model fingerprint: 0x6cde1d9b\n",
      "Model has 41041 quadratic objective terms\n",
      "Variable types: 286 continuous, 286 integer (286 binary)\n",
      "Coefficient statistics:\n",
      "  Matrix range     [9e-04, 1e+00]\n",
      "  Objective range  [0e+00, 0e+00]\n",
      "  QObjective range [1e-05, 2e+00]\n",
      "  Bounds range     [1e+00, 1e+00]\n",
      "  RHS range        [3e-01, 1e+02]\n",
      "Presolve time: 0.02s\n",
      "Presolved: 391 rows, 623 columns, 1634 nonzeros\n",
      "Presolved model has 41092 quadratic objective terms\n",
      "Variable types: 337 continuous, 286 integer (286 binary)\n",
      "Found heuristic solution: objective 0.0151464\n",
      "Found heuristic solution: objective 0.0106936\n",
      "\n",
      "Root relaxation: objective 9.584293e-03, 121 iterations, 0.00 seconds (0.00 work units)\n",
      "\n",
      "    Nodes    |    Current Node    |     Objective Bounds      |     Work\n",
      " Expl Unexpl |  Obj  Depth IntInf | Incumbent    BestBd   Gap | It/Node Time\n",
      "\n",
      "     0     0    0.00958    0   32    0.01069    0.00958  10.4%     -    0s\n",
      "H    0     0                       0.0095843    0.00958  0.00%     -    0s\n",
      "     0     0    0.00958    0   32    0.00958    0.00958  0.00%     -    0s\n",
      "\n",
      "Explored 1 nodes (121 simplex iterations) in 0.05 seconds (0.02 work units)\n",
      "Thread count was 20 (of 20 available processors)\n",
      "\n",
      "Solution count 3: 0.00958429 0.0106936 0.0151464 \n",
      "\n",
      "Optimal solution found (tolerance 5.00e-02)\n",
      "Best objective 9.584292796862e-03, best bound 9.584292796862e-03, gap 0.0000%\n",
      "Card MVO Finished...\n",
      "--------------------\n"
     ]
    }
   ],
   "source": [
    "# Number of assets\n",
    "n  = len(tickers)\n",
    "env.n = n\n",
    "\n",
    "# Measure runtime: start the clock\n",
    "start_time = time.time()\n",
    "\n",
    "# Subset the returns and factor returns corresponding to the current calibration period.\n",
    "periodReturns = returns[returns.index <= calEnd]\n",
    "periodFactRet = factorRet[factorRet.index <= calEnd]\n",
    "\n",
    "# take the last available contextual observations\n",
    "period_daily_adjClose = daily_adjClose[daily_adjClose.index <= calEnd]\n",
    "period_Context_idx = ContextualInfo.index.get_level_values('date') <= calEnd\n",
    "period_Context = ContextualInfo.iloc[period_Context_idx].groupby('ticker').last()\n",
    "\n",
    "env.periodReturns = periodReturns\n",
    "env.periodFactRet = periodFactRet\n",
    "env.period_daily_adjClose = period_daily_adjClose\n",
    "env.period_Context = period_Context\n",
    "\n",
    "# there should be a feature vector for each asset\n",
    "assert len(period_Context) == n\n",
    "# all the tickers should be aligned in the context and ticker dataset\n",
    "assert (periodReturns.columns == period_Context.index).all()\n",
    "\n",
    "current_price_idx = (calEnd - pd.offsets.DateOffset(months=1) <= adjClose.index)&(adjClose.index <= calEnd)\n",
    "currentPrices = adjClose[current_price_idx]\n",
    "\n",
    "# Subset the prices corresponding to the current out-of-sample test period.\n",
    "periodPrices_idx = (testStart <= adjClose.index)&(adjClose.index <= testEnd)\n",
    "periodPrices = adjClose[periodPrices_idx]\n",
    "\n",
    "assert len(periodPrices) == investPeriod\n",
    "assert len(currentPrices) == 1\n",
    "\n",
    "# Set the initial value of the portfolio or update the portfolio value\n",
    "\n",
    "#----------------------------------------------------------------------\n",
    "# Portfolio optimization\n",
    "# You must write code your own algorithmic trading function\n",
    "#----------------------------------------------------------------------\n",
    "\n",
    "x = Strategy.execute_strategy(periodReturns, periodFactRet, environment=env) #equal_weight(periodReturns) #StrategyFunction(periodReturns, periodFactRet, x0[:,t]);\n",
    "x = StrategyCardMVO.execute_strategy(periodReturns, periodFactRet, environment=env) #equal_weight(periodReturns) #StrategyFunction(periodReturns, periodFactRet, x0[:,t]);\n",
    "\n",
    "end_time = time.time()"
   ],
   "metadata": {
    "collapsed": false,
    "ExecuteTime": {
     "end_time": "2024-02-14T00:25:33.550408500Z",
     "start_time": "2024-02-14T00:25:11.746331700Z"
    }
   }
  },
  {
   "cell_type": "code",
   "execution_count": 23,
   "outputs": [
    {
     "data": {
      "text/plain": "{'mu': array([[ 0.43927009],\n        [ 0.20978807],\n        [ 0.30144374],\n        [ 0.49909422],\n        [-0.03216696],\n        [ 0.1872257 ],\n        [ 0.32372812],\n        [ 0.02087854],\n        [ 0.45003016],\n        [ 0.20087675],\n        [ 0.10303718],\n        [ 0.15584843],\n        [ 0.15856887],\n        [-0.08296886],\n        [ 0.42266354],\n        [ 0.58013097],\n        [ 0.62304426],\n        [ 0.04133816],\n        [-0.08305694],\n        [ 0.06435591],\n        [-0.21019444],\n        [-0.02876528],\n        [ 0.16527273],\n        [-0.0433361 ],\n        [-0.00988192],\n        [ 0.19698544],\n        [ 0.20821405],\n        [-0.20790961],\n        [ 0.00859546],\n        [ 0.1527315 ],\n        [ 0.84537154],\n        [ 0.19142745],\n        [ 0.18842562],\n        [-0.09240459],\n        [-0.20124514],\n        [ 0.42604439],\n        [-0.29647255],\n        [ 0.30356166],\n        [-0.15527823],\n        [-0.03849628],\n        [ 0.20505024],\n        [ 0.07462846],\n        [ 0.12906625],\n        [ 0.29306001],\n        [-0.0349726 ],\n        [-0.06177355],\n        [-0.18612859],\n        [ 0.19669953],\n        [ 0.18731308],\n        [ 0.00566631],\n        [ 0.18433625],\n        [-0.08782219],\n        [ 0.28724661],\n        [ 0.15729001],\n        [-0.17404001],\n        [ 0.11674346],\n        [-0.05945129],\n        [ 0.15433907],\n        [ 0.40305457],\n        [-0.22704635],\n        [ 0.04173318],\n        [ 0.47734381],\n        [ 0.7771936 ],\n        [-0.04804888],\n        [ 0.42509501],\n        [-0.09676588],\n        [-0.01745382],\n        [ 0.13173335],\n        [-0.07315118],\n        [-0.16670667],\n        [-0.22927506],\n        [ 0.2503851 ],\n        [ 0.46917449],\n        [-0.01309038],\n        [ 0.15579244],\n        [ 0.13755173],\n        [ 0.09453321],\n        [ 0.10842059],\n        [ 0.32450058],\n        [ 0.31363955],\n        [ 0.18578286],\n        [-0.12334373],\n        [ 0.03690103],\n        [-0.2413304 ],\n        [ 0.02681124],\n        [ 0.0175136 ],\n        [ 0.10597794],\n        [-0.00555914],\n        [ 0.12298822],\n        [ 0.37194288],\n        [ 0.2554131 ],\n        [ 0.30963955],\n        [ 0.27831682],\n        [ 0.64748264],\n        [ 0.28654165],\n        [ 0.30944162],\n        [-0.32216858],\n        [ 0.22287559],\n        [ 0.29345517],\n        [ 0.22617953],\n        [ 0.50026806],\n        [ 0.15070357],\n        [ 0.34236398],\n        [ 0.03858066],\n        [ 0.68666116],\n        [-0.12253385],\n        [-0.04956381],\n        [-0.1695105 ],\n        [ 0.10377729],\n        [ 0.04652644],\n        [ 0.65316634],\n        [ 0.46695716],\n        [-0.2136143 ],\n        [ 0.16367753],\n        [-0.16007373],\n        [ 0.10236775],\n        [ 0.06675646],\n        [-0.12520987],\n        [-0.04881247],\n        [-0.02079226],\n        [ 0.55998   ],\n        [ 0.1287591 ],\n        [ 0.59240139],\n        [ 0.07909062],\n        [ 0.2773503 ],\n        [ 0.45903735],\n        [ 0.60273857],\n        [-0.00096617],\n        [ 0.45949272],\n        [ 0.05242712],\n        [ 0.36007155],\n        [ 0.07032165],\n        [-0.01462432],\n        [ 0.30402409],\n        [ 0.15597125],\n        [ 0.30677123],\n        [-0.04216125],\n        [ 0.22305482],\n        [ 0.02748118],\n        [ 0.51384089],\n        [ 0.19983008],\n        [-0.0117152 ],\n        [ 0.30918946],\n        [ 0.42980244],\n        [ 0.08382664],\n        [-0.07979519],\n        [ 0.16276531],\n        [-0.13210704],\n        [ 0.32211309],\n        [-0.19851197],\n        [ 0.03193873],\n        [ 0.61621617],\n        [-0.04147321],\n        [ 0.10211221],\n        [ 0.26603759],\n        [ 0.09813368],\n        [ 0.13724885],\n        [-0.35346241],\n        [ 0.07778891],\n        [ 0.31650265],\n        [ 0.49655425],\n        [ 0.37759455],\n        [ 0.34356398],\n        [ 0.11537675],\n        [-0.08010089],\n        [ 0.26743262],\n        [ 0.20311024],\n        [-0.05234918],\n        [ 0.48640348],\n        [ 0.21228478],\n        [ 0.08652191],\n        [-0.13162913],\n        [ 0.26889624],\n        [ 0.75599265],\n        [-0.07120056],\n        [-0.27391252],\n        [-0.15063715],\n        [ 0.0707358 ],\n        [-0.20368049],\n        [ 0.03539685],\n        [ 0.08669133],\n        [-0.00162413],\n        [-0.13256132],\n        [-0.12253804],\n        [ 0.02226629],\n        [ 0.29913752],\n        [-0.03757236],\n        [ 0.52955882],\n        [-0.07304482],\n        [ 0.19312126],\n        [-0.09974951],\n        [ 0.48717938],\n        [-0.11225803],\n        [ 0.08563405],\n        [-0.19965968],\n        [ 0.26959354],\n        [ 0.76225642],\n        [ 0.46132867],\n        [-0.24371901],\n        [ 0.31229138],\n        [ 0.35890809],\n        [-0.06819091],\n        [ 0.05417403],\n        [-0.03103361],\n        [ 0.2355312 ],\n        [-0.07009668],\n        [ 0.18278706],\n        [-0.16216275],\n        [ 0.16149291],\n        [ 0.34872395],\n        [ 0.16992171],\n        [ 0.44606826],\n        [-0.07236767],\n        [ 0.15295254],\n        [ 0.09591533],\n        [-0.0075704 ],\n        [ 0.00445497],\n        [ 0.19139103],\n        [-0.19580269],\n        [ 0.01104799],\n        [-0.3325593 ],\n        [ 0.0434468 ],\n        [-0.08350107],\n        [ 0.37561841],\n        [-0.04105721],\n        [-0.06823795],\n        [-0.27186013],\n        [-0.12953675],\n        [-0.06176596],\n        [ 0.08276949],\n        [ 0.79162448],\n        [ 0.42568929],\n        [ 0.08932948],\n        [-0.08512615],\n        [ 0.05910572],\n        [-0.00837971],\n        [ 0.49184722],\n        [ 0.13137723],\n        [ 0.10160185],\n        [ 0.15412803],\n        [ 0.21005378],\n        [ 0.27632666],\n        [-0.22696649],\n        [-0.17082693],\n        [ 0.17197736],\n        [ 0.35161002],\n        [ 0.36635457],\n        [ 0.5835647 ],\n        [ 0.33809809],\n        [ 0.22214393],\n        [-0.12572494],\n        [ 0.45365938],\n        [-0.16214979],\n        [-0.26283303],\n        [ 0.08143956],\n        [ 0.01522663],\n        [-0.0220533 ],\n        [ 0.10062016],\n        [ 0.13502589],\n        [ 0.62717286],\n        [ 0.13045234],\n        [-0.00089738],\n        [ 0.00728408],\n        [ 0.07899746],\n        [ 0.64656634],\n        [-0.01033373],\n        [ 0.25847765],\n        [-0.04856298],\n        [ 0.08087717],\n        [ 0.03930804],\n        [ 0.1678048 ],\n        [ 0.24382704],\n        [ 0.29102229],\n        [ 0.06969129],\n        [ 0.07620018],\n        [-0.13479845],\n        [ 0.15376367],\n        [-0.01387703],\n        [ 0.44825632],\n        [ 0.22735339],\n        [ 0.12039346],\n        [-0.14533431],\n        [ 0.06144291],\n        [ 0.325168  ],\n        [-0.0521061 ],\n        [ 0.3794813 ]]),\n 'Q': array([[0.38280602, 0.02476127, 0.04945492, ..., 0.03325639, 0.03222642,\n         0.01551671],\n        [0.02476127, 0.05753008, 0.02032238, ..., 0.01833807, 0.00945659,\n         0.01317718],\n        [0.04945492, 0.02032238, 0.22176545, ..., 0.02303473, 0.02511166,\n         0.01681994],\n        ...,\n        [0.03325639, 0.01833807, 0.02303473, ..., 0.0940492 , 0.01919337,\n         0.02309953],\n        [0.03222642, 0.00945659, 0.02511166, ..., 0.01919337, 0.17206303,\n         0.00851486],\n        [0.01551671, 0.01317718, 0.01681994, ..., 0.02309953, 0.00851486,\n         0.1308253 ]]),\n 'targetRet': 0.323548705017977,\n 'previous_portfolio': None,\n 'K': 143,\n 'period_Context':         adjRet_mean_20  adjRet_median_20  adjRet_std_20  adjRet_q1_20  \\\n ticker                                                                  \n AAPL         -1.960503         -0.690431       0.643534     -1.573891   \n ABT          -0.240230          0.161379      -0.191686     -0.500273   \n ADBE          1.513636          1.612102       0.296609      0.707307   \n ADI          -0.090388         -0.191643       1.039931     -0.977752   \n ADM           0.549299          0.472894      -0.537330      0.534807   \n ...                ...               ...            ...           ...   \n X             0.217512          1.694798       0.668817     -1.298439   \n XRAY         -0.040355         -0.191643      -0.880791      0.746631   \n XRX           0.538056          0.415801      -0.449669      0.752412   \n ZBRA         -0.224361         -0.191643       0.147987      0.608196   \n ZION         -0.988089         -0.953857      -0.585817     -0.201160   \n \n         adjRet_q3_20  adjRet_mean_40  adjRet_median_40  adjRet_std_40  \\\n ticker                                                                  \n AAPL       -0.213694       -1.327435         -1.123518       0.946985   \n ABT        -0.396963       -0.148586          0.201690      -0.773639   \n ADBE        1.225372        0.801958          0.957658       0.697260   \n ADI        -0.325444        0.785220         -0.262105       0.656917   \n ADM         0.020839       -0.490342         -0.549123      -0.892399   \n ...              ...             ...               ...            ...   \n X           1.466258       -0.718265         -0.566107      -0.079434   \n XRAY       -0.361005        0.465773          1.491553      -1.053424   \n XRX        -0.307764        0.437800          0.250077      -0.614141   \n ZBRA       -0.912547       -0.831890         -0.740842       0.468528   \n ZION       -0.248230       -0.018406         -0.421247      -0.181623   \n \n         adjRet_q1_40  adjRet_q3_40  ...  sale_invcap  sale_nwc  short_debt  \\\n ticker                              ...                                      \n AAPL       -2.485353     -0.047828  ...     0.270763 -0.015071   -1.053185   \n ABT         0.706746     -0.099577  ...     0.037536  0.319362    1.190010   \n ADBE       -0.301533      1.257040  ...    -0.383531 -0.018563    0.912224   \n ADI        -0.866798      0.590832  ...    -0.669800 -0.019739   -0.908677   \n ADM         0.718781     -0.699225  ...    -0.090590  0.029746    0.266367   \n ...              ...           ...  ...          ...       ...         ...   \n X          -0.966787     -0.052815  ...     0.435474  0.177125   -0.771835   \n XRAY        1.600620     -0.256929  ...    -0.349177  0.012739   -0.385133   \n XRX         0.908584      0.254891  ...    -0.425955  0.006335   -0.012892   \n ZBRA       -0.920279     -0.297893  ...    -0.196924 -0.022503    2.437395   \n ZION        0.164714     -0.272103  ...    -0.748751 -0.621522    1.701528   \n \n         staff_sale  totdebt_invcap      mean  variance  average_correlation  \\\n ticker                                                                        \n AAPL     -0.457794       -0.179271  1.290522  1.931781             0.414904   \n ABT      -0.457794       -0.111241  0.317805 -0.427259             0.161565   \n ADBE     -0.457794       -0.667913  0.706310  0.763846             0.192909   \n ADI      -0.457794       -0.354790  1.544101  1.998258             2.046395   \n ADM      -0.457794       -0.052503 -0.707782 -0.503786            -0.752094   \n ...            ...             ...       ...       ...                  ...   \n X         1.211994       -0.314756 -1.187470 -0.525319            -0.452343   \n XRAY     -0.457794       -0.267592 -0.310993 -0.382386            -1.204692   \n XRX      -0.457794        0.567992  0.806871 -0.162407             0.571701   \n ZBRA     -0.457794       -0.666366 -0.792299  0.403383            -0.238613   \n ZION      1.098324        1.222844  1.037092  0.104309             0.093643   \n \n         average_abs_correlation  standard_deviation_of_corr  \n ticker                                                       \n AAPL                   0.513241                    1.055696  \n ABT                    0.156457                    0.397211  \n ADBE                   0.191346                    0.235518  \n ADI                    2.056747                    1.690108  \n ADM                   -0.754025                   -0.919844  \n ...                         ...                         ...  \n X                     -0.458315                   -0.534920  \n XRAY                  -1.201392                   -1.405458  \n XRX                    0.566003                    0.461738  \n ZBRA                  -0.238437                   -0.480546  \n ZION                   0.097926                    0.305232  \n \n [286 rows x 145 columns],\n 'k': 120,\n 'alpha': 0.010000000000000009,\n 'premium': 1.4,\n 'EstNumObs': 750,\n 'ticker_index': 0,\n 'target_return_strategy': <function services.environment_functions.premium_target(mu, premium)>,\n 'target_return_strategy_args': ['premium'],\n 'turnover_limit': 0.75,\n 'turnover_constraints': True,\n 'cardinality_ratio': 0.5,\n 'MipGap': 0.05,\n 'limit_time': 20,\n 'bigMStrategy': <function services.class_weighted_bigM.ClassWgtHyperparameterBigMStrategy(**kwargs)>,\n 'bigM_limit_time': 20,\n 'bigM_MipGap': 0.05,\n 'bigM_SolutionLimit': 20,\n 'SkipSOCP': True,\n 'tightening_iter_lim': 1,\n 'SVMMVO_bigM_time_limit': 5,\n 'SVMMVO_MipGap': 0.1,\n 'SVMMVO_SolutionLimit': 5,\n 'SOCP_limit_time': 10,\n 'q': 2,\n 'C': 0.1,\n 'epsilon': 0.1,\n 'separable': False,\n 'LogToConsole': True,\n 'Verbose': True,\n 'hyperparams': {'C': [0.1, 1.0, 10.0, 100.0],\n  'epsilon': [0.1, 1.0, 10.0, 100.0]},\n 'q_alpha': 0.6838,\n 'kappa': 0.1}"
     },
     "execution_count": 23,
     "metadata": {},
     "output_type": "execute_result"
    }
   ],
   "source": [
    "Strategy.current_results['optimization_params']"
   ],
   "metadata": {
    "collapsed": false,
    "ExecuteTime": {
     "end_time": "2024-02-14T00:25:33.566524Z",
     "start_time": "2024-02-14T00:25:33.503353900Z"
    }
   }
  },
  {
   "cell_type": "code",
   "execution_count": 24,
   "outputs": [
    {
     "data": {
      "text/plain": "dict_keys(['mu', 'Q', 'targetRet', 'previous_portfolio', 'K', 'period_Context', 'k', 'alpha', 'premium', 'EstNumObs', 'ticker_index', 'target_return_strategy', 'target_return_strategy_args', 'turnover_limit', 'turnover_constraints', 'cardinality_ratio', 'MipGap', 'limit_time', 'bigMStrategy', 'bigM_limit_time', 'bigM_MipGap', 'bigM_SolutionLimit', 'SkipSOCP', 'tightening_iter_lim', 'SVMMVO_bigM_time_limit', 'SVMMVO_MipGap', 'SVMMVO_SolutionLimit', 'SOCP_limit_time', 'q', 'C', 'epsilon', 'separable', 'LogToConsole', 'Verbose', 'hyperparams', 'q_alpha', 'kappa'])"
     },
     "execution_count": 24,
     "metadata": {},
     "output_type": "execute_result"
    }
   ],
   "source": [
    "Strategy.current_results['optimization_params'].keys()"
   ],
   "metadata": {
    "collapsed": false,
    "ExecuteTime": {
     "end_time": "2024-02-14T00:25:33.612925300Z",
     "start_time": "2024-02-14T00:25:33.533593100Z"
    }
   }
  },
  {
   "cell_type": "code",
   "execution_count": 25,
   "outputs": [
    {
     "data": {
      "text/plain": "0.010281467437835375"
     },
     "execution_count": 25,
     "metadata": {},
     "output_type": "execute_result"
    }
   ],
   "source": [
    "Strategy.current_results['obj_value'] # bound satisfied"
   ],
   "metadata": {
    "collapsed": false,
    "ExecuteTime": {
     "end_time": "2024-02-14T00:25:33.612925300Z",
     "start_time": "2024-02-14T00:25:33.550408500Z"
    }
   }
  },
  {
   "cell_type": "code",
   "execution_count": 26,
   "outputs": [
    {
     "data": {
      "text/plain": "0.010542722076548121"
     },
     "execution_count": 26,
     "metadata": {},
     "output_type": "execute_result"
    }
   ],
   "source": [
    "StrategyCardMVO.current_results['obj_value']*(1 + kappa)"
   ],
   "metadata": {
    "collapsed": false,
    "ExecuteTime": {
     "end_time": "2024-02-14T00:25:33.612925300Z",
     "start_time": "2024-02-14T00:25:33.566524Z"
    }
   }
  },
  {
   "cell_type": "code",
   "execution_count": 27,
   "outputs": [],
   "source": [
    "x_svmmvo = Strategy.current_results['x']\n",
    "x_cardmvo = StrategyCardMVO.current_results['x']"
   ],
   "metadata": {
    "collapsed": false,
    "ExecuteTime": {
     "end_time": "2024-02-14T00:25:33.660422600Z",
     "start_time": "2024-02-14T00:25:33.581604300Z"
    }
   }
  },
  {
   "cell_type": "code",
   "execution_count": 28,
   "outputs": [],
   "source": [
    "portfolios = pd.DataFrame([x_svmmvo, x_cardmvo], columns = tickers, index = ['SVMMVO','CardMVO']).T"
   ],
   "metadata": {
    "collapsed": false,
    "ExecuteTime": {
     "end_time": "2024-02-14T00:25:33.676101600Z",
     "start_time": "2024-02-14T00:25:33.597292900Z"
    }
   }
  },
  {
   "cell_type": "code",
   "execution_count": 29,
   "outputs": [
    {
     "data": {
      "text/plain": "<Figure size 400x600 with 1 Axes>",
      "image/png": "[encoded data removed]"
     },
     "metadata": {},
     "output_type": "display_data"
    }
   ],
   "source": [
    "portfolios[(portfolios > 0.001).any(axis =1)].plot.barh(figsize = (4, 6));"
   ],
   "metadata": {
    "collapsed": false,
    "ExecuteTime": {
     "end_time": "2024-02-14T00:25:33.848355600Z",
     "start_time": "2024-02-14T00:25:33.612925300Z"
    }
   }
  },
  {
   "cell_type": "markdown",
   "source": [
    "# 3. Efficient Frontier"
   ],
   "metadata": {
    "collapsed": false
   }
  },
  {
   "cell_type": "code",
   "execution_count": 30,
   "outputs": [
    {
     "name": "stdout",
     "output_type": "stream",
     "text": [
      "Set parameter TimeLimit to value 20\n",
      "Set parameter MIPGap to value 0.05\n",
      "Set parameter FeasibilityTol to value 1e-08\n",
      "--------------------\n",
      "Solving Card MVO...\n",
      "Gurobi Optimizer version 11.0.0 build v11.0.0rc2 (win64 - Windows 11.0 (22621.2))\n",
      "\n",
      "CPU model: 12th Gen Intel(R) Core(TM) i7-12700H, instruction set [SSE2|AVX|AVX2]\n",
      "Thread count: 14 physical cores, 20 logical processors, using up to 20 threads\n",
      "\n",
      "Optimize a model with 289 rows, 572 columns and 1430 nonzeros\n",
      "Model fingerprint: 0x1fab0150\n",
      "Model has 41041 quadratic objective terms\n",
      "Variable types: 286 continuous, 286 integer (286 binary)\n",
      "Coefficient statistics:\n",
      "  Matrix range     [9e-04, 1e+00]\n",
      "  Objective range  [0e+00, 0e+00]\n",
      "  QObjective range [1e-05, 2e+00]\n",
      "  Bounds range     [1e+00, 1e+00]\n",
      "  RHS range        [1e+00, 1e+05]\n",
      "Found heuristic solution: objective 0.0890611\n",
      "Presolve removed 288 rows and 286 columns\n",
      "Presolve time: 0.01s\n",
      "Presolved: 1 rows, 286 columns, 286 nonzeros\n",
      "Presolved model has 41041 quadratic objective terms\n",
      "Variable types: 286 continuous, 0 integer (0 binary)\n",
      "Root relaxation presolve time: 0.01s\n",
      "Root relaxation presolved: 1 rows, 286 columns, 286 nonzeros\n",
      "Root relaxation presolved model has 41041 quadratic objective terms\n",
      "Root barrier log...\n",
      "\n",
      "Ordering time: 0.00s\n",
      "Barrier statistics:\n",
      " Free vars  : 285\n",
      " AA' NZ     : 4.076e+04\n",
      " Factor NZ  : 4.104e+04 (roughly 1 MB of memory)\n",
      " Factor Ops : 7.839e+06 (less than 1 second per iteration)\n",
      " Threads    : 13\n",
      "\n",
      "                  Objective                Residual\n",
      "Iter       Primal          Dual         Primal    Dual     Compl     Time\n",
      "   0   2.18890796e+05 -2.18890796e+05  2.86e+05 2.06e-05  2.50e+05     0s\n",
      "   1   2.27837761e-01 -4.99599799e+02  3.47e+02 2.50e-08  3.05e+02     0s\n",
      "   2   1.65993626e-02 -4.97114952e+02  3.47e-04 2.50e-14  8.69e-01     0s\n",
      "   3   1.65971331e-02 -5.08495104e-01  1.97e-08 6.94e-18  9.18e-04     0s\n",
      "   4   1.49923416e-02 -1.01891236e-02  5.15e-10 1.39e-17  4.40e-05     0s\n",
      "   5   6.56336776e-03 -4.66193306e-03  5.55e-16 3.47e-17  1.96e-05     0s\n",
      "   6   4.16789272e-03  1.75099794e-03  4.44e-16 1.39e-17  4.23e-06     0s\n",
      "   7   3.29125260e-03  2.56138367e-03  6.66e-16 1.04e-17  1.28e-06     0s\n",
      "   8   2.95847256e-03  2.89741340e-03  6.66e-16 8.67e-18  1.07e-07     0s\n",
      "   9   2.91138210e-03  2.90892738e-03  8.88e-15 7.81e-18  4.29e-09     0s\n",
      "  10   2.90928785e-03  2.90927266e-03  6.22e-15 6.94e-18  2.66e-11     0s\n",
      "  11   2.90927345e-03  2.90927340e-03  3.98e-13 5.22e-18  8.22e-14     0s\n",
      "\n",
      "Barrier solved model in 11 iterations and 0.08 seconds (0.03 work units)\n",
      "Optimal objective 2.90927345e-03\n",
      "\n",
      "\n",
      "Root relaxation: objective 2.909273e-03, 0 iterations, 0.06 seconds (0.03 work units)\n",
      "\n",
      "    Nodes    |    Current Node    |     Objective Bounds      |     Work\n",
      " Expl Unexpl |  Obj  Depth IntInf | Incumbent    BestBd   Gap | It/Node Time\n",
      "\n",
      "*    0     0               0       0.0029093    0.00291  0.00%     -    0s\n",
      "\n",
      "Explored 1 nodes (0 simplex iterations) in 0.09 seconds (0.03 work units)\n",
      "Thread count was 20 (of 20 available processors)\n",
      "\n",
      "Solution count 1: 0.00290927 \n",
      "\n",
      "Optimal solution found (tolerance 5.00e-02)\n",
      "Best objective 2.909273447762e-03, best bound 2.909273447762e-03, gap 0.0000%\n",
      "Card MVO Finished...\n",
      "--------------------\n"
     ]
    }
   ],
   "source": [
    "# solve min variance and store it, along with the expected return\n",
    "from IPython.display import clear_output\n",
    "\n",
    "plot_scaling = 0.5\n",
    "NumPts = 10\n",
    "StrategyCardMVO.investor_preferences['cardinality_ratio'] = 1\n",
    "StrategyCardMVO.investor_preferences['premium'] = -1 * 10 ** 6\n",
    "StrategyCardMVO.execute_strategy(periodReturns, periodFactRet, environment=env)\n",
    "min_return = StrategyCardMVO.current_results['x']@StrategyCardMVO.current_estimates[0]\n",
    "max_return  = plot_scaling*StrategyCardMVO.current_estimates[0].max()\n",
    "max_premium = max_return/StrategyCardMVO.current_estimates[0].mean()\n",
    "min_premium = min_return/StrategyCardMVO.current_estimates[0].mean()\n",
    "\n",
    "path = \"Experiments//EF//\"+universe+\"//\"\n",
    "if not os.path.exists(path):\n",
    "    os.makedirs(path)\n",
    "    print(\"Path created: \", path)"
   ],
   "metadata": {
    "collapsed": false,
    "ExecuteTime": {
     "end_time": "2024-02-14T00:25:34.021222700Z",
     "start_time": "2024-02-14T00:25:33.848355600Z"
    }
   }
  },
  {
   "cell_type": "markdown",
   "source": [
    "### Do not run here"
   ],
   "metadata": {
    "collapsed": false
   }
  },
  {
   "cell_type": "code",
   "execution_count": 31,
   "outputs": [
    {
     "name": "stdout",
     "output_type": "stream",
     "text": [
      "Set parameter TimeLimit to value 20\n",
      "Set parameter MIPGap to value 0.05\n",
      "Cardinality ratio that binds  0.16083916083916083\n"
     ]
    }
   ],
   "source": [
    "vols_mvo, rets_mvo, premiums_mvo, cardinalities_mvo, mip_gaps, results = efficient_frontier_premium(StrategyCardMVO, max_return, min_return, NumPts, periodReturns, periodFactRet, env)\n",
    "print(\"Cardinality ratio that binds \", cardinalities_mvo.max()/len(tickers)) #natural cardinality based on 0.1%\n",
    "mvo_frontier_results = {}\n",
    "mvo_frontier_results['MVO'] =  vols_mvo, rets_mvo, premiums_mvo, cardinalities_mvo, mip_gaps, results\n",
    "export_dict(path, '', mvo_frontier_results, 'MVO')"
   ],
   "metadata": {
    "collapsed": false
   }
  },
  {
   "cell_type": "code",
   "execution_count": 32,
   "outputs": [
    {
     "name": "stdout",
     "output_type": "stream",
     "text": [
      "Set parameter TimeLimit to value 20\n",
      "Set parameter MIPGap to value 0.05\n"
     ]
    }
   ],
   "source": [
    "cardinality_ratios = [0.02, 0.04, 0.06, 0.08, 0.1]\n",
    "cardinality_frontier_results = {}\n",
    "\n",
    "for cardinality_ratio in cardinality_ratios:\n",
    "    StrategyCardMVO.investor_preferences['cardinality_ratio'] = cardinality_ratio\n",
    "    cardinality_frontier_results[cardinality_ratio] = efficient_frontier_premium(StrategyCardMVO, max_return, min_return, NumPts, periodReturns, periodFactRet, env)\n",
    "export_dict(path, '', cardinality_frontier_results, 'CardMVO')"
   ],
   "metadata": {
    "collapsed": false
   }
  },
  {
   "cell_type": "code",
   "execution_count": 33,
   "outputs": [
    {
     "name": "stdout",
     "output_type": "stream",
     "text": [
      "Set parameter TimeLimit to value 20\n",
      "Set parameter MIPGap to value 0.05\n",
      "Set parameter TimeLimit to value 20\n",
      "Set parameter FeasibilityTol to value 1e-08\n",
      "Set parameter TimeLimit to value 20\n",
      "Set parameter FeasibilityTol to value 1e-08\n",
      "Set parameter MIPGap to value 0.05\n"
     ]
    },
    {
     "name": "stderr",
     "output_type": "stream",
     "text": [
      "\n",
      "KeyboardInterrupt\n",
      "\n"
     ]
    }
   ],
   "source": [
    "kappas =  [0.0125, 0.025, 0.05, 0.1, 0.2, 0.4, 0.8, 1.6]\n",
    "svmmvo_frontier_results = {}\n",
    "for cardinality_ratio in cardinality_ratios:\n",
    "    for kappa in kappas:\n",
    "        Strategy.investor_preferences['kappa'] = kappa\n",
    "        Strategy.investor_preferences['cardinality_ratio'] = cardinality_ratio\n",
    "        svmmvo_frontier_results[(cardinality_ratio, kappa)] = efficient_frontier_premium(Strategy, max_return, min_return, NumPts, periodReturns, periodFactRet, env)\n",
    "export_dict(path, '', svmmvo_frontier_results, 'ClassWgtSVMMVO')"
   ],
   "metadata": {
    "collapsed": false
   }
  },
  {
   "cell_type": "markdown",
   "source": [
    "# Analysis of Frontiers"
   ],
   "metadata": {
    "collapsed": false
   }
  },
  {
   "cell_type": "code",
   "execution_count": null,
   "outputs": [],
   "source": [
    "from services.experiments import *\n",
    "mvo_frontier_results = import_dict(path, '', 'MVO')\n",
    "cardinality_frontier_results = import_dict(path, '', 'CardMVO')\n",
    "svmmvo_frontier_results = import_dict(path, '', 'ClassWgtSVMMVO')\n",
    "\n",
    "cardinality = 0.06\n",
    "cardinality_str = r\"$K = \\lfloor \"+str(cardinality) + r\"N \\rfloor$\"\n",
    "kappa = 0.2\n",
    "kappa_str = r\"$\\kappa = \"+str(kappa*100)+r\"\\%$\""
   ],
   "metadata": {
    "collapsed": false,
    "ExecuteTime": {
     "start_time": "2024-02-14T00:40:26.047734700Z"
    }
   }
  },
  {
   "cell_type": "code",
   "execution_count": 30,
   "outputs": [
    {
     "ename": "NameError",
     "evalue": "name 'mvo_frontier_results' is not defined",
     "output_type": "error",
     "traceback": [
      "\u001B[1;31m---------------------------------------------------------------------------\u001B[0m",
      "\u001B[1;31mNameError\u001B[0m                                 Traceback (most recent call last)",
      "Cell \u001B[1;32mIn [30], line 1\u001B[0m\n\u001B[1;32m----> 1\u001B[0m vols_mvo, rets_mvo, premiums_mvo, cardinalities_mvo, gaps_mvo, results_mvo \u001B[38;5;241m=\u001B[39m \u001B[43mmvo_frontier_results\u001B[49m[\u001B[38;5;124m'\u001B[39m\u001B[38;5;124mMVO\u001B[39m\u001B[38;5;124m'\u001B[39m]\n",
      "\u001B[1;31mNameError\u001B[0m: name 'mvo_frontier_results' is not defined"
     ]
    }
   ],
   "source": [
    "vols_mvo, rets_mvo, premiums_mvo, cardinalities_mvo, gaps_mvo, results_mvo = mvo_frontier_results['MVO']"
   ],
   "metadata": {
    "collapsed": false,
    "ExecuteTime": {
     "end_time": "2024-02-13T23:04:51.263282300Z",
     "start_time": "2024-02-13T23:04:51.231996400Z"
    }
   }
  },
  {
   "cell_type": "code",
   "execution_count": 31,
   "outputs": [
    {
     "ename": "NameError",
     "evalue": "name 'rets_mvo' is not defined",
     "output_type": "error",
     "traceback": [
      "\u001B[1;31m---------------------------------------------------------------------------\u001B[0m",
      "\u001B[1;31mNameError\u001B[0m                                 Traceback (most recent call last)",
      "Cell \u001B[1;32mIn [31], line 1\u001B[0m\n\u001B[1;32m----> 1\u001B[0m \u001B[43mrets_mvo\u001B[49m\n",
      "\u001B[1;31mNameError\u001B[0m: name 'rets_mvo' is not defined"
     ]
    }
   ],
   "source": [
    "rets_mvo"
   ],
   "metadata": {
    "collapsed": false,
    "ExecuteTime": {
     "end_time": "2024-02-13T23:04:51.524741900Z",
     "start_time": "2024-02-13T23:04:51.446191300Z"
    }
   }
  },
  {
   "cell_type": "code",
   "execution_count": 247,
   "outputs": [],
   "source": [
    "vols_cardmvo, rets_cardmvo, premiums_cardmvo, cardinalities_cardmvo, gaps_cardmvo, results_cardmvo = cardinality_frontier_results[cardinality]"
   ],
   "metadata": {
    "collapsed": false,
    "ExecuteTime": {
     "end_time": "2024-02-13T21:45:39.767087Z",
     "start_time": "2024-02-13T21:45:39.748424400Z"
    }
   }
  },
  {
   "cell_type": "code",
   "execution_count": 248,
   "outputs": [],
   "source": [
    "vols_svmmvo, rets_svmmvo, premiums_svmmvo, cardinalities_svmmvo, gaps_svmmvo, results_svmmvo = svmmvo_frontier_results[(cardinality, kappa)]"
   ],
   "metadata": {
    "collapsed": false,
    "ExecuteTime": {
     "end_time": "2024-02-13T21:45:40.309180700Z",
     "start_time": "2024-02-13T21:45:40.280538200Z"
    }
   }
  },
  {
   "cell_type": "code",
   "execution_count": 249,
   "outputs": [],
   "source": [
    "#tickers[(results_svmmvo[t]['optimization_params']['mu'] > 0.5).flatten()]"
   ],
   "metadata": {
    "collapsed": false,
    "ExecuteTime": {
     "end_time": "2024-02-13T21:45:40.601540100Z",
     "start_time": "2024-02-13T21:45:40.569749300Z"
    }
   }
  },
  {
   "cell_type": "code",
   "execution_count": 250,
   "outputs": [],
   "source": [
    "vols_svmmvo = np.array([results_svmmvo[t]['x']@results_svmmvo[t]['optimization_params']['Q']@results_svmmvo[t]['x']  for t in results_svmmvo.keys()])"
   ],
   "metadata": {
    "collapsed": false,
    "ExecuteTime": {
     "end_time": "2024-02-13T21:45:40.904244500Z",
     "start_time": "2024-02-13T21:45:40.881071900Z"
    }
   }
  },
  {
   "cell_type": "code",
   "execution_count": 251,
   "outputs": [],
   "source": [
    "# import matplotlib\n",
    "# matplotlib.rc('text', usetex=True)\n",
    "# matplotlib.rcParams['text.latex.preamble']=[r\"\\usepackage{amsmath}\"]"
   ],
   "metadata": {
    "collapsed": false,
    "ExecuteTime": {
     "end_time": "2024-02-13T21:45:41.196582400Z",
     "start_time": "2024-02-13T21:45:41.164940700Z"
    }
   }
  },
  {
   "cell_type": "code",
   "execution_count": 252,
   "outputs": [
    {
     "data": {
      "text/plain": "<Figure size 600x300 with 1 Axes>",
      "image/png": "[encoded data removed]"
     },
     "metadata": {},
     "output_type": "display_data"
    }
   ],
   "source": [
    "plt.figure(figsize = (6,3))\n",
    "ax = plt.gca()\n",
    "plt.plot(np.sqrt(vols_mvo), rets_mvo, 'o-',  label = 'MVO', color = '#648FFF')\n",
    "plt.plot(np.sqrt(vols_cardmvo), rets_cardmvo, 'o-',  label = 'CardMVO($K$)', color = '#FE6100')\n",
    "plt.plot(np.sqrt(vols_svmmvo), rets_svmmvo, 'o-', label = r\"SVMMVO($K, \\kappa$)\", color = '#785EF0')\n",
    "plt.plot(np.sqrt((1+kappa)*vols_cardmvo), rets_cardmvo, '.-', label = r\"$(1 + \\kappa)$ - CardMVO($K$)\", color = '#FFB000')\n",
    "plt.title(\"Efficient Frontier \"+cardinality_str + \" \"+ kappa_str)\n",
    "plt.xlabel(r'$\\sqrt{\\bf{x}^{\\intercal} \\bf{\\Sigma} \\bf{x}}$')\n",
    "plt.ylabel(r'$\\bf{r}^{\\intercal} \\bf{x}$')\n",
    "plt.tight_layout()\n",
    "plt.legend()\n",
    "plt.savefig(path+\"frontier_\"+str(cardinality).replace(\".\",\"dot\")+\"_\"+str(kappa).replace(\".\",\"dot\") +\".svg\")"
   ],
   "metadata": {
    "collapsed": false,
    "ExecuteTime": {
     "end_time": "2024-02-13T21:45:41.662153200Z",
     "start_time": "2024-02-13T21:45:41.430792500Z"
    }
   }
  },
  {
   "cell_type": "code",
   "execution_count": 253,
   "outputs": [
    {
     "name": "stdout",
     "output_type": "stream",
     "text": [
      "Candidates to display\n",
      "0\n",
      "1\n",
      "2\n",
      "3\n",
      "4\n",
      "5\n",
      "6\n",
      "7\n",
      "8\n",
      "9\n"
     ]
    }
   ],
   "source": [
    "print(\"Candidates to display\")\n",
    "for t in results_svmmvo.keys():\n",
    "    t_vals = results_svmmvo[t]['t']\n",
    "    if np.sum(np.abs(results_svmmvo[t]['w'][t_vals > 0.99])) > 0.0001:\n",
    "        print(t)"
   ],
   "metadata": {
    "collapsed": false,
    "ExecuteTime": {
     "end_time": "2024-02-13T21:45:46.571103200Z",
     "start_time": "2024-02-13T21:45:46.550804100Z"
    }
   }
  },
  {
   "cell_type": "code",
   "execution_count": 272,
   "outputs": [],
   "source": [
    "t = 9"
   ],
   "metadata": {
    "collapsed": false,
    "ExecuteTime": {
     "end_time": "2024-02-13T21:48:47.923739100Z",
     "start_time": "2024-02-13T21:48:47.877479600Z"
    }
   }
  },
  {
   "cell_type": "code",
   "execution_count": 273,
   "outputs": [],
   "source": [
    "z_vals = np.rint(results_svmmvo[t]['z'])\n",
    "z_vals_card_mvo = np.rint(results_cardmvo[t]['z'])\n",
    "t_vals = results_svmmvo[t]['t']\n",
    "w_vals = results_svmmvo[t]['w'][t_vals > 0.99]\n",
    "b_val = results_svmmvo[t]['b']\n",
    "ret_string = r'$r_{\\mathsf{min}} = '+str(np.round(100*rets_svmmvo[t], 2)) + r'\\%$'"
   ],
   "metadata": {
    "collapsed": false,
    "ExecuteTime": {
     "end_time": "2024-02-13T21:48:48.229166100Z",
     "start_time": "2024-02-13T21:48:48.213511900Z"
    }
   }
  },
  {
   "cell_type": "code",
   "execution_count": 274,
   "outputs": [
    {
     "name": "stderr",
     "output_type": "stream",
     "text": [
      "C:\\Users\\david\\AppData\\Local\\Temp\\ipykernel_15392\\2920033590.py:10: SettingWithCopyWarning: \n",
      "A value is trying to be set on a copy of a slice from a DataFrame\n",
      "\n",
      "See the caveats in the documentation: https://pandas.pydata.org/pandas-docs/stable/user_guide/indexing.html#returning-a-view-versus-a-copy\n",
      "  context2d[r'$\\bf{z}$'].iloc[z_vals_reduced > 0.01] = '#648FFF'\n",
      "C:\\Users\\david\\AppData\\Local\\Temp\\ipykernel_15392\\2920033590.py:14: SettingWithCopyWarning: \n",
      "A value is trying to be set on a copy of a slice from a DataFrame\n",
      "\n",
      "See the caveats in the documentation: https://pandas.pydata.org/pandas-docs/stable/user_guide/indexing.html#returning-a-view-versus-a-copy\n",
      "  context2d[r'$\\bf{z}_{\\text{CardMVO}}$'].iloc[different] = '#0e0f3b'\n"
     ]
    }
   ],
   "source": [
    "from scipy import stats\n",
    "\n",
    "context2d = results_svmmvo[t]['optimization_params']['period_Context'].iloc[:, t_vals > 0.99]\n",
    "assets = (np.abs(stats.zscore(context2d)) < 100).all(axis=1)\n",
    "z_vals_reduced = z_vals[assets]\n",
    "z_vals_card_mvo_reduced = z_vals_card_mvo[assets]\n",
    "context2d = context2d[assets]\n",
    "#context2d  = context2d.rank()/(len(context2d)+1)\n",
    "context2d[r'$\\bf{z}$'] = '#FE6100'\n",
    "context2d[r'$\\bf{z}$'].iloc[z_vals_reduced > 0.01] = '#648FFF'\n",
    "\n",
    "context2d[r'$\\bf{z}_{\\text{CardMVO}}$'] = '#ffffff'\n",
    "different = np.abs(z_vals_reduced - z_vals_card_mvo_reduced)  > 0.1\n",
    "context2d[r'$\\bf{z}_{\\text{CardMVO}}$'].iloc[different] = '#0e0f3b'"
   ],
   "metadata": {
    "collapsed": false,
    "ExecuteTime": {
     "end_time": "2024-02-13T21:48:48.608968800Z",
     "start_time": "2024-02-13T21:48:48.578832Z"
    }
   }
  },
  {
   "cell_type": "code",
   "execution_count": 278,
   "outputs": [],
   "source": [
    "line = create_linear_function(w_vals, b_val)\n",
    "x = np.array([-2, 2])"
   ],
   "metadata": {
    "collapsed": false,
    "ExecuteTime": {
     "end_time": "2024-02-13T21:49:05.209075800Z",
     "start_time": "2024-02-13T21:49:05.180334200Z"
    }
   }
  },
  {
   "cell_type": "code",
   "execution_count": 279,
   "outputs": [
    {
     "data": {
      "text/plain": "array([ 2.91073265, -0.08827442])"
     },
     "execution_count": 279,
     "metadata": {},
     "output_type": "execute_result"
    }
   ],
   "source": [
    "line(x)"
   ],
   "metadata": {
    "collapsed": false,
    "ExecuteTime": {
     "end_time": "2024-02-13T21:49:05.637010600Z",
     "start_time": "2024-02-13T21:49:05.630493500Z"
    }
   }
  },
  {
   "cell_type": "code",
   "execution_count": 280,
   "outputs": [
    {
     "name": "stdout",
     "output_type": "stream",
     "text": [
      "File name : Experiments//EF//SP//features_0dot06_1dot69.svg\n"
     ]
    },
    {
     "data": {
      "text/plain": "<Figure size 500x500 with 1 Axes>",
      "image/png": "[encoded data removed]"
     },
     "metadata": {},
     "output_type": "display_data"
    }
   ],
   "source": [
    "plt.figure(figsize = (5,5))\n",
    "ax = plt.gca()\n",
    "eligible = z_vals_reduced > 0.01\n",
    "\n",
    "\n",
    "plt.scatter(context2d.iloc[eligible ,0], context2d.iloc[eligible ,1], c = context2d.iloc[eligible ,2].values, label= r'$z_{SVMMVO} = 1$', marker = '.')\n",
    "plt.scatter(context2d.iloc[~eligible,0], context2d.iloc[~eligible,1], c = context2d.iloc[~eligible,2].values, label= r'$z_{SVMMVO} = 0$', marker = '.')\n",
    "plt.scatter(context2d.iloc[different,0], context2d.iloc[different,1], c = context2d.iloc[different,3].values, s = 50, alpha = 0.25,\n",
    "            marker = 'o', label = r'$z_{SVMMVO} \\neq z_{CardMVO}$')\n",
    "#context2d.plot.scatter(x = 0, y = 1, c = 2, ax = ax)\n",
    "plt.plot(x, line(x), '--', linewidth = 2, label = r'${\\bf{y}^{\\intercal}\\bf{w}} + b = 0$', color ='black')\n",
    "plt.xlabel(context2d.columns[0])\n",
    "plt.ylabel(context2d.columns[1])\n",
    "plt.title(\"Assets in selected feature space \\n\"+ ret_string + \" \" +cardinality_str + \" \"+ kappa_str)\n",
    "plt.legend(loc = 'upper left')\n",
    "plt.tight_layout()\n",
    "print(\"File name :\", path+\"features_\"+str(cardinality).replace(\".\",\"dot\")+\"_\"+str(kappa).replace(\".\",\"dot\")+str(t) +\".svg\")\n",
    "plt.savefig(path+\"features_\"+str(cardinality).replace(\".\",\"dot\")+\"_\"+str(kappa).replace(\".\",\"dot\")+str(t) +\".svg\")"
   ],
   "metadata": {
    "collapsed": false,
    "ExecuteTime": {
     "end_time": "2024-02-13T21:49:06.311312400Z",
     "start_time": "2024-02-13T21:49:05.998052400Z"
    }
   }
  },
  {
   "cell_type": "code",
   "execution_count": 271,
   "outputs": [
    {
     "name": "stdout",
     "output_type": "stream",
     "text": [
      "Class weighted SVM\n",
      "--------------------\n",
      "Calculating Big M\n",
      "--------------------\n",
      "Constructing Feasible Solution...\n",
      "Extracting a cardinality constrained portfolio...\n",
      "Set parameter TimeLimit to value 20\n",
      "Set parameter MIPGap to value 0.05\n",
      "Set parameter FeasibilityTol to value 1e-08\n",
      "Set parameter SolutionLimit to value 20\n",
      "--------------------\n",
      "Solving Card MVO...\n",
      "Gurobi Optimizer version 11.0.0 build v11.0.0rc2 (win64 - Windows 11.0 (22621.2))\n",
      "\n",
      "CPU model: 12th Gen Intel(R) Core(TM) i7-12700H, instruction set [SSE2|AVX|AVX2]\n",
      "Thread count: 14 physical cores, 20 logical processors, using up to 20 threads\n",
      "\n",
      "Optimize a model with 289 rows, 572 columns and 1430 nonzeros\n",
      "Model fingerprint: 0x5ef36541\n",
      "Model has 41041 quadratic objective terms\n",
      "Variable types: 286 continuous, 286 integer (286 binary)\n",
      "Coefficient statistics:\n",
      "  Matrix range     [9e-04, 1e+00]\n",
      "  Objective range  [0e+00, 0e+00]\n",
      "  QObjective range [1e-05, 2e+00]\n",
      "  Bounds range     [1e+00, 1e+00]\n",
      "  RHS range        [2e-01, 2e+01]\n",
      "Presolve time: 0.03s\n",
      "Presolved: 391 rows, 623 columns, 1634 nonzeros\n",
      "Presolved model has 41092 quadratic objective terms\n",
      "Variable types: 337 continuous, 286 integer (286 binary)\n",
      "Found heuristic solution: objective 0.0269513\n",
      "\n",
      "Root relaxation: objective 5.775091e-03, 240 iterations, 0.00 seconds (0.01 work units)\n",
      "\n",
      "    Nodes    |    Current Node    |     Objective Bounds      |     Work\n",
      " Expl Unexpl |  Obj  Depth IntInf | Incumbent    BestBd   Gap | It/Node Time\n",
      "\n",
      "     0     0    0.00578    0   41    0.02695    0.00578  78.6%     -    0s\n",
      "     0     0    0.00578    0   41    0.02695    0.00578  78.6%     -    0s\n",
      "H    0     0                       0.0079241    0.00578  27.1%     -    0s\n",
      "H    0     0                       0.0071243    0.00578  18.9%     -    0s\n",
      "H    0     0                       0.0066344    0.00578  13.0%     -    0s\n",
      "     0     0    0.00578    0   41    0.00663    0.00578  13.0%     -    0s\n",
      "     0     0    0.00578    0   41    0.00663    0.00578  13.0%     -    0s\n",
      "     0     0    0.00578    0   41    0.00663    0.00578  13.0%     -    0s\n",
      "H    0     0                       0.0060665    0.00578  4.80%     -    0s\n",
      "\n",
      "Cutting planes:\n",
      "  MIR: 1\n",
      "  Flow cover: 2\n",
      "\n",
      "Explored 1 nodes (264 simplex iterations) in 0.22 seconds (0.12 work units)\n",
      "Thread count was 20 (of 20 available processors)\n",
      "\n",
      "Solution count 5: 0.00606646 0.0066344 0.00712433 ... 0.0269513\n",
      "\n",
      "Optimal solution found (tolerance 5.00e-02)\n",
      "Best objective 6.066460552057e-03, best bound 5.775090546178e-03, gap 4.8030%\n",
      "Card MVO Finished...\n",
      "--------------------\n",
      "New Best C  0.000244140625\n",
      "Test Error  3.1979635822056327\n",
      "Selected Features  Index(['adjVolume_std_20', 'adjRet_q1_120'], dtype='object')\n",
      "New Best C  16.000000000000007\n",
      "Test Error  2.932983223860377\n",
      "Selected Features  Index(['adjRet_q1_250', 'mean'], dtype='object')\n",
      "New Best C  32.00000000000002\n",
      "Test Error  2.2723211639506484\n",
      "Selected Features  Index(['adjRet_median_20', 'mean'], dtype='object')\n",
      "Non degenerate solution found\n",
      "Set parameter TimeLimit to value 20\n",
      "Set parameter FeasibilityTol to value 1e-08\n",
      "Gurobi Optimizer version 11.0.0 build v11.0.0rc2 (win64 - Windows 11.0 (22621.2))\n",
      "\n",
      "CPU model: 12th Gen Intel(R) Core(TM) i7-12700H, instruction set [SSE2|AVX|AVX2]\n",
      "Thread count: 14 physical cores, 20 logical processors, using up to 20 threads\n",
      "\n",
      "Optimize a model with 577 rows, 863 columns and 42767 nonzeros\n",
      "Model fingerprint: 0xaeab16c7\n",
      "Model has 145 quadratic objective terms\n",
      "Variable types: 718 continuous, 145 integer (145 binary)\n",
      "Coefficient statistics:\n",
      "  Matrix range     [8e-06, 2e+01]\n",
      "  Objective range  [7e-03, 1e-01]\n",
      "  QObjective range [1e+00, 1e+00]\n",
      "  Bounds range     [1e+00, 1e+00]\n",
      "  RHS range        [1e+00, 2e+00]\n",
      "\n",
      "User MIP start produced solution with objective 3.12064 (0.01s)\n",
      "Loaded user MIP start with objective 3.12064\n",
      "Presolve removed 0 rows and 286 columns\n",
      "Presolve time: 0.02s\n",
      "Presolved: 577 rows, 577 columns, 42767 nonzeros\n",
      "Presolved model has 145 quadratic objective terms\n",
      "Variable types: 432 continuous, 145 integer (145 binary)\n",
      "\n",
      "Root relaxation: objective 1.500014e+00, 835 iterations, 0.03 seconds (0.08 work units)\n",
      "\n",
      "    Nodes    |    Current Node    |     Objective Bounds      |     Work\n",
      " Expl Unexpl |  Obj  Depth IntInf | Incumbent    BestBd   Gap | It/Node Time\n",
      "\n",
      "     0     0    1.50001    0   25    3.12064    1.50001  51.9%     -    0s\n",
      "H    0     0                       2.3429524    1.50001  36.0%     -    0s\n",
      "     0     0    1.50189    0   29    2.34295    1.50189  35.9%     -    0s\n",
      "     0     0    1.50189    0    8    2.34295    1.50189  35.9%     -    0s\n",
      "     0     0    1.51229    0   12    2.34295    1.51229  35.5%     -    0s\n",
      "     0     0    1.54455    0   12    2.34295    1.54455  34.1%     -    0s\n",
      "     0     0    1.59354    0    9    2.34295    1.59354  32.0%     -    0s\n",
      "     0     0    1.66046    0   11    2.34295    1.66046  29.1%     -    0s\n",
      "     0     0    1.68144    0   14    2.34295    1.68144  28.2%     -    0s\n",
      "     0     0    1.75385    0   12    2.34295    1.75385  25.1%     -    0s\n",
      "     0     0    1.81447    0    9    2.34295    1.81447  22.6%     -    0s\n",
      "     0     0    1.81478    0   10    2.34295    1.81478  22.5%     -    0s\n",
      "     0     0    1.85719    0    9    2.34295    1.85719  20.7%     -    0s\n",
      "     0     0    1.86171    0    9    2.34295    1.86171  20.5%     -    0s\n",
      "     0     0    1.90140    0   12    2.34295    1.90140  18.8%     -    0s\n",
      "     0     0    1.90721    0   13    2.34295    1.90721  18.6%     -    0s\n",
      "     0     0    1.92259    0   12    2.34295    1.92259  17.9%     -    0s\n",
      "     0     0    1.92296    0   13    2.34295    1.92296  17.9%     -    0s\n",
      "     0     0    1.94148    0   13    2.34295    1.94148  17.1%     -    0s\n",
      "     0     0    1.94302    0   13    2.34295    1.94302  17.1%     -    0s\n",
      "     0     0    1.94974    0   13    2.34295    1.94974  16.8%     -    0s\n",
      "     0     0    1.95016    0   13    2.34295    1.95016  16.8%     -    0s\n",
      "     0     0    1.95316    0   10    2.34295    1.95316  16.6%     -    0s\n",
      "     0     0    1.95404    0   11    2.34295    1.95404  16.6%     -    1s\n",
      "     0     0    1.96039    0   13    2.34295    1.96039  16.3%     -    1s\n",
      "     0     0    1.96091    0   14    2.34295    1.96091  16.3%     -    1s\n",
      "     0     0    1.96665    0   16    2.34295    1.96665  16.1%     -    1s\n",
      "     0     0    1.97081    0   16    2.34295    1.97081  15.9%     -    1s\n",
      "     0     0    1.97381    0   11    2.34295    1.97381  15.8%     -    1s\n",
      "     0     0    1.97396    0   12    2.34295    1.97396  15.7%     -    1s\n",
      "     0     0    1.97681    0   11    2.34295    1.97681  15.6%     -    1s\n",
      "     0     0    1.97913    0   14    2.34295    1.97913  15.5%     -    1s\n",
      "     0     0    1.97913    0   13    2.34295    1.97913  15.5%     -    1s\n",
      "     0     0    1.97913    0   14    2.34295    1.97913  15.5%     -    1s\n",
      "     0     0    1.98032    0   13    2.34295    1.98032  15.5%     -    1s\n",
      "     0     0    1.98132    0   12    2.34295    1.98132  15.4%     -    1s\n",
      "     0     0    1.98772    0   13    2.34295    1.98772  15.2%     -    1s\n",
      "     0     0    1.98959    0   13    2.34295    1.98959  15.1%     -    1s\n",
      "     0     0    1.98959    0   13    2.34295    1.98959  15.1%     -    2s\n",
      "     0     2    1.98959    0   13    2.34295    1.98959  15.1%     -    2s\n",
      "H    6     5                       2.2009164    2.00548  8.88%  81.0    2s\n",
      "*    6     5               2       2.2009164    2.00655  8.83%  96.0    2s\n",
      "\n",
      "Cutting planes:\n",
      "  Gomory: 3\n",
      "  Implied bound: 3\n",
      "  MIR: 18\n",
      "\n",
      "Explored 316 nodes (12925 simplex iterations) in 2.87 seconds (3.06 work units)\n",
      "Thread count was 20 (of 20 available processors)\n",
      "\n",
      "Solution count 3: 2.20092 2.34295 3.12064 \n",
      "\n",
      "Optimal solution found (tolerance 1.00e-04)\n",
      "Best objective 2.200915716613e+00, best bound 2.200914462770e+00, gap 0.0001%\n",
      "Largest epsilon value guaranteeing  2.6  risk:  0.004410135658547097\n",
      "Feasible solution constructed in  6.317752361297607  seconds\n",
      "Feasible solution objective value  0.01577279743534723\n",
      "Xi Lemma  Lemma 2\n",
      "Theorem 2 big M  81.90520021677003\n",
      "Theorem 3 big M  92.14299343817378\n",
      "C and epsilon updated from big M\n",
      "Calculated Big M  81.90520021677003\n",
      "Calculated big W 1.8911605007232226\n",
      "Calculated big b 46.07149671908689\n",
      "Calculated big xi 31.96486185299289\n",
      "Set parameter TimeLimit to value 20\n",
      "Set parameter FeasibilityTol to value 1e-08\n",
      "Set parameter MIPGap to value 0.05\n",
      "Gurobi Optimizer version 11.0.0 build v11.0.0rc2 (win64 - Windows 11.0 (22621.2))\n",
      "\n",
      "CPU model: 12th Gen Intel(R) Core(TM) i7-12700H, instruction set [SSE2|AVX|AVX2]\n",
      "Thread count: 14 physical cores, 20 logical processors, using up to 20 threads\n",
      "\n",
      "Optimize a model with 1152 rows, 1435 columns and 86811 nonzeros\n",
      "Model fingerprint: 0x0790ea87\n",
      "Model has 41186 quadratic objective terms\n",
      "Variable types: 1004 continuous, 431 integer (431 binary)\n",
      "Coefficient statistics:\n",
      "  Matrix range     [8e-06, 8e+01]\n",
      "  Objective range  [3e-05, 5e-04]\n",
      "  QObjective range [1e-05, 2e+00]\n",
      "  Bounds range     [1e+00, 1e+00]\n",
      "  RHS range        [2e-01, 8e+01]\n",
      "User MIP start produced solution with objective 0.0157728 (0.05s)\n",
      "Loaded user MIP start with objective 0.0157728\n",
      "Presolve added 0 rows and 280 columns\n",
      "Presolve removed 280 rows and 0 columns\n",
      "Presolve time: 0.05s\n",
      "Presolved: 974 rows, 1766 columns, 46135 nonzeros\n",
      "Presolved model has 41237 quadratic objective terms\n",
      "Found heuristic solution: objective 0.1641124\n",
      "Variable types: 1335 continuous, 431 integer (431 binary)\n",
      "\n",
      "Root relaxation: objective 5.775091e-03, 324 iterations, 0.02 seconds (0.03 work units)\n",
      "\n",
      "    Nodes    |    Current Node    |     Objective Bounds      |     Work\n",
      " Expl Unexpl |  Obj  Depth IntInf | Incumbent    BestBd   Gap | It/Node Time\n",
      "\n",
      "     0     0    0.00578    0   41    0.01577    0.00578  63.4%     -    0s\n",
      "     0     0    0.00578    0   41    0.01577    0.00578  63.4%     -    0s\n",
      "     0     0    0.00578    0   41    0.01577    0.00578  63.4%     -    0s\n",
      "H    0     0                       0.0157728    0.00578  63.4%     -    0s\n",
      "     0     0    0.00578    0   41    0.01577    0.00578  63.4%     -    0s\n",
      "     0     0    0.00578    0   41    0.01577    0.00578  63.4%     -    0s\n",
      "     0     0    0.00578    0   41    0.01577    0.00578  63.4%     -    0s\n",
      "     0     0    0.00578    0   41    0.01577    0.00578  63.4%     -    0s\n",
      "     0     0    0.00578    0   41    0.01577    0.00578  63.4%     -    0s\n",
      "     0     0    0.00578    0   41    0.01577    0.00578  63.4%     -    0s\n",
      "     0     0    0.00578    0   41    0.01577    0.00578  63.4%     -    0s\n",
      "     0     0    0.00578    0   41    0.01577    0.00578  63.4%     -    0s\n",
      "H    0     0                       0.0153680    0.00578  62.4%     -    0s\n",
      "     0     2    0.00578    0   41    0.01537    0.00578  62.4%     -    0s\n",
      "H   31    44                       0.0146968    0.00578  60.7%   203    1s\n",
      "H   33    44                       0.0141948    0.00578  59.3%   194    1s\n",
      "H   38    44                       0.0140896    0.00578  59.0%   176    1s\n",
      "H   39    44                       0.0138418    0.00578  58.3%   171    1s\n",
      "   237   252    0.00737   12  290    0.01384    0.00578  58.3%  82.0    5s\n",
      "H  239   252                       0.0137736    0.00578  58.1%  81.5    5s\n",
      "H  240   252                       0.0135239    0.00578  57.3%  81.2    5s\n",
      "H  828   843                       0.0134452    0.00578  57.0%  76.1   10s\n",
      "H  835   843                       0.0129931    0.00578  55.6%  76.1   10s\n",
      "H 1952  1972                       0.0126231    0.00578  54.2%  89.6   13s\n",
      "H 3055  3115                       0.0126044    0.00578  54.2%  82.6   15s\n",
      "H 4189  3954                       0.0126044    0.00578  54.2%  76.0   16s\n",
      "\n",
      "Cutting planes:\n",
      "  Cover: 1\n",
      "  MIR: 3\n",
      "  Flow cover: 3\n",
      "\n",
      "Explored 5780 nodes (397880 simplex iterations) in 20.03 seconds (32.03 work units)\n",
      "Thread count was 20 (of 20 available processors)\n",
      "\n",
      "Solution count 10: 0.0126044 0.0129931 0.0134452 ... 0.015368\n",
      "\n",
      "Time limit reached\n",
      "Best objective 1.260444011180e-02, best bound 5.775090546178e-03, gap 54.1821%\n",
      "SVM MVO Objective Value  0.012604440111795425\n",
      "Norm of w  0.17763745004824136\n",
      "Positive Classification errors  8.09858805792446\n",
      "Negative Classification errors  16.065195592059922\n",
      "Set parameter TimeLimit to value 20\n",
      "Set parameter MIPGap to value 0.05\n",
      "Set parameter FeasibilityTol to value 1e-08\n",
      "--------------------\n",
      "Solving Card MVO...\n",
      "Gurobi Optimizer version 11.0.0 build v11.0.0rc2 (win64 - Windows 11.0 (22621.2))\n",
      "\n",
      "CPU model: 12th Gen Intel(R) Core(TM) i7-12700H, instruction set [SSE2|AVX|AVX2]\n",
      "Thread count: 14 physical cores, 20 logical processors, using up to 20 threads\n",
      "\n",
      "Optimize a model with 289 rows, 572 columns and 1430 nonzeros\n",
      "Model fingerprint: 0x5ef36541\n",
      "Model has 41041 quadratic objective terms\n",
      "Variable types: 286 continuous, 286 integer (286 binary)\n",
      "Coefficient statistics:\n",
      "  Matrix range     [9e-04, 1e+00]\n",
      "  Objective range  [0e+00, 0e+00]\n",
      "  QObjective range [1e-05, 2e+00]\n",
      "  Bounds range     [1e+00, 1e+00]\n",
      "  RHS range        [2e-01, 2e+01]\n",
      "Presolve time: 0.02s\n",
      "Presolved: 391 rows, 623 columns, 1634 nonzeros\n",
      "Presolved model has 41092 quadratic objective terms\n",
      "Variable types: 337 continuous, 286 integer (286 binary)\n",
      "Found heuristic solution: objective 0.0269513\n",
      "\n",
      "Root relaxation: objective 5.775091e-03, 240 iterations, 0.02 seconds (0.01 work units)\n",
      "\n",
      "    Nodes    |    Current Node    |     Objective Bounds      |     Work\n",
      " Expl Unexpl |  Obj  Depth IntInf | Incumbent    BestBd   Gap | It/Node Time\n",
      "\n",
      "     0     0    0.00578    0   41    0.02695    0.00578  78.6%     -    0s\n",
      "     0     0    0.00578    0   41    0.02695    0.00578  78.6%     -    0s\n",
      "H    0     0                       0.0079241    0.00578  27.1%     -    0s\n",
      "H    0     0                       0.0071243    0.00578  18.9%     -    0s\n",
      "H    0     0                       0.0066344    0.00578  13.0%     -    0s\n",
      "     0     0    0.00578    0   41    0.00663    0.00578  13.0%     -    0s\n",
      "     0     0    0.00578    0   41    0.00663    0.00578  13.0%     -    0s\n",
      "     0     0    0.00578    0   41    0.00663    0.00578  13.0%     -    0s\n",
      "H    0     0                       0.0060665    0.00578  4.80%     -    0s\n",
      "\n",
      "Cutting planes:\n",
      "  MIR: 1\n",
      "  Flow cover: 2\n",
      "\n",
      "Explored 1 nodes (264 simplex iterations) in 0.22 seconds (0.12 work units)\n",
      "Thread count was 20 (of 20 available processors)\n",
      "\n",
      "Solution count 5: 0.00606646 0.0066344 0.00712433 ... 0.0269513\n",
      "\n",
      "Optimal solution found (tolerance 5.00e-02)\n",
      "Best objective 6.066460552057e-03, best bound 5.775090546178e-03, gap 4.8030%\n",
      "Card MVO Finished...\n",
      "--------------------\n"
     ]
    },
    {
     "data": {
      "text/plain": "array([0.01220791, 0.        , 0.        , 0.        , 0.        ,\n       0.        , 0.        , 0.        , 0.        , 0.        ,\n       0.        , 0.        , 0.        , 0.        , 0.        ,\n       0.        , 0.02913787, 0.        , 0.        , 0.        ,\n       0.        , 0.        , 0.04350745, 0.        , 0.        ,\n       0.        , 0.        , 0.        , 0.        , 0.        ,\n       0.        , 0.        , 0.        , 0.        , 0.        ,\n       0.        , 0.        , 0.        , 0.        , 0.        ,\n       0.        , 0.        , 0.        , 0.        , 0.        ,\n       0.        , 0.        , 0.        , 0.        , 0.        ,\n       0.        , 0.        , 0.        , 0.        , 0.        ,\n       0.0650743 , 0.        , 0.        , 0.        , 0.        ,\n       0.        , 0.        , 0.        , 0.        , 0.        ,\n       0.        , 0.05183573, 0.        , 0.        , 0.        ,\n       0.        , 0.        , 0.03476366, 0.        , 0.        ,\n       0.        , 0.        , 0.        , 0.        , 0.04919276,\n       0.        , 0.        , 0.        , 0.        , 0.        ,\n       0.        , 0.        , 0.        , 0.0404901 , 0.07049357,\n       0.        , 0.        , 0.        , 0.        , 0.        ,\n       0.        , 0.        , 0.        , 0.        , 0.        ,\n       0.        , 0.05957012, 0.        , 0.        , 0.        ,\n       0.        , 0.        , 0.        , 0.        , 0.        ,\n       0.        , 0.        , 0.        , 0.        , 0.        ,\n       0.        , 0.        , 0.        , 0.        , 0.        ,\n       0.        , 0.04877049, 0.        , 0.        , 0.        ,\n       0.        , 0.        , 0.        , 0.        , 0.        ,\n       0.07559876, 0.        , 0.        , 0.        , 0.        ,\n       0.        , 0.        , 0.        , 0.        , 0.        ,\n       0.        , 0.        , 0.        , 0.        , 0.        ,\n       0.        , 0.        , 0.        , 0.        , 0.        ,\n       0.        , 0.        , 0.        , 0.        , 0.        ,\n       0.        , 0.        , 0.        , 0.        , 0.        ,\n       0.        , 0.        , 0.05059313, 0.        , 0.        ,\n       0.        , 0.        , 0.        , 0.        , 0.        ,\n       0.        , 0.        , 0.        , 0.        , 0.        ,\n       0.        , 0.        , 0.        , 0.        , 0.        ,\n       0.07379905, 0.        , 0.        , 0.        , 0.        ,\n       0.        , 0.        , 0.        , 0.        , 0.        ,\n       0.        , 0.        , 0.        , 0.        , 0.        ,\n       0.        , 0.        , 0.        , 0.        , 0.        ,\n       0.        , 0.        , 0.        , 0.        , 0.        ,\n       0.        , 0.04119868, 0.        , 0.        , 0.        ,\n       0.        , 0.        , 0.        , 0.        , 0.        ,\n       0.        , 0.        , 0.        , 0.        , 0.        ,\n       0.        , 0.        , 0.        , 0.        , 0.        ,\n       0.        , 0.        , 0.        , 0.        , 0.        ,\n       0.        , 0.        , 0.        , 0.        , 0.        ,\n       0.        , 0.        , 0.        , 0.        , 0.09733867,\n       0.        , 0.        , 0.        , 0.        , 0.        ,\n       0.        , 0.        , 0.        , 0.        , 0.        ,\n       0.        , 0.        , 0.        , 0.        , 0.        ,\n       0.        , 0.        , 0.        , 0.        , 0.        ,\n       0.        , 0.        , 0.        , 0.        , 0.        ,\n       0.        , 0.        , 0.        , 0.        , 0.        ,\n       0.        , 0.        , 0.        , 0.        , 0.        ,\n       0.        , 0.        , 0.        , 0.        , 0.15642774,\n       0.        , 0.        , 0.        , 0.        , 0.        ,\n       0.        ])"
     },
     "execution_count": 271,
     "metadata": {},
     "output_type": "execute_result"
    }
   ],
   "source": [
    "Strategy.investor_preferences['premium'] = premiums_svmmvo[t]\n",
    "Strategy.investor_preferences['cardinality_ratio'] = cardinality\n",
    "Strategy.investor_preferences['kappa'] = kappa\n",
    "\n",
    "StrategyCardMVO.investor_preferences['premium'] = premiums_svmmvo[t]\n",
    "StrategyCardMVO.investor_preferences['cardinality_ratio'] = cardinality\n",
    "StrategyCardMVO.investor_preferences['kappa'] = kappa\n",
    "\n",
    "Strategy.execute_strategy(periodReturns, periodFactRet, environment=env)\n",
    "StrategyCardMVO.execute_strategy(periodReturns, periodFactRet, environment=env)"
   ],
   "metadata": {
    "collapsed": false,
    "ExecuteTime": {
     "end_time": "2024-02-13T21:48:32.949787400Z",
     "start_time": "2024-02-13T21:48:04.934828700Z"
    }
   }
  },
  {
   "cell_type": "code",
   "execution_count": 147,
   "outputs": [
    {
     "name": "stderr",
     "output_type": "stream",
     "text": [
      "C:\\Users\\david\\AppData\\Local\\Temp\\ipykernel_19712\\263986914.py:12: SettingWithCopyWarning: \n",
      "A value is trying to be set on a copy of a slice from a DataFrame\n",
      "\n",
      "See the caveats in the documentation: https://pandas.pydata.org/pandas-docs/stable/user_guide/indexing.html#returning-a-view-versus-a-copy\n",
      "  context2d[r'$\\bf{z}$'].iloc[z_vals_reduced > 0.01] = '#648FFF'\n"
     ]
    }
   ],
   "source": [
    "z_vals = np.rint(Strategy.current_results['z'])\n",
    "t_vals = Strategy.current_results['t']\n",
    "w_vals = Strategy.current_results['w'][t_vals > 0.99]\n",
    "b_val = Strategy.current_results['b']\n",
    "\n",
    "context2d = Strategy.current_results['optimization_params']['period_Context'].iloc[:, t_vals > 0.99]\n",
    "assets = (np.abs(stats.zscore(context2d)) < 100).all(axis=1)\n",
    "z_vals_reduced = z_vals[assets]\n",
    "context2d = context2d[assets]\n",
    "#context2d  = context2d.rank()/(len(context2d)+1)\n",
    "context2d[r'$\\bf{z}$'] = '#FE6100'\n",
    "context2d[r'$\\bf{z}$'].iloc[z_vals_reduced > 0.01] = '#648FFF'\n",
    "\n",
    "line2 = create_linear_function(w_vals, b_val)"
   ],
   "metadata": {
    "collapsed": false
   }
  },
  {
   "cell_type": "code",
   "execution_count": 148,
   "outputs": [
    {
     "data": {
      "text/plain": "<Figure size 400x400 with 1 Axes>",
      "image/png": "[encoded data removed]"
     },
     "metadata": {},
     "output_type": "display_data"
    }
   ],
   "source": [
    "plt.figure(figsize = (4,4))\n",
    "ax = plt.gca()\n",
    "eligible = z_vals_reduced > 0.01\n",
    "plt.scatter(context2d.iloc[eligible ,0], context2d.iloc[eligible ,1], c = context2d.iloc[eligible ,2].values, label= r'$z_i = 1$', marker = '.')\n",
    "plt.scatter(context2d.iloc[~eligible,0], context2d.iloc[~eligible,1], c = context2d.iloc[~eligible,2].values, label= r'$z_i = 0$', marker = '.')\n",
    "#context2d.plot.scatter(x = 0, y = 1, c = 2, ax = ax)\n",
    "#plt.plot(x, line(x), '--', linewidth = 2, label = r'${\\bf{y}^{\\intercal}\\bf{w}} + b = 0$', color ='black')\n",
    "plt.plot(x, line2(x), '--', linewidth = 2, label = r'${\\bf{y}^{\\intercal}\\bf{w}} + b = 0$', color ='black')\n",
    "\n",
    "plt.xlabel(context2d.columns[0])\n",
    "plt.ylabel(context2d.columns[1])\n",
    "plt.title(\"Assets in selected feature space \\n\"+ ret_string + \" \" +cardinality_str + \" \"+ kappa_str)\n",
    "plt.legend(loc = 'upper left')\n",
    "plt.tight_layout()\n",
    "plt.savefig(path+\"features_\"+str(cardinality).replace(\".\",\"dot\")+\"_\"+str(kappa).replace(\".\",\"dot\")+str(t) +\".svg\")"
   ],
   "metadata": {
    "collapsed": false
   }
  },
  {
   "cell_type": "code",
   "execution_count": null,
   "outputs": [],
   "source": [],
   "metadata": {
    "collapsed": false,
    "pycharm": {
     "is_executing": true
    }
   }
  }
 ],
 "metadata": {
  "kernelspec": {
   "display_name": "Python 3",
   "language": "python",
   "name": "python3"
  },
  "language_info": {
   "codemirror_mode": {
    "name": "ipython",
    "version": 2
   },
   "file_extension": ".py",
   "mimetype": "text/x-python",
   "name": "python",
   "nbconvert_exporter": "python",
   "pygments_lexer": "ipython2",
   "version": "2.7.6"
  }
 },
 "nbformat": 4,
 "nbformat_minor": 0
}
