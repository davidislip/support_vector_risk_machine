{
 "cells": [
  {
   "cell_type": "markdown",
   "source": [
    "\n",
    "# Running the Experiments\n",
    "\n",
    "# 1. Read input files"
   ],
   "metadata": {
    "collapsed": false
   }
  },
  {
   "cell_type": "code",
   "execution_count": 1,
   "outputs": [
    {
     "name": "stdout",
     "output_type": "stream",
     "text": [
      "['asset_id', 'currency_id', 'equities_series', 'equity_index_id', 'exchange_id', 'factor_id', 'factors', 'frequency_id', 'fundamentals', 'metric_id', 'source_id', 'ticker_id', 'ticker_index_membership', 'tiingo_tickers']\n"
     ]
    }
   ],
   "source": [
    "import time\n",
    "import math\n",
    "\n",
    "import numpy as np\n",
    "import pandas as pd\n",
    "from itertools import product\n",
    "from Database.services.database import Database\n",
    "from sqlalchemy import inspect\n",
    "from services.data_retreival import *\n",
    "from scipy.stats import gmean\n",
    "import matplotlib.pyplot as plt\n",
    "from services.strategies import *\n",
    "from services.optimization_layers import *\n",
    "from services.optimization import *\n",
    "from services.binary_optimization import *\n",
    "from services.environment_functions import *\n",
    "from services.big_m_strategies import *\n",
    "from services.experiments import *\n",
    "from services.class_weighted_bigM import *\n",
    "from services.class_weighted_models import *\n",
    "\n",
    "Database.initialize(\"sqlite:///Database//financial_db.sqlite\") #for courses replace this with a flat file\n",
    "inspector = inspect(Database.engine)\n",
    "print(inspector.get_table_names())\n",
    "\n",
    "universe = 'ETF'\n",
    "imputation_method = 'Univariate'\n",
    "ticker_str = 'SPY'\n",
    "#exponential params\n",
    "\n",
    "\n",
    "adjClose = pd.read_csv(\"flat_files/MonthlyAssetPrices\"+ universe + \".csv\", index_col=0, header = 1).iloc[1:,:]\n",
    "\n",
    "daily_adjClose =  pd.read_csv(\"flat_files/DailyAssetPrices\"+universe + \".csv\", index_col=0, header = 1).iloc[1:,:]\n",
    "\n",
    "TechnicalAnalysis = pd.read_csv(\"flat_files/TechnicalAnalysis\" + universe + \".csv\", index_col=[0,1])\n",
    "\n",
    "if universe ==  'SP':\n",
    "    FinancialRatios = pd.read_csv(\"flat_files/\" + imputation_method + \"WRDS.csv\", index_col=[0,1])\n",
    "    TechnicalAnalysis.index.names = FinancialRatios.index.names\n",
    "    ContextualInfo = TechnicalAnalysis.merge(FinancialRatios, how = 'left', left_index=True, right_index=True)\n",
    "\n",
    "else:\n",
    "    TechnicalAnalysis.index.names = ['date', 'ticker']\n",
    "    ContextualInfo = TechnicalAnalysis\n"
   ],
   "metadata": {
    "collapsed": false,
    "ExecuteTime": {
     "end_time": "2024-02-14T00:54:14.205765Z",
     "start_time": "2024-02-14T00:54:07.294103200Z"
    }
   }
  },
  {
   "cell_type": "code",
   "execution_count": 2,
   "outputs": [],
   "source": [
    "adjClose.index = pd.to_datetime(adjClose.index, format='%Y-%m-%d').tz_localize(None)\n",
    "daily_adjClose.index = pd.to_datetime(daily_adjClose.index, format='%Y-%m-%d').tz_localize(None)\n",
    "ContextualInfo.index = ContextualInfo.index.set_levels([pd.to_datetime(ContextualInfo.index.levels[0]).tz_localize(None), ContextualInfo.index.levels[1]])"
   ],
   "metadata": {
    "collapsed": false,
    "ExecuteTime": {
     "end_time": "2024-02-14T00:54:14.221434300Z",
     "start_time": "2024-02-14T00:54:14.205765Z"
    }
   }
  },
  {
   "cell_type": "code",
   "execution_count": 3,
   "outputs": [
    {
     "name": "stdout",
     "output_type": "stream",
     "text": [
      "The earliest possible start date\n"
     ]
    },
    {
     "data": {
      "text/plain": "Timestamp('2006-01-31 00:00:00')"
     },
     "execution_count": 3,
     "metadata": {},
     "output_type": "execute_result"
    }
   ],
   "source": [
    "print(\"The earliest possible start date\")\n",
    "max(daily_adjClose.index.unique()[0], ContextualInfo.index.get_level_values('date').unique()[0], adjClose.index.unique()[0])"
   ],
   "metadata": {
    "collapsed": false,
    "ExecuteTime": {
     "end_time": "2024-02-14T00:54:14.268280Z",
     "start_time": "2024-02-14T00:54:14.221434300Z"
    }
   }
  },
  {
   "cell_type": "code",
   "execution_count": 4,
   "outputs": [
    {
     "name": "stdout",
     "output_type": "stream",
     "text": [
      "The latest possible start date\n"
     ]
    },
    {
     "data": {
      "text/plain": "Timestamp('2023-04-21 00:00:00')"
     },
     "execution_count": 4,
     "metadata": {},
     "output_type": "execute_result"
    }
   ],
   "source": [
    "print(\"The latest possible start date\")\n",
    "min(daily_adjClose.index.unique()[-1], ContextualInfo.index.get_level_values('date').unique()[-1], adjClose.index.unique()[-1])"
   ],
   "metadata": {
    "collapsed": false,
    "ExecuteTime": {
     "end_time": "2024-02-14T00:54:14.331209400Z",
     "start_time": "2024-02-14T00:54:14.252657100Z"
    }
   }
  },
  {
   "cell_type": "code",
   "execution_count": 5,
   "outputs": [],
   "source": [
    "# start_date = pd.to_datetime('1996-11-30', format = '%Y-%m-%d')\n",
    "# \n",
    "# end_date = pd.to_datetime('2022-12-31', format = '%Y-%m-%d')\n",
    "\n",
    "start_date = pd.to_datetime('2006-05-31', format = '%Y-%m-%d')\n",
    "\n",
    "end_date = pd.to_datetime('2022-12-31', format = '%Y-%m-%d')\n",
    "\n",
    "factors = ('Mkt-RF', 'RF')\n",
    "\n",
    "factorRet = get_monthly_factors(factors, start_date, end_date, Database)\n",
    "\n",
    "factorRet = factorRet.droplevel(0, axis = 1)\n",
    "factorRet.columns = [col.strip() for col in factorRet.columns]"
   ],
   "metadata": {
    "collapsed": false,
    "ExecuteTime": {
     "end_time": "2024-02-14T00:54:20.971427300Z",
     "start_time": "2024-02-14T00:54:14.274796800Z"
    }
   }
  },
  {
   "cell_type": "code",
   "execution_count": 6,
   "outputs": [],
   "source": [
    "adjClose = adjClose[start_date:end_date]\n",
    "daily_adjClose = daily_adjClose[start_date:end_date]\n",
    "idx = pd.IndexSlice\n",
    "ContextualInfo = ContextualInfo.loc[idx[start_date:end_date, :], :]"
   ],
   "metadata": {
    "collapsed": false,
    "ExecuteTime": {
     "end_time": "2024-02-14T00:54:21.027072Z",
     "start_time": "2024-02-14T00:54:20.955429Z"
    }
   }
  },
  {
   "cell_type": "code",
   "execution_count": 7,
   "outputs": [],
   "source": [
    "# Initial budget to invest ($100,000)\n",
    "initialVal = 100000\n",
    "\n",
    "# Length of investment period (in months) - but actually units of data\n",
    "investPeriod = 6\n",
    "\n",
    "# divide the factor returns by 100\n",
    "factorRet = factorRet/100\n",
    "\n",
    "#rf and factor returns\n",
    "#drop the first observation to align the dataset with the returns data that will\n",
    "#result\n",
    "factorRet = factorRet.iloc[1:, :]\n",
    "\n",
    "#rf and factor returns\n",
    "riskFree = factorRet['RF']\n",
    "factorRet = factorRet.loc[:,factorRet.columns != 'RF'];"
   ],
   "metadata": {
    "collapsed": false,
    "ExecuteTime": {
     "end_time": "2024-02-14T00:54:21.027072Z",
     "start_time": "2024-02-14T00:54:21.002584800Z"
    }
   }
  },
  {
   "cell_type": "code",
   "execution_count": 8,
   "outputs": [],
   "source": [
    "#Identify the tickers and the dates\n",
    "tickers = adjClose.columns\n",
    "dates   = factorRet.index"
   ],
   "metadata": {
    "collapsed": false,
    "ExecuteTime": {
     "end_time": "2024-02-14T00:54:21.058372Z",
     "start_time": "2024-02-14T00:54:21.018209400Z"
    }
   }
  },
  {
   "cell_type": "code",
   "execution_count": 9,
   "outputs": [],
   "source": [
    "# Calculate the stocks monthly excess returns\n",
    "# pct change and drop the first null observation\n",
    "returns = adjClose.pct_change(1).iloc[1:, :]\n",
    "returns = returns  - np.diag(riskFree.values) @ np.ones_like(returns.values) # risk adjusted returns\n",
    "# Align the price table to the asset and factor returns tables by discarding the first observation.\n",
    "adjClose = adjClose.iloc[1:,:]"
   ],
   "metadata": {
    "collapsed": false,
    "ExecuteTime": {
     "end_time": "2024-02-14T00:54:21.090023100Z",
     "start_time": "2024-02-14T00:54:21.042750900Z"
    }
   }
  },
  {
   "cell_type": "code",
   "execution_count": 10,
   "outputs": [],
   "source": [
    "assert adjClose.index[0] == returns.index[0]\n",
    "assert adjClose.index[0] == factorRet.index[0]"
   ],
   "metadata": {
    "collapsed": false,
    "ExecuteTime": {
     "end_time": "2024-02-14T00:54:21.090023100Z",
     "start_time": "2024-02-14T00:54:21.073998Z"
    }
   }
  },
  {
   "cell_type": "markdown",
   "source": [
    "# 2. Run your program\n",
    "\n",
    "This section will run your Project1_Function in a loop. The data will be loaded progressively as a growing window of historical observations.\n",
    "Rebalancing will take place after every loop\n",
    "\n",
    "### 2.1 Some Standard Allocation Strategies"
   ],
   "metadata": {
    "collapsed": false
   }
  },
  {
   "cell_type": "code",
   "execution_count": 11,
   "outputs": [],
   "source": [
    "# Some strategies (uncomment this or the next cell to pick a strategy to test)\n",
    "# Strategy = general_strategy(sample_estimator, MVO, NumObs=48)  #the general strategy object takes an estimator function and an optimizer function\n",
    "#                                                                #the only constraint is that the estimators outputs are the optimizers inputs\n",
    "# investor preferences (static throughout the backtest)\n",
    "run = 'SunJan212024'\n",
    "hyperparam_search = False # True if model has hyperparams\n",
    "optimizer = ClassWgtSVMMVO # CardMVO , MVO\n",
    "estimator = exponential_weighted_estimator_shrinkage #\n",
    "EstNumObs = 750\n",
    "k = 6*20 #estimation horizon\n",
    "alpha= 1 - 0.990 #estimation decay\n",
    "return_premium = 1 #optimization premium\n",
    "\n",
    "turnover_constraints = True\n",
    "turnover_limit = 0.75 # 0.75, 1, 1.25\n",
    "cardinality_ratio = 0.1 #optimization\n",
    "\n",
    "MipGap = 0.05 # for portfolio optimizer\n",
    "limit_time = 20 # for portfolio optimizer\n",
    "\n",
    "target_return_strategy = premium_target # for portfolio optimizer to calculate return target\n",
    "# mean_target, premium_target, ticker_return_target\n",
    "target_return_strategy_args = ['premium'] # args for the return strategy\n",
    "\n",
    "bigMStrategy = ClassWgtHyperparameterBigMStrategy #objectiveBigMStrategy #objectiveBigMStrategyTightening , objectiveBigMStrategy\n",
    "\n",
    "bigM_limit_time=20 # for the feasible solution used to calculate big M\n",
    "bigM_MipGap=0.05 # for the feasible solution used to calculate big M\n",
    "bigM_SolutionLimit=10 # for the feasible solution used to calculate big <\n",
    "\n",
    "SkipSOCP = True # flag to skip the SOCP\n",
    "tightening_iter_lim = 1 # number of iterations of tightening to do\n",
    "\n",
    "SVMMVO_bigM_time_limit = 5 # for computing a better solution in the tightening strategy\n",
    "SVMMVO_MipGap=0.1 # for computing a better solution in the tightening strategy\n",
    "SVMMVO_SolutionLimit=5 # for computing a better solution in the tightening strategy\n",
    "\n",
    "SOCP_limit_time=10 # time limit for the SOCP's\n",
    "\n",
    "ticker_index = tickers.get_loc(ticker_str) # the ticker we want to compare to if\n",
    "#  we are using the ticker_return_target strategy\n",
    "\n",
    "q = 5 #subset of features\n",
    "\n",
    "C = 0.1 # separation importance\n",
    "epsilon = 0.1 # regularization amount for SVM\n",
    "\n",
    "separable = False # do not restrict the hyperplane to be separable\n",
    "\n",
    "LogToConsole = False # display optimization results in the console\n",
    "Verbose = False # print statements\n",
    "\n",
    "hyperparams = {'C': list(np.geomspace(0.1, 100, 4)), 'epsilon': list(np.geomspace(0.1, 100, 4))} # hyperparams for hyperparam search\n",
    "#q_alpha = 0.3187 # alpha for Q(t, a) = (1 - q_alpha) Q(t-1. a) + R(t, a)\n",
    "q_alpha = 0.6838\n",
    "\n",
    "kappa = 1.6 # 10 % risk/turnover tolerance plan: 0.1, 0.2, 0.4, 0.8, 1.6 (0.6, 1.0)\n",
    "\n",
    "investor_preferences = {'k':k, # horizon\n",
    "                        'alpha':alpha, # decay\n",
    "                        'premium':return_premium, # return premium preference\n",
    "                        'EstNumObs':EstNumObs,\n",
    "                        'ticker_index':ticker_index, # benchmark index for comparison used in place of return premium depending on the investors function to set r_min\n",
    "                        'target_return_strategy':target_return_strategy, # strategy for setting return\n",
    "                        'target_return_strategy_args': target_return_strategy_args, # args for return setting strategy\n",
    "                        'turnover_limit':turnover_limit, # turnover limit\n",
    "                        'turnover_constraints':turnover_constraints, # turnover limit choice (Y/N)\n",
    "                        'cardinality_ratio': cardinality_ratio, # Pct of assets to invest in\n",
    "                        'MipGap' : MipGap, 'limit_time':limit_time, # problem solving limits\n",
    "    \n",
    "                        'bigMStrategy':bigMStrategy,\n",
    "                        'bigM_limit_time':bigM_limit_time,\n",
    "                        'bigM_MipGap':bigM_MipGap,\n",
    "                        'bigM_SolutionLimit':bigM_SolutionLimit,\n",
    "\n",
    "                        'SkipSOCP':SkipSOCP,\n",
    "                        'tightening_iter_lim':tightening_iter_lim,\n",
    "\n",
    "                        'SVMMVO_bigM_time_limit':SVMMVO_bigM_time_limit,\n",
    "                        'SVMMVO_MipGap':SVMMVO_MipGap,\n",
    "                        'SVMMVO_SolutionLimit':SVMMVO_SolutionLimit,\n",
    "\n",
    "                        'SOCP_limit_time':SOCP_limit_time,\n",
    "                        'q':q,\n",
    "                        'C':C,\n",
    "                        'epsilon':epsilon,\n",
    "                        'separable':separable,\n",
    "                        'LogToConsole':LogToConsole,\n",
    "                        'Verbose':Verbose,\n",
    "                        'hyperparams':hyperparams,\n",
    "                        'q_alpha':q_alpha,\n",
    "                        'kappa':kappa}\n"
   ],
   "metadata": {
    "collapsed": false,
    "ExecuteTime": {
     "end_time": "2024-02-14T00:54:21.121285500Z",
     "start_time": "2024-02-14T00:54:21.105661Z"
    }
   }
  },
  {
   "cell_type": "markdown",
   "source": [
    "\n"
   ],
   "metadata": {
    "collapsed": false
   }
  },
  {
   "cell_type": "code",
   "execution_count": 12,
   "outputs": [
    {
     "name": "stdout",
     "output_type": "stream",
     "text": [
      "Experiments//ETF//ClassWgtSVMMVO//5\n",
      "Path created:  Experiments//ETF//ClassWgtSVMMVO//5\n"
     ]
    }
   ],
   "source": [
    "if optimizer.__name__ == 'CardMVO':\n",
    "    path = \"Experiments//\"+universe+\"//\"+optimizer.__name__\n",
    "    print(path)\n",
    "elif optimizer.__name__ == 'SVMMVO':\n",
    "    path = \"Experiments//\"+universe+\"//\"+optimizer.__name__+\"//\"+str(q)\n",
    "    print(path)\n",
    "elif optimizer.__name__ == 'ClassWgtSVMMVO':\n",
    "    path = \"Experiments//\"+universe+\"//\"+optimizer.__name__+\"//\"+str(q)\n",
    "    print(path)\n",
    "else:\n",
    "    raise Exception(\"Model Type not supported for these experiments\")\n",
    "df = init_dataframe(investor_preferences, path)"
   ],
   "metadata": {
    "collapsed": false,
    "ExecuteTime": {
     "end_time": "2024-02-14T00:54:21.152534900Z",
     "start_time": "2024-02-14T00:54:21.121285500Z"
    }
   }
  },
  {
   "cell_type": "code",
   "execution_count": 13,
   "outputs": [
    {
     "name": "stdout",
     "output_type": "stream",
     "text": [
      "Testing configuration  (0.6, 1.25)\n",
      "Test Start 2008-06-30 00:00:00\n",
      "Test End 2008-11-30 00:00:00\n",
      "Calibration End 2008-06-29 00:00:00\n",
      "Set parameter TimeLimit to value 20\n",
      "Set parameter MIPGap to value 0.05\n",
      "Set parameter TimeLimit to value 20\n",
      "Set parameter FeasibilityTol to value 1e-08\n",
      "Set parameter TimeLimit to value 20\n",
      "Set parameter FeasibilityTol to value 1e-08\n",
      "Set parameter MIPGap to value 0.05\n",
      "Set parameter TimeLimit to value 20\n",
      "Set parameter MIPGap to value 0.05\n",
      "Set parameter TimeLimit to value 20\n",
      "Set parameter FeasibilityTol to value 1e-08\n",
      "Set parameter TimeLimit to value 20\n",
      "Set parameter FeasibilityTol to value 1e-08\n",
      "Set parameter MIPGap to value 0.05\n",
      "Set parameter TimeLimit to value 20\n",
      "Set parameter MIPGap to value 0.05\n",
      "Set parameter TimeLimit to value 20\n",
      "Set parameter FeasibilityTol to value 1e-08\n",
      "Set parameter TimeLimit to value 20\n",
      "Set parameter FeasibilityTol to value 1e-08\n",
      "Set parameter MIPGap to value 0.05\n",
      "Set parameter TimeLimit to value 20\n",
      "Set parameter MIPGap to value 0.05\n",
      "Set parameter TimeLimit to value 20\n",
      "Set parameter FeasibilityTol to value 1e-08\n",
      "Set parameter TimeLimit to value 20\n",
      "Set parameter FeasibilityTol to value 1e-08\n",
      "Set parameter MIPGap to value 0.05\n",
      "Set parameter TimeLimit to value 20\n",
      "Set parameter MIPGap to value 0.05\n",
      "Set parameter TimeLimit to value 20\n",
      "Set parameter FeasibilityTol to value 1e-08\n",
      "Set parameter TimeLimit to value 20\n",
      "Set parameter FeasibilityTol to value 1e-08\n",
      "Set parameter MIPGap to value 0.05\n",
      "Set parameter TimeLimit to value 20\n",
      "Set parameter MIPGap to value 0.05\n",
      "Set parameter TimeLimit to value 20\n",
      "Set parameter FeasibilityTol to value 1e-08\n",
      "Set parameter TimeLimit to value 20\n",
      "Set parameter FeasibilityTol to value 1e-08\n",
      "Set parameter MIPGap to value 0.05\n",
      "Set parameter TimeLimit to value 20\n",
      "Set parameter MIPGap to value 0.05\n",
      "Set parameter TimeLimit to value 20\n",
      "Set parameter FeasibilityTol to value 1e-08\n",
      "Set parameter TimeLimit to value 20\n",
      "Set parameter FeasibilityTol to value 1e-08\n",
      "Set parameter MIPGap to value 0.05\n",
      "Set parameter TimeLimit to value 20\n",
      "Set parameter MIPGap to value 0.05\n",
      "Set parameter TimeLimit to value 20\n",
      "Set parameter FeasibilityTol to value 1e-08\n",
      "Set parameter TimeLimit to value 20\n",
      "Set parameter FeasibilityTol to value 1e-08\n",
      "Set parameter MIPGap to value 0.05\n",
      "Set parameter TimeLimit to value 20\n",
      "Set parameter MIPGap to value 0.05\n",
      "Set parameter TimeLimit to value 20\n",
      "Set parameter FeasibilityTol to value 1e-08\n",
      "Set parameter TimeLimit to value 20\n",
      "Set parameter FeasibilityTol to value 1e-08\n",
      "Set parameter MIPGap to value 0.05\n",
      "Set parameter TimeLimit to value 20\n",
      "Set parameter MIPGap to value 0.05\n",
      "Set parameter TimeLimit to value 20\n",
      "Set parameter FeasibilityTol to value 1e-08\n",
      "Set parameter TimeLimit to value 20\n",
      "Set parameter FeasibilityTol to value 1e-08\n",
      "Set parameter MIPGap to value 0.05\n",
      "Set parameter TimeLimit to value 20\n",
      "Set parameter MIPGap to value 0.05\n",
      "Set parameter TimeLimit to value 20\n",
      "Set parameter FeasibilityTol to value 1e-08\n",
      "Set parameter TimeLimit to value 20\n",
      "Set parameter FeasibilityTol to value 1e-08\n",
      "Set parameter MIPGap to value 0.05\n",
      "Set parameter TimeLimit to value 20\n",
      "Set parameter MIPGap to value 0.05\n",
      "Set parameter TimeLimit to value 20\n",
      "Set parameter FeasibilityTol to value 1e-08\n",
      "Set parameter TimeLimit to value 20\n",
      "Set parameter FeasibilityTol to value 1e-08\n",
      "Set parameter MIPGap to value 0.05\n",
      "Set parameter TimeLimit to value 20\n",
      "Set parameter MIPGap to value 0.05\n",
      "Set parameter TimeLimit to value 20\n",
      "Set parameter FeasibilityTol to value 1e-08\n",
      "Set parameter TimeLimit to value 20\n",
      "Set parameter FeasibilityTol to value 1e-08\n",
      "Set parameter MIPGap to value 0.05\n",
      "Set parameter TimeLimit to value 20\n",
      "Set parameter MIPGap to value 0.05\n",
      "Set parameter TimeLimit to value 20\n",
      "Set parameter FeasibilityTol to value 1e-08\n",
      "Set parameter TimeLimit to value 20\n",
      "Set parameter FeasibilityTol to value 1e-08\n",
      "Set parameter MIPGap to value 0.05\n",
      "Set parameter TimeLimit to value 20\n",
      "Set parameter MIPGap to value 0.05\n",
      "Set parameter TimeLimit to value 20\n",
      "Set parameter FeasibilityTol to value 1e-08\n",
      "Set parameter TimeLimit to value 20\n",
      "Set parameter FeasibilityTol to value 1e-08\n",
      "Set parameter MIPGap to value 0.05\n",
      "Set parameter TimeLimit to value 20\n",
      "Set parameter MIPGap to value 0.05\n",
      "Set parameter TimeLimit to value 20\n",
      "Set parameter FeasibilityTol to value 1e-08\n",
      "Set parameter TimeLimit to value 20\n",
      "Set parameter FeasibilityTol to value 1e-08\n",
      "Set parameter MIPGap to value 0.05\n",
      "Set parameter TimeLimit to value 20\n",
      "Set parameter MIPGap to value 0.05\n",
      "Set parameter TimeLimit to value 20\n",
      "Set parameter FeasibilityTol to value 1e-08\n",
      "Set parameter TimeLimit to value 20\n",
      "Set parameter FeasibilityTol to value 1e-08\n",
      "Set parameter MIPGap to value 0.05\n",
      "Set parameter TimeLimit to value 20\n",
      "Set parameter MIPGap to value 0.05\n",
      "Set parameter TimeLimit to value 20\n",
      "Set parameter FeasibilityTol to value 1e-08\n",
      "Set parameter TimeLimit to value 20\n",
      "Set parameter FeasibilityTol to value 1e-08\n",
      "Set parameter MIPGap to value 0.05\n",
      "Set parameter TimeLimit to value 20\n",
      "Set parameter MIPGap to value 0.05\n",
      "Set parameter TimeLimit to value 20\n",
      "Set parameter FeasibilityTol to value 1e-08\n",
      "Set parameter TimeLimit to value 20\n",
      "Set parameter FeasibilityTol to value 1e-08\n",
      "Set parameter MIPGap to value 0.05\n",
      "Set parameter TimeLimit to value 20\n",
      "Set parameter MIPGap to value 0.05\n",
      "Set parameter TimeLimit to value 20\n",
      "Set parameter FeasibilityTol to value 1e-08\n",
      "Set parameter TimeLimit to value 20\n",
      "Set parameter FeasibilityTol to value 1e-08\n",
      "Set parameter MIPGap to value 0.05\n",
      "Set parameter TimeLimit to value 20\n",
      "Set parameter MIPGap to value 0.05\n",
      "Set parameter TimeLimit to value 20\n",
      "Set parameter FeasibilityTol to value 1e-08\n",
      "Set parameter TimeLimit to value 20\n",
      "Set parameter FeasibilityTol to value 1e-08\n",
      "Set parameter MIPGap to value 0.05\n",
      "Set parameter TimeLimit to value 20\n",
      "Set parameter MIPGap to value 0.05\n",
      "Set parameter TimeLimit to value 20\n",
      "Set parameter FeasibilityTol to value 1e-08\n",
      "Set parameter TimeLimit to value 20\n",
      "Set parameter FeasibilityTol to value 1e-08\n",
      "Set parameter MIPGap to value 0.05\n",
      "Set parameter TimeLimit to value 20\n",
      "Set parameter MIPGap to value 0.05\n",
      "Set parameter TimeLimit to value 20\n",
      "Set parameter FeasibilityTol to value 1e-08\n",
      "Set parameter TimeLimit to value 20\n",
      "Set parameter FeasibilityTol to value 1e-08\n",
      "Set parameter MIPGap to value 0.05\n",
      "Set parameter TimeLimit to value 20\n",
      "Set parameter MIPGap to value 0.05\n",
      "Set parameter TimeLimit to value 20\n",
      "Set parameter FeasibilityTol to value 1e-08\n",
      "Set parameter TimeLimit to value 20\n",
      "Set parameter FeasibilityTol to value 1e-08\n",
      "Set parameter MIPGap to value 0.05\n",
      "Set parameter TimeLimit to value 20\n",
      "Set parameter MIPGap to value 0.05\n",
      "Set parameter TimeLimit to value 20\n",
      "Set parameter FeasibilityTol to value 1e-08\n",
      "Set parameter TimeLimit to value 20\n",
      "Set parameter FeasibilityTol to value 1e-08\n",
      "Set parameter MIPGap to value 0.05\n",
      "Set parameter TimeLimit to value 20\n",
      "Set parameter MIPGap to value 0.05\n",
      "Set parameter TimeLimit to value 20\n",
      "Set parameter FeasibilityTol to value 1e-08\n",
      "Set parameter TimeLimit to value 20\n",
      "Set parameter FeasibilityTol to value 1e-08\n",
      "Set parameter MIPGap to value 0.05\n",
      "Set parameter TimeLimit to value 20\n",
      "Set parameter MIPGap to value 0.05\n",
      "Set parameter TimeLimit to value 20\n",
      "Set parameter FeasibilityTol to value 1e-08\n",
      "Set parameter TimeLimit to value 20\n",
      "Set parameter FeasibilityTol to value 1e-08\n",
      "Set parameter MIPGap to value 0.05\n",
      "Set parameter TimeLimit to value 20\n",
      "Set parameter MIPGap to value 0.05\n",
      "Set parameter TimeLimit to value 20\n",
      "Set parameter FeasibilityTol to value 1e-08\n",
      "Set parameter TimeLimit to value 20\n",
      "Set parameter FeasibilityTol to value 1e-08\n",
      "Set parameter MIPGap to value 0.05\n",
      "Set parameter TimeLimit to value 20\n",
      "Set parameter MIPGap to value 0.05\n",
      "Set parameter TimeLimit to value 20\n",
      "Set parameter FeasibilityTol to value 1e-08\n",
      "Set parameter TimeLimit to value 20\n",
      "Set parameter FeasibilityTol to value 1e-08\n",
      "Set parameter MIPGap to value 0.05\n",
      "Completed configuration  (0.6, 1.25)\n"
     ]
    }
   ],
   "source": [
    "from IPython.display import clear_output\n",
    "\n",
    "kappas = [0.025, 0.05, 0.1, 0.2, 0.4, 0.8, 1.6]\n",
    "cardinality_ratios = [0.03, 0.05, 0.07, 0.09, 0.2, 0.4, 0.6] # includes mvo\n",
    "turnover_limits = [0.75, 1, 1.25]\n",
    "\n",
    "for cardinality_ratio, turnover_limit, kappa in product(cardinality_ratios, turnover_limits, kappas):\n",
    "    \n",
    "    clear_output(wait=True)\n",
    "\n",
    "    # initialize strategy\n",
    "    investor_preferences['turnover_limit'] = turnover_limit # turnover limit\n",
    "    investor_preferences['cardinality_ratio'] = cardinality_ratio\n",
    "    investor_preferences['kappa'] = kappa\n",
    "    \n",
    "    Strategy = general_strategy(estimator, optimizer,\n",
    "                                investor_preferences = investor_preferences)\n",
    "\n",
    "    Strategy.extract_estimation_info = populate_exponential_weighted_estimator_shrinkage\n",
    "    Strategy.extract_optimization_info = populate_kwargs\n",
    "\n",
    "    env = environment()\n",
    "\n",
    "    # Start of out-of-sample test period\n",
    "    testStart = returns.index[0] + pd.offsets.DateOffset(years=2)\n",
    "\n",
    "    # End of the first investment period\n",
    "    # testEnd = testStart + pd.offsets.DateOffset(months=investPeriod) - pd.offsets.DateOffset(days = 1)\n",
    "    testEnd = testStart + pd.offsets.MonthBegin(investPeriod) - pd.offsets.DateOffset(days = 1)\n",
    "\n",
    "    # End of calibration period\n",
    "    calEnd = testStart -  pd.offsets.DateOffset(days = 1)\n",
    "    print(\"Testing configuration \", (cardinality_ratio, turnover_limit))\n",
    "    print(\"Test Start\", testStart)\n",
    "    print(\"Test End\", testEnd)\n",
    "    print(\"Calibration End\", calEnd)\n",
    "\n",
    "    # Total number of investment periods\n",
    "    NoPeriods = math.ceil((returns.index[-1].to_period('M') - testStart.to_period('M')).n / investPeriod)\n",
    "    n = len(tickers)\n",
    "\n",
    "    portfValue, elapsed_time, turnover, x, backtest_results, hyperparam_hist = execute_backtest(env, Strategy, tickers, returns, factorRet, ContextualInfo,\n",
    "                     adjClose, daily_adjClose, NoPeriods, testStart, testEnd, calEnd, initialVal,\n",
    "                     investPeriod, hyperparam_search = hyperparam_search)\n",
    "    print(\"Completed configuration \", (cardinality_ratio, turnover_limit))\n",
    "    df, uid = add_to_data_dict(path, df, run, estimator,\n",
    "                 optimizer, universe,\n",
    "                 imputation_method, ticker_str,\n",
    "                 hyperparam_search, NoPeriods, investor_preferences)\n",
    "\n",
    "    export_experimental_results(path, uid, portfValue, elapsed_time, x, turnover)\n",
    "    export_dict(path, uid, backtest_results, 'backtest_results')\n",
    "    export_dict(path, uid, hyperparam_hist, 'hyperparam_hist')\n",
    "\n",
    "    del env\n",
    "    del Strategy"
   ],
   "metadata": {
    "collapsed": false,
    "pycharm": {
     "is_executing": true
    }
   }
  },
  {
   "cell_type": "code",
   "execution_count": 14,
   "outputs": [],
   "source": [
    "curr_df = pd.read_pickle(path+\"//data_dictionary.pkl\")\n",
    "# add experiment info to the data dict\n",
    "df = pd.concat([df, curr_df], axis = 0)\n",
    "\n",
    "df.drop_duplicates(inplace = True)\n",
    "df.to_pickle(path+\"//data_dictionary.pkl\")"
   ],
   "metadata": {
    "collapsed": false,
    "pycharm": {
     "is_executing": true
    },
    "ExecuteTime": {
     "end_time": "2024-02-15T06:08:48.305070100Z",
     "start_time": "2024-02-15T06:08:48.273827100Z"
    }
   }
  },
  {
   "cell_type": "code",
   "execution_count": 15,
   "outputs": [
    {
     "data": {
      "text/plain": "array(['0.03', '0.05', '0.07', '0.09', '0.2', '0.4', '0.6'], dtype=object)"
     },
     "execution_count": 15,
     "metadata": {},
     "output_type": "execute_result"
    }
   ],
   "source": [
    "df.cardinality_ratio.unique()"
   ],
   "metadata": {
    "collapsed": false,
    "ExecuteTime": {
     "end_time": "2024-02-15T06:08:48.336321400Z",
     "start_time": "2024-02-15T06:08:48.305070100Z"
    }
   }
  },
  {
   "cell_type": "code",
   "execution_count": 16,
   "outputs": [
    {
     "data": {
      "text/plain": "                                                                               uid  \\\nbfee2e058c1fbf9ca55b5a5fe6580478a18a5b27  bfee2e058c1fbf9ca55b5a5fe6580478a18a5b27   \nafb43350d4136c242a23d12e07fdc81cb6d99257  afb43350d4136c242a23d12e07fdc81cb6d99257   \n23187fb8873da711af0a75f2b158e0da78b13fc6  23187fb8873da711af0a75f2b158e0da78b13fc6   \ne1dd287df30a26034c732e9f4efa29702546829a  e1dd287df30a26034c732e9f4efa29702546829a   \nf180e0d474ca27bd8290d73310629d212e35245f  f180e0d474ca27bd8290d73310629d212e35245f   \n...                                                                            ...   \nbac4f0865a298f09eb1d3f8f8a6ba24f9b1176bd  bac4f0865a298f09eb1d3f8f8a6ba24f9b1176bd   \n629fbc122fd5f2200eb464b04268d2e026f6e361  629fbc122fd5f2200eb464b04268d2e026f6e361   \n54181df745c8788832e47491592e27fbc561ea11  54181df745c8788832e47491592e27fbc561ea11   \nd8a6f997b6b12c2ce0cfd40c226f6c442b075d37  d8a6f997b6b12c2ce0cfd40c226f6c442b075d37   \ncab159f58c2b79e95bf17d392f9e66e7874f377e  cab159f58c2b79e95bf17d392f9e66e7874f377e   \n\n                                                                         estimator  \\\nbfee2e058c1fbf9ca55b5a5fe6580478a18a5b27  exponential_weighted_estimator_shrinkage   \nafb43350d4136c242a23d12e07fdc81cb6d99257  exponential_weighted_estimator_shrinkage   \n23187fb8873da711af0a75f2b158e0da78b13fc6  exponential_weighted_estimator_shrinkage   \ne1dd287df30a26034c732e9f4efa29702546829a  exponential_weighted_estimator_shrinkage   \nf180e0d474ca27bd8290d73310629d212e35245f  exponential_weighted_estimator_shrinkage   \n...                                                                            ...   \nbac4f0865a298f09eb1d3f8f8a6ba24f9b1176bd  exponential_weighted_estimator_shrinkage   \n629fbc122fd5f2200eb464b04268d2e026f6e361  exponential_weighted_estimator_shrinkage   \n54181df745c8788832e47491592e27fbc561ea11  exponential_weighted_estimator_shrinkage   \nd8a6f997b6b12c2ce0cfd40c226f6c442b075d37  exponential_weighted_estimator_shrinkage   \ncab159f58c2b79e95bf17d392f9e66e7874f377e  exponential_weighted_estimator_shrinkage   \n\n                                               optimizer universe  \\\nbfee2e058c1fbf9ca55b5a5fe6580478a18a5b27  ClassWgtSVMMVO      ETF   \nafb43350d4136c242a23d12e07fdc81cb6d99257  ClassWgtSVMMVO      ETF   \n23187fb8873da711af0a75f2b158e0da78b13fc6  ClassWgtSVMMVO      ETF   \ne1dd287df30a26034c732e9f4efa29702546829a  ClassWgtSVMMVO      ETF   \nf180e0d474ca27bd8290d73310629d212e35245f  ClassWgtSVMMVO      ETF   \n...                                                  ...      ...   \nbac4f0865a298f09eb1d3f8f8a6ba24f9b1176bd  ClassWgtSVMMVO      ETF   \n629fbc122fd5f2200eb464b04268d2e026f6e361  ClassWgtSVMMVO      ETF   \n54181df745c8788832e47491592e27fbc561ea11  ClassWgtSVMMVO      ETF   \nd8a6f997b6b12c2ce0cfd40c226f6c442b075d37  ClassWgtSVMMVO      ETF   \ncab159f58c2b79e95bf17d392f9e66e7874f377e  ClassWgtSVMMVO      ETF   \n\n                                         imputation_method ticker_str  \\\nbfee2e058c1fbf9ca55b5a5fe6580478a18a5b27        Univariate        SPY   \nafb43350d4136c242a23d12e07fdc81cb6d99257        Univariate        SPY   \n23187fb8873da711af0a75f2b158e0da78b13fc6        Univariate        SPY   \ne1dd287df30a26034c732e9f4efa29702546829a        Univariate        SPY   \nf180e0d474ca27bd8290d73310629d212e35245f        Univariate        SPY   \n...                                                    ...        ...   \nbac4f0865a298f09eb1d3f8f8a6ba24f9b1176bd        Univariate        SPY   \n629fbc122fd5f2200eb464b04268d2e026f6e361        Univariate        SPY   \n54181df745c8788832e47491592e27fbc561ea11        Univariate        SPY   \nd8a6f997b6b12c2ce0cfd40c226f6c442b075d37        Univariate        SPY   \ncab159f58c2b79e95bf17d392f9e66e7874f377e        Univariate        SPY   \n\n                                         hyperparam_search NoPeriods  \\\nbfee2e058c1fbf9ca55b5a5fe6580478a18a5b27             False        29   \nafb43350d4136c242a23d12e07fdc81cb6d99257             False        29   \n23187fb8873da711af0a75f2b158e0da78b13fc6             False        29   \ne1dd287df30a26034c732e9f4efa29702546829a             False        29   \nf180e0d474ca27bd8290d73310629d212e35245f             False        29   \n...                                                    ...       ...   \nbac4f0865a298f09eb1d3f8f8a6ba24f9b1176bd             False        29   \n629fbc122fd5f2200eb464b04268d2e026f6e361             False        29   \n54181df745c8788832e47491592e27fbc561ea11             False        29   \nd8a6f997b6b12c2ce0cfd40c226f6c442b075d37             False        29   \ncab159f58c2b79e95bf17d392f9e66e7874f377e             False        29   \n\n                                                   run    C  ... premium  q  \\\nbfee2e058c1fbf9ca55b5a5fe6580478a18a5b27  SunJan212024  0.1  ...       1  5   \nafb43350d4136c242a23d12e07fdc81cb6d99257  SunJan212024  0.1  ...       1  5   \n23187fb8873da711af0a75f2b158e0da78b13fc6  SunJan212024  0.1  ...       1  5   \ne1dd287df30a26034c732e9f4efa29702546829a  SunJan212024  0.1  ...       1  5   \nf180e0d474ca27bd8290d73310629d212e35245f  SunJan212024  0.1  ...       1  5   \n...                                                ...  ...  ...     ... ..   \nbac4f0865a298f09eb1d3f8f8a6ba24f9b1176bd  SunJan212024  0.1  ...       1  5   \n629fbc122fd5f2200eb464b04268d2e026f6e361  SunJan212024  0.1  ...       1  5   \n54181df745c8788832e47491592e27fbc561ea11  SunJan212024  0.1  ...       1  5   \nd8a6f997b6b12c2ce0cfd40c226f6c442b075d37  SunJan212024  0.1  ...       1  5   \ncab159f58c2b79e95bf17d392f9e66e7874f377e  SunJan212024  0.1  ...       1  5   \n\n                                         q_alpha separable  \\\nbfee2e058c1fbf9ca55b5a5fe6580478a18a5b27  0.6838     False   \nafb43350d4136c242a23d12e07fdc81cb6d99257  0.6838     False   \n23187fb8873da711af0a75f2b158e0da78b13fc6  0.6838     False   \ne1dd287df30a26034c732e9f4efa29702546829a  0.6838     False   \nf180e0d474ca27bd8290d73310629d212e35245f  0.6838     False   \n...                                          ...       ...   \nbac4f0865a298f09eb1d3f8f8a6ba24f9b1176bd  0.6838     False   \n629fbc122fd5f2200eb464b04268d2e026f6e361  0.6838     False   \n54181df745c8788832e47491592e27fbc561ea11  0.6838     False   \nd8a6f997b6b12c2ce0cfd40c226f6c442b075d37  0.6838     False   \ncab159f58c2b79e95bf17d392f9e66e7874f377e  0.6838     False   \n\n                                         target_return_strategy  \\\nbfee2e058c1fbf9ca55b5a5fe6580478a18a5b27         premium_target   \nafb43350d4136c242a23d12e07fdc81cb6d99257         premium_target   \n23187fb8873da711af0a75f2b158e0da78b13fc6         premium_target   \ne1dd287df30a26034c732e9f4efa29702546829a         premium_target   \nf180e0d474ca27bd8290d73310629d212e35245f         premium_target   \n...                                                         ...   \nbac4f0865a298f09eb1d3f8f8a6ba24f9b1176bd         premium_target   \n629fbc122fd5f2200eb464b04268d2e026f6e361         premium_target   \n54181df745c8788832e47491592e27fbc561ea11         premium_target   \nd8a6f997b6b12c2ce0cfd40c226f6c442b075d37         premium_target   \ncab159f58c2b79e95bf17d392f9e66e7874f377e         premium_target   \n\n                                         target_return_strategy_args  \\\nbfee2e058c1fbf9ca55b5a5fe6580478a18a5b27                 ['premium']   \nafb43350d4136c242a23d12e07fdc81cb6d99257                 ['premium']   \n23187fb8873da711af0a75f2b158e0da78b13fc6                 ['premium']   \ne1dd287df30a26034c732e9f4efa29702546829a                 ['premium']   \nf180e0d474ca27bd8290d73310629d212e35245f                 ['premium']   \n...                                                              ...   \nbac4f0865a298f09eb1d3f8f8a6ba24f9b1176bd                 ['premium']   \n629fbc122fd5f2200eb464b04268d2e026f6e361                 ['premium']   \n54181df745c8788832e47491592e27fbc561ea11                 ['premium']   \nd8a6f997b6b12c2ce0cfd40c226f6c442b075d37                 ['premium']   \ncab159f58c2b79e95bf17d392f9e66e7874f377e                 ['premium']   \n\n                                         ticker_index tightening_iter_lim  \\\nbfee2e058c1fbf9ca55b5a5fe6580478a18a5b27          250                   1   \nafb43350d4136c242a23d12e07fdc81cb6d99257          250                   1   \n23187fb8873da711af0a75f2b158e0da78b13fc6          250                   1   \ne1dd287df30a26034c732e9f4efa29702546829a          250                   1   \nf180e0d474ca27bd8290d73310629d212e35245f          250                   1   \n...                                               ...                 ...   \nbac4f0865a298f09eb1d3f8f8a6ba24f9b1176bd          250                   1   \n629fbc122fd5f2200eb464b04268d2e026f6e361          250                   1   \n54181df745c8788832e47491592e27fbc561ea11          250                   1   \nd8a6f997b6b12c2ce0cfd40c226f6c442b075d37          250                   1   \ncab159f58c2b79e95bf17d392f9e66e7874f377e          250                   1   \n\n                                         turnover_constraints turnover_limit  \nbfee2e058c1fbf9ca55b5a5fe6580478a18a5b27                 True           0.75  \nafb43350d4136c242a23d12e07fdc81cb6d99257                 True           0.75  \n23187fb8873da711af0a75f2b158e0da78b13fc6                 True           0.75  \ne1dd287df30a26034c732e9f4efa29702546829a                 True           0.75  \nf180e0d474ca27bd8290d73310629d212e35245f                 True           0.75  \n...                                                       ...            ...  \nbac4f0865a298f09eb1d3f8f8a6ba24f9b1176bd                 True           1.25  \n629fbc122fd5f2200eb464b04268d2e026f6e361                 True           1.25  \n54181df745c8788832e47491592e27fbc561ea11                 True           1.25  \nd8a6f997b6b12c2ce0cfd40c226f6c442b075d37                 True           1.25  \ncab159f58c2b79e95bf17d392f9e66e7874f377e                 True           1.25  \n\n[147 rows x 40 columns]",
      "text/html": "<div>\n<style scoped>\n    .dataframe tbody tr th:only-of-type {\n        vertical-align: middle;\n    }\n\n    .dataframe tbody tr th {\n        vertical-align: top;\n    }\n\n    .dataframe thead th {\n        text-align: right;\n    }\n</style>\n<table border=\"1\" class=\"dataframe\">\n  <thead>\n    <tr style=\"text-align: right;\">\n      <th></th>\n      <th>uid</th>\n      <th>estimator</th>\n      <th>optimizer</th>\n      <th>universe</th>\n      <th>imputation_method</th>\n      <th>ticker_str</th>\n      <th>hyperparam_search</th>\n      <th>NoPeriods</th>\n      <th>run</th>\n      <th>C</th>\n      <th>...</th>\n      <th>premium</th>\n      <th>q</th>\n      <th>q_alpha</th>\n      <th>separable</th>\n      <th>target_return_strategy</th>\n      <th>target_return_strategy_args</th>\n      <th>ticker_index</th>\n      <th>tightening_iter_lim</th>\n      <th>turnover_constraints</th>\n      <th>turnover_limit</th>\n    </tr>\n  </thead>\n  <tbody>\n    <tr>\n      <th>bfee2e058c1fbf9ca55b5a5fe6580478a18a5b27</th>\n      <td>bfee2e058c1fbf9ca55b5a5fe6580478a18a5b27</td>\n      <td>exponential_weighted_estimator_shrinkage</td>\n      <td>ClassWgtSVMMVO</td>\n      <td>ETF</td>\n      <td>Univariate</td>\n      <td>SPY</td>\n      <td>False</td>\n      <td>29</td>\n      <td>SunJan212024</td>\n      <td>0.1</td>\n      <td>...</td>\n      <td>1</td>\n      <td>5</td>\n      <td>0.6838</td>\n      <td>False</td>\n      <td>premium_target</td>\n      <td>['premium']</td>\n      <td>250</td>\n      <td>1</td>\n      <td>True</td>\n      <td>0.75</td>\n    </tr>\n    <tr>\n      <th>afb43350d4136c242a23d12e07fdc81cb6d99257</th>\n      <td>afb43350d4136c242a23d12e07fdc81cb6d99257</td>\n      <td>exponential_weighted_estimator_shrinkage</td>\n      <td>ClassWgtSVMMVO</td>\n      <td>ETF</td>\n      <td>Univariate</td>\n      <td>SPY</td>\n      <td>False</td>\n      <td>29</td>\n      <td>SunJan212024</td>\n      <td>0.1</td>\n      <td>...</td>\n      <td>1</td>\n      <td>5</td>\n      <td>0.6838</td>\n      <td>False</td>\n      <td>premium_target</td>\n      <td>['premium']</td>\n      <td>250</td>\n      <td>1</td>\n      <td>True</td>\n      <td>0.75</td>\n    </tr>\n    <tr>\n      <th>23187fb8873da711af0a75f2b158e0da78b13fc6</th>\n      <td>23187fb8873da711af0a75f2b158e0da78b13fc6</td>\n      <td>exponential_weighted_estimator_shrinkage</td>\n      <td>ClassWgtSVMMVO</td>\n      <td>ETF</td>\n      <td>Univariate</td>\n      <td>SPY</td>\n      <td>False</td>\n      <td>29</td>\n      <td>SunJan212024</td>\n      <td>0.1</td>\n      <td>...</td>\n      <td>1</td>\n      <td>5</td>\n      <td>0.6838</td>\n      <td>False</td>\n      <td>premium_target</td>\n      <td>['premium']</td>\n      <td>250</td>\n      <td>1</td>\n      <td>True</td>\n      <td>0.75</td>\n    </tr>\n    <tr>\n      <th>e1dd287df30a26034c732e9f4efa29702546829a</th>\n      <td>e1dd287df30a26034c732e9f4efa29702546829a</td>\n      <td>exponential_weighted_estimator_shrinkage</td>\n      <td>ClassWgtSVMMVO</td>\n      <td>ETF</td>\n      <td>Univariate</td>\n      <td>SPY</td>\n      <td>False</td>\n      <td>29</td>\n      <td>SunJan212024</td>\n      <td>0.1</td>\n      <td>...</td>\n      <td>1</td>\n      <td>5</td>\n      <td>0.6838</td>\n      <td>False</td>\n      <td>premium_target</td>\n      <td>['premium']</td>\n      <td>250</td>\n      <td>1</td>\n      <td>True</td>\n      <td>0.75</td>\n    </tr>\n    <tr>\n      <th>f180e0d474ca27bd8290d73310629d212e35245f</th>\n      <td>f180e0d474ca27bd8290d73310629d212e35245f</td>\n      <td>exponential_weighted_estimator_shrinkage</td>\n      <td>ClassWgtSVMMVO</td>\n      <td>ETF</td>\n      <td>Univariate</td>\n      <td>SPY</td>\n      <td>False</td>\n      <td>29</td>\n      <td>SunJan212024</td>\n      <td>0.1</td>\n      <td>...</td>\n      <td>1</td>\n      <td>5</td>\n      <td>0.6838</td>\n      <td>False</td>\n      <td>premium_target</td>\n      <td>['premium']</td>\n      <td>250</td>\n      <td>1</td>\n      <td>True</td>\n      <td>0.75</td>\n    </tr>\n    <tr>\n      <th>...</th>\n      <td>...</td>\n      <td>...</td>\n      <td>...</td>\n      <td>...</td>\n      <td>...</td>\n      <td>...</td>\n      <td>...</td>\n      <td>...</td>\n      <td>...</td>\n      <td>...</td>\n      <td>...</td>\n      <td>...</td>\n      <td>...</td>\n      <td>...</td>\n      <td>...</td>\n      <td>...</td>\n      <td>...</td>\n      <td>...</td>\n      <td>...</td>\n      <td>...</td>\n      <td>...</td>\n    </tr>\n    <tr>\n      <th>bac4f0865a298f09eb1d3f8f8a6ba24f9b1176bd</th>\n      <td>bac4f0865a298f09eb1d3f8f8a6ba24f9b1176bd</td>\n      <td>exponential_weighted_estimator_shrinkage</td>\n      <td>ClassWgtSVMMVO</td>\n      <td>ETF</td>\n      <td>Univariate</td>\n      <td>SPY</td>\n      <td>False</td>\n      <td>29</td>\n      <td>SunJan212024</td>\n      <td>0.1</td>\n      <td>...</td>\n      <td>1</td>\n      <td>5</td>\n      <td>0.6838</td>\n      <td>False</td>\n      <td>premium_target</td>\n      <td>['premium']</td>\n      <td>250</td>\n      <td>1</td>\n      <td>True</td>\n      <td>1.25</td>\n    </tr>\n    <tr>\n      <th>629fbc122fd5f2200eb464b04268d2e026f6e361</th>\n      <td>629fbc122fd5f2200eb464b04268d2e026f6e361</td>\n      <td>exponential_weighted_estimator_shrinkage</td>\n      <td>ClassWgtSVMMVO</td>\n      <td>ETF</td>\n      <td>Univariate</td>\n      <td>SPY</td>\n      <td>False</td>\n      <td>29</td>\n      <td>SunJan212024</td>\n      <td>0.1</td>\n      <td>...</td>\n      <td>1</td>\n      <td>5</td>\n      <td>0.6838</td>\n      <td>False</td>\n      <td>premium_target</td>\n      <td>['premium']</td>\n      <td>250</td>\n      <td>1</td>\n      <td>True</td>\n      <td>1.25</td>\n    </tr>\n    <tr>\n      <th>54181df745c8788832e47491592e27fbc561ea11</th>\n      <td>54181df745c8788832e47491592e27fbc561ea11</td>\n      <td>exponential_weighted_estimator_shrinkage</td>\n      <td>ClassWgtSVMMVO</td>\n      <td>ETF</td>\n      <td>Univariate</td>\n      <td>SPY</td>\n      <td>False</td>\n      <td>29</td>\n      <td>SunJan212024</td>\n      <td>0.1</td>\n      <td>...</td>\n      <td>1</td>\n      <td>5</td>\n      <td>0.6838</td>\n      <td>False</td>\n      <td>premium_target</td>\n      <td>['premium']</td>\n      <td>250</td>\n      <td>1</td>\n      <td>True</td>\n      <td>1.25</td>\n    </tr>\n    <tr>\n      <th>d8a6f997b6b12c2ce0cfd40c226f6c442b075d37</th>\n      <td>d8a6f997b6b12c2ce0cfd40c226f6c442b075d37</td>\n      <td>exponential_weighted_estimator_shrinkage</td>\n      <td>ClassWgtSVMMVO</td>\n      <td>ETF</td>\n      <td>Univariate</td>\n      <td>SPY</td>\n      <td>False</td>\n      <td>29</td>\n      <td>SunJan212024</td>\n      <td>0.1</td>\n      <td>...</td>\n      <td>1</td>\n      <td>5</td>\n      <td>0.6838</td>\n      <td>False</td>\n      <td>premium_target</td>\n      <td>['premium']</td>\n      <td>250</td>\n      <td>1</td>\n      <td>True</td>\n      <td>1.25</td>\n    </tr>\n    <tr>\n      <th>cab159f58c2b79e95bf17d392f9e66e7874f377e</th>\n      <td>cab159f58c2b79e95bf17d392f9e66e7874f377e</td>\n      <td>exponential_weighted_estimator_shrinkage</td>\n      <td>ClassWgtSVMMVO</td>\n      <td>ETF</td>\n      <td>Univariate</td>\n      <td>SPY</td>\n      <td>False</td>\n      <td>29</td>\n      <td>SunJan212024</td>\n      <td>0.1</td>\n      <td>...</td>\n      <td>1</td>\n      <td>5</td>\n      <td>0.6838</td>\n      <td>False</td>\n      <td>premium_target</td>\n      <td>['premium']</td>\n      <td>250</td>\n      <td>1</td>\n      <td>True</td>\n      <td>1.25</td>\n    </tr>\n  </tbody>\n</table>\n<p>147 rows × 40 columns</p>\n</div>"
     },
     "execution_count": 16,
     "metadata": {},
     "output_type": "execute_result"
    }
   ],
   "source": [
    "df"
   ],
   "metadata": {
    "collapsed": false,
    "ExecuteTime": {
     "end_time": "2024-02-15T06:08:48.367665600Z",
     "start_time": "2024-02-15T06:08:48.320693400Z"
    }
   }
  },
  {
   "cell_type": "code",
   "execution_count": null,
   "outputs": [],
   "source": [
    " "
   ],
   "metadata": {
    "collapsed": false
   }
  }
 ],
 "metadata": {
  "kernelspec": {
   "display_name": "Python 3",
   "language": "python",
   "name": "python3"
  },
  "language_info": {
   "codemirror_mode": {
    "name": "ipython",
    "version": 2
   },
   "file_extension": ".py",
   "mimetype": "text/x-python",
   "name": "python",
   "nbconvert_exporter": "python",
   "pygments_lexer": "ipython2",
   "version": "2.7.6"
  }
 },
 "nbformat": 4,
 "nbformat_minor": 0
}
