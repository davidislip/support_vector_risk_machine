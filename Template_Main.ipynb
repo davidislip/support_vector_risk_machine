{
 "cells": [
  {
   "cell_type": "markdown",
   "source": [
    "\n",
    "# MMF1921/MIE377 Style Backtesting Template\n",
    "\n",
    "From the MIE377/MMF1921 Projects:\n",
    "\n",
    "        The purpose of this program is to provide a template with which to develop Project 2. The project requires you to test different models  (and/or different model combinations) to create an asset management algorithm.\n",
    "\n",
    "        This template will be used by the instructor and TA to assess your trading algorithm using different datasets.\n",
    "\n",
    "        # PLEASE DO NOT MODIFY THIS TEMPLATE (for Project submission purposes)\n",
    "\n",
    "This template for evaluating asset allocation algorithms is the exact same style as the one in MIE377.\n",
    "\n",
    "Is it fast? No it is not.\n",
    "\n",
    "Is it clear and relatively easy to follow? Yes it is.\n",
    "\n",
    "There are a couple of moving parts:\n",
    "\n",
    "* The database: see the Database folder for examples of where and how the data was processed. Download SQLLite viewer to explore the data and look at the queries in the notebooks to understand what data is in there\n",
    "* The services: in the services folder there are some helpers to extract the data (data_retrieval.py), estimate means and covariances (estimators.py), and optimizers (optimization.py)\n",
    "* Strategies are also defined in the services folder. The current convention is that a strategy takes in data (returns and factor returns) and outputs an allocation.\n",
    "* Typically, the strategies will use some form of estimator and an optimizer come up with allocations.\n",
    "\n",
    "If you do not want to deal with the database then use the MIE377_Project_Main template and copy cells 2.1 and 2.2 into the appropriate spot\n",
    "and replace \n",
    "\n",
    "        x[:,t] = project_function(periodReturns, periodFactRet)\n",
    "\n",
    "with\n",
    "\n",
    "        x[:,t] = Strategy.execute_strategy(periodReturns, periodFactRet) #equal_weight(periodReturns) #StrategyFunction(periodReturns, periodFactRet, x0[:,t]);\n",
    "\n",
    "# 1. Read input files"
   ],
   "metadata": {
    "collapsed": false
   }
  },
  {
   "cell_type": "code",
   "execution_count": 1,
   "outputs": [
    {
     "name": "stdout",
     "output_type": "stream",
     "text": [
      "['asset_id', 'currency_id', 'equities_series', 'equity_index_id', 'exchange_id', 'factor_id', 'factors', 'frequency_id', 'fundamentals', 'metric_id', 'source_id', 'ticker_id', 'ticker_index_membership', 'tiingo_tickers']\n"
     ]
    }
   ],
   "source": [
    "import time\n",
    "import math\n",
    "\n",
    "import pandas as pd\n",
    "\n",
    "from Database.services.database import Database\n",
    "from sqlalchemy import inspect\n",
    "from services.data_retreival import *\n",
    "from scipy.stats import gmean\n",
    "import matplotlib.pyplot as plt\n",
    "from services.strategies import *\n",
    "from services.optimization_layers import *\n",
    "from services.optimization import *\n",
    "from services.binary_optimization import *\n",
    "from services.environment_functions import *\n",
    "\n",
    "\n",
    "Database.initialize(\"sqlite:///Database//financial_db.sqlite\") #for courses replace this with a flat file\n",
    "inspector = inspect(Database.engine)\n",
    "print(inspector.get_table_names())\n",
    "\n",
    "universe = 'ETF'\n",
    "imputation_method = 'Univariate'\n",
    "ticker_str = 'SPY'\n",
    "#exponential params\n",
    "\n",
    "\n",
    "adjClose = pd.read_csv(\"flat_files/MonthlyAssetPrices\"+ universe + \".csv\", index_col=0, header = 1).iloc[1:,:]\n",
    "\n",
    "daily_adjClose =  pd.read_csv(\"flat_files/DailyAssetPrices\"+universe + \".csv\", index_col=0, header = 1).iloc[1:,:]\n",
    "\n",
    "TechnicalAnalysis = pd.read_csv(\"flat_files/TechnicalAnalysis\" + universe + \".csv\", index_col=[0,1])\n",
    "\n",
    "if universe ==  'SP':\n",
    "    FinancialRatios = pd.read_csv(\"flat_files/\" + imputation_method + \"WRDS.csv\", index_col=[0,1])\n",
    "    TechnicalAnalysis.index.names = FinancialRatios.index.names\n",
    "    ContextualInfo = TechnicalAnalysis.merge(FinancialRatios, how = 'left', left_index=True, right_index=True)\n",
    "\n",
    "else:\n",
    "    TechnicalAnalysis.index.names = ['date', 'ticker']\n",
    "    ContextualInfo = TechnicalAnalysis\n"
   ],
   "metadata": {
    "collapsed": false,
    "ExecuteTime": {
     "end_time": "2023-12-22T18:58:39.622327300Z",
     "start_time": "2023-12-22T18:58:34.424309100Z"
    }
   }
  },
  {
   "cell_type": "code",
   "execution_count": 2,
   "outputs": [],
   "source": [
    "adjClose.index = pd.to_datetime(adjClose.index, format='%Y-%m-%d').tz_localize(None)\n",
    "daily_adjClose.index = pd.to_datetime(daily_adjClose.index, format='%Y-%m-%d').tz_localize(None)\n",
    "ContextualInfo.index = ContextualInfo.index.set_levels([pd.to_datetime(ContextualInfo.index.levels[0]).tz_localize(None), ContextualInfo.index.levels[1]])"
   ],
   "metadata": {
    "collapsed": false,
    "ExecuteTime": {
     "end_time": "2023-12-22T18:58:39.637845400Z",
     "start_time": "2023-12-22T18:58:39.624327100Z"
    }
   }
  },
  {
   "cell_type": "code",
   "execution_count": 3,
   "outputs": [
    {
     "name": "stdout",
     "output_type": "stream",
     "text": [
      "The earliest possible start date\n"
     ]
    },
    {
     "data": {
      "text/plain": "Timestamp('2006-01-31 00:00:00')"
     },
     "execution_count": 3,
     "metadata": {},
     "output_type": "execute_result"
    }
   ],
   "source": [
    "print(\"The earliest possible start date\")\n",
    "max(daily_adjClose.index.unique()[0], ContextualInfo.index.get_level_values('date').unique()[0], adjClose.index.unique()[0])"
   ],
   "metadata": {
    "collapsed": false,
    "ExecuteTime": {
     "end_time": "2023-12-22T18:58:39.696598900Z",
     "start_time": "2023-12-22T18:58:39.638844900Z"
    }
   }
  },
  {
   "cell_type": "code",
   "execution_count": 4,
   "outputs": [
    {
     "name": "stdout",
     "output_type": "stream",
     "text": [
      "The latest possible start date\n"
     ]
    },
    {
     "data": {
      "text/plain": "Timestamp('2023-04-21 00:00:00')"
     },
     "execution_count": 4,
     "metadata": {},
     "output_type": "execute_result"
    }
   ],
   "source": [
    "print(\"The latest possible start date\")\n",
    "min(daily_adjClose.index.unique()[-1], ContextualInfo.index.get_level_values('date').unique()[-1], adjClose.index.unique()[-1])"
   ],
   "metadata": {
    "collapsed": false,
    "ExecuteTime": {
     "end_time": "2023-12-22T18:58:39.710600800Z",
     "start_time": "2023-12-22T18:58:39.658844400Z"
    }
   }
  },
  {
   "cell_type": "code",
   "execution_count": 5,
   "outputs": [],
   "source": [
    "# start_date = pd.to_datetime('1996-11-30', format = '%Y-%m-%d')\n",
    "# \n",
    "# end_date = pd.to_datetime('2022-12-31', format = '%Y-%m-%d')\n",
    "\n",
    "start_date = pd.to_datetime('2006-05-31', format = '%Y-%m-%d')\n",
    "\n",
    "end_date = pd.to_datetime('2022-12-31', format = '%Y-%m-%d')\n",
    "\n",
    "factors = ('Mkt-RF', 'RF')\n",
    "\n",
    "factorRet = get_monthly_factors(factors, start_date, end_date, Database)\n",
    "\n",
    "factorRet = factorRet.droplevel(0, axis = 1)\n",
    "factorRet.columns = [col.strip() for col in factorRet.columns]"
   ],
   "metadata": {
    "collapsed": false,
    "ExecuteTime": {
     "end_time": "2023-12-22T18:58:42.940030900Z",
     "start_time": "2023-12-22T18:58:39.672852900Z"
    }
   }
  },
  {
   "cell_type": "code",
   "execution_count": 6,
   "outputs": [],
   "source": [
    "adjClose = adjClose[start_date:end_date]\n",
    "daily_adjClose = daily_adjClose[start_date:end_date]\n",
    "idx = pd.IndexSlice\n",
    "ContextualInfo = ContextualInfo.loc[idx[start_date:end_date, :], :]"
   ],
   "metadata": {
    "collapsed": false,
    "ExecuteTime": {
     "end_time": "2023-12-22T18:58:42.988942200Z",
     "start_time": "2023-12-22T18:58:42.944986800Z"
    }
   }
  },
  {
   "cell_type": "code",
   "execution_count": 7,
   "outputs": [],
   "source": [
    "# Initial budget to invest ($100,000)\n",
    "initialVal = 100000\n",
    "\n",
    "# Length of investment period (in months) - but actually units of data\n",
    "investPeriod = 6\n",
    "\n",
    "# divide the factor returns by 100\n",
    "factorRet = factorRet/100\n",
    "\n",
    "#rf and factor returns\n",
    "#drop the first observation to align the dataset with the returns data that will\n",
    "#result\n",
    "factorRet = factorRet.iloc[1:, :]\n",
    "\n",
    "#rf and factor returns\n",
    "riskFree = factorRet['RF']\n",
    "factorRet = factorRet.loc[:,factorRet.columns != 'RF'];"
   ],
   "metadata": {
    "collapsed": false,
    "ExecuteTime": {
     "end_time": "2023-12-22T18:58:42.988942200Z",
     "start_time": "2023-12-22T18:58:42.974434100Z"
    }
   }
  },
  {
   "cell_type": "code",
   "execution_count": 8,
   "outputs": [],
   "source": [
    "#Identify the tickers and the dates\n",
    "tickers = adjClose.columns\n",
    "dates   = factorRet.index"
   ],
   "metadata": {
    "collapsed": false,
    "ExecuteTime": {
     "end_time": "2023-12-22T18:58:43.004942400Z",
     "start_time": "2023-12-22T18:58:42.987942Z"
    }
   }
  },
  {
   "cell_type": "code",
   "execution_count": 9,
   "outputs": [],
   "source": [
    "# Calculate the stocks monthly excess returns\n",
    "# pct change and drop the first null observation\n",
    "returns = adjClose.pct_change(1).iloc[1:, :]\n",
    "returns = returns  - np.diag(riskFree.values) @ np.ones_like(returns.values) # risk adjusted returns\n",
    "# Align the price table to the asset and factor returns tables by discarding the first observation.\n",
    "adjClose = adjClose.iloc[1:,:]"
   ],
   "metadata": {
    "collapsed": false,
    "ExecuteTime": {
     "end_time": "2023-12-22T18:58:43.040941800Z",
     "start_time": "2023-12-22T18:58:43.005942400Z"
    }
   }
  },
  {
   "cell_type": "code",
   "execution_count": 10,
   "outputs": [],
   "source": [
    "assert adjClose.index[0] == returns.index[0]\n",
    "assert adjClose.index[0] == factorRet.index[0]"
   ],
   "metadata": {
    "collapsed": false,
    "ExecuteTime": {
     "end_time": "2023-12-22T18:58:43.051942100Z",
     "start_time": "2023-12-22T18:58:43.033942100Z"
    }
   }
  },
  {
   "cell_type": "markdown",
   "source": [
    "# 2. Run your program\n",
    "\n",
    "This section will run your Project1_Function in a loop. The data will be loaded progressively as a growing window of historical observations.\n",
    "Rebalancing will take place after every loop\n",
    "\n",
    "### 2.1 Some Standard Allocation Strategies"
   ],
   "metadata": {
    "collapsed": false
   }
  },
  {
   "cell_type": "code",
   "execution_count": 221,
   "outputs": [],
   "source": [
    "import math\n",
    "import gurobipy as gp\n",
    "from gurobipy import GRB\n",
    "import numpy as np\n",
    "import time\n",
    "\n",
    "\n",
    "# Cardinality Constrained Optimization\n",
    "def CreateCardMVOModel(mu, targetRet, Q, K, limit_time=30, MipGap=0.01, LogToConsole = True):\n",
    "    n = len(mu)\n",
    "\n",
    "    m = gp.Model(\"miqp\")\n",
    "\n",
    "    m.Params.timeLimit = limit_time\n",
    "\n",
    "    m.Params.MIPGap = MipGap\n",
    "    \n",
    "    m.Params.LogToConsole = int(LogToConsole)\n",
    "\n",
    "    z_vars = m.addMVar(n, vtype=gp.GRB.BINARY, name=\"z_vars\")\n",
    "\n",
    "    x_vars = m.addMVar(n, lb=0.0, vtype=gp.GRB.CONTINUOUS, name=\"x_vars\")\n",
    "\n",
    "    m.setObjective(x_vars @ Q @ x_vars, gp.GRB.MINIMIZE)\n",
    "\n",
    "    m.addConstr(x_vars.sum() == 1)\n",
    "\n",
    "    m.addConstr(mu @ x_vars >= targetRet)\n",
    "\n",
    "    m.addConstr(z_vars.sum() <= K)\n",
    "\n",
    "    m.addConstr(x_vars <= z_vars)\n",
    "\n",
    "    return m, x_vars, z_vars\n",
    "\n",
    "\n",
    "def extractSolution(n, m, x_vars, z_vars):\n",
    "    x = np.zeros(n)\n",
    "    z = np.zeros(n)\n",
    "    for i in range(n):\n",
    "        x[i] = x_vars[i].X\n",
    "        z[i] = z_vars[i].X\n",
    "    obj_value = m.objVal\n",
    "    gap1 = m.MIPGap\n",
    "    gap2 = gap1 * 100\n",
    "    return obj_value, gap2, x, z\n",
    "\n",
    "def addTurnoverConstraints(m, x_vars, previous_portfolio, turnover_limit):\n",
    "    n = len(previous_portfolio)\n",
    "    absolute_delta = m.addMVar(n, lb=-GRB.INFINITY, ub=GRB.INFINITY,\n",
    "                               vtype=gp.GRB.CONTINUOUS, name=\"magntiude of portfolio changes\")\n",
    "    m.addConstr(absolute_delta >= x_vars - previous_portfolio)\n",
    "    m.addConstr(absolute_delta >= previous_portfolio - x_vars)\n",
    "    m.addConstr(absolute_delta.sum() <= turnover_limit, name='turnover')\n",
    "    m.update()\n",
    "    return absolute_delta\n",
    "\n",
    "\n",
    "def smallestTurnoverModel(m, absolute_delta):\n",
    "    # compute the smallest turnover portfolio instead of smallest risk with turnover constraints\n",
    "    m.remove(m.getConstrByName('turnover'))\n",
    "    m.reset()\n",
    "    m.setObjective(absolute_delta.sum())\n",
    "    m.optimize()\n",
    "\n",
    "\n",
    "def CardMVO(limit_time=30, MipGap=0.01,  SolutionLimit=GRB.MAXINT, \n",
    "            LogToConsole = True, Verbose = True, **kwargs):\n",
    "    mu, Q, K, targetRet = kwargs['mu'], kwargs['Q'], kwargs['K'], kwargs['targetRet']\n",
    "    turnover_constraints = kwargs['turnover_constraints']\n",
    "    previous_portfolio = kwargs['previous_portfolio']\n",
    "    if turnover_constraints:\n",
    "        turnover_limit = kwargs['turnover_limit']\n",
    "        \n",
    "\n",
    "    feasible_solution = True\n",
    "\n",
    "    n = len(mu)\n",
    "    mu = mu.squeeze()\n",
    "\n",
    "    start = time.time()\n",
    "\n",
    "    m, x_vars, z_vars = CreateCardMVOModel(mu, targetRet, Q, K, limit_time, MipGap, LogToConsole)\n",
    "\n",
    "    m.Params.SolutionLimit = SolutionLimit\n",
    "\n",
    "    if previous_portfolio is not None and turnover_constraints:\n",
    "        absolute_delta = addTurnoverConstraints(m, x_vars, previous_portfolio, turnover_limit)\n",
    "\n",
    "    m.optimize()\n",
    "\n",
    "    # model did not solve\n",
    "    if m.status in (4, 3):\n",
    "        feasible_solution = False\n",
    "        if previous_portfolio is not None and turnover_constraints:\n",
    "            if Verbose:\n",
    "                print(\"Computing lowest turnover feasible solution...\")\n",
    "            smallestTurnoverModel(m, absolute_delta)\n",
    "\n",
    "    obj_value, gap2, x, z = extractSolution(n, m, x_vars, z_vars)\n",
    "\n",
    "    end = time.time()\n",
    "\n",
    "    return {'obj_value': obj_value, 'time': end - start,\n",
    "            'optimality gap': gap2, 'x': x, 'z': z, 'feasible_solution': feasible_solution}\n",
    "\n",
    "\n",
    "def CreateSVMMVOModel(mu, targetRet, Q, K, q, epsilon,\n",
    "                      bigM, big_w,\n",
    "                      period_Context, C, separable, limit_time, MipGap, LogToConsole):\n",
    "    n, p = period_Context.shape\n",
    "\n",
    "    m = gp.Model(\"miqp\")\n",
    "\n",
    "    m.Params.timeLimit = limit_time\n",
    "\n",
    "    m.Params.MIPGap = MipGap\n",
    "    \n",
    "    m.Params.LogToConsole = int(LogToConsole)\n",
    "\n",
    "    # binary variables\n",
    "    z_vars = m.addMVar(n, vtype=gp.GRB.BINARY, name=\"z_vars\")\n",
    "\n",
    "    t_vars = m.addMVar(p, vtype=gp.GRB.BINARY, name=\"t_vars\")\n",
    "\n",
    "    x_vars = m.addMVar(n, lb=0.0, vtype=gp.GRB.CONTINUOUS, name=\"x_vars\")\n",
    "\n",
    "    w_vars = m.addMVar(p, lb=-1 * GRB.INFINITY, ub=GRB.INFINITY, vtype=gp.GRB.CONTINUOUS, name=\"w_vars\")\n",
    "\n",
    "    b_var = m.addMVar(shape=1, lb=-1 * GRB.INFINITY, name=\"b_var\", vtype=gp.GRB.CONTINUOUS)\n",
    "\n",
    "    m.addConstr(x_vars.sum() == 1)\n",
    "\n",
    "    m.addConstr(mu @ x_vars >= targetRet)\n",
    "\n",
    "    m.addConstr(z_vars.sum() <= K)\n",
    "\n",
    "    m.addConstr(x_vars <= z_vars)\n",
    "\n",
    "    if separable:\n",
    "        xi_vars = None\n",
    "        m.setObjective(x_vars @ Q @ x_vars + (epsilon / 2) * (w_vars @ w_vars), gp.GRB.MINIMIZE)\n",
    "        for i in range(n):\n",
    "            y_i = period_Context.iloc[i].values\n",
    "            m.addConstr(w_vars @ y_i + b_var <= -1 + bigM * z_vars[i], name=\"svm1\")\n",
    "            m.addConstr(w_vars @ y_i + b_var >= 1 + bigM * (1 - z_vars[i]), name=\"svm2\")\n",
    "    else:\n",
    "        xi_vars = m.addMVar(n, lb=0.0, vtype=gp.GRB.CONTINUOUS, name=\"xi_vars\")\n",
    "        C_epsilon_by_n = C * epsilon / n\n",
    "        m.setObjective(x_vars @ Q @ x_vars + (epsilon / 2) * (w_vars @ w_vars) + C_epsilon_by_n * xi_vars.sum(),\n",
    "                       gp.GRB.MINIMIZE)\n",
    "        for i in range(n):\n",
    "            y_i = period_Context.iloc[i].values\n",
    "            m.addConstr(w_vars @ y_i + b_var <= -1 + xi_vars[i] + bigM * z_vars[i], name=\"svm1\")\n",
    "            m.addConstr(w_vars @ y_i + b_var >= 1 - xi_vars[i] - bigM * (1 - z_vars[i]), name=\"svm2\")\n",
    "\n",
    "    m.addConstr(w_vars <= big_w * t_vars)\n",
    "\n",
    "    m.addConstr(w_vars >= -1 * big_w * t_vars)\n",
    "\n",
    "    m.addConstr(t_vars.sum() <= q)\n",
    "\n",
    "    return m, x_vars, z_vars, w_vars, b_var, t_vars, xi_vars\n",
    "\n",
    "\n",
    "def corollary1(period_Context, q, big_w, big_xi):\n",
    "    \"\"\"\n",
    "    \"\"\"\n",
    "    n, p = period_Context.shape\n",
    "    largest_abs = 0\n",
    "    pairs = period_Context.values - period_Context.values[:, None]\n",
    "    pairs = np.abs(pairs)\n",
    "    for i in range(n):\n",
    "        for j in range(i):\n",
    "            candidate = np.sort(pairs[i, j])[-1 * q:].sum()\n",
    "            if candidate > largest_abs:\n",
    "                largest_abs = candidate\n",
    "    bigM = big_w * largest_abs + max(2, big_xi)\n",
    "\n",
    "    return bigM\n",
    "\n",
    "\n",
    "def corollary2(period_Context, big_w, big_xi):\n",
    "    \"\"\"\n",
    "    \"\"\"\n",
    "    n, p = period_Context.shape\n",
    "    largest_abs = 0\n",
    "    pairs = period_Context.values - period_Context.values[:, None]\n",
    "    pairs = np.abs(pairs)\n",
    "    largest_abs = np.abs(pairs).sum(axis=-1).max()\n",
    "    bigM = big_w * largest_abs + max(2, big_xi)\n",
    "\n",
    "    return bigM\n",
    "\n",
    "\n",
    "def corollary3(period_Context, q, big_w, big_b):\n",
    "    \"\"\"\n",
    "    \"\"\"\n",
    "    n, p = period_Context.shape\n",
    "    largest_abs = 0\n",
    "    for i in range(n):\n",
    "        candidate = period_Context.iloc[i].abs().sort_values(ascending=False).iloc[:q].sum()\n",
    "        if candidate > largest_abs:\n",
    "            largest_abs = candidate\n",
    "    bigM = 1 + big_b + big_w * largest_abs\n",
    "\n",
    "    return bigM\n",
    "\n",
    "\n",
    "def corollary4(period_Context, big_w, big_b):\n",
    "    \"\"\"\n",
    "    \"\"\"\n",
    "    bigM = 1 + big_b + big_w * period_Context.abs().sum(axis=1).max()\n",
    "    return bigM\n",
    "\n",
    "\n",
    "def CreateSVMModel(period_Context, z_vals, C, separable, limit_time, LogToConsole):\n",
    "    n, p = period_Context.shape\n",
    "\n",
    "    m = gp.Model(\"miqp\")\n",
    "\n",
    "    m.Params.timeLimit = limit_time\n",
    "    \n",
    "    m.Params.LogToConsole = int(LogToConsole)\n",
    "\n",
    "    w_vars = m.addMVar(p, lb=-1 * GRB.INFINITY, ub=GRB.INFINITY, vtype=gp.GRB.CONTINUOUS, name=\"w_vars\")\n",
    "\n",
    "    b_var = m.addMVar(shape=1, lb=-1 * GRB.INFINITY, name=\"b_var\", vtype=gp.GRB.CONTINUOUS)\n",
    "\n",
    "    if separable:\n",
    "        xi_vars = None\n",
    "        m.setObjective((1 / 2) * (w_vars @ w_vars), gp.GRB.MINIMIZE)\n",
    "        for i in range(n):\n",
    "            y_i = period_Context.iloc[i].values\n",
    "            m.addConstr((2 * z_vals[i] - 1) * (y_i @ w_vars + b_var) >= 1)\n",
    "    else:\n",
    "        xi_vars = m.addMVar(n, lb=0.0, vtype=gp.GRB.CONTINUOUS, name=\"xi_vars\")\n",
    "        C_by_n = C / n\n",
    "        m.setObjective((1 / 2) * (w_vars @ w_vars) + C_by_n * xi_vars.sum(), gp.GRB.MINIMIZE)\n",
    "        for i in range(n):\n",
    "            y_i = period_Context.iloc[i].values\n",
    "            m.addConstr((2 * z_vals[i] - 1) * (y_i @ w_vars + b_var) + xi_vars[i] >= 1)\n",
    "    return m, w_vars, b_var, xi_vars\n",
    "\n",
    "\n",
    "def extractSVMSolution(n, p, m, w_vars, b_var, xi_vars):\n",
    "    w = np.zeros(p)\n",
    "    b = np.zeros(1)\n",
    "    xi = np.zeros(n)\n",
    "    for i in range(p):\n",
    "        w[i] = w_vars[i].X\n",
    "    b[0] = b_var[0].X\n",
    "\n",
    "    for i in range(n):\n",
    "        if xi_vars is not None:\n",
    "            xi[i] = xi_vars[i].X\n",
    "\n",
    "    obj_value = m.objVal\n",
    "\n",
    "    return obj_value, w, b, xi\n",
    "\n",
    "\n",
    "def SVM(period_Context, z_vals, C, separable, limit_time, LogToConsole):\n",
    "    n, p = period_Context.shape\n",
    "\n",
    "    start = time.time()\n",
    "\n",
    "    m, w_vars, b_var, xi_vars = CreateSVMModel(period_Context, z_vals, C, separable, limit_time, LogToConsole)\n",
    "\n",
    "    m.optimize()\n",
    "\n",
    "    obj_value, w, b, xi = extractSVMSolution(n, p, m, w_vars, b_var, xi_vars)\n",
    "\n",
    "    end = time.time()\n",
    "    return {'obj_value': obj_value, 'time': end - start, 'w': w, 'b': b, 'xi': xi}\n",
    "\n",
    "\n",
    "# Big M strategies begin\n",
    "\n",
    "def naivebigMStrategyCorollary3(**kwargs):\n",
    "    \"\"\"\n",
    "    Follows Bianco et.al and assumes ||w, b|| \\leq 1\n",
    "    big_w = 1\n",
    "    big_b = 1\n",
    "    bigM = big_w + big_b +\n",
    "    \\max_{\\mathcal{T} \\subset [p]: |\\mathcal{T}| \\leq q} \\max{i = 1...N} ||\\boldsymbol{y}_{\\mathcal{T}}^{(i)}||_1\n",
    "    \"\"\"\n",
    "    period_Context, q = kwargs['period_Context'], kwargs['q']\n",
    "    big_w = 1\n",
    "    big_b = 1\n",
    "    bigM = corollary3(period_Context, q, big_w, big_b)\n",
    "    big_xi = None\n",
    "    return {'bigM':bigM, 'big_w':big_w, 'big_b':big_b, 'big_xi':big_xi}\n",
    "\n",
    "\n",
    "def naivebigMStrategyCorollary4(**kwargs):\n",
    "    \"\"\"\n",
    "    Follows Bianco et.al and assumes ||w, b|| \\leq 1\n",
    "    big_w = 1\n",
    "    big_b = 1\n",
    "    bigM = big_w + big_b + \\max{i = 1...N} ||\\boldsymbol{y}^{(i)}||_1\n",
    "    \"\"\"\n",
    "    period_Context = kwargs['period_Context']\n",
    "    big_w = 1\n",
    "    big_b = 1\n",
    "    bigM = corollary4(period_Context, big_w, big_b)\n",
    "    big_xi = None\n",
    "    return {'bigM':bigM, 'big_w':big_w, 'big_b':big_b, 'big_xi':big_xi}\n",
    "\n",
    "\n",
    "\n",
    "def ConstructFeasibleSolution(bigM_limit_time=10, bigM_MipGap=0.1, bigM_SolutionLimit=10, LogToConsole = True, Verbose = True, **kwargs):\n",
    "    period_Context, C, separable = kwargs['period_Context'], kwargs['C'], kwargs['separable']\n",
    "    q, epsilon = kwargs['q'], kwargs['epsilon']\n",
    "    \n",
    "    # take out args into new dict\n",
    "    if Verbose:\n",
    "        print(\"Constructing Feasible Solution...\")\n",
    "    bigM_kwargs_forCardMVO = kwargs.copy()\n",
    "    bigM_kwargs_forCardMVO['limit_time'] = bigM_limit_time\n",
    "    bigM_kwargs_forCardMVO['MipGap'] = bigM_MipGap\n",
    "    bigM_kwargs_forCardMVO['SolutionLimit'] = bigM_SolutionLimit\n",
    "    bigM_kwargs_forCardMVO['LogToConsole'] = LogToConsole\n",
    "    bigM_kwargs_forCardMVO['Verbose'] = Verbose\n",
    "    # card mvo\n",
    "    if Verbose:\n",
    "        print(\"Extracting a cardinality constrained portfolio...\")\n",
    "    card_mvo_results = CardMVO(**bigM_kwargs_forCardMVO)\n",
    "    z_vals = card_mvo_results['z']\n",
    "    # SVM\n",
    "    if Verbose:\n",
    "        print(\"Phase 1 SVM...\")\n",
    "    svm_phase1_results = SVM(period_Context, z_vals, C, separable, bigM_limit_time, LogToConsole)\n",
    "    # sort and clip w\n",
    "    w_vals = svm_phase1_results['w']\n",
    "    abs_w = np.abs(w_vals)\n",
    "    q_largest = np.argpartition(abs_w, (-1) * q)[-q:]\n",
    "    # restrict indices\n",
    "    period_Context_subset = period_Context.iloc[:, q_largest]\n",
    "    # SVM again\n",
    "    if Verbose:\n",
    "        print(\"Phase 2 SVM...\")\n",
    "    svm_phase2_results = SVM(period_Context_subset, z_vals, C, separable, bigM_limit_time, LogToConsole)\n",
    "    # Calculate Objective Value\n",
    "    ObjSVM = svm_phase2_results['obj_value']\n",
    "    ObjMVO = card_mvo_results['obj_value']\n",
    "\n",
    "    return ObjMVO + epsilon * ObjSVM, card_mvo_results['feasible_solution']\n",
    "\n",
    "\n",
    "def objectiveBigMStrategy(**kwargs):\n",
    "    period_Context, epsilon, C, q = kwargs['period_Context'], kwargs['epsilon'], kwargs['C'], kwargs['q']\n",
    "\n",
    "    ObjSVMMVO, feasible_solution = ConstructFeasibleSolution(**kwargs)  # kwargs may or may not have big M limit times etc\n",
    "\n",
    "    n, p = period_Context.shape\n",
    "    big_w = math.sqrt(ObjSVMMVO / epsilon)\n",
    "    big_xi = min(n * ObjSVMMVO / (epsilon * C), n)\n",
    "    bigM = corollary1(period_Context, q, big_w, big_xi)\n",
    "    big_b = None\n",
    "    return {'bigM':bigM, 'big_w':big_w, 'big_b':big_b, 'big_xi':big_xi, 'feasible_solution':feasible_solution}\n",
    "\n",
    "\n",
    "def objectiveBigMStrategyTightening():\n",
    "    # ObjSVM = ConstructFeasibleSolution()\n",
    "    #\n",
    "    # big_w = ObjSVM\n",
    "    # big_xi = ObjSVM\n",
    "    # bigM = corollary1()\n",
    "   \n",
    "    # min max big_b\n",
    "    # update big_b\n",
    "    # min max big xi with bound on b added\n",
    "    # update big_xi\n",
    "    # check using corrollary 3\n",
    "    # update M\n",
    "    # Solve SVMMVO using Gurobi?\n",
    "    # update big_w, big_xi\n",
    "    # bounds improved? Keep going\n",
    "    return None\n",
    "\n",
    "def extractSVMMVOSolution(n, p, m, x_vars, z_vars, w_vars, t_vars, b_var, xi_vars):\n",
    "    x = np.zeros(n)\n",
    "    z = np.zeros(n)\n",
    "    w = np.zeros(p)\n",
    "    t = np.zeros(p)\n",
    "    b = np.zeros(1)\n",
    "    xi = np.zeros(n)\n",
    "\n",
    "    for i in range(n):\n",
    "        x[i] = x_vars[i].X\n",
    "        z[i] = z_vars[i].X\n",
    "        if xi_vars is not None:\n",
    "            xi[i] = xi_vars[i].X\n",
    "\n",
    "    for i in range(p):\n",
    "        w[i] = w_vars[i].X\n",
    "        t[i] = t_vars[i].X\n",
    "    b[0] = b_var[0].X\n",
    "\n",
    "    obj_value = m.objVal\n",
    "    gap1 = m.MIPGap\n",
    "    gap2 = gap1 * 100\n",
    "    return obj_value, gap2, x, z, w, t, b, xi\n",
    "\n",
    "\n",
    "\n",
    "def smallestTurnoverModelSVMMVO(m, n, absolute_delta, separable, w_vars, xi_vars, epsilon, C):\n",
    "    # compute the smallest turnover portfolio instead of smallest risk with turnover constraints\n",
    "\n",
    "    m.remove(m.getConstrByName('turnover'))\n",
    "    m.reset()\n",
    "\n",
    "    if separable:\n",
    "        m.setObjective(absolute_delta.sum() + (epsilon / 2) * (w_vars @ w_vars), gp.GRB.MINIMIZE)\n",
    "    else:\n",
    "        C_epsilon_by_n = C * epsilon / n\n",
    "        m.setObjective(absolute_delta.sum() + (epsilon / 2) * (w_vars @ w_vars) + C_epsilon_by_n * xi_vars.sum(),\n",
    "                       gp.GRB.MINIMIZE)\n",
    "\n",
    "    m.optimize()\n",
    "\n",
    "\n",
    "def SVMMVO(limit_time=30, MipGap=0.01, LogToConsole = True, Verbose = True, **kwargs):  # if kwargs does not have limit time and mipgap then\n",
    "\n",
    "    mu, targetRet, Q, K = kwargs['mu'], kwargs['targetRet'], kwargs['Q'], kwargs['K']\n",
    "    q, epsilon, period_Context = kwargs['q'], kwargs['epsilon'], kwargs['period_Context']\n",
    "    C, separable = kwargs['C'], kwargs['separable']\n",
    "    bigMStrategy = kwargs['bigMStrategy']\n",
    "    turnover_constraints = kwargs['turnover_constraints']\n",
    "    previous_portfolio = kwargs['previous_portfolio']\n",
    "    \n",
    "    if turnover_constraints:\n",
    "        turnover_limit = kwargs['turnover_limit']\n",
    "\n",
    "    feasible_solution = True\n",
    "\n",
    "    n, p = period_Context.shape\n",
    "    mu = mu.squeeze()\n",
    "\n",
    "    start = time.time()\n",
    "    # compute big M here\n",
    "    bigM_kwargs = kwargs.copy()\n",
    "    bigM_kwargs['LogToConsole'] = LogToConsole\n",
    "    bigM_kwargs['Verbose'] = Verbose\n",
    "    \n",
    "    big_M_results = bigMStrategy(**bigM_kwargs)\n",
    "    bigM, big_w, big_b, big_xi = (big_M_results['bigM'], big_M_results['big_w'], \n",
    "                                  big_M_results['big_b'], big_M_results['big_xi'])\n",
    "    \n",
    "    # if the big M strategy yields feasibility information then \n",
    "    # update the feasible solution flag\n",
    "    if 'feasible_solution' in big_M_results.keys(): \n",
    "        feasible_solution = big_M_results['feasible_solution']\n",
    "    \n",
    "    if Verbose:\n",
    "        print(\"Calculated Big M \", bigM)\n",
    "        print(\"Calculated big W\", big_w)\n",
    "        print(\"Calculated big xi\", big_xi)\n",
    "    \n",
    "    bigM_finish_time = time.time()\n",
    "\n",
    "    m, x_vars, z_vars, w_vars, b_var, t_vars, xi_vars = CreateSVMMVOModel(mu, targetRet, Q, K, q, epsilon,\n",
    "                                                                          bigM, big_w,\n",
    "                                                                          period_Context, C=C,\n",
    "                                                                          separable=separable, limit_time=limit_time,\n",
    "                                                                          MipGap=MipGap, LogToConsole = LogToConsole)\n",
    "\n",
    "    if previous_portfolio is not None and turnover_constraints:  # add turnover constraints\n",
    "        absolute_delta = addTurnoverConstraints(m, x_vars, previous_portfolio, turnover_limit)\n",
    "    \n",
    "    if feasible_solution: # if we are feasible to the best of our knowledge\n",
    "        m.optimize()  # try to solve\n",
    "        # model did not solve\n",
    "        if m.status in (4, 3): # ah turns out we are not feasible\n",
    "            feasible_solution = False #update the flag\n",
    "    else: # feasible_solution is already set to false\n",
    "        # it must be because of the turnover constraint\n",
    "        # compute the min turnover portfolio that satisfies the constraint\n",
    "        if previous_portfolio is not None and turnover_constraints:\n",
    "            if Verbose:\n",
    "                print(\"Calculating the closest turnover portfolio...\")\n",
    "            smallestTurnoverModelSVMMVO(m, n, absolute_delta, separable, w_vars, xi_vars, epsilon, C)\n",
    "\n",
    "    obj_value, gap2, x, z, w, t, b, xi = extractSVMMVOSolution(n, p, m, x_vars, z_vars, w_vars, t_vars, b_var, xi_vars)\n",
    "    if Verbose:\n",
    "        print(\"SVM MVO Objective Value \", obj_value)\n",
    "        print(\"Norm of w \", np.power(w,2).sum())\n",
    "        print(\"Classification errors \", np.sum(xi))\n",
    "    end = time.time()\n",
    "    return {'obj_value': obj_value, 'time': end - start, 'bigM_time': bigM_finish_time - start, 'optimality gap': gap2,\n",
    "            'x': x, 'z': z, 'w': w, 't': t, 'b': b, 'xi': xi, 'feasible_solution': feasible_solution}\n",
    "\n",
    "def populate_kwargs(Strategy, env):\n",
    "    # custom calculation here\n",
    "    optimization_info = populateMVO(Strategy, env)\n",
    "    addTurnoverConstraint(optimization_info, Strategy, env)\n",
    "    addCardinalityConstraint(optimization_info, Strategy, env)\n",
    "    optimization_info['period_Context'] = env.period_Context.rank() / (len(env.period_Context) + 1)\n",
    "    # get the rest\n",
    "    for key, value in Strategy.investor_preferences.items():\n",
    "        optimization_info[key] = value\n",
    "    print(optimization_info['LogToConsole'])\n",
    "    return optimization_info"
   ],
   "metadata": {
    "collapsed": false,
    "ExecuteTime": {
     "end_time": "2023-12-22T22:20:40.504683700Z",
     "start_time": "2023-12-22T22:20:40.487882700Z"
    }
   }
  },
  {
   "cell_type": "code",
   "execution_count": 369,
   "outputs": [],
   "source": [
    "# Some strategies (uncomment this or the next cell to pick a strategy to test)\n",
    "# Strategy = general_strategy(sample_estimator, MVO, NumObs=48)  #the general strategy object takes an estimator function and an optimizer function\n",
    "#                                                                #the only constraint is that the estimators outputs are the optimizers inputs\n",
    "# investor preferences (static throughout the backtest)\n",
    "k = 6*20 #estimation\n",
    "alpha= 1 - 0.985 #estimation\n",
    "return_premium = 1.4 #optimization\n",
    "\n",
    "turnover_constraints = True\n",
    "turnover_limit = 0.3 # 0.75, 1, 1.25\n",
    "cardinality_ratio = 0.5 #optimization\n",
    "\n",
    "MipGap = 0.05\n",
    "limit_time = 30\n",
    "\n",
    "target_return_strategy = premium_target\n",
    "target_return_strategy_args = ['premium']\n",
    "\n",
    "bigMStrategy = objectiveBigMStrategy\n",
    "bigM_limit_time=10\n",
    "bigM_MipGap=0.1\n",
    "bigM_SolutionLimit=10\n",
    "\n",
    "ticker_index = tickers.get_loc(ticker_str)\n",
    "\n",
    "q = 3\n",
    "C = 1\n",
    "epsilon = 0.05\n",
    "separable = False\n",
    "\n",
    "LogToConsole = False\n",
    "Verbose = True\n",
    "\n",
    "investor_preferences = {'k':k, # horizon\n",
    "                        'alpha':alpha, #decay \n",
    "                        'premium':return_premium, #return premium preference\n",
    "                        'ticker_index':ticker_index, #benchmark index for comparison used in place of return premium depending on the investors function to set r_min \n",
    "                        'target_return_strategy':target_return_strategy, #strategy for setting return\n",
    "                        'target_return_strategy_args': target_return_strategy_args, #args for return setting strategy \n",
    "                        \n",
    "                        'turnover_limit':turnover_limit, #turnover limit\n",
    "                        'turnover_constraints':turnover_constraints, #turnover limit choice (Y/N)\n",
    "                        'cardinality_ratio': cardinality_ratio, #Pct of assets to invest in\n",
    "                        'MipGap' : MipGap, 'limit_time':limit_time, #problem solving limits\n",
    "    \n",
    "                        'bigMStrategy':bigMStrategy,\n",
    "                        'bigM_limit_time':bigM_limit_time,\n",
    "                        'bigM_MipGap':bigM_MipGap,\n",
    "                        'bigM_SolutionLimit':bigM_SolutionLimit,\n",
    "            \n",
    "                        'q':q,\n",
    "                        'C':C,\n",
    "                        'epsilon':epsilon,\n",
    "                        'separable':separable,\n",
    "                        'LogToConsole':LogToConsole,\n",
    "                        'Verbose':Verbose}\n",
    "\n",
    "Strategy = general_strategy(exponential_weighted_estimator, CardMVO,\n",
    "                            investor_preferences = investor_preferences)\n",
    "\n",
    "Strategy.extract_estimation_info = populate_exponential_weighted_estimator\n",
    "\n",
    "Strategy.extract_optimization_info = populate_kwargs\n",
    "\n",
    "env = environment()\n",
    "# see strategy script for different options OLS_RP() #OLS_MVO() #HistoricalMeanVarianceOptimization()"
   ],
   "metadata": {
    "collapsed": false,
    "ExecuteTime": {
     "end_time": "2023-12-22T23:13:28.825773Z",
     "start_time": "2023-12-22T23:13:28.791921100Z"
    }
   }
  },
  {
   "cell_type": "markdown",
   "source": [],
   "metadata": {
    "collapsed": false
   }
  },
  {
   "cell_type": "code",
   "execution_count": 370,
   "outputs": [],
   "source": [
    "# Start of out-of-sample test period\n",
    "testStart = returns.index[0] + pd.offsets.DateOffset(years=2)\n",
    "\n",
    "# End of the first investment period\n",
    "# testEnd = testStart + pd.offsets.DateOffset(months=investPeriod) - pd.offsets.DateOffset(days = 1)\n",
    "testEnd = testStart + pd.offsets.MonthBegin(investPeriod) - pd.offsets.DateOffset(days = 1)\n",
    "\n",
    "# End of calibration period\n",
    "calEnd = testStart -  pd.offsets.DateOffset(days = 1)"
   ],
   "metadata": {
    "collapsed": false,
    "ExecuteTime": {
     "end_time": "2023-12-22T23:13:30.620408700Z",
     "start_time": "2023-12-22T23:13:30.590179300Z"
    }
   }
  },
  {
   "cell_type": "code",
   "execution_count": 371,
   "outputs": [
    {
     "name": "stdout",
     "output_type": "stream",
     "text": [
      "Test Start 2008-06-30 00:00:00\n",
      "Test End 2008-11-30 00:00:00\n",
      "Calibration End 2008-06-29 00:00:00\n"
     ]
    }
   ],
   "source": [
    "print(\"Test Start\", testStart)\n",
    "print(\"Test End\", testEnd)\n",
    "print(\"Calibration End\", calEnd)"
   ],
   "metadata": {
    "collapsed": false,
    "ExecuteTime": {
     "end_time": "2023-12-22T23:13:34.118795300Z",
     "start_time": "2023-12-22T23:13:34.095589500Z"
    }
   }
  },
  {
   "cell_type": "code",
   "execution_count": 372,
   "outputs": [],
   "source": [
    "# Total number of investment periods\n",
    "NoPeriods = math.ceil((returns.index[-1].to_period('M') - testStart.to_period('M')).n / investPeriod)"
   ],
   "metadata": {
    "collapsed": false,
    "ExecuteTime": {
     "end_time": "2023-12-22T23:13:34.825086700Z",
     "start_time": "2023-12-22T23:13:34.805582100Z"
    }
   }
  },
  {
   "cell_type": "code",
   "execution_count": 373,
   "outputs": [
    {
     "name": "stdout",
     "output_type": "stream",
     "text": [
      "False\n",
      "Set parameter TimeLimit to value 30\n",
      "Set parameter MIPGap to value 0.05\n",
      "False\n",
      "Set parameter TimeLimit to value 30\n",
      "Set parameter MIPGap to value 0.05\n",
      "False\n",
      "Set parameter TimeLimit to value 30\n",
      "Set parameter MIPGap to value 0.05\n",
      "Computing lowest turnover feasible solution...\n",
      "False\n",
      "Set parameter TimeLimit to value 30\n",
      "Set parameter MIPGap to value 0.05\n",
      "Computing lowest turnover feasible solution...\n",
      "False\n",
      "Set parameter TimeLimit to value 30\n",
      "Set parameter MIPGap to value 0.05\n",
      "False\n",
      "Set parameter TimeLimit to value 30\n",
      "Set parameter MIPGap to value 0.05\n",
      "Computing lowest turnover feasible solution...\n",
      "False\n",
      "Set parameter TimeLimit to value 30\n",
      "Set parameter MIPGap to value 0.05\n",
      "Computing lowest turnover feasible solution...\n",
      "False\n",
      "Set parameter TimeLimit to value 30\n",
      "Set parameter MIPGap to value 0.05\n",
      "Computing lowest turnover feasible solution...\n",
      "False\n",
      "Set parameter TimeLimit to value 30\n",
      "Set parameter MIPGap to value 0.05\n",
      "False\n",
      "Set parameter TimeLimit to value 30\n",
      "Set parameter MIPGap to value 0.05\n",
      "Computing lowest turnover feasible solution...\n",
      "False\n",
      "Set parameter TimeLimit to value 30\n",
      "Set parameter MIPGap to value 0.05\n",
      "False\n",
      "Set parameter TimeLimit to value 30\n",
      "Set parameter MIPGap to value 0.05\n",
      "Computing lowest turnover feasible solution...\n",
      "False\n",
      "Set parameter TimeLimit to value 30\n",
      "Set parameter MIPGap to value 0.05\n",
      "Computing lowest turnover feasible solution...\n",
      "False\n",
      "Set parameter TimeLimit to value 30\n",
      "Set parameter MIPGap to value 0.05\n",
      "False\n",
      "Set parameter TimeLimit to value 30\n",
      "Set parameter MIPGap to value 0.05\n",
      "False\n",
      "Set parameter TimeLimit to value 30\n",
      "Set parameter MIPGap to value 0.05\n",
      "False\n",
      "Set parameter TimeLimit to value 30\n",
      "Set parameter MIPGap to value 0.05\n",
      "False\n",
      "Set parameter TimeLimit to value 30\n",
      "Set parameter MIPGap to value 0.05\n",
      "False\n",
      "Set parameter TimeLimit to value 30\n",
      "Set parameter MIPGap to value 0.05\n",
      "Computing lowest turnover feasible solution...\n",
      "False\n",
      "Set parameter TimeLimit to value 30\n",
      "Set parameter MIPGap to value 0.05\n",
      "False\n",
      "Set parameter TimeLimit to value 30\n",
      "Set parameter MIPGap to value 0.05\n",
      "False\n",
      "Set parameter TimeLimit to value 30\n",
      "Set parameter MIPGap to value 0.05\n",
      "False\n",
      "Set parameter TimeLimit to value 30\n",
      "Set parameter MIPGap to value 0.05\n",
      "Computing lowest turnover feasible solution...\n",
      "False\n",
      "Set parameter TimeLimit to value 30\n",
      "Set parameter MIPGap to value 0.05\n",
      "Computing lowest turnover feasible solution...\n",
      "False\n",
      "Set parameter TimeLimit to value 30\n",
      "Set parameter MIPGap to value 0.05\n",
      "False\n",
      "Set parameter TimeLimit to value 30\n",
      "Set parameter MIPGap to value 0.05\n",
      "Computing lowest turnover feasible solution...\n",
      "False\n",
      "Set parameter TimeLimit to value 30\n",
      "Set parameter MIPGap to value 0.05\n",
      "Computing lowest turnover feasible solution...\n",
      "False\n",
      "Set parameter TimeLimit to value 30\n",
      "Set parameter MIPGap to value 0.05\n",
      "False\n",
      "Set parameter TimeLimit to value 30\n",
      "Set parameter MIPGap to value 0.05\n"
     ]
    }
   ],
   "source": [
    "# Number of assets\n",
    "n  = len(tickers)\n",
    "env.n = n\n",
    "\n",
    "# Preallocate space for the portfolio weights (x0 will be used to calculate\n",
    "# the turnover rate)\n",
    "x  = np.zeros([n, NoPeriods])\n",
    "x0 = np.zeros([n, NoPeriods])\n",
    "\n",
    "# Preallocate space for the portfolio per period value and turnover\n",
    "currentVal = np.zeros([NoPeriods, 1])\n",
    "turnover   = np.zeros([NoPeriods, 1])\n",
    "\n",
    "# Initiate counter for the number of observations per investment period\n",
    "toDay = 0\n",
    "\n",
    "# Measure runtime: start the clock\n",
    "start_time = time.time()\n",
    "\n",
    "# Empty list to measure the value of the portfolio over the period\n",
    "portfValue = []\n",
    "\n",
    "for t in range(NoPeriods):\n",
    "    # Subset the returns and factor returns corresponding to the current calibration period.\n",
    "    periodReturns = returns[returns.index <= calEnd]\n",
    "    periodFactRet = factorRet[factorRet.index <= calEnd]\n",
    "\n",
    "    # take the last available contextual observations\n",
    "    period_daily_adjClose = daily_adjClose[daily_adjClose.index <= calEnd]\n",
    "    period_Context_idx = ContextualInfo.index.get_level_values('date') <= calEnd\n",
    "    period_Context = ContextualInfo.iloc[period_Context_idx].groupby('ticker').last()\n",
    "\n",
    "    env.periodReturns = periodReturns\n",
    "    env.periodFactRet = periodFactRet\n",
    "    env.period_daily_adjClose = period_daily_adjClose\n",
    "    env.period_Context = period_Context\n",
    "    # there should be a feature vector for each asset\n",
    "    assert len(period_Context) == n\n",
    "    # all the tickers should be aligned in the context and ticker dataset \n",
    "    assert (periodReturns.columns == period_Context.index).all()\n",
    "\n",
    "    current_price_idx = (calEnd - pd.offsets.DateOffset(months=1) <= adjClose.index)&(adjClose.index <= calEnd)\n",
    "    currentPrices = adjClose[current_price_idx]\n",
    "\n",
    "    # Subset the prices corresponding to the current out-of-sample test period.\n",
    "    periodPrices_idx = (testStart <= adjClose.index)&(adjClose.index <= testEnd)\n",
    "    periodPrices = adjClose[periodPrices_idx]\n",
    "\n",
    "    assert len(periodPrices) == investPeriod\n",
    "    assert len(currentPrices) == 1\n",
    "    # Set the initial value of the portfolio or update the portfolio value\n",
    "    if t == 0:\n",
    "        currentVal[0] = initialVal\n",
    "    else:\n",
    "        currentVal[t] = currentPrices @  NoShares.values.T\n",
    "        #Store the current asset weights (before optimization takes place)\n",
    "        x0[:,t] = currentPrices.values*NoShares.values/currentVal[t]\n",
    "            #update the previous periods portfolio \n",
    "        env.previous_portfolio = x0[:,t]\n",
    "\n",
    "    #----------------------------------------------------------------------\n",
    "    # Portfolio optimization\n",
    "    # You must write code your own algorithmic trading function\n",
    "    #----------------------------------------------------------------------\n",
    "    # add in the estimation info\n",
    "\n",
    "    x[:,t] = Strategy.execute_strategy(periodReturns, periodFactRet, environment=env) #equal_weight(periodReturns) #StrategyFunction(periodReturns, periodFactRet, x0[:,t]);\n",
    "    \n",
    "    # Calculate the turnover rate\n",
    "    if t > 0:\n",
    "        turnover[t] = np.sum(np.abs( x[:,t] - x0[:,t] ) )\n",
    "\n",
    "    # Number of shares your portfolio holds per stock\n",
    "    NoShares = x[:,t]*currentVal[t]/currentPrices\n",
    "\n",
    "    # Update counter for the number of observations per investment period\n",
    "    fromDay = toDay\n",
    "    toDay   = toDay + len(periodPrices)\n",
    "\n",
    "    # Weekly portfolio value during the out-of-sample window\n",
    "    portfValue.append(periodPrices@ NoShares.values.T)\n",
    "\n",
    "    # Update your calibration and out-of-sample test periods\n",
    "    testStart = testStart + pd.offsets.DateOffset(months=investPeriod)\n",
    "    testEnd   = testStart + pd.offsets.DateOffset(months=investPeriod) - pd.offsets.DateOffset(days=1)\n",
    "    calEnd    = testStart - pd.offsets.DateOffset(days=1)\n",
    "    \n",
    "\n",
    "portfValue = pd.concat(portfValue, axis = 0)\n",
    "end_time = time.time()"
   ],
   "metadata": {
    "collapsed": false,
    "ExecuteTime": {
     "end_time": "2023-12-22T23:13:38.489883600Z",
     "start_time": "2023-12-22T23:13:35.724764Z"
    }
   }
  },
  {
   "cell_type": "markdown",
   "source": [
    "# 3. Results"
   ],
   "metadata": {
    "collapsed": false
   }
  },
  {
   "cell_type": "code",
   "execution_count": 374,
   "outputs": [
    {
     "name": "stdout",
     "output_type": "stream",
     "text": [
      "Elasped time is 2.765230655670166 seconds\n",
      "Annualized return:  0.10642736280850862\n",
      "Annualized vol:  0.17068424679871466\n",
      "Annualized Sharpe ratio:  0.6235335996415462\n",
      "Avg. turnover:  0.555446039440781\n"
     ]
    }
   ],
   "source": [
    "#--------------------------------------------------------------------------\n",
    "# 3.1 Calculate the portfolio average return, standard deviation, Sharpe ratio and average turnover.\n",
    "#-----------------------------------------------------------------------\n",
    "# Calculate the observed portfolio returns\n",
    "portfRets = portfValue.pct_change(1).iloc[1:,:]\n",
    "\n",
    "# Calculate the portfolio excess returns\n",
    "portfExRets = portfRets.subtract(riskFree[(riskFree.index >= portfRets.index[0])&(riskFree.index <= portfRets.index[-1])], axis = 0)\n",
    "\n",
    "# Calculate the portfolio Sharpe ratio\n",
    "Ret = 12*((portfExRets + 1).apply(gmean, axis=0) - 1)\n",
    "Vol = (12**0.5)*(portfExRets.std())\n",
    "SR = (12**0.5)*(((portfExRets + 1).apply(gmean, axis=0) - 1)/portfExRets.std())\n",
    "\n",
    "# Calculate the average turnover rate\n",
    "avgTurnover = np.mean(turnover[1:])\n",
    "\n",
    "#Print Sharpe ratio and Avg. turnover to the console\n",
    "print(\"Elasped time is \"+ str(end_time - start_time) + ' seconds')\n",
    "print('Annualized return: ', str(Ret[0]))\n",
    "print('Annualized vol: ', str(Vol[0]))\n",
    "print('Annualized Sharpe ratio: ', str(SR[0]))\n",
    "print('Avg. turnover: ', str(avgTurnover))"
   ],
   "metadata": {
    "collapsed": false,
    "ExecuteTime": {
     "end_time": "2023-12-22T23:13:40.286033200Z",
     "start_time": "2023-12-22T23:13:40.276927400Z"
    }
   }
  },
  {
   "cell_type": "markdown",
   "source": [
    "### Observations\n",
    "\n",
    "        The end to end strategy has the following stats when we use 15 observations:\n",
    "        Elasped time is 27.749337434768677 seconds\n",
    "        Sharpe ratio:  0.36926056542515073\n",
    "        Avg. turnover:  0.2846570354951544\n",
    "\n",
    "        Standard MVO has the following stats when we use 15 observations::\n",
    "        \n",
    "        Elasped time is 1.1906468868255615 seconds\n",
    "        Sharpe ratio:  0.35584233976844887\n",
    "        Avg. turnover:  0.6967647038270909\n",
    "\n",
    "        The end to end strategy has the following stats when we use 35 observations:\n",
    "        \n",
    "        Elasped time is 16.95100688934326 seconds\n",
    "        Sharpe ratio:  0.33129478714103455\n",
    "        Avg. turnover:  0.13229814142751284\n",
    "\n",
    "        Standard MVO has the following stats when we use 35 observations:\n",
    "        \n",
    "        Elasped time is 1.2436742782592773 seconds\n",
    "        Sharpe ratio:  0.2997765726515852\n",
    "        Avg. turnover:  0.25328429647155937\n"
   ],
   "metadata": {
    "collapsed": false
   }
  },
  {
   "cell_type": "code",
   "execution_count": 375,
   "outputs": [],
   "source": [
    "\n",
    "value_target_index = initialVal*(1 + adjClose.pct_change(1).loc[portfValue.index, ticker_str]).cumprod()\n",
    "time0 = value_target_index.index[0] -  pd.offsets.MonthEnd(1)\n",
    "value_target_index.loc[time0] = initialVal\n",
    "value_target_index.sort_index(inplace = True)\n",
    "#value_target_index = initialVal*value_target_index.div(value_target_index.iloc[0])\n",
    "portfValue.loc[time0] = initialVal\n",
    "portfValue.sort_index(inplace = True)\n",
    "portfValue[ticker_str] = value_target_index\n",
    "portfValue.columns = ['Strategy', ticker_str]"
   ],
   "metadata": {
    "collapsed": false,
    "ExecuteTime": {
     "end_time": "2023-12-22T23:13:43.933036800Z",
     "start_time": "2023-12-22T23:13:43.913750500Z"
    }
   }
  },
  {
   "cell_type": "code",
   "execution_count": 376,
   "outputs": [
    {
     "data": {
      "text/plain": "<Figure size 640x480 with 0 Axes>"
     },
     "metadata": {},
     "output_type": "display_data"
    },
    {
     "data": {
      "text/plain": "<Figure size 600x300 with 1 Axes>",
      "image/png": "[encoded data removed]"
     },
     "metadata": {},
     "output_type": "display_data"
    },
    {
     "data": {
      "text/plain": "<Figure size 600x300 with 1 Axes>",
      "image/png": "[encoded data removed]"
     },
     "metadata": {},
     "output_type": "display_data"
    }
   ],
   "source": [
    "#--------------------------------------------------------------------------\n",
    "# 3.2 Portfolio wealth evolution plot\n",
    "#--------------------------------------------------------------------------\n",
    "# Calculate the dates of the out-of-sample period\n",
    "\n",
    "fig = plt.figure(1)\n",
    "portfValue.iloc[:,:].plot(title = 'Portfolio wealth evolution',\n",
    "                ylabel = 'Total wealth',\n",
    "                figsize = (6, 3),\n",
    "                legend = True)\n",
    "plt.savefig(\"images/wealth.svg\")\n",
    "\n",
    "#--------------------------------------------------------------------------\n",
    "# 3.3 Portfolio weights plot\n",
    "#--------------------------------------------------------------------------\n",
    "# Portfolio weights\n",
    "\n",
    "fig2 = plt.figure(2);\n",
    "x[x < 0] = 0\n",
    "weights = pd.DataFrame(x, index = tickers)\n",
    "weights.columns = [col + 1 for col in weights.columns]\n",
    "if n <= 20:\n",
    "    legend_bool = True\n",
    "else:\n",
    "    legend_bool = False\n",
    "weights.T.plot.area(title = 'Portfolio weights',\n",
    "                  ylabel = 'Weights', xlabel = 'Rebalance Period',\n",
    "                  figsize = (6, 3),\n",
    "                  legend = legend_bool, stacked = True)\n",
    "if legend_bool:\n",
    "    plt.legend(loc='center left', bbox_to_anchor=(1.0, 0.5))\n",
    "plt.savefig(\"images/weights.svg\");\n",
    "\n",
    "# %%%%%%%%%%%%%%%%%%%%%%%%%%%%%%%%%%%%%%%%%%%%%%%%%%%%%%%%%%%%%%%%%%%%%%%%%%%\n",
    "# % Program End"
   ],
   "metadata": {
    "collapsed": false,
    "ExecuteTime": {
     "end_time": "2023-12-22T23:13:45.992672900Z",
     "start_time": "2023-12-22T23:13:44.554781900Z"
    }
   }
  },
  {
   "cell_type": "markdown",
   "source": [
    "### 0.12% maximum absolute difference between the returns generated via Python and returns generated via MATLAB can be observed\n",
    "\n",
    "### Terminal wealth between MATLAB and Python is within 0.1%"
   ],
   "metadata": {
    "collapsed": false
   }
  },
  {
   "cell_type": "code",
   "execution_count": 338,
   "outputs": [
    {
     "data": {
      "text/plain": "9"
     },
     "execution_count": 338,
     "metadata": {},
     "output_type": "execute_result"
    }
   ],
   "source": [
    "(weights > 0.001).sum(axis = 0).max()"
   ],
   "metadata": {
    "collapsed": false,
    "ExecuteTime": {
     "end_time": "2023-12-22T23:03:00.057762700Z",
     "start_time": "2023-12-22T23:03:00.036762700Z"
    }
   }
  },
  {
   "cell_type": "code",
   "execution_count": 284,
   "outputs": [
    {
     "data": {
      "text/plain": "IWM      9\nIJH     10\nMDY     10\nVBK     11\nSPY     12\n      ... \nDHF    696\nCIF    704\nBHV    710\nMIN    710\nNOM    823\nLength: 299, dtype: int64"
     },
     "execution_count": 284,
     "metadata": {},
     "output_type": "execute_result"
    }
   ],
   "source": [
    "(np.abs(daily_adjClose.diff().dropna()) <= 0.001).sum().sort_values()"
   ],
   "metadata": {
    "collapsed": false,
    "ExecuteTime": {
     "end_time": "2023-12-22T22:40:48.650013900Z",
     "start_time": "2023-12-22T22:40:48.616212300Z"
    }
   }
  },
  {
   "cell_type": "code",
   "execution_count": 285,
   "outputs": [],
   "source": [
    "# Calculate the portfolio Sharpe ratio\n",
    "ticker_rets = adjClose.pct_change(1).iloc[1:,]\n",
    "ticker_rets = ticker_rets.loc[portfRets.index]\n",
    "\n",
    "tickerExRets = ticker_rets.subtract(riskFree[(riskFree.index >= ticker_rets.index[0])&(riskFree.index <= ticker_rets.index[-1])], axis = 0)\n",
    "\n",
    "tickerSR = ((tickerExRets + 1).apply(gmean, axis=0) - 1)/tickerExRets.std()"
   ],
   "metadata": {
    "collapsed": false,
    "ExecuteTime": {
     "end_time": "2023-12-22T22:40:54.190175400Z",
     "start_time": "2023-12-22T22:40:54.126669300Z"
    }
   }
  },
  {
   "cell_type": "code",
   "execution_count": 286,
   "outputs": [
    {
     "data": {
      "text/plain": "XLV    0.804764\nVHT    0.794131\nIYH    0.787849\nVDC    0.778656\nIYK    0.756460\n         ...   \nILF   -0.088014\nEWZ   -0.118883\nASA   -0.119508\nOIH   -0.236428\nCEE   -0.309959\nLength: 299, dtype: float64"
     },
     "execution_count": 286,
     "metadata": {},
     "output_type": "execute_result"
    }
   ],
   "source": [
    "(12**0.5)*tickerSR.sort_values(ascending=False)"
   ],
   "metadata": {
    "collapsed": false,
    "ExecuteTime": {
     "end_time": "2023-12-22T22:40:54.722998600Z",
     "start_time": "2023-12-22T22:40:54.700242400Z"
    }
   }
  },
  {
   "cell_type": "code",
   "execution_count": 287,
   "outputs": [
    {
     "data": {
      "text/plain": "0.5872509277658715"
     },
     "execution_count": 287,
     "metadata": {},
     "output_type": "execute_result"
    }
   ],
   "source": [
    "(12**0.5)*tickerSR[ticker_str]"
   ],
   "metadata": {
    "collapsed": false,
    "ExecuteTime": {
     "end_time": "2023-12-22T22:40:55.792212300Z",
     "start_time": "2023-12-22T22:40:55.772744200Z"
    }
   }
  },
  {
   "cell_type": "code",
   "execution_count": null,
   "outputs": [],
   "source": [],
   "metadata": {
    "collapsed": false
   }
  }
 ],
 "metadata": {
  "kernelspec": {
   "display_name": "Python 3",
   "language": "python",
   "name": "python3"
  },
  "language_info": {
   "codemirror_mode": {
    "name": "ipython",
    "version": 2
   },
   "file_extension": ".py",
   "mimetype": "text/x-python",
   "name": "python",
   "nbconvert_exporter": "python",
   "pygments_lexer": "ipython2",
   "version": "2.7.6"
  }
 },
 "nbformat": 4,
 "nbformat_minor": 0
}
