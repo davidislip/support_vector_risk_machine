{
 "cells": [
  {
   "cell_type": "markdown",
   "source": [
    "\n",
    "# Running the Experiments\n",
    "\n",
    "# 1. Read input files"
   ],
   "metadata": {
    "collapsed": false
   }
  },
  {
   "cell_type": "code",
   "execution_count": 17,
   "outputs": [
    {
     "name": "stdout",
     "output_type": "stream",
     "text": [
      "['asset_id', 'currency_id', 'equities_series', 'equity_index_id', 'exchange_id', 'factor_id', 'factors', 'frequency_id', 'fundamentals', 'metric_id', 'source_id', 'ticker_id', 'ticker_index_membership', 'tiingo_tickers']\n"
     ]
    }
   ],
   "source": [
    "import time\n",
    "import math\n",
    "\n",
    "import numpy as np\n",
    "import pandas as pd\n",
    "from itertools import product\n",
    "from Database.services.database import Database\n",
    "from sqlalchemy import inspect\n",
    "from services.data_retreival import *\n",
    "from scipy.stats import gmean\n",
    "import matplotlib.pyplot as plt\n",
    "from services.strategies import *\n",
    "from services.optimization_layers import *\n",
    "from services.optimization import *\n",
    "from services.binary_optimization import *\n",
    "from services.environment_functions import *\n",
    "from services.big_m_strategies import *\n",
    "from services.experiments import *\n",
    "from services.class_weighted_bigM import *\n",
    "from services.class_weighted_models import *\n",
    "\n",
    "Database.initialize(\"sqlite:///Database//financial_db.sqlite\") #for courses replace this with a flat file\n",
    "inspector = inspect(Database.engine)\n",
    "print(inspector.get_table_names())\n",
    "\n",
    "universe = 'ETF'\n",
    "imputation_method = 'Univariate'\n",
    "ticker_str = 'SPY'\n",
    "#exponential params\n",
    "\n",
    "\n",
    "adjClose = pd.read_csv(\"flat_files/MonthlyAssetPrices\"+ universe + \".csv\", index_col=0, header = 1).iloc[1:,:]\n",
    "\n",
    "daily_adjClose =  pd.read_csv(\"flat_files/DailyAssetPrices\"+universe + \".csv\", index_col=0, header = 1).iloc[1:,:]\n",
    "\n",
    "TechnicalAnalysis = pd.read_csv(\"flat_files/TechnicalAnalysis\" + universe + \".csv\", index_col=[0,1])\n",
    "\n",
    "if universe ==  'SP':\n",
    "    FinancialRatios = pd.read_csv(\"flat_files/\" + imputation_method + \"WRDS.csv\", index_col=[0,1])\n",
    "    TechnicalAnalysis.index.names = FinancialRatios.index.names\n",
    "    ContextualInfo = TechnicalAnalysis.merge(FinancialRatios, how = 'left', left_index=True, right_index=True)\n",
    "\n",
    "else:\n",
    "    TechnicalAnalysis.index.names = ['date', 'ticker']\n",
    "    ContextualInfo = TechnicalAnalysis\n"
   ],
   "metadata": {
    "collapsed": false,
    "ExecuteTime": {
     "end_time": "2024-02-23T16:32:41.065981800Z",
     "start_time": "2024-02-23T16:32:40.261084900Z"
    }
   }
  },
  {
   "cell_type": "code",
   "execution_count": 18,
   "outputs": [],
   "source": [
    "adjClose.index = pd.to_datetime(adjClose.index, format='%Y-%m-%d').tz_localize(None)\n",
    "daily_adjClose.index = pd.to_datetime(daily_adjClose.index, format='%Y-%m-%d').tz_localize(None)\n",
    "ContextualInfo.index = ContextualInfo.index.set_levels([pd.to_datetime(ContextualInfo.index.levels[0]).tz_localize(None), ContextualInfo.index.levels[1]])"
   ],
   "metadata": {
    "collapsed": false,
    "ExecuteTime": {
     "end_time": "2024-02-23T16:32:41.097257800Z",
     "start_time": "2024-02-23T16:32:41.081606400Z"
    }
   }
  },
  {
   "cell_type": "code",
   "execution_count": 19,
   "outputs": [
    {
     "name": "stdout",
     "output_type": "stream",
     "text": [
      "The earliest possible start date\n"
     ]
    },
    {
     "data": {
      "text/plain": "Timestamp('2006-01-31 00:00:00')"
     },
     "execution_count": 19,
     "metadata": {},
     "output_type": "execute_result"
    }
   ],
   "source": [
    "print(\"The earliest possible start date\")\n",
    "max(daily_adjClose.index.unique()[0], ContextualInfo.index.get_level_values('date').unique()[0], adjClose.index.unique()[0])"
   ],
   "metadata": {
    "collapsed": false,
    "ExecuteTime": {
     "end_time": "2024-02-23T16:32:41.113644600Z",
     "start_time": "2024-02-23T16:32:41.097257800Z"
    }
   }
  },
  {
   "cell_type": "code",
   "execution_count": 20,
   "outputs": [
    {
     "name": "stdout",
     "output_type": "stream",
     "text": [
      "The latest possible start date\n"
     ]
    },
    {
     "data": {
      "text/plain": "Timestamp('2023-04-21 00:00:00')"
     },
     "execution_count": 20,
     "metadata": {},
     "output_type": "execute_result"
    }
   ],
   "source": [
    "print(\"The latest possible start date\")\n",
    "min(daily_adjClose.index.unique()[-1], ContextualInfo.index.get_level_values('date').unique()[-1], adjClose.index.unique()[-1])"
   ],
   "metadata": {
    "collapsed": false,
    "ExecuteTime": {
     "end_time": "2024-02-23T16:32:41.207498600Z",
     "start_time": "2024-02-23T16:32:41.113644600Z"
    }
   }
  },
  {
   "cell_type": "code",
   "execution_count": 21,
   "outputs": [],
   "source": [
    "# start_date = pd.to_datetime('1996-11-30', format = '%Y-%m-%d')\n",
    "# \n",
    "# end_date = pd.to_datetime('2022-12-31', format = '%Y-%m-%d')\n",
    "\n",
    "start_date = pd.to_datetime('2006-05-31', format = '%Y-%m-%d')\n",
    "\n",
    "end_date = pd.to_datetime('2022-12-31', format = '%Y-%m-%d')\n",
    "\n",
    "factors = ('Mkt-RF', 'RF')\n",
    "\n",
    "factorRet = get_monthly_factors(factors, start_date, end_date, Database)\n",
    "\n",
    "factorRet = factorRet.droplevel(0, axis = 1)\n",
    "factorRet.columns = [col.strip() for col in factorRet.columns]"
   ],
   "metadata": {
    "collapsed": false,
    "ExecuteTime": {
     "end_time": "2024-02-23T16:32:44.134269900Z",
     "start_time": "2024-02-23T16:32:41.129325400Z"
    }
   }
  },
  {
   "cell_type": "code",
   "execution_count": 22,
   "outputs": [],
   "source": [
    "adjClose = adjClose[start_date:end_date]\n",
    "daily_adjClose = daily_adjClose[start_date:end_date]\n",
    "idx = pd.IndexSlice\n",
    "ContextualInfo = ContextualInfo.loc[idx[start_date:end_date, :], :]"
   ],
   "metadata": {
    "collapsed": false,
    "ExecuteTime": {
     "end_time": "2024-02-23T16:32:44.170336800Z",
     "start_time": "2024-02-23T16:32:44.134269900Z"
    }
   }
  },
  {
   "cell_type": "code",
   "execution_count": 23,
   "outputs": [],
   "source": [
    "# Initial budget to invest ($100,000)\n",
    "initialVal = 100000\n",
    "\n",
    "# Length of investment period (in months) - but actually units of data\n",
    "investPeriod = 6\n",
    "\n",
    "# divide the factor returns by 100\n",
    "factorRet = factorRet/100\n",
    "\n",
    "#rf and factor returns\n",
    "#drop the first observation to align the dataset with the returns data that will\n",
    "#result\n",
    "factorRet = factorRet.iloc[1:, :]\n",
    "\n",
    "#rf and factor returns\n",
    "riskFree = factorRet['RF']\n",
    "factorRet = factorRet.loc[:,factorRet.columns != 'RF'];"
   ],
   "metadata": {
    "collapsed": false,
    "ExecuteTime": {
     "end_time": "2024-02-23T16:32:44.186116500Z",
     "start_time": "2024-02-23T16:32:44.165435Z"
    }
   }
  },
  {
   "cell_type": "code",
   "execution_count": 24,
   "outputs": [],
   "source": [
    "#Identify the tickers and the dates\n",
    "tickers = adjClose.columns\n",
    "dates   = factorRet.index"
   ],
   "metadata": {
    "collapsed": false,
    "ExecuteTime": {
     "end_time": "2024-02-23T16:32:44.217259700Z",
     "start_time": "2024-02-23T16:32:44.186116500Z"
    }
   }
  },
  {
   "cell_type": "code",
   "execution_count": 25,
   "outputs": [],
   "source": [
    "# Calculate the stocks monthly excess returns\n",
    "# pct change and drop the first null observation\n",
    "returns = adjClose.pct_change(1).iloc[1:, :]\n",
    "returns = returns  - np.diag(riskFree.values) @ np.ones_like(returns.values) # risk adjusted returns\n",
    "# Align the price table to the asset and factor returns tables by discarding the first observation.\n",
    "adjClose = adjClose.iloc[1:,:]"
   ],
   "metadata": {
    "collapsed": false,
    "ExecuteTime": {
     "end_time": "2024-02-23T16:32:44.217259700Z",
     "start_time": "2024-02-23T16:32:44.201634600Z"
    }
   }
  },
  {
   "cell_type": "code",
   "execution_count": 26,
   "outputs": [],
   "source": [
    "assert adjClose.index[0] == returns.index[0]\n",
    "assert adjClose.index[0] == factorRet.index[0]"
   ],
   "metadata": {
    "collapsed": false,
    "ExecuteTime": {
     "end_time": "2024-02-23T16:32:44.232886500Z",
     "start_time": "2024-02-23T16:32:44.217259700Z"
    }
   }
  },
  {
   "cell_type": "markdown",
   "source": [
    "# 2. Run your program\n",
    "\n",
    "This section will run your Project1_Function in a loop. The data will be loaded progressively as a growing window of historical observations.\n",
    "Rebalancing will take place after every loop\n",
    "\n",
    "### 2.1 Some Standard Allocation Strategies"
   ],
   "metadata": {
    "collapsed": false
   }
  },
  {
   "cell_type": "code",
   "execution_count": 27,
   "outputs": [],
   "source": [
    "# Some strategies (uncomment this or the next cell to pick a strategy to test)\n",
    "# Strategy = general_strategy(sample_estimator, MVO, NumObs=48)  #the general strategy object takes an estimator function and an optimizer function\n",
    "#                                                                #the only constraint is that the estimators outputs are the optimizers inputs\n",
    "# investor preferences (static throughout the backtest)\n",
    "run = 'SunJan212024'\n",
    "hyperparam_search = False # True if model has hyperparams\n",
    "optimizer = ClassWgtSVMMVO # CardMVO , MVO\n",
    "estimator = exponential_weighted_estimator_shrinkage #\n",
    "EstNumObs = 750\n",
    "k = 6*20 #estimation horizon\n",
    "alpha= 1 - 0.990 #estimation decay\n",
    "return_premium = 1 #optimization premium\n",
    "\n",
    "turnover_constraints = True\n",
    "turnover_limit = 0.75 # 0.75, 1, 1.25\n",
    "cardinality_ratio = 0.1 #optimization\n",
    "\n",
    "MipGap = 0.05 # for portfolio optimizer\n",
    "limit_time = 20 # for portfolio optimizer\n",
    "\n",
    "target_return_strategy = premium_target # for portfolio optimizer to calculate return target\n",
    "# mean_target, premium_target, ticker_return_target\n",
    "target_return_strategy_args = ['premium'] # args for the return strategy\n",
    "\n",
    "bigMStrategy = ClassWgtHyperparameterBigMStrategyV2 #objectiveBigMStrategy #objectiveBigMStrategyTightening , objectiveBigMStrategy\n",
    "\n",
    "bigM_limit_time=20 # for the feasible solution used to calculate big M\n",
    "bigM_MipGap=0.05 # for the feasible solution used to calculate big M\n",
    "bigM_SolutionLimit=10 # for the feasible solution used to calculate big <\n",
    "\n",
    "SkipSOCP = True # flag to skip the SOCP\n",
    "tightening_iter_lim = 1 # number of iterations of tightening to do\n",
    "\n",
    "SVMMVO_bigM_time_limit = 5 # for computing a better solution in the tightening strategy\n",
    "SVMMVO_MipGap=0.1 # for computing a better solution in the tightening strategy\n",
    "SVMMVO_SolutionLimit=5 # for computing a better solution in the tightening strategy\n",
    "\n",
    "SOCP_limit_time=10 # time limit for the SOCP's\n",
    "\n",
    "ticker_index = tickers.get_loc(ticker_str) # the ticker we want to compare to if\n",
    "#  we are using the ticker_return_target strategy\n",
    "\n",
    "q = 20 #subset of features\n",
    "\n",
    "C = 0.1 # separation importance\n",
    "epsilon = 0.1 # regularization amount for SVM\n",
    "\n",
    "separable = False # do not restrict the hyperplane to be separable\n",
    "\n",
    "LogToConsole = False # display optimization results in the console\n",
    "Verbose = False # print statements\n",
    "\n",
    "hyperparams = {'C': list(np.geomspace(0.1, 100, 4)), 'epsilon': list(np.geomspace(0.1, 100, 4))} # hyperparams for hyperparam search\n",
    "#q_alpha = 0.3187 # alpha for Q(t, a) = (1 - q_alpha) Q(t-1. a) + R(t, a)\n",
    "q_alpha = 0.6838\n",
    "\n",
    "kappa = 1.6 # 10 % risk/turnover tolerance plan: 0.1, 0.2, 0.4, 0.8, 1.6 (0.6, 1.0)\n",
    "\n",
    "investor_preferences = {'k':k, # horizon\n",
    "                        'alpha':alpha, # decay\n",
    "                        'premium':return_premium, # return premium preference\n",
    "                        'EstNumObs':EstNumObs,\n",
    "                        'ticker_index':ticker_index, # benchmark index for comparison used in place of return premium depending on the investors function to set r_min\n",
    "                        'target_return_strategy':target_return_strategy, # strategy for setting return\n",
    "                        'target_return_strategy_args': target_return_strategy_args, # args for return setting strategy\n",
    "                        'turnover_limit':turnover_limit, # turnover limit\n",
    "                        'turnover_constraints':turnover_constraints, # turnover limit choice (Y/N)\n",
    "                        'cardinality_ratio': cardinality_ratio, # Pct of assets to invest in\n",
    "                        'MipGap' : MipGap, 'limit_time':limit_time, # problem solving limits\n",
    "    \n",
    "                        'bigMStrategy':bigMStrategy,\n",
    "                        'bigM_limit_time':bigM_limit_time,\n",
    "                        'bigM_MipGap':bigM_MipGap,\n",
    "                        'bigM_SolutionLimit':bigM_SolutionLimit,\n",
    "\n",
    "                        'SkipSOCP':SkipSOCP,\n",
    "                        'tightening_iter_lim':tightening_iter_lim,\n",
    "\n",
    "                        'SVMMVO_bigM_time_limit':SVMMVO_bigM_time_limit,\n",
    "                        'SVMMVO_MipGap':SVMMVO_MipGap,\n",
    "                        'SVMMVO_SolutionLimit':SVMMVO_SolutionLimit,\n",
    "\n",
    "                        'SOCP_limit_time':SOCP_limit_time,\n",
    "                        'q':q,\n",
    "                        'C':C,\n",
    "                        'epsilon':epsilon,\n",
    "                        'separable':separable,\n",
    "                        'LogToConsole':LogToConsole,\n",
    "                        'Verbose':Verbose,\n",
    "                        'hyperparams':hyperparams,\n",
    "                        'q_alpha':q_alpha,\n",
    "                        'kappa':kappa}\n"
   ],
   "metadata": {
    "collapsed": false,
    "ExecuteTime": {
     "end_time": "2024-02-23T16:32:50.720577Z",
     "start_time": "2024-02-23T16:32:50.708074800Z"
    }
   }
  },
  {
   "cell_type": "markdown",
   "source": [
    "\n"
   ],
   "metadata": {
    "collapsed": false
   }
  },
  {
   "cell_type": "code",
   "execution_count": 28,
   "outputs": [
    {
     "name": "stdout",
     "output_type": "stream",
     "text": [
      "Experiments//ETF//CardMVO\n"
     ]
    }
   ],
   "source": [
    "if optimizer.__name__ == 'CardMVO':\n",
    "    path = \"Experiments//\"+universe+\"//\"+optimizer.__name__\n",
    "    print(path)\n",
    "elif optimizer.__name__ == 'SVMMVO':\n",
    "    path = \"Experiments//\"+universe+\"//\"+optimizer.__name__+\"//\"+str(q)\n",
    "    print(path)\n",
    "elif optimizer.__name__ == 'ClassWgtSVMMVO':\n",
    "    path = \"Experiments//\"+universe+\"//\"+optimizer.__name__+\"//\"+str(q)\n",
    "    print(path)\n",
    "else:\n",
    "    raise Exception(\"Model Type not supported for these experiments\")\n",
    "df = init_dataframe(investor_preferences, path)"
   ],
   "metadata": {
    "collapsed": false,
    "ExecuteTime": {
     "end_time": "2024-02-23T16:32:58.975381900Z",
     "start_time": "2024-02-23T16:32:57.028791300Z"
    }
   }
  },
  {
   "cell_type": "code",
   "execution_count": 29,
   "outputs": [
    {
     "name": "stdout",
     "output_type": "stream",
     "text": [
      "Testing configuration  (0.8, 1.25)\n",
      "Test Start 2008-06-30 00:00:00\n",
      "Test End 2008-11-30 00:00:00\n",
      "Calibration End 2008-06-29 00:00:00\n",
      "Set parameter TimeLimit to value 20\n",
      "Set parameter MIPGap to value 0.05\n",
      "Set parameter TimeLimit to value 20\n",
      "Set parameter MIPGap to value 0.05\n",
      "Set parameter TimeLimit to value 20\n",
      "Set parameter MIPGap to value 0.05\n",
      "Set parameter TimeLimit to value 20\n",
      "Set parameter MIPGap to value 0.05\n",
      "Set parameter TimeLimit to value 20\n",
      "Set parameter MIPGap to value 0.05\n",
      "Set parameter TimeLimit to value 20\n",
      "Set parameter MIPGap to value 0.05\n",
      "Set parameter TimeLimit to value 20\n",
      "Set parameter MIPGap to value 0.05\n",
      "Set parameter TimeLimit to value 20\n",
      "Set parameter MIPGap to value 0.05\n",
      "Set parameter TimeLimit to value 20\n",
      "Set parameter MIPGap to value 0.05\n",
      "Set parameter TimeLimit to value 20\n",
      "Set parameter MIPGap to value 0.05\n",
      "Set parameter TimeLimit to value 20\n",
      "Set parameter MIPGap to value 0.05\n",
      "Set parameter TimeLimit to value 20\n",
      "Set parameter MIPGap to value 0.05\n",
      "Set parameter TimeLimit to value 20\n",
      "Set parameter MIPGap to value 0.05\n",
      "Set parameter TimeLimit to value 20\n",
      "Set parameter MIPGap to value 0.05\n",
      "Set parameter TimeLimit to value 20\n",
      "Set parameter MIPGap to value 0.05\n",
      "Set parameter TimeLimit to value 20\n",
      "Set parameter MIPGap to value 0.05\n",
      "Set parameter TimeLimit to value 20\n",
      "Set parameter MIPGap to value 0.05\n",
      "Set parameter TimeLimit to value 20\n",
      "Set parameter MIPGap to value 0.05\n",
      "Set parameter TimeLimit to value 20\n",
      "Set parameter MIPGap to value 0.05\n",
      "Set parameter TimeLimit to value 20\n",
      "Set parameter MIPGap to value 0.05\n",
      "Set parameter TimeLimit to value 20\n",
      "Set parameter MIPGap to value 0.05\n",
      "Set parameter TimeLimit to value 20\n",
      "Set parameter MIPGap to value 0.05\n",
      "Set parameter TimeLimit to value 20\n",
      "Set parameter MIPGap to value 0.05\n",
      "Set parameter TimeLimit to value 20\n",
      "Set parameter MIPGap to value 0.05\n",
      "Set parameter TimeLimit to value 20\n",
      "Set parameter MIPGap to value 0.05\n",
      "Set parameter TimeLimit to value 20\n",
      "Set parameter MIPGap to value 0.05\n",
      "Set parameter TimeLimit to value 20\n",
      "Set parameter MIPGap to value 0.05\n",
      "Set parameter TimeLimit to value 20\n",
      "Set parameter MIPGap to value 0.05\n",
      "Set parameter TimeLimit to value 20\n",
      "Set parameter MIPGap to value 0.05\n",
      "Completed configuration  (0.8, 1.25)\n"
     ]
    }
   ],
   "source": [
    "from IPython.display import clear_output\n",
    "\n",
    "kappas = [0.0125, 0.025, 0.05, 0.1, 0.2, 0.4, 0.8, 1.6]\n",
    "cardinality_ratios = [0.07, 0.09, 0.1, 0.2] #[0.07, 0.1, 0.2, 0.4, 0.6, 0.8] # includes mvo\n",
    "turnover_limits = [0.75, 1, 1.25]\n",
    "\n",
    "for cardinality_ratio, turnover_limit, kappa in product(cardinality_ratios, turnover_limits, kappas):\n",
    "    \n",
    "    clear_output(wait=True)\n",
    "\n",
    "    # initialize strategy\n",
    "    investor_preferences['turnover_limit'] = turnover_limit # turnover limit\n",
    "    investor_preferences['cardinality_ratio'] = cardinality_ratio\n",
    "    investor_preferences['kappa'] = kappa\n",
    "    \n",
    "    Strategy = general_strategy(estimator, optimizer,\n",
    "                                investor_preferences = investor_preferences)\n",
    "\n",
    "    Strategy.extract_estimation_info = populate_exponential_weighted_estimator_shrinkage\n",
    "    Strategy.extract_optimization_info = populate_kwargs\n",
    "\n",
    "    env = environment()\n",
    "\n",
    "    # Start of out-of-sample test period\n",
    "    testStart = returns.index[0] + pd.offsets.DateOffset(years=2)\n",
    "\n",
    "    # End of the first investment period\n",
    "    # testEnd = testStart + pd.offsets.DateOffset(months=investPeriod) - pd.offsets.DateOffset(days = 1)\n",
    "    testEnd = testStart + pd.offsets.MonthBegin(investPeriod) - pd.offsets.DateOffset(days = 1)\n",
    "\n",
    "    # End of calibration period\n",
    "    calEnd = testStart -  pd.offsets.DateOffset(days = 1)\n",
    "    print(\"Testing configuration \", (cardinality_ratio, turnover_limit))\n",
    "    print(\"Test Start\", testStart)\n",
    "    print(\"Test End\", testEnd)\n",
    "    print(\"Calibration End\", calEnd)\n",
    "\n",
    "    # Total number of investment periods\n",
    "    NoPeriods = math.ceil((returns.index[-1].to_period('M') - testStart.to_period('M')).n / investPeriod)\n",
    "    n = len(tickers)\n",
    "\n",
    "    portfValue, elapsed_time, turnover, x, backtest_results, hyperparam_hist = execute_backtest(env, Strategy, tickers, returns, factorRet, ContextualInfo,\n",
    "                     adjClose, daily_adjClose, NoPeriods, testStart, testEnd, calEnd, initialVal,\n",
    "                     investPeriod, hyperparam_search = hyperparam_search)\n",
    "    print(\"Completed configuration \", (cardinality_ratio, turnover_limit))\n",
    "    \n",
    "    # df, uid = add_to_data_dict(path, df, run, estimator,\n",
    "    #              optimizer, universe,\n",
    "    #              imputation_method, ticker_str,\n",
    "    #              hyperparam_search, NoPeriods, investor_preferences)\n",
    "\n",
    "    # export_experimental_results(path, uid, portfValue, elapsed_time, x, turnover)\n",
    "    # export_dict(path, uid, backtest_results, 'backtest_results')\n",
    "    # export_dict(path, uid, hyperparam_hist, 'hyperparam_hist')\n",
    "\n",
    "    del env\n",
    "    del Strategy"
   ],
   "metadata": {
    "collapsed": false,
    "pycharm": {
     "is_executing": true
    }
   }
  },
  {
   "cell_type": "code",
   "execution_count": 30,
   "outputs": [],
   "source": [
    "curr_df = pd.read_pickle(path+\"//data_dictionary.pkl\")\n",
    "# add experiment info to the data dict\n",
    "df = pd.concat([df, curr_df], axis = 0)\n",
    "\n",
    "df.drop_duplicates(inplace = True)\n",
    "df.to_pickle(path+\"//data_dictionary.pkl\")"
   ],
   "metadata": {
    "collapsed": false,
    "pycharm": {
     "is_executing": true
    },
    "ExecuteTime": {
     "end_time": "2024-02-23T16:33:20.996787Z",
     "start_time": "2024-02-23T16:33:20.980605300Z"
    }
   }
  },
  {
   "cell_type": "code",
   "execution_count": 31,
   "outputs": [
    {
     "data": {
      "text/plain": "array(['0.01', '0.03', '0.05', '0.07', '0.1', '1', '0.02', '0.09', '0.2',\n       '0.4', '0.6', '0.8'], dtype=object)"
     },
     "execution_count": 31,
     "metadata": {},
     "output_type": "execute_result"
    }
   ],
   "source": [
    "df.cardinality_ratio.unique()"
   ],
   "metadata": {
    "collapsed": false,
    "ExecuteTime": {
     "end_time": "2024-02-23T16:33:21.037316800Z",
     "start_time": "2024-02-23T16:33:20.996787Z"
    }
   }
  },
  {
   "cell_type": "code",
   "execution_count": 32,
   "outputs": [
    {
     "data": {
      "text/plain": "                                                                               uid  \\\n57a94fbeba5f9b8e6c1cb0f8729bfce709fc5b93  57a94fbeba5f9b8e6c1cb0f8729bfce709fc5b93   \ne8cfa8ed6dbac88b5ec04b335ceb3173e5fe22f2  e8cfa8ed6dbac88b5ec04b335ceb3173e5fe22f2   \n072055faabd386d78ceeaf47943a239dc0beb715  072055faabd386d78ceeaf47943a239dc0beb715   \n250ac35b1f90fbe617ff66f40eb7426326c38e16  250ac35b1f90fbe617ff66f40eb7426326c38e16   \n7bb8b280eae5dee880b49f7918d4b4dbec6a7631  7bb8b280eae5dee880b49f7918d4b4dbec6a7631   \nf7905698f373388f59394724a50c3c1e4477b34e  f7905698f373388f59394724a50c3c1e4477b34e   \na6c13f4ce1af1713ee0229216b67b554893e2f08  a6c13f4ce1af1713ee0229216b67b554893e2f08   \nebc489500cf6444c80c28559d2eecc25fa653d6b  ebc489500cf6444c80c28559d2eecc25fa653d6b   \n23719a9cbd62bd57966477212360f412b4938ce5  23719a9cbd62bd57966477212360f412b4938ce5   \n72be4d657cf4479b6130f33b0ef4503dd59f8c28  72be4d657cf4479b6130f33b0ef4503dd59f8c28   \n111124f42a981e2011fac29e972d1ffa9d9efc43  111124f42a981e2011fac29e972d1ffa9d9efc43   \n36a873c001c83b5242dac4193ef403f2dd9c3cfe  36a873c001c83b5242dac4193ef403f2dd9c3cfe   \n4328010fbcf2627f2238e67a04d053027eb521ac  4328010fbcf2627f2238e67a04d053027eb521ac   \n23d1880aab49dfe4fa989bd2ec3fe131f2798000  23d1880aab49dfe4fa989bd2ec3fe131f2798000   \n4568d4b49feed997e766cac3c44673729965b976  4568d4b49feed997e766cac3c44673729965b976   \nf842bf09bbac9fedd71982687dd40caec76a5aaa  f842bf09bbac9fedd71982687dd40caec76a5aaa   \n4fb0ea6e6a0e58d52f3286c020df9b69d2f3f0ee  4fb0ea6e6a0e58d52f3286c020df9b69d2f3f0ee   \n133dc0be27e2cb209185fa4815d88f29809be55f  133dc0be27e2cb209185fa4815d88f29809be55f   \nec6a5da4bba812255145a5a7dee57359a0d4cf67  ec6a5da4bba812255145a5a7dee57359a0d4cf67   \nd736c27ba7d992e7c7b19d99fadff3b29339c97c  d736c27ba7d992e7c7b19d99fadff3b29339c97c   \n96e5784279c2101aa2770d23163054add1151eb0  96e5784279c2101aa2770d23163054add1151eb0   \nc375aff31703aaa8bd73a4ab67c19194d3a13bf4  c375aff31703aaa8bd73a4ab67c19194d3a13bf4   \nd4246aa2edf0b14a5073b95fe995ab0c40e141df  d4246aa2edf0b14a5073b95fe995ab0c40e141df   \ned9c912e418003847eb15bab7cd60faf0c5d0a80  ed9c912e418003847eb15bab7cd60faf0c5d0a80   \nda86113ebd72c5022bdadff51effbcc2f4bab3d3  da86113ebd72c5022bdadff51effbcc2f4bab3d3   \n8b2ac8b792652d4817c40193c5625ca89446319b  8b2ac8b792652d4817c40193c5625ca89446319b   \n6a0eafa19be68db123ce988ebf3fe3b6ca00937f  6a0eafa19be68db123ce988ebf3fe3b6ca00937f   \nb5ff98aa291d0c0472d9e1c7ed4c508a1fef9c91  b5ff98aa291d0c0472d9e1c7ed4c508a1fef9c91   \n06f0eb8cba1d8c76637a7b45d7a9b3e2e593aad9  06f0eb8cba1d8c76637a7b45d7a9b3e2e593aad9   \nd7eb264863be992262364024e91d68dfbe5bb50b  d7eb264863be992262364024e91d68dfbe5bb50b   \nf3a191d2e5e221646dbc9afb33b35198ecb05e7d  f3a191d2e5e221646dbc9afb33b35198ecb05e7d   \n1dba5102e66439b9f9771a0398854e97bb2f7fed  1dba5102e66439b9f9771a0398854e97bb2f7fed   \n9eb2fce6e654cde02f6e432e8157e0ef8d4883a9  9eb2fce6e654cde02f6e432e8157e0ef8d4883a9   \nc4a99d2b7a9e91632c3efab317727d092fe5fd11  c4a99d2b7a9e91632c3efab317727d092fe5fd11   \ne6f523f32838815f8d6eb486372092b77d332202  e6f523f32838815f8d6eb486372092b77d332202   \ndc51722fd7fc1257f10e54dbc221867ec8f5c0e7  dc51722fd7fc1257f10e54dbc221867ec8f5c0e7   \n\n                                                                         estimator  \\\n57a94fbeba5f9b8e6c1cb0f8729bfce709fc5b93  exponential_weighted_estimator_shrinkage   \ne8cfa8ed6dbac88b5ec04b335ceb3173e5fe22f2  exponential_weighted_estimator_shrinkage   \n072055faabd386d78ceeaf47943a239dc0beb715  exponential_weighted_estimator_shrinkage   \n250ac35b1f90fbe617ff66f40eb7426326c38e16  exponential_weighted_estimator_shrinkage   \n7bb8b280eae5dee880b49f7918d4b4dbec6a7631  exponential_weighted_estimator_shrinkage   \nf7905698f373388f59394724a50c3c1e4477b34e  exponential_weighted_estimator_shrinkage   \na6c13f4ce1af1713ee0229216b67b554893e2f08  exponential_weighted_estimator_shrinkage   \nebc489500cf6444c80c28559d2eecc25fa653d6b  exponential_weighted_estimator_shrinkage   \n23719a9cbd62bd57966477212360f412b4938ce5  exponential_weighted_estimator_shrinkage   \n72be4d657cf4479b6130f33b0ef4503dd59f8c28  exponential_weighted_estimator_shrinkage   \n111124f42a981e2011fac29e972d1ffa9d9efc43  exponential_weighted_estimator_shrinkage   \n36a873c001c83b5242dac4193ef403f2dd9c3cfe  exponential_weighted_estimator_shrinkage   \n4328010fbcf2627f2238e67a04d053027eb521ac  exponential_weighted_estimator_shrinkage   \n23d1880aab49dfe4fa989bd2ec3fe131f2798000  exponential_weighted_estimator_shrinkage   \n4568d4b49feed997e766cac3c44673729965b976  exponential_weighted_estimator_shrinkage   \nf842bf09bbac9fedd71982687dd40caec76a5aaa  exponential_weighted_estimator_shrinkage   \n4fb0ea6e6a0e58d52f3286c020df9b69d2f3f0ee  exponential_weighted_estimator_shrinkage   \n133dc0be27e2cb209185fa4815d88f29809be55f  exponential_weighted_estimator_shrinkage   \nec6a5da4bba812255145a5a7dee57359a0d4cf67  exponential_weighted_estimator_shrinkage   \nd736c27ba7d992e7c7b19d99fadff3b29339c97c  exponential_weighted_estimator_shrinkage   \n96e5784279c2101aa2770d23163054add1151eb0  exponential_weighted_estimator_shrinkage   \nc375aff31703aaa8bd73a4ab67c19194d3a13bf4  exponential_weighted_estimator_shrinkage   \nd4246aa2edf0b14a5073b95fe995ab0c40e141df  exponential_weighted_estimator_shrinkage   \ned9c912e418003847eb15bab7cd60faf0c5d0a80  exponential_weighted_estimator_shrinkage   \nda86113ebd72c5022bdadff51effbcc2f4bab3d3  exponential_weighted_estimator_shrinkage   \n8b2ac8b792652d4817c40193c5625ca89446319b  exponential_weighted_estimator_shrinkage   \n6a0eafa19be68db123ce988ebf3fe3b6ca00937f  exponential_weighted_estimator_shrinkage   \nb5ff98aa291d0c0472d9e1c7ed4c508a1fef9c91  exponential_weighted_estimator_shrinkage   \n06f0eb8cba1d8c76637a7b45d7a9b3e2e593aad9  exponential_weighted_estimator_shrinkage   \nd7eb264863be992262364024e91d68dfbe5bb50b  exponential_weighted_estimator_shrinkage   \nf3a191d2e5e221646dbc9afb33b35198ecb05e7d  exponential_weighted_estimator_shrinkage   \n1dba5102e66439b9f9771a0398854e97bb2f7fed  exponential_weighted_estimator_shrinkage   \n9eb2fce6e654cde02f6e432e8157e0ef8d4883a9  exponential_weighted_estimator_shrinkage   \nc4a99d2b7a9e91632c3efab317727d092fe5fd11  exponential_weighted_estimator_shrinkage   \ne6f523f32838815f8d6eb486372092b77d332202  exponential_weighted_estimator_shrinkage   \ndc51722fd7fc1257f10e54dbc221867ec8f5c0e7  exponential_weighted_estimator_shrinkage   \n\n                                         optimizer universe imputation_method  \\\n57a94fbeba5f9b8e6c1cb0f8729bfce709fc5b93   CardMVO      ETF        Univariate   \ne8cfa8ed6dbac88b5ec04b335ceb3173e5fe22f2   CardMVO      ETF        Univariate   \n072055faabd386d78ceeaf47943a239dc0beb715   CardMVO      ETF        Univariate   \n250ac35b1f90fbe617ff66f40eb7426326c38e16   CardMVO      ETF        Univariate   \n7bb8b280eae5dee880b49f7918d4b4dbec6a7631   CardMVO      ETF        Univariate   \nf7905698f373388f59394724a50c3c1e4477b34e   CardMVO      ETF        Univariate   \na6c13f4ce1af1713ee0229216b67b554893e2f08   CardMVO      ETF        Univariate   \nebc489500cf6444c80c28559d2eecc25fa653d6b   CardMVO      ETF        Univariate   \n23719a9cbd62bd57966477212360f412b4938ce5   CardMVO      ETF        Univariate   \n72be4d657cf4479b6130f33b0ef4503dd59f8c28   CardMVO      ETF        Univariate   \n111124f42a981e2011fac29e972d1ffa9d9efc43   CardMVO      ETF        Univariate   \n36a873c001c83b5242dac4193ef403f2dd9c3cfe   CardMVO      ETF        Univariate   \n4328010fbcf2627f2238e67a04d053027eb521ac   CardMVO      ETF        Univariate   \n23d1880aab49dfe4fa989bd2ec3fe131f2798000   CardMVO      ETF        Univariate   \n4568d4b49feed997e766cac3c44673729965b976   CardMVO      ETF        Univariate   \nf842bf09bbac9fedd71982687dd40caec76a5aaa   CardMVO      ETF        Univariate   \n4fb0ea6e6a0e58d52f3286c020df9b69d2f3f0ee   CardMVO      ETF        Univariate   \n133dc0be27e2cb209185fa4815d88f29809be55f   CardMVO      ETF        Univariate   \nec6a5da4bba812255145a5a7dee57359a0d4cf67   CardMVO      ETF        Univariate   \nd736c27ba7d992e7c7b19d99fadff3b29339c97c   CardMVO      ETF        Univariate   \n96e5784279c2101aa2770d23163054add1151eb0   CardMVO      ETF        Univariate   \nc375aff31703aaa8bd73a4ab67c19194d3a13bf4   CardMVO      ETF        Univariate   \nd4246aa2edf0b14a5073b95fe995ab0c40e141df   CardMVO      ETF        Univariate   \ned9c912e418003847eb15bab7cd60faf0c5d0a80   CardMVO      ETF        Univariate   \nda86113ebd72c5022bdadff51effbcc2f4bab3d3   CardMVO      ETF        Univariate   \n8b2ac8b792652d4817c40193c5625ca89446319b   CardMVO      ETF        Univariate   \n6a0eafa19be68db123ce988ebf3fe3b6ca00937f   CardMVO      ETF        Univariate   \nb5ff98aa291d0c0472d9e1c7ed4c508a1fef9c91   CardMVO      ETF        Univariate   \n06f0eb8cba1d8c76637a7b45d7a9b3e2e593aad9   CardMVO      ETF        Univariate   \nd7eb264863be992262364024e91d68dfbe5bb50b   CardMVO      ETF        Univariate   \nf3a191d2e5e221646dbc9afb33b35198ecb05e7d   CardMVO      ETF        Univariate   \n1dba5102e66439b9f9771a0398854e97bb2f7fed   CardMVO      ETF        Univariate   \n9eb2fce6e654cde02f6e432e8157e0ef8d4883a9   CardMVO      ETF        Univariate   \nc4a99d2b7a9e91632c3efab317727d092fe5fd11   CardMVO      ETF        Univariate   \ne6f523f32838815f8d6eb486372092b77d332202   CardMVO      ETF        Univariate   \ndc51722fd7fc1257f10e54dbc221867ec8f5c0e7   CardMVO      ETF        Univariate   \n\n                                         ticker_str hyperparam_search  \\\n57a94fbeba5f9b8e6c1cb0f8729bfce709fc5b93        SPY             False   \ne8cfa8ed6dbac88b5ec04b335ceb3173e5fe22f2        SPY             False   \n072055faabd386d78ceeaf47943a239dc0beb715        SPY             False   \n250ac35b1f90fbe617ff66f40eb7426326c38e16        SPY             False   \n7bb8b280eae5dee880b49f7918d4b4dbec6a7631        SPY             False   \nf7905698f373388f59394724a50c3c1e4477b34e        SPY             False   \na6c13f4ce1af1713ee0229216b67b554893e2f08        SPY             False   \nebc489500cf6444c80c28559d2eecc25fa653d6b        SPY             False   \n23719a9cbd62bd57966477212360f412b4938ce5        SPY             False   \n72be4d657cf4479b6130f33b0ef4503dd59f8c28        SPY             False   \n111124f42a981e2011fac29e972d1ffa9d9efc43        SPY             False   \n36a873c001c83b5242dac4193ef403f2dd9c3cfe        SPY             False   \n4328010fbcf2627f2238e67a04d053027eb521ac        SPY             False   \n23d1880aab49dfe4fa989bd2ec3fe131f2798000        SPY             False   \n4568d4b49feed997e766cac3c44673729965b976        SPY             False   \nf842bf09bbac9fedd71982687dd40caec76a5aaa        SPY             False   \n4fb0ea6e6a0e58d52f3286c020df9b69d2f3f0ee        SPY             False   \n133dc0be27e2cb209185fa4815d88f29809be55f        SPY             False   \nec6a5da4bba812255145a5a7dee57359a0d4cf67        SPY             False   \nd736c27ba7d992e7c7b19d99fadff3b29339c97c        SPY             False   \n96e5784279c2101aa2770d23163054add1151eb0        SPY             False   \nc375aff31703aaa8bd73a4ab67c19194d3a13bf4        SPY             False   \nd4246aa2edf0b14a5073b95fe995ab0c40e141df        SPY             False   \ned9c912e418003847eb15bab7cd60faf0c5d0a80        SPY             False   \nda86113ebd72c5022bdadff51effbcc2f4bab3d3        SPY             False   \n8b2ac8b792652d4817c40193c5625ca89446319b        SPY             False   \n6a0eafa19be68db123ce988ebf3fe3b6ca00937f        SPY             False   \nb5ff98aa291d0c0472d9e1c7ed4c508a1fef9c91        SPY             False   \n06f0eb8cba1d8c76637a7b45d7a9b3e2e593aad9        SPY             False   \nd7eb264863be992262364024e91d68dfbe5bb50b        SPY             False   \nf3a191d2e5e221646dbc9afb33b35198ecb05e7d        SPY             False   \n1dba5102e66439b9f9771a0398854e97bb2f7fed        SPY             False   \n9eb2fce6e654cde02f6e432e8157e0ef8d4883a9        SPY             False   \nc4a99d2b7a9e91632c3efab317727d092fe5fd11        SPY             False   \ne6f523f32838815f8d6eb486372092b77d332202        SPY             False   \ndc51722fd7fc1257f10e54dbc221867ec8f5c0e7        SPY             False   \n\n                                         NoPeriods           run    C  ...  \\\n57a94fbeba5f9b8e6c1cb0f8729bfce709fc5b93        29  SunJan212024  0.1  ...   \ne8cfa8ed6dbac88b5ec04b335ceb3173e5fe22f2        29  SunJan212024  0.1  ...   \n072055faabd386d78ceeaf47943a239dc0beb715        29  SunJan212024  0.1  ...   \n250ac35b1f90fbe617ff66f40eb7426326c38e16        29  SunJan212024  0.1  ...   \n7bb8b280eae5dee880b49f7918d4b4dbec6a7631        29  SunJan212024  0.1  ...   \nf7905698f373388f59394724a50c3c1e4477b34e        29  SunJan212024  0.1  ...   \na6c13f4ce1af1713ee0229216b67b554893e2f08        29  SunJan212024  0.1  ...   \nebc489500cf6444c80c28559d2eecc25fa653d6b        29  SunJan212024  0.1  ...   \n23719a9cbd62bd57966477212360f412b4938ce5        29  SunJan212024  0.1  ...   \n72be4d657cf4479b6130f33b0ef4503dd59f8c28        29  SunJan212024  0.1  ...   \n111124f42a981e2011fac29e972d1ffa9d9efc43        29  SunJan212024  0.1  ...   \n36a873c001c83b5242dac4193ef403f2dd9c3cfe        29  SunJan212024  0.1  ...   \n4328010fbcf2627f2238e67a04d053027eb521ac        29  SunJan212024  0.1  ...   \n23d1880aab49dfe4fa989bd2ec3fe131f2798000        29  SunJan212024  0.1  ...   \n4568d4b49feed997e766cac3c44673729965b976        29  SunJan212024  0.1  ...   \nf842bf09bbac9fedd71982687dd40caec76a5aaa        29  SunJan212024  0.1  ...   \n4fb0ea6e6a0e58d52f3286c020df9b69d2f3f0ee        29  SunJan212024  0.1  ...   \n133dc0be27e2cb209185fa4815d88f29809be55f        29  SunJan212024  0.1  ...   \nec6a5da4bba812255145a5a7dee57359a0d4cf67        29  SunJan212024  0.1  ...   \nd736c27ba7d992e7c7b19d99fadff3b29339c97c        29  SunJan212024  0.1  ...   \n96e5784279c2101aa2770d23163054add1151eb0        29  SunJan212024  0.1  ...   \nc375aff31703aaa8bd73a4ab67c19194d3a13bf4        29  SunJan212024  0.1  ...   \nd4246aa2edf0b14a5073b95fe995ab0c40e141df        29  SunJan212024  0.1  ...   \ned9c912e418003847eb15bab7cd60faf0c5d0a80        29  SunJan212024  0.1  ...   \nda86113ebd72c5022bdadff51effbcc2f4bab3d3        29  SunJan212024  0.1  ...   \n8b2ac8b792652d4817c40193c5625ca89446319b        29  SunJan212024  0.1  ...   \n6a0eafa19be68db123ce988ebf3fe3b6ca00937f        29  SunJan212024  0.1  ...   \nb5ff98aa291d0c0472d9e1c7ed4c508a1fef9c91        29  SunJan212024  0.1  ...   \n06f0eb8cba1d8c76637a7b45d7a9b3e2e593aad9        29  SunJan212024  0.1  ...   \nd7eb264863be992262364024e91d68dfbe5bb50b        29  SunJan212024  0.1  ...   \nf3a191d2e5e221646dbc9afb33b35198ecb05e7d        29  SunJan212024  0.1  ...   \n1dba5102e66439b9f9771a0398854e97bb2f7fed        29  SunJan212024  0.1  ...   \n9eb2fce6e654cde02f6e432e8157e0ef8d4883a9        29  SunJan212024  0.1  ...   \nc4a99d2b7a9e91632c3efab317727d092fe5fd11        29  SunJan212024  0.1  ...   \ne6f523f32838815f8d6eb486372092b77d332202        29  SunJan212024  0.1  ...   \ndc51722fd7fc1257f10e54dbc221867ec8f5c0e7        29  SunJan212024  0.1  ...   \n\n                                         premium  q q_alpha separable  \\\n57a94fbeba5f9b8e6c1cb0f8729bfce709fc5b93       1  3  0.6838     False   \ne8cfa8ed6dbac88b5ec04b335ceb3173e5fe22f2       1  3  0.6838     False   \n072055faabd386d78ceeaf47943a239dc0beb715       1  3  0.6838     False   \n250ac35b1f90fbe617ff66f40eb7426326c38e16       1  3  0.6838     False   \n7bb8b280eae5dee880b49f7918d4b4dbec6a7631       1  3  0.6838     False   \nf7905698f373388f59394724a50c3c1e4477b34e       1  3  0.6838     False   \na6c13f4ce1af1713ee0229216b67b554893e2f08       1  3  0.6838     False   \nebc489500cf6444c80c28559d2eecc25fa653d6b       1  3  0.6838     False   \n23719a9cbd62bd57966477212360f412b4938ce5       1  3  0.6838     False   \n72be4d657cf4479b6130f33b0ef4503dd59f8c28       1  3  0.6838     False   \n111124f42a981e2011fac29e972d1ffa9d9efc43       1  3  0.6838     False   \n36a873c001c83b5242dac4193ef403f2dd9c3cfe       1  3  0.6838     False   \n4328010fbcf2627f2238e67a04d053027eb521ac       1  3  0.6838     False   \n23d1880aab49dfe4fa989bd2ec3fe131f2798000       1  3  0.6838     False   \n4568d4b49feed997e766cac3c44673729965b976       1  3  0.6838     False   \nf842bf09bbac9fedd71982687dd40caec76a5aaa       1  3  0.6838     False   \n4fb0ea6e6a0e58d52f3286c020df9b69d2f3f0ee       1  3  0.6838     False   \n133dc0be27e2cb209185fa4815d88f29809be55f       1  3  0.6838     False   \nec6a5da4bba812255145a5a7dee57359a0d4cf67       1  3  0.6838     False   \nd736c27ba7d992e7c7b19d99fadff3b29339c97c       1  3  0.6838     False   \n96e5784279c2101aa2770d23163054add1151eb0       1  3  0.6838     False   \nc375aff31703aaa8bd73a4ab67c19194d3a13bf4       1  3  0.6838     False   \nd4246aa2edf0b14a5073b95fe995ab0c40e141df       1  3  0.6838     False   \ned9c912e418003847eb15bab7cd60faf0c5d0a80       1  3  0.6838     False   \nda86113ebd72c5022bdadff51effbcc2f4bab3d3       1  3  0.6838     False   \n8b2ac8b792652d4817c40193c5625ca89446319b       1  3  0.6838     False   \n6a0eafa19be68db123ce988ebf3fe3b6ca00937f       1  3  0.6838     False   \nb5ff98aa291d0c0472d9e1c7ed4c508a1fef9c91       1  3  0.6838     False   \n06f0eb8cba1d8c76637a7b45d7a9b3e2e593aad9       1  3  0.6838     False   \nd7eb264863be992262364024e91d68dfbe5bb50b       1  3  0.6838     False   \nf3a191d2e5e221646dbc9afb33b35198ecb05e7d       1  3  0.6838     False   \n1dba5102e66439b9f9771a0398854e97bb2f7fed       1  3  0.6838     False   \n9eb2fce6e654cde02f6e432e8157e0ef8d4883a9       1  3  0.6838     False   \nc4a99d2b7a9e91632c3efab317727d092fe5fd11       1  1  0.6838     False   \ne6f523f32838815f8d6eb486372092b77d332202       1  1  0.6838     False   \ndc51722fd7fc1257f10e54dbc221867ec8f5c0e7       1  1  0.6838     False   \n\n                                         target_return_strategy  \\\n57a94fbeba5f9b8e6c1cb0f8729bfce709fc5b93         premium_target   \ne8cfa8ed6dbac88b5ec04b335ceb3173e5fe22f2         premium_target   \n072055faabd386d78ceeaf47943a239dc0beb715         premium_target   \n250ac35b1f90fbe617ff66f40eb7426326c38e16         premium_target   \n7bb8b280eae5dee880b49f7918d4b4dbec6a7631         premium_target   \nf7905698f373388f59394724a50c3c1e4477b34e         premium_target   \na6c13f4ce1af1713ee0229216b67b554893e2f08         premium_target   \nebc489500cf6444c80c28559d2eecc25fa653d6b         premium_target   \n23719a9cbd62bd57966477212360f412b4938ce5         premium_target   \n72be4d657cf4479b6130f33b0ef4503dd59f8c28         premium_target   \n111124f42a981e2011fac29e972d1ffa9d9efc43         premium_target   \n36a873c001c83b5242dac4193ef403f2dd9c3cfe         premium_target   \n4328010fbcf2627f2238e67a04d053027eb521ac         premium_target   \n23d1880aab49dfe4fa989bd2ec3fe131f2798000         premium_target   \n4568d4b49feed997e766cac3c44673729965b976         premium_target   \nf842bf09bbac9fedd71982687dd40caec76a5aaa         premium_target   \n4fb0ea6e6a0e58d52f3286c020df9b69d2f3f0ee         premium_target   \n133dc0be27e2cb209185fa4815d88f29809be55f         premium_target   \nec6a5da4bba812255145a5a7dee57359a0d4cf67         premium_target   \nd736c27ba7d992e7c7b19d99fadff3b29339c97c         premium_target   \n96e5784279c2101aa2770d23163054add1151eb0         premium_target   \nc375aff31703aaa8bd73a4ab67c19194d3a13bf4         premium_target   \nd4246aa2edf0b14a5073b95fe995ab0c40e141df         premium_target   \ned9c912e418003847eb15bab7cd60faf0c5d0a80         premium_target   \nda86113ebd72c5022bdadff51effbcc2f4bab3d3         premium_target   \n8b2ac8b792652d4817c40193c5625ca89446319b         premium_target   \n6a0eafa19be68db123ce988ebf3fe3b6ca00937f         premium_target   \nb5ff98aa291d0c0472d9e1c7ed4c508a1fef9c91         premium_target   \n06f0eb8cba1d8c76637a7b45d7a9b3e2e593aad9         premium_target   \nd7eb264863be992262364024e91d68dfbe5bb50b         premium_target   \nf3a191d2e5e221646dbc9afb33b35198ecb05e7d         premium_target   \n1dba5102e66439b9f9771a0398854e97bb2f7fed         premium_target   \n9eb2fce6e654cde02f6e432e8157e0ef8d4883a9         premium_target   \nc4a99d2b7a9e91632c3efab317727d092fe5fd11         premium_target   \ne6f523f32838815f8d6eb486372092b77d332202         premium_target   \ndc51722fd7fc1257f10e54dbc221867ec8f5c0e7         premium_target   \n\n                                         target_return_strategy_args  \\\n57a94fbeba5f9b8e6c1cb0f8729bfce709fc5b93                 ['premium']   \ne8cfa8ed6dbac88b5ec04b335ceb3173e5fe22f2                 ['premium']   \n072055faabd386d78ceeaf47943a239dc0beb715                 ['premium']   \n250ac35b1f90fbe617ff66f40eb7426326c38e16                 ['premium']   \n7bb8b280eae5dee880b49f7918d4b4dbec6a7631                 ['premium']   \nf7905698f373388f59394724a50c3c1e4477b34e                 ['premium']   \na6c13f4ce1af1713ee0229216b67b554893e2f08                 ['premium']   \nebc489500cf6444c80c28559d2eecc25fa653d6b                 ['premium']   \n23719a9cbd62bd57966477212360f412b4938ce5                 ['premium']   \n72be4d657cf4479b6130f33b0ef4503dd59f8c28                 ['premium']   \n111124f42a981e2011fac29e972d1ffa9d9efc43                 ['premium']   \n36a873c001c83b5242dac4193ef403f2dd9c3cfe                 ['premium']   \n4328010fbcf2627f2238e67a04d053027eb521ac                 ['premium']   \n23d1880aab49dfe4fa989bd2ec3fe131f2798000                 ['premium']   \n4568d4b49feed997e766cac3c44673729965b976                 ['premium']   \nf842bf09bbac9fedd71982687dd40caec76a5aaa                 ['premium']   \n4fb0ea6e6a0e58d52f3286c020df9b69d2f3f0ee                 ['premium']   \n133dc0be27e2cb209185fa4815d88f29809be55f                 ['premium']   \nec6a5da4bba812255145a5a7dee57359a0d4cf67                 ['premium']   \nd736c27ba7d992e7c7b19d99fadff3b29339c97c                 ['premium']   \n96e5784279c2101aa2770d23163054add1151eb0                 ['premium']   \nc375aff31703aaa8bd73a4ab67c19194d3a13bf4                 ['premium']   \nd4246aa2edf0b14a5073b95fe995ab0c40e141df                 ['premium']   \ned9c912e418003847eb15bab7cd60faf0c5d0a80                 ['premium']   \nda86113ebd72c5022bdadff51effbcc2f4bab3d3                 ['premium']   \n8b2ac8b792652d4817c40193c5625ca89446319b                 ['premium']   \n6a0eafa19be68db123ce988ebf3fe3b6ca00937f                 ['premium']   \nb5ff98aa291d0c0472d9e1c7ed4c508a1fef9c91                 ['premium']   \n06f0eb8cba1d8c76637a7b45d7a9b3e2e593aad9                 ['premium']   \nd7eb264863be992262364024e91d68dfbe5bb50b                 ['premium']   \nf3a191d2e5e221646dbc9afb33b35198ecb05e7d                 ['premium']   \n1dba5102e66439b9f9771a0398854e97bb2f7fed                 ['premium']   \n9eb2fce6e654cde02f6e432e8157e0ef8d4883a9                 ['premium']   \nc4a99d2b7a9e91632c3efab317727d092fe5fd11                 ['premium']   \ne6f523f32838815f8d6eb486372092b77d332202                 ['premium']   \ndc51722fd7fc1257f10e54dbc221867ec8f5c0e7                 ['premium']   \n\n                                         ticker_index tightening_iter_lim  \\\n57a94fbeba5f9b8e6c1cb0f8729bfce709fc5b93          250                   1   \ne8cfa8ed6dbac88b5ec04b335ceb3173e5fe22f2          250                   1   \n072055faabd386d78ceeaf47943a239dc0beb715          250                   1   \n250ac35b1f90fbe617ff66f40eb7426326c38e16          250                   1   \n7bb8b280eae5dee880b49f7918d4b4dbec6a7631          250                   1   \nf7905698f373388f59394724a50c3c1e4477b34e          250                   1   \na6c13f4ce1af1713ee0229216b67b554893e2f08          250                   1   \nebc489500cf6444c80c28559d2eecc25fa653d6b          250                   1   \n23719a9cbd62bd57966477212360f412b4938ce5          250                   1   \n72be4d657cf4479b6130f33b0ef4503dd59f8c28          250                   1   \n111124f42a981e2011fac29e972d1ffa9d9efc43          250                   1   \n36a873c001c83b5242dac4193ef403f2dd9c3cfe          250                   1   \n4328010fbcf2627f2238e67a04d053027eb521ac          250                   1   \n23d1880aab49dfe4fa989bd2ec3fe131f2798000          250                   1   \n4568d4b49feed997e766cac3c44673729965b976          250                   1   \nf842bf09bbac9fedd71982687dd40caec76a5aaa          250                   1   \n4fb0ea6e6a0e58d52f3286c020df9b69d2f3f0ee          250                   1   \n133dc0be27e2cb209185fa4815d88f29809be55f          250                   1   \nec6a5da4bba812255145a5a7dee57359a0d4cf67          250                   1   \nd736c27ba7d992e7c7b19d99fadff3b29339c97c          250                   1   \n96e5784279c2101aa2770d23163054add1151eb0          250                   1   \nc375aff31703aaa8bd73a4ab67c19194d3a13bf4          250                   1   \nd4246aa2edf0b14a5073b95fe995ab0c40e141df          250                   1   \ned9c912e418003847eb15bab7cd60faf0c5d0a80          250                   1   \nda86113ebd72c5022bdadff51effbcc2f4bab3d3          250                   1   \n8b2ac8b792652d4817c40193c5625ca89446319b          250                   1   \n6a0eafa19be68db123ce988ebf3fe3b6ca00937f          250                   1   \nb5ff98aa291d0c0472d9e1c7ed4c508a1fef9c91          250                   1   \n06f0eb8cba1d8c76637a7b45d7a9b3e2e593aad9          250                   1   \nd7eb264863be992262364024e91d68dfbe5bb50b          250                   1   \nf3a191d2e5e221646dbc9afb33b35198ecb05e7d          250                   1   \n1dba5102e66439b9f9771a0398854e97bb2f7fed          250                   1   \n9eb2fce6e654cde02f6e432e8157e0ef8d4883a9          250                   1   \nc4a99d2b7a9e91632c3efab317727d092fe5fd11          250                   1   \ne6f523f32838815f8d6eb486372092b77d332202          250                   1   \ndc51722fd7fc1257f10e54dbc221867ec8f5c0e7          250                   1   \n\n                                         turnover_constraints turnover_limit  \n57a94fbeba5f9b8e6c1cb0f8729bfce709fc5b93                 True           0.75  \ne8cfa8ed6dbac88b5ec04b335ceb3173e5fe22f2                 True              1  \n072055faabd386d78ceeaf47943a239dc0beb715                 True           1.25  \n250ac35b1f90fbe617ff66f40eb7426326c38e16                 True           0.75  \n7bb8b280eae5dee880b49f7918d4b4dbec6a7631                 True              1  \nf7905698f373388f59394724a50c3c1e4477b34e                 True           1.25  \na6c13f4ce1af1713ee0229216b67b554893e2f08                 True           0.75  \nebc489500cf6444c80c28559d2eecc25fa653d6b                 True              1  \n23719a9cbd62bd57966477212360f412b4938ce5                 True           1.25  \n72be4d657cf4479b6130f33b0ef4503dd59f8c28                 True           0.75  \n111124f42a981e2011fac29e972d1ffa9d9efc43                 True              1  \n36a873c001c83b5242dac4193ef403f2dd9c3cfe                 True           1.25  \n4328010fbcf2627f2238e67a04d053027eb521ac                 True           0.75  \n23d1880aab49dfe4fa989bd2ec3fe131f2798000                 True              1  \n4568d4b49feed997e766cac3c44673729965b976                 True           1.25  \nf842bf09bbac9fedd71982687dd40caec76a5aaa                 True           0.75  \n4fb0ea6e6a0e58d52f3286c020df9b69d2f3f0ee                 True              1  \n133dc0be27e2cb209185fa4815d88f29809be55f                 True           1.25  \nec6a5da4bba812255145a5a7dee57359a0d4cf67                 True           0.75  \nd736c27ba7d992e7c7b19d99fadff3b29339c97c                 True              1  \n96e5784279c2101aa2770d23163054add1151eb0                 True           1.25  \nc375aff31703aaa8bd73a4ab67c19194d3a13bf4                 True           0.75  \nd4246aa2edf0b14a5073b95fe995ab0c40e141df                 True              1  \ned9c912e418003847eb15bab7cd60faf0c5d0a80                 True           1.25  \nda86113ebd72c5022bdadff51effbcc2f4bab3d3                 True           0.75  \n8b2ac8b792652d4817c40193c5625ca89446319b                 True              1  \n6a0eafa19be68db123ce988ebf3fe3b6ca00937f                 True           1.25  \nb5ff98aa291d0c0472d9e1c7ed4c508a1fef9c91                 True           0.75  \n06f0eb8cba1d8c76637a7b45d7a9b3e2e593aad9                 True              1  \nd7eb264863be992262364024e91d68dfbe5bb50b                 True           1.25  \nf3a191d2e5e221646dbc9afb33b35198ecb05e7d                 True           0.75  \n1dba5102e66439b9f9771a0398854e97bb2f7fed                 True              1  \n9eb2fce6e654cde02f6e432e8157e0ef8d4883a9                 True           1.25  \nc4a99d2b7a9e91632c3efab317727d092fe5fd11                 True           0.75  \ne6f523f32838815f8d6eb486372092b77d332202                 True              1  \ndc51722fd7fc1257f10e54dbc221867ec8f5c0e7                 True           1.25  \n\n[36 rows x 40 columns]",
      "text/html": "<div>\n<style scoped>\n    .dataframe tbody tr th:only-of-type {\n        vertical-align: middle;\n    }\n\n    .dataframe tbody tr th {\n        vertical-align: top;\n    }\n\n    .dataframe thead th {\n        text-align: right;\n    }\n</style>\n<table border=\"1\" class=\"dataframe\">\n  <thead>\n    <tr style=\"text-align: right;\">\n      <th></th>\n      <th>uid</th>\n      <th>estimator</th>\n      <th>optimizer</th>\n      <th>universe</th>\n      <th>imputation_method</th>\n      <th>ticker_str</th>\n      <th>hyperparam_search</th>\n      <th>NoPeriods</th>\n      <th>run</th>\n      <th>C</th>\n      <th>...</th>\n      <th>premium</th>\n      <th>q</th>\n      <th>q_alpha</th>\n      <th>separable</th>\n      <th>target_return_strategy</th>\n      <th>target_return_strategy_args</th>\n      <th>ticker_index</th>\n      <th>tightening_iter_lim</th>\n      <th>turnover_constraints</th>\n      <th>turnover_limit</th>\n    </tr>\n  </thead>\n  <tbody>\n    <tr>\n      <th>57a94fbeba5f9b8e6c1cb0f8729bfce709fc5b93</th>\n      <td>57a94fbeba5f9b8e6c1cb0f8729bfce709fc5b93</td>\n      <td>exponential_weighted_estimator_shrinkage</td>\n      <td>CardMVO</td>\n      <td>ETF</td>\n      <td>Univariate</td>\n      <td>SPY</td>\n      <td>False</td>\n      <td>29</td>\n      <td>SunJan212024</td>\n      <td>0.1</td>\n      <td>...</td>\n      <td>1</td>\n      <td>3</td>\n      <td>0.6838</td>\n      <td>False</td>\n      <td>premium_target</td>\n      <td>['premium']</td>\n      <td>250</td>\n      <td>1</td>\n      <td>True</td>\n      <td>0.75</td>\n    </tr>\n    <tr>\n      <th>e8cfa8ed6dbac88b5ec04b335ceb3173e5fe22f2</th>\n      <td>e8cfa8ed6dbac88b5ec04b335ceb3173e5fe22f2</td>\n      <td>exponential_weighted_estimator_shrinkage</td>\n      <td>CardMVO</td>\n      <td>ETF</td>\n      <td>Univariate</td>\n      <td>SPY</td>\n      <td>False</td>\n      <td>29</td>\n      <td>SunJan212024</td>\n      <td>0.1</td>\n      <td>...</td>\n      <td>1</td>\n      <td>3</td>\n      <td>0.6838</td>\n      <td>False</td>\n      <td>premium_target</td>\n      <td>['premium']</td>\n      <td>250</td>\n      <td>1</td>\n      <td>True</td>\n      <td>1</td>\n    </tr>\n    <tr>\n      <th>072055faabd386d78ceeaf47943a239dc0beb715</th>\n      <td>072055faabd386d78ceeaf47943a239dc0beb715</td>\n      <td>exponential_weighted_estimator_shrinkage</td>\n      <td>CardMVO</td>\n      <td>ETF</td>\n      <td>Univariate</td>\n      <td>SPY</td>\n      <td>False</td>\n      <td>29</td>\n      <td>SunJan212024</td>\n      <td>0.1</td>\n      <td>...</td>\n      <td>1</td>\n      <td>3</td>\n      <td>0.6838</td>\n      <td>False</td>\n      <td>premium_target</td>\n      <td>['premium']</td>\n      <td>250</td>\n      <td>1</td>\n      <td>True</td>\n      <td>1.25</td>\n    </tr>\n    <tr>\n      <th>250ac35b1f90fbe617ff66f40eb7426326c38e16</th>\n      <td>250ac35b1f90fbe617ff66f40eb7426326c38e16</td>\n      <td>exponential_weighted_estimator_shrinkage</td>\n      <td>CardMVO</td>\n      <td>ETF</td>\n      <td>Univariate</td>\n      <td>SPY</td>\n      <td>False</td>\n      <td>29</td>\n      <td>SunJan212024</td>\n      <td>0.1</td>\n      <td>...</td>\n      <td>1</td>\n      <td>3</td>\n      <td>0.6838</td>\n      <td>False</td>\n      <td>premium_target</td>\n      <td>['premium']</td>\n      <td>250</td>\n      <td>1</td>\n      <td>True</td>\n      <td>0.75</td>\n    </tr>\n    <tr>\n      <th>7bb8b280eae5dee880b49f7918d4b4dbec6a7631</th>\n      <td>7bb8b280eae5dee880b49f7918d4b4dbec6a7631</td>\n      <td>exponential_weighted_estimator_shrinkage</td>\n      <td>CardMVO</td>\n      <td>ETF</td>\n      <td>Univariate</td>\n      <td>SPY</td>\n      <td>False</td>\n      <td>29</td>\n      <td>SunJan212024</td>\n      <td>0.1</td>\n      <td>...</td>\n      <td>1</td>\n      <td>3</td>\n      <td>0.6838</td>\n      <td>False</td>\n      <td>premium_target</td>\n      <td>['premium']</td>\n      <td>250</td>\n      <td>1</td>\n      <td>True</td>\n      <td>1</td>\n    </tr>\n    <tr>\n      <th>f7905698f373388f59394724a50c3c1e4477b34e</th>\n      <td>f7905698f373388f59394724a50c3c1e4477b34e</td>\n      <td>exponential_weighted_estimator_shrinkage</td>\n      <td>CardMVO</td>\n      <td>ETF</td>\n      <td>Univariate</td>\n      <td>SPY</td>\n      <td>False</td>\n      <td>29</td>\n      <td>SunJan212024</td>\n      <td>0.1</td>\n      <td>...</td>\n      <td>1</td>\n      <td>3</td>\n      <td>0.6838</td>\n      <td>False</td>\n      <td>premium_target</td>\n      <td>['premium']</td>\n      <td>250</td>\n      <td>1</td>\n      <td>True</td>\n      <td>1.25</td>\n    </tr>\n    <tr>\n      <th>a6c13f4ce1af1713ee0229216b67b554893e2f08</th>\n      <td>a6c13f4ce1af1713ee0229216b67b554893e2f08</td>\n      <td>exponential_weighted_estimator_shrinkage</td>\n      <td>CardMVO</td>\n      <td>ETF</td>\n      <td>Univariate</td>\n      <td>SPY</td>\n      <td>False</td>\n      <td>29</td>\n      <td>SunJan212024</td>\n      <td>0.1</td>\n      <td>...</td>\n      <td>1</td>\n      <td>3</td>\n      <td>0.6838</td>\n      <td>False</td>\n      <td>premium_target</td>\n      <td>['premium']</td>\n      <td>250</td>\n      <td>1</td>\n      <td>True</td>\n      <td>0.75</td>\n    </tr>\n    <tr>\n      <th>ebc489500cf6444c80c28559d2eecc25fa653d6b</th>\n      <td>ebc489500cf6444c80c28559d2eecc25fa653d6b</td>\n      <td>exponential_weighted_estimator_shrinkage</td>\n      <td>CardMVO</td>\n      <td>ETF</td>\n      <td>Univariate</td>\n      <td>SPY</td>\n      <td>False</td>\n      <td>29</td>\n      <td>SunJan212024</td>\n      <td>0.1</td>\n      <td>...</td>\n      <td>1</td>\n      <td>3</td>\n      <td>0.6838</td>\n      <td>False</td>\n      <td>premium_target</td>\n      <td>['premium']</td>\n      <td>250</td>\n      <td>1</td>\n      <td>True</td>\n      <td>1</td>\n    </tr>\n    <tr>\n      <th>23719a9cbd62bd57966477212360f412b4938ce5</th>\n      <td>23719a9cbd62bd57966477212360f412b4938ce5</td>\n      <td>exponential_weighted_estimator_shrinkage</td>\n      <td>CardMVO</td>\n      <td>ETF</td>\n      <td>Univariate</td>\n      <td>SPY</td>\n      <td>False</td>\n      <td>29</td>\n      <td>SunJan212024</td>\n      <td>0.1</td>\n      <td>...</td>\n      <td>1</td>\n      <td>3</td>\n      <td>0.6838</td>\n      <td>False</td>\n      <td>premium_target</td>\n      <td>['premium']</td>\n      <td>250</td>\n      <td>1</td>\n      <td>True</td>\n      <td>1.25</td>\n    </tr>\n    <tr>\n      <th>72be4d657cf4479b6130f33b0ef4503dd59f8c28</th>\n      <td>72be4d657cf4479b6130f33b0ef4503dd59f8c28</td>\n      <td>exponential_weighted_estimator_shrinkage</td>\n      <td>CardMVO</td>\n      <td>ETF</td>\n      <td>Univariate</td>\n      <td>SPY</td>\n      <td>False</td>\n      <td>29</td>\n      <td>SunJan212024</td>\n      <td>0.1</td>\n      <td>...</td>\n      <td>1</td>\n      <td>3</td>\n      <td>0.6838</td>\n      <td>False</td>\n      <td>premium_target</td>\n      <td>['premium']</td>\n      <td>250</td>\n      <td>1</td>\n      <td>True</td>\n      <td>0.75</td>\n    </tr>\n    <tr>\n      <th>111124f42a981e2011fac29e972d1ffa9d9efc43</th>\n      <td>111124f42a981e2011fac29e972d1ffa9d9efc43</td>\n      <td>exponential_weighted_estimator_shrinkage</td>\n      <td>CardMVO</td>\n      <td>ETF</td>\n      <td>Univariate</td>\n      <td>SPY</td>\n      <td>False</td>\n      <td>29</td>\n      <td>SunJan212024</td>\n      <td>0.1</td>\n      <td>...</td>\n      <td>1</td>\n      <td>3</td>\n      <td>0.6838</td>\n      <td>False</td>\n      <td>premium_target</td>\n      <td>['premium']</td>\n      <td>250</td>\n      <td>1</td>\n      <td>True</td>\n      <td>1</td>\n    </tr>\n    <tr>\n      <th>36a873c001c83b5242dac4193ef403f2dd9c3cfe</th>\n      <td>36a873c001c83b5242dac4193ef403f2dd9c3cfe</td>\n      <td>exponential_weighted_estimator_shrinkage</td>\n      <td>CardMVO</td>\n      <td>ETF</td>\n      <td>Univariate</td>\n      <td>SPY</td>\n      <td>False</td>\n      <td>29</td>\n      <td>SunJan212024</td>\n      <td>0.1</td>\n      <td>...</td>\n      <td>1</td>\n      <td>3</td>\n      <td>0.6838</td>\n      <td>False</td>\n      <td>premium_target</td>\n      <td>['premium']</td>\n      <td>250</td>\n      <td>1</td>\n      <td>True</td>\n      <td>1.25</td>\n    </tr>\n    <tr>\n      <th>4328010fbcf2627f2238e67a04d053027eb521ac</th>\n      <td>4328010fbcf2627f2238e67a04d053027eb521ac</td>\n      <td>exponential_weighted_estimator_shrinkage</td>\n      <td>CardMVO</td>\n      <td>ETF</td>\n      <td>Univariate</td>\n      <td>SPY</td>\n      <td>False</td>\n      <td>29</td>\n      <td>SunJan212024</td>\n      <td>0.1</td>\n      <td>...</td>\n      <td>1</td>\n      <td>3</td>\n      <td>0.6838</td>\n      <td>False</td>\n      <td>premium_target</td>\n      <td>['premium']</td>\n      <td>250</td>\n      <td>1</td>\n      <td>True</td>\n      <td>0.75</td>\n    </tr>\n    <tr>\n      <th>23d1880aab49dfe4fa989bd2ec3fe131f2798000</th>\n      <td>23d1880aab49dfe4fa989bd2ec3fe131f2798000</td>\n      <td>exponential_weighted_estimator_shrinkage</td>\n      <td>CardMVO</td>\n      <td>ETF</td>\n      <td>Univariate</td>\n      <td>SPY</td>\n      <td>False</td>\n      <td>29</td>\n      <td>SunJan212024</td>\n      <td>0.1</td>\n      <td>...</td>\n      <td>1</td>\n      <td>3</td>\n      <td>0.6838</td>\n      <td>False</td>\n      <td>premium_target</td>\n      <td>['premium']</td>\n      <td>250</td>\n      <td>1</td>\n      <td>True</td>\n      <td>1</td>\n    </tr>\n    <tr>\n      <th>4568d4b49feed997e766cac3c44673729965b976</th>\n      <td>4568d4b49feed997e766cac3c44673729965b976</td>\n      <td>exponential_weighted_estimator_shrinkage</td>\n      <td>CardMVO</td>\n      <td>ETF</td>\n      <td>Univariate</td>\n      <td>SPY</td>\n      <td>False</td>\n      <td>29</td>\n      <td>SunJan212024</td>\n      <td>0.1</td>\n      <td>...</td>\n      <td>1</td>\n      <td>3</td>\n      <td>0.6838</td>\n      <td>False</td>\n      <td>premium_target</td>\n      <td>['premium']</td>\n      <td>250</td>\n      <td>1</td>\n      <td>True</td>\n      <td>1.25</td>\n    </tr>\n    <tr>\n      <th>f842bf09bbac9fedd71982687dd40caec76a5aaa</th>\n      <td>f842bf09bbac9fedd71982687dd40caec76a5aaa</td>\n      <td>exponential_weighted_estimator_shrinkage</td>\n      <td>CardMVO</td>\n      <td>ETF</td>\n      <td>Univariate</td>\n      <td>SPY</td>\n      <td>False</td>\n      <td>29</td>\n      <td>SunJan212024</td>\n      <td>0.1</td>\n      <td>...</td>\n      <td>1</td>\n      <td>3</td>\n      <td>0.6838</td>\n      <td>False</td>\n      <td>premium_target</td>\n      <td>['premium']</td>\n      <td>250</td>\n      <td>1</td>\n      <td>True</td>\n      <td>0.75</td>\n    </tr>\n    <tr>\n      <th>4fb0ea6e6a0e58d52f3286c020df9b69d2f3f0ee</th>\n      <td>4fb0ea6e6a0e58d52f3286c020df9b69d2f3f0ee</td>\n      <td>exponential_weighted_estimator_shrinkage</td>\n      <td>CardMVO</td>\n      <td>ETF</td>\n      <td>Univariate</td>\n      <td>SPY</td>\n      <td>False</td>\n      <td>29</td>\n      <td>SunJan212024</td>\n      <td>0.1</td>\n      <td>...</td>\n      <td>1</td>\n      <td>3</td>\n      <td>0.6838</td>\n      <td>False</td>\n      <td>premium_target</td>\n      <td>['premium']</td>\n      <td>250</td>\n      <td>1</td>\n      <td>True</td>\n      <td>1</td>\n    </tr>\n    <tr>\n      <th>133dc0be27e2cb209185fa4815d88f29809be55f</th>\n      <td>133dc0be27e2cb209185fa4815d88f29809be55f</td>\n      <td>exponential_weighted_estimator_shrinkage</td>\n      <td>CardMVO</td>\n      <td>ETF</td>\n      <td>Univariate</td>\n      <td>SPY</td>\n      <td>False</td>\n      <td>29</td>\n      <td>SunJan212024</td>\n      <td>0.1</td>\n      <td>...</td>\n      <td>1</td>\n      <td>3</td>\n      <td>0.6838</td>\n      <td>False</td>\n      <td>premium_target</td>\n      <td>['premium']</td>\n      <td>250</td>\n      <td>1</td>\n      <td>True</td>\n      <td>1.25</td>\n    </tr>\n    <tr>\n      <th>ec6a5da4bba812255145a5a7dee57359a0d4cf67</th>\n      <td>ec6a5da4bba812255145a5a7dee57359a0d4cf67</td>\n      <td>exponential_weighted_estimator_shrinkage</td>\n      <td>CardMVO</td>\n      <td>ETF</td>\n      <td>Univariate</td>\n      <td>SPY</td>\n      <td>False</td>\n      <td>29</td>\n      <td>SunJan212024</td>\n      <td>0.1</td>\n      <td>...</td>\n      <td>1</td>\n      <td>3</td>\n      <td>0.6838</td>\n      <td>False</td>\n      <td>premium_target</td>\n      <td>['premium']</td>\n      <td>250</td>\n      <td>1</td>\n      <td>True</td>\n      <td>0.75</td>\n    </tr>\n    <tr>\n      <th>d736c27ba7d992e7c7b19d99fadff3b29339c97c</th>\n      <td>d736c27ba7d992e7c7b19d99fadff3b29339c97c</td>\n      <td>exponential_weighted_estimator_shrinkage</td>\n      <td>CardMVO</td>\n      <td>ETF</td>\n      <td>Univariate</td>\n      <td>SPY</td>\n      <td>False</td>\n      <td>29</td>\n      <td>SunJan212024</td>\n      <td>0.1</td>\n      <td>...</td>\n      <td>1</td>\n      <td>3</td>\n      <td>0.6838</td>\n      <td>False</td>\n      <td>premium_target</td>\n      <td>['premium']</td>\n      <td>250</td>\n      <td>1</td>\n      <td>True</td>\n      <td>1</td>\n    </tr>\n    <tr>\n      <th>96e5784279c2101aa2770d23163054add1151eb0</th>\n      <td>96e5784279c2101aa2770d23163054add1151eb0</td>\n      <td>exponential_weighted_estimator_shrinkage</td>\n      <td>CardMVO</td>\n      <td>ETF</td>\n      <td>Univariate</td>\n      <td>SPY</td>\n      <td>False</td>\n      <td>29</td>\n      <td>SunJan212024</td>\n      <td>0.1</td>\n      <td>...</td>\n      <td>1</td>\n      <td>3</td>\n      <td>0.6838</td>\n      <td>False</td>\n      <td>premium_target</td>\n      <td>['premium']</td>\n      <td>250</td>\n      <td>1</td>\n      <td>True</td>\n      <td>1.25</td>\n    </tr>\n    <tr>\n      <th>c375aff31703aaa8bd73a4ab67c19194d3a13bf4</th>\n      <td>c375aff31703aaa8bd73a4ab67c19194d3a13bf4</td>\n      <td>exponential_weighted_estimator_shrinkage</td>\n      <td>CardMVO</td>\n      <td>ETF</td>\n      <td>Univariate</td>\n      <td>SPY</td>\n      <td>False</td>\n      <td>29</td>\n      <td>SunJan212024</td>\n      <td>0.1</td>\n      <td>...</td>\n      <td>1</td>\n      <td>3</td>\n      <td>0.6838</td>\n      <td>False</td>\n      <td>premium_target</td>\n      <td>['premium']</td>\n      <td>250</td>\n      <td>1</td>\n      <td>True</td>\n      <td>0.75</td>\n    </tr>\n    <tr>\n      <th>d4246aa2edf0b14a5073b95fe995ab0c40e141df</th>\n      <td>d4246aa2edf0b14a5073b95fe995ab0c40e141df</td>\n      <td>exponential_weighted_estimator_shrinkage</td>\n      <td>CardMVO</td>\n      <td>ETF</td>\n      <td>Univariate</td>\n      <td>SPY</td>\n      <td>False</td>\n      <td>29</td>\n      <td>SunJan212024</td>\n      <td>0.1</td>\n      <td>...</td>\n      <td>1</td>\n      <td>3</td>\n      <td>0.6838</td>\n      <td>False</td>\n      <td>premium_target</td>\n      <td>['premium']</td>\n      <td>250</td>\n      <td>1</td>\n      <td>True</td>\n      <td>1</td>\n    </tr>\n    <tr>\n      <th>ed9c912e418003847eb15bab7cd60faf0c5d0a80</th>\n      <td>ed9c912e418003847eb15bab7cd60faf0c5d0a80</td>\n      <td>exponential_weighted_estimator_shrinkage</td>\n      <td>CardMVO</td>\n      <td>ETF</td>\n      <td>Univariate</td>\n      <td>SPY</td>\n      <td>False</td>\n      <td>29</td>\n      <td>SunJan212024</td>\n      <td>0.1</td>\n      <td>...</td>\n      <td>1</td>\n      <td>3</td>\n      <td>0.6838</td>\n      <td>False</td>\n      <td>premium_target</td>\n      <td>['premium']</td>\n      <td>250</td>\n      <td>1</td>\n      <td>True</td>\n      <td>1.25</td>\n    </tr>\n    <tr>\n      <th>da86113ebd72c5022bdadff51effbcc2f4bab3d3</th>\n      <td>da86113ebd72c5022bdadff51effbcc2f4bab3d3</td>\n      <td>exponential_weighted_estimator_shrinkage</td>\n      <td>CardMVO</td>\n      <td>ETF</td>\n      <td>Univariate</td>\n      <td>SPY</td>\n      <td>False</td>\n      <td>29</td>\n      <td>SunJan212024</td>\n      <td>0.1</td>\n      <td>...</td>\n      <td>1</td>\n      <td>3</td>\n      <td>0.6838</td>\n      <td>False</td>\n      <td>premium_target</td>\n      <td>['premium']</td>\n      <td>250</td>\n      <td>1</td>\n      <td>True</td>\n      <td>0.75</td>\n    </tr>\n    <tr>\n      <th>8b2ac8b792652d4817c40193c5625ca89446319b</th>\n      <td>8b2ac8b792652d4817c40193c5625ca89446319b</td>\n      <td>exponential_weighted_estimator_shrinkage</td>\n      <td>CardMVO</td>\n      <td>ETF</td>\n      <td>Univariate</td>\n      <td>SPY</td>\n      <td>False</td>\n      <td>29</td>\n      <td>SunJan212024</td>\n      <td>0.1</td>\n      <td>...</td>\n      <td>1</td>\n      <td>3</td>\n      <td>0.6838</td>\n      <td>False</td>\n      <td>premium_target</td>\n      <td>['premium']</td>\n      <td>250</td>\n      <td>1</td>\n      <td>True</td>\n      <td>1</td>\n    </tr>\n    <tr>\n      <th>6a0eafa19be68db123ce988ebf3fe3b6ca00937f</th>\n      <td>6a0eafa19be68db123ce988ebf3fe3b6ca00937f</td>\n      <td>exponential_weighted_estimator_shrinkage</td>\n      <td>CardMVO</td>\n      <td>ETF</td>\n      <td>Univariate</td>\n      <td>SPY</td>\n      <td>False</td>\n      <td>29</td>\n      <td>SunJan212024</td>\n      <td>0.1</td>\n      <td>...</td>\n      <td>1</td>\n      <td>3</td>\n      <td>0.6838</td>\n      <td>False</td>\n      <td>premium_target</td>\n      <td>['premium']</td>\n      <td>250</td>\n      <td>1</td>\n      <td>True</td>\n      <td>1.25</td>\n    </tr>\n    <tr>\n      <th>b5ff98aa291d0c0472d9e1c7ed4c508a1fef9c91</th>\n      <td>b5ff98aa291d0c0472d9e1c7ed4c508a1fef9c91</td>\n      <td>exponential_weighted_estimator_shrinkage</td>\n      <td>CardMVO</td>\n      <td>ETF</td>\n      <td>Univariate</td>\n      <td>SPY</td>\n      <td>False</td>\n      <td>29</td>\n      <td>SunJan212024</td>\n      <td>0.1</td>\n      <td>...</td>\n      <td>1</td>\n      <td>3</td>\n      <td>0.6838</td>\n      <td>False</td>\n      <td>premium_target</td>\n      <td>['premium']</td>\n      <td>250</td>\n      <td>1</td>\n      <td>True</td>\n      <td>0.75</td>\n    </tr>\n    <tr>\n      <th>06f0eb8cba1d8c76637a7b45d7a9b3e2e593aad9</th>\n      <td>06f0eb8cba1d8c76637a7b45d7a9b3e2e593aad9</td>\n      <td>exponential_weighted_estimator_shrinkage</td>\n      <td>CardMVO</td>\n      <td>ETF</td>\n      <td>Univariate</td>\n      <td>SPY</td>\n      <td>False</td>\n      <td>29</td>\n      <td>SunJan212024</td>\n      <td>0.1</td>\n      <td>...</td>\n      <td>1</td>\n      <td>3</td>\n      <td>0.6838</td>\n      <td>False</td>\n      <td>premium_target</td>\n      <td>['premium']</td>\n      <td>250</td>\n      <td>1</td>\n      <td>True</td>\n      <td>1</td>\n    </tr>\n    <tr>\n      <th>d7eb264863be992262364024e91d68dfbe5bb50b</th>\n      <td>d7eb264863be992262364024e91d68dfbe5bb50b</td>\n      <td>exponential_weighted_estimator_shrinkage</td>\n      <td>CardMVO</td>\n      <td>ETF</td>\n      <td>Univariate</td>\n      <td>SPY</td>\n      <td>False</td>\n      <td>29</td>\n      <td>SunJan212024</td>\n      <td>0.1</td>\n      <td>...</td>\n      <td>1</td>\n      <td>3</td>\n      <td>0.6838</td>\n      <td>False</td>\n      <td>premium_target</td>\n      <td>['premium']</td>\n      <td>250</td>\n      <td>1</td>\n      <td>True</td>\n      <td>1.25</td>\n    </tr>\n    <tr>\n      <th>f3a191d2e5e221646dbc9afb33b35198ecb05e7d</th>\n      <td>f3a191d2e5e221646dbc9afb33b35198ecb05e7d</td>\n      <td>exponential_weighted_estimator_shrinkage</td>\n      <td>CardMVO</td>\n      <td>ETF</td>\n      <td>Univariate</td>\n      <td>SPY</td>\n      <td>False</td>\n      <td>29</td>\n      <td>SunJan212024</td>\n      <td>0.1</td>\n      <td>...</td>\n      <td>1</td>\n      <td>3</td>\n      <td>0.6838</td>\n      <td>False</td>\n      <td>premium_target</td>\n      <td>['premium']</td>\n      <td>250</td>\n      <td>1</td>\n      <td>True</td>\n      <td>0.75</td>\n    </tr>\n    <tr>\n      <th>1dba5102e66439b9f9771a0398854e97bb2f7fed</th>\n      <td>1dba5102e66439b9f9771a0398854e97bb2f7fed</td>\n      <td>exponential_weighted_estimator_shrinkage</td>\n      <td>CardMVO</td>\n      <td>ETF</td>\n      <td>Univariate</td>\n      <td>SPY</td>\n      <td>False</td>\n      <td>29</td>\n      <td>SunJan212024</td>\n      <td>0.1</td>\n      <td>...</td>\n      <td>1</td>\n      <td>3</td>\n      <td>0.6838</td>\n      <td>False</td>\n      <td>premium_target</td>\n      <td>['premium']</td>\n      <td>250</td>\n      <td>1</td>\n      <td>True</td>\n      <td>1</td>\n    </tr>\n    <tr>\n      <th>9eb2fce6e654cde02f6e432e8157e0ef8d4883a9</th>\n      <td>9eb2fce6e654cde02f6e432e8157e0ef8d4883a9</td>\n      <td>exponential_weighted_estimator_shrinkage</td>\n      <td>CardMVO</td>\n      <td>ETF</td>\n      <td>Univariate</td>\n      <td>SPY</td>\n      <td>False</td>\n      <td>29</td>\n      <td>SunJan212024</td>\n      <td>0.1</td>\n      <td>...</td>\n      <td>1</td>\n      <td>3</td>\n      <td>0.6838</td>\n      <td>False</td>\n      <td>premium_target</td>\n      <td>['premium']</td>\n      <td>250</td>\n      <td>1</td>\n      <td>True</td>\n      <td>1.25</td>\n    </tr>\n    <tr>\n      <th>c4a99d2b7a9e91632c3efab317727d092fe5fd11</th>\n      <td>c4a99d2b7a9e91632c3efab317727d092fe5fd11</td>\n      <td>exponential_weighted_estimator_shrinkage</td>\n      <td>CardMVO</td>\n      <td>ETF</td>\n      <td>Univariate</td>\n      <td>SPY</td>\n      <td>False</td>\n      <td>29</td>\n      <td>SunJan212024</td>\n      <td>0.1</td>\n      <td>...</td>\n      <td>1</td>\n      <td>1</td>\n      <td>0.6838</td>\n      <td>False</td>\n      <td>premium_target</td>\n      <td>['premium']</td>\n      <td>250</td>\n      <td>1</td>\n      <td>True</td>\n      <td>0.75</td>\n    </tr>\n    <tr>\n      <th>e6f523f32838815f8d6eb486372092b77d332202</th>\n      <td>e6f523f32838815f8d6eb486372092b77d332202</td>\n      <td>exponential_weighted_estimator_shrinkage</td>\n      <td>CardMVO</td>\n      <td>ETF</td>\n      <td>Univariate</td>\n      <td>SPY</td>\n      <td>False</td>\n      <td>29</td>\n      <td>SunJan212024</td>\n      <td>0.1</td>\n      <td>...</td>\n      <td>1</td>\n      <td>1</td>\n      <td>0.6838</td>\n      <td>False</td>\n      <td>premium_target</td>\n      <td>['premium']</td>\n      <td>250</td>\n      <td>1</td>\n      <td>True</td>\n      <td>1</td>\n    </tr>\n    <tr>\n      <th>dc51722fd7fc1257f10e54dbc221867ec8f5c0e7</th>\n      <td>dc51722fd7fc1257f10e54dbc221867ec8f5c0e7</td>\n      <td>exponential_weighted_estimator_shrinkage</td>\n      <td>CardMVO</td>\n      <td>ETF</td>\n      <td>Univariate</td>\n      <td>SPY</td>\n      <td>False</td>\n      <td>29</td>\n      <td>SunJan212024</td>\n      <td>0.1</td>\n      <td>...</td>\n      <td>1</td>\n      <td>1</td>\n      <td>0.6838</td>\n      <td>False</td>\n      <td>premium_target</td>\n      <td>['premium']</td>\n      <td>250</td>\n      <td>1</td>\n      <td>True</td>\n      <td>1.25</td>\n    </tr>\n  </tbody>\n</table>\n<p>36 rows × 40 columns</p>\n</div>"
     },
     "execution_count": 32,
     "metadata": {},
     "output_type": "execute_result"
    }
   ],
   "source": [
    "df"
   ],
   "metadata": {
    "collapsed": false,
    "ExecuteTime": {
     "end_time": "2024-02-23T16:33:21.037316800Z",
     "start_time": "2024-02-23T16:33:21.013237600Z"
    }
   }
  },
  {
   "cell_type": "code",
   "execution_count": 16,
   "outputs": [],
   "source": [
    " "
   ],
   "metadata": {
    "collapsed": false,
    "ExecuteTime": {
     "end_time": "2024-02-22T06:27:55.505393Z",
     "start_time": "2024-02-22T06:27:55.458479700Z"
    }
   }
  }
 ],
 "metadata": {
  "kernelspec": {
   "display_name": "Python 3",
   "language": "python",
   "name": "python3"
  },
  "language_info": {
   "codemirror_mode": {
    "name": "ipython",
    "version": 2
   },
   "file_extension": ".py",
   "mimetype": "text/x-python",
   "name": "python",
   "nbconvert_exporter": "python",
   "pygments_lexer": "ipython2",
   "version": "2.7.6"
  }
 },
 "nbformat": 4,
 "nbformat_minor": 0
}
