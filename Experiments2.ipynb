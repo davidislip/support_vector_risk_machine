{
 "cells": [
  {
   "cell_type": "markdown",
   "source": [
    "\n",
    "# Running the Experiments\n",
    "\n",
    "# 1. Read input files"
   ],
   "metadata": {
    "collapsed": false
   }
  },
  {
   "cell_type": "code",
   "execution_count": 1,
   "outputs": [
    {
     "name": "stdout",
     "output_type": "stream",
     "text": [
      "['asset_id', 'currency_id', 'equities_series', 'equity_index_id', 'exchange_id', 'factor_id', 'factors', 'frequency_id', 'fundamentals', 'metric_id', 'source_id', 'ticker_id', 'ticker_index_membership', 'tiingo_tickers']\n"
     ]
    }
   ],
   "source": [
    "import time\n",
    "import math\n",
    "\n",
    "import numpy as np\n",
    "import pandas as pd\n",
    "from itertools import product\n",
    "from Database.services.database import Database\n",
    "from sqlalchemy import inspect\n",
    "from services.data_retreival import *\n",
    "from scipy.stats import gmean\n",
    "import matplotlib.pyplot as plt\n",
    "from services.strategies import *\n",
    "from services.optimization_layers import *\n",
    "from services.optimization import *\n",
    "from services.binary_optimization import *\n",
    "from services.environment_functions import *\n",
    "from services.big_m_strategies import *\n",
    "from services.experiments import *\n",
    "from services.class_weighted_bigM import *\n",
    "from services.class_weighted_models import *\n",
    "\n",
    "Database.initialize(\"sqlite:///Database//financial_db.sqlite\") #for courses replace this with a flat file\n",
    "inspector = inspect(Database.engine)\n",
    "print(inspector.get_table_names())\n",
    "\n",
    "universe = 'ETF'\n",
    "imputation_method = 'Univariate'\n",
    "ticker_str = 'SPY'\n",
    "#exponential params\n",
    "\n",
    "\n",
    "adjClose = pd.read_csv(\"flat_files/MonthlyAssetPrices\"+ universe + \".csv\", index_col=0, header = 1).iloc[1:,:]\n",
    "\n",
    "daily_adjClose =  pd.read_csv(\"flat_files/DailyAssetPrices\"+universe + \".csv\", index_col=0, header = 1).iloc[1:,:]\n",
    "\n",
    "TechnicalAnalysis = pd.read_csv(\"flat_files/TechnicalAnalysis\" + universe + \".csv\", index_col=[0,1])\n",
    "\n",
    "if universe ==  'SP':\n",
    "    FinancialRatios = pd.read_csv(\"flat_files/\" + imputation_method + \"WRDS.csv\", index_col=[0,1])\n",
    "    TechnicalAnalysis.index.names = FinancialRatios.index.names\n",
    "    ContextualInfo = TechnicalAnalysis.merge(FinancialRatios, how = 'left', left_index=True, right_index=True)\n",
    "\n",
    "else:\n",
    "    TechnicalAnalysis.index.names = ['date', 'ticker']\n",
    "    ContextualInfo = TechnicalAnalysis\n"
   ],
   "metadata": {
    "collapsed": false,
    "ExecuteTime": {
     "end_time": "2024-03-14T02:11:52.556627Z",
     "start_time": "2024-03-14T02:11:49.708325300Z"
    }
   }
  },
  {
   "cell_type": "code",
   "execution_count": 2,
   "outputs": [],
   "source": [
    "adjClose.index = pd.to_datetime(adjClose.index, format='%Y-%m-%d').tz_localize(None)\n",
    "daily_adjClose.index = pd.to_datetime(daily_adjClose.index, format='%Y-%m-%d').tz_localize(None)\n",
    "ContextualInfo.index = ContextualInfo.index.set_levels([pd.to_datetime(ContextualInfo.index.levels[0]).tz_localize(None), ContextualInfo.index.levels[1]])"
   ],
   "metadata": {
    "collapsed": false,
    "ExecuteTime": {
     "end_time": "2024-03-14T02:11:52.572455400Z",
     "start_time": "2024-03-14T02:11:52.558702700Z"
    }
   }
  },
  {
   "cell_type": "code",
   "execution_count": 3,
   "outputs": [
    {
     "name": "stdout",
     "output_type": "stream",
     "text": [
      "The earliest possible start date\n"
     ]
    },
    {
     "data": {
      "text/plain": "Timestamp('2006-01-31 00:00:00')"
     },
     "execution_count": 3,
     "metadata": {},
     "output_type": "execute_result"
    }
   ],
   "source": [
    "print(\"The earliest possible start date\")\n",
    "max(daily_adjClose.index.unique()[0], ContextualInfo.index.get_level_values('date').unique()[0], adjClose.index.unique()[0])"
   ],
   "metadata": {
    "collapsed": false,
    "ExecuteTime": {
     "end_time": "2024-03-14T02:11:52.602393400Z",
     "start_time": "2024-03-14T02:11:52.574580300Z"
    }
   }
  },
  {
   "cell_type": "code",
   "execution_count": 4,
   "outputs": [
    {
     "name": "stdout",
     "output_type": "stream",
     "text": [
      "The latest possible start date\n"
     ]
    },
    {
     "data": {
      "text/plain": "Timestamp('2023-04-21 00:00:00')"
     },
     "execution_count": 4,
     "metadata": {},
     "output_type": "execute_result"
    }
   ],
   "source": [
    "print(\"The latest possible start date\")\n",
    "min(daily_adjClose.index.unique()[-1], ContextualInfo.index.get_level_values('date').unique()[-1], adjClose.index.unique()[-1])"
   ],
   "metadata": {
    "collapsed": false,
    "ExecuteTime": {
     "end_time": "2024-03-14T02:11:52.607855800Z",
     "start_time": "2024-03-14T02:11:52.589465500Z"
    }
   }
  },
  {
   "cell_type": "code",
   "execution_count": 5,
   "outputs": [],
   "source": [
    "# start_date = pd.to_datetime('1996-11-30', format = '%Y-%m-%d')\n",
    "# \n",
    "# end_date = pd.to_datetime('2022-12-31', format = '%Y-%m-%d')\n",
    "\n",
    "start_date = pd.to_datetime('2006-05-31', format = '%Y-%m-%d')\n",
    "\n",
    "end_date = pd.to_datetime('2022-12-31', format = '%Y-%m-%d')\n",
    "\n",
    "factors = ('Mkt-RF', 'RF')\n",
    "\n",
    "factorRet = get_monthly_factors(factors, start_date, end_date, Database)\n",
    "\n",
    "factorRet = factorRet.droplevel(0, axis = 1)\n",
    "factorRet.columns = [col.strip() for col in factorRet.columns]"
   ],
   "metadata": {
    "collapsed": false,
    "ExecuteTime": {
     "end_time": "2024-03-14T02:11:54.816586100Z",
     "start_time": "2024-03-14T02:11:52.607654400Z"
    }
   }
  },
  {
   "cell_type": "code",
   "execution_count": 6,
   "outputs": [],
   "source": [
    "adjClose = adjClose[start_date:end_date]\n",
    "daily_adjClose = daily_adjClose[start_date:end_date]\n",
    "idx = pd.IndexSlice\n",
    "ContextualInfo = ContextualInfo.loc[idx[start_date:end_date, :], :]"
   ],
   "metadata": {
    "collapsed": false,
    "ExecuteTime": {
     "end_time": "2024-03-14T02:11:54.832493300Z",
     "start_time": "2024-03-14T02:11:54.817711900Z"
    }
   }
  },
  {
   "cell_type": "code",
   "execution_count": 7,
   "outputs": [],
   "source": [
    "# Initial budget to invest ($100,000)\n",
    "initialVal = 100000\n",
    "\n",
    "# Length of investment period (in months) - but actually units of data\n",
    "investPeriod = 6\n",
    "\n",
    "# divide the factor returns by 100\n",
    "factorRet = factorRet/100\n",
    "\n",
    "#rf and factor returns\n",
    "#drop the first observation to align the dataset with the returns data that will\n",
    "#result\n",
    "factorRet = factorRet.iloc[1:, :]\n",
    "\n",
    "#rf and factor returns\n",
    "riskFree = factorRet['RF']\n",
    "factorRet = factorRet.loc[:,factorRet.columns != 'RF'];"
   ],
   "metadata": {
    "collapsed": false,
    "ExecuteTime": {
     "end_time": "2024-03-14T02:11:54.850445400Z",
     "start_time": "2024-03-14T02:11:54.833585200Z"
    }
   }
  },
  {
   "cell_type": "code",
   "execution_count": 8,
   "outputs": [],
   "source": [
    "#Identify the tickers and the dates\n",
    "tickers = adjClose.columns\n",
    "dates   = factorRet.index"
   ],
   "metadata": {
    "collapsed": false,
    "ExecuteTime": {
     "end_time": "2024-03-14T02:11:54.864247400Z",
     "start_time": "2024-03-14T02:11:54.850445400Z"
    }
   }
  },
  {
   "cell_type": "code",
   "execution_count": 9,
   "outputs": [],
   "source": [
    "# Calculate the stocks monthly excess returns\n",
    "# pct change and drop the first null observation\n",
    "returns = adjClose.pct_change(1).iloc[1:, :]\n",
    "returns = returns  - np.diag(riskFree.values) @ np.ones_like(returns.values) # risk adjusted returns\n",
    "# Align the price table to the asset and factor returns tables by discarding the first observation.\n",
    "adjClose = adjClose.iloc[1:,:]"
   ],
   "metadata": {
    "collapsed": false,
    "ExecuteTime": {
     "end_time": "2024-03-14T02:11:54.882202200Z",
     "start_time": "2024-03-14T02:11:54.866429700Z"
    }
   }
  },
  {
   "cell_type": "code",
   "execution_count": 10,
   "outputs": [],
   "source": [
    "assert adjClose.index[0] == returns.index[0]\n",
    "assert adjClose.index[0] == factorRet.index[0]"
   ],
   "metadata": {
    "collapsed": false,
    "ExecuteTime": {
     "end_time": "2024-03-14T02:11:54.895769200Z",
     "start_time": "2024-03-14T02:11:54.881160500Z"
    }
   }
  },
  {
   "cell_type": "markdown",
   "source": [
    "# 2. Run your program\n",
    "\n",
    "This section will run your Project1_Function in a loop. The data will be loaded progressively as a growing window of historical observations.\n",
    "Rebalancing will take place after every loop\n",
    "\n",
    "### 2.1 Some Standard Allocation Strategies"
   ],
   "metadata": {
    "collapsed": false
   }
  },
  {
   "cell_type": "code",
   "execution_count": 11,
   "outputs": [],
   "source": [
    "# Some strategies (uncomment this or the next cell to pick a strategy to test)\n",
    "# Strategy = general_strategy(sample_estimator, MVO, NumObs=48)  #the general strategy object takes an estimator function and an optimizer function\n",
    "#                                                                #the only constraint is that the estimators outputs are the optimizers inputs\n",
    "# investor preferences (static throughout the backtest)\n",
    "run = 'SunJan212024'\n",
    "hyperparam_search = False # True if model has hyperparams\n",
    "optimizer = ClassWgtSVMMVO # CardMVO , MVO\n",
    "estimator = exponential_weighted_estimator_shrinkage #\n",
    "EstNumObs = 750\n",
    "k = 6*20 #estimation horizon\n",
    "alpha= 1 - 0.990 #estimation decay\n",
    "return_premium = 0.25 #optimization premium\n",
    "\n",
    "turnover_constraints = True\n",
    "turnover_limit = 0.75 # 0.75, 1, 1.25\n",
    "cardinality_ratio = 0.1 #optimization\n",
    "\n",
    "MipGap = 0.05 # for portfolio optimizer\n",
    "limit_time = 20 # for portfolio optimizer\n",
    "\n",
    "target_return_strategy = premium_target # for portfolio optimizer to calculate return target\n",
    "# mean_target, premium_target, ticker_return_target\n",
    "target_return_strategy_args = ['premium'] # args for the return strategy\n",
    "\n",
    "bigMStrategy = ClassWgtHyperparameterBigMStrategyV2 #objectiveBigMStrategy #objectiveBigMStrategyTightening , objectiveBigMStrategy\n",
    "\n",
    "bigM_limit_time=20 # for the feasible solution used to calculate big M\n",
    "bigM_MipGap=0.05 # for the feasible solution used to calculate big M\n",
    "bigM_SolutionLimit=10 # for the feasible solution used to calculate big <\n",
    "\n",
    "SkipSOCP = True # flag to skip the SOCP\n",
    "tightening_iter_lim = 1 # number of iterations of tightening to do\n",
    "\n",
    "SVMMVO_bigM_time_limit = 5 # for computing a better solution in the tightening strategy\n",
    "SVMMVO_MipGap=0.1 # for computing a better solution in the tightening strategy\n",
    "SVMMVO_SolutionLimit=5 # for computing a better solution in the tightening strategy\n",
    "\n",
    "SOCP_limit_time=10 # time limit for the SOCP's\n",
    "\n",
    "ticker_index = tickers.get_loc(ticker_str) # the ticker we want to compare to if\n",
    "#  we are using the ticker_return_target strategy\n",
    "\n",
    "q = 20 #subset of features\n",
    "\n",
    "C = 0.1 # separation importance\n",
    "epsilon = 0.1 # regularization amount for SVM\n",
    "\n",
    "separable = False # do not restrict the hyperplane to be separable\n",
    "\n",
    "LogToConsole = False # display optimization results in the console\n",
    "Verbose = False # print statements\n",
    "\n",
    "hyperparams = {'C': list(np.geomspace(0.1, 100, 4)), 'epsilon': list(np.geomspace(0.1, 100, 4))} # hyperparams for hyperparam search\n",
    "#q_alpha = 0.3187 # alpha for Q(t, a) = (1 - q_alpha) Q(t-1. a) + R(t, a)\n",
    "q_alpha = 0.6838\n",
    "\n",
    "kappa = 1.6 # 10 % risk/turnover tolerance plan: 0.1, 0.2, 0.4, 0.8, 1.6 (0.6, 1.0)\n",
    "\n",
    "investor_preferences = {'k':k, # horizon\n",
    "                        'alpha':alpha, # decay\n",
    "                        'premium':return_premium, # return premium preference\n",
    "                        'EstNumObs':EstNumObs,\n",
    "                        'ticker_index':ticker_index, # benchmark index for comparison used in place of return premium depending on the investors function to set r_min\n",
    "                        'target_return_strategy':target_return_strategy, # strategy for setting return\n",
    "                        'target_return_strategy_args': target_return_strategy_args, # args for return setting strategy\n",
    "                        'turnover_limit':turnover_limit, # turnover limit\n",
    "                        'turnover_constraints':turnover_constraints, # turnover limit choice (Y/N)\n",
    "                        'cardinality_ratio': cardinality_ratio, # Pct of assets to invest in\n",
    "                        'MipGap' : MipGap, 'limit_time':limit_time, # problem solving limits\n",
    "    \n",
    "                        'bigMStrategy':bigMStrategy,\n",
    "                        'bigM_limit_time':bigM_limit_time,\n",
    "                        'bigM_MipGap':bigM_MipGap,\n",
    "                        'bigM_SolutionLimit':bigM_SolutionLimit,\n",
    "\n",
    "                        'SkipSOCP':SkipSOCP,\n",
    "                        'tightening_iter_lim':tightening_iter_lim,\n",
    "\n",
    "                        'SVMMVO_bigM_time_limit':SVMMVO_bigM_time_limit,\n",
    "                        'SVMMVO_MipGap':SVMMVO_MipGap,\n",
    "                        'SVMMVO_SolutionLimit':SVMMVO_SolutionLimit,\n",
    "\n",
    "                        'SOCP_limit_time':SOCP_limit_time,\n",
    "                        'q':q,\n",
    "                        'C':C,\n",
    "                        'epsilon':epsilon,\n",
    "                        'separable':separable,\n",
    "                        'LogToConsole':LogToConsole,\n",
    "                        'Verbose':Verbose,\n",
    "                        'hyperparams':hyperparams,\n",
    "                        'q_alpha':q_alpha,\n",
    "                        'kappa':kappa}\n"
   ],
   "metadata": {
    "collapsed": false,
    "ExecuteTime": {
     "end_time": "2024-03-14T02:11:54.913667300Z",
     "start_time": "2024-03-14T02:11:54.901026900Z"
    }
   }
  },
  {
   "cell_type": "markdown",
   "source": [
    "\n"
   ],
   "metadata": {
    "collapsed": false
   }
  },
  {
   "cell_type": "code",
   "execution_count": 12,
   "outputs": [
    {
     "name": "stdout",
     "output_type": "stream",
     "text": [
      "Experiments//ETF//ClassWgtSVMMVO//20\n"
     ]
    }
   ],
   "source": [
    "if optimizer.__name__ == 'CardMVO':\n",
    "    path = \"Experiments//\"+universe+\"//\"+optimizer.__name__\n",
    "    print(path)\n",
    "elif optimizer.__name__ == 'SVMMVO':\n",
    "    path = \"Experiments//\"+universe+\"//\"+optimizer.__name__+\"//\"+str(q)\n",
    "    print(path)\n",
    "elif optimizer.__name__ == 'ClassWgtSVMMVO':\n",
    "    path = \"Experiments//\"+universe+\"//\"+optimizer.__name__+\"//\"+str(q)\n",
    "    print(path)\n",
    "else:\n",
    "    raise Exception(\"Model Type not supported for these experiments\")\n",
    "df = init_dataframe(investor_preferences, path)"
   ],
   "metadata": {
    "collapsed": false,
    "ExecuteTime": {
     "end_time": "2024-03-14T02:11:56.661975200Z",
     "start_time": "2024-03-14T02:11:54.913667300Z"
    }
   }
  },
  {
   "cell_type": "code",
   "execution_count": 17,
   "outputs": [
    {
     "name": "stdout",
     "output_type": "stream",
     "text": [
      "Testing configuration  (0.07, 1.25)\n",
      "Test Start 2008-06-30 00:00:00\n",
      "Test End 2008-11-30 00:00:00\n",
      "Calibration End 2008-06-29 00:00:00\n",
      "Set parameter TimeLimit to value 20\n",
      "Set parameter MIPGap to value 0.05\n",
      "Set parameter TimeLimit to value 20\n",
      "Set parameter FeasibilityTol to value 1e-08\n",
      "Set parameter TimeLimit to value 20\n",
      "Set parameter FeasibilityTol to value 1e-08\n",
      "Set parameter MIPGap to value 0.05\n",
      "Set parameter TimeLimit to value 20\n",
      "Set parameter MIPGap to value 0.05\n",
      "Set parameter TimeLimit to value 20\n",
      "Set parameter FeasibilityTol to value 1e-08\n",
      "Set parameter TimeLimit to value 20\n",
      "Set parameter FeasibilityTol to value 1e-08\n",
      "Set parameter MIPGap to value 0.05\n",
      "Set parameter TimeLimit to value 20\n",
      "Set parameter MIPGap to value 0.05\n",
      "Set parameter TimeLimit to value 20\n",
      "Set parameter FeasibilityTol to value 1e-08\n",
      "Set parameter TimeLimit to value 20\n",
      "Set parameter FeasibilityTol to value 1e-08\n",
      "Set parameter MIPGap to value 0.05\n",
      "Set parameter TimeLimit to value 20\n",
      "Set parameter MIPGap to value 0.05\n",
      "Set parameter TimeLimit to value 20\n",
      "Set parameter FeasibilityTol to value 1e-08\n",
      "Set parameter TimeLimit to value 20\n",
      "Set parameter FeasibilityTol to value 1e-08\n",
      "Set parameter MIPGap to value 0.05\n",
      "Set parameter TimeLimit to value 20\n",
      "Set parameter MIPGap to value 0.05\n",
      "Set parameter TimeLimit to value 20\n",
      "Set parameter FeasibilityTol to value 1e-08\n",
      "Set parameter TimeLimit to value 20\n",
      "Set parameter FeasibilityTol to value 1e-08\n",
      "Set parameter MIPGap to value 0.05\n",
      "Set parameter TimeLimit to value 20\n",
      "Set parameter MIPGap to value 0.05\n",
      "Set parameter TimeLimit to value 20\n",
      "Set parameter FeasibilityTol to value 1e-08\n",
      "Set parameter TimeLimit to value 20\n",
      "Set parameter FeasibilityTol to value 1e-08\n",
      "Set parameter MIPGap to value 0.05\n",
      "Set parameter TimeLimit to value 20\n",
      "Set parameter MIPGap to value 0.05\n",
      "Set parameter TimeLimit to value 20\n",
      "Set parameter FeasibilityTol to value 1e-08\n",
      "Set parameter TimeLimit to value 20\n",
      "Set parameter FeasibilityTol to value 1e-08\n",
      "Set parameter MIPGap to value 0.05\n",
      "Set parameter TimeLimit to value 20\n",
      "Set parameter MIPGap to value 0.05\n",
      "Set parameter TimeLimit to value 20\n",
      "Set parameter FeasibilityTol to value 1e-08\n",
      "Set parameter TimeLimit to value 20\n",
      "Set parameter FeasibilityTol to value 1e-08\n",
      "Set parameter MIPGap to value 0.05\n",
      "Set parameter TimeLimit to value 20\n",
      "Set parameter MIPGap to value 0.05\n",
      "Set parameter TimeLimit to value 20\n",
      "Set parameter FeasibilityTol to value 1e-08\n",
      "Set parameter TimeLimit to value 20\n",
      "Set parameter FeasibilityTol to value 1e-08\n",
      "Set parameter MIPGap to value 0.05\n",
      "Set parameter TimeLimit to value 20\n",
      "Set parameter MIPGap to value 0.05\n",
      "Set parameter TimeLimit to value 20\n",
      "Set parameter FeasibilityTol to value 1e-08\n",
      "Set parameter TimeLimit to value 20\n",
      "Set parameter FeasibilityTol to value 1e-08\n",
      "Set parameter MIPGap to value 0.05\n",
      "Set parameter TimeLimit to value 20\n",
      "Set parameter MIPGap to value 0.05\n",
      "Set parameter TimeLimit to value 20\n",
      "Set parameter FeasibilityTol to value 1e-08\n",
      "Set parameter TimeLimit to value 20\n",
      "Set parameter FeasibilityTol to value 1e-08\n",
      "Set parameter MIPGap to value 0.05\n",
      "Set parameter TimeLimit to value 20\n",
      "Set parameter MIPGap to value 0.05\n",
      "Set parameter TimeLimit to value 20\n",
      "Set parameter FeasibilityTol to value 1e-08\n",
      "Set parameter TimeLimit to value 20\n",
      "Set parameter FeasibilityTol to value 1e-08\n",
      "Set parameter MIPGap to value 0.05\n",
      "Set parameter TimeLimit to value 20\n",
      "Set parameter MIPGap to value 0.05\n",
      "Set parameter TimeLimit to value 20\n",
      "Set parameter FeasibilityTol to value 1e-08\n",
      "Set parameter TimeLimit to value 20\n",
      "Set parameter FeasibilityTol to value 1e-08\n",
      "Set parameter MIPGap to value 0.05\n",
      "Set parameter TimeLimit to value 20\n",
      "Set parameter MIPGap to value 0.05\n",
      "Set parameter TimeLimit to value 20\n",
      "Set parameter FeasibilityTol to value 1e-08\n",
      "Set parameter TimeLimit to value 20\n",
      "Set parameter FeasibilityTol to value 1e-08\n",
      "Set parameter MIPGap to value 0.05\n",
      "Set parameter TimeLimit to value 20\n",
      "Set parameter MIPGap to value 0.05\n",
      "Set parameter TimeLimit to value 20\n",
      "Set parameter FeasibilityTol to value 1e-08\n",
      "Set parameter TimeLimit to value 20\n",
      "Set parameter FeasibilityTol to value 1e-08\n",
      "Set parameter MIPGap to value 0.05\n",
      "Set parameter TimeLimit to value 20\n",
      "Set parameter MIPGap to value 0.05\n",
      "Set parameter TimeLimit to value 20\n",
      "Set parameter FeasibilityTol to value 1e-08\n",
      "Set parameter TimeLimit to value 20\n",
      "Set parameter FeasibilityTol to value 1e-08\n",
      "Set parameter MIPGap to value 0.05\n",
      "Set parameter TimeLimit to value 20\n",
      "Set parameter MIPGap to value 0.05\n",
      "Set parameter TimeLimit to value 20\n",
      "Set parameter FeasibilityTol to value 1e-08\n",
      "Set parameter TimeLimit to value 20\n",
      "Set parameter FeasibilityTol to value 1e-08\n",
      "Set parameter MIPGap to value 0.05\n",
      "Set parameter TimeLimit to value 20\n",
      "Set parameter MIPGap to value 0.05\n",
      "Set parameter TimeLimit to value 20\n",
      "Set parameter FeasibilityTol to value 1e-08\n",
      "Set parameter TimeLimit to value 20\n",
      "Set parameter FeasibilityTol to value 1e-08\n",
      "Set parameter MIPGap to value 0.05\n",
      "Set parameter TimeLimit to value 20\n",
      "Set parameter MIPGap to value 0.05\n",
      "Set parameter TimeLimit to value 20\n",
      "Set parameter FeasibilityTol to value 1e-08\n",
      "Set parameter TimeLimit to value 20\n",
      "Set parameter FeasibilityTol to value 1e-08\n",
      "Set parameter MIPGap to value 0.05\n",
      "Set parameter TimeLimit to value 20\n",
      "Set parameter MIPGap to value 0.05\n",
      "Set parameter TimeLimit to value 20\n",
      "Set parameter FeasibilityTol to value 1e-08\n",
      "Set parameter TimeLimit to value 20\n",
      "Set parameter FeasibilityTol to value 1e-08\n",
      "Set parameter MIPGap to value 0.05\n",
      "Set parameter TimeLimit to value 20\n",
      "Set parameter MIPGap to value 0.05\n",
      "Set parameter TimeLimit to value 20\n",
      "Set parameter FeasibilityTol to value 1e-08\n",
      "Set parameter TimeLimit to value 20\n",
      "Set parameter FeasibilityTol to value 1e-08\n",
      "Set parameter MIPGap to value 0.05\n",
      "Set parameter TimeLimit to value 20\n",
      "Set parameter MIPGap to value 0.05\n",
      "Set parameter TimeLimit to value 20\n",
      "Set parameter FeasibilityTol to value 1e-08\n",
      "Set parameter TimeLimit to value 20\n",
      "Set parameter FeasibilityTol to value 1e-08\n",
      "Set parameter MIPGap to value 0.05\n",
      "Set parameter TimeLimit to value 20\n",
      "Set parameter MIPGap to value 0.05\n",
      "Set parameter TimeLimit to value 20\n",
      "Set parameter FeasibilityTol to value 1e-08\n",
      "Set parameter TimeLimit to value 20\n",
      "Set parameter FeasibilityTol to value 1e-08\n",
      "Set parameter MIPGap to value 0.05\n",
      "Set parameter TimeLimit to value 20\n",
      "Set parameter MIPGap to value 0.05\n",
      "Set parameter TimeLimit to value 20\n",
      "Set parameter FeasibilityTol to value 1e-08\n",
      "Set parameter TimeLimit to value 20\n",
      "Set parameter FeasibilityTol to value 1e-08\n",
      "Set parameter MIPGap to value 0.05\n",
      "Set parameter TimeLimit to value 20\n",
      "Set parameter MIPGap to value 0.05\n",
      "Set parameter TimeLimit to value 20\n",
      "Set parameter FeasibilityTol to value 1e-08\n",
      "Set parameter TimeLimit to value 20\n",
      "Set parameter FeasibilityTol to value 1e-08\n",
      "Set parameter MIPGap to value 0.05\n",
      "Set parameter TimeLimit to value 20\n",
      "Set parameter MIPGap to value 0.05\n",
      "Set parameter TimeLimit to value 20\n",
      "Set parameter FeasibilityTol to value 1e-08\n",
      "Set parameter TimeLimit to value 20\n",
      "Set parameter FeasibilityTol to value 1e-08\n",
      "Set parameter MIPGap to value 0.05\n",
      "Set parameter TimeLimit to value 20\n",
      "Set parameter MIPGap to value 0.05\n",
      "Set parameter TimeLimit to value 20\n",
      "Set parameter FeasibilityTol to value 1e-08\n",
      "Set parameter TimeLimit to value 20\n",
      "Set parameter FeasibilityTol to value 1e-08\n",
      "Set parameter MIPGap to value 0.05\n",
      "Set parameter TimeLimit to value 20\n",
      "Set parameter MIPGap to value 0.05\n",
      "Set parameter TimeLimit to value 20\n",
      "Set parameter FeasibilityTol to value 1e-08\n",
      "Set parameter TimeLimit to value 20\n",
      "Set parameter FeasibilityTol to value 1e-08\n",
      "Set parameter MIPGap to value 0.05\n",
      "Set parameter TimeLimit to value 20\n",
      "Set parameter MIPGap to value 0.05\n",
      "Set parameter TimeLimit to value 20\n",
      "Set parameter FeasibilityTol to value 1e-08\n",
      "Set parameter TimeLimit to value 20\n",
      "Set parameter FeasibilityTol to value 1e-08\n",
      "Set parameter MIPGap to value 0.05\n",
      "Completed configuration  (0.07, 1.25)\n"
     ]
    }
   ],
   "source": [
    "from IPython.display import clear_output\n",
    "\n",
    "kappas = [0.05, 0.1]\n",
    "cardinality_ratios = [0.05, 0.07] #[0.07, 0.1, 0.2, 0.4, 0.6, 0.8] # includes mvo\n",
    "turnover_limits = [0.75, 1, 1.25]\n",
    "return_premiums = [0.25, 0.5, 1, 1.5]\n",
    "\n",
    "for cardinality_ratio, turnover_limit, kappa, premium in product(cardinality_ratios, turnover_limits, kappas, return_premiums):\n",
    "    \n",
    "    clear_output(wait=True)\n",
    "\n",
    "    # initialize strategy\n",
    "    investor_preferences['turnover_limit'] = turnover_limit # turnover limit\n",
    "    investor_preferences['cardinality_ratio'] = cardinality_ratio\n",
    "    investor_preferences['kappa'] = kappa\n",
    "    investor_preferences['premium'] = premium\n",
    "    \n",
    "    Strategy = general_strategy(estimator, optimizer,\n",
    "                                investor_preferences = investor_preferences)\n",
    "\n",
    "    Strategy.extract_estimation_info = populate_exponential_weighted_estimator_shrinkage\n",
    "    Strategy.extract_optimization_info = populate_kwargs\n",
    "\n",
    "    env = environment()\n",
    "\n",
    "    # Start of out-of-sample test period\n",
    "    testStart = returns.index[0] + pd.offsets.DateOffset(years=2)\n",
    "\n",
    "    # End of the first investment period\n",
    "    # testEnd = testStart + pd.offsets.DateOffset(months=investPeriod) - pd.offsets.DateOffset(days = 1)\n",
    "    testEnd = testStart + pd.offsets.MonthBegin(investPeriod) - pd.offsets.DateOffset(days = 1)\n",
    "\n",
    "    # End of calibration period\n",
    "    calEnd = testStart -  pd.offsets.DateOffset(days = 1)\n",
    "    print(\"Testing configuration \", (cardinality_ratio, turnover_limit))\n",
    "    print(\"Test Start\", testStart)\n",
    "    print(\"Test End\", testEnd)\n",
    "    print(\"Calibration End\", calEnd)\n",
    "\n",
    "    # Total number of investment periods\n",
    "    NoPeriods = math.ceil((returns.index[-1].to_period('M') - testStart.to_period('M')).n / investPeriod)\n",
    "    n = len(tickers)\n",
    "\n",
    "    portfValue, elapsed_time, turnover, x, backtest_results, hyperparam_hist = execute_backtest(env, Strategy, tickers, returns, factorRet, ContextualInfo,\n",
    "                     adjClose, daily_adjClose, NoPeriods, testStart, testEnd, calEnd, initialVal,\n",
    "                     investPeriod, hyperparam_search = hyperparam_search)\n",
    "    print(\"Completed configuration \", (cardinality_ratio, turnover_limit))\n",
    "    \n",
    "    df, uid = add_to_data_dict(path, df, run, estimator,\n",
    "                 optimizer, universe,\n",
    "                 imputation_method, ticker_str,\n",
    "                 hyperparam_search, NoPeriods, investor_preferences)\n",
    "\n",
    "    export_experimental_results(path, uid, portfValue, elapsed_time, x, turnover)\n",
    "    export_dict(path, uid, backtest_results, 'backtest_results')\n",
    "    export_dict(path, uid, hyperparam_hist, 'hyperparam_hist')\n",
    "\n",
    "    del env\n",
    "    del Strategy"
   ],
   "metadata": {
    "collapsed": false,
    "pycharm": {
     "is_executing": true
    }
   }
  },
  {
   "cell_type": "code",
   "execution_count": 18,
   "outputs": [],
   "source": [
    "curr_df = pd.read_pickle(path+\"//data_dictionary.pkl\")\n",
    "# add experiment info to the data dict\n",
    "df = pd.concat([df, curr_df], axis = 0)\n",
    "\n",
    "df.drop_duplicates(inplace = True)\n",
    "df.to_pickle(path+\"//data_dictionary.pkl\")"
   ],
   "metadata": {
    "collapsed": false,
    "pycharm": {
     "is_executing": true
    },
    "ExecuteTime": {
     "end_time": "2024-03-18T04:48:25.426310500Z",
     "start_time": "2024-03-18T04:48:25.405727300Z"
    }
   }
  },
  {
   "cell_type": "code",
   "execution_count": 19,
   "outputs": [
    {
     "data": {
      "text/plain": "array(['0.05', '0.07', '0.01', '0.03', '0.6', '0.8', '0.2', '0.4', '0.09',\n       '0.1'], dtype=object)"
     },
     "execution_count": 19,
     "metadata": {},
     "output_type": "execute_result"
    }
   ],
   "source": [
    "df.cardinality_ratio.unique()"
   ],
   "metadata": {
    "collapsed": false,
    "ExecuteTime": {
     "end_time": "2024-03-18T04:48:25.828555100Z",
     "start_time": "2024-03-18T04:48:25.806161700Z"
    }
   }
  },
  {
   "cell_type": "code",
   "execution_count": 20,
   "outputs": [
    {
     "data": {
      "text/plain": "                                                                               uid  \\\nd5137f5ff88d4f9d79843651d8c159445e2aecde  d5137f5ff88d4f9d79843651d8c159445e2aecde   \n157e0d4942e654688354e91bb47d6226641b6060  157e0d4942e654688354e91bb47d6226641b6060   \nbf03ec6a54a2fd0e5a6f496ab8ae279f3a086869  bf03ec6a54a2fd0e5a6f496ab8ae279f3a086869   \n81f0e92d514155bff3905dedffaf234ebd0862ea  81f0e92d514155bff3905dedffaf234ebd0862ea   \nc255bdc5cca1bab5042aea5f5678363e732cc0d5  c255bdc5cca1bab5042aea5f5678363e732cc0d5   \n...                                                                            ...   \na8a28da8816092ef262d86950c42559dad59d1ea  a8a28da8816092ef262d86950c42559dad59d1ea   \nbedd90e47492837b5e0baf06e0731075cde6222e  bedd90e47492837b5e0baf06e0731075cde6222e   \ne4d01350e28559e245084f74030b24a876e96b40  e4d01350e28559e245084f74030b24a876e96b40   \n488ade0ae795b876fb7cf5d0a9a96a19671c365c  488ade0ae795b876fb7cf5d0a9a96a19671c365c   \n67647bad18de945908a34e245475919127f0cf83  67647bad18de945908a34e245475919127f0cf83   \n\n                                                                         estimator  \\\nd5137f5ff88d4f9d79843651d8c159445e2aecde  exponential_weighted_estimator_shrinkage   \n157e0d4942e654688354e91bb47d6226641b6060  exponential_weighted_estimator_shrinkage   \nbf03ec6a54a2fd0e5a6f496ab8ae279f3a086869  exponential_weighted_estimator_shrinkage   \n81f0e92d514155bff3905dedffaf234ebd0862ea  exponential_weighted_estimator_shrinkage   \nc255bdc5cca1bab5042aea5f5678363e732cc0d5  exponential_weighted_estimator_shrinkage   \n...                                                                            ...   \na8a28da8816092ef262d86950c42559dad59d1ea  exponential_weighted_estimator_shrinkage   \nbedd90e47492837b5e0baf06e0731075cde6222e  exponential_weighted_estimator_shrinkage   \ne4d01350e28559e245084f74030b24a876e96b40  exponential_weighted_estimator_shrinkage   \n488ade0ae795b876fb7cf5d0a9a96a19671c365c  exponential_weighted_estimator_shrinkage   \n67647bad18de945908a34e245475919127f0cf83  exponential_weighted_estimator_shrinkage   \n\n                                               optimizer universe  \\\nd5137f5ff88d4f9d79843651d8c159445e2aecde  ClassWgtSVMMVO      ETF   \n157e0d4942e654688354e91bb47d6226641b6060  ClassWgtSVMMVO      ETF   \nbf03ec6a54a2fd0e5a6f496ab8ae279f3a086869  ClassWgtSVMMVO      ETF   \n81f0e92d514155bff3905dedffaf234ebd0862ea  ClassWgtSVMMVO      ETF   \nc255bdc5cca1bab5042aea5f5678363e732cc0d5  ClassWgtSVMMVO      ETF   \n...                                                  ...      ...   \na8a28da8816092ef262d86950c42559dad59d1ea  ClassWgtSVMMVO      ETF   \nbedd90e47492837b5e0baf06e0731075cde6222e  ClassWgtSVMMVO      ETF   \ne4d01350e28559e245084f74030b24a876e96b40  ClassWgtSVMMVO      ETF   \n488ade0ae795b876fb7cf5d0a9a96a19671c365c  ClassWgtSVMMVO      ETF   \n67647bad18de945908a34e245475919127f0cf83  ClassWgtSVMMVO      ETF   \n\n                                         imputation_method ticker_str  \\\nd5137f5ff88d4f9d79843651d8c159445e2aecde        Univariate        SPY   \n157e0d4942e654688354e91bb47d6226641b6060        Univariate        SPY   \nbf03ec6a54a2fd0e5a6f496ab8ae279f3a086869        Univariate        SPY   \n81f0e92d514155bff3905dedffaf234ebd0862ea        Univariate        SPY   \nc255bdc5cca1bab5042aea5f5678363e732cc0d5        Univariate        SPY   \n...                                                    ...        ...   \na8a28da8816092ef262d86950c42559dad59d1ea        Univariate        SPY   \nbedd90e47492837b5e0baf06e0731075cde6222e        Univariate        SPY   \ne4d01350e28559e245084f74030b24a876e96b40        Univariate        SPY   \n488ade0ae795b876fb7cf5d0a9a96a19671c365c        Univariate        SPY   \n67647bad18de945908a34e245475919127f0cf83        Univariate        SPY   \n\n                                         hyperparam_search NoPeriods  \\\nd5137f5ff88d4f9d79843651d8c159445e2aecde             False        29   \n157e0d4942e654688354e91bb47d6226641b6060             False        29   \nbf03ec6a54a2fd0e5a6f496ab8ae279f3a086869             False        29   \n81f0e92d514155bff3905dedffaf234ebd0862ea             False        29   \nc255bdc5cca1bab5042aea5f5678363e732cc0d5             False        29   \n...                                                    ...       ...   \na8a28da8816092ef262d86950c42559dad59d1ea             False        29   \nbedd90e47492837b5e0baf06e0731075cde6222e             False        29   \ne4d01350e28559e245084f74030b24a876e96b40             False        29   \n488ade0ae795b876fb7cf5d0a9a96a19671c365c             False        29   \n67647bad18de945908a34e245475919127f0cf83             False        29   \n\n                                                   run    C  ... premium   q  \\\nd5137f5ff88d4f9d79843651d8c159445e2aecde  SunJan212024  0.1  ...    0.25  20   \n157e0d4942e654688354e91bb47d6226641b6060  SunJan212024  0.1  ...     0.5  20   \nbf03ec6a54a2fd0e5a6f496ab8ae279f3a086869  SunJan212024  0.1  ...       1  20   \n81f0e92d514155bff3905dedffaf234ebd0862ea  SunJan212024  0.1  ...     1.5  20   \nc255bdc5cca1bab5042aea5f5678363e732cc0d5  SunJan212024  0.1  ...    0.25  20   \n...                                                ...  ...  ...     ...  ..   \na8a28da8816092ef262d86950c42559dad59d1ea  SunJan212024  0.1  ...     1.5  20   \nbedd90e47492837b5e0baf06e0731075cde6222e  SunJan212024  0.1  ...    0.25  20   \ne4d01350e28559e245084f74030b24a876e96b40  SunJan212024  0.1  ...     0.5  20   \n488ade0ae795b876fb7cf5d0a9a96a19671c365c  SunJan212024  0.1  ...       1  20   \n67647bad18de945908a34e245475919127f0cf83  SunJan212024  0.1  ...     1.5  20   \n\n                                         q_alpha separable  \\\nd5137f5ff88d4f9d79843651d8c159445e2aecde  0.6838     False   \n157e0d4942e654688354e91bb47d6226641b6060  0.6838     False   \nbf03ec6a54a2fd0e5a6f496ab8ae279f3a086869  0.6838     False   \n81f0e92d514155bff3905dedffaf234ebd0862ea  0.6838     False   \nc255bdc5cca1bab5042aea5f5678363e732cc0d5  0.6838     False   \n...                                          ...       ...   \na8a28da8816092ef262d86950c42559dad59d1ea  0.6838     False   \nbedd90e47492837b5e0baf06e0731075cde6222e  0.6838     False   \ne4d01350e28559e245084f74030b24a876e96b40  0.6838     False   \n488ade0ae795b876fb7cf5d0a9a96a19671c365c  0.6838     False   \n67647bad18de945908a34e245475919127f0cf83  0.6838     False   \n\n                                         target_return_strategy  \\\nd5137f5ff88d4f9d79843651d8c159445e2aecde         premium_target   \n157e0d4942e654688354e91bb47d6226641b6060         premium_target   \nbf03ec6a54a2fd0e5a6f496ab8ae279f3a086869         premium_target   \n81f0e92d514155bff3905dedffaf234ebd0862ea         premium_target   \nc255bdc5cca1bab5042aea5f5678363e732cc0d5         premium_target   \n...                                                         ...   \na8a28da8816092ef262d86950c42559dad59d1ea         premium_target   \nbedd90e47492837b5e0baf06e0731075cde6222e         premium_target   \ne4d01350e28559e245084f74030b24a876e96b40         premium_target   \n488ade0ae795b876fb7cf5d0a9a96a19671c365c         premium_target   \n67647bad18de945908a34e245475919127f0cf83         premium_target   \n\n                                         target_return_strategy_args  \\\nd5137f5ff88d4f9d79843651d8c159445e2aecde                 ['premium']   \n157e0d4942e654688354e91bb47d6226641b6060                 ['premium']   \nbf03ec6a54a2fd0e5a6f496ab8ae279f3a086869                 ['premium']   \n81f0e92d514155bff3905dedffaf234ebd0862ea                 ['premium']   \nc255bdc5cca1bab5042aea5f5678363e732cc0d5                 ['premium']   \n...                                                              ...   \na8a28da8816092ef262d86950c42559dad59d1ea                 ['premium']   \nbedd90e47492837b5e0baf06e0731075cde6222e                 ['premium']   \ne4d01350e28559e245084f74030b24a876e96b40                 ['premium']   \n488ade0ae795b876fb7cf5d0a9a96a19671c365c                 ['premium']   \n67647bad18de945908a34e245475919127f0cf83                 ['premium']   \n\n                                         ticker_index tightening_iter_lim  \\\nd5137f5ff88d4f9d79843651d8c159445e2aecde          250                   1   \n157e0d4942e654688354e91bb47d6226641b6060          250                   1   \nbf03ec6a54a2fd0e5a6f496ab8ae279f3a086869          250                   1   \n81f0e92d514155bff3905dedffaf234ebd0862ea          250                   1   \nc255bdc5cca1bab5042aea5f5678363e732cc0d5          250                   1   \n...                                               ...                 ...   \na8a28da8816092ef262d86950c42559dad59d1ea          250                   1   \nbedd90e47492837b5e0baf06e0731075cde6222e          250                   1   \ne4d01350e28559e245084f74030b24a876e96b40          250                   1   \n488ade0ae795b876fb7cf5d0a9a96a19671c365c          250                   1   \n67647bad18de945908a34e245475919127f0cf83          250                   1   \n\n                                         turnover_constraints turnover_limit  \nd5137f5ff88d4f9d79843651d8c159445e2aecde                 True           0.75  \n157e0d4942e654688354e91bb47d6226641b6060                 True           0.75  \nbf03ec6a54a2fd0e5a6f496ab8ae279f3a086869                 True           0.75  \n81f0e92d514155bff3905dedffaf234ebd0862ea                 True           0.75  \nc255bdc5cca1bab5042aea5f5678363e732cc0d5                 True           0.75  \n...                                                       ...            ...  \na8a28da8816092ef262d86950c42559dad59d1ea                 True           1.25  \nbedd90e47492837b5e0baf06e0731075cde6222e                 True           1.25  \ne4d01350e28559e245084f74030b24a876e96b40                 True           1.25  \n488ade0ae795b876fb7cf5d0a9a96a19671c365c                 True           1.25  \n67647bad18de945908a34e245475919127f0cf83                 True           1.25  \n\n[576 rows x 40 columns]",
      "text/html": "<div>\n<style scoped>\n    .dataframe tbody tr th:only-of-type {\n        vertical-align: middle;\n    }\n\n    .dataframe tbody tr th {\n        vertical-align: top;\n    }\n\n    .dataframe thead th {\n        text-align: right;\n    }\n</style>\n<table border=\"1\" class=\"dataframe\">\n  <thead>\n    <tr style=\"text-align: right;\">\n      <th></th>\n      <th>uid</th>\n      <th>estimator</th>\n      <th>optimizer</th>\n      <th>universe</th>\n      <th>imputation_method</th>\n      <th>ticker_str</th>\n      <th>hyperparam_search</th>\n      <th>NoPeriods</th>\n      <th>run</th>\n      <th>C</th>\n      <th>...</th>\n      <th>premium</th>\n      <th>q</th>\n      <th>q_alpha</th>\n      <th>separable</th>\n      <th>target_return_strategy</th>\n      <th>target_return_strategy_args</th>\n      <th>ticker_index</th>\n      <th>tightening_iter_lim</th>\n      <th>turnover_constraints</th>\n      <th>turnover_limit</th>\n    </tr>\n  </thead>\n  <tbody>\n    <tr>\n      <th>d5137f5ff88d4f9d79843651d8c159445e2aecde</th>\n      <td>d5137f5ff88d4f9d79843651d8c159445e2aecde</td>\n      <td>exponential_weighted_estimator_shrinkage</td>\n      <td>ClassWgtSVMMVO</td>\n      <td>ETF</td>\n      <td>Univariate</td>\n      <td>SPY</td>\n      <td>False</td>\n      <td>29</td>\n      <td>SunJan212024</td>\n      <td>0.1</td>\n      <td>...</td>\n      <td>0.25</td>\n      <td>20</td>\n      <td>0.6838</td>\n      <td>False</td>\n      <td>premium_target</td>\n      <td>['premium']</td>\n      <td>250</td>\n      <td>1</td>\n      <td>True</td>\n      <td>0.75</td>\n    </tr>\n    <tr>\n      <th>157e0d4942e654688354e91bb47d6226641b6060</th>\n      <td>157e0d4942e654688354e91bb47d6226641b6060</td>\n      <td>exponential_weighted_estimator_shrinkage</td>\n      <td>ClassWgtSVMMVO</td>\n      <td>ETF</td>\n      <td>Univariate</td>\n      <td>SPY</td>\n      <td>False</td>\n      <td>29</td>\n      <td>SunJan212024</td>\n      <td>0.1</td>\n      <td>...</td>\n      <td>0.5</td>\n      <td>20</td>\n      <td>0.6838</td>\n      <td>False</td>\n      <td>premium_target</td>\n      <td>['premium']</td>\n      <td>250</td>\n      <td>1</td>\n      <td>True</td>\n      <td>0.75</td>\n    </tr>\n    <tr>\n      <th>bf03ec6a54a2fd0e5a6f496ab8ae279f3a086869</th>\n      <td>bf03ec6a54a2fd0e5a6f496ab8ae279f3a086869</td>\n      <td>exponential_weighted_estimator_shrinkage</td>\n      <td>ClassWgtSVMMVO</td>\n      <td>ETF</td>\n      <td>Univariate</td>\n      <td>SPY</td>\n      <td>False</td>\n      <td>29</td>\n      <td>SunJan212024</td>\n      <td>0.1</td>\n      <td>...</td>\n      <td>1</td>\n      <td>20</td>\n      <td>0.6838</td>\n      <td>False</td>\n      <td>premium_target</td>\n      <td>['premium']</td>\n      <td>250</td>\n      <td>1</td>\n      <td>True</td>\n      <td>0.75</td>\n    </tr>\n    <tr>\n      <th>81f0e92d514155bff3905dedffaf234ebd0862ea</th>\n      <td>81f0e92d514155bff3905dedffaf234ebd0862ea</td>\n      <td>exponential_weighted_estimator_shrinkage</td>\n      <td>ClassWgtSVMMVO</td>\n      <td>ETF</td>\n      <td>Univariate</td>\n      <td>SPY</td>\n      <td>False</td>\n      <td>29</td>\n      <td>SunJan212024</td>\n      <td>0.1</td>\n      <td>...</td>\n      <td>1.5</td>\n      <td>20</td>\n      <td>0.6838</td>\n      <td>False</td>\n      <td>premium_target</td>\n      <td>['premium']</td>\n      <td>250</td>\n      <td>1</td>\n      <td>True</td>\n      <td>0.75</td>\n    </tr>\n    <tr>\n      <th>c255bdc5cca1bab5042aea5f5678363e732cc0d5</th>\n      <td>c255bdc5cca1bab5042aea5f5678363e732cc0d5</td>\n      <td>exponential_weighted_estimator_shrinkage</td>\n      <td>ClassWgtSVMMVO</td>\n      <td>ETF</td>\n      <td>Univariate</td>\n      <td>SPY</td>\n      <td>False</td>\n      <td>29</td>\n      <td>SunJan212024</td>\n      <td>0.1</td>\n      <td>...</td>\n      <td>0.25</td>\n      <td>20</td>\n      <td>0.6838</td>\n      <td>False</td>\n      <td>premium_target</td>\n      <td>['premium']</td>\n      <td>250</td>\n      <td>1</td>\n      <td>True</td>\n      <td>0.75</td>\n    </tr>\n    <tr>\n      <th>...</th>\n      <td>...</td>\n      <td>...</td>\n      <td>...</td>\n      <td>...</td>\n      <td>...</td>\n      <td>...</td>\n      <td>...</td>\n      <td>...</td>\n      <td>...</td>\n      <td>...</td>\n      <td>...</td>\n      <td>...</td>\n      <td>...</td>\n      <td>...</td>\n      <td>...</td>\n      <td>...</td>\n      <td>...</td>\n      <td>...</td>\n      <td>...</td>\n      <td>...</td>\n      <td>...</td>\n    </tr>\n    <tr>\n      <th>a8a28da8816092ef262d86950c42559dad59d1ea</th>\n      <td>a8a28da8816092ef262d86950c42559dad59d1ea</td>\n      <td>exponential_weighted_estimator_shrinkage</td>\n      <td>ClassWgtSVMMVO</td>\n      <td>ETF</td>\n      <td>Univariate</td>\n      <td>SPY</td>\n      <td>False</td>\n      <td>29</td>\n      <td>SunJan212024</td>\n      <td>0.1</td>\n      <td>...</td>\n      <td>1.5</td>\n      <td>20</td>\n      <td>0.6838</td>\n      <td>False</td>\n      <td>premium_target</td>\n      <td>['premium']</td>\n      <td>250</td>\n      <td>1</td>\n      <td>True</td>\n      <td>1.25</td>\n    </tr>\n    <tr>\n      <th>bedd90e47492837b5e0baf06e0731075cde6222e</th>\n      <td>bedd90e47492837b5e0baf06e0731075cde6222e</td>\n      <td>exponential_weighted_estimator_shrinkage</td>\n      <td>ClassWgtSVMMVO</td>\n      <td>ETF</td>\n      <td>Univariate</td>\n      <td>SPY</td>\n      <td>False</td>\n      <td>29</td>\n      <td>SunJan212024</td>\n      <td>0.1</td>\n      <td>...</td>\n      <td>0.25</td>\n      <td>20</td>\n      <td>0.6838</td>\n      <td>False</td>\n      <td>premium_target</td>\n      <td>['premium']</td>\n      <td>250</td>\n      <td>1</td>\n      <td>True</td>\n      <td>1.25</td>\n    </tr>\n    <tr>\n      <th>e4d01350e28559e245084f74030b24a876e96b40</th>\n      <td>e4d01350e28559e245084f74030b24a876e96b40</td>\n      <td>exponential_weighted_estimator_shrinkage</td>\n      <td>ClassWgtSVMMVO</td>\n      <td>ETF</td>\n      <td>Univariate</td>\n      <td>SPY</td>\n      <td>False</td>\n      <td>29</td>\n      <td>SunJan212024</td>\n      <td>0.1</td>\n      <td>...</td>\n      <td>0.5</td>\n      <td>20</td>\n      <td>0.6838</td>\n      <td>False</td>\n      <td>premium_target</td>\n      <td>['premium']</td>\n      <td>250</td>\n      <td>1</td>\n      <td>True</td>\n      <td>1.25</td>\n    </tr>\n    <tr>\n      <th>488ade0ae795b876fb7cf5d0a9a96a19671c365c</th>\n      <td>488ade0ae795b876fb7cf5d0a9a96a19671c365c</td>\n      <td>exponential_weighted_estimator_shrinkage</td>\n      <td>ClassWgtSVMMVO</td>\n      <td>ETF</td>\n      <td>Univariate</td>\n      <td>SPY</td>\n      <td>False</td>\n      <td>29</td>\n      <td>SunJan212024</td>\n      <td>0.1</td>\n      <td>...</td>\n      <td>1</td>\n      <td>20</td>\n      <td>0.6838</td>\n      <td>False</td>\n      <td>premium_target</td>\n      <td>['premium']</td>\n      <td>250</td>\n      <td>1</td>\n      <td>True</td>\n      <td>1.25</td>\n    </tr>\n    <tr>\n      <th>67647bad18de945908a34e245475919127f0cf83</th>\n      <td>67647bad18de945908a34e245475919127f0cf83</td>\n      <td>exponential_weighted_estimator_shrinkage</td>\n      <td>ClassWgtSVMMVO</td>\n      <td>ETF</td>\n      <td>Univariate</td>\n      <td>SPY</td>\n      <td>False</td>\n      <td>29</td>\n      <td>SunJan212024</td>\n      <td>0.1</td>\n      <td>...</td>\n      <td>1.5</td>\n      <td>20</td>\n      <td>0.6838</td>\n      <td>False</td>\n      <td>premium_target</td>\n      <td>['premium']</td>\n      <td>250</td>\n      <td>1</td>\n      <td>True</td>\n      <td>1.25</td>\n    </tr>\n  </tbody>\n</table>\n<p>576 rows × 40 columns</p>\n</div>"
     },
     "execution_count": 20,
     "metadata": {},
     "output_type": "execute_result"
    }
   ],
   "source": [
    "df"
   ],
   "metadata": {
    "collapsed": false,
    "ExecuteTime": {
     "end_time": "2024-03-18T04:48:26.212726Z",
     "start_time": "2024-03-18T04:48:26.186560Z"
    }
   }
  },
  {
   "cell_type": "code",
   "execution_count": 16,
   "outputs": [],
   "source": [
    " "
   ],
   "metadata": {
    "collapsed": false,
    "ExecuteTime": {
     "end_time": "2024-02-22T06:27:55.505393Z",
     "start_time": "2024-02-22T06:27:55.458479700Z"
    }
   }
  }
 ],
 "metadata": {
  "kernelspec": {
   "display_name": "Python 3",
   "language": "python",
   "name": "python3"
  },
  "language_info": {
   "codemirror_mode": {
    "name": "ipython",
    "version": 2
   },
   "file_extension": ".py",
   "mimetype": "text/x-python",
   "name": "python",
   "nbconvert_exporter": "python",
   "pygments_lexer": "ipython2",
   "version": "2.7.6"
  }
 },
 "nbformat": 4,
 "nbformat_minor": 0
}
